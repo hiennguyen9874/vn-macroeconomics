{
  "cells": [
    {
      "cell_type": "code",
      "execution_count": 1,
      "metadata": {},
      "outputs": [],
      "source": [
        "import os\n",
        "import contextlib\n",
        "\n",
        "import pandas as pd\n",
        "import seaborn as sns\n",
        "from datetime import date\n",
        "import plotly.express as px\n",
        "import plotly.graph_objects as go"
      ]
    },
    {
      "cell_type": "code",
      "execution_count": 2,
      "metadata": {},
      "outputs": [],
      "source": [
        "def find_sheet_name(sheet_names):\n",
        "    cpi_sheet_names = list(filter(lambda x: \"cpi\" in x.lower(), sheet_names))\n",
        "\n",
        "    if len(cpi_sheet_names) == 1:\n",
        "        return cpi_sheet_names[0]\n",
        "\n",
        "    if len(sheet_names) == 43:\n",
        "        return \"30\"\n",
        "\n",
        "    if len(sheet_names) == 11:\n",
        "        return \"Sheet2\"\n",
        "\n",
        "    raise RuntimeError(sheet_names)"
      ]
    },
    {
      "cell_type": "code",
      "execution_count": 3,
      "metadata": {},
      "outputs": [],
      "source": [
        "en_to_vn = {\n",
        "    \"CONSUMER PRICE INDEXES\": \"CHỈ SỐ GIÁ TIÊU DÙNG\",\n",
        "    \"Food and catering services\": \"Hàng ăn và dịch vụ ăn uống\",\n",
        "    \"Grain food\": \"Lương thực\",\n",
        "    \"Foodstuff\": \"Thực phẩm\",\n",
        "    \"Outdoor eating and drinking\": \"Ăn uống ngoài gia đình\",\n",
        "    \"Drinks and tobacco\": \"Đồ uống và thuốc lá\",\n",
        "    \"Textile, footgear and hats\": \"May mặc, mũ nón và giày dép \",\n",
        "    \"Housing and construction materials\": \"Nhà ở và vật liệu xây dựng\",\n",
        "    \"Family appliances and tools\": \"Thiết bị và đồ dùng gia đình\",\n",
        "    \"Medicaments and health service\": \"Thuốc và dịch vụ y tế\",\n",
        "    \"Medical service\": \"Dịch vụ y tế\",\n",
        "    \"Transport\": \"Giao thông\",\n",
        "    \"Postal and communicational service\": \"Bưu chính viễn thông\",\n",
        "    \"Education\": \"Giáo dục\",\n",
        "    \"Educational service\": \"Dịch vụ giáo dục\",\n",
        "    \"Culture, entertainment and tourism\": \"Văn hoá, giải trí và du lịch\",\n",
        "    \"Others\": \"Hàng hóa và dịch vụ khác\",\n",
        "    \"GOLD PRICE INDEXES\": \"CHỈ SỐ GIÁ VÀNG\",\n",
        "    \"US DOLLAR PRICE INDEXES\": \"CHỈ SỐ GIÁ ĐÔ LA MỸ\",\n",
        "    \"CORE INFLATION\": \"LẠM PHÁT CƠ BẢN\",\n",
        "}"
      ]
    },
    {
      "cell_type": "code",
      "execution_count": 5,
      "metadata": {},
      "outputs": [
        {
          "data": {
            "text/html": [
              "<div>\n",
              "<style scoped>\n",
              "    .dataframe tbody tr th:only-of-type {\n",
              "        vertical-align: middle;\n",
              "    }\n",
              "\n",
              "    .dataframe tbody tr th {\n",
              "        vertical-align: top;\n",
              "    }\n",
              "\n",
              "    .dataframe thead th {\n",
              "        text-align: right;\n",
              "    }\n",
              "</style>\n",
              "<table border=\"1\" class=\"dataframe\">\n",
              "  <thead>\n",
              "    <tr style=\"text-align: right;\">\n",
              "      <th></th>\n",
              "      <th>Hàng hóa</th>\n",
              "      <th>M-YOY</th>\n",
              "      <th>YTD-YOY</th>\n",
              "      <th>Date</th>\n",
              "    </tr>\n",
              "  </thead>\n",
              "  <tbody>\n",
              "    <tr>\n",
              "      <th>10</th>\n",
              "      <td>CHỈ SỐ GIÁ TIÊU DÙNG</td>\n",
              "      <td>103.656606</td>\n",
              "      <td>103.158589</td>\n",
              "      <td>2023-09-29</td>\n",
              "    </tr>\n",
              "    <tr>\n",
              "      <th>12</th>\n",
              "      <td>Hàng ăn và dịch vụ ăn uống</td>\n",
              "      <td>102.873432</td>\n",
              "      <td>103.62232</td>\n",
              "      <td>2023-09-29</td>\n",
              "    </tr>\n",
              "    <tr>\n",
              "      <th>13</th>\n",
              "      <td>Lương thực</td>\n",
              "      <td>110.489819</td>\n",
              "      <td>104.852223</td>\n",
              "      <td>2023-09-29</td>\n",
              "    </tr>\n",
              "    <tr>\n",
              "      <th>14</th>\n",
              "      <td>Thực phẩm</td>\n",
              "      <td>101.165265</td>\n",
              "      <td>102.827401</td>\n",
              "      <td>2023-09-29</td>\n",
              "    </tr>\n",
              "    <tr>\n",
              "      <th>15</th>\n",
              "      <td>Ăn uống ngoài gia đình</td>\n",
              "      <td>104.004619</td>\n",
              "      <td>105.083794</td>\n",
              "      <td>2023-09-29</td>\n",
              "    </tr>\n",
              "    <tr>\n",
              "      <th>16</th>\n",
              "      <td>Đồ uống và thuốc lá</td>\n",
              "      <td>103.044436</td>\n",
              "      <td>103.484933</td>\n",
              "      <td>2023-09-29</td>\n",
              "    </tr>\n",
              "    <tr>\n",
              "      <th>17</th>\n",
              "      <td>May mặc, mũ nón và giày dép</td>\n",
              "      <td>102.055235</td>\n",
              "      <td>102.304294</td>\n",
              "      <td>2023-09-29</td>\n",
              "    </tr>\n",
              "    <tr>\n",
              "      <th>18</th>\n",
              "      <td>Nhà ở và vật liệu xây dựng</td>\n",
              "      <td>107.331369</td>\n",
              "      <td>106.727963</td>\n",
              "      <td>2023-09-29</td>\n",
              "    </tr>\n",
              "    <tr>\n",
              "      <th>19</th>\n",
              "      <td>Thiết bị và đồ dùng gia đình</td>\n",
              "      <td>101.788104</td>\n",
              "      <td>102.27794</td>\n",
              "      <td>2023-09-29</td>\n",
              "    </tr>\n",
              "    <tr>\n",
              "      <th>20</th>\n",
              "      <td>Thuốc và dịch vụ y tế</td>\n",
              "      <td>100.578803</td>\n",
              "      <td>100.609915</td>\n",
              "      <td>2023-09-29</td>\n",
              "    </tr>\n",
              "    <tr>\n",
              "      <th>21</th>\n",
              "      <td>Dịch vụ y tế</td>\n",
              "      <td>100.161302</td>\n",
              "      <td>100.103819</td>\n",
              "      <td>2023-09-29</td>\n",
              "    </tr>\n",
              "    <tr>\n",
              "      <th>22</th>\n",
              "      <td>Giao thông</td>\n",
              "      <td>103.200908</td>\n",
              "      <td>95.842724</td>\n",
              "      <td>2023-09-29</td>\n",
              "    </tr>\n",
              "    <tr>\n",
              "      <th>23</th>\n",
              "      <td>Bưu chính viễn thông</td>\n",
              "      <td>98.706474</td>\n",
              "      <td>99.382856</td>\n",
              "      <td>2023-09-29</td>\n",
              "    </tr>\n",
              "    <tr>\n",
              "      <th>24</th>\n",
              "      <td>Giáo dục</td>\n",
              "      <td>107.248543</td>\n",
              "      <td>107.278331</td>\n",
              "      <td>2023-09-29</td>\n",
              "    </tr>\n",
              "    <tr>\n",
              "      <th>25</th>\n",
              "      <td>Dịch vụ giáo dục</td>\n",
              "      <td>107.566831</td>\n",
              "      <td>107.685505</td>\n",
              "      <td>2023-09-29</td>\n",
              "    </tr>\n",
              "    <tr>\n",
              "      <th>26</th>\n",
              "      <td>Văn hoá, giải trí và du lịch</td>\n",
              "      <td>101.37312</td>\n",
              "      <td>102.980008</td>\n",
              "      <td>2023-09-29</td>\n",
              "    </tr>\n",
              "    <tr>\n",
              "      <th>27</th>\n",
              "      <td>Hàng hóa và dịch vụ khác</td>\n",
              "      <td>105.926196</td>\n",
              "      <td>104.196015</td>\n",
              "      <td>2023-09-29</td>\n",
              "    </tr>\n",
              "    <tr>\n",
              "      <th>29</th>\n",
              "      <td>CHỈ SỐ GIÁ VÀNG</td>\n",
              "      <td>107.834984</td>\n",
              "      <td>102.221432</td>\n",
              "      <td>2023-09-29</td>\n",
              "    </tr>\n",
              "    <tr>\n",
              "      <th>30</th>\n",
              "      <td>CHỈ SỐ GIÁ ĐÔ LA MỸ</td>\n",
              "      <td>102.432562</td>\n",
              "      <td>102.286839</td>\n",
              "      <td>2023-09-29</td>\n",
              "    </tr>\n",
              "    <tr>\n",
              "      <th>31</th>\n",
              "      <td>LẠM PHÁT CƠ BẢN</td>\n",
              "      <td>3.803664</td>\n",
              "      <td>4.488386</td>\n",
              "      <td>2023-09-29</td>\n",
              "    </tr>\n",
              "  </tbody>\n",
              "</table>\n",
              "</div>"
            ],
            "text/plain": [
              "                        Hàng hóa       M-YOY     YTD-YOY       Date\n",
              "10          CHỈ SỐ GIÁ TIÊU DÙNG  103.656606  103.158589 2023-09-29\n",
              "12    Hàng ăn và dịch vụ ăn uống  102.873432   103.62232 2023-09-29\n",
              "13                    Lương thực  110.489819  104.852223 2023-09-29\n",
              "14                     Thực phẩm  101.165265  102.827401 2023-09-29\n",
              "15        Ăn uống ngoài gia đình  104.004619  105.083794 2023-09-29\n",
              "16           Đồ uống và thuốc lá  103.044436  103.484933 2023-09-29\n",
              "17  May mặc, mũ nón và giày dép   102.055235  102.304294 2023-09-29\n",
              "18    Nhà ở và vật liệu xây dựng  107.331369  106.727963 2023-09-29\n",
              "19  Thiết bị và đồ dùng gia đình  101.788104   102.27794 2023-09-29\n",
              "20         Thuốc và dịch vụ y tế  100.578803  100.609915 2023-09-29\n",
              "21                  Dịch vụ y tế  100.161302  100.103819 2023-09-29\n",
              "22                    Giao thông  103.200908   95.842724 2023-09-29\n",
              "23          Bưu chính viễn thông   98.706474   99.382856 2023-09-29\n",
              "24                      Giáo dục  107.248543  107.278331 2023-09-29\n",
              "25              Dịch vụ giáo dục  107.566831  107.685505 2023-09-29\n",
              "26  Văn hoá, giải trí và du lịch   101.37312  102.980008 2023-09-29\n",
              "27      Hàng hóa và dịch vụ khác  105.926196  104.196015 2023-09-29\n",
              "29               CHỈ SỐ GIÁ VÀNG  107.834984  102.221432 2023-09-29\n",
              "30           CHỈ SỐ GIÁ ĐÔ LA MỸ  102.432562  102.286839 2023-09-29\n",
              "31               LẠM PHÁT CƠ BẢN    3.803664    4.488386 2023-09-29"
            ]
          },
          "execution_count": 5,
          "metadata": {},
          "output_type": "execute_result"
        }
      ],
      "source": [
        "def get_cpi(xl, sheet_name, date):\n",
        "    df = xl.parse(sheet_name)\n",
        "\n",
        "    if (\n",
        "        len(\n",
        "            df[df.columns[1]][\n",
        "                (df[df.columns[1]] == \"Hàng ăn và dịch vụ ăn uống\")\n",
        "                | (df[df.columns[1]] == \"Food and catering services\")\n",
        "            ].index\n",
        "        )\n",
        "        > 0\n",
        "    ):\n",
        "        df[df.columns[1]] = df[df.columns[1]].fillna(df[df.columns[0]])\n",
        "        df = df.drop(columns=[df.columns[0]])\n",
        "\n",
        "    if (\n",
        "        len(\n",
        "            df[df.columns[1]][\n",
        "                (df[df.columns[1]] == \"Lương thực\")\n",
        "                | (df[df.columns[1]] == \"Grain food\")\n",
        "                | (df[df.columns[1]] == \" Lương thực\")\n",
        "            ].index\n",
        "        )\n",
        "        > 0\n",
        "    ):\n",
        "        df[df.columns[1]] = df[df.columns[1]].fillna(df[df.columns[0]])\n",
        "        df = df.drop(columns=[df.columns[0]])\n",
        "\n",
        "    if len(df.columns) == 7:\n",
        "        df = df.drop(columns=[df.columns[1], df.columns[3], df.columns[4], df.columns[5]])\n",
        "    elif len(df.columns) == 6:\n",
        "        df = df.drop(columns=[df.columns[1], df.columns[3], df.columns[4]])\n",
        "    elif len(df.columns) == 4 and int(date.split(\"-\")[1]) == 1:\n",
        "        df = df.drop(columns=[df.columns[1], df.columns[3]])\n",
        "        df[\"A\"] = df[df.columns[1]]\n",
        "    elif len(df.columns) == 5 and int(date.split(\"-\")[1]) == 12:\n",
        "        df = df.drop(columns=[df.columns[1], df.columns[2], df.columns[4]])\n",
        "        df[\"A\"] = df[df.columns[1]]\n",
        "    else:\n",
        "        raise RuntimeError(df.columns)\n",
        "\n",
        "    df.columns = [\"Hàng hóa\", \"M-YOY\", \"YTD-YOY\"]\n",
        "\n",
        "    df[df.columns[0]] = (\n",
        "        df[df.columns[0]].replace(r\"\\s+\", \" \", regex=True).replace(r\"\\n\", \" \", regex=True)\n",
        "    )\n",
        "\n",
        "    df[df.columns[0]] = df[df.columns[0]].str.strip()\n",
        "\n",
        "    df = df.drop(\n",
        "        list(\n",
        "            range(\n",
        "                df[df.columns[0]][\n",
        "                    (df[df.columns[0]] == \"CHỈ SỐ GIÁ TIÊU DÙNG\")\n",
        "                    | ((df[df.columns[0]] == \"CONSUMER PRICE INDEXES\"))\n",
        "                ].index[0]\n",
        "            )\n",
        "        )\n",
        "    )\n",
        "\n",
        "    if len(df[df.columns[0]][df[df.columns[0]] == \"CONSUMER PRICE INDEXES\"].index) > 0:\n",
        "        df[df.columns[0]] = df[df.columns[0]].map(en_to_vn)\n",
        "\n",
        "    df = df[pd.to_numeric(df[\"M-YOY\"], errors=\"coerce\").notnull()]\n",
        "    df = df[pd.to_numeric(df[\"YTD-YOY\"], errors=\"coerce\").notnull()]\n",
        "\n",
        "    df[\"Date\"] = date\n",
        "    df[\"Date\"] = pd.to_datetime(df[\"Date\"], dayfirst=False)\n",
        "\n",
        "    return df\n",
        "\n",
        "\n",
        "xl = pd.ExcelFile(\"datas/2023-09-29-02-Bieu-so-lieu-9-thang-2023-1.xlsx\")\n",
        "\n",
        "sheet_name = find_sheet_name(xl.sheet_names)\n",
        "\n",
        "get_cpi(xl, sheet_name, \"2023-09-29\")"
      ]
    },
    {
      "cell_type": "code",
      "execution_count": 71,
      "metadata": {},
      "outputs": [],
      "source": [
        "import os\n",
        "import contextlib\n",
        "\n",
        "dfs_cpi_origin = []\n",
        "for file_name in sorted(\n",
        "    os.listdir(\"./datas\"),\n",
        "    key=lambda filename: f\"{filename.split('-')[0]}-{filename.split('-')[1]}-{filename.split('-')[2]}\",\n",
        "    reverse=True,\n",
        "):\n",
        "    if file_name.startswith(\".~\"):\n",
        "        continue\n",
        "\n",
        "    try:\n",
        "        file_path = os.path.join(\"./datas\", file_name)\n",
        "\n",
        "        year = int(file_name.split(\"-\")[0])\n",
        "        month = int(file_name.split(\"-\")[1])\n",
        "        day = int(file_name.split(\"-\")[2])\n",
        "\n",
        "        if year < 2014:\n",
        "            continue\n",
        "\n",
        "        xl = pd.ExcelFile(file_path)\n",
        "\n",
        "        df_cpi = get_cpi(xl, find_sheet_name(xl.sheet_names), f\"{year}-{month}-{day}\")\n",
        "\n",
        "        dfs_cpi_origin.append(df_cpi)\n",
        "    except Exception as e:\n",
        "        print(file_name)\n",
        "        raise e"
      ]
    },
    {
      "cell_type": "code",
      "execution_count": 72,
      "metadata": {},
      "outputs": [
        {
          "data": {
            "text/html": [
              "<div>\n",
              "<style scoped>\n",
              "    .dataframe tbody tr th:only-of-type {\n",
              "        vertical-align: middle;\n",
              "    }\n",
              "\n",
              "    .dataframe tbody tr th {\n",
              "        vertical-align: top;\n",
              "    }\n",
              "\n",
              "    .dataframe thead th {\n",
              "        text-align: right;\n",
              "    }\n",
              "</style>\n",
              "<table border=\"1\" class=\"dataframe\">\n",
              "  <thead>\n",
              "    <tr style=\"text-align: right;\">\n",
              "      <th></th>\n",
              "      <th>Hàng hóa</th>\n",
              "      <th>M-YOY</th>\n",
              "      <th>YTD-YOY</th>\n",
              "      <th>Date</th>\n",
              "    </tr>\n",
              "  </thead>\n",
              "  <tbody>\n",
              "    <tr>\n",
              "      <th>0</th>\n",
              "      <td>CHỈ SỐ GIÁ TIÊU DÙNG</td>\n",
              "      <td>3.656606</td>\n",
              "      <td>3.158589</td>\n",
              "      <td>2023-09-29</td>\n",
              "    </tr>\n",
              "    <tr>\n",
              "      <th>1</th>\n",
              "      <td>Hàng ăn và dịch vụ ăn uống</td>\n",
              "      <td>2.873432</td>\n",
              "      <td>3.62232</td>\n",
              "      <td>2023-09-29</td>\n",
              "    </tr>\n",
              "    <tr>\n",
              "      <th>2</th>\n",
              "      <td>Lương thực</td>\n",
              "      <td>10.489819</td>\n",
              "      <td>4.852223</td>\n",
              "      <td>2023-09-29</td>\n",
              "    </tr>\n",
              "    <tr>\n",
              "      <th>3</th>\n",
              "      <td>Thực phẩm</td>\n",
              "      <td>1.165265</td>\n",
              "      <td>2.827401</td>\n",
              "      <td>2023-09-29</td>\n",
              "    </tr>\n",
              "    <tr>\n",
              "      <th>4</th>\n",
              "      <td>Ăn uống ngoài gia đình</td>\n",
              "      <td>4.004619</td>\n",
              "      <td>5.083794</td>\n",
              "      <td>2023-09-29</td>\n",
              "    </tr>\n",
              "    <tr>\n",
              "      <th>...</th>\n",
              "      <td>...</td>\n",
              "      <td>...</td>\n",
              "      <td>...</td>\n",
              "      <td>...</td>\n",
              "    </tr>\n",
              "    <tr>\n",
              "      <th>2320</th>\n",
              "      <td>Dịch vụ giáo dục</td>\n",
              "      <td>12.45</td>\n",
              "      <td>12.45</td>\n",
              "      <td>2014-01-29</td>\n",
              "    </tr>\n",
              "    <tr>\n",
              "      <th>2321</th>\n",
              "      <td>Văn hoá, giải trí và du lịch</td>\n",
              "      <td>2.9</td>\n",
              "      <td>2.9</td>\n",
              "      <td>2014-01-29</td>\n",
              "    </tr>\n",
              "    <tr>\n",
              "      <th>2322</th>\n",
              "      <td>Đồ dùng và dịch vụ khác</td>\n",
              "      <td>4.91</td>\n",
              "      <td>4.91</td>\n",
              "      <td>2014-01-29</td>\n",
              "    </tr>\n",
              "    <tr>\n",
              "      <th>2323</th>\n",
              "      <td>CHỈ SỐ GIÁ VÀNG</td>\n",
              "      <td>-24.43</td>\n",
              "      <td>-24.43</td>\n",
              "      <td>2014-01-29</td>\n",
              "    </tr>\n",
              "    <tr>\n",
              "      <th>2324</th>\n",
              "      <td>CHỈ SỐ GIÁ ĐÔ LA MỸ</td>\n",
              "      <td>1.11</td>\n",
              "      <td>1.11</td>\n",
              "      <td>2014-01-29</td>\n",
              "    </tr>\n",
              "  </tbody>\n",
              "</table>\n",
              "<p>2325 rows × 4 columns</p>\n",
              "</div>"
            ],
            "text/plain": [
              "                          Hàng hóa      M-YOY   YTD-YOY       Date\n",
              "0             CHỈ SỐ GIÁ TIÊU DÙNG   3.656606  3.158589 2023-09-29\n",
              "1       Hàng ăn và dịch vụ ăn uống   2.873432   3.62232 2023-09-29\n",
              "2                       Lương thực  10.489819  4.852223 2023-09-29\n",
              "3                        Thực phẩm   1.165265  2.827401 2023-09-29\n",
              "4           Ăn uống ngoài gia đình   4.004619  5.083794 2023-09-29\n",
              "...                            ...        ...       ...        ...\n",
              "2320              Dịch vụ giáo dục      12.45     12.45 2014-01-29\n",
              "2321  Văn hoá, giải trí và du lịch        2.9       2.9 2014-01-29\n",
              "2322       Đồ dùng và dịch vụ khác       4.91      4.91 2014-01-29\n",
              "2323               CHỈ SỐ GIÁ VÀNG     -24.43    -24.43 2014-01-29\n",
              "2324           CHỈ SỐ GIÁ ĐÔ LA MỸ       1.11      1.11 2014-01-29\n",
              "\n",
              "[2325 rows x 4 columns]"
            ]
          },
          "execution_count": 72,
          "metadata": {},
          "output_type": "execute_result"
        }
      ],
      "source": [
        "dfs_cpi = pd.concat(dfs_cpi_origin, ignore_index=True, axis=0)\n",
        "dfs_cpi[\"Date\"] = pd.to_datetime(dfs_cpi[\"Date\"], dayfirst=False)\n",
        "dfs_cpi.loc[dfs_cpi[\"Hàng hóa\"] != \"LẠM PHÁT CƠ BẢN\", \"M-YOY\"] = (\n",
        "    dfs_cpi.loc[dfs_cpi[\"Hàng hóa\"] != \"LẠM PHÁT CƠ BẢN\", \"M-YOY\"].astype(float) - 100\n",
        ")\n",
        "dfs_cpi.loc[dfs_cpi[\"Hàng hóa\"] != \"LẠM PHÁT CƠ BẢN\", \"YTD-YOY\"] = (\n",
        "    dfs_cpi.loc[dfs_cpi[\"Hàng hóa\"] != \"LẠM PHÁT CƠ BẢN\", \"YTD-YOY\"].astype(float) - 100\n",
        ")\n",
        "dfs_cpi"
      ]
    },
    {
      "cell_type": "code",
      "execution_count": 73,
      "metadata": {},
      "outputs": [
        {
          "name": "stderr",
          "output_type": "stream",
          "text": [
            "/home/hien/.pyenv/versions/3.9.16/envs/vn-macroeconomics/lib/python3.9/site-packages/_plotly_utils/basevalidators.py:105: FutureWarning:\n",
            "\n",
            "The behavior of DatetimeProperties.to_pydatetime is deprecated, in a future version this will return a Series containing python datetime objects instead of an ndarray. To retain the old behavior, call `np.array` on the result\n",
            "\n"
          ]
        },
        {
          "data": {
            "application/vnd.plotly.v1+json": {
              "config": {
                "plotlyServerURL": "https://plot.ly"
              },
              "data": [
                {
                  "fillpattern": {
                    "shape": ""
                  },
                  "hovertemplate": "Hàng hóa=CHỈ SỐ GIÁ TIÊU DÙNG<br>Date=%{x}<br>M-YOY=%{y}<extra></extra>",
                  "legendgroup": "CHỈ SỐ GIÁ TIÊU DÙNG",
                  "line": {
                    "color": "#636efa"
                  },
                  "marker": {
                    "symbol": "circle"
                  },
                  "mode": "lines",
                  "name": "CHỈ SỐ GIÁ TIÊU DÙNG",
                  "orientation": "v",
                  "showlegend": true,
                  "stackgroup": "1",
                  "type": "scatter",
                  "x": [
                    "2023-09-29T00:00:00",
                    "2023-08-29T00:00:00",
                    "2023-07-29T00:00:00",
                    "2023-06-29T00:00:00",
                    "2023-05-29T00:00:00",
                    "2023-04-29T00:00:00",
                    "2023-03-29T00:00:00",
                    "2023-02-28T00:00:00",
                    "2023-01-29T00:00:00",
                    "2022-12-29T00:00:00",
                    "2022-11-29T00:00:00",
                    "2022-10-29T00:00:00",
                    "2022-09-29T00:00:00",
                    "2022-08-29T00:00:00",
                    "2022-07-29T00:00:00",
                    "2022-06-29T00:00:00",
                    "2022-05-29T00:00:00",
                    "2022-04-29T00:00:00",
                    "2022-03-29T00:00:00",
                    "2022-02-28T00:00:00",
                    "2022-01-29T00:00:00",
                    "2021-12-29T00:00:00",
                    "2021-11-29T00:00:00",
                    "2021-10-29T00:00:00",
                    "2021-09-29T00:00:00",
                    "2021-08-29T00:00:00",
                    "2021-07-29T00:00:00",
                    "2021-06-29T00:00:00",
                    "2021-05-29T00:00:00",
                    "2021-04-29T00:00:00",
                    "2021-03-29T00:00:00",
                    "2021-02-28T00:00:00",
                    "2021-01-29T00:00:00",
                    "2020-12-27T00:00:00",
                    "2020-11-29T00:00:00",
                    "2020-10-29T00:00:00",
                    "2020-09-29T00:00:00",
                    "2020-08-29T00:00:00",
                    "2020-07-29T00:00:00",
                    "2020-06-29T00:00:00",
                    "2020-05-29T00:00:00",
                    "2020-04-29T00:00:00",
                    "2020-03-27T00:00:00",
                    "2020-02-29T00:00:00",
                    "2020-01-29T00:00:00",
                    "2019-12-27T00:00:00",
                    "2019-11-29T00:00:00",
                    "2019-10-29T00:00:00",
                    "2019-09-28T00:00:00",
                    "2019-08-29T00:00:00",
                    "2019-07-29T00:00:00",
                    "2019-06-28T00:00:00",
                    "2019-05-27T00:00:00",
                    "2019-04-29T00:00:00",
                    "2019-03-29T00:00:00",
                    "2019-02-28T00:00:00",
                    "2019-01-29T00:00:00",
                    "2018-12-27T00:00:00",
                    "2018-11-29T00:00:00",
                    "2018-10-29T00:00:00",
                    "2018-09-28T00:00:00",
                    "2018-08-29T00:00:00",
                    "2018-07-27T00:00:00",
                    "2018-06-29T00:00:00",
                    "2018-05-29T00:00:00",
                    "2018-04-27T00:00:00",
                    "2018-03-29T00:00:00",
                    "2018-02-28T00:00:00",
                    "2018-01-29T00:00:00",
                    "2017-12-29T00:00:00",
                    "2017-11-29T00:00:00",
                    "2017-10-27T00:00:00",
                    "2017-09-29T00:00:00",
                    "2017-08-29T00:00:00",
                    "2017-07-28T00:00:00",
                    "2017-06-29T00:00:00",
                    "2017-05-29T00:00:00",
                    "2017-04-28T00:00:00",
                    "2017-03-29T00:00:00",
                    "2017-02-28T00:00:00",
                    "2017-01-27T00:00:00",
                    "2016-12-29T00:00:00",
                    "2016-11-29T00:00:00",
                    "2016-10-28T00:00:00",
                    "2016-09-29T00:00:00",
                    "2016-08-29T00:00:00",
                    "2016-07-29T00:00:00",
                    "2016-06-29T00:00:00",
                    "2016-05-30T00:00:00",
                    "2016-04-29T00:00:00",
                    "2016-03-29T00:00:00",
                    "2016-02-29T00:00:00",
                    "2016-01-29T00:00:00",
                    "2015-12-29T00:00:00",
                    "2015-11-30T00:00:00",
                    "2015-10-29T00:00:00",
                    "2015-09-29T00:00:00",
                    "2015-08-28T00:00:00",
                    "2015-07-29T00:00:00",
                    "2015-06-29T00:00:00",
                    "2015-05-29T00:00:00",
                    "2015-04-29T00:00:00",
                    "2015-03-29T00:00:00",
                    "2015-02-28T00:00:00",
                    "2015-01-29T00:00:00",
                    "2014-12-29T00:00:00",
                    "2014-11-28T00:00:00",
                    "2014-10-29T00:00:00",
                    "2014-09-29T00:00:00",
                    "2014-08-29T00:00:00",
                    "2014-07-29T00:00:00",
                    "2014-06-27T00:00:00",
                    "2014-05-29T00:00:00",
                    "2014-04-29T00:00:00",
                    "2014-03-28T00:00:00",
                    "2014-02-28T00:00:00",
                    "2014-01-29T00:00:00"
                  ],
                  "xaxis": "x",
                  "y": [
                    3.656606108291953,
                    2.9574258158239957,
                    2.063294003648622,
                    2.0028412826913495,
                    2.4280760814012723,
                    2.8074412228211685,
                    3.3509953033500324,
                    4.31184970587924,
                    4.886635580211404,
                    4.5488581081517765,
                    4.372043887313296,
                    4.303112125995796,
                    3.9403511154482658,
                    2.8908863403781453,
                    3.14089894356772,
                    3.3742096478545136,
                    2.862910527975842,
                    2.6379764651902207,
                    2.4098224076842314,
                    1.4239792506967746,
                    1.9418317581578322,
                    1.8103747830905235,
                    2.100450266050686,
                    1.7653089518020266,
                    2.060009230939656,
                    2.8199306153697563,
                    2.641876611696574,
                    2.414299027857709,
                    2.895768103231646,
                    2.7020135917351666,
                    1.156167036003069,
                    0.7002495741307797,
                    -0.9712749181259568,
                    0.18703449515842863,
                    1.484325221418075,
                    2.4698208009467066,
                    2.980911119801007,
                    3.1771543753644096,
                    3.3893353086353244,
                    3.1651518900589934,
                    2.3958592825003677,
                    2.931756259153346,
                    4.868552809587044,
                    5.404710909541421,
                    6.427368778051658,
                    5.234548934921975,
                    3.5193334098700007,
                    2.236653624526255,
                    1.9789912899080804,
                    2.2618051316336505,
                    2.4372041438269036,
                    2.1588755189302304,
                    2.8753633614822434,
                    2.932179086623151,
                    2.69996273937754,
                    2.6387279133522696,
                    2.562971959510719,
                    2.9829651482613997,
                    3.4579949214431167,
                    3.8936715334673124,
                    3.980000000000004,
                    3.980000000000004,
                    4.459999999999994,
                    4.670000000000002,
                    3.8599999999999994,
                    2.75,
                    2.6599999999999966,
                    3.1500000000000057,
                    2.6500000000000057,
                    0.20999999999999375,
                    2.6200000000000045,
                    2.9757536961567723,
                    3.4046244885168875,
                    3.354254463436007,
                    2.5197778178611685,
                    2.538518378806458,
                    3.191370231141491,
                    4.299549822648558,
                    4.6453960627804065,
                    5.0229039531354545,
                    5.217162241187083,
                    0.22750000000000625,
                    4.516962565022027,
                    4.089972972663091,
                    3.3448494849174892,
                    2.570763484514771,
                    2.3941123789995373,
                    2.396157643308783,
                    2.279456121376569,
                    1.8900000000000006,
                    1.6899999999999977,
                    1.269999999999996,
                    0.7999999999999972,
                    0.01999999999999602,
                    0.3389076987480024,
                    0,
                    0,
                    0.6099999999999994,
                    0.9000000000000057,
                    1.0018051087605073,
                    0.9500000000000028,
                    0.9899999999999949,
                    0.9300000000000068,
                    0.3366833821732911,
                    0.9399999999999977,
                    -0.23999999999999488,
                    2.6047933300315123,
                    3.23237704537614,
                    3.6200000000000045,
                    4.305424172099137,
                    4.94029055350984,
                    4.982170346208022,
                    4.719999999999999,
                    4.44877009144453,
                    4.386150924723054,
                    4.648269624313045,
                    5.450000000000003
                  ],
                  "yaxis": "y"
                },
                {
                  "fillpattern": {
                    "shape": ""
                  },
                  "hovertemplate": "Hàng hóa=Hàng ăn và dịch vụ ăn uống<br>Date=%{x}<br>M-YOY=%{y}<extra></extra>",
                  "legendgroup": "Hàng ăn và dịch vụ ăn uống",
                  "line": {
                    "color": "#EF553B"
                  },
                  "marker": {
                    "symbol": "circle"
                  },
                  "mode": "lines",
                  "name": "Hàng ăn và dịch vụ ăn uống",
                  "orientation": "v",
                  "showlegend": true,
                  "stackgroup": "1",
                  "type": "scatter",
                  "x": [
                    "2023-09-29T00:00:00",
                    "2023-08-29T00:00:00",
                    "2023-07-29T00:00:00",
                    "2023-06-29T00:00:00",
                    "2023-05-29T00:00:00",
                    "2023-04-29T00:00:00",
                    "2023-03-29T00:00:00",
                    "2023-02-28T00:00:00",
                    "2023-01-29T00:00:00",
                    "2022-12-29T00:00:00",
                    "2022-11-29T00:00:00",
                    "2022-10-29T00:00:00",
                    "2022-09-29T00:00:00",
                    "2022-08-29T00:00:00",
                    "2022-07-29T00:00:00",
                    "2022-06-29T00:00:00",
                    "2022-05-29T00:00:00",
                    "2022-04-29T00:00:00",
                    "2022-03-29T00:00:00",
                    "2022-02-28T00:00:00",
                    "2022-01-29T00:00:00",
                    "2021-12-29T00:00:00",
                    "2021-11-29T00:00:00",
                    "2021-10-29T00:00:00",
                    "2021-09-29T00:00:00",
                    "2021-08-29T00:00:00",
                    "2021-07-29T00:00:00",
                    "2021-06-29T00:00:00",
                    "2021-05-29T00:00:00",
                    "2021-04-29T00:00:00",
                    "2021-03-29T00:00:00",
                    "2021-02-28T00:00:00",
                    "2021-01-29T00:00:00",
                    "2020-12-27T00:00:00",
                    "2020-11-29T00:00:00",
                    "2020-10-29T00:00:00",
                    "2020-09-29T00:00:00",
                    "2020-08-29T00:00:00",
                    "2020-07-29T00:00:00",
                    "2020-06-29T00:00:00",
                    "2020-05-29T00:00:00",
                    "2020-04-29T00:00:00",
                    "2020-03-27T00:00:00",
                    "2020-02-29T00:00:00",
                    "2020-01-29T00:00:00",
                    "2019-12-27T00:00:00",
                    "2019-11-29T00:00:00",
                    "2019-10-29T00:00:00",
                    "2019-09-28T00:00:00",
                    "2019-08-29T00:00:00",
                    "2019-07-29T00:00:00",
                    "2019-06-28T00:00:00",
                    "2019-05-27T00:00:00",
                    "2019-04-29T00:00:00",
                    "2019-03-29T00:00:00",
                    "2019-02-28T00:00:00",
                    "2019-01-29T00:00:00",
                    "2018-12-27T00:00:00",
                    "2018-11-29T00:00:00",
                    "2018-10-29T00:00:00",
                    "2018-09-28T00:00:00",
                    "2018-08-29T00:00:00",
                    "2018-07-27T00:00:00",
                    "2018-06-29T00:00:00",
                    "2018-05-29T00:00:00",
                    "2018-04-27T00:00:00",
                    "2018-03-29T00:00:00",
                    "2018-02-28T00:00:00",
                    "2018-01-29T00:00:00",
                    "2017-12-29T00:00:00",
                    "2017-11-29T00:00:00",
                    "2017-10-27T00:00:00",
                    "2017-09-29T00:00:00",
                    "2017-08-29T00:00:00",
                    "2017-07-28T00:00:00",
                    "2017-06-29T00:00:00",
                    "2017-05-29T00:00:00",
                    "2017-04-28T00:00:00",
                    "2017-03-29T00:00:00",
                    "2017-02-28T00:00:00",
                    "2017-01-27T00:00:00",
                    "2016-12-29T00:00:00",
                    "2016-11-29T00:00:00",
                    "2016-10-28T00:00:00",
                    "2016-09-29T00:00:00",
                    "2016-08-29T00:00:00",
                    "2016-07-29T00:00:00",
                    "2016-06-29T00:00:00",
                    "2016-05-30T00:00:00",
                    "2016-04-29T00:00:00",
                    "2016-03-29T00:00:00",
                    "2016-02-29T00:00:00",
                    "2016-01-29T00:00:00",
                    "2015-12-29T00:00:00",
                    "2015-11-30T00:00:00",
                    "2015-10-29T00:00:00",
                    "2015-09-29T00:00:00",
                    "2015-08-28T00:00:00",
                    "2015-07-29T00:00:00",
                    "2015-06-29T00:00:00",
                    "2015-05-29T00:00:00",
                    "2015-04-29T00:00:00",
                    "2015-03-29T00:00:00",
                    "2015-02-28T00:00:00",
                    "2015-01-29T00:00:00",
                    "2014-12-29T00:00:00",
                    "2014-11-28T00:00:00",
                    "2014-10-29T00:00:00",
                    "2014-09-29T00:00:00",
                    "2014-08-29T00:00:00",
                    "2014-07-29T00:00:00",
                    "2014-06-27T00:00:00",
                    "2014-05-29T00:00:00",
                    "2014-04-29T00:00:00",
                    "2014-03-28T00:00:00",
                    "2014-02-28T00:00:00",
                    "2014-01-29T00:00:00"
                  ],
                  "xaxis": "x",
                  "y": [
                    2.873431544227259,
                    2.3104818928732556,
                    2.586006479723551,
                    3.3422027533779044,
                    3.582033779613454,
                    3.6178909391522183,
                    3.96676817383846,
                    4.2948109653196695,
                    6.075275462919123,
                    5.211060576549826,
                    5.234907764213574,
                    5.129178434934474,
                    3.6508828651069507,
                    3.2998101478735293,
                    2.9844425395574774,
                    2.2683500437287876,
                    1.318453400761996,
                    1.0821170997224527,
                    1.0046498517363318,
                    -0.20333719333871159,
                    -0.1366013890201998,
                    0.5052290176478493,
                    -0.08221575601589848,
                    0.13667633578965876,
                    1.296967132485733,
                    1.1523815447869339,
                    0.5193118898474154,
                    -0.33021543218112015,
                    0.23795349801345367,
                    0.5419535449076278,
                    1.3282782995625269,
                    2.389869443607367,
                    1.0296493199429761,
                    2.682300333098837,
                    6.630517112753836,
                    9.496946053178434,
                    10.787454389394895,
                    11.745157948137347,
                    11.887697867906425,
                    12.45958344343461,
                    12.109342171986142,
                    11.780198657918305,
                    10.424910252552209,
                    9.32048815088234,
                    10.927108096097513,
                    9.166050502298333,
                    5.611003760282657,
                    2.6497554377754113,
                    1.8112301748839599,
                    1.6973248295093981,
                    2.337707828465767,
                    2.442361691526699,
                    3.417626128417538,
                    4.275779623476566,
                    4.683089682608468,
                    5.531037735292998,
                    5.324393002204133,
                    5.091277674142901,
                    4.803151752428846,
                    5.07267004017082,
                    5.170000000000002,
                    4.790000000000006,
                    4.989999999999995,
                    5.099999999999994,
                    3.3700000000000045,
                    1,
                    0.519999999999996,
                    0.269999999999996,
                    -1.1299999999999955,
                    -0.23000000000000398,
                    -1.5999999999999943,
                    -1.2309856342239414,
                    -1.3700110816290163,
                    -1.356805333358551,
                    -2.523044912333816,
                    -3.099626248443826,
                    -2.3180387668255094,
                    -0.5448192293783052,
                    0.10690605668861508,
                    0.49711749309130937,
                    2.3687563237607066,
                    -0.02960000000000207,
                    3.06243653013145,
                    2.606472034035704,
                    2.6241923507107003,
                    2.394325446084551,
                    2.636202370552226,
                    2.7949646236072425,
                    2.550718089875147,
                    1.9599999999999937,
                    1.5300000000000011,
                    2.3900000000000006,
                    0.9399999999999977,
                    0.1599999999999966,
                    0.8890513717693125,
                    0.8100000000000023,
                    0.6700000000000017,
                    1.019999999999996,
                    1.3700000000000045,
                    1.5364781704222992,
                    1.8499999999999943,
                    2.25,
                    2.8299999999999983,
                    1.4821626495814968,
                    2.1099999999999994,
                    0.0799999999999983,
                    3.027319579552284,
                    3.697198120381657,
                    4.540000000000006,
                    4.9852468351479615,
                    5.079310271834501,
                    4.911619371739803,
                    4.530000000000001,
                    3.9923326604998692,
                    2.891664935885487,
                    3.338387633002114,
                    4.489999999999995
                  ],
                  "yaxis": "y"
                },
                {
                  "fillpattern": {
                    "shape": ""
                  },
                  "hovertemplate": "Hàng hóa=Nhà ở và vật liệu xây dựng<br>Date=%{x}<br>M-YOY=%{y}<extra></extra>",
                  "legendgroup": "Nhà ở và vật liệu xây dựng",
                  "line": {
                    "color": "#00cc96"
                  },
                  "marker": {
                    "symbol": "circle"
                  },
                  "mode": "lines",
                  "name": "Nhà ở và vật liệu xây dựng",
                  "orientation": "v",
                  "showlegend": true,
                  "stackgroup": "1",
                  "type": "scatter",
                  "x": [
                    "2023-09-29T00:00:00",
                    "2023-08-29T00:00:00",
                    "2023-07-29T00:00:00",
                    "2023-06-29T00:00:00",
                    "2023-05-29T00:00:00",
                    "2023-04-29T00:00:00",
                    "2023-03-29T00:00:00",
                    "2023-02-28T00:00:00",
                    "2023-01-29T00:00:00",
                    "2022-12-29T00:00:00",
                    "2022-11-29T00:00:00",
                    "2022-10-29T00:00:00",
                    "2022-09-29T00:00:00",
                    "2022-08-29T00:00:00",
                    "2022-07-29T00:00:00",
                    "2022-06-29T00:00:00",
                    "2022-05-29T00:00:00",
                    "2022-04-29T00:00:00",
                    "2022-03-29T00:00:00",
                    "2022-02-28T00:00:00",
                    "2022-01-29T00:00:00",
                    "2021-12-29T00:00:00",
                    "2021-11-29T00:00:00",
                    "2021-10-29T00:00:00",
                    "2021-09-29T00:00:00",
                    "2021-08-29T00:00:00",
                    "2021-07-29T00:00:00",
                    "2021-06-29T00:00:00",
                    "2021-05-29T00:00:00",
                    "2021-04-29T00:00:00",
                    "2021-03-29T00:00:00",
                    "2021-02-28T00:00:00",
                    "2021-01-29T00:00:00",
                    "2020-12-27T00:00:00",
                    "2020-11-29T00:00:00",
                    "2020-10-29T00:00:00",
                    "2020-09-29T00:00:00",
                    "2020-08-29T00:00:00",
                    "2020-07-29T00:00:00",
                    "2020-06-29T00:00:00",
                    "2020-05-29T00:00:00",
                    "2020-04-29T00:00:00",
                    "2020-03-27T00:00:00",
                    "2020-02-29T00:00:00",
                    "2020-01-29T00:00:00",
                    "2019-12-27T00:00:00",
                    "2019-11-29T00:00:00",
                    "2019-10-29T00:00:00",
                    "2019-09-28T00:00:00",
                    "2019-08-29T00:00:00",
                    "2019-07-29T00:00:00",
                    "2019-06-28T00:00:00",
                    "2019-05-27T00:00:00",
                    "2019-04-29T00:00:00",
                    "2019-03-29T00:00:00",
                    "2019-02-28T00:00:00",
                    "2019-01-29T00:00:00",
                    "2018-12-27T00:00:00",
                    "2018-11-29T00:00:00",
                    "2018-10-29T00:00:00",
                    "2018-09-28T00:00:00",
                    "2018-08-29T00:00:00",
                    "2018-07-27T00:00:00",
                    "2018-06-29T00:00:00",
                    "2018-05-29T00:00:00",
                    "2018-04-27T00:00:00",
                    "2018-03-29T00:00:00",
                    "2018-02-28T00:00:00",
                    "2018-01-29T00:00:00",
                    "2017-12-29T00:00:00",
                    "2017-11-29T00:00:00",
                    "2017-10-27T00:00:00",
                    "2017-09-29T00:00:00",
                    "2017-08-29T00:00:00",
                    "2017-07-28T00:00:00",
                    "2017-06-29T00:00:00",
                    "2017-05-29T00:00:00",
                    "2017-04-28T00:00:00",
                    "2017-03-29T00:00:00",
                    "2017-02-28T00:00:00",
                    "2017-01-27T00:00:00",
                    "2016-12-29T00:00:00",
                    "2016-11-29T00:00:00",
                    "2016-10-28T00:00:00",
                    "2016-09-29T00:00:00",
                    "2016-08-29T00:00:00",
                    "2016-07-29T00:00:00",
                    "2016-06-29T00:00:00",
                    "2016-05-30T00:00:00",
                    "2016-04-29T00:00:00",
                    "2016-03-29T00:00:00",
                    "2016-02-29T00:00:00",
                    "2016-01-29T00:00:00",
                    "2015-12-29T00:00:00",
                    "2015-11-30T00:00:00",
                    "2015-10-29T00:00:00",
                    "2015-09-29T00:00:00",
                    "2015-08-28T00:00:00",
                    "2015-07-29T00:00:00",
                    "2015-06-29T00:00:00",
                    "2015-05-29T00:00:00",
                    "2015-04-29T00:00:00",
                    "2015-03-29T00:00:00",
                    "2015-02-28T00:00:00",
                    "2015-01-29T00:00:00",
                    "2014-12-29T00:00:00",
                    "2014-11-28T00:00:00",
                    "2014-10-29T00:00:00",
                    "2014-09-29T00:00:00",
                    "2014-08-29T00:00:00",
                    "2014-07-29T00:00:00",
                    "2014-06-27T00:00:00",
                    "2014-05-29T00:00:00",
                    "2014-04-29T00:00:00",
                    "2014-03-28T00:00:00",
                    "2014-02-28T00:00:00",
                    "2014-01-29T00:00:00"
                  ],
                  "xaxis": "x",
                  "y": [
                    7.331368891810186,
                    7.136392892365677,
                    6.511325431087229,
                    6.488648295794761,
                    6.40276932377337,
                    5.1961713638646785,
                    6.684911509964749,
                    7.884416238383054,
                    6.936660920596708,
                    7.140186655745566,
                    5.9592967656612075,
                    5.424102692191937,
                    4.430161925101743,
                    1.3970022711672385,
                    1.133455338774624,
                    1.5278592494303354,
                    2.181688017336157,
                    2.7219128637170513,
                    1.6953729202976717,
                    0.44293377787580823,
                    3.5089780570843203,
                    1.0428039356814196,
                    1.4667522329196316,
                    1.0682029365128614,
                    1.6302902472970686,
                    4.342025462632293,
                    4.44427798901998,
                    4.017528156420596,
                    2.933112089751603,
                    2.782296821742648,
                    0.8226787759343637,
                    0.3329450856951013,
                    -3.552075657388855,
                    0.18515750452274915,
                    0.6416319051088237,
                    0.7030829543529791,
                    0.9350237783101392,
                    0.4308687636269468,
                    0.6584170603962889,
                    0.15638281583277092,
                    0.37463686928111883,
                    1.4075163259445986,
                    4.450686609472029,
                    5.529722628164919,
                    6.29092581899387,
                    5.115137765224048,
                    3.733096040254196,
                    2.9374427076241716,
                    2.7150315749764076,
                    2.7987456629810197,
                    2.9182178484886947,
                    3.329602462395414,
                    4.212374735754267,
                    3.2457942823191956,
                    2.805939967938343,
                    1.7230302097356827,
                    0.937764070205688,
                    1.13672023349109,
                    2.2771136375591396,
                    2.897200767920367,
                    3.230000000000004,
                    3.730000000000004,
                    4.230000000000004,
                    3.8799999999999955,
                    3.760000000000005,
                    3.3799999999999955,
                    2.9599999999999937,
                    3.760000000000005,
                    4.640000000000001,
                    0.21999999999999886,
                    4.6299999999999955,
                    5.179931675245044,
                    4.849953205585081,
                    4.230043930328861,
                    3.2415939799637528,
                    3.354089181528579,
                    3.3789698742632766,
                    4.30820486805716,
                    5.300223271295337,
                    4.768255788267652,
                    3.5425440299659385,
                    0.19020000000000437,
                    3.5734527866621306,
                    3.4080204037263258,
                    3.0750546805358567,
                    2.279740108588001,
                    1.8422939519445976,
                    1.920702315030681,
                    1.666586529955282,
                    2.0600000000000023,
                    2.1899999999999977,
                    2.3599999999999994,
                    2.3599999999999994,
                    0.5,
                    -0.5415771526459849,
                    -1.5999999999999943,
                    -1.6700000000000017,
                    -1.3700000000000045,
                    -1.230000000000004,
                    -1.0136416926120972,
                    -0.7099999999999937,
                    -1.5300000000000011,
                    -2.9000000000000057,
                    -3.7708944070996893,
                    -3.989999999999995,
                    -0.9899999999999949,
                    1.3231040875980398,
                    2.4970066636683015,
                    3.0900000000000034,
                    4.426924466122983,
                    5.673469155807879,
                    5.662966922737311,
                    5.040000000000006,
                    4.0392367770246835,
                    4.164786942081449,
                    5.035800171599149,
                    6.189999999999998
                  ],
                  "yaxis": "y"
                },
                {
                  "fillpattern": {
                    "shape": ""
                  },
                  "hovertemplate": "Hàng hóa=Giao thông<br>Date=%{x}<br>M-YOY=%{y}<extra></extra>",
                  "legendgroup": "Giao thông",
                  "line": {
                    "color": "#ab63fa"
                  },
                  "marker": {
                    "symbol": "circle"
                  },
                  "mode": "lines",
                  "name": "Giao thông",
                  "orientation": "v",
                  "showlegend": true,
                  "stackgroup": "1",
                  "type": "scatter",
                  "x": [
                    "2023-09-29T00:00:00",
                    "2023-08-29T00:00:00",
                    "2023-07-29T00:00:00",
                    "2023-06-29T00:00:00",
                    "2023-05-29T00:00:00",
                    "2023-04-29T00:00:00",
                    "2023-03-29T00:00:00",
                    "2023-02-28T00:00:00",
                    "2023-01-29T00:00:00",
                    "2022-12-29T00:00:00",
                    "2022-11-29T00:00:00",
                    "2022-10-29T00:00:00",
                    "2022-09-29T00:00:00",
                    "2022-08-29T00:00:00",
                    "2022-07-29T00:00:00",
                    "2022-06-29T00:00:00",
                    "2022-05-29T00:00:00",
                    "2022-04-29T00:00:00",
                    "2022-03-29T00:00:00",
                    "2022-02-28T00:00:00",
                    "2022-01-29T00:00:00",
                    "2021-12-29T00:00:00",
                    "2021-11-29T00:00:00",
                    "2021-10-29T00:00:00",
                    "2021-09-29T00:00:00",
                    "2021-08-29T00:00:00",
                    "2021-07-29T00:00:00",
                    "2021-06-29T00:00:00",
                    "2021-05-29T00:00:00",
                    "2021-04-29T00:00:00",
                    "2021-03-29T00:00:00",
                    "2021-02-28T00:00:00",
                    "2021-01-29T00:00:00",
                    "2020-12-27T00:00:00",
                    "2020-11-29T00:00:00",
                    "2020-10-29T00:00:00",
                    "2020-09-29T00:00:00",
                    "2020-08-29T00:00:00",
                    "2020-07-29T00:00:00",
                    "2020-06-29T00:00:00",
                    "2020-05-29T00:00:00",
                    "2020-04-29T00:00:00",
                    "2020-03-27T00:00:00",
                    "2020-02-29T00:00:00",
                    "2020-01-29T00:00:00",
                    "2019-12-27T00:00:00",
                    "2019-11-29T00:00:00",
                    "2019-10-29T00:00:00",
                    "2019-09-28T00:00:00",
                    "2019-08-29T00:00:00",
                    "2019-07-29T00:00:00",
                    "2019-06-28T00:00:00",
                    "2019-05-27T00:00:00",
                    "2019-04-29T00:00:00",
                    "2019-03-29T00:00:00",
                    "2019-02-28T00:00:00",
                    "2019-01-29T00:00:00",
                    "2018-12-27T00:00:00",
                    "2018-11-29T00:00:00",
                    "2018-10-29T00:00:00",
                    "2018-09-28T00:00:00",
                    "2018-08-29T00:00:00",
                    "2018-07-27T00:00:00",
                    "2018-06-29T00:00:00",
                    "2018-05-29T00:00:00",
                    "2018-04-27T00:00:00",
                    "2018-03-29T00:00:00",
                    "2018-02-28T00:00:00",
                    "2018-01-29T00:00:00",
                    "2017-12-29T00:00:00",
                    "2017-11-29T00:00:00",
                    "2017-10-27T00:00:00",
                    "2017-09-29T00:00:00",
                    "2017-08-29T00:00:00",
                    "2017-07-28T00:00:00",
                    "2017-06-29T00:00:00",
                    "2017-05-29T00:00:00",
                    "2017-04-28T00:00:00",
                    "2017-03-29T00:00:00",
                    "2017-02-28T00:00:00",
                    "2017-01-27T00:00:00",
                    "2016-12-29T00:00:00",
                    "2016-11-29T00:00:00",
                    "2016-10-28T00:00:00",
                    "2016-09-29T00:00:00",
                    "2016-08-29T00:00:00",
                    "2016-07-29T00:00:00",
                    "2016-06-29T00:00:00",
                    "2016-05-30T00:00:00",
                    "2016-04-29T00:00:00",
                    "2016-03-29T00:00:00",
                    "2016-02-29T00:00:00",
                    "2016-01-29T00:00:00",
                    "2015-12-29T00:00:00",
                    "2015-11-30T00:00:00",
                    "2015-10-29T00:00:00",
                    "2015-09-29T00:00:00",
                    "2015-08-28T00:00:00",
                    "2015-07-29T00:00:00",
                    "2015-06-29T00:00:00",
                    "2015-05-29T00:00:00",
                    "2015-04-29T00:00:00",
                    "2015-03-29T00:00:00",
                    "2015-02-28T00:00:00",
                    "2015-01-29T00:00:00",
                    "2014-12-29T00:00:00",
                    "2014-11-28T00:00:00",
                    "2014-10-29T00:00:00",
                    "2014-09-29T00:00:00",
                    "2014-08-29T00:00:00",
                    "2014-07-29T00:00:00",
                    "2014-06-27T00:00:00",
                    "2014-05-29T00:00:00",
                    "2014-04-29T00:00:00",
                    "2014-03-28T00:00:00",
                    "2014-02-28T00:00:00",
                    "2014-01-29T00:00:00"
                  ],
                  "xaxis": "x",
                  "y": [
                    3.2009083240219383,
                    -0.30669975495740687,
                    -9.291428531810425,
                    -11.978399971030257,
                    -8.936814597941591,
                    -3.939759444415401,
                    -4.911081302520515,
                    -0.18346026921449266,
                    0.05212693707126448,
                    -0.15786675665754046,
                    0.9417969625503417,
                    1.8098397778935578,
                    6.679772539092227,
                    8.943456145122369,
                    15.224026007765048,
                    21.410125029255724,
                    18.417995731230704,
                    16.585086815475208,
                    18.294920425868938,
                    15.45502332557814,
                    14.546168471410567,
                    15.80522487149058,
                    20.7092475467672,
                    16.516776190495207,
                    13.58243032063622,
                    13.629185871935803,
                    13.81769880905486,
                    15.539894658461535,
                    21.236836345880334,
                    17.66768506587033,
                    0.47955082874877064,
                    -6.551663087443316,
                    -10.273116485936669,
                    -11.678820263304473,
                    -13.26801133842936,
                    -13.492149323869839,
                    -12.57178949165855,
                    -13.559644259858231,
                    -14.042773663127292,
                    -17.304002594761158,
                    -23.367607390085027,
                    -19.570815714272584,
                    -2.6184918911917663,
                    4.639255496478498,
                    7.497210594381002,
                    3.5217163511968863,
                    -2.1291581657631866,
                    -3.190009613088222,
                    -2.65260026173317,
                    -0.6197157536503681,
                    -0.03678133941676265,
                    -0.5233424910308173,
                    2.2767154084430246,
                    1.361748353440717,
                    -1.666104951641728,
                    -4.542549806811891,
                    -3.9493018856936857,
                    0.2149713246736269,
                    6.241511260609457,
                    8.928590843303468,
                    7.930000000000007,
                    8.670000000000002,
                    10.840000000000003,
                    9.719999999999999,
                    7.819999999999993,
                    5.640000000000001,
                    2.969999999999999,
                    4.170000000000002,
                    3.9399999999999977,
                    0.8400000000000034,
                    4.230000000000004,
                    5.2118325275992845,
                    6.685422461434825,
                    5.671144432995703,
                    1.4287037907032811,
                    4.217572672342243,
                    8.100900621296248,
                    11.069236443646275,
                    14.565757110131017,
                    9.97009843180696,
                    5.020414412984138,
                    -0.8863000000000056,
                    -1.799513524525537,
                    -3.7387191244077513,
                    -5.695294098180668,
                    -9.182072247640278,
                    -9.319186677266003,
                    -10.240529643258085,
                    -9.762937308363206,
                    -10.969999999999999,
                    -10.319999999999993,
                    -7.230000000000004,
                    -7.659999999999997,
                    -1.5699999999999932,
                    -10.14720665658892,
                    -12.290000000000006,
                    -13.14,
                    -11.950000000000003,
                    -10.099999999999994,
                    -9.8490150186975,
                    -12.769999999999996,
                    -13.340000000000003,
                    -15.150000000000006,
                    -14.915822786921026,
                    -10.400000000000006,
                    -3.0900000000000034,
                    -2.783758173755885,
                    -0.3745947516350867,
                    0.480000000000004,
                    2.129183343563355,
                    3.324812165976482,
                    4.250661737356225,
                    3.969999999999999,
                    3.0062409939752683,
                    3.899447708465047,
                    3.6708003292926747,
                    3.8299999999999983
                  ],
                  "yaxis": "y"
                },
                {
                  "fillpattern": {
                    "shape": ""
                  },
                  "hovertemplate": "Hàng hóa=Giáo dục<br>Date=%{x}<br>M-YOY=%{y}<extra></extra>",
                  "legendgroup": "Giáo dục",
                  "line": {
                    "color": "#FFA15A"
                  },
                  "marker": {
                    "symbol": "circle"
                  },
                  "mode": "lines",
                  "name": "Giáo dục",
                  "orientation": "v",
                  "showlegend": true,
                  "stackgroup": "1",
                  "type": "scatter",
                  "x": [
                    "2023-09-29T00:00:00",
                    "2023-08-29T00:00:00",
                    "2023-07-29T00:00:00",
                    "2023-06-29T00:00:00",
                    "2023-05-29T00:00:00",
                    "2023-04-29T00:00:00",
                    "2023-03-29T00:00:00",
                    "2023-02-28T00:00:00",
                    "2023-01-29T00:00:00",
                    "2022-12-29T00:00:00",
                    "2022-11-29T00:00:00",
                    "2022-10-29T00:00:00",
                    "2022-09-29T00:00:00",
                    "2022-08-29T00:00:00",
                    "2022-07-29T00:00:00",
                    "2022-06-29T00:00:00",
                    "2022-05-29T00:00:00",
                    "2022-04-29T00:00:00",
                    "2022-03-29T00:00:00",
                    "2022-02-28T00:00:00",
                    "2022-01-29T00:00:00",
                    "2021-12-29T00:00:00",
                    "2021-11-29T00:00:00",
                    "2021-10-29T00:00:00",
                    "2021-09-29T00:00:00",
                    "2021-08-29T00:00:00",
                    "2021-07-29T00:00:00",
                    "2021-06-29T00:00:00",
                    "2021-05-29T00:00:00",
                    "2021-04-29T00:00:00",
                    "2021-03-29T00:00:00",
                    "2021-02-28T00:00:00",
                    "2021-01-29T00:00:00",
                    "2020-12-27T00:00:00",
                    "2020-11-29T00:00:00",
                    "2020-10-29T00:00:00",
                    "2020-09-29T00:00:00",
                    "2020-08-29T00:00:00",
                    "2020-07-29T00:00:00",
                    "2020-06-29T00:00:00",
                    "2020-05-29T00:00:00",
                    "2020-04-29T00:00:00",
                    "2020-03-27T00:00:00",
                    "2020-02-29T00:00:00",
                    "2020-01-29T00:00:00",
                    "2019-12-27T00:00:00",
                    "2019-11-29T00:00:00",
                    "2019-10-29T00:00:00",
                    "2019-09-28T00:00:00",
                    "2019-08-29T00:00:00",
                    "2019-07-29T00:00:00",
                    "2019-06-28T00:00:00",
                    "2019-05-27T00:00:00",
                    "2019-04-29T00:00:00",
                    "2019-03-29T00:00:00",
                    "2019-02-28T00:00:00",
                    "2019-01-29T00:00:00",
                    "2018-12-27T00:00:00",
                    "2018-11-29T00:00:00",
                    "2018-10-29T00:00:00",
                    "2018-09-28T00:00:00",
                    "2018-08-29T00:00:00",
                    "2018-07-27T00:00:00",
                    "2018-06-29T00:00:00",
                    "2018-05-29T00:00:00",
                    "2018-04-27T00:00:00",
                    "2018-03-29T00:00:00",
                    "2018-02-28T00:00:00",
                    "2018-01-29T00:00:00",
                    "2017-12-29T00:00:00",
                    "2017-11-29T00:00:00",
                    "2017-10-27T00:00:00",
                    "2017-09-29T00:00:00",
                    "2017-08-29T00:00:00",
                    "2017-07-28T00:00:00",
                    "2017-06-29T00:00:00",
                    "2017-05-29T00:00:00",
                    "2017-04-28T00:00:00",
                    "2017-03-29T00:00:00",
                    "2017-02-28T00:00:00",
                    "2017-01-27T00:00:00",
                    "2016-12-29T00:00:00",
                    "2016-11-29T00:00:00",
                    "2016-10-28T00:00:00",
                    "2016-09-29T00:00:00",
                    "2016-08-29T00:00:00",
                    "2016-07-29T00:00:00",
                    "2016-06-29T00:00:00",
                    "2016-05-30T00:00:00",
                    "2016-04-29T00:00:00",
                    "2016-03-29T00:00:00",
                    "2016-02-29T00:00:00",
                    "2016-01-29T00:00:00",
                    "2015-12-29T00:00:00",
                    "2015-11-30T00:00:00",
                    "2015-10-29T00:00:00",
                    "2015-09-29T00:00:00",
                    "2015-08-28T00:00:00",
                    "2015-07-29T00:00:00",
                    "2015-06-29T00:00:00",
                    "2015-05-29T00:00:00",
                    "2015-04-29T00:00:00",
                    "2015-03-29T00:00:00",
                    "2015-02-28T00:00:00",
                    "2015-01-29T00:00:00",
                    "2014-12-29T00:00:00",
                    "2014-11-28T00:00:00",
                    "2014-10-29T00:00:00",
                    "2014-09-29T00:00:00",
                    "2014-08-29T00:00:00",
                    "2014-07-29T00:00:00",
                    "2014-06-27T00:00:00",
                    "2014-05-29T00:00:00",
                    "2014-04-29T00:00:00",
                    "2014-03-28T00:00:00",
                    "2014-02-28T00:00:00",
                    "2014-01-29T00:00:00"
                  ],
                  "xaxis": "x",
                  "y": [
                    7.248542821934322,
                    5.0455289620138615,
                    5.57190633403502,
                    5.747627327363318,
                    5.70357778787411,
                    5.983007233073167,
                    8.408821921122978,
                    10.400418308371044,
                    11.598619709168872,
                    11.801261493542015,
                    10.963553020719914,
                    10.638386735886257,
                    8.366065838679162,
                    -0.5729028393127322,
                    -1.9692833950909545,
                    -2.134529262390032,
                    -2.1727696140181365,
                    -2.309008628949371,
                    -3.209877828208164,
                    -3.2957453673293315,
                    -3.7827030549987484,
                    -3.487875464001519,
                    -3.0659472700880457,
                    -2.1635371257109597,
                    -1.0875617693318134,
                    3.9762128460231594,
                    4.1200585301740915,
                    4.112460015061842,
                    4.095702333027489,
                    4.0698941606434005,
                    4.042947441456832,
                    4.080920535102621,
                    4.125675509952643,
                    3.8020895186496233,
                    3.8108083623197047,
                    3.8481788706213678,
                    2.663796409342794,
                    3.739943158358699,
                    4.148158166928681,
                    4.355887418848511,
                    4.580542504987434,
                    4.633039574956797,
                    4.686192361769088,
                    4.647893798642471,
                    4.109500444829578,
                    4.2452303229456305,
                    4.2342861606652775,
                    4.249498327214596,
                    4.6503903058030716,
                    6.598975918444069,
                    6.476978929921231,
                    6.289250489832199,
                    6.16633853787809,
                    6.112435522850063,
                    6.115299060978742,
                    6.123999932543356,
                    6.6457277411979305,
                    6.519756942981019,
                    6.512620404727329,
                    6.488668071253343,
                    6.069999999999993,
                    6,
                    6.1200000000000045,
                    6.1200000000000045,
                    6.090000000000003,
                    6.109999999999999,
                    6.060000000000002,
                    6.840000000000003,
                    6.819999999999993,
                    0,
                    7.290000000000006,
                    7.264968416498448,
                    7.715281886841765,
                    9.963287064060395,
                    9.85459905690324,
                    9.804090034140913,
                    9.776004228541765,
                    9.771065355392608,
                    10.168081492734117,
                    10.07185374945125,
                    10.354956858676175,
                    0.004300000000000637,
                    10.855419649449033,
                    10.918382946314779,
                    10.303417963406346,
                    4.181081492266102,
                    4.599083779084296,
                    4.607765355451178,
                    4.545038332451696,
                    4.530000000000001,
                    4.150000000000006,
                    3.480000000000004,
                    3.25,
                    0.04000000000000625,
                    2.407973278451948,
                    2.3799999999999955,
                    3.6700000000000017,
                    8.930000000000007,
                    8.230000000000004,
                    8.248509760628792,
                    8.260000000000005,
                    8.269999999999996,
                    8.319999999999993,
                    8.345952904145108,
                    8.319999999999993,
                    0.030000000000001137,
                    8.237702216434712,
                    8.313445884885667,
                    7.480000000000004,
                    10.510532849308433,
                    11.260354864250857,
                    11.327091056311772,
                    11.349999999999994,
                    11.360488070246433,
                    11.34935869906208,
                    11.360490295453076,
                    11.379999999999995
                  ],
                  "yaxis": "y"
                },
                {
                  "fillpattern": {
                    "shape": ""
                  },
                  "hovertemplate": "Hàng hóa=LẠM PHÁT CƠ BẢN<br>Date=%{x}<br>M-YOY=%{y}<extra></extra>",
                  "legendgroup": "LẠM PHÁT CƠ BẢN",
                  "line": {
                    "color": "#19d3f3"
                  },
                  "marker": {
                    "symbol": "circle"
                  },
                  "mode": "lines",
                  "name": "LẠM PHÁT CƠ BẢN",
                  "orientation": "v",
                  "showlegend": true,
                  "stackgroup": "1",
                  "type": "scatter",
                  "x": [
                    "2023-09-29T00:00:00",
                    "2023-08-29T00:00:00",
                    "2023-07-29T00:00:00",
                    "2023-06-29T00:00:00",
                    "2023-05-29T00:00:00",
                    "2023-04-29T00:00:00",
                    "2023-03-29T00:00:00",
                    "2023-02-28T00:00:00",
                    "2023-01-29T00:00:00",
                    "2022-12-29T00:00:00",
                    "2022-11-29T00:00:00",
                    "2022-10-29T00:00:00",
                    "2022-09-29T00:00:00",
                    "2022-08-29T00:00:00",
                    "2022-07-29T00:00:00",
                    "2022-06-29T00:00:00",
                    "2022-05-29T00:00:00",
                    "2022-04-29T00:00:00",
                    "2022-03-29T00:00:00",
                    "2022-02-28T00:00:00",
                    "2022-01-29T00:00:00",
                    "2021-12-29T00:00:00",
                    "2021-11-29T00:00:00",
                    "2021-10-29T00:00:00",
                    "2021-09-29T00:00:00",
                    "2021-08-29T00:00:00",
                    "2021-07-29T00:00:00",
                    "2021-06-29T00:00:00",
                    "2021-05-29T00:00:00",
                    "2021-04-29T00:00:00",
                    "2021-03-29T00:00:00",
                    "2021-02-28T00:00:00",
                    "2021-01-29T00:00:00",
                    "2020-12-27T00:00:00",
                    "2020-11-29T00:00:00",
                    "2020-10-29T00:00:00",
                    "2020-09-29T00:00:00",
                    "2020-08-29T00:00:00",
                    "2020-07-29T00:00:00",
                    "2020-06-29T00:00:00",
                    "2020-05-29T00:00:00",
                    "2020-04-29T00:00:00",
                    "2020-03-27T00:00:00",
                    "2020-02-29T00:00:00",
                    "2020-01-29T00:00:00",
                    "2019-12-27T00:00:00",
                    "2019-11-29T00:00:00",
                    "2019-10-29T00:00:00",
                    "2019-09-28T00:00:00",
                    "2019-08-29T00:00:00",
                    "2019-07-29T00:00:00",
                    "2019-06-28T00:00:00",
                    "2019-05-27T00:00:00",
                    "2019-04-29T00:00:00",
                    "2019-03-29T00:00:00",
                    "2019-02-28T00:00:00",
                    "2019-01-29T00:00:00",
                    "2018-12-27T00:00:00",
                    "2018-11-29T00:00:00",
                    "2018-10-29T00:00:00",
                    "2018-09-28T00:00:00",
                    "2018-08-29T00:00:00",
                    "2018-07-27T00:00:00",
                    "2018-06-29T00:00:00",
                    "2018-05-29T00:00:00",
                    "2018-04-27T00:00:00",
                    "2018-03-29T00:00:00",
                    "2018-02-28T00:00:00",
                    "2018-01-29T00:00:00",
                    "2017-12-29T00:00:00",
                    "2017-11-29T00:00:00",
                    "2017-10-27T00:00:00",
                    "2017-09-29T00:00:00",
                    "2017-08-29T00:00:00",
                    "2017-07-28T00:00:00",
                    "2017-06-29T00:00:00",
                    "2017-05-29T00:00:00",
                    "2017-04-28T00:00:00",
                    "2017-03-29T00:00:00",
                    "2017-02-28T00:00:00",
                    "2017-01-27T00:00:00",
                    "2016-12-29T00:00:00",
                    "2016-11-29T00:00:00",
                    "2016-10-28T00:00:00",
                    "2016-09-29T00:00:00",
                    "2016-08-29T00:00:00",
                    "2016-07-29T00:00:00",
                    "2016-06-29T00:00:00",
                    "2016-05-30T00:00:00",
                    "2016-04-29T00:00:00",
                    "2016-03-29T00:00:00",
                    "2016-02-29T00:00:00",
                    "2016-01-29T00:00:00",
                    "2015-12-29T00:00:00",
                    "2015-11-30T00:00:00",
                    "2015-10-29T00:00:00",
                    "2015-09-29T00:00:00",
                    "2015-08-28T00:00:00",
                    "2015-07-29T00:00:00",
                    "2015-06-29T00:00:00"
                  ],
                  "xaxis": "x",
                  "y": [
                    3.8036635749210346,
                    4.02101048910859,
                    4.10972978153703,
                    4.33,
                    4.54,
                    4.56,
                    4.879999140299018,
                    4.957385198216779,
                    5.205370147341082,
                    4.99,
                    4.805018,
                    4.47,
                    3.8233418972697386,
                    3.0638376621952013,
                    2.6289653518277944,
                    1.98,
                    1.61,
                    1.47,
                    1.091050239664848,
                    0.6764798446099451,
                    0.6605682417216041,
                    0.67,
                    0.58,
                    0.5,
                    0.7366290871253733,
                    0.977033596968635,
                    0.986930902212646,
                    1.14,
                    1.13,
                    0.95,
                    0.7320584039380851,
                    0.7939319541711232,
                    0.49112364260386343,
                    0.99,
                    1.61,
                    1.879267638213089,
                    1.9698648572423094,
                    2.1582867189257504,
                    2.31,
                    2.45,
                    2.5446985643234887,
                    2.71,
                    2.952667198177439,
                    2.9437326473070957,
                    3.254333857930658,
                    2.78,
                    2.1823754325511535,
                    1.9916034363977042,
                    1.96,
                    1.95,
                    2.04,
                    1.96,
                    1.9,
                    1.88,
                    1.8410577714196963,
                    1.82,
                    1.83,
                    1.7,
                    1.72,
                    1.67,
                    1.61,
                    1.54,
                    1.41,
                    1.37,
                    1.37,
                    1.33,
                    1.38,
                    1.47,
                    1.18,
                    0.11,
                    1.28,
                    1.32,
                    1.32,
                    1.31,
                    1.3,
                    1.29,
                    1.33,
                    1.5,
                    1.6,
                    1.51,
                    1.88,
                    0.11,
                    1.87,
                    1.86,
                    1.85,
                    1.83,
                    1.85,
                    1.88,
                    1.87,
                    1.76,
                    1.64,
                    1.93,
                    1.72,
                    0.11,
                    1.72,
                    1.82,
                    1.87,
                    1.98,
                    2.04,
                    2.01
                  ],
                  "yaxis": "y"
                }
              ],
              "layout": {
                "legend": {
                  "title": {
                    "text": "Hàng hóa"
                  },
                  "tracegroupgap": 0
                },
                "margin": {
                  "t": 60
                },
                "template": {
                  "data": {
                    "bar": [
                      {
                        "error_x": {
                          "color": "#2a3f5f"
                        },
                        "error_y": {
                          "color": "#2a3f5f"
                        },
                        "marker": {
                          "line": {
                            "color": "#E5ECF6",
                            "width": 0.5
                          },
                          "pattern": {
                            "fillmode": "overlay",
                            "size": 10,
                            "solidity": 0.2
                          }
                        },
                        "type": "bar"
                      }
                    ],
                    "barpolar": [
                      {
                        "marker": {
                          "line": {
                            "color": "#E5ECF6",
                            "width": 0.5
                          },
                          "pattern": {
                            "fillmode": "overlay",
                            "size": 10,
                            "solidity": 0.2
                          }
                        },
                        "type": "barpolar"
                      }
                    ],
                    "carpet": [
                      {
                        "aaxis": {
                          "endlinecolor": "#2a3f5f",
                          "gridcolor": "white",
                          "linecolor": "white",
                          "minorgridcolor": "white",
                          "startlinecolor": "#2a3f5f"
                        },
                        "baxis": {
                          "endlinecolor": "#2a3f5f",
                          "gridcolor": "white",
                          "linecolor": "white",
                          "minorgridcolor": "white",
                          "startlinecolor": "#2a3f5f"
                        },
                        "type": "carpet"
                      }
                    ],
                    "choropleth": [
                      {
                        "colorbar": {
                          "outlinewidth": 0,
                          "ticks": ""
                        },
                        "type": "choropleth"
                      }
                    ],
                    "contour": [
                      {
                        "colorbar": {
                          "outlinewidth": 0,
                          "ticks": ""
                        },
                        "colorscale": [
                          [
                            0,
                            "#0d0887"
                          ],
                          [
                            0.1111111111111111,
                            "#46039f"
                          ],
                          [
                            0.2222222222222222,
                            "#7201a8"
                          ],
                          [
                            0.3333333333333333,
                            "#9c179e"
                          ],
                          [
                            0.4444444444444444,
                            "#bd3786"
                          ],
                          [
                            0.5555555555555556,
                            "#d8576b"
                          ],
                          [
                            0.6666666666666666,
                            "#ed7953"
                          ],
                          [
                            0.7777777777777778,
                            "#fb9f3a"
                          ],
                          [
                            0.8888888888888888,
                            "#fdca26"
                          ],
                          [
                            1,
                            "#f0f921"
                          ]
                        ],
                        "type": "contour"
                      }
                    ],
                    "contourcarpet": [
                      {
                        "colorbar": {
                          "outlinewidth": 0,
                          "ticks": ""
                        },
                        "type": "contourcarpet"
                      }
                    ],
                    "heatmap": [
                      {
                        "colorbar": {
                          "outlinewidth": 0,
                          "ticks": ""
                        },
                        "colorscale": [
                          [
                            0,
                            "#0d0887"
                          ],
                          [
                            0.1111111111111111,
                            "#46039f"
                          ],
                          [
                            0.2222222222222222,
                            "#7201a8"
                          ],
                          [
                            0.3333333333333333,
                            "#9c179e"
                          ],
                          [
                            0.4444444444444444,
                            "#bd3786"
                          ],
                          [
                            0.5555555555555556,
                            "#d8576b"
                          ],
                          [
                            0.6666666666666666,
                            "#ed7953"
                          ],
                          [
                            0.7777777777777778,
                            "#fb9f3a"
                          ],
                          [
                            0.8888888888888888,
                            "#fdca26"
                          ],
                          [
                            1,
                            "#f0f921"
                          ]
                        ],
                        "type": "heatmap"
                      }
                    ],
                    "heatmapgl": [
                      {
                        "colorbar": {
                          "outlinewidth": 0,
                          "ticks": ""
                        },
                        "colorscale": [
                          [
                            0,
                            "#0d0887"
                          ],
                          [
                            0.1111111111111111,
                            "#46039f"
                          ],
                          [
                            0.2222222222222222,
                            "#7201a8"
                          ],
                          [
                            0.3333333333333333,
                            "#9c179e"
                          ],
                          [
                            0.4444444444444444,
                            "#bd3786"
                          ],
                          [
                            0.5555555555555556,
                            "#d8576b"
                          ],
                          [
                            0.6666666666666666,
                            "#ed7953"
                          ],
                          [
                            0.7777777777777778,
                            "#fb9f3a"
                          ],
                          [
                            0.8888888888888888,
                            "#fdca26"
                          ],
                          [
                            1,
                            "#f0f921"
                          ]
                        ],
                        "type": "heatmapgl"
                      }
                    ],
                    "histogram": [
                      {
                        "marker": {
                          "pattern": {
                            "fillmode": "overlay",
                            "size": 10,
                            "solidity": 0.2
                          }
                        },
                        "type": "histogram"
                      }
                    ],
                    "histogram2d": [
                      {
                        "colorbar": {
                          "outlinewidth": 0,
                          "ticks": ""
                        },
                        "colorscale": [
                          [
                            0,
                            "#0d0887"
                          ],
                          [
                            0.1111111111111111,
                            "#46039f"
                          ],
                          [
                            0.2222222222222222,
                            "#7201a8"
                          ],
                          [
                            0.3333333333333333,
                            "#9c179e"
                          ],
                          [
                            0.4444444444444444,
                            "#bd3786"
                          ],
                          [
                            0.5555555555555556,
                            "#d8576b"
                          ],
                          [
                            0.6666666666666666,
                            "#ed7953"
                          ],
                          [
                            0.7777777777777778,
                            "#fb9f3a"
                          ],
                          [
                            0.8888888888888888,
                            "#fdca26"
                          ],
                          [
                            1,
                            "#f0f921"
                          ]
                        ],
                        "type": "histogram2d"
                      }
                    ],
                    "histogram2dcontour": [
                      {
                        "colorbar": {
                          "outlinewidth": 0,
                          "ticks": ""
                        },
                        "colorscale": [
                          [
                            0,
                            "#0d0887"
                          ],
                          [
                            0.1111111111111111,
                            "#46039f"
                          ],
                          [
                            0.2222222222222222,
                            "#7201a8"
                          ],
                          [
                            0.3333333333333333,
                            "#9c179e"
                          ],
                          [
                            0.4444444444444444,
                            "#bd3786"
                          ],
                          [
                            0.5555555555555556,
                            "#d8576b"
                          ],
                          [
                            0.6666666666666666,
                            "#ed7953"
                          ],
                          [
                            0.7777777777777778,
                            "#fb9f3a"
                          ],
                          [
                            0.8888888888888888,
                            "#fdca26"
                          ],
                          [
                            1,
                            "#f0f921"
                          ]
                        ],
                        "type": "histogram2dcontour"
                      }
                    ],
                    "mesh3d": [
                      {
                        "colorbar": {
                          "outlinewidth": 0,
                          "ticks": ""
                        },
                        "type": "mesh3d"
                      }
                    ],
                    "parcoords": [
                      {
                        "line": {
                          "colorbar": {
                            "outlinewidth": 0,
                            "ticks": ""
                          }
                        },
                        "type": "parcoords"
                      }
                    ],
                    "pie": [
                      {
                        "automargin": true,
                        "type": "pie"
                      }
                    ],
                    "scatter": [
                      {
                        "fillpattern": {
                          "fillmode": "overlay",
                          "size": 10,
                          "solidity": 0.2
                        },
                        "type": "scatter"
                      }
                    ],
                    "scatter3d": [
                      {
                        "line": {
                          "colorbar": {
                            "outlinewidth": 0,
                            "ticks": ""
                          }
                        },
                        "marker": {
                          "colorbar": {
                            "outlinewidth": 0,
                            "ticks": ""
                          }
                        },
                        "type": "scatter3d"
                      }
                    ],
                    "scattercarpet": [
                      {
                        "marker": {
                          "colorbar": {
                            "outlinewidth": 0,
                            "ticks": ""
                          }
                        },
                        "type": "scattercarpet"
                      }
                    ],
                    "scattergeo": [
                      {
                        "marker": {
                          "colorbar": {
                            "outlinewidth": 0,
                            "ticks": ""
                          }
                        },
                        "type": "scattergeo"
                      }
                    ],
                    "scattergl": [
                      {
                        "marker": {
                          "colorbar": {
                            "outlinewidth": 0,
                            "ticks": ""
                          }
                        },
                        "type": "scattergl"
                      }
                    ],
                    "scattermapbox": [
                      {
                        "marker": {
                          "colorbar": {
                            "outlinewidth": 0,
                            "ticks": ""
                          }
                        },
                        "type": "scattermapbox"
                      }
                    ],
                    "scatterpolar": [
                      {
                        "marker": {
                          "colorbar": {
                            "outlinewidth": 0,
                            "ticks": ""
                          }
                        },
                        "type": "scatterpolar"
                      }
                    ],
                    "scatterpolargl": [
                      {
                        "marker": {
                          "colorbar": {
                            "outlinewidth": 0,
                            "ticks": ""
                          }
                        },
                        "type": "scatterpolargl"
                      }
                    ],
                    "scatterternary": [
                      {
                        "marker": {
                          "colorbar": {
                            "outlinewidth": 0,
                            "ticks": ""
                          }
                        },
                        "type": "scatterternary"
                      }
                    ],
                    "surface": [
                      {
                        "colorbar": {
                          "outlinewidth": 0,
                          "ticks": ""
                        },
                        "colorscale": [
                          [
                            0,
                            "#0d0887"
                          ],
                          [
                            0.1111111111111111,
                            "#46039f"
                          ],
                          [
                            0.2222222222222222,
                            "#7201a8"
                          ],
                          [
                            0.3333333333333333,
                            "#9c179e"
                          ],
                          [
                            0.4444444444444444,
                            "#bd3786"
                          ],
                          [
                            0.5555555555555556,
                            "#d8576b"
                          ],
                          [
                            0.6666666666666666,
                            "#ed7953"
                          ],
                          [
                            0.7777777777777778,
                            "#fb9f3a"
                          ],
                          [
                            0.8888888888888888,
                            "#fdca26"
                          ],
                          [
                            1,
                            "#f0f921"
                          ]
                        ],
                        "type": "surface"
                      }
                    ],
                    "table": [
                      {
                        "cells": {
                          "fill": {
                            "color": "#EBF0F8"
                          },
                          "line": {
                            "color": "white"
                          }
                        },
                        "header": {
                          "fill": {
                            "color": "#C8D4E3"
                          },
                          "line": {
                            "color": "white"
                          }
                        },
                        "type": "table"
                      }
                    ]
                  },
                  "layout": {
                    "annotationdefaults": {
                      "arrowcolor": "#2a3f5f",
                      "arrowhead": 0,
                      "arrowwidth": 1
                    },
                    "autotypenumbers": "strict",
                    "coloraxis": {
                      "colorbar": {
                        "outlinewidth": 0,
                        "ticks": ""
                      }
                    },
                    "colorscale": {
                      "diverging": [
                        [
                          0,
                          "#8e0152"
                        ],
                        [
                          0.1,
                          "#c51b7d"
                        ],
                        [
                          0.2,
                          "#de77ae"
                        ],
                        [
                          0.3,
                          "#f1b6da"
                        ],
                        [
                          0.4,
                          "#fde0ef"
                        ],
                        [
                          0.5,
                          "#f7f7f7"
                        ],
                        [
                          0.6,
                          "#e6f5d0"
                        ],
                        [
                          0.7,
                          "#b8e186"
                        ],
                        [
                          0.8,
                          "#7fbc41"
                        ],
                        [
                          0.9,
                          "#4d9221"
                        ],
                        [
                          1,
                          "#276419"
                        ]
                      ],
                      "sequential": [
                        [
                          0,
                          "#0d0887"
                        ],
                        [
                          0.1111111111111111,
                          "#46039f"
                        ],
                        [
                          0.2222222222222222,
                          "#7201a8"
                        ],
                        [
                          0.3333333333333333,
                          "#9c179e"
                        ],
                        [
                          0.4444444444444444,
                          "#bd3786"
                        ],
                        [
                          0.5555555555555556,
                          "#d8576b"
                        ],
                        [
                          0.6666666666666666,
                          "#ed7953"
                        ],
                        [
                          0.7777777777777778,
                          "#fb9f3a"
                        ],
                        [
                          0.8888888888888888,
                          "#fdca26"
                        ],
                        [
                          1,
                          "#f0f921"
                        ]
                      ],
                      "sequentialminus": [
                        [
                          0,
                          "#0d0887"
                        ],
                        [
                          0.1111111111111111,
                          "#46039f"
                        ],
                        [
                          0.2222222222222222,
                          "#7201a8"
                        ],
                        [
                          0.3333333333333333,
                          "#9c179e"
                        ],
                        [
                          0.4444444444444444,
                          "#bd3786"
                        ],
                        [
                          0.5555555555555556,
                          "#d8576b"
                        ],
                        [
                          0.6666666666666666,
                          "#ed7953"
                        ],
                        [
                          0.7777777777777778,
                          "#fb9f3a"
                        ],
                        [
                          0.8888888888888888,
                          "#fdca26"
                        ],
                        [
                          1,
                          "#f0f921"
                        ]
                      ]
                    },
                    "colorway": [
                      "#636efa",
                      "#EF553B",
                      "#00cc96",
                      "#ab63fa",
                      "#FFA15A",
                      "#19d3f3",
                      "#FF6692",
                      "#B6E880",
                      "#FF97FF",
                      "#FECB52"
                    ],
                    "font": {
                      "color": "#2a3f5f"
                    },
                    "geo": {
                      "bgcolor": "white",
                      "lakecolor": "white",
                      "landcolor": "#E5ECF6",
                      "showlakes": true,
                      "showland": true,
                      "subunitcolor": "white"
                    },
                    "hoverlabel": {
                      "align": "left"
                    },
                    "hovermode": "closest",
                    "mapbox": {
                      "style": "light"
                    },
                    "paper_bgcolor": "white",
                    "plot_bgcolor": "#E5ECF6",
                    "polar": {
                      "angularaxis": {
                        "gridcolor": "white",
                        "linecolor": "white",
                        "ticks": ""
                      },
                      "bgcolor": "#E5ECF6",
                      "radialaxis": {
                        "gridcolor": "white",
                        "linecolor": "white",
                        "ticks": ""
                      }
                    },
                    "scene": {
                      "xaxis": {
                        "backgroundcolor": "#E5ECF6",
                        "gridcolor": "white",
                        "gridwidth": 2,
                        "linecolor": "white",
                        "showbackground": true,
                        "ticks": "",
                        "zerolinecolor": "white"
                      },
                      "yaxis": {
                        "backgroundcolor": "#E5ECF6",
                        "gridcolor": "white",
                        "gridwidth": 2,
                        "linecolor": "white",
                        "showbackground": true,
                        "ticks": "",
                        "zerolinecolor": "white"
                      },
                      "zaxis": {
                        "backgroundcolor": "#E5ECF6",
                        "gridcolor": "white",
                        "gridwidth": 2,
                        "linecolor": "white",
                        "showbackground": true,
                        "ticks": "",
                        "zerolinecolor": "white"
                      }
                    },
                    "shapedefaults": {
                      "line": {
                        "color": "#2a3f5f"
                      }
                    },
                    "ternary": {
                      "aaxis": {
                        "gridcolor": "white",
                        "linecolor": "white",
                        "ticks": ""
                      },
                      "baxis": {
                        "gridcolor": "white",
                        "linecolor": "white",
                        "ticks": ""
                      },
                      "bgcolor": "#E5ECF6",
                      "caxis": {
                        "gridcolor": "white",
                        "linecolor": "white",
                        "ticks": ""
                      }
                    },
                    "title": {
                      "x": 0.05
                    },
                    "xaxis": {
                      "automargin": true,
                      "gridcolor": "white",
                      "linecolor": "white",
                      "ticks": "",
                      "title": {
                        "standoff": 15
                      },
                      "zerolinecolor": "white",
                      "zerolinewidth": 2
                    },
                    "yaxis": {
                      "automargin": true,
                      "gridcolor": "white",
                      "linecolor": "white",
                      "ticks": "",
                      "title": {
                        "standoff": 15
                      },
                      "zerolinecolor": "white",
                      "zerolinewidth": 2
                    }
                  }
                },
                "xaxis": {
                  "anchor": "y",
                  "domain": [
                    0,
                    1
                  ],
                  "rangeselector": {
                    "buttons": [
                      {
                        "count": 1,
                        "label": "YTD",
                        "step": "year",
                        "stepmode": "todate"
                      },
                      {
                        "count": 1,
                        "label": "1y",
                        "step": "year",
                        "stepmode": "backward"
                      },
                      {
                        "count": 3,
                        "label": "3y",
                        "step": "year",
                        "stepmode": "backward"
                      },
                      {
                        "count": 5,
                        "label": "5y",
                        "step": "year",
                        "stepmode": "backward"
                      },
                      {
                        "count": 7,
                        "label": "7y",
                        "step": "year",
                        "stepmode": "backward"
                      },
                      {
                        "count": 10,
                        "label": "10y",
                        "step": "year",
                        "stepmode": "backward"
                      },
                      {
                        "step": "all"
                      }
                    ]
                  },
                  "rangeslider": {
                    "visible": true
                  },
                  "title": {
                    "text": "Date"
                  }
                },
                "yaxis": {
                  "anchor": "x",
                  "domain": [
                    0,
                    1
                  ],
                  "title": {
                    "text": "M-YOY"
                  }
                }
              }
            }
          },
          "metadata": {},
          "output_type": "display_data"
        }
      ],
      "source": [
        "import pandas as pd\n",
        "import plotly.express as px\n",
        "import plotly.graph_objects as go\n",
        "\n",
        "df_show = dfs_cpi[\n",
        "    (dfs_cpi[\"Hàng hóa\"] == \"CHỈ SỐ GIÁ TIÊU DÙNG\")\n",
        "    | (dfs_cpi[\"Hàng hóa\"] == \"Hàng ăn và dịch vụ ăn uống\")\n",
        "    | (dfs_cpi[\"Hàng hóa\"] == \"Nhà ở và vật liệu xây dựng\")\n",
        "    | (dfs_cpi[\"Hàng hóa\"] == \"Giao thông\")\n",
        "    | (dfs_cpi[\"Hàng hóa\"] == \"Giáo dục\")\n",
        "    | (dfs_cpi[\"Hàng hóa\"] == \"LẠM PHÁT CƠ BẢN\")\n",
        "]\n",
        "\n",
        "fig = px.area(df_show, x=\"Date\", y=\"M-YOY\", color=\"Hàng hóa\")\n",
        "\n",
        "fig.update_xaxes(\n",
        "    rangeslider_visible=True,\n",
        "    rangeselector=dict(\n",
        "        buttons=[\n",
        "            dict(count=1, label=\"YTD\", step=\"year\", stepmode=\"todate\"),\n",
        "            dict(count=1, label=\"1y\", step=\"year\", stepmode=\"backward\"),\n",
        "            dict(count=3, label=\"3y\", step=\"year\", stepmode=\"backward\"),\n",
        "            dict(count=5, label=\"5y\", step=\"year\", stepmode=\"backward\"),\n",
        "            dict(count=7, label=\"7y\", step=\"year\", stepmode=\"backward\"),\n",
        "            dict(count=10, label=\"10y\", step=\"year\", stepmode=\"backward\"),\n",
        "            dict(step=\"all\"),\n",
        "        ]\n",
        "    ),\n",
        ")\n",
        "\n",
        "fig.show()"
      ]
    },
    {
      "cell_type": "code",
      "execution_count": null,
      "metadata": {},
      "outputs": [],
      "source": []
    }
  ],
  "metadata": {
    "kernelspec": {
      "display_name": "vn-macroeconomics",
      "language": "python",
      "name": "python3"
    },
    "language_info": {
      "codemirror_mode": {
        "name": "ipython",
        "version": 3
      },
      "file_extension": ".py",
      "mimetype": "text/x-python",
      "name": "python",
      "nbconvert_exporter": "python",
      "pygments_lexer": "ipython3",
      "version": "3.9.16"
    },
    "orig_nbformat": 4
  },
  "nbformat": 4,
  "nbformat_minor": 2
}
