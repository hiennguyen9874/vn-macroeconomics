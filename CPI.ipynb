{
  "cells": [
    {
      "cell_type": "code",
      "execution_count": 1,
      "metadata": {},
      "outputs": [],
      "source": [
        "import os\n",
        "import contextlib\n",
        "\n",
        "import pandas as pd\n",
        "import seaborn as sns\n",
        "from datetime import date\n",
        "import plotly.express as px\n",
        "import plotly.graph_objects as go"
      ]
    },
    {
      "cell_type": "code",
      "execution_count": 2,
      "metadata": {},
      "outputs": [],
      "source": [
        "def find_sheet_name(sheet_names):\n",
        "    cpi_sheet_names = list(filter(lambda x: \"cpi\" in x.lower(), sheet_names))\n",
        "\n",
        "    if len(cpi_sheet_names) == 1:\n",
        "        return cpi_sheet_names[0]\n",
        "\n",
        "    if len(sheet_names) == 43:\n",
        "        return \"30\"\n",
        "\n",
        "    if len(sheet_names) == 11:\n",
        "        return \"Sheet2\"\n",
        "\n",
        "    raise RuntimeError(sheet_names)"
      ]
    },
    {
      "cell_type": "code",
      "execution_count": 3,
      "metadata": {},
      "outputs": [],
      "source": [
        "en_to_vn = {\n",
        "    \"CONSUMER PRICE INDEXES\": \"CHỈ SỐ GIÁ TIÊU DÙNG\",\n",
        "    \"Food and catering services\": \"Hàng ăn và dịch vụ ăn uống\",\n",
        "    \"Grain food\": \"Lương thực\",\n",
        "    \"Foodstuff\": \"Thực phẩm\",\n",
        "    \"Outdoor eating and drinking\": \"Ăn uống ngoài gia đình\",\n",
        "    \"Drinks and tobacco\": \"Đồ uống và thuốc lá\",\n",
        "    \"Textile, footgear and hats\": \"May mặc, mũ nón và giày dép \",\n",
        "    \"Housing and construction materials\": \"Nhà ở và vật liệu xây dựng\",\n",
        "    \"Family appliances and tools\": \"Thiết bị và đồ dùng gia đình\",\n",
        "    \"Medicaments and health service\": \"Thuốc và dịch vụ y tế\",\n",
        "    \"Medical service\": \"Dịch vụ y tế\",\n",
        "    \"Transport\": \"Giao thông\",\n",
        "    \"Postal and communicational service\": \"Bưu chính viễn thông\",\n",
        "    \"Education\": \"Giáo dục\",\n",
        "    \"Educational service\": \"Dịch vụ giáo dục\",\n",
        "    \"Culture, entertainment and tourism\": \"Văn hoá, giải trí và du lịch\",\n",
        "    \"Others\": \"Hàng hóa và dịch vụ khác\",\n",
        "    \"GOLD PRICE INDEXES\": \"CHỈ SỐ GIÁ VÀNG\",\n",
        "    \"US DOLLAR PRICE INDEXES\": \"CHỈ SỐ GIÁ ĐÔ LA MỸ\",\n",
        "    \"CORE INFLATION\": \"LẠM PHÁT CƠ BẢN\",\n",
        "}"
      ]
    },
    {
      "cell_type": "code",
      "execution_count": 4,
      "metadata": {},
      "outputs": [
        {
          "data": {
            "text/html": [
              "<div>\n",
              "<style scoped>\n",
              "    .dataframe tbody tr th:only-of-type {\n",
              "        vertical-align: middle;\n",
              "    }\n",
              "\n",
              "    .dataframe tbody tr th {\n",
              "        vertical-align: top;\n",
              "    }\n",
              "\n",
              "    .dataframe thead th {\n",
              "        text-align: right;\n",
              "    }\n",
              "</style>\n",
              "<table border=\"1\" class=\"dataframe\">\n",
              "  <thead>\n",
              "    <tr style=\"text-align: right;\">\n",
              "      <th></th>\n",
              "      <th>Hàng hóa</th>\n",
              "      <th>M-YOY</th>\n",
              "      <th>YTD-YOY</th>\n",
              "      <th>Date</th>\n",
              "    </tr>\n",
              "  </thead>\n",
              "  <tbody>\n",
              "    <tr>\n",
              "      <th>7</th>\n",
              "      <td>CHỈ SỐ GIÁ TIÊU DÙNG</td>\n",
              "      <td>103.371202</td>\n",
              "      <td>103.371202</td>\n",
              "      <td>2024-01-29</td>\n",
              "    </tr>\n",
              "    <tr>\n",
              "      <th>8</th>\n",
              "      <td>Hàng ăn và dịch vụ ăn uống</td>\n",
              "      <td>102.30706</td>\n",
              "      <td>102.30706</td>\n",
              "      <td>2024-01-29</td>\n",
              "    </tr>\n",
              "    <tr>\n",
              "      <th>9</th>\n",
              "      <td>Lương thực</td>\n",
              "      <td>115.632773</td>\n",
              "      <td>115.632773</td>\n",
              "      <td>2024-01-29</td>\n",
              "    </tr>\n",
              "    <tr>\n",
              "      <th>10</th>\n",
              "      <td>Thực phẩm</td>\n",
              "      <td>99.660067</td>\n",
              "      <td>99.660067</td>\n",
              "      <td>2024-01-29</td>\n",
              "    </tr>\n",
              "    <tr>\n",
              "      <th>11</th>\n",
              "      <td>Ăn uống ngoài gia đình</td>\n",
              "      <td>103.603724</td>\n",
              "      <td>103.603724</td>\n",
              "      <td>2024-01-29</td>\n",
              "    </tr>\n",
              "    <tr>\n",
              "      <th>12</th>\n",
              "      <td>Đồ uống và thuốc lá</td>\n",
              "      <td>101.704008</td>\n",
              "      <td>101.704008</td>\n",
              "      <td>2024-01-29</td>\n",
              "    </tr>\n",
              "    <tr>\n",
              "      <th>13</th>\n",
              "      <td>May mặc, giày dép và mũ nón</td>\n",
              "      <td>101.391665</td>\n",
              "      <td>101.391665</td>\n",
              "      <td>2024-01-29</td>\n",
              "    </tr>\n",
              "    <tr>\n",
              "      <th>14</th>\n",
              "      <td>Nhà ở và vật liệu xây dựng</td>\n",
              "      <td>106.38593</td>\n",
              "      <td>106.38593</td>\n",
              "      <td>2024-01-29</td>\n",
              "    </tr>\n",
              "    <tr>\n",
              "      <th>15</th>\n",
              "      <td>Thiết bị và đồ dùng gia đình</td>\n",
              "      <td>101.140597</td>\n",
              "      <td>101.140597</td>\n",
              "      <td>2024-01-29</td>\n",
              "    </tr>\n",
              "    <tr>\n",
              "      <th>16</th>\n",
              "      <td>Thuốc và dịch vụ y tế</td>\n",
              "      <td>106.519876</td>\n",
              "      <td>106.519876</td>\n",
              "      <td>2024-01-29</td>\n",
              "    </tr>\n",
              "    <tr>\n",
              "      <th>17</th>\n",
              "      <td>Dịch vụ y tế</td>\n",
              "      <td>108.226384</td>\n",
              "      <td>108.226384</td>\n",
              "      <td>2024-01-29</td>\n",
              "    </tr>\n",
              "    <tr>\n",
              "      <th>18</th>\n",
              "      <td>Giao thông</td>\n",
              "      <td>101.581124</td>\n",
              "      <td>101.581124</td>\n",
              "      <td>2024-01-29</td>\n",
              "    </tr>\n",
              "    <tr>\n",
              "      <th>19</th>\n",
              "      <td>Bưu chính viễn thông</td>\n",
              "      <td>98.590468</td>\n",
              "      <td>98.590468</td>\n",
              "      <td>2024-01-29</td>\n",
              "    </tr>\n",
              "    <tr>\n",
              "      <th>20</th>\n",
              "      <td>Giáo dục</td>\n",
              "      <td>108.392849</td>\n",
              "      <td>108.392849</td>\n",
              "      <td>2024-01-29</td>\n",
              "    </tr>\n",
              "    <tr>\n",
              "      <th>21</th>\n",
              "      <td>Dịch vụ giáo dục</td>\n",
              "      <td>108.904911</td>\n",
              "      <td>108.904911</td>\n",
              "      <td>2024-01-29</td>\n",
              "    </tr>\n",
              "    <tr>\n",
              "      <th>22</th>\n",
              "      <td>Văn hoá, giải trí và du lịch</td>\n",
              "      <td>100.895608</td>\n",
              "      <td>100.895608</td>\n",
              "      <td>2024-01-29</td>\n",
              "    </tr>\n",
              "    <tr>\n",
              "      <th>23</th>\n",
              "      <td>Đồ dùng và dịch vụ khác</td>\n",
              "      <td>105.788145</td>\n",
              "      <td>105.788145</td>\n",
              "      <td>2024-01-29</td>\n",
              "    </tr>\n",
              "    <tr>\n",
              "      <th>24</th>\n",
              "      <td>CHỈ SỐ GIÁ VÀNG</td>\n",
              "      <td>115.428749</td>\n",
              "      <td>115.428749</td>\n",
              "      <td>2024-01-29</td>\n",
              "    </tr>\n",
              "    <tr>\n",
              "      <th>25</th>\n",
              "      <td>CHỈ SỐ GIÁ ĐÔ LA MỸ</td>\n",
              "      <td>103.689997</td>\n",
              "      <td>103.689997</td>\n",
              "      <td>2024-01-29</td>\n",
              "    </tr>\n",
              "    <tr>\n",
              "      <th>26</th>\n",
              "      <td>LẠM PHÁT CƠ BẢN</td>\n",
              "      <td>2.72</td>\n",
              "      <td>2.72</td>\n",
              "      <td>2024-01-29</td>\n",
              "    </tr>\n",
              "  </tbody>\n",
              "</table>\n",
              "</div>"
            ],
            "text/plain": [
              "                        Hàng hóa       M-YOY     YTD-YOY       Date\n",
              "7           CHỈ SỐ GIÁ TIÊU DÙNG  103.371202  103.371202 2024-01-29\n",
              "8     Hàng ăn và dịch vụ ăn uống   102.30706   102.30706 2024-01-29\n",
              "9                     Lương thực  115.632773  115.632773 2024-01-29\n",
              "10                     Thực phẩm   99.660067   99.660067 2024-01-29\n",
              "11        Ăn uống ngoài gia đình  103.603724  103.603724 2024-01-29\n",
              "12           Đồ uống và thuốc lá  101.704008  101.704008 2024-01-29\n",
              "13   May mặc, giày dép và mũ nón  101.391665  101.391665 2024-01-29\n",
              "14    Nhà ở và vật liệu xây dựng   106.38593   106.38593 2024-01-29\n",
              "15  Thiết bị và đồ dùng gia đình  101.140597  101.140597 2024-01-29\n",
              "16         Thuốc và dịch vụ y tế  106.519876  106.519876 2024-01-29\n",
              "17                  Dịch vụ y tế  108.226384  108.226384 2024-01-29\n",
              "18                    Giao thông  101.581124  101.581124 2024-01-29\n",
              "19          Bưu chính viễn thông   98.590468   98.590468 2024-01-29\n",
              "20                      Giáo dục  108.392849  108.392849 2024-01-29\n",
              "21              Dịch vụ giáo dục  108.904911  108.904911 2024-01-29\n",
              "22  Văn hoá, giải trí và du lịch  100.895608  100.895608 2024-01-29\n",
              "23       Đồ dùng và dịch vụ khác  105.788145  105.788145 2024-01-29\n",
              "24               CHỈ SỐ GIÁ VÀNG  115.428749  115.428749 2024-01-29\n",
              "25           CHỈ SỐ GIÁ ĐÔ LA MỸ  103.689997  103.689997 2024-01-29\n",
              "26               LẠM PHÁT CƠ BẢN        2.72        2.72 2024-01-29"
            ]
          },
          "execution_count": 4,
          "metadata": {},
          "output_type": "execute_result"
        }
      ],
      "source": [
        "def get_cpi(xl, sheet_name, date):\n",
        "    df = xl.parse(sheet_name)\n",
        "\n",
        "    if (\n",
        "        len(\n",
        "            df[df.columns[1]][\n",
        "                (df[df.columns[1]] == \"Hàng ăn và dịch vụ ăn uống\")\n",
        "                | (df[df.columns[1]] == \"Food and catering services\")\n",
        "            ].index\n",
        "        )\n",
        "        > 0\n",
        "    ):\n",
        "        df[df.columns[1]] = df[df.columns[1]].fillna(df[df.columns[0]])\n",
        "        df = df.drop(columns=[df.columns[0]])\n",
        "\n",
        "    if (\n",
        "        len(\n",
        "            df[df.columns[1]][\n",
        "                (df[df.columns[1]] == \"Lương thực\")\n",
        "                | (df[df.columns[1]] == \"Grain food\")\n",
        "                | (df[df.columns[1]] == \" Lương thực\")\n",
        "            ].index\n",
        "        )\n",
        "        > 0\n",
        "    ):\n",
        "        df[df.columns[1]] = df[df.columns[1]].fillna(df[df.columns[0]])\n",
        "        df = df.drop(columns=[df.columns[0]])\n",
        "\n",
        "    if len(df.columns) == 7:\n",
        "        df = df.drop(columns=[df.columns[1], df.columns[3], df.columns[4], df.columns[5]])\n",
        "    elif len(df.columns) == 6:\n",
        "        df = df.drop(columns=[df.columns[1], df.columns[3], df.columns[4]])\n",
        "    elif len(df.columns) == 4 and int(date.split(\"-\")[1]) == 1:\n",
        "        df = df.drop(columns=[df.columns[1], df.columns[3]])\n",
        "        df[\"A\"] = df[df.columns[1]]\n",
        "    elif len(df.columns) == 5 and int(date.split(\"-\")[1]) == 12:\n",
        "        df = df.drop(columns=[df.columns[1], df.columns[2], df.columns[4]])\n",
        "        df[\"A\"] = df[df.columns[1]]\n",
        "    else:\n",
        "        raise RuntimeError(df.columns)\n",
        "\n",
        "    df.columns = [\"Hàng hóa\", \"M-YOY\", \"YTD-YOY\"]\n",
        "\n",
        "    df[df.columns[0]] = (\n",
        "        df[df.columns[0]].replace(r\"\\s+\", \" \", regex=True).replace(r\"\\n\", \" \", regex=True)\n",
        "    )\n",
        "\n",
        "    df[df.columns[0]] = df[df.columns[0]].str.strip()\n",
        "\n",
        "    df = df.drop(\n",
        "        list(\n",
        "            range(\n",
        "                df[df.columns[0]][\n",
        "                    (df[df.columns[0]] == \"CHỈ SỐ GIÁ TIÊU DÙNG\")\n",
        "                    | ((df[df.columns[0]] == \"CONSUMER PRICE INDEXES\"))\n",
        "                ].index[0]\n",
        "            )\n",
        "        )\n",
        "    )\n",
        "\n",
        "    if len(df[df.columns[0]][df[df.columns[0]] == \"CONSUMER PRICE INDEXES\"].index) > 0:\n",
        "        df[df.columns[0]] = df[df.columns[0]].map(en_to_vn)\n",
        "\n",
        "    df = df[pd.to_numeric(df[\"M-YOY\"], errors=\"coerce\").notnull()]\n",
        "    df = df[pd.to_numeric(df[\"YTD-YOY\"], errors=\"coerce\").notnull()]\n",
        "\n",
        "    df[\"Date\"] = date\n",
        "    df[\"Date\"] = pd.to_datetime(df[\"Date\"], dayfirst=False)\n",
        "\n",
        "    return df\n",
        "\n",
        "\n",
        "xl = pd.ExcelFile(\"datas/2024-01-29-02-Bieu-T1-2024.xlsx\")\n",
        "\n",
        "sheet_name = find_sheet_name(xl.sheet_names)\n",
        "\n",
        "get_cpi(xl, sheet_name, \"2024-01-29\")"
      ]
    },
    {
      "cell_type": "code",
      "execution_count": 5,
      "metadata": {},
      "outputs": [],
      "source": [
        "import os\n",
        "import contextlib\n",
        "\n",
        "dfs_cpi_origin = []\n",
        "for file_name in sorted(\n",
        "    os.listdir(\"./datas\"),\n",
        "    key=lambda filename: f\"{filename.split('-')[0]}-{filename.split('-')[1]}-{filename.split('-')[2]}\",\n",
        "    reverse=True,\n",
        "):\n",
        "    if file_name.startswith(\".~\"):\n",
        "        continue\n",
        "\n",
        "    try:\n",
        "        file_path = os.path.join(\"./datas\", file_name)\n",
        "\n",
        "        year = int(file_name.split(\"-\")[0])\n",
        "        month = int(file_name.split(\"-\")[1])\n",
        "        day = int(file_name.split(\"-\")[2])\n",
        "\n",
        "        if year < 2014:\n",
        "            continue\n",
        "\n",
        "        xl = pd.ExcelFile(file_path)\n",
        "\n",
        "        df_cpi = get_cpi(xl, find_sheet_name(xl.sheet_names), f\"{year}-{month}-{day}\")\n",
        "\n",
        "        dfs_cpi_origin.append(df_cpi)\n",
        "    except Exception as e:\n",
        "        print(file_name)\n",
        "        raise e"
      ]
    },
    {
      "cell_type": "code",
      "execution_count": 6,
      "metadata": {},
      "outputs": [
        {
          "data": {
            "text/html": [
              "<div>\n",
              "<style scoped>\n",
              "    .dataframe tbody tr th:only-of-type {\n",
              "        vertical-align: middle;\n",
              "    }\n",
              "\n",
              "    .dataframe tbody tr th {\n",
              "        vertical-align: top;\n",
              "    }\n",
              "\n",
              "    .dataframe thead th {\n",
              "        text-align: right;\n",
              "    }\n",
              "</style>\n",
              "<table border=\"1\" class=\"dataframe\">\n",
              "  <thead>\n",
              "    <tr style=\"text-align: right;\">\n",
              "      <th></th>\n",
              "      <th>Hàng hóa</th>\n",
              "      <th>M-YOY</th>\n",
              "      <th>YTD-YOY</th>\n",
              "      <th>Date</th>\n",
              "    </tr>\n",
              "  </thead>\n",
              "  <tbody>\n",
              "    <tr>\n",
              "      <th>0</th>\n",
              "      <td>CHỈ SỐ GIÁ TIÊU DÙNG</td>\n",
              "      <td>103.976409</td>\n",
              "      <td>103.673209</td>\n",
              "      <td>2024-02-29</td>\n",
              "    </tr>\n",
              "    <tr>\n",
              "      <th>1</th>\n",
              "      <td>Hàng ăn và dịch vụ ăn uống</td>\n",
              "      <td>104.234976</td>\n",
              "      <td>103.266519</td>\n",
              "      <td>2024-02-29</td>\n",
              "    </tr>\n",
              "    <tr>\n",
              "      <th>2</th>\n",
              "      <td>Lương thực</td>\n",
              "      <td>117.355578</td>\n",
              "      <td>116.490991</td>\n",
              "      <td>2024-02-29</td>\n",
              "    </tr>\n",
              "    <tr>\n",
              "      <th>3</th>\n",
              "      <td>Thực phẩm</td>\n",
              "      <td>102.137883</td>\n",
              "      <td>100.891369</td>\n",
              "      <td>2024-02-29</td>\n",
              "    </tr>\n",
              "    <tr>\n",
              "      <th>4</th>\n",
              "      <td>Ăn uống ngoài gia đình</td>\n",
              "      <td>104.203352</td>\n",
              "      <td>103.903106</td>\n",
              "      <td>2024-02-29</td>\n",
              "    </tr>\n",
              "    <tr>\n",
              "      <th>...</th>\n",
              "      <td>...</td>\n",
              "      <td>...</td>\n",
              "      <td>...</td>\n",
              "      <td>...</td>\n",
              "    </tr>\n",
              "    <tr>\n",
              "      <th>2420</th>\n",
              "      <td>Dịch vụ giáo dục</td>\n",
              "      <td>112.45</td>\n",
              "      <td>112.45</td>\n",
              "      <td>2014-01-29</td>\n",
              "    </tr>\n",
              "    <tr>\n",
              "      <th>2421</th>\n",
              "      <td>Văn hoá, giải trí và du lịch</td>\n",
              "      <td>102.9</td>\n",
              "      <td>102.9</td>\n",
              "      <td>2014-01-29</td>\n",
              "    </tr>\n",
              "    <tr>\n",
              "      <th>2422</th>\n",
              "      <td>Đồ dùng và dịch vụ khác</td>\n",
              "      <td>104.91</td>\n",
              "      <td>104.91</td>\n",
              "      <td>2014-01-29</td>\n",
              "    </tr>\n",
              "    <tr>\n",
              "      <th>2423</th>\n",
              "      <td>CHỈ SỐ GIÁ VÀNG</td>\n",
              "      <td>75.57</td>\n",
              "      <td>75.57</td>\n",
              "      <td>2014-01-29</td>\n",
              "    </tr>\n",
              "    <tr>\n",
              "      <th>2424</th>\n",
              "      <td>CHỈ SỐ GIÁ ĐÔ LA MỸ</td>\n",
              "      <td>101.11</td>\n",
              "      <td>101.11</td>\n",
              "      <td>2014-01-29</td>\n",
              "    </tr>\n",
              "  </tbody>\n",
              "</table>\n",
              "<p>2425 rows × 4 columns</p>\n",
              "</div>"
            ],
            "text/plain": [
              "                          Hàng hóa       M-YOY     YTD-YOY       Date\n",
              "0             CHỈ SỐ GIÁ TIÊU DÙNG  103.976409  103.673209 2024-02-29\n",
              "1       Hàng ăn và dịch vụ ăn uống  104.234976  103.266519 2024-02-29\n",
              "2                       Lương thực  117.355578  116.490991 2024-02-29\n",
              "3                        Thực phẩm  102.137883  100.891369 2024-02-29\n",
              "4           Ăn uống ngoài gia đình  104.203352  103.903106 2024-02-29\n",
              "...                            ...         ...         ...        ...\n",
              "2420              Dịch vụ giáo dục      112.45      112.45 2014-01-29\n",
              "2421  Văn hoá, giải trí và du lịch       102.9       102.9 2014-01-29\n",
              "2422       Đồ dùng và dịch vụ khác      104.91      104.91 2014-01-29\n",
              "2423               CHỈ SỐ GIÁ VÀNG       75.57       75.57 2014-01-29\n",
              "2424           CHỈ SỐ GIÁ ĐÔ LA MỸ      101.11      101.11 2014-01-29\n",
              "\n",
              "[2425 rows x 4 columns]"
            ]
          },
          "execution_count": 6,
          "metadata": {},
          "output_type": "execute_result"
        }
      ],
      "source": [
        "dfs_cpi = pd.concat(dfs_cpi_origin, ignore_index=True, axis=0)\n",
        "dfs_cpi[\"Date\"] = pd.to_datetime(dfs_cpi[\"Date\"], dayfirst=False)\n",
        "dfs_cpi"
      ]
    },
    {
      "cell_type": "code",
      "execution_count": 7,
      "metadata": {},
      "outputs": [
        {
          "data": {
            "text/html": [
              "<div>\n",
              "<style scoped>\n",
              "    .dataframe tbody tr th:only-of-type {\n",
              "        vertical-align: middle;\n",
              "    }\n",
              "\n",
              "    .dataframe tbody tr th {\n",
              "        vertical-align: top;\n",
              "    }\n",
              "\n",
              "    .dataframe thead th {\n",
              "        text-align: right;\n",
              "    }\n",
              "</style>\n",
              "<table border=\"1\" class=\"dataframe\">\n",
              "  <thead>\n",
              "    <tr style=\"text-align: right;\">\n",
              "      <th></th>\n",
              "      <th>Hàng hóa</th>\n",
              "      <th>M-YOY</th>\n",
              "      <th>YTD-YOY</th>\n",
              "      <th>Date</th>\n",
              "    </tr>\n",
              "  </thead>\n",
              "  <tbody>\n",
              "    <tr>\n",
              "      <th>0</th>\n",
              "      <td>CHỈ SỐ GIÁ TIÊU DÙNG</td>\n",
              "      <td>3.976409</td>\n",
              "      <td>3.673209</td>\n",
              "      <td>2024-02-29</td>\n",
              "    </tr>\n",
              "    <tr>\n",
              "      <th>1</th>\n",
              "      <td>Hàng ăn và dịch vụ ăn uống</td>\n",
              "      <td>4.234976</td>\n",
              "      <td>3.266519</td>\n",
              "      <td>2024-02-29</td>\n",
              "    </tr>\n",
              "    <tr>\n",
              "      <th>2</th>\n",
              "      <td>Lương thực</td>\n",
              "      <td>17.355578</td>\n",
              "      <td>16.490991</td>\n",
              "      <td>2024-02-29</td>\n",
              "    </tr>\n",
              "    <tr>\n",
              "      <th>3</th>\n",
              "      <td>Thực phẩm</td>\n",
              "      <td>2.137883</td>\n",
              "      <td>0.891369</td>\n",
              "      <td>2024-02-29</td>\n",
              "    </tr>\n",
              "    <tr>\n",
              "      <th>4</th>\n",
              "      <td>Ăn uống ngoài gia đình</td>\n",
              "      <td>4.203352</td>\n",
              "      <td>3.903106</td>\n",
              "      <td>2024-02-29</td>\n",
              "    </tr>\n",
              "    <tr>\n",
              "      <th>...</th>\n",
              "      <td>...</td>\n",
              "      <td>...</td>\n",
              "      <td>...</td>\n",
              "      <td>...</td>\n",
              "    </tr>\n",
              "    <tr>\n",
              "      <th>2420</th>\n",
              "      <td>Dịch vụ giáo dục</td>\n",
              "      <td>12.45</td>\n",
              "      <td>12.45</td>\n",
              "      <td>2014-01-29</td>\n",
              "    </tr>\n",
              "    <tr>\n",
              "      <th>2421</th>\n",
              "      <td>Văn hoá, giải trí và du lịch</td>\n",
              "      <td>2.9</td>\n",
              "      <td>2.9</td>\n",
              "      <td>2014-01-29</td>\n",
              "    </tr>\n",
              "    <tr>\n",
              "      <th>2422</th>\n",
              "      <td>Đồ dùng và dịch vụ khác</td>\n",
              "      <td>4.91</td>\n",
              "      <td>4.91</td>\n",
              "      <td>2014-01-29</td>\n",
              "    </tr>\n",
              "    <tr>\n",
              "      <th>2423</th>\n",
              "      <td>CHỈ SỐ GIÁ VÀNG</td>\n",
              "      <td>-24.43</td>\n",
              "      <td>-24.43</td>\n",
              "      <td>2014-01-29</td>\n",
              "    </tr>\n",
              "    <tr>\n",
              "      <th>2424</th>\n",
              "      <td>CHỈ SỐ GIÁ ĐÔ LA MỸ</td>\n",
              "      <td>1.11</td>\n",
              "      <td>1.11</td>\n",
              "      <td>2014-01-29</td>\n",
              "    </tr>\n",
              "  </tbody>\n",
              "</table>\n",
              "<p>2425 rows × 4 columns</p>\n",
              "</div>"
            ],
            "text/plain": [
              "                          Hàng hóa      M-YOY    YTD-YOY       Date\n",
              "0             CHỈ SỐ GIÁ TIÊU DÙNG   3.976409   3.673209 2024-02-29\n",
              "1       Hàng ăn và dịch vụ ăn uống   4.234976   3.266519 2024-02-29\n",
              "2                       Lương thực  17.355578  16.490991 2024-02-29\n",
              "3                        Thực phẩm   2.137883   0.891369 2024-02-29\n",
              "4           Ăn uống ngoài gia đình   4.203352   3.903106 2024-02-29\n",
              "...                            ...        ...        ...        ...\n",
              "2420              Dịch vụ giáo dục      12.45      12.45 2014-01-29\n",
              "2421  Văn hoá, giải trí và du lịch        2.9        2.9 2014-01-29\n",
              "2422       Đồ dùng và dịch vụ khác       4.91       4.91 2014-01-29\n",
              "2423               CHỈ SỐ GIÁ VÀNG     -24.43     -24.43 2014-01-29\n",
              "2424           CHỈ SỐ GIÁ ĐÔ LA MỸ       1.11       1.11 2014-01-29\n",
              "\n",
              "[2425 rows x 4 columns]"
            ]
          },
          "execution_count": 7,
          "metadata": {},
          "output_type": "execute_result"
        }
      ],
      "source": [
        "dfs_cpi.loc[dfs_cpi[\"Hàng hóa\"] != \"LẠM PHÁT CƠ BẢN\", \"M-YOY\"] = (\n",
        "    dfs_cpi.loc[dfs_cpi[\"Hàng hóa\"] != \"LẠM PHÁT CƠ BẢN\", \"M-YOY\"].astype(float) - 100\n",
        ")\n",
        "dfs_cpi.loc[dfs_cpi[\"Hàng hóa\"] != \"LẠM PHÁT CƠ BẢN\", \"YTD-YOY\"] = (\n",
        "    dfs_cpi.loc[dfs_cpi[\"Hàng hóa\"] != \"LẠM PHÁT CƠ BẢN\", \"YTD-YOY\"].astype(float) - 100\n",
        ")\n",
        "dfs_cpi"
      ]
    },
    {
      "cell_type": "code",
      "execution_count": 8,
      "metadata": {},
      "outputs": [
        {
          "data": {
            "application/vnd.plotly.v1+json": {
              "config": {
                "plotlyServerURL": "https://plot.ly"
              },
              "data": [
                {
                  "fillpattern": {
                    "shape": ""
                  },
                  "hovertemplate": "Hàng hóa=CHỈ SỐ GIÁ TIÊU DÙNG<br>Date=%{x}<br>M-YOY=%{y}<extra></extra>",
                  "legendgroup": "CHỈ SỐ GIÁ TIÊU DÙNG",
                  "line": {
                    "color": "#636efa"
                  },
                  "marker": {
                    "symbol": "circle"
                  },
                  "mode": "lines",
                  "name": "CHỈ SỐ GIÁ TIÊU DÙNG",
                  "orientation": "v",
                  "showlegend": true,
                  "stackgroup": "1",
                  "type": "scatter",
                  "x": [
                    "2024-02-29T00:00:00",
                    "2024-01-29T00:00:00",
                    "2023-12-29T00:00:00",
                    "2023-11-29T00:00:00",
                    "2023-10-29T00:00:00",
                    "2023-09-29T00:00:00",
                    "2023-08-29T00:00:00",
                    "2023-07-29T00:00:00",
                    "2023-06-29T00:00:00",
                    "2023-05-29T00:00:00",
                    "2023-04-29T00:00:00",
                    "2023-03-29T00:00:00",
                    "2023-02-28T00:00:00",
                    "2023-01-29T00:00:00",
                    "2022-12-29T00:00:00",
                    "2022-11-29T00:00:00",
                    "2022-10-29T00:00:00",
                    "2022-09-29T00:00:00",
                    "2022-08-29T00:00:00",
                    "2022-07-29T00:00:00",
                    "2022-06-29T00:00:00",
                    "2022-05-29T00:00:00",
                    "2022-04-29T00:00:00",
                    "2022-03-29T00:00:00",
                    "2022-02-28T00:00:00",
                    "2022-01-29T00:00:00",
                    "2021-12-29T00:00:00",
                    "2021-11-29T00:00:00",
                    "2021-10-29T00:00:00",
                    "2021-09-29T00:00:00",
                    "2021-08-29T00:00:00",
                    "2021-07-29T00:00:00",
                    "2021-06-29T00:00:00",
                    "2021-05-29T00:00:00",
                    "2021-04-29T00:00:00",
                    "2021-03-29T00:00:00",
                    "2021-02-28T00:00:00",
                    "2021-01-29T00:00:00",
                    "2020-12-27T00:00:00",
                    "2020-11-29T00:00:00",
                    "2020-10-29T00:00:00",
                    "2020-09-29T00:00:00",
                    "2020-08-29T00:00:00",
                    "2020-07-29T00:00:00",
                    "2020-06-29T00:00:00",
                    "2020-05-29T00:00:00",
                    "2020-04-29T00:00:00",
                    "2020-03-27T00:00:00",
                    "2020-02-29T00:00:00",
                    "2020-01-29T00:00:00",
                    "2019-12-27T00:00:00",
                    "2019-11-29T00:00:00",
                    "2019-10-29T00:00:00",
                    "2019-09-28T00:00:00",
                    "2019-08-29T00:00:00",
                    "2019-07-29T00:00:00",
                    "2019-06-28T00:00:00",
                    "2019-05-27T00:00:00",
                    "2019-04-29T00:00:00",
                    "2019-03-29T00:00:00",
                    "2019-02-28T00:00:00",
                    "2019-01-29T00:00:00",
                    "2018-12-27T00:00:00",
                    "2018-11-29T00:00:00",
                    "2018-10-29T00:00:00",
                    "2018-09-28T00:00:00",
                    "2018-08-29T00:00:00",
                    "2018-07-27T00:00:00",
                    "2018-06-29T00:00:00",
                    "2018-05-29T00:00:00",
                    "2018-04-27T00:00:00",
                    "2018-03-29T00:00:00",
                    "2018-02-28T00:00:00",
                    "2018-01-29T00:00:00",
                    "2017-12-29T00:00:00",
                    "2017-11-29T00:00:00",
                    "2017-10-27T00:00:00",
                    "2017-09-29T00:00:00",
                    "2017-08-29T00:00:00",
                    "2017-07-28T00:00:00",
                    "2017-06-29T00:00:00",
                    "2017-05-29T00:00:00",
                    "2017-04-28T00:00:00",
                    "2017-03-29T00:00:00",
                    "2017-02-28T00:00:00",
                    "2017-01-27T00:00:00",
                    "2016-12-29T00:00:00",
                    "2016-11-29T00:00:00",
                    "2016-10-28T00:00:00",
                    "2016-09-29T00:00:00",
                    "2016-08-29T00:00:00",
                    "2016-07-29T00:00:00",
                    "2016-06-29T00:00:00",
                    "2016-05-30T00:00:00",
                    "2016-04-29T00:00:00",
                    "2016-03-29T00:00:00",
                    "2016-02-29T00:00:00",
                    "2016-01-29T00:00:00",
                    "2015-12-29T00:00:00",
                    "2015-11-30T00:00:00",
                    "2015-10-29T00:00:00",
                    "2015-09-29T00:00:00",
                    "2015-08-28T00:00:00",
                    "2015-07-29T00:00:00",
                    "2015-06-29T00:00:00",
                    "2015-05-29T00:00:00",
                    "2015-04-29T00:00:00",
                    "2015-03-29T00:00:00",
                    "2015-02-28T00:00:00",
                    "2015-01-29T00:00:00"
                  ],
                  "xaxis": "x",
                  "y": [
                    3.976409010562662,
                    3.3712019907169974,
                    3.5810107731790026,
                    3.4482700501140044,
                    3.5913971298803915,
                    3.656606108291953,
                    2.9574258158239957,
                    2.063294003648622,
                    2.0028412826913495,
                    2.4280760814012723,
                    2.8074412228211685,
                    3.3509953033500324,
                    4.31184970587924,
                    4.886635580211404,
                    4.5488581081517765,
                    4.372043887313296,
                    4.303112125995796,
                    3.9403511154482658,
                    2.8908863403781453,
                    3.14089894356772,
                    3.3742096478545136,
                    2.862910527975842,
                    2.6379764651902207,
                    2.4098224076842314,
                    1.4239792506967746,
                    1.9418317581578322,
                    1.8103747830905235,
                    2.100450266050686,
                    1.7653089518020266,
                    2.060009230939656,
                    2.8199306153697563,
                    2.641876611696574,
                    2.414299027857709,
                    2.895768103231646,
                    2.7020135917351666,
                    1.156167036003069,
                    0.7002495741307797,
                    -0.9712749181259568,
                    0.18703449515842863,
                    1.484325221418075,
                    2.4698208009467066,
                    2.980911119800993,
                    3.1771543753644096,
                    3.3893353086353244,
                    3.1651518900589934,
                    2.3958592825003677,
                    2.931756259153346,
                    4.868552809587044,
                    5.404710909541421,
                    6.427368778051658,
                    5.234548934921975,
                    3.5193334098700007,
                    2.236653624526255,
                    1.9789912899080804,
                    2.2618051316336505,
                    2.4372041438269036,
                    2.1588755189302304,
                    2.8753633614822434,
                    2.932179086623151,
                    2.69996273937754,
                    2.6387279133522696,
                    2.562971959510719,
                    2.9829651482613997,
                    3.4579949214431167,
                    3.8936715334673124,
                    3.980000000000004,
                    3.980000000000004,
                    4.459999999999994,
                    4.670000000000002,
                    3.8599999999999994,
                    2.75,
                    2.6599999999999966,
                    3.1500000000000057,
                    2.6500000000000057,
                    0.20999999999999375,
                    2.6200000000000045,
                    2.9757536961567723,
                    3.4046244885168875,
                    3.354254463436007,
                    2.5197778178611685,
                    2.538518378806458,
                    3.191370231141491,
                    4.299549822648558,
                    4.6453960627804065,
                    5.0229039531354545,
                    5.217162241187083,
                    0.22750000000000625,
                    4.516962565022027,
                    4.089972972663091,
                    3.3448494849174892,
                    2.570763484514771,
                    2.3941123789995373,
                    2.396157643308783,
                    2.279456121376569,
                    1.8900000000000006,
                    1.6899999999999977,
                    1.269999999999996,
                    0.7999999999999972,
                    0.01999999999999602,
                    0.3389076987480024,
                    0,
                    0,
                    0.6099999999999994,
                    0.9000000000000057,
                    1.0018051087605073,
                    0.9500000000000028,
                    0.9899999999999949,
                    0.9300000000000068,
                    0.3366833821732911,
                    0.9399999999999977
                  ],
                  "yaxis": "y"
                },
                {
                  "fillpattern": {
                    "shape": ""
                  },
                  "hovertemplate": "Hàng hóa=LẠM PHÁT CƠ BẢN<br>Date=%{x}<br>M-YOY=%{y}<extra></extra>",
                  "legendgroup": "LẠM PHÁT CƠ BẢN",
                  "line": {
                    "color": "#EF553B"
                  },
                  "marker": {
                    "symbol": "circle"
                  },
                  "mode": "lines",
                  "name": "LẠM PHÁT CƠ BẢN",
                  "orientation": "v",
                  "showlegend": true,
                  "stackgroup": "1",
                  "type": "scatter",
                  "x": [
                    "2024-02-29T00:00:00",
                    "2024-01-29T00:00:00",
                    "2023-12-29T00:00:00",
                    "2023-11-29T00:00:00",
                    "2023-10-29T00:00:00",
                    "2023-09-29T00:00:00",
                    "2023-08-29T00:00:00",
                    "2023-07-29T00:00:00",
                    "2023-06-29T00:00:00",
                    "2023-05-29T00:00:00",
                    "2023-04-29T00:00:00",
                    "2023-03-29T00:00:00",
                    "2023-02-28T00:00:00",
                    "2023-01-29T00:00:00",
                    "2022-12-29T00:00:00",
                    "2022-11-29T00:00:00",
                    "2022-10-29T00:00:00",
                    "2022-09-29T00:00:00",
                    "2022-08-29T00:00:00",
                    "2022-07-29T00:00:00",
                    "2022-06-29T00:00:00",
                    "2022-05-29T00:00:00",
                    "2022-04-29T00:00:00",
                    "2022-03-29T00:00:00",
                    "2022-02-28T00:00:00",
                    "2022-01-29T00:00:00",
                    "2021-12-29T00:00:00",
                    "2021-11-29T00:00:00",
                    "2021-10-29T00:00:00",
                    "2021-09-29T00:00:00",
                    "2021-08-29T00:00:00",
                    "2021-07-29T00:00:00",
                    "2021-06-29T00:00:00",
                    "2021-05-29T00:00:00",
                    "2021-04-29T00:00:00",
                    "2021-03-29T00:00:00",
                    "2021-02-28T00:00:00",
                    "2021-01-29T00:00:00",
                    "2020-12-27T00:00:00",
                    "2020-11-29T00:00:00",
                    "2020-10-29T00:00:00",
                    "2020-09-29T00:00:00",
                    "2020-08-29T00:00:00",
                    "2020-07-29T00:00:00",
                    "2020-06-29T00:00:00",
                    "2020-05-29T00:00:00",
                    "2020-04-29T00:00:00",
                    "2020-03-27T00:00:00",
                    "2020-02-29T00:00:00",
                    "2020-01-29T00:00:00",
                    "2019-12-27T00:00:00",
                    "2019-11-29T00:00:00",
                    "2019-10-29T00:00:00",
                    "2019-09-28T00:00:00",
                    "2019-08-29T00:00:00",
                    "2019-07-29T00:00:00",
                    "2019-06-28T00:00:00",
                    "2019-05-27T00:00:00",
                    "2019-04-29T00:00:00",
                    "2019-03-29T00:00:00",
                    "2019-02-28T00:00:00",
                    "2019-01-29T00:00:00",
                    "2018-12-27T00:00:00",
                    "2018-11-29T00:00:00",
                    "2018-10-29T00:00:00",
                    "2018-09-28T00:00:00",
                    "2018-08-29T00:00:00",
                    "2018-07-27T00:00:00",
                    "2018-06-29T00:00:00",
                    "2018-05-29T00:00:00",
                    "2018-04-27T00:00:00",
                    "2018-03-29T00:00:00",
                    "2018-02-28T00:00:00",
                    "2018-01-29T00:00:00",
                    "2017-12-29T00:00:00",
                    "2017-11-29T00:00:00",
                    "2017-10-27T00:00:00",
                    "2017-09-29T00:00:00",
                    "2017-08-29T00:00:00",
                    "2017-07-28T00:00:00",
                    "2017-06-29T00:00:00",
                    "2017-05-29T00:00:00",
                    "2017-04-28T00:00:00",
                    "2017-03-29T00:00:00",
                    "2017-02-28T00:00:00",
                    "2017-01-27T00:00:00",
                    "2016-12-29T00:00:00",
                    "2016-11-29T00:00:00",
                    "2016-10-28T00:00:00",
                    "2016-09-29T00:00:00",
                    "2016-08-29T00:00:00",
                    "2016-07-29T00:00:00",
                    "2016-06-29T00:00:00",
                    "2016-05-30T00:00:00",
                    "2016-04-29T00:00:00",
                    "2016-03-29T00:00:00",
                    "2016-02-29T00:00:00",
                    "2016-01-29T00:00:00",
                    "2015-12-29T00:00:00",
                    "2015-11-30T00:00:00",
                    "2015-10-29T00:00:00",
                    "2015-09-29T00:00:00",
                    "2015-08-28T00:00:00",
                    "2015-07-29T00:00:00",
                    "2015-06-29T00:00:00"
                  ],
                  "xaxis": "x",
                  "y": [
                    2.9563758146040398,
                    2.72,
                    2.98,
                    3.15,
                    3.4287333542720733,
                    3.8036635749210346,
                    4.02101048910859,
                    4.10972978153703,
                    4.33,
                    4.54,
                    4.56,
                    4.879999140299018,
                    4.957385198216779,
                    5.205370147341082,
                    4.99,
                    4.805018,
                    4.47,
                    3.8233418972697386,
                    3.0638376621952013,
                    2.6289653518277944,
                    1.98,
                    1.61,
                    1.47,
                    1.091050239664848,
                    0.6764798446099451,
                    0.6605682417216041,
                    0.67,
                    0.58,
                    0.5,
                    0.7366290871253733,
                    0.977033596968635,
                    0.986930902212646,
                    1.14,
                    1.13,
                    0.95,
                    0.7320584039380851,
                    0.7939319541711232,
                    0.49112364260386343,
                    0.99,
                    1.61,
                    1.879267638213089,
                    1.96986485724231,
                    2.1582867189257504,
                    2.31,
                    2.45,
                    2.5446985643234887,
                    2.71,
                    2.952667198177439,
                    2.9437326473070957,
                    3.254333857930658,
                    2.78,
                    2.1823754325511535,
                    1.9916034363977042,
                    1.96,
                    1.95,
                    2.04,
                    1.96,
                    1.9,
                    1.88,
                    1.8410577714196963,
                    1.82,
                    1.83,
                    1.7,
                    1.72,
                    1.67,
                    1.61,
                    1.54,
                    1.41,
                    1.37,
                    1.37,
                    1.33,
                    1.38,
                    1.47,
                    1.18,
                    0.11,
                    1.28,
                    1.32,
                    1.32,
                    1.31,
                    1.3,
                    1.29,
                    1.33,
                    1.5,
                    1.6,
                    1.51,
                    1.88,
                    0.11,
                    1.87,
                    1.86,
                    1.85,
                    1.83,
                    1.85,
                    1.88,
                    1.87,
                    1.76,
                    1.64,
                    1.93,
                    1.72,
                    0.11,
                    1.72,
                    1.82,
                    1.87,
                    1.98,
                    2.04,
                    2.01
                  ],
                  "yaxis": "y"
                }
              ],
              "layout": {
                "legend": {
                  "title": {
                    "text": "Hàng hóa"
                  },
                  "tracegroupgap": 0
                },
                "margin": {
                  "t": 60
                },
                "template": {
                  "data": {
                    "bar": [
                      {
                        "error_x": {
                          "color": "#2a3f5f"
                        },
                        "error_y": {
                          "color": "#2a3f5f"
                        },
                        "marker": {
                          "line": {
                            "color": "#E5ECF6",
                            "width": 0.5
                          },
                          "pattern": {
                            "fillmode": "overlay",
                            "size": 10,
                            "solidity": 0.2
                          }
                        },
                        "type": "bar"
                      }
                    ],
                    "barpolar": [
                      {
                        "marker": {
                          "line": {
                            "color": "#E5ECF6",
                            "width": 0.5
                          },
                          "pattern": {
                            "fillmode": "overlay",
                            "size": 10,
                            "solidity": 0.2
                          }
                        },
                        "type": "barpolar"
                      }
                    ],
                    "carpet": [
                      {
                        "aaxis": {
                          "endlinecolor": "#2a3f5f",
                          "gridcolor": "white",
                          "linecolor": "white",
                          "minorgridcolor": "white",
                          "startlinecolor": "#2a3f5f"
                        },
                        "baxis": {
                          "endlinecolor": "#2a3f5f",
                          "gridcolor": "white",
                          "linecolor": "white",
                          "minorgridcolor": "white",
                          "startlinecolor": "#2a3f5f"
                        },
                        "type": "carpet"
                      }
                    ],
                    "choropleth": [
                      {
                        "colorbar": {
                          "outlinewidth": 0,
                          "ticks": ""
                        },
                        "type": "choropleth"
                      }
                    ],
                    "contour": [
                      {
                        "colorbar": {
                          "outlinewidth": 0,
                          "ticks": ""
                        },
                        "colorscale": [
                          [
                            0,
                            "#0d0887"
                          ],
                          [
                            0.1111111111111111,
                            "#46039f"
                          ],
                          [
                            0.2222222222222222,
                            "#7201a8"
                          ],
                          [
                            0.3333333333333333,
                            "#9c179e"
                          ],
                          [
                            0.4444444444444444,
                            "#bd3786"
                          ],
                          [
                            0.5555555555555556,
                            "#d8576b"
                          ],
                          [
                            0.6666666666666666,
                            "#ed7953"
                          ],
                          [
                            0.7777777777777778,
                            "#fb9f3a"
                          ],
                          [
                            0.8888888888888888,
                            "#fdca26"
                          ],
                          [
                            1,
                            "#f0f921"
                          ]
                        ],
                        "type": "contour"
                      }
                    ],
                    "contourcarpet": [
                      {
                        "colorbar": {
                          "outlinewidth": 0,
                          "ticks": ""
                        },
                        "type": "contourcarpet"
                      }
                    ],
                    "heatmap": [
                      {
                        "colorbar": {
                          "outlinewidth": 0,
                          "ticks": ""
                        },
                        "colorscale": [
                          [
                            0,
                            "#0d0887"
                          ],
                          [
                            0.1111111111111111,
                            "#46039f"
                          ],
                          [
                            0.2222222222222222,
                            "#7201a8"
                          ],
                          [
                            0.3333333333333333,
                            "#9c179e"
                          ],
                          [
                            0.4444444444444444,
                            "#bd3786"
                          ],
                          [
                            0.5555555555555556,
                            "#d8576b"
                          ],
                          [
                            0.6666666666666666,
                            "#ed7953"
                          ],
                          [
                            0.7777777777777778,
                            "#fb9f3a"
                          ],
                          [
                            0.8888888888888888,
                            "#fdca26"
                          ],
                          [
                            1,
                            "#f0f921"
                          ]
                        ],
                        "type": "heatmap"
                      }
                    ],
                    "heatmapgl": [
                      {
                        "colorbar": {
                          "outlinewidth": 0,
                          "ticks": ""
                        },
                        "colorscale": [
                          [
                            0,
                            "#0d0887"
                          ],
                          [
                            0.1111111111111111,
                            "#46039f"
                          ],
                          [
                            0.2222222222222222,
                            "#7201a8"
                          ],
                          [
                            0.3333333333333333,
                            "#9c179e"
                          ],
                          [
                            0.4444444444444444,
                            "#bd3786"
                          ],
                          [
                            0.5555555555555556,
                            "#d8576b"
                          ],
                          [
                            0.6666666666666666,
                            "#ed7953"
                          ],
                          [
                            0.7777777777777778,
                            "#fb9f3a"
                          ],
                          [
                            0.8888888888888888,
                            "#fdca26"
                          ],
                          [
                            1,
                            "#f0f921"
                          ]
                        ],
                        "type": "heatmapgl"
                      }
                    ],
                    "histogram": [
                      {
                        "marker": {
                          "pattern": {
                            "fillmode": "overlay",
                            "size": 10,
                            "solidity": 0.2
                          }
                        },
                        "type": "histogram"
                      }
                    ],
                    "histogram2d": [
                      {
                        "colorbar": {
                          "outlinewidth": 0,
                          "ticks": ""
                        },
                        "colorscale": [
                          [
                            0,
                            "#0d0887"
                          ],
                          [
                            0.1111111111111111,
                            "#46039f"
                          ],
                          [
                            0.2222222222222222,
                            "#7201a8"
                          ],
                          [
                            0.3333333333333333,
                            "#9c179e"
                          ],
                          [
                            0.4444444444444444,
                            "#bd3786"
                          ],
                          [
                            0.5555555555555556,
                            "#d8576b"
                          ],
                          [
                            0.6666666666666666,
                            "#ed7953"
                          ],
                          [
                            0.7777777777777778,
                            "#fb9f3a"
                          ],
                          [
                            0.8888888888888888,
                            "#fdca26"
                          ],
                          [
                            1,
                            "#f0f921"
                          ]
                        ],
                        "type": "histogram2d"
                      }
                    ],
                    "histogram2dcontour": [
                      {
                        "colorbar": {
                          "outlinewidth": 0,
                          "ticks": ""
                        },
                        "colorscale": [
                          [
                            0,
                            "#0d0887"
                          ],
                          [
                            0.1111111111111111,
                            "#46039f"
                          ],
                          [
                            0.2222222222222222,
                            "#7201a8"
                          ],
                          [
                            0.3333333333333333,
                            "#9c179e"
                          ],
                          [
                            0.4444444444444444,
                            "#bd3786"
                          ],
                          [
                            0.5555555555555556,
                            "#d8576b"
                          ],
                          [
                            0.6666666666666666,
                            "#ed7953"
                          ],
                          [
                            0.7777777777777778,
                            "#fb9f3a"
                          ],
                          [
                            0.8888888888888888,
                            "#fdca26"
                          ],
                          [
                            1,
                            "#f0f921"
                          ]
                        ],
                        "type": "histogram2dcontour"
                      }
                    ],
                    "mesh3d": [
                      {
                        "colorbar": {
                          "outlinewidth": 0,
                          "ticks": ""
                        },
                        "type": "mesh3d"
                      }
                    ],
                    "parcoords": [
                      {
                        "line": {
                          "colorbar": {
                            "outlinewidth": 0,
                            "ticks": ""
                          }
                        },
                        "type": "parcoords"
                      }
                    ],
                    "pie": [
                      {
                        "automargin": true,
                        "type": "pie"
                      }
                    ],
                    "scatter": [
                      {
                        "fillpattern": {
                          "fillmode": "overlay",
                          "size": 10,
                          "solidity": 0.2
                        },
                        "type": "scatter"
                      }
                    ],
                    "scatter3d": [
                      {
                        "line": {
                          "colorbar": {
                            "outlinewidth": 0,
                            "ticks": ""
                          }
                        },
                        "marker": {
                          "colorbar": {
                            "outlinewidth": 0,
                            "ticks": ""
                          }
                        },
                        "type": "scatter3d"
                      }
                    ],
                    "scattercarpet": [
                      {
                        "marker": {
                          "colorbar": {
                            "outlinewidth": 0,
                            "ticks": ""
                          }
                        },
                        "type": "scattercarpet"
                      }
                    ],
                    "scattergeo": [
                      {
                        "marker": {
                          "colorbar": {
                            "outlinewidth": 0,
                            "ticks": ""
                          }
                        },
                        "type": "scattergeo"
                      }
                    ],
                    "scattergl": [
                      {
                        "marker": {
                          "colorbar": {
                            "outlinewidth": 0,
                            "ticks": ""
                          }
                        },
                        "type": "scattergl"
                      }
                    ],
                    "scattermapbox": [
                      {
                        "marker": {
                          "colorbar": {
                            "outlinewidth": 0,
                            "ticks": ""
                          }
                        },
                        "type": "scattermapbox"
                      }
                    ],
                    "scatterpolar": [
                      {
                        "marker": {
                          "colorbar": {
                            "outlinewidth": 0,
                            "ticks": ""
                          }
                        },
                        "type": "scatterpolar"
                      }
                    ],
                    "scatterpolargl": [
                      {
                        "marker": {
                          "colorbar": {
                            "outlinewidth": 0,
                            "ticks": ""
                          }
                        },
                        "type": "scatterpolargl"
                      }
                    ],
                    "scatterternary": [
                      {
                        "marker": {
                          "colorbar": {
                            "outlinewidth": 0,
                            "ticks": ""
                          }
                        },
                        "type": "scatterternary"
                      }
                    ],
                    "surface": [
                      {
                        "colorbar": {
                          "outlinewidth": 0,
                          "ticks": ""
                        },
                        "colorscale": [
                          [
                            0,
                            "#0d0887"
                          ],
                          [
                            0.1111111111111111,
                            "#46039f"
                          ],
                          [
                            0.2222222222222222,
                            "#7201a8"
                          ],
                          [
                            0.3333333333333333,
                            "#9c179e"
                          ],
                          [
                            0.4444444444444444,
                            "#bd3786"
                          ],
                          [
                            0.5555555555555556,
                            "#d8576b"
                          ],
                          [
                            0.6666666666666666,
                            "#ed7953"
                          ],
                          [
                            0.7777777777777778,
                            "#fb9f3a"
                          ],
                          [
                            0.8888888888888888,
                            "#fdca26"
                          ],
                          [
                            1,
                            "#f0f921"
                          ]
                        ],
                        "type": "surface"
                      }
                    ],
                    "table": [
                      {
                        "cells": {
                          "fill": {
                            "color": "#EBF0F8"
                          },
                          "line": {
                            "color": "white"
                          }
                        },
                        "header": {
                          "fill": {
                            "color": "#C8D4E3"
                          },
                          "line": {
                            "color": "white"
                          }
                        },
                        "type": "table"
                      }
                    ]
                  },
                  "layout": {
                    "annotationdefaults": {
                      "arrowcolor": "#2a3f5f",
                      "arrowhead": 0,
                      "arrowwidth": 1
                    },
                    "autotypenumbers": "strict",
                    "coloraxis": {
                      "colorbar": {
                        "outlinewidth": 0,
                        "ticks": ""
                      }
                    },
                    "colorscale": {
                      "diverging": [
                        [
                          0,
                          "#8e0152"
                        ],
                        [
                          0.1,
                          "#c51b7d"
                        ],
                        [
                          0.2,
                          "#de77ae"
                        ],
                        [
                          0.3,
                          "#f1b6da"
                        ],
                        [
                          0.4,
                          "#fde0ef"
                        ],
                        [
                          0.5,
                          "#f7f7f7"
                        ],
                        [
                          0.6,
                          "#e6f5d0"
                        ],
                        [
                          0.7,
                          "#b8e186"
                        ],
                        [
                          0.8,
                          "#7fbc41"
                        ],
                        [
                          0.9,
                          "#4d9221"
                        ],
                        [
                          1,
                          "#276419"
                        ]
                      ],
                      "sequential": [
                        [
                          0,
                          "#0d0887"
                        ],
                        [
                          0.1111111111111111,
                          "#46039f"
                        ],
                        [
                          0.2222222222222222,
                          "#7201a8"
                        ],
                        [
                          0.3333333333333333,
                          "#9c179e"
                        ],
                        [
                          0.4444444444444444,
                          "#bd3786"
                        ],
                        [
                          0.5555555555555556,
                          "#d8576b"
                        ],
                        [
                          0.6666666666666666,
                          "#ed7953"
                        ],
                        [
                          0.7777777777777778,
                          "#fb9f3a"
                        ],
                        [
                          0.8888888888888888,
                          "#fdca26"
                        ],
                        [
                          1,
                          "#f0f921"
                        ]
                      ],
                      "sequentialminus": [
                        [
                          0,
                          "#0d0887"
                        ],
                        [
                          0.1111111111111111,
                          "#46039f"
                        ],
                        [
                          0.2222222222222222,
                          "#7201a8"
                        ],
                        [
                          0.3333333333333333,
                          "#9c179e"
                        ],
                        [
                          0.4444444444444444,
                          "#bd3786"
                        ],
                        [
                          0.5555555555555556,
                          "#d8576b"
                        ],
                        [
                          0.6666666666666666,
                          "#ed7953"
                        ],
                        [
                          0.7777777777777778,
                          "#fb9f3a"
                        ],
                        [
                          0.8888888888888888,
                          "#fdca26"
                        ],
                        [
                          1,
                          "#f0f921"
                        ]
                      ]
                    },
                    "colorway": [
                      "#636efa",
                      "#EF553B",
                      "#00cc96",
                      "#ab63fa",
                      "#FFA15A",
                      "#19d3f3",
                      "#FF6692",
                      "#B6E880",
                      "#FF97FF",
                      "#FECB52"
                    ],
                    "font": {
                      "color": "#2a3f5f"
                    },
                    "geo": {
                      "bgcolor": "white",
                      "lakecolor": "white",
                      "landcolor": "#E5ECF6",
                      "showlakes": true,
                      "showland": true,
                      "subunitcolor": "white"
                    },
                    "hoverlabel": {
                      "align": "left"
                    },
                    "hovermode": "closest",
                    "mapbox": {
                      "style": "light"
                    },
                    "paper_bgcolor": "white",
                    "plot_bgcolor": "#E5ECF6",
                    "polar": {
                      "angularaxis": {
                        "gridcolor": "white",
                        "linecolor": "white",
                        "ticks": ""
                      },
                      "bgcolor": "#E5ECF6",
                      "radialaxis": {
                        "gridcolor": "white",
                        "linecolor": "white",
                        "ticks": ""
                      }
                    },
                    "scene": {
                      "xaxis": {
                        "backgroundcolor": "#E5ECF6",
                        "gridcolor": "white",
                        "gridwidth": 2,
                        "linecolor": "white",
                        "showbackground": true,
                        "ticks": "",
                        "zerolinecolor": "white"
                      },
                      "yaxis": {
                        "backgroundcolor": "#E5ECF6",
                        "gridcolor": "white",
                        "gridwidth": 2,
                        "linecolor": "white",
                        "showbackground": true,
                        "ticks": "",
                        "zerolinecolor": "white"
                      },
                      "zaxis": {
                        "backgroundcolor": "#E5ECF6",
                        "gridcolor": "white",
                        "gridwidth": 2,
                        "linecolor": "white",
                        "showbackground": true,
                        "ticks": "",
                        "zerolinecolor": "white"
                      }
                    },
                    "shapedefaults": {
                      "line": {
                        "color": "#2a3f5f"
                      }
                    },
                    "ternary": {
                      "aaxis": {
                        "gridcolor": "white",
                        "linecolor": "white",
                        "ticks": ""
                      },
                      "baxis": {
                        "gridcolor": "white",
                        "linecolor": "white",
                        "ticks": ""
                      },
                      "bgcolor": "#E5ECF6",
                      "caxis": {
                        "gridcolor": "white",
                        "linecolor": "white",
                        "ticks": ""
                      }
                    },
                    "title": {
                      "x": 0.05
                    },
                    "xaxis": {
                      "automargin": true,
                      "gridcolor": "white",
                      "linecolor": "white",
                      "ticks": "",
                      "title": {
                        "standoff": 15
                      },
                      "zerolinecolor": "white",
                      "zerolinewidth": 2
                    },
                    "yaxis": {
                      "automargin": true,
                      "gridcolor": "white",
                      "linecolor": "white",
                      "ticks": "",
                      "title": {
                        "standoff": 15
                      },
                      "zerolinecolor": "white",
                      "zerolinewidth": 2
                    }
                  }
                },
                "xaxis": {
                  "anchor": "y",
                  "domain": [
                    0,
                    1
                  ],
                  "rangeselector": {
                    "buttons": [
                      {
                        "count": 1,
                        "label": "YTD",
                        "step": "year",
                        "stepmode": "todate"
                      },
                      {
                        "count": 1,
                        "label": "1y",
                        "step": "year",
                        "stepmode": "backward"
                      },
                      {
                        "count": 3,
                        "label": "3y",
                        "step": "year",
                        "stepmode": "backward"
                      },
                      {
                        "count": 5,
                        "label": "5y",
                        "step": "year",
                        "stepmode": "backward"
                      },
                      {
                        "count": 7,
                        "label": "7y",
                        "step": "year",
                        "stepmode": "backward"
                      },
                      {
                        "count": 10,
                        "label": "10y",
                        "step": "year",
                        "stepmode": "backward"
                      },
                      {
                        "step": "all"
                      }
                    ]
                  },
                  "rangeslider": {
                    "visible": true
                  },
                  "title": {
                    "text": "Date"
                  }
                },
                "yaxis": {
                  "anchor": "x",
                  "domain": [
                    0,
                    1
                  ],
                  "title": {
                    "text": "M-YOY"
                  }
                }
              }
            }
          },
          "metadata": {},
          "output_type": "display_data"
        }
      ],
      "source": [
        "import pandas as pd\n",
        "import plotly.express as px\n",
        "import plotly.graph_objects as go\n",
        "\n",
        "df_show = dfs_cpi[\n",
        "    (\n",
        "        (dfs_cpi[\"Hàng hóa\"] == \"CHỈ SỐ GIÁ TIÊU DÙNG\")\n",
        "        | (dfs_cpi[\"Hàng hóa\"] == \"LẠM PHÁT CƠ BẢN\")\n",
        "    )\n",
        "    & (dfs_cpi[\"Date\"] > \"2015-01-01\")\n",
        "]\n",
        "\n",
        "fig = px.area(df_show, x=\"Date\", y=\"M-YOY\", color=\"Hàng hóa\")\n",
        "\n",
        "fig.update_xaxes(\n",
        "    rangeslider_visible=True,\n",
        "    rangeselector=dict(\n",
        "        buttons=[\n",
        "            dict(count=1, label=\"YTD\", step=\"year\", stepmode=\"todate\"),\n",
        "            dict(count=1, label=\"1y\", step=\"year\", stepmode=\"backward\"),\n",
        "            dict(count=3, label=\"3y\", step=\"year\", stepmode=\"backward\"),\n",
        "            dict(count=5, label=\"5y\", step=\"year\", stepmode=\"backward\"),\n",
        "            dict(count=7, label=\"7y\", step=\"year\", stepmode=\"backward\"),\n",
        "            dict(count=10, label=\"10y\", step=\"year\", stepmode=\"backward\"),\n",
        "            dict(step=\"all\"),\n",
        "        ]\n",
        "    ),\n",
        ")\n",
        "\n",
        "fig.show()"
      ]
    },
    {
      "cell_type": "code",
      "execution_count": 9,
      "metadata": {},
      "outputs": [
        {
          "data": {
            "application/vnd.plotly.v1+json": {
              "config": {
                "plotlyServerURL": "https://plot.ly"
              },
              "data": [
                {
                  "fillpattern": {
                    "shape": ""
                  },
                  "hovertemplate": "Hàng hóa=Lương thực<br>Date=%{x}<br>M-YOY=%{y}<extra></extra>",
                  "legendgroup": "Lương thực",
                  "line": {
                    "color": "#636efa"
                  },
                  "marker": {
                    "symbol": "circle"
                  },
                  "mode": "lines",
                  "name": "Lương thực",
                  "orientation": "v",
                  "showlegend": true,
                  "stackgroup": "1",
                  "type": "scatter",
                  "x": [
                    "2024-02-29T00:00:00",
                    "2024-01-29T00:00:00",
                    "2023-12-29T00:00:00",
                    "2023-11-29T00:00:00",
                    "2023-10-29T00:00:00",
                    "2023-09-29T00:00:00",
                    "2023-08-29T00:00:00",
                    "2023-07-29T00:00:00",
                    "2023-06-29T00:00:00",
                    "2023-05-29T00:00:00",
                    "2023-04-29T00:00:00",
                    "2023-03-29T00:00:00",
                    "2023-02-28T00:00:00",
                    "2023-01-29T00:00:00",
                    "2022-12-29T00:00:00",
                    "2022-11-29T00:00:00",
                    "2022-10-29T00:00:00",
                    "2022-09-29T00:00:00",
                    "2022-08-29T00:00:00",
                    "2022-07-29T00:00:00",
                    "2022-06-29T00:00:00",
                    "2022-05-29T00:00:00",
                    "2022-04-29T00:00:00",
                    "2022-03-29T00:00:00",
                    "2022-02-28T00:00:00",
                    "2022-01-29T00:00:00",
                    "2021-12-29T00:00:00",
                    "2021-11-29T00:00:00",
                    "2021-10-29T00:00:00",
                    "2021-09-29T00:00:00",
                    "2021-08-29T00:00:00",
                    "2021-07-29T00:00:00",
                    "2021-06-29T00:00:00",
                    "2021-05-29T00:00:00",
                    "2021-04-29T00:00:00",
                    "2021-03-29T00:00:00",
                    "2021-02-28T00:00:00",
                    "2021-01-29T00:00:00"
                  ],
                  "xaxis": "x",
                  "y": [
                    17.35557844917078,
                    15.632773478424,
                    14.664314883700996,
                    13.242748394133997,
                    11.341819388595866,
                    10.489818909410161,
                    6.987904423448327,
                    3.789190713159769,
                    3.7841208405379376,
                    3.852141393127013,
                    3.8449959883561036,
                    3.7521274898201256,
                    3.6413191139226484,
                    3.735599111560603,
                    2.909930881901218,
                    2.78508766762684,
                    2.4068170136236375,
                    2.1001941600921725,
                    2.3093649867865764,
                    2.8160431269716355,
                    2.8714965307140403,
                    2.424396617679747,
                    2.050462308712909,
                    1.8218443766994739,
                    1.6558561325182808,
                    3.096914536516678,
                    3.8621741050135228,
                    3.9368921899678924,
                    4.314177407856505,
                    4.663603982537111,
                    5.094185474432123,
                    4.9995180640039365,
                    4.407671173895395,
                    4.282241084740491,
                    4.29497467277595,
                    6.48522776183178,
                    7.6354784035318914,
                    6.101684576118458
                  ],
                  "yaxis": "y"
                },
                {
                  "fillpattern": {
                    "shape": ""
                  },
                  "hovertemplate": "Hàng hóa=Nhà ở và vật liệu xây dựng<br>Date=%{x}<br>M-YOY=%{y}<extra></extra>",
                  "legendgroup": "Nhà ở và vật liệu xây dựng",
                  "line": {
                    "color": "#EF553B"
                  },
                  "marker": {
                    "symbol": "circle"
                  },
                  "mode": "lines",
                  "name": "Nhà ở và vật liệu xây dựng",
                  "orientation": "v",
                  "showlegend": true,
                  "stackgroup": "1",
                  "type": "scatter",
                  "x": [
                    "2024-02-29T00:00:00",
                    "2024-01-29T00:00:00",
                    "2023-12-29T00:00:00",
                    "2023-11-29T00:00:00",
                    "2023-10-29T00:00:00",
                    "2023-09-29T00:00:00",
                    "2023-08-29T00:00:00",
                    "2023-07-29T00:00:00",
                    "2023-06-29T00:00:00",
                    "2023-05-29T00:00:00",
                    "2023-04-29T00:00:00",
                    "2023-03-29T00:00:00",
                    "2023-02-28T00:00:00",
                    "2023-01-29T00:00:00",
                    "2022-12-29T00:00:00",
                    "2022-11-29T00:00:00",
                    "2022-10-29T00:00:00",
                    "2022-09-29T00:00:00",
                    "2022-08-29T00:00:00",
                    "2022-07-29T00:00:00",
                    "2022-06-29T00:00:00",
                    "2022-05-29T00:00:00",
                    "2022-04-29T00:00:00",
                    "2022-03-29T00:00:00",
                    "2022-02-28T00:00:00",
                    "2022-01-29T00:00:00",
                    "2021-12-29T00:00:00",
                    "2021-11-29T00:00:00",
                    "2021-10-29T00:00:00",
                    "2021-09-29T00:00:00",
                    "2021-08-29T00:00:00",
                    "2021-07-29T00:00:00",
                    "2021-06-29T00:00:00",
                    "2021-05-29T00:00:00",
                    "2021-04-29T00:00:00",
                    "2021-03-29T00:00:00",
                    "2021-02-28T00:00:00",
                    "2021-01-29T00:00:00"
                  ],
                  "xaxis": "x",
                  "y": [
                    4.945171473115579,
                    6.385929979878995,
                    5.669074028519006,
                    5.9100103036739995,
                    6.880678025585624,
                    7.331368891810186,
                    7.136392892365677,
                    6.511325431087229,
                    6.488648295794761,
                    6.40276932377337,
                    5.1961713638646785,
                    6.684911509964749,
                    7.884416238383054,
                    6.936660920596708,
                    7.140186655745566,
                    5.9592967656612075,
                    5.424102692191937,
                    4.430161925101743,
                    1.3970022711672385,
                    1.133455338774624,
                    1.5278592494303354,
                    2.181688017336157,
                    2.7219128637170513,
                    1.6953729202976717,
                    0.44293377787580823,
                    3.5089780570843203,
                    1.0428039356814196,
                    1.4667522329196316,
                    1.0682029365128614,
                    1.6302902472970686,
                    4.342025462632293,
                    4.44427798901998,
                    4.017528156420596,
                    2.933112089751603,
                    2.782296821742648,
                    0.8226787759343637,
                    0.3329450856951013,
                    -3.552075657388855
                  ],
                  "yaxis": "y"
                },
                {
                  "fillpattern": {
                    "shape": ""
                  },
                  "hovertemplate": "Hàng hóa=Thuốc và dịch vụ y tế<br>Date=%{x}<br>M-YOY=%{y}<extra></extra>",
                  "legendgroup": "Thuốc và dịch vụ y tế",
                  "line": {
                    "color": "#00cc96"
                  },
                  "marker": {
                    "symbol": "circle"
                  },
                  "mode": "lines",
                  "name": "Thuốc và dịch vụ y tế",
                  "orientation": "v",
                  "showlegend": true,
                  "stackgroup": "1",
                  "type": "scatter",
                  "x": [
                    "2024-02-29T00:00:00",
                    "2024-01-29T00:00:00",
                    "2023-12-29T00:00:00",
                    "2023-11-29T00:00:00",
                    "2023-10-29T00:00:00",
                    "2023-09-29T00:00:00",
                    "2023-08-29T00:00:00",
                    "2023-07-29T00:00:00",
                    "2023-06-29T00:00:00",
                    "2023-05-29T00:00:00",
                    "2023-04-29T00:00:00",
                    "2023-03-29T00:00:00",
                    "2023-02-28T00:00:00",
                    "2023-01-29T00:00:00",
                    "2022-12-29T00:00:00",
                    "2022-11-29T00:00:00",
                    "2022-10-29T00:00:00",
                    "2022-09-29T00:00:00",
                    "2022-08-29T00:00:00",
                    "2022-07-29T00:00:00",
                    "2022-06-29T00:00:00",
                    "2022-05-29T00:00:00",
                    "2022-04-29T00:00:00",
                    "2022-03-29T00:00:00",
                    "2022-02-28T00:00:00",
                    "2022-01-29T00:00:00",
                    "2021-12-29T00:00:00",
                    "2021-11-29T00:00:00",
                    "2021-10-29T00:00:00",
                    "2021-09-29T00:00:00",
                    "2021-08-29T00:00:00",
                    "2021-07-29T00:00:00",
                    "2021-06-29T00:00:00",
                    "2021-05-29T00:00:00",
                    "2021-04-29T00:00:00",
                    "2021-03-29T00:00:00",
                    "2021-02-28T00:00:00",
                    "2021-01-29T00:00:00"
                  ],
                  "xaxis": "x",
                  "y": [
                    6.521047928972607,
                    6.519876470395005,
                    5.525925613151003,
                    3.3875971573980053,
                    0.5388987369219507,
                    0.5788031824624795,
                    0.5476442249110249,
                    0.6060449443905611,
                    0.6092627836124365,
                    0.6305890043040989,
                    0.6199261604361084,
                    0.6259619013921878,
                    0.6332028722595595,
                    0.6378309721535089,
                    0.5905662147818163,
                    0.5342800200815532,
                    0.5117744073649817,
                    0.4696866995827662,
                    0.465468436478659,
                    0.3974127378934895,
                    0.37343010730388926,
                    0.3543658280812423,
                    0.33590559057275016,
                    0.3116316078886143,
                    0.26341247689076397,
                    0.2512838544518985,
                    0.2350475465069337,
                    0.22402423766116897,
                    0.18885970613089853,
                    0.17914348544306335,
                    0.1583125770251712,
                    0.16071589105757766,
                    0.15691083404942674,
                    0.15180364874656505,
                    0.18805552025833094,
                    0.21039613854286188,
                    0.24416174084200293,
                    0.35521594708254156
                  ],
                  "yaxis": "y"
                },
                {
                  "fillpattern": {
                    "shape": ""
                  },
                  "hovertemplate": "Hàng hóa=Giao thông<br>Date=%{x}<br>M-YOY=%{y}<extra></extra>",
                  "legendgroup": "Giao thông",
                  "line": {
                    "color": "#ab63fa"
                  },
                  "marker": {
                    "symbol": "circle"
                  },
                  "mode": "lines",
                  "name": "Giao thông",
                  "orientation": "v",
                  "showlegend": true,
                  "stackgroup": "1",
                  "type": "scatter",
                  "x": [
                    "2024-02-29T00:00:00",
                    "2024-01-29T00:00:00",
                    "2023-12-29T00:00:00",
                    "2023-11-29T00:00:00",
                    "2023-10-29T00:00:00",
                    "2023-09-29T00:00:00",
                    "2023-08-29T00:00:00",
                    "2023-07-29T00:00:00",
                    "2023-06-29T00:00:00",
                    "2023-05-29T00:00:00",
                    "2023-04-29T00:00:00",
                    "2023-03-29T00:00:00",
                    "2023-02-28T00:00:00",
                    "2023-01-29T00:00:00",
                    "2022-12-29T00:00:00",
                    "2022-11-29T00:00:00",
                    "2022-10-29T00:00:00",
                    "2022-09-29T00:00:00",
                    "2022-08-29T00:00:00",
                    "2022-07-29T00:00:00",
                    "2022-06-29T00:00:00",
                    "2022-05-29T00:00:00",
                    "2022-04-29T00:00:00",
                    "2022-03-29T00:00:00",
                    "2022-02-28T00:00:00",
                    "2022-01-29T00:00:00",
                    "2021-12-29T00:00:00",
                    "2021-11-29T00:00:00",
                    "2021-10-29T00:00:00",
                    "2021-09-29T00:00:00",
                    "2021-08-29T00:00:00",
                    "2021-07-29T00:00:00",
                    "2021-06-29T00:00:00",
                    "2021-05-29T00:00:00",
                    "2021-04-29T00:00:00",
                    "2021-03-29T00:00:00",
                    "2021-02-28T00:00:00",
                    "2021-01-29T00:00:00"
                  ],
                  "xaxis": "x",
                  "y": [
                    2.551283863497389,
                    1.581124036225006,
                    2.5658009340520067,
                    1.625243606739005,
                    3.9030744483732747,
                    3.2009083240219383,
                    -0.30669975495740687,
                    -9.291428531810425,
                    -11.978399971030257,
                    -8.936814597941591,
                    -3.939759444415401,
                    -4.911081302520515,
                    -0.18346026921449266,
                    0.05212693707126448,
                    -0.15786675665754046,
                    0.9417969625503417,
                    1.8098397778935578,
                    6.679772539092227,
                    8.943456145122369,
                    15.224026007765048,
                    21.410125029255724,
                    18.417995731230704,
                    16.585086815475208,
                    18.294920425868938,
                    15.45502332557814,
                    14.546168471410567,
                    15.80522487149058,
                    20.7092475467672,
                    16.516776190495207,
                    13.58243032063622,
                    13.629185871935803,
                    13.81769880905486,
                    15.539894658461535,
                    21.236836345880334,
                    17.66768506587033,
                    0.47955082874877064,
                    -6.551663087443316,
                    -10.273116485936669
                  ],
                  "yaxis": "y"
                },
                {
                  "fillpattern": {
                    "shape": ""
                  },
                  "hovertemplate": "Hàng hóa=Giáo dục<br>Date=%{x}<br>M-YOY=%{y}<extra></extra>",
                  "legendgroup": "Giáo dục",
                  "line": {
                    "color": "#FFA15A"
                  },
                  "marker": {
                    "symbol": "circle"
                  },
                  "mode": "lines",
                  "name": "Giáo dục",
                  "orientation": "v",
                  "showlegend": true,
                  "stackgroup": "1",
                  "type": "scatter",
                  "x": [
                    "2024-02-29T00:00:00",
                    "2024-01-29T00:00:00",
                    "2023-12-29T00:00:00",
                    "2023-11-29T00:00:00",
                    "2023-10-29T00:00:00",
                    "2023-09-29T00:00:00",
                    "2023-08-29T00:00:00",
                    "2023-07-29T00:00:00",
                    "2023-06-29T00:00:00",
                    "2023-05-29T00:00:00",
                    "2023-04-29T00:00:00",
                    "2023-03-29T00:00:00",
                    "2023-02-28T00:00:00",
                    "2023-01-29T00:00:00",
                    "2022-12-29T00:00:00",
                    "2022-11-29T00:00:00",
                    "2022-10-29T00:00:00",
                    "2022-09-29T00:00:00",
                    "2022-08-29T00:00:00",
                    "2022-07-29T00:00:00",
                    "2022-06-29T00:00:00",
                    "2022-05-29T00:00:00",
                    "2022-04-29T00:00:00",
                    "2022-03-29T00:00:00",
                    "2022-02-28T00:00:00",
                    "2022-01-29T00:00:00",
                    "2021-12-29T00:00:00",
                    "2021-11-29T00:00:00",
                    "2021-10-29T00:00:00",
                    "2021-09-29T00:00:00",
                    "2021-08-29T00:00:00",
                    "2021-07-29T00:00:00",
                    "2021-06-29T00:00:00",
                    "2021-05-29T00:00:00",
                    "2021-04-29T00:00:00",
                    "2021-03-29T00:00:00",
                    "2021-02-28T00:00:00",
                    "2021-01-29T00:00:00"
                  ],
                  "xaxis": "x",
                  "y": [
                    8.554849963430698,
                    8.392849277471,
                    8.356276634365997,
                    8.232964039587003,
                    7.143442804298459,
                    7.248542821934322,
                    5.0455289620138615,
                    5.57190633403502,
                    5.747627327363318,
                    5.70357778787411,
                    5.983007233073167,
                    8.408821921122978,
                    10.400418308371044,
                    11.598619709168872,
                    11.801261493542015,
                    10.963553020719914,
                    10.638386735886257,
                    8.366065838679162,
                    -0.5729028393127322,
                    -1.9692833950909545,
                    -2.134529262390032,
                    -2.1727696140181365,
                    -2.309008628949371,
                    -3.209877828208164,
                    -3.2957453673293315,
                    -3.7827030549987484,
                    -3.487875464001519,
                    -3.0659472700880457,
                    -2.1635371257109597,
                    -1.0875617693318134,
                    3.9762128460231594,
                    4.1200585301740915,
                    4.112460015061842,
                    4.095702333027489,
                    4.0698941606434005,
                    4.042947441456832,
                    4.080920535102621,
                    4.125675509952643
                  ],
                  "yaxis": "y"
                }
              ],
              "layout": {
                "legend": {
                  "title": {
                    "text": "Hàng hóa"
                  },
                  "tracegroupgap": 0
                },
                "margin": {
                  "t": 60
                },
                "template": {
                  "data": {
                    "bar": [
                      {
                        "error_x": {
                          "color": "#2a3f5f"
                        },
                        "error_y": {
                          "color": "#2a3f5f"
                        },
                        "marker": {
                          "line": {
                            "color": "#E5ECF6",
                            "width": 0.5
                          },
                          "pattern": {
                            "fillmode": "overlay",
                            "size": 10,
                            "solidity": 0.2
                          }
                        },
                        "type": "bar"
                      }
                    ],
                    "barpolar": [
                      {
                        "marker": {
                          "line": {
                            "color": "#E5ECF6",
                            "width": 0.5
                          },
                          "pattern": {
                            "fillmode": "overlay",
                            "size": 10,
                            "solidity": 0.2
                          }
                        },
                        "type": "barpolar"
                      }
                    ],
                    "carpet": [
                      {
                        "aaxis": {
                          "endlinecolor": "#2a3f5f",
                          "gridcolor": "white",
                          "linecolor": "white",
                          "minorgridcolor": "white",
                          "startlinecolor": "#2a3f5f"
                        },
                        "baxis": {
                          "endlinecolor": "#2a3f5f",
                          "gridcolor": "white",
                          "linecolor": "white",
                          "minorgridcolor": "white",
                          "startlinecolor": "#2a3f5f"
                        },
                        "type": "carpet"
                      }
                    ],
                    "choropleth": [
                      {
                        "colorbar": {
                          "outlinewidth": 0,
                          "ticks": ""
                        },
                        "type": "choropleth"
                      }
                    ],
                    "contour": [
                      {
                        "colorbar": {
                          "outlinewidth": 0,
                          "ticks": ""
                        },
                        "colorscale": [
                          [
                            0,
                            "#0d0887"
                          ],
                          [
                            0.1111111111111111,
                            "#46039f"
                          ],
                          [
                            0.2222222222222222,
                            "#7201a8"
                          ],
                          [
                            0.3333333333333333,
                            "#9c179e"
                          ],
                          [
                            0.4444444444444444,
                            "#bd3786"
                          ],
                          [
                            0.5555555555555556,
                            "#d8576b"
                          ],
                          [
                            0.6666666666666666,
                            "#ed7953"
                          ],
                          [
                            0.7777777777777778,
                            "#fb9f3a"
                          ],
                          [
                            0.8888888888888888,
                            "#fdca26"
                          ],
                          [
                            1,
                            "#f0f921"
                          ]
                        ],
                        "type": "contour"
                      }
                    ],
                    "contourcarpet": [
                      {
                        "colorbar": {
                          "outlinewidth": 0,
                          "ticks": ""
                        },
                        "type": "contourcarpet"
                      }
                    ],
                    "heatmap": [
                      {
                        "colorbar": {
                          "outlinewidth": 0,
                          "ticks": ""
                        },
                        "colorscale": [
                          [
                            0,
                            "#0d0887"
                          ],
                          [
                            0.1111111111111111,
                            "#46039f"
                          ],
                          [
                            0.2222222222222222,
                            "#7201a8"
                          ],
                          [
                            0.3333333333333333,
                            "#9c179e"
                          ],
                          [
                            0.4444444444444444,
                            "#bd3786"
                          ],
                          [
                            0.5555555555555556,
                            "#d8576b"
                          ],
                          [
                            0.6666666666666666,
                            "#ed7953"
                          ],
                          [
                            0.7777777777777778,
                            "#fb9f3a"
                          ],
                          [
                            0.8888888888888888,
                            "#fdca26"
                          ],
                          [
                            1,
                            "#f0f921"
                          ]
                        ],
                        "type": "heatmap"
                      }
                    ],
                    "heatmapgl": [
                      {
                        "colorbar": {
                          "outlinewidth": 0,
                          "ticks": ""
                        },
                        "colorscale": [
                          [
                            0,
                            "#0d0887"
                          ],
                          [
                            0.1111111111111111,
                            "#46039f"
                          ],
                          [
                            0.2222222222222222,
                            "#7201a8"
                          ],
                          [
                            0.3333333333333333,
                            "#9c179e"
                          ],
                          [
                            0.4444444444444444,
                            "#bd3786"
                          ],
                          [
                            0.5555555555555556,
                            "#d8576b"
                          ],
                          [
                            0.6666666666666666,
                            "#ed7953"
                          ],
                          [
                            0.7777777777777778,
                            "#fb9f3a"
                          ],
                          [
                            0.8888888888888888,
                            "#fdca26"
                          ],
                          [
                            1,
                            "#f0f921"
                          ]
                        ],
                        "type": "heatmapgl"
                      }
                    ],
                    "histogram": [
                      {
                        "marker": {
                          "pattern": {
                            "fillmode": "overlay",
                            "size": 10,
                            "solidity": 0.2
                          }
                        },
                        "type": "histogram"
                      }
                    ],
                    "histogram2d": [
                      {
                        "colorbar": {
                          "outlinewidth": 0,
                          "ticks": ""
                        },
                        "colorscale": [
                          [
                            0,
                            "#0d0887"
                          ],
                          [
                            0.1111111111111111,
                            "#46039f"
                          ],
                          [
                            0.2222222222222222,
                            "#7201a8"
                          ],
                          [
                            0.3333333333333333,
                            "#9c179e"
                          ],
                          [
                            0.4444444444444444,
                            "#bd3786"
                          ],
                          [
                            0.5555555555555556,
                            "#d8576b"
                          ],
                          [
                            0.6666666666666666,
                            "#ed7953"
                          ],
                          [
                            0.7777777777777778,
                            "#fb9f3a"
                          ],
                          [
                            0.8888888888888888,
                            "#fdca26"
                          ],
                          [
                            1,
                            "#f0f921"
                          ]
                        ],
                        "type": "histogram2d"
                      }
                    ],
                    "histogram2dcontour": [
                      {
                        "colorbar": {
                          "outlinewidth": 0,
                          "ticks": ""
                        },
                        "colorscale": [
                          [
                            0,
                            "#0d0887"
                          ],
                          [
                            0.1111111111111111,
                            "#46039f"
                          ],
                          [
                            0.2222222222222222,
                            "#7201a8"
                          ],
                          [
                            0.3333333333333333,
                            "#9c179e"
                          ],
                          [
                            0.4444444444444444,
                            "#bd3786"
                          ],
                          [
                            0.5555555555555556,
                            "#d8576b"
                          ],
                          [
                            0.6666666666666666,
                            "#ed7953"
                          ],
                          [
                            0.7777777777777778,
                            "#fb9f3a"
                          ],
                          [
                            0.8888888888888888,
                            "#fdca26"
                          ],
                          [
                            1,
                            "#f0f921"
                          ]
                        ],
                        "type": "histogram2dcontour"
                      }
                    ],
                    "mesh3d": [
                      {
                        "colorbar": {
                          "outlinewidth": 0,
                          "ticks": ""
                        },
                        "type": "mesh3d"
                      }
                    ],
                    "parcoords": [
                      {
                        "line": {
                          "colorbar": {
                            "outlinewidth": 0,
                            "ticks": ""
                          }
                        },
                        "type": "parcoords"
                      }
                    ],
                    "pie": [
                      {
                        "automargin": true,
                        "type": "pie"
                      }
                    ],
                    "scatter": [
                      {
                        "fillpattern": {
                          "fillmode": "overlay",
                          "size": 10,
                          "solidity": 0.2
                        },
                        "type": "scatter"
                      }
                    ],
                    "scatter3d": [
                      {
                        "line": {
                          "colorbar": {
                            "outlinewidth": 0,
                            "ticks": ""
                          }
                        },
                        "marker": {
                          "colorbar": {
                            "outlinewidth": 0,
                            "ticks": ""
                          }
                        },
                        "type": "scatter3d"
                      }
                    ],
                    "scattercarpet": [
                      {
                        "marker": {
                          "colorbar": {
                            "outlinewidth": 0,
                            "ticks": ""
                          }
                        },
                        "type": "scattercarpet"
                      }
                    ],
                    "scattergeo": [
                      {
                        "marker": {
                          "colorbar": {
                            "outlinewidth": 0,
                            "ticks": ""
                          }
                        },
                        "type": "scattergeo"
                      }
                    ],
                    "scattergl": [
                      {
                        "marker": {
                          "colorbar": {
                            "outlinewidth": 0,
                            "ticks": ""
                          }
                        },
                        "type": "scattergl"
                      }
                    ],
                    "scattermapbox": [
                      {
                        "marker": {
                          "colorbar": {
                            "outlinewidth": 0,
                            "ticks": ""
                          }
                        },
                        "type": "scattermapbox"
                      }
                    ],
                    "scatterpolar": [
                      {
                        "marker": {
                          "colorbar": {
                            "outlinewidth": 0,
                            "ticks": ""
                          }
                        },
                        "type": "scatterpolar"
                      }
                    ],
                    "scatterpolargl": [
                      {
                        "marker": {
                          "colorbar": {
                            "outlinewidth": 0,
                            "ticks": ""
                          }
                        },
                        "type": "scatterpolargl"
                      }
                    ],
                    "scatterternary": [
                      {
                        "marker": {
                          "colorbar": {
                            "outlinewidth": 0,
                            "ticks": ""
                          }
                        },
                        "type": "scatterternary"
                      }
                    ],
                    "surface": [
                      {
                        "colorbar": {
                          "outlinewidth": 0,
                          "ticks": ""
                        },
                        "colorscale": [
                          [
                            0,
                            "#0d0887"
                          ],
                          [
                            0.1111111111111111,
                            "#46039f"
                          ],
                          [
                            0.2222222222222222,
                            "#7201a8"
                          ],
                          [
                            0.3333333333333333,
                            "#9c179e"
                          ],
                          [
                            0.4444444444444444,
                            "#bd3786"
                          ],
                          [
                            0.5555555555555556,
                            "#d8576b"
                          ],
                          [
                            0.6666666666666666,
                            "#ed7953"
                          ],
                          [
                            0.7777777777777778,
                            "#fb9f3a"
                          ],
                          [
                            0.8888888888888888,
                            "#fdca26"
                          ],
                          [
                            1,
                            "#f0f921"
                          ]
                        ],
                        "type": "surface"
                      }
                    ],
                    "table": [
                      {
                        "cells": {
                          "fill": {
                            "color": "#EBF0F8"
                          },
                          "line": {
                            "color": "white"
                          }
                        },
                        "header": {
                          "fill": {
                            "color": "#C8D4E3"
                          },
                          "line": {
                            "color": "white"
                          }
                        },
                        "type": "table"
                      }
                    ]
                  },
                  "layout": {
                    "annotationdefaults": {
                      "arrowcolor": "#2a3f5f",
                      "arrowhead": 0,
                      "arrowwidth": 1
                    },
                    "autotypenumbers": "strict",
                    "coloraxis": {
                      "colorbar": {
                        "outlinewidth": 0,
                        "ticks": ""
                      }
                    },
                    "colorscale": {
                      "diverging": [
                        [
                          0,
                          "#8e0152"
                        ],
                        [
                          0.1,
                          "#c51b7d"
                        ],
                        [
                          0.2,
                          "#de77ae"
                        ],
                        [
                          0.3,
                          "#f1b6da"
                        ],
                        [
                          0.4,
                          "#fde0ef"
                        ],
                        [
                          0.5,
                          "#f7f7f7"
                        ],
                        [
                          0.6,
                          "#e6f5d0"
                        ],
                        [
                          0.7,
                          "#b8e186"
                        ],
                        [
                          0.8,
                          "#7fbc41"
                        ],
                        [
                          0.9,
                          "#4d9221"
                        ],
                        [
                          1,
                          "#276419"
                        ]
                      ],
                      "sequential": [
                        [
                          0,
                          "#0d0887"
                        ],
                        [
                          0.1111111111111111,
                          "#46039f"
                        ],
                        [
                          0.2222222222222222,
                          "#7201a8"
                        ],
                        [
                          0.3333333333333333,
                          "#9c179e"
                        ],
                        [
                          0.4444444444444444,
                          "#bd3786"
                        ],
                        [
                          0.5555555555555556,
                          "#d8576b"
                        ],
                        [
                          0.6666666666666666,
                          "#ed7953"
                        ],
                        [
                          0.7777777777777778,
                          "#fb9f3a"
                        ],
                        [
                          0.8888888888888888,
                          "#fdca26"
                        ],
                        [
                          1,
                          "#f0f921"
                        ]
                      ],
                      "sequentialminus": [
                        [
                          0,
                          "#0d0887"
                        ],
                        [
                          0.1111111111111111,
                          "#46039f"
                        ],
                        [
                          0.2222222222222222,
                          "#7201a8"
                        ],
                        [
                          0.3333333333333333,
                          "#9c179e"
                        ],
                        [
                          0.4444444444444444,
                          "#bd3786"
                        ],
                        [
                          0.5555555555555556,
                          "#d8576b"
                        ],
                        [
                          0.6666666666666666,
                          "#ed7953"
                        ],
                        [
                          0.7777777777777778,
                          "#fb9f3a"
                        ],
                        [
                          0.8888888888888888,
                          "#fdca26"
                        ],
                        [
                          1,
                          "#f0f921"
                        ]
                      ]
                    },
                    "colorway": [
                      "#636efa",
                      "#EF553B",
                      "#00cc96",
                      "#ab63fa",
                      "#FFA15A",
                      "#19d3f3",
                      "#FF6692",
                      "#B6E880",
                      "#FF97FF",
                      "#FECB52"
                    ],
                    "font": {
                      "color": "#2a3f5f"
                    },
                    "geo": {
                      "bgcolor": "white",
                      "lakecolor": "white",
                      "landcolor": "#E5ECF6",
                      "showlakes": true,
                      "showland": true,
                      "subunitcolor": "white"
                    },
                    "hoverlabel": {
                      "align": "left"
                    },
                    "hovermode": "closest",
                    "mapbox": {
                      "style": "light"
                    },
                    "paper_bgcolor": "white",
                    "plot_bgcolor": "#E5ECF6",
                    "polar": {
                      "angularaxis": {
                        "gridcolor": "white",
                        "linecolor": "white",
                        "ticks": ""
                      },
                      "bgcolor": "#E5ECF6",
                      "radialaxis": {
                        "gridcolor": "white",
                        "linecolor": "white",
                        "ticks": ""
                      }
                    },
                    "scene": {
                      "xaxis": {
                        "backgroundcolor": "#E5ECF6",
                        "gridcolor": "white",
                        "gridwidth": 2,
                        "linecolor": "white",
                        "showbackground": true,
                        "ticks": "",
                        "zerolinecolor": "white"
                      },
                      "yaxis": {
                        "backgroundcolor": "#E5ECF6",
                        "gridcolor": "white",
                        "gridwidth": 2,
                        "linecolor": "white",
                        "showbackground": true,
                        "ticks": "",
                        "zerolinecolor": "white"
                      },
                      "zaxis": {
                        "backgroundcolor": "#E5ECF6",
                        "gridcolor": "white",
                        "gridwidth": 2,
                        "linecolor": "white",
                        "showbackground": true,
                        "ticks": "",
                        "zerolinecolor": "white"
                      }
                    },
                    "shapedefaults": {
                      "line": {
                        "color": "#2a3f5f"
                      }
                    },
                    "ternary": {
                      "aaxis": {
                        "gridcolor": "white",
                        "linecolor": "white",
                        "ticks": ""
                      },
                      "baxis": {
                        "gridcolor": "white",
                        "linecolor": "white",
                        "ticks": ""
                      },
                      "bgcolor": "#E5ECF6",
                      "caxis": {
                        "gridcolor": "white",
                        "linecolor": "white",
                        "ticks": ""
                      }
                    },
                    "title": {
                      "x": 0.05
                    },
                    "xaxis": {
                      "automargin": true,
                      "gridcolor": "white",
                      "linecolor": "white",
                      "ticks": "",
                      "title": {
                        "standoff": 15
                      },
                      "zerolinecolor": "white",
                      "zerolinewidth": 2
                    },
                    "yaxis": {
                      "automargin": true,
                      "gridcolor": "white",
                      "linecolor": "white",
                      "ticks": "",
                      "title": {
                        "standoff": 15
                      },
                      "zerolinecolor": "white",
                      "zerolinewidth": 2
                    }
                  }
                },
                "xaxis": {
                  "anchor": "y",
                  "domain": [
                    0,
                    1
                  ],
                  "rangeselector": {
                    "buttons": [
                      {
                        "count": 1,
                        "label": "YTD",
                        "step": "year",
                        "stepmode": "todate"
                      },
                      {
                        "count": 1,
                        "label": "1y",
                        "step": "year",
                        "stepmode": "backward"
                      },
                      {
                        "count": 3,
                        "label": "3y",
                        "step": "year",
                        "stepmode": "backward"
                      },
                      {
                        "count": 5,
                        "label": "5y",
                        "step": "year",
                        "stepmode": "backward"
                      },
                      {
                        "count": 7,
                        "label": "7y",
                        "step": "year",
                        "stepmode": "backward"
                      },
                      {
                        "count": 10,
                        "label": "10y",
                        "step": "year",
                        "stepmode": "backward"
                      },
                      {
                        "step": "all"
                      }
                    ]
                  },
                  "rangeslider": {
                    "visible": true
                  },
                  "title": {
                    "text": "Date"
                  }
                },
                "yaxis": {
                  "anchor": "x",
                  "domain": [
                    0,
                    1
                  ],
                  "title": {
                    "text": "M-YOY"
                  }
                }
              }
            }
          },
          "metadata": {},
          "output_type": "display_data"
        }
      ],
      "source": [
        "import pandas as pd\n",
        "import plotly.express as px\n",
        "import plotly.graph_objects as go\n",
        "\n",
        "df_show = dfs_cpi[\n",
        "    (\n",
        "        (dfs_cpi[\"Hàng hóa\"] == \"Lương thực\")\n",
        "        | (dfs_cpi[\"Hàng hóa\"] == \"Nhà ở và vật liệu xây dựng\")\n",
        "        | (dfs_cpi[\"Hàng hóa\"] == \"Giao thông\")\n",
        "        | (dfs_cpi[\"Hàng hóa\"] == \"Giáo dục\")\n",
        "        | (dfs_cpi[\"Hàng hóa\"] == \"Thuốc và dịch vụ y tế\")\n",
        "    )\n",
        "    & (dfs_cpi[\"Date\"] > \"2021-01-01\")\n",
        "]\n",
        "\n",
        "fig = px.area(df_show, x=\"Date\", y=\"M-YOY\", color=\"Hàng hóa\")\n",
        "\n",
        "fig.update_xaxes(\n",
        "    rangeslider_visible=True,\n",
        "    rangeselector=dict(\n",
        "        buttons=[\n",
        "            dict(count=1, label=\"YTD\", step=\"year\", stepmode=\"todate\"),\n",
        "            dict(count=1, label=\"1y\", step=\"year\", stepmode=\"backward\"),\n",
        "            dict(count=3, label=\"3y\", step=\"year\", stepmode=\"backward\"),\n",
        "            dict(count=5, label=\"5y\", step=\"year\", stepmode=\"backward\"),\n",
        "            dict(count=7, label=\"7y\", step=\"year\", stepmode=\"backward\"),\n",
        "            dict(count=10, label=\"10y\", step=\"year\", stepmode=\"backward\"),\n",
        "            dict(step=\"all\"),\n",
        "        ]\n",
        "    ),\n",
        ")\n",
        "\n",
        "fig.show()"
      ]
    },
    {
      "cell_type": "code",
      "execution_count": null,
      "metadata": {},
      "outputs": [],
      "source": []
    }
  ],
  "metadata": {
    "kernelspec": {
      "display_name": "vn-macroeconomics",
      "language": "python",
      "name": "python3"
    },
    "language_info": {
      "codemirror_mode": {
        "name": "ipython",
        "version": 3
      },
      "file_extension": ".py",
      "mimetype": "text/x-python",
      "name": "python",
      "nbconvert_exporter": "python",
      "pygments_lexer": "ipython3",
      "version": "3.9.12"
    },
    "orig_nbformat": 4
  },
  "nbformat": 4,
  "nbformat_minor": 2
}
