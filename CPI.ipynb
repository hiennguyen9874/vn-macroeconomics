{
  "cells": [
    {
      "cell_type": "code",
      "execution_count": 34,
      "metadata": {},
      "outputs": [],
      "source": [
        "import os\n",
        "import contextlib\n",
        "\n",
        "import pandas as pd\n",
        "import seaborn as sns\n",
        "from datetime import date\n",
        "import plotly.express as px\n",
        "import plotly.graph_objects as go"
      ]
    },
    {
      "cell_type": "code",
      "execution_count": 35,
      "metadata": {},
      "outputs": [],
      "source": [
        "def find_sheet_name(sheet_names):\n",
        "    cpi_sheet_names = list(filter(lambda x: \"cpi\" in x.lower(), sheet_names))\n",
        "\n",
        "    if len(cpi_sheet_names) == 1:\n",
        "        return cpi_sheet_names[0]\n",
        "\n",
        "    if len(sheet_names) == 43:\n",
        "        return \"30\"\n",
        "\n",
        "    if len(sheet_names) == 11:\n",
        "        return \"Sheet2\"\n",
        "\n",
        "    raise RuntimeError(sheet_names)"
      ]
    },
    {
      "cell_type": "code",
      "execution_count": 36,
      "metadata": {},
      "outputs": [],
      "source": [
        "en_to_vn = {\n",
        "    \"CONSUMER PRICE INDEXES\": \"CHỈ SỐ GIÁ TIÊU DÙNG\",\n",
        "    \"Food and catering services\": \"Hàng ăn và dịch vụ ăn uống\",\n",
        "    \"Grain food\": \"Lương thực\",\n",
        "    \"Foodstuff\": \"Thực phẩm\",\n",
        "    \"Outdoor eating and drinking\": \"Ăn uống ngoài gia đình\",\n",
        "    \"Drinks and tobacco\": \"Đồ uống và thuốc lá\",\n",
        "    \"Textile, footgear and hats\": \"May mặc, mũ nón và giày dép \",\n",
        "    \"Housing and construction materials\": \"Nhà ở và vật liệu xây dựng\",\n",
        "    \"Family appliances and tools\": \"Thiết bị và đồ dùng gia đình\",\n",
        "    \"Medicaments and health service\": \"Thuốc và dịch vụ y tế\",\n",
        "    \"Medical service\": \"Dịch vụ y tế\",\n",
        "    \"Transport\": \"Giao thông\",\n",
        "    \"Postal and communicational service\": \"Bưu chính viễn thông\",\n",
        "    \"Education\": \"Giáo dục\",\n",
        "    \"Educational service\": \"Dịch vụ giáo dục\",\n",
        "    \"Culture, entertainment and tourism\": \"Văn hoá, giải trí và du lịch\",\n",
        "    \"Others\": \"Hàng hóa và dịch vụ khác\",\n",
        "    \"GOLD PRICE INDEXES\": \"CHỈ SỐ GIÁ VÀNG\",\n",
        "    \"US DOLLAR PRICE INDEXES\": \"CHỈ SỐ GIÁ ĐÔ LA MỸ\",\n",
        "    \"CORE INFLATION\": \"LẠM PHÁT CƠ BẢN\",\n",
        "}"
      ]
    },
    {
      "cell_type": "code",
      "execution_count": 44,
      "metadata": {},
      "outputs": [
        {
          "data": {
            "text/html": [
              "<div>\n",
              "<style scoped>\n",
              "    .dataframe tbody tr th:only-of-type {\n",
              "        vertical-align: middle;\n",
              "    }\n",
              "\n",
              "    .dataframe tbody tr th {\n",
              "        vertical-align: top;\n",
              "    }\n",
              "\n",
              "    .dataframe thead th {\n",
              "        text-align: right;\n",
              "    }\n",
              "</style>\n",
              "<table border=\"1\" class=\"dataframe\">\n",
              "  <thead>\n",
              "    <tr style=\"text-align: right;\">\n",
              "      <th></th>\n",
              "      <th>Hàng hóa</th>\n",
              "      <th>M-YOY</th>\n",
              "      <th>MOM</th>\n",
              "      <th>YTD-YOY</th>\n",
              "      <th>Date</th>\n",
              "    </tr>\n",
              "  </thead>\n",
              "  <tbody>\n",
              "    <tr>\n",
              "      <th>7</th>\n",
              "      <td>CHỈ SỐ GIÁ TIÊU DÙNG</td>\n",
              "      <td>104.645396</td>\n",
              "      <td>100.208</td>\n",
              "      <td>104.961552</td>\n",
              "      <td>2017-03-29</td>\n",
              "    </tr>\n",
              "    <tr>\n",
              "      <th>9</th>\n",
              "      <td>Hàng ăn và dịch vụ ăn uống</td>\n",
              "      <td>100.106906</td>\n",
              "      <td>99.1291</td>\n",
              "      <td>100.986121</td>\n",
              "      <td>2017-03-29</td>\n",
              "    </tr>\n",
              "    <tr>\n",
              "      <th>10</th>\n",
              "      <td>Lương thực</td>\n",
              "      <td>102.075976</td>\n",
              "      <td>100.1563</td>\n",
              "      <td>102.265152</td>\n",
              "      <td>2017-03-29</td>\n",
              "    </tr>\n",
              "    <tr>\n",
              "      <th>11</th>\n",
              "      <td>Thực phẩm</td>\n",
              "      <td>99.12843</td>\n",
              "      <td>98.7754</td>\n",
              "      <td>100.400453</td>\n",
              "      <td>2017-03-29</td>\n",
              "    </tr>\n",
              "    <tr>\n",
              "      <th>12</th>\n",
              "      <td>Ăn uống ngoài gia đình</td>\n",
              "      <td>101.611167</td>\n",
              "      <td>99.5107</td>\n",
              "      <td>101.829086</td>\n",
              "      <td>2017-03-29</td>\n",
              "    </tr>\n",
              "    <tr>\n",
              "      <th>13</th>\n",
              "      <td>Đồ uống và thuốc lá</td>\n",
              "      <td>101.667901</td>\n",
              "      <td>99.9758</td>\n",
              "      <td>101.707909</td>\n",
              "      <td>2017-03-29</td>\n",
              "    </tr>\n",
              "    <tr>\n",
              "      <th>14</th>\n",
              "      <td>May mặc, mũ nón và giày dép</td>\n",
              "      <td>101.049762</td>\n",
              "      <td>99.8812</td>\n",
              "      <td>101.186123</td>\n",
              "      <td>2017-03-29</td>\n",
              "    </tr>\n",
              "    <tr>\n",
              "      <th>15</th>\n",
              "      <td>Nhà ở và vật liệu xây dựng</td>\n",
              "      <td>105.300223</td>\n",
              "      <td>100.4966</td>\n",
              "      <td>104.534412</td>\n",
              "      <td>2017-03-29</td>\n",
              "    </tr>\n",
              "    <tr>\n",
              "      <th>16</th>\n",
              "      <td>Thiết bị và đồ dùng gia đình</td>\n",
              "      <td>100.981384</td>\n",
              "      <td>100.0583</td>\n",
              "      <td>100.985408</td>\n",
              "      <td>2017-03-29</td>\n",
              "    </tr>\n",
              "    <tr>\n",
              "      <th>17</th>\n",
              "      <td>Thuốc và dịch vụ y tế</td>\n",
              "      <td>135.929031</td>\n",
              "      <td>107.5085</td>\n",
              "      <td>149.693252</td>\n",
              "      <td>2017-03-29</td>\n",
              "    </tr>\n",
              "    <tr>\n",
              "      <th>18</th>\n",
              "      <td>Dịch vụ y tế</td>\n",
              "      <td>148.646255</td>\n",
              "      <td>109.8574</td>\n",
              "      <td>168.629641</td>\n",
              "      <td>2017-03-29</td>\n",
              "    </tr>\n",
              "    <tr>\n",
              "      <th>19</th>\n",
              "      <td>Giao thông</td>\n",
              "      <td>114.565757</td>\n",
              "      <td>100.3871</td>\n",
              "      <td>109.782822</td>\n",
              "      <td>2017-03-29</td>\n",
              "    </tr>\n",
              "    <tr>\n",
              "      <th>20</th>\n",
              "      <td>Bưu chính viễn thông</td>\n",
              "      <td>99.416998</td>\n",
              "      <td>100.0285</td>\n",
              "      <td>99.299688</td>\n",
              "      <td>2017-03-29</td>\n",
              "    </tr>\n",
              "    <tr>\n",
              "      <th>21</th>\n",
              "      <td>Giáo dục</td>\n",
              "      <td>110.168081</td>\n",
              "      <td>100.7484</td>\n",
              "      <td>110.198235</td>\n",
              "      <td>2017-03-29</td>\n",
              "    </tr>\n",
              "    <tr>\n",
              "      <th>22</th>\n",
              "      <td>Dịch vụ giáo dục</td>\n",
              "      <td>111.783268</td>\n",
              "      <td>100.87</td>\n",
              "      <td>111.795064</td>\n",
              "      <td>2017-03-29</td>\n",
              "    </tr>\n",
              "    <tr>\n",
              "      <th>23</th>\n",
              "      <td>Văn hoá, giải trí và du lịch</td>\n",
              "      <td>100.915825</td>\n",
              "      <td>100.0353</td>\n",
              "      <td>101.018033</td>\n",
              "      <td>2017-03-29</td>\n",
              "    </tr>\n",
              "    <tr>\n",
              "      <th>24</th>\n",
              "      <td>Đồ dùng và dịch vụ khác</td>\n",
              "      <td>102.116302</td>\n",
              "      <td>100.0571</td>\n",
              "      <td>102.147595</td>\n",
              "      <td>2017-03-29</td>\n",
              "    </tr>\n",
              "    <tr>\n",
              "      <th>26</th>\n",
              "      <td>CHỈ SỐ GIÁ VÀNG</td>\n",
              "      <td>104.995293</td>\n",
              "      <td>99.7215</td>\n",
              "      <td>108.784515</td>\n",
              "      <td>2017-03-29</td>\n",
              "    </tr>\n",
              "    <tr>\n",
              "      <th>27</th>\n",
              "      <td>CHỈ SỐ GIÁ ĐÔ LA MỸ</td>\n",
              "      <td>101.916702</td>\n",
              "      <td>100.405</td>\n",
              "      <td>101.195075</td>\n",
              "      <td>2017-03-29</td>\n",
              "    </tr>\n",
              "    <tr>\n",
              "      <th>28</th>\n",
              "      <td>LẠM PHÁT CƠ BẢN</td>\n",
              "      <td>1.6</td>\n",
              "      <td>0</td>\n",
              "      <td>1.66</td>\n",
              "      <td>2017-03-29</td>\n",
              "    </tr>\n",
              "  </tbody>\n",
              "</table>\n",
              "</div>"
            ],
            "text/plain": [
              "                        Hàng hóa       M-YOY       MOM     YTD-YOY       Date\n",
              "7           CHỈ SỐ GIÁ TIÊU DÙNG  104.645396   100.208  104.961552 2017-03-29\n",
              "9     Hàng ăn và dịch vụ ăn uống  100.106906   99.1291  100.986121 2017-03-29\n",
              "10                    Lương thực  102.075976  100.1563  102.265152 2017-03-29\n",
              "11                     Thực phẩm    99.12843   98.7754  100.400453 2017-03-29\n",
              "12        Ăn uống ngoài gia đình  101.611167   99.5107  101.829086 2017-03-29\n",
              "13           Đồ uống và thuốc lá  101.667901   99.9758  101.707909 2017-03-29\n",
              "14   May mặc, mũ nón và giày dép  101.049762   99.8812  101.186123 2017-03-29\n",
              "15    Nhà ở và vật liệu xây dựng  105.300223  100.4966  104.534412 2017-03-29\n",
              "16  Thiết bị và đồ dùng gia đình  100.981384  100.0583  100.985408 2017-03-29\n",
              "17         Thuốc và dịch vụ y tế  135.929031  107.5085  149.693252 2017-03-29\n",
              "18                  Dịch vụ y tế  148.646255  109.8574  168.629641 2017-03-29\n",
              "19                    Giao thông  114.565757  100.3871  109.782822 2017-03-29\n",
              "20          Bưu chính viễn thông   99.416998  100.0285   99.299688 2017-03-29\n",
              "21                      Giáo dục  110.168081  100.7484  110.198235 2017-03-29\n",
              "22              Dịch vụ giáo dục  111.783268    100.87  111.795064 2017-03-29\n",
              "23  Văn hoá, giải trí và du lịch  100.915825  100.0353  101.018033 2017-03-29\n",
              "24       Đồ dùng và dịch vụ khác  102.116302  100.0571  102.147595 2017-03-29\n",
              "26               CHỈ SỐ GIÁ VÀNG  104.995293   99.7215  108.784515 2017-03-29\n",
              "27           CHỈ SỐ GIÁ ĐÔ LA MỸ  101.916702   100.405  101.195075 2017-03-29\n",
              "28               LẠM PHÁT CƠ BẢN         1.6         0        1.66 2017-03-29"
            ]
          },
          "execution_count": 44,
          "metadata": {},
          "output_type": "execute_result"
        }
      ],
      "source": [
        "def get_cpi(xl, sheet_name, date):\n",
        "    df = xl.parse(sheet_name)\n",
        "\n",
        "    if (\n",
        "        len(\n",
        "            df[df.columns[1]][\n",
        "                (df[df.columns[1]] == \"Hàng ăn và dịch vụ ăn uống\")\n",
        "                | (df[df.columns[1]] == \"Food and catering services\")\n",
        "            ].index\n",
        "        )\n",
        "        > 0\n",
        "    ):\n",
        "        df[df.columns[1]] = df[df.columns[1]].fillna(df[df.columns[0]])\n",
        "        df = df.drop(columns=[df.columns[0]])\n",
        "\n",
        "    if (\n",
        "        len(\n",
        "            df[df.columns[1]][\n",
        "                (df[df.columns[1]] == \"Lương thực\")\n",
        "                | (df[df.columns[1]] == \"Grain food\")\n",
        "                | (df[df.columns[1]] == \" Lương thực\")\n",
        "            ].index\n",
        "        )\n",
        "        > 0\n",
        "    ):\n",
        "        df[df.columns[1]] = df[df.columns[1]].fillna(df[df.columns[0]])\n",
        "        df = df.drop(columns=[df.columns[0]])\n",
        "\n",
        "    if len(df.columns) == 7:\n",
        "        df = df.drop(\n",
        "            columns=[df.columns[1], df.columns[3], df.columns[5]]\n",
        "        )\n",
        "        df.columns = [\"Hàng hóa\", \"M-YOY\", \"M-MOM\", \"YTD-YOY\"]\n",
        "    elif len(df.columns) == 6 and int(date.split(\"-\")[1]) == 12:\n",
        "        df = df.drop(columns=[df.columns[1], df.columns[4]])\n",
        "        df.columns = [\"Hàng hóa\", \"M-YOY\", \"M-MOM\", \"YTD-YOY\"]\n",
        "    elif len(df.columns) == 6:\n",
        "        df = df.drop(columns=[df.columns[1], df.columns[3]])\n",
        "        df.columns = [\"Hàng hóa\", \"M-YOY\", \"M-MOM\", \"YTD-YOY\"]\n",
        "    elif len(df.columns) == 4 and int(date.split(\"-\")[1]) == 1:\n",
        "        df = df.drop(columns=[df.columns[1]])\n",
        "        df[\"A\"] = df[df.columns[1]]\n",
        "        df.columns = [\"Hàng hóa\", \"M-YOY\", \"M-MOM\", \"YTD-YOY\"]\n",
        "    elif len(df.columns) == 5 and int(date.split(\"-\")[1]) == 12:\n",
        "        df = df.drop(columns=[df.columns[1]])\n",
        "        df.columns = [\"Hàng hóa\", \"M-YOY\", \"M-MOM\", \"YTD-YOY\"]\n",
        "    else:\n",
        "        raise RuntimeError(df.columns)\n",
        "\n",
        "    assert len(df.columns) == 4, list(df.columns)\n",
        "\n",
        "    df[df.columns[0]] = (\n",
        "        df[df.columns[0]]\n",
        "        .replace(r\"\\s+\", \" \", regex=True)\n",
        "        .replace(r\"\\n\", \" \", regex=True)\n",
        "    )\n",
        "\n",
        "    df[df.columns[0]] = df[df.columns[0]].str.strip()\n",
        "\n",
        "    df = df.drop(\n",
        "        list(\n",
        "            range(\n",
        "                df[df.columns[0]][\n",
        "                    (df[df.columns[0]] == \"CHỈ SỐ GIÁ TIÊU DÙNG\")\n",
        "                    | ((df[df.columns[0]] == \"CONSUMER PRICE INDEXES\"))\n",
        "                ].index[0]\n",
        "            )\n",
        "        )\n",
        "    )\n",
        "\n",
        "    if len(df[df.columns[0]][df[df.columns[0]] == \"CONSUMER PRICE INDEXES\"].index) > 0:\n",
        "        df[df.columns[0]] = df[df.columns[0]].map(en_to_vn)\n",
        "\n",
        "    df = df[pd.to_numeric(df[\"M-YOY\"], errors=\"coerce\").notnull()]\n",
        "    df = df[pd.to_numeric(df[\"YTD-YOY\"], errors=\"coerce\").notnull()]\n",
        "\n",
        "    df[\"Date\"] = date\n",
        "    df[\"Date\"] = pd.to_datetime(df[\"Date\"], dayfirst=False)\n",
        "\n",
        "    return df\n",
        "\n",
        "\n",
        "xl = pd.ExcelFile(\"datas/2017-03-29-Bieu-3-2017-1.xlsx\")\n",
        "\n",
        "sheet_name = find_sheet_name(xl.sheet_names)\n",
        "\n",
        "get_cpi(xl, sheet_name, \"2017-03-29\")"
      ]
    },
    {
      "cell_type": "code",
      "execution_count": 38,
      "metadata": {},
      "outputs": [],
      "source": [
        "import os\n",
        "import contextlib\n",
        "\n",
        "dfs_cpi_origin = []\n",
        "for file_name in sorted(\n",
        "    os.listdir(\"./datas\"),\n",
        "    key=lambda filename: f\"{filename.split('-')[0]}-{filename.split('-')[1]}-{filename.split('-')[2]}\",\n",
        "    reverse=True,\n",
        "):\n",
        "    if file_name.startswith(\".~\"):\n",
        "        continue\n",
        "\n",
        "    try:\n",
        "        file_path = os.path.join(\"./datas\", file_name)\n",
        "\n",
        "        year = int(file_name.split(\"-\")[0])\n",
        "        month = int(file_name.split(\"-\")[1])\n",
        "        day = int(file_name.split(\"-\")[2])\n",
        "\n",
        "        if year < 2014:\n",
        "            continue\n",
        "\n",
        "        xl = pd.ExcelFile(file_path)\n",
        "\n",
        "        df_cpi = get_cpi(xl, find_sheet_name(xl.sheet_names), f\"{year}-{month}-{day}\")\n",
        "\n",
        "        dfs_cpi_origin.append(df_cpi)\n",
        "    except Exception as e:\n",
        "        print(file_name)\n",
        "        raise e"
      ]
    },
    {
      "cell_type": "code",
      "execution_count": 39,
      "metadata": {},
      "outputs": [
        {
          "data": {
            "text/html": [
              "<div>\n",
              "<style scoped>\n",
              "    .dataframe tbody tr th:only-of-type {\n",
              "        vertical-align: middle;\n",
              "    }\n",
              "\n",
              "    .dataframe tbody tr th {\n",
              "        vertical-align: top;\n",
              "    }\n",
              "\n",
              "    .dataframe thead th {\n",
              "        text-align: right;\n",
              "    }\n",
              "</style>\n",
              "<table border=\"1\" class=\"dataframe\">\n",
              "  <thead>\n",
              "    <tr style=\"text-align: right;\">\n",
              "      <th></th>\n",
              "      <th>Hàng hóa</th>\n",
              "      <th>M-YOY</th>\n",
              "      <th>MOM</th>\n",
              "      <th>YTD-YOY</th>\n",
              "      <th>Date</th>\n",
              "    </tr>\n",
              "  </thead>\n",
              "  <tbody>\n",
              "    <tr>\n",
              "      <th>0</th>\n",
              "      <td>CHỈ SỐ GIÁ TIÊU DÙNG</td>\n",
              "      <td>103.976409</td>\n",
              "      <td>101.0373</td>\n",
              "      <td>103.673209</td>\n",
              "      <td>2024-02-29</td>\n",
              "    </tr>\n",
              "    <tr>\n",
              "      <th>1</th>\n",
              "      <td>Hàng ăn và dịch vụ ăn uống</td>\n",
              "      <td>104.234976</td>\n",
              "      <td>101.7146</td>\n",
              "      <td>103.266519</td>\n",
              "      <td>2024-02-29</td>\n",
              "    </tr>\n",
              "    <tr>\n",
              "      <th>2</th>\n",
              "      <td>Lương thực</td>\n",
              "      <td>117.355578</td>\n",
              "      <td>101.7492</td>\n",
              "      <td>116.490991</td>\n",
              "      <td>2024-02-29</td>\n",
              "    </tr>\n",
              "    <tr>\n",
              "      <th>3</th>\n",
              "      <td>Thực phẩm</td>\n",
              "      <td>102.137883</td>\n",
              "      <td>101.9847</td>\n",
              "      <td>100.891369</td>\n",
              "      <td>2024-02-29</td>\n",
              "    </tr>\n",
              "    <tr>\n",
              "      <th>4</th>\n",
              "      <td>Ăn uống ngoài gia đình</td>\n",
              "      <td>104.203352</td>\n",
              "      <td>101.0358</td>\n",
              "      <td>103.903106</td>\n",
              "      <td>2024-02-29</td>\n",
              "    </tr>\n",
              "    <tr>\n",
              "      <th>...</th>\n",
              "      <td>...</td>\n",
              "      <td>...</td>\n",
              "      <td>...</td>\n",
              "      <td>...</td>\n",
              "      <td>...</td>\n",
              "    </tr>\n",
              "    <tr>\n",
              "      <th>2420</th>\n",
              "      <td>Dịch vụ giáo dục</td>\n",
              "      <td>112.45</td>\n",
              "      <td>100</td>\n",
              "      <td>112.45</td>\n",
              "      <td>2014-01-29</td>\n",
              "    </tr>\n",
              "    <tr>\n",
              "      <th>2421</th>\n",
              "      <td>Văn hoá, giải trí và du lịch</td>\n",
              "      <td>102.9</td>\n",
              "      <td>100.21</td>\n",
              "      <td>102.9</td>\n",
              "      <td>2014-01-29</td>\n",
              "    </tr>\n",
              "    <tr>\n",
              "      <th>2422</th>\n",
              "      <td>Đồ dùng và dịch vụ khác</td>\n",
              "      <td>104.91</td>\n",
              "      <td>100.63</td>\n",
              "      <td>104.91</td>\n",
              "      <td>2014-01-29</td>\n",
              "    </tr>\n",
              "    <tr>\n",
              "      <th>2423</th>\n",
              "      <td>CHỈ SỐ GIÁ VÀNG</td>\n",
              "      <td>75.57</td>\n",
              "      <td>98.18</td>\n",
              "      <td>75.57</td>\n",
              "      <td>2014-01-29</td>\n",
              "    </tr>\n",
              "    <tr>\n",
              "      <th>2424</th>\n",
              "      <td>CHỈ SỐ GIÁ ĐÔ LA MỸ</td>\n",
              "      <td>101.11</td>\n",
              "      <td>99.94</td>\n",
              "      <td>101.11</td>\n",
              "      <td>2014-01-29</td>\n",
              "    </tr>\n",
              "  </tbody>\n",
              "</table>\n",
              "<p>2425 rows × 5 columns</p>\n",
              "</div>"
            ],
            "text/plain": [
              "                          Hàng hóa       M-YOY       MOM     YTD-YOY  \\\n",
              "0             CHỈ SỐ GIÁ TIÊU DÙNG  103.976409  101.0373  103.673209   \n",
              "1       Hàng ăn và dịch vụ ăn uống  104.234976  101.7146  103.266519   \n",
              "2                       Lương thực  117.355578  101.7492  116.490991   \n",
              "3                        Thực phẩm  102.137883  101.9847  100.891369   \n",
              "4           Ăn uống ngoài gia đình  104.203352  101.0358  103.903106   \n",
              "...                            ...         ...       ...         ...   \n",
              "2420              Dịch vụ giáo dục      112.45       100      112.45   \n",
              "2421  Văn hoá, giải trí và du lịch       102.9    100.21       102.9   \n",
              "2422       Đồ dùng và dịch vụ khác      104.91    100.63      104.91   \n",
              "2423               CHỈ SỐ GIÁ VÀNG       75.57     98.18       75.57   \n",
              "2424           CHỈ SỐ GIÁ ĐÔ LA MỸ      101.11     99.94      101.11   \n",
              "\n",
              "           Date  \n",
              "0    2024-02-29  \n",
              "1    2024-02-29  \n",
              "2    2024-02-29  \n",
              "3    2024-02-29  \n",
              "4    2024-02-29  \n",
              "...         ...  \n",
              "2420 2014-01-29  \n",
              "2421 2014-01-29  \n",
              "2422 2014-01-29  \n",
              "2423 2014-01-29  \n",
              "2424 2014-01-29  \n",
              "\n",
              "[2425 rows x 5 columns]"
            ]
          },
          "execution_count": 39,
          "metadata": {},
          "output_type": "execute_result"
        }
      ],
      "source": [
        "dfs_cpi = pd.concat(dfs_cpi_origin, ignore_index=True, axis=0)\n",
        "dfs_cpi[\"Date\"] = pd.to_datetime(dfs_cpi[\"Date\"], dayfirst=False)\n",
        "dfs_cpi"
      ]
    },
    {
      "cell_type": "code",
      "execution_count": 40,
      "metadata": {},
      "outputs": [
        {
          "data": {
            "text/html": [
              "<div>\n",
              "<style scoped>\n",
              "    .dataframe tbody tr th:only-of-type {\n",
              "        vertical-align: middle;\n",
              "    }\n",
              "\n",
              "    .dataframe tbody tr th {\n",
              "        vertical-align: top;\n",
              "    }\n",
              "\n",
              "    .dataframe thead th {\n",
              "        text-align: right;\n",
              "    }\n",
              "</style>\n",
              "<table border=\"1\" class=\"dataframe\">\n",
              "  <thead>\n",
              "    <tr style=\"text-align: right;\">\n",
              "      <th></th>\n",
              "      <th>Hàng hóa</th>\n",
              "      <th>M-YOY</th>\n",
              "      <th>MOM</th>\n",
              "      <th>YTD-YOY</th>\n",
              "      <th>Date</th>\n",
              "    </tr>\n",
              "  </thead>\n",
              "  <tbody>\n",
              "    <tr>\n",
              "      <th>0</th>\n",
              "      <td>CHỈ SỐ GIÁ TIÊU DÙNG</td>\n",
              "      <td>3.976409</td>\n",
              "      <td>1.0373</td>\n",
              "      <td>3.673209</td>\n",
              "      <td>2024-02-29</td>\n",
              "    </tr>\n",
              "    <tr>\n",
              "      <th>1</th>\n",
              "      <td>Hàng ăn và dịch vụ ăn uống</td>\n",
              "      <td>4.234976</td>\n",
              "      <td>1.7146</td>\n",
              "      <td>3.266519</td>\n",
              "      <td>2024-02-29</td>\n",
              "    </tr>\n",
              "    <tr>\n",
              "      <th>2</th>\n",
              "      <td>Lương thực</td>\n",
              "      <td>17.355578</td>\n",
              "      <td>1.7492</td>\n",
              "      <td>16.490991</td>\n",
              "      <td>2024-02-29</td>\n",
              "    </tr>\n",
              "    <tr>\n",
              "      <th>3</th>\n",
              "      <td>Thực phẩm</td>\n",
              "      <td>2.137883</td>\n",
              "      <td>1.9847</td>\n",
              "      <td>0.891369</td>\n",
              "      <td>2024-02-29</td>\n",
              "    </tr>\n",
              "    <tr>\n",
              "      <th>4</th>\n",
              "      <td>Ăn uống ngoài gia đình</td>\n",
              "      <td>4.203352</td>\n",
              "      <td>1.0358</td>\n",
              "      <td>3.903106</td>\n",
              "      <td>2024-02-29</td>\n",
              "    </tr>\n",
              "    <tr>\n",
              "      <th>...</th>\n",
              "      <td>...</td>\n",
              "      <td>...</td>\n",
              "      <td>...</td>\n",
              "      <td>...</td>\n",
              "      <td>...</td>\n",
              "    </tr>\n",
              "    <tr>\n",
              "      <th>2420</th>\n",
              "      <td>Dịch vụ giáo dục</td>\n",
              "      <td>12.45</td>\n",
              "      <td>0.0</td>\n",
              "      <td>12.45</td>\n",
              "      <td>2014-01-29</td>\n",
              "    </tr>\n",
              "    <tr>\n",
              "      <th>2421</th>\n",
              "      <td>Văn hoá, giải trí và du lịch</td>\n",
              "      <td>2.9</td>\n",
              "      <td>0.21</td>\n",
              "      <td>2.9</td>\n",
              "      <td>2014-01-29</td>\n",
              "    </tr>\n",
              "    <tr>\n",
              "      <th>2422</th>\n",
              "      <td>Đồ dùng và dịch vụ khác</td>\n",
              "      <td>4.91</td>\n",
              "      <td>0.63</td>\n",
              "      <td>4.91</td>\n",
              "      <td>2014-01-29</td>\n",
              "    </tr>\n",
              "    <tr>\n",
              "      <th>2423</th>\n",
              "      <td>CHỈ SỐ GIÁ VÀNG</td>\n",
              "      <td>-24.43</td>\n",
              "      <td>-1.82</td>\n",
              "      <td>-24.43</td>\n",
              "      <td>2014-01-29</td>\n",
              "    </tr>\n",
              "    <tr>\n",
              "      <th>2424</th>\n",
              "      <td>CHỈ SỐ GIÁ ĐÔ LA MỸ</td>\n",
              "      <td>1.11</td>\n",
              "      <td>-0.06</td>\n",
              "      <td>1.11</td>\n",
              "      <td>2014-01-29</td>\n",
              "    </tr>\n",
              "  </tbody>\n",
              "</table>\n",
              "<p>2425 rows × 5 columns</p>\n",
              "</div>"
            ],
            "text/plain": [
              "                          Hàng hóa      M-YOY     MOM    YTD-YOY       Date\n",
              "0             CHỈ SỐ GIÁ TIÊU DÙNG   3.976409  1.0373   3.673209 2024-02-29\n",
              "1       Hàng ăn và dịch vụ ăn uống   4.234976  1.7146   3.266519 2024-02-29\n",
              "2                       Lương thực  17.355578  1.7492  16.490991 2024-02-29\n",
              "3                        Thực phẩm   2.137883  1.9847   0.891369 2024-02-29\n",
              "4           Ăn uống ngoài gia đình   4.203352  1.0358   3.903106 2024-02-29\n",
              "...                            ...        ...     ...        ...        ...\n",
              "2420              Dịch vụ giáo dục      12.45     0.0      12.45 2014-01-29\n",
              "2421  Văn hoá, giải trí và du lịch        2.9    0.21        2.9 2014-01-29\n",
              "2422       Đồ dùng và dịch vụ khác       4.91    0.63       4.91 2014-01-29\n",
              "2423               CHỈ SỐ GIÁ VÀNG     -24.43   -1.82     -24.43 2014-01-29\n",
              "2424           CHỈ SỐ GIÁ ĐÔ LA MỸ       1.11   -0.06       1.11 2014-01-29\n",
              "\n",
              "[2425 rows x 5 columns]"
            ]
          },
          "execution_count": 40,
          "metadata": {},
          "output_type": "execute_result"
        }
      ],
      "source": [
        "dfs_cpi.loc[dfs_cpi[\"Hàng hóa\"] != \"LẠM PHÁT CƠ BẢN\", \"M-YOY\"] = (\n",
        "    dfs_cpi.loc[dfs_cpi[\"Hàng hóa\"] != \"LẠM PHÁT CƠ BẢN\", \"M-YOY\"].astype(float) - 100\n",
        ")\n",
        "dfs_cpi.loc[dfs_cpi[\"Hàng hóa\"] != \"LẠM PHÁT CƠ BẢN\", \"YTD-YOY\"] = (\n",
        "    dfs_cpi.loc[dfs_cpi[\"Hàng hóa\"] != \"LẠM PHÁT CƠ BẢN\", \"YTD-YOY\"].astype(float) - 100\n",
        ")\n",
        "dfs_cpi.loc[dfs_cpi[\"Hàng hóa\"] != \"LẠM PHÁT CƠ BẢN\", \"M-MOM\"] = (\n",
        "    dfs_cpi.loc[dfs_cpi[\"Hàng hóa\"] != \"LẠM PHÁT CƠ BẢN\", \"M-MOM\"].astype(float) - 100\n",
        ")\n",
        "dfs_cpi"
      ]
    },
    {
      "cell_type": "code",
      "execution_count": 47,
      "metadata": {},
      "outputs": [],
      "source": [
        "dfs_cpi.to_csv('csv/cpi.csv')"
      ]
    },
    {
      "cell_type": "code",
      "execution_count": 48,
      "metadata": {},
      "outputs": [],
      "source": [
        "dfs_cpi = pd.read_csv('csv/cpi.csv')"
      ]
    },
    {
      "cell_type": "code",
      "execution_count": 49,
      "metadata": {},
      "outputs": [
        {
          "data": {
            "application/vnd.plotly.v1+json": {
              "config": {
                "plotlyServerURL": "https://plot.ly"
              },
              "data": [
                {
                  "fillpattern": {
                    "shape": ""
                  },
                  "hovertemplate": "Hàng hóa=CHỈ SỐ GIÁ TIÊU DÙNG<br>Date=%{x}<br>M-YOY=%{y}<extra></extra>",
                  "legendgroup": "CHỈ SỐ GIÁ TIÊU DÙNG",
                  "line": {
                    "color": "#636efa"
                  },
                  "marker": {
                    "symbol": "circle"
                  },
                  "mode": "lines",
                  "name": "CHỈ SỐ GIÁ TIÊU DÙNG",
                  "orientation": "v",
                  "showlegend": true,
                  "stackgroup": "1",
                  "type": "scatter",
                  "x": [
                    "2024-02-29",
                    "2024-01-29",
                    "2023-12-29",
                    "2023-11-29",
                    "2023-10-29",
                    "2023-09-29",
                    "2023-08-29",
                    "2023-07-29",
                    "2023-06-29",
                    "2023-05-29",
                    "2023-04-29",
                    "2023-03-29",
                    "2023-02-28",
                    "2023-01-29",
                    "2022-12-29",
                    "2022-11-29",
                    "2022-10-29",
                    "2022-09-29",
                    "2022-08-29",
                    "2022-07-29",
                    "2022-06-29",
                    "2022-05-29",
                    "2022-04-29",
                    "2022-03-29",
                    "2022-02-28",
                    "2022-01-29",
                    "2021-12-29",
                    "2021-11-29",
                    "2021-10-29",
                    "2021-09-29",
                    "2021-08-29",
                    "2021-07-29",
                    "2021-06-29",
                    "2021-05-29",
                    "2021-04-29",
                    "2021-03-29",
                    "2021-02-28",
                    "2021-01-29",
                    "2020-12-27",
                    "2020-11-29",
                    "2020-10-29",
                    "2020-09-29",
                    "2020-08-29",
                    "2020-07-29",
                    "2020-06-29",
                    "2020-05-29",
                    "2020-04-29",
                    "2020-03-27",
                    "2020-02-29",
                    "2020-01-29",
                    "2019-12-27",
                    "2019-11-29",
                    "2019-10-29",
                    "2019-09-28",
                    "2019-08-29",
                    "2019-07-29",
                    "2019-06-28",
                    "2019-05-27",
                    "2019-04-29",
                    "2019-03-29",
                    "2019-02-28",
                    "2019-01-29",
                    "2018-12-27",
                    "2018-11-29",
                    "2018-10-29",
                    "2018-09-28",
                    "2018-08-29",
                    "2018-07-27",
                    "2018-06-29",
                    "2018-05-29",
                    "2018-04-27",
                    "2018-03-29",
                    "2018-02-28",
                    "2018-01-29",
                    "2017-12-29",
                    "2017-11-29",
                    "2017-10-27",
                    "2017-09-29",
                    "2017-08-29",
                    "2017-07-28",
                    "2017-06-29",
                    "2017-05-29",
                    "2017-04-28",
                    "2017-03-29",
                    "2017-02-28",
                    "2017-01-27",
                    "2016-12-29",
                    "2016-11-29",
                    "2016-10-28",
                    "2016-09-29",
                    "2016-08-29",
                    "2016-07-29",
                    "2016-06-29",
                    "2016-05-30",
                    "2016-04-29",
                    "2016-03-29",
                    "2016-02-29",
                    "2016-01-29",
                    "2015-12-29",
                    "2015-11-30",
                    "2015-10-29",
                    "2015-09-29",
                    "2015-08-28",
                    "2015-07-29",
                    "2015-06-29",
                    "2015-05-29",
                    "2015-04-29",
                    "2015-03-29",
                    "2015-02-28",
                    "2015-01-29"
                  ],
                  "xaxis": "x",
                  "y": [
                    3.976409010563003,
                    3.371201990716997,
                    3.581010773179002,
                    3.4482700501140044,
                    3.5913971298803915,
                    3.656606108291953,
                    2.957425815823996,
                    2.063294003648622,
                    2.002841282691349,
                    2.4280760814012723,
                    2.8074412228211685,
                    3.3509953033500324,
                    4.31184970587924,
                    4.886635580211404,
                    4.5488581081517765,
                    4.372043887313296,
                    4.303112125995796,
                    3.9403511154482658,
                    2.8908863403781453,
                    3.14089894356772,
                    3.3742096478545136,
                    2.862910527975842,
                    2.6379764651902207,
                    2.4098224076842314,
                    1.4239792506967746,
                    1.941831758157832,
                    1.8103747830905237,
                    2.100450266050686,
                    1.7653089518020266,
                    2.060009230939656,
                    2.8199306153697563,
                    2.641876611696574,
                    2.414299027857709,
                    2.895768103231646,
                    2.702013591735166,
                    1.156167036003069,
                    0.7002495741307797,
                    -0.9712749181259568,
                    0.1870344951584286,
                    1.484325221418075,
                    2.469820800946706,
                    2.980911119800993,
                    3.1771543753644096,
                    3.3893353086353244,
                    3.165151890058993,
                    2.395859282500368,
                    2.931756259153346,
                    4.868552809587044,
                    5.404710909541421,
                    6.427368778051658,
                    5.234548934921975,
                    3.5193334098700007,
                    2.236653624526255,
                    1.9789912899080804,
                    2.2618051316336505,
                    2.437204143826904,
                    2.1588755189302304,
                    2.875363361482244,
                    2.932179086623151,
                    2.69996273937754,
                    2.6387279133522696,
                    2.562971959510719,
                    2.9829651482614,
                    3.4579949214431167,
                    3.893671533467312,
                    3.980000000000004,
                    3.980000000000004,
                    4.459999999999994,
                    4.670000000000002,
                    3.86,
                    2.75,
                    2.6599999999999966,
                    3.1500000000000057,
                    2.6500000000000057,
                    2.5999999999999943,
                    2.6200000000000045,
                    2.9757536961567723,
                    3.4046244885168875,
                    3.354254463436007,
                    2.5197778178611685,
                    2.538518378806458,
                    3.191370231141491,
                    4.299549822648558,
                    4.645396062780407,
                    5.022903953135455,
                    5.217162241187083,
                    4.7372475345191845,
                    4.516962565022027,
                    4.089972972663091,
                    3.344849484917489,
                    2.570763484514771,
                    2.3941123789995373,
                    2.396157643308783,
                    2.279456121376569,
                    1.8900000000000008,
                    1.6899999999999975,
                    1.269999999999996,
                    0.7999999999999972,
                    0.5999999999999943,
                    0.3389076987480024,
                    0,
                    0,
                    0.6099999999999994,
                    0.9000000000000057,
                    1.001805108760507,
                    0.9500000000000028,
                    0.9899999999999948,
                    0.9300000000000068,
                    0.3366833821732911,
                    0.9399999999999976
                  ],
                  "yaxis": "y"
                },
                {
                  "fillpattern": {
                    "shape": ""
                  },
                  "hovertemplate": "Hàng hóa=LẠM PHÁT CƠ BẢN<br>Date=%{x}<br>M-YOY=%{y}<extra></extra>",
                  "legendgroup": "LẠM PHÁT CƠ BẢN",
                  "line": {
                    "color": "#EF553B"
                  },
                  "marker": {
                    "symbol": "circle"
                  },
                  "mode": "lines",
                  "name": "LẠM PHÁT CƠ BẢN",
                  "orientation": "v",
                  "showlegend": true,
                  "stackgroup": "1",
                  "type": "scatter",
                  "x": [
                    "2024-02-29",
                    "2024-01-29",
                    "2023-12-29",
                    "2023-11-29",
                    "2023-10-29",
                    "2023-09-29",
                    "2023-08-29",
                    "2023-07-29",
                    "2023-06-29",
                    "2023-05-29",
                    "2023-04-29",
                    "2023-03-29",
                    "2023-02-28",
                    "2023-01-29",
                    "2022-12-29",
                    "2022-11-29",
                    "2022-10-29",
                    "2022-09-29",
                    "2022-08-29",
                    "2022-07-29",
                    "2022-06-29",
                    "2022-05-29",
                    "2022-04-29",
                    "2022-03-29",
                    "2022-02-28",
                    "2022-01-29",
                    "2021-12-29",
                    "2021-11-29",
                    "2021-10-29",
                    "2021-09-29",
                    "2021-08-29",
                    "2021-07-29",
                    "2021-06-29",
                    "2021-05-29",
                    "2021-04-29",
                    "2021-03-29",
                    "2021-02-28",
                    "2021-01-29",
                    "2020-12-27",
                    "2020-11-29",
                    "2020-10-29",
                    "2020-09-29",
                    "2020-08-29",
                    "2020-07-29",
                    "2020-06-29",
                    "2020-05-29",
                    "2020-04-29",
                    "2020-03-27",
                    "2020-02-29",
                    "2020-01-29",
                    "2019-12-27",
                    "2019-11-29",
                    "2019-10-29",
                    "2019-09-28",
                    "2019-08-29",
                    "2019-07-29",
                    "2019-06-28",
                    "2019-05-27",
                    "2019-04-29",
                    "2019-03-29",
                    "2019-02-28",
                    "2019-01-29",
                    "2018-12-27",
                    "2018-11-29",
                    "2018-10-29",
                    "2018-09-28",
                    "2018-08-29",
                    "2018-07-27",
                    "2018-06-29",
                    "2018-05-29",
                    "2018-04-27",
                    "2018-03-29",
                    "2018-02-28",
                    "2018-01-29",
                    "2017-12-29",
                    "2017-11-29",
                    "2017-10-27",
                    "2017-09-29",
                    "2017-08-29",
                    "2017-07-28",
                    "2017-06-29",
                    "2017-05-29",
                    "2017-04-28",
                    "2017-03-29",
                    "2017-02-28",
                    "2017-01-27",
                    "2016-12-29",
                    "2016-11-29",
                    "2016-10-28",
                    "2016-09-29",
                    "2016-08-29",
                    "2016-07-29",
                    "2016-06-29",
                    "2016-05-30",
                    "2016-04-29",
                    "2016-03-29",
                    "2016-02-29",
                    "2016-01-29",
                    "2015-12-29",
                    "2015-11-30",
                    "2015-10-29",
                    "2015-09-29",
                    "2015-08-28",
                    "2015-07-29",
                    "2015-06-29"
                  ],
                  "xaxis": "x",
                  "y": [
                    2.95637581460404,
                    2.72,
                    2.98,
                    3.15,
                    3.4287333542720733,
                    3.8036635749210346,
                    4.02101048910859,
                    4.10972978153703,
                    4.33,
                    4.54,
                    4.56,
                    4.879999140299018,
                    4.957385198216779,
                    5.205370147341082,
                    4.99,
                    4.805018,
                    4.47,
                    3.8233418972697386,
                    3.0638376621952013,
                    2.6289653518277944,
                    1.98,
                    1.61,
                    1.47,
                    1.091050239664848,
                    0.6764798446099451,
                    0.6605682417216041,
                    0.67,
                    0.58,
                    0.5,
                    0.7366290871253733,
                    0.977033596968635,
                    0.986930902212646,
                    1.14,
                    1.13,
                    0.95,
                    0.7320584039380851,
                    0.7939319541711232,
                    0.4911236426038634,
                    0.99,
                    1.61,
                    1.879267638213089,
                    1.96986485724231,
                    2.1582867189257504,
                    2.31,
                    2.45,
                    2.5446985643234887,
                    2.71,
                    2.952667198177439,
                    2.943732647307096,
                    3.254333857930658,
                    2.78,
                    2.182375432551153,
                    1.991603436397704,
                    1.96,
                    1.95,
                    2.04,
                    1.96,
                    1.9,
                    1.88,
                    1.8410577714196965,
                    1.82,
                    1.83,
                    1.7,
                    1.72,
                    1.67,
                    1.61,
                    1.54,
                    1.41,
                    1.37,
                    1.37,
                    1.33,
                    1.38,
                    1.47,
                    1.18,
                    1.29,
                    1.28,
                    1.32,
                    1.32,
                    1.31,
                    1.3,
                    1.29,
                    1.33,
                    1.5,
                    1.6,
                    1.51,
                    1.88,
                    1.87,
                    1.87,
                    1.86,
                    1.85,
                    1.83,
                    1.85,
                    1.88,
                    1.87,
                    1.76,
                    1.64,
                    1.93,
                    1.72,
                    1.69,
                    1.72,
                    1.82,
                    1.87,
                    1.98,
                    2.04,
                    2.01
                  ],
                  "yaxis": "y"
                }
              ],
              "layout": {
                "legend": {
                  "title": {
                    "text": "Hàng hóa"
                  },
                  "tracegroupgap": 0
                },
                "margin": {
                  "t": 60
                },
                "template": {
                  "data": {
                    "bar": [
                      {
                        "error_x": {
                          "color": "#2a3f5f"
                        },
                        "error_y": {
                          "color": "#2a3f5f"
                        },
                        "marker": {
                          "line": {
                            "color": "#E5ECF6",
                            "width": 0.5
                          },
                          "pattern": {
                            "fillmode": "overlay",
                            "size": 10,
                            "solidity": 0.2
                          }
                        },
                        "type": "bar"
                      }
                    ],
                    "barpolar": [
                      {
                        "marker": {
                          "line": {
                            "color": "#E5ECF6",
                            "width": 0.5
                          },
                          "pattern": {
                            "fillmode": "overlay",
                            "size": 10,
                            "solidity": 0.2
                          }
                        },
                        "type": "barpolar"
                      }
                    ],
                    "carpet": [
                      {
                        "aaxis": {
                          "endlinecolor": "#2a3f5f",
                          "gridcolor": "white",
                          "linecolor": "white",
                          "minorgridcolor": "white",
                          "startlinecolor": "#2a3f5f"
                        },
                        "baxis": {
                          "endlinecolor": "#2a3f5f",
                          "gridcolor": "white",
                          "linecolor": "white",
                          "minorgridcolor": "white",
                          "startlinecolor": "#2a3f5f"
                        },
                        "type": "carpet"
                      }
                    ],
                    "choropleth": [
                      {
                        "colorbar": {
                          "outlinewidth": 0,
                          "ticks": ""
                        },
                        "type": "choropleth"
                      }
                    ],
                    "contour": [
                      {
                        "colorbar": {
                          "outlinewidth": 0,
                          "ticks": ""
                        },
                        "colorscale": [
                          [
                            0,
                            "#0d0887"
                          ],
                          [
                            0.1111111111111111,
                            "#46039f"
                          ],
                          [
                            0.2222222222222222,
                            "#7201a8"
                          ],
                          [
                            0.3333333333333333,
                            "#9c179e"
                          ],
                          [
                            0.4444444444444444,
                            "#bd3786"
                          ],
                          [
                            0.5555555555555556,
                            "#d8576b"
                          ],
                          [
                            0.6666666666666666,
                            "#ed7953"
                          ],
                          [
                            0.7777777777777778,
                            "#fb9f3a"
                          ],
                          [
                            0.8888888888888888,
                            "#fdca26"
                          ],
                          [
                            1,
                            "#f0f921"
                          ]
                        ],
                        "type": "contour"
                      }
                    ],
                    "contourcarpet": [
                      {
                        "colorbar": {
                          "outlinewidth": 0,
                          "ticks": ""
                        },
                        "type": "contourcarpet"
                      }
                    ],
                    "heatmap": [
                      {
                        "colorbar": {
                          "outlinewidth": 0,
                          "ticks": ""
                        },
                        "colorscale": [
                          [
                            0,
                            "#0d0887"
                          ],
                          [
                            0.1111111111111111,
                            "#46039f"
                          ],
                          [
                            0.2222222222222222,
                            "#7201a8"
                          ],
                          [
                            0.3333333333333333,
                            "#9c179e"
                          ],
                          [
                            0.4444444444444444,
                            "#bd3786"
                          ],
                          [
                            0.5555555555555556,
                            "#d8576b"
                          ],
                          [
                            0.6666666666666666,
                            "#ed7953"
                          ],
                          [
                            0.7777777777777778,
                            "#fb9f3a"
                          ],
                          [
                            0.8888888888888888,
                            "#fdca26"
                          ],
                          [
                            1,
                            "#f0f921"
                          ]
                        ],
                        "type": "heatmap"
                      }
                    ],
                    "heatmapgl": [
                      {
                        "colorbar": {
                          "outlinewidth": 0,
                          "ticks": ""
                        },
                        "colorscale": [
                          [
                            0,
                            "#0d0887"
                          ],
                          [
                            0.1111111111111111,
                            "#46039f"
                          ],
                          [
                            0.2222222222222222,
                            "#7201a8"
                          ],
                          [
                            0.3333333333333333,
                            "#9c179e"
                          ],
                          [
                            0.4444444444444444,
                            "#bd3786"
                          ],
                          [
                            0.5555555555555556,
                            "#d8576b"
                          ],
                          [
                            0.6666666666666666,
                            "#ed7953"
                          ],
                          [
                            0.7777777777777778,
                            "#fb9f3a"
                          ],
                          [
                            0.8888888888888888,
                            "#fdca26"
                          ],
                          [
                            1,
                            "#f0f921"
                          ]
                        ],
                        "type": "heatmapgl"
                      }
                    ],
                    "histogram": [
                      {
                        "marker": {
                          "pattern": {
                            "fillmode": "overlay",
                            "size": 10,
                            "solidity": 0.2
                          }
                        },
                        "type": "histogram"
                      }
                    ],
                    "histogram2d": [
                      {
                        "colorbar": {
                          "outlinewidth": 0,
                          "ticks": ""
                        },
                        "colorscale": [
                          [
                            0,
                            "#0d0887"
                          ],
                          [
                            0.1111111111111111,
                            "#46039f"
                          ],
                          [
                            0.2222222222222222,
                            "#7201a8"
                          ],
                          [
                            0.3333333333333333,
                            "#9c179e"
                          ],
                          [
                            0.4444444444444444,
                            "#bd3786"
                          ],
                          [
                            0.5555555555555556,
                            "#d8576b"
                          ],
                          [
                            0.6666666666666666,
                            "#ed7953"
                          ],
                          [
                            0.7777777777777778,
                            "#fb9f3a"
                          ],
                          [
                            0.8888888888888888,
                            "#fdca26"
                          ],
                          [
                            1,
                            "#f0f921"
                          ]
                        ],
                        "type": "histogram2d"
                      }
                    ],
                    "histogram2dcontour": [
                      {
                        "colorbar": {
                          "outlinewidth": 0,
                          "ticks": ""
                        },
                        "colorscale": [
                          [
                            0,
                            "#0d0887"
                          ],
                          [
                            0.1111111111111111,
                            "#46039f"
                          ],
                          [
                            0.2222222222222222,
                            "#7201a8"
                          ],
                          [
                            0.3333333333333333,
                            "#9c179e"
                          ],
                          [
                            0.4444444444444444,
                            "#bd3786"
                          ],
                          [
                            0.5555555555555556,
                            "#d8576b"
                          ],
                          [
                            0.6666666666666666,
                            "#ed7953"
                          ],
                          [
                            0.7777777777777778,
                            "#fb9f3a"
                          ],
                          [
                            0.8888888888888888,
                            "#fdca26"
                          ],
                          [
                            1,
                            "#f0f921"
                          ]
                        ],
                        "type": "histogram2dcontour"
                      }
                    ],
                    "mesh3d": [
                      {
                        "colorbar": {
                          "outlinewidth": 0,
                          "ticks": ""
                        },
                        "type": "mesh3d"
                      }
                    ],
                    "parcoords": [
                      {
                        "line": {
                          "colorbar": {
                            "outlinewidth": 0,
                            "ticks": ""
                          }
                        },
                        "type": "parcoords"
                      }
                    ],
                    "pie": [
                      {
                        "automargin": true,
                        "type": "pie"
                      }
                    ],
                    "scatter": [
                      {
                        "fillpattern": {
                          "fillmode": "overlay",
                          "size": 10,
                          "solidity": 0.2
                        },
                        "type": "scatter"
                      }
                    ],
                    "scatter3d": [
                      {
                        "line": {
                          "colorbar": {
                            "outlinewidth": 0,
                            "ticks": ""
                          }
                        },
                        "marker": {
                          "colorbar": {
                            "outlinewidth": 0,
                            "ticks": ""
                          }
                        },
                        "type": "scatter3d"
                      }
                    ],
                    "scattercarpet": [
                      {
                        "marker": {
                          "colorbar": {
                            "outlinewidth": 0,
                            "ticks": ""
                          }
                        },
                        "type": "scattercarpet"
                      }
                    ],
                    "scattergeo": [
                      {
                        "marker": {
                          "colorbar": {
                            "outlinewidth": 0,
                            "ticks": ""
                          }
                        },
                        "type": "scattergeo"
                      }
                    ],
                    "scattergl": [
                      {
                        "marker": {
                          "colorbar": {
                            "outlinewidth": 0,
                            "ticks": ""
                          }
                        },
                        "type": "scattergl"
                      }
                    ],
                    "scattermapbox": [
                      {
                        "marker": {
                          "colorbar": {
                            "outlinewidth": 0,
                            "ticks": ""
                          }
                        },
                        "type": "scattermapbox"
                      }
                    ],
                    "scatterpolar": [
                      {
                        "marker": {
                          "colorbar": {
                            "outlinewidth": 0,
                            "ticks": ""
                          }
                        },
                        "type": "scatterpolar"
                      }
                    ],
                    "scatterpolargl": [
                      {
                        "marker": {
                          "colorbar": {
                            "outlinewidth": 0,
                            "ticks": ""
                          }
                        },
                        "type": "scatterpolargl"
                      }
                    ],
                    "scatterternary": [
                      {
                        "marker": {
                          "colorbar": {
                            "outlinewidth": 0,
                            "ticks": ""
                          }
                        },
                        "type": "scatterternary"
                      }
                    ],
                    "surface": [
                      {
                        "colorbar": {
                          "outlinewidth": 0,
                          "ticks": ""
                        },
                        "colorscale": [
                          [
                            0,
                            "#0d0887"
                          ],
                          [
                            0.1111111111111111,
                            "#46039f"
                          ],
                          [
                            0.2222222222222222,
                            "#7201a8"
                          ],
                          [
                            0.3333333333333333,
                            "#9c179e"
                          ],
                          [
                            0.4444444444444444,
                            "#bd3786"
                          ],
                          [
                            0.5555555555555556,
                            "#d8576b"
                          ],
                          [
                            0.6666666666666666,
                            "#ed7953"
                          ],
                          [
                            0.7777777777777778,
                            "#fb9f3a"
                          ],
                          [
                            0.8888888888888888,
                            "#fdca26"
                          ],
                          [
                            1,
                            "#f0f921"
                          ]
                        ],
                        "type": "surface"
                      }
                    ],
                    "table": [
                      {
                        "cells": {
                          "fill": {
                            "color": "#EBF0F8"
                          },
                          "line": {
                            "color": "white"
                          }
                        },
                        "header": {
                          "fill": {
                            "color": "#C8D4E3"
                          },
                          "line": {
                            "color": "white"
                          }
                        },
                        "type": "table"
                      }
                    ]
                  },
                  "layout": {
                    "annotationdefaults": {
                      "arrowcolor": "#2a3f5f",
                      "arrowhead": 0,
                      "arrowwidth": 1
                    },
                    "autotypenumbers": "strict",
                    "coloraxis": {
                      "colorbar": {
                        "outlinewidth": 0,
                        "ticks": ""
                      }
                    },
                    "colorscale": {
                      "diverging": [
                        [
                          0,
                          "#8e0152"
                        ],
                        [
                          0.1,
                          "#c51b7d"
                        ],
                        [
                          0.2,
                          "#de77ae"
                        ],
                        [
                          0.3,
                          "#f1b6da"
                        ],
                        [
                          0.4,
                          "#fde0ef"
                        ],
                        [
                          0.5,
                          "#f7f7f7"
                        ],
                        [
                          0.6,
                          "#e6f5d0"
                        ],
                        [
                          0.7,
                          "#b8e186"
                        ],
                        [
                          0.8,
                          "#7fbc41"
                        ],
                        [
                          0.9,
                          "#4d9221"
                        ],
                        [
                          1,
                          "#276419"
                        ]
                      ],
                      "sequential": [
                        [
                          0,
                          "#0d0887"
                        ],
                        [
                          0.1111111111111111,
                          "#46039f"
                        ],
                        [
                          0.2222222222222222,
                          "#7201a8"
                        ],
                        [
                          0.3333333333333333,
                          "#9c179e"
                        ],
                        [
                          0.4444444444444444,
                          "#bd3786"
                        ],
                        [
                          0.5555555555555556,
                          "#d8576b"
                        ],
                        [
                          0.6666666666666666,
                          "#ed7953"
                        ],
                        [
                          0.7777777777777778,
                          "#fb9f3a"
                        ],
                        [
                          0.8888888888888888,
                          "#fdca26"
                        ],
                        [
                          1,
                          "#f0f921"
                        ]
                      ],
                      "sequentialminus": [
                        [
                          0,
                          "#0d0887"
                        ],
                        [
                          0.1111111111111111,
                          "#46039f"
                        ],
                        [
                          0.2222222222222222,
                          "#7201a8"
                        ],
                        [
                          0.3333333333333333,
                          "#9c179e"
                        ],
                        [
                          0.4444444444444444,
                          "#bd3786"
                        ],
                        [
                          0.5555555555555556,
                          "#d8576b"
                        ],
                        [
                          0.6666666666666666,
                          "#ed7953"
                        ],
                        [
                          0.7777777777777778,
                          "#fb9f3a"
                        ],
                        [
                          0.8888888888888888,
                          "#fdca26"
                        ],
                        [
                          1,
                          "#f0f921"
                        ]
                      ]
                    },
                    "colorway": [
                      "#636efa",
                      "#EF553B",
                      "#00cc96",
                      "#ab63fa",
                      "#FFA15A",
                      "#19d3f3",
                      "#FF6692",
                      "#B6E880",
                      "#FF97FF",
                      "#FECB52"
                    ],
                    "font": {
                      "color": "#2a3f5f"
                    },
                    "geo": {
                      "bgcolor": "white",
                      "lakecolor": "white",
                      "landcolor": "#E5ECF6",
                      "showlakes": true,
                      "showland": true,
                      "subunitcolor": "white"
                    },
                    "hoverlabel": {
                      "align": "left"
                    },
                    "hovermode": "closest",
                    "mapbox": {
                      "style": "light"
                    },
                    "paper_bgcolor": "white",
                    "plot_bgcolor": "#E5ECF6",
                    "polar": {
                      "angularaxis": {
                        "gridcolor": "white",
                        "linecolor": "white",
                        "ticks": ""
                      },
                      "bgcolor": "#E5ECF6",
                      "radialaxis": {
                        "gridcolor": "white",
                        "linecolor": "white",
                        "ticks": ""
                      }
                    },
                    "scene": {
                      "xaxis": {
                        "backgroundcolor": "#E5ECF6",
                        "gridcolor": "white",
                        "gridwidth": 2,
                        "linecolor": "white",
                        "showbackground": true,
                        "ticks": "",
                        "zerolinecolor": "white"
                      },
                      "yaxis": {
                        "backgroundcolor": "#E5ECF6",
                        "gridcolor": "white",
                        "gridwidth": 2,
                        "linecolor": "white",
                        "showbackground": true,
                        "ticks": "",
                        "zerolinecolor": "white"
                      },
                      "zaxis": {
                        "backgroundcolor": "#E5ECF6",
                        "gridcolor": "white",
                        "gridwidth": 2,
                        "linecolor": "white",
                        "showbackground": true,
                        "ticks": "",
                        "zerolinecolor": "white"
                      }
                    },
                    "shapedefaults": {
                      "line": {
                        "color": "#2a3f5f"
                      }
                    },
                    "ternary": {
                      "aaxis": {
                        "gridcolor": "white",
                        "linecolor": "white",
                        "ticks": ""
                      },
                      "baxis": {
                        "gridcolor": "white",
                        "linecolor": "white",
                        "ticks": ""
                      },
                      "bgcolor": "#E5ECF6",
                      "caxis": {
                        "gridcolor": "white",
                        "linecolor": "white",
                        "ticks": ""
                      }
                    },
                    "title": {
                      "x": 0.05
                    },
                    "xaxis": {
                      "automargin": true,
                      "gridcolor": "white",
                      "linecolor": "white",
                      "ticks": "",
                      "title": {
                        "standoff": 15
                      },
                      "zerolinecolor": "white",
                      "zerolinewidth": 2
                    },
                    "yaxis": {
                      "automargin": true,
                      "gridcolor": "white",
                      "linecolor": "white",
                      "ticks": "",
                      "title": {
                        "standoff": 15
                      },
                      "zerolinecolor": "white",
                      "zerolinewidth": 2
                    }
                  }
                },
                "xaxis": {
                  "anchor": "y",
                  "domain": [
                    0,
                    1
                  ],
                  "rangeselector": {
                    "buttons": [
                      {
                        "count": 1,
                        "label": "YTD",
                        "step": "year",
                        "stepmode": "todate"
                      },
                      {
                        "count": 1,
                        "label": "1y",
                        "step": "year",
                        "stepmode": "backward"
                      },
                      {
                        "count": 3,
                        "label": "3y",
                        "step": "year",
                        "stepmode": "backward"
                      },
                      {
                        "count": 5,
                        "label": "5y",
                        "step": "year",
                        "stepmode": "backward"
                      },
                      {
                        "count": 7,
                        "label": "7y",
                        "step": "year",
                        "stepmode": "backward"
                      },
                      {
                        "count": 10,
                        "label": "10y",
                        "step": "year",
                        "stepmode": "backward"
                      },
                      {
                        "step": "all"
                      }
                    ]
                  },
                  "rangeslider": {
                    "visible": true
                  },
                  "title": {
                    "text": "Date"
                  }
                },
                "yaxis": {
                  "anchor": "x",
                  "domain": [
                    0,
                    1
                  ],
                  "title": {
                    "text": "M-YOY"
                  }
                }
              }
            }
          },
          "metadata": {},
          "output_type": "display_data"
        }
      ],
      "source": [
        "import pandas as pd\n",
        "import plotly.express as px\n",
        "import plotly.graph_objects as go\n",
        "\n",
        "df_show = dfs_cpi[\n",
        "    (\n",
        "        (dfs_cpi[\"Hàng hóa\"] == \"CHỈ SỐ GIÁ TIÊU DÙNG\")\n",
        "        | (dfs_cpi[\"Hàng hóa\"] == \"LẠM PHÁT CƠ BẢN\")\n",
        "    )\n",
        "    & (dfs_cpi[\"Date\"] > \"2015-01-01\")\n",
        "]\n",
        "\n",
        "fig = px.area(df_show, x=\"Date\", y=\"M-YOY\", color=\"Hàng hóa\")\n",
        "\n",
        "fig.update_xaxes(\n",
        "    rangeslider_visible=True,\n",
        "    rangeselector=dict(\n",
        "        buttons=[\n",
        "            dict(count=1, label=\"YTD\", step=\"year\", stepmode=\"todate\"),\n",
        "            dict(count=1, label=\"1y\", step=\"year\", stepmode=\"backward\"),\n",
        "            dict(count=3, label=\"3y\", step=\"year\", stepmode=\"backward\"),\n",
        "            dict(count=5, label=\"5y\", step=\"year\", stepmode=\"backward\"),\n",
        "            dict(count=7, label=\"7y\", step=\"year\", stepmode=\"backward\"),\n",
        "            dict(count=10, label=\"10y\", step=\"year\", stepmode=\"backward\"),\n",
        "            dict(step=\"all\"),\n",
        "        ]\n",
        "    ),\n",
        ")\n",
        "\n",
        "fig.show()"
      ]
    },
    {
      "cell_type": "code",
      "execution_count": 50,
      "metadata": {},
      "outputs": [
        {
          "data": {
            "application/vnd.plotly.v1+json": {
              "config": {
                "plotlyServerURL": "https://plot.ly"
              },
              "data": [
                {
                  "fillpattern": {
                    "shape": ""
                  },
                  "hovertemplate": "Hàng hóa=CHỈ SỐ GIÁ TIÊU DÙNG<br>Date=%{x}<br>MOM=%{y}<extra></extra>",
                  "legendgroup": "CHỈ SỐ GIÁ TIÊU DÙNG",
                  "line": {
                    "color": "#636efa"
                  },
                  "marker": {
                    "symbol": "circle"
                  },
                  "mode": "lines",
                  "name": "CHỈ SỐ GIÁ TIÊU DÙNG",
                  "orientation": "v",
                  "showlegend": true,
                  "stackgroup": "1",
                  "type": "scatter",
                  "x": [
                    "2024-02-29",
                    "2024-01-29",
                    "2023-12-29",
                    "2023-11-29",
                    "2023-10-29",
                    "2023-09-29",
                    "2023-08-29",
                    "2023-07-29",
                    "2023-06-29",
                    "2023-05-29",
                    "2023-04-29",
                    "2023-03-29",
                    "2023-02-28",
                    "2023-01-29",
                    "2022-12-29",
                    "2022-11-29",
                    "2022-10-29",
                    "2022-09-29",
                    "2022-08-29",
                    "2022-07-29",
                    "2022-06-29",
                    "2022-05-29",
                    "2022-04-29",
                    "2022-03-29",
                    "2022-02-28",
                    "2022-01-29",
                    "2021-12-29",
                    "2021-11-29",
                    "2021-10-29",
                    "2021-09-29",
                    "2021-08-29",
                    "2021-07-29",
                    "2021-06-29",
                    "2021-05-29",
                    "2021-04-29",
                    "2021-03-29",
                    "2021-02-28",
                    "2021-01-29",
                    "2020-12-27",
                    "2020-11-29",
                    "2020-10-29",
                    "2020-09-29",
                    "2020-08-29",
                    "2020-07-29",
                    "2020-06-29",
                    "2020-05-29",
                    "2020-04-29",
                    "2020-03-27",
                    "2020-02-29",
                    "2020-01-29"
                  ],
                  "xaxis": "x",
                  "y": [
                    1.037300000000002,
                    0.3111999999999995,
                    0.115799999999993,
                    0.248500000000007,
                    0.0822000000000002,
                    1.079899999999995,
                    0.8811000000000035,
                    0.4548000000000058,
                    0.267399999999995,
                    0.0074999999999931,
                    -0.3425000000000011,
                    -0.2258999999999957,
                    0.4488999999999947,
                    0.5152999999999963,
                    -0.0125000000000028,
                    0.3872000000000071,
                    0.1452000000000026,
                    0.3980999999999994,
                    0.0049000000000063,
                    0.395300000000006,
                    0.6854000000000013,
                    0.3778999999999968,
                    0.1843999999999965,
                    0.7017000000000024,
                    1.0023999999999944,
                    0.191599999999994,
                    -0.1816000000000031,
                    0.3208999999999946,
                    -0.2031000000000062,
                    -0.6154999999999973,
                    0.2479000000000013,
                    0.622399999999999,
                    0.1873999999999966,
                    0.1584000000000003,
                    -0.0383000000000066,
                    -0.2677000000000049,
                    1.518100000000004,
                    0.0623999999999966,
                    0.102800000000002,
                    -0.0083999999999946,
                    0.0858999999999952,
                    0.1244999999999976,
                    0.0742999999999938,
                    0.3992999999999966,
                    0.6584000000000003,
                    -0.0301999999999935,
                    -1.542900000000003,
                    -0.7172000000000054,
                    -0.1670000000000016,
                    1.2327999999999977
                  ],
                  "yaxis": "y"
                },
                {
                  "fillpattern": {
                    "shape": ""
                  },
                  "hovertemplate": "Hàng hóa=LẠM PHÁT CƠ BẢN<br>Date=%{x}<br>MOM=%{y}<extra></extra>",
                  "legendgroup": "LẠM PHÁT CƠ BẢN",
                  "line": {
                    "color": "#EF553B"
                  },
                  "marker": {
                    "symbol": "circle"
                  },
                  "mode": "lines",
                  "name": "LẠM PHÁT CƠ BẢN",
                  "orientation": "v",
                  "showlegend": true,
                  "stackgroup": "1",
                  "type": "scatter",
                  "x": [
                    "2024-02-29",
                    "2024-01-29",
                    "2023-12-29",
                    "2023-11-29",
                    "2023-10-29",
                    "2023-09-29",
                    "2023-08-29",
                    "2023-07-29",
                    "2023-06-29",
                    "2023-05-29",
                    "2023-04-29",
                    "2023-03-29",
                    "2023-02-28",
                    "2023-01-29",
                    "2022-12-29",
                    "2022-11-29",
                    "2022-10-29",
                    "2022-09-29",
                    "2022-08-29",
                    "2022-07-29",
                    "2022-06-29",
                    "2022-05-29",
                    "2022-04-29",
                    "2022-03-29",
                    "2022-02-28",
                    "2022-01-29",
                    "2021-12-29",
                    "2021-11-29",
                    "2021-10-29",
                    "2021-09-29",
                    "2021-08-29",
                    "2021-07-29",
                    "2021-06-29",
                    "2021-05-29",
                    "2021-04-29",
                    "2021-03-29",
                    "2021-02-28",
                    "2021-01-29",
                    "2020-12-27",
                    "2020-11-29",
                    "2020-10-29",
                    "2020-09-29",
                    "2020-08-29",
                    "2020-07-29",
                    "2020-06-29",
                    "2020-05-29",
                    "2020-04-29",
                    "2020-03-27",
                    "2020-02-29",
                    "2020-01-29"
                  ],
                  "xaxis": "x",
                  "y": [
                    0.487828386823508,
                    0.21,
                    0.17,
                    0.16,
                    0.0870130450622452,
                    0.2639475125435941,
                    0.3175245649511771,
                    0.3625229811923036,
                    0.24,
                    0.27,
                    0.13,
                    0.2200526852853324,
                    0.254428778513871,
                    0.4641476068478534,
                    0.33,
                    0.432419,
                    0.45,
                    0.4738828736436939,
                    0.4030851623317177,
                    0.5790208229244476,
                    0.44,
                    0.29,
                    0.44,
                    0.2940003861358065,
                    0.4913019568345111,
                    0.2569037355840686,
                    0.16,
                    0.11,
                    -0.17,
                    -0.2611188914933171,
                    -0.0205602462127085,
                    -0.0605089376158662,
                    0.07,
                    0.15,
                    0.07,
                    -0.1173000937176205,
                    0.475419620732409,
                    0.2654210838781923,
                    0.07,
                    0.03,
                    0.065245430005234,
                    -0.0230954729762201,
                    -0.0107639251399671,
                    0.09,
                    0.07,
                    -0.03,
                    -0.15,
                    -0.0559482525264165,
                    0.1742840860055272,
                    0.7638060125054968
                  ],
                  "yaxis": "y"
                }
              ],
              "layout": {
                "legend": {
                  "title": {
                    "text": "Hàng hóa"
                  },
                  "tracegroupgap": 0
                },
                "margin": {
                  "t": 60
                },
                "template": {
                  "data": {
                    "bar": [
                      {
                        "error_x": {
                          "color": "#2a3f5f"
                        },
                        "error_y": {
                          "color": "#2a3f5f"
                        },
                        "marker": {
                          "line": {
                            "color": "#E5ECF6",
                            "width": 0.5
                          },
                          "pattern": {
                            "fillmode": "overlay",
                            "size": 10,
                            "solidity": 0.2
                          }
                        },
                        "type": "bar"
                      }
                    ],
                    "barpolar": [
                      {
                        "marker": {
                          "line": {
                            "color": "#E5ECF6",
                            "width": 0.5
                          },
                          "pattern": {
                            "fillmode": "overlay",
                            "size": 10,
                            "solidity": 0.2
                          }
                        },
                        "type": "barpolar"
                      }
                    ],
                    "carpet": [
                      {
                        "aaxis": {
                          "endlinecolor": "#2a3f5f",
                          "gridcolor": "white",
                          "linecolor": "white",
                          "minorgridcolor": "white",
                          "startlinecolor": "#2a3f5f"
                        },
                        "baxis": {
                          "endlinecolor": "#2a3f5f",
                          "gridcolor": "white",
                          "linecolor": "white",
                          "minorgridcolor": "white",
                          "startlinecolor": "#2a3f5f"
                        },
                        "type": "carpet"
                      }
                    ],
                    "choropleth": [
                      {
                        "colorbar": {
                          "outlinewidth": 0,
                          "ticks": ""
                        },
                        "type": "choropleth"
                      }
                    ],
                    "contour": [
                      {
                        "colorbar": {
                          "outlinewidth": 0,
                          "ticks": ""
                        },
                        "colorscale": [
                          [
                            0,
                            "#0d0887"
                          ],
                          [
                            0.1111111111111111,
                            "#46039f"
                          ],
                          [
                            0.2222222222222222,
                            "#7201a8"
                          ],
                          [
                            0.3333333333333333,
                            "#9c179e"
                          ],
                          [
                            0.4444444444444444,
                            "#bd3786"
                          ],
                          [
                            0.5555555555555556,
                            "#d8576b"
                          ],
                          [
                            0.6666666666666666,
                            "#ed7953"
                          ],
                          [
                            0.7777777777777778,
                            "#fb9f3a"
                          ],
                          [
                            0.8888888888888888,
                            "#fdca26"
                          ],
                          [
                            1,
                            "#f0f921"
                          ]
                        ],
                        "type": "contour"
                      }
                    ],
                    "contourcarpet": [
                      {
                        "colorbar": {
                          "outlinewidth": 0,
                          "ticks": ""
                        },
                        "type": "contourcarpet"
                      }
                    ],
                    "heatmap": [
                      {
                        "colorbar": {
                          "outlinewidth": 0,
                          "ticks": ""
                        },
                        "colorscale": [
                          [
                            0,
                            "#0d0887"
                          ],
                          [
                            0.1111111111111111,
                            "#46039f"
                          ],
                          [
                            0.2222222222222222,
                            "#7201a8"
                          ],
                          [
                            0.3333333333333333,
                            "#9c179e"
                          ],
                          [
                            0.4444444444444444,
                            "#bd3786"
                          ],
                          [
                            0.5555555555555556,
                            "#d8576b"
                          ],
                          [
                            0.6666666666666666,
                            "#ed7953"
                          ],
                          [
                            0.7777777777777778,
                            "#fb9f3a"
                          ],
                          [
                            0.8888888888888888,
                            "#fdca26"
                          ],
                          [
                            1,
                            "#f0f921"
                          ]
                        ],
                        "type": "heatmap"
                      }
                    ],
                    "heatmapgl": [
                      {
                        "colorbar": {
                          "outlinewidth": 0,
                          "ticks": ""
                        },
                        "colorscale": [
                          [
                            0,
                            "#0d0887"
                          ],
                          [
                            0.1111111111111111,
                            "#46039f"
                          ],
                          [
                            0.2222222222222222,
                            "#7201a8"
                          ],
                          [
                            0.3333333333333333,
                            "#9c179e"
                          ],
                          [
                            0.4444444444444444,
                            "#bd3786"
                          ],
                          [
                            0.5555555555555556,
                            "#d8576b"
                          ],
                          [
                            0.6666666666666666,
                            "#ed7953"
                          ],
                          [
                            0.7777777777777778,
                            "#fb9f3a"
                          ],
                          [
                            0.8888888888888888,
                            "#fdca26"
                          ],
                          [
                            1,
                            "#f0f921"
                          ]
                        ],
                        "type": "heatmapgl"
                      }
                    ],
                    "histogram": [
                      {
                        "marker": {
                          "pattern": {
                            "fillmode": "overlay",
                            "size": 10,
                            "solidity": 0.2
                          }
                        },
                        "type": "histogram"
                      }
                    ],
                    "histogram2d": [
                      {
                        "colorbar": {
                          "outlinewidth": 0,
                          "ticks": ""
                        },
                        "colorscale": [
                          [
                            0,
                            "#0d0887"
                          ],
                          [
                            0.1111111111111111,
                            "#46039f"
                          ],
                          [
                            0.2222222222222222,
                            "#7201a8"
                          ],
                          [
                            0.3333333333333333,
                            "#9c179e"
                          ],
                          [
                            0.4444444444444444,
                            "#bd3786"
                          ],
                          [
                            0.5555555555555556,
                            "#d8576b"
                          ],
                          [
                            0.6666666666666666,
                            "#ed7953"
                          ],
                          [
                            0.7777777777777778,
                            "#fb9f3a"
                          ],
                          [
                            0.8888888888888888,
                            "#fdca26"
                          ],
                          [
                            1,
                            "#f0f921"
                          ]
                        ],
                        "type": "histogram2d"
                      }
                    ],
                    "histogram2dcontour": [
                      {
                        "colorbar": {
                          "outlinewidth": 0,
                          "ticks": ""
                        },
                        "colorscale": [
                          [
                            0,
                            "#0d0887"
                          ],
                          [
                            0.1111111111111111,
                            "#46039f"
                          ],
                          [
                            0.2222222222222222,
                            "#7201a8"
                          ],
                          [
                            0.3333333333333333,
                            "#9c179e"
                          ],
                          [
                            0.4444444444444444,
                            "#bd3786"
                          ],
                          [
                            0.5555555555555556,
                            "#d8576b"
                          ],
                          [
                            0.6666666666666666,
                            "#ed7953"
                          ],
                          [
                            0.7777777777777778,
                            "#fb9f3a"
                          ],
                          [
                            0.8888888888888888,
                            "#fdca26"
                          ],
                          [
                            1,
                            "#f0f921"
                          ]
                        ],
                        "type": "histogram2dcontour"
                      }
                    ],
                    "mesh3d": [
                      {
                        "colorbar": {
                          "outlinewidth": 0,
                          "ticks": ""
                        },
                        "type": "mesh3d"
                      }
                    ],
                    "parcoords": [
                      {
                        "line": {
                          "colorbar": {
                            "outlinewidth": 0,
                            "ticks": ""
                          }
                        },
                        "type": "parcoords"
                      }
                    ],
                    "pie": [
                      {
                        "automargin": true,
                        "type": "pie"
                      }
                    ],
                    "scatter": [
                      {
                        "fillpattern": {
                          "fillmode": "overlay",
                          "size": 10,
                          "solidity": 0.2
                        },
                        "type": "scatter"
                      }
                    ],
                    "scatter3d": [
                      {
                        "line": {
                          "colorbar": {
                            "outlinewidth": 0,
                            "ticks": ""
                          }
                        },
                        "marker": {
                          "colorbar": {
                            "outlinewidth": 0,
                            "ticks": ""
                          }
                        },
                        "type": "scatter3d"
                      }
                    ],
                    "scattercarpet": [
                      {
                        "marker": {
                          "colorbar": {
                            "outlinewidth": 0,
                            "ticks": ""
                          }
                        },
                        "type": "scattercarpet"
                      }
                    ],
                    "scattergeo": [
                      {
                        "marker": {
                          "colorbar": {
                            "outlinewidth": 0,
                            "ticks": ""
                          }
                        },
                        "type": "scattergeo"
                      }
                    ],
                    "scattergl": [
                      {
                        "marker": {
                          "colorbar": {
                            "outlinewidth": 0,
                            "ticks": ""
                          }
                        },
                        "type": "scattergl"
                      }
                    ],
                    "scattermapbox": [
                      {
                        "marker": {
                          "colorbar": {
                            "outlinewidth": 0,
                            "ticks": ""
                          }
                        },
                        "type": "scattermapbox"
                      }
                    ],
                    "scatterpolar": [
                      {
                        "marker": {
                          "colorbar": {
                            "outlinewidth": 0,
                            "ticks": ""
                          }
                        },
                        "type": "scatterpolar"
                      }
                    ],
                    "scatterpolargl": [
                      {
                        "marker": {
                          "colorbar": {
                            "outlinewidth": 0,
                            "ticks": ""
                          }
                        },
                        "type": "scatterpolargl"
                      }
                    ],
                    "scatterternary": [
                      {
                        "marker": {
                          "colorbar": {
                            "outlinewidth": 0,
                            "ticks": ""
                          }
                        },
                        "type": "scatterternary"
                      }
                    ],
                    "surface": [
                      {
                        "colorbar": {
                          "outlinewidth": 0,
                          "ticks": ""
                        },
                        "colorscale": [
                          [
                            0,
                            "#0d0887"
                          ],
                          [
                            0.1111111111111111,
                            "#46039f"
                          ],
                          [
                            0.2222222222222222,
                            "#7201a8"
                          ],
                          [
                            0.3333333333333333,
                            "#9c179e"
                          ],
                          [
                            0.4444444444444444,
                            "#bd3786"
                          ],
                          [
                            0.5555555555555556,
                            "#d8576b"
                          ],
                          [
                            0.6666666666666666,
                            "#ed7953"
                          ],
                          [
                            0.7777777777777778,
                            "#fb9f3a"
                          ],
                          [
                            0.8888888888888888,
                            "#fdca26"
                          ],
                          [
                            1,
                            "#f0f921"
                          ]
                        ],
                        "type": "surface"
                      }
                    ],
                    "table": [
                      {
                        "cells": {
                          "fill": {
                            "color": "#EBF0F8"
                          },
                          "line": {
                            "color": "white"
                          }
                        },
                        "header": {
                          "fill": {
                            "color": "#C8D4E3"
                          },
                          "line": {
                            "color": "white"
                          }
                        },
                        "type": "table"
                      }
                    ]
                  },
                  "layout": {
                    "annotationdefaults": {
                      "arrowcolor": "#2a3f5f",
                      "arrowhead": 0,
                      "arrowwidth": 1
                    },
                    "autotypenumbers": "strict",
                    "coloraxis": {
                      "colorbar": {
                        "outlinewidth": 0,
                        "ticks": ""
                      }
                    },
                    "colorscale": {
                      "diverging": [
                        [
                          0,
                          "#8e0152"
                        ],
                        [
                          0.1,
                          "#c51b7d"
                        ],
                        [
                          0.2,
                          "#de77ae"
                        ],
                        [
                          0.3,
                          "#f1b6da"
                        ],
                        [
                          0.4,
                          "#fde0ef"
                        ],
                        [
                          0.5,
                          "#f7f7f7"
                        ],
                        [
                          0.6,
                          "#e6f5d0"
                        ],
                        [
                          0.7,
                          "#b8e186"
                        ],
                        [
                          0.8,
                          "#7fbc41"
                        ],
                        [
                          0.9,
                          "#4d9221"
                        ],
                        [
                          1,
                          "#276419"
                        ]
                      ],
                      "sequential": [
                        [
                          0,
                          "#0d0887"
                        ],
                        [
                          0.1111111111111111,
                          "#46039f"
                        ],
                        [
                          0.2222222222222222,
                          "#7201a8"
                        ],
                        [
                          0.3333333333333333,
                          "#9c179e"
                        ],
                        [
                          0.4444444444444444,
                          "#bd3786"
                        ],
                        [
                          0.5555555555555556,
                          "#d8576b"
                        ],
                        [
                          0.6666666666666666,
                          "#ed7953"
                        ],
                        [
                          0.7777777777777778,
                          "#fb9f3a"
                        ],
                        [
                          0.8888888888888888,
                          "#fdca26"
                        ],
                        [
                          1,
                          "#f0f921"
                        ]
                      ],
                      "sequentialminus": [
                        [
                          0,
                          "#0d0887"
                        ],
                        [
                          0.1111111111111111,
                          "#46039f"
                        ],
                        [
                          0.2222222222222222,
                          "#7201a8"
                        ],
                        [
                          0.3333333333333333,
                          "#9c179e"
                        ],
                        [
                          0.4444444444444444,
                          "#bd3786"
                        ],
                        [
                          0.5555555555555556,
                          "#d8576b"
                        ],
                        [
                          0.6666666666666666,
                          "#ed7953"
                        ],
                        [
                          0.7777777777777778,
                          "#fb9f3a"
                        ],
                        [
                          0.8888888888888888,
                          "#fdca26"
                        ],
                        [
                          1,
                          "#f0f921"
                        ]
                      ]
                    },
                    "colorway": [
                      "#636efa",
                      "#EF553B",
                      "#00cc96",
                      "#ab63fa",
                      "#FFA15A",
                      "#19d3f3",
                      "#FF6692",
                      "#B6E880",
                      "#FF97FF",
                      "#FECB52"
                    ],
                    "font": {
                      "color": "#2a3f5f"
                    },
                    "geo": {
                      "bgcolor": "white",
                      "lakecolor": "white",
                      "landcolor": "#E5ECF6",
                      "showlakes": true,
                      "showland": true,
                      "subunitcolor": "white"
                    },
                    "hoverlabel": {
                      "align": "left"
                    },
                    "hovermode": "closest",
                    "mapbox": {
                      "style": "light"
                    },
                    "paper_bgcolor": "white",
                    "plot_bgcolor": "#E5ECF6",
                    "polar": {
                      "angularaxis": {
                        "gridcolor": "white",
                        "linecolor": "white",
                        "ticks": ""
                      },
                      "bgcolor": "#E5ECF6",
                      "radialaxis": {
                        "gridcolor": "white",
                        "linecolor": "white",
                        "ticks": ""
                      }
                    },
                    "scene": {
                      "xaxis": {
                        "backgroundcolor": "#E5ECF6",
                        "gridcolor": "white",
                        "gridwidth": 2,
                        "linecolor": "white",
                        "showbackground": true,
                        "ticks": "",
                        "zerolinecolor": "white"
                      },
                      "yaxis": {
                        "backgroundcolor": "#E5ECF6",
                        "gridcolor": "white",
                        "gridwidth": 2,
                        "linecolor": "white",
                        "showbackground": true,
                        "ticks": "",
                        "zerolinecolor": "white"
                      },
                      "zaxis": {
                        "backgroundcolor": "#E5ECF6",
                        "gridcolor": "white",
                        "gridwidth": 2,
                        "linecolor": "white",
                        "showbackground": true,
                        "ticks": "",
                        "zerolinecolor": "white"
                      }
                    },
                    "shapedefaults": {
                      "line": {
                        "color": "#2a3f5f"
                      }
                    },
                    "ternary": {
                      "aaxis": {
                        "gridcolor": "white",
                        "linecolor": "white",
                        "ticks": ""
                      },
                      "baxis": {
                        "gridcolor": "white",
                        "linecolor": "white",
                        "ticks": ""
                      },
                      "bgcolor": "#E5ECF6",
                      "caxis": {
                        "gridcolor": "white",
                        "linecolor": "white",
                        "ticks": ""
                      }
                    },
                    "title": {
                      "x": 0.05
                    },
                    "xaxis": {
                      "automargin": true,
                      "gridcolor": "white",
                      "linecolor": "white",
                      "ticks": "",
                      "title": {
                        "standoff": 15
                      },
                      "zerolinecolor": "white",
                      "zerolinewidth": 2
                    },
                    "yaxis": {
                      "automargin": true,
                      "gridcolor": "white",
                      "linecolor": "white",
                      "ticks": "",
                      "title": {
                        "standoff": 15
                      },
                      "zerolinecolor": "white",
                      "zerolinewidth": 2
                    }
                  }
                },
                "xaxis": {
                  "anchor": "y",
                  "domain": [
                    0,
                    1
                  ],
                  "rangeselector": {
                    "buttons": [
                      {
                        "count": 1,
                        "label": "YTD",
                        "step": "year",
                        "stepmode": "todate"
                      },
                      {
                        "count": 1,
                        "label": "1y",
                        "step": "year",
                        "stepmode": "backward"
                      },
                      {
                        "count": 3,
                        "label": "3y",
                        "step": "year",
                        "stepmode": "backward"
                      },
                      {
                        "count": 5,
                        "label": "5y",
                        "step": "year",
                        "stepmode": "backward"
                      },
                      {
                        "count": 7,
                        "label": "7y",
                        "step": "year",
                        "stepmode": "backward"
                      },
                      {
                        "count": 10,
                        "label": "10y",
                        "step": "year",
                        "stepmode": "backward"
                      },
                      {
                        "step": "all"
                      }
                    ]
                  },
                  "rangeslider": {
                    "visible": true
                  },
                  "title": {
                    "text": "Date"
                  }
                },
                "yaxis": {
                  "anchor": "x",
                  "domain": [
                    0,
                    1
                  ],
                  "title": {
                    "text": "MOM"
                  }
                }
              }
            }
          },
          "metadata": {},
          "output_type": "display_data"
        }
      ],
      "source": [
        "import pandas as pd\n",
        "import plotly.express as px\n",
        "import plotly.graph_objects as go\n",
        "\n",
        "df_show = dfs_cpi[\n",
        "    (\n",
        "        (dfs_cpi[\"Hàng hóa\"] == \"CHỈ SỐ GIÁ TIÊU DÙNG\")\n",
        "        | (dfs_cpi[\"Hàng hóa\"] == \"LẠM PHÁT CƠ BẢN\")\n",
        "    )\n",
        "    & (dfs_cpi[\"Date\"] > \"2020-01-01\")\n",
        "]\n",
        "\n",
        "fig = px.area(df_show, x=\"Date\", y=\"M-MOM\", color=\"Hàng hóa\")\n",
        "\n",
        "fig.update_xaxes(\n",
        "    rangeslider_visible=True,\n",
        "    rangeselector=dict(\n",
        "        buttons=[\n",
        "            dict(count=1, label=\"YTD\", step=\"year\", stepmode=\"todate\"),\n",
        "            dict(count=1, label=\"1y\", step=\"year\", stepmode=\"backward\"),\n",
        "            dict(count=3, label=\"3y\", step=\"year\", stepmode=\"backward\"),\n",
        "            dict(count=5, label=\"5y\", step=\"year\", stepmode=\"backward\"),\n",
        "            dict(count=7, label=\"7y\", step=\"year\", stepmode=\"backward\"),\n",
        "            dict(count=10, label=\"10y\", step=\"year\", stepmode=\"backward\"),\n",
        "            dict(step=\"all\"),\n",
        "        ]\n",
        "    ),\n",
        ")\n",
        "\n",
        "fig.show()"
      ]
    },
    {
      "cell_type": "code",
      "execution_count": 57,
      "metadata": {},
      "outputs": [
        {
          "data": {
            "application/vnd.plotly.v1+json": {
              "config": {
                "plotlyServerURL": "https://plot.ly"
              },
              "data": [
                {
                  "fillpattern": {
                    "shape": ""
                  },
                  "hovertemplate": "Hàng hóa=Lương thực<br>Date=%{x}<br>M-YOY=%{y}<extra></extra>",
                  "legendgroup": "Lương thực",
                  "line": {
                    "color": "#636efa"
                  },
                  "marker": {
                    "symbol": "circle"
                  },
                  "mode": "lines",
                  "name": "Lương thực",
                  "orientation": "v",
                  "showlegend": true,
                  "stackgroup": "1",
                  "type": "scatter",
                  "x": [
                    "2024-02-29",
                    "2024-01-29",
                    "2023-12-29",
                    "2023-11-29",
                    "2023-10-29",
                    "2023-09-29",
                    "2023-08-29",
                    "2023-07-29",
                    "2023-06-29",
                    "2023-05-29",
                    "2023-04-29",
                    "2023-03-29",
                    "2023-02-28",
                    "2023-01-29",
                    "2022-12-29",
                    "2022-11-29",
                    "2022-10-29",
                    "2022-09-29",
                    "2022-08-29",
                    "2022-07-29",
                    "2022-06-29",
                    "2022-05-29",
                    "2022-04-29",
                    "2022-03-29",
                    "2022-02-28",
                    "2022-01-29",
                    "2021-12-29",
                    "2021-11-29",
                    "2021-10-29",
                    "2021-09-29",
                    "2021-08-29",
                    "2021-07-29",
                    "2021-06-29",
                    "2021-05-29",
                    "2021-04-29",
                    "2021-03-29",
                    "2021-02-28",
                    "2021-01-29",
                    "2020-12-27",
                    "2020-11-29",
                    "2020-10-29",
                    "2020-09-29",
                    "2020-08-29",
                    "2020-07-29",
                    "2020-06-29",
                    "2020-05-29",
                    "2020-04-29",
                    "2020-03-27",
                    "2020-02-29",
                    "2020-01-29"
                  ],
                  "xaxis": "x",
                  "y": [
                    17.355578449171006,
                    15.632773478424,
                    14.664314883700996,
                    13.242748394133995,
                    11.341819388595866,
                    10.48981890941016,
                    6.987904423448327,
                    3.789190713159769,
                    3.7841208405379376,
                    3.852141393127013,
                    3.844995988356104,
                    3.7521274898201256,
                    3.641319113922648,
                    3.735599111560603,
                    2.909930881901218,
                    2.78508766762684,
                    2.406817013623637,
                    2.1001941600921725,
                    2.3093649867865764,
                    2.8160431269716355,
                    2.8714965307140403,
                    2.424396617679747,
                    2.050462308712909,
                    1.8218443766994736,
                    1.6558561325182808,
                    3.096914536516678,
                    3.8621741050135223,
                    3.936892189967893,
                    4.314177407856505,
                    4.663603982537111,
                    5.094185474432123,
                    4.9995180640039365,
                    4.407671173895395,
                    4.282241084740491,
                    4.29497467277595,
                    6.48522776183178,
                    7.6354784035318914,
                    6.101684576118458,
                    6.067168841283262,
                    6.080897975062911,
                    5.739724523022176,
                    5.620010450210003,
                    5.376379851525485,
                    5.07575071053526,
                    5.342980519717628,
                    5.409612191287906,
                    5.097680771747932,
                    2.545586779596448,
                    0.8847081426396812,
                    1.0953895325646528
                  ],
                  "yaxis": "y"
                },
                {
                  "fillpattern": {
                    "shape": ""
                  },
                  "hovertemplate": "Hàng hóa=Nhà ở và vật liệu xây dựng<br>Date=%{x}<br>M-YOY=%{y}<extra></extra>",
                  "legendgroup": "Nhà ở và vật liệu xây dựng",
                  "line": {
                    "color": "#EF553B"
                  },
                  "marker": {
                    "symbol": "circle"
                  },
                  "mode": "lines",
                  "name": "Nhà ở và vật liệu xây dựng",
                  "orientation": "v",
                  "showlegend": true,
                  "stackgroup": "1",
                  "type": "scatter",
                  "x": [
                    "2024-02-29",
                    "2024-01-29",
                    "2023-12-29",
                    "2023-11-29",
                    "2023-10-29",
                    "2023-09-29",
                    "2023-08-29",
                    "2023-07-29",
                    "2023-06-29",
                    "2023-05-29",
                    "2023-04-29",
                    "2023-03-29",
                    "2023-02-28",
                    "2023-01-29",
                    "2022-12-29",
                    "2022-11-29",
                    "2022-10-29",
                    "2022-09-29",
                    "2022-08-29",
                    "2022-07-29",
                    "2022-06-29",
                    "2022-05-29",
                    "2022-04-29",
                    "2022-03-29",
                    "2022-02-28",
                    "2022-01-29",
                    "2021-12-29",
                    "2021-11-29",
                    "2021-10-29",
                    "2021-09-29",
                    "2021-08-29",
                    "2021-07-29",
                    "2021-06-29",
                    "2021-05-29",
                    "2021-04-29",
                    "2021-03-29",
                    "2021-02-28",
                    "2021-01-29",
                    "2020-12-27",
                    "2020-11-29",
                    "2020-10-29",
                    "2020-09-29",
                    "2020-08-29",
                    "2020-07-29",
                    "2020-06-29",
                    "2020-05-29",
                    "2020-04-29",
                    "2020-03-27",
                    "2020-02-29",
                    "2020-01-29"
                  ],
                  "xaxis": "x",
                  "y": [
                    4.945171473116005,
                    6.385929979878995,
                    5.669074028519006,
                    5.910010303674,
                    6.880678025585624,
                    7.331368891810186,
                    7.136392892365677,
                    6.511325431087229,
                    6.488648295794761,
                    6.40276932377337,
                    5.196171363864679,
                    6.684911509964749,
                    7.884416238383054,
                    6.936660920596708,
                    7.140186655745566,
                    5.959296765661208,
                    5.424102692191937,
                    4.430161925101743,
                    1.3970022711672383,
                    1.133455338774624,
                    1.5278592494303354,
                    2.181688017336157,
                    2.7219128637170518,
                    1.6953729202976715,
                    0.4429337778758082,
                    3.5089780570843203,
                    1.0428039356814196,
                    1.4667522329196316,
                    1.0682029365128614,
                    1.6302902472970686,
                    4.342025462632293,
                    4.44427798901998,
                    4.017528156420596,
                    2.933112089751603,
                    2.782296821742648,
                    0.8226787759343637,
                    0.3329450856951013,
                    -3.552075657388855,
                    0.1851575045227491,
                    0.6416319051088237,
                    0.7030829543529791,
                    0.9350237783099972,
                    0.4308687636269468,
                    0.6584170603962889,
                    0.1563828158327709,
                    0.3746368692811188,
                    1.4075163259445986,
                    4.450686609472029,
                    5.529722628164919,
                    6.29092581899387
                  ],
                  "yaxis": "y"
                },
                {
                  "fillpattern": {
                    "shape": ""
                  },
                  "hovertemplate": "Hàng hóa=Thuốc và dịch vụ y tế<br>Date=%{x}<br>M-YOY=%{y}<extra></extra>",
                  "legendgroup": "Thuốc và dịch vụ y tế",
                  "line": {
                    "color": "#00cc96"
                  },
                  "marker": {
                    "symbol": "circle"
                  },
                  "mode": "lines",
                  "name": "Thuốc và dịch vụ y tế",
                  "orientation": "v",
                  "showlegend": true,
                  "stackgroup": "1",
                  "type": "scatter",
                  "x": [
                    "2024-02-29",
                    "2024-01-29",
                    "2023-12-29",
                    "2023-11-29",
                    "2023-10-29",
                    "2023-09-29",
                    "2023-08-29",
                    "2023-07-29",
                    "2023-06-29",
                    "2023-05-29",
                    "2023-04-29",
                    "2023-03-29",
                    "2023-02-28",
                    "2023-01-29",
                    "2022-12-29",
                    "2022-11-29",
                    "2022-10-29",
                    "2022-09-29",
                    "2022-08-29",
                    "2022-07-29",
                    "2022-06-29",
                    "2022-05-29",
                    "2022-04-29",
                    "2022-03-29",
                    "2022-02-28",
                    "2022-01-29",
                    "2021-12-29",
                    "2021-11-29",
                    "2021-10-29",
                    "2021-09-29",
                    "2021-08-29",
                    "2021-07-29",
                    "2021-06-29",
                    "2021-05-29",
                    "2021-04-29",
                    "2021-03-29",
                    "2021-02-28",
                    "2021-01-29",
                    "2020-12-27",
                    "2020-11-29",
                    "2020-10-29",
                    "2020-09-29",
                    "2020-08-29",
                    "2020-07-29",
                    "2020-06-29",
                    "2020-05-29",
                    "2020-04-29",
                    "2020-03-27",
                    "2020-02-29",
                    "2020-01-29"
                  ],
                  "xaxis": "x",
                  "y": [
                    6.521047928973005,
                    6.519876470395005,
                    5.525925613151003,
                    3.3875971573980053,
                    0.5388987369219507,
                    0.5788031824624795,
                    0.5476442249110249,
                    0.6060449443905611,
                    0.6092627836124365,
                    0.6305890043040989,
                    0.6199261604361084,
                    0.6259619013921878,
                    0.6332028722595595,
                    0.6378309721535089,
                    0.5905662147818163,
                    0.5342800200815532,
                    0.5117744073649817,
                    0.4696866995827662,
                    0.465468436478659,
                    0.3974127378934895,
                    0.3734301073038892,
                    0.3543658280812423,
                    0.3359055905727501,
                    0.3116316078886143,
                    0.2634124768907639,
                    0.2512838544518985,
                    0.2350475465069337,
                    0.2240242376611689,
                    0.1888597061308985,
                    0.1791434854430633,
                    0.1583125770251712,
                    0.1607158910575776,
                    0.1569108340494267,
                    0.151803648746565,
                    0.1880555202583309,
                    0.2103961385428618,
                    0.2441617408420029,
                    0.3552159470825415,
                    0.5122547428109812,
                    0.5348672640130445,
                    0.5734707228694873,
                    0.5978066068140038,
                    0.5828189874289365,
                    3.381708039380314,
                    3.3727159708931964,
                    3.4095126469411383,
                    3.297983636262856,
                    3.2819769626811706,
                    3.261743690432951,
                    3.1442759863381724
                  ],
                  "yaxis": "y"
                },
                {
                  "fillpattern": {
                    "shape": ""
                  },
                  "hovertemplate": "Hàng hóa=Giao thông<br>Date=%{x}<br>M-YOY=%{y}<extra></extra>",
                  "legendgroup": "Giao thông",
                  "line": {
                    "color": "#ab63fa"
                  },
                  "marker": {
                    "symbol": "circle"
                  },
                  "mode": "lines",
                  "name": "Giao thông",
                  "orientation": "v",
                  "showlegend": true,
                  "stackgroup": "1",
                  "type": "scatter",
                  "x": [
                    "2024-02-29",
                    "2024-01-29",
                    "2023-12-29",
                    "2023-11-29",
                    "2023-10-29",
                    "2023-09-29",
                    "2023-08-29",
                    "2023-07-29",
                    "2023-06-29",
                    "2023-05-29",
                    "2023-04-29",
                    "2023-03-29",
                    "2023-02-28",
                    "2023-01-29",
                    "2022-12-29",
                    "2022-11-29",
                    "2022-10-29",
                    "2022-09-29",
                    "2022-08-29",
                    "2022-07-29",
                    "2022-06-29",
                    "2022-05-29",
                    "2022-04-29",
                    "2022-03-29",
                    "2022-02-28",
                    "2022-01-29",
                    "2021-12-29",
                    "2021-11-29",
                    "2021-10-29",
                    "2021-09-29",
                    "2021-08-29",
                    "2021-07-29",
                    "2021-06-29",
                    "2021-05-29",
                    "2021-04-29",
                    "2021-03-29",
                    "2021-02-28",
                    "2021-01-29",
                    "2020-12-27",
                    "2020-11-29",
                    "2020-10-29",
                    "2020-09-29",
                    "2020-08-29",
                    "2020-07-29",
                    "2020-06-29",
                    "2020-05-29",
                    "2020-04-29",
                    "2020-03-27",
                    "2020-02-29",
                    "2020-01-29"
                  ],
                  "xaxis": "x",
                  "y": [
                    2.551283863497005,
                    1.581124036225006,
                    2.5658009340520067,
                    1.625243606739005,
                    3.903074448373274,
                    3.2009083240219383,
                    -0.3066997549574068,
                    -9.291428531810425,
                    -11.978399971030257,
                    -8.936814597941591,
                    -3.939759444415401,
                    -4.911081302520515,
                    -0.1834602692144926,
                    0.0521269370712644,
                    -0.1578667566575404,
                    0.9417969625503416,
                    1.8098397778935575,
                    6.679772539092227,
                    8.943456145122369,
                    15.224026007765048,
                    21.410125029255724,
                    18.417995731230704,
                    16.585086815475208,
                    18.294920425868938,
                    15.45502332557814,
                    14.546168471410567,
                    15.80522487149058,
                    20.7092475467672,
                    16.516776190495207,
                    13.58243032063622,
                    13.629185871935803,
                    13.81769880905486,
                    15.539894658461536,
                    21.23683634588033,
                    17.66768506587033,
                    0.4795508287487706,
                    -6.551663087443316,
                    -10.273116485936669,
                    -11.678820263304472,
                    -13.26801133842936,
                    -13.49214932386984,
                    -12.571789491658508,
                    -13.559644259858231,
                    -14.042773663127292,
                    -17.304002594761158,
                    -23.367607390085027,
                    -19.570815714272584,
                    -2.6184918911917663,
                    4.639255496478498,
                    7.497210594381002
                  ],
                  "yaxis": "y"
                },
                {
                  "fillpattern": {
                    "shape": ""
                  },
                  "hovertemplate": "Hàng hóa=Giáo dục<br>Date=%{x}<br>M-YOY=%{y}<extra></extra>",
                  "legendgroup": "Giáo dục",
                  "line": {
                    "color": "#FFA15A"
                  },
                  "marker": {
                    "symbol": "circle"
                  },
                  "mode": "lines",
                  "name": "Giáo dục",
                  "orientation": "v",
                  "showlegend": true,
                  "stackgroup": "1",
                  "type": "scatter",
                  "x": [
                    "2024-02-29",
                    "2024-01-29",
                    "2023-12-29",
                    "2023-11-29",
                    "2023-10-29",
                    "2023-09-29",
                    "2023-08-29",
                    "2023-07-29",
                    "2023-06-29",
                    "2023-05-29",
                    "2023-04-29",
                    "2023-03-29",
                    "2023-02-28",
                    "2023-01-29",
                    "2022-12-29",
                    "2022-11-29",
                    "2022-10-29",
                    "2022-09-29",
                    "2022-08-29",
                    "2022-07-29",
                    "2022-06-29",
                    "2022-05-29",
                    "2022-04-29",
                    "2022-03-29",
                    "2022-02-28",
                    "2022-01-29",
                    "2021-12-29",
                    "2021-11-29",
                    "2021-10-29",
                    "2021-09-29",
                    "2021-08-29",
                    "2021-07-29",
                    "2021-06-29",
                    "2021-05-29",
                    "2021-04-29",
                    "2021-03-29",
                    "2021-02-28",
                    "2021-01-29",
                    "2020-12-27",
                    "2020-11-29",
                    "2020-10-29",
                    "2020-09-29",
                    "2020-08-29",
                    "2020-07-29",
                    "2020-06-29",
                    "2020-05-29",
                    "2020-04-29",
                    "2020-03-27",
                    "2020-02-29",
                    "2020-01-29"
                  ],
                  "xaxis": "x",
                  "y": [
                    8.554849963430996,
                    8.392849277471,
                    8.356276634365997,
                    8.232964039587003,
                    7.143442804298459,
                    7.248542821934322,
                    5.0455289620138615,
                    5.57190633403502,
                    5.747627327363318,
                    5.70357778787411,
                    5.983007233073167,
                    8.408821921122978,
                    10.400418308371044,
                    11.598619709168872,
                    11.801261493542016,
                    10.963553020719914,
                    10.638386735886256,
                    8.366065838679162,
                    -0.5729028393127322,
                    -1.9692833950909543,
                    -2.134529262390032,
                    -2.1727696140181365,
                    -2.309008628949371,
                    -3.209877828208164,
                    -3.2957453673293315,
                    -3.782703054998749,
                    -3.487875464001519,
                    -3.0659472700880457,
                    -2.16353712571096,
                    -1.0875617693318134,
                    3.97621284602316,
                    4.120058530174092,
                    4.112460015061842,
                    4.095702333027489,
                    4.0698941606434005,
                    4.042947441456832,
                    4.080920535102621,
                    4.125675509952643,
                    3.8020895186496233,
                    3.8108083623197047,
                    3.848178870621368,
                    2.663796409343007,
                    3.739943158358699,
                    4.148158166928681,
                    4.355887418848511,
                    4.580542504987434,
                    4.633039574956797,
                    4.686192361769088,
                    4.647893798642471,
                    4.109500444829578
                  ],
                  "yaxis": "y"
                }
              ],
              "layout": {
                "legend": {
                  "title": {
                    "text": "Hàng hóa"
                  },
                  "tracegroupgap": 0
                },
                "margin": {
                  "t": 60
                },
                "template": {
                  "data": {
                    "bar": [
                      {
                        "error_x": {
                          "color": "#2a3f5f"
                        },
                        "error_y": {
                          "color": "#2a3f5f"
                        },
                        "marker": {
                          "line": {
                            "color": "#E5ECF6",
                            "width": 0.5
                          },
                          "pattern": {
                            "fillmode": "overlay",
                            "size": 10,
                            "solidity": 0.2
                          }
                        },
                        "type": "bar"
                      }
                    ],
                    "barpolar": [
                      {
                        "marker": {
                          "line": {
                            "color": "#E5ECF6",
                            "width": 0.5
                          },
                          "pattern": {
                            "fillmode": "overlay",
                            "size": 10,
                            "solidity": 0.2
                          }
                        },
                        "type": "barpolar"
                      }
                    ],
                    "carpet": [
                      {
                        "aaxis": {
                          "endlinecolor": "#2a3f5f",
                          "gridcolor": "white",
                          "linecolor": "white",
                          "minorgridcolor": "white",
                          "startlinecolor": "#2a3f5f"
                        },
                        "baxis": {
                          "endlinecolor": "#2a3f5f",
                          "gridcolor": "white",
                          "linecolor": "white",
                          "minorgridcolor": "white",
                          "startlinecolor": "#2a3f5f"
                        },
                        "type": "carpet"
                      }
                    ],
                    "choropleth": [
                      {
                        "colorbar": {
                          "outlinewidth": 0,
                          "ticks": ""
                        },
                        "type": "choropleth"
                      }
                    ],
                    "contour": [
                      {
                        "colorbar": {
                          "outlinewidth": 0,
                          "ticks": ""
                        },
                        "colorscale": [
                          [
                            0,
                            "#0d0887"
                          ],
                          [
                            0.1111111111111111,
                            "#46039f"
                          ],
                          [
                            0.2222222222222222,
                            "#7201a8"
                          ],
                          [
                            0.3333333333333333,
                            "#9c179e"
                          ],
                          [
                            0.4444444444444444,
                            "#bd3786"
                          ],
                          [
                            0.5555555555555556,
                            "#d8576b"
                          ],
                          [
                            0.6666666666666666,
                            "#ed7953"
                          ],
                          [
                            0.7777777777777778,
                            "#fb9f3a"
                          ],
                          [
                            0.8888888888888888,
                            "#fdca26"
                          ],
                          [
                            1,
                            "#f0f921"
                          ]
                        ],
                        "type": "contour"
                      }
                    ],
                    "contourcarpet": [
                      {
                        "colorbar": {
                          "outlinewidth": 0,
                          "ticks": ""
                        },
                        "type": "contourcarpet"
                      }
                    ],
                    "heatmap": [
                      {
                        "colorbar": {
                          "outlinewidth": 0,
                          "ticks": ""
                        },
                        "colorscale": [
                          [
                            0,
                            "#0d0887"
                          ],
                          [
                            0.1111111111111111,
                            "#46039f"
                          ],
                          [
                            0.2222222222222222,
                            "#7201a8"
                          ],
                          [
                            0.3333333333333333,
                            "#9c179e"
                          ],
                          [
                            0.4444444444444444,
                            "#bd3786"
                          ],
                          [
                            0.5555555555555556,
                            "#d8576b"
                          ],
                          [
                            0.6666666666666666,
                            "#ed7953"
                          ],
                          [
                            0.7777777777777778,
                            "#fb9f3a"
                          ],
                          [
                            0.8888888888888888,
                            "#fdca26"
                          ],
                          [
                            1,
                            "#f0f921"
                          ]
                        ],
                        "type": "heatmap"
                      }
                    ],
                    "heatmapgl": [
                      {
                        "colorbar": {
                          "outlinewidth": 0,
                          "ticks": ""
                        },
                        "colorscale": [
                          [
                            0,
                            "#0d0887"
                          ],
                          [
                            0.1111111111111111,
                            "#46039f"
                          ],
                          [
                            0.2222222222222222,
                            "#7201a8"
                          ],
                          [
                            0.3333333333333333,
                            "#9c179e"
                          ],
                          [
                            0.4444444444444444,
                            "#bd3786"
                          ],
                          [
                            0.5555555555555556,
                            "#d8576b"
                          ],
                          [
                            0.6666666666666666,
                            "#ed7953"
                          ],
                          [
                            0.7777777777777778,
                            "#fb9f3a"
                          ],
                          [
                            0.8888888888888888,
                            "#fdca26"
                          ],
                          [
                            1,
                            "#f0f921"
                          ]
                        ],
                        "type": "heatmapgl"
                      }
                    ],
                    "histogram": [
                      {
                        "marker": {
                          "pattern": {
                            "fillmode": "overlay",
                            "size": 10,
                            "solidity": 0.2
                          }
                        },
                        "type": "histogram"
                      }
                    ],
                    "histogram2d": [
                      {
                        "colorbar": {
                          "outlinewidth": 0,
                          "ticks": ""
                        },
                        "colorscale": [
                          [
                            0,
                            "#0d0887"
                          ],
                          [
                            0.1111111111111111,
                            "#46039f"
                          ],
                          [
                            0.2222222222222222,
                            "#7201a8"
                          ],
                          [
                            0.3333333333333333,
                            "#9c179e"
                          ],
                          [
                            0.4444444444444444,
                            "#bd3786"
                          ],
                          [
                            0.5555555555555556,
                            "#d8576b"
                          ],
                          [
                            0.6666666666666666,
                            "#ed7953"
                          ],
                          [
                            0.7777777777777778,
                            "#fb9f3a"
                          ],
                          [
                            0.8888888888888888,
                            "#fdca26"
                          ],
                          [
                            1,
                            "#f0f921"
                          ]
                        ],
                        "type": "histogram2d"
                      }
                    ],
                    "histogram2dcontour": [
                      {
                        "colorbar": {
                          "outlinewidth": 0,
                          "ticks": ""
                        },
                        "colorscale": [
                          [
                            0,
                            "#0d0887"
                          ],
                          [
                            0.1111111111111111,
                            "#46039f"
                          ],
                          [
                            0.2222222222222222,
                            "#7201a8"
                          ],
                          [
                            0.3333333333333333,
                            "#9c179e"
                          ],
                          [
                            0.4444444444444444,
                            "#bd3786"
                          ],
                          [
                            0.5555555555555556,
                            "#d8576b"
                          ],
                          [
                            0.6666666666666666,
                            "#ed7953"
                          ],
                          [
                            0.7777777777777778,
                            "#fb9f3a"
                          ],
                          [
                            0.8888888888888888,
                            "#fdca26"
                          ],
                          [
                            1,
                            "#f0f921"
                          ]
                        ],
                        "type": "histogram2dcontour"
                      }
                    ],
                    "mesh3d": [
                      {
                        "colorbar": {
                          "outlinewidth": 0,
                          "ticks": ""
                        },
                        "type": "mesh3d"
                      }
                    ],
                    "parcoords": [
                      {
                        "line": {
                          "colorbar": {
                            "outlinewidth": 0,
                            "ticks": ""
                          }
                        },
                        "type": "parcoords"
                      }
                    ],
                    "pie": [
                      {
                        "automargin": true,
                        "type": "pie"
                      }
                    ],
                    "scatter": [
                      {
                        "fillpattern": {
                          "fillmode": "overlay",
                          "size": 10,
                          "solidity": 0.2
                        },
                        "type": "scatter"
                      }
                    ],
                    "scatter3d": [
                      {
                        "line": {
                          "colorbar": {
                            "outlinewidth": 0,
                            "ticks": ""
                          }
                        },
                        "marker": {
                          "colorbar": {
                            "outlinewidth": 0,
                            "ticks": ""
                          }
                        },
                        "type": "scatter3d"
                      }
                    ],
                    "scattercarpet": [
                      {
                        "marker": {
                          "colorbar": {
                            "outlinewidth": 0,
                            "ticks": ""
                          }
                        },
                        "type": "scattercarpet"
                      }
                    ],
                    "scattergeo": [
                      {
                        "marker": {
                          "colorbar": {
                            "outlinewidth": 0,
                            "ticks": ""
                          }
                        },
                        "type": "scattergeo"
                      }
                    ],
                    "scattergl": [
                      {
                        "marker": {
                          "colorbar": {
                            "outlinewidth": 0,
                            "ticks": ""
                          }
                        },
                        "type": "scattergl"
                      }
                    ],
                    "scattermapbox": [
                      {
                        "marker": {
                          "colorbar": {
                            "outlinewidth": 0,
                            "ticks": ""
                          }
                        },
                        "type": "scattermapbox"
                      }
                    ],
                    "scatterpolar": [
                      {
                        "marker": {
                          "colorbar": {
                            "outlinewidth": 0,
                            "ticks": ""
                          }
                        },
                        "type": "scatterpolar"
                      }
                    ],
                    "scatterpolargl": [
                      {
                        "marker": {
                          "colorbar": {
                            "outlinewidth": 0,
                            "ticks": ""
                          }
                        },
                        "type": "scatterpolargl"
                      }
                    ],
                    "scatterternary": [
                      {
                        "marker": {
                          "colorbar": {
                            "outlinewidth": 0,
                            "ticks": ""
                          }
                        },
                        "type": "scatterternary"
                      }
                    ],
                    "surface": [
                      {
                        "colorbar": {
                          "outlinewidth": 0,
                          "ticks": ""
                        },
                        "colorscale": [
                          [
                            0,
                            "#0d0887"
                          ],
                          [
                            0.1111111111111111,
                            "#46039f"
                          ],
                          [
                            0.2222222222222222,
                            "#7201a8"
                          ],
                          [
                            0.3333333333333333,
                            "#9c179e"
                          ],
                          [
                            0.4444444444444444,
                            "#bd3786"
                          ],
                          [
                            0.5555555555555556,
                            "#d8576b"
                          ],
                          [
                            0.6666666666666666,
                            "#ed7953"
                          ],
                          [
                            0.7777777777777778,
                            "#fb9f3a"
                          ],
                          [
                            0.8888888888888888,
                            "#fdca26"
                          ],
                          [
                            1,
                            "#f0f921"
                          ]
                        ],
                        "type": "surface"
                      }
                    ],
                    "table": [
                      {
                        "cells": {
                          "fill": {
                            "color": "#EBF0F8"
                          },
                          "line": {
                            "color": "white"
                          }
                        },
                        "header": {
                          "fill": {
                            "color": "#C8D4E3"
                          },
                          "line": {
                            "color": "white"
                          }
                        },
                        "type": "table"
                      }
                    ]
                  },
                  "layout": {
                    "annotationdefaults": {
                      "arrowcolor": "#2a3f5f",
                      "arrowhead": 0,
                      "arrowwidth": 1
                    },
                    "autotypenumbers": "strict",
                    "coloraxis": {
                      "colorbar": {
                        "outlinewidth": 0,
                        "ticks": ""
                      }
                    },
                    "colorscale": {
                      "diverging": [
                        [
                          0,
                          "#8e0152"
                        ],
                        [
                          0.1,
                          "#c51b7d"
                        ],
                        [
                          0.2,
                          "#de77ae"
                        ],
                        [
                          0.3,
                          "#f1b6da"
                        ],
                        [
                          0.4,
                          "#fde0ef"
                        ],
                        [
                          0.5,
                          "#f7f7f7"
                        ],
                        [
                          0.6,
                          "#e6f5d0"
                        ],
                        [
                          0.7,
                          "#b8e186"
                        ],
                        [
                          0.8,
                          "#7fbc41"
                        ],
                        [
                          0.9,
                          "#4d9221"
                        ],
                        [
                          1,
                          "#276419"
                        ]
                      ],
                      "sequential": [
                        [
                          0,
                          "#0d0887"
                        ],
                        [
                          0.1111111111111111,
                          "#46039f"
                        ],
                        [
                          0.2222222222222222,
                          "#7201a8"
                        ],
                        [
                          0.3333333333333333,
                          "#9c179e"
                        ],
                        [
                          0.4444444444444444,
                          "#bd3786"
                        ],
                        [
                          0.5555555555555556,
                          "#d8576b"
                        ],
                        [
                          0.6666666666666666,
                          "#ed7953"
                        ],
                        [
                          0.7777777777777778,
                          "#fb9f3a"
                        ],
                        [
                          0.8888888888888888,
                          "#fdca26"
                        ],
                        [
                          1,
                          "#f0f921"
                        ]
                      ],
                      "sequentialminus": [
                        [
                          0,
                          "#0d0887"
                        ],
                        [
                          0.1111111111111111,
                          "#46039f"
                        ],
                        [
                          0.2222222222222222,
                          "#7201a8"
                        ],
                        [
                          0.3333333333333333,
                          "#9c179e"
                        ],
                        [
                          0.4444444444444444,
                          "#bd3786"
                        ],
                        [
                          0.5555555555555556,
                          "#d8576b"
                        ],
                        [
                          0.6666666666666666,
                          "#ed7953"
                        ],
                        [
                          0.7777777777777778,
                          "#fb9f3a"
                        ],
                        [
                          0.8888888888888888,
                          "#fdca26"
                        ],
                        [
                          1,
                          "#f0f921"
                        ]
                      ]
                    },
                    "colorway": [
                      "#636efa",
                      "#EF553B",
                      "#00cc96",
                      "#ab63fa",
                      "#FFA15A",
                      "#19d3f3",
                      "#FF6692",
                      "#B6E880",
                      "#FF97FF",
                      "#FECB52"
                    ],
                    "font": {
                      "color": "#2a3f5f"
                    },
                    "geo": {
                      "bgcolor": "white",
                      "lakecolor": "white",
                      "landcolor": "#E5ECF6",
                      "showlakes": true,
                      "showland": true,
                      "subunitcolor": "white"
                    },
                    "hoverlabel": {
                      "align": "left"
                    },
                    "hovermode": "closest",
                    "mapbox": {
                      "style": "light"
                    },
                    "paper_bgcolor": "white",
                    "plot_bgcolor": "#E5ECF6",
                    "polar": {
                      "angularaxis": {
                        "gridcolor": "white",
                        "linecolor": "white",
                        "ticks": ""
                      },
                      "bgcolor": "#E5ECF6",
                      "radialaxis": {
                        "gridcolor": "white",
                        "linecolor": "white",
                        "ticks": ""
                      }
                    },
                    "scene": {
                      "xaxis": {
                        "backgroundcolor": "#E5ECF6",
                        "gridcolor": "white",
                        "gridwidth": 2,
                        "linecolor": "white",
                        "showbackground": true,
                        "ticks": "",
                        "zerolinecolor": "white"
                      },
                      "yaxis": {
                        "backgroundcolor": "#E5ECF6",
                        "gridcolor": "white",
                        "gridwidth": 2,
                        "linecolor": "white",
                        "showbackground": true,
                        "ticks": "",
                        "zerolinecolor": "white"
                      },
                      "zaxis": {
                        "backgroundcolor": "#E5ECF6",
                        "gridcolor": "white",
                        "gridwidth": 2,
                        "linecolor": "white",
                        "showbackground": true,
                        "ticks": "",
                        "zerolinecolor": "white"
                      }
                    },
                    "shapedefaults": {
                      "line": {
                        "color": "#2a3f5f"
                      }
                    },
                    "ternary": {
                      "aaxis": {
                        "gridcolor": "white",
                        "linecolor": "white",
                        "ticks": ""
                      },
                      "baxis": {
                        "gridcolor": "white",
                        "linecolor": "white",
                        "ticks": ""
                      },
                      "bgcolor": "#E5ECF6",
                      "caxis": {
                        "gridcolor": "white",
                        "linecolor": "white",
                        "ticks": ""
                      }
                    },
                    "title": {
                      "x": 0.05
                    },
                    "xaxis": {
                      "automargin": true,
                      "gridcolor": "white",
                      "linecolor": "white",
                      "ticks": "",
                      "title": {
                        "standoff": 15
                      },
                      "zerolinecolor": "white",
                      "zerolinewidth": 2
                    },
                    "yaxis": {
                      "automargin": true,
                      "gridcolor": "white",
                      "linecolor": "white",
                      "ticks": "",
                      "title": {
                        "standoff": 15
                      },
                      "zerolinecolor": "white",
                      "zerolinewidth": 2
                    }
                  }
                },
                "xaxis": {
                  "anchor": "y",
                  "domain": [
                    0,
                    1
                  ],
                  "rangeselector": {
                    "buttons": [
                      {
                        "count": 1,
                        "label": "YTD",
                        "step": "year",
                        "stepmode": "todate"
                      },
                      {
                        "count": 1,
                        "label": "1y",
                        "step": "year",
                        "stepmode": "backward"
                      },
                      {
                        "count": 3,
                        "label": "3y",
                        "step": "year",
                        "stepmode": "backward"
                      },
                      {
                        "count": 5,
                        "label": "5y",
                        "step": "year",
                        "stepmode": "backward"
                      },
                      {
                        "count": 7,
                        "label": "7y",
                        "step": "year",
                        "stepmode": "backward"
                      },
                      {
                        "count": 10,
                        "label": "10y",
                        "step": "year",
                        "stepmode": "backward"
                      },
                      {
                        "step": "all"
                      }
                    ]
                  },
                  "rangeslider": {
                    "visible": true
                  },
                  "title": {
                    "text": "Date"
                  }
                },
                "yaxis": {
                  "anchor": "x",
                  "domain": [
                    0,
                    1
                  ],
                  "title": {
                    "text": "M-YOY"
                  }
                }
              }
            }
          },
          "metadata": {},
          "output_type": "display_data"
        }
      ],
      "source": [
        "import pandas as pd\n",
        "import plotly.express as px\n",
        "import plotly.graph_objects as go\n",
        "\n",
        "df_show = dfs_cpi[\n",
        "    (\n",
        "        (dfs_cpi[\"Hàng hóa\"] == \"Lương thực\")\n",
        "        | (dfs_cpi[\"Hàng hóa\"] == \"Nhà ở và vật liệu xây dựng\")\n",
        "        | (dfs_cpi[\"Hàng hóa\"] == \"Giao thông\")\n",
        "        | (dfs_cpi[\"Hàng hóa\"] == \"Giáo dục\")\n",
        "        | (dfs_cpi[\"Hàng hóa\"] == \"Thuốc và dịch vụ y tế\")\n",
        "    )\n",
        "    & (dfs_cpi[\"Date\"] > \"2020-01-01\")\n",
        "]\n",
        "\n",
        "fig = px.area(df_show, x=\"Date\", y=\"M-YOY\", color=\"Hàng hóa\")\n",
        "\n",
        "fig.update_xaxes(\n",
        "    rangeslider_visible=True,\n",
        "    rangeselector=dict(\n",
        "        buttons=[\n",
        "            dict(count=1, label=\"YTD\", step=\"year\", stepmode=\"todate\"),\n",
        "            dict(count=1, label=\"1y\", step=\"year\", stepmode=\"backward\"),\n",
        "            dict(count=3, label=\"3y\", step=\"year\", stepmode=\"backward\"),\n",
        "            dict(count=5, label=\"5y\", step=\"year\", stepmode=\"backward\"),\n",
        "            dict(count=7, label=\"7y\", step=\"year\", stepmode=\"backward\"),\n",
        "            dict(count=10, label=\"10y\", step=\"year\", stepmode=\"backward\"),\n",
        "            dict(step=\"all\"),\n",
        "        ]\n",
        "    ),\n",
        ")\n",
        "\n",
        "fig.show()"
      ]
    },
    {
      "cell_type": "code",
      "execution_count": null,
      "metadata": {},
      "outputs": [],
      "source": []
    }
  ],
  "metadata": {
    "kernelspec": {
      "display_name": "vn-macroeconomics",
      "language": "python",
      "name": "python3"
    },
    "language_info": {
      "codemirror_mode": {
        "name": "ipython",
        "version": 3
      },
      "file_extension": ".py",
      "mimetype": "text/x-python",
      "name": "python",
      "nbconvert_exporter": "python",
      "pygments_lexer": "ipython3",
      "version": "3.9.16"
    },
    "orig_nbformat": 4
  },
  "nbformat": 4,
  "nbformat_minor": 2
}
