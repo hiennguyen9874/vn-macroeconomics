{
 "cells": [
  {
   "cell_type": "code",
   "execution_count": 1,
   "metadata": {},
   "outputs": [],
   "source": [
    "import pandas as pd\n",
    "import seaborn as sns\n",
    "from datetime import date"
   ]
  },
  {
   "cell_type": "code",
   "execution_count": 2,
   "metadata": {},
   "outputs": [],
   "source": [
    "def find_sheet_name(sheet_names):\n",
    "    iip_sheet_names = list(filter(lambda x: \"spcn\" in x.lower(), sheet_names))\n",
    "\n",
    "    if len(iip_sheet_names) == 1:\n",
    "        return iip_sheet_names[0]\n",
    "\n",
    "    iip_sheet_names = list(filter(lambda x: \"sp cn\" in x.lower(), sheet_names))\n",
    "\n",
    "    if len(iip_sheet_names) == 1:\n",
    "        return iip_sheet_names[0]\n",
    "\n",
    "    iip_sheet_names = list(\n",
    "        filter(lambda x: \"spcn\" in x.lower() and \"thang\" in x.lower(), sheet_names)\n",
    "    )\n",
    "\n",
    "    if len(iip_sheet_names) == 1:\n",
    "        return iip_sheet_names[0]\n",
    "    \n",
    "    iip_sheet_names = list(filter(lambda x: \"sp\" in x.lower(), sheet_names))\n",
    "\n",
    "    if len(iip_sheet_names) == 1:\n",
    "        return iip_sheet_names[0]\n",
    "\n",
    "    # iip_sheet_names = list(filter(lambda x: \"thang\" in x.lower(), iip_sheet_names))\n",
    "\n",
    "    # if len(iip_sheet_names) == 1:\n",
    "    #     return iip_sheet_names[0]\n",
    "\n",
    "    if len(sheet_names) == 43:\n",
    "        return \"9\"\n",
    "\n",
    "    # iip_sheet_names = list(filter(lambda x: \"gtcn\" in x.lower(), sheet_names))\n",
    "\n",
    "    # if len(iip_sheet_names) == 1:\n",
    "    #     return iip_sheet_names[0]\n",
    "\n",
    "    raise RuntimeError(sheet_names, iip_sheet_names)"
   ]
  },
  {
   "cell_type": "code",
   "execution_count": 3,
   "metadata": {},
   "outputs": [],
   "source": [
    "en_to_vn = {\n",
    "    \"Coal (pure)\": \"Than đá (than sạch)\",\n",
    "    \"Extracted crude oil\": \"Dầu mỏ thô khai thác\",\n",
    "    \"Natural gas (in the form of air)\": \"Khí đốt thiên nhiên dạng khí\",\n",
    "    \"Liquidized gas (LPG)\": \"Khí hoá lỏng (LPG)\",\n",
    "    \"Petroleum\": \"Xăng, dầu\",\n",
    "    \"Aluminium\": \"Alumin\",\n",
    "    \"Processed fishery products\": \"Thuỷ hải sản chế biến\",\n",
    "    \"Fresh milk\": \"Sữa tươi\",\n",
    "    \"Powder milk\": \"Sữa bột\",\n",
    "    \"Refined sugar\": \"Đường kính\",\n",
    "    \"Monosodium glutamate\": \"Bột ngọt\",\n",
    "    \"Animal feed\": \"Thức ăn cho gia súc\",\n",
    "    \"Aquatic feed\": \"Thức ăn cho thủy sản\",\n",
    "    \"Beer\": \"Bia\",\n",
    "    \"Cigarettes\": \"Thuốc lá điếu\",\n",
    "    \"Textile fabric from natural yarn\": \"Vải dệt từ sợi tự nhiên\",\n",
    "    \"Textile fabric from polyester or artificial yarn\": \"Vải dệt từ sợi tổng hợp hoặc sợi nhân tạo\",\n",
    "    \"Clothes\": \"Quần áo mặc thường\",\n",
    "    \"Leather footgear\": \"Giày, dép da\",\n",
    "    \"Urea fertilizer\": \"Phân U rê\",\n",
    "    \"N.P.K mixed fertilizer\": \"Phân hỗn hợp N.P.K\",\n",
    "    \"Chemical paint\": \"Sơn hoá học \",\n",
    "    \"Cement\": \"Xi măng\",\n",
    "    \"Crude steel, iron\": \"Sắt, thép thô\",\n",
    "    \"Laminated steel\": \"Thép cán\",\n",
    "    \"Steel bars and corners\": \"Thép thanh, thép góc\",\n",
    "    \"Mobile phone\": \"Điện thoại di động\",\n",
    "    \"Phone accessories\": \"Linh kiện điện thoại\",\n",
    "    \"Television\": \"Tivi \",\n",
    "    \"Automobile\": \"Ô tô\",\n",
    "    \"Motorbike\": \"Xe máy\",\n",
    "    \"Generated electricity\": \"Điện sản xuất\",\n",
    "    \"Running water\": \"Nước máy thương phẩm\",\n",
    "}"
   ]
  },
  {
   "cell_type": "code",
   "execution_count": 4,
   "metadata": {},
   "outputs": [
    {
     "data": {
      "text/html": [
       "<div>\n",
       "<style scoped>\n",
       "    .dataframe tbody tr th:only-of-type {\n",
       "        vertical-align: middle;\n",
       "    }\n",
       "\n",
       "    .dataframe tbody tr th {\n",
       "        vertical-align: top;\n",
       "    }\n",
       "\n",
       "    .dataframe thead th {\n",
       "        text-align: right;\n",
       "    }\n",
       "</style>\n",
       "<table border=\"1\" class=\"dataframe\">\n",
       "  <thead>\n",
       "    <tr style=\"text-align: right;\">\n",
       "      <th></th>\n",
       "      <th>Ngành</th>\n",
       "      <th>YOY</th>\n",
       "      <th>YTD-YOY</th>\n",
       "      <th>Date</th>\n",
       "    </tr>\n",
       "  </thead>\n",
       "  <tbody>\n",
       "    <tr>\n",
       "      <th>4</th>\n",
       "      <td>Than đá (than sạch)</td>\n",
       "      <td>1.578896</td>\n",
       "      <td>-5.552874</td>\n",
       "      <td>2017-03-29</td>\n",
       "    </tr>\n",
       "    <tr>\n",
       "      <th>5</th>\n",
       "      <td>Dầu mỏ thô khai thác</td>\n",
       "      <td>-14.117647</td>\n",
       "      <td>-14.851485</td>\n",
       "      <td>2017-03-29</td>\n",
       "    </tr>\n",
       "    <tr>\n",
       "      <th>6</th>\n",
       "      <td>Khí đốt thiên nhiên dạng khí</td>\n",
       "      <td>1.926409</td>\n",
       "      <td>-8.913114</td>\n",
       "      <td>2017-03-29</td>\n",
       "    </tr>\n",
       "    <tr>\n",
       "      <th>7</th>\n",
       "      <td>Khí hoá lỏng (LPG)</td>\n",
       "      <td>2.579533</td>\n",
       "      <td>-3.938969</td>\n",
       "      <td>2017-03-29</td>\n",
       "    </tr>\n",
       "    <tr>\n",
       "      <th>8</th>\n",
       "      <td>Thuỷ hải sản chế biến</td>\n",
       "      <td>15.0</td>\n",
       "      <td>10.166908</td>\n",
       "      <td>2017-03-29</td>\n",
       "    </tr>\n",
       "    <tr>\n",
       "      <th>9</th>\n",
       "      <td>Sữa tươi</td>\n",
       "      <td>2.054285</td>\n",
       "      <td>12.734145</td>\n",
       "      <td>2017-03-29</td>\n",
       "    </tr>\n",
       "    <tr>\n",
       "      <th>10</th>\n",
       "      <td>Sữa bột</td>\n",
       "      <td>15.486985</td>\n",
       "      <td>5.525086</td>\n",
       "      <td>2017-03-29</td>\n",
       "    </tr>\n",
       "    <tr>\n",
       "      <th>11</th>\n",
       "      <td>Đường kính</td>\n",
       "      <td>-6.2</td>\n",
       "      <td>-7.367391</td>\n",
       "      <td>2017-03-29</td>\n",
       "    </tr>\n",
       "    <tr>\n",
       "      <th>12</th>\n",
       "      <td>Bột ngọt</td>\n",
       "      <td>3.133669</td>\n",
       "      <td>5.192788</td>\n",
       "      <td>2017-03-29</td>\n",
       "    </tr>\n",
       "    <tr>\n",
       "      <th>13</th>\n",
       "      <td>Thức ăn cho gia súc</td>\n",
       "      <td>16.0</td>\n",
       "      <td>9.346951</td>\n",
       "      <td>2017-03-29</td>\n",
       "    </tr>\n",
       "    <tr>\n",
       "      <th>14</th>\n",
       "      <td>Thức ăn cho thủy sản</td>\n",
       "      <td>11.371848</td>\n",
       "      <td>5.372131</td>\n",
       "      <td>2017-03-29</td>\n",
       "    </tr>\n",
       "    <tr>\n",
       "      <th>15</th>\n",
       "      <td>Bia</td>\n",
       "      <td>11.870522</td>\n",
       "      <td>9.020156</td>\n",
       "      <td>2017-03-29</td>\n",
       "    </tr>\n",
       "    <tr>\n",
       "      <th>16</th>\n",
       "      <td>Thuốc lá điếu</td>\n",
       "      <td>1.9</td>\n",
       "      <td>1.517459</td>\n",
       "      <td>2017-03-29</td>\n",
       "    </tr>\n",
       "    <tr>\n",
       "      <th>17</th>\n",
       "      <td>Vải dệt từ sợi tự nhiên</td>\n",
       "      <td>-10.046508</td>\n",
       "      <td>1.095045</td>\n",
       "      <td>2017-03-29</td>\n",
       "    </tr>\n",
       "    <tr>\n",
       "      <th>18</th>\n",
       "      <td>Vải dệt từ sợi tổng hợp hoặc sợi nhân tạo</td>\n",
       "      <td>4.7</td>\n",
       "      <td>7.559685</td>\n",
       "      <td>2017-03-29</td>\n",
       "    </tr>\n",
       "    <tr>\n",
       "      <th>19</th>\n",
       "      <td>Quần áo mặc thường</td>\n",
       "      <td>4.24045</td>\n",
       "      <td>9.499072</td>\n",
       "      <td>2017-03-29</td>\n",
       "    </tr>\n",
       "    <tr>\n",
       "      <th>20</th>\n",
       "      <td>Giày, dép da</td>\n",
       "      <td>-2.8</td>\n",
       "      <td>-1.637276</td>\n",
       "      <td>2017-03-29</td>\n",
       "    </tr>\n",
       "    <tr>\n",
       "      <th>21</th>\n",
       "      <td>Phân Ure</td>\n",
       "      <td>32.125445</td>\n",
       "      <td>18.545628</td>\n",
       "      <td>2017-03-29</td>\n",
       "    </tr>\n",
       "    <tr>\n",
       "      <th>22</th>\n",
       "      <td>Phân hỗn hợp N.P.K</td>\n",
       "      <td>12.331509</td>\n",
       "      <td>8.44059</td>\n",
       "      <td>2017-03-29</td>\n",
       "    </tr>\n",
       "    <tr>\n",
       "      <th>23</th>\n",
       "      <td>Sơn hoá học</td>\n",
       "      <td>15.1</td>\n",
       "      <td>12.059484</td>\n",
       "      <td>2017-03-29</td>\n",
       "    </tr>\n",
       "    <tr>\n",
       "      <th>24</th>\n",
       "      <td>Dầu gội đầu, dầu xả</td>\n",
       "      <td>2.252274</td>\n",
       "      <td>4.701016</td>\n",
       "      <td>2017-03-29</td>\n",
       "    </tr>\n",
       "    <tr>\n",
       "      <th>25</th>\n",
       "      <td>Xi măng</td>\n",
       "      <td>2.444197</td>\n",
       "      <td>5.389564</td>\n",
       "      <td>2017-03-29</td>\n",
       "    </tr>\n",
       "    <tr>\n",
       "      <th>26</th>\n",
       "      <td>Sắt, thép thô</td>\n",
       "      <td>18.817616</td>\n",
       "      <td>23.249297</td>\n",
       "      <td>2017-03-29</td>\n",
       "    </tr>\n",
       "    <tr>\n",
       "      <th>27</th>\n",
       "      <td>Thép cán</td>\n",
       "      <td>30.21711</td>\n",
       "      <td>32.226947</td>\n",
       "      <td>2017-03-29</td>\n",
       "    </tr>\n",
       "    <tr>\n",
       "      <th>28</th>\n",
       "      <td>Thép thanh, thép góc</td>\n",
       "      <td>5.437091</td>\n",
       "      <td>8.051487</td>\n",
       "      <td>2017-03-29</td>\n",
       "    </tr>\n",
       "    <tr>\n",
       "      <th>29</th>\n",
       "      <td>Điện thoại di động</td>\n",
       "      <td>-11.207873</td>\n",
       "      <td>-8.190081</td>\n",
       "      <td>2017-03-29</td>\n",
       "    </tr>\n",
       "    <tr>\n",
       "      <th>30</th>\n",
       "      <td>Tivi</td>\n",
       "      <td>65.279085</td>\n",
       "      <td>43.283269</td>\n",
       "      <td>2017-03-29</td>\n",
       "    </tr>\n",
       "    <tr>\n",
       "      <th>31</th>\n",
       "      <td>Ô tô</td>\n",
       "      <td>-0.792936</td>\n",
       "      <td>9.958884</td>\n",
       "      <td>2017-03-29</td>\n",
       "    </tr>\n",
       "    <tr>\n",
       "      <th>32</th>\n",
       "      <td>Xe máy</td>\n",
       "      <td>-3.607949</td>\n",
       "      <td>-0.598236</td>\n",
       "      <td>2017-03-29</td>\n",
       "    </tr>\n",
       "    <tr>\n",
       "      <th>33</th>\n",
       "      <td>Điện sản xuất</td>\n",
       "      <td>12.2847</td>\n",
       "      <td>9.517375</td>\n",
       "      <td>2017-03-29</td>\n",
       "    </tr>\n",
       "    <tr>\n",
       "      <th>34</th>\n",
       "      <td>Nước máy thương phẩm</td>\n",
       "      <td>9.472416</td>\n",
       "      <td>8.432884</td>\n",
       "      <td>2017-03-29</td>\n",
       "    </tr>\n",
       "  </tbody>\n",
       "</table>\n",
       "</div>"
      ],
      "text/plain": [
       "                                        Ngành        YOY    YTD-YOY       Date\n",
       "4                         Than đá (than sạch)   1.578896  -5.552874 2017-03-29\n",
       "5                        Dầu mỏ thô khai thác -14.117647 -14.851485 2017-03-29\n",
       "6                Khí đốt thiên nhiên dạng khí   1.926409  -8.913114 2017-03-29\n",
       "7                          Khí hoá lỏng (LPG)   2.579533  -3.938969 2017-03-29\n",
       "8                       Thuỷ hải sản chế biến       15.0  10.166908 2017-03-29\n",
       "9                                    Sữa tươi   2.054285  12.734145 2017-03-29\n",
       "10                                    Sữa bột  15.486985   5.525086 2017-03-29\n",
       "11                                 Đường kính       -6.2  -7.367391 2017-03-29\n",
       "12                                   Bột ngọt   3.133669   5.192788 2017-03-29\n",
       "13                        Thức ăn cho gia súc       16.0   9.346951 2017-03-29\n",
       "14                       Thức ăn cho thủy sản  11.371848   5.372131 2017-03-29\n",
       "15                                        Bia  11.870522   9.020156 2017-03-29\n",
       "16                              Thuốc lá điếu        1.9   1.517459 2017-03-29\n",
       "17                    Vải dệt từ sợi tự nhiên -10.046508   1.095045 2017-03-29\n",
       "18  Vải dệt từ sợi tổng hợp hoặc sợi nhân tạo        4.7   7.559685 2017-03-29\n",
       "19                         Quần áo mặc thường    4.24045   9.499072 2017-03-29\n",
       "20                               Giày, dép da       -2.8  -1.637276 2017-03-29\n",
       "21                                   Phân Ure  32.125445  18.545628 2017-03-29\n",
       "22                         Phân hỗn hợp N.P.K  12.331509    8.44059 2017-03-29\n",
       "23                                Sơn hoá học       15.1  12.059484 2017-03-29\n",
       "24                        Dầu gội đầu, dầu xả   2.252274   4.701016 2017-03-29\n",
       "25                                    Xi măng   2.444197   5.389564 2017-03-29\n",
       "26                              Sắt, thép thô  18.817616  23.249297 2017-03-29\n",
       "27                                   Thép cán   30.21711  32.226947 2017-03-29\n",
       "28                       Thép thanh, thép góc   5.437091   8.051487 2017-03-29\n",
       "29                         Điện thoại di động -11.207873  -8.190081 2017-03-29\n",
       "30                                       Tivi  65.279085  43.283269 2017-03-29\n",
       "31                                       Ô tô  -0.792936   9.958884 2017-03-29\n",
       "32                                     Xe máy  -3.607949  -0.598236 2017-03-29\n",
       "33                              Điện sản xuất    12.2847   9.517375 2017-03-29\n",
       "34                       Nước máy thương phẩm   9.472416   8.432884 2017-03-29"
      ]
     },
     "execution_count": 4,
     "metadata": {},
     "output_type": "execute_result"
    }
   ],
   "source": [
    "def get_spcn(xl, sheet_name, date):\n",
    "    df = xl.parse(sheet_name)\n",
    "\n",
    "    df = df.dropna(axis=1, how=\"all\").dropna(axis=0, how=\"all\")\n",
    "\n",
    "    df[df.columns[0]] = (\n",
    "        df[df.columns[0]]\n",
    "        .replace(r\"\\s+\", \" \", regex=True)\n",
    "        .replace(r\"\\n\", \" \", regex=True)\n",
    "    )\n",
    "\n",
    "    df[df.columns[0]] = df[df.columns[0]].str.strip()\n",
    "\n",
    "    df.reset_index(inplace=True, drop=True)\n",
    "\n",
    "    df = df.drop(\n",
    "        list(\n",
    "            range(\n",
    "                df[df.columns[0]][\n",
    "                    (df[df.columns[0]] == \"Than đá (than sạch)\")\n",
    "                    | ((df[df.columns[0]] == \"Coal (pure)\"))\n",
    "                ].index[0]\n",
    "            )\n",
    "        )\n",
    "    )\n",
    "\n",
    "    if len(df[df.columns[0]][df[df.columns[0]] == \"Coal (pure)\"].index) > 0:\n",
    "        df[df.columns[0]] = df[df.columns[0]].map(en_to_vn)\n",
    "\n",
    "    df = df.drop(columns=[df.columns[1]])\n",
    "\n",
    "    if len(df.columns) == 5 and int(date.split(\"-\")[1]) == 1:\n",
    "        df = df.drop(columns=[df.columns[1], df.columns[2], df.columns[3]])\n",
    "        df.columns = [\"Ngành\", \"YOY\"]\n",
    "        df[\"YTD-YOY\"] = df[\"YOY\"]\n",
    "\n",
    "    if len(df.columns) == 6:\n",
    "        df = df.drop(columns=[df.columns[1], df.columns[2], df.columns[3]])\n",
    "        df.columns = [\"Ngành\", \"YOY\", \"YTD-YOY\"]\n",
    "\n",
    "    if len(df.columns) == 8:\n",
    "        df = df.drop(\n",
    "            columns=[\n",
    "                df.columns[1],\n",
    "                df.columns[2],\n",
    "                df.columns[3],\n",
    "                df.columns[6],\n",
    "                df.columns[7],\n",
    "            ]\n",
    "        )\n",
    "        df.columns = [\"Ngành\", \"YOY\", \"YTD-YOY\"]\n",
    "\n",
    "    assert len(df.columns) == 3, df.columns\n",
    "\n",
    "    df[\"YOY\"] = df[\"YOY\"] - 100\n",
    "    df[\"YTD-YOY\"] = df[\"YTD-YOY\"] - 100\n",
    "\n",
    "    df[\"Date\"] = date\n",
    "    df[\"Date\"] = pd.to_datetime(df[\"Date\"], dayfirst=False)\n",
    "\n",
    "    return df\n",
    "\n",
    "\n",
    "xl = pd.ExcelFile(\"datas/2017-03-29-Bieu-3-2017-1.xlsx\")\n",
    "\n",
    "get_spcn(xl, find_sheet_name(xl.sheet_names), \"2017-03-29\")"
   ]
  },
  {
   "cell_type": "code",
   "execution_count": 5,
   "metadata": {},
   "outputs": [],
   "source": [
    "import os\n",
    "import contextlib\n",
    "\n",
    "dfs_spcn_origin = []\n",
    "for file_name in sorted(\n",
    "    os.listdir(\"./datas\"),\n",
    "    key=lambda filename: f\"{filename.split('-')[0]}-{filename.split('-')[1]}-{filename.split('-')[2]}\",\n",
    "    reverse=True,\n",
    "):\n",
    "    if file_name.startswith(\".~\"):\n",
    "        continue\n",
    "\n",
    "    try:\n",
    "        file_path = os.path.join(\"./datas\", file_name)\n",
    "\n",
    "        year = int(file_name.split(\"-\")[0])\n",
    "        month = int(file_name.split(\"-\")[1])\n",
    "        day = int(file_name.split(\"-\")[2])\n",
    "\n",
    "        if year < 2013:\n",
    "            continue\n",
    "\n",
    "        xl = pd.ExcelFile(file_path)\n",
    "\n",
    "        df_spcn = get_spcn(xl, find_sheet_name(xl.sheet_names), f\"{year}-{month}-{day}\")\n",
    "\n",
    "        dfs_spcn_origin.append(df_spcn)\n",
    "    except Exception as e:\n",
    "        print(file_name)\n",
    "        raise e"
   ]
  },
  {
   "cell_type": "code",
   "execution_count": 6,
   "metadata": {},
   "outputs": [
    {
     "data": {
      "text/html": [
       "<div>\n",
       "<style scoped>\n",
       "    .dataframe tbody tr th:only-of-type {\n",
       "        vertical-align: middle;\n",
       "    }\n",
       "\n",
       "    .dataframe tbody tr th {\n",
       "        vertical-align: top;\n",
       "    }\n",
       "\n",
       "    .dataframe thead th {\n",
       "        text-align: right;\n",
       "    }\n",
       "</style>\n",
       "<table border=\"1\" class=\"dataframe\">\n",
       "  <thead>\n",
       "    <tr style=\"text-align: right;\">\n",
       "      <th></th>\n",
       "      <th>Ngành</th>\n",
       "      <th>YOY</th>\n",
       "      <th>YTD-YOY</th>\n",
       "      <th>Date</th>\n",
       "    </tr>\n",
       "  </thead>\n",
       "  <tbody>\n",
       "    <tr>\n",
       "      <th>0</th>\n",
       "      <td>Than đá (than sạch)</td>\n",
       "      <td>15.497406</td>\n",
       "      <td>15.497406</td>\n",
       "      <td>2024-01-29</td>\n",
       "    </tr>\n",
       "    <tr>\n",
       "      <th>1</th>\n",
       "      <td>Dầu mỏ thô khai thác</td>\n",
       "      <td>-2.209945</td>\n",
       "      <td>-2.209945</td>\n",
       "      <td>2024-01-29</td>\n",
       "    </tr>\n",
       "    <tr>\n",
       "      <th>2</th>\n",
       "      <td>Khí đốt thiên nhiên dạng khí</td>\n",
       "      <td>0.055076</td>\n",
       "      <td>0.055076</td>\n",
       "      <td>2024-01-29</td>\n",
       "    </tr>\n",
       "    <tr>\n",
       "      <th>3</th>\n",
       "      <td>Khí hoá lỏng (LPG)</td>\n",
       "      <td>16.769912</td>\n",
       "      <td>16.769912</td>\n",
       "      <td>2024-01-29</td>\n",
       "    </tr>\n",
       "    <tr>\n",
       "      <th>4</th>\n",
       "      <td>Xăng, dầu</td>\n",
       "      <td>25.754859</td>\n",
       "      <td>25.754859</td>\n",
       "      <td>2024-01-29</td>\n",
       "    </tr>\n",
       "    <tr>\n",
       "      <th>...</th>\n",
       "      <td>...</td>\n",
       "      <td>...</td>\n",
       "      <td>...</td>\n",
       "      <td>...</td>\n",
       "    </tr>\n",
       "    <tr>\n",
       "      <th>4302</th>\n",
       "      <td>Xe chở khách</td>\n",
       "      <td>-8.391633</td>\n",
       "      <td>-8.391633</td>\n",
       "      <td>2013-01-29</td>\n",
       "    </tr>\n",
       "    <tr>\n",
       "      <th>4303</th>\n",
       "      <td>Xe tải</td>\n",
       "      <td>38.241708</td>\n",
       "      <td>38.241708</td>\n",
       "      <td>2013-01-29</td>\n",
       "    </tr>\n",
       "    <tr>\n",
       "      <th>4304</th>\n",
       "      <td>Xe máy</td>\n",
       "      <td>28.609839</td>\n",
       "      <td>28.609839</td>\n",
       "      <td>2013-01-29</td>\n",
       "    </tr>\n",
       "    <tr>\n",
       "      <th>4305</th>\n",
       "      <td>Điện sản xuất</td>\n",
       "      <td>25.748727</td>\n",
       "      <td>25.748727</td>\n",
       "      <td>2013-01-29</td>\n",
       "    </tr>\n",
       "    <tr>\n",
       "      <th>4306</th>\n",
       "      <td>Nước máy thương phẩm</td>\n",
       "      <td>10.5</td>\n",
       "      <td>10.5</td>\n",
       "      <td>2013-01-29</td>\n",
       "    </tr>\n",
       "  </tbody>\n",
       "</table>\n",
       "<p>4307 rows × 4 columns</p>\n",
       "</div>"
      ],
      "text/plain": [
       "                             Ngành        YOY    YTD-YOY       Date\n",
       "0              Than đá (than sạch)  15.497406  15.497406 2024-01-29\n",
       "1             Dầu mỏ thô khai thác  -2.209945  -2.209945 2024-01-29\n",
       "2     Khí đốt thiên nhiên dạng khí   0.055076   0.055076 2024-01-29\n",
       "3               Khí hoá lỏng (LPG)  16.769912  16.769912 2024-01-29\n",
       "4                        Xăng, dầu  25.754859  25.754859 2024-01-29\n",
       "...                            ...        ...        ...        ...\n",
       "4302                  Xe chở khách  -8.391633  -8.391633 2013-01-29\n",
       "4303                        Xe tải  38.241708  38.241708 2013-01-29\n",
       "4304                        Xe máy  28.609839  28.609839 2013-01-29\n",
       "4305                 Điện sản xuất  25.748727  25.748727 2013-01-29\n",
       "4306          Nước máy thương phẩm       10.5       10.5 2013-01-29\n",
       "\n",
       "[4307 rows x 4 columns]"
      ]
     },
     "execution_count": 6,
     "metadata": {},
     "output_type": "execute_result"
    }
   ],
   "source": [
    "dfs_spcn = pd.concat(dfs_spcn_origin, ignore_index=True, axis=0)\n",
    "dfs_spcn[\"Date\"] = pd.to_datetime(dfs_spcn[\"Date\"], dayfirst=False)\n",
    "dfs_spcn"
   ]
  },
  {
   "cell_type": "code",
   "execution_count": 7,
   "metadata": {},
   "outputs": [
    {
     "data": {
      "text/html": [
       "<div>\n",
       "<style scoped>\n",
       "    .dataframe tbody tr th:only-of-type {\n",
       "        vertical-align: middle;\n",
       "    }\n",
       "\n",
       "    .dataframe tbody tr th {\n",
       "        vertical-align: top;\n",
       "    }\n",
       "\n",
       "    .dataframe thead th {\n",
       "        text-align: right;\n",
       "    }\n",
       "</style>\n",
       "<table border=\"1\" class=\"dataframe\">\n",
       "  <thead>\n",
       "    <tr style=\"text-align: right;\">\n",
       "      <th></th>\n",
       "      <th>Ngành</th>\n",
       "      <th>YOY</th>\n",
       "      <th>YTD-YOY</th>\n",
       "      <th>Date</th>\n",
       "    </tr>\n",
       "  </thead>\n",
       "  <tbody>\n",
       "    <tr>\n",
       "      <th>0</th>\n",
       "      <td>Than đá (than sạch)</td>\n",
       "      <td>15.497406</td>\n",
       "      <td>15.497406</td>\n",
       "      <td>2024-01-29</td>\n",
       "    </tr>\n",
       "    <tr>\n",
       "      <th>1</th>\n",
       "      <td>Dầu mỏ thô khai thác</td>\n",
       "      <td>-2.209945</td>\n",
       "      <td>-2.209945</td>\n",
       "      <td>2024-01-29</td>\n",
       "    </tr>\n",
       "    <tr>\n",
       "      <th>2</th>\n",
       "      <td>Khí đốt thiên nhiên dạng khí</td>\n",
       "      <td>0.055076</td>\n",
       "      <td>0.055076</td>\n",
       "      <td>2024-01-29</td>\n",
       "    </tr>\n",
       "    <tr>\n",
       "      <th>3</th>\n",
       "      <td>Khí hoá lỏng (LPG)</td>\n",
       "      <td>16.769912</td>\n",
       "      <td>16.769912</td>\n",
       "      <td>2024-01-29</td>\n",
       "    </tr>\n",
       "    <tr>\n",
       "      <th>4</th>\n",
       "      <td>Xăng, dầu</td>\n",
       "      <td>25.754859</td>\n",
       "      <td>25.754859</td>\n",
       "      <td>2024-01-29</td>\n",
       "    </tr>\n",
       "    <tr>\n",
       "      <th>...</th>\n",
       "      <td>...</td>\n",
       "      <td>...</td>\n",
       "      <td>...</td>\n",
       "      <td>...</td>\n",
       "    </tr>\n",
       "    <tr>\n",
       "      <th>4302</th>\n",
       "      <td>Xe chở khách</td>\n",
       "      <td>-8.391633</td>\n",
       "      <td>-8.391633</td>\n",
       "      <td>2013-01-29</td>\n",
       "    </tr>\n",
       "    <tr>\n",
       "      <th>4303</th>\n",
       "      <td>Xe tải</td>\n",
       "      <td>38.241708</td>\n",
       "      <td>38.241708</td>\n",
       "      <td>2013-01-29</td>\n",
       "    </tr>\n",
       "    <tr>\n",
       "      <th>4304</th>\n",
       "      <td>Xe máy</td>\n",
       "      <td>28.609839</td>\n",
       "      <td>28.609839</td>\n",
       "      <td>2013-01-29</td>\n",
       "    </tr>\n",
       "    <tr>\n",
       "      <th>4305</th>\n",
       "      <td>Điện sản xuất</td>\n",
       "      <td>25.748727</td>\n",
       "      <td>25.748727</td>\n",
       "      <td>2013-01-29</td>\n",
       "    </tr>\n",
       "    <tr>\n",
       "      <th>4306</th>\n",
       "      <td>Nước máy thương phẩm</td>\n",
       "      <td>10.5</td>\n",
       "      <td>10.5</td>\n",
       "      <td>2013-01-29</td>\n",
       "    </tr>\n",
       "  </tbody>\n",
       "</table>\n",
       "<p>4307 rows × 4 columns</p>\n",
       "</div>"
      ],
      "text/plain": [
       "                             Ngành        YOY    YTD-YOY       Date\n",
       "0              Than đá (than sạch)  15.497406  15.497406 2024-01-29\n",
       "1             Dầu mỏ thô khai thác  -2.209945  -2.209945 2024-01-29\n",
       "2     Khí đốt thiên nhiên dạng khí   0.055076   0.055076 2024-01-29\n",
       "3               Khí hoá lỏng (LPG)  16.769912  16.769912 2024-01-29\n",
       "4                        Xăng, dầu  25.754859  25.754859 2024-01-29\n",
       "...                            ...        ...        ...        ...\n",
       "4302                  Xe chở khách  -8.391633  -8.391633 2013-01-29\n",
       "4303                        Xe tải  38.241708  38.241708 2013-01-29\n",
       "4304                        Xe máy  28.609839  28.609839 2013-01-29\n",
       "4305                 Điện sản xuất  25.748727  25.748727 2013-01-29\n",
       "4306          Nước máy thương phẩm       10.5       10.5 2013-01-29\n",
       "\n",
       "[4307 rows x 4 columns]"
      ]
     },
     "execution_count": 7,
     "metadata": {},
     "output_type": "execute_result"
    }
   ],
   "source": [
    "convert_nganh = {\n",
    "    \"Than đá (than sạch)\": \"Than đá (than sạch)\",\n",
    "    \"Dầu mỏ thô khai thác\": \"Dầu mỏ thô khai thác\",\n",
    "    \"Khí đốt thiên nhiên dạng khí\": \"Khí đốt thiên nhiên dạng khí\",\n",
    "    \"Khí hoá lỏng (LPG)\": \"Khí hoá lỏng (LPG)\",\n",
    "    \"Xăng, dầu\": \"Xăng, dầu\",\n",
    "    \"Alumin\": \"Alumin\",\n",
    "    \"Thuỷ hải sản chế biến\": \"Thuỷ hải sản chế biến\",\n",
    "    \"Sữa tươi\": \"Sữa tươi\",\n",
    "    \"Sữa bột\": \"Sữa bột\",\n",
    "    \"Đường kính\": \"Đường kính\",\n",
    "    \"Bột ngọt\": \"Bột ngọt\",\n",
    "    \"Thức ăn cho gia súc\": \"Thức ăn cho gia súc\",\n",
    "    \"Thức ăn cho thủy sản\": \"Thức ăn cho thủy sản\",\n",
    "    \"Bia\": \"Bia\",\n",
    "    \"Thuốc lá điếu\": \"Thuốc lá điếu\",\n",
    "    \"Vải dệt từ sợi tự nhiên\": \"Vải dệt từ sợi tự nhiên\",\n",
    "    \"Vải dệt từ sợi tổng hợp hoặc sợi nhân tạo\": \"Vải dệt từ sợi tổng hợp hoặc sợi nhân tạo\",\n",
    "    \"Quần áo mặc thường\": \"Quần áo mặc thường\",\n",
    "    \"Giày, dép da\": \"Giày, dép da\",\n",
    "    \"Phân U rê\": \"Phân U rê\",\n",
    "    \"Phân hỗn hợp N.P.K\": \"Phân hỗn hợp N.P.K\",\n",
    "    \"Sơn hoá học\": \"Sơn hoá học\",\n",
    "    \"Xi măng\": \"Xi măng\",\n",
    "    \"Sắt, thép thô\": \"Sắt, thép thô\",\n",
    "    \"Thép cán\": \"Thép cán\",\n",
    "    \"Thép thanh, thép góc\": \"Thép thanh, thép góc\",\n",
    "    \"Điện thoại di động\": \"Điện thoại di động\",\n",
    "    \"Linh kiện điện thoại\": \"Linh kiện điện thoại\",\n",
    "    \"Tivi\": \"Tivi\",\n",
    "    \"Ô tô\": \"Ô tô\",\n",
    "    \"Xe máy\": \"Xe máy\",\n",
    "    \"Điện sản xuất\": \"Điện sản xuất\",\n",
    "    \"Nước máy thương phẩm\": \"Nước máy thương phẩm\",\n",
    "    \"Ti vi\": \"Tivi\",\n",
    "    \"Xăng, dầu các loại\": \"Xăng, dầu\",\n",
    "    \"Bia các loại\": \"Bia\",\n",
    "    \"Ti vi các loại\": \"Tivi\",\n",
    "    \"Xăng dầu\": \"Xăng, dầu\",\n",
    "    \"Tivi các loại\": \"Tivi\",\n",
    "    \"Sơn hoá học \": \"Sơn hoá học\",\n",
    "    \"Tivi \": \"Tivi\",\n",
    "    \"Dầu gội đầu, dầu xả\": \"Dầu gội đầu, dầu xả\",\n",
    "    \"Sữa tắm, sữa rửa mặt\": \"Sữa tắm, sữa rửa mặt\",\n",
    "    \"Phân Ure\": \"Phân U rê\",\n",
    "    \"Dầu mỏ thô khai thác trong nước\": \"Dầu mỏ thô khai thác\",\n",
    "    \"Phân hỗn hợp (N, P, K)\": \"Phân hỗn hợp N.P.K\",\n",
    "    \"Sơn hoá học các loại\": \"Sơn hoá học\",\n",
    "    \"Bột giặt và các chế phẩm dùng để tẩy, rửa\": \"Bột giặt và các chế phẩm dùng để tẩy, rửa\",\n",
    "    \"Gạch xây bằng đất nung\": \"Gạch xây bằng đất nung\",\n",
    "    \"Xe chở khách\": \"Xe chở khách\",\n",
    "    \"Xe tải\": \"Xe tải\",\n",
    "    \"Giày, dép, ủng bằng da giả cho người lớn\": \"Giày, dép da\",\n",
    "}\n",
    "\n",
    "dfs_spcn[\"Ngành\"] = dfs_spcn[\"Ngành\"].map(convert_nganh)\n",
    "dfs_spcn"
   ]
  },
  {
   "cell_type": "code",
   "execution_count": 19,
   "metadata": {},
   "outputs": [
    {
     "name": "stderr",
     "output_type": "stream",
     "text": [
      "/home/hien/.pyenv/versions/3.9.16/envs/vn-macroeconomics/lib/python3.9/site-packages/_plotly_utils/basevalidators.py:105: FutureWarning:\n",
      "\n",
      "The behavior of DatetimeProperties.to_pydatetime is deprecated, in a future version this will return a Series containing python datetime objects instead of an ndarray. To retain the old behavior, call `np.array` on the result\n",
      "\n"
     ]
    },
    {
     "data": {
      "application/vnd.plotly.v1+json": {
       "config": {
        "plotlyServerURL": "https://plot.ly"
       },
       "data": [
        {
         "fillpattern": {
          "shape": ""
         },
         "hovertemplate": "Ngành=Thuỷ hải sản chế biến<br>Date=%{x}<br>YOY=%{y}<extra></extra>",
         "legendgroup": "Thuỷ hải sản chế biến",
         "line": {
          "color": "#636efa"
         },
         "marker": {
          "symbol": "circle"
         },
         "mode": "lines",
         "name": "Thuỷ hải sản chế biến",
         "orientation": "v",
         "showlegend": true,
         "stackgroup": "1",
         "type": "scatter",
         "x": [
          "2024-01-29T00:00:00",
          "2023-12-29T00:00:00",
          "2023-11-29T00:00:00",
          "2023-10-29T00:00:00",
          "2023-09-29T00:00:00",
          "2023-08-29T00:00:00",
          "2023-07-29T00:00:00",
          "2023-06-29T00:00:00",
          "2023-05-29T00:00:00",
          "2023-04-29T00:00:00",
          "2023-03-29T00:00:00",
          "2023-02-28T00:00:00",
          "2023-01-29T00:00:00",
          "2022-12-29T00:00:00",
          "2022-11-29T00:00:00",
          "2022-10-29T00:00:00",
          "2022-09-29T00:00:00",
          "2022-08-29T00:00:00",
          "2022-07-29T00:00:00",
          "2022-06-29T00:00:00",
          "2022-05-29T00:00:00",
          "2022-04-29T00:00:00",
          "2022-03-29T00:00:00",
          "2022-02-28T00:00:00",
          "2022-01-29T00:00:00",
          "2021-12-29T00:00:00",
          "2021-11-29T00:00:00",
          "2021-10-29T00:00:00",
          "2021-09-29T00:00:00",
          "2021-08-29T00:00:00",
          "2021-07-29T00:00:00",
          "2021-06-29T00:00:00",
          "2021-05-29T00:00:00",
          "2021-04-29T00:00:00",
          "2021-03-29T00:00:00",
          "2021-02-28T00:00:00",
          "2021-01-29T00:00:00",
          "2020-12-27T00:00:00",
          "2020-11-29T00:00:00",
          "2020-10-29T00:00:00",
          "2020-09-29T00:00:00",
          "2020-08-29T00:00:00",
          "2020-07-29T00:00:00",
          "2020-06-29T00:00:00",
          "2020-05-29T00:00:00",
          "2020-04-29T00:00:00",
          "2020-03-27T00:00:00",
          "2020-02-29T00:00:00",
          "2020-01-29T00:00:00",
          "2019-12-27T00:00:00",
          "2019-11-29T00:00:00",
          "2019-10-29T00:00:00",
          "2019-09-28T00:00:00",
          "2019-08-29T00:00:00",
          "2019-07-29T00:00:00",
          "2019-06-28T00:00:00",
          "2019-05-27T00:00:00",
          "2019-04-29T00:00:00",
          "2019-03-29T00:00:00",
          "2019-02-28T00:00:00",
          "2019-01-29T00:00:00",
          "2018-12-27T00:00:00",
          "2018-11-29T00:00:00",
          "2018-10-29T00:00:00",
          "2018-09-28T00:00:00",
          "2018-08-29T00:00:00",
          "2018-07-27T00:00:00",
          "2018-06-29T00:00:00",
          "2018-05-29T00:00:00",
          "2018-04-27T00:00:00",
          "2018-03-29T00:00:00",
          "2018-02-28T00:00:00",
          "2018-01-29T00:00:00",
          "2017-12-29T00:00:00",
          "2017-11-29T00:00:00",
          "2017-10-27T00:00:00",
          "2017-09-29T00:00:00",
          "2017-08-29T00:00:00",
          "2017-07-28T00:00:00",
          "2017-06-29T00:00:00",
          "2017-05-29T00:00:00",
          "2017-04-28T00:00:00",
          "2017-03-29T00:00:00",
          "2017-02-28T00:00:00",
          "2017-01-27T00:00:00",
          "2016-12-29T00:00:00",
          "2016-11-29T00:00:00",
          "2016-10-28T00:00:00",
          "2016-09-29T00:00:00",
          "2016-08-29T00:00:00",
          "2016-07-29T00:00:00",
          "2016-06-29T00:00:00",
          "2016-05-30T00:00:00",
          "2016-04-29T00:00:00",
          "2016-03-29T00:00:00",
          "2016-02-29T00:00:00",
          "2016-01-29T00:00:00",
          "2015-12-29T00:00:00",
          "2015-11-30T00:00:00",
          "2015-10-29T00:00:00",
          "2015-09-29T00:00:00",
          "2015-08-28T00:00:00",
          "2015-07-29T00:00:00",
          "2015-06-29T00:00:00",
          "2015-05-29T00:00:00",
          "2015-04-29T00:00:00",
          "2015-03-29T00:00:00",
          "2015-02-28T00:00:00",
          "2015-01-29T00:00:00",
          "2014-12-29T00:00:00",
          "2014-11-28T00:00:00",
          "2014-10-29T00:00:00",
          "2014-09-29T00:00:00",
          "2014-08-29T00:00:00",
          "2014-07-29T00:00:00",
          "2014-06-27T00:00:00",
          "2014-05-29T00:00:00",
          "2014-04-29T00:00:00",
          "2014-03-28T00:00:00",
          "2014-02-28T00:00:00",
          "2014-01-29T00:00:00",
          "2013-12-30T00:00:00",
          "2013-11-29T00:00:00",
          "2013-10-29T00:00:00",
          "2013-09-30T00:00:00",
          "2013-08-29T00:00:00",
          "2013-07-29T00:00:00",
          "2013-06-29T00:00:00",
          "2013-05-29T00:00:00",
          "2013-04-29T00:00:00",
          "2013-03-29T00:00:00",
          "2013-02-28T00:00:00",
          "2013-01-29T00:00:00"
         ],
         "xaxis": "x",
         "y": [
          17.456017560619003,
          10.962190488814002,
          14.955256623104006,
          11.061457136146771,
          6.033028128547528,
          -0.19381629186213445,
          1.1852504037382943,
          8.744896686840931,
          2.3279763406067104,
          -3.328622679712055,
          6.773819630151863,
          17.006033704425633,
          -9.419121758608412,
          4.672317707132677,
          4.444457688813898,
          10.166766108782625,
          27.927709362128766,
          69.59153197724245,
          36.56585274122824,
          21.53164886292771,
          16.578027036700533,
          12.23717852940041,
          9.437104480777677,
          19.09358093104703,
          13.756182014843233,
          10.562186831906388,
          2.3474295180257343,
          5.793401374499268,
          -29.87530383071922,
          -36.72807008962252,
          -4.266403960414138,
          5.0332438601696055,
          7.191731967408273,
          8.336488408205597,
          4.004174179912695,
          -12.153879119858018,
          14.342632869852451,
          15.101058851569249,
          6.3944747354886005,
          6.617431349665196,
          7.674098310725,
          4.232929889110991,
          4.776159754993998,
          9.732723327323995,
          2.7950389917009915,
          -8.9993867067478,
          4.162364832842002,
          16.123128604900998,
          1.4306282344239918,
          21.463222253889995,
          15.016943583152994,
          10.483319514230004,
          10.242219391570998,
          11.577000429757007,
          2.506699999999995,
          8.556785818901005,
          10.683394827873997,
          14.558599999999984,
          6.519300000000001,
          13.162999999999997,
          11.190000000000012,
          18.881699999999995,
          10.260000000000005,
          10.450000000000003,
          9.700000000000003,
          14.230000000000004,
          12.260000000000005,
          18.61999999999999,
          11.090000000000003,
          15.689999999999998,
          18.849999999999994,
          6.790000000000006,
          11.299999999999997,
          8.099999999999994,
          14.939999999999998,
          10.820000000000007,
          17.19999999999999,
          15.299999999999997,
          13.800000000000011,
          11.000000000000014,
          2.8999999999999915,
          4.799999999999997,
          14.999999999999986,
          22.599999999999994,
          12.5,
          21.39999999999999,
          10.600000000000037,
          8.700000000000003,
          8.900000000000006,
          8.200000000000003,
          6.200000000000003,
          14.900000000000006,
          11.099999999999994,
          10.799999999999997,
          9.899999999999991,
          7.800000000000011,
          11.299999999999997,
          17.5,
          10.000000000000014,
          6,
          10.5,
          10.200000000000003,
          4.900000000000006,
          6.299999999999997,
          1.8999999999999915,
          5.5,
          9.200000000000003,
          29.5,
          15.400000000000006,
          10.700000000000003,
          16.5,
          9.200000000000003,
          8.400000000000006,
          9.000000000000014,
          11.599999999999994,
          8.599999999999994,
          3.499999999999986,
          11.599999999999994,
          13.299999999999997,
          22.599999999999994,
          10.5,
          21.700000000000003,
          16.799999999999997,
          14.199999999999989,
          13.299999999999997,
          8.700000000000003,
          12.999999999999986,
          8,
          6.400000000000006,
          7.700000000000003,
          11.700000000000003,
          -9.799999999999983,
          14.900000000000006
         ],
         "yaxis": "y"
        },
        {
         "fillpattern": {
          "shape": ""
         },
         "hovertemplate": "Ngành=Sữa tươi<br>Date=%{x}<br>YOY=%{y}<extra></extra>",
         "legendgroup": "Sữa tươi",
         "line": {
          "color": "#EF553B"
         },
         "marker": {
          "symbol": "circle"
         },
         "mode": "lines",
         "name": "Sữa tươi",
         "orientation": "v",
         "showlegend": true,
         "stackgroup": "1",
         "type": "scatter",
         "x": [
          "2024-01-29T00:00:00",
          "2023-12-29T00:00:00",
          "2023-11-29T00:00:00",
          "2023-10-29T00:00:00",
          "2023-09-29T00:00:00",
          "2023-08-29T00:00:00",
          "2023-07-29T00:00:00",
          "2023-06-29T00:00:00",
          "2023-05-29T00:00:00",
          "2023-04-29T00:00:00",
          "2023-03-29T00:00:00",
          "2023-02-28T00:00:00",
          "2023-01-29T00:00:00",
          "2022-12-29T00:00:00",
          "2022-11-29T00:00:00",
          "2022-10-29T00:00:00",
          "2022-09-29T00:00:00",
          "2022-08-29T00:00:00",
          "2022-07-29T00:00:00",
          "2022-06-29T00:00:00",
          "2022-05-29T00:00:00",
          "2022-04-29T00:00:00",
          "2022-03-29T00:00:00",
          "2022-02-28T00:00:00",
          "2022-01-29T00:00:00",
          "2021-12-29T00:00:00",
          "2021-11-29T00:00:00",
          "2021-10-29T00:00:00",
          "2021-09-29T00:00:00",
          "2021-08-29T00:00:00",
          "2021-07-29T00:00:00",
          "2021-06-29T00:00:00",
          "2021-05-29T00:00:00",
          "2021-04-29T00:00:00",
          "2021-03-29T00:00:00",
          "2021-02-28T00:00:00",
          "2021-01-29T00:00:00",
          "2020-12-27T00:00:00",
          "2020-11-29T00:00:00",
          "2020-10-29T00:00:00",
          "2020-09-29T00:00:00",
          "2020-08-29T00:00:00",
          "2020-07-29T00:00:00",
          "2020-06-29T00:00:00",
          "2020-05-29T00:00:00",
          "2020-04-29T00:00:00",
          "2020-03-27T00:00:00",
          "2020-02-29T00:00:00",
          "2020-01-29T00:00:00",
          "2019-12-27T00:00:00",
          "2019-11-29T00:00:00",
          "2019-10-29T00:00:00",
          "2019-09-28T00:00:00",
          "2019-08-29T00:00:00",
          "2019-07-29T00:00:00",
          "2019-06-28T00:00:00",
          "2019-05-27T00:00:00",
          "2019-04-29T00:00:00",
          "2019-03-29T00:00:00",
          "2019-02-28T00:00:00",
          "2019-01-29T00:00:00",
          "2018-12-27T00:00:00",
          "2018-11-29T00:00:00",
          "2018-10-29T00:00:00",
          "2018-09-28T00:00:00",
          "2018-08-29T00:00:00",
          "2018-07-27T00:00:00",
          "2018-06-29T00:00:00",
          "2018-05-29T00:00:00",
          "2018-04-27T00:00:00",
          "2018-03-29T00:00:00",
          "2018-02-28T00:00:00",
          "2018-01-29T00:00:00",
          "2017-12-29T00:00:00",
          "2017-11-29T00:00:00",
          "2017-10-27T00:00:00",
          "2017-09-29T00:00:00",
          "2017-08-29T00:00:00",
          "2017-07-28T00:00:00",
          "2017-06-29T00:00:00",
          "2017-05-29T00:00:00",
          "2017-04-28T00:00:00",
          "2017-03-29T00:00:00",
          "2017-02-28T00:00:00",
          "2017-01-27T00:00:00",
          "2016-12-29T00:00:00",
          "2016-11-29T00:00:00",
          "2016-10-28T00:00:00",
          "2016-09-29T00:00:00",
          "2016-08-29T00:00:00",
          "2016-07-29T00:00:00",
          "2016-06-29T00:00:00",
          "2016-05-30T00:00:00",
          "2016-04-29T00:00:00",
          "2016-03-29T00:00:00",
          "2016-02-29T00:00:00",
          "2016-01-29T00:00:00",
          "2015-12-29T00:00:00",
          "2015-11-30T00:00:00",
          "2015-10-29T00:00:00",
          "2015-09-29T00:00:00",
          "2015-08-28T00:00:00",
          "2015-07-29T00:00:00",
          "2015-06-29T00:00:00",
          "2015-05-29T00:00:00",
          "2015-04-29T00:00:00",
          "2015-03-29T00:00:00",
          "2015-02-28T00:00:00",
          "2015-01-29T00:00:00",
          "2014-12-29T00:00:00",
          "2014-11-28T00:00:00",
          "2014-10-29T00:00:00",
          "2014-09-29T00:00:00",
          "2014-08-29T00:00:00",
          "2014-07-29T00:00:00",
          "2014-06-27T00:00:00",
          "2014-05-29T00:00:00",
          "2014-04-29T00:00:00",
          "2014-03-28T00:00:00",
          "2014-02-28T00:00:00",
          "2014-01-29T00:00:00",
          "2013-12-30T00:00:00",
          "2013-11-29T00:00:00",
          "2013-10-29T00:00:00",
          "2013-09-30T00:00:00",
          "2013-08-29T00:00:00",
          "2013-07-29T00:00:00",
          "2013-06-29T00:00:00",
          "2013-05-29T00:00:00",
          "2013-04-29T00:00:00",
          "2013-03-29T00:00:00",
          "2013-02-28T00:00:00",
          "2013-01-29T00:00:00"
         ],
         "xaxis": "x",
         "y": [
          19.134061075144004,
          14.638515163083,
          19.810298090635996,
          13.144751033764734,
          15.554036363556307,
          7.392680617125478,
          7.033840189876514,
          13.723314814900505,
          13.86213388517541,
          -5.4693083338665645,
          14.059376168030653,
          6.488300649523765,
          -9.37950209532076,
          7.830074200570351,
          6.552034174676422,
          14.517827536566656,
          -2.7888225953867476,
          -1.6253066608395272,
          2.5120021464986024,
          4.139053707130344,
          5.14776549849725,
          17.145494976364574,
          8.002157956721419,
          15.804564488344369,
          7.643857185352786,
          5.479984766288311,
          7.91955568456811,
          11.114024854603059,
          1.8920517634010565,
          -4.27613530243957,
          -3.521763578885526,
          -0.4365561843285519,
          4.514734825224821,
          7.081568106115313,
          4.959450776897057,
          -1.9461908566088653,
          28.00521973535581,
          13.65585720566665,
          4.772523145401692,
          7.764080163971769,
          10.564448480829,
          1.0242675844960019,
          1.0242675844960019,
          -0.05050503552529051,
          2.002593537883996,
          0.6578142355359944,
          2.351292514171007,
          16.145541898004993,
          3.707899999999981,
          17.15021083326802,
          14.916969348620995,
          12.781398859712993,
          9.123546889923006,
          7.220591273077019,
          2.506683779428016,
          2.4030637966349957,
          5.242046003558997,
          4.831800000000015,
          7.325800000000001,
          6.231000000000009,
          18.937244000000007,
          13.531800000000004,
          9.040000000000006,
          9.169999999999987,
          9.169999999999987,
          7.77000000000001,
          -2.539999999999992,
          2.4599999999999937,
          4.72999999999999,
          3.8999999999999915,
          -0.0799999999999983,
          -3.219999999999999,
          15.159999999999997,
          11.070000000000007,
          -3.25,
          2.140000000000015,
          -1.7000000000000028,
          1.7999999999999972,
          11.274296041237491,
          -0.17987301197516103,
          7.309005568360831,
          2.4000000000000057,
          2.054285189306711,
          11.845599408024839,
          7.237573793210657,
          6.144492000121886,
          10.380292369294338,
          8.90270718225456,
          8.700000000000003,
          7.080676327284706,
          5.400000000000006,
          1.3482980914786111,
          3.4452759543130753,
          -1.2999999999999972,
          0.46314695592795374,
          -14.301087158426043,
          18.129753907306352,
          17.86456047387803,
          7.809311085906941,
          7.978514222896834,
          6.700000000000003,
          1.1717358593924558,
          8.299999999999997,
          -7.2308921505120765,
          4.482201750161835,
          22.326752560310965,
          30.514345964424507,
          23.539051389227367,
          21.881960679924603,
          12.14391326180062,
          10.020033592766424,
          29.022636903479565,
          41.08215963548241,
          25.917734946502563,
          59.74760871015826,
          17.182635011516794,
          10.800023618745925,
          14.796465944187446,
          14.900000000000006,
          24.82884119205093,
          -15.585747696248902,
          33.221947929413545,
          19.146395794996906,
          0.8766133183117688,
          -7.507904002114785,
          18.72733694674787,
          8.180932986516382,
          8.758239951362029,
          2.0999999999999943,
          8.799999999999997,
          -0.7000000000000028,
          -17.728728104911184,
          14.50298892947086
         ],
         "yaxis": "y"
        },
        {
         "fillpattern": {
          "shape": ""
         },
         "hovertemplate": "Ngành=Sữa bột<br>Date=%{x}<br>YOY=%{y}<extra></extra>",
         "legendgroup": "Sữa bột",
         "line": {
          "color": "#00cc96"
         },
         "marker": {
          "symbol": "circle"
         },
         "mode": "lines",
         "name": "Sữa bột",
         "orientation": "v",
         "showlegend": true,
         "stackgroup": "1",
         "type": "scatter",
         "x": [
          "2024-01-29T00:00:00",
          "2023-12-29T00:00:00",
          "2023-11-29T00:00:00",
          "2023-10-29T00:00:00",
          "2023-09-29T00:00:00",
          "2023-08-29T00:00:00",
          "2023-07-29T00:00:00",
          "2023-06-29T00:00:00",
          "2023-05-29T00:00:00",
          "2023-04-29T00:00:00",
          "2023-03-29T00:00:00",
          "2023-02-28T00:00:00",
          "2023-01-29T00:00:00",
          "2022-12-29T00:00:00",
          "2022-11-29T00:00:00",
          "2022-10-29T00:00:00",
          "2022-09-29T00:00:00",
          "2022-08-29T00:00:00",
          "2022-07-29T00:00:00",
          "2022-06-29T00:00:00",
          "2022-05-29T00:00:00",
          "2022-04-29T00:00:00",
          "2022-03-29T00:00:00",
          "2022-02-28T00:00:00",
          "2022-01-29T00:00:00",
          "2021-12-29T00:00:00",
          "2021-11-29T00:00:00",
          "2021-10-29T00:00:00",
          "2021-09-29T00:00:00",
          "2021-08-29T00:00:00",
          "2021-07-29T00:00:00",
          "2021-06-29T00:00:00",
          "2021-05-29T00:00:00",
          "2021-04-29T00:00:00",
          "2021-03-29T00:00:00",
          "2021-02-28T00:00:00",
          "2021-01-29T00:00:00",
          "2020-12-27T00:00:00",
          "2020-11-29T00:00:00",
          "2020-10-29T00:00:00",
          "2020-09-29T00:00:00",
          "2020-08-29T00:00:00",
          "2020-07-29T00:00:00",
          "2020-06-29T00:00:00",
          "2020-05-29T00:00:00",
          "2020-04-29T00:00:00",
          "2020-03-27T00:00:00",
          "2020-02-29T00:00:00",
          "2020-01-29T00:00:00",
          "2019-12-27T00:00:00",
          "2019-11-29T00:00:00",
          "2019-10-29T00:00:00",
          "2019-09-28T00:00:00",
          "2019-08-29T00:00:00",
          "2019-07-29T00:00:00",
          "2019-06-28T00:00:00",
          "2019-05-27T00:00:00",
          "2019-04-29T00:00:00",
          "2019-03-29T00:00:00",
          "2019-02-28T00:00:00",
          "2019-01-29T00:00:00",
          "2018-12-27T00:00:00",
          "2018-11-29T00:00:00",
          "2018-10-29T00:00:00",
          "2018-09-28T00:00:00",
          "2018-08-29T00:00:00",
          "2018-07-27T00:00:00",
          "2018-06-29T00:00:00",
          "2018-05-29T00:00:00",
          "2018-04-27T00:00:00",
          "2018-03-29T00:00:00",
          "2018-02-28T00:00:00",
          "2018-01-29T00:00:00",
          "2017-12-29T00:00:00",
          "2017-11-29T00:00:00",
          "2017-10-27T00:00:00",
          "2017-09-29T00:00:00",
          "2017-08-29T00:00:00",
          "2017-07-28T00:00:00",
          "2017-06-29T00:00:00",
          "2017-05-29T00:00:00",
          "2017-04-28T00:00:00",
          "2017-03-29T00:00:00",
          "2017-02-28T00:00:00",
          "2017-01-27T00:00:00",
          "2016-12-29T00:00:00",
          "2016-11-29T00:00:00",
          "2016-10-28T00:00:00",
          "2016-09-29T00:00:00",
          "2016-08-29T00:00:00",
          "2016-07-29T00:00:00",
          "2016-06-29T00:00:00",
          "2016-05-30T00:00:00",
          "2016-04-29T00:00:00",
          "2016-03-29T00:00:00",
          "2016-02-29T00:00:00",
          "2016-01-29T00:00:00",
          "2015-12-29T00:00:00",
          "2015-11-30T00:00:00",
          "2015-10-29T00:00:00",
          "2015-09-29T00:00:00",
          "2015-08-28T00:00:00",
          "2015-07-29T00:00:00",
          "2015-06-29T00:00:00",
          "2015-05-29T00:00:00",
          "2015-04-29T00:00:00",
          "2015-03-29T00:00:00",
          "2015-02-28T00:00:00",
          "2015-01-29T00:00:00",
          "2014-12-29T00:00:00",
          "2014-11-28T00:00:00",
          "2014-10-29T00:00:00",
          "2014-09-29T00:00:00",
          "2014-08-29T00:00:00",
          "2014-07-29T00:00:00",
          "2014-06-27T00:00:00",
          "2014-05-29T00:00:00",
          "2014-04-29T00:00:00",
          "2014-03-28T00:00:00",
          "2014-02-28T00:00:00",
          "2014-01-29T00:00:00",
          "2013-12-30T00:00:00",
          "2013-11-29T00:00:00",
          "2013-10-29T00:00:00",
          "2013-09-30T00:00:00",
          "2013-08-29T00:00:00",
          "2013-07-29T00:00:00",
          "2013-06-29T00:00:00",
          "2013-05-29T00:00:00",
          "2013-04-29T00:00:00",
          "2013-03-29T00:00:00",
          "2013-02-28T00:00:00",
          "2013-01-29T00:00:00"
         ],
         "xaxis": "x",
         "y": [
          47.41776834874699,
          16.034929760031005,
          15.487113469731995,
          -9.670651774157633,
          -14.55990524033136,
          2.241995806782839,
          8.126460409478838,
          -7.976414370003411,
          5.440740549993123,
          -7.570934387386231,
          2.21066756719776,
          8.789902034296432,
          10.83001689680971,
          -2.2097065682156796,
          20.34724045678044,
          15.452995947641512,
          19.997232294538975,
          3.664265822205735,
          20.546537285196735,
          26.790799600256392,
          -2.366530041759219,
          11.716309640484937,
          5.467322547335996,
          8.857969260980909,
          16.18634678031961,
          25.63678350089866,
          32.94679759561879,
          1.9225249797207908,
          -7.041272065645046,
          -6.617180730870075,
          15.788646796514755,
          24.992577409827916,
          6.083415900167012,
          14.840775617570472,
          16.842137537679207,
          7.547446419313303,
          31.1229839329618,
          23.037353700462674,
          22.64660342798321,
          23.413841476448695,
          23.021399285816997,
          18.748800070513,
          18.748800070513,
          22.956795967678985,
          9.857490647093996,
          18.215940505272002,
          0.5757982775029973,
          -0.3818438966013957,
          -18.433224936080705,
          1.2939415798540068,
          2.591969977648006,
          4.52384371349099,
          4.534145978294973,
          3.3469235586139945,
          6.296277457250994,
          14.631805074919995,
          6.405799999999999,
          8.718099999999993,
          7.674899999999994,
          3.899000000000001,
          5.282398999999998,
          18.890699999999995,
          5.049999999999997,
          36.400000000000006,
          36.400000000000006,
          17.429999999999993,
          11.14,
          12.949999999999989,
          4.9199999999999875,
          10.75,
          25.379999999999995,
          1.5600000000000023,
          50.95000000000002,
          35.610000000000014,
          17.639999999999986,
          -0.6200000000000045,
          -8.400000000000006,
          -2.4000000000000057,
          29.040626372637632,
          10.574385191199951,
          18.075308062125515,
          20.5,
          15.486985318350179,
          29.398184471343512,
          -11.504222078683483,
          0.9287591041389476,
          11.949831113423073,
          30.53289206996672,
          6.299999999999997,
          2.171271274921068,
          8.599999999999994,
          0.00312597331071629,
          5.168744589434866,
          -7,
          11.98375698220832,
          6.92131111479155,
          15.657607806485132,
          23.251263774160932,
          6.392637665663955,
          24.39584014839062,
          11.200000000000003,
          1.1910858353435287,
          -0.7000000000000028,
          -11.836563983591304,
          19.884998220545327,
          -13.281727560264173,
          -13.420480423232306,
          -14.369325633597569,
          -18.018172975778995,
          -1.8743964571897322,
          -28.285774195242098,
          -6.155855954595438,
          -23.298995788083246,
          -14.369163943943036,
          -13.079765100860769,
          -35.56681618069548,
          19.221084904497317,
          -12.482014799840925,
          8.799999999999997,
          29.284927575701687,
          22.400238608024665,
          16.97738997655503,
          -1.7620815665702452,
          11.11151573087983,
          -15.651892012792288,
          11.000434909285971,
          33.63326152728382,
          11.292864501095963,
          12.700000000000003,
          0,
          17.599999999999994,
          -14.418827204202728,
          45.026147133994755
         ],
         "yaxis": "y"
        }
       ],
       "layout": {
        "legend": {
         "title": {
          "text": "Ngành"
         },
         "tracegroupgap": 0
        },
        "margin": {
         "t": 60
        },
        "template": {
         "data": {
          "bar": [
           {
            "error_x": {
             "color": "#2a3f5f"
            },
            "error_y": {
             "color": "#2a3f5f"
            },
            "marker": {
             "line": {
              "color": "#E5ECF6",
              "width": 0.5
             },
             "pattern": {
              "fillmode": "overlay",
              "size": 10,
              "solidity": 0.2
             }
            },
            "type": "bar"
           }
          ],
          "barpolar": [
           {
            "marker": {
             "line": {
              "color": "#E5ECF6",
              "width": 0.5
             },
             "pattern": {
              "fillmode": "overlay",
              "size": 10,
              "solidity": 0.2
             }
            },
            "type": "barpolar"
           }
          ],
          "carpet": [
           {
            "aaxis": {
             "endlinecolor": "#2a3f5f",
             "gridcolor": "white",
             "linecolor": "white",
             "minorgridcolor": "white",
             "startlinecolor": "#2a3f5f"
            },
            "baxis": {
             "endlinecolor": "#2a3f5f",
             "gridcolor": "white",
             "linecolor": "white",
             "minorgridcolor": "white",
             "startlinecolor": "#2a3f5f"
            },
            "type": "carpet"
           }
          ],
          "choropleth": [
           {
            "colorbar": {
             "outlinewidth": 0,
             "ticks": ""
            },
            "type": "choropleth"
           }
          ],
          "contour": [
           {
            "colorbar": {
             "outlinewidth": 0,
             "ticks": ""
            },
            "colorscale": [
             [
              0,
              "#0d0887"
             ],
             [
              0.1111111111111111,
              "#46039f"
             ],
             [
              0.2222222222222222,
              "#7201a8"
             ],
             [
              0.3333333333333333,
              "#9c179e"
             ],
             [
              0.4444444444444444,
              "#bd3786"
             ],
             [
              0.5555555555555556,
              "#d8576b"
             ],
             [
              0.6666666666666666,
              "#ed7953"
             ],
             [
              0.7777777777777778,
              "#fb9f3a"
             ],
             [
              0.8888888888888888,
              "#fdca26"
             ],
             [
              1,
              "#f0f921"
             ]
            ],
            "type": "contour"
           }
          ],
          "contourcarpet": [
           {
            "colorbar": {
             "outlinewidth": 0,
             "ticks": ""
            },
            "type": "contourcarpet"
           }
          ],
          "heatmap": [
           {
            "colorbar": {
             "outlinewidth": 0,
             "ticks": ""
            },
            "colorscale": [
             [
              0,
              "#0d0887"
             ],
             [
              0.1111111111111111,
              "#46039f"
             ],
             [
              0.2222222222222222,
              "#7201a8"
             ],
             [
              0.3333333333333333,
              "#9c179e"
             ],
             [
              0.4444444444444444,
              "#bd3786"
             ],
             [
              0.5555555555555556,
              "#d8576b"
             ],
             [
              0.6666666666666666,
              "#ed7953"
             ],
             [
              0.7777777777777778,
              "#fb9f3a"
             ],
             [
              0.8888888888888888,
              "#fdca26"
             ],
             [
              1,
              "#f0f921"
             ]
            ],
            "type": "heatmap"
           }
          ],
          "heatmapgl": [
           {
            "colorbar": {
             "outlinewidth": 0,
             "ticks": ""
            },
            "colorscale": [
             [
              0,
              "#0d0887"
             ],
             [
              0.1111111111111111,
              "#46039f"
             ],
             [
              0.2222222222222222,
              "#7201a8"
             ],
             [
              0.3333333333333333,
              "#9c179e"
             ],
             [
              0.4444444444444444,
              "#bd3786"
             ],
             [
              0.5555555555555556,
              "#d8576b"
             ],
             [
              0.6666666666666666,
              "#ed7953"
             ],
             [
              0.7777777777777778,
              "#fb9f3a"
             ],
             [
              0.8888888888888888,
              "#fdca26"
             ],
             [
              1,
              "#f0f921"
             ]
            ],
            "type": "heatmapgl"
           }
          ],
          "histogram": [
           {
            "marker": {
             "pattern": {
              "fillmode": "overlay",
              "size": 10,
              "solidity": 0.2
             }
            },
            "type": "histogram"
           }
          ],
          "histogram2d": [
           {
            "colorbar": {
             "outlinewidth": 0,
             "ticks": ""
            },
            "colorscale": [
             [
              0,
              "#0d0887"
             ],
             [
              0.1111111111111111,
              "#46039f"
             ],
             [
              0.2222222222222222,
              "#7201a8"
             ],
             [
              0.3333333333333333,
              "#9c179e"
             ],
             [
              0.4444444444444444,
              "#bd3786"
             ],
             [
              0.5555555555555556,
              "#d8576b"
             ],
             [
              0.6666666666666666,
              "#ed7953"
             ],
             [
              0.7777777777777778,
              "#fb9f3a"
             ],
             [
              0.8888888888888888,
              "#fdca26"
             ],
             [
              1,
              "#f0f921"
             ]
            ],
            "type": "histogram2d"
           }
          ],
          "histogram2dcontour": [
           {
            "colorbar": {
             "outlinewidth": 0,
             "ticks": ""
            },
            "colorscale": [
             [
              0,
              "#0d0887"
             ],
             [
              0.1111111111111111,
              "#46039f"
             ],
             [
              0.2222222222222222,
              "#7201a8"
             ],
             [
              0.3333333333333333,
              "#9c179e"
             ],
             [
              0.4444444444444444,
              "#bd3786"
             ],
             [
              0.5555555555555556,
              "#d8576b"
             ],
             [
              0.6666666666666666,
              "#ed7953"
             ],
             [
              0.7777777777777778,
              "#fb9f3a"
             ],
             [
              0.8888888888888888,
              "#fdca26"
             ],
             [
              1,
              "#f0f921"
             ]
            ],
            "type": "histogram2dcontour"
           }
          ],
          "mesh3d": [
           {
            "colorbar": {
             "outlinewidth": 0,
             "ticks": ""
            },
            "type": "mesh3d"
           }
          ],
          "parcoords": [
           {
            "line": {
             "colorbar": {
              "outlinewidth": 0,
              "ticks": ""
             }
            },
            "type": "parcoords"
           }
          ],
          "pie": [
           {
            "automargin": true,
            "type": "pie"
           }
          ],
          "scatter": [
           {
            "fillpattern": {
             "fillmode": "overlay",
             "size": 10,
             "solidity": 0.2
            },
            "type": "scatter"
           }
          ],
          "scatter3d": [
           {
            "line": {
             "colorbar": {
              "outlinewidth": 0,
              "ticks": ""
             }
            },
            "marker": {
             "colorbar": {
              "outlinewidth": 0,
              "ticks": ""
             }
            },
            "type": "scatter3d"
           }
          ],
          "scattercarpet": [
           {
            "marker": {
             "colorbar": {
              "outlinewidth": 0,
              "ticks": ""
             }
            },
            "type": "scattercarpet"
           }
          ],
          "scattergeo": [
           {
            "marker": {
             "colorbar": {
              "outlinewidth": 0,
              "ticks": ""
             }
            },
            "type": "scattergeo"
           }
          ],
          "scattergl": [
           {
            "marker": {
             "colorbar": {
              "outlinewidth": 0,
              "ticks": ""
             }
            },
            "type": "scattergl"
           }
          ],
          "scattermapbox": [
           {
            "marker": {
             "colorbar": {
              "outlinewidth": 0,
              "ticks": ""
             }
            },
            "type": "scattermapbox"
           }
          ],
          "scatterpolar": [
           {
            "marker": {
             "colorbar": {
              "outlinewidth": 0,
              "ticks": ""
             }
            },
            "type": "scatterpolar"
           }
          ],
          "scatterpolargl": [
           {
            "marker": {
             "colorbar": {
              "outlinewidth": 0,
              "ticks": ""
             }
            },
            "type": "scatterpolargl"
           }
          ],
          "scatterternary": [
           {
            "marker": {
             "colorbar": {
              "outlinewidth": 0,
              "ticks": ""
             }
            },
            "type": "scatterternary"
           }
          ],
          "surface": [
           {
            "colorbar": {
             "outlinewidth": 0,
             "ticks": ""
            },
            "colorscale": [
             [
              0,
              "#0d0887"
             ],
             [
              0.1111111111111111,
              "#46039f"
             ],
             [
              0.2222222222222222,
              "#7201a8"
             ],
             [
              0.3333333333333333,
              "#9c179e"
             ],
             [
              0.4444444444444444,
              "#bd3786"
             ],
             [
              0.5555555555555556,
              "#d8576b"
             ],
             [
              0.6666666666666666,
              "#ed7953"
             ],
             [
              0.7777777777777778,
              "#fb9f3a"
             ],
             [
              0.8888888888888888,
              "#fdca26"
             ],
             [
              1,
              "#f0f921"
             ]
            ],
            "type": "surface"
           }
          ],
          "table": [
           {
            "cells": {
             "fill": {
              "color": "#EBF0F8"
             },
             "line": {
              "color": "white"
             }
            },
            "header": {
             "fill": {
              "color": "#C8D4E3"
             },
             "line": {
              "color": "white"
             }
            },
            "type": "table"
           }
          ]
         },
         "layout": {
          "annotationdefaults": {
           "arrowcolor": "#2a3f5f",
           "arrowhead": 0,
           "arrowwidth": 1
          },
          "autotypenumbers": "strict",
          "coloraxis": {
           "colorbar": {
            "outlinewidth": 0,
            "ticks": ""
           }
          },
          "colorscale": {
           "diverging": [
            [
             0,
             "#8e0152"
            ],
            [
             0.1,
             "#c51b7d"
            ],
            [
             0.2,
             "#de77ae"
            ],
            [
             0.3,
             "#f1b6da"
            ],
            [
             0.4,
             "#fde0ef"
            ],
            [
             0.5,
             "#f7f7f7"
            ],
            [
             0.6,
             "#e6f5d0"
            ],
            [
             0.7,
             "#b8e186"
            ],
            [
             0.8,
             "#7fbc41"
            ],
            [
             0.9,
             "#4d9221"
            ],
            [
             1,
             "#276419"
            ]
           ],
           "sequential": [
            [
             0,
             "#0d0887"
            ],
            [
             0.1111111111111111,
             "#46039f"
            ],
            [
             0.2222222222222222,
             "#7201a8"
            ],
            [
             0.3333333333333333,
             "#9c179e"
            ],
            [
             0.4444444444444444,
             "#bd3786"
            ],
            [
             0.5555555555555556,
             "#d8576b"
            ],
            [
             0.6666666666666666,
             "#ed7953"
            ],
            [
             0.7777777777777778,
             "#fb9f3a"
            ],
            [
             0.8888888888888888,
             "#fdca26"
            ],
            [
             1,
             "#f0f921"
            ]
           ],
           "sequentialminus": [
            [
             0,
             "#0d0887"
            ],
            [
             0.1111111111111111,
             "#46039f"
            ],
            [
             0.2222222222222222,
             "#7201a8"
            ],
            [
             0.3333333333333333,
             "#9c179e"
            ],
            [
             0.4444444444444444,
             "#bd3786"
            ],
            [
             0.5555555555555556,
             "#d8576b"
            ],
            [
             0.6666666666666666,
             "#ed7953"
            ],
            [
             0.7777777777777778,
             "#fb9f3a"
            ],
            [
             0.8888888888888888,
             "#fdca26"
            ],
            [
             1,
             "#f0f921"
            ]
           ]
          },
          "colorway": [
           "#636efa",
           "#EF553B",
           "#00cc96",
           "#ab63fa",
           "#FFA15A",
           "#19d3f3",
           "#FF6692",
           "#B6E880",
           "#FF97FF",
           "#FECB52"
          ],
          "font": {
           "color": "#2a3f5f"
          },
          "geo": {
           "bgcolor": "white",
           "lakecolor": "white",
           "landcolor": "#E5ECF6",
           "showlakes": true,
           "showland": true,
           "subunitcolor": "white"
          },
          "hoverlabel": {
           "align": "left"
          },
          "hovermode": "closest",
          "mapbox": {
           "style": "light"
          },
          "paper_bgcolor": "white",
          "plot_bgcolor": "#E5ECF6",
          "polar": {
           "angularaxis": {
            "gridcolor": "white",
            "linecolor": "white",
            "ticks": ""
           },
           "bgcolor": "#E5ECF6",
           "radialaxis": {
            "gridcolor": "white",
            "linecolor": "white",
            "ticks": ""
           }
          },
          "scene": {
           "xaxis": {
            "backgroundcolor": "#E5ECF6",
            "gridcolor": "white",
            "gridwidth": 2,
            "linecolor": "white",
            "showbackground": true,
            "ticks": "",
            "zerolinecolor": "white"
           },
           "yaxis": {
            "backgroundcolor": "#E5ECF6",
            "gridcolor": "white",
            "gridwidth": 2,
            "linecolor": "white",
            "showbackground": true,
            "ticks": "",
            "zerolinecolor": "white"
           },
           "zaxis": {
            "backgroundcolor": "#E5ECF6",
            "gridcolor": "white",
            "gridwidth": 2,
            "linecolor": "white",
            "showbackground": true,
            "ticks": "",
            "zerolinecolor": "white"
           }
          },
          "shapedefaults": {
           "line": {
            "color": "#2a3f5f"
           }
          },
          "ternary": {
           "aaxis": {
            "gridcolor": "white",
            "linecolor": "white",
            "ticks": ""
           },
           "baxis": {
            "gridcolor": "white",
            "linecolor": "white",
            "ticks": ""
           },
           "bgcolor": "#E5ECF6",
           "caxis": {
            "gridcolor": "white",
            "linecolor": "white",
            "ticks": ""
           }
          },
          "title": {
           "x": 0.05
          },
          "xaxis": {
           "automargin": true,
           "gridcolor": "white",
           "linecolor": "white",
           "ticks": "",
           "title": {
            "standoff": 15
           },
           "zerolinecolor": "white",
           "zerolinewidth": 2
          },
          "yaxis": {
           "automargin": true,
           "gridcolor": "white",
           "linecolor": "white",
           "ticks": "",
           "title": {
            "standoff": 15
           },
           "zerolinecolor": "white",
           "zerolinewidth": 2
          }
         }
        },
        "xaxis": {
         "anchor": "y",
         "domain": [
          0,
          1
         ],
         "rangeselector": {
          "buttons": [
           {
            "count": 1,
            "label": "YTD",
            "step": "year",
            "stepmode": "todate"
           },
           {
            "count": 1,
            "label": "1y",
            "step": "year",
            "stepmode": "backward"
           },
           {
            "count": 3,
            "label": "3y",
            "step": "year",
            "stepmode": "backward"
           },
           {
            "count": 5,
            "label": "5y",
            "step": "year",
            "stepmode": "backward"
           },
           {
            "count": 7,
            "label": "7y",
            "step": "year",
            "stepmode": "backward"
           },
           {
            "count": 10,
            "label": "10y",
            "step": "year",
            "stepmode": "backward"
           },
           {
            "step": "all"
           }
          ]
         },
         "rangeslider": {
          "visible": true
         },
         "title": {
          "text": "Date"
         }
        },
        "yaxis": {
         "anchor": "x",
         "domain": [
          0,
          1
         ],
         "title": {
          "text": "YOY"
         }
        }
       }
      }
     },
     "metadata": {},
     "output_type": "display_data"
    }
   ],
   "source": [
    "import pandas as pd\n",
    "import plotly.express as px\n",
    "import plotly.graph_objects as go\n",
    "\n",
    "df_show = dfs_spcn[\n",
    "    (dfs_spcn[\"Ngành\"] == \"Thuỷ hải sản chế biến\")\n",
    "    | (dfs_spcn[\"Ngành\"] == \"Sữa tươi\")\n",
    "    | (dfs_spcn[\"Ngành\"] == \"Sữa bột\")\n",
    "    # | (dfs_spcn[\"Ngành\"] == \"Đường kính\")\n",
    "    # | (dfs_spcn[\"Ngành\"] == \"Quần áo mặc thường\")\n",
    "    # | (dfs_spcn[\"Ngành\"] == \"Phân U rê\")\n",
    "    # | (dfs_spcn[\"Ngành\"] == \"Phân hỗn hợp N.P.K\")\n",
    "    # | (dfs_spcn[\"Ngành\"] == \"Sắt, thép thô\")\n",
    "    # | (dfs_spcn[\"Ngành\"] == \"Thép cán\")\n",
    "    # | (dfs_spcn[\"Ngành\"] == \"Thép thanh, thép góc\")\n",
    "    # | (dfs_spcn[\"Ngành\"] == \"Điện thoại di động\")\n",
    "    # | (dfs_spcn[\"Ngành\"] == \"Linh kiện điện thoại\")\n",
    "]\n",
    "\n",
    "fig = px.area(df_show, x=\"Date\", y=\"YOY\", color=\"Ngành\")\n",
    "\n",
    "fig.update_xaxes(\n",
    "    rangeslider_visible=True,\n",
    "    rangeselector=dict(\n",
    "        buttons=[\n",
    "            dict(count=1, label=\"YTD\", step=\"year\", stepmode=\"todate\"),\n",
    "            dict(count=1, label=\"1y\", step=\"year\", stepmode=\"backward\"),\n",
    "            dict(count=3, label=\"3y\", step=\"year\", stepmode=\"backward\"),\n",
    "            dict(count=5, label=\"5y\", step=\"year\", stepmode=\"backward\"),\n",
    "            dict(count=7, label=\"7y\", step=\"year\", stepmode=\"backward\"),\n",
    "            dict(count=10, label=\"10y\", step=\"year\", stepmode=\"backward\"),\n",
    "            dict(step=\"all\"),\n",
    "        ]\n",
    "    ),\n",
    ")\n",
    "# fig.update_layout(yaxis_range=[-100,600])\n",
    "\n",
    "fig.show()"
   ]
  },
  {
   "cell_type": "code",
   "execution_count": null,
   "metadata": {},
   "outputs": [],
   "source": []
  }
 ],
 "metadata": {
  "kernelspec": {
   "display_name": "vn-macroeconomics",
   "language": "python",
   "name": "python3"
  },
  "language_info": {
   "codemirror_mode": {
    "name": "ipython",
    "version": 3
   },
   "file_extension": ".py",
   "mimetype": "text/x-python",
   "name": "python",
   "nbconvert_exporter": "python",
   "pygments_lexer": "ipython3",
   "version": "3.9.16"
  },
  "orig_nbformat": 4
 },
 "nbformat": 4,
 "nbformat_minor": 2
}
