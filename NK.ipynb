{
 "cells": [
  {
   "cell_type": "code",
   "execution_count": 109,
   "metadata": {},
   "outputs": [],
   "source": [
    "import pandas as pd\n",
    "import seaborn as sns\n",
    "from datetime import date"
   ]
  },
  {
   "cell_type": "code",
   "execution_count": 110,
   "metadata": {},
   "outputs": [],
   "source": [
    "def find_sheet_name(sheet_names):\n",
    "    filtered_sheet_names = list(\n",
    "        filter(\n",
    "            lambda x: (\"gia\" not in x.lower() and \"csg\" not in x.lower() and \"dịch vụ\" not in x.lower())\n",
    "            and \"nk\" in x.lower()\n",
    "            and (\"thang\" in x.lower() or \"tháng\" in x.lower()),\n",
    "            sheet_names,\n",
    "        )\n",
    "    )\n",
    "\n",
    "    if len(filtered_sheet_names) == 1:\n",
    "        return filtered_sheet_names[0]\n",
    "\n",
    "    filtered_sheet_names = list(\n",
    "        filter(\n",
    "            lambda x: (\"gia\" not in x.lower() and \"csg\" not in x.lower() and \"dịch vụ\" not in x.lower())\n",
    "            and (\"nhập khẩu\" in x.lower() or \"nhap khau\" in x.lower())\n",
    "            and (\"thang\" in x.lower() or \"tháng\" in x.lower()),\n",
    "            sheet_names,\n",
    "        )\n",
    "    )\n",
    "\n",
    "    if len(filtered_sheet_names) == 1:\n",
    "        return filtered_sheet_names[0]\n",
    "\n",
    "    filtered_sheet_names = list(\n",
    "        filter(\n",
    "            lambda x: (\"gia\" not in x.lower() and \"csg\" not in x.lower() and \"dịch vụ\" not in x.lower())\n",
    "            and \"nk\" in x.lower(),\n",
    "            sheet_names,\n",
    "        )\n",
    "    )\n",
    "\n",
    "    if len(filtered_sheet_names) == 1:\n",
    "        return filtered_sheet_names[0]\n",
    "\n",
    "    filtered_sheet_names = list(\n",
    "        filter(\n",
    "            lambda x: (\"gia\" not in x.lower() and \"csg\" not in x.lower() and \"dịch vụ\" not in x.lower())\n",
    "            and (\"nhập khẩu\" in x.lower() or \"nhap khau\" in x.lower()),\n",
    "            sheet_names,\n",
    "        )\n",
    "    )\n",
    "\n",
    "    if len(filtered_sheet_names) == 1:\n",
    "        return filtered_sheet_names[0]\n",
    "\n",
    "    if len(sheet_names) == 43:\n",
    "        return \"27\"\n",
    "\n",
    "    raise RuntimeError(sheet_names, filtered_sheet_names)"
   ]
  },
  {
   "cell_type": "code",
   "execution_count": 111,
   "metadata": {},
   "outputs": [],
   "source": [
    "en_to_vn = {\n",
    "    \"TOTAL VALUE\": \"TỔNG TRỊ GIÁ\",\n",
    "    \"Domestic economic sector\": \"Khu vực kinh tế trong nước\",\n",
    "    \"FDI sector\": \"Khu vực có vốn đầu tư NN\",\n",
    "    \"MAIN ITEMS\": \"MẶT HÀNG CHỦ YẾU\",\n",
    "    \"Aquatic products\": \"Thủy sản\",\n",
    "    \"Milk and dairy products\": \"Sữa và sản phẩm sữa\",\n",
    "    \"Vegetables and fruits\": \"Rau quả\",\n",
    "    \"Wheat\": \"Lúa mỳ\",\n",
    "    \"Maize\": \"Ngô\",\n",
    "    \"Cattle feed and supplies\": \"Thức ăn gia súc và NPL\",\n",
    "    \"Coal\": \"Than đá\",\n",
    "    \"Crude oil\": \"Dầu thô\",\n",
    "    \"Petroleum\": \"Xăng dầu\",\n",
    "    \"Chemicals\": \"Hóa chất\",\n",
    "    \"Chemical products\": \"Sản phẩm hoá chất\",\n",
    "    \"Medicament\": \"Tân dược\",\n",
    "    \"Fertilizer\": \"Phân bón\",\n",
    "    \"Plastic\": \"Chất dẻo\",\n",
    "    \"Plastic products\": \"Sản phẩm chất dẻo\",\n",
    "    \"Rubber\": \"Cao su\",\n",
    "    \"Wood and products\": \"Gỗ và sản phẩm gỗ\",\n",
    "    \"Paper of all kinds\": \"Giấy các loại\",\n",
    "    \"Cotton\": \"Bông\",\n",
    "    \"Textile yarn\": \"Sợi dệt\",\n",
    "    \"Fabrics\": \"Vải\",\n",
    "    \"Auxiliary materials for textile, footgear\": \"Nguyên PL dệt, may, giày dép\",\n",
    "    \"Glass and glass products\": \"Thủy tinh và các sản phẩm từ thủy tinh\",\n",
    "    \"Iron and steel scrap\": \"Phế liệu sắt thép\",\n",
    "    \"Iron, steel\": \"Sắt thép\",\n",
    "    \"Iron, steel products\": \"Sản phẩm từ sắt thép\",\n",
    "    \"Other basic metals\": \"Kim loại thường khác\",\n",
    "    \"Products made from other basic metals\": \"Sản phẩm từ kim loại thường khác\",\n",
    "    \"Electronic devices, computers and their parts\": \"Điện tử, máy tính và linh kiện\",\n",
    "    \"Domestic electrical appliances and components\": \"Hàng điện gia dụng và linh kiện\",\n",
    "    \"Phones all of kinds and their parts\": \"Điện thoại và linh kiện\",\n",
    "    \"Cameras, camcorders and their components\": \"Máy ảnh, máy quay phim và linh kiện\",\n",
    "    \"Machinery, instrument, accessory\": \"Máy móc thiết bị, dụng cụ PT khác\",\n",
    "    \"Electrical wire and cable\": \"Dây điện và cáp điện\",\n",
    "    \"Automobile\": \"Ô tô\",\n",
    "    \"Of which: Assembled(*)\": \"Trong đó: Nguyên chiếc(*)\",\n",
    "    \"Other means of transport and components\": \"Phương tiện vận tải khác và PT\",\n",
    "    \"(*)Unit, US$ million\": \"(*)Chiếc, triệu USD\",\n",
    "}"
   ]
  },
  {
   "cell_type": "code",
   "execution_count": 113,
   "metadata": {},
   "outputs": [],
   "source": [
    "def get_nk(xl, sheet_name, date):\n",
    "    df = xl.parse(sheet_name)\n",
    "\n",
    "    df = df.dropna(axis=1, how=\"all\")\n",
    "\n",
    "    if (\n",
    "        len(\n",
    "            df[df.columns[1]][\n",
    "                (df[df.columns[1]] == \"Khu vực kinh tế trong nước\")\n",
    "                | (df[df.columns[1]] == \"Thủy sản\")\n",
    "                | (df[df.columns[1]] == \"Aquatic products\")\n",
    "            ].index\n",
    "        )\n",
    "        > 0\n",
    "    ):\n",
    "        df[df.columns[1]] = df[df.columns[1]].fillna(df[df.columns[0]])\n",
    "        df = df.drop(columns=[df.columns[0]])\n",
    "\n",
    "    df[df.columns[0]] = (\n",
    "        df[df.columns[0]]\n",
    "        .replace(r\"\\s+\", \" \", regex=True)\n",
    "        .replace(r\"\\n\", \" \", regex=True)\n",
    "    )\n",
    "\n",
    "    df[df.columns[0]] = df[df.columns[0]].str.strip()\n",
    "\n",
    "    df = df.reset_index(drop=True)\n",
    "\n",
    "    df = df.drop(\n",
    "        list(\n",
    "            range(\n",
    "                df[df.columns[0]][\n",
    "                    (df[df.columns[0]] == \"TỔNG TRỊ GIÁ\")\n",
    "                    | ((df[df.columns[0]] == \"TOTAL VALUE\"))\n",
    "                    | ((df[df.columns[0]] == \"TỔNG TRỊ GIÁ (*)\"))\n",
    "                    | ((df[df.columns[0]] == \"TỔNG TRỊ GIÁ(*)\"))\n",
    "                ].index[0]\n",
    "            )\n",
    "        )\n",
    "    )\n",
    "\n",
    "    df = df.reset_index(drop=True)\n",
    "\n",
    "    if len(df[df.columns[0]][df[df.columns[0]] == \"TOTAL VALUE\"].index) > 0:\n",
    "        df[df.columns[0]] = df[df.columns[0]].map(en_to_vn)\n",
    "\n",
    "    if len(df.columns) > 12:\n",
    "        df = df.drop(\n",
    "            columns=[\n",
    "                df.columns[idx_column] for idx_column in range(12, len(df.columns))\n",
    "            ]\n",
    "        )\n",
    "\n",
    "    total_row = df[df.columns[0]][\n",
    "        (df[df.columns[0]] == \"TỔNG TRỊ GIÁ\")\n",
    "        | ((df[df.columns[0]] == \"TOTAL VALUE\"))\n",
    "        | ((df[df.columns[0]] == \"TỔNG TRỊ GIÁ (*)\"))\n",
    "        | ((df[df.columns[0]] == \"TỔNG TRỊ GIÁ(*)\"))\n",
    "    ].index[0]\n",
    "\n",
    "    columns_is_nan = [\n",
    "        df.columns[idx_column]\n",
    "        for idx_column, is_nan in enumerate(df.loc[total_row].isnull())\n",
    "        if is_nan == True\n",
    "    ]\n",
    "\n",
    "    df = df.drop(columns=columns_is_nan)\n",
    "\n",
    "    if len(df.columns) > 5:\n",
    "        df = df.drop(\n",
    "            columns=[df.columns[idx_column] for idx_column in range(5, len(df.columns))]\n",
    "        )\n",
    "\n",
    "    if int(date.split(\"-\")[0]) > 2018 or (\n",
    "        int(date.split(\"-\")[0]) == 2018 and int(date.split(\"-\")[1]) > 8\n",
    "    ):\n",
    "        if len(df.columns) == 5 and int(date.split(\"-\")[1]) == 1:\n",
    "            df = df.drop(columns=[df.columns[1], df.columns[4]])\n",
    "            df.columns = [\"Ngành\", \"Total-M\", \"YOY\"]\n",
    "            df[\"Total-YOY\"] = df[\"Total-M\"]\n",
    "            df[\"YTD-YOY\"] = df[\"YOY\"]\n",
    "        elif len(df.columns) == 5:\n",
    "            df.columns = [\"Ngành\", \"Total-M\", \"Total-YOY\", \"YOY\", \"YTD-YOY\"]\n",
    "        elif len(df.columns) == 4 and int(date.split(\"-\")[1]) == 1:\n",
    "            df = df.drop(columns=[df.columns[1]])\n",
    "            df.columns = [\"Ngành\", \"Total-M\", \"YOY\"]\n",
    "            df[\"Total-YOY\"] = df[\"Total-M\"]\n",
    "            df[\"YTD-YOY\"] = df[\"YOY\"]\n",
    "        assert len(df.columns) == 5, df.columns\n",
    "\n",
    "        df = df[df[\"Total-M\"].notna()].replace(\"-\", None)\n",
    "        df = df[df[\"Total-YOY\"].notna()].replace(\"-\", None)\n",
    "        df = df[df[\"YOY\"].notna()].replace(\"-\", None)\n",
    "        df = df[df[\"YTD-YOY\"].notna()].replace(\"-\", None)\n",
    "\n",
    "        df[\"YOY\"] = df[\"YOY\"] - 100\n",
    "        df[\"YTD-YOY\"] = df[\"YTD-YOY\"] - 100\n",
    "    else:\n",
    "        df = df.drop(columns=[df.columns[1]])\n",
    "\n",
    "        if int(date.split(\"-\")[1]) == 1 and len(df.columns) == 4:\n",
    "            df = df.drop(columns=[df.columns[3]])\n",
    "            df.columns = [\"Ngành\", \"Total-M\", \"YOY\"]\n",
    "            df[\"Total-YOY\"] = df[\"Total-M\"]\n",
    "            df[\"YTD-YOY\"] = df[\"YOY\"]\n",
    "        elif int(date.split(\"-\")[1]) == 1 and len(df.columns) == 3:\n",
    "            df.columns = [\"Ngành\", \"Total-M\", \"YOY\"]\n",
    "            df[\"Total-YOY\"] = df[\"Total-M\"]\n",
    "            df[\"YTD-YOY\"] = df[\"YOY\"]\n",
    "        elif len(df.columns) == 4:\n",
    "            df.columns = [\"Ngành\", \"Total-M\", \"Total-YOY\", \"YTD-YOY\"]\n",
    "        else:\n",
    "            raise RuntimeError\n",
    "\n",
    "        df = df[df[\"Total-M\"].notna()].replace(\"-\", None)\n",
    "        df = df[df[\"Total-YOY\"].notna()].replace(\"-\", None)\n",
    "        df = df[df[\"YTD-YOY\"].notna()].replace(\"-\", None)\n",
    "\n",
    "        df[\"YOY\"] = df[\"YOY\"].replace(\"-\", None) - 100\n",
    "        df[\"YTD-YOY\"] = df[\"YTD-YOY\"].replace(\"-\", None) - 100\n",
    "\n",
    "    df[\"Date\"] = date\n",
    "    df[\"Date\"] = pd.to_datetime(df[\"Date\"], dayfirst=False)\n",
    "\n",
    "    return df\n",
    "\n",
    "\n",
    "# xl = pd.ExcelFile(\"datas/2018-08-29-02-Bieu-8.2018-1.xlsx\")\n",
    "\n",
    "# get_nk(xl, find_sheet_name(xl.sheet_names), \"2018-08-29\")"
   ]
  },
  {
   "cell_type": "code",
   "execution_count": 114,
   "metadata": {},
   "outputs": [],
   "source": [
    "import os\n",
    "import contextlib\n",
    "\n",
    "dfs_nk_origin = []\n",
    "for file_name in sorted(\n",
    "    os.listdir(\"./datas\"),\n",
    "    key=lambda filename: f\"{filename.split('-')[0]}-{filename.split('-')[1]}-{filename.split('-')[2]}\",\n",
    "    reverse=True,\n",
    "):\n",
    "    if file_name.startswith(\".~\"):\n",
    "        continue\n",
    "\n",
    "    try:\n",
    "        file_path = os.path.join(\"./datas\", file_name)\n",
    "\n",
    "        year = int(file_name.split(\"-\")[0])\n",
    "        month = int(file_name.split(\"-\")[1])\n",
    "        day = int(file_name.split(\"-\")[2])\n",
    "\n",
    "        if year < 2019:\n",
    "            continue\n",
    "\n",
    "        xl = pd.ExcelFile(file_path)\n",
    "\n",
    "        df_xk = get_nk(xl, find_sheet_name(xl.sheet_names), f\"{year}-{month}-{day}\")\n",
    "\n",
    "        dfs_nk_origin.append(df_xk)\n",
    "    except Exception as e:\n",
    "        print(file_name)\n",
    "        raise e"
   ]
  },
  {
   "cell_type": "code",
   "execution_count": 115,
   "metadata": {},
   "outputs": [
    {
     "data": {
      "text/html": [
       "<div>\n",
       "<style scoped>\n",
       "    .dataframe tbody tr th:only-of-type {\n",
       "        vertical-align: middle;\n",
       "    }\n",
       "\n",
       "    .dataframe tbody tr th {\n",
       "        vertical-align: top;\n",
       "    }\n",
       "\n",
       "    .dataframe thead th {\n",
       "        text-align: right;\n",
       "    }\n",
       "</style>\n",
       "<table border=\"1\" class=\"dataframe\">\n",
       "  <thead>\n",
       "    <tr style=\"text-align: right;\">\n",
       "      <th></th>\n",
       "      <th>Ngành</th>\n",
       "      <th>Total-M</th>\n",
       "      <th>Total-YOY</th>\n",
       "      <th>YOY</th>\n",
       "      <th>YTD-YOY</th>\n",
       "      <th>Date</th>\n",
       "    </tr>\n",
       "  </thead>\n",
       "  <tbody>\n",
       "    <tr>\n",
       "      <th>0</th>\n",
       "      <td>TỔNG TRỊ GIÁ</td>\n",
       "      <td>31080</td>\n",
       "      <td>84980</td>\n",
       "      <td>9.70548</td>\n",
       "      <td>13.883591</td>\n",
       "      <td>2024-03-29</td>\n",
       "    </tr>\n",
       "    <tr>\n",
       "      <th>1</th>\n",
       "      <td>Khu vực kinh tế trong nước</td>\n",
       "      <td>10830</td>\n",
       "      <td>29696.990639</td>\n",
       "      <td>2.912738</td>\n",
       "      <td>14.393183</td>\n",
       "      <td>2024-03-29</td>\n",
       "    </tr>\n",
       "    <tr>\n",
       "      <th>2</th>\n",
       "      <td>Khu vực có vốn đầu tư NN</td>\n",
       "      <td>20250</td>\n",
       "      <td>55283.009361</td>\n",
       "      <td>13.719834</td>\n",
       "      <td>13.611718</td>\n",
       "      <td>2024-03-29</td>\n",
       "    </tr>\n",
       "    <tr>\n",
       "      <th>3</th>\n",
       "      <td>Thủy sản</td>\n",
       "      <td>230</td>\n",
       "      <td>636.436115</td>\n",
       "      <td>-6.206037</td>\n",
       "      <td>-3.933351</td>\n",
       "      <td>2024-03-29</td>\n",
       "    </tr>\n",
       "    <tr>\n",
       "      <th>4</th>\n",
       "      <td>Sữa và sản phẩm sữa</td>\n",
       "      <td>90</td>\n",
       "      <td>236.389268</td>\n",
       "      <td>-26.184634</td>\n",
       "      <td>-25.339836</td>\n",
       "      <td>2024-03-29</td>\n",
       "    </tr>\n",
       "    <tr>\n",
       "      <th>...</th>\n",
       "      <td>...</td>\n",
       "      <td>...</td>\n",
       "      <td>...</td>\n",
       "      <td>...</td>\n",
       "      <td>...</td>\n",
       "      <td>...</td>\n",
       "    </tr>\n",
       "    <tr>\n",
       "      <th>2477</th>\n",
       "      <td>Máy móc thiết bị, DC, PT khác</td>\n",
       "      <td>3000</td>\n",
       "      <td>3000</td>\n",
       "      <td>3.786542</td>\n",
       "      <td>3.786542</td>\n",
       "      <td>2019-01-29</td>\n",
       "    </tr>\n",
       "    <tr>\n",
       "      <th>2478</th>\n",
       "      <td>Ô tô</td>\n",
       "      <td>597.929161</td>\n",
       "      <td>597.929161</td>\n",
       "      <td>118.872049</td>\n",
       "      <td>118.872049</td>\n",
       "      <td>2019-01-29</td>\n",
       "    </tr>\n",
       "    <tr>\n",
       "      <th>2479</th>\n",
       "      <td>Trong đó: Nguyên chiếc(*)</td>\n",
       "      <td>247.929161</td>\n",
       "      <td>247.929161</td>\n",
       "      <td>1263.290828</td>\n",
       "      <td>1263.290828</td>\n",
       "      <td>2019-01-29</td>\n",
       "    </tr>\n",
       "    <tr>\n",
       "      <th>2480</th>\n",
       "      <td>Xe máy và linh kiện, phụ tùng</td>\n",
       "      <td>75</td>\n",
       "      <td>75</td>\n",
       "      <td>53.731541</td>\n",
       "      <td>53.731541</td>\n",
       "      <td>2019-01-29</td>\n",
       "    </tr>\n",
       "    <tr>\n",
       "      <th>2481</th>\n",
       "      <td>Phương tiện vận tải khác và PT</td>\n",
       "      <td>85</td>\n",
       "      <td>85</td>\n",
       "      <td>74.22908</td>\n",
       "      <td>74.22908</td>\n",
       "      <td>2019-01-29</td>\n",
       "    </tr>\n",
       "  </tbody>\n",
       "</table>\n",
       "<p>2482 rows × 6 columns</p>\n",
       "</div>"
      ],
      "text/plain": [
       "                               Ngành     Total-M     Total-YOY          YOY  \\\n",
       "0                       TỔNG TRỊ GIÁ       31080         84980      9.70548   \n",
       "1         Khu vực kinh tế trong nước       10830  29696.990639     2.912738   \n",
       "2           Khu vực có vốn đầu tư NN       20250  55283.009361    13.719834   \n",
       "3                           Thủy sản         230    636.436115    -6.206037   \n",
       "4                Sữa và sản phẩm sữa          90    236.389268   -26.184634   \n",
       "...                              ...         ...           ...          ...   \n",
       "2477   Máy móc thiết bị, DC, PT khác        3000          3000     3.786542   \n",
       "2478                            Ô tô  597.929161    597.929161   118.872049   \n",
       "2479       Trong đó: Nguyên chiếc(*)  247.929161    247.929161  1263.290828   \n",
       "2480   Xe máy và linh kiện, phụ tùng          75            75    53.731541   \n",
       "2481  Phương tiện vận tải khác và PT          85            85     74.22908   \n",
       "\n",
       "          YTD-YOY       Date  \n",
       "0       13.883591 2024-03-29  \n",
       "1       14.393183 2024-03-29  \n",
       "2       13.611718 2024-03-29  \n",
       "3       -3.933351 2024-03-29  \n",
       "4      -25.339836 2024-03-29  \n",
       "...           ...        ...  \n",
       "2477     3.786542 2019-01-29  \n",
       "2478   118.872049 2019-01-29  \n",
       "2479  1263.290828 2019-01-29  \n",
       "2480    53.731541 2019-01-29  \n",
       "2481     74.22908 2019-01-29  \n",
       "\n",
       "[2482 rows x 6 columns]"
      ]
     },
     "execution_count": 115,
     "metadata": {},
     "output_type": "execute_result"
    }
   ],
   "source": [
    "dfs_nk = pd.concat(dfs_nk_origin, ignore_index=True, axis=0)\n",
    "dfs_nk[\"Date\"] = pd.to_datetime(dfs_nk[\"Date\"], dayfirst=False)\n",
    "dfs_nk"
   ]
  },
  {
   "cell_type": "code",
   "execution_count": 116,
   "metadata": {},
   "outputs": [
    {
     "data": {
      "text/html": [
       "<div>\n",
       "<style scoped>\n",
       "    .dataframe tbody tr th:only-of-type {\n",
       "        vertical-align: middle;\n",
       "    }\n",
       "\n",
       "    .dataframe tbody tr th {\n",
       "        vertical-align: top;\n",
       "    }\n",
       "\n",
       "    .dataframe thead th {\n",
       "        text-align: right;\n",
       "    }\n",
       "</style>\n",
       "<table border=\"1\" class=\"dataframe\">\n",
       "  <thead>\n",
       "    <tr style=\"text-align: right;\">\n",
       "      <th></th>\n",
       "      <th>Ngành</th>\n",
       "      <th>Total-M</th>\n",
       "      <th>Total-YOY</th>\n",
       "      <th>YOY</th>\n",
       "      <th>YTD-YOY</th>\n",
       "      <th>Date</th>\n",
       "    </tr>\n",
       "  </thead>\n",
       "  <tbody>\n",
       "    <tr>\n",
       "      <th>0</th>\n",
       "      <td>TỔNG TRỊ GIÁ</td>\n",
       "      <td>31080</td>\n",
       "      <td>84980</td>\n",
       "      <td>9.70548</td>\n",
       "      <td>13.883591</td>\n",
       "      <td>2024-03-29</td>\n",
       "    </tr>\n",
       "    <tr>\n",
       "      <th>1</th>\n",
       "      <td>Khu vực kinh tế trong nước</td>\n",
       "      <td>10830</td>\n",
       "      <td>29696.990639</td>\n",
       "      <td>2.912738</td>\n",
       "      <td>14.393183</td>\n",
       "      <td>2024-03-29</td>\n",
       "    </tr>\n",
       "    <tr>\n",
       "      <th>2</th>\n",
       "      <td>Khu vực có vốn đầu tư NN</td>\n",
       "      <td>20250</td>\n",
       "      <td>55283.009361</td>\n",
       "      <td>13.719834</td>\n",
       "      <td>13.611718</td>\n",
       "      <td>2024-03-29</td>\n",
       "    </tr>\n",
       "    <tr>\n",
       "      <th>3</th>\n",
       "      <td>Thủy sản</td>\n",
       "      <td>230</td>\n",
       "      <td>636.436115</td>\n",
       "      <td>-6.206037</td>\n",
       "      <td>-3.933351</td>\n",
       "      <td>2024-03-29</td>\n",
       "    </tr>\n",
       "    <tr>\n",
       "      <th>4</th>\n",
       "      <td>Sữa và sản phẩm sữa</td>\n",
       "      <td>90</td>\n",
       "      <td>236.389268</td>\n",
       "      <td>-26.184634</td>\n",
       "      <td>-25.339836</td>\n",
       "      <td>2024-03-29</td>\n",
       "    </tr>\n",
       "    <tr>\n",
       "      <th>...</th>\n",
       "      <td>...</td>\n",
       "      <td>...</td>\n",
       "      <td>...</td>\n",
       "      <td>...</td>\n",
       "      <td>...</td>\n",
       "      <td>...</td>\n",
       "    </tr>\n",
       "    <tr>\n",
       "      <th>2477</th>\n",
       "      <td>Máy móc thiết bị, dụng cụ PT khác</td>\n",
       "      <td>3000</td>\n",
       "      <td>3000</td>\n",
       "      <td>3.786542</td>\n",
       "      <td>3.786542</td>\n",
       "      <td>2019-01-29</td>\n",
       "    </tr>\n",
       "    <tr>\n",
       "      <th>2478</th>\n",
       "      <td>Ô tô</td>\n",
       "      <td>597.929161</td>\n",
       "      <td>597.929161</td>\n",
       "      <td>118.872049</td>\n",
       "      <td>118.872049</td>\n",
       "      <td>2019-01-29</td>\n",
       "    </tr>\n",
       "    <tr>\n",
       "      <th>2479</th>\n",
       "      <td>Trong đó: Nguyên chiếc(*)</td>\n",
       "      <td>247.929161</td>\n",
       "      <td>247.929161</td>\n",
       "      <td>1263.290828</td>\n",
       "      <td>1263.290828</td>\n",
       "      <td>2019-01-29</td>\n",
       "    </tr>\n",
       "    <tr>\n",
       "      <th>2480</th>\n",
       "      <td>Xe máy và linh kiện, phụ tùng</td>\n",
       "      <td>75</td>\n",
       "      <td>75</td>\n",
       "      <td>53.731541</td>\n",
       "      <td>53.731541</td>\n",
       "      <td>2019-01-29</td>\n",
       "    </tr>\n",
       "    <tr>\n",
       "      <th>2481</th>\n",
       "      <td>Phương tiện vận tải khác và PT</td>\n",
       "      <td>85</td>\n",
       "      <td>85</td>\n",
       "      <td>74.22908</td>\n",
       "      <td>74.22908</td>\n",
       "      <td>2019-01-29</td>\n",
       "    </tr>\n",
       "  </tbody>\n",
       "</table>\n",
       "<p>2482 rows × 6 columns</p>\n",
       "</div>"
      ],
      "text/plain": [
       "                                  Ngành     Total-M     Total-YOY  \\\n",
       "0                          TỔNG TRỊ GIÁ       31080         84980   \n",
       "1            Khu vực kinh tế trong nước       10830  29696.990639   \n",
       "2              Khu vực có vốn đầu tư NN       20250  55283.009361   \n",
       "3                              Thủy sản         230    636.436115   \n",
       "4                   Sữa và sản phẩm sữa          90    236.389268   \n",
       "...                                 ...         ...           ...   \n",
       "2477  Máy móc thiết bị, dụng cụ PT khác        3000          3000   \n",
       "2478                               Ô tô  597.929161    597.929161   \n",
       "2479          Trong đó: Nguyên chiếc(*)  247.929161    247.929161   \n",
       "2480      Xe máy và linh kiện, phụ tùng          75            75   \n",
       "2481     Phương tiện vận tải khác và PT          85            85   \n",
       "\n",
       "              YOY      YTD-YOY       Date  \n",
       "0         9.70548    13.883591 2024-03-29  \n",
       "1        2.912738    14.393183 2024-03-29  \n",
       "2       13.719834    13.611718 2024-03-29  \n",
       "3       -6.206037    -3.933351 2024-03-29  \n",
       "4      -26.184634   -25.339836 2024-03-29  \n",
       "...           ...          ...        ...  \n",
       "2477     3.786542     3.786542 2019-01-29  \n",
       "2478   118.872049   118.872049 2019-01-29  \n",
       "2479  1263.290828  1263.290828 2019-01-29  \n",
       "2480    53.731541    53.731541 2019-01-29  \n",
       "2481     74.22908     74.22908 2019-01-29  \n",
       "\n",
       "[2482 rows x 6 columns]"
      ]
     },
     "execution_count": 116,
     "metadata": {},
     "output_type": "execute_result"
    }
   ],
   "source": [
    "convert_nganh = {\n",
    "    \"TỔNG TRỊ GIÁ\": \"TỔNG TRỊ GIÁ\",\n",
    "    \"Khu vực kinh tế trong nước\": \"Khu vực kinh tế trong nước\",\n",
    "    \"Khu vực có vốn đầu tư NN\": \"Khu vực có vốn đầu tư NN\",\n",
    "    \"Thủy sản\": \"Thủy sản\",\n",
    "    \"Sữa và sản phẩm sữa\": \"Sữa và sản phẩm sữa\",\n",
    "    \"Rau quả\": \"Rau quả\",\n",
    "    \"Hạt điều\": \"Hạt điều\",\n",
    "    \"Ngô\": \"Ngô\",\n",
    "    \"Thức ăn gia súc và NPL\": \"Thức ăn gia súc và NPL\",\n",
    "    \"Quặng và khoáng sản khác\": \"Quặng và khoáng sản khác\",\n",
    "    \"Than đá\": \"Than đá\",\n",
    "    \"Dầu thô\": \"Dầu thô\",\n",
    "    \"Xăng dầu\": \"Xăng dầu\",\n",
    "    \"Khí đốt hóa lỏng\": \"Khí đốt hóa lỏng\",\n",
    "    \"Hóa chất\": \"Hóa chất\",\n",
    "    \"Sản phẩm hoá chất\": \"Sản phẩm hoá chất\",\n",
    "    \"Tân dược\": \"Tân dược\",\n",
    "    \"Phân bón\": \"Phân bón\",\n",
    "    \"Chất dẻo\": \"Chất dẻo\",\n",
    "    \"Sản phẩm chất dẻo\": \"Sản phẩm chất dẻo\",\n",
    "    \"Cao su\": \"Cao su\",\n",
    "    \"Gỗ và sản phẩm gỗ\": \"Gỗ và sản phẩm gỗ\",\n",
    "    \"Giấy các loại\": \"Giấy các loại\",\n",
    "    \"Bông\": \"Bông\",\n",
    "    \"Sợi dệt\": \"Sợi dệt\",\n",
    "    \"Vải\": \"Vải\",\n",
    "    \"Nguyên PL dệt, may, giày dép\": \"Nguyên PL dệt, may, giày dép\",\n",
    "    \"Thủy tinh và các SP từ thủy tinh\": \"Thủy tinh và các SP từ thủy tinh\",\n",
    "    \"Phế liệu sắt thép\": \"Phế liệu sắt thép\",\n",
    "    \"Sắt thép\": \"Sắt thép\",\n",
    "    \"Sản phẩm từ sắt thép\": \"Sản phẩm từ sắt thép\",\n",
    "    \"Kim loại thường khác\": \"Kim loại thường khác\",\n",
    "    \"SP từ kim loại thường khác\": \"SP từ kim loại thường khác\",\n",
    "    \"Điện tử, máy tính và linh kiện\": \"Điện tử, máy tính và linh kiện\",\n",
    "    \"Hàng điện gia dụng và linh kiện\": \"Hàng điện gia dụng và linh kiện\",\n",
    "    \"Điện thoại và linh kiện\": \"Điện thoại và linh kiện\",\n",
    "    \"Máy ảnh, máy quay phim và linh kiện\": \"Máy ảnh, máy quay phim và linh kiện\",\n",
    "    \"Máy móc thiết bị, dụng cụ PT khác\": \"Máy móc thiết bị, dụng cụ PT khác\",\n",
    "    \"Dây điện và cáp điện\": \"Dây điện và cáp điện\",\n",
    "    \"Ô tô\": \"Ô tô\",\n",
    "    \"Trong đó: Nguyên chiếc(*)\": \"Trong đó: Nguyên chiếc(*)\",\n",
    "    \"Máy móc thiết bị, DC PT khác\": \"Máy móc thiết bị, dụng cụ PT khác\",\n",
    "    \"Điện tử, máy tính và LK\": \"Điện tử, máy tính và linh kiện\",\n",
    "    \"Hàng điện gia dụng và LK\": \"Hàng điện gia dụng và linh kiện\",\n",
    "    \"Máy ảnh, máy quay phim và LK\": \"Máy ảnh, máy quay phim và linh kiện\",\n",
    "    \"Thức ăn gia súc và nguyên phụ liệu\": \"Thức ăn gia súc và NPL\",\n",
    "    \"Máy móc thiết bị, dụng cụ phụ tùng khác\": \"Máy móc thiết bị, dụng cụ PT khác\",\n",
    "    \"SP nội thất từ chất liệu khác gỗ\": \"SP nội thất từ chất liệu khác gỗ\",\n",
    "    \"Thủy tinh và cácSP từ thủy tinh\": \"Thủy tinh và các SP từ thủy tinh\",\n",
    "    \"Điện thoại và LK\": \"Điện thoại và linh kiện\",\n",
    "    \"Thủy tinh và các sản phẩm từ thủy tinh\": \"Thủy tinh và các SP từ thủy tinh\",\n",
    "    \"Lúa mỳ\": \"Lúa mỳ\",\n",
    "    \"Sản phẩm từ kim loại thường khác\": \"SP từ kim loại thường khác\",\n",
    "    \"Phương tiện vận tải khác và PT\": \"Phương tiện vận tải khác và PT\",\n",
    "    \"TỔNG TRỊ GIÁ (*)\": \"TỔNG TRỊ GIÁ\",\n",
    "    \"Trong đó: Nguyên chiếc(**)\": \"Trong đó: Nguyên chiếc(*)\",\n",
    "    \"Dầu mỡ động thực vật\": \"Dầu mỡ động thực vật\",\n",
    "    \"Sản phẩm khác từ dầu mỏ\": \"Sản phẩm khác từ dầu mỏ\",\n",
    "    \"Thuốc trừ sâu\": \"Thuốc trừ sâu\",\n",
    "    \"Xe máy và linh kiện, phụ tùng\": \"Xe máy và linh kiện, phụ tùng\",\n",
    "    \"Máy móc thiết bị, DC PT\": \"Máy móc thiết bị, dụng cụ PT khác\",\n",
    "    \"Máy móc thiết bị, dụng cụ PT\": \"Máy móc thiết bị, dụng cụ PT khác\",\n",
    "    \"Điện thoại các loại và LK\": \"Điện thoại và linh kiện\",\n",
    "    \"Máy móc thiết bị, DC, PT khác\": \"Máy móc thiết bị, dụng cụ PT khác\",\n",
    "}\n",
    "\n",
    "dfs_nk[\"Ngành\"] = dfs_nk[\"Ngành\"].map(convert_nganh)\n",
    "dfs_nk"
   ]
  },
  {
   "cell_type": "code",
   "execution_count": 117,
   "metadata": {},
   "outputs": [
    {
     "name": "stderr",
     "output_type": "stream",
     "text": [
      "/home/hien/.pyenv/versions/3.9.16/envs/vn-macroeconomics/lib/python3.9/site-packages/_plotly_utils/basevalidators.py:105: FutureWarning:\n",
      "\n",
      "The behavior of DatetimeProperties.to_pydatetime is deprecated, in a future version this will return a Series containing python datetime objects instead of an ndarray. To retain the old behavior, call `np.array` on the result\n",
      "\n"
     ]
    },
    {
     "data": {
      "application/vnd.plotly.v1+json": {
       "config": {
        "plotlyServerURL": "https://plot.ly"
       },
       "data": [
        {
         "fillpattern": {
          "shape": ""
         },
         "hovertemplate": "Ngành=TỔNG TRỊ GIÁ<br>Date=%{x}<br>YOY=%{y}<extra></extra>",
         "legendgroup": "TỔNG TRỊ GIÁ",
         "line": {
          "color": "#636efa"
         },
         "marker": {
          "symbol": "circle"
         },
         "mode": "lines",
         "name": "TỔNG TRỊ GIÁ",
         "orientation": "v",
         "showlegend": true,
         "stackgroup": "1",
         "type": "scatter",
         "x": [
          "2024-03-29T00:00:00",
          "2024-02-29T00:00:00",
          "2024-01-29T00:00:00",
          "2023-12-29T00:00:00",
          "2023-11-29T00:00:00",
          "2023-10-29T00:00:00",
          "2023-09-29T00:00:00",
          "2023-08-29T00:00:00",
          "2023-07-29T00:00:00",
          "2023-06-29T00:00:00",
          "2023-05-29T00:00:00",
          "2023-04-29T00:00:00",
          "2023-03-29T00:00:00",
          "2023-02-28T00:00:00",
          "2023-01-29T00:00:00",
          "2022-12-29T00:00:00",
          "2022-11-29T00:00:00",
          "2022-10-29T00:00:00",
          "2022-09-29T00:00:00",
          "2022-08-29T00:00:00",
          "2022-07-29T00:00:00",
          "2022-06-29T00:00:00",
          "2022-05-29T00:00:00",
          "2022-04-29T00:00:00",
          "2022-03-29T00:00:00",
          "2022-02-28T00:00:00",
          "2022-01-29T00:00:00",
          "2021-12-29T00:00:00",
          "2021-11-29T00:00:00",
          "2021-10-29T00:00:00",
          "2021-09-29T00:00:00",
          "2021-08-29T00:00:00",
          "2021-07-29T00:00:00",
          "2021-06-29T00:00:00",
          "2021-05-29T00:00:00",
          "2021-04-29T00:00:00",
          "2021-03-29T00:00:00",
          "2021-02-28T00:00:00",
          "2021-01-29T00:00:00",
          "2020-12-27T00:00:00",
          "2020-11-29T00:00:00",
          "2020-10-29T00:00:00",
          "2020-09-29T00:00:00",
          "2020-08-29T00:00:00",
          "2020-07-29T00:00:00",
          "2020-06-29T00:00:00",
          "2020-05-29T00:00:00",
          "2020-04-29T00:00:00",
          "2020-03-27T00:00:00",
          "2020-02-29T00:00:00",
          "2020-01-29T00:00:00",
          "2019-12-27T00:00:00",
          "2019-11-29T00:00:00",
          "2019-10-29T00:00:00",
          "2019-09-28T00:00:00",
          "2019-08-29T00:00:00",
          "2019-07-29T00:00:00",
          "2019-06-28T00:00:00",
          "2019-05-27T00:00:00",
          "2019-04-29T00:00:00",
          "2019-03-29T00:00:00",
          "2019-02-28T00:00:00",
          "2019-01-29T00:00:00"
         ],
         "xaxis": "x",
         "y": [
          9.705480296672263,
          1.8198931110412957,
          6.823166024480997,
          12.302817615650994,
          5.080647686541994,
          5.226013771321391,
          2.5692260797433306,
          -8.255263521250995,
          -9.91820906813625,
          -16.93985183087932,
          -18.442550142664288,
          -20.542031360449016,
          -11.098674754317045,
          -6.651648857832399,
          -28.924197222934694,
          -8.143247694155733,
          -7.2673785458952835,
          7.075175065371056,
          6.449813615577995,
          12.416246705902907,
          3.4205169558629365,
          16.319692074444617,
          12.851810395730794,
          15.454951061926963,
          14.637093027764195,
          21.855784154687427,
          11.460432249337842,
          14.588044336997498,
          20.81279496832073,
          8.089827524742205,
          9.515490752715067,
          21.162525202271155,
          29.946785354738154,
          33.48474218665322,
          56.361306581386714,
          43.5,
          27.681949455219694,
          10.511085728242506,
          41.00176875582969,
          22.700000000000003,
          13.400000000000006,
          10.050729524653221,
          11.630578519748994,
          2.799999999999997,
          -2.9449086541891774,
          5.330837882529664,
          -15.935117316801623,
          -2.338042495996291,
          -10.066684952447886,
          26.035603152913637,
          -11.335105735873398,
          10.983691351646357,
          4.522235638813555,
          3.4732215098130155,
          15.63270322648998,
          7.524907129262772,
          5.016671906980605,
          9.970463692460882,
          8.347042769382739,
          17.64492727347789,
          14.659870282591612,
          10.44218315444077,
          3.129695834529997
         ],
         "yaxis": "y"
        },
        {
         "fillpattern": {
          "shape": ""
         },
         "hovertemplate": "Ngành=Khu vực kinh tế trong nước<br>Date=%{x}<br>YOY=%{y}<extra></extra>",
         "legendgroup": "Khu vực kinh tế trong nước",
         "line": {
          "color": "#EF553B"
         },
         "marker": {
          "symbol": "circle"
         },
         "mode": "lines",
         "name": "Khu vực kinh tế trong nước",
         "orientation": "v",
         "showlegend": true,
         "stackgroup": "1",
         "type": "scatter",
         "x": [
          "2024-03-29T00:00:00",
          "2024-02-29T00:00:00",
          "2024-01-29T00:00:00",
          "2023-12-29T00:00:00",
          "2023-11-29T00:00:00",
          "2023-10-29T00:00:00",
          "2023-09-29T00:00:00",
          "2023-08-29T00:00:00",
          "2023-07-29T00:00:00",
          "2023-06-29T00:00:00",
          "2023-05-29T00:00:00",
          "2023-04-29T00:00:00",
          "2023-03-29T00:00:00",
          "2023-02-28T00:00:00",
          "2023-01-29T00:00:00",
          "2022-12-29T00:00:00",
          "2022-11-29T00:00:00",
          "2022-10-29T00:00:00",
          "2022-09-29T00:00:00",
          "2022-08-29T00:00:00",
          "2022-07-29T00:00:00",
          "2022-06-29T00:00:00",
          "2022-05-29T00:00:00",
          "2022-04-29T00:00:00",
          "2022-03-29T00:00:00",
          "2022-02-28T00:00:00",
          "2022-01-29T00:00:00",
          "2021-12-29T00:00:00",
          "2021-11-29T00:00:00",
          "2021-10-29T00:00:00",
          "2021-09-29T00:00:00",
          "2021-08-29T00:00:00",
          "2021-07-29T00:00:00",
          "2021-06-29T00:00:00",
          "2021-05-29T00:00:00",
          "2021-04-29T00:00:00",
          "2021-03-29T00:00:00",
          "2021-02-28T00:00:00",
          "2021-01-29T00:00:00",
          "2020-12-27T00:00:00",
          "2020-11-29T00:00:00",
          "2020-09-29T00:00:00",
          "2020-08-29T00:00:00",
          "2020-07-29T00:00:00",
          "2020-06-29T00:00:00",
          "2020-05-29T00:00:00",
          "2020-04-29T00:00:00",
          "2020-03-27T00:00:00",
          "2020-02-29T00:00:00",
          "2020-01-29T00:00:00",
          "2019-12-27T00:00:00",
          "2019-11-29T00:00:00",
          "2019-10-29T00:00:00",
          "2019-09-28T00:00:00",
          "2019-08-29T00:00:00",
          "2019-07-29T00:00:00",
          "2019-06-28T00:00:00",
          "2019-05-27T00:00:00",
          "2019-04-29T00:00:00",
          "2019-03-29T00:00:00",
          "2019-02-28T00:00:00",
          "2019-01-29T00:00:00"
         ],
         "xaxis": "x",
         "y": [
          2.9127382617613904,
          5.442251380751003,
          19.124975916953005,
          7.606073779949995,
          4.173966604143004,
          8.466536655681466,
          6.967886132480146,
          -1.694905496715009,
          0.35987079883865647,
          -19.88610143187836,
          -24.60836813902469,
          -19.434290460154358,
          -7.75012866718609,
          -7.231791488291378,
          -25.91319165962902,
          -2.234699284902902,
          -0.17916490595763435,
          6.202664687706601,
          14.225438008284726,
          10.438592505356254,
          2.513380042627361,
          17.110928494538854,
          15.354466497708401,
          10.378655387270669,
          7.814069047021093,
          22.798528705683793,
          12.797623058010956,
          10.25799288478619,
          20.67309551723335,
          2.323013010246754,
          3.259972141025912,
          24.118663435954304,
          26.29019205087198,
          27.36461072504808,
          41.144289052428235,
          36.30000000000001,
          19.001739409639228,
          3.5510515741525808,
          35.32751188957678,
          2.700000000000003,
          2,
          22.455408439481005,
          13.5,
          8.17750700002226,
          16.46416475344394,
          -12.678197848483535,
          -4.404235238628942,
          -13.967890575682247,
          29.73525346853441,
          -5.478129947885151,
          16.92433364052461,
          14.708451819827275,
          8.615447744904813,
          20.780464471349205,
          19.0901458765059,
          14.77369373833099,
          12.965570481663136,
          11.134577310277976,
          18.509676627261868,
          21.718042112298434,
          12.537651878743475,
          9.491986033824006
         ],
         "yaxis": "y"
        },
        {
         "fillpattern": {
          "shape": ""
         },
         "hovertemplate": "Ngành=Khu vực có vốn đầu tư NN<br>Date=%{x}<br>YOY=%{y}<extra></extra>",
         "legendgroup": "Khu vực có vốn đầu tư NN",
         "line": {
          "color": "#00cc96"
         },
         "marker": {
          "symbol": "circle"
         },
         "mode": "lines",
         "name": "Khu vực có vốn đầu tư NN",
         "orientation": "v",
         "showlegend": true,
         "stackgroup": "1",
         "type": "scatter",
         "x": [
          "2024-03-29T00:00:00",
          "2024-02-29T00:00:00",
          "2024-01-29T00:00:00",
          "2023-12-29T00:00:00",
          "2023-11-29T00:00:00",
          "2023-10-29T00:00:00",
          "2023-09-29T00:00:00",
          "2023-08-29T00:00:00",
          "2023-07-29T00:00:00",
          "2023-06-29T00:00:00",
          "2023-05-29T00:00:00",
          "2023-04-29T00:00:00",
          "2023-03-29T00:00:00",
          "2023-02-28T00:00:00",
          "2023-01-29T00:00:00",
          "2022-12-29T00:00:00",
          "2022-11-29T00:00:00",
          "2022-10-29T00:00:00",
          "2022-09-29T00:00:00",
          "2022-08-29T00:00:00",
          "2022-07-29T00:00:00",
          "2022-06-29T00:00:00",
          "2022-05-29T00:00:00",
          "2022-04-29T00:00:00",
          "2022-03-29T00:00:00",
          "2022-02-28T00:00:00",
          "2022-01-29T00:00:00",
          "2021-12-29T00:00:00",
          "2021-11-29T00:00:00",
          "2021-10-29T00:00:00",
          "2021-09-29T00:00:00",
          "2021-08-29T00:00:00",
          "2021-07-29T00:00:00",
          "2021-06-29T00:00:00",
          "2021-05-29T00:00:00",
          "2021-04-29T00:00:00",
          "2021-03-29T00:00:00",
          "2021-02-28T00:00:00",
          "2021-01-29T00:00:00",
          "2020-12-27T00:00:00",
          "2020-11-29T00:00:00",
          "2020-09-29T00:00:00",
          "2020-08-29T00:00:00",
          "2020-07-29T00:00:00",
          "2020-06-29T00:00:00",
          "2020-05-29T00:00:00",
          "2020-04-29T00:00:00",
          "2020-03-27T00:00:00",
          "2020-02-29T00:00:00",
          "2020-01-29T00:00:00",
          "2019-12-27T00:00:00",
          "2019-11-29T00:00:00",
          "2019-10-29T00:00:00",
          "2019-09-28T00:00:00",
          "2019-08-29T00:00:00",
          "2019-07-29T00:00:00",
          "2019-06-28T00:00:00",
          "2019-05-27T00:00:00",
          "2019-04-29T00:00:00",
          "2019-03-29T00:00:00",
          "2019-02-28T00:00:00",
          "2019-01-29T00:00:00"
         ],
         "xaxis": "x",
         "y": [
          13.719833988129352,
          -0.06938525480926216,
          1.0821325996899986,
          15.110280252307007,
          5.588005762161998,
          3.534962056281742,
          0.28838458253478905,
          -11.560999154997532,
          -15.448687325631369,
          -15.244447253703981,
          -14.732652364043446,
          -21.127893546235413,
          -12.959624582059192,
          -6.367725311283479,
          -30.434752317999227,
          -11.103855563317907,
          -10.79631618606713,
          7.5288156766476675,
          2.839018556761701,
          13.379194860599952,
          3.9226413702680816,
          15.870596185492843,
          11.411338237439963,
          18.281196430895903,
          18.480539248486693,
          21.401867596284973,
          10.786917204899353,
          16.95536999515707,
          20.885623742863174,
          11.150811704016661,
          12.65522211650017,
          19.622283668650198,
          32.08764719935701,
          37.19296961530506,
          66.489237675413,
          47.900000000000006,
          32.555030980563544,
          14.198699813648673,
          44.348446860885616,
          37.400000000000006,
          20.799999999999997,
          4.334772938872007,
          -4.400000000000006,
          -10.866648125323067,
          -2.701973940965644,
          -18.45994721995308,
          -0.6766365356711646,
          -7.199192340084153,
          23.658110016691424,
          -15.704597503454622,
          6.6364890269502865,
          -2.068041455974594,
          0.16273655252065566,
          12.437906775022142,
          0.7825275100453268,
          -0.9604904407723751,
          7.8205366481888205,
          6.190849056526275,
          17.008200082310253,
          10.0857655202512,
          9.088025724838872,
          -1.2881557284830052
         ],
         "yaxis": "y"
        }
       ],
       "layout": {
        "legend": {
         "title": {
          "text": "Ngành"
         },
         "tracegroupgap": 0
        },
        "margin": {
         "t": 60
        },
        "template": {
         "data": {
          "bar": [
           {
            "error_x": {
             "color": "#2a3f5f"
            },
            "error_y": {
             "color": "#2a3f5f"
            },
            "marker": {
             "line": {
              "color": "#E5ECF6",
              "width": 0.5
             },
             "pattern": {
              "fillmode": "overlay",
              "size": 10,
              "solidity": 0.2
             }
            },
            "type": "bar"
           }
          ],
          "barpolar": [
           {
            "marker": {
             "line": {
              "color": "#E5ECF6",
              "width": 0.5
             },
             "pattern": {
              "fillmode": "overlay",
              "size": 10,
              "solidity": 0.2
             }
            },
            "type": "barpolar"
           }
          ],
          "carpet": [
           {
            "aaxis": {
             "endlinecolor": "#2a3f5f",
             "gridcolor": "white",
             "linecolor": "white",
             "minorgridcolor": "white",
             "startlinecolor": "#2a3f5f"
            },
            "baxis": {
             "endlinecolor": "#2a3f5f",
             "gridcolor": "white",
             "linecolor": "white",
             "minorgridcolor": "white",
             "startlinecolor": "#2a3f5f"
            },
            "type": "carpet"
           }
          ],
          "choropleth": [
           {
            "colorbar": {
             "outlinewidth": 0,
             "ticks": ""
            },
            "type": "choropleth"
           }
          ],
          "contour": [
           {
            "colorbar": {
             "outlinewidth": 0,
             "ticks": ""
            },
            "colorscale": [
             [
              0,
              "#0d0887"
             ],
             [
              0.1111111111111111,
              "#46039f"
             ],
             [
              0.2222222222222222,
              "#7201a8"
             ],
             [
              0.3333333333333333,
              "#9c179e"
             ],
             [
              0.4444444444444444,
              "#bd3786"
             ],
             [
              0.5555555555555556,
              "#d8576b"
             ],
             [
              0.6666666666666666,
              "#ed7953"
             ],
             [
              0.7777777777777778,
              "#fb9f3a"
             ],
             [
              0.8888888888888888,
              "#fdca26"
             ],
             [
              1,
              "#f0f921"
             ]
            ],
            "type": "contour"
           }
          ],
          "contourcarpet": [
           {
            "colorbar": {
             "outlinewidth": 0,
             "ticks": ""
            },
            "type": "contourcarpet"
           }
          ],
          "heatmap": [
           {
            "colorbar": {
             "outlinewidth": 0,
             "ticks": ""
            },
            "colorscale": [
             [
              0,
              "#0d0887"
             ],
             [
              0.1111111111111111,
              "#46039f"
             ],
             [
              0.2222222222222222,
              "#7201a8"
             ],
             [
              0.3333333333333333,
              "#9c179e"
             ],
             [
              0.4444444444444444,
              "#bd3786"
             ],
             [
              0.5555555555555556,
              "#d8576b"
             ],
             [
              0.6666666666666666,
              "#ed7953"
             ],
             [
              0.7777777777777778,
              "#fb9f3a"
             ],
             [
              0.8888888888888888,
              "#fdca26"
             ],
             [
              1,
              "#f0f921"
             ]
            ],
            "type": "heatmap"
           }
          ],
          "heatmapgl": [
           {
            "colorbar": {
             "outlinewidth": 0,
             "ticks": ""
            },
            "colorscale": [
             [
              0,
              "#0d0887"
             ],
             [
              0.1111111111111111,
              "#46039f"
             ],
             [
              0.2222222222222222,
              "#7201a8"
             ],
             [
              0.3333333333333333,
              "#9c179e"
             ],
             [
              0.4444444444444444,
              "#bd3786"
             ],
             [
              0.5555555555555556,
              "#d8576b"
             ],
             [
              0.6666666666666666,
              "#ed7953"
             ],
             [
              0.7777777777777778,
              "#fb9f3a"
             ],
             [
              0.8888888888888888,
              "#fdca26"
             ],
             [
              1,
              "#f0f921"
             ]
            ],
            "type": "heatmapgl"
           }
          ],
          "histogram": [
           {
            "marker": {
             "pattern": {
              "fillmode": "overlay",
              "size": 10,
              "solidity": 0.2
             }
            },
            "type": "histogram"
           }
          ],
          "histogram2d": [
           {
            "colorbar": {
             "outlinewidth": 0,
             "ticks": ""
            },
            "colorscale": [
             [
              0,
              "#0d0887"
             ],
             [
              0.1111111111111111,
              "#46039f"
             ],
             [
              0.2222222222222222,
              "#7201a8"
             ],
             [
              0.3333333333333333,
              "#9c179e"
             ],
             [
              0.4444444444444444,
              "#bd3786"
             ],
             [
              0.5555555555555556,
              "#d8576b"
             ],
             [
              0.6666666666666666,
              "#ed7953"
             ],
             [
              0.7777777777777778,
              "#fb9f3a"
             ],
             [
              0.8888888888888888,
              "#fdca26"
             ],
             [
              1,
              "#f0f921"
             ]
            ],
            "type": "histogram2d"
           }
          ],
          "histogram2dcontour": [
           {
            "colorbar": {
             "outlinewidth": 0,
             "ticks": ""
            },
            "colorscale": [
             [
              0,
              "#0d0887"
             ],
             [
              0.1111111111111111,
              "#46039f"
             ],
             [
              0.2222222222222222,
              "#7201a8"
             ],
             [
              0.3333333333333333,
              "#9c179e"
             ],
             [
              0.4444444444444444,
              "#bd3786"
             ],
             [
              0.5555555555555556,
              "#d8576b"
             ],
             [
              0.6666666666666666,
              "#ed7953"
             ],
             [
              0.7777777777777778,
              "#fb9f3a"
             ],
             [
              0.8888888888888888,
              "#fdca26"
             ],
             [
              1,
              "#f0f921"
             ]
            ],
            "type": "histogram2dcontour"
           }
          ],
          "mesh3d": [
           {
            "colorbar": {
             "outlinewidth": 0,
             "ticks": ""
            },
            "type": "mesh3d"
           }
          ],
          "parcoords": [
           {
            "line": {
             "colorbar": {
              "outlinewidth": 0,
              "ticks": ""
             }
            },
            "type": "parcoords"
           }
          ],
          "pie": [
           {
            "automargin": true,
            "type": "pie"
           }
          ],
          "scatter": [
           {
            "fillpattern": {
             "fillmode": "overlay",
             "size": 10,
             "solidity": 0.2
            },
            "type": "scatter"
           }
          ],
          "scatter3d": [
           {
            "line": {
             "colorbar": {
              "outlinewidth": 0,
              "ticks": ""
             }
            },
            "marker": {
             "colorbar": {
              "outlinewidth": 0,
              "ticks": ""
             }
            },
            "type": "scatter3d"
           }
          ],
          "scattercarpet": [
           {
            "marker": {
             "colorbar": {
              "outlinewidth": 0,
              "ticks": ""
             }
            },
            "type": "scattercarpet"
           }
          ],
          "scattergeo": [
           {
            "marker": {
             "colorbar": {
              "outlinewidth": 0,
              "ticks": ""
             }
            },
            "type": "scattergeo"
           }
          ],
          "scattergl": [
           {
            "marker": {
             "colorbar": {
              "outlinewidth": 0,
              "ticks": ""
             }
            },
            "type": "scattergl"
           }
          ],
          "scattermapbox": [
           {
            "marker": {
             "colorbar": {
              "outlinewidth": 0,
              "ticks": ""
             }
            },
            "type": "scattermapbox"
           }
          ],
          "scatterpolar": [
           {
            "marker": {
             "colorbar": {
              "outlinewidth": 0,
              "ticks": ""
             }
            },
            "type": "scatterpolar"
           }
          ],
          "scatterpolargl": [
           {
            "marker": {
             "colorbar": {
              "outlinewidth": 0,
              "ticks": ""
             }
            },
            "type": "scatterpolargl"
           }
          ],
          "scatterternary": [
           {
            "marker": {
             "colorbar": {
              "outlinewidth": 0,
              "ticks": ""
             }
            },
            "type": "scatterternary"
           }
          ],
          "surface": [
           {
            "colorbar": {
             "outlinewidth": 0,
             "ticks": ""
            },
            "colorscale": [
             [
              0,
              "#0d0887"
             ],
             [
              0.1111111111111111,
              "#46039f"
             ],
             [
              0.2222222222222222,
              "#7201a8"
             ],
             [
              0.3333333333333333,
              "#9c179e"
             ],
             [
              0.4444444444444444,
              "#bd3786"
             ],
             [
              0.5555555555555556,
              "#d8576b"
             ],
             [
              0.6666666666666666,
              "#ed7953"
             ],
             [
              0.7777777777777778,
              "#fb9f3a"
             ],
             [
              0.8888888888888888,
              "#fdca26"
             ],
             [
              1,
              "#f0f921"
             ]
            ],
            "type": "surface"
           }
          ],
          "table": [
           {
            "cells": {
             "fill": {
              "color": "#EBF0F8"
             },
             "line": {
              "color": "white"
             }
            },
            "header": {
             "fill": {
              "color": "#C8D4E3"
             },
             "line": {
              "color": "white"
             }
            },
            "type": "table"
           }
          ]
         },
         "layout": {
          "annotationdefaults": {
           "arrowcolor": "#2a3f5f",
           "arrowhead": 0,
           "arrowwidth": 1
          },
          "autotypenumbers": "strict",
          "coloraxis": {
           "colorbar": {
            "outlinewidth": 0,
            "ticks": ""
           }
          },
          "colorscale": {
           "diverging": [
            [
             0,
             "#8e0152"
            ],
            [
             0.1,
             "#c51b7d"
            ],
            [
             0.2,
             "#de77ae"
            ],
            [
             0.3,
             "#f1b6da"
            ],
            [
             0.4,
             "#fde0ef"
            ],
            [
             0.5,
             "#f7f7f7"
            ],
            [
             0.6,
             "#e6f5d0"
            ],
            [
             0.7,
             "#b8e186"
            ],
            [
             0.8,
             "#7fbc41"
            ],
            [
             0.9,
             "#4d9221"
            ],
            [
             1,
             "#276419"
            ]
           ],
           "sequential": [
            [
             0,
             "#0d0887"
            ],
            [
             0.1111111111111111,
             "#46039f"
            ],
            [
             0.2222222222222222,
             "#7201a8"
            ],
            [
             0.3333333333333333,
             "#9c179e"
            ],
            [
             0.4444444444444444,
             "#bd3786"
            ],
            [
             0.5555555555555556,
             "#d8576b"
            ],
            [
             0.6666666666666666,
             "#ed7953"
            ],
            [
             0.7777777777777778,
             "#fb9f3a"
            ],
            [
             0.8888888888888888,
             "#fdca26"
            ],
            [
             1,
             "#f0f921"
            ]
           ],
           "sequentialminus": [
            [
             0,
             "#0d0887"
            ],
            [
             0.1111111111111111,
             "#46039f"
            ],
            [
             0.2222222222222222,
             "#7201a8"
            ],
            [
             0.3333333333333333,
             "#9c179e"
            ],
            [
             0.4444444444444444,
             "#bd3786"
            ],
            [
             0.5555555555555556,
             "#d8576b"
            ],
            [
             0.6666666666666666,
             "#ed7953"
            ],
            [
             0.7777777777777778,
             "#fb9f3a"
            ],
            [
             0.8888888888888888,
             "#fdca26"
            ],
            [
             1,
             "#f0f921"
            ]
           ]
          },
          "colorway": [
           "#636efa",
           "#EF553B",
           "#00cc96",
           "#ab63fa",
           "#FFA15A",
           "#19d3f3",
           "#FF6692",
           "#B6E880",
           "#FF97FF",
           "#FECB52"
          ],
          "font": {
           "color": "#2a3f5f"
          },
          "geo": {
           "bgcolor": "white",
           "lakecolor": "white",
           "landcolor": "#E5ECF6",
           "showlakes": true,
           "showland": true,
           "subunitcolor": "white"
          },
          "hoverlabel": {
           "align": "left"
          },
          "hovermode": "closest",
          "mapbox": {
           "style": "light"
          },
          "paper_bgcolor": "white",
          "plot_bgcolor": "#E5ECF6",
          "polar": {
           "angularaxis": {
            "gridcolor": "white",
            "linecolor": "white",
            "ticks": ""
           },
           "bgcolor": "#E5ECF6",
           "radialaxis": {
            "gridcolor": "white",
            "linecolor": "white",
            "ticks": ""
           }
          },
          "scene": {
           "xaxis": {
            "backgroundcolor": "#E5ECF6",
            "gridcolor": "white",
            "gridwidth": 2,
            "linecolor": "white",
            "showbackground": true,
            "ticks": "",
            "zerolinecolor": "white"
           },
           "yaxis": {
            "backgroundcolor": "#E5ECF6",
            "gridcolor": "white",
            "gridwidth": 2,
            "linecolor": "white",
            "showbackground": true,
            "ticks": "",
            "zerolinecolor": "white"
           },
           "zaxis": {
            "backgroundcolor": "#E5ECF6",
            "gridcolor": "white",
            "gridwidth": 2,
            "linecolor": "white",
            "showbackground": true,
            "ticks": "",
            "zerolinecolor": "white"
           }
          },
          "shapedefaults": {
           "line": {
            "color": "#2a3f5f"
           }
          },
          "ternary": {
           "aaxis": {
            "gridcolor": "white",
            "linecolor": "white",
            "ticks": ""
           },
           "baxis": {
            "gridcolor": "white",
            "linecolor": "white",
            "ticks": ""
           },
           "bgcolor": "#E5ECF6",
           "caxis": {
            "gridcolor": "white",
            "linecolor": "white",
            "ticks": ""
           }
          },
          "title": {
           "x": 0.05
          },
          "xaxis": {
           "automargin": true,
           "gridcolor": "white",
           "linecolor": "white",
           "ticks": "",
           "title": {
            "standoff": 15
           },
           "zerolinecolor": "white",
           "zerolinewidth": 2
          },
          "yaxis": {
           "automargin": true,
           "gridcolor": "white",
           "linecolor": "white",
           "ticks": "",
           "title": {
            "standoff": 15
           },
           "zerolinecolor": "white",
           "zerolinewidth": 2
          }
         }
        },
        "xaxis": {
         "anchor": "y",
         "domain": [
          0,
          1
         ],
         "rangeselector": {
          "buttons": [
           {
            "count": 1,
            "label": "YTD",
            "step": "year",
            "stepmode": "todate"
           },
           {
            "count": 1,
            "label": "1y",
            "step": "year",
            "stepmode": "backward"
           },
           {
            "count": 3,
            "label": "3y",
            "step": "year",
            "stepmode": "backward"
           },
           {
            "count": 5,
            "label": "5y",
            "step": "year",
            "stepmode": "backward"
           },
           {
            "count": 7,
            "label": "7y",
            "step": "year",
            "stepmode": "backward"
           },
           {
            "count": 10,
            "label": "10y",
            "step": "year",
            "stepmode": "backward"
           },
           {
            "step": "all"
           }
          ]
         },
         "rangeslider": {
          "visible": true
         },
         "title": {
          "text": "Date"
         }
        },
        "yaxis": {
         "anchor": "x",
         "domain": [
          0,
          1
         ],
         "title": {
          "text": "YOY"
         }
        }
       }
      }
     },
     "metadata": {},
     "output_type": "display_data"
    }
   ],
   "source": [
    "import pandas as pd\n",
    "import plotly.express as px\n",
    "import plotly.graph_objects as go\n",
    "\n",
    "df_show = dfs_nk[\n",
    "    (\n",
    "        (dfs_nk[\"Ngành\"] == \"TỔNG TRỊ GIÁ\")\n",
    "        | (dfs_nk[\"Ngành\"] == \"Khu vực kinh tế trong nước\")\n",
    "        | (dfs_nk[\"Ngành\"] == \"Khu vực có vốn đầu tư NN\")\n",
    "    )\n",
    "    & (dfs_nk[\"Date\"] > \"2015-01-01\")\n",
    "]\n",
    "\n",
    "fig = px.area(df_show, x=\"Date\", y=\"YOY\", color=\"Ngành\")\n",
    "\n",
    "fig.update_xaxes(\n",
    "    rangeslider_visible=True,\n",
    "    rangeselector=dict(\n",
    "        buttons=[\n",
    "            dict(count=1, label=\"YTD\", step=\"year\", stepmode=\"todate\"),\n",
    "            dict(count=1, label=\"1y\", step=\"year\", stepmode=\"backward\"),\n",
    "            dict(count=3, label=\"3y\", step=\"year\", stepmode=\"backward\"),\n",
    "            dict(count=5, label=\"5y\", step=\"year\", stepmode=\"backward\"),\n",
    "            dict(count=7, label=\"7y\", step=\"year\", stepmode=\"backward\"),\n",
    "            dict(count=10, label=\"10y\", step=\"year\", stepmode=\"backward\"),\n",
    "            dict(step=\"all\"),\n",
    "        ]\n",
    "    ),\n",
    ")\n",
    "\n",
    "fig.show()"
   ]
  },
  {
   "cell_type": "code",
   "execution_count": null,
   "metadata": {},
   "outputs": [],
   "source": []
  }
 ],
 "metadata": {
  "kernelspec": {
   "display_name": "vn-macroeconomics",
   "language": "python",
   "name": "python3"
  },
  "language_info": {
   "codemirror_mode": {
    "name": "ipython",
    "version": 3
   },
   "file_extension": ".py",
   "mimetype": "text/x-python",
   "name": "python",
   "nbconvert_exporter": "python",
   "pygments_lexer": "ipython3",
   "version": "3.9.16"
  },
  "orig_nbformat": 4
 },
 "nbformat": 4,
 "nbformat_minor": 2
}
