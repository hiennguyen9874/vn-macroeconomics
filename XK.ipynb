{
 "cells": [
  {
   "cell_type": "code",
   "execution_count": 1,
   "metadata": {},
   "outputs": [],
   "source": [
    "import pandas as pd\n",
    "import seaborn as sns\n",
    "from datetime import date"
   ]
  },
  {
   "cell_type": "code",
   "execution_count": 2,
   "metadata": {},
   "outputs": [],
   "source": [
    "def find_sheet_name(sheet_names):\n",
    "    iip_sheet_names = list(\n",
    "        filter(\n",
    "            lambda x: (\"gia\" not in x.lower() and \"csg\" not in x.lower())\n",
    "            and \"xk\" in x.lower()\n",
    "            and (\"thang\" in x.lower() or \"tháng\" in x.lower()),\n",
    "            sheet_names,\n",
    "        )\n",
    "    )\n",
    "\n",
    "    if len(iip_sheet_names) == 1:\n",
    "        return iip_sheet_names[0]\n",
    "\n",
    "    iip_sheet_names = list(\n",
    "        filter(\n",
    "            lambda x: (\"gia\" not in x.lower() and \"csg\" not in x.lower())\n",
    "            and (\"xuất khẩu\" in x.lower() or \"xuat khau\" in x.lower())\n",
    "            and (\"thang\" in x.lower() or \"tháng\" in x.lower()),\n",
    "            sheet_names,\n",
    "        )\n",
    "    )\n",
    "\n",
    "    if len(iip_sheet_names) == 1:\n",
    "        return iip_sheet_names[0]\n",
    "\n",
    "    iip_sheet_names = list(\n",
    "        filter(\n",
    "            lambda x: (\"gia\" not in x.lower() and \"csg\" not in x.lower())\n",
    "            and \"xk\" in x.lower(),\n",
    "            sheet_names,\n",
    "        )\n",
    "    )\n",
    "\n",
    "    if len(iip_sheet_names) == 1:\n",
    "        return iip_sheet_names[0]\n",
    "\n",
    "    iip_sheet_names = list(\n",
    "        filter(\n",
    "            lambda x: (\"gia\" not in x.lower() and \"csg\" not in x.lower())\n",
    "            and (\"xuất khẩu\" in x.lower() or \"xuat khau\" in x.lower()),\n",
    "            sheet_names,\n",
    "        )\n",
    "    )\n",
    "\n",
    "    if len(iip_sheet_names) == 1:\n",
    "        return iip_sheet_names[0]\n",
    "\n",
    "    if len(sheet_names) == 43:\n",
    "        return \"25\"\n",
    "\n",
    "    raise RuntimeError(sheet_names, iip_sheet_names)"
   ]
  },
  {
   "cell_type": "code",
   "execution_count": 3,
   "metadata": {},
   "outputs": [],
   "source": [
    "en_to_vn = {\n",
    "    \"TOTAL\": \"TỔNG TRỊ GIÁ\",\n",
    "    \"Domestic economic sector\": \"Khu vực kinh tế trong nước\",\n",
    "    \"FDI sector\": \"Khu vực có vốn đầu tư NN\",\n",
    "    \"Crude oil\": \"Dầu thô\",\n",
    "    \"Others\": \"Hàng hoá khác\",\n",
    "    \"MAIN ITEMS\": \"MẶT HÀNG CHỦ YẾU\",\n",
    "    \"Aquatic products\": \"Thủy sản\",\n",
    "    \"Vegetables and fruits\": \"Rau quả\",\n",
    "    \"Cashew nut\": \"Hạt điều\",\n",
    "    \"Coffee\": \"Cà phê\",\n",
    "    \"Tea\": \"Chè\",\n",
    "    \"Pepper\": \"Hạt tiêu\",\n",
    "    \"Rice\": \"Gạo\",\n",
    "    \"Cassava & products\": \"Sắn và sản phẩm của sắn\",\n",
    "    \"Clinker and cement\": \"Clanhke và xi măng\",\n",
    "    \"Crude oil\": \"Dầu thô\",\n",
    "    \"Petrol\": \"Xăng dầu\",\n",
    "    \"Chemicals\": \"Hóa chất\",\n",
    "    \"Chemical products\": \"Sản phẩm hóa chất\",\n",
    "    \"Plastic materials\": \"Chất dẻo nguyên liệu\",\n",
    "    \"Plastic products\": \"Sản phẩm từ chất dẻo\",\n",
    "    \"Rubber\": \"Cao su\",\n",
    "    \"Hand bags, wallets, suitcases, umbrellas\": \"Túi xách, ví, va li, mũ, ô dù\",\n",
    "    \"Wood and products\": \"Gỗ và sản phẩm gỗ\",\n",
    "    \"Paper and paper products\": \"Giấy và các sản phẩm từ giấy\",\n",
    "    \"Textile fibres\": \"Xơ, sợi dệt các loại\",\n",
    "    \"Textiles and garments\": \"Dệt, may\",\n",
    "    \"Shoes and sandals\": \"Giày dép\",\n",
    "    \"Auxiliary materials for textile, clothing, leather and footwear\": \"Nguyên phụ liệu dệt, may, da, giày\",\n",
    "    \"Precious stones, metals and products\": \"Đá quý, KL quý và sản phẩm\",\n",
    "    \"Iron, steel\": \"Sắt thép\",\n",
    "    \"Iron and steel products\": \"Sản phẩm từ sắt thép\",\n",
    "    \"Other basic metals and products\": \"Kim loại thường khác và sản phẩm\",\n",
    "    \"Electronic goods, computers and their parts\": \"Điện tử, máy tính và linh kiện\",\n",
    "    \"Phones all of kinds and their parts\": \"Điện thoại và linh kiện\",\n",
    "    \"Cameras, camcorders and their components\": \"Máy ảnh, máy quay phim và LK\",\n",
    "    \"Machinery, instrument, accessory\": \"Máy móc thiết bị, dụng cụ PT khác\",\n",
    "    \"Electrical wire and cable\": \"Dây điện và cáp điện\",\n",
    "    \"Means of transport and components\": \"Phương tiện vận tải và phụ tùng\",\n",
    "    \"Furniture made of non-wood materials\": \"Sản phẩm nội thất từ chất liệu khác gỗ\",\n",
    "    \"Toys, sports equipment and their parts\": \"Đồ chơi, dụng cụ thể thao và bộ phận\",\n",
    "}"
   ]
  },
  {
   "cell_type": "code",
   "execution_count": 4,
   "metadata": {},
   "outputs": [
    {
     "data": {
      "text/html": [
       "<div>\n",
       "<style scoped>\n",
       "    .dataframe tbody tr th:only-of-type {\n",
       "        vertical-align: middle;\n",
       "    }\n",
       "\n",
       "    .dataframe tbody tr th {\n",
       "        vertical-align: top;\n",
       "    }\n",
       "\n",
       "    .dataframe thead th {\n",
       "        text-align: right;\n",
       "    }\n",
       "</style>\n",
       "<table border=\"1\" class=\"dataframe\">\n",
       "  <thead>\n",
       "    <tr style=\"text-align: right;\">\n",
       "      <th></th>\n",
       "      <th>Ngành</th>\n",
       "      <th>Total-M</th>\n",
       "      <th>Total-YOY</th>\n",
       "      <th>YOY</th>\n",
       "      <th>YTD-YOY</th>\n",
       "      <th>Date</th>\n",
       "    </tr>\n",
       "  </thead>\n",
       "  <tbody>\n",
       "    <tr>\n",
       "      <th>0</th>\n",
       "      <td>TỔNG TRỊ GIÁ</td>\n",
       "      <td>32910</td>\n",
       "      <td>355500</td>\n",
       "      <td>13.106899</td>\n",
       "      <td>-4.362309</td>\n",
       "      <td>2023-12-29</td>\n",
       "    </tr>\n",
       "    <tr>\n",
       "      <th>1</th>\n",
       "      <td>Khu vực kinh tế trong nước</td>\n",
       "      <td>9437.972971</td>\n",
       "      <td>95552.058262</td>\n",
       "      <td>18.474801</td>\n",
       "      <td>-0.303102</td>\n",
       "      <td>2023-12-29</td>\n",
       "    </tr>\n",
       "    <tr>\n",
       "      <th>2</th>\n",
       "      <td>Khu vực có vốn đầu tư NN</td>\n",
       "      <td>23472.027029</td>\n",
       "      <td>259947.941738</td>\n",
       "      <td>11.083159</td>\n",
       "      <td>-5.772541</td>\n",
       "      <td>2023-12-29</td>\n",
       "    </tr>\n",
       "    <tr>\n",
       "      <th>3</th>\n",
       "      <td>Dầu thô</td>\n",
       "      <td>122.027029</td>\n",
       "      <td>1892.119201</td>\n",
       "      <td>-42.615834</td>\n",
       "      <td>-16.720892</td>\n",
       "      <td>2023-12-29</td>\n",
       "    </tr>\n",
       "    <tr>\n",
       "      <th>4</th>\n",
       "      <td>Hàng hoá khác</td>\n",
       "      <td>23350</td>\n",
       "      <td>258055.822537</td>\n",
       "      <td>11.629068</td>\n",
       "      <td>-5.681625</td>\n",
       "      <td>2023-12-29</td>\n",
       "    </tr>\n",
       "    <tr>\n",
       "      <th>6</th>\n",
       "      <td>Thủy sản</td>\n",
       "      <td>780</td>\n",
       "      <td>9010.130365</td>\n",
       "      <td>3.648471</td>\n",
       "      <td>-17.490706</td>\n",
       "      <td>2023-12-29</td>\n",
       "    </tr>\n",
       "    <tr>\n",
       "      <th>7</th>\n",
       "      <td>Rau quả</td>\n",
       "      <td>380</td>\n",
       "      <td>5574.263428</td>\n",
       "      <td>22.416399</td>\n",
       "      <td>65.883877</td>\n",
       "      <td>2023-12-29</td>\n",
       "    </tr>\n",
       "    <tr>\n",
       "      <th>8</th>\n",
       "      <td>Hạt điều</td>\n",
       "      <td>327.315906</td>\n",
       "      <td>3627.732638</td>\n",
       "      <td>21.733945</td>\n",
       "      <td>17.554688</td>\n",
       "      <td>2023-12-29</td>\n",
       "    </tr>\n",
       "    <tr>\n",
       "      <th>9</th>\n",
       "      <td>Cà phê</td>\n",
       "      <td>538.422502</td>\n",
       "      <td>4181.880047</td>\n",
       "      <td>26.428789</td>\n",
       "      <td>3.089797</td>\n",
       "      <td>2023-12-29</td>\n",
       "    </tr>\n",
       "    <tr>\n",
       "      <th>10</th>\n",
       "      <td>Chè</td>\n",
       "      <td>25.903919</td>\n",
       "      <td>210.773204</td>\n",
       "      <td>26.639287</td>\n",
       "      <td>-10.874728</td>\n",
       "      <td>2023-12-29</td>\n",
       "    </tr>\n",
       "    <tr>\n",
       "      <th>11</th>\n",
       "      <td>Hạt tiêu</td>\n",
       "      <td>78.851953</td>\n",
       "      <td>912.05018</td>\n",
       "      <td>7.302444</td>\n",
       "      <td>-6.027376</td>\n",
       "      <td>2023-12-29</td>\n",
       "    </tr>\n",
       "    <tr>\n",
       "      <th>12</th>\n",
       "      <td>Gạo</td>\n",
       "      <td>479.454578</td>\n",
       "      <td>4816.055251</td>\n",
       "      <td>117.675636</td>\n",
       "      <td>39.412352</td>\n",
       "      <td>2023-12-29</td>\n",
       "    </tr>\n",
       "    <tr>\n",
       "      <th>13</th>\n",
       "      <td>Sắn và sản phẩm của sắn</td>\n",
       "      <td>140.992358</td>\n",
       "      <td>1303.521193</td>\n",
       "      <td>-7.599581</td>\n",
       "      <td>-7.295546</td>\n",
       "      <td>2023-12-29</td>\n",
       "    </tr>\n",
       "    <tr>\n",
       "      <th>14</th>\n",
       "      <td>Clanhke và xi măng</td>\n",
       "      <td>103.616864</td>\n",
       "      <td>1331.469868</td>\n",
       "      <td>-15.885958</td>\n",
       "      <td>-3.752622</td>\n",
       "      <td>2023-12-29</td>\n",
       "    </tr>\n",
       "    <tr>\n",
       "      <th>15</th>\n",
       "      <td>Dầu thô</td>\n",
       "      <td>122.027029</td>\n",
       "      <td>1892.119201</td>\n",
       "      <td>-42.615834</td>\n",
       "      <td>-16.720892</td>\n",
       "      <td>2023-12-29</td>\n",
       "    </tr>\n",
       "    <tr>\n",
       "      <th>16</th>\n",
       "      <td>Xăng dầu</td>\n",
       "      <td>234.906514</td>\n",
       "      <td>2014.552477</td>\n",
       "      <td>-1.669023</td>\n",
       "      <td>-1.518105</td>\n",
       "      <td>2023-12-29</td>\n",
       "    </tr>\n",
       "    <tr>\n",
       "      <th>17</th>\n",
       "      <td>Hóa chất</td>\n",
       "      <td>300</td>\n",
       "      <td>2488.460358</td>\n",
       "      <td>42.794595</td>\n",
       "      <td>-19.406396</td>\n",
       "      <td>2023-12-29</td>\n",
       "    </tr>\n",
       "    <tr>\n",
       "      <th>18</th>\n",
       "      <td>Sản phẩm hóa chất</td>\n",
       "      <td>240</td>\n",
       "      <td>2447.345613</td>\n",
       "      <td>9.119467</td>\n",
       "      <td>-2.459479</td>\n",
       "      <td>2023-12-29</td>\n",
       "    </tr>\n",
       "    <tr>\n",
       "      <th>19</th>\n",
       "      <td>Chất dẻo nguyên liệu</td>\n",
       "      <td>198.563867</td>\n",
       "      <td>2166.828552</td>\n",
       "      <td>-0.149502</td>\n",
       "      <td>-6.17442</td>\n",
       "      <td>2023-12-29</td>\n",
       "    </tr>\n",
       "    <tr>\n",
       "      <th>20</th>\n",
       "      <td>Sản phẩm từ chất dẻo</td>\n",
       "      <td>550</td>\n",
       "      <td>5225.949814</td>\n",
       "      <td>21.134534</td>\n",
       "      <td>-4.866447</td>\n",
       "      <td>2023-12-29</td>\n",
       "    </tr>\n",
       "    <tr>\n",
       "      <th>21</th>\n",
       "      <td>Cao su</td>\n",
       "      <td>404.807872</td>\n",
       "      <td>2923.197359</td>\n",
       "      <td>10.82573</td>\n",
       "      <td>-11.845095</td>\n",
       "      <td>2023-12-29</td>\n",
       "    </tr>\n",
       "    <tr>\n",
       "      <th>22</th>\n",
       "      <td>Túi xách, ví, va li, mũ, ô dù</td>\n",
       "      <td>350</td>\n",
       "      <td>3767.922781</td>\n",
       "      <td>3.446867</td>\n",
       "      <td>-8.089429</td>\n",
       "      <td>2023-12-29</td>\n",
       "    </tr>\n",
       "    <tr>\n",
       "      <th>23</th>\n",
       "      <td>Gỗ và sản phẩm gỗ</td>\n",
       "      <td>1300</td>\n",
       "      <td>13423.935985</td>\n",
       "      <td>-0.879179</td>\n",
       "      <td>-16.170378</td>\n",
       "      <td>2023-12-29</td>\n",
       "    </tr>\n",
       "    <tr>\n",
       "      <th>24</th>\n",
       "      <td>Giấy và các sản phẩm từ giấy</td>\n",
       "      <td>165</td>\n",
       "      <td>2088.388508</td>\n",
       "      <td>0.342377</td>\n",
       "      <td>9.47794</td>\n",
       "      <td>2023-12-29</td>\n",
       "    </tr>\n",
       "    <tr>\n",
       "      <th>25</th>\n",
       "      <td>Xơ, sợi dệt các loại</td>\n",
       "      <td>740.280631</td>\n",
       "      <td>4735.141947</td>\n",
       "      <td>127.736411</td>\n",
       "      <td>0.456039</td>\n",
       "      <td>2023-12-29</td>\n",
       "    </tr>\n",
       "    <tr>\n",
       "      <th>26</th>\n",
       "      <td>Dệt, may</td>\n",
       "      <td>2800</td>\n",
       "      <td>33226.195407</td>\n",
       "      <td>-4.223667</td>\n",
       "      <td>-11.640025</td>\n",
       "      <td>2023-12-29</td>\n",
       "    </tr>\n",
       "    <tr>\n",
       "      <th>27</th>\n",
       "      <td>Giày dép</td>\n",
       "      <td>2000</td>\n",
       "      <td>20374.330758</td>\n",
       "      <td>8.037815</td>\n",
       "      <td>-14.732488</td>\n",
       "      <td>2023-12-29</td>\n",
       "    </tr>\n",
       "    <tr>\n",
       "      <th>28</th>\n",
       "      <td>Nguyên phụ liệu dệt, may, da, giày</td>\n",
       "      <td>160</td>\n",
       "      <td>1947.634722</td>\n",
       "      <td>-7.127134</td>\n",
       "      <td>-13.127275</td>\n",
       "      <td>2023-12-29</td>\n",
       "    </tr>\n",
       "    <tr>\n",
       "      <th>29</th>\n",
       "      <td>Sắt thép</td>\n",
       "      <td>740.280631</td>\n",
       "      <td>8324.309122</td>\n",
       "      <td>27.684627</td>\n",
       "      <td>4.199291</td>\n",
       "      <td>2023-12-29</td>\n",
       "    </tr>\n",
       "    <tr>\n",
       "      <th>30</th>\n",
       "      <td>Sản phẩm từ sắt thép</td>\n",
       "      <td>350</td>\n",
       "      <td>4002.766352</td>\n",
       "      <td>-3.317219</td>\n",
       "      <td>-13.892053</td>\n",
       "      <td>2023-12-29</td>\n",
       "    </tr>\n",
       "    <tr>\n",
       "      <th>31</th>\n",
       "      <td>Kim loại thường khác và sản phẩm</td>\n",
       "      <td>310</td>\n",
       "      <td>3979.003149</td>\n",
       "      <td>-18.409219</td>\n",
       "      <td>-12.210949</td>\n",
       "      <td>2023-12-29</td>\n",
       "    </tr>\n",
       "    <tr>\n",
       "      <th>32</th>\n",
       "      <td>Điện tử, máy tính và linh kiện</td>\n",
       "      <td>5700</td>\n",
       "      <td>57340.290963</td>\n",
       "      <td>19.156145</td>\n",
       "      <td>3.255905</td>\n",
       "      <td>2023-12-29</td>\n",
       "    </tr>\n",
       "    <tr>\n",
       "      <th>33</th>\n",
       "      <td>Điện thoại và linh kiện</td>\n",
       "      <td>4700</td>\n",
       "      <td>53187.71296</td>\n",
       "      <td>51.49729</td>\n",
       "      <td>-8.284823</td>\n",
       "      <td>2023-12-29</td>\n",
       "    </tr>\n",
       "    <tr>\n",
       "      <th>34</th>\n",
       "      <td>Máy ảnh, máy quay phim và LK</td>\n",
       "      <td>900</td>\n",
       "      <td>7685.357498</td>\n",
       "      <td>78.280204</td>\n",
       "      <td>20.565971</td>\n",
       "      <td>2023-12-29</td>\n",
       "    </tr>\n",
       "    <tr>\n",
       "      <th>35</th>\n",
       "      <td>Máy móc thiết bị, dụng cụ PT khác</td>\n",
       "      <td>3900</td>\n",
       "      <td>43176.243874</td>\n",
       "      <td>4.686308</td>\n",
       "      <td>-5.620127</td>\n",
       "      <td>2023-12-29</td>\n",
       "    </tr>\n",
       "    <tr>\n",
       "      <th>36</th>\n",
       "      <td>Dây điện và cáp điện</td>\n",
       "      <td>300</td>\n",
       "      <td>3357.532184</td>\n",
       "      <td>4.691823</td>\n",
       "      <td>-1.428086</td>\n",
       "      <td>2023-12-29</td>\n",
       "    </tr>\n",
       "    <tr>\n",
       "      <th>37</th>\n",
       "      <td>Phương tiện vận tải và phụ tùng</td>\n",
       "      <td>1120</td>\n",
       "      <td>13739.648111</td>\n",
       "      <td>0.084464</td>\n",
       "      <td>14.605899</td>\n",
       "      <td>2023-12-29</td>\n",
       "    </tr>\n",
       "    <tr>\n",
       "      <th>38</th>\n",
       "      <td>SP nội thất từ chất liệu khác gỗ</td>\n",
       "      <td>260</td>\n",
       "      <td>2533.450172</td>\n",
       "      <td>-0.585331</td>\n",
       "      <td>-9.328724</td>\n",
       "      <td>2023-12-29</td>\n",
       "    </tr>\n",
       "    <tr>\n",
       "      <th>39</th>\n",
       "      <td>Đồ chơi, dụng cụ thể thao và bộ phận</td>\n",
       "      <td>220</td>\n",
       "      <td>3632.975373</td>\n",
       "      <td>-45.392848</td>\n",
       "      <td>-14.225331</td>\n",
       "      <td>2023-12-29</td>\n",
       "    </tr>\n",
       "  </tbody>\n",
       "</table>\n",
       "</div>"
      ],
      "text/plain": [
       "                                   Ngành       Total-M      Total-YOY  \\\n",
       "0                           TỔNG TRỊ GIÁ         32910         355500   \n",
       "1             Khu vực kinh tế trong nước   9437.972971   95552.058262   \n",
       "2               Khu vực có vốn đầu tư NN  23472.027029  259947.941738   \n",
       "3                                Dầu thô    122.027029    1892.119201   \n",
       "4                          Hàng hoá khác         23350  258055.822537   \n",
       "6                               Thủy sản           780    9010.130365   \n",
       "7                                Rau quả           380    5574.263428   \n",
       "8                               Hạt điều    327.315906    3627.732638   \n",
       "9                                 Cà phê    538.422502    4181.880047   \n",
       "10                                   Chè     25.903919     210.773204   \n",
       "11                              Hạt tiêu     78.851953      912.05018   \n",
       "12                                   Gạo    479.454578    4816.055251   \n",
       "13               Sắn và sản phẩm của sắn    140.992358    1303.521193   \n",
       "14                    Clanhke và xi măng    103.616864    1331.469868   \n",
       "15                               Dầu thô    122.027029    1892.119201   \n",
       "16                              Xăng dầu    234.906514    2014.552477   \n",
       "17                              Hóa chất           300    2488.460358   \n",
       "18                     Sản phẩm hóa chất           240    2447.345613   \n",
       "19                  Chất dẻo nguyên liệu    198.563867    2166.828552   \n",
       "20                  Sản phẩm từ chất dẻo           550    5225.949814   \n",
       "21                                Cao su    404.807872    2923.197359   \n",
       "22         Túi xách, ví, va li, mũ, ô dù           350    3767.922781   \n",
       "23                     Gỗ và sản phẩm gỗ          1300   13423.935985   \n",
       "24          Giấy và các sản phẩm từ giấy           165    2088.388508   \n",
       "25                  Xơ, sợi dệt các loại    740.280631    4735.141947   \n",
       "26                              Dệt, may          2800   33226.195407   \n",
       "27                              Giày dép          2000   20374.330758   \n",
       "28    Nguyên phụ liệu dệt, may, da, giày           160    1947.634722   \n",
       "29                              Sắt thép    740.280631    8324.309122   \n",
       "30                  Sản phẩm từ sắt thép           350    4002.766352   \n",
       "31      Kim loại thường khác và sản phẩm           310    3979.003149   \n",
       "32        Điện tử, máy tính và linh kiện          5700   57340.290963   \n",
       "33               Điện thoại và linh kiện          4700    53187.71296   \n",
       "34          Máy ảnh, máy quay phim và LK           900    7685.357498   \n",
       "35     Máy móc thiết bị, dụng cụ PT khác          3900   43176.243874   \n",
       "36                  Dây điện và cáp điện           300    3357.532184   \n",
       "37       Phương tiện vận tải và phụ tùng          1120   13739.648111   \n",
       "38      SP nội thất từ chất liệu khác gỗ           260    2533.450172   \n",
       "39  Đồ chơi, dụng cụ thể thao và bộ phận           220    3632.975373   \n",
       "\n",
       "           YOY    YTD-YOY       Date  \n",
       "0    13.106899  -4.362309 2023-12-29  \n",
       "1    18.474801  -0.303102 2023-12-29  \n",
       "2    11.083159  -5.772541 2023-12-29  \n",
       "3   -42.615834 -16.720892 2023-12-29  \n",
       "4    11.629068  -5.681625 2023-12-29  \n",
       "6     3.648471 -17.490706 2023-12-29  \n",
       "7    22.416399  65.883877 2023-12-29  \n",
       "8    21.733945  17.554688 2023-12-29  \n",
       "9    26.428789   3.089797 2023-12-29  \n",
       "10   26.639287 -10.874728 2023-12-29  \n",
       "11    7.302444  -6.027376 2023-12-29  \n",
       "12  117.675636  39.412352 2023-12-29  \n",
       "13   -7.599581  -7.295546 2023-12-29  \n",
       "14  -15.885958  -3.752622 2023-12-29  \n",
       "15  -42.615834 -16.720892 2023-12-29  \n",
       "16   -1.669023  -1.518105 2023-12-29  \n",
       "17   42.794595 -19.406396 2023-12-29  \n",
       "18    9.119467  -2.459479 2023-12-29  \n",
       "19   -0.149502   -6.17442 2023-12-29  \n",
       "20   21.134534  -4.866447 2023-12-29  \n",
       "21    10.82573 -11.845095 2023-12-29  \n",
       "22    3.446867  -8.089429 2023-12-29  \n",
       "23   -0.879179 -16.170378 2023-12-29  \n",
       "24    0.342377    9.47794 2023-12-29  \n",
       "25  127.736411   0.456039 2023-12-29  \n",
       "26   -4.223667 -11.640025 2023-12-29  \n",
       "27    8.037815 -14.732488 2023-12-29  \n",
       "28   -7.127134 -13.127275 2023-12-29  \n",
       "29   27.684627   4.199291 2023-12-29  \n",
       "30   -3.317219 -13.892053 2023-12-29  \n",
       "31  -18.409219 -12.210949 2023-12-29  \n",
       "32   19.156145   3.255905 2023-12-29  \n",
       "33    51.49729  -8.284823 2023-12-29  \n",
       "34   78.280204  20.565971 2023-12-29  \n",
       "35    4.686308  -5.620127 2023-12-29  \n",
       "36    4.691823  -1.428086 2023-12-29  \n",
       "37    0.084464  14.605899 2023-12-29  \n",
       "38   -0.585331  -9.328724 2023-12-29  \n",
       "39  -45.392848 -14.225331 2023-12-29  "
      ]
     },
     "execution_count": 4,
     "metadata": {},
     "output_type": "execute_result"
    }
   ],
   "source": [
    "def get_xk(xl, sheet_name, date):\n",
    "    df = xl.parse(sheet_name)\n",
    "\n",
    "    df = df.dropna(axis=1, how=\"all\")\n",
    "\n",
    "    if (\n",
    "        len(\n",
    "            df[df.columns[1]][\n",
    "                (df[df.columns[1]] == \"Khu vực kinh tế trong nước\")\n",
    "                | (df[df.columns[1]] == \"Gạo\")\n",
    "                | (df[df.columns[1]] == \"Rice\")\n",
    "            ].index\n",
    "        )\n",
    "        > 0\n",
    "    ):\n",
    "        df[df.columns[1]] = df[df.columns[1]].fillna(df[df.columns[0]])\n",
    "        df = df.drop(columns=[df.columns[0]])\n",
    "\n",
    "    df[df.columns[0]] = (\n",
    "        df[df.columns[0]]\n",
    "        .replace(r\"\\s+\", \" \", regex=True)\n",
    "        .replace(r\"\\n\", \" \", regex=True)\n",
    "    )\n",
    "\n",
    "    df[df.columns[0]] = df[df.columns[0]].str.strip()\n",
    "\n",
    "    df = df.reset_index(drop=True)\n",
    "\n",
    "    df = df.drop(\n",
    "        list(\n",
    "            range(\n",
    "                df[df.columns[0]][\n",
    "                    (df[df.columns[0]] == \"TỔNG TRỊ GIÁ\")\n",
    "                    | ((df[df.columns[0]] == \"TOTAL\"))\n",
    "                    | ((df[df.columns[0]] == \"TỔNG TRỊ GIÁ (*)\"))\n",
    "                    | ((df[df.columns[0]] == \"TỔNG TRỊ GIÁ(*)\"))\n",
    "                ].index[0]\n",
    "            )\n",
    "        )\n",
    "    )\n",
    "\n",
    "    df = df.reset_index(drop=True)\n",
    "\n",
    "    if len(df[df.columns[0]][df[df.columns[0]] == \"TOTAL\"].index) > 0:\n",
    "        df[df.columns[0]] = df[df.columns[0]].map(en_to_vn)\n",
    "\n",
    "    if len(df.columns) > 12:\n",
    "        df = df.drop(\n",
    "            columns=[\n",
    "                df.columns[idx_column] for idx_column in range(12, len(df.columns))\n",
    "            ]\n",
    "        )\n",
    "\n",
    "    total_row = df[df.columns[0]][\n",
    "        (df[df.columns[0]] == \"TỔNG TRỊ GIÁ\")\n",
    "        | ((df[df.columns[0]] == \"TOTAL\"))\n",
    "        | ((df[df.columns[0]] == \"TỔNG TRỊ GIÁ (*)\"))\n",
    "        | ((df[df.columns[0]] == \"TỔNG TRỊ GIÁ(*)\"))\n",
    "    ].index[0]\n",
    "\n",
    "    columns_is_nan = [\n",
    "        df.columns[idx_column]\n",
    "        for idx_column, is_nan in enumerate(df.loc[total_row].isnull())\n",
    "        if is_nan == True\n",
    "    ]\n",
    "\n",
    "    df = df.drop(columns=columns_is_nan)\n",
    "\n",
    "    if len(df.columns) > 5:\n",
    "        df = df.drop(\n",
    "            columns=[df.columns[idx_column] for idx_column in range(5, len(df.columns))]\n",
    "        )\n",
    "\n",
    "    if int(date.split(\"-\")[0]) > 2018 or (\n",
    "        int(date.split(\"-\")[0]) == 2018 and int(date.split(\"-\")[1]) > 8\n",
    "    ):\n",
    "        if len(df.columns) == 5:\n",
    "            df.columns = [\"Ngành\", \"Total-M\", \"Total-YOY\", \"YOY\", \"YTD-YOY\"]\n",
    "        elif len(df.columns) == 4 and int(date.split(\"-\")[1]) == 1:\n",
    "            df = df.drop(columns=[df.columns[1]])\n",
    "            df.columns = [\"Ngành\", \"Total-M\", \"YOY\"]\n",
    "            df[\"Total-YOY\"] = df[\"Total-M\"]\n",
    "            df[\"YTD-YOY\"] = df[\"YOY\"]\n",
    "\n",
    "        assert len(df.columns) == 5, df.columns\n",
    "\n",
    "        df = df[df[\"Total-M\"].notna()]\n",
    "        df = df[df[\"Total-YOY\"].notna()]\n",
    "        df = df[df[\"YOY\"].notna()]\n",
    "        df = df[df[\"YTD-YOY\"].notna()]\n",
    "\n",
    "        df[\"YOY\"] = df[\"YOY\"] - 100\n",
    "        df[\"YTD-YOY\"] = df[\"YTD-YOY\"] - 100\n",
    "    else:\n",
    "        df = df.drop(columns=[df.columns[1]])\n",
    "\n",
    "        if len(df.columns) == 4:\n",
    "            df.columns = [\"Ngành\", \"Total-M\", \"Total-YOY\", \"YTD-YOY\"]\n",
    "\n",
    "        assert len(df.columns) == 4, df.columns\n",
    "\n",
    "        df = df[df[\"Total-M\"].notna()]\n",
    "        df = df[df[\"Total-YOY\"].notna()]\n",
    "        df = df[df[\"YTD-YOY\"].notna()]\n",
    "\n",
    "        df[\"YTD-YOY\"] = df[\"YTD-YOY\"] - 100\n",
    "\n",
    "    df[\"Date\"] = date\n",
    "    df[\"Date\"] = pd.to_datetime(df[\"Date\"], dayfirst=False)\n",
    "\n",
    "    return df\n",
    "\n",
    "\n",
    "xl = pd.ExcelFile(\"datas/2023-12-29-02.Bieu-T12.2023.xlsx\")\n",
    "\n",
    "get_xk(xl, find_sheet_name(xl.sheet_names), \"2023-12-29\")"
   ]
  },
  {
   "cell_type": "code",
   "execution_count": 5,
   "metadata": {},
   "outputs": [],
   "source": [
    "import os\n",
    "import contextlib\n",
    "\n",
    "dfs_xk_origin = []\n",
    "for file_name in sorted(\n",
    "    os.listdir(\"./datas\"),\n",
    "    key=lambda filename: f\"{filename.split('-')[0]}-{filename.split('-')[1]}-{filename.split('-')[2]}\",\n",
    "    reverse=True,\n",
    "):\n",
    "    if file_name.startswith(\".~\"):\n",
    "        continue\n",
    "\n",
    "    try:\n",
    "        file_path = os.path.join(\"./datas\", file_name)\n",
    "\n",
    "        year = int(file_name.split(\"-\")[0])\n",
    "        month = int(file_name.split(\"-\")[1])\n",
    "        day = int(file_name.split(\"-\")[2])\n",
    "\n",
    "        if year < 2019:\n",
    "            continue\n",
    "\n",
    "        xl = pd.ExcelFile(file_path)\n",
    "\n",
    "        df_xk = get_xk(xl, find_sheet_name(xl.sheet_names), f\"{year}-{month}-{day}\")\n",
    "\n",
    "        dfs_xk_origin.append(df_xk)\n",
    "    except Exception as e:\n",
    "        print(file_name)\n",
    "        raise e"
   ]
  },
  {
   "cell_type": "code",
   "execution_count": 6,
   "metadata": {},
   "outputs": [
    {
     "data": {
      "text/html": [
       "<div>\n",
       "<style scoped>\n",
       "    .dataframe tbody tr th:only-of-type {\n",
       "        vertical-align: middle;\n",
       "    }\n",
       "\n",
       "    .dataframe tbody tr th {\n",
       "        vertical-align: top;\n",
       "    }\n",
       "\n",
       "    .dataframe thead th {\n",
       "        text-align: right;\n",
       "    }\n",
       "</style>\n",
       "<table border=\"1\" class=\"dataframe\">\n",
       "  <thead>\n",
       "    <tr style=\"text-align: right;\">\n",
       "      <th></th>\n",
       "      <th>Ngành</th>\n",
       "      <th>Total-M</th>\n",
       "      <th>YOY</th>\n",
       "      <th>Total-YOY</th>\n",
       "      <th>YTD-YOY</th>\n",
       "      <th>Date</th>\n",
       "    </tr>\n",
       "  </thead>\n",
       "  <tbody>\n",
       "    <tr>\n",
       "      <th>0</th>\n",
       "      <td>TỔNG TRỊ GIÁ</td>\n",
       "      <td>15085.158081</td>\n",
       "      <td>4.059436</td>\n",
       "      <td>15085.158081</td>\n",
       "      <td>4.059436</td>\n",
       "      <td>2024-01-29</td>\n",
       "    </tr>\n",
       "    <tr>\n",
       "      <th>1</th>\n",
       "      <td>Khu vực kinh tế trong nước</td>\n",
       "      <td>4024.51937</td>\n",
       "      <td>10.402812</td>\n",
       "      <td>4024.51937</td>\n",
       "      <td>10.402812</td>\n",
       "      <td>2024-01-29</td>\n",
       "    </tr>\n",
       "    <tr>\n",
       "      <th>2</th>\n",
       "      <td>Khu vực có vốn đầu tư NN</td>\n",
       "      <td>11060.638711</td>\n",
       "      <td>1.928503</td>\n",
       "      <td>11060.638711</td>\n",
       "      <td>1.928503</td>\n",
       "      <td>2024-01-29</td>\n",
       "    </tr>\n",
       "    <tr>\n",
       "      <th>3</th>\n",
       "      <td>Dầu thô</td>\n",
       "      <td>56.41983</td>\n",
       "      <td>20.877703</td>\n",
       "      <td>56.41983</td>\n",
       "      <td>20.877703</td>\n",
       "      <td>2024-01-29</td>\n",
       "    </tr>\n",
       "    <tr>\n",
       "      <th>4</th>\n",
       "      <td>Hàng hoá khác</td>\n",
       "      <td>11004.218881</td>\n",
       "      <td>1.846645</td>\n",
       "      <td>11004.218881</td>\n",
       "      <td>1.846645</td>\n",
       "      <td>2024-01-29</td>\n",
       "    </tr>\n",
       "    <tr>\n",
       "      <th>...</th>\n",
       "      <td>...</td>\n",
       "      <td>...</td>\n",
       "      <td>...</td>\n",
       "      <td>...</td>\n",
       "      <td>...</td>\n",
       "      <td>...</td>\n",
       "    </tr>\n",
       "    <tr>\n",
       "      <th>2323</th>\n",
       "      <td>Máy móc thiết bị, dụng cụ PT khác</td>\n",
       "      <td>1400</td>\n",
       "      <td>15.160937</td>\n",
       "      <td>1400</td>\n",
       "      <td>15.160937</td>\n",
       "      <td>2019-01-29</td>\n",
       "    </tr>\n",
       "    <tr>\n",
       "      <th>2324</th>\n",
       "      <td>Dây điện và cáp điện</td>\n",
       "      <td>130</td>\n",
       "      <td>-16.122337</td>\n",
       "      <td>130</td>\n",
       "      <td>-16.122337</td>\n",
       "      <td>2019-01-29</td>\n",
       "    </tr>\n",
       "    <tr>\n",
       "      <th>2325</th>\n",
       "      <td>Phương tiện vận tải và phụ tùng</td>\n",
       "      <td>800</td>\n",
       "      <td>4.933304</td>\n",
       "      <td>800</td>\n",
       "      <td>4.933304</td>\n",
       "      <td>2019-01-29</td>\n",
       "    </tr>\n",
       "    <tr>\n",
       "      <th>2326</th>\n",
       "      <td>Sản phẩm nội thất từ chất liệu khác gỗ</td>\n",
       "      <td>130</td>\n",
       "      <td>4.761733</td>\n",
       "      <td>130</td>\n",
       "      <td>4.761733</td>\n",
       "      <td>2019-01-29</td>\n",
       "    </tr>\n",
       "    <tr>\n",
       "      <th>2327</th>\n",
       "      <td>Đồ chơi, dụng cụ thể thao và bộ phận</td>\n",
       "      <td>115</td>\n",
       "      <td>-0.646574</td>\n",
       "      <td>115</td>\n",
       "      <td>-0.646574</td>\n",
       "      <td>2019-01-29</td>\n",
       "    </tr>\n",
       "  </tbody>\n",
       "</table>\n",
       "<p>2328 rows × 6 columns</p>\n",
       "</div>"
      ],
      "text/plain": [
       "                                       Ngành       Total-M        YOY  \\\n",
       "0                               TỔNG TRỊ GIÁ  15085.158081   4.059436   \n",
       "1                 Khu vực kinh tế trong nước    4024.51937  10.402812   \n",
       "2                   Khu vực có vốn đầu tư NN  11060.638711   1.928503   \n",
       "3                                    Dầu thô      56.41983  20.877703   \n",
       "4                              Hàng hoá khác  11004.218881   1.846645   \n",
       "...                                      ...           ...        ...   \n",
       "2323       Máy móc thiết bị, dụng cụ PT khác          1400  15.160937   \n",
       "2324                    Dây điện và cáp điện           130 -16.122337   \n",
       "2325         Phương tiện vận tải và phụ tùng           800   4.933304   \n",
       "2326  Sản phẩm nội thất từ chất liệu khác gỗ           130   4.761733   \n",
       "2327    Đồ chơi, dụng cụ thể thao và bộ phận           115  -0.646574   \n",
       "\n",
       "         Total-YOY    YTD-YOY       Date  \n",
       "0     15085.158081   4.059436 2024-01-29  \n",
       "1       4024.51937  10.402812 2024-01-29  \n",
       "2     11060.638711   1.928503 2024-01-29  \n",
       "3         56.41983  20.877703 2024-01-29  \n",
       "4     11004.218881   1.846645 2024-01-29  \n",
       "...            ...        ...        ...  \n",
       "2323          1400  15.160937 2019-01-29  \n",
       "2324           130 -16.122337 2019-01-29  \n",
       "2325           800   4.933304 2019-01-29  \n",
       "2326           130   4.761733 2019-01-29  \n",
       "2327           115  -0.646574 2019-01-29  \n",
       "\n",
       "[2328 rows x 6 columns]"
      ]
     },
     "execution_count": 6,
     "metadata": {},
     "output_type": "execute_result"
    }
   ],
   "source": [
    "dfs_xk = pd.concat(dfs_xk_origin, ignore_index=True, axis=0)\n",
    "dfs_xk[\"Date\"] = pd.to_datetime(dfs_xk[\"Date\"], dayfirst=False)\n",
    "dfs_xk"
   ]
  },
  {
   "cell_type": "code",
   "execution_count": 7,
   "metadata": {},
   "outputs": [
    {
     "data": {
      "text/html": [
       "<div>\n",
       "<style scoped>\n",
       "    .dataframe tbody tr th:only-of-type {\n",
       "        vertical-align: middle;\n",
       "    }\n",
       "\n",
       "    .dataframe tbody tr th {\n",
       "        vertical-align: top;\n",
       "    }\n",
       "\n",
       "    .dataframe thead th {\n",
       "        text-align: right;\n",
       "    }\n",
       "</style>\n",
       "<table border=\"1\" class=\"dataframe\">\n",
       "  <thead>\n",
       "    <tr style=\"text-align: right;\">\n",
       "      <th></th>\n",
       "      <th>Ngành</th>\n",
       "      <th>Total-M</th>\n",
       "      <th>YOY</th>\n",
       "      <th>Total-YOY</th>\n",
       "      <th>YTD-YOY</th>\n",
       "      <th>Date</th>\n",
       "    </tr>\n",
       "  </thead>\n",
       "  <tbody>\n",
       "    <tr>\n",
       "      <th>0</th>\n",
       "      <td>TỔNG TRỊ GIÁ</td>\n",
       "      <td>15085.158081</td>\n",
       "      <td>4.059436</td>\n",
       "      <td>15085.158081</td>\n",
       "      <td>4.059436</td>\n",
       "      <td>2024-01-29</td>\n",
       "    </tr>\n",
       "    <tr>\n",
       "      <th>1</th>\n",
       "      <td>Khu vực kinh tế trong nước</td>\n",
       "      <td>4024.51937</td>\n",
       "      <td>10.402812</td>\n",
       "      <td>4024.51937</td>\n",
       "      <td>10.402812</td>\n",
       "      <td>2024-01-29</td>\n",
       "    </tr>\n",
       "    <tr>\n",
       "      <th>2</th>\n",
       "      <td>Khu vực có vốn đầu tư NN</td>\n",
       "      <td>11060.638711</td>\n",
       "      <td>1.928503</td>\n",
       "      <td>11060.638711</td>\n",
       "      <td>1.928503</td>\n",
       "      <td>2024-01-29</td>\n",
       "    </tr>\n",
       "    <tr>\n",
       "      <th>3</th>\n",
       "      <td>Dầu thô</td>\n",
       "      <td>56.41983</td>\n",
       "      <td>20.877703</td>\n",
       "      <td>56.41983</td>\n",
       "      <td>20.877703</td>\n",
       "      <td>2024-01-29</td>\n",
       "    </tr>\n",
       "    <tr>\n",
       "      <th>4</th>\n",
       "      <td>Hàng hoá khác</td>\n",
       "      <td>11004.218881</td>\n",
       "      <td>1.846645</td>\n",
       "      <td>11004.218881</td>\n",
       "      <td>1.846645</td>\n",
       "      <td>2024-01-29</td>\n",
       "    </tr>\n",
       "    <tr>\n",
       "      <th>...</th>\n",
       "      <td>...</td>\n",
       "      <td>...</td>\n",
       "      <td>...</td>\n",
       "      <td>...</td>\n",
       "      <td>...</td>\n",
       "      <td>...</td>\n",
       "    </tr>\n",
       "    <tr>\n",
       "      <th>2323</th>\n",
       "      <td>Máy móc thiết bị, dụng cụ PT khác</td>\n",
       "      <td>1400</td>\n",
       "      <td>15.160937</td>\n",
       "      <td>1400</td>\n",
       "      <td>15.160937</td>\n",
       "      <td>2019-01-29</td>\n",
       "    </tr>\n",
       "    <tr>\n",
       "      <th>2324</th>\n",
       "      <td>Dây điện và cáp điện</td>\n",
       "      <td>130</td>\n",
       "      <td>-16.122337</td>\n",
       "      <td>130</td>\n",
       "      <td>-16.122337</td>\n",
       "      <td>2019-01-29</td>\n",
       "    </tr>\n",
       "    <tr>\n",
       "      <th>2325</th>\n",
       "      <td>Phương tiện vận tải và phụ tùng</td>\n",
       "      <td>800</td>\n",
       "      <td>4.933304</td>\n",
       "      <td>800</td>\n",
       "      <td>4.933304</td>\n",
       "      <td>2019-01-29</td>\n",
       "    </tr>\n",
       "    <tr>\n",
       "      <th>2326</th>\n",
       "      <td>SP nội thất từ chất liệu khác gỗ</td>\n",
       "      <td>130</td>\n",
       "      <td>4.761733</td>\n",
       "      <td>130</td>\n",
       "      <td>4.761733</td>\n",
       "      <td>2019-01-29</td>\n",
       "    </tr>\n",
       "    <tr>\n",
       "      <th>2327</th>\n",
       "      <td>Đồ chơi, dụng cụ thể thao và bộ phận</td>\n",
       "      <td>115</td>\n",
       "      <td>-0.646574</td>\n",
       "      <td>115</td>\n",
       "      <td>-0.646574</td>\n",
       "      <td>2019-01-29</td>\n",
       "    </tr>\n",
       "  </tbody>\n",
       "</table>\n",
       "<p>2328 rows × 6 columns</p>\n",
       "</div>"
      ],
      "text/plain": [
       "                                     Ngành       Total-M        YOY  \\\n",
       "0                             TỔNG TRỊ GIÁ  15085.158081   4.059436   \n",
       "1               Khu vực kinh tế trong nước    4024.51937  10.402812   \n",
       "2                 Khu vực có vốn đầu tư NN  11060.638711   1.928503   \n",
       "3                                  Dầu thô      56.41983  20.877703   \n",
       "4                            Hàng hoá khác  11004.218881   1.846645   \n",
       "...                                    ...           ...        ...   \n",
       "2323     Máy móc thiết bị, dụng cụ PT khác          1400  15.160937   \n",
       "2324                  Dây điện và cáp điện           130 -16.122337   \n",
       "2325       Phương tiện vận tải và phụ tùng           800   4.933304   \n",
       "2326      SP nội thất từ chất liệu khác gỗ           130   4.761733   \n",
       "2327  Đồ chơi, dụng cụ thể thao và bộ phận           115  -0.646574   \n",
       "\n",
       "         Total-YOY    YTD-YOY       Date  \n",
       "0     15085.158081   4.059436 2024-01-29  \n",
       "1       4024.51937  10.402812 2024-01-29  \n",
       "2     11060.638711   1.928503 2024-01-29  \n",
       "3         56.41983  20.877703 2024-01-29  \n",
       "4     11004.218881   1.846645 2024-01-29  \n",
       "...            ...        ...        ...  \n",
       "2323          1400  15.160937 2019-01-29  \n",
       "2324           130 -16.122337 2019-01-29  \n",
       "2325           800   4.933304 2019-01-29  \n",
       "2326           130   4.761733 2019-01-29  \n",
       "2327           115  -0.646574 2019-01-29  \n",
       "\n",
       "[2328 rows x 6 columns]"
      ]
     },
     "execution_count": 7,
     "metadata": {},
     "output_type": "execute_result"
    }
   ],
   "source": [
    "convert_nganh = {\n",
    "    \"TỔNG TRỊ GIÁ\": \"TỔNG TRỊ GIÁ\",\n",
    "    \"Khu vực kinh tế trong nước\": \"Khu vực kinh tế trong nước\",\n",
    "    \"Khu vực có vốn đầu tư NN\": \"Khu vực có vốn đầu tư NN\",\n",
    "    \"Dầu thô\": \"Dầu thô\",\n",
    "    \"Hàng hoá khác\": \"Hàng hoá khác\",\n",
    "    \"Thủy sản\": \"Thủy sản\",\n",
    "    \"Rau quả\": \"Rau quả\",\n",
    "    \"Hạt điều\": \"Hạt điều\",\n",
    "    \"Cà phê\": \"Cà phê\",\n",
    "    \"Chè\": \"Chè\",\n",
    "    \"Hạt tiêu\": \"Hạt tiêu\",\n",
    "    \"Gạo\": \"Gạo\",\n",
    "    \"Sắn và sản phẩm của sắn\": \"Sắn và sản phẩm của sắn\",\n",
    "    \"Clanhke và xi măng\": \"Clanhke và xi măng\",\n",
    "    \"Xăng dầu\": \"Xăng dầu\",\n",
    "    \"Hóa chất\": \"Hóa chất\",\n",
    "    \"Sản phẩm hóa chất\": \"Sản phẩm hóa chất\",\n",
    "    \"Chất dẻo nguyên liệu\": \"Chất dẻo nguyên liệu\",\n",
    "    \"Sản phẩm từ chất dẻo\": \"Sản phẩm từ chất dẻo\",\n",
    "    \"Cao su\": \"Cao su\",\n",
    "    \"Túi xách, ví, va li, mũ, ô dù\": \"Túi xách, ví, va li, mũ, ô dù\",\n",
    "    \"Gỗ và sản phẩm gỗ\": \"Gỗ và sản phẩm gỗ\",\n",
    "    \"Giấy và các sản phẩm từ giấy\": \"Giấy và các sản phẩm từ giấy\",\n",
    "    \"Xơ, sợi dệt các loại\": \"Xơ, sợi dệt các loại\",\n",
    "    \"Dệt, may\": \"Dệt, may\",\n",
    "    \"Giày dép\": \"Giày dép\",\n",
    "    \"Nguyên phụ liệu dệt, may, da, giày\": \"Nguyên phụ liệu dệt, may, da, giày\",\n",
    "    \"Sắt thép\": \"Sắt thép\",\n",
    "    \"Sản phẩm từ sắt thép\": \"Sản phẩm từ sắt thép\",\n",
    "    \"Kim loại thường khác và sản phẩm\": \"Kim loại thường khác và sản phẩm\",\n",
    "    \"Điện tử, máy tính và linh kiện\": \"Điện tử, máy tính và linh kiện\",\n",
    "    \"Điện thoại và linh kiện\": \"Điện thoại và linh kiện\",\n",
    "    \"Máy ảnh, máy quay phim và LK\": \"Máy ảnh, máy quay phim và LK\",\n",
    "    \"Máy móc thiết bị, dụng cụ PT khác\": \"Máy móc thiết bị, dụng cụ PT khác\",\n",
    "    \"Dây điện và cáp điện\": \"Dây điện và cáp điện\",\n",
    "    \"Phương tiện vận tải và phụ tùng\": \"Phương tiện vận tải và phụ tùng\",\n",
    "    \"SP nội thất từ chất liệu khác gỗ\": \"SP nội thất từ chất liệu khác gỗ\",\n",
    "    \"Đồ chơi, dụng cụ thể thao và bộ phận\": \"Đồ chơi, dụng cụ thể thao và bộ phận\",\n",
    "    \"Máy ảnh, máy quay phim và linh kiện\": \"Máy ảnh, máy quay phim và LK\",\n",
    "    \"Máy móc thiết bị, dụng cụ phụ tùng khác\": \"Máy móc thiết bị, dụng cụ PT khác\",\n",
    "    \"Kim loại thường khác và SP\": \"Kim loại thường khác và sản phẩm\",\n",
    "    \"Điện tử, máy tính và LK\": \"Điện tử, máy tính và linh kiện\",\n",
    "    \"Điện thoại và LK\": \"Điện thoại và linh kiện\",\n",
    "    \"Máy móc thiết bị, DC PT khác\": \"Máy móc thiết bị, dụng cụ PT khác\",\n",
    "    \"Than đá\": \"Than đá\",\n",
    "    \"Nguyên phụ liệu dệt may, da giầy\": \"Nguyên phụ liệu dệt, may, da, giày\",\n",
    "    \"Đá quý, KL quý và sản phẩm\": \"Đá quý, KL quý và sản phẩm\",\n",
    "    \"Sản phẩm nội thất từ chất liệu khác gỗ\": \"SP nội thất từ chất liệu khác gỗ\",\n",
    "    \"TỔNG TRỊ GIÁ (*)\": \"TỔNG TRỊ GIÁ\",\n",
    "    \"Sản phẩm mây tre, cói, thảm\": \"Sản phẩm mây tre, cói, thảm\",\n",
    "    \"Sản phẩm gốm sứ\": \"Sản phẩm gốm sứ\",\n",
    "    \"Máy móc thiết bị, dụng cụ PT\": \"Máy móc thiết bị, dụng cụ PT khác\",\n",
    "    \"Điện thoại các loại và linh kiện\": \"Điện thoại và linh kiện\",\n",
    "    \"Máy móc, thiết bị, dụng cụ PT khác\": \"Máy móc thiết bị, dụng cụ PT khác\",\n",
    "    \"Sản phẩm chất dẻo\": \"Sản phẩm từ chất dẻo\",\n",
    "    \"Máy móc, thiết bị, DC, PT khác\": \"Máy móc thiết bị, dụng cụ PT khác\",\n",
    "    \"Hàng dệt, may\": \"Dệt, may\",\n",
    "    \"Máy móc, thiết bị, dụng cụ PT\": \"Máy móc thiết bị, dụng cụ PT khác\",\n",
    "    \"TỔNG TRỊ GIÁ(*)\": \"TỔNG TRỊ GIÁ\",\n",
    "    \"Điện tử, máy tính\": \"Điện tử, máy tính và linh kiện\",\n",
    "}\n",
    "\n",
    "dfs_xk[\"Ngành\"] = dfs_xk[\"Ngành\"].map(convert_nganh)\n",
    "dfs_xk"
   ]
  },
  {
   "cell_type": "code",
   "execution_count": 8,
   "metadata": {},
   "outputs": [
    {
     "data": {
      "application/vnd.plotly.v1+json": {
       "config": {
        "plotlyServerURL": "https://plot.ly"
       },
       "data": [
        {
         "fillpattern": {
          "shape": ""
         },
         "hovertemplate": "Ngành=TỔNG TRỊ GIÁ<br>Date=%{x}<br>YOY=%{y}<extra></extra>",
         "legendgroup": "TỔNG TRỊ GIÁ",
         "line": {
          "color": "#636efa"
         },
         "marker": {
          "symbol": "circle"
         },
         "mode": "lines",
         "name": "TỔNG TRỊ GIÁ",
         "orientation": "v",
         "showlegend": true,
         "stackgroup": "1",
         "type": "scatter",
         "x": [
          "2024-01-29T00:00:00",
          "2023-12-29T00:00:00",
          "2023-11-29T00:00:00",
          "2023-10-29T00:00:00",
          "2023-09-29T00:00:00",
          "2023-08-29T00:00:00",
          "2023-07-29T00:00:00",
          "2023-06-29T00:00:00",
          "2023-05-29T00:00:00",
          "2023-04-29T00:00:00",
          "2023-03-29T00:00:00",
          "2023-02-28T00:00:00",
          "2023-01-29T00:00:00",
          "2022-12-29T00:00:00",
          "2022-11-29T00:00:00",
          "2022-10-29T00:00:00",
          "2022-09-29T00:00:00",
          "2022-08-29T00:00:00",
          "2022-07-29T00:00:00",
          "2022-06-29T00:00:00",
          "2022-05-29T00:00:00",
          "2022-04-29T00:00:00",
          "2022-03-29T00:00:00",
          "2022-02-28T00:00:00",
          "2022-01-29T00:00:00",
          "2021-12-29T00:00:00",
          "2021-11-29T00:00:00",
          "2021-10-29T00:00:00",
          "2021-09-29T00:00:00",
          "2021-08-29T00:00:00",
          "2021-07-29T00:00:00",
          "2021-06-29T00:00:00",
          "2021-05-29T00:00:00",
          "2021-04-29T00:00:00",
          "2021-03-29T00:00:00",
          "2021-02-28T00:00:00",
          "2021-01-29T00:00:00",
          "2020-12-27T00:00:00",
          "2020-11-29T00:00:00",
          "2020-10-29T00:00:00",
          "2020-09-29T00:00:00",
          "2020-08-29T00:00:00",
          "2020-07-29T00:00:00",
          "2020-06-29T00:00:00",
          "2020-05-29T00:00:00",
          "2020-04-29T00:00:00",
          "2020-03-27T00:00:00",
          "2020-02-29T00:00:00",
          "2020-01-29T00:00:00",
          "2019-12-27T00:00:00",
          "2019-11-29T00:00:00",
          "2019-10-29T00:00:00",
          "2019-09-28T00:00:00",
          "2019-08-29T00:00:00",
          "2019-07-29T00:00:00",
          "2019-06-28T00:00:00",
          "2019-05-27T00:00:00",
          "2019-04-29T00:00:00",
          "2019-03-29T00:00:00",
          "2019-02-28T00:00:00",
          "2019-01-29T00:00:00"
         ],
         "xaxis": "x",
         "y": [
          4.0594360329919965,
          13.106899386123999,
          6.731773968210007,
          5.90066922802049,
          4.568723977758424,
          -7.601516978461547,
          -3.4691283202866146,
          -11.409183336119469,
          -5.859745253072532,
          -17.146562660768836,
          -14.783924358084917,
          10.966547516617837,
          -21.27643235066911,
          -13.96004279434041,
          -8.401877050269519,
          4.544201832789867,
          10.347532330730132,
          22.135527161265742,
          8.87119450823188,
          19.97498876712484,
          16.382608611622416,
          24.981839818872942,
          14.844184617428198,
          13.217296938692982,
          1.6068796782690526,
          24.822271007675894,
          18.533185926827045,
          0.3298376709709032,
          -0.6167808711261245,
          -5.413934809699299,
          8.395976298434988,
          17.279971211971443,
          35.62774036097181,
          44.900000000000006,
          19.150098418527065,
          -4.7038750442781065,
          50.53086400353476,
          17.599999999999994,
          8.799999999999997,
          9.914994234042581,
          18.020903346628003,
          2.4919519626707825,
          0.30562039232842153,
          -2.0366561049242904,
          -15.48130966563052,
          -3.4874093960534935,
          -12.08742855331198,
          34.04046556781665,
          -14.33977427254544,
          10.149097926070198,
          3.7745793768134206,
          -0.7915939038058184,
          8.989384008133428,
          4.505673785997402,
          9.267736979999228,
          8.530230916973139,
          7.481007294529448,
          7.539168833127533,
          5.392235296538715,
          1.5554926563342093,
          -1.3414782315078355
         ],
         "yaxis": "y"
        },
        {
         "fillpattern": {
          "shape": ""
         },
         "hovertemplate": "Ngành=Khu vực kinh tế trong nước<br>Date=%{x}<br>YOY=%{y}<extra></extra>",
         "legendgroup": "Khu vực kinh tế trong nước",
         "line": {
          "color": "#EF553B"
         },
         "marker": {
          "symbol": "circle"
         },
         "mode": "lines",
         "name": "Khu vực kinh tế trong nước",
         "orientation": "v",
         "showlegend": true,
         "stackgroup": "1",
         "type": "scatter",
         "x": [
          "2024-01-29T00:00:00",
          "2023-12-29T00:00:00",
          "2023-11-29T00:00:00",
          "2023-10-29T00:00:00",
          "2023-09-29T00:00:00",
          "2023-08-29T00:00:00",
          "2023-07-29T00:00:00",
          "2023-06-29T00:00:00",
          "2023-05-29T00:00:00",
          "2023-04-29T00:00:00",
          "2023-03-29T00:00:00",
          "2023-02-28T00:00:00",
          "2023-01-29T00:00:00",
          "2022-12-29T00:00:00",
          "2022-11-29T00:00:00",
          "2022-10-29T00:00:00",
          "2022-09-29T00:00:00",
          "2022-08-29T00:00:00",
          "2022-07-29T00:00:00",
          "2022-06-29T00:00:00",
          "2022-05-29T00:00:00",
          "2022-04-29T00:00:00",
          "2022-03-29T00:00:00",
          "2022-02-28T00:00:00",
          "2022-01-29T00:00:00",
          "2021-12-29T00:00:00",
          "2021-11-29T00:00:00",
          "2021-10-29T00:00:00",
          "2021-09-29T00:00:00",
          "2021-08-29T00:00:00",
          "2021-07-29T00:00:00",
          "2021-06-29T00:00:00",
          "2021-05-29T00:00:00",
          "2021-04-29T00:00:00",
          "2021-03-29T00:00:00",
          "2021-02-28T00:00:00",
          "2021-01-29T00:00:00",
          "2020-12-27T00:00:00",
          "2020-11-29T00:00:00",
          "2020-09-29T00:00:00",
          "2020-08-29T00:00:00",
          "2020-07-29T00:00:00",
          "2020-06-29T00:00:00",
          "2020-05-29T00:00:00",
          "2020-04-29T00:00:00",
          "2020-03-27T00:00:00",
          "2020-02-29T00:00:00",
          "2020-01-29T00:00:00",
          "2019-12-27T00:00:00",
          "2019-11-29T00:00:00",
          "2019-10-29T00:00:00",
          "2019-09-28T00:00:00",
          "2019-08-29T00:00:00",
          "2019-07-29T00:00:00",
          "2019-06-28T00:00:00",
          "2019-05-27T00:00:00",
          "2019-04-29T00:00:00",
          "2019-03-29T00:00:00",
          "2019-02-28T00:00:00",
          "2019-01-29T00:00:00"
         ],
         "xaxis": "x",
         "y": [
          10.402811619987006,
          18.474800848930997,
          13.507624508201005,
          15.11918829117704,
          17.887204205795754,
          -2.4915051052571187,
          -4.156127061829679,
          -8.10330572027459,
          -5.9259896752135575,
          -19.30017864884711,
          -15.993091225490389,
          5.671233524886944,
          -27.12181596863043,
          -22.418094964628978,
          -14.20895808236233,
          -4.909429008072536,
          7.3903524530332305,
          26.53799331644325,
          3.670616690391043,
          14.043679333046953,
          14.522198241298241,
          20.510642263566154,
          14.69927940230788,
          20.32690249815259,
          20.10678194193079,
          29.57253634223099,
          30.042846267364922,
          -1.8892076041703234,
          -7.303035142596784,
          -13.875275000590534,
          2.177506847696293,
          14.208542350899279,
          18.771927700534505,
          23.799999999999997,
          5.279544846165635,
          -15.1409000805467,
          37.28753153638647,
          -0.09999999999999432,
          8.20537083744388,
          46.310534098082,
          18.317064373312647,
          10.637634378510441,
          7.286935784337146,
          0.5250425719283953,
          -1.393506090309856,
          -3.659854117236776,
          39.74544801015156,
          -11.370508805459195,
          13.287564159698078,
          25.829660362421023,
          11.698421973059055,
          24.44293986177432,
          13.9768329185668,
          16.39280909821734,
          10.170046966042136,
          10.729706332306847,
          9.758227551658024,
          7.664788330467061,
          -3.073574000655242,
          7.755720157058008
         ],
         "yaxis": "y"
        },
        {
         "fillpattern": {
          "shape": ""
         },
         "hovertemplate": "Ngành=Khu vực có vốn đầu tư NN<br>Date=%{x}<br>YOY=%{y}<extra></extra>",
         "legendgroup": "Khu vực có vốn đầu tư NN",
         "line": {
          "color": "#00cc96"
         },
         "marker": {
          "symbol": "circle"
         },
         "mode": "lines",
         "name": "Khu vực có vốn đầu tư NN",
         "orientation": "v",
         "showlegend": true,
         "stackgroup": "1",
         "type": "scatter",
         "x": [
          "2024-01-29T00:00:00",
          "2023-12-29T00:00:00",
          "2023-11-29T00:00:00",
          "2023-10-29T00:00:00",
          "2023-09-29T00:00:00",
          "2023-08-29T00:00:00",
          "2023-07-29T00:00:00",
          "2023-06-29T00:00:00",
          "2023-05-29T00:00:00",
          "2023-04-29T00:00:00",
          "2023-03-29T00:00:00",
          "2023-02-28T00:00:00",
          "2023-01-29T00:00:00",
          "2022-12-29T00:00:00",
          "2022-11-29T00:00:00",
          "2022-10-29T00:00:00",
          "2022-09-29T00:00:00",
          "2022-08-29T00:00:00",
          "2022-07-29T00:00:00",
          "2022-06-29T00:00:00",
          "2022-05-29T00:00:00",
          "2022-04-29T00:00:00",
          "2022-03-29T00:00:00",
          "2022-02-28T00:00:00",
          "2022-01-29T00:00:00",
          "2021-12-29T00:00:00",
          "2021-11-29T00:00:00",
          "2021-10-29T00:00:00",
          "2021-09-29T00:00:00",
          "2021-08-29T00:00:00",
          "2021-07-29T00:00:00",
          "2021-06-29T00:00:00",
          "2021-05-29T00:00:00",
          "2021-04-29T00:00:00",
          "2021-03-29T00:00:00",
          "2021-02-28T00:00:00",
          "2021-01-29T00:00:00",
          "2020-12-27T00:00:00",
          "2020-11-29T00:00:00",
          "2020-09-29T00:00:00",
          "2020-08-29T00:00:00",
          "2020-07-29T00:00:00",
          "2020-06-29T00:00:00",
          "2020-05-29T00:00:00",
          "2020-04-29T00:00:00",
          "2020-03-27T00:00:00",
          "2020-02-29T00:00:00",
          "2020-01-29T00:00:00",
          "2019-12-27T00:00:00",
          "2019-11-29T00:00:00",
          "2019-10-29T00:00:00",
          "2019-09-28T00:00:00",
          "2019-08-29T00:00:00",
          "2019-07-29T00:00:00",
          "2019-06-28T00:00:00",
          "2019-05-27T00:00:00",
          "2019-04-29T00:00:00",
          "2019-03-29T00:00:00",
          "2019-02-28T00:00:00",
          "2019-01-29T00:00:00"
         ],
         "xaxis": "x",
         "y": [
          1.9285032292019935,
          11.083158526385006,
          4.391335427192999,
          2.9614566810287357,
          0.49431241169502016,
          -9.275862000700783,
          -3.2237310888183544,
          -12.590518563549296,
          -5.835470174417296,
          -16.368756711996767,
          -14.378083834900153,
          12.699442782611726,
          -19.03204201763195,
          -10.586432609672542,
          -6.252380207229578,
          8.118663729700515,
          11.3855599251593,
          20.578321538069332,
          10.841844534241616,
          22.33264770052989,
          17.087968741819793,
          26.592467290270648,
          14.89379071172496,
          11.074223116005783,
          -4.198075898413279,
          23.177239586828932,
          14.72196180634377,
          1.10128958245528,
          1.8903152943048553,
          -1.9450512106720623,
          10.989177241161173,
          18.558062152461233,
          43.04276559046582,
          54.19999999999999,
          24.247746363465225,
          -1.0185798813815268,
          56.19171167103423,
          25.799999999999997,
          9,
          5.7906999871050004,
          -4.635905269622569,
          -4.8922704660771785,
          -6.4448880673508455,
          -22.324749012143613,
          -4.45163252361877,
          -15.381283475095259,
          32.01166705377878,
          -15.744354755947839,
          8.6277846219363,
          -4.454157504097111,
          -5.4770301463067455,
          3.5036202029438073,
          0.9206510945639224,
          6.350075232537961,
          7.81531851876845,
          6.069156530523372,
          6.5821545732025015,
          4.542058184572866,
          3.216709887231957,
          -5.128001578668375
         ],
         "yaxis": "y"
        }
       ],
       "layout": {
        "legend": {
         "title": {
          "text": "Ngành"
         },
         "tracegroupgap": 0
        },
        "margin": {
         "t": 60
        },
        "template": {
         "data": {
          "bar": [
           {
            "error_x": {
             "color": "#2a3f5f"
            },
            "error_y": {
             "color": "#2a3f5f"
            },
            "marker": {
             "line": {
              "color": "#E5ECF6",
              "width": 0.5
             },
             "pattern": {
              "fillmode": "overlay",
              "size": 10,
              "solidity": 0.2
             }
            },
            "type": "bar"
           }
          ],
          "barpolar": [
           {
            "marker": {
             "line": {
              "color": "#E5ECF6",
              "width": 0.5
             },
             "pattern": {
              "fillmode": "overlay",
              "size": 10,
              "solidity": 0.2
             }
            },
            "type": "barpolar"
           }
          ],
          "carpet": [
           {
            "aaxis": {
             "endlinecolor": "#2a3f5f",
             "gridcolor": "white",
             "linecolor": "white",
             "minorgridcolor": "white",
             "startlinecolor": "#2a3f5f"
            },
            "baxis": {
             "endlinecolor": "#2a3f5f",
             "gridcolor": "white",
             "linecolor": "white",
             "minorgridcolor": "white",
             "startlinecolor": "#2a3f5f"
            },
            "type": "carpet"
           }
          ],
          "choropleth": [
           {
            "colorbar": {
             "outlinewidth": 0,
             "ticks": ""
            },
            "type": "choropleth"
           }
          ],
          "contour": [
           {
            "colorbar": {
             "outlinewidth": 0,
             "ticks": ""
            },
            "colorscale": [
             [
              0,
              "#0d0887"
             ],
             [
              0.1111111111111111,
              "#46039f"
             ],
             [
              0.2222222222222222,
              "#7201a8"
             ],
             [
              0.3333333333333333,
              "#9c179e"
             ],
             [
              0.4444444444444444,
              "#bd3786"
             ],
             [
              0.5555555555555556,
              "#d8576b"
             ],
             [
              0.6666666666666666,
              "#ed7953"
             ],
             [
              0.7777777777777778,
              "#fb9f3a"
             ],
             [
              0.8888888888888888,
              "#fdca26"
             ],
             [
              1,
              "#f0f921"
             ]
            ],
            "type": "contour"
           }
          ],
          "contourcarpet": [
           {
            "colorbar": {
             "outlinewidth": 0,
             "ticks": ""
            },
            "type": "contourcarpet"
           }
          ],
          "heatmap": [
           {
            "colorbar": {
             "outlinewidth": 0,
             "ticks": ""
            },
            "colorscale": [
             [
              0,
              "#0d0887"
             ],
             [
              0.1111111111111111,
              "#46039f"
             ],
             [
              0.2222222222222222,
              "#7201a8"
             ],
             [
              0.3333333333333333,
              "#9c179e"
             ],
             [
              0.4444444444444444,
              "#bd3786"
             ],
             [
              0.5555555555555556,
              "#d8576b"
             ],
             [
              0.6666666666666666,
              "#ed7953"
             ],
             [
              0.7777777777777778,
              "#fb9f3a"
             ],
             [
              0.8888888888888888,
              "#fdca26"
             ],
             [
              1,
              "#f0f921"
             ]
            ],
            "type": "heatmap"
           }
          ],
          "heatmapgl": [
           {
            "colorbar": {
             "outlinewidth": 0,
             "ticks": ""
            },
            "colorscale": [
             [
              0,
              "#0d0887"
             ],
             [
              0.1111111111111111,
              "#46039f"
             ],
             [
              0.2222222222222222,
              "#7201a8"
             ],
             [
              0.3333333333333333,
              "#9c179e"
             ],
             [
              0.4444444444444444,
              "#bd3786"
             ],
             [
              0.5555555555555556,
              "#d8576b"
             ],
             [
              0.6666666666666666,
              "#ed7953"
             ],
             [
              0.7777777777777778,
              "#fb9f3a"
             ],
             [
              0.8888888888888888,
              "#fdca26"
             ],
             [
              1,
              "#f0f921"
             ]
            ],
            "type": "heatmapgl"
           }
          ],
          "histogram": [
           {
            "marker": {
             "pattern": {
              "fillmode": "overlay",
              "size": 10,
              "solidity": 0.2
             }
            },
            "type": "histogram"
           }
          ],
          "histogram2d": [
           {
            "colorbar": {
             "outlinewidth": 0,
             "ticks": ""
            },
            "colorscale": [
             [
              0,
              "#0d0887"
             ],
             [
              0.1111111111111111,
              "#46039f"
             ],
             [
              0.2222222222222222,
              "#7201a8"
             ],
             [
              0.3333333333333333,
              "#9c179e"
             ],
             [
              0.4444444444444444,
              "#bd3786"
             ],
             [
              0.5555555555555556,
              "#d8576b"
             ],
             [
              0.6666666666666666,
              "#ed7953"
             ],
             [
              0.7777777777777778,
              "#fb9f3a"
             ],
             [
              0.8888888888888888,
              "#fdca26"
             ],
             [
              1,
              "#f0f921"
             ]
            ],
            "type": "histogram2d"
           }
          ],
          "histogram2dcontour": [
           {
            "colorbar": {
             "outlinewidth": 0,
             "ticks": ""
            },
            "colorscale": [
             [
              0,
              "#0d0887"
             ],
             [
              0.1111111111111111,
              "#46039f"
             ],
             [
              0.2222222222222222,
              "#7201a8"
             ],
             [
              0.3333333333333333,
              "#9c179e"
             ],
             [
              0.4444444444444444,
              "#bd3786"
             ],
             [
              0.5555555555555556,
              "#d8576b"
             ],
             [
              0.6666666666666666,
              "#ed7953"
             ],
             [
              0.7777777777777778,
              "#fb9f3a"
             ],
             [
              0.8888888888888888,
              "#fdca26"
             ],
             [
              1,
              "#f0f921"
             ]
            ],
            "type": "histogram2dcontour"
           }
          ],
          "mesh3d": [
           {
            "colorbar": {
             "outlinewidth": 0,
             "ticks": ""
            },
            "type": "mesh3d"
           }
          ],
          "parcoords": [
           {
            "line": {
             "colorbar": {
              "outlinewidth": 0,
              "ticks": ""
             }
            },
            "type": "parcoords"
           }
          ],
          "pie": [
           {
            "automargin": true,
            "type": "pie"
           }
          ],
          "scatter": [
           {
            "fillpattern": {
             "fillmode": "overlay",
             "size": 10,
             "solidity": 0.2
            },
            "type": "scatter"
           }
          ],
          "scatter3d": [
           {
            "line": {
             "colorbar": {
              "outlinewidth": 0,
              "ticks": ""
             }
            },
            "marker": {
             "colorbar": {
              "outlinewidth": 0,
              "ticks": ""
             }
            },
            "type": "scatter3d"
           }
          ],
          "scattercarpet": [
           {
            "marker": {
             "colorbar": {
              "outlinewidth": 0,
              "ticks": ""
             }
            },
            "type": "scattercarpet"
           }
          ],
          "scattergeo": [
           {
            "marker": {
             "colorbar": {
              "outlinewidth": 0,
              "ticks": ""
             }
            },
            "type": "scattergeo"
           }
          ],
          "scattergl": [
           {
            "marker": {
             "colorbar": {
              "outlinewidth": 0,
              "ticks": ""
             }
            },
            "type": "scattergl"
           }
          ],
          "scattermapbox": [
           {
            "marker": {
             "colorbar": {
              "outlinewidth": 0,
              "ticks": ""
             }
            },
            "type": "scattermapbox"
           }
          ],
          "scatterpolar": [
           {
            "marker": {
             "colorbar": {
              "outlinewidth": 0,
              "ticks": ""
             }
            },
            "type": "scatterpolar"
           }
          ],
          "scatterpolargl": [
           {
            "marker": {
             "colorbar": {
              "outlinewidth": 0,
              "ticks": ""
             }
            },
            "type": "scatterpolargl"
           }
          ],
          "scatterternary": [
           {
            "marker": {
             "colorbar": {
              "outlinewidth": 0,
              "ticks": ""
             }
            },
            "type": "scatterternary"
           }
          ],
          "surface": [
           {
            "colorbar": {
             "outlinewidth": 0,
             "ticks": ""
            },
            "colorscale": [
             [
              0,
              "#0d0887"
             ],
             [
              0.1111111111111111,
              "#46039f"
             ],
             [
              0.2222222222222222,
              "#7201a8"
             ],
             [
              0.3333333333333333,
              "#9c179e"
             ],
             [
              0.4444444444444444,
              "#bd3786"
             ],
             [
              0.5555555555555556,
              "#d8576b"
             ],
             [
              0.6666666666666666,
              "#ed7953"
             ],
             [
              0.7777777777777778,
              "#fb9f3a"
             ],
             [
              0.8888888888888888,
              "#fdca26"
             ],
             [
              1,
              "#f0f921"
             ]
            ],
            "type": "surface"
           }
          ],
          "table": [
           {
            "cells": {
             "fill": {
              "color": "#EBF0F8"
             },
             "line": {
              "color": "white"
             }
            },
            "header": {
             "fill": {
              "color": "#C8D4E3"
             },
             "line": {
              "color": "white"
             }
            },
            "type": "table"
           }
          ]
         },
         "layout": {
          "annotationdefaults": {
           "arrowcolor": "#2a3f5f",
           "arrowhead": 0,
           "arrowwidth": 1
          },
          "autotypenumbers": "strict",
          "coloraxis": {
           "colorbar": {
            "outlinewidth": 0,
            "ticks": ""
           }
          },
          "colorscale": {
           "diverging": [
            [
             0,
             "#8e0152"
            ],
            [
             0.1,
             "#c51b7d"
            ],
            [
             0.2,
             "#de77ae"
            ],
            [
             0.3,
             "#f1b6da"
            ],
            [
             0.4,
             "#fde0ef"
            ],
            [
             0.5,
             "#f7f7f7"
            ],
            [
             0.6,
             "#e6f5d0"
            ],
            [
             0.7,
             "#b8e186"
            ],
            [
             0.8,
             "#7fbc41"
            ],
            [
             0.9,
             "#4d9221"
            ],
            [
             1,
             "#276419"
            ]
           ],
           "sequential": [
            [
             0,
             "#0d0887"
            ],
            [
             0.1111111111111111,
             "#46039f"
            ],
            [
             0.2222222222222222,
             "#7201a8"
            ],
            [
             0.3333333333333333,
             "#9c179e"
            ],
            [
             0.4444444444444444,
             "#bd3786"
            ],
            [
             0.5555555555555556,
             "#d8576b"
            ],
            [
             0.6666666666666666,
             "#ed7953"
            ],
            [
             0.7777777777777778,
             "#fb9f3a"
            ],
            [
             0.8888888888888888,
             "#fdca26"
            ],
            [
             1,
             "#f0f921"
            ]
           ],
           "sequentialminus": [
            [
             0,
             "#0d0887"
            ],
            [
             0.1111111111111111,
             "#46039f"
            ],
            [
             0.2222222222222222,
             "#7201a8"
            ],
            [
             0.3333333333333333,
             "#9c179e"
            ],
            [
             0.4444444444444444,
             "#bd3786"
            ],
            [
             0.5555555555555556,
             "#d8576b"
            ],
            [
             0.6666666666666666,
             "#ed7953"
            ],
            [
             0.7777777777777778,
             "#fb9f3a"
            ],
            [
             0.8888888888888888,
             "#fdca26"
            ],
            [
             1,
             "#f0f921"
            ]
           ]
          },
          "colorway": [
           "#636efa",
           "#EF553B",
           "#00cc96",
           "#ab63fa",
           "#FFA15A",
           "#19d3f3",
           "#FF6692",
           "#B6E880",
           "#FF97FF",
           "#FECB52"
          ],
          "font": {
           "color": "#2a3f5f"
          },
          "geo": {
           "bgcolor": "white",
           "lakecolor": "white",
           "landcolor": "#E5ECF6",
           "showlakes": true,
           "showland": true,
           "subunitcolor": "white"
          },
          "hoverlabel": {
           "align": "left"
          },
          "hovermode": "closest",
          "mapbox": {
           "style": "light"
          },
          "paper_bgcolor": "white",
          "plot_bgcolor": "#E5ECF6",
          "polar": {
           "angularaxis": {
            "gridcolor": "white",
            "linecolor": "white",
            "ticks": ""
           },
           "bgcolor": "#E5ECF6",
           "radialaxis": {
            "gridcolor": "white",
            "linecolor": "white",
            "ticks": ""
           }
          },
          "scene": {
           "xaxis": {
            "backgroundcolor": "#E5ECF6",
            "gridcolor": "white",
            "gridwidth": 2,
            "linecolor": "white",
            "showbackground": true,
            "ticks": "",
            "zerolinecolor": "white"
           },
           "yaxis": {
            "backgroundcolor": "#E5ECF6",
            "gridcolor": "white",
            "gridwidth": 2,
            "linecolor": "white",
            "showbackground": true,
            "ticks": "",
            "zerolinecolor": "white"
           },
           "zaxis": {
            "backgroundcolor": "#E5ECF6",
            "gridcolor": "white",
            "gridwidth": 2,
            "linecolor": "white",
            "showbackground": true,
            "ticks": "",
            "zerolinecolor": "white"
           }
          },
          "shapedefaults": {
           "line": {
            "color": "#2a3f5f"
           }
          },
          "ternary": {
           "aaxis": {
            "gridcolor": "white",
            "linecolor": "white",
            "ticks": ""
           },
           "baxis": {
            "gridcolor": "white",
            "linecolor": "white",
            "ticks": ""
           },
           "bgcolor": "#E5ECF6",
           "caxis": {
            "gridcolor": "white",
            "linecolor": "white",
            "ticks": ""
           }
          },
          "title": {
           "x": 0.05
          },
          "xaxis": {
           "automargin": true,
           "gridcolor": "white",
           "linecolor": "white",
           "ticks": "",
           "title": {
            "standoff": 15
           },
           "zerolinecolor": "white",
           "zerolinewidth": 2
          },
          "yaxis": {
           "automargin": true,
           "gridcolor": "white",
           "linecolor": "white",
           "ticks": "",
           "title": {
            "standoff": 15
           },
           "zerolinecolor": "white",
           "zerolinewidth": 2
          }
         }
        },
        "xaxis": {
         "anchor": "y",
         "domain": [
          0,
          1
         ],
         "rangeselector": {
          "buttons": [
           {
            "count": 1,
            "label": "YTD",
            "step": "year",
            "stepmode": "todate"
           },
           {
            "count": 1,
            "label": "1y",
            "step": "year",
            "stepmode": "backward"
           },
           {
            "count": 3,
            "label": "3y",
            "step": "year",
            "stepmode": "backward"
           },
           {
            "count": 5,
            "label": "5y",
            "step": "year",
            "stepmode": "backward"
           },
           {
            "count": 7,
            "label": "7y",
            "step": "year",
            "stepmode": "backward"
           },
           {
            "count": 10,
            "label": "10y",
            "step": "year",
            "stepmode": "backward"
           },
           {
            "step": "all"
           }
          ]
         },
         "rangeslider": {
          "visible": true
         },
         "title": {
          "text": "Date"
         }
        },
        "yaxis": {
         "anchor": "x",
         "domain": [
          0,
          1
         ],
         "title": {
          "text": "YOY"
         }
        }
       }
      }
     },
     "metadata": {},
     "output_type": "display_data"
    }
   ],
   "source": [
    "import pandas as pd\n",
    "import plotly.express as px\n",
    "import plotly.graph_objects as go\n",
    "\n",
    "df_show = dfs_xk[\n",
    "    (\n",
    "        (dfs_xk[\"Ngành\"] == \"TỔNG TRỊ GIÁ\")\n",
    "        | (dfs_xk[\"Ngành\"] == \"Khu vực kinh tế trong nước\")\n",
    "        | (dfs_xk[\"Ngành\"] == \"Khu vực có vốn đầu tư NN\")\n",
    "    )\n",
    "    & (dfs_xk[\"Date\"] > \"2015-01-01\")\n",
    "]\n",
    "\n",
    "fig = px.area(df_show, x=\"Date\", y=\"YOY\", color=\"Ngành\")\n",
    "\n",
    "fig.update_xaxes(\n",
    "    rangeslider_visible=True,\n",
    "    rangeselector=dict(\n",
    "        buttons=[\n",
    "            dict(count=1, label=\"YTD\", step=\"year\", stepmode=\"todate\"),\n",
    "            dict(count=1, label=\"1y\", step=\"year\", stepmode=\"backward\"),\n",
    "            dict(count=3, label=\"3y\", step=\"year\", stepmode=\"backward\"),\n",
    "            dict(count=5, label=\"5y\", step=\"year\", stepmode=\"backward\"),\n",
    "            dict(count=7, label=\"7y\", step=\"year\", stepmode=\"backward\"),\n",
    "            dict(count=10, label=\"10y\", step=\"year\", stepmode=\"backward\"),\n",
    "            dict(step=\"all\"),\n",
    "        ]\n",
    "    ),\n",
    ")\n",
    "\n",
    "fig.show()"
   ]
  },
  {
   "cell_type": "code",
   "execution_count": 9,
   "metadata": {},
   "outputs": [
    {
     "data": {
      "application/vnd.plotly.v1+json": {
       "config": {
        "plotlyServerURL": "https://plot.ly"
       },
       "data": [
        {
         "fillpattern": {
          "shape": ""
         },
         "hovertemplate": "Ngành=Thủy sản<br>Date=%{x}<br>YOY=%{y}<extra></extra>",
         "legendgroup": "Thủy sản",
         "line": {
          "color": "#636efa"
         },
         "marker": {
          "symbol": "circle"
         },
         "mode": "lines",
         "name": "Thủy sản",
         "orientation": "v",
         "showlegend": true,
         "stackgroup": "1",
         "type": "scatter",
         "x": [
          "2024-01-29T00:00:00",
          "2023-12-29T00:00:00",
          "2023-11-29T00:00:00",
          "2023-10-29T00:00:00",
          "2023-09-29T00:00:00",
          "2023-08-29T00:00:00",
          "2023-07-29T00:00:00",
          "2023-06-29T00:00:00",
          "2023-05-29T00:00:00",
          "2023-04-29T00:00:00",
          "2023-03-29T00:00:00",
          "2023-02-28T00:00:00",
          "2023-01-29T00:00:00",
          "2022-12-29T00:00:00",
          "2022-11-29T00:00:00",
          "2022-10-29T00:00:00",
          "2022-09-29T00:00:00",
          "2022-08-29T00:00:00",
          "2022-07-29T00:00:00",
          "2022-06-29T00:00:00",
          "2022-05-29T00:00:00",
          "2022-04-29T00:00:00",
          "2022-03-29T00:00:00",
          "2022-02-28T00:00:00",
          "2022-01-29T00:00:00",
          "2021-12-29T00:00:00",
          "2021-11-29T00:00:00",
          "2021-10-29T00:00:00",
          "2021-09-29T00:00:00",
          "2021-08-29T00:00:00",
          "2021-07-29T00:00:00",
          "2021-06-29T00:00:00",
          "2021-05-29T00:00:00",
          "2021-04-29T00:00:00",
          "2021-03-29T00:00:00",
          "2021-02-28T00:00:00",
          "2021-01-29T00:00:00",
          "2020-12-27T00:00:00",
          "2020-11-29T00:00:00",
          "2020-10-29T00:00:00",
          "2020-09-29T00:00:00",
          "2020-08-29T00:00:00",
          "2020-07-29T00:00:00",
          "2020-06-29T00:00:00",
          "2020-05-29T00:00:00",
          "2020-04-29T00:00:00",
          "2020-03-27T00:00:00",
          "2020-02-29T00:00:00",
          "2020-01-29T00:00:00"
         ],
         "xaxis": "x",
         "y": [
          -1.2314303090543035,
          3.6484706837580063,
          1.351656347932007,
          -5.874354827807707,
          -0.8153554222110984,
          -20.97262724229202,
          -15.049409355427173,
          -25.224148839198136,
          -23.884698543326778,
          -33.10536008714827,
          -28.971726866386888,
          -13.127680818564443,
          -30.895608587880517,
          -15.397350292655815,
          -17.522182854301548,
          0.9229269347007545,
          44.60163836837506,
          51.27315374603293,
          6.259745177159132,
          23.93008735994738,
          39.451588726818756,
          39.85714785793974,
          22.407840897900783,
          53.1700299146174,
          42.8878548301046,
          23.100907258063415,
          18.82857371490263,
          -23.52412124053184,
          -26.843049188684105,
          -26.04613628797064,
          1.080688769170564,
          9.145567206501255,
          17.399153981937232,
          5.515247234058208,
          8.753908512274776,
          -20.363711036412624,
          19.576374863548907,
          -3.3526250882259347,
          4.664068341921052,
          0.804489912624291,
          12.587996976341998,
          -1.20338854445707,
          -1.2868396913134177,
          -5.187239849994938,
          -17.871275166930346,
          -4.9501297568551195,
          -11.927069236847927,
          13.05659011009162,
          -25.186025376870063
         ],
         "yaxis": "y"
        },
        {
         "fillpattern": {
          "shape": ""
         },
         "hovertemplate": "Ngành=Dệt, may<br>Date=%{x}<br>YOY=%{y}<extra></extra>",
         "legendgroup": "Dệt, may",
         "line": {
          "color": "#EF553B"
         },
         "marker": {
          "symbol": "circle"
         },
         "mode": "lines",
         "name": "Dệt, may",
         "orientation": "v",
         "showlegend": true,
         "stackgroup": "1",
         "type": "scatter",
         "x": [
          "2024-01-29T00:00:00",
          "2023-12-29T00:00:00",
          "2023-11-29T00:00:00",
          "2023-10-29T00:00:00",
          "2023-09-29T00:00:00",
          "2023-08-29T00:00:00",
          "2023-07-29T00:00:00",
          "2023-06-29T00:00:00",
          "2023-05-29T00:00:00",
          "2023-04-29T00:00:00",
          "2023-03-29T00:00:00",
          "2023-02-28T00:00:00",
          "2023-01-29T00:00:00",
          "2022-12-29T00:00:00",
          "2022-11-29T00:00:00",
          "2022-10-29T00:00:00",
          "2022-09-29T00:00:00",
          "2022-08-29T00:00:00",
          "2022-07-29T00:00:00",
          "2022-06-29T00:00:00",
          "2022-05-29T00:00:00",
          "2022-04-29T00:00:00",
          "2022-03-29T00:00:00",
          "2022-02-28T00:00:00",
          "2022-01-29T00:00:00",
          "2021-12-29T00:00:00",
          "2021-11-29T00:00:00",
          "2021-10-29T00:00:00",
          "2021-09-29T00:00:00",
          "2021-08-29T00:00:00",
          "2021-07-29T00:00:00",
          "2021-06-29T00:00:00",
          "2021-05-29T00:00:00",
          "2021-04-29T00:00:00",
          "2021-03-29T00:00:00",
          "2021-02-28T00:00:00",
          "2021-01-29T00:00:00",
          "2020-12-27T00:00:00",
          "2020-11-29T00:00:00",
          "2020-10-29T00:00:00",
          "2020-09-29T00:00:00",
          "2020-08-29T00:00:00",
          "2020-07-29T00:00:00",
          "2020-06-29T00:00:00",
          "2020-05-29T00:00:00",
          "2020-04-29T00:00:00",
          "2020-03-27T00:00:00",
          "2020-02-29T00:00:00",
          "2020-01-29T00:00:00"
         ],
         "xaxis": "x",
         "y": [
          -17.795976590675295,
          -4.223667017706902,
          -11.125930626700793,
          -0.7168001030850633,
          9.623342570152332,
          -17.805996541681324,
          -13.460209937942238,
          -13.988715234537295,
          -16.56708017087108,
          -23.92130934530627,
          -13.21255262487054,
          12.194750778146442,
          -30.694251739849904,
          -21.116932204833077,
          -8.021725013640562,
          5.664853241926821,
          24.123573572872402,
          42.36583344200341,
          14.76298947693742,
          18.849109481238386,
          19.915815399540506,
          25.398577862818698,
          17.31941657564478,
          25.767242653698304,
          24.16839678991296,
          27.18871489975949,
          24.916202475046887,
          -4.410036079581332,
          -18.564688707839437,
          -9.233025571041807,
          7.745972429920101,
          13.732589031937763,
          35.1138637593057,
          42.153137302805504,
          15.250128827234292,
          -6.409242376109702,
          3.277043099892609,
          -15.625735316443325,
          -22.51683245397163,
          -3.220786972513821,
          -1.2654091743608973,
          -10.891030782238076,
          -8.905376975844533,
          -23.644834721978867,
          -34.30451691067759,
          -19.175816986538806,
          -28.964594936731615,
          57.127755161796614,
          -21.036216247109436
         ],
         "yaxis": "y"
        },
        {
         "fillpattern": {
          "shape": ""
         },
         "hovertemplate": "Ngành=Giày dép<br>Date=%{x}<br>YOY=%{y}<extra></extra>",
         "legendgroup": "Giày dép",
         "line": {
          "color": "#00cc96"
         },
         "marker": {
          "symbol": "circle"
         },
         "mode": "lines",
         "name": "Giày dép",
         "orientation": "v",
         "showlegend": true,
         "stackgroup": "1",
         "type": "scatter",
         "x": [
          "2024-01-29T00:00:00",
          "2023-12-29T00:00:00",
          "2023-11-29T00:00:00",
          "2023-10-29T00:00:00",
          "2023-09-29T00:00:00",
          "2023-08-29T00:00:00",
          "2023-07-29T00:00:00",
          "2023-06-29T00:00:00",
          "2023-05-29T00:00:00",
          "2023-04-29T00:00:00",
          "2023-03-29T00:00:00",
          "2023-02-28T00:00:00",
          "2023-01-29T00:00:00",
          "2022-12-29T00:00:00",
          "2022-11-29T00:00:00",
          "2022-10-29T00:00:00",
          "2022-09-29T00:00:00",
          "2022-08-29T00:00:00",
          "2022-07-29T00:00:00",
          "2022-06-29T00:00:00",
          "2022-05-29T00:00:00",
          "2022-04-29T00:00:00",
          "2022-03-29T00:00:00",
          "2022-02-28T00:00:00",
          "2022-01-29T00:00:00",
          "2021-12-29T00:00:00",
          "2021-11-29T00:00:00",
          "2021-10-29T00:00:00",
          "2021-09-29T00:00:00",
          "2021-08-29T00:00:00",
          "2021-07-29T00:00:00",
          "2021-06-29T00:00:00",
          "2021-05-29T00:00:00",
          "2021-04-29T00:00:00",
          "2021-03-29T00:00:00",
          "2021-02-28T00:00:00",
          "2021-01-29T00:00:00",
          "2020-12-27T00:00:00",
          "2020-11-29T00:00:00",
          "2020-10-29T00:00:00",
          "2020-09-29T00:00:00",
          "2020-08-29T00:00:00",
          "2020-07-29T00:00:00",
          "2020-06-29T00:00:00",
          "2020-05-29T00:00:00",
          "2020-04-29T00:00:00",
          "2020-03-27T00:00:00",
          "2020-02-29T00:00:00",
          "2020-01-29T00:00:00"
         ],
         "xaxis": "x",
         "y": [
          -19.664152558480595,
          8.037814617999999,
          -6.4165340198156,
          -31.00604526564581,
          -16.459704635098788,
          -19.340554744691246,
          -18.662898562914947,
          -17.538284950813704,
          -5.439451758290716,
          -10.945748404227217,
          -22.912627927656487,
          4.142883810449092,
          -17.689964152261155,
          -1.8675036034007348,
          26.75457541380173,
          102.74754011931776,
          165.1048800120438,
          186.53803891322195,
          65.60560479583404,
          25.92902716795149,
          8.72640548959005,
          18.93460396117652,
          16.446533422798424,
          6.786060272549577,
          7.176799365361148,
          3.5181268003887,
          -14.338492035174866,
          -46.39628552846155,
          -44.211269690134245,
          -38.45704053447382,
          28.03390981759631,
          38.93866173475175,
          48.95423471274859,
          32.52649776832129,
          19.76224352759661,
          -1.1439654731986764,
          26.41988307311236,
          -15.282439668243981,
          -17.74726481483947,
          -21.598767221524625,
          -9.353555447212102,
          -10.980557344282914,
          -13.637537425604975,
          -11.022565240774142,
          -18.47171915867844,
          -10.628920374121634,
          -15.8855925135706,
          52.593216005872875,
          -9.655552341012282
         ],
         "yaxis": "y"
        },
        {
         "fillpattern": {
          "shape": ""
         },
         "hovertemplate": "Ngành=Sắt thép<br>Date=%{x}<br>YOY=%{y}<extra></extra>",
         "legendgroup": "Sắt thép",
         "line": {
          "color": "#ab63fa"
         },
         "marker": {
          "symbol": "circle"
         },
         "mode": "lines",
         "name": "Sắt thép",
         "orientation": "v",
         "showlegend": true,
         "stackgroup": "1",
         "type": "scatter",
         "x": [
          "2024-01-29T00:00:00",
          "2023-12-29T00:00:00",
          "2023-11-29T00:00:00",
          "2023-10-29T00:00:00",
          "2023-09-29T00:00:00",
          "2023-08-29T00:00:00",
          "2023-07-29T00:00:00",
          "2023-06-29T00:00:00",
          "2023-05-29T00:00:00",
          "2023-04-29T00:00:00",
          "2023-03-29T00:00:00",
          "2023-02-28T00:00:00",
          "2023-01-29T00:00:00",
          "2022-12-29T00:00:00",
          "2022-11-29T00:00:00",
          "2022-10-29T00:00:00",
          "2022-09-29T00:00:00",
          "2022-08-29T00:00:00",
          "2022-07-29T00:00:00",
          "2022-06-29T00:00:00",
          "2022-05-29T00:00:00",
          "2022-04-29T00:00:00",
          "2022-03-29T00:00:00",
          "2022-02-28T00:00:00",
          "2022-01-29T00:00:00",
          "2021-12-29T00:00:00",
          "2021-11-29T00:00:00",
          "2021-10-29T00:00:00",
          "2021-09-29T00:00:00",
          "2021-08-29T00:00:00",
          "2021-07-29T00:00:00",
          "2021-06-29T00:00:00",
          "2021-05-29T00:00:00",
          "2021-04-29T00:00:00",
          "2021-03-29T00:00:00",
          "2021-02-28T00:00:00",
          "2021-01-29T00:00:00",
          "2020-12-27T00:00:00",
          "2020-11-29T00:00:00",
          "2020-10-29T00:00:00",
          "2020-09-29T00:00:00",
          "2020-08-29T00:00:00",
          "2020-07-29T00:00:00",
          "2020-06-29T00:00:00",
          "2020-05-29T00:00:00",
          "2020-04-29T00:00:00",
          "2020-03-27T00:00:00",
          "2020-02-29T00:00:00",
          "2020-01-29T00:00:00"
         ],
         "xaxis": "x",
         "y": [
          28.266875570899998,
          27.684626669845002,
          25.405983998165,
          10.399805030834301,
          29.452721192714478,
          53.440627733865654,
          3.0757320568549886,
          -23.039588004042557,
          -3.6804415494624436,
          -34.701660605914626,
          -33.566807246810384,
          1.8786370324398405,
          -44.687416890404876,
          -51.537992121078986,
          -63.83214129609291,
          -70.980262004435,
          -72.01254278231775,
          -67.95206166400278,
          -34.696209082938395,
          9.409262224137677,
          2.029404806530067,
          23.635191693968565,
          -14.236912285947085,
          -29.98273585119142,
          43.55320606899676,
          63.26927064630624,
          112.81461685964064,
          140.0401875228112,
          116.31863646551989,
          107.04033951197758,
          122.70485017218263,
          127.99969502760794,
          211.88602709025236,
          98.16126386612163,
          49.83312832795315,
          29.773727204070354,
          61.78361128707493,
          39.24774192380502,
          39.67907433786354,
          43.03313804700585,
          75.557356454174,
          47.70744797409938,
          17.955428467345484,
          -14.958884151427952,
          -46.783074315534364,
          -12.202842524316864,
          -16.378931324984507,
          -17.56152510300224,
          -49.37148623875227
         ],
         "yaxis": "y"
        },
        {
         "fillpattern": {
          "shape": ""
         },
         "hovertemplate": "Ngành=Điện tử, máy tính và linh kiện<br>Date=%{x}<br>YOY=%{y}<extra></extra>",
         "legendgroup": "Điện tử, máy tính và linh kiện",
         "line": {
          "color": "#FFA15A"
         },
         "marker": {
          "symbol": "circle"
         },
         "mode": "lines",
         "name": "Điện tử, máy tính và linh kiện",
         "orientation": "v",
         "showlegend": true,
         "stackgroup": "1",
         "type": "scatter",
         "x": [
          "2024-01-29T00:00:00",
          "2023-12-29T00:00:00",
          "2023-11-29T00:00:00",
          "2023-10-29T00:00:00",
          "2023-09-29T00:00:00",
          "2023-08-29T00:00:00",
          "2023-07-29T00:00:00",
          "2023-06-29T00:00:00",
          "2023-05-29T00:00:00",
          "2023-04-29T00:00:00",
          "2023-03-29T00:00:00",
          "2023-02-28T00:00:00",
          "2023-01-29T00:00:00",
          "2022-12-29T00:00:00",
          "2022-11-29T00:00:00",
          "2022-10-29T00:00:00",
          "2022-09-29T00:00:00",
          "2022-08-29T00:00:00",
          "2022-07-29T00:00:00",
          "2022-06-29T00:00:00",
          "2022-05-29T00:00:00",
          "2022-04-29T00:00:00",
          "2022-03-29T00:00:00",
          "2022-02-28T00:00:00",
          "2022-01-29T00:00:00",
          "2021-12-29T00:00:00",
          "2021-11-29T00:00:00",
          "2021-10-29T00:00:00",
          "2021-09-29T00:00:00",
          "2021-08-29T00:00:00",
          "2021-07-29T00:00:00",
          "2021-06-29T00:00:00",
          "2021-05-29T00:00:00",
          "2021-04-29T00:00:00",
          "2021-03-29T00:00:00",
          "2021-02-28T00:00:00",
          "2021-01-29T00:00:00",
          "2020-12-27T00:00:00",
          "2020-11-29T00:00:00",
          "2020-10-29T00:00:00",
          "2020-09-29T00:00:00",
          "2020-08-29T00:00:00",
          "2020-07-29T00:00:00",
          "2020-06-29T00:00:00",
          "2020-05-29T00:00:00",
          "2020-04-29T00:00:00",
          "2020-03-27T00:00:00",
          "2020-02-29T00:00:00",
          "2020-01-29T00:00:00"
         ],
         "xaxis": "x",
         "y": [
          22.137414856117005,
          19.156145235311,
          20.151415657523998,
          17.118050809500488,
          1.1436840374727524,
          10.774525334190145,
          31.957341355470817,
          -10.447920146838712,
          -11.435179611141564,
          -8.083864600282382,
          -11.032134383074677,
          -2.568930154103384,
          -11.54432372600263,
          -14.665637997974173,
          -16.07210430934873,
          12.348573222553455,
          0.4395665438854621,
          3.707378555457751,
          8.58443270979177,
          9.87588066502407,
          8.252867018417149,
          23.168845154586876,
          8.947373012695323,
          9.679468662639962,
          -10.176443245823847,
          27.709488365471373,
          9.0352283682071,
          8.334962946312729,
          2.977076597132651,
          -11.990439547137285,
          -13.874661916061925,
          1.7988010255810707,
          9.364830156130594,
          29.35906502858009,
          27.119659019484516,
          9.087773868619834,
          50.23821427585665,
          24.299999999999997,
          16.299999999999997,
          13.63094056744356,
          29.915132622044013,
          15.045116856252491,
          18.529107430957765,
          26.56006863079152,
          9.044371555324489,
          28.23047534484266,
          -0.7241748107075807,
          52.379277466633965,
          5.598381066995927
         ],
         "yaxis": "y"
        },
        {
         "fillpattern": {
          "shape": ""
         },
         "hovertemplate": "Ngành=Điện thoại và linh kiện<br>Date=%{x}<br>YOY=%{y}<extra></extra>",
         "legendgroup": "Điện thoại và linh kiện",
         "line": {
          "color": "#19d3f3"
         },
         "marker": {
          "symbol": "circle"
         },
         "mode": "lines",
         "name": "Điện thoại và linh kiện",
         "orientation": "v",
         "showlegend": true,
         "stackgroup": "1",
         "type": "scatter",
         "x": [
          "2024-01-29T00:00:00",
          "2023-12-29T00:00:00",
          "2023-11-29T00:00:00",
          "2023-10-29T00:00:00",
          "2023-09-29T00:00:00",
          "2023-08-29T00:00:00",
          "2023-07-29T00:00:00",
          "2023-06-29T00:00:00",
          "2023-05-29T00:00:00",
          "2023-04-29T00:00:00",
          "2023-03-29T00:00:00",
          "2023-02-28T00:00:00",
          "2023-01-29T00:00:00",
          "2022-12-29T00:00:00",
          "2022-11-29T00:00:00",
          "2022-10-29T00:00:00",
          "2022-09-29T00:00:00",
          "2022-08-29T00:00:00",
          "2022-07-29T00:00:00",
          "2022-06-29T00:00:00",
          "2022-05-29T00:00:00",
          "2022-04-29T00:00:00",
          "2022-03-29T00:00:00",
          "2022-02-28T00:00:00",
          "2022-01-29T00:00:00",
          "2021-12-29T00:00:00",
          "2021-11-29T00:00:00",
          "2021-10-29T00:00:00",
          "2021-09-29T00:00:00",
          "2021-08-29T00:00:00",
          "2021-07-29T00:00:00",
          "2021-06-29T00:00:00",
          "2021-05-29T00:00:00",
          "2021-04-29T00:00:00",
          "2021-03-29T00:00:00",
          "2021-02-28T00:00:00",
          "2021-01-29T00:00:00",
          "2020-12-27T00:00:00",
          "2020-11-29T00:00:00",
          "2020-10-29T00:00:00",
          "2020-09-29T00:00:00",
          "2020-08-29T00:00:00",
          "2020-07-29T00:00:00",
          "2020-06-29T00:00:00",
          "2020-05-29T00:00:00",
          "2020-04-29T00:00:00",
          "2020-03-27T00:00:00",
          "2020-02-29T00:00:00",
          "2020-01-29T00:00:00"
         ],
         "xaxis": "x",
         "y": [
          6.727675194362007,
          51.49728958423299,
          3.8912749814149947,
          -3.2077738394794295,
          3.0105727785667398,
          -14.621505502715564,
          -18.422849294379034,
          -6.7846417459047075,
          -5.216112299654611,
          -30.88093621230007,
          -41.906825904569786,
          14.713358355928534,
          -18.64781225856133,
          -21.538312176488134,
          -6.3101322183193815,
          -9.406392953045568,
          -6.787046819966093,
          2.689851243595001,
          -4.719256657549465,
          15.349615987787274,
          17.382164892268577,
          62.80848626031391,
          28.40112459789833,
          3.265041304519187,
          -34.39207395736655,
          21.545312087028435,
          22.66007173433573,
          -3.594606254225681,
          15.226968449774063,
          10.547298342211064,
          0.3761217936746277,
          -9.466377711144531,
          26.415571503287623,
          59.954285001364894,
          -18.965598549036315,
          -34.325543541432154,
          114.76095698248167,
          50.80000000000001,
          4.599999999999994,
          0.6427934831819897,
          -6.101798206958506,
          -10.230006497465752,
          -7.112756938497171,
          -15.261553856020853,
          -29.95551868318273,
          -14.902304491933918,
          -10.83122192518816,
          21.54575195372925,
          -22.41419255232549
         ],
         "yaxis": "y"
        },
        {
         "fillpattern": {
          "shape": ""
         },
         "hovertemplate": "Ngành=Máy móc thiết bị, dụng cụ PT khác<br>Date=%{x}<br>YOY=%{y}<extra></extra>",
         "legendgroup": "Máy móc thiết bị, dụng cụ PT khác",
         "line": {
          "color": "#FF6692"
         },
         "marker": {
          "symbol": "circle"
         },
         "mode": "lines",
         "name": "Máy móc thiết bị, dụng cụ PT khác",
         "orientation": "v",
         "showlegend": true,
         "stackgroup": "1",
         "type": "scatter",
         "x": [
          "2024-01-29T00:00:00",
          "2023-12-29T00:00:00",
          "2023-11-29T00:00:00",
          "2023-10-29T00:00:00",
          "2023-09-29T00:00:00",
          "2023-08-29T00:00:00",
          "2023-07-29T00:00:00",
          "2023-06-29T00:00:00",
          "2023-05-29T00:00:00",
          "2023-04-29T00:00:00",
          "2023-03-29T00:00:00",
          "2023-02-28T00:00:00",
          "2023-01-29T00:00:00",
          "2022-12-29T00:00:00",
          "2022-11-29T00:00:00",
          "2022-10-29T00:00:00",
          "2022-09-29T00:00:00",
          "2022-08-29T00:00:00",
          "2022-07-29T00:00:00",
          "2022-06-29T00:00:00",
          "2022-05-29T00:00:00",
          "2022-04-29T00:00:00",
          "2022-03-29T00:00:00",
          "2022-02-28T00:00:00",
          "2022-01-29T00:00:00",
          "2021-12-29T00:00:00",
          "2021-11-29T00:00:00",
          "2021-10-29T00:00:00",
          "2021-09-29T00:00:00",
          "2021-08-29T00:00:00",
          "2021-07-29T00:00:00",
          "2021-06-29T00:00:00",
          "2021-05-29T00:00:00",
          "2021-04-29T00:00:00",
          "2021-03-29T00:00:00",
          "2021-02-28T00:00:00",
          "2021-01-29T00:00:00",
          "2020-12-27T00:00:00",
          "2020-11-29T00:00:00",
          "2020-10-29T00:00:00",
          "2020-09-29T00:00:00",
          "2020-08-29T00:00:00",
          "2020-07-29T00:00:00",
          "2020-06-29T00:00:00",
          "2020-05-29T00:00:00",
          "2020-04-29T00:00:00",
          "2020-03-27T00:00:00",
          "2020-02-29T00:00:00",
          "2020-01-29T00:00:00"
         ],
         "xaxis": "x",
         "y": [
          -4.577947031966502,
          4.686307744586003,
          5.001236041737997,
          16.718804707221807,
          -9.528295735592522,
          -17.867310403686204,
          -21.514185631186436,
          -19.59678407679948,
          -6.426676159355424,
          -13.825995638584985,
          -4.018422625508194,
          26.57745352244254,
          -25.18540099027109,
          -13.583066668992018,
          -8.29066125555697,
          12.318120965568696,
          33.9364366963338,
          34.50966266740869,
          26.097771327473126,
          69.00730431485468,
          36.906522483059206,
          13.410973943882837,
          2.7419971415897777,
          5.98645704882253,
          -7.841789557326109,
          36.40202103144125,
          29.00924515466815,
          13.082469148290315,
          10.859496569982312,
          12.569736853482212,
          15.80569207473441,
          20.464658543574814,
          56.818805311535414,
          75.84267338064555,
          77.15836482541764,
          31.41834636781013,
          115.29636656324925,
          71.69999999999999,
          55.03275416460119,
          58.32555508153638,
          74.57978297079401,
          43.587442205000514,
          30.258974138454278,
          27.639323810430014,
          16.157951524071578,
          33.90547881103174,
          4.835605119881748,
          58.44518023498924,
          -6.453213337863673
         ],
         "yaxis": "y"
        }
       ],
       "layout": {
        "legend": {
         "title": {
          "text": "Ngành"
         },
         "tracegroupgap": 0
        },
        "margin": {
         "t": 60
        },
        "template": {
         "data": {
          "bar": [
           {
            "error_x": {
             "color": "#2a3f5f"
            },
            "error_y": {
             "color": "#2a3f5f"
            },
            "marker": {
             "line": {
              "color": "#E5ECF6",
              "width": 0.5
             },
             "pattern": {
              "fillmode": "overlay",
              "size": 10,
              "solidity": 0.2
             }
            },
            "type": "bar"
           }
          ],
          "barpolar": [
           {
            "marker": {
             "line": {
              "color": "#E5ECF6",
              "width": 0.5
             },
             "pattern": {
              "fillmode": "overlay",
              "size": 10,
              "solidity": 0.2
             }
            },
            "type": "barpolar"
           }
          ],
          "carpet": [
           {
            "aaxis": {
             "endlinecolor": "#2a3f5f",
             "gridcolor": "white",
             "linecolor": "white",
             "minorgridcolor": "white",
             "startlinecolor": "#2a3f5f"
            },
            "baxis": {
             "endlinecolor": "#2a3f5f",
             "gridcolor": "white",
             "linecolor": "white",
             "minorgridcolor": "white",
             "startlinecolor": "#2a3f5f"
            },
            "type": "carpet"
           }
          ],
          "choropleth": [
           {
            "colorbar": {
             "outlinewidth": 0,
             "ticks": ""
            },
            "type": "choropleth"
           }
          ],
          "contour": [
           {
            "colorbar": {
             "outlinewidth": 0,
             "ticks": ""
            },
            "colorscale": [
             [
              0,
              "#0d0887"
             ],
             [
              0.1111111111111111,
              "#46039f"
             ],
             [
              0.2222222222222222,
              "#7201a8"
             ],
             [
              0.3333333333333333,
              "#9c179e"
             ],
             [
              0.4444444444444444,
              "#bd3786"
             ],
             [
              0.5555555555555556,
              "#d8576b"
             ],
             [
              0.6666666666666666,
              "#ed7953"
             ],
             [
              0.7777777777777778,
              "#fb9f3a"
             ],
             [
              0.8888888888888888,
              "#fdca26"
             ],
             [
              1,
              "#f0f921"
             ]
            ],
            "type": "contour"
           }
          ],
          "contourcarpet": [
           {
            "colorbar": {
             "outlinewidth": 0,
             "ticks": ""
            },
            "type": "contourcarpet"
           }
          ],
          "heatmap": [
           {
            "colorbar": {
             "outlinewidth": 0,
             "ticks": ""
            },
            "colorscale": [
             [
              0,
              "#0d0887"
             ],
             [
              0.1111111111111111,
              "#46039f"
             ],
             [
              0.2222222222222222,
              "#7201a8"
             ],
             [
              0.3333333333333333,
              "#9c179e"
             ],
             [
              0.4444444444444444,
              "#bd3786"
             ],
             [
              0.5555555555555556,
              "#d8576b"
             ],
             [
              0.6666666666666666,
              "#ed7953"
             ],
             [
              0.7777777777777778,
              "#fb9f3a"
             ],
             [
              0.8888888888888888,
              "#fdca26"
             ],
             [
              1,
              "#f0f921"
             ]
            ],
            "type": "heatmap"
           }
          ],
          "heatmapgl": [
           {
            "colorbar": {
             "outlinewidth": 0,
             "ticks": ""
            },
            "colorscale": [
             [
              0,
              "#0d0887"
             ],
             [
              0.1111111111111111,
              "#46039f"
             ],
             [
              0.2222222222222222,
              "#7201a8"
             ],
             [
              0.3333333333333333,
              "#9c179e"
             ],
             [
              0.4444444444444444,
              "#bd3786"
             ],
             [
              0.5555555555555556,
              "#d8576b"
             ],
             [
              0.6666666666666666,
              "#ed7953"
             ],
             [
              0.7777777777777778,
              "#fb9f3a"
             ],
             [
              0.8888888888888888,
              "#fdca26"
             ],
             [
              1,
              "#f0f921"
             ]
            ],
            "type": "heatmapgl"
           }
          ],
          "histogram": [
           {
            "marker": {
             "pattern": {
              "fillmode": "overlay",
              "size": 10,
              "solidity": 0.2
             }
            },
            "type": "histogram"
           }
          ],
          "histogram2d": [
           {
            "colorbar": {
             "outlinewidth": 0,
             "ticks": ""
            },
            "colorscale": [
             [
              0,
              "#0d0887"
             ],
             [
              0.1111111111111111,
              "#46039f"
             ],
             [
              0.2222222222222222,
              "#7201a8"
             ],
             [
              0.3333333333333333,
              "#9c179e"
             ],
             [
              0.4444444444444444,
              "#bd3786"
             ],
             [
              0.5555555555555556,
              "#d8576b"
             ],
             [
              0.6666666666666666,
              "#ed7953"
             ],
             [
              0.7777777777777778,
              "#fb9f3a"
             ],
             [
              0.8888888888888888,
              "#fdca26"
             ],
             [
              1,
              "#f0f921"
             ]
            ],
            "type": "histogram2d"
           }
          ],
          "histogram2dcontour": [
           {
            "colorbar": {
             "outlinewidth": 0,
             "ticks": ""
            },
            "colorscale": [
             [
              0,
              "#0d0887"
             ],
             [
              0.1111111111111111,
              "#46039f"
             ],
             [
              0.2222222222222222,
              "#7201a8"
             ],
             [
              0.3333333333333333,
              "#9c179e"
             ],
             [
              0.4444444444444444,
              "#bd3786"
             ],
             [
              0.5555555555555556,
              "#d8576b"
             ],
             [
              0.6666666666666666,
              "#ed7953"
             ],
             [
              0.7777777777777778,
              "#fb9f3a"
             ],
             [
              0.8888888888888888,
              "#fdca26"
             ],
             [
              1,
              "#f0f921"
             ]
            ],
            "type": "histogram2dcontour"
           }
          ],
          "mesh3d": [
           {
            "colorbar": {
             "outlinewidth": 0,
             "ticks": ""
            },
            "type": "mesh3d"
           }
          ],
          "parcoords": [
           {
            "line": {
             "colorbar": {
              "outlinewidth": 0,
              "ticks": ""
             }
            },
            "type": "parcoords"
           }
          ],
          "pie": [
           {
            "automargin": true,
            "type": "pie"
           }
          ],
          "scatter": [
           {
            "fillpattern": {
             "fillmode": "overlay",
             "size": 10,
             "solidity": 0.2
            },
            "type": "scatter"
           }
          ],
          "scatter3d": [
           {
            "line": {
             "colorbar": {
              "outlinewidth": 0,
              "ticks": ""
             }
            },
            "marker": {
             "colorbar": {
              "outlinewidth": 0,
              "ticks": ""
             }
            },
            "type": "scatter3d"
           }
          ],
          "scattercarpet": [
           {
            "marker": {
             "colorbar": {
              "outlinewidth": 0,
              "ticks": ""
             }
            },
            "type": "scattercarpet"
           }
          ],
          "scattergeo": [
           {
            "marker": {
             "colorbar": {
              "outlinewidth": 0,
              "ticks": ""
             }
            },
            "type": "scattergeo"
           }
          ],
          "scattergl": [
           {
            "marker": {
             "colorbar": {
              "outlinewidth": 0,
              "ticks": ""
             }
            },
            "type": "scattergl"
           }
          ],
          "scattermapbox": [
           {
            "marker": {
             "colorbar": {
              "outlinewidth": 0,
              "ticks": ""
             }
            },
            "type": "scattermapbox"
           }
          ],
          "scatterpolar": [
           {
            "marker": {
             "colorbar": {
              "outlinewidth": 0,
              "ticks": ""
             }
            },
            "type": "scatterpolar"
           }
          ],
          "scatterpolargl": [
           {
            "marker": {
             "colorbar": {
              "outlinewidth": 0,
              "ticks": ""
             }
            },
            "type": "scatterpolargl"
           }
          ],
          "scatterternary": [
           {
            "marker": {
             "colorbar": {
              "outlinewidth": 0,
              "ticks": ""
             }
            },
            "type": "scatterternary"
           }
          ],
          "surface": [
           {
            "colorbar": {
             "outlinewidth": 0,
             "ticks": ""
            },
            "colorscale": [
             [
              0,
              "#0d0887"
             ],
             [
              0.1111111111111111,
              "#46039f"
             ],
             [
              0.2222222222222222,
              "#7201a8"
             ],
             [
              0.3333333333333333,
              "#9c179e"
             ],
             [
              0.4444444444444444,
              "#bd3786"
             ],
             [
              0.5555555555555556,
              "#d8576b"
             ],
             [
              0.6666666666666666,
              "#ed7953"
             ],
             [
              0.7777777777777778,
              "#fb9f3a"
             ],
             [
              0.8888888888888888,
              "#fdca26"
             ],
             [
              1,
              "#f0f921"
             ]
            ],
            "type": "surface"
           }
          ],
          "table": [
           {
            "cells": {
             "fill": {
              "color": "#EBF0F8"
             },
             "line": {
              "color": "white"
             }
            },
            "header": {
             "fill": {
              "color": "#C8D4E3"
             },
             "line": {
              "color": "white"
             }
            },
            "type": "table"
           }
          ]
         },
         "layout": {
          "annotationdefaults": {
           "arrowcolor": "#2a3f5f",
           "arrowhead": 0,
           "arrowwidth": 1
          },
          "autotypenumbers": "strict",
          "coloraxis": {
           "colorbar": {
            "outlinewidth": 0,
            "ticks": ""
           }
          },
          "colorscale": {
           "diverging": [
            [
             0,
             "#8e0152"
            ],
            [
             0.1,
             "#c51b7d"
            ],
            [
             0.2,
             "#de77ae"
            ],
            [
             0.3,
             "#f1b6da"
            ],
            [
             0.4,
             "#fde0ef"
            ],
            [
             0.5,
             "#f7f7f7"
            ],
            [
             0.6,
             "#e6f5d0"
            ],
            [
             0.7,
             "#b8e186"
            ],
            [
             0.8,
             "#7fbc41"
            ],
            [
             0.9,
             "#4d9221"
            ],
            [
             1,
             "#276419"
            ]
           ],
           "sequential": [
            [
             0,
             "#0d0887"
            ],
            [
             0.1111111111111111,
             "#46039f"
            ],
            [
             0.2222222222222222,
             "#7201a8"
            ],
            [
             0.3333333333333333,
             "#9c179e"
            ],
            [
             0.4444444444444444,
             "#bd3786"
            ],
            [
             0.5555555555555556,
             "#d8576b"
            ],
            [
             0.6666666666666666,
             "#ed7953"
            ],
            [
             0.7777777777777778,
             "#fb9f3a"
            ],
            [
             0.8888888888888888,
             "#fdca26"
            ],
            [
             1,
             "#f0f921"
            ]
           ],
           "sequentialminus": [
            [
             0,
             "#0d0887"
            ],
            [
             0.1111111111111111,
             "#46039f"
            ],
            [
             0.2222222222222222,
             "#7201a8"
            ],
            [
             0.3333333333333333,
             "#9c179e"
            ],
            [
             0.4444444444444444,
             "#bd3786"
            ],
            [
             0.5555555555555556,
             "#d8576b"
            ],
            [
             0.6666666666666666,
             "#ed7953"
            ],
            [
             0.7777777777777778,
             "#fb9f3a"
            ],
            [
             0.8888888888888888,
             "#fdca26"
            ],
            [
             1,
             "#f0f921"
            ]
           ]
          },
          "colorway": [
           "#636efa",
           "#EF553B",
           "#00cc96",
           "#ab63fa",
           "#FFA15A",
           "#19d3f3",
           "#FF6692",
           "#B6E880",
           "#FF97FF",
           "#FECB52"
          ],
          "font": {
           "color": "#2a3f5f"
          },
          "geo": {
           "bgcolor": "white",
           "lakecolor": "white",
           "landcolor": "#E5ECF6",
           "showlakes": true,
           "showland": true,
           "subunitcolor": "white"
          },
          "hoverlabel": {
           "align": "left"
          },
          "hovermode": "closest",
          "mapbox": {
           "style": "light"
          },
          "paper_bgcolor": "white",
          "plot_bgcolor": "#E5ECF6",
          "polar": {
           "angularaxis": {
            "gridcolor": "white",
            "linecolor": "white",
            "ticks": ""
           },
           "bgcolor": "#E5ECF6",
           "radialaxis": {
            "gridcolor": "white",
            "linecolor": "white",
            "ticks": ""
           }
          },
          "scene": {
           "xaxis": {
            "backgroundcolor": "#E5ECF6",
            "gridcolor": "white",
            "gridwidth": 2,
            "linecolor": "white",
            "showbackground": true,
            "ticks": "",
            "zerolinecolor": "white"
           },
           "yaxis": {
            "backgroundcolor": "#E5ECF6",
            "gridcolor": "white",
            "gridwidth": 2,
            "linecolor": "white",
            "showbackground": true,
            "ticks": "",
            "zerolinecolor": "white"
           },
           "zaxis": {
            "backgroundcolor": "#E5ECF6",
            "gridcolor": "white",
            "gridwidth": 2,
            "linecolor": "white",
            "showbackground": true,
            "ticks": "",
            "zerolinecolor": "white"
           }
          },
          "shapedefaults": {
           "line": {
            "color": "#2a3f5f"
           }
          },
          "ternary": {
           "aaxis": {
            "gridcolor": "white",
            "linecolor": "white",
            "ticks": ""
           },
           "baxis": {
            "gridcolor": "white",
            "linecolor": "white",
            "ticks": ""
           },
           "bgcolor": "#E5ECF6",
           "caxis": {
            "gridcolor": "white",
            "linecolor": "white",
            "ticks": ""
           }
          },
          "title": {
           "x": 0.05
          },
          "xaxis": {
           "automargin": true,
           "gridcolor": "white",
           "linecolor": "white",
           "ticks": "",
           "title": {
            "standoff": 15
           },
           "zerolinecolor": "white",
           "zerolinewidth": 2
          },
          "yaxis": {
           "automargin": true,
           "gridcolor": "white",
           "linecolor": "white",
           "ticks": "",
           "title": {
            "standoff": 15
           },
           "zerolinecolor": "white",
           "zerolinewidth": 2
          }
         }
        },
        "xaxis": {
         "anchor": "y",
         "domain": [
          0,
          1
         ],
         "rangeselector": {
          "buttons": [
           {
            "count": 1,
            "label": "YTD",
            "step": "year",
            "stepmode": "todate"
           },
           {
            "count": 1,
            "label": "1y",
            "step": "year",
            "stepmode": "backward"
           },
           {
            "count": 3,
            "label": "3y",
            "step": "year",
            "stepmode": "backward"
           },
           {
            "count": 5,
            "label": "5y",
            "step": "year",
            "stepmode": "backward"
           },
           {
            "count": 7,
            "label": "7y",
            "step": "year",
            "stepmode": "backward"
           },
           {
            "count": 10,
            "label": "10y",
            "step": "year",
            "stepmode": "backward"
           },
           {
            "step": "all"
           }
          ]
         },
         "rangeslider": {
          "visible": true
         },
         "title": {
          "text": "Date"
         }
        },
        "yaxis": {
         "anchor": "x",
         "domain": [
          0,
          1
         ],
         "title": {
          "text": "YOY"
         }
        }
       }
      }
     },
     "metadata": {},
     "output_type": "display_data"
    }
   ],
   "source": [
    "import pandas as pd\n",
    "import plotly.express as px\n",
    "import plotly.graph_objects as go\n",
    "\n",
    "df_show = dfs_xk[\n",
    "    (\n",
    "        (dfs_xk[\"Ngành\"] == \"Điện tử, máy tính và linh kiện\")\n",
    "        | (dfs_xk[\"Ngành\"] == \"Điện thoại và linh kiện\")\n",
    "        | (dfs_xk[\"Ngành\"] == \"Máy móc thiết bị, dụng cụ PT khác\")\n",
    "        | (dfs_xk[\"Ngành\"] == \"Dệt, may\")\n",
    "        | (dfs_xk[\"Ngành\"] == \"Giày dép\")\n",
    "        | (dfs_xk[\"Ngành\"] == \"Thủy sản\")\n",
    "        | (dfs_xk[\"Ngành\"] == \"Sắt thép\")\n",
    "    )\n",
    "    & (dfs_xk[\"Date\"] > \"2020-01-01\")\n",
    "]\n",
    "\n",
    "fig = px.area(df_show, x=\"Date\", y=\"YOY\", color=\"Ngành\")\n",
    "\n",
    "fig.update_xaxes(\n",
    "    rangeslider_visible=True,\n",
    "    rangeselector=dict(\n",
    "        buttons=[\n",
    "            dict(count=1, label=\"YTD\", step=\"year\", stepmode=\"todate\"),\n",
    "            dict(count=1, label=\"1y\", step=\"year\", stepmode=\"backward\"),\n",
    "            dict(count=3, label=\"3y\", step=\"year\", stepmode=\"backward\"),\n",
    "            dict(count=5, label=\"5y\", step=\"year\", stepmode=\"backward\"),\n",
    "            dict(count=7, label=\"7y\", step=\"year\", stepmode=\"backward\"),\n",
    "            dict(count=10, label=\"10y\", step=\"year\", stepmode=\"backward\"),\n",
    "            dict(step=\"all\"),\n",
    "        ]\n",
    "    ),\n",
    ")\n",
    "\n",
    "fig.show()"
   ]
  },
  {
   "cell_type": "code",
   "execution_count": null,
   "metadata": {},
   "outputs": [],
   "source": []
  },
  {
   "cell_type": "code",
   "execution_count": null,
   "metadata": {},
   "outputs": [],
   "source": []
  }
 ],
 "metadata": {
  "kernelspec": {
   "display_name": "vn-macroeconomics",
   "language": "python",
   "name": "python3"
  },
  "language_info": {
   "codemirror_mode": {
    "name": "ipython",
    "version": 3
   },
   "file_extension": ".py",
   "mimetype": "text/x-python",
   "name": "python",
   "nbconvert_exporter": "python",
   "pygments_lexer": "ipython3",
   "version": "3.9.12"
  }
 },
 "nbformat": 4,
 "nbformat_minor": 2
}
