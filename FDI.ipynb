{
  "cells": [
    {
      "cell_type": "code",
      "execution_count": 1,
      "metadata": {},
      "outputs": [],
      "source": [
        "import os\n",
        "import contextlib\n",
        "\n",
        "import pandas as pd\n",
        "import seaborn as sns\n",
        "from datetime import date\n",
        "import plotly.express as px\n",
        "import plotly.graph_objects as go"
      ]
    },
    {
      "cell_type": "code",
      "execution_count": 2,
      "metadata": {},
      "outputs": [],
      "source": [
        "def find_sheet_name(sheet_names):\n",
        "    cpi_sheet_names = list(filter(lambda x: \"fdi\" in x.lower(), sheet_names))\n",
        "\n",
        "    if len(cpi_sheet_names) == 1:\n",
        "        return cpi_sheet_names[0]\n",
        "\n",
        "    cpi_sheet_names = list(filter(lambda x: \"dtnn\" in x.lower(), sheet_names))\n",
        "\n",
        "    if len(cpi_sheet_names) == 1:\n",
        "        return cpi_sheet_names[0]\n",
        "\n",
        "    if len(sheet_names) == 43:\n",
        "        return \"22\"\n",
        "\n",
        "    cpi_sheet_names = list(filter(lambda x: \"sheet1\" in x.lower(), sheet_names))\n",
        "\n",
        "    if len(cpi_sheet_names) == 1:\n",
        "        return cpi_sheet_names[0]\n",
        "\n",
        "    raise RuntimeError(sheet_names, len(sheet_names))"
      ]
    },
    {
      "cell_type": "code",
      "execution_count": 3,
      "metadata": {},
      "outputs": [],
      "source": [
        "en_to_vn = {\n",
        "    \"TOTAL\": \"TỔNG SỐ\",\n",
        "    \"By province\": \"Phân theo một số địa phương\",\n",
        "    \"Bac Lieu\": \"Bạc Liêu\",\n",
        "    \"Hai Phong\": \"Hải Phòng\",\n",
        "    \"Binh Duong\": \"Bình Dương\",\n",
        "    \"Ha Nam\": \"Hà Nam\",\n",
        "    \"Ha Noi\": \"Hà Nội\",\n",
        "    \"Ho Chi Minh city\": \"TP. Hồ Chí Minh\",\n",
        "    \"Tay Ninh\": \"Tây Ninh\",\n",
        "    \"Bac Ninh\": \"Bắc Ninh\",\n",
        "    \"Quang Ninh\": \"Quảng Ninh\",\n",
        "    \"Bac Giang\": \"Bác Giang\",\n",
        "    \"Quang Binh\": \"Quảng Bình\",\n",
        "    \"Ba Ria - Vung Tau\": \"Bà Rịa - Vũng Tàu\",\n",
        "    \"Long An\": \"Long An\",\n",
        "    \"Thanh Hoa\": \"Thanh Hóa\",\n",
        "    \"Dong Nai\": \"Đồng Nai\",\n",
        "    \"Phu Tho\": \"Phú Thọ\",\n",
        "    \"Da Nang\": \"Đà Nẵng\",\n",
        "    \"Hai Duong\": \"Hải Dương\",\n",
        "    \"Vinh Phuc\": \"Vĩnh Phúc\",\n",
        "    \"Vinh Long\": \"Vĩnh Long\",\n",
        "    \"By country and geographical territory\": \"Phân theo một số nước và vùng lãnh thổ\",\n",
        "    \"Singapore\": \"Xin-ga-po\",\n",
        "    \"China\": \"Trung Quốc\",\n",
        "    \"South Korea\": \"Hàn Quốc\",\n",
        "    \"Special Administration Hong Kong\": \"Đặc khu HC Hồng Công (TQ)\",\n",
        "    \"Taiwan\": \"Đài Loan\",\n",
        "    \"Japan\": \"Nhật Bản\",\n",
        "    \"Philippines\": \"Phi-li-pin\",\n",
        "    \"BritishVirginIslands\": \"Quần đảo Virgin thuộc Anh\",\n",
        "    \"Thailand\": \"Thái Lan\",\n",
        "    \"Netherlands\": \"Hà Lan\",\n",
        "    \"Cayman Islands\": \"Quần đảo Cay-man\",\n",
        "    \"Samoa\": \"Xa-moa\",\n",
        "    \"United State\": \"Hoa Kỳ\",\n",
        "    \"Seychelles\": \"Xây-Sen\",\n",
        "    \"Malaysia\": \"Ma-lai-xi-a\",\n",
        "    \"France\": \"Pháp\",\n",
        "    \"Germany\": \"Đức\",\n",
        "}"
      ]
    },
    {
      "cell_type": "code",
      "execution_count": 4,
      "metadata": {},
      "outputs": [
        {
          "data": {
            "text/html": [
              "<div>\n",
              "<style scoped>\n",
              "    .dataframe tbody tr th:only-of-type {\n",
              "        vertical-align: middle;\n",
              "    }\n",
              "\n",
              "    .dataframe tbody tr th {\n",
              "        vertical-align: top;\n",
              "    }\n",
              "\n",
              "    .dataframe thead th {\n",
              "        text-align: right;\n",
              "    }\n",
              "</style>\n",
              "<table border=\"1\" class=\"dataframe\">\n",
              "  <thead>\n",
              "    <tr style=\"text-align: right;\">\n",
              "      <th></th>\n",
              "      <th>Phân Loại</th>\n",
              "      <th>Số dự án</th>\n",
              "      <th>Vốn đăng ký cấp mới</th>\n",
              "      <th>Vốn đăng ký điều chỉnh</th>\n",
              "      <th>Vốn đăng ký</th>\n",
              "      <th>Date</th>\n",
              "    </tr>\n",
              "  </thead>\n",
              "  <tbody>\n",
              "    <tr>\n",
              "      <th>5</th>\n",
              "      <td>TỔNG SỐ</td>\n",
              "      <td>1738</td>\n",
              "      <td>15245.4</td>\n",
              "      <td>9014.8</td>\n",
              "      <td>24260.2</td>\n",
              "      <td>2021-12-29</td>\n",
              "    </tr>\n",
              "    <tr>\n",
              "      <th>7</th>\n",
              "      <td>Long An</td>\n",
              "      <td>54</td>\n",
              "      <td>3518.8</td>\n",
              "      <td>255.2</td>\n",
              "      <td>3774.0</td>\n",
              "      <td>2021-12-29</td>\n",
              "    </tr>\n",
              "    <tr>\n",
              "      <th>8</th>\n",
              "      <td>Cần Thơ</td>\n",
              "      <td>5</td>\n",
              "      <td>1316.8</td>\n",
              "      <td>9</td>\n",
              "      <td>1325.8</td>\n",
              "      <td>2021-12-29</td>\n",
              "    </tr>\n",
              "    <tr>\n",
              "      <th>9</th>\n",
              "      <td>Bắc Ninh</td>\n",
              "      <td>126</td>\n",
              "      <td>1170.5</td>\n",
              "      <td>320.6</td>\n",
              "      <td>1491.1</td>\n",
              "      <td>2021-12-29</td>\n",
              "    </tr>\n",
              "    <tr>\n",
              "      <th>10</th>\n",
              "      <td>Quảng Ninh</td>\n",
              "      <td>10</td>\n",
              "      <td>1011.5</td>\n",
              "      <td>114</td>\n",
              "      <td>1125.5</td>\n",
              "      <td>2021-12-29</td>\n",
              "    </tr>\n",
              "    <tr>\n",
              "      <th>11</th>\n",
              "      <td>Vĩnh Phúc</td>\n",
              "      <td>27</td>\n",
              "      <td>703.1</td>\n",
              "      <td>33.2</td>\n",
              "      <td>736.3</td>\n",
              "      <td>2021-12-29</td>\n",
              "    </tr>\n",
              "    <tr>\n",
              "      <th>12</th>\n",
              "      <td>TP. Hồ Chí Minh</td>\n",
              "      <td>633</td>\n",
              "      <td>686.6</td>\n",
              "      <td>1124.3</td>\n",
              "      <td>1810.9</td>\n",
              "      <td>2021-12-29</td>\n",
              "    </tr>\n",
              "    <tr>\n",
              "      <th>13</th>\n",
              "      <td>Bình Dương</td>\n",
              "      <td>75</td>\n",
              "      <td>629.6</td>\n",
              "      <td>669.5</td>\n",
              "      <td>1299.1</td>\n",
              "      <td>2021-12-29</td>\n",
              "    </tr>\n",
              "    <tr>\n",
              "      <th>14</th>\n",
              "      <td>Bắc Giang</td>\n",
              "      <td>21</td>\n",
              "      <td>621.8</td>\n",
              "      <td>652.7</td>\n",
              "      <td>1274.5</td>\n",
              "      <td>2021-12-29</td>\n",
              "    </tr>\n",
              "    <tr>\n",
              "      <th>15</th>\n",
              "      <td>Thái Bình</td>\n",
              "      <td>6</td>\n",
              "      <td>459.9</td>\n",
              "      <td>1.4</td>\n",
              "      <td>461.3</td>\n",
              "      <td>2021-12-29</td>\n",
              "    </tr>\n",
              "    <tr>\n",
              "      <th>17</th>\n",
              "      <td>Phú Thọ</td>\n",
              "      <td>15</td>\n",
              "      <td>434.2</td>\n",
              "      <td>133.5</td>\n",
              "      <td>567.7</td>\n",
              "      <td>2021-12-29</td>\n",
              "    </tr>\n",
              "    <tr>\n",
              "      <th>18</th>\n",
              "      <td>Hưng Yên</td>\n",
              "      <td>28</td>\n",
              "      <td>393.8</td>\n",
              "      <td>272.6</td>\n",
              "      <td>666.4</td>\n",
              "      <td>2021-12-29</td>\n",
              "    </tr>\n",
              "    <tr>\n",
              "      <th>19</th>\n",
              "      <td>Bà Rịa - Vũng Tàu</td>\n",
              "      <td>21</td>\n",
              "      <td>345.1</td>\n",
              "      <td>10.4</td>\n",
              "      <td>355.5</td>\n",
              "      <td>2021-12-29</td>\n",
              "    </tr>\n",
              "    <tr>\n",
              "      <th>20</th>\n",
              "      <td>Bình Phước</td>\n",
              "      <td>49</td>\n",
              "      <td>327.5</td>\n",
              "      <td>109.4</td>\n",
              "      <td>436.9</td>\n",
              "      <td>2021-12-29</td>\n",
              "    </tr>\n",
              "    <tr>\n",
              "      <th>21</th>\n",
              "      <td>Hải Phòng</td>\n",
              "      <td>48</td>\n",
              "      <td>317.1</td>\n",
              "      <td>2727.6</td>\n",
              "      <td>3044.7</td>\n",
              "      <td>2021-12-29</td>\n",
              "    </tr>\n",
              "    <tr>\n",
              "      <th>22</th>\n",
              "      <td>Đồng Nai</td>\n",
              "      <td>51</td>\n",
              "      <td>295.4</td>\n",
              "      <td>467</td>\n",
              "      <td>762.4</td>\n",
              "      <td>2021-12-29</td>\n",
              "    </tr>\n",
              "    <tr>\n",
              "      <th>23</th>\n",
              "      <td>Nghệ An</td>\n",
              "      <td>9</td>\n",
              "      <td>283.2</td>\n",
              "      <td>34.7</td>\n",
              "      <td>317.9</td>\n",
              "      <td>2021-12-29</td>\n",
              "    </tr>\n",
              "    <tr>\n",
              "      <th>24</th>\n",
              "      <td>Tây Ninh</td>\n",
              "      <td>16</td>\n",
              "      <td>247.9</td>\n",
              "      <td>573.9</td>\n",
              "      <td>821.8</td>\n",
              "      <td>2021-12-29</td>\n",
              "    </tr>\n",
              "    <tr>\n",
              "      <th>25</th>\n",
              "      <td>Hà Nội</td>\n",
              "      <td>362</td>\n",
              "      <td>237.5</td>\n",
              "      <td>838.8</td>\n",
              "      <td>1076.3</td>\n",
              "      <td>2021-12-29</td>\n",
              "    </tr>\n",
              "    <tr>\n",
              "      <th>26</th>\n",
              "      <td>Hà Nam</td>\n",
              "      <td>20</td>\n",
              "      <td>237.2</td>\n",
              "      <td>68.6</td>\n",
              "      <td>305.8</td>\n",
              "      <td>2021-12-29</td>\n",
              "    </tr>\n",
              "    <tr>\n",
              "      <th>28</th>\n",
              "      <td>Xin-ga-po</td>\n",
              "      <td>221</td>\n",
              "      <td>6105.13</td>\n",
              "      <td>1238.08</td>\n",
              "      <td>7343.21</td>\n",
              "      <td>2021-12-29</td>\n",
              "    </tr>\n",
              "    <tr>\n",
              "      <th>29</th>\n",
              "      <td>Nhật Bản</td>\n",
              "      <td>199</td>\n",
              "      <td>2790.27</td>\n",
              "      <td>859.76</td>\n",
              "      <td>3650.03</td>\n",
              "      <td>2021-12-29</td>\n",
              "    </tr>\n",
              "    <tr>\n",
              "      <th>30</th>\n",
              "      <td>Đặc khu hành chính Hồng Công (TQ)</td>\n",
              "      <td>126</td>\n",
              "      <td>1672.24</td>\n",
              "      <td>470.07</td>\n",
              "      <td>2142.31</td>\n",
              "      <td>2021-12-29</td>\n",
              "    </tr>\n",
              "    <tr>\n",
              "      <th>31</th>\n",
              "      <td>Trung Quốc</td>\n",
              "      <td>204</td>\n",
              "      <td>1664.35</td>\n",
              "      <td>1047.54</td>\n",
              "      <td>2711.89</td>\n",
              "      <td>2021-12-29</td>\n",
              "    </tr>\n",
              "    <tr>\n",
              "      <th>32</th>\n",
              "      <td>Hàn Quốc</td>\n",
              "      <td>361</td>\n",
              "      <td>1198.94</td>\n",
              "      <td>3162.82</td>\n",
              "      <td>4361.76</td>\n",
              "      <td>2021-12-29</td>\n",
              "    </tr>\n",
              "    <tr>\n",
              "      <th>33</th>\n",
              "      <td>Hoa Kỳ</td>\n",
              "      <td>77</td>\n",
              "      <td>398.4</td>\n",
              "      <td>255.48</td>\n",
              "      <td>653.88</td>\n",
              "      <td>2021-12-29</td>\n",
              "    </tr>\n",
              "    <tr>\n",
              "      <th>34</th>\n",
              "      <td>Đài Loan</td>\n",
              "      <td>63</td>\n",
              "      <td>284.85</td>\n",
              "      <td>805.39</td>\n",
              "      <td>1090.24</td>\n",
              "      <td>2021-12-29</td>\n",
              "    </tr>\n",
              "    <tr>\n",
              "      <th>35</th>\n",
              "      <td>Quần đảo Virgin thuộc Anh</td>\n",
              "      <td>27</td>\n",
              "      <td>219.8</td>\n",
              "      <td>197.03</td>\n",
              "      <td>416.83</td>\n",
              "      <td>2021-12-29</td>\n",
              "    </tr>\n",
              "    <tr>\n",
              "      <th>36</th>\n",
              "      <td>Thái Lan</td>\n",
              "      <td>35</td>\n",
              "      <td>199.43</td>\n",
              "      <td>4.2</td>\n",
              "      <td>203.63</td>\n",
              "      <td>2021-12-29</td>\n",
              "    </tr>\n",
              "    <tr>\n",
              "      <th>37</th>\n",
              "      <td>Hà Lan</td>\n",
              "      <td>24</td>\n",
              "      <td>119.44</td>\n",
              "      <td>186.55</td>\n",
              "      <td>305.99</td>\n",
              "      <td>2021-12-29</td>\n",
              "    </tr>\n",
              "    <tr>\n",
              "      <th>38</th>\n",
              "      <td>Xây Sen</td>\n",
              "      <td>17</td>\n",
              "      <td>93.62</td>\n",
              "      <td>39.19</td>\n",
              "      <td>132.81</td>\n",
              "      <td>2021-12-29</td>\n",
              "    </tr>\n",
              "    <tr>\n",
              "      <th>39</th>\n",
              "      <td>CHLB Đức</td>\n",
              "      <td>34</td>\n",
              "      <td>85.66</td>\n",
              "      <td>20.93</td>\n",
              "      <td>106.59</td>\n",
              "      <td>2021-12-29</td>\n",
              "    </tr>\n",
              "    <tr>\n",
              "      <th>40</th>\n",
              "      <td>Xa-moa</td>\n",
              "      <td>15</td>\n",
              "      <td>80.7</td>\n",
              "      <td>184.08</td>\n",
              "      <td>264.78</td>\n",
              "      <td>2021-12-29</td>\n",
              "    </tr>\n",
              "    <tr>\n",
              "      <th>42</th>\n",
              "      <td>Vương quốc Anh</td>\n",
              "      <td>48</td>\n",
              "      <td>53.25</td>\n",
              "      <td>120.62</td>\n",
              "      <td>173.87</td>\n",
              "      <td>2021-12-29</td>\n",
              "    </tr>\n",
              "    <tr>\n",
              "      <th>43</th>\n",
              "      <td>Ôx-trây-li-a</td>\n",
              "      <td>35</td>\n",
              "      <td>38.58</td>\n",
              "      <td>-5.88</td>\n",
              "      <td>32.7</td>\n",
              "      <td>2021-12-29</td>\n",
              "    </tr>\n",
              "    <tr>\n",
              "      <th>44</th>\n",
              "      <td>Quần đảo Virgin thuộc Mỹ</td>\n",
              "      <td>1</td>\n",
              "      <td>27.5</td>\n",
              "      <td>1.76</td>\n",
              "      <td>29.26</td>\n",
              "      <td>2021-12-29</td>\n",
              "    </tr>\n",
              "  </tbody>\n",
              "</table>\n",
              "</div>"
            ],
            "text/plain": [
              "                            Phân Loại Số dự án Vốn đăng ký cấp mới  \\\n",
              "5                             TỔNG SỐ     1738             15245.4   \n",
              "7                             Long An       54              3518.8   \n",
              "8                             Cần Thơ        5              1316.8   \n",
              "9                            Bắc Ninh      126              1170.5   \n",
              "10                         Quảng Ninh       10              1011.5   \n",
              "11                          Vĩnh Phúc       27               703.1   \n",
              "12                    TP. Hồ Chí Minh      633               686.6   \n",
              "13                         Bình Dương       75               629.6   \n",
              "14                          Bắc Giang       21               621.8   \n",
              "15                          Thái Bình        6               459.9   \n",
              "17                            Phú Thọ       15               434.2   \n",
              "18                           Hưng Yên       28               393.8   \n",
              "19                  Bà Rịa - Vũng Tàu       21               345.1   \n",
              "20                         Bình Phước       49               327.5   \n",
              "21                          Hải Phòng       48               317.1   \n",
              "22                           Đồng Nai       51               295.4   \n",
              "23                            Nghệ An        9               283.2   \n",
              "24                           Tây Ninh       16               247.9   \n",
              "25                             Hà Nội      362               237.5   \n",
              "26                             Hà Nam       20               237.2   \n",
              "28                          Xin-ga-po      221             6105.13   \n",
              "29                           Nhật Bản      199             2790.27   \n",
              "30  Đặc khu hành chính Hồng Công (TQ)      126             1672.24   \n",
              "31                         Trung Quốc      204             1664.35   \n",
              "32                           Hàn Quốc      361             1198.94   \n",
              "33                             Hoa Kỳ       77               398.4   \n",
              "34                           Đài Loan       63              284.85   \n",
              "35          Quần đảo Virgin thuộc Anh       27               219.8   \n",
              "36                           Thái Lan       35              199.43   \n",
              "37                             Hà Lan       24              119.44   \n",
              "38                            Xây Sen       17               93.62   \n",
              "39                           CHLB Đức       34               85.66   \n",
              "40                             Xa-moa       15                80.7   \n",
              "42                     Vương quốc Anh       48               53.25   \n",
              "43                       Ôx-trây-li-a       35               38.58   \n",
              "44           Quần đảo Virgin thuộc Mỹ        1                27.5   \n",
              "\n",
              "   Vốn đăng ký điều chỉnh Vốn đăng ký       Date  \n",
              "5                  9014.8     24260.2 2021-12-29  \n",
              "7                   255.2      3774.0 2021-12-29  \n",
              "8                       9      1325.8 2021-12-29  \n",
              "9                   320.6      1491.1 2021-12-29  \n",
              "10                    114      1125.5 2021-12-29  \n",
              "11                   33.2       736.3 2021-12-29  \n",
              "12                 1124.3      1810.9 2021-12-29  \n",
              "13                  669.5      1299.1 2021-12-29  \n",
              "14                  652.7      1274.5 2021-12-29  \n",
              "15                    1.4       461.3 2021-12-29  \n",
              "17                  133.5       567.7 2021-12-29  \n",
              "18                  272.6       666.4 2021-12-29  \n",
              "19                   10.4       355.5 2021-12-29  \n",
              "20                  109.4       436.9 2021-12-29  \n",
              "21                 2727.6      3044.7 2021-12-29  \n",
              "22                    467       762.4 2021-12-29  \n",
              "23                   34.7       317.9 2021-12-29  \n",
              "24                  573.9       821.8 2021-12-29  \n",
              "25                  838.8      1076.3 2021-12-29  \n",
              "26                   68.6       305.8 2021-12-29  \n",
              "28                1238.08     7343.21 2021-12-29  \n",
              "29                 859.76     3650.03 2021-12-29  \n",
              "30                 470.07     2142.31 2021-12-29  \n",
              "31                1047.54     2711.89 2021-12-29  \n",
              "32                3162.82     4361.76 2021-12-29  \n",
              "33                 255.48      653.88 2021-12-29  \n",
              "34                 805.39     1090.24 2021-12-29  \n",
              "35                 197.03      416.83 2021-12-29  \n",
              "36                    4.2      203.63 2021-12-29  \n",
              "37                 186.55      305.99 2021-12-29  \n",
              "38                  39.19      132.81 2021-12-29  \n",
              "39                  20.93      106.59 2021-12-29  \n",
              "40                 184.08      264.78 2021-12-29  \n",
              "42                 120.62      173.87 2021-12-29  \n",
              "43                  -5.88        32.7 2021-12-29  \n",
              "44                   1.76       29.26 2021-12-29  "
            ]
          },
          "execution_count": 4,
          "metadata": {},
          "output_type": "execute_result"
        }
      ],
      "source": [
        "def get_cpi(xl, sheet_name, date):\n",
        "    df = xl.parse(sheet_name)\n",
        "\n",
        "    if (\n",
        "        len(\n",
        "            df[df.columns[1]][\n",
        "                (df[df.columns[1]] == \"Phân theo một số địa phương\")\n",
        "                | (df[df.columns[1]] == \"By province\")\n",
        "            ].index\n",
        "        )\n",
        "        > 0\n",
        "    ):\n",
        "        df[df.columns[1]] = df[df.columns[1]].fillna(df[df.columns[0]])\n",
        "        df = df.drop(columns=[df.columns[0]])\n",
        "\n",
        "    if (\n",
        "        len(\n",
        "            df[df.columns[1]][\n",
        "                (df[df.columns[1]] == \"TP. Hồ Chí Minh\")\n",
        "                | (df[df.columns[1]] == \"Ho Chi Minh city\")\n",
        "                | (df[df.columns[1]] == \" TP. Hồ Chí Minh \")\n",
        "            ].index\n",
        "        )\n",
        "        > 0\n",
        "    ):\n",
        "        df[df.columns[1]] = df[df.columns[1]].fillna(df[df.columns[0]])\n",
        "        df = df.drop(columns=[df.columns[0]])\n",
        "\n",
        "    df[df.columns[0]] = (\n",
        "        df[df.columns[0]].replace(r\"\\s+\", \" \", regex=True).replace(r\"\\n\", \" \", regex=True)\n",
        "    )\n",
        "\n",
        "    df[df.columns[0]] = df[df.columns[0]].str.strip()\n",
        "\n",
        "    df = df.drop(\n",
        "        list(\n",
        "            range(\n",
        "                df[df.columns[0]][\n",
        "                    (df[df.columns[0]] == \"TỔNG SỐ\") | ((df[df.columns[0]] == \"TOTAL\"))\n",
        "                ].index[0]\n",
        "            )\n",
        "        )\n",
        "    )\n",
        "\n",
        "    if len(df[df.columns[0]][df[df.columns[0]] == \"TOTAL\"].index) > 0:\n",
        "        df[df.columns[0]] = df[df.columns[0]].map(en_to_vn)\n",
        "\n",
        "    if len(df.columns) == 4:\n",
        "        df.columns = [\n",
        "            \"Phân Loại\",\n",
        "            \"Số dự án\",\n",
        "            \"Vốn đăng ký cấp mới\",\n",
        "            \"Vốn đăng ký điều chỉnh\",\n",
        "        ]\n",
        "\n",
        "        df = df[pd.to_numeric(df[\"Số dự án\"], errors=\"coerce\").notnull()]\n",
        "        df = df[pd.to_numeric(df[\"Vốn đăng ký cấp mới\"], errors=\"coerce\").notnull()]\n",
        "        df = df[pd.to_numeric(df[\"Vốn đăng ký điều chỉnh\"], errors=\"coerce\").notnull()]\n",
        "\n",
        "        df[\"Vốn đăng ký\"] = df[\"Vốn đăng ký cấp mới\"] + df[\"Vốn đăng ký điều chỉnh\"]\n",
        "    else:\n",
        "        df.columns = [\n",
        "            \"Phân Loại\",\n",
        "            \"Số dự án\",\n",
        "            \"Vốn đăng ký\",\n",
        "        ]\n",
        "\n",
        "        df = df[pd.to_numeric(df[\"Số dự án\"], errors=\"coerce\").notnull()]\n",
        "        df = df[pd.to_numeric(df[\"Vốn đăng ký\"], errors=\"coerce\").notnull()]\n",
        "\n",
        "    df[\"Date\"] = date\n",
        "    df[\"Date\"] = pd.to_datetime(df[\"Date\"], dayfirst=False)\n",
        "\n",
        "    return df\n",
        "\n",
        "\n",
        "xl = pd.ExcelFile(\"datas/2021-12-29-03-Bieu-2021-28.12.xlsx\")\n",
        "\n",
        "sheet_name = find_sheet_name(xl.sheet_names)\n",
        "\n",
        "get_cpi(xl, sheet_name, \"2021-12-29\")"
      ]
    },
    {
      "cell_type": "code",
      "execution_count": 5,
      "metadata": {},
      "outputs": [],
      "source": [
        "import os\n",
        "import contextlib\n",
        "\n",
        "dfs_fdi_origin = []\n",
        "for file_name in sorted(\n",
        "    os.listdir(\"./datas\"),\n",
        "    key=lambda filename: f\"{filename.split('-')[0]}-{filename.split('-')[1]}-{filename.split('-')[2]}\",\n",
        "    reverse=True,\n",
        "):\n",
        "    if file_name.startswith(\".~\"):\n",
        "        continue\n",
        "\n",
        "    try:\n",
        "        file_path = os.path.join(\"./datas\", file_name)\n",
        "\n",
        "        year = int(file_name.split(\"-\")[0])\n",
        "        month = int(file_name.split(\"-\")[1])\n",
        "        day = int(file_name.split(\"-\")[2])\n",
        "\n",
        "        if year < 2016:\n",
        "            continue\n",
        "\n",
        "        xl = pd.ExcelFile(file_path)\n",
        "\n",
        "        df_fdi = get_cpi(xl, find_sheet_name(xl.sheet_names), f\"{year}-{month}-{day}\")\n",
        "\n",
        "        dfs_fdi_origin.append(df_fdi)\n",
        "    except Exception as e:\n",
        "        print(file_name)\n",
        "        raise e"
      ]
    },
    {
      "cell_type": "code",
      "execution_count": null,
      "metadata": {},
      "outputs": [
        {
          "data": {
            "text/html": [
              "<div>\n",
              "<style scoped>\n",
              "    .dataframe tbody tr th:only-of-type {\n",
              "        vertical-align: middle;\n",
              "    }\n",
              "\n",
              "    .dataframe tbody tr th {\n",
              "        vertical-align: top;\n",
              "    }\n",
              "\n",
              "    .dataframe thead th {\n",
              "        text-align: right;\n",
              "    }\n",
              "</style>\n",
              "<table border=\"1\" class=\"dataframe\">\n",
              "  <thead>\n",
              "    <tr style=\"text-align: right;\">\n",
              "      <th></th>\n",
              "      <th>Phân Loại</th>\n",
              "      <th>Số dự án</th>\n",
              "      <th>Vốn đăng ký cấp mới</th>\n",
              "      <th>Vốn đăng ký điều chỉnh</th>\n",
              "      <th>Vốn đăng ký</th>\n",
              "      <th>Date</th>\n",
              "    </tr>\n",
              "  </thead>\n",
              "  <tbody>\n",
              "    <tr>\n",
              "      <th>0</th>\n",
              "      <td>TỔNG SỐ</td>\n",
              "      <td>2254</td>\n",
              "      <td>10233.343473</td>\n",
              "      <td>5150.443695</td>\n",
              "      <td>15383.787168</td>\n",
              "      <td>2023-09-29</td>\n",
              "    </tr>\n",
              "    <tr>\n",
              "      <th>1</th>\n",
              "      <td>Bắc Giang</td>\n",
              "      <td>72</td>\n",
              "      <td>1412.98117</td>\n",
              "      <td>321.942192</td>\n",
              "      <td>1734.923362</td>\n",
              "      <td>2023-09-29</td>\n",
              "    </tr>\n",
              "    <tr>\n",
              "      <th>2</th>\n",
              "      <td>Nghệ An</td>\n",
              "      <td>14</td>\n",
              "      <td>1015.933632</td>\n",
              "      <td>256.78996</td>\n",
              "      <td>1272.723592</td>\n",
              "      <td>2023-09-29</td>\n",
              "    </tr>\n",
              "    <tr>\n",
              "      <th>3</th>\n",
              "      <td>Bắc Ninh</td>\n",
              "      <td>266</td>\n",
              "      <td>852.306697</td>\n",
              "      <td>378.744122</td>\n",
              "      <td>1231.050819</td>\n",
              "      <td>2023-09-29</td>\n",
              "    </tr>\n",
              "    <tr>\n",
              "      <th>4</th>\n",
              "      <td>Bình Phước</td>\n",
              "      <td>35</td>\n",
              "      <td>689.896028</td>\n",
              "      <td>-2.684363</td>\n",
              "      <td>687.211665</td>\n",
              "      <td>2023-09-29</td>\n",
              "    </tr>\n",
              "    <tr>\n",
              "      <th>...</th>\n",
              "      <td>...</td>\n",
              "      <td>...</td>\n",
              "      <td>...</td>\n",
              "      <td>...</td>\n",
              "      <td>...</td>\n",
              "      <td>...</td>\n",
              "    </tr>\n",
              "    <tr>\n",
              "      <th>3274</th>\n",
              "      <td>Quần đảo Vigin thuộc Anh</td>\n",
              "      <td>3</td>\n",
              "      <td>NaN</td>\n",
              "      <td>NaN</td>\n",
              "      <td>9.4</td>\n",
              "      <td>2016-01-29</td>\n",
              "    </tr>\n",
              "    <tr>\n",
              "      <th>3275</th>\n",
              "      <td>Đài Loan</td>\n",
              "      <td>6</td>\n",
              "      <td>NaN</td>\n",
              "      <td>NaN</td>\n",
              "      <td>8.7</td>\n",
              "      <td>2016-01-29</td>\n",
              "    </tr>\n",
              "    <tr>\n",
              "      <th>3276</th>\n",
              "      <td>Thái Lan</td>\n",
              "      <td>3</td>\n",
              "      <td>NaN</td>\n",
              "      <td>NaN</td>\n",
              "      <td>6.3</td>\n",
              "      <td>2016-01-29</td>\n",
              "    </tr>\n",
              "    <tr>\n",
              "      <th>3277</th>\n",
              "      <td>Hà Lan</td>\n",
              "      <td>1</td>\n",
              "      <td>NaN</td>\n",
              "      <td>NaN</td>\n",
              "      <td>6</td>\n",
              "      <td>2016-01-29</td>\n",
              "    </tr>\n",
              "    <tr>\n",
              "      <th>3278</th>\n",
              "      <td>Vương quốc Anh</td>\n",
              "      <td>4</td>\n",
              "      <td>NaN</td>\n",
              "      <td>NaN</td>\n",
              "      <td>0.3</td>\n",
              "      <td>2016-01-29</td>\n",
              "    </tr>\n",
              "  </tbody>\n",
              "</table>\n",
              "<p>3279 rows × 6 columns</p>\n",
              "</div>"
            ],
            "text/plain": [
              "                     Phân Loại Số dự án Vốn đăng ký cấp mới  \\\n",
              "0                      TỔNG SỐ     2254        10233.343473   \n",
              "1                    Bắc Giang       72          1412.98117   \n",
              "2                      Nghệ An       14         1015.933632   \n",
              "3                     Bắc Ninh      266          852.306697   \n",
              "4                   Bình Phước       35          689.896028   \n",
              "...                        ...      ...                 ...   \n",
              "3274  Quần đảo Vigin thuộc Anh        3                 NaN   \n",
              "3275                  Đài Loan        6                 NaN   \n",
              "3276                  Thái Lan        3                 NaN   \n",
              "3277                    Hà Lan        1                 NaN   \n",
              "3278            Vương quốc Anh        4                 NaN   \n",
              "\n",
              "     Vốn đăng ký điều chỉnh   Vốn đăng ký       Date  \n",
              "0               5150.443695  15383.787168 2023-09-29  \n",
              "1                321.942192   1734.923362 2023-09-29  \n",
              "2                 256.78996   1272.723592 2023-09-29  \n",
              "3                378.744122   1231.050819 2023-09-29  \n",
              "4                 -2.684363    687.211665 2023-09-29  \n",
              "...                     ...           ...        ...  \n",
              "3274                    NaN           9.4 2016-01-29  \n",
              "3275                    NaN           8.7 2016-01-29  \n",
              "3276                    NaN           6.3 2016-01-29  \n",
              "3277                    NaN             6 2016-01-29  \n",
              "3278                    NaN           0.3 2016-01-29  \n",
              "\n",
              "[3279 rows x 6 columns]"
            ]
          },
          "execution_count": 38,
          "metadata": {},
          "output_type": "execute_result"
        }
      ],
      "source": [
        "dfs_fdi = pd.concat(dfs_fdi_origin, ignore_index=True, axis=0)\n",
        "dfs_fdi[\"Date\"] = pd.to_datetime(dfs_fdi[\"Date\"], dayfirst=False)\n",
        "dfs_fdi"
      ]
    },
    {
      "cell_type": "code",
      "execution_count": null,
      "metadata": {},
      "outputs": [
        {
          "name": "stderr",
          "output_type": "stream",
          "text": [
            "/home/hien/.pyenv/versions/3.9.16/envs/vn-macroeconomics/lib/python3.9/site-packages/_plotly_utils/basevalidators.py:105: FutureWarning: The behavior of DatetimeProperties.to_pydatetime is deprecated, in a future version this will return a Series containing python datetime objects instead of an ndarray. To retain the old behavior, call `np.array` on the result\n",
            "  v = v.dt.to_pydatetime()\n"
          ]
        },
        {
          "data": {
            "application/vnd.plotly.v1+json": {
              "config": {
                "plotlyServerURL": "https://plot.ly"
              },
              "data": [
                {
                  "fillpattern": {
                    "shape": ""
                  },
                  "hovertemplate": "Phân Loại=TỔNG SỐ<br>Date=%{x}<br>Vốn đăng ký=%{y}<extra></extra>",
                  "legendgroup": "TỔNG SỐ",
                  "line": {
                    "color": "#636efa"
                  },
                  "marker": {
                    "symbol": "circle"
                  },
                  "mode": "lines",
                  "name": "TỔNG SỐ",
                  "orientation": "v",
                  "showlegend": true,
                  "stackgroup": "1",
                  "type": "scatter",
                  "x": [
                    "2023-09-29T00:00:00",
                    "2023-08-29T00:00:00",
                    "2023-07-29T00:00:00",
                    "2023-06-29T00:00:00",
                    "2023-05-29T00:00:00",
                    "2023-04-29T00:00:00",
                    "2023-03-29T00:00:00",
                    "2023-02-28T00:00:00",
                    "2023-01-29T00:00:00",
                    "2022-12-29T00:00:00",
                    "2022-11-29T00:00:00",
                    "2022-10-29T00:00:00",
                    "2022-09-29T00:00:00",
                    "2022-08-29T00:00:00",
                    "2022-07-29T00:00:00",
                    "2022-06-29T00:00:00",
                    "2022-05-29T00:00:00",
                    "2022-04-29T00:00:00",
                    "2022-03-29T00:00:00",
                    "2022-02-28T00:00:00",
                    "2022-01-29T00:00:00",
                    "2021-12-29T00:00:00",
                    "2021-11-29T00:00:00",
                    "2021-10-29T00:00:00",
                    "2021-09-29T00:00:00",
                    "2021-08-29T00:00:00",
                    "2021-07-29T00:00:00",
                    "2021-06-29T00:00:00",
                    "2021-05-29T00:00:00",
                    "2021-04-29T00:00:00",
                    "2021-03-29T00:00:00",
                    "2021-02-28T00:00:00",
                    "2021-01-29T00:00:00",
                    "2020-12-27T00:00:00",
                    "2020-11-29T00:00:00",
                    "2020-10-29T00:00:00",
                    "2020-09-29T00:00:00",
                    "2020-08-29T00:00:00",
                    "2020-07-29T00:00:00",
                    "2020-06-29T00:00:00",
                    "2020-05-29T00:00:00",
                    "2020-04-29T00:00:00",
                    "2020-03-27T00:00:00",
                    "2020-02-29T00:00:00",
                    "2020-01-29T00:00:00",
                    "2019-12-27T00:00:00",
                    "2019-10-29T00:00:00",
                    "2019-09-28T00:00:00",
                    "2019-08-29T00:00:00",
                    "2019-07-29T00:00:00",
                    "2019-06-28T00:00:00",
                    "2019-05-27T00:00:00",
                    "2019-04-29T00:00:00",
                    "2019-03-29T00:00:00",
                    "2019-02-28T00:00:00",
                    "2019-01-29T00:00:00",
                    "2018-12-27T00:00:00",
                    "2018-11-29T00:00:00",
                    "2018-10-29T00:00:00",
                    "2018-09-28T00:00:00",
                    "2018-08-29T00:00:00",
                    "2018-07-27T00:00:00",
                    "2018-06-29T00:00:00",
                    "2018-05-29T00:00:00",
                    "2018-04-27T00:00:00",
                    "2018-03-29T00:00:00",
                    "2018-02-28T00:00:00",
                    "2018-01-29T00:00:00",
                    "2017-12-29T00:00:00",
                    "2017-11-29T00:00:00",
                    "2017-10-27T00:00:00",
                    "2017-09-29T00:00:00",
                    "2017-08-29T00:00:00",
                    "2017-07-28T00:00:00",
                    "2017-06-29T00:00:00",
                    "2017-04-28T00:00:00",
                    "2017-03-29T00:00:00",
                    "2017-02-28T00:00:00",
                    "2017-01-27T00:00:00",
                    "2016-12-29T00:00:00",
                    "2016-11-29T00:00:00",
                    "2016-10-28T00:00:00",
                    "2016-09-29T00:00:00",
                    "2016-08-29T00:00:00",
                    "2016-07-29T00:00:00",
                    "2016-06-29T00:00:00",
                    "2016-05-30T00:00:00",
                    "2016-04-29T00:00:00",
                    "2016-03-29T00:00:00",
                    "2016-02-29T00:00:00",
                    "2016-01-29T00:00:00"
                  ],
                  "xaxis": "x",
                  "y": [
                    15383.787167738748,
                    13404.29210816797,
                    12094.652774071717,
                    9418.109629730705,
                    7541.035576984608,
                    5765.139752607967,
                    5029.726834061718,
                    2299.4909397498436,
                    1511.2082074924995,
                    22564.031796600866,
                    21057.070473878757,
                    18669.87130773251,
                    15472.70507204438,
                    13862.45073132547,
                    12963.263808129843,
                    11760.139219317807,
                    9728.190982192109,
                    8986.265587161326,
                    7276.200000000001,
                    4226.23,
                    1658.22,
                    24260.199999999997,
                    22079.565181473128,
                    20108.292565629377,
                    18924.048411967815,
                    16310.227618386562,
                    14672.251656110311,
                    13665.500431534996,
                    12687.141221447186,
                    11203.956190281247,
                    9325.24597128125,
                    4915.070659281249,
                    1795.76819328125,
                    21060.902986459994,
                    19892.64866763,
                    17370.44162846875,
                    15476.470000000001,
                    14609.290558468745,
                    14178.117105289064,
                    12160.969530289061,
                    10895.111264289062,
                    9853.887891000004,
                    6596.536657999999,
                    5641.751774999998,
                    4794.9,
                    22547.6,
                    18302.3930950525,
                    15763.1486795225,
                    13117.803463210003,
                    11698.023496,
                    10347.18791821,
                    9086.748208470002,
                    7455.577243470003,
                    5119.742091719999,
                    2444.8911229999994,
                    805.012631,
                    17976.172492360005,
                    15788.405106359995,
                    15028.155999359999,
                    14124.537232359999,
                    13481.596028360005,
                    13205.445725360001,
                    11799.774732360002,
                    4657.365029359999,
                    3553.8356743600007,
                    2121.61941436,
                    1391.2447353600005,
                    442.5876120000001,
                    21275.89330142,
                    19797.437848420006,
                    16300.566631,
                    14560.513204420002,
                    13455.770488420001,
                    12927.324042999999,
                    11838.236573000002,
                    4881.614364,
                    2917.2121580000003,
                    2028.8869139999995,
                    1243.8017849999997,
                    15182.3,
                    13028.18114777,
                    12265.339761999998,
                    11164.634175000005,
                    9795.588941000005,
                    8695.2,
                    7496.9,
                    7566.852767,
                    5082.936346,
                    2740.445444000001,
                    1905.0980349999998,
                    1011.4
                  ],
                  "yaxis": "y"
                }
              ],
              "layout": {
                "legend": {
                  "title": {
                    "text": "Phân Loại"
                  },
                  "tracegroupgap": 0
                },
                "margin": {
                  "t": 60
                },
                "template": {
                  "data": {
                    "bar": [
                      {
                        "error_x": {
                          "color": "#2a3f5f"
                        },
                        "error_y": {
                          "color": "#2a3f5f"
                        },
                        "marker": {
                          "line": {
                            "color": "#E5ECF6",
                            "width": 0.5
                          },
                          "pattern": {
                            "fillmode": "overlay",
                            "size": 10,
                            "solidity": 0.2
                          }
                        },
                        "type": "bar"
                      }
                    ],
                    "barpolar": [
                      {
                        "marker": {
                          "line": {
                            "color": "#E5ECF6",
                            "width": 0.5
                          },
                          "pattern": {
                            "fillmode": "overlay",
                            "size": 10,
                            "solidity": 0.2
                          }
                        },
                        "type": "barpolar"
                      }
                    ],
                    "carpet": [
                      {
                        "aaxis": {
                          "endlinecolor": "#2a3f5f",
                          "gridcolor": "white",
                          "linecolor": "white",
                          "minorgridcolor": "white",
                          "startlinecolor": "#2a3f5f"
                        },
                        "baxis": {
                          "endlinecolor": "#2a3f5f",
                          "gridcolor": "white",
                          "linecolor": "white",
                          "minorgridcolor": "white",
                          "startlinecolor": "#2a3f5f"
                        },
                        "type": "carpet"
                      }
                    ],
                    "choropleth": [
                      {
                        "colorbar": {
                          "outlinewidth": 0,
                          "ticks": ""
                        },
                        "type": "choropleth"
                      }
                    ],
                    "contour": [
                      {
                        "colorbar": {
                          "outlinewidth": 0,
                          "ticks": ""
                        },
                        "colorscale": [
                          [
                            0,
                            "#0d0887"
                          ],
                          [
                            0.1111111111111111,
                            "#46039f"
                          ],
                          [
                            0.2222222222222222,
                            "#7201a8"
                          ],
                          [
                            0.3333333333333333,
                            "#9c179e"
                          ],
                          [
                            0.4444444444444444,
                            "#bd3786"
                          ],
                          [
                            0.5555555555555556,
                            "#d8576b"
                          ],
                          [
                            0.6666666666666666,
                            "#ed7953"
                          ],
                          [
                            0.7777777777777778,
                            "#fb9f3a"
                          ],
                          [
                            0.8888888888888888,
                            "#fdca26"
                          ],
                          [
                            1,
                            "#f0f921"
                          ]
                        ],
                        "type": "contour"
                      }
                    ],
                    "contourcarpet": [
                      {
                        "colorbar": {
                          "outlinewidth": 0,
                          "ticks": ""
                        },
                        "type": "contourcarpet"
                      }
                    ],
                    "heatmap": [
                      {
                        "colorbar": {
                          "outlinewidth": 0,
                          "ticks": ""
                        },
                        "colorscale": [
                          [
                            0,
                            "#0d0887"
                          ],
                          [
                            0.1111111111111111,
                            "#46039f"
                          ],
                          [
                            0.2222222222222222,
                            "#7201a8"
                          ],
                          [
                            0.3333333333333333,
                            "#9c179e"
                          ],
                          [
                            0.4444444444444444,
                            "#bd3786"
                          ],
                          [
                            0.5555555555555556,
                            "#d8576b"
                          ],
                          [
                            0.6666666666666666,
                            "#ed7953"
                          ],
                          [
                            0.7777777777777778,
                            "#fb9f3a"
                          ],
                          [
                            0.8888888888888888,
                            "#fdca26"
                          ],
                          [
                            1,
                            "#f0f921"
                          ]
                        ],
                        "type": "heatmap"
                      }
                    ],
                    "heatmapgl": [
                      {
                        "colorbar": {
                          "outlinewidth": 0,
                          "ticks": ""
                        },
                        "colorscale": [
                          [
                            0,
                            "#0d0887"
                          ],
                          [
                            0.1111111111111111,
                            "#46039f"
                          ],
                          [
                            0.2222222222222222,
                            "#7201a8"
                          ],
                          [
                            0.3333333333333333,
                            "#9c179e"
                          ],
                          [
                            0.4444444444444444,
                            "#bd3786"
                          ],
                          [
                            0.5555555555555556,
                            "#d8576b"
                          ],
                          [
                            0.6666666666666666,
                            "#ed7953"
                          ],
                          [
                            0.7777777777777778,
                            "#fb9f3a"
                          ],
                          [
                            0.8888888888888888,
                            "#fdca26"
                          ],
                          [
                            1,
                            "#f0f921"
                          ]
                        ],
                        "type": "heatmapgl"
                      }
                    ],
                    "histogram": [
                      {
                        "marker": {
                          "pattern": {
                            "fillmode": "overlay",
                            "size": 10,
                            "solidity": 0.2
                          }
                        },
                        "type": "histogram"
                      }
                    ],
                    "histogram2d": [
                      {
                        "colorbar": {
                          "outlinewidth": 0,
                          "ticks": ""
                        },
                        "colorscale": [
                          [
                            0,
                            "#0d0887"
                          ],
                          [
                            0.1111111111111111,
                            "#46039f"
                          ],
                          [
                            0.2222222222222222,
                            "#7201a8"
                          ],
                          [
                            0.3333333333333333,
                            "#9c179e"
                          ],
                          [
                            0.4444444444444444,
                            "#bd3786"
                          ],
                          [
                            0.5555555555555556,
                            "#d8576b"
                          ],
                          [
                            0.6666666666666666,
                            "#ed7953"
                          ],
                          [
                            0.7777777777777778,
                            "#fb9f3a"
                          ],
                          [
                            0.8888888888888888,
                            "#fdca26"
                          ],
                          [
                            1,
                            "#f0f921"
                          ]
                        ],
                        "type": "histogram2d"
                      }
                    ],
                    "histogram2dcontour": [
                      {
                        "colorbar": {
                          "outlinewidth": 0,
                          "ticks": ""
                        },
                        "colorscale": [
                          [
                            0,
                            "#0d0887"
                          ],
                          [
                            0.1111111111111111,
                            "#46039f"
                          ],
                          [
                            0.2222222222222222,
                            "#7201a8"
                          ],
                          [
                            0.3333333333333333,
                            "#9c179e"
                          ],
                          [
                            0.4444444444444444,
                            "#bd3786"
                          ],
                          [
                            0.5555555555555556,
                            "#d8576b"
                          ],
                          [
                            0.6666666666666666,
                            "#ed7953"
                          ],
                          [
                            0.7777777777777778,
                            "#fb9f3a"
                          ],
                          [
                            0.8888888888888888,
                            "#fdca26"
                          ],
                          [
                            1,
                            "#f0f921"
                          ]
                        ],
                        "type": "histogram2dcontour"
                      }
                    ],
                    "mesh3d": [
                      {
                        "colorbar": {
                          "outlinewidth": 0,
                          "ticks": ""
                        },
                        "type": "mesh3d"
                      }
                    ],
                    "parcoords": [
                      {
                        "line": {
                          "colorbar": {
                            "outlinewidth": 0,
                            "ticks": ""
                          }
                        },
                        "type": "parcoords"
                      }
                    ],
                    "pie": [
                      {
                        "automargin": true,
                        "type": "pie"
                      }
                    ],
                    "scatter": [
                      {
                        "fillpattern": {
                          "fillmode": "overlay",
                          "size": 10,
                          "solidity": 0.2
                        },
                        "type": "scatter"
                      }
                    ],
                    "scatter3d": [
                      {
                        "line": {
                          "colorbar": {
                            "outlinewidth": 0,
                            "ticks": ""
                          }
                        },
                        "marker": {
                          "colorbar": {
                            "outlinewidth": 0,
                            "ticks": ""
                          }
                        },
                        "type": "scatter3d"
                      }
                    ],
                    "scattercarpet": [
                      {
                        "marker": {
                          "colorbar": {
                            "outlinewidth": 0,
                            "ticks": ""
                          }
                        },
                        "type": "scattercarpet"
                      }
                    ],
                    "scattergeo": [
                      {
                        "marker": {
                          "colorbar": {
                            "outlinewidth": 0,
                            "ticks": ""
                          }
                        },
                        "type": "scattergeo"
                      }
                    ],
                    "scattergl": [
                      {
                        "marker": {
                          "colorbar": {
                            "outlinewidth": 0,
                            "ticks": ""
                          }
                        },
                        "type": "scattergl"
                      }
                    ],
                    "scattermapbox": [
                      {
                        "marker": {
                          "colorbar": {
                            "outlinewidth": 0,
                            "ticks": ""
                          }
                        },
                        "type": "scattermapbox"
                      }
                    ],
                    "scatterpolar": [
                      {
                        "marker": {
                          "colorbar": {
                            "outlinewidth": 0,
                            "ticks": ""
                          }
                        },
                        "type": "scatterpolar"
                      }
                    ],
                    "scatterpolargl": [
                      {
                        "marker": {
                          "colorbar": {
                            "outlinewidth": 0,
                            "ticks": ""
                          }
                        },
                        "type": "scatterpolargl"
                      }
                    ],
                    "scatterternary": [
                      {
                        "marker": {
                          "colorbar": {
                            "outlinewidth": 0,
                            "ticks": ""
                          }
                        },
                        "type": "scatterternary"
                      }
                    ],
                    "surface": [
                      {
                        "colorbar": {
                          "outlinewidth": 0,
                          "ticks": ""
                        },
                        "colorscale": [
                          [
                            0,
                            "#0d0887"
                          ],
                          [
                            0.1111111111111111,
                            "#46039f"
                          ],
                          [
                            0.2222222222222222,
                            "#7201a8"
                          ],
                          [
                            0.3333333333333333,
                            "#9c179e"
                          ],
                          [
                            0.4444444444444444,
                            "#bd3786"
                          ],
                          [
                            0.5555555555555556,
                            "#d8576b"
                          ],
                          [
                            0.6666666666666666,
                            "#ed7953"
                          ],
                          [
                            0.7777777777777778,
                            "#fb9f3a"
                          ],
                          [
                            0.8888888888888888,
                            "#fdca26"
                          ],
                          [
                            1,
                            "#f0f921"
                          ]
                        ],
                        "type": "surface"
                      }
                    ],
                    "table": [
                      {
                        "cells": {
                          "fill": {
                            "color": "#EBF0F8"
                          },
                          "line": {
                            "color": "white"
                          }
                        },
                        "header": {
                          "fill": {
                            "color": "#C8D4E3"
                          },
                          "line": {
                            "color": "white"
                          }
                        },
                        "type": "table"
                      }
                    ]
                  },
                  "layout": {
                    "annotationdefaults": {
                      "arrowcolor": "#2a3f5f",
                      "arrowhead": 0,
                      "arrowwidth": 1
                    },
                    "autotypenumbers": "strict",
                    "coloraxis": {
                      "colorbar": {
                        "outlinewidth": 0,
                        "ticks": ""
                      }
                    },
                    "colorscale": {
                      "diverging": [
                        [
                          0,
                          "#8e0152"
                        ],
                        [
                          0.1,
                          "#c51b7d"
                        ],
                        [
                          0.2,
                          "#de77ae"
                        ],
                        [
                          0.3,
                          "#f1b6da"
                        ],
                        [
                          0.4,
                          "#fde0ef"
                        ],
                        [
                          0.5,
                          "#f7f7f7"
                        ],
                        [
                          0.6,
                          "#e6f5d0"
                        ],
                        [
                          0.7,
                          "#b8e186"
                        ],
                        [
                          0.8,
                          "#7fbc41"
                        ],
                        [
                          0.9,
                          "#4d9221"
                        ],
                        [
                          1,
                          "#276419"
                        ]
                      ],
                      "sequential": [
                        [
                          0,
                          "#0d0887"
                        ],
                        [
                          0.1111111111111111,
                          "#46039f"
                        ],
                        [
                          0.2222222222222222,
                          "#7201a8"
                        ],
                        [
                          0.3333333333333333,
                          "#9c179e"
                        ],
                        [
                          0.4444444444444444,
                          "#bd3786"
                        ],
                        [
                          0.5555555555555556,
                          "#d8576b"
                        ],
                        [
                          0.6666666666666666,
                          "#ed7953"
                        ],
                        [
                          0.7777777777777778,
                          "#fb9f3a"
                        ],
                        [
                          0.8888888888888888,
                          "#fdca26"
                        ],
                        [
                          1,
                          "#f0f921"
                        ]
                      ],
                      "sequentialminus": [
                        [
                          0,
                          "#0d0887"
                        ],
                        [
                          0.1111111111111111,
                          "#46039f"
                        ],
                        [
                          0.2222222222222222,
                          "#7201a8"
                        ],
                        [
                          0.3333333333333333,
                          "#9c179e"
                        ],
                        [
                          0.4444444444444444,
                          "#bd3786"
                        ],
                        [
                          0.5555555555555556,
                          "#d8576b"
                        ],
                        [
                          0.6666666666666666,
                          "#ed7953"
                        ],
                        [
                          0.7777777777777778,
                          "#fb9f3a"
                        ],
                        [
                          0.8888888888888888,
                          "#fdca26"
                        ],
                        [
                          1,
                          "#f0f921"
                        ]
                      ]
                    },
                    "colorway": [
                      "#636efa",
                      "#EF553B",
                      "#00cc96",
                      "#ab63fa",
                      "#FFA15A",
                      "#19d3f3",
                      "#FF6692",
                      "#B6E880",
                      "#FF97FF",
                      "#FECB52"
                    ],
                    "font": {
                      "color": "#2a3f5f"
                    },
                    "geo": {
                      "bgcolor": "white",
                      "lakecolor": "white",
                      "landcolor": "#E5ECF6",
                      "showlakes": true,
                      "showland": true,
                      "subunitcolor": "white"
                    },
                    "hoverlabel": {
                      "align": "left"
                    },
                    "hovermode": "closest",
                    "mapbox": {
                      "style": "light"
                    },
                    "paper_bgcolor": "white",
                    "plot_bgcolor": "#E5ECF6",
                    "polar": {
                      "angularaxis": {
                        "gridcolor": "white",
                        "linecolor": "white",
                        "ticks": ""
                      },
                      "bgcolor": "#E5ECF6",
                      "radialaxis": {
                        "gridcolor": "white",
                        "linecolor": "white",
                        "ticks": ""
                      }
                    },
                    "scene": {
                      "xaxis": {
                        "backgroundcolor": "#E5ECF6",
                        "gridcolor": "white",
                        "gridwidth": 2,
                        "linecolor": "white",
                        "showbackground": true,
                        "ticks": "",
                        "zerolinecolor": "white"
                      },
                      "yaxis": {
                        "backgroundcolor": "#E5ECF6",
                        "gridcolor": "white",
                        "gridwidth": 2,
                        "linecolor": "white",
                        "showbackground": true,
                        "ticks": "",
                        "zerolinecolor": "white"
                      },
                      "zaxis": {
                        "backgroundcolor": "#E5ECF6",
                        "gridcolor": "white",
                        "gridwidth": 2,
                        "linecolor": "white",
                        "showbackground": true,
                        "ticks": "",
                        "zerolinecolor": "white"
                      }
                    },
                    "shapedefaults": {
                      "line": {
                        "color": "#2a3f5f"
                      }
                    },
                    "ternary": {
                      "aaxis": {
                        "gridcolor": "white",
                        "linecolor": "white",
                        "ticks": ""
                      },
                      "baxis": {
                        "gridcolor": "white",
                        "linecolor": "white",
                        "ticks": ""
                      },
                      "bgcolor": "#E5ECF6",
                      "caxis": {
                        "gridcolor": "white",
                        "linecolor": "white",
                        "ticks": ""
                      }
                    },
                    "title": {
                      "x": 0.05
                    },
                    "xaxis": {
                      "automargin": true,
                      "gridcolor": "white",
                      "linecolor": "white",
                      "ticks": "",
                      "title": {
                        "standoff": 15
                      },
                      "zerolinecolor": "white",
                      "zerolinewidth": 2
                    },
                    "yaxis": {
                      "automargin": true,
                      "gridcolor": "white",
                      "linecolor": "white",
                      "ticks": "",
                      "title": {
                        "standoff": 15
                      },
                      "zerolinecolor": "white",
                      "zerolinewidth": 2
                    }
                  }
                },
                "xaxis": {
                  "anchor": "y",
                  "domain": [
                    0,
                    1
                  ],
                  "rangeselector": {
                    "buttons": [
                      {
                        "count": 1,
                        "label": "YTD",
                        "step": "year",
                        "stepmode": "todate"
                      },
                      {
                        "count": 1,
                        "label": "1y",
                        "step": "year",
                        "stepmode": "backward"
                      },
                      {
                        "count": 3,
                        "label": "3y",
                        "step": "year",
                        "stepmode": "backward"
                      },
                      {
                        "count": 5,
                        "label": "5y",
                        "step": "year",
                        "stepmode": "backward"
                      },
                      {
                        "count": 7,
                        "label": "7y",
                        "step": "year",
                        "stepmode": "backward"
                      },
                      {
                        "count": 10,
                        "label": "10y",
                        "step": "year",
                        "stepmode": "backward"
                      },
                      {
                        "step": "all"
                      }
                    ]
                  },
                  "rangeslider": {
                    "visible": true
                  },
                  "title": {
                    "text": "Date"
                  }
                },
                "yaxis": {
                  "anchor": "x",
                  "domain": [
                    0,
                    1
                  ],
                  "title": {
                    "text": "Vốn đăng ký"
                  }
                }
              }
            }
          },
          "metadata": {},
          "output_type": "display_data"
        }
      ],
      "source": [
        "import pandas as pd\n",
        "import plotly.express as px\n",
        "import plotly.graph_objects as go\n",
        "\n",
        "df_show = dfs_fdi[(dfs_fdi[\"Phân Loại\"] == \"TỔNG SỐ\")]\n",
        "\n",
        "fig = px.area(df_show, x=\"Date\", y=\"Vốn đăng ký\", color=\"Phân Loại\")\n",
        "\n",
        "fig.update_xaxes(\n",
        "    rangeslider_visible=True,\n",
        "    rangeselector=dict(\n",
        "        buttons=[\n",
        "            dict(count=1, label=\"YTD\", step=\"year\", stepmode=\"todate\"),\n",
        "            dict(count=1, label=\"1y\", step=\"year\", stepmode=\"backward\"),\n",
        "            dict(count=3, label=\"3y\", step=\"year\", stepmode=\"backward\"),\n",
        "            dict(count=5, label=\"5y\", step=\"year\", stepmode=\"backward\"),\n",
        "            dict(count=7, label=\"7y\", step=\"year\", stepmode=\"backward\"),\n",
        "            dict(count=10, label=\"10y\", step=\"year\", stepmode=\"backward\"),\n",
        "            dict(step=\"all\"),\n",
        "        ]\n",
        "    ),\n",
        ")\n",
        "\n",
        "fig.show()"
      ]
    },
    {
      "cell_type": "code",
      "execution_count": null,
      "metadata": {},
      "outputs": [],
      "source": []
    }
  ],
  "metadata": {
    "kernelspec": {
      "display_name": "vn-macroeconomics",
      "language": "python",
      "name": "python3"
    },
    "language_info": {
      "codemirror_mode": {
        "name": "ipython",
        "version": 3
      },
      "file_extension": ".py",
      "mimetype": "text/x-python",
      "name": "python",
      "nbconvert_exporter": "python",
      "pygments_lexer": "ipython3",
      "version": "3.9.16"
    },
    "orig_nbformat": 4
  },
  "nbformat": 4,
  "nbformat_minor": 2
}
