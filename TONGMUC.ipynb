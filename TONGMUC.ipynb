{
 "cells": [
  {
   "cell_type": "code",
   "execution_count": 1,
   "metadata": {},
   "outputs": [],
   "source": [
    "import os\n",
    "import contextlib\n",
    "\n",
    "import pandas as pd\n",
    "import seaborn as sns\n",
    "from datetime import date\n",
    "import plotly.express as px\n",
    "import plotly.graph_objects as go"
   ]
  },
  {
   "cell_type": "code",
   "execution_count": 2,
   "metadata": {},
   "outputs": [],
   "source": [
    "def find_sheet_name(sheet_names):\n",
    "    cpi_sheet_names = list(\n",
    "        filter(lambda x: \"tongmuc\" in x.lower() and \"22-23\" not in x, sheet_names)\n",
    "    )\n",
    "\n",
    "    if len(cpi_sheet_names) == 1:\n",
    "        return cpi_sheet_names[0]\n",
    "\n",
    "    cpi_sheet_names = list(filter(lambda x: \"tongmuc\" in x.lower(), sheet_names))\n",
    "\n",
    "    if len(cpi_sheet_names) == 1:\n",
    "        return cpi_sheet_names[0]\n",
    "\n",
    "    cpi_sheet_names = list(filter(lambda x: \"tong muc\" in x.lower(), sheet_names))\n",
    "\n",
    "    if len(cpi_sheet_names) == 1:\n",
    "        return cpi_sheet_names[0]\n",
    "\n",
    "\n",
    "    cpi_sheet_names = list(\n",
    "        filter(lambda x: \"tm\" in x.lower() and \"xnk\" not in x.lower(), sheet_names)\n",
    "    )\n",
    "\n",
    "    if len(cpi_sheet_names) == 1:\n",
    "        return cpi_sheet_names[0]\n",
    "\n",
    "    if len(sheet_names) == 43:\n",
    "        return \"23-24\"\n",
    "\n",
    "    cpi_sheet_names = list(\n",
    "        filter(lambda x: \"sheet1 (2)\" in x.lower(), sheet_names)\n",
    "    )\n",
    "\n",
    "    if len(cpi_sheet_names) == 1:\n",
    "        return cpi_sheet_names[0]\n",
    "\n",
    "    raise RuntimeError(sheet_names, len(sheet_names))"
   ]
  },
  {
   "cell_type": "code",
   "execution_count": 3,
   "metadata": {},
   "outputs": [],
   "source": [
    "en_to_vn = {\n",
    "    \"TOTAL\": \"TỔNG SỐ\",\n",
    "    \"Retail sale\": \"Bán lẻ hàng hóa\",\n",
    "    \"Accommodation and catering service\": \"Dịch vụ lưu trú, ăn uống\",\n",
    "    \"Traveling service\": \"Du lịch lữ hành\",\n",
    "    \"Other services\": \"Dịch vụ khác\",\n",
    "}"
   ]
  },
  {
   "cell_type": "code",
   "execution_count": 4,
   "metadata": {},
   "outputs": [
    {
     "data": {
      "text/html": [
       "<div>\n",
       "<style scoped>\n",
       "    .dataframe tbody tr th:only-of-type {\n",
       "        vertical-align: middle;\n",
       "    }\n",
       "\n",
       "    .dataframe tbody tr th {\n",
       "        vertical-align: top;\n",
       "    }\n",
       "\n",
       "    .dataframe thead th {\n",
       "        text-align: right;\n",
       "    }\n",
       "</style>\n",
       "<table border=\"1\" class=\"dataframe\">\n",
       "  <thead>\n",
       "    <tr style=\"text-align: right;\">\n",
       "      <th></th>\n",
       "      <th>Phân Loại</th>\n",
       "      <th>M</th>\n",
       "      <th>YTD</th>\n",
       "      <th>M-YOY</th>\n",
       "      <th>YTD-YOY</th>\n",
       "      <th>Date</th>\n",
       "    </tr>\n",
       "  </thead>\n",
       "  <tbody>\n",
       "    <tr>\n",
       "      <th>0</th>\n",
       "      <td>TỔNG SỐ</td>\n",
       "      <td>390820.742489</td>\n",
       "      <td>793766.091838</td>\n",
       "      <td>111.460256</td>\n",
       "      <td>112.242642</td>\n",
       "      <td>2019-02-28</td>\n",
       "    </tr>\n",
       "    <tr>\n",
       "      <th>1</th>\n",
       "      <td>Bán lẻ hàng hóa</td>\n",
       "      <td>301382.944929</td>\n",
       "      <td>613410.923436</td>\n",
       "      <td>112.460195</td>\n",
       "      <td>114.42169</td>\n",
       "      <td>2019-02-28</td>\n",
       "    </tr>\n",
       "    <tr>\n",
       "      <th>2</th>\n",
       "      <td>Dịch vụ lưu trú, ăn uống</td>\n",
       "      <td>44815.16875</td>\n",
       "      <td>90202.786626</td>\n",
       "      <td>109.401392</td>\n",
       "      <td>105.69116</td>\n",
       "      <td>2019-02-28</td>\n",
       "    </tr>\n",
       "    <tr>\n",
       "      <th>3</th>\n",
       "      <td>Du lịch lữ hành</td>\n",
       "      <td>3948</td>\n",
       "      <td>7955.814927</td>\n",
       "      <td>117.089433</td>\n",
       "      <td>107.787638</td>\n",
       "      <td>2019-02-28</td>\n",
       "    </tr>\n",
       "    <tr>\n",
       "      <th>4</th>\n",
       "      <td>Dịch vụ khác</td>\n",
       "      <td>40675.237638</td>\n",
       "      <td>82196</td>\n",
       "      <td>106.171604</td>\n",
       "      <td>104.890345</td>\n",
       "      <td>2019-02-28</td>\n",
       "    </tr>\n",
       "  </tbody>\n",
       "</table>\n",
       "</div>"
      ],
      "text/plain": [
       "                  Phân Loại              M            YTD       M-YOY  \\\n",
       "0                   TỔNG SỐ  390820.742489  793766.091838  111.460256   \n",
       "1           Bán lẻ hàng hóa  301382.944929  613410.923436  112.460195   \n",
       "2  Dịch vụ lưu trú, ăn uống    44815.16875   90202.786626  109.401392   \n",
       "3           Du lịch lữ hành           3948    7955.814927  117.089433   \n",
       "4              Dịch vụ khác   40675.237638          82196  106.171604   \n",
       "\n",
       "      YTD-YOY       Date  \n",
       "0  112.242642 2019-02-28  \n",
       "1   114.42169 2019-02-28  \n",
       "2   105.69116 2019-02-28  \n",
       "3  107.787638 2019-02-28  \n",
       "4  104.890345 2019-02-28  "
      ]
     },
     "execution_count": 4,
     "metadata": {},
     "output_type": "execute_result"
    }
   ],
   "source": [
    "def get_tongmuc(xl, sheet_name, date):\n",
    "    df = xl.parse(sheet_name)\n",
    "\n",
    "    df = df.dropna(axis=1, how=\"all\")\n",
    "\n",
    "    if (\n",
    "        len(\n",
    "            df[df.columns[1]][\n",
    "                (df[df.columns[1]] == \"Bán lẻ hàng hóa\")\n",
    "                | (df[df.columns[1]] == \"Retail sale \")\n",
    "                | (df[df.columns[1]] == \"Thương nghiệp\")\n",
    "            ].index\n",
    "        )\n",
    "        > 0\n",
    "    ):\n",
    "        df[df.columns[1]] = df[df.columns[1]].fillna(df[df.columns[0]])\n",
    "        df = df.drop(columns=[df.columns[0]])\n",
    "\n",
    "    df[df.columns[0]] = (\n",
    "        df[df.columns[0]].replace(r\"\\s+\", \" \", regex=True).replace(r\"\\n\", \" \", regex=True)\n",
    "    )\n",
    "\n",
    "    df[df.columns[0]] = df[df.columns[0]].str.strip()\n",
    "\n",
    "    df = df.drop(\n",
    "        list(\n",
    "            range(\n",
    "                df[df.columns[0]][\n",
    "                    (df[df.columns[0]] == \"TỔNG SỐ\")\n",
    "                    | ((df[df.columns[0]] == \"TOTAL\"))\n",
    "                    | ((df[df.columns[0]] == \"Tổng số\"))\n",
    "                ].index[0]\n",
    "            )\n",
    "        )\n",
    "    )\n",
    "\n",
    "    df = df.reset_index(drop=True)\n",
    "\n",
    "    df = df.drop(\n",
    "        list(\n",
    "            range(\n",
    "                df[df.columns[0]][\n",
    "                    (df[df.columns[0]] == \"Dịch vụ khác\")\n",
    "                    | ((df[df.columns[0]] == \"Other services\"))\n",
    "                    | ((df[df.columns[0]] == \"Dịch vụ\"))\n",
    "                ].index[0]\n",
    "                + 1,\n",
    "                len(df.index),\n",
    "            )\n",
    "        )\n",
    "    )\n",
    "\n",
    "    df = df.dropna(axis=1, how=\"all\")\n",
    "\n",
    "    if len(df[df.columns[0]][df[df.columns[0]] == \"TOTAL\"].index) > 0:\n",
    "        df[df.columns[0]] = df[df.columns[0]].map(en_to_vn)\n",
    "\n",
    "    if len(df.columns) == 7:\n",
    "        df = df.drop(columns=[df.columns[1], df.columns[4]])\n",
    "    elif len(df.columns) == 4 and int(date.split(\"-\")[1]) == 1:\n",
    "        df = df.drop(columns=[df.columns[2]])\n",
    "        df[\"A\"] = df[df.columns[1]]\n",
    "        df[\"B\"] = df[df.columns[2]]\n",
    "        df = df[[df.columns[0], df.columns[1], \"A\", df.columns[2], \"B\"]]\n",
    "    elif len(df.columns) == 5 and int(date.split(\"-\")[1]) == 1:\n",
    "        df = df.drop(columns=[df.columns[1], df.columns[3]])\n",
    "        df[\"A\"] = df[df.columns[1]]\n",
    "        df[\"B\"] = df[df.columns[2]]\n",
    "        df = df[[df.columns[0], df.columns[1], \"A\", df.columns[2], \"B\"]]\n",
    "    elif len(df.columns) == 5:\n",
    "        df = df.drop(columns=[df.columns[3]])\n",
    "\n",
    "    if len(df.columns) == 5:\n",
    "        df.columns = [\"Phân Loại\", \"M\", \"YTD\", \"M-YOY\", \"YTD-YOY\"]\n",
    "\n",
    "        df = df[pd.to_numeric(df[\"M\"], errors=\"coerce\").notnull()]\n",
    "        df = df[pd.to_numeric(df[\"YTD\"], errors=\"coerce\").notnull()]\n",
    "        df = df[pd.to_numeric(df[\"M-YOY\"], errors=\"coerce\").notnull()]\n",
    "        df = df[pd.to_numeric(df[\"YTD-YOY\"], errors=\"coerce\").notnull()]\n",
    "    elif len(df.columns) == 4:\n",
    "        df.columns = [\"Phân Loại\", \"M\", \"YTD\", \"YTD-YOY\"]\n",
    "\n",
    "        df = df[pd.to_numeric(df[\"M\"], errors=\"coerce\").notnull()]\n",
    "        df = df[pd.to_numeric(df[\"YTD\"], errors=\"coerce\").notnull()]\n",
    "        df = df[pd.to_numeric(df[\"YTD-YOY\"], errors=\"coerce\").notnull()]\n",
    "\n",
    "    df[\"Date\"] = date\n",
    "    df[\"Date\"] = pd.to_datetime(df[\"Date\"], dayfirst=False)\n",
    "\n",
    "    return df\n",
    "\n",
    "\n",
    "xl = pd.ExcelFile(\"datas/2019-02-28-Bieu-02-2019-1.xlsx\")\n",
    "\n",
    "sheet_name = find_sheet_name(xl.sheet_names)\n",
    "\n",
    "get_tongmuc(xl, sheet_name, \"2019-02-28\")"
   ]
  },
  {
   "cell_type": "code",
   "execution_count": 5,
   "metadata": {},
   "outputs": [],
   "source": [
    "import os\n",
    "import contextlib\n",
    "\n",
    "dfs_tongmuc_origin = []\n",
    "for file_name in sorted(\n",
    "    os.listdir(\"./datas\"),\n",
    "    key=lambda filename: f\"{filename.split('-')[0]}-{filename.split('-')[1]}-{filename.split('-')[2]}\",\n",
    "    reverse=True,\n",
    "):\n",
    "    if file_name.startswith(\".~\"):\n",
    "        continue\n",
    "\n",
    "    try:\n",
    "        file_path = os.path.join(\"./datas\", file_name)\n",
    "\n",
    "        year = int(file_name.split(\"-\")[0])\n",
    "        month = int(file_name.split(\"-\")[1])\n",
    "        day = int(file_name.split(\"-\")[2])\n",
    "\n",
    "        if year < 2012:\n",
    "            continue\n",
    "\n",
    "        xl = pd.ExcelFile(file_path)\n",
    "\n",
    "        df_tongmuc = get_tongmuc(xl, find_sheet_name(xl.sheet_names), f\"{year}-{month}-{day}\")\n",
    "\n",
    "        dfs_tongmuc_origin.append(df_tongmuc)\n",
    "    except Exception as e:\n",
    "        print(file_name)\n",
    "        raise e"
   ]
  },
  {
   "cell_type": "code",
   "execution_count": 6,
   "metadata": {},
   "outputs": [
    {
     "data": {
      "text/html": [
       "<div>\n",
       "<style scoped>\n",
       "    .dataframe tbody tr th:only-of-type {\n",
       "        vertical-align: middle;\n",
       "    }\n",
       "\n",
       "    .dataframe tbody tr th {\n",
       "        vertical-align: top;\n",
       "    }\n",
       "\n",
       "    .dataframe thead th {\n",
       "        text-align: right;\n",
       "    }\n",
       "</style>\n",
       "<table border=\"1\" class=\"dataframe\">\n",
       "  <thead>\n",
       "    <tr style=\"text-align: right;\">\n",
       "      <th></th>\n",
       "      <th>Phân Loại</th>\n",
       "      <th>M</th>\n",
       "      <th>YTD</th>\n",
       "      <th>M-YOY</th>\n",
       "      <th>YTD-YOY</th>\n",
       "      <th>Date</th>\n",
       "    </tr>\n",
       "  </thead>\n",
       "  <tbody>\n",
       "    <tr>\n",
       "      <th>0</th>\n",
       "      <td>TỔNG SỐ</td>\n",
       "      <td>536326.124634</td>\n",
       "      <td>5105422.047327</td>\n",
       "      <td>107.017273</td>\n",
       "      <td>109.407449</td>\n",
       "      <td>2023-10-29</td>\n",
       "    </tr>\n",
       "    <tr>\n",
       "      <th>1</th>\n",
       "      <td>Bán lẻ hàng hóa</td>\n",
       "      <td>412926.132072</td>\n",
       "      <td>3988902.49</td>\n",
       "      <td>106.72634</td>\n",
       "      <td>108.325559</td>\n",
       "      <td>2023-10-29</td>\n",
       "    </tr>\n",
       "    <tr>\n",
       "      <th>2</th>\n",
       "      <td>Dịch vụ lưu trú, ăn uống</td>\n",
       "      <td>59681.294954</td>\n",
       "      <td>555607.021074</td>\n",
       "      <td>114.938833</td>\n",
       "      <td>115.048115</td>\n",
       "      <td>2023-10-29</td>\n",
       "    </tr>\n",
       "    <tr>\n",
       "      <th>3</th>\n",
       "      <td>Du lịch lữ hành</td>\n",
       "      <td>3751.784204</td>\n",
       "      <td>30175.79936</td>\n",
       "      <td>151.431629</td>\n",
       "      <td>147.572381</td>\n",
       "      <td>2023-10-29</td>\n",
       "    </tr>\n",
       "    <tr>\n",
       "      <th>4</th>\n",
       "      <td>Dịch vụ khác</td>\n",
       "      <td>59966.913404</td>\n",
       "      <td>530736.680637</td>\n",
       "      <td>100.187434</td>\n",
       "      <td>110.404711</td>\n",
       "      <td>2023-10-29</td>\n",
       "    </tr>\n",
       "    <tr>\n",
       "      <th>...</th>\n",
       "      <td>...</td>\n",
       "      <td>...</td>\n",
       "      <td>...</td>\n",
       "      <td>...</td>\n",
       "      <td>...</td>\n",
       "      <td>...</td>\n",
       "    </tr>\n",
       "    <tr>\n",
       "      <th>888</th>\n",
       "      <td>Khu vực có vốn đầu tư nước ngoài</td>\n",
       "      <td>5617</td>\n",
       "      <td>5617</td>\n",
       "      <td>135.36</td>\n",
       "      <td>135.36</td>\n",
       "      <td>2012-01-30</td>\n",
       "    </tr>\n",
       "    <tr>\n",
       "      <th>889</th>\n",
       "      <td>Thương nghiệp</td>\n",
       "      <td>149653</td>\n",
       "      <td>149653</td>\n",
       "      <td>121.23</td>\n",
       "      <td>121.23</td>\n",
       "      <td>2012-01-30</td>\n",
       "    </tr>\n",
       "    <tr>\n",
       "      <th>890</th>\n",
       "      <td>Khách sạn, nhà hàng</td>\n",
       "      <td>21991</td>\n",
       "      <td>21991</td>\n",
       "      <td>133.33</td>\n",
       "      <td>133.33</td>\n",
       "      <td>2012-01-30</td>\n",
       "    </tr>\n",
       "    <tr>\n",
       "      <th>891</th>\n",
       "      <td>Du lịch</td>\n",
       "      <td>1362</td>\n",
       "      <td>1362</td>\n",
       "      <td>111.1</td>\n",
       "      <td>111.1</td>\n",
       "      <td>2012-01-30</td>\n",
       "    </tr>\n",
       "    <tr>\n",
       "      <th>892</th>\n",
       "      <td>Dịch vụ</td>\n",
       "      <td>18055</td>\n",
       "      <td>18055</td>\n",
       "      <td>116.93</td>\n",
       "      <td>116.93</td>\n",
       "      <td>2012-01-30</td>\n",
       "    </tr>\n",
       "  </tbody>\n",
       "</table>\n",
       "<p>893 rows × 6 columns</p>\n",
       "</div>"
      ],
      "text/plain": [
       "                            Phân Loại              M             YTD  \\\n",
       "0                             TỔNG SỐ  536326.124634  5105422.047327   \n",
       "1                     Bán lẻ hàng hóa  412926.132072      3988902.49   \n",
       "2            Dịch vụ lưu trú, ăn uống   59681.294954   555607.021074   \n",
       "3                     Du lịch lữ hành    3751.784204     30175.79936   \n",
       "4                        Dịch vụ khác   59966.913404   530736.680637   \n",
       "..                                ...            ...             ...   \n",
       "888  Khu vực có vốn đầu tư nước ngoài           5617            5617   \n",
       "889                     Thương nghiệp         149653          149653   \n",
       "890               Khách sạn, nhà hàng          21991           21991   \n",
       "891                           Du lịch           1362            1362   \n",
       "892                           Dịch vụ          18055           18055   \n",
       "\n",
       "          M-YOY     YTD-YOY       Date  \n",
       "0    107.017273  109.407449 2023-10-29  \n",
       "1     106.72634  108.325559 2023-10-29  \n",
       "2    114.938833  115.048115 2023-10-29  \n",
       "3    151.431629  147.572381 2023-10-29  \n",
       "4    100.187434  110.404711 2023-10-29  \n",
       "..          ...         ...        ...  \n",
       "888      135.36      135.36 2012-01-30  \n",
       "889      121.23      121.23 2012-01-30  \n",
       "890      133.33      133.33 2012-01-30  \n",
       "891       111.1       111.1 2012-01-30  \n",
       "892      116.93      116.93 2012-01-30  \n",
       "\n",
       "[893 rows x 6 columns]"
      ]
     },
     "execution_count": 6,
     "metadata": {},
     "output_type": "execute_result"
    }
   ],
   "source": [
    "dfs_tongmuc = pd.concat(dfs_tongmuc_origin, ignore_index=True, axis=0)\n",
    "dfs_tongmuc[\"Date\"] = pd.to_datetime(dfs_tongmuc[\"Date\"], dayfirst=False)\n",
    "dfs_tongmuc"
   ]
  },
  {
   "cell_type": "code",
   "execution_count": 7,
   "metadata": {},
   "outputs": [],
   "source": [
    "convert_name = {\n",
    "    \"TỔNG SỐ\": \"TỔNG SỐ\",\n",
    "    \"Bán lẻ hàng hóa\": \"Bán lẻ hàng hóa\",\n",
    "    \"Dịch vụ lưu trú, ăn uống\": \"Dịch vụ lưu trú, ăn uống\",\n",
    "    \"Du lịch lữ hành\": \"Du lịch lữ hành\",\n",
    "    \"Dịch vụ khác\": \"Dịch vụ khác\",\n",
    "    \"Nhà nước\": \"Nhà nước\",\n",
    "    \"Ngoài nhà nước\": \"Ngoài nhà nước\",\n",
    "    \"Khu vực có vốn đầu tư nước ngoài\": \"Khu vực có vốn đầu tư nước ngoài\",\n",
    "    \"Tổng số\": \"TỔNG SỐ\",\n",
    "    \"Thương nghiệp\": \"Bán lẻ hàng hóa\",\n",
    "    \"Khách sạn, nhà hàng\": \"Dịch vụ lưu trú, ăn uống\",\n",
    "    \"Du lịch\": \"Du lịch lữ hành\",\n",
    "    \"Dịch vụ\": \"Dịch vụ khác\",\n",
    "    \"Tập thể\": \"Tập thể\",\n",
    "    \"Tư nhân\": \"Tư nhân\",\n",
    "    \"Cá thể\": \"Cá thể\",\n",
    "}"
   ]
  },
  {
   "cell_type": "code",
   "execution_count": 8,
   "metadata": {},
   "outputs": [
    {
     "data": {
      "text/html": [
       "<div>\n",
       "<style scoped>\n",
       "    .dataframe tbody tr th:only-of-type {\n",
       "        vertical-align: middle;\n",
       "    }\n",
       "\n",
       "    .dataframe tbody tr th {\n",
       "        vertical-align: top;\n",
       "    }\n",
       "\n",
       "    .dataframe thead th {\n",
       "        text-align: right;\n",
       "    }\n",
       "</style>\n",
       "<table border=\"1\" class=\"dataframe\">\n",
       "  <thead>\n",
       "    <tr style=\"text-align: right;\">\n",
       "      <th></th>\n",
       "      <th>Phân Loại</th>\n",
       "      <th>M</th>\n",
       "      <th>YTD</th>\n",
       "      <th>M-YOY</th>\n",
       "      <th>YTD-YOY</th>\n",
       "      <th>Date</th>\n",
       "    </tr>\n",
       "  </thead>\n",
       "  <tbody>\n",
       "    <tr>\n",
       "      <th>0</th>\n",
       "      <td>TỔNG SỐ</td>\n",
       "      <td>536326.124634</td>\n",
       "      <td>5105422.047327</td>\n",
       "      <td>107.017273</td>\n",
       "      <td>109.407449</td>\n",
       "      <td>2023-10-29</td>\n",
       "    </tr>\n",
       "    <tr>\n",
       "      <th>1</th>\n",
       "      <td>Bán lẻ hàng hóa</td>\n",
       "      <td>412926.132072</td>\n",
       "      <td>3988902.49</td>\n",
       "      <td>106.72634</td>\n",
       "      <td>108.325559</td>\n",
       "      <td>2023-10-29</td>\n",
       "    </tr>\n",
       "    <tr>\n",
       "      <th>2</th>\n",
       "      <td>Dịch vụ lưu trú, ăn uống</td>\n",
       "      <td>59681.294954</td>\n",
       "      <td>555607.021074</td>\n",
       "      <td>114.938833</td>\n",
       "      <td>115.048115</td>\n",
       "      <td>2023-10-29</td>\n",
       "    </tr>\n",
       "    <tr>\n",
       "      <th>3</th>\n",
       "      <td>Du lịch lữ hành</td>\n",
       "      <td>3751.784204</td>\n",
       "      <td>30175.79936</td>\n",
       "      <td>151.431629</td>\n",
       "      <td>147.572381</td>\n",
       "      <td>2023-10-29</td>\n",
       "    </tr>\n",
       "    <tr>\n",
       "      <th>4</th>\n",
       "      <td>Dịch vụ khác</td>\n",
       "      <td>59966.913404</td>\n",
       "      <td>530736.680637</td>\n",
       "      <td>100.187434</td>\n",
       "      <td>110.404711</td>\n",
       "      <td>2023-10-29</td>\n",
       "    </tr>\n",
       "    <tr>\n",
       "      <th>...</th>\n",
       "      <td>...</td>\n",
       "      <td>...</td>\n",
       "      <td>...</td>\n",
       "      <td>...</td>\n",
       "      <td>...</td>\n",
       "      <td>...</td>\n",
       "    </tr>\n",
       "    <tr>\n",
       "      <th>888</th>\n",
       "      <td>Khu vực có vốn đầu tư nước ngoài</td>\n",
       "      <td>5617</td>\n",
       "      <td>5617</td>\n",
       "      <td>135.36</td>\n",
       "      <td>135.36</td>\n",
       "      <td>2012-01-30</td>\n",
       "    </tr>\n",
       "    <tr>\n",
       "      <th>889</th>\n",
       "      <td>Bán lẻ hàng hóa</td>\n",
       "      <td>149653</td>\n",
       "      <td>149653</td>\n",
       "      <td>121.23</td>\n",
       "      <td>121.23</td>\n",
       "      <td>2012-01-30</td>\n",
       "    </tr>\n",
       "    <tr>\n",
       "      <th>890</th>\n",
       "      <td>Dịch vụ lưu trú, ăn uống</td>\n",
       "      <td>21991</td>\n",
       "      <td>21991</td>\n",
       "      <td>133.33</td>\n",
       "      <td>133.33</td>\n",
       "      <td>2012-01-30</td>\n",
       "    </tr>\n",
       "    <tr>\n",
       "      <th>891</th>\n",
       "      <td>Du lịch lữ hành</td>\n",
       "      <td>1362</td>\n",
       "      <td>1362</td>\n",
       "      <td>111.1</td>\n",
       "      <td>111.1</td>\n",
       "      <td>2012-01-30</td>\n",
       "    </tr>\n",
       "    <tr>\n",
       "      <th>892</th>\n",
       "      <td>Dịch vụ khác</td>\n",
       "      <td>18055</td>\n",
       "      <td>18055</td>\n",
       "      <td>116.93</td>\n",
       "      <td>116.93</td>\n",
       "      <td>2012-01-30</td>\n",
       "    </tr>\n",
       "  </tbody>\n",
       "</table>\n",
       "<p>893 rows × 6 columns</p>\n",
       "</div>"
      ],
      "text/plain": [
       "                            Phân Loại              M             YTD  \\\n",
       "0                             TỔNG SỐ  536326.124634  5105422.047327   \n",
       "1                     Bán lẻ hàng hóa  412926.132072      3988902.49   \n",
       "2            Dịch vụ lưu trú, ăn uống   59681.294954   555607.021074   \n",
       "3                     Du lịch lữ hành    3751.784204     30175.79936   \n",
       "4                        Dịch vụ khác   59966.913404   530736.680637   \n",
       "..                                ...            ...             ...   \n",
       "888  Khu vực có vốn đầu tư nước ngoài           5617            5617   \n",
       "889                   Bán lẻ hàng hóa         149653          149653   \n",
       "890          Dịch vụ lưu trú, ăn uống          21991           21991   \n",
       "891                   Du lịch lữ hành           1362            1362   \n",
       "892                      Dịch vụ khác          18055           18055   \n",
       "\n",
       "          M-YOY     YTD-YOY       Date  \n",
       "0    107.017273  109.407449 2023-10-29  \n",
       "1     106.72634  108.325559 2023-10-29  \n",
       "2    114.938833  115.048115 2023-10-29  \n",
       "3    151.431629  147.572381 2023-10-29  \n",
       "4    100.187434  110.404711 2023-10-29  \n",
       "..          ...         ...        ...  \n",
       "888      135.36      135.36 2012-01-30  \n",
       "889      121.23      121.23 2012-01-30  \n",
       "890      133.33      133.33 2012-01-30  \n",
       "891       111.1       111.1 2012-01-30  \n",
       "892      116.93      116.93 2012-01-30  \n",
       "\n",
       "[893 rows x 6 columns]"
      ]
     },
     "execution_count": 8,
     "metadata": {},
     "output_type": "execute_result"
    }
   ],
   "source": [
    "dfs_tongmuc[\"Phân Loại\"] = dfs_tongmuc[\"Phân Loại\"].map(convert_name)\n",
    "dfs_tongmuc"
   ]
  },
  {
   "cell_type": "code",
   "execution_count": 9,
   "metadata": {},
   "outputs": [],
   "source": [
    "dfs_tongmuc.loc[dfs_tongmuc[\"M-YOY\"] < 30, \"M-YOY\"] = (\n",
    "    dfs_tongmuc.loc[dfs_tongmuc[\"M-YOY\"] < 30, \"M-YOY\"] + 100\n",
    ")\n",
    "dfs_tongmuc.loc[dfs_tongmuc[\"YTD-YOY\"] < 30, \"YTD-YOY\"] = (\n",
    "    dfs_tongmuc.loc[dfs_tongmuc[\"YTD-YOY\"] < 30, \"YTD-YOY\"] + 100\n",
    ")\n",
    "\n",
    "dfs_tongmuc[\"M-YOY\"] = dfs_tongmuc[\"M-YOY\"] - 100\n",
    "dfs_tongmuc[\"YTD-YOY\"] = dfs_tongmuc[\"YTD-YOY\"] - 100"
   ]
  },
  {
   "cell_type": "code",
   "execution_count": 10,
   "metadata": {},
   "outputs": [
    {
     "name": "stderr",
     "output_type": "stream",
     "text": [
      "/tmp/ipykernel_15319/239737538.py:4: SettingWithCopyWarning: \n",
      "A value is trying to be set on a copy of a slice from a DataFrame.\n",
      "Try using .loc[row_indexer,col_indexer] = value instead\n",
      "\n",
      "See the caveats in the documentation: https://pandas.pydata.org/pandas-docs/stable/user_guide/indexing.html#returning-a-view-versus-a-copy\n",
      "  dfs_tongmuc_hanghoa[\"PCT_YOY\"] = dfs_tongmuc_hanghoa[\"M\"].pct_change(-12)\n"
     ]
    }
   ],
   "source": [
    "nganh = \"TỔNG SỐ\"\n",
    "\n",
    "dfs_tongmuc_hanghoa = dfs_tongmuc[dfs_tongmuc[\"Phân Loại\"] == nganh]\n",
    "dfs_tongmuc_hanghoa[\"PCT_YOY\"] = dfs_tongmuc_hanghoa[\"M\"].pct_change(-12)\n",
    "dfs_tongmuc[\"M-YOY-PCT\"] = dfs_tongmuc_hanghoa[\"PCT_YOY\"]"
   ]
  },
  {
   "cell_type": "code",
   "execution_count": 11,
   "metadata": {},
   "outputs": [
    {
     "name": "stderr",
     "output_type": "stream",
     "text": [
      "/home/hien/.pyenv/versions/3.9.16/envs/vn-macroeconomics/lib/python3.9/site-packages/_plotly_utils/basevalidators.py:105: FutureWarning: The behavior of DatetimeProperties.to_pydatetime is deprecated, in a future version this will return a Series containing python datetime objects instead of an ndarray. To retain the old behavior, call `np.array` on the result\n",
      "  v = v.dt.to_pydatetime()\n"
     ]
    },
    {
     "data": {
      "application/vnd.plotly.v1+json": {
       "config": {
        "plotlyServerURL": "https://plot.ly"
       },
       "data": [
        {
         "fillpattern": {
          "shape": ""
         },
         "hovertemplate": "Phân Loại=TỔNG SỐ<br>Date=%{x}<br>M-YOY=%{y}<extra></extra>",
         "legendgroup": "TỔNG SỐ",
         "line": {
          "color": "#636efa"
         },
         "marker": {
          "symbol": "circle"
         },
         "mode": "lines",
         "name": "TỔNG SỐ",
         "orientation": "v",
         "showlegend": true,
         "stackgroup": "1",
         "type": "scatter",
         "x": [
          "2023-10-29T00:00:00",
          "2023-09-29T00:00:00",
          "2023-08-29T00:00:00",
          "2023-07-29T00:00:00",
          "2023-06-29T00:00:00",
          "2023-05-29T00:00:00",
          "2023-04-29T00:00:00",
          "2023-03-29T00:00:00",
          "2023-02-28T00:00:00",
          "2023-01-29T00:00:00",
          "2022-12-29T00:00:00",
          "2022-11-29T00:00:00",
          "2022-10-29T00:00:00",
          "2022-09-29T00:00:00",
          "2022-08-29T00:00:00",
          "2022-07-29T00:00:00",
          "2022-06-29T00:00:00",
          "2022-05-29T00:00:00",
          "2022-04-29T00:00:00",
          "2022-03-29T00:00:00",
          "2022-02-28T00:00:00",
          "2022-01-29T00:00:00",
          "2021-12-29T00:00:00",
          "2021-11-29T00:00:00",
          "2021-10-29T00:00:00",
          "2021-09-29T00:00:00",
          "2021-08-29T00:00:00",
          "2021-07-29T00:00:00",
          "2021-06-29T00:00:00",
          "2021-05-29T00:00:00",
          "2021-04-29T00:00:00",
          "2021-03-29T00:00:00",
          "2021-02-28T00:00:00",
          "2021-01-29T00:00:00",
          "2020-12-27T00:00:00",
          "2020-11-29T00:00:00",
          "2020-10-29T00:00:00",
          "2020-09-29T00:00:00",
          "2020-08-29T00:00:00",
          "2020-07-29T00:00:00",
          "2020-06-29T00:00:00",
          "2020-05-29T00:00:00",
          "2020-04-29T00:00:00",
          "2020-03-27T00:00:00",
          "2020-02-29T00:00:00",
          "2020-01-29T00:00:00",
          "2019-12-27T00:00:00",
          "2019-11-29T00:00:00",
          "2019-10-29T00:00:00",
          "2019-09-28T00:00:00",
          "2019-08-29T00:00:00",
          "2019-07-29T00:00:00",
          "2019-06-28T00:00:00",
          "2019-05-27T00:00:00",
          "2019-04-29T00:00:00"
         ],
         "xaxis": "x",
         "y": [
          7.017273269629129,
          7.467810097246527,
          7.573780992177632,
          7.114222221568696,
          6.537962596369894,
          11.538067543958292,
          11.516238616845072,
          13.436981521311495,
          13.156364899537294,
          19.953330613086578,
          17.1257033338684,
          17.45841153808867,
          17.14721770214942,
          36.11488324524379,
          50.19034554038228,
          42.63230745680298,
          27.306169721959478,
          22.553508008594008,
          12.104280509417478,
          9.442399355316454,
          3.090717618077491,
          1.2620579809632204,
          1.061157055654661,
          -12.243940291228526,
          -19.52184785971042,
          -28.406247013225737,
          -33.69512896652303,
          -19.803591289076024,
          -6.645474326488312,
          -1.0262355419050806,
          30.92439809466174,
          9.15576785953833,
          8.182717272434004,
          6.421564386555943,
          9.372525377200304,
          8.493777397135503,
          6.121974900193663,
          4.9115185450019965,
          1.9479512291302257,
          4.258941198065159,
          5.344631447272292,
          -4.7710258555122635,
          -26.003193202674737,
          -0.7903444149965679,
          5.95097310090695,
          10.182106706452004,
          12.03044622901794,
          12.585388107948333,
          13.340880482804067,
          12.690728045205972,
          12.365521683689408,
          12.448544432320745,
          11.522617786355156,
          11.376764524850984,
          11.99285923015438
         ],
         "yaxis": "y"
        },
        {
         "fillpattern": {
          "shape": ""
         },
         "hovertemplate": "Phân Loại=Bán lẻ hàng hóa<br>Date=%{x}<br>M-YOY=%{y}<extra></extra>",
         "legendgroup": "Bán lẻ hàng hóa",
         "line": {
          "color": "#EF553B"
         },
         "marker": {
          "symbol": "circle"
         },
         "mode": "lines",
         "name": "Bán lẻ hàng hóa",
         "orientation": "v",
         "showlegend": true,
         "stackgroup": "1",
         "type": "scatter",
         "x": [
          "2023-10-29T00:00:00",
          "2023-09-29T00:00:00",
          "2023-08-29T00:00:00",
          "2023-07-29T00:00:00",
          "2023-06-29T00:00:00",
          "2023-05-29T00:00:00",
          "2023-04-29T00:00:00",
          "2023-03-29T00:00:00",
          "2023-02-28T00:00:00",
          "2023-01-29T00:00:00",
          "2022-12-29T00:00:00",
          "2022-11-29T00:00:00",
          "2022-10-29T00:00:00",
          "2022-09-29T00:00:00",
          "2022-08-29T00:00:00",
          "2022-07-29T00:00:00",
          "2022-06-29T00:00:00",
          "2022-05-29T00:00:00",
          "2022-04-29T00:00:00",
          "2022-03-29T00:00:00",
          "2022-02-28T00:00:00",
          "2022-01-29T00:00:00",
          "2021-12-29T00:00:00",
          "2021-11-29T00:00:00",
          "2021-10-29T00:00:00",
          "2021-09-29T00:00:00",
          "2021-08-29T00:00:00",
          "2021-07-29T00:00:00",
          "2021-06-29T00:00:00",
          "2021-05-29T00:00:00",
          "2021-04-29T00:00:00",
          "2021-03-29T00:00:00",
          "2021-02-28T00:00:00",
          "2021-01-29T00:00:00",
          "2020-12-27T00:00:00",
          "2020-11-29T00:00:00",
          "2020-10-29T00:00:00",
          "2020-09-29T00:00:00",
          "2020-08-29T00:00:00",
          "2020-07-29T00:00:00",
          "2020-06-29T00:00:00",
          "2020-05-29T00:00:00",
          "2020-04-29T00:00:00",
          "2020-03-27T00:00:00",
          "2020-02-29T00:00:00",
          "2020-01-29T00:00:00",
          "2019-12-27T00:00:00",
          "2019-11-29T00:00:00",
          "2019-10-29T00:00:00",
          "2019-09-28T00:00:00",
          "2019-08-29T00:00:00",
          "2019-07-29T00:00:00",
          "2019-06-28T00:00:00",
          "2019-05-27T00:00:00",
          "2019-04-29T00:00:00"
         ],
         "xaxis": "x",
         "y": [
          6.726340224718214,
          7.398820593081254,
          7.4550547336015995,
          7.003971114298494,
          5.968049907243824,
          10.948787314869122,
          9.680302989053217,
          11.284413433223975,
          10.49637691984367,
          18.147986823491095,
          12.757282913206012,
          10.697824589643702,
          9.636794857629653,
          19.9186417864168,
          31.89980642944593,
          29.380709002043062,
          21.026522839097012,
          18.341181456546067,
          12.380232462786637,
          10.65298860962713,
          2.4189606027974975,
          4.349625447151922,
          3.6999999999999886,
          -5.919656180891948,
          -13.503719085423285,
          -20.971874356478907,
          -25.32853491544428,
          -11.42791402127176,
          -1.271025156435229,
          0.5449203506038884,
          22.208114730142754,
          8.54052089017432,
          10.474540381829328,
          8.654127389106364,
          13.788525497402233,
          13.212909899873722,
          10.992769443959418,
          9.211062719221317,
          6.577572585054554,
          6.957199779370498,
          9.424694362772186,
          1.6080864426803174,
          -15.305767065985194,
          4.669330377225904,
          8.15395605888925,
          10.651974376566045,
          12.237968233101569,
          13.177916505855165,
          14.728997875166655,
          13.878611679076187,
          13.325987926233168,
          13.409531162465399,
          12.355352857018545,
          12.653244312454845,
          13.070015543878256
         ],
         "yaxis": "y"
        }
       ],
       "layout": {
        "legend": {
         "title": {
          "text": "Phân Loại"
         },
         "tracegroupgap": 0
        },
        "margin": {
         "t": 60
        },
        "template": {
         "data": {
          "bar": [
           {
            "error_x": {
             "color": "#2a3f5f"
            },
            "error_y": {
             "color": "#2a3f5f"
            },
            "marker": {
             "line": {
              "color": "#E5ECF6",
              "width": 0.5
             },
             "pattern": {
              "fillmode": "overlay",
              "size": 10,
              "solidity": 0.2
             }
            },
            "type": "bar"
           }
          ],
          "barpolar": [
           {
            "marker": {
             "line": {
              "color": "#E5ECF6",
              "width": 0.5
             },
             "pattern": {
              "fillmode": "overlay",
              "size": 10,
              "solidity": 0.2
             }
            },
            "type": "barpolar"
           }
          ],
          "carpet": [
           {
            "aaxis": {
             "endlinecolor": "#2a3f5f",
             "gridcolor": "white",
             "linecolor": "white",
             "minorgridcolor": "white",
             "startlinecolor": "#2a3f5f"
            },
            "baxis": {
             "endlinecolor": "#2a3f5f",
             "gridcolor": "white",
             "linecolor": "white",
             "minorgridcolor": "white",
             "startlinecolor": "#2a3f5f"
            },
            "type": "carpet"
           }
          ],
          "choropleth": [
           {
            "colorbar": {
             "outlinewidth": 0,
             "ticks": ""
            },
            "type": "choropleth"
           }
          ],
          "contour": [
           {
            "colorbar": {
             "outlinewidth": 0,
             "ticks": ""
            },
            "colorscale": [
             [
              0,
              "#0d0887"
             ],
             [
              0.1111111111111111,
              "#46039f"
             ],
             [
              0.2222222222222222,
              "#7201a8"
             ],
             [
              0.3333333333333333,
              "#9c179e"
             ],
             [
              0.4444444444444444,
              "#bd3786"
             ],
             [
              0.5555555555555556,
              "#d8576b"
             ],
             [
              0.6666666666666666,
              "#ed7953"
             ],
             [
              0.7777777777777778,
              "#fb9f3a"
             ],
             [
              0.8888888888888888,
              "#fdca26"
             ],
             [
              1,
              "#f0f921"
             ]
            ],
            "type": "contour"
           }
          ],
          "contourcarpet": [
           {
            "colorbar": {
             "outlinewidth": 0,
             "ticks": ""
            },
            "type": "contourcarpet"
           }
          ],
          "heatmap": [
           {
            "colorbar": {
             "outlinewidth": 0,
             "ticks": ""
            },
            "colorscale": [
             [
              0,
              "#0d0887"
             ],
             [
              0.1111111111111111,
              "#46039f"
             ],
             [
              0.2222222222222222,
              "#7201a8"
             ],
             [
              0.3333333333333333,
              "#9c179e"
             ],
             [
              0.4444444444444444,
              "#bd3786"
             ],
             [
              0.5555555555555556,
              "#d8576b"
             ],
             [
              0.6666666666666666,
              "#ed7953"
             ],
             [
              0.7777777777777778,
              "#fb9f3a"
             ],
             [
              0.8888888888888888,
              "#fdca26"
             ],
             [
              1,
              "#f0f921"
             ]
            ],
            "type": "heatmap"
           }
          ],
          "heatmapgl": [
           {
            "colorbar": {
             "outlinewidth": 0,
             "ticks": ""
            },
            "colorscale": [
             [
              0,
              "#0d0887"
             ],
             [
              0.1111111111111111,
              "#46039f"
             ],
             [
              0.2222222222222222,
              "#7201a8"
             ],
             [
              0.3333333333333333,
              "#9c179e"
             ],
             [
              0.4444444444444444,
              "#bd3786"
             ],
             [
              0.5555555555555556,
              "#d8576b"
             ],
             [
              0.6666666666666666,
              "#ed7953"
             ],
             [
              0.7777777777777778,
              "#fb9f3a"
             ],
             [
              0.8888888888888888,
              "#fdca26"
             ],
             [
              1,
              "#f0f921"
             ]
            ],
            "type": "heatmapgl"
           }
          ],
          "histogram": [
           {
            "marker": {
             "pattern": {
              "fillmode": "overlay",
              "size": 10,
              "solidity": 0.2
             }
            },
            "type": "histogram"
           }
          ],
          "histogram2d": [
           {
            "colorbar": {
             "outlinewidth": 0,
             "ticks": ""
            },
            "colorscale": [
             [
              0,
              "#0d0887"
             ],
             [
              0.1111111111111111,
              "#46039f"
             ],
             [
              0.2222222222222222,
              "#7201a8"
             ],
             [
              0.3333333333333333,
              "#9c179e"
             ],
             [
              0.4444444444444444,
              "#bd3786"
             ],
             [
              0.5555555555555556,
              "#d8576b"
             ],
             [
              0.6666666666666666,
              "#ed7953"
             ],
             [
              0.7777777777777778,
              "#fb9f3a"
             ],
             [
              0.8888888888888888,
              "#fdca26"
             ],
             [
              1,
              "#f0f921"
             ]
            ],
            "type": "histogram2d"
           }
          ],
          "histogram2dcontour": [
           {
            "colorbar": {
             "outlinewidth": 0,
             "ticks": ""
            },
            "colorscale": [
             [
              0,
              "#0d0887"
             ],
             [
              0.1111111111111111,
              "#46039f"
             ],
             [
              0.2222222222222222,
              "#7201a8"
             ],
             [
              0.3333333333333333,
              "#9c179e"
             ],
             [
              0.4444444444444444,
              "#bd3786"
             ],
             [
              0.5555555555555556,
              "#d8576b"
             ],
             [
              0.6666666666666666,
              "#ed7953"
             ],
             [
              0.7777777777777778,
              "#fb9f3a"
             ],
             [
              0.8888888888888888,
              "#fdca26"
             ],
             [
              1,
              "#f0f921"
             ]
            ],
            "type": "histogram2dcontour"
           }
          ],
          "mesh3d": [
           {
            "colorbar": {
             "outlinewidth": 0,
             "ticks": ""
            },
            "type": "mesh3d"
           }
          ],
          "parcoords": [
           {
            "line": {
             "colorbar": {
              "outlinewidth": 0,
              "ticks": ""
             }
            },
            "type": "parcoords"
           }
          ],
          "pie": [
           {
            "automargin": true,
            "type": "pie"
           }
          ],
          "scatter": [
           {
            "fillpattern": {
             "fillmode": "overlay",
             "size": 10,
             "solidity": 0.2
            },
            "type": "scatter"
           }
          ],
          "scatter3d": [
           {
            "line": {
             "colorbar": {
              "outlinewidth": 0,
              "ticks": ""
             }
            },
            "marker": {
             "colorbar": {
              "outlinewidth": 0,
              "ticks": ""
             }
            },
            "type": "scatter3d"
           }
          ],
          "scattercarpet": [
           {
            "marker": {
             "colorbar": {
              "outlinewidth": 0,
              "ticks": ""
             }
            },
            "type": "scattercarpet"
           }
          ],
          "scattergeo": [
           {
            "marker": {
             "colorbar": {
              "outlinewidth": 0,
              "ticks": ""
             }
            },
            "type": "scattergeo"
           }
          ],
          "scattergl": [
           {
            "marker": {
             "colorbar": {
              "outlinewidth": 0,
              "ticks": ""
             }
            },
            "type": "scattergl"
           }
          ],
          "scattermapbox": [
           {
            "marker": {
             "colorbar": {
              "outlinewidth": 0,
              "ticks": ""
             }
            },
            "type": "scattermapbox"
           }
          ],
          "scatterpolar": [
           {
            "marker": {
             "colorbar": {
              "outlinewidth": 0,
              "ticks": ""
             }
            },
            "type": "scatterpolar"
           }
          ],
          "scatterpolargl": [
           {
            "marker": {
             "colorbar": {
              "outlinewidth": 0,
              "ticks": ""
             }
            },
            "type": "scatterpolargl"
           }
          ],
          "scatterternary": [
           {
            "marker": {
             "colorbar": {
              "outlinewidth": 0,
              "ticks": ""
             }
            },
            "type": "scatterternary"
           }
          ],
          "surface": [
           {
            "colorbar": {
             "outlinewidth": 0,
             "ticks": ""
            },
            "colorscale": [
             [
              0,
              "#0d0887"
             ],
             [
              0.1111111111111111,
              "#46039f"
             ],
             [
              0.2222222222222222,
              "#7201a8"
             ],
             [
              0.3333333333333333,
              "#9c179e"
             ],
             [
              0.4444444444444444,
              "#bd3786"
             ],
             [
              0.5555555555555556,
              "#d8576b"
             ],
             [
              0.6666666666666666,
              "#ed7953"
             ],
             [
              0.7777777777777778,
              "#fb9f3a"
             ],
             [
              0.8888888888888888,
              "#fdca26"
             ],
             [
              1,
              "#f0f921"
             ]
            ],
            "type": "surface"
           }
          ],
          "table": [
           {
            "cells": {
             "fill": {
              "color": "#EBF0F8"
             },
             "line": {
              "color": "white"
             }
            },
            "header": {
             "fill": {
              "color": "#C8D4E3"
             },
             "line": {
              "color": "white"
             }
            },
            "type": "table"
           }
          ]
         },
         "layout": {
          "annotationdefaults": {
           "arrowcolor": "#2a3f5f",
           "arrowhead": 0,
           "arrowwidth": 1
          },
          "autotypenumbers": "strict",
          "coloraxis": {
           "colorbar": {
            "outlinewidth": 0,
            "ticks": ""
           }
          },
          "colorscale": {
           "diverging": [
            [
             0,
             "#8e0152"
            ],
            [
             0.1,
             "#c51b7d"
            ],
            [
             0.2,
             "#de77ae"
            ],
            [
             0.3,
             "#f1b6da"
            ],
            [
             0.4,
             "#fde0ef"
            ],
            [
             0.5,
             "#f7f7f7"
            ],
            [
             0.6,
             "#e6f5d0"
            ],
            [
             0.7,
             "#b8e186"
            ],
            [
             0.8,
             "#7fbc41"
            ],
            [
             0.9,
             "#4d9221"
            ],
            [
             1,
             "#276419"
            ]
           ],
           "sequential": [
            [
             0,
             "#0d0887"
            ],
            [
             0.1111111111111111,
             "#46039f"
            ],
            [
             0.2222222222222222,
             "#7201a8"
            ],
            [
             0.3333333333333333,
             "#9c179e"
            ],
            [
             0.4444444444444444,
             "#bd3786"
            ],
            [
             0.5555555555555556,
             "#d8576b"
            ],
            [
             0.6666666666666666,
             "#ed7953"
            ],
            [
             0.7777777777777778,
             "#fb9f3a"
            ],
            [
             0.8888888888888888,
             "#fdca26"
            ],
            [
             1,
             "#f0f921"
            ]
           ],
           "sequentialminus": [
            [
             0,
             "#0d0887"
            ],
            [
             0.1111111111111111,
             "#46039f"
            ],
            [
             0.2222222222222222,
             "#7201a8"
            ],
            [
             0.3333333333333333,
             "#9c179e"
            ],
            [
             0.4444444444444444,
             "#bd3786"
            ],
            [
             0.5555555555555556,
             "#d8576b"
            ],
            [
             0.6666666666666666,
             "#ed7953"
            ],
            [
             0.7777777777777778,
             "#fb9f3a"
            ],
            [
             0.8888888888888888,
             "#fdca26"
            ],
            [
             1,
             "#f0f921"
            ]
           ]
          },
          "colorway": [
           "#636efa",
           "#EF553B",
           "#00cc96",
           "#ab63fa",
           "#FFA15A",
           "#19d3f3",
           "#FF6692",
           "#B6E880",
           "#FF97FF",
           "#FECB52"
          ],
          "font": {
           "color": "#2a3f5f"
          },
          "geo": {
           "bgcolor": "white",
           "lakecolor": "white",
           "landcolor": "#E5ECF6",
           "showlakes": true,
           "showland": true,
           "subunitcolor": "white"
          },
          "hoverlabel": {
           "align": "left"
          },
          "hovermode": "closest",
          "mapbox": {
           "style": "light"
          },
          "paper_bgcolor": "white",
          "plot_bgcolor": "#E5ECF6",
          "polar": {
           "angularaxis": {
            "gridcolor": "white",
            "linecolor": "white",
            "ticks": ""
           },
           "bgcolor": "#E5ECF6",
           "radialaxis": {
            "gridcolor": "white",
            "linecolor": "white",
            "ticks": ""
           }
          },
          "scene": {
           "xaxis": {
            "backgroundcolor": "#E5ECF6",
            "gridcolor": "white",
            "gridwidth": 2,
            "linecolor": "white",
            "showbackground": true,
            "ticks": "",
            "zerolinecolor": "white"
           },
           "yaxis": {
            "backgroundcolor": "#E5ECF6",
            "gridcolor": "white",
            "gridwidth": 2,
            "linecolor": "white",
            "showbackground": true,
            "ticks": "",
            "zerolinecolor": "white"
           },
           "zaxis": {
            "backgroundcolor": "#E5ECF6",
            "gridcolor": "white",
            "gridwidth": 2,
            "linecolor": "white",
            "showbackground": true,
            "ticks": "",
            "zerolinecolor": "white"
           }
          },
          "shapedefaults": {
           "line": {
            "color": "#2a3f5f"
           }
          },
          "ternary": {
           "aaxis": {
            "gridcolor": "white",
            "linecolor": "white",
            "ticks": ""
           },
           "baxis": {
            "gridcolor": "white",
            "linecolor": "white",
            "ticks": ""
           },
           "bgcolor": "#E5ECF6",
           "caxis": {
            "gridcolor": "white",
            "linecolor": "white",
            "ticks": ""
           }
          },
          "title": {
           "x": 0.05
          },
          "xaxis": {
           "automargin": true,
           "gridcolor": "white",
           "linecolor": "white",
           "ticks": "",
           "title": {
            "standoff": 15
           },
           "zerolinecolor": "white",
           "zerolinewidth": 2
          },
          "yaxis": {
           "automargin": true,
           "gridcolor": "white",
           "linecolor": "white",
           "ticks": "",
           "title": {
            "standoff": 15
           },
           "zerolinecolor": "white",
           "zerolinewidth": 2
          }
         }
        },
        "xaxis": {
         "anchor": "y",
         "domain": [
          0,
          1
         ],
         "rangeselector": {
          "buttons": [
           {
            "count": 1,
            "label": "YTD",
            "step": "year",
            "stepmode": "todate"
           },
           {
            "count": 1,
            "label": "1y",
            "step": "year",
            "stepmode": "backward"
           },
           {
            "count": 3,
            "label": "3y",
            "step": "year",
            "stepmode": "backward"
           },
           {
            "count": 5,
            "label": "5y",
            "step": "year",
            "stepmode": "backward"
           },
           {
            "count": 7,
            "label": "7y",
            "step": "year",
            "stepmode": "backward"
           },
           {
            "count": 10,
            "label": "10y",
            "step": "year",
            "stepmode": "backward"
           },
           {
            "step": "all"
           }
          ]
         },
         "rangeslider": {
          "visible": true
         },
         "title": {
          "text": "Date"
         }
        },
        "yaxis": {
         "anchor": "x",
         "domain": [
          0,
          1
         ],
         "title": {
          "text": "M-YOY"
         }
        }
       }
      }
     },
     "metadata": {},
     "output_type": "display_data"
    }
   ],
   "source": [
    "import pandas as pd\n",
    "import plotly.express as px\n",
    "import plotly.graph_objects as go\n",
    "\n",
    "df_show = dfs_tongmuc[\n",
    "    (\n",
    "        (dfs_tongmuc[\"Phân Loại\"] == \"TỔNG SỐ\")\n",
    "        | (dfs_tongmuc[\"Phân Loại\"] == \"Bán lẻ hàng hóa\")\n",
    "        # | (dfs_tongmuc[\"Phân Loại\"] == \"Dịch vụ lưu trú, ăn uống\")\n",
    "        # | (dfs_tongmuc[\"Phân Loại\"] == \"Du lịch lữ hành\")\n",
    "        # | (dfs_tongmuc[\"Phân Loại\"] == \"Dịch vụ khác\")\n",
    "    )\n",
    "    & (dfs_tongmuc[\"Date\"] > \"2019-04-01\")\n",
    "]\n",
    "\n",
    "fig = px.area(df_show, x=\"Date\", y=\"M-YOY\", color=\"Phân Loại\")\n",
    "\n",
    "fig.update_xaxes(\n",
    "    rangeslider_visible=True,\n",
    "    rangeselector=dict(\n",
    "        buttons=[\n",
    "            dict(count=1, label=\"YTD\", step=\"year\", stepmode=\"todate\"),\n",
    "            dict(count=1, label=\"1y\", step=\"year\", stepmode=\"backward\"),\n",
    "            dict(count=3, label=\"3y\", step=\"year\", stepmode=\"backward\"),\n",
    "            dict(count=5, label=\"5y\", step=\"year\", stepmode=\"backward\"),\n",
    "            dict(count=7, label=\"7y\", step=\"year\", stepmode=\"backward\"),\n",
    "            dict(count=10, label=\"10y\", step=\"year\", stepmode=\"backward\"),\n",
    "            dict(step=\"all\"),\n",
    "        ]\n",
    "    ),\n",
    ")\n",
    "\n",
    "fig.show()"
   ]
  },
  {
   "cell_type": "code",
   "execution_count": null,
   "metadata": {},
   "outputs": [],
   "source": []
  }
 ],
 "metadata": {
  "kernelspec": {
   "display_name": "vn-macroeconomics",
   "language": "python",
   "name": "python3"
  },
  "language_info": {
   "codemirror_mode": {
    "name": "ipython",
    "version": 3
   },
   "file_extension": ".py",
   "mimetype": "text/x-python",
   "name": "python",
   "nbconvert_exporter": "python",
   "pygments_lexer": "ipython3",
   "version": "3.9.16"
  },
  "orig_nbformat": 4
 },
 "nbformat": 4,
 "nbformat_minor": 2
}
