{
  "cells": [
    {
      "cell_type": "code",
      "execution_count": 1,
      "metadata": {},
      "outputs": [],
      "source": [
        "import pandas as pd\n",
        "import seaborn as sns\n",
        "from datetime import date"
      ]
    },
    {
      "cell_type": "code",
      "execution_count": 2,
      "metadata": {},
      "outputs": [],
      "source": [
        "def find_sheet_name(sheet_names):\n",
        "    iip_sheet_names = list(\n",
        "        filter(\n",
        "            lambda x: (\"gia\" not in x.lower() and \"csg\" not in x.lower())\n",
        "            and \"xk\" in x.lower()\n",
        "            and (\"thang\" in x.lower() or \"tháng\" in x.lower()),\n",
        "            sheet_names,\n",
        "        )\n",
        "    )\n",
        "\n",
        "    if len(iip_sheet_names) == 1:\n",
        "        return iip_sheet_names[0]\n",
        "\n",
        "    iip_sheet_names = list(\n",
        "        filter(\n",
        "            lambda x: (\"gia\" not in x.lower() and \"csg\" not in x.lower())\n",
        "            and (\"xuất khẩu\" in x.lower() or \"xuat khau\" in x.lower())\n",
        "            and (\"thang\" in x.lower() or \"tháng\" in x.lower()),\n",
        "            sheet_names,\n",
        "        )\n",
        "    )\n",
        "\n",
        "    if len(iip_sheet_names) == 1:\n",
        "        return iip_sheet_names[0]\n",
        "\n",
        "    iip_sheet_names = list(\n",
        "        filter(\n",
        "            lambda x: (\"gia\" not in x.lower() and \"csg\" not in x.lower())\n",
        "            and \"xk\" in x.lower(),\n",
        "            sheet_names,\n",
        "        )\n",
        "    )\n",
        "\n",
        "    if len(iip_sheet_names) == 1:\n",
        "        return iip_sheet_names[0]\n",
        "\n",
        "    iip_sheet_names = list(\n",
        "        filter(\n",
        "            lambda x: (\"gia\" not in x.lower() and \"csg\" not in x.lower())\n",
        "            and (\"xuất khẩu\" in x.lower() or \"xuat khau\" in x.lower()),\n",
        "            sheet_names,\n",
        "        )\n",
        "    )\n",
        "\n",
        "    if len(iip_sheet_names) == 1:\n",
        "        return iip_sheet_names[0]\n",
        "\n",
        "    if len(sheet_names) == 43:\n",
        "        return \"25\"\n",
        "\n",
        "    raise RuntimeError(sheet_names, iip_sheet_names)"
      ]
    },
    {
      "cell_type": "code",
      "execution_count": 3,
      "metadata": {},
      "outputs": [],
      "source": [
        "en_to_vn = {\n",
        "    \"TOTAL\": \"TỔNG TRỊ GIÁ\",\n",
        "    \"Domestic economic sector\": \"Khu vực kinh tế trong nước\",\n",
        "    \"FDI sector\": \"Khu vực có vốn đầu tư NN\",\n",
        "    \"Crude oil\": \"Dầu thô\",\n",
        "    \"Others\": \"Hàng hoá khác\",\n",
        "    \"MAIN ITEMS\": \"MẶT HÀNG CHỦ YẾU\",\n",
        "    \"Aquatic products\": \"Thủy sản\",\n",
        "    \"Vegetables and fruits\": \"Rau quả\",\n",
        "    \"Cashew nut\": \"Hạt điều\",\n",
        "    \"Coffee\": \"Cà phê\",\n",
        "    \"Tea\": \"Chè\",\n",
        "    \"Pepper\": \"Hạt tiêu\",\n",
        "    \"Rice\": \"Gạo\",\n",
        "    \"Cassava & products\": \"Sắn và sản phẩm của sắn\",\n",
        "    \"Clinker and cement\": \"Clanhke và xi măng\",\n",
        "    \"Crude oil\": \"Dầu thô\",\n",
        "    \"Petrol\": \"Xăng dầu\",\n",
        "    \"Chemicals\": \"Hóa chất\",\n",
        "    \"Chemical products\": \"Sản phẩm hóa chất\",\n",
        "    \"Plastic materials\": \"Chất dẻo nguyên liệu\",\n",
        "    \"Plastic products\": \"Sản phẩm từ chất dẻo\",\n",
        "    \"Rubber\": \"Cao su\",\n",
        "    \"Hand bags, wallets, suitcases, umbrellas\": \"Túi xách, ví, va li, mũ, ô dù\",\n",
        "    \"Wood and products\": \"Gỗ và sản phẩm gỗ\",\n",
        "    \"Paper and paper products\": \"Giấy và các sản phẩm từ giấy\",\n",
        "    \"Textile fibres\": \"Xơ, sợi dệt các loại\",\n",
        "    \"Textiles and garments\": \"Dệt, may\",\n",
        "    \"Shoes and sandals\": \"Giày dép\",\n",
        "    \"Auxiliary materials for textile, clothing, leather and footwear\": \"Nguyên phụ liệu dệt, may, da, giày\",\n",
        "    \"Precious stones, metals and products\": \"Đá quý, KL quý và sản phẩm\",\n",
        "    \"Iron, steel\": \"Sắt thép\",\n",
        "    \"Iron and steel products\": \"Sản phẩm từ sắt thép\",\n",
        "    \"Other basic metals and products\": \"Kim loại thường khác và sản phẩm\",\n",
        "    \"Electronic goods, computers and their parts\": \"Điện tử, máy tính và linh kiện\",\n",
        "    \"Phones all of kinds and their parts\": \"Điện thoại và linh kiện\",\n",
        "    \"Cameras, camcorders and their components\": \"Máy ảnh, máy quay phim và LK\",\n",
        "    \"Machinery, instrument, accessory\": \"Máy móc thiết bị, dụng cụ PT khác\",\n",
        "    \"Electrical wire and cable\": \"Dây điện và cáp điện\",\n",
        "    \"Means of transport and components\": \"Phương tiện vận tải và phụ tùng\",\n",
        "    \"Furniture made of non-wood materials\": \"Sản phẩm nội thất từ chất liệu khác gỗ\",\n",
        "    \"Toys, sports equipment and their parts\": \"Đồ chơi, dụng cụ thể thao và bộ phận\",\n",
        "}"
      ]
    },
    {
      "cell_type": "code",
      "execution_count": 4,
      "metadata": {},
      "outputs": [
        {
          "data": {
            "text/html": [
              "<div>\n",
              "<style scoped>\n",
              "    .dataframe tbody tr th:only-of-type {\n",
              "        vertical-align: middle;\n",
              "    }\n",
              "\n",
              "    .dataframe tbody tr th {\n",
              "        vertical-align: top;\n",
              "    }\n",
              "\n",
              "    .dataframe thead th {\n",
              "        text-align: right;\n",
              "    }\n",
              "</style>\n",
              "<table border=\"1\" class=\"dataframe\">\n",
              "  <thead>\n",
              "    <tr style=\"text-align: right;\">\n",
              "      <th></th>\n",
              "      <th>Ngành</th>\n",
              "      <th>Total-M</th>\n",
              "      <th>Total-YOY</th>\n",
              "      <th>YTD-YOY</th>\n",
              "      <th>Date</th>\n",
              "    </tr>\n",
              "  </thead>\n",
              "  <tbody>\n",
              "    <tr>\n",
              "      <th>0</th>\n",
              "      <td>TỔNG TRỊ GIÁ</td>\n",
              "      <td>20900</td>\n",
              "      <td>155411</td>\n",
              "      <td>14.505585</td>\n",
              "      <td>2018-08-29</td>\n",
              "    </tr>\n",
              "    <tr>\n",
              "      <th>1</th>\n",
              "      <td>Khu vực kinh tế trong nước</td>\n",
              "      <td>6050</td>\n",
              "      <td>45109</td>\n",
              "      <td>17.417957</td>\n",
              "      <td>2018-08-29</td>\n",
              "    </tr>\n",
              "    <tr>\n",
              "      <th>2</th>\n",
              "      <td>Khu vực có vốn đầu tư NN</td>\n",
              "      <td>14850</td>\n",
              "      <td>110302</td>\n",
              "      <td>13.355771</td>\n",
              "      <td>2018-08-29</td>\n",
              "    </tr>\n",
              "    <tr>\n",
              "      <th>3</th>\n",
              "      <td>Dầu thô</td>\n",
              "      <td>250</td>\n",
              "      <td>1507</td>\n",
              "      <td>-24.6</td>\n",
              "      <td>2018-08-29</td>\n",
              "    </tr>\n",
              "    <tr>\n",
              "      <th>4</th>\n",
              "      <td>Hàng hoá khác</td>\n",
              "      <td>14600</td>\n",
              "      <td>108795</td>\n",
              "      <td>14.151424</td>\n",
              "      <td>2018-08-29</td>\n",
              "    </tr>\n",
              "    <tr>\n",
              "      <th>6</th>\n",
              "      <td>Thủy sản</td>\n",
              "      <td>800</td>\n",
              "      <td>5525.905009</td>\n",
              "      <td>6.444198</td>\n",
              "      <td>2018-08-29</td>\n",
              "    </tr>\n",
              "    <tr>\n",
              "      <th>7</th>\n",
              "      <td>Rau quả</td>\n",
              "      <td>360</td>\n",
              "      <td>2689.862626</td>\n",
              "      <td>14.753942</td>\n",
              "      <td>2018-08-29</td>\n",
              "    </tr>\n",
              "    <tr>\n",
              "      <th>8</th>\n",
              "      <td>Hạt điều</td>\n",
              "      <td>296.224178</td>\n",
              "      <td>2279.070837</td>\n",
              "      <td>2.537997</td>\n",
              "      <td>2018-08-29</td>\n",
              "    </tr>\n",
              "    <tr>\n",
              "      <th>9</th>\n",
              "      <td>Cà phê</td>\n",
              "      <td>246.209019</td>\n",
              "      <td>2497.892295</td>\n",
              "      <td>-3.078858</td>\n",
              "      <td>2018-08-29</td>\n",
              "    </tr>\n",
              "    <tr>\n",
              "      <th>10</th>\n",
              "      <td>Chè</td>\n",
              "      <td>19.593154</td>\n",
              "      <td>130.744511</td>\n",
              "      <td>-8.596667</td>\n",
              "      <td>2018-08-29</td>\n",
              "    </tr>\n",
              "    <tr>\n",
              "      <th>11</th>\n",
              "      <td>Hạt tiêu</td>\n",
              "      <td>65.04484</td>\n",
              "      <td>583.518163</td>\n",
              "      <td>-35.215594</td>\n",
              "      <td>2018-08-29</td>\n",
              "    </tr>\n",
              "    <tr>\n",
              "      <th>12</th>\n",
              "      <td>Gạo</td>\n",
              "      <td>236.404995</td>\n",
              "      <td>2226.348161</td>\n",
              "      <td>23.607211</td>\n",
              "      <td>2018-08-29</td>\n",
              "    </tr>\n",
              "    <tr>\n",
              "      <th>13</th>\n",
              "      <td>Sắn và sản phẩm của sắn</td>\n",
              "      <td>45.05211</td>\n",
              "      <td>638.645852</td>\n",
              "      <td>0.38288</td>\n",
              "      <td>2018-08-29</td>\n",
              "    </tr>\n",
              "    <tr>\n",
              "      <th>14</th>\n",
              "      <td>Than đá</td>\n",
              "      <td>33.839174</td>\n",
              "      <td>224.008143</td>\n",
              "      <td>24.186107</td>\n",
              "      <td>2018-08-29</td>\n",
              "    </tr>\n",
              "    <tr>\n",
              "      <th>15</th>\n",
              "      <td>Dầu thô</td>\n",
              "      <td>250</td>\n",
              "      <td>1507.456284</td>\n",
              "      <td>-24.582584</td>\n",
              "      <td>2018-08-29</td>\n",
              "    </tr>\n",
              "    <tr>\n",
              "      <th>16</th>\n",
              "      <td>Xăng dầu</td>\n",
              "      <td>145.316027</td>\n",
              "      <td>1259.070647</td>\n",
              "      <td>34.36044</td>\n",
              "      <td>2018-08-29</td>\n",
              "    </tr>\n",
              "    <tr>\n",
              "      <th>17</th>\n",
              "      <td>Hóa chất</td>\n",
              "      <td>160</td>\n",
              "      <td>1090.560009</td>\n",
              "      <td>37.951006</td>\n",
              "      <td>2018-08-29</td>\n",
              "    </tr>\n",
              "    <tr>\n",
              "      <th>18</th>\n",
              "      <td>Sản phẩm hóa chất</td>\n",
              "      <td>90</td>\n",
              "      <td>688.561659</td>\n",
              "      <td>20.413698</td>\n",
              "      <td>2018-08-29</td>\n",
              "    </tr>\n",
              "    <tr>\n",
              "      <th>19</th>\n",
              "      <td>Sản phẩm từ chất dẻo</td>\n",
              "      <td>260</td>\n",
              "      <td>1954.903045</td>\n",
              "      <td>18.746233</td>\n",
              "      <td>2018-08-29</td>\n",
              "    </tr>\n",
              "    <tr>\n",
              "      <th>20</th>\n",
              "      <td>Cao su</td>\n",
              "      <td>203.560319</td>\n",
              "      <td>1212.242067</td>\n",
              "      <td>-12.100139</td>\n",
              "      <td>2018-08-29</td>\n",
              "    </tr>\n",
              "    <tr>\n",
              "      <th>21</th>\n",
              "      <td>Túi xách, ví, va li, mũ, ô dù</td>\n",
              "      <td>280</td>\n",
              "      <td>2213.537308</td>\n",
              "      <td>-0.412582</td>\n",
              "      <td>2018-08-29</td>\n",
              "    </tr>\n",
              "    <tr>\n",
              "      <th>22</th>\n",
              "      <td>Sản phẩm mây tre, cói, thảm</td>\n",
              "      <td>30</td>\n",
              "      <td>219.547405</td>\n",
              "      <td>27.695997</td>\n",
              "      <td>2018-08-29</td>\n",
              "    </tr>\n",
              "    <tr>\n",
              "      <th>23</th>\n",
              "      <td>Gỗ và sản phẩm gỗ</td>\n",
              "      <td>730</td>\n",
              "      <td>5585.157867</td>\n",
              "      <td>13.271888</td>\n",
              "      <td>2018-08-29</td>\n",
              "    </tr>\n",
              "    <tr>\n",
              "      <th>24</th>\n",
              "      <td>Dệt, may</td>\n",
              "      <td>2900</td>\n",
              "      <td>19422.736934</td>\n",
              "      <td>14.937292</td>\n",
              "      <td>2018-08-29</td>\n",
              "    </tr>\n",
              "    <tr>\n",
              "      <th>25</th>\n",
              "      <td>Giày dép</td>\n",
              "      <td>1400</td>\n",
              "      <td>10531.885404</td>\n",
              "      <td>9.562844</td>\n",
              "      <td>2018-08-29</td>\n",
              "    </tr>\n",
              "    <tr>\n",
              "      <th>26</th>\n",
              "      <td>Sản phẩm gốm sứ</td>\n",
              "      <td>40</td>\n",
              "      <td>326.455913</td>\n",
              "      <td>9.128819</td>\n",
              "      <td>2018-08-29</td>\n",
              "    </tr>\n",
              "    <tr>\n",
              "      <th>27</th>\n",
              "      <td>Đá quý, KL quý và sản phẩm</td>\n",
              "      <td>45</td>\n",
              "      <td>385.888675</td>\n",
              "      <td>12.267664</td>\n",
              "      <td>2018-08-29</td>\n",
              "    </tr>\n",
              "    <tr>\n",
              "      <th>28</th>\n",
              "      <td>Sắt thép</td>\n",
              "      <td>355.63488</td>\n",
              "      <td>2889.116964</td>\n",
              "      <td>52.902895</td>\n",
              "      <td>2018-08-29</td>\n",
              "    </tr>\n",
              "    <tr>\n",
              "      <th>29</th>\n",
              "      <td>Điện tử, máy tính và LK</td>\n",
              "      <td>2500</td>\n",
              "      <td>18440.098069</td>\n",
              "      <td>14.21548</td>\n",
              "      <td>2018-08-29</td>\n",
              "    </tr>\n",
              "    <tr>\n",
              "      <th>30</th>\n",
              "      <td>Điện thoại các loại và linh kiện</td>\n",
              "      <td>4400</td>\n",
              "      <td>30876.274256</td>\n",
              "      <td>15.707056</td>\n",
              "      <td>2018-08-29</td>\n",
              "    </tr>\n",
              "    <tr>\n",
              "      <th>31</th>\n",
              "      <td>Máy móc, thiết bị, dụng cụ PT khác</td>\n",
              "      <td>1350</td>\n",
              "      <td>10562.303551</td>\n",
              "      <td>26.942608</td>\n",
              "      <td>2018-08-29</td>\n",
              "    </tr>\n",
              "    <tr>\n",
              "      <th>32</th>\n",
              "      <td>Dây điện và cáp điện</td>\n",
              "      <td>150</td>\n",
              "      <td>1074.337822</td>\n",
              "      <td>33.291201</td>\n",
              "      <td>2018-08-29</td>\n",
              "    </tr>\n",
              "    <tr>\n",
              "      <th>33</th>\n",
              "      <td>Phương tiện vận tải và phụ tùng</td>\n",
              "      <td>600</td>\n",
              "      <td>5257.352827</td>\n",
              "      <td>14.503926</td>\n",
              "      <td>2018-08-29</td>\n",
              "    </tr>\n",
              "  </tbody>\n",
              "</table>\n",
              "</div>"
            ],
            "text/plain": [
              "                                 Ngành     Total-M     Total-YOY    YTD-YOY  \\\n",
              "0                         TỔNG TRỊ GIÁ       20900        155411  14.505585   \n",
              "1           Khu vực kinh tế trong nước        6050         45109  17.417957   \n",
              "2             Khu vực có vốn đầu tư NN       14850        110302  13.355771   \n",
              "3                              Dầu thô         250          1507      -24.6   \n",
              "4                        Hàng hoá khác       14600        108795  14.151424   \n",
              "6                             Thủy sản         800   5525.905009   6.444198   \n",
              "7                              Rau quả         360   2689.862626  14.753942   \n",
              "8                             Hạt điều  296.224178   2279.070837   2.537997   \n",
              "9                               Cà phê  246.209019   2497.892295  -3.078858   \n",
              "10                                 Chè   19.593154    130.744511  -8.596667   \n",
              "11                            Hạt tiêu    65.04484    583.518163 -35.215594   \n",
              "12                                 Gạo  236.404995   2226.348161  23.607211   \n",
              "13             Sắn và sản phẩm của sắn    45.05211    638.645852    0.38288   \n",
              "14                             Than đá   33.839174    224.008143  24.186107   \n",
              "15                             Dầu thô         250   1507.456284 -24.582584   \n",
              "16                            Xăng dầu  145.316027   1259.070647   34.36044   \n",
              "17                            Hóa chất         160   1090.560009  37.951006   \n",
              "18                   Sản phẩm hóa chất          90    688.561659  20.413698   \n",
              "19                Sản phẩm từ chất dẻo         260   1954.903045  18.746233   \n",
              "20                              Cao su  203.560319   1212.242067 -12.100139   \n",
              "21       Túi xách, ví, va li, mũ, ô dù         280   2213.537308  -0.412582   \n",
              "22         Sản phẩm mây tre, cói, thảm          30    219.547405  27.695997   \n",
              "23                   Gỗ và sản phẩm gỗ         730   5585.157867  13.271888   \n",
              "24                            Dệt, may        2900  19422.736934  14.937292   \n",
              "25                            Giày dép        1400  10531.885404   9.562844   \n",
              "26                     Sản phẩm gốm sứ          40    326.455913   9.128819   \n",
              "27          Đá quý, KL quý và sản phẩm          45    385.888675  12.267664   \n",
              "28                            Sắt thép   355.63488   2889.116964  52.902895   \n",
              "29             Điện tử, máy tính và LK        2500  18440.098069   14.21548   \n",
              "30    Điện thoại các loại và linh kiện        4400  30876.274256  15.707056   \n",
              "31  Máy móc, thiết bị, dụng cụ PT khác        1350  10562.303551  26.942608   \n",
              "32                Dây điện và cáp điện         150   1074.337822  33.291201   \n",
              "33     Phương tiện vận tải và phụ tùng         600   5257.352827  14.503926   \n",
              "\n",
              "         Date  \n",
              "0  2018-08-29  \n",
              "1  2018-08-29  \n",
              "2  2018-08-29  \n",
              "3  2018-08-29  \n",
              "4  2018-08-29  \n",
              "6  2018-08-29  \n",
              "7  2018-08-29  \n",
              "8  2018-08-29  \n",
              "9  2018-08-29  \n",
              "10 2018-08-29  \n",
              "11 2018-08-29  \n",
              "12 2018-08-29  \n",
              "13 2018-08-29  \n",
              "14 2018-08-29  \n",
              "15 2018-08-29  \n",
              "16 2018-08-29  \n",
              "17 2018-08-29  \n",
              "18 2018-08-29  \n",
              "19 2018-08-29  \n",
              "20 2018-08-29  \n",
              "21 2018-08-29  \n",
              "22 2018-08-29  \n",
              "23 2018-08-29  \n",
              "24 2018-08-29  \n",
              "25 2018-08-29  \n",
              "26 2018-08-29  \n",
              "27 2018-08-29  \n",
              "28 2018-08-29  \n",
              "29 2018-08-29  \n",
              "30 2018-08-29  \n",
              "31 2018-08-29  \n",
              "32 2018-08-29  \n",
              "33 2018-08-29  "
            ]
          },
          "execution_count": 4,
          "metadata": {},
          "output_type": "execute_result"
        }
      ],
      "source": [
        "def get_xk(xl, sheet_name, date):\n",
        "    df = xl.parse(sheet_name)\n",
        "\n",
        "    df = df.dropna(axis=1, how=\"all\")\n",
        "\n",
        "    if (\n",
        "        len(\n",
        "            df[df.columns[1]][\n",
        "                (df[df.columns[1]] == \"Khu vực kinh tế trong nước\")\n",
        "                | (df[df.columns[1]] == \"Gạo\")\n",
        "                | (df[df.columns[1]] == \"Rice\")\n",
        "            ].index\n",
        "        )\n",
        "        > 0\n",
        "    ):\n",
        "        df[df.columns[1]] = df[df.columns[1]].fillna(df[df.columns[0]])\n",
        "        df = df.drop(columns=[df.columns[0]])\n",
        "\n",
        "    df[df.columns[0]] = (\n",
        "        df[df.columns[0]]\n",
        "        .replace(r\"\\s+\", \" \", regex=True)\n",
        "        .replace(r\"\\n\", \" \", regex=True)\n",
        "    )\n",
        "\n",
        "    df[df.columns[0]] = df[df.columns[0]].str.strip()\n",
        "\n",
        "    df = df.reset_index(drop=True)\n",
        "\n",
        "    df = df.drop(\n",
        "        list(\n",
        "            range(\n",
        "                df[df.columns[0]][\n",
        "                    (df[df.columns[0]] == \"TỔNG TRỊ GIÁ\")\n",
        "                    | ((df[df.columns[0]] == \"TOTAL\"))\n",
        "                    | ((df[df.columns[0]] == \"TỔNG TRỊ GIÁ (*)\"))\n",
        "                    | ((df[df.columns[0]] == \"TỔNG TRỊ GIÁ(*)\"))\n",
        "                ].index[0]\n",
        "            )\n",
        "        )\n",
        "    )\n",
        "\n",
        "    df = df.reset_index(drop=True)\n",
        "\n",
        "    if len(df[df.columns[0]][df[df.columns[0]] == \"TOTAL\"].index) > 0:\n",
        "        df[df.columns[0]] = df[df.columns[0]].map(en_to_vn)\n",
        "\n",
        "    if len(df.columns) > 12:\n",
        "        df = df.drop(\n",
        "            columns=[\n",
        "                df.columns[idx_column] for idx_column in range(12, len(df.columns))\n",
        "            ]\n",
        "        )\n",
        "\n",
        "    total_row = df[df.columns[0]][\n",
        "        (df[df.columns[0]] == \"TỔNG TRỊ GIÁ\")\n",
        "        | ((df[df.columns[0]] == \"TOTAL\"))\n",
        "        | ((df[df.columns[0]] == \"TỔNG TRỊ GIÁ (*)\"))\n",
        "        | ((df[df.columns[0]] == \"TỔNG TRỊ GIÁ(*)\"))\n",
        "    ].index[0]\n",
        "\n",
        "    columns_is_nan = [\n",
        "        df.columns[idx_column]\n",
        "        for idx_column, is_nan in enumerate(df.loc[total_row].isnull())\n",
        "        if is_nan == True\n",
        "    ]\n",
        "\n",
        "    df = df.drop(columns=columns_is_nan)\n",
        "\n",
        "    if len(df.columns) > 5:\n",
        "        df = df.drop(\n",
        "            columns=[df.columns[idx_column] for idx_column in range(5, len(df.columns))]\n",
        "        )\n",
        "\n",
        "    if int(date.split(\"-\")[0]) > 2018 or (\n",
        "        int(date.split(\"-\")[0]) == 2018 and int(date.split(\"-\")[1]) > 8\n",
        "    ):\n",
        "        if len(df.columns) == 5 and int(date.split(\"-\")[1]) == 1:\n",
        "            df = df.drop(columns=[df.columns[1], df.columns[4]])\n",
        "            df.columns = [\"Ngành\", \"Total-M\", \"YOY\"]\n",
        "            df[\"Total-YOY\"] = df[\"Total-M\"]\n",
        "            df[\"YTD-YOY\"] = df[\"YOY\"]\n",
        "        elif len(df.columns) == 5:\n",
        "            df.columns = [\"Ngành\", \"Total-M\", \"Total-YOY\", \"YOY\", \"YTD-YOY\"]\n",
        "        elif len(df.columns) == 4 and int(date.split(\"-\")[1]) == 1:\n",
        "            df = df.drop(columns=[df.columns[1]])\n",
        "            df.columns = [\"Ngành\", \"Total-M\", \"YOY\"]\n",
        "            df[\"Total-YOY\"] = df[\"Total-M\"]\n",
        "            df[\"YTD-YOY\"] = df[\"YOY\"]\n",
        "        assert len(df.columns) == 5, df.columns\n",
        "\n",
        "        df = df[df[\"Total-M\"].notna()].replace(\"-\", None)\n",
        "        df = df[df[\"Total-YOY\"].notna()].replace(\"-\", None)\n",
        "        df = df[df[\"YOY\"].notna()].replace(\"-\", None)\n",
        "        df = df[df[\"YTD-YOY\"].notna()].replace(\"-\", None)\n",
        "\n",
        "        df[\"YOY\"] = df[\"YOY\"] - 100\n",
        "        df[\"YTD-YOY\"] = df[\"YTD-YOY\"] - 100\n",
        "    else:\n",
        "        df = df.drop(columns=[df.columns[1]])\n",
        "\n",
        "        if int(date.split(\"-\")[1]) == 1 and len(df.columns) == 4:\n",
        "            df = df.drop(columns=[df.columns[3]])\n",
        "            df.columns = [\"Ngành\", \"Total-M\", \"YOY\"]\n",
        "            df[\"Total-YOY\"] = df[\"Total-M\"]\n",
        "            df[\"YTD-YOY\"] = df[\"YOY\"]\n",
        "        elif int(date.split(\"-\")[1]) == 1 and len(df.columns) == 3:\n",
        "            df.columns = [\"Ngành\", \"Total-M\", \"YOY\"]\n",
        "            df[\"Total-YOY\"] = df[\"Total-M\"]\n",
        "            df[\"YTD-YOY\"] = df[\"YOY\"]\n",
        "        elif len(df.columns) == 4:\n",
        "            df.columns = [\"Ngành\", \"Total-M\", \"Total-YOY\", \"YTD-YOY\"]\n",
        "        else:\n",
        "            raise RuntimeError\n",
        "\n",
        "        df = df[df[\"Total-M\"].notna()].replace(\"-\", None)\n",
        "        df = df[df[\"Total-YOY\"].notna()].replace(\"-\", None)\n",
        "        df = df[df[\"YTD-YOY\"].notna()].replace(\"-\", None)\n",
        "\n",
        "        if \"YOY\" in df.columns:\n",
        "            df[\"YOY\"] = df[\"YOY\"].replace(\"-\", None) - 100\n",
        "        df[\"YTD-YOY\"] = df[\"YTD-YOY\"].replace(\"-\", None) - 100\n",
        "\n",
        "    df[\"Date\"] = date\n",
        "    df[\"Date\"] = pd.to_datetime(df[\"Date\"], dayfirst=False)\n",
        "\n",
        "    return df\n",
        "\n",
        "\n",
        "xl = pd.ExcelFile(\"../datas/2018-08-29-02-Bieu-8.2018-1.xlsx\")\n",
        "\n",
        "get_xk(xl, find_sheet_name(xl.sheet_names), \"2018-08-29\")"
      ]
    },
    {
      "cell_type": "code",
      "execution_count": 5,
      "metadata": {},
      "outputs": [],
      "source": [
        "import os\n",
        "import contextlib\n",
        "\n",
        "dfs_xk_origin = []\n",
        "for file_name in sorted(\n",
        "    os.listdir(\"../datas\"),\n",
        "    key=lambda filename: f\"{filename.split('-')[0]}-{filename.split('-')[1]}-{filename.split('-')[2]}\",\n",
        "    reverse=True,\n",
        "):\n",
        "    if file_name.startswith(\".~\"):\n",
        "        continue\n",
        "\n",
        "    try:\n",
        "        file_path = os.path.join(\"../datas\", file_name)\n",
        "\n",
        "        year = int(file_name.split(\"-\")[0])\n",
        "        month = int(file_name.split(\"-\")[1])\n",
        "        day = int(file_name.split(\"-\")[2])\n",
        "\n",
        "        if year < 2014:\n",
        "            continue\n",
        "\n",
        "        xl = pd.ExcelFile(file_path)\n",
        "\n",
        "        df_xk = get_xk(xl, find_sheet_name(xl.sheet_names), f\"{year}-{month}-{day}\")\n",
        "\n",
        "        dfs_xk_origin.append(df_xk)\n",
        "    except Exception as e:\n",
        "        print(file_name)\n",
        "        raise e"
      ]
    },
    {
      "cell_type": "code",
      "execution_count": 6,
      "metadata": {},
      "outputs": [
        {
          "data": {
            "text/html": [
              "<div>\n",
              "<style scoped>\n",
              "    .dataframe tbody tr th:only-of-type {\n",
              "        vertical-align: middle;\n",
              "    }\n",
              "\n",
              "    .dataframe tbody tr th {\n",
              "        vertical-align: top;\n",
              "    }\n",
              "\n",
              "    .dataframe thead th {\n",
              "        text-align: right;\n",
              "    }\n",
              "</style>\n",
              "<table border=\"1\" class=\"dataframe\">\n",
              "  <thead>\n",
              "    <tr style=\"text-align: right;\">\n",
              "      <th></th>\n",
              "      <th>Ngành</th>\n",
              "      <th>Total-M</th>\n",
              "      <th>Total-YOY</th>\n",
              "      <th>YOY</th>\n",
              "      <th>YTD-YOY</th>\n",
              "      <th>Date</th>\n",
              "    </tr>\n",
              "  </thead>\n",
              "  <tbody>\n",
              "    <tr>\n",
              "      <th>0</th>\n",
              "      <td>TỔNG TRỊ GIÁ</td>\n",
              "      <td>30940</td>\n",
              "      <td>123640</td>\n",
              "      <td>10.598698</td>\n",
              "      <td>14.987298</td>\n",
              "      <td>2024-04-29</td>\n",
              "    </tr>\n",
              "    <tr>\n",
              "      <th>1</th>\n",
              "      <td>Khu vực kinh tế trong nước</td>\n",
              "      <td>8726.992959</td>\n",
              "      <td>33624.211162</td>\n",
              "      <td>11.841004</td>\n",
              "      <td>21.040081</td>\n",
              "      <td>2024-04-29</td>\n",
              "    </tr>\n",
              "    <tr>\n",
              "      <th>2</th>\n",
              "      <td>Khu vực có vốn đầu tư NN</td>\n",
              "      <td>22213.007041</td>\n",
              "      <td>90015.788838</td>\n",
              "      <td>10.118142</td>\n",
              "      <td>12.878806</td>\n",
              "      <td>2024-04-29</td>\n",
              "    </tr>\n",
              "    <tr>\n",
              "      <th>3</th>\n",
              "      <td>Dầu thô</td>\n",
              "      <td>313.007041</td>\n",
              "      <td>948.548599</td>\n",
              "      <td>165.764002</td>\n",
              "      <td>56.775617</td>\n",
              "      <td>2024-04-29</td>\n",
              "    </tr>\n",
              "    <tr>\n",
              "      <th>4</th>\n",
              "      <td>Hàng hoá khác</td>\n",
              "      <td>21900</td>\n",
              "      <td>89067.240239</td>\n",
              "      <td>9.204049</td>\n",
              "      <td>12.543212</td>\n",
              "      <td>2024-04-29</td>\n",
              "    </tr>\n",
              "    <tr>\n",
              "      <th>...</th>\n",
              "      <td>...</td>\n",
              "      <td>...</td>\n",
              "      <td>...</td>\n",
              "      <td>...</td>\n",
              "      <td>...</td>\n",
              "      <td>...</td>\n",
              "    </tr>\n",
              "    <tr>\n",
              "      <th>4390</th>\n",
              "      <td>Điện tử, máy tính và LK</td>\n",
              "      <td>700</td>\n",
              "      <td>700</td>\n",
              "      <td>-20.404707</td>\n",
              "      <td>-20.404707</td>\n",
              "      <td>2014-01-29</td>\n",
              "    </tr>\n",
              "    <tr>\n",
              "      <th>4391</th>\n",
              "      <td>Điện thoại các loại và linh kiện</td>\n",
              "      <td>1350</td>\n",
              "      <td>1350</td>\n",
              "      <td>-8.878895</td>\n",
              "      <td>-8.878895</td>\n",
              "      <td>2014-01-29</td>\n",
              "    </tr>\n",
              "    <tr>\n",
              "      <th>4392</th>\n",
              "      <td>Máy móc, thiết bị, dụng cụ PT khác</td>\n",
              "      <td>480</td>\n",
              "      <td>480</td>\n",
              "      <td>-6.245577</td>\n",
              "      <td>-6.245577</td>\n",
              "      <td>2014-01-29</td>\n",
              "    </tr>\n",
              "    <tr>\n",
              "      <th>4393</th>\n",
              "      <td>Dây điện và cáp điện</td>\n",
              "      <td>50</td>\n",
              "      <td>50</td>\n",
              "      <td>5.076769</td>\n",
              "      <td>5.076769</td>\n",
              "      <td>2014-01-29</td>\n",
              "    </tr>\n",
              "    <tr>\n",
              "      <th>4394</th>\n",
              "      <td>Phương tiện vận tải và phụ tùng</td>\n",
              "      <td>380</td>\n",
              "      <td>380</td>\n",
              "      <td>-31.834742</td>\n",
              "      <td>-31.834742</td>\n",
              "      <td>2014-01-29</td>\n",
              "    </tr>\n",
              "  </tbody>\n",
              "</table>\n",
              "<p>4395 rows × 6 columns</p>\n",
              "</div>"
            ],
            "text/plain": [
              "                                   Ngành       Total-M     Total-YOY  \\\n",
              "0                           TỔNG TRỊ GIÁ         30940        123640   \n",
              "1             Khu vực kinh tế trong nước   8726.992959  33624.211162   \n",
              "2               Khu vực có vốn đầu tư NN  22213.007041  90015.788838   \n",
              "3                                Dầu thô    313.007041    948.548599   \n",
              "4                          Hàng hoá khác         21900  89067.240239   \n",
              "...                                  ...           ...           ...   \n",
              "4390             Điện tử, máy tính và LK           700           700   \n",
              "4391    Điện thoại các loại và linh kiện          1350          1350   \n",
              "4392  Máy móc, thiết bị, dụng cụ PT khác           480           480   \n",
              "4393                Dây điện và cáp điện            50            50   \n",
              "4394     Phương tiện vận tải và phụ tùng           380           380   \n",
              "\n",
              "             YOY    YTD-YOY       Date  \n",
              "0      10.598698  14.987298 2024-04-29  \n",
              "1      11.841004  21.040081 2024-04-29  \n",
              "2      10.118142  12.878806 2024-04-29  \n",
              "3     165.764002  56.775617 2024-04-29  \n",
              "4       9.204049  12.543212 2024-04-29  \n",
              "...          ...        ...        ...  \n",
              "4390  -20.404707 -20.404707 2014-01-29  \n",
              "4391   -8.878895  -8.878895 2014-01-29  \n",
              "4392   -6.245577  -6.245577 2014-01-29  \n",
              "4393    5.076769   5.076769 2014-01-29  \n",
              "4394  -31.834742 -31.834742 2014-01-29  \n",
              "\n",
              "[4395 rows x 6 columns]"
            ]
          },
          "execution_count": 6,
          "metadata": {},
          "output_type": "execute_result"
        }
      ],
      "source": [
        "dfs_xk = pd.concat(dfs_xk_origin, ignore_index=True, axis=0)\n",
        "dfs_xk[\"Date\"] = pd.to_datetime(dfs_xk[\"Date\"], dayfirst=False)\n",
        "dfs_xk"
      ]
    },
    {
      "cell_type": "code",
      "execution_count": 7,
      "metadata": {},
      "outputs": [
        {
          "data": {
            "text/html": [
              "<div>\n",
              "<style scoped>\n",
              "    .dataframe tbody tr th:only-of-type {\n",
              "        vertical-align: middle;\n",
              "    }\n",
              "\n",
              "    .dataframe tbody tr th {\n",
              "        vertical-align: top;\n",
              "    }\n",
              "\n",
              "    .dataframe thead th {\n",
              "        text-align: right;\n",
              "    }\n",
              "</style>\n",
              "<table border=\"1\" class=\"dataframe\">\n",
              "  <thead>\n",
              "    <tr style=\"text-align: right;\">\n",
              "      <th></th>\n",
              "      <th>Ngành</th>\n",
              "      <th>Total-M</th>\n",
              "      <th>Total-YOY</th>\n",
              "      <th>YOY</th>\n",
              "      <th>YTD-YOY</th>\n",
              "      <th>Date</th>\n",
              "    </tr>\n",
              "  </thead>\n",
              "  <tbody>\n",
              "    <tr>\n",
              "      <th>0</th>\n",
              "      <td>TỔNG TRỊ GIÁ</td>\n",
              "      <td>30940</td>\n",
              "      <td>123640</td>\n",
              "      <td>10.598698</td>\n",
              "      <td>14.987298</td>\n",
              "      <td>2024-04-29</td>\n",
              "    </tr>\n",
              "    <tr>\n",
              "      <th>1</th>\n",
              "      <td>Khu vực kinh tế trong nước</td>\n",
              "      <td>8726.992959</td>\n",
              "      <td>33624.211162</td>\n",
              "      <td>11.841004</td>\n",
              "      <td>21.040081</td>\n",
              "      <td>2024-04-29</td>\n",
              "    </tr>\n",
              "    <tr>\n",
              "      <th>2</th>\n",
              "      <td>Khu vực có vốn đầu tư NN</td>\n",
              "      <td>22213.007041</td>\n",
              "      <td>90015.788838</td>\n",
              "      <td>10.118142</td>\n",
              "      <td>12.878806</td>\n",
              "      <td>2024-04-29</td>\n",
              "    </tr>\n",
              "    <tr>\n",
              "      <th>3</th>\n",
              "      <td>Dầu thô</td>\n",
              "      <td>313.007041</td>\n",
              "      <td>948.548599</td>\n",
              "      <td>165.764002</td>\n",
              "      <td>56.775617</td>\n",
              "      <td>2024-04-29</td>\n",
              "    </tr>\n",
              "    <tr>\n",
              "      <th>4</th>\n",
              "      <td>Hàng hoá khác</td>\n",
              "      <td>21900</td>\n",
              "      <td>89067.240239</td>\n",
              "      <td>9.204049</td>\n",
              "      <td>12.543212</td>\n",
              "      <td>2024-04-29</td>\n",
              "    </tr>\n",
              "    <tr>\n",
              "      <th>...</th>\n",
              "      <td>...</td>\n",
              "      <td>...</td>\n",
              "      <td>...</td>\n",
              "      <td>...</td>\n",
              "      <td>...</td>\n",
              "      <td>...</td>\n",
              "    </tr>\n",
              "    <tr>\n",
              "      <th>4390</th>\n",
              "      <td>Điện tử, máy tính và linh kiện</td>\n",
              "      <td>700</td>\n",
              "      <td>700</td>\n",
              "      <td>-20.404707</td>\n",
              "      <td>-20.404707</td>\n",
              "      <td>2014-01-29</td>\n",
              "    </tr>\n",
              "    <tr>\n",
              "      <th>4391</th>\n",
              "      <td>Điện thoại và linh kiện</td>\n",
              "      <td>1350</td>\n",
              "      <td>1350</td>\n",
              "      <td>-8.878895</td>\n",
              "      <td>-8.878895</td>\n",
              "      <td>2014-01-29</td>\n",
              "    </tr>\n",
              "    <tr>\n",
              "      <th>4392</th>\n",
              "      <td>Máy móc thiết bị, dụng cụ PT khác</td>\n",
              "      <td>480</td>\n",
              "      <td>480</td>\n",
              "      <td>-6.245577</td>\n",
              "      <td>-6.245577</td>\n",
              "      <td>2014-01-29</td>\n",
              "    </tr>\n",
              "    <tr>\n",
              "      <th>4393</th>\n",
              "      <td>Dây điện và cáp điện</td>\n",
              "      <td>50</td>\n",
              "      <td>50</td>\n",
              "      <td>5.076769</td>\n",
              "      <td>5.076769</td>\n",
              "      <td>2014-01-29</td>\n",
              "    </tr>\n",
              "    <tr>\n",
              "      <th>4394</th>\n",
              "      <td>Phương tiện vận tải và phụ tùng</td>\n",
              "      <td>380</td>\n",
              "      <td>380</td>\n",
              "      <td>-31.834742</td>\n",
              "      <td>-31.834742</td>\n",
              "      <td>2014-01-29</td>\n",
              "    </tr>\n",
              "  </tbody>\n",
              "</table>\n",
              "<p>4395 rows × 6 columns</p>\n",
              "</div>"
            ],
            "text/plain": [
              "                                  Ngành       Total-M     Total-YOY  \\\n",
              "0                          TỔNG TRỊ GIÁ         30940        123640   \n",
              "1            Khu vực kinh tế trong nước   8726.992959  33624.211162   \n",
              "2              Khu vực có vốn đầu tư NN  22213.007041  90015.788838   \n",
              "3                               Dầu thô    313.007041    948.548599   \n",
              "4                         Hàng hoá khác         21900  89067.240239   \n",
              "...                                 ...           ...           ...   \n",
              "4390     Điện tử, máy tính và linh kiện           700           700   \n",
              "4391            Điện thoại và linh kiện          1350          1350   \n",
              "4392  Máy móc thiết bị, dụng cụ PT khác           480           480   \n",
              "4393               Dây điện và cáp điện            50            50   \n",
              "4394    Phương tiện vận tải và phụ tùng           380           380   \n",
              "\n",
              "             YOY    YTD-YOY       Date  \n",
              "0      10.598698  14.987298 2024-04-29  \n",
              "1      11.841004  21.040081 2024-04-29  \n",
              "2      10.118142  12.878806 2024-04-29  \n",
              "3     165.764002  56.775617 2024-04-29  \n",
              "4       9.204049  12.543212 2024-04-29  \n",
              "...          ...        ...        ...  \n",
              "4390  -20.404707 -20.404707 2014-01-29  \n",
              "4391   -8.878895  -8.878895 2014-01-29  \n",
              "4392   -6.245577  -6.245577 2014-01-29  \n",
              "4393    5.076769   5.076769 2014-01-29  \n",
              "4394  -31.834742 -31.834742 2014-01-29  \n",
              "\n",
              "[4395 rows x 6 columns]"
            ]
          },
          "execution_count": 7,
          "metadata": {},
          "output_type": "execute_result"
        }
      ],
      "source": [
        "convert_nganh = {\n",
        "    \"TỔNG TRỊ GIÁ\": \"TỔNG TRỊ GIÁ\",\n",
        "    \"Khu vực kinh tế trong nước\": \"Khu vực kinh tế trong nước\",\n",
        "    \"Khu vực có vốn đầu tư NN\": \"Khu vực có vốn đầu tư NN\",\n",
        "    \"Dầu thô\": \"Dầu thô\",\n",
        "    \"Hàng hoá khác\": \"Hàng hoá khác\",\n",
        "    \"Thủy sản\": \"Thủy sản\",\n",
        "    \"Rau quả\": \"Rau quả\",\n",
        "    \"Hạt điều\": \"Hạt điều\",\n",
        "    \"Cà phê\": \"Cà phê\",\n",
        "    \"Chè\": \"Chè\",\n",
        "    \"Hạt tiêu\": \"Hạt tiêu\",\n",
        "    \"Gạo\": \"Gạo\",\n",
        "    \"Sắn và sản phẩm của sắn\": \"Sắn và sản phẩm của sắn\",\n",
        "    \"Clanhke và xi măng\": \"Clanhke và xi măng\",\n",
        "    \"Xăng dầu\": \"Xăng dầu\",\n",
        "    \"Hóa chất\": \"Hóa chất\",\n",
        "    \"Sản phẩm hóa chất\": \"Sản phẩm hóa chất\",\n",
        "    \"Chất dẻo nguyên liệu\": \"Chất dẻo nguyên liệu\",\n",
        "    \"Sản phẩm từ chất dẻo\": \"Sản phẩm từ chất dẻo\",\n",
        "    \"Cao su\": \"Cao su\",\n",
        "    \"Túi xách, ví, va li, mũ, ô dù\": \"Túi xách, ví, va li, mũ, ô dù\",\n",
        "    \"Gỗ và sản phẩm gỗ\": \"Gỗ và sản phẩm gỗ\",\n",
        "    \"Giấy và các sản phẩm từ giấy\": \"Giấy và các sản phẩm từ giấy\",\n",
        "    \"Xơ, sợi dệt các loại\": \"Xơ, sợi dệt các loại\",\n",
        "    \"Dệt, may\": \"Dệt, may\",\n",
        "    \"Giày dép\": \"Giày dép\",\n",
        "    \"Nguyên phụ liệu dệt, may, da, giày\": \"Nguyên phụ liệu dệt, may, da, giày\",\n",
        "    \"Sắt thép\": \"Sắt thép\",\n",
        "    \"Sản phẩm từ sắt thép\": \"Sản phẩm từ sắt thép\",\n",
        "    \"Kim loại thường khác và sản phẩm\": \"Kim loại thường khác và sản phẩm\",\n",
        "    \"Điện tử, máy tính và linh kiện\": \"Điện tử, máy tính và linh kiện\",\n",
        "    \"Điện thoại và linh kiện\": \"Điện thoại và linh kiện\",\n",
        "    \"Máy ảnh, máy quay phim và LK\": \"Máy ảnh, máy quay phim và LK\",\n",
        "    \"Máy móc thiết bị, dụng cụ PT khác\": \"Máy móc thiết bị, dụng cụ PT khác\",\n",
        "    \"Dây điện và cáp điện\": \"Dây điện và cáp điện\",\n",
        "    \"Phương tiện vận tải và phụ tùng\": \"Phương tiện vận tải và phụ tùng\",\n",
        "    \"SP nội thất từ chất liệu khác gỗ\": \"SP nội thất từ chất liệu khác gỗ\",\n",
        "    \"Đồ chơi, dụng cụ thể thao và bộ phận\": \"Đồ chơi, dụng cụ thể thao và bộ phận\",\n",
        "    \"Máy ảnh, máy quay phim và linh kiện\": \"Máy ảnh, máy quay phim và LK\",\n",
        "    \"Máy móc thiết bị, dụng cụ phụ tùng khác\": \"Máy móc thiết bị, dụng cụ PT khác\",\n",
        "    \"Kim loại thường khác và SP\": \"Kim loại thường khác và sản phẩm\",\n",
        "    \"Điện tử, máy tính và LK\": \"Điện tử, máy tính và linh kiện\",\n",
        "    \"Điện thoại và LK\": \"Điện thoại và linh kiện\",\n",
        "    \"Máy móc thiết bị, DC PT khác\": \"Máy móc thiết bị, dụng cụ PT khác\",\n",
        "    \"Than đá\": \"Than đá\",\n",
        "    \"Nguyên phụ liệu dệt may, da giầy\": \"Nguyên phụ liệu dệt, may, da, giày\",\n",
        "    \"Đá quý, KL quý và sản phẩm\": \"Đá quý, KL quý và sản phẩm\",\n",
        "    \"Sản phẩm nội thất từ chất liệu khác gỗ\": \"SP nội thất từ chất liệu khác gỗ\",\n",
        "    \"TỔNG TRỊ GIÁ (*)\": \"TỔNG TRỊ GIÁ\",\n",
        "    \"Sản phẩm mây tre, cói, thảm\": \"Sản phẩm mây tre, cói, thảm\",\n",
        "    \"Sản phẩm gốm sứ\": \"Sản phẩm gốm sứ\",\n",
        "    \"Máy móc thiết bị, dụng cụ PT\": \"Máy móc thiết bị, dụng cụ PT khác\",\n",
        "    \"Điện thoại các loại và linh kiện\": \"Điện thoại và linh kiện\",\n",
        "    \"Máy móc, thiết bị, dụng cụ PT khác\": \"Máy móc thiết bị, dụng cụ PT khác\",\n",
        "    \"Sản phẩm chất dẻo\": \"Sản phẩm từ chất dẻo\",\n",
        "    \"Máy móc, thiết bị, DC, PT khác\": \"Máy móc thiết bị, dụng cụ PT khác\",\n",
        "    \"Hàng dệt, may\": \"Dệt, may\",\n",
        "    \"Máy móc, thiết bị, dụng cụ PT\": \"Máy móc thiết bị, dụng cụ PT khác\",\n",
        "    \"TỔNG TRỊ GIÁ(*)\": \"TỔNG TRỊ GIÁ\",\n",
        "    \"Điện tử, máy tính\": \"Điện tử, máy tính và linh kiện\",\n",
        "}\n",
        "\n",
        "for pl in dfs_xk[\"Ngành\"].unique().tolist():\n",
        "    assert pl in convert_nganh.keys(), pl\n",
        "\n",
        "dfs_xk[\"Ngành\"] = dfs_xk[\"Ngành\"].map(convert_nganh)\n",
        "dfs_xk"
      ]
    },
    {
      "cell_type": "code",
      "execution_count": 8,
      "metadata": {},
      "outputs": [],
      "source": [
        "dfs_xk.to_csv('../csv/xk.csv')"
      ]
    },
    {
      "cell_type": "code",
      "execution_count": 9,
      "metadata": {},
      "outputs": [
        {
          "data": {
            "application/vnd.plotly.v1+json": {
              "config": {
                "plotlyServerURL": "https://plot.ly"
              },
              "data": [
                {
                  "fillpattern": {
                    "shape": ""
                  },
                  "hovertemplate": "Ngành=TỔNG TRỊ GIÁ<br>Date=%{x}<br>YOY=%{y}<extra></extra>",
                  "legendgroup": "TỔNG TRỊ GIÁ",
                  "line": {
                    "color": "#636efa"
                  },
                  "marker": {
                    "symbol": "circle"
                  },
                  "mode": "lines",
                  "name": "TỔNG TRỊ GIÁ",
                  "orientation": "v",
                  "showlegend": true,
                  "stackgroup": "1",
                  "type": "scatter",
                  "x": [
                    "2024-04-29T00:00:00",
                    "2024-03-29T00:00:00",
                    "2024-02-29T00:00:00",
                    "2024-01-29T00:00:00",
                    "2023-12-29T00:00:00",
                    "2023-11-29T00:00:00",
                    "2023-10-29T00:00:00",
                    "2023-09-29T00:00:00",
                    "2023-08-29T00:00:00",
                    "2023-07-29T00:00:00",
                    "2023-06-29T00:00:00",
                    "2023-05-29T00:00:00",
                    "2023-04-29T00:00:00",
                    "2023-03-29T00:00:00",
                    "2023-02-28T00:00:00",
                    "2023-01-29T00:00:00",
                    "2022-12-29T00:00:00",
                    "2022-11-29T00:00:00",
                    "2022-10-29T00:00:00",
                    "2022-09-29T00:00:00",
                    "2022-08-29T00:00:00",
                    "2022-07-29T00:00:00",
                    "2022-06-29T00:00:00",
                    "2022-05-29T00:00:00",
                    "2022-04-29T00:00:00",
                    "2022-03-29T00:00:00",
                    "2022-02-28T00:00:00",
                    "2022-01-29T00:00:00",
                    "2021-12-29T00:00:00",
                    "2021-11-29T00:00:00",
                    "2021-10-29T00:00:00",
                    "2021-09-29T00:00:00",
                    "2021-08-29T00:00:00",
                    "2021-07-29T00:00:00",
                    "2021-06-29T00:00:00",
                    "2021-05-29T00:00:00",
                    "2021-04-29T00:00:00",
                    "2021-03-29T00:00:00",
                    "2021-02-28T00:00:00",
                    "2021-01-29T00:00:00",
                    "2020-12-27T00:00:00",
                    "2020-11-29T00:00:00",
                    "2020-10-29T00:00:00",
                    "2020-09-29T00:00:00",
                    "2020-08-29T00:00:00",
                    "2020-07-29T00:00:00",
                    "2020-06-29T00:00:00",
                    "2020-05-29T00:00:00",
                    "2020-04-29T00:00:00",
                    "2020-03-27T00:00:00",
                    "2020-02-29T00:00:00",
                    "2020-01-29T00:00:00",
                    "2019-12-27T00:00:00",
                    "2019-11-29T00:00:00",
                    "2019-10-29T00:00:00",
                    "2019-09-28T00:00:00",
                    "2019-08-29T00:00:00",
                    "2019-07-29T00:00:00",
                    "2019-06-28T00:00:00",
                    "2019-05-27T00:00:00",
                    "2019-04-29T00:00:00",
                    "2019-03-29T00:00:00",
                    "2019-02-28T00:00:00",
                    "2019-01-29T00:00:00",
                    "2018-12-27T00:00:00",
                    "2018-11-29T00:00:00",
                    "2018-10-29T00:00:00",
                    "2018-09-28T00:00:00",
                    "2018-08-29T00:00:00",
                    "2018-07-27T00:00:00",
                    "2018-06-29T00:00:00",
                    "2018-05-29T00:00:00",
                    "2018-04-27T00:00:00",
                    "2018-03-29T00:00:00",
                    "2018-02-28T00:00:00",
                    "2018-01-29T00:00:00",
                    "2017-12-29T00:00:00",
                    "2017-11-29T00:00:00",
                    "2017-10-27T00:00:00",
                    "2017-09-29T00:00:00",
                    "2017-08-29T00:00:00",
                    "2017-07-28T00:00:00",
                    "2017-06-29T00:00:00",
                    "2017-05-29T00:00:00",
                    "2017-04-28T00:00:00",
                    "2017-03-29T00:00:00",
                    "2017-02-28T00:00:00",
                    "2017-01-27T00:00:00",
                    "2016-12-29T00:00:00",
                    "2016-11-29T00:00:00",
                    "2016-10-28T00:00:00",
                    "2016-09-29T00:00:00",
                    "2016-08-29T00:00:00",
                    "2016-07-29T00:00:00",
                    "2016-06-29T00:00:00",
                    "2016-05-30T00:00:00",
                    "2016-04-29T00:00:00",
                    "2016-03-29T00:00:00",
                    "2016-02-29T00:00:00",
                    "2016-01-29T00:00:00",
                    "2015-12-29T00:00:00",
                    "2015-11-30T00:00:00",
                    "2015-10-29T00:00:00",
                    "2015-09-29T00:00:00",
                    "2015-08-28T00:00:00",
                    "2015-07-29T00:00:00",
                    "2015-06-29T00:00:00",
                    "2015-05-29T00:00:00",
                    "2015-04-29T00:00:00",
                    "2015-03-29T00:00:00",
                    "2015-02-28T00:00:00",
                    "2015-01-29T00:00:00"
                  ],
                  "xaxis": "x",
                  "y": [
                    10.598697590437794,
                    14.1910122923897,
                    -4.985801751581903,
                    41.980657060694284,
                    13.106899386124084,
                    6.731773968209836,
                    5.90066922802049,
                    4.568723977758424,
                    -7.601516978461547,
                    -3.4691283202866146,
                    -11.409183336119469,
                    -5.859745253072532,
                    -17.146562660768836,
                    -14.783924358084917,
                    10.966547516617837,
                    -21.27643235066911,
                    -13.96004279434041,
                    -8.401877050269519,
                    4.544201832789867,
                    10.347532330730132,
                    22.135527161265742,
                    8.87119450823188,
                    19.97498876712484,
                    16.382608611622416,
                    24.981839818872942,
                    14.844184617428198,
                    13.217296938692982,
                    1.6068796782690526,
                    24.822271007675894,
                    18.533185926827045,
                    0.3298376709709032,
                    -0.6167808711261245,
                    -5.413934809699299,
                    8.395976298434988,
                    17.279971211971443,
                    35.62774036097181,
                    44.900000000000006,
                    19.150098418527065,
                    -4.7038750442781065,
                    50.53086400353476,
                    17.599999999999994,
                    8.799999999999997,
                    9.914994234042581,
                    18.020903346628003,
                    2.4919519626707825,
                    0.30562039232842153,
                    -2.0366561049242904,
                    -15.48130966563052,
                    -3.4874093960534935,
                    -12.08742855331198,
                    34.04046556781665,
                    -14.33977427254544,
                    10.149097926070198,
                    3.7745793768129943,
                    -0.7915939038058184,
                    8.989384008133428,
                    4.505673785997402,
                    9.267736979999228,
                    8.530230916973139,
                    7.481007294529448,
                    7.539168833127533,
                    5.392235296538715,
                    1.5554926563342093,
                    -1.341478231507807,
                    6.476577784379998,
                    7.8077157214511175,
                    2.281270566748944,
                    6.213026609130651,
                    null,
                    null,
                    null,
                    null,
                    null,
                    null,
                    null,
                    33.07399847296901,
                    null,
                    null,
                    null,
                    null,
                    null,
                    null,
                    null,
                    null,
                    null,
                    null,
                    null,
                    7.599999999999994,
                    null,
                    null,
                    null,
                    null,
                    null,
                    null,
                    null,
                    null,
                    null,
                    null,
                    null,
                    2.200000000000003,
                    null,
                    null,
                    null,
                    null,
                    null,
                    null,
                    null,
                    null,
                    null,
                    null,
                    null,
                    9.700000000000003
                  ],
                  "yaxis": "y"
                },
                {
                  "fillpattern": {
                    "shape": ""
                  },
                  "hovertemplate": "Ngành=Khu vực kinh tế trong nước<br>Date=%{x}<br>YOY=%{y}<extra></extra>",
                  "legendgroup": "Khu vực kinh tế trong nước",
                  "line": {
                    "color": "#EF553B"
                  },
                  "marker": {
                    "symbol": "circle"
                  },
                  "mode": "lines",
                  "name": "Khu vực kinh tế trong nước",
                  "orientation": "v",
                  "showlegend": true,
                  "stackgroup": "1",
                  "type": "scatter",
                  "x": [
                    "2024-04-29T00:00:00",
                    "2024-03-29T00:00:00",
                    "2024-02-29T00:00:00",
                    "2024-01-29T00:00:00",
                    "2023-12-29T00:00:00",
                    "2023-11-29T00:00:00",
                    "2023-10-29T00:00:00",
                    "2023-09-29T00:00:00",
                    "2023-08-29T00:00:00",
                    "2023-07-29T00:00:00",
                    "2023-06-29T00:00:00",
                    "2023-05-29T00:00:00",
                    "2023-04-29T00:00:00",
                    "2023-03-29T00:00:00",
                    "2023-02-28T00:00:00",
                    "2023-01-29T00:00:00",
                    "2022-12-29T00:00:00",
                    "2022-11-29T00:00:00",
                    "2022-10-29T00:00:00",
                    "2022-09-29T00:00:00",
                    "2022-08-29T00:00:00",
                    "2022-07-29T00:00:00",
                    "2022-06-29T00:00:00",
                    "2022-05-29T00:00:00",
                    "2022-04-29T00:00:00",
                    "2022-03-29T00:00:00",
                    "2022-02-28T00:00:00",
                    "2022-01-29T00:00:00",
                    "2021-12-29T00:00:00",
                    "2021-11-29T00:00:00",
                    "2021-10-29T00:00:00",
                    "2021-09-29T00:00:00",
                    "2021-08-29T00:00:00",
                    "2021-07-29T00:00:00",
                    "2021-06-29T00:00:00",
                    "2021-05-29T00:00:00",
                    "2021-04-29T00:00:00",
                    "2021-03-29T00:00:00",
                    "2021-02-28T00:00:00",
                    "2021-01-29T00:00:00",
                    "2020-12-27T00:00:00",
                    "2020-11-29T00:00:00",
                    "2020-09-29T00:00:00",
                    "2020-08-29T00:00:00",
                    "2020-07-29T00:00:00",
                    "2020-06-29T00:00:00",
                    "2020-05-29T00:00:00",
                    "2020-04-29T00:00:00",
                    "2020-03-27T00:00:00",
                    "2020-02-29T00:00:00",
                    "2020-01-29T00:00:00",
                    "2019-12-27T00:00:00",
                    "2019-11-29T00:00:00",
                    "2019-10-29T00:00:00",
                    "2019-09-28T00:00:00",
                    "2019-08-29T00:00:00",
                    "2019-07-29T00:00:00",
                    "2019-06-28T00:00:00",
                    "2019-05-27T00:00:00",
                    "2019-04-29T00:00:00",
                    "2019-03-29T00:00:00",
                    "2019-02-28T00:00:00",
                    "2019-01-29T00:00:00",
                    "2018-12-27T00:00:00",
                    "2018-11-29T00:00:00",
                    "2018-10-29T00:00:00",
                    "2018-09-28T00:00:00",
                    "2018-08-29T00:00:00",
                    "2018-07-27T00:00:00",
                    "2018-06-29T00:00:00",
                    "2018-05-29T00:00:00",
                    "2018-04-27T00:00:00",
                    "2018-03-29T00:00:00",
                    "2018-02-28T00:00:00",
                    "2018-01-29T00:00:00",
                    "2017-12-29T00:00:00",
                    "2017-11-29T00:00:00",
                    "2017-10-27T00:00:00",
                    "2017-09-29T00:00:00",
                    "2017-08-29T00:00:00",
                    "2017-07-28T00:00:00",
                    "2017-06-29T00:00:00",
                    "2017-05-29T00:00:00",
                    "2017-04-28T00:00:00",
                    "2017-03-29T00:00:00",
                    "2017-02-28T00:00:00",
                    "2017-01-27T00:00:00",
                    "2016-12-29T00:00:00",
                    "2016-11-29T00:00:00",
                    "2016-10-28T00:00:00",
                    "2016-09-29T00:00:00",
                    "2016-08-29T00:00:00",
                    "2016-07-29T00:00:00",
                    "2016-06-29T00:00:00",
                    "2016-05-30T00:00:00",
                    "2016-04-29T00:00:00",
                    "2016-03-29T00:00:00",
                    "2016-02-29T00:00:00",
                    "2016-01-29T00:00:00",
                    "2015-12-29T00:00:00",
                    "2015-11-30T00:00:00",
                    "2015-10-29T00:00:00",
                    "2015-09-29T00:00:00",
                    "2015-08-28T00:00:00",
                    "2015-07-29T00:00:00",
                    "2015-06-29T00:00:00",
                    "2015-05-29T00:00:00",
                    "2015-04-29T00:00:00",
                    "2015-03-29T00:00:00",
                    "2015-02-28T00:00:00",
                    "2015-01-29T00:00:00"
                  ],
                  "xaxis": "x",
                  "y": [
                    11.841004258311514,
                    21.246904772759706,
                    0.8787925149704279,
                    62.64238444436165,
                    18.474800848930613,
                    13.507624508200578,
                    15.11918829117704,
                    17.887204205795754,
                    -2.4915051052571187,
                    -4.156127061829679,
                    -8.10330572027459,
                    -5.9259896752135575,
                    -19.30017864884711,
                    -15.993091225490389,
                    5.671233524886944,
                    -27.12181596863043,
                    -22.418094964628978,
                    -14.20895808236233,
                    -4.909429008072536,
                    7.3903524530332305,
                    26.53799331644325,
                    3.670616690391043,
                    14.043679333046953,
                    14.522198241298241,
                    20.510642263566154,
                    14.69927940230788,
                    20.32690249815259,
                    20.10678194193079,
                    29.57253634223099,
                    30.042846267364922,
                    -1.8892076041703234,
                    -7.303035142596784,
                    -13.875275000590534,
                    2.177506847696293,
                    14.208542350899279,
                    18.771927700534505,
                    23.799999999999997,
                    5.279544846165635,
                    -15.1409000805467,
                    37.28753153638647,
                    -0.09999999999999432,
                    8.20537083744388,
                    46.310534098082,
                    18.317064373312647,
                    10.637634378510441,
                    7.286935784337146,
                    0.5250425719283953,
                    -1.393506090309856,
                    -3.659854117236776,
                    39.74544801015156,
                    -11.370508805459195,
                    13.287564159698078,
                    25.829660362420995,
                    11.698421973059055,
                    24.44293986177432,
                    13.9768329185668,
                    16.39280909821734,
                    10.170046966042136,
                    10.729706332306847,
                    9.758227551658024,
                    7.664788330467061,
                    -3.073574000655242,
                    7.7557201570579934,
                    3.9982042920980945,
                    10.754015511313114,
                    9.30871258186366,
                    6.512241395979771,
                    null,
                    null,
                    null,
                    null,
                    null,
                    null,
                    null,
                    31.58658596134967,
                    null,
                    null,
                    null,
                    null,
                    null,
                    null,
                    null,
                    null,
                    null,
                    null,
                    null,
                    2.799999999999997,
                    null,
                    null,
                    null,
                    null,
                    null,
                    null,
                    null,
                    null,
                    null,
                    null,
                    null,
                    0,
                    null,
                    null,
                    null,
                    null,
                    null,
                    null,
                    null,
                    null,
                    null,
                    null,
                    null,
                    12.900000000000006
                  ],
                  "yaxis": "y"
                },
                {
                  "fillpattern": {
                    "shape": ""
                  },
                  "hovertemplate": "Ngành=Khu vực có vốn đầu tư NN<br>Date=%{x}<br>YOY=%{y}<extra></extra>",
                  "legendgroup": "Khu vực có vốn đầu tư NN",
                  "line": {
                    "color": "#00cc96"
                  },
                  "marker": {
                    "symbol": "circle"
                  },
                  "mode": "lines",
                  "name": "Khu vực có vốn đầu tư NN",
                  "orientation": "v",
                  "showlegend": true,
                  "stackgroup": "1",
                  "type": "scatter",
                  "x": [
                    "2024-04-29T00:00:00",
                    "2024-03-29T00:00:00",
                    "2024-02-29T00:00:00",
                    "2024-01-29T00:00:00",
                    "2023-12-29T00:00:00",
                    "2023-11-29T00:00:00",
                    "2023-10-29T00:00:00",
                    "2023-09-29T00:00:00",
                    "2023-08-29T00:00:00",
                    "2023-07-29T00:00:00",
                    "2023-06-29T00:00:00",
                    "2023-05-29T00:00:00",
                    "2023-04-29T00:00:00",
                    "2023-03-29T00:00:00",
                    "2023-02-28T00:00:00",
                    "2023-01-29T00:00:00",
                    "2022-12-29T00:00:00",
                    "2022-11-29T00:00:00",
                    "2022-10-29T00:00:00",
                    "2022-09-29T00:00:00",
                    "2022-08-29T00:00:00",
                    "2022-07-29T00:00:00",
                    "2022-06-29T00:00:00",
                    "2022-05-29T00:00:00",
                    "2022-04-29T00:00:00",
                    "2022-03-29T00:00:00",
                    "2022-02-28T00:00:00",
                    "2022-01-29T00:00:00",
                    "2021-12-29T00:00:00",
                    "2021-11-29T00:00:00",
                    "2021-10-29T00:00:00",
                    "2021-09-29T00:00:00",
                    "2021-08-29T00:00:00",
                    "2021-07-29T00:00:00",
                    "2021-06-29T00:00:00",
                    "2021-05-29T00:00:00",
                    "2021-04-29T00:00:00",
                    "2021-03-29T00:00:00",
                    "2021-02-28T00:00:00",
                    "2021-01-29T00:00:00",
                    "2020-12-27T00:00:00",
                    "2020-11-29T00:00:00",
                    "2020-09-29T00:00:00",
                    "2020-08-29T00:00:00",
                    "2020-07-29T00:00:00",
                    "2020-06-29T00:00:00",
                    "2020-05-29T00:00:00",
                    "2020-04-29T00:00:00",
                    "2020-03-27T00:00:00",
                    "2020-02-29T00:00:00",
                    "2020-01-29T00:00:00",
                    "2019-12-27T00:00:00",
                    "2019-11-29T00:00:00",
                    "2019-10-29T00:00:00",
                    "2019-09-28T00:00:00",
                    "2019-08-29T00:00:00",
                    "2019-07-29T00:00:00",
                    "2019-06-28T00:00:00",
                    "2019-05-27T00:00:00",
                    "2019-04-29T00:00:00",
                    "2019-03-29T00:00:00",
                    "2019-02-28T00:00:00",
                    "2019-01-29T00:00:00",
                    "2018-12-27T00:00:00",
                    "2018-11-29T00:00:00",
                    "2018-10-29T00:00:00",
                    "2018-09-28T00:00:00",
                    "2018-08-29T00:00:00",
                    "2018-07-27T00:00:00",
                    "2018-06-29T00:00:00",
                    "2018-05-29T00:00:00",
                    "2018-04-27T00:00:00",
                    "2018-03-29T00:00:00",
                    "2018-02-28T00:00:00",
                    "2018-01-29T00:00:00",
                    "2017-12-29T00:00:00",
                    "2017-11-29T00:00:00",
                    "2017-10-27T00:00:00",
                    "2017-09-29T00:00:00",
                    "2017-08-29T00:00:00",
                    "2017-07-28T00:00:00",
                    "2017-06-29T00:00:00",
                    "2017-05-29T00:00:00",
                    "2017-04-28T00:00:00",
                    "2017-03-29T00:00:00",
                    "2017-02-28T00:00:00",
                    "2017-01-27T00:00:00",
                    "2016-12-29T00:00:00",
                    "2016-11-29T00:00:00",
                    "2016-10-28T00:00:00",
                    "2016-09-29T00:00:00",
                    "2016-08-29T00:00:00",
                    "2016-07-29T00:00:00",
                    "2016-06-29T00:00:00",
                    "2016-05-30T00:00:00",
                    "2016-04-29T00:00:00",
                    "2016-03-29T00:00:00",
                    "2016-02-29T00:00:00",
                    "2016-01-29T00:00:00",
                    "2015-12-29T00:00:00",
                    "2015-11-30T00:00:00",
                    "2015-10-29T00:00:00",
                    "2015-09-29T00:00:00",
                    "2015-08-28T00:00:00",
                    "2015-07-29T00:00:00",
                    "2015-06-29T00:00:00",
                    "2015-05-29T00:00:00",
                    "2015-04-29T00:00:00",
                    "2015-03-29T00:00:00",
                    "2015-02-28T00:00:00",
                    "2015-01-29T00:00:00"
                  ],
                  "xaxis": "x",
                  "y": [
                    10.118141701867359,
                    11.657895991350586,
                    -6.951858771154335,
                    35.64321011939717,
                    11.083158526385176,
                    4.391335427193098,
                    2.9614566810287357,
                    0.49431241169502016,
                    -9.275862000700783,
                    -3.2237310888183544,
                    -12.590518563549296,
                    -5.835470174417296,
                    -16.368756711996767,
                    -14.378083834900153,
                    12.699442782611726,
                    -19.03204201763195,
                    -10.586432609672542,
                    -6.252380207229578,
                    8.118663729700515,
                    11.3855599251593,
                    20.578321538069332,
                    10.841844534241616,
                    22.33264770052989,
                    17.087968741819793,
                    26.592467290270648,
                    14.89379071172496,
                    11.074223116005783,
                    -4.198075898413279,
                    23.177239586828932,
                    14.72196180634377,
                    1.10128958245528,
                    1.8903152943048553,
                    -1.9450512106720623,
                    10.989177241161173,
                    18.558062152461233,
                    43.04276559046582,
                    54.19999999999999,
                    24.247746363465225,
                    -1.0185798813815268,
                    56.19171167103423,
                    25.799999999999997,
                    9,
                    5.7906999871050004,
                    -4.635905269622569,
                    -4.8922704660771785,
                    -6.4448880673508455,
                    -22.324749012143613,
                    -4.45163252361877,
                    -15.381283475095259,
                    32.01166705377878,
                    -15.744354755947839,
                    8.6277846219363,
                    -4.454157504097097,
                    -5.4770301463067455,
                    3.5036202029438073,
                    0.9206510945639224,
                    6.350075232537961,
                    7.81531851876845,
                    6.069156530523372,
                    6.5821545732025015,
                    4.542058184572866,
                    3.216709887231957,
                    -5.128001578668403,
                    7.494092888306341,
                    6.743091505888373,
                    -0.1006627568483367,
                    6.1066978787545025,
                    null,
                    null,
                    null,
                    null,
                    null,
                    null,
                    null,
                    33.69999999999999,
                    null,
                    null,
                    null,
                    null,
                    null,
                    null,
                    null,
                    null,
                    null,
                    null,
                    null,
                    9.700000000000003,
                    null,
                    null,
                    null,
                    null,
                    null,
                    null,
                    null,
                    null,
                    null,
                    null,
                    null,
                    3.200000000000003,
                    null,
                    null,
                    null,
                    null,
                    null,
                    null,
                    null,
                    null,
                    null,
                    null,
                    null,
                    8.200000000000003
                  ],
                  "yaxis": "y"
                }
              ],
              "layout": {
                "legend": {
                  "title": {
                    "text": "Ngành"
                  },
                  "tracegroupgap": 0
                },
                "margin": {
                  "t": 60
                },
                "template": {
                  "data": {
                    "bar": [
                      {
                        "error_x": {
                          "color": "#2a3f5f"
                        },
                        "error_y": {
                          "color": "#2a3f5f"
                        },
                        "marker": {
                          "line": {
                            "color": "#E5ECF6",
                            "width": 0.5
                          },
                          "pattern": {
                            "fillmode": "overlay",
                            "size": 10,
                            "solidity": 0.2
                          }
                        },
                        "type": "bar"
                      }
                    ],
                    "barpolar": [
                      {
                        "marker": {
                          "line": {
                            "color": "#E5ECF6",
                            "width": 0.5
                          },
                          "pattern": {
                            "fillmode": "overlay",
                            "size": 10,
                            "solidity": 0.2
                          }
                        },
                        "type": "barpolar"
                      }
                    ],
                    "carpet": [
                      {
                        "aaxis": {
                          "endlinecolor": "#2a3f5f",
                          "gridcolor": "white",
                          "linecolor": "white",
                          "minorgridcolor": "white",
                          "startlinecolor": "#2a3f5f"
                        },
                        "baxis": {
                          "endlinecolor": "#2a3f5f",
                          "gridcolor": "white",
                          "linecolor": "white",
                          "minorgridcolor": "white",
                          "startlinecolor": "#2a3f5f"
                        },
                        "type": "carpet"
                      }
                    ],
                    "choropleth": [
                      {
                        "colorbar": {
                          "outlinewidth": 0,
                          "ticks": ""
                        },
                        "type": "choropleth"
                      }
                    ],
                    "contour": [
                      {
                        "colorbar": {
                          "outlinewidth": 0,
                          "ticks": ""
                        },
                        "colorscale": [
                          [
                            0,
                            "#0d0887"
                          ],
                          [
                            0.1111111111111111,
                            "#46039f"
                          ],
                          [
                            0.2222222222222222,
                            "#7201a8"
                          ],
                          [
                            0.3333333333333333,
                            "#9c179e"
                          ],
                          [
                            0.4444444444444444,
                            "#bd3786"
                          ],
                          [
                            0.5555555555555556,
                            "#d8576b"
                          ],
                          [
                            0.6666666666666666,
                            "#ed7953"
                          ],
                          [
                            0.7777777777777778,
                            "#fb9f3a"
                          ],
                          [
                            0.8888888888888888,
                            "#fdca26"
                          ],
                          [
                            1,
                            "#f0f921"
                          ]
                        ],
                        "type": "contour"
                      }
                    ],
                    "contourcarpet": [
                      {
                        "colorbar": {
                          "outlinewidth": 0,
                          "ticks": ""
                        },
                        "type": "contourcarpet"
                      }
                    ],
                    "heatmap": [
                      {
                        "colorbar": {
                          "outlinewidth": 0,
                          "ticks": ""
                        },
                        "colorscale": [
                          [
                            0,
                            "#0d0887"
                          ],
                          [
                            0.1111111111111111,
                            "#46039f"
                          ],
                          [
                            0.2222222222222222,
                            "#7201a8"
                          ],
                          [
                            0.3333333333333333,
                            "#9c179e"
                          ],
                          [
                            0.4444444444444444,
                            "#bd3786"
                          ],
                          [
                            0.5555555555555556,
                            "#d8576b"
                          ],
                          [
                            0.6666666666666666,
                            "#ed7953"
                          ],
                          [
                            0.7777777777777778,
                            "#fb9f3a"
                          ],
                          [
                            0.8888888888888888,
                            "#fdca26"
                          ],
                          [
                            1,
                            "#f0f921"
                          ]
                        ],
                        "type": "heatmap"
                      }
                    ],
                    "heatmapgl": [
                      {
                        "colorbar": {
                          "outlinewidth": 0,
                          "ticks": ""
                        },
                        "colorscale": [
                          [
                            0,
                            "#0d0887"
                          ],
                          [
                            0.1111111111111111,
                            "#46039f"
                          ],
                          [
                            0.2222222222222222,
                            "#7201a8"
                          ],
                          [
                            0.3333333333333333,
                            "#9c179e"
                          ],
                          [
                            0.4444444444444444,
                            "#bd3786"
                          ],
                          [
                            0.5555555555555556,
                            "#d8576b"
                          ],
                          [
                            0.6666666666666666,
                            "#ed7953"
                          ],
                          [
                            0.7777777777777778,
                            "#fb9f3a"
                          ],
                          [
                            0.8888888888888888,
                            "#fdca26"
                          ],
                          [
                            1,
                            "#f0f921"
                          ]
                        ],
                        "type": "heatmapgl"
                      }
                    ],
                    "histogram": [
                      {
                        "marker": {
                          "pattern": {
                            "fillmode": "overlay",
                            "size": 10,
                            "solidity": 0.2
                          }
                        },
                        "type": "histogram"
                      }
                    ],
                    "histogram2d": [
                      {
                        "colorbar": {
                          "outlinewidth": 0,
                          "ticks": ""
                        },
                        "colorscale": [
                          [
                            0,
                            "#0d0887"
                          ],
                          [
                            0.1111111111111111,
                            "#46039f"
                          ],
                          [
                            0.2222222222222222,
                            "#7201a8"
                          ],
                          [
                            0.3333333333333333,
                            "#9c179e"
                          ],
                          [
                            0.4444444444444444,
                            "#bd3786"
                          ],
                          [
                            0.5555555555555556,
                            "#d8576b"
                          ],
                          [
                            0.6666666666666666,
                            "#ed7953"
                          ],
                          [
                            0.7777777777777778,
                            "#fb9f3a"
                          ],
                          [
                            0.8888888888888888,
                            "#fdca26"
                          ],
                          [
                            1,
                            "#f0f921"
                          ]
                        ],
                        "type": "histogram2d"
                      }
                    ],
                    "histogram2dcontour": [
                      {
                        "colorbar": {
                          "outlinewidth": 0,
                          "ticks": ""
                        },
                        "colorscale": [
                          [
                            0,
                            "#0d0887"
                          ],
                          [
                            0.1111111111111111,
                            "#46039f"
                          ],
                          [
                            0.2222222222222222,
                            "#7201a8"
                          ],
                          [
                            0.3333333333333333,
                            "#9c179e"
                          ],
                          [
                            0.4444444444444444,
                            "#bd3786"
                          ],
                          [
                            0.5555555555555556,
                            "#d8576b"
                          ],
                          [
                            0.6666666666666666,
                            "#ed7953"
                          ],
                          [
                            0.7777777777777778,
                            "#fb9f3a"
                          ],
                          [
                            0.8888888888888888,
                            "#fdca26"
                          ],
                          [
                            1,
                            "#f0f921"
                          ]
                        ],
                        "type": "histogram2dcontour"
                      }
                    ],
                    "mesh3d": [
                      {
                        "colorbar": {
                          "outlinewidth": 0,
                          "ticks": ""
                        },
                        "type": "mesh3d"
                      }
                    ],
                    "parcoords": [
                      {
                        "line": {
                          "colorbar": {
                            "outlinewidth": 0,
                            "ticks": ""
                          }
                        },
                        "type": "parcoords"
                      }
                    ],
                    "pie": [
                      {
                        "automargin": true,
                        "type": "pie"
                      }
                    ],
                    "scatter": [
                      {
                        "fillpattern": {
                          "fillmode": "overlay",
                          "size": 10,
                          "solidity": 0.2
                        },
                        "type": "scatter"
                      }
                    ],
                    "scatter3d": [
                      {
                        "line": {
                          "colorbar": {
                            "outlinewidth": 0,
                            "ticks": ""
                          }
                        },
                        "marker": {
                          "colorbar": {
                            "outlinewidth": 0,
                            "ticks": ""
                          }
                        },
                        "type": "scatter3d"
                      }
                    ],
                    "scattercarpet": [
                      {
                        "marker": {
                          "colorbar": {
                            "outlinewidth": 0,
                            "ticks": ""
                          }
                        },
                        "type": "scattercarpet"
                      }
                    ],
                    "scattergeo": [
                      {
                        "marker": {
                          "colorbar": {
                            "outlinewidth": 0,
                            "ticks": ""
                          }
                        },
                        "type": "scattergeo"
                      }
                    ],
                    "scattergl": [
                      {
                        "marker": {
                          "colorbar": {
                            "outlinewidth": 0,
                            "ticks": ""
                          }
                        },
                        "type": "scattergl"
                      }
                    ],
                    "scattermapbox": [
                      {
                        "marker": {
                          "colorbar": {
                            "outlinewidth": 0,
                            "ticks": ""
                          }
                        },
                        "type": "scattermapbox"
                      }
                    ],
                    "scatterpolar": [
                      {
                        "marker": {
                          "colorbar": {
                            "outlinewidth": 0,
                            "ticks": ""
                          }
                        },
                        "type": "scatterpolar"
                      }
                    ],
                    "scatterpolargl": [
                      {
                        "marker": {
                          "colorbar": {
                            "outlinewidth": 0,
                            "ticks": ""
                          }
                        },
                        "type": "scatterpolargl"
                      }
                    ],
                    "scatterternary": [
                      {
                        "marker": {
                          "colorbar": {
                            "outlinewidth": 0,
                            "ticks": ""
                          }
                        },
                        "type": "scatterternary"
                      }
                    ],
                    "surface": [
                      {
                        "colorbar": {
                          "outlinewidth": 0,
                          "ticks": ""
                        },
                        "colorscale": [
                          [
                            0,
                            "#0d0887"
                          ],
                          [
                            0.1111111111111111,
                            "#46039f"
                          ],
                          [
                            0.2222222222222222,
                            "#7201a8"
                          ],
                          [
                            0.3333333333333333,
                            "#9c179e"
                          ],
                          [
                            0.4444444444444444,
                            "#bd3786"
                          ],
                          [
                            0.5555555555555556,
                            "#d8576b"
                          ],
                          [
                            0.6666666666666666,
                            "#ed7953"
                          ],
                          [
                            0.7777777777777778,
                            "#fb9f3a"
                          ],
                          [
                            0.8888888888888888,
                            "#fdca26"
                          ],
                          [
                            1,
                            "#f0f921"
                          ]
                        ],
                        "type": "surface"
                      }
                    ],
                    "table": [
                      {
                        "cells": {
                          "fill": {
                            "color": "#EBF0F8"
                          },
                          "line": {
                            "color": "white"
                          }
                        },
                        "header": {
                          "fill": {
                            "color": "#C8D4E3"
                          },
                          "line": {
                            "color": "white"
                          }
                        },
                        "type": "table"
                      }
                    ]
                  },
                  "layout": {
                    "annotationdefaults": {
                      "arrowcolor": "#2a3f5f",
                      "arrowhead": 0,
                      "arrowwidth": 1
                    },
                    "autotypenumbers": "strict",
                    "coloraxis": {
                      "colorbar": {
                        "outlinewidth": 0,
                        "ticks": ""
                      }
                    },
                    "colorscale": {
                      "diverging": [
                        [
                          0,
                          "#8e0152"
                        ],
                        [
                          0.1,
                          "#c51b7d"
                        ],
                        [
                          0.2,
                          "#de77ae"
                        ],
                        [
                          0.3,
                          "#f1b6da"
                        ],
                        [
                          0.4,
                          "#fde0ef"
                        ],
                        [
                          0.5,
                          "#f7f7f7"
                        ],
                        [
                          0.6,
                          "#e6f5d0"
                        ],
                        [
                          0.7,
                          "#b8e186"
                        ],
                        [
                          0.8,
                          "#7fbc41"
                        ],
                        [
                          0.9,
                          "#4d9221"
                        ],
                        [
                          1,
                          "#276419"
                        ]
                      ],
                      "sequential": [
                        [
                          0,
                          "#0d0887"
                        ],
                        [
                          0.1111111111111111,
                          "#46039f"
                        ],
                        [
                          0.2222222222222222,
                          "#7201a8"
                        ],
                        [
                          0.3333333333333333,
                          "#9c179e"
                        ],
                        [
                          0.4444444444444444,
                          "#bd3786"
                        ],
                        [
                          0.5555555555555556,
                          "#d8576b"
                        ],
                        [
                          0.6666666666666666,
                          "#ed7953"
                        ],
                        [
                          0.7777777777777778,
                          "#fb9f3a"
                        ],
                        [
                          0.8888888888888888,
                          "#fdca26"
                        ],
                        [
                          1,
                          "#f0f921"
                        ]
                      ],
                      "sequentialminus": [
                        [
                          0,
                          "#0d0887"
                        ],
                        [
                          0.1111111111111111,
                          "#46039f"
                        ],
                        [
                          0.2222222222222222,
                          "#7201a8"
                        ],
                        [
                          0.3333333333333333,
                          "#9c179e"
                        ],
                        [
                          0.4444444444444444,
                          "#bd3786"
                        ],
                        [
                          0.5555555555555556,
                          "#d8576b"
                        ],
                        [
                          0.6666666666666666,
                          "#ed7953"
                        ],
                        [
                          0.7777777777777778,
                          "#fb9f3a"
                        ],
                        [
                          0.8888888888888888,
                          "#fdca26"
                        ],
                        [
                          1,
                          "#f0f921"
                        ]
                      ]
                    },
                    "colorway": [
                      "#636efa",
                      "#EF553B",
                      "#00cc96",
                      "#ab63fa",
                      "#FFA15A",
                      "#19d3f3",
                      "#FF6692",
                      "#B6E880",
                      "#FF97FF",
                      "#FECB52"
                    ],
                    "font": {
                      "color": "#2a3f5f"
                    },
                    "geo": {
                      "bgcolor": "white",
                      "lakecolor": "white",
                      "landcolor": "#E5ECF6",
                      "showlakes": true,
                      "showland": true,
                      "subunitcolor": "white"
                    },
                    "hoverlabel": {
                      "align": "left"
                    },
                    "hovermode": "closest",
                    "mapbox": {
                      "style": "light"
                    },
                    "paper_bgcolor": "white",
                    "plot_bgcolor": "#E5ECF6",
                    "polar": {
                      "angularaxis": {
                        "gridcolor": "white",
                        "linecolor": "white",
                        "ticks": ""
                      },
                      "bgcolor": "#E5ECF6",
                      "radialaxis": {
                        "gridcolor": "white",
                        "linecolor": "white",
                        "ticks": ""
                      }
                    },
                    "scene": {
                      "xaxis": {
                        "backgroundcolor": "#E5ECF6",
                        "gridcolor": "white",
                        "gridwidth": 2,
                        "linecolor": "white",
                        "showbackground": true,
                        "ticks": "",
                        "zerolinecolor": "white"
                      },
                      "yaxis": {
                        "backgroundcolor": "#E5ECF6",
                        "gridcolor": "white",
                        "gridwidth": 2,
                        "linecolor": "white",
                        "showbackground": true,
                        "ticks": "",
                        "zerolinecolor": "white"
                      },
                      "zaxis": {
                        "backgroundcolor": "#E5ECF6",
                        "gridcolor": "white",
                        "gridwidth": 2,
                        "linecolor": "white",
                        "showbackground": true,
                        "ticks": "",
                        "zerolinecolor": "white"
                      }
                    },
                    "shapedefaults": {
                      "line": {
                        "color": "#2a3f5f"
                      }
                    },
                    "ternary": {
                      "aaxis": {
                        "gridcolor": "white",
                        "linecolor": "white",
                        "ticks": ""
                      },
                      "baxis": {
                        "gridcolor": "white",
                        "linecolor": "white",
                        "ticks": ""
                      },
                      "bgcolor": "#E5ECF6",
                      "caxis": {
                        "gridcolor": "white",
                        "linecolor": "white",
                        "ticks": ""
                      }
                    },
                    "title": {
                      "x": 0.05
                    },
                    "xaxis": {
                      "automargin": true,
                      "gridcolor": "white",
                      "linecolor": "white",
                      "ticks": "",
                      "title": {
                        "standoff": 15
                      },
                      "zerolinecolor": "white",
                      "zerolinewidth": 2
                    },
                    "yaxis": {
                      "automargin": true,
                      "gridcolor": "white",
                      "linecolor": "white",
                      "ticks": "",
                      "title": {
                        "standoff": 15
                      },
                      "zerolinecolor": "white",
                      "zerolinewidth": 2
                    }
                  }
                },
                "xaxis": {
                  "anchor": "y",
                  "domain": [
                    0,
                    1
                  ],
                  "rangeselector": {
                    "buttons": [
                      {
                        "count": 1,
                        "label": "YTD",
                        "step": "year",
                        "stepmode": "todate"
                      },
                      {
                        "count": 1,
                        "label": "1y",
                        "step": "year",
                        "stepmode": "backward"
                      },
                      {
                        "count": 3,
                        "label": "3y",
                        "step": "year",
                        "stepmode": "backward"
                      },
                      {
                        "count": 5,
                        "label": "5y",
                        "step": "year",
                        "stepmode": "backward"
                      },
                      {
                        "count": 7,
                        "label": "7y",
                        "step": "year",
                        "stepmode": "backward"
                      },
                      {
                        "count": 10,
                        "label": "10y",
                        "step": "year",
                        "stepmode": "backward"
                      },
                      {
                        "step": "all"
                      }
                    ]
                  },
                  "rangeslider": {
                    "visible": true
                  },
                  "title": {
                    "text": "Date"
                  }
                },
                "yaxis": {
                  "anchor": "x",
                  "domain": [
                    0,
                    1
                  ],
                  "title": {
                    "text": "YOY"
                  }
                }
              }
            }
          },
          "metadata": {},
          "output_type": "display_data"
        }
      ],
      "source": [
        "import pandas as pd\n",
        "import plotly.express as px\n",
        "import plotly.graph_objects as go\n",
        "\n",
        "df_show = dfs_xk[\n",
        "    (\n",
        "        (dfs_xk[\"Ngành\"] == \"TỔNG TRỊ GIÁ\")\n",
        "        | (dfs_xk[\"Ngành\"] == \"Khu vực kinh tế trong nước\")\n",
        "        | (dfs_xk[\"Ngành\"] == \"Khu vực có vốn đầu tư NN\")\n",
        "    )\n",
        "    & (dfs_xk[\"Date\"] > \"2015-01-01\")\n",
        "]\n",
        "\n",
        "fig = px.area(df_show, x=\"Date\", y=\"YOY\", color=\"Ngành\")\n",
        "\n",
        "fig.update_xaxes(\n",
        "    rangeslider_visible=True,\n",
        "    rangeselector=dict(\n",
        "        buttons=[\n",
        "            dict(count=1, label=\"YTD\", step=\"year\", stepmode=\"todate\"),\n",
        "            dict(count=1, label=\"1y\", step=\"year\", stepmode=\"backward\"),\n",
        "            dict(count=3, label=\"3y\", step=\"year\", stepmode=\"backward\"),\n",
        "            dict(count=5, label=\"5y\", step=\"year\", stepmode=\"backward\"),\n",
        "            dict(count=7, label=\"7y\", step=\"year\", stepmode=\"backward\"),\n",
        "            dict(count=10, label=\"10y\", step=\"year\", stepmode=\"backward\"),\n",
        "            dict(step=\"all\"),\n",
        "        ]\n",
        "    ),\n",
        ")\n",
        "\n",
        "fig.show()"
      ]
    },
    {
      "cell_type": "code",
      "execution_count": 10,
      "metadata": {},
      "outputs": [
        {
          "data": {
            "application/vnd.plotly.v1+json": {
              "config": {
                "plotlyServerURL": "https://plot.ly"
              },
              "data": [
                {
                  "fillpattern": {
                    "shape": ""
                  },
                  "hovertemplate": "Ngành=Hóa chất<br>Date=%{x}<br>YOY=%{y}<extra></extra>",
                  "legendgroup": "Hóa chất",
                  "line": {
                    "color": "#636efa"
                  },
                  "marker": {
                    "symbol": "circle"
                  },
                  "mode": "lines",
                  "name": "Hóa chất",
                  "orientation": "v",
                  "showlegend": true,
                  "stackgroup": "1",
                  "type": "scatter",
                  "x": [
                    "2024-04-29T00:00:00",
                    "2024-03-29T00:00:00",
                    "2024-02-29T00:00:00",
                    "2024-01-29T00:00:00",
                    "2023-12-29T00:00:00",
                    "2023-11-29T00:00:00",
                    "2023-10-29T00:00:00",
                    "2023-09-29T00:00:00",
                    "2023-08-29T00:00:00",
                    "2023-07-29T00:00:00",
                    "2023-06-29T00:00:00",
                    "2023-05-29T00:00:00",
                    "2023-04-29T00:00:00",
                    "2023-03-29T00:00:00",
                    "2023-02-28T00:00:00",
                    "2023-01-29T00:00:00",
                    "2022-12-29T00:00:00",
                    "2022-11-29T00:00:00",
                    "2022-10-29T00:00:00",
                    "2022-09-29T00:00:00",
                    "2022-08-29T00:00:00",
                    "2022-07-29T00:00:00",
                    "2022-06-29T00:00:00",
                    "2022-05-29T00:00:00",
                    "2022-04-29T00:00:00",
                    "2022-03-29T00:00:00",
                    "2022-02-28T00:00:00",
                    "2022-01-29T00:00:00",
                    "2021-12-29T00:00:00",
                    "2021-11-29T00:00:00",
                    "2021-10-29T00:00:00",
                    "2021-09-29T00:00:00",
                    "2021-08-29T00:00:00",
                    "2021-07-29T00:00:00",
                    "2021-06-29T00:00:00",
                    "2021-05-29T00:00:00",
                    "2021-04-29T00:00:00",
                    "2021-03-29T00:00:00",
                    "2021-02-28T00:00:00",
                    "2021-01-29T00:00:00",
                    "2020-12-27T00:00:00",
                    "2020-11-29T00:00:00",
                    "2020-10-29T00:00:00",
                    "2020-09-29T00:00:00",
                    "2020-08-29T00:00:00",
                    "2020-07-29T00:00:00",
                    "2020-06-29T00:00:00",
                    "2020-05-29T00:00:00",
                    "2020-04-29T00:00:00",
                    "2020-03-27T00:00:00",
                    "2020-02-29T00:00:00",
                    "2020-01-29T00:00:00"
                  ],
                  "xaxis": "x",
                  "y": [
                    28.67889154911623,
                    20.323970461543354,
                    5.71948604070127,
                    39.95948662720346,
                    42.79459474479907,
                    -1.8125501431032802,
                    -24.57404195875648,
                    -25.920299526946792,
                    -18.011047658949906,
                    -17.01134464349252,
                    -15.106722412392031,
                    5.1171065462352345,
                    -26.88962652300468,
                    -21.52848819563249,
                    7.183530856827971,
                    -34.01256231445777,
                    -17.541657336276145,
                    -19.564954724252516,
                    -3.555630763303327,
                    -12.688091799507447,
                    43.535854620471866,
                    60.75204780560139,
                    45.69014589775435,
                    46.9868104274714,
                    64.82308166066937,
                    51.08278251383632,
                    88.22264233515992,
                    98.56292597456303,
                    73.4325567703217,
                    70.46020063200882,
                    40.774636239619724,
                    58.76418442694816,
                    47.54015441616707,
                    41.97855521827131,
                    67.09881690041794,
                    68.81747402827568,
                    38.14923459758592,
                    16.075057989759657,
                    19.729317367874913,
                    22.497777143851778,
                    17.160477772662276,
                    46.91021458830855,
                    -0.7814139577445047,
                    -3.2938073940891996,
                    0.6051392418387422,
                    -3.300077023672202,
                    23.213618160504467,
                    -26.93227781299609,
                    -20.452533024157432,
                    -1.8390929724650533,
                    11.904381469337366,
                    -38.59077621995769
                  ],
                  "yaxis": "y"
                },
                {
                  "fillpattern": {
                    "shape": ""
                  },
                  "hovertemplate": "Ngành=Sản phẩm hóa chất<br>Date=%{x}<br>YOY=%{y}<extra></extra>",
                  "legendgroup": "Sản phẩm hóa chất",
                  "line": {
                    "color": "#EF553B"
                  },
                  "marker": {
                    "symbol": "circle"
                  },
                  "mode": "lines",
                  "name": "Sản phẩm hóa chất",
                  "orientation": "v",
                  "showlegend": true,
                  "stackgroup": "1",
                  "type": "scatter",
                  "x": [
                    "2024-04-29T00:00:00",
                    "2024-03-29T00:00:00",
                    "2024-02-29T00:00:00",
                    "2024-01-29T00:00:00",
                    "2023-12-29T00:00:00",
                    "2023-11-29T00:00:00",
                    "2023-10-29T00:00:00",
                    "2023-09-29T00:00:00",
                    "2023-08-29T00:00:00",
                    "2023-07-29T00:00:00",
                    "2023-06-29T00:00:00",
                    "2023-05-29T00:00:00",
                    "2023-04-29T00:00:00",
                    "2023-03-29T00:00:00",
                    "2023-02-28T00:00:00",
                    "2023-01-29T00:00:00",
                    "2022-12-29T00:00:00",
                    "2022-11-29T00:00:00",
                    "2022-10-29T00:00:00",
                    "2022-09-29T00:00:00",
                    "2022-08-29T00:00:00",
                    "2022-07-29T00:00:00",
                    "2022-06-29T00:00:00",
                    "2022-05-29T00:00:00",
                    "2022-04-29T00:00:00",
                    "2022-03-29T00:00:00",
                    "2022-02-28T00:00:00",
                    "2022-01-29T00:00:00",
                    "2021-12-29T00:00:00",
                    "2021-11-29T00:00:00",
                    "2021-10-29T00:00:00",
                    "2021-09-29T00:00:00",
                    "2021-08-29T00:00:00",
                    "2021-07-29T00:00:00",
                    "2021-06-29T00:00:00",
                    "2021-05-29T00:00:00",
                    "2021-04-29T00:00:00",
                    "2021-03-29T00:00:00",
                    "2021-02-28T00:00:00",
                    "2021-01-29T00:00:00",
                    "2020-12-27T00:00:00",
                    "2020-11-29T00:00:00",
                    "2020-10-29T00:00:00",
                    "2020-09-29T00:00:00",
                    "2020-08-29T00:00:00",
                    "2020-07-29T00:00:00",
                    "2020-06-29T00:00:00",
                    "2020-05-29T00:00:00",
                    "2020-04-29T00:00:00",
                    "2020-03-27T00:00:00",
                    "2020-02-29T00:00:00",
                    "2020-01-29T00:00:00"
                  ],
                  "xaxis": "x",
                  "y": [
                    4.954586675118605,
                    81.4563993906504,
                    -2.4681155346708294,
                    75.15277363848361,
                    9.11946664732585,
                    -4.191708558842109,
                    -11.465982303570556,
                    -8.329233800586309,
                    -9.707368229252083,
                    -48.28864368972524,
                    -2.486124543444305,
                    27.898823640337667,
                    -0.8889543420332018,
                    10.69059651005648,
                    40.09296938784587,
                    -4.098435411793375,
                    4.013122591405676,
                    13.71994948480733,
                    13.055577922913741,
                    26.65523109250654,
                    48.97157569871763,
                    52.99045797289699,
                    23.81437104388482,
                    32.06989070694553,
                    39.08717734581438,
                    13.318917979815723,
                    30.87866157268303,
                    31.230717027508774,
                    30.23174646260344,
                    29.195600200769945,
                    20.058230219085928,
                    24.73333960949921,
                    29.64635205834773,
                    18.224779275322305,
                    37.06848795019869,
                    48.43131248708937,
                    25.444172052380722,
                    50.204839478183004,
                    4.231512782301266,
                    54.68142846045251,
                    22.852163193605193,
                    5.522408937631155,
                    13.93810169389009,
                    11.694216016408006,
                    11.741957495095676,
                    -9.840639410185304,
                    -2.985411413602307,
                    7.438898312225334,
                    4.051807659893015,
                    -11.273719174471523,
                    41.68457347148487,
                    -15.688437323259109
                  ],
                  "yaxis": "y"
                },
                {
                  "fillpattern": {
                    "shape": ""
                  },
                  "hovertemplate": "Ngành=Điện tử, máy tính và linh kiện<br>Date=%{x}<br>YOY=%{y}<extra></extra>",
                  "legendgroup": "Điện tử, máy tính và linh kiện",
                  "line": {
                    "color": "#00cc96"
                  },
                  "marker": {
                    "symbol": "circle"
                  },
                  "mode": "lines",
                  "name": "Điện tử, máy tính và linh kiện",
                  "orientation": "v",
                  "showlegend": true,
                  "stackgroup": "1",
                  "type": "scatter",
                  "x": [
                    "2024-04-29T00:00:00",
                    "2024-03-29T00:00:00",
                    "2024-02-29T00:00:00",
                    "2024-01-29T00:00:00",
                    "2023-12-29T00:00:00",
                    "2023-11-29T00:00:00",
                    "2023-10-29T00:00:00",
                    "2023-09-29T00:00:00",
                    "2023-08-29T00:00:00",
                    "2023-07-29T00:00:00",
                    "2023-06-29T00:00:00",
                    "2023-05-29T00:00:00",
                    "2023-04-29T00:00:00",
                    "2023-03-29T00:00:00",
                    "2023-02-28T00:00:00",
                    "2023-01-29T00:00:00",
                    "2022-12-29T00:00:00",
                    "2022-11-29T00:00:00",
                    "2022-10-29T00:00:00",
                    "2022-09-29T00:00:00",
                    "2022-08-29T00:00:00",
                    "2022-07-29T00:00:00",
                    "2022-06-29T00:00:00",
                    "2022-05-29T00:00:00",
                    "2022-04-29T00:00:00",
                    "2022-03-29T00:00:00",
                    "2022-02-28T00:00:00",
                    "2022-01-29T00:00:00",
                    "2021-12-29T00:00:00",
                    "2021-11-29T00:00:00",
                    "2021-10-29T00:00:00",
                    "2021-09-29T00:00:00",
                    "2021-08-29T00:00:00",
                    "2021-07-29T00:00:00",
                    "2021-06-29T00:00:00",
                    "2021-05-29T00:00:00",
                    "2021-04-29T00:00:00",
                    "2021-03-29T00:00:00",
                    "2021-02-28T00:00:00",
                    "2021-01-29T00:00:00",
                    "2020-12-27T00:00:00",
                    "2020-11-29T00:00:00",
                    "2020-10-29T00:00:00",
                    "2020-09-29T00:00:00",
                    "2020-08-29T00:00:00",
                    "2020-07-29T00:00:00",
                    "2020-06-29T00:00:00",
                    "2020-05-29T00:00:00",
                    "2020-04-29T00:00:00",
                    "2020-03-27T00:00:00",
                    "2020-02-29T00:00:00",
                    "2020-01-29T00:00:00"
                  ],
                  "xaxis": "x",
                  "y": [
                    32.55829499569239,
                    15.954407102250087,
                    6.335243841274462,
                    57.42625007596209,
                    19.156145235310547,
                    20.151415657523586,
                    17.118050809500488,
                    1.1436840374727524,
                    10.774525334190145,
                    31.957341355470817,
                    -10.447920146838712,
                    -11.435179611141564,
                    -8.083864600282382,
                    -11.032134383074677,
                    -2.568930154103384,
                    -11.54432372600263,
                    -14.665637997974173,
                    -16.07210430934873,
                    12.348573222553455,
                    0.4395665438854621,
                    3.707378555457751,
                    8.58443270979177,
                    9.87588066502407,
                    8.252867018417149,
                    23.168845154586876,
                    8.947373012695323,
                    9.679468662639962,
                    -10.176443245823847,
                    27.709488365471373,
                    9.0352283682071,
                    8.334962946312729,
                    2.977076597132651,
                    -11.990439547137285,
                    -13.874661916061925,
                    1.7988010255810707,
                    9.364830156130594,
                    29.35906502858009,
                    27.119659019484516,
                    9.087773868619834,
                    50.23821427585665,
                    24.299999999999997,
                    16.299999999999997,
                    13.63094056744356,
                    29.915132622044013,
                    15.045116856252491,
                    18.529107430957765,
                    26.56006863079152,
                    9.044371555324489,
                    28.23047534484266,
                    -0.7241748107075807,
                    52.379277466633965,
                    5.598381066995927
                  ],
                  "yaxis": "y"
                }
              ],
              "layout": {
                "legend": {
                  "title": {
                    "text": "Ngành"
                  },
                  "tracegroupgap": 0
                },
                "margin": {
                  "t": 60
                },
                "template": {
                  "data": {
                    "bar": [
                      {
                        "error_x": {
                          "color": "#2a3f5f"
                        },
                        "error_y": {
                          "color": "#2a3f5f"
                        },
                        "marker": {
                          "line": {
                            "color": "#E5ECF6",
                            "width": 0.5
                          },
                          "pattern": {
                            "fillmode": "overlay",
                            "size": 10,
                            "solidity": 0.2
                          }
                        },
                        "type": "bar"
                      }
                    ],
                    "barpolar": [
                      {
                        "marker": {
                          "line": {
                            "color": "#E5ECF6",
                            "width": 0.5
                          },
                          "pattern": {
                            "fillmode": "overlay",
                            "size": 10,
                            "solidity": 0.2
                          }
                        },
                        "type": "barpolar"
                      }
                    ],
                    "carpet": [
                      {
                        "aaxis": {
                          "endlinecolor": "#2a3f5f",
                          "gridcolor": "white",
                          "linecolor": "white",
                          "minorgridcolor": "white",
                          "startlinecolor": "#2a3f5f"
                        },
                        "baxis": {
                          "endlinecolor": "#2a3f5f",
                          "gridcolor": "white",
                          "linecolor": "white",
                          "minorgridcolor": "white",
                          "startlinecolor": "#2a3f5f"
                        },
                        "type": "carpet"
                      }
                    ],
                    "choropleth": [
                      {
                        "colorbar": {
                          "outlinewidth": 0,
                          "ticks": ""
                        },
                        "type": "choropleth"
                      }
                    ],
                    "contour": [
                      {
                        "colorbar": {
                          "outlinewidth": 0,
                          "ticks": ""
                        },
                        "colorscale": [
                          [
                            0,
                            "#0d0887"
                          ],
                          [
                            0.1111111111111111,
                            "#46039f"
                          ],
                          [
                            0.2222222222222222,
                            "#7201a8"
                          ],
                          [
                            0.3333333333333333,
                            "#9c179e"
                          ],
                          [
                            0.4444444444444444,
                            "#bd3786"
                          ],
                          [
                            0.5555555555555556,
                            "#d8576b"
                          ],
                          [
                            0.6666666666666666,
                            "#ed7953"
                          ],
                          [
                            0.7777777777777778,
                            "#fb9f3a"
                          ],
                          [
                            0.8888888888888888,
                            "#fdca26"
                          ],
                          [
                            1,
                            "#f0f921"
                          ]
                        ],
                        "type": "contour"
                      }
                    ],
                    "contourcarpet": [
                      {
                        "colorbar": {
                          "outlinewidth": 0,
                          "ticks": ""
                        },
                        "type": "contourcarpet"
                      }
                    ],
                    "heatmap": [
                      {
                        "colorbar": {
                          "outlinewidth": 0,
                          "ticks": ""
                        },
                        "colorscale": [
                          [
                            0,
                            "#0d0887"
                          ],
                          [
                            0.1111111111111111,
                            "#46039f"
                          ],
                          [
                            0.2222222222222222,
                            "#7201a8"
                          ],
                          [
                            0.3333333333333333,
                            "#9c179e"
                          ],
                          [
                            0.4444444444444444,
                            "#bd3786"
                          ],
                          [
                            0.5555555555555556,
                            "#d8576b"
                          ],
                          [
                            0.6666666666666666,
                            "#ed7953"
                          ],
                          [
                            0.7777777777777778,
                            "#fb9f3a"
                          ],
                          [
                            0.8888888888888888,
                            "#fdca26"
                          ],
                          [
                            1,
                            "#f0f921"
                          ]
                        ],
                        "type": "heatmap"
                      }
                    ],
                    "heatmapgl": [
                      {
                        "colorbar": {
                          "outlinewidth": 0,
                          "ticks": ""
                        },
                        "colorscale": [
                          [
                            0,
                            "#0d0887"
                          ],
                          [
                            0.1111111111111111,
                            "#46039f"
                          ],
                          [
                            0.2222222222222222,
                            "#7201a8"
                          ],
                          [
                            0.3333333333333333,
                            "#9c179e"
                          ],
                          [
                            0.4444444444444444,
                            "#bd3786"
                          ],
                          [
                            0.5555555555555556,
                            "#d8576b"
                          ],
                          [
                            0.6666666666666666,
                            "#ed7953"
                          ],
                          [
                            0.7777777777777778,
                            "#fb9f3a"
                          ],
                          [
                            0.8888888888888888,
                            "#fdca26"
                          ],
                          [
                            1,
                            "#f0f921"
                          ]
                        ],
                        "type": "heatmapgl"
                      }
                    ],
                    "histogram": [
                      {
                        "marker": {
                          "pattern": {
                            "fillmode": "overlay",
                            "size": 10,
                            "solidity": 0.2
                          }
                        },
                        "type": "histogram"
                      }
                    ],
                    "histogram2d": [
                      {
                        "colorbar": {
                          "outlinewidth": 0,
                          "ticks": ""
                        },
                        "colorscale": [
                          [
                            0,
                            "#0d0887"
                          ],
                          [
                            0.1111111111111111,
                            "#46039f"
                          ],
                          [
                            0.2222222222222222,
                            "#7201a8"
                          ],
                          [
                            0.3333333333333333,
                            "#9c179e"
                          ],
                          [
                            0.4444444444444444,
                            "#bd3786"
                          ],
                          [
                            0.5555555555555556,
                            "#d8576b"
                          ],
                          [
                            0.6666666666666666,
                            "#ed7953"
                          ],
                          [
                            0.7777777777777778,
                            "#fb9f3a"
                          ],
                          [
                            0.8888888888888888,
                            "#fdca26"
                          ],
                          [
                            1,
                            "#f0f921"
                          ]
                        ],
                        "type": "histogram2d"
                      }
                    ],
                    "histogram2dcontour": [
                      {
                        "colorbar": {
                          "outlinewidth": 0,
                          "ticks": ""
                        },
                        "colorscale": [
                          [
                            0,
                            "#0d0887"
                          ],
                          [
                            0.1111111111111111,
                            "#46039f"
                          ],
                          [
                            0.2222222222222222,
                            "#7201a8"
                          ],
                          [
                            0.3333333333333333,
                            "#9c179e"
                          ],
                          [
                            0.4444444444444444,
                            "#bd3786"
                          ],
                          [
                            0.5555555555555556,
                            "#d8576b"
                          ],
                          [
                            0.6666666666666666,
                            "#ed7953"
                          ],
                          [
                            0.7777777777777778,
                            "#fb9f3a"
                          ],
                          [
                            0.8888888888888888,
                            "#fdca26"
                          ],
                          [
                            1,
                            "#f0f921"
                          ]
                        ],
                        "type": "histogram2dcontour"
                      }
                    ],
                    "mesh3d": [
                      {
                        "colorbar": {
                          "outlinewidth": 0,
                          "ticks": ""
                        },
                        "type": "mesh3d"
                      }
                    ],
                    "parcoords": [
                      {
                        "line": {
                          "colorbar": {
                            "outlinewidth": 0,
                            "ticks": ""
                          }
                        },
                        "type": "parcoords"
                      }
                    ],
                    "pie": [
                      {
                        "automargin": true,
                        "type": "pie"
                      }
                    ],
                    "scatter": [
                      {
                        "fillpattern": {
                          "fillmode": "overlay",
                          "size": 10,
                          "solidity": 0.2
                        },
                        "type": "scatter"
                      }
                    ],
                    "scatter3d": [
                      {
                        "line": {
                          "colorbar": {
                            "outlinewidth": 0,
                            "ticks": ""
                          }
                        },
                        "marker": {
                          "colorbar": {
                            "outlinewidth": 0,
                            "ticks": ""
                          }
                        },
                        "type": "scatter3d"
                      }
                    ],
                    "scattercarpet": [
                      {
                        "marker": {
                          "colorbar": {
                            "outlinewidth": 0,
                            "ticks": ""
                          }
                        },
                        "type": "scattercarpet"
                      }
                    ],
                    "scattergeo": [
                      {
                        "marker": {
                          "colorbar": {
                            "outlinewidth": 0,
                            "ticks": ""
                          }
                        },
                        "type": "scattergeo"
                      }
                    ],
                    "scattergl": [
                      {
                        "marker": {
                          "colorbar": {
                            "outlinewidth": 0,
                            "ticks": ""
                          }
                        },
                        "type": "scattergl"
                      }
                    ],
                    "scattermapbox": [
                      {
                        "marker": {
                          "colorbar": {
                            "outlinewidth": 0,
                            "ticks": ""
                          }
                        },
                        "type": "scattermapbox"
                      }
                    ],
                    "scatterpolar": [
                      {
                        "marker": {
                          "colorbar": {
                            "outlinewidth": 0,
                            "ticks": ""
                          }
                        },
                        "type": "scatterpolar"
                      }
                    ],
                    "scatterpolargl": [
                      {
                        "marker": {
                          "colorbar": {
                            "outlinewidth": 0,
                            "ticks": ""
                          }
                        },
                        "type": "scatterpolargl"
                      }
                    ],
                    "scatterternary": [
                      {
                        "marker": {
                          "colorbar": {
                            "outlinewidth": 0,
                            "ticks": ""
                          }
                        },
                        "type": "scatterternary"
                      }
                    ],
                    "surface": [
                      {
                        "colorbar": {
                          "outlinewidth": 0,
                          "ticks": ""
                        },
                        "colorscale": [
                          [
                            0,
                            "#0d0887"
                          ],
                          [
                            0.1111111111111111,
                            "#46039f"
                          ],
                          [
                            0.2222222222222222,
                            "#7201a8"
                          ],
                          [
                            0.3333333333333333,
                            "#9c179e"
                          ],
                          [
                            0.4444444444444444,
                            "#bd3786"
                          ],
                          [
                            0.5555555555555556,
                            "#d8576b"
                          ],
                          [
                            0.6666666666666666,
                            "#ed7953"
                          ],
                          [
                            0.7777777777777778,
                            "#fb9f3a"
                          ],
                          [
                            0.8888888888888888,
                            "#fdca26"
                          ],
                          [
                            1,
                            "#f0f921"
                          ]
                        ],
                        "type": "surface"
                      }
                    ],
                    "table": [
                      {
                        "cells": {
                          "fill": {
                            "color": "#EBF0F8"
                          },
                          "line": {
                            "color": "white"
                          }
                        },
                        "header": {
                          "fill": {
                            "color": "#C8D4E3"
                          },
                          "line": {
                            "color": "white"
                          }
                        },
                        "type": "table"
                      }
                    ]
                  },
                  "layout": {
                    "annotationdefaults": {
                      "arrowcolor": "#2a3f5f",
                      "arrowhead": 0,
                      "arrowwidth": 1
                    },
                    "autotypenumbers": "strict",
                    "coloraxis": {
                      "colorbar": {
                        "outlinewidth": 0,
                        "ticks": ""
                      }
                    },
                    "colorscale": {
                      "diverging": [
                        [
                          0,
                          "#8e0152"
                        ],
                        [
                          0.1,
                          "#c51b7d"
                        ],
                        [
                          0.2,
                          "#de77ae"
                        ],
                        [
                          0.3,
                          "#f1b6da"
                        ],
                        [
                          0.4,
                          "#fde0ef"
                        ],
                        [
                          0.5,
                          "#f7f7f7"
                        ],
                        [
                          0.6,
                          "#e6f5d0"
                        ],
                        [
                          0.7,
                          "#b8e186"
                        ],
                        [
                          0.8,
                          "#7fbc41"
                        ],
                        [
                          0.9,
                          "#4d9221"
                        ],
                        [
                          1,
                          "#276419"
                        ]
                      ],
                      "sequential": [
                        [
                          0,
                          "#0d0887"
                        ],
                        [
                          0.1111111111111111,
                          "#46039f"
                        ],
                        [
                          0.2222222222222222,
                          "#7201a8"
                        ],
                        [
                          0.3333333333333333,
                          "#9c179e"
                        ],
                        [
                          0.4444444444444444,
                          "#bd3786"
                        ],
                        [
                          0.5555555555555556,
                          "#d8576b"
                        ],
                        [
                          0.6666666666666666,
                          "#ed7953"
                        ],
                        [
                          0.7777777777777778,
                          "#fb9f3a"
                        ],
                        [
                          0.8888888888888888,
                          "#fdca26"
                        ],
                        [
                          1,
                          "#f0f921"
                        ]
                      ],
                      "sequentialminus": [
                        [
                          0,
                          "#0d0887"
                        ],
                        [
                          0.1111111111111111,
                          "#46039f"
                        ],
                        [
                          0.2222222222222222,
                          "#7201a8"
                        ],
                        [
                          0.3333333333333333,
                          "#9c179e"
                        ],
                        [
                          0.4444444444444444,
                          "#bd3786"
                        ],
                        [
                          0.5555555555555556,
                          "#d8576b"
                        ],
                        [
                          0.6666666666666666,
                          "#ed7953"
                        ],
                        [
                          0.7777777777777778,
                          "#fb9f3a"
                        ],
                        [
                          0.8888888888888888,
                          "#fdca26"
                        ],
                        [
                          1,
                          "#f0f921"
                        ]
                      ]
                    },
                    "colorway": [
                      "#636efa",
                      "#EF553B",
                      "#00cc96",
                      "#ab63fa",
                      "#FFA15A",
                      "#19d3f3",
                      "#FF6692",
                      "#B6E880",
                      "#FF97FF",
                      "#FECB52"
                    ],
                    "font": {
                      "color": "#2a3f5f"
                    },
                    "geo": {
                      "bgcolor": "white",
                      "lakecolor": "white",
                      "landcolor": "#E5ECF6",
                      "showlakes": true,
                      "showland": true,
                      "subunitcolor": "white"
                    },
                    "hoverlabel": {
                      "align": "left"
                    },
                    "hovermode": "closest",
                    "mapbox": {
                      "style": "light"
                    },
                    "paper_bgcolor": "white",
                    "plot_bgcolor": "#E5ECF6",
                    "polar": {
                      "angularaxis": {
                        "gridcolor": "white",
                        "linecolor": "white",
                        "ticks": ""
                      },
                      "bgcolor": "#E5ECF6",
                      "radialaxis": {
                        "gridcolor": "white",
                        "linecolor": "white",
                        "ticks": ""
                      }
                    },
                    "scene": {
                      "xaxis": {
                        "backgroundcolor": "#E5ECF6",
                        "gridcolor": "white",
                        "gridwidth": 2,
                        "linecolor": "white",
                        "showbackground": true,
                        "ticks": "",
                        "zerolinecolor": "white"
                      },
                      "yaxis": {
                        "backgroundcolor": "#E5ECF6",
                        "gridcolor": "white",
                        "gridwidth": 2,
                        "linecolor": "white",
                        "showbackground": true,
                        "ticks": "",
                        "zerolinecolor": "white"
                      },
                      "zaxis": {
                        "backgroundcolor": "#E5ECF6",
                        "gridcolor": "white",
                        "gridwidth": 2,
                        "linecolor": "white",
                        "showbackground": true,
                        "ticks": "",
                        "zerolinecolor": "white"
                      }
                    },
                    "shapedefaults": {
                      "line": {
                        "color": "#2a3f5f"
                      }
                    },
                    "ternary": {
                      "aaxis": {
                        "gridcolor": "white",
                        "linecolor": "white",
                        "ticks": ""
                      },
                      "baxis": {
                        "gridcolor": "white",
                        "linecolor": "white",
                        "ticks": ""
                      },
                      "bgcolor": "#E5ECF6",
                      "caxis": {
                        "gridcolor": "white",
                        "linecolor": "white",
                        "ticks": ""
                      }
                    },
                    "title": {
                      "x": 0.05
                    },
                    "xaxis": {
                      "automargin": true,
                      "gridcolor": "white",
                      "linecolor": "white",
                      "ticks": "",
                      "title": {
                        "standoff": 15
                      },
                      "zerolinecolor": "white",
                      "zerolinewidth": 2
                    },
                    "yaxis": {
                      "automargin": true,
                      "gridcolor": "white",
                      "linecolor": "white",
                      "ticks": "",
                      "title": {
                        "standoff": 15
                      },
                      "zerolinecolor": "white",
                      "zerolinewidth": 2
                    }
                  }
                },
                "xaxis": {
                  "anchor": "y",
                  "domain": [
                    0,
                    1
                  ],
                  "rangeselector": {
                    "buttons": [
                      {
                        "count": 1,
                        "label": "YTD",
                        "step": "year",
                        "stepmode": "todate"
                      },
                      {
                        "count": 1,
                        "label": "1y",
                        "step": "year",
                        "stepmode": "backward"
                      },
                      {
                        "count": 3,
                        "label": "3y",
                        "step": "year",
                        "stepmode": "backward"
                      },
                      {
                        "count": 5,
                        "label": "5y",
                        "step": "year",
                        "stepmode": "backward"
                      },
                      {
                        "count": 7,
                        "label": "7y",
                        "step": "year",
                        "stepmode": "backward"
                      },
                      {
                        "count": 10,
                        "label": "10y",
                        "step": "year",
                        "stepmode": "backward"
                      },
                      {
                        "step": "all"
                      }
                    ]
                  },
                  "rangeslider": {
                    "visible": true
                  },
                  "title": {
                    "text": "Date"
                  }
                },
                "yaxis": {
                  "anchor": "x",
                  "domain": [
                    0,
                    1
                  ],
                  "title": {
                    "text": "YOY"
                  }
                }
              }
            }
          },
          "metadata": {},
          "output_type": "display_data"
        }
      ],
      "source": [
        "import pandas as pd\n",
        "import plotly.express as px\n",
        "import plotly.graph_objects as go\n",
        "\n",
        "df_show = dfs_xk[\n",
        "    (\n",
        "        (dfs_xk[\"Ngành\"] == \"Điện tử, máy tính và linh kiện\")\n",
        "        # | (dfs_xk[\"Ngành\"] == \"Điện thoại và linh kiện\")\n",
        "        # | (dfs_xk[\"Ngành\"] == \"Máy móc thiết bị, dụng cụ PT khác\")\n",
        "        # | (dfs_xk[\"Ngành\"] == \"Dệt, may\")\n",
        "        # | (dfs_xk[\"Ngành\"] == \"Giày dép\")\n",
        "        # | (dfs_xk[\"Ngành\"] == \"Thủy sản\")\n",
        "        # | (dfs_xk[\"Ngành\"] == \"Sắt thép\")\n",
        "        # | (dfs_xk[\"Ngành\"] == \"Rau quả\")\n",
        "        # | (dfs_xk[\"Ngành\"] == \"Hạt điều\")\n",
        "        # | (dfs_xk[\"Ngành\"] == \"Cà phê\")\n",
        "        # | (dfs_xk[\"Ngành\"] == \"Chè\")\n",
        "        # | (dfs_xk[\"Ngành\"] == \"Gạo\")\n",
        "        | (dfs_xk[\"Ngành\"] == \"Hóa chất\")\n",
        "        | (dfs_xk[\"Ngành\"] == \"Sản phẩm hóa chất\")\n",
        "    )\n",
        "    & (dfs_xk[\"Date\"] > \"2020-01-01\")\n",
        "]\n",
        "\n",
        "fig = px.area(df_show, x=\"Date\", y=\"YOY\", color=\"Ngành\")\n",
        "\n",
        "fig.update_xaxes(\n",
        "    rangeslider_visible=True,\n",
        "    rangeselector=dict(\n",
        "        buttons=[\n",
        "            dict(count=1, label=\"YTD\", step=\"year\", stepmode=\"todate\"),\n",
        "            dict(count=1, label=\"1y\", step=\"year\", stepmode=\"backward\"),\n",
        "            dict(count=3, label=\"3y\", step=\"year\", stepmode=\"backward\"),\n",
        "            dict(count=5, label=\"5y\", step=\"year\", stepmode=\"backward\"),\n",
        "            dict(count=7, label=\"7y\", step=\"year\", stepmode=\"backward\"),\n",
        "            dict(count=10, label=\"10y\", step=\"year\", stepmode=\"backward\"),\n",
        "            dict(step=\"all\"),\n",
        "        ]\n",
        "    ),\n",
        ")\n",
        "\n",
        "fig.show()"
      ]
    },
    {
      "cell_type": "code",
      "execution_count": null,
      "metadata": {},
      "outputs": [],
      "source": []
    },
    {
      "cell_type": "code",
      "execution_count": null,
      "metadata": {},
      "outputs": [],
      "source": []
    }
  ],
  "metadata": {
    "kernelspec": {
      "display_name": "vn-macroeconomics",
      "language": "python",
      "name": "python3"
    },
    "language_info": {
      "codemirror_mode": {
        "name": "ipython",
        "version": 3
      },
      "file_extension": ".py",
      "mimetype": "text/x-python",
      "name": "python",
      "nbconvert_exporter": "python",
      "pygments_lexer": "ipython3",
      "version": "3.10.9"
    }
  },
  "nbformat": 4,
  "nbformat_minor": 2
}
