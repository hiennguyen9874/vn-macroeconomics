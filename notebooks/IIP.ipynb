{
  "cells": [
    {
      "cell_type": "code",
      "execution_count": 1,
      "metadata": {},
      "outputs": [],
      "source": [
        "import pandas as pd\n",
        "import seaborn as sns\n",
        "from datetime import date"
      ]
    },
    {
      "cell_type": "code",
      "execution_count": 2,
      "metadata": {},
      "outputs": [],
      "source": [
        "def find_sheet_name(sheet_names):\n",
        "    iip_sheet_names = list(filter(lambda x: \"iip\" in x.lower(), sheet_names))\n",
        "\n",
        "    if len(iip_sheet_names) == 1:\n",
        "        return iip_sheet_names[0]\n",
        "\n",
        "    iip_sheet_names = list(filter(lambda x: \"thang\" in x.lower(), iip_sheet_names))\n",
        "\n",
        "    if len(iip_sheet_names) == 1:\n",
        "        return iip_sheet_names[0]\n",
        "\n",
        "    if len(sheet_names) == 43:\n",
        "        return \"7\"\n",
        "\n",
        "    iip_sheet_names = list(filter(lambda x: \"gtcn\" in x.lower(), sheet_names))\n",
        "\n",
        "    if len(iip_sheet_names) == 1:\n",
        "        return iip_sheet_names[0]\n",
        "\n",
        "    raise RuntimeError"
      ]
    },
    {
      "cell_type": "code",
      "execution_count": 3,
      "metadata": {},
      "outputs": [],
      "source": [
        "en_to_vn = {\n",
        "    \"WHOLE INDUSTRY\": \"Toàn ngành công nghiệp\",\n",
        "    \"Mining and quarying\": \"Khai khoáng\",\n",
        "    \"Mining of coal and lignite\": \"Khai thác than cứng và than non\",\n",
        "    \"Extraction of crude petroleum and nutural gas\": \"Khai thác dầu thô và khí đốt tự nhiên\",\n",
        "    \"Mining of metal ores\": \"Khai thác quặng kim loại\",\n",
        "    \"Other mining and quarrying (stone, sand and clay)\": \"Khai khoáng khác\",\n",
        "    \"Mining support service activities\": \"Hoạt động dịch vụ hỗ trợ khai thác mỏ và quặng\",\n",
        "    \"Manufacturing\": \"Công nghiệp chế biến, chế tạo\",\n",
        "    \"Manufacture of food products\": \"Sản xuất, chế biến thực phẩm\",\n",
        "    \"Manufacture of beverages\": \"Sản xuất đồ uống\",\n",
        "    \"Manufacture of tobacco products\": \"Sản xuất sản phẩm thuốc lá\",\n",
        "    \"Manufacture of textiles\": \"Dệt\",\n",
        "    \"Manufacture of wearing apparel\": \"Sản xuất trang phục\",\n",
        "    \"Manufacture of leather and related products\": \"Sản xuất da và các sản phẩm có liên quan\",\n",
        "    \"Manufacture of wood and of products of wood and cork\": \"Chế biến gỗ và sản xuất sản phẩm từ gỗ, tre, nứa (trừ giường, tủ, bàn ghế); sản xuất sản phẩm từ rơm, rạ và vật liệu tết bện\",\n",
        "    \"Manufacture of paper and paper products\": \"Sản xuất giấy và sản phẩm từ giấy\",\n",
        "    \"Printing and reproduction of recorded media\": \"In, sao chép bản ghi các loại\",\n",
        "    \"Manufacture of coke and refined petroleum products\": \"Sản xuất than cốc, sản phẩm dầu mỏ tinh chế\",\n",
        "    \"Manufacture of chemicals and chemical products\": \"Sản xuất hoá chất và sản phẩm hoá chất\",\n",
        "    \"Manufacture of pharmaceuticals, medicinal chemical and botanical products\": \"Sản xuất thuốc, hoá dược và dược liệu\",\n",
        "    \"Manufacture of rubber and plastics products\": \"Sản xuất sản phẩm từ cao su và plastic\",\n",
        "    \"Manufacture of other non-metallic mineral products\": \"Sản xuất sản phẩm từ khoáng phi kim loại khác\",\n",
        "    \"Manufacture of basic metals\": \"Sản xuất kim loại\",\n",
        "    \"Manufacture of fabricated metal products, except machinery and equipment\": \"Sản xuất sản phẩm từ kim loại đúc sẵn (trừ máy móc, thiết bị)\",\n",
        "    \"Manufacture of computer, electronic and optical products\": \"Sản xuất sản phẩm điện tử, máy vi tính và sản phẩm quang học\",\n",
        "    \"Manufacture of electrical equipment\": \"Sản xuất thiết bị điện\",\n",
        "    \"Manufacture of machinery and equipment n.e.c\": \"Sản xuất máy móc, thiết bị chưa được phân vào đâu\",\n",
        "    \"Manufacture of motor vehicles; trailers and semi-trailers\": \"Sản xuất xe có động cơ\",\n",
        "    \"Manufacture of other transport equipment\": \"Sản xuất phương tiện vận tải khác\",\n",
        "    \"Manufacture of furniture\": \"Sản xuất giường, tủ, bàn, ghế\",\n",
        "    \"Other manufacturing\": \"Công nghiệp chế biến, chế tạo khác\",\n",
        "    \"Repair and installation of machinery and equipment\": \"Sửa chữa, bảo dưỡng và lắp đặt máy móc, thiết bị\",\n",
        "    \"Electricity, gas, steam and air conditioning supply\": \"Sản xuất và phân phối điện\",\n",
        "    \"Water supply; sewerage, waste management and remediation activities\": \"Cung cấp nước; hoạt động quản lý và xử lý rác thải, nước thải\",\n",
        "    \"Water collection, treatment and supply\": \"Khai thác, xử lý và cung cấp nước\",\n",
        "    \"Sewerage and sewer treatment activities\": \"Thoát nước và xử lý nước thải\",\n",
        "    \"Waste collection, treatment and disposal activities; materials recovery\": \"Hoạt động thu gom, xử lý và tiêu huỷ rác thải; tái chế phế liệu\",\n",
        "}"
      ]
    },
    {
      "cell_type": "code",
      "execution_count": 4,
      "metadata": {},
      "outputs": [
        {
          "data": {
            "text/html": [
              "<div>\n",
              "<style scoped>\n",
              "    .dataframe tbody tr th:only-of-type {\n",
              "        vertical-align: middle;\n",
              "    }\n",
              "\n",
              "    .dataframe tbody tr th {\n",
              "        vertical-align: top;\n",
              "    }\n",
              "\n",
              "    .dataframe thead th {\n",
              "        text-align: right;\n",
              "    }\n",
              "</style>\n",
              "<table border=\"1\" class=\"dataframe\">\n",
              "  <thead>\n",
              "    <tr style=\"text-align: right;\">\n",
              "      <th></th>\n",
              "      <th>Ngành</th>\n",
              "      <th>MOM</th>\n",
              "      <th>YOY</th>\n",
              "      <th>YTD-YOY</th>\n",
              "      <th>Date</th>\n",
              "    </tr>\n",
              "  </thead>\n",
              "  <tbody>\n",
              "    <tr>\n",
              "      <th>8</th>\n",
              "      <td>Toàn ngành công nghiệp</td>\n",
              "      <td>0.46</td>\n",
              "      <td>5.617364</td>\n",
              "      <td>5.44878</td>\n",
              "      <td>2013-09-30</td>\n",
              "    </tr>\n",
              "    <tr>\n",
              "      <th>9</th>\n",
              "      <td>Khai khoáng</td>\n",
              "      <td>-2.51</td>\n",
              "      <td>-5.120000</td>\n",
              "      <td>-0.20000</td>\n",
              "      <td>2013-09-30</td>\n",
              "    </tr>\n",
              "    <tr>\n",
              "      <th>10</th>\n",
              "      <td>Khai thác than cứng và than non</td>\n",
              "      <td>19.91</td>\n",
              "      <td>-7.220000</td>\n",
              "      <td>-5.07000</td>\n",
              "      <td>2013-09-30</td>\n",
              "    </tr>\n",
              "    <tr>\n",
              "      <th>11</th>\n",
              "      <td>Khai thác dầu thô và khí đốt tự nhiên</td>\n",
              "      <td>-6.51</td>\n",
              "      <td>-5.170000</td>\n",
              "      <td>1.30000</td>\n",
              "      <td>2013-09-30</td>\n",
              "    </tr>\n",
              "    <tr>\n",
              "      <th>12</th>\n",
              "      <td>Khai khoáng khác</td>\n",
              "      <td>2.07</td>\n",
              "      <td>6.880000</td>\n",
              "      <td>-6.25000</td>\n",
              "      <td>2013-09-30</td>\n",
              "    </tr>\n",
              "    <tr>\n",
              "      <th>13</th>\n",
              "      <td>Công nghiệp chế biến, chế tạo</td>\n",
              "      <td>1.89</td>\n",
              "      <td>8.540000</td>\n",
              "      <td>6.76000</td>\n",
              "      <td>2013-09-30</td>\n",
              "    </tr>\n",
              "    <tr>\n",
              "      <th>14</th>\n",
              "      <td>Sản xuất chế biến thực phẩm</td>\n",
              "      <td>3.73</td>\n",
              "      <td>5.310000</td>\n",
              "      <td>4.40000</td>\n",
              "      <td>2013-09-30</td>\n",
              "    </tr>\n",
              "    <tr>\n",
              "      <th>15</th>\n",
              "      <td>Sản xuất đồ uống</td>\n",
              "      <td>6.07</td>\n",
              "      <td>7.220000</td>\n",
              "      <td>8.79000</td>\n",
              "      <td>2013-09-30</td>\n",
              "    </tr>\n",
              "    <tr>\n",
              "      <th>16</th>\n",
              "      <td>Sản xuất thuốc lá</td>\n",
              "      <td>1.96</td>\n",
              "      <td>9.120000</td>\n",
              "      <td>4.36000</td>\n",
              "      <td>2013-09-30</td>\n",
              "    </tr>\n",
              "    <tr>\n",
              "      <th>17</th>\n",
              "      <td>Dệt</td>\n",
              "      <td>0.03</td>\n",
              "      <td>33.550000</td>\n",
              "      <td>16.40000</td>\n",
              "      <td>2013-09-30</td>\n",
              "    </tr>\n",
              "    <tr>\n",
              "      <th>18</th>\n",
              "      <td>Sản xuất trang phục</td>\n",
              "      <td>-0.64</td>\n",
              "      <td>16.260000</td>\n",
              "      <td>11.42000</td>\n",
              "      <td>2013-09-30</td>\n",
              "    </tr>\n",
              "    <tr>\n",
              "      <th>19</th>\n",
              "      <td>Sản xuất da và các sản phẩm có liên quan</td>\n",
              "      <td>-8.90</td>\n",
              "      <td>13.880000</td>\n",
              "      <td>16.66000</td>\n",
              "      <td>2013-09-30</td>\n",
              "    </tr>\n",
              "    <tr>\n",
              "      <th>20</th>\n",
              "      <td>Sản xuất giấy và sản phẩm từ giấy</td>\n",
              "      <td>2.11</td>\n",
              "      <td>1.300000</td>\n",
              "      <td>8.73000</td>\n",
              "      <td>2013-09-30</td>\n",
              "    </tr>\n",
              "    <tr>\n",
              "      <th>21</th>\n",
              "      <td>Sản xuất hoá chất và sản phẩm hoá chất</td>\n",
              "      <td>4.01</td>\n",
              "      <td>13.960000</td>\n",
              "      <td>11.02000</td>\n",
              "      <td>2013-09-30</td>\n",
              "    </tr>\n",
              "    <tr>\n",
              "      <th>22</th>\n",
              "      <td>Sản xuất thuốc, hoá dược và dược liệu</td>\n",
              "      <td>3.20</td>\n",
              "      <td>19.760000</td>\n",
              "      <td>9.07000</td>\n",
              "      <td>2013-09-30</td>\n",
              "    </tr>\n",
              "  </tbody>\n",
              "</table>\n",
              "</div>"
            ],
            "text/plain": [
              "                                       Ngành    MOM        YOY   YTD-YOY  \\\n",
              "8                     Toàn ngành công nghiệp   0.46   5.617364   5.44878   \n",
              "9                                Khai khoáng  -2.51  -5.120000  -0.20000   \n",
              "10           Khai thác than cứng và than non  19.91  -7.220000  -5.07000   \n",
              "11     Khai thác dầu thô và khí đốt tự nhiên  -6.51  -5.170000   1.30000   \n",
              "12                          Khai khoáng khác   2.07   6.880000  -6.25000   \n",
              "13             Công nghiệp chế biến, chế tạo   1.89   8.540000   6.76000   \n",
              "14               Sản xuất chế biến thực phẩm   3.73   5.310000   4.40000   \n",
              "15                          Sản xuất đồ uống   6.07   7.220000   8.79000   \n",
              "16                         Sản xuất thuốc lá   1.96   9.120000   4.36000   \n",
              "17                                       Dệt   0.03  33.550000  16.40000   \n",
              "18                       Sản xuất trang phục  -0.64  16.260000  11.42000   \n",
              "19  Sản xuất da và các sản phẩm có liên quan  -8.90  13.880000  16.66000   \n",
              "20         Sản xuất giấy và sản phẩm từ giấy   2.11   1.300000   8.73000   \n",
              "21    Sản xuất hoá chất và sản phẩm hoá chất   4.01  13.960000  11.02000   \n",
              "22     Sản xuất thuốc, hoá dược và dược liệu   3.20  19.760000   9.07000   \n",
              "\n",
              "         Date  \n",
              "8  2013-09-30  \n",
              "9  2013-09-30  \n",
              "10 2013-09-30  \n",
              "11 2013-09-30  \n",
              "12 2013-09-30  \n",
              "13 2013-09-30  \n",
              "14 2013-09-30  \n",
              "15 2013-09-30  \n",
              "16 2013-09-30  \n",
              "17 2013-09-30  \n",
              "18 2013-09-30  \n",
              "19 2013-09-30  \n",
              "20 2013-09-30  \n",
              "21 2013-09-30  \n",
              "22 2013-09-30  "
            ]
          },
          "execution_count": 4,
          "metadata": {},
          "output_type": "execute_result"
        }
      ],
      "source": [
        "def get_ipp_2023(xl, sheet_name, date):\n",
        "    df = xl.parse(sheet_name)\n",
        "\n",
        "    df = df.dropna(axis=1, how=\"all\")\n",
        "\n",
        "    if len(df.columns) == 5:\n",
        "        df = df.drop(columns=[df.columns[1]])\n",
        "    elif len(df.columns) == 3 and int(date.split(\"-\")[1]) == 1:\n",
        "        df[\"A\"] = df[df.columns[1]]\n",
        "    else:\n",
        "        raise RuntimeError\n",
        "\n",
        "    assert len(df.columns) == 4\n",
        "    df.columns = [\n",
        "        \"Ngành\",\n",
        "        \"MOM\",\n",
        "        \"YOY\",\n",
        "        \"YTD-YOY\",\n",
        "    ]\n",
        "\n",
        "    df[df.columns[0]] = (\n",
        "        df[df.columns[0]]\n",
        "        .replace(r\"\\s+\", \" \", regex=True)\n",
        "        .replace(r\"\\n\", \" \", regex=True)\n",
        "        .str.strip()\n",
        "    )\n",
        "\n",
        "    df = df.drop(\n",
        "        list(\n",
        "            range(\n",
        "                df[df.columns[0]][\n",
        "                    (df[df.columns[0]] == \"Toàn ngành công nghiệp\")\n",
        "                    | (df[df.columns[0]] == \"WHOLE INDUSTRY\")\n",
        "                    | (df[df.columns[0]] == \"TOÀN NGÀNH CÔNG NGHIỆP\")\n",
        "                    | (df[df.columns[0]] == \"TOÀN QUỐC\")\n",
        "                ].index[0]\n",
        "            )\n",
        "        )\n",
        "    )\n",
        "\n",
        "    if len(df[\"Ngành\"][df[\"Ngành\"] == \"WHOLE INDUSTRY\"].index) > 0:\n",
        "        df[\"Ngành\"] = df[\"Ngành\"].map(en_to_vn)\n",
        "\n",
        "    df = df[pd.to_numeric(df[\"MOM\"], errors=\"coerce\").notnull()]\n",
        "    df = df[pd.to_numeric(df[\"YOY\"], errors=\"coerce\").notnull()]\n",
        "    df = df[\n",
        "        pd.to_numeric(\n",
        "            df[\"YTD-YOY\"],\n",
        "            errors=\"coerce\",\n",
        "        ).notnull()\n",
        "    ]\n",
        "\n",
        "    df = df[df[\"MOM\"].notna()]\n",
        "    df = df[df[\"YOY\"].notna()]\n",
        "    df = df[df[\"YTD-YOY\"].notna()]\n",
        "\n",
        "    df[\"MOM\"] = (df[\"MOM\"] - 100).astype(float)\n",
        "    df[\"YOY\"] = (df[\"YOY\"] - 100).astype(float)\n",
        "    df[\"YTD-YOY\"] = (df[\"YTD-YOY\"] - 100).astype(float)\n",
        "\n",
        "    df[\"Date\"] = date\n",
        "    df[\"Date\"] = pd.to_datetime(df[\"Date\"], dayfirst=False)\n",
        "\n",
        "    df = df.replace(\n",
        "        {\n",
        "            \"rác thải, nước thải\": \"Cung cấp nước; hoạt động quản lý và xử lý rác thải, nước thải\"\n",
        "        }\n",
        "    )\n",
        "\n",
        "    return df\n",
        "\n",
        "\n",
        "xl = pd.ExcelFile(\"../datas/2013-09-30-Bieu-9-2013-1.xls\")\n",
        "get_ipp_2023(xl, find_sheet_name(xl.sheet_names), \"2013-09-30\").head(n=15)"
      ]
    },
    {
      "cell_type": "code",
      "execution_count": 5,
      "metadata": {},
      "outputs": [],
      "source": [
        "import os\n",
        "import contextlib\n",
        "\n",
        "dfs_iip_origin = []\n",
        "for file_name in sorted(\n",
        "    os.listdir(\"../datas\"),\n",
        "    key=lambda filename: f\"{filename.split('-')[0]}-{filename.split('-')[1]}-{filename.split('-')[2]}\",\n",
        "    reverse=True,\n",
        "):\n",
        "    with contextlib.suppress(Exception):\n",
        "        file_path = os.path.join(\"../datas\", file_name)\n",
        "\n",
        "        year = int(file_name.split(\"-\")[0])\n",
        "        month = int(file_name.split(\"-\")[1])\n",
        "        day = int(file_name.split(\"-\")[2])\n",
        "\n",
        "        if year < 2014:\n",
        "            continue\n",
        "\n",
        "        xl = pd.ExcelFile(file_path)\n",
        "\n",
        "        df_iip = get_ipp_2023(\n",
        "            xl, find_sheet_name(xl.sheet_names), f\"{year}-{month}-{day}\"\n",
        "        )\n",
        "\n",
        "        dfs_iip_origin.append(df_iip)"
      ]
    },
    {
      "cell_type": "code",
      "execution_count": 6,
      "metadata": {},
      "outputs": [
        {
          "data": {
            "text/html": [
              "<div>\n",
              "<style scoped>\n",
              "    .dataframe tbody tr th:only-of-type {\n",
              "        vertical-align: middle;\n",
              "    }\n",
              "\n",
              "    .dataframe tbody tr th {\n",
              "        vertical-align: top;\n",
              "    }\n",
              "\n",
              "    .dataframe thead th {\n",
              "        text-align: right;\n",
              "    }\n",
              "</style>\n",
              "<table border=\"1\" class=\"dataframe\">\n",
              "  <thead>\n",
              "    <tr style=\"text-align: right;\">\n",
              "      <th></th>\n",
              "      <th>Ngành</th>\n",
              "      <th>MOM</th>\n",
              "      <th>YOY</th>\n",
              "      <th>YTD-YOY</th>\n",
              "      <th>Date</th>\n",
              "    </tr>\n",
              "  </thead>\n",
              "  <tbody>\n",
              "    <tr>\n",
              "      <th>0</th>\n",
              "      <td>Toàn ngành công nghiệp</td>\n",
              "      <td>0.750000</td>\n",
              "      <td>6.330000</td>\n",
              "      <td>5.990000</td>\n",
              "      <td>2024-04-29</td>\n",
              "    </tr>\n",
              "    <tr>\n",
              "      <th>1</th>\n",
              "      <td>Khai khoáng</td>\n",
              "      <td>-4.030000</td>\n",
              "      <td>-6.850000</td>\n",
              "      <td>-4.590000</td>\n",
              "      <td>2024-04-29</td>\n",
              "    </tr>\n",
              "    <tr>\n",
              "      <th>2</th>\n",
              "      <td>Khai thác than cứng và than non</td>\n",
              "      <td>-5.200000</td>\n",
              "      <td>-0.890000</td>\n",
              "      <td>-1.180000</td>\n",
              "      <td>2024-04-29</td>\n",
              "    </tr>\n",
              "    <tr>\n",
              "      <th>3</th>\n",
              "      <td>Khai thác dầu thô và khí đốt tự nhiên</td>\n",
              "      <td>-3.400000</td>\n",
              "      <td>-12.090000</td>\n",
              "      <td>-9.630000</td>\n",
              "      <td>2024-04-29</td>\n",
              "    </tr>\n",
              "    <tr>\n",
              "      <th>4</th>\n",
              "      <td>Khai thác quặng kim loại</td>\n",
              "      <td>-2.740000</td>\n",
              "      <td>22.790000</td>\n",
              "      <td>16.900000</td>\n",
              "      <td>2024-04-29</td>\n",
              "    </tr>\n",
              "    <tr>\n",
              "      <th>...</th>\n",
              "      <td>...</td>\n",
              "      <td>...</td>\n",
              "      <td>...</td>\n",
              "      <td>...</td>\n",
              "      <td>...</td>\n",
              "    </tr>\n",
              "    <tr>\n",
              "      <th>4046</th>\n",
              "      <td>Sản xuất giường, tủ, bàn, ghế</td>\n",
              "      <td>-21.023681</td>\n",
              "      <td>28.980919</td>\n",
              "      <td>9.474830</td>\n",
              "      <td>2014-02-28</td>\n",
              "    </tr>\n",
              "    <tr>\n",
              "      <th>4047</th>\n",
              "      <td>Sản xuất và phân phối điện</td>\n",
              "      <td>-7.278234</td>\n",
              "      <td>13.088683</td>\n",
              "      <td>8.535242</td>\n",
              "      <td>2014-02-28</td>\n",
              "    </tr>\n",
              "    <tr>\n",
              "      <th>4048</th>\n",
              "      <td>và xử lý rác thải, nước thải</td>\n",
              "      <td>0.587840</td>\n",
              "      <td>7.132010</td>\n",
              "      <td>5.774026</td>\n",
              "      <td>2014-02-28</td>\n",
              "    </tr>\n",
              "    <tr>\n",
              "      <th>4049</th>\n",
              "      <td>Khai thác, xử lý và cung cấp nước</td>\n",
              "      <td>-0.469821</td>\n",
              "      <td>6.713222</td>\n",
              "      <td>5.860660</td>\n",
              "      <td>2014-02-28</td>\n",
              "    </tr>\n",
              "    <tr>\n",
              "      <th>4050</th>\n",
              "      <td>HĐ thu gom, xử lý và tiêu huỷ rác thải; tái ch...</td>\n",
              "      <td>2.688770</td>\n",
              "      <td>7.947625</td>\n",
              "      <td>5.605027</td>\n",
              "      <td>2014-02-28</td>\n",
              "    </tr>\n",
              "  </tbody>\n",
              "</table>\n",
              "<p>4051 rows × 5 columns</p>\n",
              "</div>"
            ],
            "text/plain": [
              "                                                  Ngành        MOM        YOY  \\\n",
              "0                                Toàn ngành công nghiệp   0.750000   6.330000   \n",
              "1                                           Khai khoáng  -4.030000  -6.850000   \n",
              "2                       Khai thác than cứng và than non  -5.200000  -0.890000   \n",
              "3                 Khai thác dầu thô và khí đốt tự nhiên  -3.400000 -12.090000   \n",
              "4                              Khai thác quặng kim loại  -2.740000  22.790000   \n",
              "...                                                 ...        ...        ...   \n",
              "4046                      Sản xuất giường, tủ, bàn, ghế -21.023681  28.980919   \n",
              "4047                         Sản xuất và phân phối điện  -7.278234  13.088683   \n",
              "4048                       và xử lý rác thải, nước thải   0.587840   7.132010   \n",
              "4049                  Khai thác, xử lý và cung cấp nước  -0.469821   6.713222   \n",
              "4050  HĐ thu gom, xử lý và tiêu huỷ rác thải; tái ch...   2.688770   7.947625   \n",
              "\n",
              "        YTD-YOY       Date  \n",
              "0      5.990000 2024-04-29  \n",
              "1     -4.590000 2024-04-29  \n",
              "2     -1.180000 2024-04-29  \n",
              "3     -9.630000 2024-04-29  \n",
              "4     16.900000 2024-04-29  \n",
              "...         ...        ...  \n",
              "4046   9.474830 2014-02-28  \n",
              "4047   8.535242 2014-02-28  \n",
              "4048   5.774026 2014-02-28  \n",
              "4049   5.860660 2014-02-28  \n",
              "4050   5.605027 2014-02-28  \n",
              "\n",
              "[4051 rows x 5 columns]"
            ]
          },
          "execution_count": 6,
          "metadata": {},
          "output_type": "execute_result"
        }
      ],
      "source": [
        "dfs_iip = pd.concat(dfs_iip_origin, ignore_index=True, axis=0)\n",
        "dfs_iip[\"Date\"] = pd.to_datetime(dfs_iip[\"Date\"], dayfirst=False)\n",
        "dfs_iip"
      ]
    },
    {
      "cell_type": "code",
      "execution_count": 8,
      "metadata": {},
      "outputs": [
        {
          "data": {
            "text/html": [
              "<div>\n",
              "<style scoped>\n",
              "    .dataframe tbody tr th:only-of-type {\n",
              "        vertical-align: middle;\n",
              "    }\n",
              "\n",
              "    .dataframe tbody tr th {\n",
              "        vertical-align: top;\n",
              "    }\n",
              "\n",
              "    .dataframe thead th {\n",
              "        text-align: right;\n",
              "    }\n",
              "</style>\n",
              "<table border=\"1\" class=\"dataframe\">\n",
              "  <thead>\n",
              "    <tr style=\"text-align: right;\">\n",
              "      <th></th>\n",
              "      <th>Ngành</th>\n",
              "      <th>MOM</th>\n",
              "      <th>YOY</th>\n",
              "      <th>YTD-YOY</th>\n",
              "      <th>Date</th>\n",
              "    </tr>\n",
              "  </thead>\n",
              "  <tbody>\n",
              "    <tr>\n",
              "      <th>0</th>\n",
              "      <td>Toàn ngành công nghiệp</td>\n",
              "      <td>0.750000</td>\n",
              "      <td>6.330000</td>\n",
              "      <td>5.990000</td>\n",
              "      <td>2024-04-29</td>\n",
              "    </tr>\n",
              "    <tr>\n",
              "      <th>1</th>\n",
              "      <td>Khai khoáng</td>\n",
              "      <td>-4.030000</td>\n",
              "      <td>-6.850000</td>\n",
              "      <td>-4.590000</td>\n",
              "      <td>2024-04-29</td>\n",
              "    </tr>\n",
              "    <tr>\n",
              "      <th>2</th>\n",
              "      <td>Khai thác than cứng và than non</td>\n",
              "      <td>-5.200000</td>\n",
              "      <td>-0.890000</td>\n",
              "      <td>-1.180000</td>\n",
              "      <td>2024-04-29</td>\n",
              "    </tr>\n",
              "    <tr>\n",
              "      <th>3</th>\n",
              "      <td>Khai thác dầu thô và khí đốt tự nhiên</td>\n",
              "      <td>-3.400000</td>\n",
              "      <td>-12.090000</td>\n",
              "      <td>-9.630000</td>\n",
              "      <td>2024-04-29</td>\n",
              "    </tr>\n",
              "    <tr>\n",
              "      <th>4</th>\n",
              "      <td>Khai thác quặng kim loại</td>\n",
              "      <td>-2.740000</td>\n",
              "      <td>22.790000</td>\n",
              "      <td>16.900000</td>\n",
              "      <td>2024-04-29</td>\n",
              "    </tr>\n",
              "    <tr>\n",
              "      <th>...</th>\n",
              "      <td>...</td>\n",
              "      <td>...</td>\n",
              "      <td>...</td>\n",
              "      <td>...</td>\n",
              "      <td>...</td>\n",
              "    </tr>\n",
              "    <tr>\n",
              "      <th>4046</th>\n",
              "      <td>Sản xuất giường, tủ, bàn, ghế</td>\n",
              "      <td>-21.023681</td>\n",
              "      <td>28.980919</td>\n",
              "      <td>9.474830</td>\n",
              "      <td>2014-02-28</td>\n",
              "    </tr>\n",
              "    <tr>\n",
              "      <th>4047</th>\n",
              "      <td>Sản xuất và phân phối điện</td>\n",
              "      <td>-7.278234</td>\n",
              "      <td>13.088683</td>\n",
              "      <td>8.535242</td>\n",
              "      <td>2014-02-28</td>\n",
              "    </tr>\n",
              "    <tr>\n",
              "      <th>4048</th>\n",
              "      <td>Cung cấp nước; hoạt động quản lý và xử lý rác ...</td>\n",
              "      <td>0.587840</td>\n",
              "      <td>7.132010</td>\n",
              "      <td>5.774026</td>\n",
              "      <td>2014-02-28</td>\n",
              "    </tr>\n",
              "    <tr>\n",
              "      <th>4049</th>\n",
              "      <td>Khai thác, xử lý và cung cấp nước</td>\n",
              "      <td>-0.469821</td>\n",
              "      <td>6.713222</td>\n",
              "      <td>5.860660</td>\n",
              "      <td>2014-02-28</td>\n",
              "    </tr>\n",
              "    <tr>\n",
              "      <th>4050</th>\n",
              "      <td>Hoạt động thu gom, xử lý và tiêu huỷ rác thải;...</td>\n",
              "      <td>2.688770</td>\n",
              "      <td>7.947625</td>\n",
              "      <td>5.605027</td>\n",
              "      <td>2014-02-28</td>\n",
              "    </tr>\n",
              "  </tbody>\n",
              "</table>\n",
              "<p>4051 rows × 5 columns</p>\n",
              "</div>"
            ],
            "text/plain": [
              "                                                  Ngành        MOM        YOY  \\\n",
              "0                                Toàn ngành công nghiệp   0.750000   6.330000   \n",
              "1                                           Khai khoáng  -4.030000  -6.850000   \n",
              "2                       Khai thác than cứng và than non  -5.200000  -0.890000   \n",
              "3                 Khai thác dầu thô và khí đốt tự nhiên  -3.400000 -12.090000   \n",
              "4                              Khai thác quặng kim loại  -2.740000  22.790000   \n",
              "...                                                 ...        ...        ...   \n",
              "4046                      Sản xuất giường, tủ, bàn, ghế -21.023681  28.980919   \n",
              "4047                         Sản xuất và phân phối điện  -7.278234  13.088683   \n",
              "4048  Cung cấp nước; hoạt động quản lý và xử lý rác ...   0.587840   7.132010   \n",
              "4049                  Khai thác, xử lý và cung cấp nước  -0.469821   6.713222   \n",
              "4050  Hoạt động thu gom, xử lý và tiêu huỷ rác thải;...   2.688770   7.947625   \n",
              "\n",
              "        YTD-YOY       Date  \n",
              "0      5.990000 2024-04-29  \n",
              "1     -4.590000 2024-04-29  \n",
              "2     -1.180000 2024-04-29  \n",
              "3     -9.630000 2024-04-29  \n",
              "4     16.900000 2024-04-29  \n",
              "...         ...        ...  \n",
              "4046   9.474830 2014-02-28  \n",
              "4047   8.535242 2014-02-28  \n",
              "4048   5.774026 2014-02-28  \n",
              "4049   5.860660 2014-02-28  \n",
              "4050   5.605027 2014-02-28  \n",
              "\n",
              "[4051 rows x 5 columns]"
            ]
          },
          "execution_count": 8,
          "metadata": {},
          "output_type": "execute_result"
        }
      ],
      "source": [
        "convert_nganh = {\n",
        "    \"Toàn ngành công nghiệp\": \"Toàn ngành công nghiệp\",\n",
        "    \"Khai khoáng\": \"Khai khoáng\",\n",
        "    \"Khai thác than cứng và than non\": \"Khai thác than cứng và than non\",\n",
        "    \"Khai thác dầu thô và khí đốt tự nhiên\": \"Khai thác dầu thô và khí đốt tự nhiên\",\n",
        "    \"Khai thác quặng kim loại\": \"Khai thác quặng kim loại\",\n",
        "    \"Khai khoáng khác\": \"Khai khoáng khác\",\n",
        "    \"Hoạt động dịch vụ hỗ trợ khai thác mỏ và quặng\": \"Hoạt động dịch vụ hỗ trợ khai thác mỏ và quặng\",\n",
        "    \"Công nghiệp chế biến, chế tạo\": \"Công nghiệp chế biến, chế tạo\",\n",
        "    \"Sản xuất, chế biến thực phẩm\": \"Sản xuất, chế biến thực phẩm\",\n",
        "    \"Sản xuất đồ uống\": \"Sản xuất đồ uống\",\n",
        "    \"Sản xuất sản phẩm thuốc lá\": \"Sản xuất sản phẩm thuốc lá\",\n",
        "    \"Dệt\": \"Dệt\",\n",
        "    \"Sản xuất trang phục\": \"Sản xuất trang phục\",\n",
        "    \"Sản xuất da và các sản phẩm có liên quan\": \"Sản xuất da và các sản phẩm có liên quan\",\n",
        "    \"Chế biến gỗ và sản xuất sản phẩm từ gỗ, tre, nứa (trừ giường, tủ, bàn ghế); sản xuất sản phẩm từ rơm, rạ và vật liệu tết bện\": \"Chế biến gỗ và sản xuất sản phẩm từ gỗ, tre, nứa (trừ giường, tủ, bàn ghế); sản xuất sản phẩm từ rơm, rạ và vật liệu tết bện\",\n",
        "    \"Sản xuất giấy và sản phẩm từ giấy\": \"Sản xuất giấy và sản phẩm từ giấy\",\n",
        "    \"In, sao chép bản ghi các loại\": \"In, sao chép bản ghi các loại\",\n",
        "    \"Sản xuất than cốc, sản phẩm dầu mỏ tinh chế\": \"Sản xuất than cốc, sản phẩm dầu mỏ tinh chế\",\n",
        "    \"Sản xuất hoá chất và sản phẩm hoá chất\": \"Sản xuất hoá chất và sản phẩm hoá chất\",\n",
        "    \"Sản xuất thuốc, hoá dược và dược liệu\": \"Sản xuất thuốc, hoá dược và dược liệu\",\n",
        "    \"Sản xuất sản phẩm từ cao su và plastic\": \"Sản xuất sản phẩm từ cao su và plastic\",\n",
        "    \"Sản xuất sản phẩm từ khoáng phi kim loại khác\": \"Sản xuất sản phẩm từ khoáng phi kim loại khác\",\n",
        "    \"Sản xuất kim loại\": \"Sản xuất kim loại\",\n",
        "    \"Sản xuất sản phẩm từ kim loại đúc sẵn (trừ máy móc, thiết bị)\": \"Sản xuất sản phẩm từ kim loại đúc sẵn (trừ máy móc, thiết bị)\",\n",
        "    \"Sản xuất sản phẩm điện tử, máy vi tính và sản phẩm quang học\": \"Sản xuất sản phẩm điện tử, máy vi tính và sản phẩm quang học\",\n",
        "    \"Sản xuất thiết bị điện\": \"Sản xuất thiết bị điện\",\n",
        "    \"Sản xuất máy móc, thiết bị chưa được phân vào đâu\": \"Sản xuất máy móc, thiết bị chưa được phân vào đâu\",\n",
        "    \"Sản xuất xe có động cơ\": \"Sản xuất xe có động cơ\",\n",
        "    \"Sản xuất phương tiện vận tải khác\": \"Sản xuất phương tiện vận tải khác\",\n",
        "    \"Sản xuất giường, tủ, bàn, ghế\": \"Sản xuất giường, tủ, bàn, ghế\",\n",
        "    \"Công nghiệp chế biến, chế tạo khác\": \"Công nghiệp chế biến, chế tạo khác\",\n",
        "    \"Sửa chữa, bảo dưỡng và lắp đặt máy móc, thiết bị\": \"Sửa chữa, bảo dưỡng và lắp đặt máy móc, thiết bị\",\n",
        "    \"Sản xuất và phân phối điện\": \"Sản xuất và phân phối điện\",\n",
        "    \"Cung cấp nước; hoạt động quản lý và xử lý rác thải, nước thải\": \"Cung cấp nước; hoạt động quản lý và xử lý rác thải, nước thải\",\n",
        "    \"Khai thác, xử lý và cung cấp nước\": \"Khai thác, xử lý và cung cấp nước\",\n",
        "    \"Thoát nước và xử lý nước thải\": \"Thoát nước và xử lý nước thải\",\n",
        "    \"Hoạt động thu gom, xử lý và tiêu huỷ rác thải; tái chế phế liệu\": \"Hoạt động thu gom, xử lý và tiêu huỷ rác thải; tái chế phế liệu\",\n",
        "    \"Chế biến gỗ và sản xuất sản phẩm từ gỗ, tre, nứa (trừ giường, tủ, bàn, ghế); sản xuất sản phẩm từ rơm, rạ và vật liệu tết bện\": \"Chế biến gỗ và sản xuất sản phẩm từ gỗ, tre, nứa (trừ giường, tủ, bàn ghế); sản xuất sản phẩm từ rơm, rạ và vật liệu tết bện\",\n",
        "    \"Sửa chữa, bảo dưỡng và lắp đặt máy móc và thiết bị\": \"Sửa chữa, bảo dưỡng và lắp đặt máy móc, thiết bị\",\n",
        "    \"Sản xuất và phân phối điện, khí đốt, nước nóng, hơi nước và điều hòa không khí\": \"Sản xuất và phân phối điện\",\n",
        "    \"rơm, rạ và vật liệu tết bện\": \"Chế biến gỗ và sản xuất sản phẩm từ gỗ, tre, nứa (trừ giường, tủ, bàn ghế); sản xuất sản phẩm từ rơm, rạ và vật liệu tết bện\",\n",
        "    \"(trừ máy móc, thiết bị)\": \"Sản xuất sản phẩm từ kim loại đúc sẵn (trừ máy móc, thiết bị)\",\n",
        "    \"và sản phẩm quang học\": \"Sản xuất sản phẩm điện tử, máy vi tính và sản phẩm quang học\",\n",
        "    \"bàn ghế); sản xuất sản phẩm từ rơm, rạ và vật liệu tết bện\": \"Chế biến gỗ và sản xuất sản phẩm từ gỗ, tre, nứa (trừ giường, tủ, bàn ghế); sản xuất sản phẩm từ rơm, rạ và vật liệu tết bện\",\n",
        "    \"tái chế phế liệu\": \"Hoạt động thu gom, xử lý và tiêu huỷ rác thải; tái chế phế liệu\",\n",
        "    \"Sản xuất chế biến thực phẩm\": \"Sản xuất, chế biến thực phẩm\",\n",
        "    \"Sản xuất thuốc lá\": \"Sản xuất sản phẩm thuốc lá\",\n",
        "    \"Hoạt độg thu gom, xử lý và tiêu huỷ rác thải; tái chế phế liệu\": \"Hoạt động thu gom, xử lý và tiêu huỷ rác thải; tái chế phế liệu\",\n",
        "    \"TOÀN NGÀNH CÔNG NGHIỆP\": \"Toàn ngành công nghiệp\",\n",
        "    \"và xử lý rác thải, nước thải\": \"Cung cấp nước; hoạt động quản lý và xử lý rác thải, nước thải\",\n",
        "    \"HĐ thu gom, xử lý và tiêu huỷ rác thải; tái chế phế liệu\": \"Hoạt động thu gom, xử lý và tiêu huỷ rác thải; tái chế phế liệu\",\n",
        "    \"Sản xuất sản phẩm điện tử, máy vi tưnh và sản phẩm quang học\": \"Sản xuất sản phẩm điện tử, máy vi tính và sản phẩm quang học\",\n",
        "    \"Công nghiệp chế biến , chế tạo\": \"Công nghiệp chế biến, chế tạo\",\n",
        "    \"TOÀN QUỐC\": \"Toàn ngành công nghiệp\",\n",
        "}\n",
        "\n",
        "\n",
        "for pl in dfs_iip[\"Ngành\"].unique().tolist():\n",
        "    assert pl in convert_nganh.keys(), pl\n",
        "\n",
        "dfs_iip[\"Ngành\"] = dfs_iip[\"Ngành\"].map(convert_nganh)\n",
        "dfs_iip"
      ]
    },
    {
      "cell_type": "code",
      "execution_count": 9,
      "metadata": {},
      "outputs": [],
      "source": [
        "dfs_iip.to_csv('../csv/iip.csv')"
      ]
    },
    {
      "cell_type": "code",
      "execution_count": 10,
      "metadata": {},
      "outputs": [
        {
          "data": {
            "application/vnd.plotly.v1+json": {
              "config": {
                "plotlyServerURL": "https://plot.ly"
              },
              "data": [
                {
                  "fillpattern": {
                    "shape": ""
                  },
                  "hovertemplate": "Ngành=Toàn ngành công nghiệp<br>Date=%{x}<br>YTD-YOY=%{y}<extra></extra>",
                  "legendgroup": "Toàn ngành công nghiệp",
                  "line": {
                    "color": "#636efa"
                  },
                  "marker": {
                    "symbol": "circle"
                  },
                  "mode": "lines",
                  "name": "Toàn ngành công nghiệp",
                  "orientation": "v",
                  "showlegend": true,
                  "stackgroup": "1",
                  "type": "scatter",
                  "x": [
                    "2024-04-29T00:00:00",
                    "2024-03-29T00:00:00",
                    "2024-02-29T00:00:00",
                    "2024-01-29T00:00:00",
                    "2023-12-29T00:00:00",
                    "2023-11-29T00:00:00",
                    "2023-10-29T00:00:00",
                    "2023-09-29T00:00:00",
                    "2023-08-29T00:00:00",
                    "2023-07-29T00:00:00",
                    "2023-06-29T00:00:00",
                    "2023-05-29T00:00:00",
                    "2023-04-29T00:00:00",
                    "2023-03-29T00:00:00",
                    "2023-02-28T00:00:00",
                    "2023-01-29T00:00:00",
                    "2022-12-29T00:00:00",
                    "2022-11-29T00:00:00",
                    "2022-10-29T00:00:00",
                    "2022-09-29T00:00:00",
                    "2022-08-29T00:00:00",
                    "2022-07-29T00:00:00",
                    "2022-06-29T00:00:00",
                    "2022-05-29T00:00:00",
                    "2022-04-29T00:00:00",
                    "2022-03-29T00:00:00",
                    "2022-02-28T00:00:00",
                    "2022-01-29T00:00:00",
                    "2021-12-29T00:00:00",
                    "2021-11-29T00:00:00",
                    "2021-10-29T00:00:00",
                    "2021-09-29T00:00:00",
                    "2021-08-29T00:00:00",
                    "2021-07-29T00:00:00",
                    "2021-06-29T00:00:00",
                    "2021-05-29T00:00:00",
                    "2021-04-29T00:00:00",
                    "2021-03-29T00:00:00",
                    "2021-02-28T00:00:00",
                    "2021-01-29T00:00:00",
                    "2020-12-27T00:00:00",
                    "2020-11-29T00:00:00",
                    "2020-10-29T00:00:00",
                    "2020-09-29T00:00:00",
                    "2020-08-29T00:00:00",
                    "2020-07-29T00:00:00",
                    "2020-06-29T00:00:00",
                    "2020-05-29T00:00:00",
                    "2020-04-29T00:00:00",
                    "2020-03-27T00:00:00",
                    "2020-02-29T00:00:00",
                    "2020-01-29T00:00:00",
                    "2019-12-27T00:00:00",
                    "2019-11-29T00:00:00",
                    "2019-10-29T00:00:00",
                    "2019-09-28T00:00:00",
                    "2019-08-29T00:00:00",
                    "2019-07-29T00:00:00",
                    "2019-06-28T00:00:00",
                    "2019-05-27T00:00:00",
                    "2019-04-29T00:00:00",
                    "2019-03-29T00:00:00",
                    "2019-02-28T00:00:00",
                    "2019-01-29T00:00:00",
                    "2018-12-27T00:00:00",
                    "2018-11-29T00:00:00",
                    "2018-10-29T00:00:00",
                    "2018-09-28T00:00:00",
                    "2018-08-29T00:00:00",
                    "2018-07-27T00:00:00",
                    "2018-06-29T00:00:00",
                    "2018-05-29T00:00:00",
                    "2018-04-27T00:00:00",
                    "2018-03-29T00:00:00",
                    "2018-02-28T00:00:00",
                    "2018-01-29T00:00:00"
                  ],
                  "xaxis": "x",
                  "y": [
                    5.989999999999995,
                    5.670000000000002,
                    5.739999999999995,
                    -4.359999999999999,
                    1.4599999999999937,
                    1.0400934772056445,
                    0.519999999999996,
                    0.29000000000000625,
                    -0.45000000000000284,
                    -0.6700000000000017,
                    -1.2000000000000028,
                    -2.0492371237006637,
                    -1.7600000000000051,
                    -2.25,
                    -6.319999999999993,
                    -14.61,
                    7.760000000000005,
                    8.569999999999993,
                    9.00528313330743,
                    9.590000000000003,
                    9.443403952821853,
                    8.82349706297714,
                    8.734357038867614,
                    8.33793090581284,
                    7.510000000000005,
                    6.442600453324005,
                    5.3799999999999955,
                    -3.1200000000000045,
                    4.755942497366135,
                    3.6299999999999955,
                    3.3100000000000023,
                    4.140000000000001,
                    5.560000000000002,
                    7.939999999999998,
                    9.269999999999996,
                    9.920000000000002,
                    9.959999999999994,
                    5.689999999999998,
                    7.349999999999994,
                    -3.25,
                    3.3542680384358334,
                    3.0652218206755464,
                    2.7432783895820307,
                    2.3654199633350004,
                    2.1600879192040026,
                    2.552948713146762,
                    2.799999999999997,
                    0.9826444740884455,
                    1.7951235128239773,
                    5.779873709092385,
                    6.159999999999997,
                    -11.760000000000005,
                    9.108155991052229,
                    9.292296070408995,
                    9.504292172837197,
                    9.617163594361756,
                    9.5,
                    9.36035124971555,
                    9.529257369765006,
                    9.378265194969288,
                    9.200000000000003,
                    9.16174457067153,
                    9.200000000000003,
                    -3.1599999999999966,
                    10.236572870248423,
                    10.091401513760843,
                    10.387288958058988,
                    10.550186687417693,
                    11.159999999999997,
                    10.939999999999998,
                    10.480000000000004,
                    9.680000000000007,
                    11.349999999999994,
                    11.590000000000003,
                    15.170000000000002,
                    -3.4099999999999966
                  ],
                  "yaxis": "y"
                },
                {
                  "fillpattern": {
                    "shape": ""
                  },
                  "hovertemplate": "Ngành=Khai khoáng<br>Date=%{x}<br>YTD-YOY=%{y}<extra></extra>",
                  "legendgroup": "Khai khoáng",
                  "line": {
                    "color": "#EF553B"
                  },
                  "marker": {
                    "symbol": "circle"
                  },
                  "mode": "lines",
                  "name": "Khai khoáng",
                  "orientation": "v",
                  "showlegend": true,
                  "stackgroup": "1",
                  "type": "scatter",
                  "x": [
                    "2024-04-29T00:00:00",
                    "2024-03-29T00:00:00",
                    "2024-02-29T00:00:00",
                    "2024-01-29T00:00:00",
                    "2023-12-29T00:00:00",
                    "2023-11-29T00:00:00",
                    "2023-10-29T00:00:00",
                    "2023-09-29T00:00:00",
                    "2023-08-29T00:00:00",
                    "2023-07-29T00:00:00",
                    "2023-06-29T00:00:00",
                    "2023-05-29T00:00:00",
                    "2023-04-29T00:00:00",
                    "2023-03-29T00:00:00",
                    "2023-02-28T00:00:00",
                    "2023-01-29T00:00:00",
                    "2022-12-29T00:00:00",
                    "2022-11-29T00:00:00",
                    "2022-10-29T00:00:00",
                    "2022-09-29T00:00:00",
                    "2022-08-29T00:00:00",
                    "2022-07-29T00:00:00",
                    "2022-06-29T00:00:00",
                    "2022-05-29T00:00:00",
                    "2022-04-29T00:00:00",
                    "2022-03-29T00:00:00",
                    "2022-02-28T00:00:00",
                    "2022-01-29T00:00:00",
                    "2021-12-29T00:00:00",
                    "2021-11-29T00:00:00",
                    "2021-10-29T00:00:00",
                    "2021-09-29T00:00:00",
                    "2021-08-29T00:00:00",
                    "2021-07-29T00:00:00",
                    "2021-06-29T00:00:00",
                    "2021-05-29T00:00:00",
                    "2021-04-29T00:00:00",
                    "2021-03-29T00:00:00",
                    "2021-02-28T00:00:00",
                    "2021-01-29T00:00:00",
                    "2020-12-27T00:00:00",
                    "2020-11-29T00:00:00",
                    "2020-10-29T00:00:00",
                    "2020-09-29T00:00:00",
                    "2020-08-29T00:00:00",
                    "2020-07-29T00:00:00",
                    "2020-06-29T00:00:00",
                    "2020-05-29T00:00:00",
                    "2020-04-29T00:00:00",
                    "2020-03-27T00:00:00",
                    "2020-02-29T00:00:00",
                    "2020-01-29T00:00:00",
                    "2019-12-27T00:00:00",
                    "2019-11-29T00:00:00",
                    "2019-10-29T00:00:00",
                    "2019-09-28T00:00:00",
                    "2019-08-29T00:00:00",
                    "2019-07-29T00:00:00",
                    "2019-06-28T00:00:00",
                    "2019-05-27T00:00:00",
                    "2019-04-29T00:00:00",
                    "2019-03-29T00:00:00",
                    "2019-02-28T00:00:00",
                    "2019-01-29T00:00:00",
                    "2018-12-27T00:00:00",
                    "2018-11-29T00:00:00",
                    "2018-10-29T00:00:00",
                    "2018-09-28T00:00:00",
                    "2018-08-29T00:00:00",
                    "2018-07-27T00:00:00",
                    "2018-06-29T00:00:00",
                    "2018-05-29T00:00:00",
                    "2018-04-27T00:00:00",
                    "2018-03-29T00:00:00",
                    "2018-02-28T00:00:00",
                    "2018-01-29T00:00:00"
                  ],
                  "xaxis": "x",
                  "y": [
                    -4.590000000000003,
                    -4.1299999999999955,
                    -3.489999999999995,
                    3.8400000000000034,
                    -3.9000000000000057,
                    -2.780000000000001,
                    -3.1599999999999966,
                    -3.010000000000005,
                    -2.5,
                    -1.1800000000000068,
                    -1.6700000000000017,
                    -3.549999999999997,
                    -2.7900000000000063,
                    -4.450000000000003,
                    -3.760000000000005,
                    -10.730000000000004,
                    5.450000000000003,
                    6.469999999999999,
                    5.040000000000006,
                    5.040000000000006,
                    4.219999999999999,
                    3.6400000000000006,
                    3.930000000000007,
                    4.1299999999999955,
                    2.6299999999999955,
                    1,
                    -2.780000000000001,
                    -12.980000000000004,
                    -5.810000000000002,
                    -6.010000000000005,
                    -6.969999999999999,
                    -6.3700000000000045,
                    -6.239999999999995,
                    -6.299999999999997,
                    -6,
                    -6.989999999999995,
                    -5.659999999999997,
                    -8.230000000000004,
                    -11,
                    -9.769999999999996,
                    -7.810000000000002,
                    -7.1299999999999955,
                    -8.11,
                    -7.400000000000006,
                    -6.959999999999994,
                    -7.810000000000002,
                    -7.8700000000000045,
                    -8.069999999999993,
                    -6.819999999999993,
                    -5.219999999999999,
                    -3.739999999999995,
                    -7.920000000000002,
                    0.8700000000000045,
                    0.8499999999999943,
                    1.1599999999999966,
                    1.2999999999999972,
                    2.469999999999999,
                    1.1200000000000045,
                    1.2000000000000028,
                    -0.14000000000000057,
                    -0.030000000000001137,
                    -2.1200000000000045,
                    -4.709999999999994,
                    -0.5300000000000011,
                    -1.9899999999999949,
                    -2.049999999999997,
                    -2.6099999999999994,
                    -1.9699999999999989,
                    -0.29000000000000625,
                    -0.5300000000000011,
                    -1.269999999999996,
                    -2.25,
                    -1.1899999999999977,
                    0.37999999999999545,
                    5.719999999999999,
                    -0.6899999999999977
                  ],
                  "yaxis": "y"
                },
                {
                  "fillpattern": {
                    "shape": ""
                  },
                  "hovertemplate": "Ngành=Công nghiệp chế biến, chế tạo<br>Date=%{x}<br>YTD-YOY=%{y}<extra></extra>",
                  "legendgroup": "Công nghiệp chế biến, chế tạo",
                  "line": {
                    "color": "#00cc96"
                  },
                  "marker": {
                    "symbol": "circle"
                  },
                  "mode": "lines",
                  "name": "Công nghiệp chế biến, chế tạo",
                  "orientation": "v",
                  "showlegend": true,
                  "stackgroup": "1",
                  "type": "scatter",
                  "x": [
                    "2024-04-29T00:00:00",
                    "2024-03-29T00:00:00",
                    "2024-02-29T00:00:00",
                    "2024-01-29T00:00:00",
                    "2023-12-29T00:00:00",
                    "2023-11-29T00:00:00",
                    "2023-10-29T00:00:00",
                    "2023-09-29T00:00:00",
                    "2023-08-29T00:00:00",
                    "2023-07-29T00:00:00",
                    "2023-06-29T00:00:00",
                    "2023-05-29T00:00:00",
                    "2023-04-29T00:00:00",
                    "2023-03-29T00:00:00",
                    "2023-02-28T00:00:00",
                    "2023-01-29T00:00:00",
                    "2022-12-29T00:00:00",
                    "2022-11-29T00:00:00",
                    "2022-10-29T00:00:00",
                    "2022-09-29T00:00:00",
                    "2022-08-29T00:00:00",
                    "2022-07-29T00:00:00",
                    "2022-06-29T00:00:00",
                    "2022-05-29T00:00:00",
                    "2022-04-29T00:00:00",
                    "2022-03-29T00:00:00",
                    "2022-02-28T00:00:00",
                    "2022-01-29T00:00:00",
                    "2021-12-29T00:00:00",
                    "2021-11-29T00:00:00",
                    "2021-10-29T00:00:00",
                    "2021-09-29T00:00:00",
                    "2021-08-29T00:00:00",
                    "2021-07-29T00:00:00",
                    "2021-06-29T00:00:00",
                    "2021-05-29T00:00:00",
                    "2021-04-29T00:00:00",
                    "2021-03-29T00:00:00",
                    "2021-02-28T00:00:00",
                    "2021-01-29T00:00:00",
                    "2020-12-27T00:00:00",
                    "2020-11-29T00:00:00",
                    "2020-10-29T00:00:00",
                    "2020-09-29T00:00:00",
                    "2020-08-29T00:00:00",
                    "2020-07-29T00:00:00",
                    "2020-06-29T00:00:00",
                    "2020-05-29T00:00:00",
                    "2020-04-29T00:00:00",
                    "2020-03-27T00:00:00",
                    "2020-02-29T00:00:00",
                    "2020-01-29T00:00:00",
                    "2019-12-27T00:00:00",
                    "2019-11-29T00:00:00",
                    "2019-10-29T00:00:00",
                    "2019-09-28T00:00:00",
                    "2019-08-29T00:00:00",
                    "2019-07-29T00:00:00",
                    "2019-06-28T00:00:00",
                    "2019-05-27T00:00:00",
                    "2019-04-29T00:00:00",
                    "2019-03-29T00:00:00",
                    "2019-02-28T00:00:00",
                    "2019-01-29T00:00:00",
                    "2018-12-27T00:00:00",
                    "2018-11-29T00:00:00",
                    "2018-10-29T00:00:00",
                    "2018-09-28T00:00:00",
                    "2018-08-29T00:00:00",
                    "2018-07-27T00:00:00",
                    "2018-06-29T00:00:00",
                    "2018-05-29T00:00:00",
                    "2018-04-27T00:00:00",
                    "2018-03-29T00:00:00",
                    "2018-02-28T00:00:00",
                    "2018-01-29T00:00:00"
                  ],
                  "xaxis": "x",
                  "y": [
                    6.280000000000001,
                    5.8799999999999955,
                    5.920000000000002,
                    -4.840000000000003,
                    1.6299999999999955,
                    1.0536910142256204,
                    0.519999999999996,
                    0.2117315276429963,
                    -0.6500000000000057,
                    -1.0499999999999972,
                    -1.5999999999999943,
                    -2.4547083390668405,
                    -2.0799999999999983,
                    -2.3700000000000045,
                    -6.8700000000000045,
                    -16.049999999999997,
                    8.040000000000006,
                    8.920000000000002,
                    9.579999999999998,
                    10.36,
                    10.389032791831596,
                    9.734050833978472,
                    9.655909983239951,
                    9.24214297302045,
                    8.279983862733218,
                    7.043996693571998,
                    6.1200000000000045,
                    -2.180000000000007,
                    6.009941313822992,
                    4.780000000000001,
                    4.489999999999995,
                    5.469999999999999,
                    7.010000000000005,
                    9.920000000000002,
                    11.549999999999997,
                    12.590000000000003,
                    12.689999999999998,
                    8.040000000000006,
                    10.349999999999994,
                    -3.1200000000000045,
                    4.930000000000007,
                    4.700000000000003,
                    4.213336711953687,
                    3.7923869483220045,
                    3.679170889942114,
                    4.216195302790865,
                    4.599999999999994,
                    2.242889995189998,
                    3.0090000000000003,
                    7.246842400000006,
                    7.349999999999994,
                    -12.849999999999994,
                    10.449700000000007,
                    10.609233636363996,
                    10.812399999999997,
                    10.840000000000003,
                    10.599999999999994,
                    10.709999999999994,
                    10.790000000000006,
                    10.879999999999995,
                    10.900000000000006,
                    11.099999999999994,
                    11.5,
                    -2.8599999999999994,
                    12.340000000000003,
                    12.239999999999995,
                    12.709999999999994,
                    12.870000000000005,
                    13.299999999999997,
                    13.079999999999998,
                    12.689999999999998,
                    11.799999999999997,
                    13.969999999999999,
                    13.920000000000002,
                    17.689999999999998,
                    -4.180000000000007
                  ],
                  "yaxis": "y"
                },
                {
                  "fillpattern": {
                    "shape": ""
                  },
                  "hovertemplate": "Ngành=Sản xuất và phân phối điện<br>Date=%{x}<br>YTD-YOY=%{y}<extra></extra>",
                  "legendgroup": "Sản xuất và phân phối điện",
                  "line": {
                    "color": "#ab63fa"
                  },
                  "marker": {
                    "symbol": "circle"
                  },
                  "mode": "lines",
                  "name": "Sản xuất và phân phối điện",
                  "orientation": "v",
                  "showlegend": true,
                  "stackgroup": "1",
                  "type": "scatter",
                  "x": [
                    "2024-04-29T00:00:00",
                    "2024-03-29T00:00:00",
                    "2024-02-29T00:00:00",
                    "2024-01-29T00:00:00",
                    "2023-12-29T00:00:00",
                    "2023-11-29T00:00:00",
                    "2023-10-29T00:00:00",
                    "2023-09-29T00:00:00",
                    "2023-08-29T00:00:00",
                    "2023-07-29T00:00:00",
                    "2023-06-29T00:00:00",
                    "2023-05-29T00:00:00",
                    "2023-04-29T00:00:00",
                    "2023-03-29T00:00:00",
                    "2023-02-28T00:00:00",
                    "2023-01-29T00:00:00",
                    "2022-12-29T00:00:00",
                    "2022-11-29T00:00:00",
                    "2022-10-29T00:00:00",
                    "2022-09-29T00:00:00",
                    "2022-08-29T00:00:00",
                    "2022-07-29T00:00:00",
                    "2022-06-29T00:00:00",
                    "2022-05-29T00:00:00",
                    "2022-04-29T00:00:00",
                    "2022-03-29T00:00:00",
                    "2022-02-28T00:00:00",
                    "2022-01-29T00:00:00",
                    "2021-12-29T00:00:00",
                    "2021-11-29T00:00:00",
                    "2021-10-29T00:00:00",
                    "2021-09-29T00:00:00",
                    "2021-08-29T00:00:00",
                    "2021-07-29T00:00:00",
                    "2021-06-29T00:00:00",
                    "2021-05-29T00:00:00",
                    "2021-04-29T00:00:00",
                    "2021-03-29T00:00:00",
                    "2021-02-28T00:00:00",
                    "2021-01-29T00:00:00",
                    "2020-12-27T00:00:00",
                    "2020-11-29T00:00:00",
                    "2020-10-29T00:00:00",
                    "2020-09-29T00:00:00",
                    "2020-08-29T00:00:00",
                    "2020-07-29T00:00:00",
                    "2020-06-29T00:00:00",
                    "2020-05-29T00:00:00",
                    "2020-04-29T00:00:00",
                    "2020-03-27T00:00:00",
                    "2020-02-29T00:00:00",
                    "2020-01-29T00:00:00",
                    "2019-12-27T00:00:00",
                    "2019-11-29T00:00:00",
                    "2019-10-29T00:00:00",
                    "2019-09-28T00:00:00",
                    "2019-08-29T00:00:00",
                    "2019-07-29T00:00:00",
                    "2019-06-28T00:00:00",
                    "2019-05-27T00:00:00",
                    "2019-04-29T00:00:00",
                    "2019-03-29T00:00:00",
                    "2019-02-28T00:00:00",
                    "2019-01-29T00:00:00",
                    "2018-12-27T00:00:00",
                    "2018-11-29T00:00:00",
                    "2018-10-29T00:00:00",
                    "2018-09-28T00:00:00",
                    "2018-08-29T00:00:00",
                    "2018-07-27T00:00:00",
                    "2018-06-29T00:00:00",
                    "2018-05-29T00:00:00",
                    "2018-04-27T00:00:00",
                    "2018-03-29T00:00:00",
                    "2018-02-28T00:00:00",
                    "2018-01-29T00:00:00"
                  ],
                  "xaxis": "x",
                  "y": [
                    12.290000000000006,
                    12.129999999999995,
                    12.180000000000007,
                    -6.25,
                    3.510000000000005,
                    3.200000000000003,
                    2.5799999999999983,
                    2.5799999999999983,
                    1.7199999999999989,
                    1.3499999999999943,
                    1.5,
                    0.8199999999999932,
                    0.45000000000000284,
                    -0.9899999999999949,
                    -5.159999999999997,
                    -6.560000000000002,
                    7.019999999999996,
                    7.680000000000007,
                    7.840000000000003,
                    7.540000000000006,
                    6.799999999999997,
                    6.349999999999994,
                    6.030000000000001,
                    5.519999999999996,
                    6.579999999999998,
                    7.099999999999994,
                    6.489999999999995,
                    -1.3799999999999955,
                    4.933416666666687,
                    3.769999999999996,
                    4.069999999999993,
                    4.340000000000003,
                    6.6200000000000045,
                    8.219999999999999,
                    8.599999999999994,
                    8.329999999999998,
                    6.549999999999997,
                    2.530000000000001,
                    4.25,
                    1.0400000000000063,
                    3.069999999999993,
                    3.230000000000004,
                    3.2099999999999937,
                    2.7900000000000063,
                    1.9899999999999949,
                    2.0999999999999943,
                    2.0400000000000063,
                    2.5900000000000034,
                    2.9099999999999966,
                    7.079999999999998,
                    8.379999999999995,
                    -7.680000000000007,
                    8.730000000000004,
                    9.5,
                    9.879999999999995,
                    10.230000000000004,
                    10.209999999999994,
                    10.019999999999996,
                    9.75,
                    10.329999999999998,
                    9.159999999999997,
                    9.409999999999997,
                    9.469999999999999,
                    -8.019999999999996,
                    10,
                    9.560000000000002,
                    9.64,
                    9.700000000000003,
                    10.439999999999998,
                    10.730000000000004,
                    10.36,
                    10.549999999999997,
                    9.709999999999994,
                    10.480000000000004,
                    11.209999999999994,
                    -0.23000000000000398
                  ],
                  "yaxis": "y"
                }
              ],
              "layout": {
                "legend": {
                  "title": {
                    "text": "Ngành"
                  },
                  "tracegroupgap": 0
                },
                "margin": {
                  "t": 60
                },
                "template": {
                  "data": {
                    "bar": [
                      {
                        "error_x": {
                          "color": "#2a3f5f"
                        },
                        "error_y": {
                          "color": "#2a3f5f"
                        },
                        "marker": {
                          "line": {
                            "color": "#E5ECF6",
                            "width": 0.5
                          },
                          "pattern": {
                            "fillmode": "overlay",
                            "size": 10,
                            "solidity": 0.2
                          }
                        },
                        "type": "bar"
                      }
                    ],
                    "barpolar": [
                      {
                        "marker": {
                          "line": {
                            "color": "#E5ECF6",
                            "width": 0.5
                          },
                          "pattern": {
                            "fillmode": "overlay",
                            "size": 10,
                            "solidity": 0.2
                          }
                        },
                        "type": "barpolar"
                      }
                    ],
                    "carpet": [
                      {
                        "aaxis": {
                          "endlinecolor": "#2a3f5f",
                          "gridcolor": "white",
                          "linecolor": "white",
                          "minorgridcolor": "white",
                          "startlinecolor": "#2a3f5f"
                        },
                        "baxis": {
                          "endlinecolor": "#2a3f5f",
                          "gridcolor": "white",
                          "linecolor": "white",
                          "minorgridcolor": "white",
                          "startlinecolor": "#2a3f5f"
                        },
                        "type": "carpet"
                      }
                    ],
                    "choropleth": [
                      {
                        "colorbar": {
                          "outlinewidth": 0,
                          "ticks": ""
                        },
                        "type": "choropleth"
                      }
                    ],
                    "contour": [
                      {
                        "colorbar": {
                          "outlinewidth": 0,
                          "ticks": ""
                        },
                        "colorscale": [
                          [
                            0,
                            "#0d0887"
                          ],
                          [
                            0.1111111111111111,
                            "#46039f"
                          ],
                          [
                            0.2222222222222222,
                            "#7201a8"
                          ],
                          [
                            0.3333333333333333,
                            "#9c179e"
                          ],
                          [
                            0.4444444444444444,
                            "#bd3786"
                          ],
                          [
                            0.5555555555555556,
                            "#d8576b"
                          ],
                          [
                            0.6666666666666666,
                            "#ed7953"
                          ],
                          [
                            0.7777777777777778,
                            "#fb9f3a"
                          ],
                          [
                            0.8888888888888888,
                            "#fdca26"
                          ],
                          [
                            1,
                            "#f0f921"
                          ]
                        ],
                        "type": "contour"
                      }
                    ],
                    "contourcarpet": [
                      {
                        "colorbar": {
                          "outlinewidth": 0,
                          "ticks": ""
                        },
                        "type": "contourcarpet"
                      }
                    ],
                    "heatmap": [
                      {
                        "colorbar": {
                          "outlinewidth": 0,
                          "ticks": ""
                        },
                        "colorscale": [
                          [
                            0,
                            "#0d0887"
                          ],
                          [
                            0.1111111111111111,
                            "#46039f"
                          ],
                          [
                            0.2222222222222222,
                            "#7201a8"
                          ],
                          [
                            0.3333333333333333,
                            "#9c179e"
                          ],
                          [
                            0.4444444444444444,
                            "#bd3786"
                          ],
                          [
                            0.5555555555555556,
                            "#d8576b"
                          ],
                          [
                            0.6666666666666666,
                            "#ed7953"
                          ],
                          [
                            0.7777777777777778,
                            "#fb9f3a"
                          ],
                          [
                            0.8888888888888888,
                            "#fdca26"
                          ],
                          [
                            1,
                            "#f0f921"
                          ]
                        ],
                        "type": "heatmap"
                      }
                    ],
                    "heatmapgl": [
                      {
                        "colorbar": {
                          "outlinewidth": 0,
                          "ticks": ""
                        },
                        "colorscale": [
                          [
                            0,
                            "#0d0887"
                          ],
                          [
                            0.1111111111111111,
                            "#46039f"
                          ],
                          [
                            0.2222222222222222,
                            "#7201a8"
                          ],
                          [
                            0.3333333333333333,
                            "#9c179e"
                          ],
                          [
                            0.4444444444444444,
                            "#bd3786"
                          ],
                          [
                            0.5555555555555556,
                            "#d8576b"
                          ],
                          [
                            0.6666666666666666,
                            "#ed7953"
                          ],
                          [
                            0.7777777777777778,
                            "#fb9f3a"
                          ],
                          [
                            0.8888888888888888,
                            "#fdca26"
                          ],
                          [
                            1,
                            "#f0f921"
                          ]
                        ],
                        "type": "heatmapgl"
                      }
                    ],
                    "histogram": [
                      {
                        "marker": {
                          "pattern": {
                            "fillmode": "overlay",
                            "size": 10,
                            "solidity": 0.2
                          }
                        },
                        "type": "histogram"
                      }
                    ],
                    "histogram2d": [
                      {
                        "colorbar": {
                          "outlinewidth": 0,
                          "ticks": ""
                        },
                        "colorscale": [
                          [
                            0,
                            "#0d0887"
                          ],
                          [
                            0.1111111111111111,
                            "#46039f"
                          ],
                          [
                            0.2222222222222222,
                            "#7201a8"
                          ],
                          [
                            0.3333333333333333,
                            "#9c179e"
                          ],
                          [
                            0.4444444444444444,
                            "#bd3786"
                          ],
                          [
                            0.5555555555555556,
                            "#d8576b"
                          ],
                          [
                            0.6666666666666666,
                            "#ed7953"
                          ],
                          [
                            0.7777777777777778,
                            "#fb9f3a"
                          ],
                          [
                            0.8888888888888888,
                            "#fdca26"
                          ],
                          [
                            1,
                            "#f0f921"
                          ]
                        ],
                        "type": "histogram2d"
                      }
                    ],
                    "histogram2dcontour": [
                      {
                        "colorbar": {
                          "outlinewidth": 0,
                          "ticks": ""
                        },
                        "colorscale": [
                          [
                            0,
                            "#0d0887"
                          ],
                          [
                            0.1111111111111111,
                            "#46039f"
                          ],
                          [
                            0.2222222222222222,
                            "#7201a8"
                          ],
                          [
                            0.3333333333333333,
                            "#9c179e"
                          ],
                          [
                            0.4444444444444444,
                            "#bd3786"
                          ],
                          [
                            0.5555555555555556,
                            "#d8576b"
                          ],
                          [
                            0.6666666666666666,
                            "#ed7953"
                          ],
                          [
                            0.7777777777777778,
                            "#fb9f3a"
                          ],
                          [
                            0.8888888888888888,
                            "#fdca26"
                          ],
                          [
                            1,
                            "#f0f921"
                          ]
                        ],
                        "type": "histogram2dcontour"
                      }
                    ],
                    "mesh3d": [
                      {
                        "colorbar": {
                          "outlinewidth": 0,
                          "ticks": ""
                        },
                        "type": "mesh3d"
                      }
                    ],
                    "parcoords": [
                      {
                        "line": {
                          "colorbar": {
                            "outlinewidth": 0,
                            "ticks": ""
                          }
                        },
                        "type": "parcoords"
                      }
                    ],
                    "pie": [
                      {
                        "automargin": true,
                        "type": "pie"
                      }
                    ],
                    "scatter": [
                      {
                        "fillpattern": {
                          "fillmode": "overlay",
                          "size": 10,
                          "solidity": 0.2
                        },
                        "type": "scatter"
                      }
                    ],
                    "scatter3d": [
                      {
                        "line": {
                          "colorbar": {
                            "outlinewidth": 0,
                            "ticks": ""
                          }
                        },
                        "marker": {
                          "colorbar": {
                            "outlinewidth": 0,
                            "ticks": ""
                          }
                        },
                        "type": "scatter3d"
                      }
                    ],
                    "scattercarpet": [
                      {
                        "marker": {
                          "colorbar": {
                            "outlinewidth": 0,
                            "ticks": ""
                          }
                        },
                        "type": "scattercarpet"
                      }
                    ],
                    "scattergeo": [
                      {
                        "marker": {
                          "colorbar": {
                            "outlinewidth": 0,
                            "ticks": ""
                          }
                        },
                        "type": "scattergeo"
                      }
                    ],
                    "scattergl": [
                      {
                        "marker": {
                          "colorbar": {
                            "outlinewidth": 0,
                            "ticks": ""
                          }
                        },
                        "type": "scattergl"
                      }
                    ],
                    "scattermapbox": [
                      {
                        "marker": {
                          "colorbar": {
                            "outlinewidth": 0,
                            "ticks": ""
                          }
                        },
                        "type": "scattermapbox"
                      }
                    ],
                    "scatterpolar": [
                      {
                        "marker": {
                          "colorbar": {
                            "outlinewidth": 0,
                            "ticks": ""
                          }
                        },
                        "type": "scatterpolar"
                      }
                    ],
                    "scatterpolargl": [
                      {
                        "marker": {
                          "colorbar": {
                            "outlinewidth": 0,
                            "ticks": ""
                          }
                        },
                        "type": "scatterpolargl"
                      }
                    ],
                    "scatterternary": [
                      {
                        "marker": {
                          "colorbar": {
                            "outlinewidth": 0,
                            "ticks": ""
                          }
                        },
                        "type": "scatterternary"
                      }
                    ],
                    "surface": [
                      {
                        "colorbar": {
                          "outlinewidth": 0,
                          "ticks": ""
                        },
                        "colorscale": [
                          [
                            0,
                            "#0d0887"
                          ],
                          [
                            0.1111111111111111,
                            "#46039f"
                          ],
                          [
                            0.2222222222222222,
                            "#7201a8"
                          ],
                          [
                            0.3333333333333333,
                            "#9c179e"
                          ],
                          [
                            0.4444444444444444,
                            "#bd3786"
                          ],
                          [
                            0.5555555555555556,
                            "#d8576b"
                          ],
                          [
                            0.6666666666666666,
                            "#ed7953"
                          ],
                          [
                            0.7777777777777778,
                            "#fb9f3a"
                          ],
                          [
                            0.8888888888888888,
                            "#fdca26"
                          ],
                          [
                            1,
                            "#f0f921"
                          ]
                        ],
                        "type": "surface"
                      }
                    ],
                    "table": [
                      {
                        "cells": {
                          "fill": {
                            "color": "#EBF0F8"
                          },
                          "line": {
                            "color": "white"
                          }
                        },
                        "header": {
                          "fill": {
                            "color": "#C8D4E3"
                          },
                          "line": {
                            "color": "white"
                          }
                        },
                        "type": "table"
                      }
                    ]
                  },
                  "layout": {
                    "annotationdefaults": {
                      "arrowcolor": "#2a3f5f",
                      "arrowhead": 0,
                      "arrowwidth": 1
                    },
                    "autotypenumbers": "strict",
                    "coloraxis": {
                      "colorbar": {
                        "outlinewidth": 0,
                        "ticks": ""
                      }
                    },
                    "colorscale": {
                      "diverging": [
                        [
                          0,
                          "#8e0152"
                        ],
                        [
                          0.1,
                          "#c51b7d"
                        ],
                        [
                          0.2,
                          "#de77ae"
                        ],
                        [
                          0.3,
                          "#f1b6da"
                        ],
                        [
                          0.4,
                          "#fde0ef"
                        ],
                        [
                          0.5,
                          "#f7f7f7"
                        ],
                        [
                          0.6,
                          "#e6f5d0"
                        ],
                        [
                          0.7,
                          "#b8e186"
                        ],
                        [
                          0.8,
                          "#7fbc41"
                        ],
                        [
                          0.9,
                          "#4d9221"
                        ],
                        [
                          1,
                          "#276419"
                        ]
                      ],
                      "sequential": [
                        [
                          0,
                          "#0d0887"
                        ],
                        [
                          0.1111111111111111,
                          "#46039f"
                        ],
                        [
                          0.2222222222222222,
                          "#7201a8"
                        ],
                        [
                          0.3333333333333333,
                          "#9c179e"
                        ],
                        [
                          0.4444444444444444,
                          "#bd3786"
                        ],
                        [
                          0.5555555555555556,
                          "#d8576b"
                        ],
                        [
                          0.6666666666666666,
                          "#ed7953"
                        ],
                        [
                          0.7777777777777778,
                          "#fb9f3a"
                        ],
                        [
                          0.8888888888888888,
                          "#fdca26"
                        ],
                        [
                          1,
                          "#f0f921"
                        ]
                      ],
                      "sequentialminus": [
                        [
                          0,
                          "#0d0887"
                        ],
                        [
                          0.1111111111111111,
                          "#46039f"
                        ],
                        [
                          0.2222222222222222,
                          "#7201a8"
                        ],
                        [
                          0.3333333333333333,
                          "#9c179e"
                        ],
                        [
                          0.4444444444444444,
                          "#bd3786"
                        ],
                        [
                          0.5555555555555556,
                          "#d8576b"
                        ],
                        [
                          0.6666666666666666,
                          "#ed7953"
                        ],
                        [
                          0.7777777777777778,
                          "#fb9f3a"
                        ],
                        [
                          0.8888888888888888,
                          "#fdca26"
                        ],
                        [
                          1,
                          "#f0f921"
                        ]
                      ]
                    },
                    "colorway": [
                      "#636efa",
                      "#EF553B",
                      "#00cc96",
                      "#ab63fa",
                      "#FFA15A",
                      "#19d3f3",
                      "#FF6692",
                      "#B6E880",
                      "#FF97FF",
                      "#FECB52"
                    ],
                    "font": {
                      "color": "#2a3f5f"
                    },
                    "geo": {
                      "bgcolor": "white",
                      "lakecolor": "white",
                      "landcolor": "#E5ECF6",
                      "showlakes": true,
                      "showland": true,
                      "subunitcolor": "white"
                    },
                    "hoverlabel": {
                      "align": "left"
                    },
                    "hovermode": "closest",
                    "mapbox": {
                      "style": "light"
                    },
                    "paper_bgcolor": "white",
                    "plot_bgcolor": "#E5ECF6",
                    "polar": {
                      "angularaxis": {
                        "gridcolor": "white",
                        "linecolor": "white",
                        "ticks": ""
                      },
                      "bgcolor": "#E5ECF6",
                      "radialaxis": {
                        "gridcolor": "white",
                        "linecolor": "white",
                        "ticks": ""
                      }
                    },
                    "scene": {
                      "xaxis": {
                        "backgroundcolor": "#E5ECF6",
                        "gridcolor": "white",
                        "gridwidth": 2,
                        "linecolor": "white",
                        "showbackground": true,
                        "ticks": "",
                        "zerolinecolor": "white"
                      },
                      "yaxis": {
                        "backgroundcolor": "#E5ECF6",
                        "gridcolor": "white",
                        "gridwidth": 2,
                        "linecolor": "white",
                        "showbackground": true,
                        "ticks": "",
                        "zerolinecolor": "white"
                      },
                      "zaxis": {
                        "backgroundcolor": "#E5ECF6",
                        "gridcolor": "white",
                        "gridwidth": 2,
                        "linecolor": "white",
                        "showbackground": true,
                        "ticks": "",
                        "zerolinecolor": "white"
                      }
                    },
                    "shapedefaults": {
                      "line": {
                        "color": "#2a3f5f"
                      }
                    },
                    "ternary": {
                      "aaxis": {
                        "gridcolor": "white",
                        "linecolor": "white",
                        "ticks": ""
                      },
                      "baxis": {
                        "gridcolor": "white",
                        "linecolor": "white",
                        "ticks": ""
                      },
                      "bgcolor": "#E5ECF6",
                      "caxis": {
                        "gridcolor": "white",
                        "linecolor": "white",
                        "ticks": ""
                      }
                    },
                    "title": {
                      "x": 0.05
                    },
                    "xaxis": {
                      "automargin": true,
                      "gridcolor": "white",
                      "linecolor": "white",
                      "ticks": "",
                      "title": {
                        "standoff": 15
                      },
                      "zerolinecolor": "white",
                      "zerolinewidth": 2
                    },
                    "yaxis": {
                      "automargin": true,
                      "gridcolor": "white",
                      "linecolor": "white",
                      "ticks": "",
                      "title": {
                        "standoff": 15
                      },
                      "zerolinecolor": "white",
                      "zerolinewidth": 2
                    }
                  }
                },
                "xaxis": {
                  "anchor": "y",
                  "domain": [
                    0,
                    1
                  ],
                  "rangeselector": {
                    "buttons": [
                      {
                        "count": 1,
                        "label": "YTD",
                        "step": "year",
                        "stepmode": "todate"
                      },
                      {
                        "count": 1,
                        "label": "1y",
                        "step": "year",
                        "stepmode": "backward"
                      },
                      {
                        "count": 3,
                        "label": "3y",
                        "step": "year",
                        "stepmode": "backward"
                      },
                      {
                        "count": 5,
                        "label": "5y",
                        "step": "year",
                        "stepmode": "backward"
                      },
                      {
                        "count": 7,
                        "label": "7y",
                        "step": "year",
                        "stepmode": "backward"
                      },
                      {
                        "count": 10,
                        "label": "10y",
                        "step": "year",
                        "stepmode": "backward"
                      },
                      {
                        "step": "all"
                      }
                    ]
                  },
                  "rangeslider": {
                    "visible": true
                  },
                  "title": {
                    "text": "Date"
                  }
                },
                "yaxis": {
                  "anchor": "x",
                  "domain": [
                    0,
                    1
                  ],
                  "title": {
                    "text": "YTD-YOY"
                  }
                }
              }
            }
          },
          "metadata": {},
          "output_type": "display_data"
        }
      ],
      "source": [
        "import pandas as pd\n",
        "import plotly.express as px\n",
        "import plotly.graph_objects as go\n",
        "\n",
        "df_show = dfs_iip[\n",
        "    (\n",
        "        (dfs_iip[\"Ngành\"] == \"Toàn ngành công nghiệp\")\n",
        "        | (dfs_iip[\"Ngành\"] == \"Khai khoáng\")\n",
        "        | (dfs_iip[\"Ngành\"] == \"Công nghiệp chế biến, chế tạo\")\n",
        "        | (dfs_iip[\"Ngành\"] == \"Sản xuất và phân phối điện\")\n",
        "    )\n",
        "    & (dfs_iip[\"Date\"] > \"2018-01-01\")\n",
        "]\n",
        "\n",
        "# fig = px.area(df_show, x=\"Date\", y=\"YOY\", color=\"Ngành\")\n",
        "fig = px.area(\n",
        "    df_show, x=\"Date\", y=\"YTD-YOY\", color=\"Ngành\"\n",
        ")\n",
        "\n",
        "fig.update_xaxes(\n",
        "    rangeslider_visible=True,\n",
        "    rangeselector=dict(\n",
        "        buttons=[\n",
        "            dict(count=1, label=\"YTD\", step=\"year\", stepmode=\"todate\"),\n",
        "            dict(count=1, label=\"1y\", step=\"year\", stepmode=\"backward\"),\n",
        "            dict(count=3, label=\"3y\", step=\"year\", stepmode=\"backward\"),\n",
        "            dict(count=5, label=\"5y\", step=\"year\", stepmode=\"backward\"),\n",
        "            dict(count=7, label=\"7y\", step=\"year\", stepmode=\"backward\"),\n",
        "            dict(count=10, label=\"10y\", step=\"year\", stepmode=\"backward\"),\n",
        "            dict(step=\"all\"),\n",
        "        ]\n",
        "    ),\n",
        ")\n",
        "\n",
        "fig.show()"
      ]
    },
    {
      "cell_type": "code",
      "execution_count": 11,
      "metadata": {},
      "outputs": [
        {
          "data": {
            "application/vnd.plotly.v1+json": {
              "config": {
                "plotlyServerURL": "https://plot.ly"
              },
              "data": [
                {
                  "fillpattern": {
                    "shape": ""
                  },
                  "hovertemplate": "Ngành=Sản xuất, chế biến thực phẩm<br>Date=%{x}<br>YTD-YOY=%{y}<extra></extra>",
                  "legendgroup": "Sản xuất, chế biến thực phẩm",
                  "line": {
                    "color": "#636efa"
                  },
                  "marker": {
                    "symbol": "circle"
                  },
                  "mode": "lines",
                  "name": "Sản xuất, chế biến thực phẩm",
                  "orientation": "v",
                  "showlegend": true,
                  "stackgroup": "1",
                  "type": "scatter",
                  "x": [
                    "2024-04-29T00:00:00",
                    "2024-03-29T00:00:00",
                    "2024-02-29T00:00:00",
                    "2024-01-29T00:00:00",
                    "2023-12-29T00:00:00",
                    "2023-11-29T00:00:00",
                    "2023-10-29T00:00:00",
                    "2023-09-29T00:00:00",
                    "2023-08-29T00:00:00",
                    "2023-07-29T00:00:00",
                    "2023-06-29T00:00:00",
                    "2023-05-29T00:00:00",
                    "2023-04-29T00:00:00",
                    "2023-03-29T00:00:00",
                    "2023-02-28T00:00:00",
                    "2023-01-29T00:00:00",
                    "2022-12-29T00:00:00",
                    "2022-11-29T00:00:00",
                    "2022-10-29T00:00:00",
                    "2022-09-29T00:00:00",
                    "2022-08-29T00:00:00",
                    "2022-07-29T00:00:00",
                    "2022-06-29T00:00:00",
                    "2022-05-29T00:00:00",
                    "2022-04-29T00:00:00",
                    "2022-03-29T00:00:00",
                    "2022-02-28T00:00:00",
                    "2022-01-29T00:00:00"
                  ],
                  "xaxis": "x",
                  "y": [
                    5.469999999999999,
                    4.530000000000001,
                    5.75,
                    -2.5600000000000023,
                    6.069999999999993,
                    6.21811206671012,
                    6.140000000000001,
                    5.780000000000001,
                    5.439999999999998,
                    5.1299999999999955,
                    4.599999999999994,
                    3.769999999999996,
                    4.310000000000002,
                    3.4099999999999966,
                    2.4200000000000017,
                    -12.569999999999993,
                    8.799999999999997,
                    9.040000000000006,
                    9.739999999999995,
                    9.810000000000002,
                    8.904741236707622,
                    7.8370732449475184,
                    7.118961198387225,
                    6.963460643284748,
                    6.007154540000002,
                    6.278424644820902,
                    9.010000000000005,
                    -6.730000000000004
                  ],
                  "yaxis": "y"
                },
                {
                  "fillpattern": {
                    "shape": ""
                  },
                  "hovertemplate": "Ngành=Dệt<br>Date=%{x}<br>YTD-YOY=%{y}<extra></extra>",
                  "legendgroup": "Dệt",
                  "line": {
                    "color": "#EF553B"
                  },
                  "marker": {
                    "symbol": "circle"
                  },
                  "mode": "lines",
                  "name": "Dệt",
                  "orientation": "v",
                  "showlegend": true,
                  "stackgroup": "1",
                  "type": "scatter",
                  "x": [
                    "2024-04-29T00:00:00",
                    "2024-03-29T00:00:00",
                    "2024-02-29T00:00:00",
                    "2024-01-29T00:00:00",
                    "2023-12-29T00:00:00",
                    "2023-11-29T00:00:00",
                    "2023-10-29T00:00:00",
                    "2023-09-29T00:00:00",
                    "2023-08-29T00:00:00",
                    "2023-07-29T00:00:00",
                    "2023-06-29T00:00:00",
                    "2023-05-29T00:00:00",
                    "2023-04-29T00:00:00",
                    "2023-03-29T00:00:00",
                    "2023-02-28T00:00:00",
                    "2023-01-29T00:00:00",
                    "2022-12-29T00:00:00",
                    "2022-11-29T00:00:00",
                    "2022-10-29T00:00:00",
                    "2022-09-29T00:00:00",
                    "2022-08-29T00:00:00",
                    "2022-07-29T00:00:00",
                    "2022-06-29T00:00:00",
                    "2022-05-29T00:00:00",
                    "2022-04-29T00:00:00",
                    "2022-03-29T00:00:00",
                    "2022-02-28T00:00:00",
                    "2022-01-29T00:00:00"
                  ],
                  "xaxis": "x",
                  "y": [
                    14.489999999999995,
                    14.560000000000002,
                    17.560000000000002,
                    -0.12000000000000455,
                    7,
                    5.913032410336584,
                    4.75,
                    3.6090475725060003,
                    1.980000000000004,
                    0.29999999999999716,
                    -2.0999999999999943,
                    -3.680000000000007,
                    -4.930000000000007,
                    -6.540000000000006,
                    -10.989999999999995,
                    -14.260000000000005,
                    3.4200000000000017,
                    4.349999999999994,
                    3.6899999999999977,
                    4.980000000000004,
                    5.1200000000000045,
                    4.030000000000001,
                    4.530000000000001,
                    4.680000000000007,
                    6.010000000000005,
                    5.780000000000001,
                    8.14,
                    -1.9200000000000017
                  ],
                  "yaxis": "y"
                },
                {
                  "fillpattern": {
                    "shape": ""
                  },
                  "hovertemplate": "Ngành=Sản xuất hoá chất và sản phẩm hoá chất<br>Date=%{x}<br>YTD-YOY=%{y}<extra></extra>",
                  "legendgroup": "Sản xuất hoá chất và sản phẩm hoá chất",
                  "line": {
                    "color": "#00cc96"
                  },
                  "marker": {
                    "symbol": "circle"
                  },
                  "mode": "lines",
                  "name": "Sản xuất hoá chất và sản phẩm hoá chất",
                  "orientation": "v",
                  "showlegend": true,
                  "stackgroup": "1",
                  "type": "scatter",
                  "x": [
                    "2024-04-29T00:00:00",
                    "2024-03-29T00:00:00",
                    "2024-02-29T00:00:00",
                    "2024-01-29T00:00:00",
                    "2023-12-29T00:00:00",
                    "2023-11-29T00:00:00",
                    "2023-10-29T00:00:00",
                    "2023-09-29T00:00:00",
                    "2023-08-29T00:00:00",
                    "2023-07-29T00:00:00",
                    "2023-06-29T00:00:00",
                    "2023-05-29T00:00:00",
                    "2023-04-29T00:00:00",
                    "2023-03-29T00:00:00",
                    "2023-02-28T00:00:00",
                    "2023-01-29T00:00:00",
                    "2022-12-29T00:00:00",
                    "2022-11-29T00:00:00",
                    "2022-10-29T00:00:00",
                    "2022-09-29T00:00:00",
                    "2022-08-29T00:00:00",
                    "2022-07-29T00:00:00",
                    "2022-06-29T00:00:00",
                    "2022-05-29T00:00:00",
                    "2022-04-29T00:00:00",
                    "2022-03-29T00:00:00",
                    "2022-02-28T00:00:00",
                    "2022-01-29T00:00:00"
                  ],
                  "xaxis": "x",
                  "y": [
                    24.25,
                    28.389999999999986,
                    27.730000000000004,
                    7.510000000000005,
                    9.459999999999994,
                    8.590000000000003,
                    5.8799999999999955,
                    6.219999999999999,
                    5.609999999999999,
                    4.930000000000007,
                    5.099999999999994,
                    3.8900000000000006,
                    4.290000000000006,
                    -0.46999999999999886,
                    -3.6200000000000045,
                    -10.629999999999995,
                    3.6500000000000057,
                    4.459999999999994,
                    4.959999999999994,
                    5.8700000000000045,
                    4.510000000000005,
                    4.849999999999994,
                    3.519999999999996,
                    4.609999999999999,
                    5.170000000000002,
                    2.230000000000004,
                    9.739999999999995,
                    2.569999999999993
                  ],
                  "yaxis": "y"
                },
                {
                  "fillpattern": {
                    "shape": ""
                  },
                  "hovertemplate": "Ngành=Sản xuất sản phẩm từ cao su và plastic<br>Date=%{x}<br>YTD-YOY=%{y}<extra></extra>",
                  "legendgroup": "Sản xuất sản phẩm từ cao su và plastic",
                  "line": {
                    "color": "#ab63fa"
                  },
                  "marker": {
                    "symbol": "circle"
                  },
                  "mode": "lines",
                  "name": "Sản xuất sản phẩm từ cao su và plastic",
                  "orientation": "v",
                  "showlegend": true,
                  "stackgroup": "1",
                  "type": "scatter",
                  "x": [
                    "2024-04-29T00:00:00",
                    "2024-03-29T00:00:00",
                    "2024-02-29T00:00:00",
                    "2024-01-29T00:00:00",
                    "2023-12-29T00:00:00",
                    "2023-11-29T00:00:00",
                    "2023-10-29T00:00:00",
                    "2023-09-29T00:00:00",
                    "2023-08-29T00:00:00",
                    "2023-07-29T00:00:00",
                    "2023-06-29T00:00:00",
                    "2023-05-29T00:00:00",
                    "2023-04-29T00:00:00",
                    "2023-03-29T00:00:00",
                    "2023-02-28T00:00:00",
                    "2023-01-29T00:00:00",
                    "2022-12-29T00:00:00",
                    "2022-11-29T00:00:00",
                    "2022-10-29T00:00:00",
                    "2022-09-29T00:00:00",
                    "2022-08-29T00:00:00",
                    "2022-07-29T00:00:00",
                    "2022-06-29T00:00:00",
                    "2022-05-29T00:00:00",
                    "2022-04-29T00:00:00",
                    "2022-03-29T00:00:00",
                    "2022-02-28T00:00:00",
                    "2022-01-29T00:00:00"
                  ],
                  "xaxis": "x",
                  "y": [
                    27.489999999999995,
                    25.78,
                    24.319999999999993,
                    -7.659999999999997,
                    13.170000000000002,
                    11.810000000000002,
                    9.5,
                    8.730000000000004,
                    8.39,
                    7.609999999999999,
                    7.200000000000003,
                    6.339999999999989,
                    6.769999999999996,
                    11.549999999999997,
                    5.950000000000003,
                    -15.819999999999993,
                    -6.560000000000002,
                    -7.010000000000005,
                    -5.390000000000001,
                    -5.359999999999999,
                    -6.290000000000006,
                    -8.39,
                    -8.549999999999997,
                    -13.799999999999997,
                    -12.909999999999997,
                    -15.5,
                    -11.819999999999993,
                    -1.8199999999999932
                  ],
                  "yaxis": "y"
                },
                {
                  "fillpattern": {
                    "shape": ""
                  },
                  "hovertemplate": "Ngành=Sản xuất kim loại<br>Date=%{x}<br>YTD-YOY=%{y}<extra></extra>",
                  "legendgroup": "Sản xuất kim loại",
                  "line": {
                    "color": "#FFA15A"
                  },
                  "marker": {
                    "symbol": "circle"
                  },
                  "mode": "lines",
                  "name": "Sản xuất kim loại",
                  "orientation": "v",
                  "showlegend": true,
                  "stackgroup": "1",
                  "type": "scatter",
                  "x": [
                    "2024-04-29T00:00:00",
                    "2024-03-29T00:00:00",
                    "2024-02-29T00:00:00",
                    "2024-01-29T00:00:00",
                    "2023-12-29T00:00:00",
                    "2023-11-29T00:00:00",
                    "2023-10-29T00:00:00",
                    "2023-09-29T00:00:00",
                    "2023-08-29T00:00:00",
                    "2023-07-29T00:00:00",
                    "2023-06-29T00:00:00",
                    "2023-05-29T00:00:00",
                    "2023-04-29T00:00:00",
                    "2023-03-29T00:00:00",
                    "2023-02-28T00:00:00",
                    "2023-01-29T00:00:00",
                    "2022-12-29T00:00:00",
                    "2022-11-29T00:00:00",
                    "2022-10-29T00:00:00",
                    "2022-09-29T00:00:00",
                    "2022-08-29T00:00:00",
                    "2022-07-29T00:00:00",
                    "2022-06-29T00:00:00",
                    "2022-05-29T00:00:00",
                    "2022-04-29T00:00:00",
                    "2022-03-29T00:00:00",
                    "2022-02-28T00:00:00",
                    "2022-01-29T00:00:00"
                  ],
                  "xaxis": "x",
                  "y": [
                    12.950000000000003,
                    16.629999999999995,
                    16.14,
                    -1.2399999999999949,
                    7.569999999999993,
                    4.0909090909090935,
                    2.9200000000000017,
                    1.8299999999999983,
                    1.5799999999999983,
                    -1.6700000000000017,
                    -4.599999999999994,
                    -5.459999999999994,
                    -4.980000000000004,
                    -2.3900000000000006,
                    -12.230000000000004,
                    -1.7600000000000051,
                    -2.549999999999997,
                    -2.5999999999999943,
                    -1.480000000000004,
                    -0.8100000000000023,
                    -0.8100000000000023,
                    0.7399999999999949,
                    4.239999999999995,
                    3.5,
                    4.3799999999999955,
                    3.180000000000007,
                    5.6200000000000045,
                    -1.5400000000000063
                  ],
                  "yaxis": "y"
                },
                {
                  "fillpattern": {
                    "shape": ""
                  },
                  "hovertemplate": "Ngành=Sản xuất sản phẩm từ kim loại đúc sẵn (trừ máy móc, thiết bị)<br>Date=%{x}<br>YTD-YOY=%{y}<extra></extra>",
                  "legendgroup": "Sản xuất sản phẩm từ kim loại đúc sẵn (trừ máy móc, thiết bị)",
                  "line": {
                    "color": "#19d3f3"
                  },
                  "marker": {
                    "symbol": "circle"
                  },
                  "mode": "lines",
                  "name": "Sản xuất sản phẩm từ kim loại đúc sẵn (trừ máy móc, thiết bị)",
                  "orientation": "v",
                  "showlegend": true,
                  "stackgroup": "1",
                  "type": "scatter",
                  "x": [
                    "2024-04-29T00:00:00",
                    "2024-03-29T00:00:00",
                    "2024-02-29T00:00:00",
                    "2024-01-29T00:00:00",
                    "2023-12-29T00:00:00",
                    "2023-11-29T00:00:00",
                    "2023-10-29T00:00:00",
                    "2023-09-29T00:00:00",
                    "2023-08-29T00:00:00",
                    "2023-07-29T00:00:00",
                    "2023-06-29T00:00:00",
                    "2023-05-29T00:00:00",
                    "2023-04-29T00:00:00",
                    "2023-03-29T00:00:00",
                    "2023-02-28T00:00:00",
                    "2023-01-29T00:00:00",
                    "2022-12-29T00:00:00",
                    "2022-11-29T00:00:00",
                    "2022-10-29T00:00:00",
                    "2022-09-29T00:00:00",
                    "2022-08-29T00:00:00",
                    "2022-07-29T00:00:00",
                    "2022-06-29T00:00:00",
                    "2022-05-29T00:00:00",
                    "2022-04-29T00:00:00",
                    "2022-03-29T00:00:00",
                    "2022-02-28T00:00:00",
                    "2022-01-29T00:00:00"
                  ],
                  "xaxis": "x",
                  "y": [
                    8.739999999999995,
                    6.909999999999997,
                    1.4599999999999937,
                    -10.040000000000006,
                    8.340000000000003,
                    8.349999999999994,
                    8.700000000000003,
                    7.400000000000006,
                    6.989999999999995,
                    6.390000000000001,
                    3.0999999999999943,
                    2.5600000000000023,
                    3.8900000000000006,
                    4.109999999999999,
                    -5.049999999999997,
                    -22.019999999999996,
                    6.920000000000002,
                    7.579999999999998,
                    9.310000000000002,
                    9.959999999999994,
                    10.39,
                    9.959999999999994,
                    11.409999999999997,
                    11.519999999999996,
                    12.780000000000001,
                    10.060000000000002,
                    7.849999999999994,
                    -9.769999999999996
                  ],
                  "yaxis": "y"
                },
                {
                  "fillpattern": {
                    "shape": ""
                  },
                  "hovertemplate": "Ngành=Sản xuất sản phẩm điện tử, máy vi tính và sản phẩm quang học<br>Date=%{x}<br>YTD-YOY=%{y}<extra></extra>",
                  "legendgroup": "Sản xuất sản phẩm điện tử, máy vi tính và sản phẩm quang học",
                  "line": {
                    "color": "#FF6692"
                  },
                  "marker": {
                    "symbol": "circle"
                  },
                  "mode": "lines",
                  "name": "Sản xuất sản phẩm điện tử, máy vi tính và sản phẩm quang học",
                  "orientation": "v",
                  "showlegend": true,
                  "stackgroup": "1",
                  "type": "scatter",
                  "x": [
                    "2024-04-29T00:00:00",
                    "2024-03-29T00:00:00",
                    "2024-02-29T00:00:00",
                    "2024-01-29T00:00:00",
                    "2023-12-29T00:00:00",
                    "2023-11-29T00:00:00",
                    "2023-10-29T00:00:00",
                    "2023-09-29T00:00:00",
                    "2023-08-29T00:00:00",
                    "2023-07-29T00:00:00",
                    "2023-06-29T00:00:00",
                    "2023-05-29T00:00:00",
                    "2023-04-29T00:00:00",
                    "2023-03-29T00:00:00",
                    "2023-02-28T00:00:00",
                    "2023-01-29T00:00:00",
                    "2022-12-29T00:00:00",
                    "2022-11-29T00:00:00",
                    "2022-10-29T00:00:00",
                    "2022-09-29T00:00:00",
                    "2022-08-29T00:00:00",
                    "2022-07-29T00:00:00",
                    "2022-06-29T00:00:00",
                    "2022-05-29T00:00:00",
                    "2022-04-29T00:00:00",
                    "2022-03-29T00:00:00",
                    "2022-02-28T00:00:00",
                    "2022-01-29T00:00:00"
                  ],
                  "xaxis": "x",
                  "y": [
                    2.730000000000004,
                    0.4399999999999977,
                    -2.569999999999993,
                    -7.5,
                    -0.5699999999999932,
                    -1.3047815350878267,
                    -1.8499999999999943,
                    -2.165344546718302,
                    -3.9099999999999966,
                    -4.349999999999994,
                    -4.599999999999994,
                    -5.102510512548449,
                    -5.109999999999999,
                    -5.969999999999999,
                    -0.3499999999999943,
                    -4.819999999999993,
                    7.569999999999993,
                    8.469999999999999,
                    8.329999999999998,
                    9.010000000000005,
                    11.287436876888677,
                    10.973723172297753,
                    11.195798032957171,
                    11.648843308378645,
                    9.812134600295337,
                    9.414716476529605,
                    -2.8400000000000034,
                    -8.219999999999999
                  ],
                  "yaxis": "y"
                },
                {
                  "fillpattern": {
                    "shape": ""
                  },
                  "hovertemplate": "Ngành=Sản xuất thiết bị điện<br>Date=%{x}<br>YTD-YOY=%{y}<extra></extra>",
                  "legendgroup": "Sản xuất thiết bị điện",
                  "line": {
                    "color": "#B6E880"
                  },
                  "marker": {
                    "symbol": "circle"
                  },
                  "mode": "lines",
                  "name": "Sản xuất thiết bị điện",
                  "orientation": "v",
                  "showlegend": true,
                  "stackgroup": "1",
                  "type": "scatter",
                  "x": [
                    "2024-04-29T00:00:00",
                    "2024-03-29T00:00:00",
                    "2024-02-29T00:00:00",
                    "2024-01-29T00:00:00",
                    "2023-12-29T00:00:00",
                    "2023-11-29T00:00:00",
                    "2023-10-29T00:00:00",
                    "2023-09-29T00:00:00",
                    "2023-08-29T00:00:00",
                    "2023-07-29T00:00:00",
                    "2023-06-29T00:00:00",
                    "2023-05-29T00:00:00",
                    "2023-04-29T00:00:00",
                    "2023-03-29T00:00:00",
                    "2023-02-28T00:00:00",
                    "2023-01-29T00:00:00",
                    "2022-12-29T00:00:00",
                    "2022-11-29T00:00:00",
                    "2022-10-29T00:00:00",
                    "2022-09-29T00:00:00",
                    "2022-08-29T00:00:00",
                    "2022-07-29T00:00:00",
                    "2022-06-29T00:00:00",
                    "2022-05-29T00:00:00",
                    "2022-04-29T00:00:00",
                    "2022-03-29T00:00:00",
                    "2022-02-28T00:00:00",
                    "2022-01-29T00:00:00"
                  ],
                  "xaxis": "x",
                  "y": [
                    24.700000000000003,
                    24.75,
                    22.090000000000003,
                    2.0900000000000034,
                    3.760000000000005,
                    2.5799999999999983,
                    3.1400000000000006,
                    2.780000000000001,
                    2.010000000000005,
                    0.8900000000000006,
                    0.29999999999999716,
                    -2.75,
                    -3.1899999999999977,
                    -6.920000000000002,
                    -50.75,
                    -28.870000000000005,
                    7.459999999999994,
                    10.39,
                    12.840000000000003,
                    14.909999999999997,
                    17.35955206921109,
                    20.993270151533338,
                    22.22793995869874,
                    20.352693096051212,
                    19.08,
                    12.189999999999998,
                    27.894452465614663,
                    98.83000000000001
                  ],
                  "yaxis": "y"
                }
              ],
              "layout": {
                "legend": {
                  "title": {
                    "text": "Ngành"
                  },
                  "tracegroupgap": 0
                },
                "margin": {
                  "t": 60
                },
                "template": {
                  "data": {
                    "bar": [
                      {
                        "error_x": {
                          "color": "#2a3f5f"
                        },
                        "error_y": {
                          "color": "#2a3f5f"
                        },
                        "marker": {
                          "line": {
                            "color": "#E5ECF6",
                            "width": 0.5
                          },
                          "pattern": {
                            "fillmode": "overlay",
                            "size": 10,
                            "solidity": 0.2
                          }
                        },
                        "type": "bar"
                      }
                    ],
                    "barpolar": [
                      {
                        "marker": {
                          "line": {
                            "color": "#E5ECF6",
                            "width": 0.5
                          },
                          "pattern": {
                            "fillmode": "overlay",
                            "size": 10,
                            "solidity": 0.2
                          }
                        },
                        "type": "barpolar"
                      }
                    ],
                    "carpet": [
                      {
                        "aaxis": {
                          "endlinecolor": "#2a3f5f",
                          "gridcolor": "white",
                          "linecolor": "white",
                          "minorgridcolor": "white",
                          "startlinecolor": "#2a3f5f"
                        },
                        "baxis": {
                          "endlinecolor": "#2a3f5f",
                          "gridcolor": "white",
                          "linecolor": "white",
                          "minorgridcolor": "white",
                          "startlinecolor": "#2a3f5f"
                        },
                        "type": "carpet"
                      }
                    ],
                    "choropleth": [
                      {
                        "colorbar": {
                          "outlinewidth": 0,
                          "ticks": ""
                        },
                        "type": "choropleth"
                      }
                    ],
                    "contour": [
                      {
                        "colorbar": {
                          "outlinewidth": 0,
                          "ticks": ""
                        },
                        "colorscale": [
                          [
                            0,
                            "#0d0887"
                          ],
                          [
                            0.1111111111111111,
                            "#46039f"
                          ],
                          [
                            0.2222222222222222,
                            "#7201a8"
                          ],
                          [
                            0.3333333333333333,
                            "#9c179e"
                          ],
                          [
                            0.4444444444444444,
                            "#bd3786"
                          ],
                          [
                            0.5555555555555556,
                            "#d8576b"
                          ],
                          [
                            0.6666666666666666,
                            "#ed7953"
                          ],
                          [
                            0.7777777777777778,
                            "#fb9f3a"
                          ],
                          [
                            0.8888888888888888,
                            "#fdca26"
                          ],
                          [
                            1,
                            "#f0f921"
                          ]
                        ],
                        "type": "contour"
                      }
                    ],
                    "contourcarpet": [
                      {
                        "colorbar": {
                          "outlinewidth": 0,
                          "ticks": ""
                        },
                        "type": "contourcarpet"
                      }
                    ],
                    "heatmap": [
                      {
                        "colorbar": {
                          "outlinewidth": 0,
                          "ticks": ""
                        },
                        "colorscale": [
                          [
                            0,
                            "#0d0887"
                          ],
                          [
                            0.1111111111111111,
                            "#46039f"
                          ],
                          [
                            0.2222222222222222,
                            "#7201a8"
                          ],
                          [
                            0.3333333333333333,
                            "#9c179e"
                          ],
                          [
                            0.4444444444444444,
                            "#bd3786"
                          ],
                          [
                            0.5555555555555556,
                            "#d8576b"
                          ],
                          [
                            0.6666666666666666,
                            "#ed7953"
                          ],
                          [
                            0.7777777777777778,
                            "#fb9f3a"
                          ],
                          [
                            0.8888888888888888,
                            "#fdca26"
                          ],
                          [
                            1,
                            "#f0f921"
                          ]
                        ],
                        "type": "heatmap"
                      }
                    ],
                    "heatmapgl": [
                      {
                        "colorbar": {
                          "outlinewidth": 0,
                          "ticks": ""
                        },
                        "colorscale": [
                          [
                            0,
                            "#0d0887"
                          ],
                          [
                            0.1111111111111111,
                            "#46039f"
                          ],
                          [
                            0.2222222222222222,
                            "#7201a8"
                          ],
                          [
                            0.3333333333333333,
                            "#9c179e"
                          ],
                          [
                            0.4444444444444444,
                            "#bd3786"
                          ],
                          [
                            0.5555555555555556,
                            "#d8576b"
                          ],
                          [
                            0.6666666666666666,
                            "#ed7953"
                          ],
                          [
                            0.7777777777777778,
                            "#fb9f3a"
                          ],
                          [
                            0.8888888888888888,
                            "#fdca26"
                          ],
                          [
                            1,
                            "#f0f921"
                          ]
                        ],
                        "type": "heatmapgl"
                      }
                    ],
                    "histogram": [
                      {
                        "marker": {
                          "pattern": {
                            "fillmode": "overlay",
                            "size": 10,
                            "solidity": 0.2
                          }
                        },
                        "type": "histogram"
                      }
                    ],
                    "histogram2d": [
                      {
                        "colorbar": {
                          "outlinewidth": 0,
                          "ticks": ""
                        },
                        "colorscale": [
                          [
                            0,
                            "#0d0887"
                          ],
                          [
                            0.1111111111111111,
                            "#46039f"
                          ],
                          [
                            0.2222222222222222,
                            "#7201a8"
                          ],
                          [
                            0.3333333333333333,
                            "#9c179e"
                          ],
                          [
                            0.4444444444444444,
                            "#bd3786"
                          ],
                          [
                            0.5555555555555556,
                            "#d8576b"
                          ],
                          [
                            0.6666666666666666,
                            "#ed7953"
                          ],
                          [
                            0.7777777777777778,
                            "#fb9f3a"
                          ],
                          [
                            0.8888888888888888,
                            "#fdca26"
                          ],
                          [
                            1,
                            "#f0f921"
                          ]
                        ],
                        "type": "histogram2d"
                      }
                    ],
                    "histogram2dcontour": [
                      {
                        "colorbar": {
                          "outlinewidth": 0,
                          "ticks": ""
                        },
                        "colorscale": [
                          [
                            0,
                            "#0d0887"
                          ],
                          [
                            0.1111111111111111,
                            "#46039f"
                          ],
                          [
                            0.2222222222222222,
                            "#7201a8"
                          ],
                          [
                            0.3333333333333333,
                            "#9c179e"
                          ],
                          [
                            0.4444444444444444,
                            "#bd3786"
                          ],
                          [
                            0.5555555555555556,
                            "#d8576b"
                          ],
                          [
                            0.6666666666666666,
                            "#ed7953"
                          ],
                          [
                            0.7777777777777778,
                            "#fb9f3a"
                          ],
                          [
                            0.8888888888888888,
                            "#fdca26"
                          ],
                          [
                            1,
                            "#f0f921"
                          ]
                        ],
                        "type": "histogram2dcontour"
                      }
                    ],
                    "mesh3d": [
                      {
                        "colorbar": {
                          "outlinewidth": 0,
                          "ticks": ""
                        },
                        "type": "mesh3d"
                      }
                    ],
                    "parcoords": [
                      {
                        "line": {
                          "colorbar": {
                            "outlinewidth": 0,
                            "ticks": ""
                          }
                        },
                        "type": "parcoords"
                      }
                    ],
                    "pie": [
                      {
                        "automargin": true,
                        "type": "pie"
                      }
                    ],
                    "scatter": [
                      {
                        "fillpattern": {
                          "fillmode": "overlay",
                          "size": 10,
                          "solidity": 0.2
                        },
                        "type": "scatter"
                      }
                    ],
                    "scatter3d": [
                      {
                        "line": {
                          "colorbar": {
                            "outlinewidth": 0,
                            "ticks": ""
                          }
                        },
                        "marker": {
                          "colorbar": {
                            "outlinewidth": 0,
                            "ticks": ""
                          }
                        },
                        "type": "scatter3d"
                      }
                    ],
                    "scattercarpet": [
                      {
                        "marker": {
                          "colorbar": {
                            "outlinewidth": 0,
                            "ticks": ""
                          }
                        },
                        "type": "scattercarpet"
                      }
                    ],
                    "scattergeo": [
                      {
                        "marker": {
                          "colorbar": {
                            "outlinewidth": 0,
                            "ticks": ""
                          }
                        },
                        "type": "scattergeo"
                      }
                    ],
                    "scattergl": [
                      {
                        "marker": {
                          "colorbar": {
                            "outlinewidth": 0,
                            "ticks": ""
                          }
                        },
                        "type": "scattergl"
                      }
                    ],
                    "scattermapbox": [
                      {
                        "marker": {
                          "colorbar": {
                            "outlinewidth": 0,
                            "ticks": ""
                          }
                        },
                        "type": "scattermapbox"
                      }
                    ],
                    "scatterpolar": [
                      {
                        "marker": {
                          "colorbar": {
                            "outlinewidth": 0,
                            "ticks": ""
                          }
                        },
                        "type": "scatterpolar"
                      }
                    ],
                    "scatterpolargl": [
                      {
                        "marker": {
                          "colorbar": {
                            "outlinewidth": 0,
                            "ticks": ""
                          }
                        },
                        "type": "scatterpolargl"
                      }
                    ],
                    "scatterternary": [
                      {
                        "marker": {
                          "colorbar": {
                            "outlinewidth": 0,
                            "ticks": ""
                          }
                        },
                        "type": "scatterternary"
                      }
                    ],
                    "surface": [
                      {
                        "colorbar": {
                          "outlinewidth": 0,
                          "ticks": ""
                        },
                        "colorscale": [
                          [
                            0,
                            "#0d0887"
                          ],
                          [
                            0.1111111111111111,
                            "#46039f"
                          ],
                          [
                            0.2222222222222222,
                            "#7201a8"
                          ],
                          [
                            0.3333333333333333,
                            "#9c179e"
                          ],
                          [
                            0.4444444444444444,
                            "#bd3786"
                          ],
                          [
                            0.5555555555555556,
                            "#d8576b"
                          ],
                          [
                            0.6666666666666666,
                            "#ed7953"
                          ],
                          [
                            0.7777777777777778,
                            "#fb9f3a"
                          ],
                          [
                            0.8888888888888888,
                            "#fdca26"
                          ],
                          [
                            1,
                            "#f0f921"
                          ]
                        ],
                        "type": "surface"
                      }
                    ],
                    "table": [
                      {
                        "cells": {
                          "fill": {
                            "color": "#EBF0F8"
                          },
                          "line": {
                            "color": "white"
                          }
                        },
                        "header": {
                          "fill": {
                            "color": "#C8D4E3"
                          },
                          "line": {
                            "color": "white"
                          }
                        },
                        "type": "table"
                      }
                    ]
                  },
                  "layout": {
                    "annotationdefaults": {
                      "arrowcolor": "#2a3f5f",
                      "arrowhead": 0,
                      "arrowwidth": 1
                    },
                    "autotypenumbers": "strict",
                    "coloraxis": {
                      "colorbar": {
                        "outlinewidth": 0,
                        "ticks": ""
                      }
                    },
                    "colorscale": {
                      "diverging": [
                        [
                          0,
                          "#8e0152"
                        ],
                        [
                          0.1,
                          "#c51b7d"
                        ],
                        [
                          0.2,
                          "#de77ae"
                        ],
                        [
                          0.3,
                          "#f1b6da"
                        ],
                        [
                          0.4,
                          "#fde0ef"
                        ],
                        [
                          0.5,
                          "#f7f7f7"
                        ],
                        [
                          0.6,
                          "#e6f5d0"
                        ],
                        [
                          0.7,
                          "#b8e186"
                        ],
                        [
                          0.8,
                          "#7fbc41"
                        ],
                        [
                          0.9,
                          "#4d9221"
                        ],
                        [
                          1,
                          "#276419"
                        ]
                      ],
                      "sequential": [
                        [
                          0,
                          "#0d0887"
                        ],
                        [
                          0.1111111111111111,
                          "#46039f"
                        ],
                        [
                          0.2222222222222222,
                          "#7201a8"
                        ],
                        [
                          0.3333333333333333,
                          "#9c179e"
                        ],
                        [
                          0.4444444444444444,
                          "#bd3786"
                        ],
                        [
                          0.5555555555555556,
                          "#d8576b"
                        ],
                        [
                          0.6666666666666666,
                          "#ed7953"
                        ],
                        [
                          0.7777777777777778,
                          "#fb9f3a"
                        ],
                        [
                          0.8888888888888888,
                          "#fdca26"
                        ],
                        [
                          1,
                          "#f0f921"
                        ]
                      ],
                      "sequentialminus": [
                        [
                          0,
                          "#0d0887"
                        ],
                        [
                          0.1111111111111111,
                          "#46039f"
                        ],
                        [
                          0.2222222222222222,
                          "#7201a8"
                        ],
                        [
                          0.3333333333333333,
                          "#9c179e"
                        ],
                        [
                          0.4444444444444444,
                          "#bd3786"
                        ],
                        [
                          0.5555555555555556,
                          "#d8576b"
                        ],
                        [
                          0.6666666666666666,
                          "#ed7953"
                        ],
                        [
                          0.7777777777777778,
                          "#fb9f3a"
                        ],
                        [
                          0.8888888888888888,
                          "#fdca26"
                        ],
                        [
                          1,
                          "#f0f921"
                        ]
                      ]
                    },
                    "colorway": [
                      "#636efa",
                      "#EF553B",
                      "#00cc96",
                      "#ab63fa",
                      "#FFA15A",
                      "#19d3f3",
                      "#FF6692",
                      "#B6E880",
                      "#FF97FF",
                      "#FECB52"
                    ],
                    "font": {
                      "color": "#2a3f5f"
                    },
                    "geo": {
                      "bgcolor": "white",
                      "lakecolor": "white",
                      "landcolor": "#E5ECF6",
                      "showlakes": true,
                      "showland": true,
                      "subunitcolor": "white"
                    },
                    "hoverlabel": {
                      "align": "left"
                    },
                    "hovermode": "closest",
                    "mapbox": {
                      "style": "light"
                    },
                    "paper_bgcolor": "white",
                    "plot_bgcolor": "#E5ECF6",
                    "polar": {
                      "angularaxis": {
                        "gridcolor": "white",
                        "linecolor": "white",
                        "ticks": ""
                      },
                      "bgcolor": "#E5ECF6",
                      "radialaxis": {
                        "gridcolor": "white",
                        "linecolor": "white",
                        "ticks": ""
                      }
                    },
                    "scene": {
                      "xaxis": {
                        "backgroundcolor": "#E5ECF6",
                        "gridcolor": "white",
                        "gridwidth": 2,
                        "linecolor": "white",
                        "showbackground": true,
                        "ticks": "",
                        "zerolinecolor": "white"
                      },
                      "yaxis": {
                        "backgroundcolor": "#E5ECF6",
                        "gridcolor": "white",
                        "gridwidth": 2,
                        "linecolor": "white",
                        "showbackground": true,
                        "ticks": "",
                        "zerolinecolor": "white"
                      },
                      "zaxis": {
                        "backgroundcolor": "#E5ECF6",
                        "gridcolor": "white",
                        "gridwidth": 2,
                        "linecolor": "white",
                        "showbackground": true,
                        "ticks": "",
                        "zerolinecolor": "white"
                      }
                    },
                    "shapedefaults": {
                      "line": {
                        "color": "#2a3f5f"
                      }
                    },
                    "ternary": {
                      "aaxis": {
                        "gridcolor": "white",
                        "linecolor": "white",
                        "ticks": ""
                      },
                      "baxis": {
                        "gridcolor": "white",
                        "linecolor": "white",
                        "ticks": ""
                      },
                      "bgcolor": "#E5ECF6",
                      "caxis": {
                        "gridcolor": "white",
                        "linecolor": "white",
                        "ticks": ""
                      }
                    },
                    "title": {
                      "x": 0.05
                    },
                    "xaxis": {
                      "automargin": true,
                      "gridcolor": "white",
                      "linecolor": "white",
                      "ticks": "",
                      "title": {
                        "standoff": 15
                      },
                      "zerolinecolor": "white",
                      "zerolinewidth": 2
                    },
                    "yaxis": {
                      "automargin": true,
                      "gridcolor": "white",
                      "linecolor": "white",
                      "ticks": "",
                      "title": {
                        "standoff": 15
                      },
                      "zerolinecolor": "white",
                      "zerolinewidth": 2
                    }
                  }
                },
                "xaxis": {
                  "anchor": "y",
                  "domain": [
                    0,
                    1
                  ],
                  "rangeselector": {
                    "buttons": [
                      {
                        "count": 1,
                        "label": "YTD",
                        "step": "year",
                        "stepmode": "todate"
                      },
                      {
                        "count": 1,
                        "label": "1y",
                        "step": "year",
                        "stepmode": "backward"
                      },
                      {
                        "count": 3,
                        "label": "3y",
                        "step": "year",
                        "stepmode": "backward"
                      },
                      {
                        "count": 5,
                        "label": "5y",
                        "step": "year",
                        "stepmode": "backward"
                      },
                      {
                        "count": 7,
                        "label": "7y",
                        "step": "year",
                        "stepmode": "backward"
                      },
                      {
                        "count": 10,
                        "label": "10y",
                        "step": "year",
                        "stepmode": "backward"
                      },
                      {
                        "step": "all"
                      }
                    ]
                  },
                  "rangeslider": {
                    "visible": true
                  },
                  "title": {
                    "text": "Date"
                  }
                },
                "yaxis": {
                  "anchor": "x",
                  "domain": [
                    0,
                    1
                  ],
                  "title": {
                    "text": "YTD-YOY"
                  }
                }
              }
            }
          },
          "metadata": {},
          "output_type": "display_data"
        }
      ],
      "source": [
        "import pandas as pd\n",
        "import plotly.express as px\n",
        "import plotly.graph_objects as go\n",
        "\n",
        "df_show = dfs_iip[\n",
        "    (\n",
        "        (dfs_iip[\"Ngành\"] == \"Sản xuất kim loại\")\n",
        "        | (\n",
        "            dfs_iip[\"Ngành\"]\n",
        "            == \"Sản xuất sản phẩm từ kim loại đúc sẵn (trừ máy móc, thiết bị)\"\n",
        "        )\n",
        "        | (dfs_iip[\"Ngành\"] == \"Dệt\")\n",
        "        # | (dfs_iip[\"Ngành\"] == \"Sản xuất trang phục\")\n",
        "        | (\n",
        "            dfs_iip[\"Ngành\"]\n",
        "            == \"Sản xuất sản phẩm điện tử, máy vi tính và sản phẩm quang học\"\n",
        "        )\n",
        "        | (dfs_iip[\"Ngành\"] == \"Sản xuất thiết bị điện\")\n",
        "        # | (dfs_iip[\"Ngành\"] == \"Khai thác dầu thô và khí đốt tự nhiên\")\n",
        "        | (dfs_iip[\"Ngành\"] == \"Sản xuất sản phẩm từ cao su và plastic\")\n",
        "        | (dfs_iip[\"Ngành\"] == \"Sản xuất hoá chất và sản phẩm hoá chất\")\n",
        "        | (dfs_iip[\"Ngành\"] == \"Sản xuất, chế biến thực phẩm\")\n",
        "    )\n",
        "    & (dfs_iip[\"Date\"] > \"2022-01-01\")\n",
        "]\n",
        "\n",
        "# fig = px.area(df_show, x=\"Date\", y=\"YOY\", color=\"Ngành\")\n",
        "fig = px.area(\n",
        "    df_show, x=\"Date\", y=\"YTD-YOY\", color=\"Ngành\"\n",
        ")\n",
        "\n",
        "fig.update_xaxes(\n",
        "    rangeslider_visible=True,\n",
        "    rangeselector=dict(\n",
        "        buttons=[\n",
        "            dict(count=1, label=\"YTD\", step=\"year\", stepmode=\"todate\"),\n",
        "            dict(count=1, label=\"1y\", step=\"year\", stepmode=\"backward\"),\n",
        "            dict(count=3, label=\"3y\", step=\"year\", stepmode=\"backward\"),\n",
        "            dict(count=5, label=\"5y\", step=\"year\", stepmode=\"backward\"),\n",
        "            dict(count=7, label=\"7y\", step=\"year\", stepmode=\"backward\"),\n",
        "            dict(count=10, label=\"10y\", step=\"year\", stepmode=\"backward\"),\n",
        "            dict(step=\"all\"),\n",
        "        ]\n",
        "    ),\n",
        ")\n",
        "\n",
        "fig.show()"
      ]
    },
    {
      "cell_type": "code",
      "execution_count": null,
      "metadata": {},
      "outputs": [],
      "source": []
    },
    {
      "cell_type": "code",
      "execution_count": null,
      "metadata": {},
      "outputs": [],
      "source": []
    }
  ],
  "metadata": {
    "kernelspec": {
      "display_name": "vn-macroeconomics",
      "language": "python",
      "name": "python3"
    },
    "language_info": {
      "codemirror_mode": {
        "name": "ipython",
        "version": 3
      },
      "file_extension": ".py",
      "mimetype": "text/x-python",
      "name": "python",
      "nbconvert_exporter": "python",
      "pygments_lexer": "ipython3",
      "version": "3.10.9"
    },
    "orig_nbformat": 4
  },
  "nbformat": 4,
  "nbformat_minor": 2
}
