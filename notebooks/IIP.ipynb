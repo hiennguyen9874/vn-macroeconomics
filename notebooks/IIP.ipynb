{
  "cells": [
    {
      "cell_type": "code",
      "execution_count": 1,
      "metadata": {},
      "outputs": [],
      "source": [
        "import pandas as pd\n",
        "import seaborn as sns\n",
        "import numpy as np\n",
        "from datetime import date, timedelta"
      ]
    },
    {
      "cell_type": "code",
      "execution_count": 2,
      "metadata": {},
      "outputs": [],
      "source": [
        "def find_sheet_name(sheet_names):\n",
        "    iip_sheet_names = list(filter(lambda x: \"iip\" in x.lower(), sheet_names))\n",
        "\n",
        "    if len(iip_sheet_names) == 1:\n",
        "        return iip_sheet_names[0]\n",
        "\n",
        "    iip_sheet_names = list(filter(lambda x: \"thang\" in x.lower(), iip_sheet_names))\n",
        "\n",
        "    if len(iip_sheet_names) == 1:\n",
        "        return iip_sheet_names[0]\n",
        "\n",
        "    if len(sheet_names) == 43:\n",
        "        return \"7\"\n",
        "\n",
        "    iip_sheet_names = list(filter(lambda x: \"gtcn\" in x.lower(), sheet_names))\n",
        "\n",
        "    if len(iip_sheet_names) == 1:\n",
        "        return iip_sheet_names[0]\n",
        "\n",
        "    raise RuntimeError"
      ]
    },
    {
      "cell_type": "code",
      "execution_count": 3,
      "metadata": {},
      "outputs": [],
      "source": [
        "en_to_vn = {\n",
        "    \"WHOLE INDUSTRY\": \"Toàn ngành công nghiệp\",\n",
        "    \"Mining and quarying\": \"Khai khoáng\",\n",
        "    \"Mining of coal and lignite\": \"Khai thác than cứng và than non\",\n",
        "    \"Extraction of crude petroleum and nutural gas\": \"Khai thác dầu thô và khí đốt tự nhiên\",\n",
        "    \"Mining of metal ores\": \"Khai thác quặng kim loại\",\n",
        "    \"Other mining and quarrying (stone, sand and clay)\": \"Khai khoáng khác\",\n",
        "    \"Mining support service activities\": \"Hoạt động dịch vụ hỗ trợ khai thác mỏ và quặng\",\n",
        "    \"Manufacturing\": \"Công nghiệp chế biến, chế tạo\",\n",
        "    \"Manufacture of food products\": \"Sản xuất, chế biến thực phẩm\",\n",
        "    \"Manufacture of beverages\": \"Sản xuất đồ uống\",\n",
        "    \"Manufacture of tobacco products\": \"Sản xuất sản phẩm thuốc lá\",\n",
        "    \"Manufacture of textiles\": \"Dệt\",\n",
        "    \"Manufacture of wearing apparel\": \"Sản xuất trang phục\",\n",
        "    \"Manufacture of leather and related products\": \"Sản xuất da và các sản phẩm có liên quan\",\n",
        "    \"Manufacture of wood and of products of wood and cork\": \"Chế biến gỗ và sản xuất sản phẩm từ gỗ, tre, nứa (trừ giường, tủ, bàn ghế); sản xuất sản phẩm từ rơm, rạ và vật liệu tết bện\",\n",
        "    \"Manufacture of paper and paper products\": \"Sản xuất giấy và sản phẩm từ giấy\",\n",
        "    \"Printing and reproduction of recorded media\": \"In, sao chép bản ghi các loại\",\n",
        "    \"Manufacture of coke and refined petroleum products\": \"Sản xuất than cốc, sản phẩm dầu mỏ tinh chế\",\n",
        "    \"Manufacture of chemicals and chemical products\": \"Sản xuất hoá chất và sản phẩm hoá chất\",\n",
        "    \"Manufacture of pharmaceuticals, medicinal chemical and botanical products\": \"Sản xuất thuốc, hoá dược và dược liệu\",\n",
        "    \"Manufacture of rubber and plastics products\": \"Sản xuất sản phẩm từ cao su và plastic\",\n",
        "    \"Manufacture of other non-metallic mineral products\": \"Sản xuất sản phẩm từ khoáng phi kim loại khác\",\n",
        "    \"Manufacture of basic metals\": \"Sản xuất kim loại\",\n",
        "    \"Manufacture of fabricated metal products, except machinery and equipment\": \"Sản xuất sản phẩm từ kim loại đúc sẵn (trừ máy móc, thiết bị)\",\n",
        "    \"Manufacture of computer, electronic and optical products\": \"Sản xuất sản phẩm điện tử, máy vi tính và sản phẩm quang học\",\n",
        "    \"Manufacture of electrical equipment\": \"Sản xuất thiết bị điện\",\n",
        "    \"Manufacture of machinery and equipment n.e.c\": \"Sản xuất máy móc, thiết bị chưa được phân vào đâu\",\n",
        "    \"Manufacture of motor vehicles; trailers and semi-trailers\": \"Sản xuất xe có động cơ\",\n",
        "    \"Manufacture of other transport equipment\": \"Sản xuất phương tiện vận tải khác\",\n",
        "    \"Manufacture of furniture\": \"Sản xuất giường, tủ, bàn, ghế\",\n",
        "    \"Other manufacturing\": \"Công nghiệp chế biến, chế tạo khác\",\n",
        "    \"Repair and installation of machinery and equipment\": \"Sửa chữa, bảo dưỡng và lắp đặt máy móc, thiết bị\",\n",
        "    \"Electricity, gas, steam and air conditioning supply\": \"Sản xuất và phân phối điện\",\n",
        "    \"Water supply; sewerage, waste management and remediation activities\": \"Cung cấp nước; hoạt động quản lý và xử lý rác thải, nước thải\",\n",
        "    \"Water collection, treatment and supply\": \"Khai thác, xử lý và cung cấp nước\",\n",
        "    \"Sewerage and sewer treatment activities\": \"Thoát nước và xử lý nước thải\",\n",
        "    \"Waste collection, treatment and disposal activities; materials recovery\": \"Hoạt động thu gom, xử lý và tiêu huỷ rác thải; tái chế phế liệu\",\n",
        "}"
      ]
    },
    {
      "cell_type": "code",
      "execution_count": 4,
      "metadata": {},
      "outputs": [
        {
          "data": {
            "text/html": [
              "<div>\n",
              "<style scoped>\n",
              "    .dataframe tbody tr th:only-of-type {\n",
              "        vertical-align: middle;\n",
              "    }\n",
              "\n",
              "    .dataframe tbody tr th {\n",
              "        vertical-align: top;\n",
              "    }\n",
              "\n",
              "    .dataframe thead th {\n",
              "        text-align: right;\n",
              "    }\n",
              "</style>\n",
              "<table border=\"1\" class=\"dataframe\">\n",
              "  <thead>\n",
              "    <tr style=\"text-align: right;\">\n",
              "      <th></th>\n",
              "      <th>Ngành</th>\n",
              "      <th>YOY-Pre-Month</th>\n",
              "      <th>MOM</th>\n",
              "      <th>YOY</th>\n",
              "      <th>YTD-YOY</th>\n",
              "      <th>Date</th>\n",
              "      <th>Month</th>\n",
              "      <th>PreMonth</th>\n",
              "    </tr>\n",
              "  </thead>\n",
              "  <tbody>\n",
              "    <tr>\n",
              "      <th>7</th>\n",
              "      <td>Toàn ngành công nghiệp</td>\n",
              "      <td>10.03</td>\n",
              "      <td>0.67</td>\n",
              "      <td>10.92</td>\n",
              "      <td>7.72</td>\n",
              "      <td>2024-06-29</td>\n",
              "      <td>2024-06</td>\n",
              "      <td>2024-05</td>\n",
              "    </tr>\n",
              "    <tr>\n",
              "      <th>8</th>\n",
              "      <td>Khai khoáng</td>\n",
              "      <td>-8.30</td>\n",
              "      <td>-2.64</td>\n",
              "      <td>-7.68</td>\n",
              "      <td>-5.47</td>\n",
              "      <td>2024-06-29</td>\n",
              "      <td>2024-06</td>\n",
              "      <td>2024-05</td>\n",
              "    </tr>\n",
              "    <tr>\n",
              "      <th>9</th>\n",
              "      <td>Khai thác than cứng và than non</td>\n",
              "      <td>1.10</td>\n",
              "      <td>-7.46</td>\n",
              "      <td>1.27</td>\n",
              "      <td>0.03</td>\n",
              "      <td>2024-06-29</td>\n",
              "      <td>2024-06</td>\n",
              "      <td>2024-05</td>\n",
              "    </tr>\n",
              "    <tr>\n",
              "      <th>10</th>\n",
              "      <td>Khai thác dầu thô và khí đốt tự nhiên</td>\n",
              "      <td>-16.83</td>\n",
              "      <td>-1.37</td>\n",
              "      <td>-15.27</td>\n",
              "      <td>-11.71</td>\n",
              "      <td>2024-06-29</td>\n",
              "      <td>2024-06</td>\n",
              "      <td>2024-05</td>\n",
              "    </tr>\n",
              "    <tr>\n",
              "      <th>11</th>\n",
              "      <td>Khai thác quặng kim loại</td>\n",
              "      <td>40.11</td>\n",
              "      <td>-3.95</td>\n",
              "      <td>1.05</td>\n",
              "      <td>16.70</td>\n",
              "      <td>2024-06-29</td>\n",
              "      <td>2024-06</td>\n",
              "      <td>2024-05</td>\n",
              "    </tr>\n",
              "    <tr>\n",
              "      <th>12</th>\n",
              "      <td>Khai khoáng khác</td>\n",
              "      <td>5.61</td>\n",
              "      <td>-4.91</td>\n",
              "      <td>-0.85</td>\n",
              "      <td>2.22</td>\n",
              "      <td>2024-06-29</td>\n",
              "      <td>2024-06</td>\n",
              "      <td>2024-05</td>\n",
              "    </tr>\n",
              "    <tr>\n",
              "      <th>13</th>\n",
              "      <td>Hoạt động dịch vụ hỗ trợ khai thác mỏ và quặng</td>\n",
              "      <td>2.67</td>\n",
              "      <td>14.74</td>\n",
              "      <td>20.81</td>\n",
              "      <td>17.41</td>\n",
              "      <td>2024-06-29</td>\n",
              "      <td>2024-06</td>\n",
              "      <td>2024-05</td>\n",
              "    </tr>\n",
              "    <tr>\n",
              "      <th>14</th>\n",
              "      <td>Công nghiệp chế biến, chế tạo</td>\n",
              "      <td>11.88</td>\n",
              "      <td>0.98</td>\n",
              "      <td>12.62</td>\n",
              "      <td>8.45</td>\n",
              "      <td>2024-06-29</td>\n",
              "      <td>2024-06</td>\n",
              "      <td>2024-05</td>\n",
              "    </tr>\n",
              "    <tr>\n",
              "      <th>15</th>\n",
              "      <td>Sản xuất, chế biến thực phẩm</td>\n",
              "      <td>7.47</td>\n",
              "      <td>4.03</td>\n",
              "      <td>10.36</td>\n",
              "      <td>6.54</td>\n",
              "      <td>2024-06-29</td>\n",
              "      <td>2024-06</td>\n",
              "      <td>2024-05</td>\n",
              "    </tr>\n",
              "    <tr>\n",
              "      <th>16</th>\n",
              "      <td>Sản xuất đồ uống</td>\n",
              "      <td>5.45</td>\n",
              "      <td>-0.20</td>\n",
              "      <td>1.67</td>\n",
              "      <td>0.46</td>\n",
              "      <td>2024-06-29</td>\n",
              "      <td>2024-06</td>\n",
              "      <td>2024-05</td>\n",
              "    </tr>\n",
              "    <tr>\n",
              "      <th>17</th>\n",
              "      <td>Sản xuất sản phẩm thuốc lá</td>\n",
              "      <td>6.45</td>\n",
              "      <td>-3.08</td>\n",
              "      <td>0.55</td>\n",
              "      <td>7.17</td>\n",
              "      <td>2024-06-29</td>\n",
              "      <td>2024-06</td>\n",
              "      <td>2024-05</td>\n",
              "    </tr>\n",
              "    <tr>\n",
              "      <th>18</th>\n",
              "      <td>Dệt</td>\n",
              "      <td>8.90</td>\n",
              "      <td>1.77</td>\n",
              "      <td>11.41</td>\n",
              "      <td>12.61</td>\n",
              "      <td>2024-06-29</td>\n",
              "      <td>2024-06</td>\n",
              "      <td>2024-05</td>\n",
              "    </tr>\n",
              "    <tr>\n",
              "      <th>19</th>\n",
              "      <td>Sản xuất trang phục</td>\n",
              "      <td>9.19</td>\n",
              "      <td>3.96</td>\n",
              "      <td>6.98</td>\n",
              "      <td>5.68</td>\n",
              "      <td>2024-06-29</td>\n",
              "      <td>2024-06</td>\n",
              "      <td>2024-05</td>\n",
              "    </tr>\n",
              "    <tr>\n",
              "      <th>20</th>\n",
              "      <td>Sản xuất da và các sản phẩm có liên quan</td>\n",
              "      <td>11.63</td>\n",
              "      <td>1.92</td>\n",
              "      <td>15.35</td>\n",
              "      <td>9.09</td>\n",
              "      <td>2024-06-29</td>\n",
              "      <td>2024-06</td>\n",
              "      <td>2024-05</td>\n",
              "    </tr>\n",
              "    <tr>\n",
              "      <th>21</th>\n",
              "      <td>Chế biến gỗ và sản xuất sản phẩm từ gỗ, tre, n...</td>\n",
              "      <td>24.84</td>\n",
              "      <td>0.95</td>\n",
              "      <td>14.75</td>\n",
              "      <td>12.30</td>\n",
              "      <td>2024-06-29</td>\n",
              "      <td>2024-06</td>\n",
              "      <td>2024-05</td>\n",
              "    </tr>\n",
              "  </tbody>\n",
              "</table>\n",
              "</div>"
            ],
            "text/plain": [
              "                                                Ngành  YOY-Pre-Month    MOM  \\\n",
              "7                              Toàn ngành công nghiệp          10.03   0.67   \n",
              "8                                         Khai khoáng          -8.30  -2.64   \n",
              "9                     Khai thác than cứng và than non           1.10  -7.46   \n",
              "10              Khai thác dầu thô và khí đốt tự nhiên         -16.83  -1.37   \n",
              "11                           Khai thác quặng kim loại          40.11  -3.95   \n",
              "12                                   Khai khoáng khác           5.61  -4.91   \n",
              "13     Hoạt động dịch vụ hỗ trợ khai thác mỏ và quặng           2.67  14.74   \n",
              "14                      Công nghiệp chế biến, chế tạo          11.88   0.98   \n",
              "15                       Sản xuất, chế biến thực phẩm           7.47   4.03   \n",
              "16                                   Sản xuất đồ uống           5.45  -0.20   \n",
              "17                         Sản xuất sản phẩm thuốc lá           6.45  -3.08   \n",
              "18                                                Dệt           8.90   1.77   \n",
              "19                                Sản xuất trang phục           9.19   3.96   \n",
              "20           Sản xuất da và các sản phẩm có liên quan          11.63   1.92   \n",
              "21  Chế biến gỗ và sản xuất sản phẩm từ gỗ, tre, n...          24.84   0.95   \n",
              "\n",
              "      YOY  YTD-YOY       Date    Month PreMonth  \n",
              "7   10.92     7.72 2024-06-29  2024-06  2024-05  \n",
              "8   -7.68    -5.47 2024-06-29  2024-06  2024-05  \n",
              "9    1.27     0.03 2024-06-29  2024-06  2024-05  \n",
              "10 -15.27   -11.71 2024-06-29  2024-06  2024-05  \n",
              "11   1.05    16.70 2024-06-29  2024-06  2024-05  \n",
              "12  -0.85     2.22 2024-06-29  2024-06  2024-05  \n",
              "13  20.81    17.41 2024-06-29  2024-06  2024-05  \n",
              "14  12.62     8.45 2024-06-29  2024-06  2024-05  \n",
              "15  10.36     6.54 2024-06-29  2024-06  2024-05  \n",
              "16   1.67     0.46 2024-06-29  2024-06  2024-05  \n",
              "17   0.55     7.17 2024-06-29  2024-06  2024-05  \n",
              "18  11.41    12.61 2024-06-29  2024-06  2024-05  \n",
              "19   6.98     5.68 2024-06-29  2024-06  2024-05  \n",
              "20  15.35     9.09 2024-06-29  2024-06  2024-05  \n",
              "21  14.75    12.30 2024-06-29  2024-06  2024-05  "
            ]
          },
          "execution_count": 4,
          "metadata": {},
          "output_type": "execute_result"
        }
      ],
      "source": [
        "def get_ipp_2023(xl, sheet_name, date):\n",
        "    df = xl.parse(sheet_name)\n",
        "\n",
        "    df = df.dropna(axis=1, how=\"all\")\n",
        "\n",
        "    if len(df.columns) == 5:\n",
        "        df.columns = [\n",
        "            \"Ngành\",\n",
        "            \"YOY-Pre-Month\",\n",
        "            \"MOM\",\n",
        "            \"YOY\",\n",
        "            \"YTD-YOY\",\n",
        "        ]\n",
        "    elif len(df.columns) == 3 and int(date.split(\"-\")[1]) == 1:\n",
        "        df.columns = [\n",
        "            \"Ngành\",\n",
        "            \"MOM\",\n",
        "            \"YOY\",\n",
        "        ]\n",
        "        df[\"YTD-YOY\"] = df[\"YOY\"]\n",
        "        df[\"YOY-Pre-Month\"] = np.nan\n",
        "    else:\n",
        "        raise RuntimeError\n",
        "\n",
        "    assert len(df.columns) == 5\n",
        "\n",
        "    df[df.columns[0]] = (\n",
        "        df[df.columns[0]]\n",
        "        .replace(r\"\\s+\", \" \", regex=True)\n",
        "        .replace(r\"\\n\", \" \", regex=True)\n",
        "        .str.strip()\n",
        "    )\n",
        "\n",
        "    df = df.drop(\n",
        "        list(\n",
        "            range(\n",
        "                df[df.columns[0]][\n",
        "                    (df[df.columns[0]] == \"Toàn ngành công nghiệp\")\n",
        "                    | (df[df.columns[0]] == \"WHOLE INDUSTRY\")\n",
        "                    | (df[df.columns[0]] == \"TOÀN NGÀNH CÔNG NGHIỆP\")\n",
        "                    | (df[df.columns[0]] == \"TOÀN QUỐC\")\n",
        "                ].index[0]\n",
        "            )\n",
        "        )\n",
        "    )\n",
        "\n",
        "    if len(df[\"Ngành\"][df[\"Ngành\"] == \"WHOLE INDUSTRY\"].index) > 0:\n",
        "        df[\"Ngành\"] = df[\"Ngành\"].map(en_to_vn)\n",
        "\n",
        "    df = df[pd.to_numeric(df[\"MOM\"], errors=\"coerce\").notnull()]\n",
        "    df = df[pd.to_numeric(df[\"YOY\"], errors=\"coerce\").notnull()]\n",
        "    df = df[\n",
        "        pd.to_numeric(\n",
        "            df[\"YTD-YOY\"],\n",
        "            errors=\"coerce\",\n",
        "        ).notnull()\n",
        "    ]\n",
        "\n",
        "    df = df[df[\"MOM\"].notna()]\n",
        "    df = df[df[\"YOY\"].notna()]\n",
        "    df = df[df[\"YTD-YOY\"].notna()]\n",
        "\n",
        "    df[\"MOM\"] = (df[\"MOM\"] - 100).astype(float)\n",
        "    df[\"YOY\"] = (df[\"YOY\"] - 100).astype(float)\n",
        "    df[\"YTD-YOY\"] = (df[\"YTD-YOY\"] - 100).astype(float)\n",
        "    df[\"YOY-Pre-Month\"] = (df[\"YOY-Pre-Month\"] - 100).astype(float)\n",
        "\n",
        "    df[\"Date\"] = date\n",
        "    df[\"Date\"] = pd.to_datetime(df[\"Date\"], dayfirst=False)\n",
        "\n",
        "    df[\"Month\"] = df[\"Date\"].dt.strftime(\"%Y-%m\")\n",
        "    df[\"PreMonth\"] = (\n",
        "        df[\"Date\"]\n",
        "        .apply(\n",
        "            lambda x: (\n",
        "                x.replace(month=x.month - 1, day=1)\n",
        "                if x.month > 1\n",
        "                else x.replace(year=x.year - 1, month=12, day=1)\n",
        "            )\n",
        "        )\n",
        "        .dt.strftime(\"%Y-%m\")\n",
        "    )\n",
        "\n",
        "    # df[\"PreYearMonth\"] = (\n",
        "    #     df[\"Date\"]\n",
        "    #     .apply(lambda x: x.replace(year=x.year - 1, day=1))\n",
        "    #     .dt.strftime(\"%Y-%m\")\n",
        "    # )\n",
        "\n",
        "    df = df.replace(\n",
        "        {\n",
        "            \"rác thải, nước thải\": \"Cung cấp nước; hoạt động quản lý và xử lý rác thải, nước thải\"\n",
        "        }\n",
        "    )\n",
        "\n",
        "    return df\n",
        "\n",
        "\n",
        "xl = pd.ExcelFile(\"../datas/2024-06-29-02.Bieu-T6.2024.xlsx\")\n",
        "get_ipp_2023(xl, find_sheet_name(xl.sheet_names), \"2024-06-29\").head(n=15)"
      ]
    },
    {
      "cell_type": "code",
      "execution_count": 5,
      "metadata": {},
      "outputs": [],
      "source": [
        "import os\n",
        "import contextlib\n",
        "\n",
        "dfs_iip_origin = []\n",
        "for file_name in sorted(\n",
        "    os.listdir(\"../datas\"),\n",
        "    key=lambda filename: f\"{filename.split('-')[0]}-{filename.split('-')[1]}-{filename.split('-')[2]}\",\n",
        "    reverse=True,\n",
        "):\n",
        "    with contextlib.suppress(Exception):\n",
        "        file_path = os.path.join(\"../datas\", file_name)\n",
        "\n",
        "        year = int(file_name.split(\"-\")[0])\n",
        "        month = int(file_name.split(\"-\")[1])\n",
        "        day = int(file_name.split(\"-\")[2])\n",
        "\n",
        "        if year < 2014:\n",
        "            continue\n",
        "\n",
        "        xl = pd.ExcelFile(file_path)\n",
        "\n",
        "        df_iip = get_ipp_2023(\n",
        "            xl, find_sheet_name(xl.sheet_names), f\"{year}-{month}-{day}\"\n",
        "        )\n",
        "\n",
        "        dfs_iip_origin.append(df_iip)"
      ]
    },
    {
      "cell_type": "code",
      "execution_count": 6,
      "metadata": {},
      "outputs": [
        {
          "data": {
            "text/html": [
              "<div>\n",
              "<style scoped>\n",
              "    .dataframe tbody tr th:only-of-type {\n",
              "        vertical-align: middle;\n",
              "    }\n",
              "\n",
              "    .dataframe tbody tr th {\n",
              "        vertical-align: top;\n",
              "    }\n",
              "\n",
              "    .dataframe thead th {\n",
              "        text-align: right;\n",
              "    }\n",
              "</style>\n",
              "<table border=\"1\" class=\"dataframe\">\n",
              "  <thead>\n",
              "    <tr style=\"text-align: right;\">\n",
              "      <th></th>\n",
              "      <th>Ngành</th>\n",
              "      <th>YOY-Pre-Month</th>\n",
              "      <th>MOM</th>\n",
              "      <th>YOY</th>\n",
              "      <th>YTD-YOY</th>\n",
              "      <th>Date</th>\n",
              "      <th>Month</th>\n",
              "      <th>PreMonth</th>\n",
              "    </tr>\n",
              "  </thead>\n",
              "  <tbody>\n",
              "    <tr>\n",
              "      <th>0</th>\n",
              "      <td>Toàn ngành công nghiệp</td>\n",
              "      <td>8.380000</td>\n",
              "      <td>-0.190000</td>\n",
              "      <td>10.840000</td>\n",
              "      <td>8.640000</td>\n",
              "      <td>2024-09-29</td>\n",
              "      <td>2024-09</td>\n",
              "      <td>2024-08</td>\n",
              "    </tr>\n",
              "    <tr>\n",
              "      <th>1</th>\n",
              "      <td>Khai khoáng</td>\n",
              "      <td>-6.100000</td>\n",
              "      <td>-7.300000</td>\n",
              "      <td>-5.900000</td>\n",
              "      <td>-6.450000</td>\n",
              "      <td>2024-09-29</td>\n",
              "      <td>2024-09</td>\n",
              "      <td>2024-08</td>\n",
              "    </tr>\n",
              "    <tr>\n",
              "      <th>2</th>\n",
              "      <td>Khai thác than cứng và than non</td>\n",
              "      <td>-13.880000</td>\n",
              "      <td>-9.250000</td>\n",
              "      <td>-10.030000</td>\n",
              "      <td>-4.160000</td>\n",
              "      <td>2024-09-29</td>\n",
              "      <td>2024-09</td>\n",
              "      <td>2024-08</td>\n",
              "    </tr>\n",
              "    <tr>\n",
              "      <th>3</th>\n",
              "      <td>Khai thác dầu thô và khí đốt tự nhiên</td>\n",
              "      <td>-6.230000</td>\n",
              "      <td>-7.310000</td>\n",
              "      <td>-7.820000</td>\n",
              "      <td>-11.500000</td>\n",
              "      <td>2024-09-29</td>\n",
              "      <td>2024-09</td>\n",
              "      <td>2024-08</td>\n",
              "    </tr>\n",
              "    <tr>\n",
              "      <th>4</th>\n",
              "      <td>Khai thác quặng kim loại</td>\n",
              "      <td>25.230000</td>\n",
              "      <td>-12.730000</td>\n",
              "      <td>13.200000</td>\n",
              "      <td>16.970000</td>\n",
              "      <td>2024-09-29</td>\n",
              "      <td>2024-09</td>\n",
              "      <td>2024-08</td>\n",
              "    </tr>\n",
              "    <tr>\n",
              "      <th>...</th>\n",
              "      <td>...</td>\n",
              "      <td>...</td>\n",
              "      <td>...</td>\n",
              "      <td>...</td>\n",
              "      <td>...</td>\n",
              "      <td>...</td>\n",
              "      <td>...</td>\n",
              "      <td>...</td>\n",
              "    </tr>\n",
              "    <tr>\n",
              "      <th>4232</th>\n",
              "      <td>Sản xuất giường, tủ, bàn, ghế</td>\n",
              "      <td>-2.205523</td>\n",
              "      <td>-21.023681</td>\n",
              "      <td>28.980919</td>\n",
              "      <td>9.474830</td>\n",
              "      <td>2014-02-28</td>\n",
              "      <td>2014-02</td>\n",
              "      <td>2014-01</td>\n",
              "    </tr>\n",
              "    <tr>\n",
              "      <th>4233</th>\n",
              "      <td>Sản xuất và phân phối điện</td>\n",
              "      <td>4.629041</td>\n",
              "      <td>-7.278234</td>\n",
              "      <td>13.088683</td>\n",
              "      <td>8.535242</td>\n",
              "      <td>2014-02-28</td>\n",
              "      <td>2014-02</td>\n",
              "      <td>2014-01</td>\n",
              "    </tr>\n",
              "    <tr>\n",
              "      <th>4234</th>\n",
              "      <td>và xử lý rác thải, nước thải</td>\n",
              "      <td>4.442353</td>\n",
              "      <td>0.587840</td>\n",
              "      <td>7.132010</td>\n",
              "      <td>5.774026</td>\n",
              "      <td>2014-02-28</td>\n",
              "      <td>2014-02</td>\n",
              "      <td>2014-01</td>\n",
              "    </tr>\n",
              "    <tr>\n",
              "      <th>4235</th>\n",
              "      <td>Khai thác, xử lý và cung cấp nước</td>\n",
              "      <td>5.025523</td>\n",
              "      <td>-0.469821</td>\n",
              "      <td>6.713222</td>\n",
              "      <td>5.860660</td>\n",
              "      <td>2014-02-28</td>\n",
              "      <td>2014-02</td>\n",
              "      <td>2014-01</td>\n",
              "    </tr>\n",
              "    <tr>\n",
              "      <th>4236</th>\n",
              "      <td>HĐ thu gom, xử lý và tiêu huỷ rác thải; tái ch...</td>\n",
              "      <td>3.302947</td>\n",
              "      <td>2.688770</td>\n",
              "      <td>7.947625</td>\n",
              "      <td>5.605027</td>\n",
              "      <td>2014-02-28</td>\n",
              "      <td>2014-02</td>\n",
              "      <td>2014-01</td>\n",
              "    </tr>\n",
              "  </tbody>\n",
              "</table>\n",
              "<p>4237 rows × 8 columns</p>\n",
              "</div>"
            ],
            "text/plain": [
              "                                                  Ngành  YOY-Pre-Month  \\\n",
              "0                                Toàn ngành công nghiệp       8.380000   \n",
              "1                                           Khai khoáng      -6.100000   \n",
              "2                       Khai thác than cứng và than non     -13.880000   \n",
              "3                 Khai thác dầu thô và khí đốt tự nhiên      -6.230000   \n",
              "4                              Khai thác quặng kim loại      25.230000   \n",
              "...                                                 ...            ...   \n",
              "4232                      Sản xuất giường, tủ, bàn, ghế      -2.205523   \n",
              "4233                         Sản xuất và phân phối điện       4.629041   \n",
              "4234                       và xử lý rác thải, nước thải       4.442353   \n",
              "4235                  Khai thác, xử lý và cung cấp nước       5.025523   \n",
              "4236  HĐ thu gom, xử lý và tiêu huỷ rác thải; tái ch...       3.302947   \n",
              "\n",
              "            MOM        YOY    YTD-YOY       Date    Month PreMonth  \n",
              "0     -0.190000  10.840000   8.640000 2024-09-29  2024-09  2024-08  \n",
              "1     -7.300000  -5.900000  -6.450000 2024-09-29  2024-09  2024-08  \n",
              "2     -9.250000 -10.030000  -4.160000 2024-09-29  2024-09  2024-08  \n",
              "3     -7.310000  -7.820000 -11.500000 2024-09-29  2024-09  2024-08  \n",
              "4    -12.730000  13.200000  16.970000 2024-09-29  2024-09  2024-08  \n",
              "...         ...        ...        ...        ...      ...      ...  \n",
              "4232 -21.023681  28.980919   9.474830 2014-02-28  2014-02  2014-01  \n",
              "4233  -7.278234  13.088683   8.535242 2014-02-28  2014-02  2014-01  \n",
              "4234   0.587840   7.132010   5.774026 2014-02-28  2014-02  2014-01  \n",
              "4235  -0.469821   6.713222   5.860660 2014-02-28  2014-02  2014-01  \n",
              "4236   2.688770   7.947625   5.605027 2014-02-28  2014-02  2014-01  \n",
              "\n",
              "[4237 rows x 8 columns]"
            ]
          },
          "execution_count": 6,
          "metadata": {},
          "output_type": "execute_result"
        }
      ],
      "source": [
        "dfs_iip = pd.concat(dfs_iip_origin, ignore_index=True, axis=0)\n",
        "dfs_iip[\"Date\"] = pd.to_datetime(dfs_iip[\"Date\"], dayfirst=False)\n",
        "dfs_iip"
      ]
    },
    {
      "cell_type": "code",
      "execution_count": 7,
      "metadata": {},
      "outputs": [
        {
          "data": {
            "text/html": [
              "<div>\n",
              "<style scoped>\n",
              "    .dataframe tbody tr th:only-of-type {\n",
              "        vertical-align: middle;\n",
              "    }\n",
              "\n",
              "    .dataframe tbody tr th {\n",
              "        vertical-align: top;\n",
              "    }\n",
              "\n",
              "    .dataframe thead th {\n",
              "        text-align: right;\n",
              "    }\n",
              "</style>\n",
              "<table border=\"1\" class=\"dataframe\">\n",
              "  <thead>\n",
              "    <tr style=\"text-align: right;\">\n",
              "      <th></th>\n",
              "      <th>Ngành</th>\n",
              "      <th>YOY-Pre-Month</th>\n",
              "      <th>MOM</th>\n",
              "      <th>YOY</th>\n",
              "      <th>YTD-YOY</th>\n",
              "      <th>Date</th>\n",
              "      <th>Month</th>\n",
              "      <th>PreMonth</th>\n",
              "    </tr>\n",
              "  </thead>\n",
              "  <tbody>\n",
              "    <tr>\n",
              "      <th>0</th>\n",
              "      <td>Toàn ngành công nghiệp</td>\n",
              "      <td>8.380000</td>\n",
              "      <td>-0.190000</td>\n",
              "      <td>10.840000</td>\n",
              "      <td>8.640000</td>\n",
              "      <td>2024-09-29</td>\n",
              "      <td>2024-09</td>\n",
              "      <td>2024-08</td>\n",
              "    </tr>\n",
              "    <tr>\n",
              "      <th>1</th>\n",
              "      <td>Khai khoáng</td>\n",
              "      <td>-6.100000</td>\n",
              "      <td>-7.300000</td>\n",
              "      <td>-5.900000</td>\n",
              "      <td>-6.450000</td>\n",
              "      <td>2024-09-29</td>\n",
              "      <td>2024-09</td>\n",
              "      <td>2024-08</td>\n",
              "    </tr>\n",
              "    <tr>\n",
              "      <th>2</th>\n",
              "      <td>Khai thác than cứng và than non</td>\n",
              "      <td>-13.880000</td>\n",
              "      <td>-9.250000</td>\n",
              "      <td>-10.030000</td>\n",
              "      <td>-4.160000</td>\n",
              "      <td>2024-09-29</td>\n",
              "      <td>2024-09</td>\n",
              "      <td>2024-08</td>\n",
              "    </tr>\n",
              "    <tr>\n",
              "      <th>3</th>\n",
              "      <td>Khai thác dầu thô và khí đốt tự nhiên</td>\n",
              "      <td>-6.230000</td>\n",
              "      <td>-7.310000</td>\n",
              "      <td>-7.820000</td>\n",
              "      <td>-11.500000</td>\n",
              "      <td>2024-09-29</td>\n",
              "      <td>2024-09</td>\n",
              "      <td>2024-08</td>\n",
              "    </tr>\n",
              "    <tr>\n",
              "      <th>4</th>\n",
              "      <td>Khai thác quặng kim loại</td>\n",
              "      <td>25.230000</td>\n",
              "      <td>-12.730000</td>\n",
              "      <td>13.200000</td>\n",
              "      <td>16.970000</td>\n",
              "      <td>2024-09-29</td>\n",
              "      <td>2024-09</td>\n",
              "      <td>2024-08</td>\n",
              "    </tr>\n",
              "    <tr>\n",
              "      <th>...</th>\n",
              "      <td>...</td>\n",
              "      <td>...</td>\n",
              "      <td>...</td>\n",
              "      <td>...</td>\n",
              "      <td>...</td>\n",
              "      <td>...</td>\n",
              "      <td>...</td>\n",
              "      <td>...</td>\n",
              "    </tr>\n",
              "    <tr>\n",
              "      <th>4232</th>\n",
              "      <td>Sản xuất giường, tủ, bàn, ghế</td>\n",
              "      <td>-2.205523</td>\n",
              "      <td>-21.023681</td>\n",
              "      <td>28.980919</td>\n",
              "      <td>9.474830</td>\n",
              "      <td>2014-02-28</td>\n",
              "      <td>2014-02</td>\n",
              "      <td>2014-01</td>\n",
              "    </tr>\n",
              "    <tr>\n",
              "      <th>4233</th>\n",
              "      <td>Sản xuất và phân phối điện</td>\n",
              "      <td>4.629041</td>\n",
              "      <td>-7.278234</td>\n",
              "      <td>13.088683</td>\n",
              "      <td>8.535242</td>\n",
              "      <td>2014-02-28</td>\n",
              "      <td>2014-02</td>\n",
              "      <td>2014-01</td>\n",
              "    </tr>\n",
              "    <tr>\n",
              "      <th>4234</th>\n",
              "      <td>Cung cấp nước; hoạt động quản lý và xử lý rác ...</td>\n",
              "      <td>4.442353</td>\n",
              "      <td>0.587840</td>\n",
              "      <td>7.132010</td>\n",
              "      <td>5.774026</td>\n",
              "      <td>2014-02-28</td>\n",
              "      <td>2014-02</td>\n",
              "      <td>2014-01</td>\n",
              "    </tr>\n",
              "    <tr>\n",
              "      <th>4235</th>\n",
              "      <td>Khai thác, xử lý và cung cấp nước</td>\n",
              "      <td>5.025523</td>\n",
              "      <td>-0.469821</td>\n",
              "      <td>6.713222</td>\n",
              "      <td>5.860660</td>\n",
              "      <td>2014-02-28</td>\n",
              "      <td>2014-02</td>\n",
              "      <td>2014-01</td>\n",
              "    </tr>\n",
              "    <tr>\n",
              "      <th>4236</th>\n",
              "      <td>Hoạt động thu gom, xử lý và tiêu huỷ rác thải;...</td>\n",
              "      <td>3.302947</td>\n",
              "      <td>2.688770</td>\n",
              "      <td>7.947625</td>\n",
              "      <td>5.605027</td>\n",
              "      <td>2014-02-28</td>\n",
              "      <td>2014-02</td>\n",
              "      <td>2014-01</td>\n",
              "    </tr>\n",
              "  </tbody>\n",
              "</table>\n",
              "<p>4237 rows × 8 columns</p>\n",
              "</div>"
            ],
            "text/plain": [
              "                                                  Ngành  YOY-Pre-Month  \\\n",
              "0                                Toàn ngành công nghiệp       8.380000   \n",
              "1                                           Khai khoáng      -6.100000   \n",
              "2                       Khai thác than cứng và than non     -13.880000   \n",
              "3                 Khai thác dầu thô và khí đốt tự nhiên      -6.230000   \n",
              "4                              Khai thác quặng kim loại      25.230000   \n",
              "...                                                 ...            ...   \n",
              "4232                      Sản xuất giường, tủ, bàn, ghế      -2.205523   \n",
              "4233                         Sản xuất và phân phối điện       4.629041   \n",
              "4234  Cung cấp nước; hoạt động quản lý và xử lý rác ...       4.442353   \n",
              "4235                  Khai thác, xử lý và cung cấp nước       5.025523   \n",
              "4236  Hoạt động thu gom, xử lý và tiêu huỷ rác thải;...       3.302947   \n",
              "\n",
              "            MOM        YOY    YTD-YOY       Date    Month PreMonth  \n",
              "0     -0.190000  10.840000   8.640000 2024-09-29  2024-09  2024-08  \n",
              "1     -7.300000  -5.900000  -6.450000 2024-09-29  2024-09  2024-08  \n",
              "2     -9.250000 -10.030000  -4.160000 2024-09-29  2024-09  2024-08  \n",
              "3     -7.310000  -7.820000 -11.500000 2024-09-29  2024-09  2024-08  \n",
              "4    -12.730000  13.200000  16.970000 2024-09-29  2024-09  2024-08  \n",
              "...         ...        ...        ...        ...      ...      ...  \n",
              "4232 -21.023681  28.980919   9.474830 2014-02-28  2014-02  2014-01  \n",
              "4233  -7.278234  13.088683   8.535242 2014-02-28  2014-02  2014-01  \n",
              "4234   0.587840   7.132010   5.774026 2014-02-28  2014-02  2014-01  \n",
              "4235  -0.469821   6.713222   5.860660 2014-02-28  2014-02  2014-01  \n",
              "4236   2.688770   7.947625   5.605027 2014-02-28  2014-02  2014-01  \n",
              "\n",
              "[4237 rows x 8 columns]"
            ]
          },
          "execution_count": 7,
          "metadata": {},
          "output_type": "execute_result"
        }
      ],
      "source": [
        "convert_nganh = {\n",
        "    \"Toàn ngành công nghiệp\": \"Toàn ngành công nghiệp\",\n",
        "    \"Khai khoáng\": \"Khai khoáng\",\n",
        "    \"Khai thác than cứng và than non\": \"Khai thác than cứng và than non\",\n",
        "    \"Khai thác dầu thô và khí đốt tự nhiên\": \"Khai thác dầu thô và khí đốt tự nhiên\",\n",
        "    \"Khai thác quặng kim loại\": \"Khai thác quặng kim loại\",\n",
        "    \"Khai khoáng khác\": \"Khai khoáng khác\",\n",
        "    \"Hoạt động dịch vụ hỗ trợ khai thác mỏ và quặng\": \"Hoạt động dịch vụ hỗ trợ khai thác mỏ và quặng\",\n",
        "    \"Công nghiệp chế biến, chế tạo\": \"Công nghiệp chế biến, chế tạo\",\n",
        "    \"Sản xuất, chế biến thực phẩm\": \"Sản xuất, chế biến thực phẩm\",\n",
        "    \"Sản xuất đồ uống\": \"Sản xuất đồ uống\",\n",
        "    \"Sản xuất sản phẩm thuốc lá\": \"Sản xuất sản phẩm thuốc lá\",\n",
        "    \"Dệt\": \"Dệt\",\n",
        "    \"Sản xuất trang phục\": \"Sản xuất trang phục\",\n",
        "    \"Sản xuất da và các sản phẩm có liên quan\": \"Sản xuất da và các sản phẩm có liên quan\",\n",
        "    \"Chế biến gỗ và sản xuất sản phẩm từ gỗ, tre, nứa (trừ giường, tủ, bàn ghế); sản xuất sản phẩm từ rơm, rạ và vật liệu tết bện\": \"Chế biến gỗ và sản xuất sản phẩm từ gỗ, tre, nứa (trừ giường, tủ, bàn ghế); sản xuất sản phẩm từ rơm, rạ và vật liệu tết bện\",\n",
        "    \"Sản xuất giấy và sản phẩm từ giấy\": \"Sản xuất giấy và sản phẩm từ giấy\",\n",
        "    \"In, sao chép bản ghi các loại\": \"In, sao chép bản ghi các loại\",\n",
        "    \"Sản xuất than cốc, sản phẩm dầu mỏ tinh chế\": \"Sản xuất than cốc, sản phẩm dầu mỏ tinh chế\",\n",
        "    \"Sản xuất hoá chất và sản phẩm hoá chất\": \"Sản xuất hoá chất và sản phẩm hoá chất\",\n",
        "    \"Sản xuất thuốc, hoá dược và dược liệu\": \"Sản xuất thuốc, hoá dược và dược liệu\",\n",
        "    \"Sản xuất sản phẩm từ cao su và plastic\": \"Sản xuất sản phẩm từ cao su và plastic\",\n",
        "    \"Sản xuất sản phẩm từ khoáng phi kim loại khác\": \"Sản xuất sản phẩm từ khoáng phi kim loại khác\",\n",
        "    \"Sản xuất kim loại\": \"Sản xuất kim loại\",\n",
        "    \"Sản xuất sản phẩm từ kim loại đúc sẵn (trừ máy móc, thiết bị)\": \"Sản xuất sản phẩm từ kim loại đúc sẵn (trừ máy móc, thiết bị)\",\n",
        "    \"Sản xuất sản phẩm điện tử, máy vi tính và sản phẩm quang học\": \"Sản xuất sản phẩm điện tử, máy vi tính và sản phẩm quang học\",\n",
        "    \"Sản xuất thiết bị điện\": \"Sản xuất thiết bị điện\",\n",
        "    \"Sản xuất máy móc, thiết bị chưa được phân vào đâu\": \"Sản xuất máy móc, thiết bị chưa được phân vào đâu\",\n",
        "    \"Sản xuất xe có động cơ\": \"Sản xuất xe có động cơ\",\n",
        "    \"Sản xuất phương tiện vận tải khác\": \"Sản xuất phương tiện vận tải khác\",\n",
        "    \"Sản xuất giường, tủ, bàn, ghế\": \"Sản xuất giường, tủ, bàn, ghế\",\n",
        "    \"Công nghiệp chế biến, chế tạo khác\": \"Công nghiệp chế biến, chế tạo khác\",\n",
        "    \"Sửa chữa, bảo dưỡng và lắp đặt máy móc, thiết bị\": \"Sửa chữa, bảo dưỡng và lắp đặt máy móc, thiết bị\",\n",
        "    \"Sản xuất và phân phối điện\": \"Sản xuất và phân phối điện\",\n",
        "    \"Cung cấp nước; hoạt động quản lý và xử lý rác thải, nước thải\": \"Cung cấp nước; hoạt động quản lý và xử lý rác thải, nước thải\",\n",
        "    \"Khai thác, xử lý và cung cấp nước\": \"Khai thác, xử lý và cung cấp nước\",\n",
        "    \"Thoát nước và xử lý nước thải\": \"Thoát nước và xử lý nước thải\",\n",
        "    \"Hoạt động thu gom, xử lý và tiêu huỷ rác thải; tái chế phế liệu\": \"Hoạt động thu gom, xử lý và tiêu huỷ rác thải; tái chế phế liệu\",\n",
        "    \"Chế biến gỗ và sản xuất sản phẩm từ gỗ, tre, nứa (trừ giường, tủ, bàn, ghế); sản xuất sản phẩm từ rơm, rạ và vật liệu tết bện\": \"Chế biến gỗ và sản xuất sản phẩm từ gỗ, tre, nứa (trừ giường, tủ, bàn ghế); sản xuất sản phẩm từ rơm, rạ và vật liệu tết bện\",\n",
        "    \"Sửa chữa, bảo dưỡng và lắp đặt máy móc và thiết bị\": \"Sửa chữa, bảo dưỡng và lắp đặt máy móc, thiết bị\",\n",
        "    \"Sản xuất và phân phối điện, khí đốt, nước nóng, hơi nước và điều hòa không khí\": \"Sản xuất và phân phối điện\",\n",
        "    \"rơm, rạ và vật liệu tết bện\": \"Chế biến gỗ và sản xuất sản phẩm từ gỗ, tre, nứa (trừ giường, tủ, bàn ghế); sản xuất sản phẩm từ rơm, rạ và vật liệu tết bện\",\n",
        "    \"(trừ máy móc, thiết bị)\": \"Sản xuất sản phẩm từ kim loại đúc sẵn (trừ máy móc, thiết bị)\",\n",
        "    \"và sản phẩm quang học\": \"Sản xuất sản phẩm điện tử, máy vi tính và sản phẩm quang học\",\n",
        "    \"bàn ghế); sản xuất sản phẩm từ rơm, rạ và vật liệu tết bện\": \"Chế biến gỗ và sản xuất sản phẩm từ gỗ, tre, nứa (trừ giường, tủ, bàn ghế); sản xuất sản phẩm từ rơm, rạ và vật liệu tết bện\",\n",
        "    \"tái chế phế liệu\": \"Hoạt động thu gom, xử lý và tiêu huỷ rác thải; tái chế phế liệu\",\n",
        "    \"Sản xuất chế biến thực phẩm\": \"Sản xuất, chế biến thực phẩm\",\n",
        "    \"Sản xuất thuốc lá\": \"Sản xuất sản phẩm thuốc lá\",\n",
        "    \"Hoạt độg thu gom, xử lý và tiêu huỷ rác thải; tái chế phế liệu\": \"Hoạt động thu gom, xử lý và tiêu huỷ rác thải; tái chế phế liệu\",\n",
        "    \"TOÀN NGÀNH CÔNG NGHIỆP\": \"Toàn ngành công nghiệp\",\n",
        "    \"và xử lý rác thải, nước thải\": \"Cung cấp nước; hoạt động quản lý và xử lý rác thải, nước thải\",\n",
        "    \"HĐ thu gom, xử lý và tiêu huỷ rác thải; tái chế phế liệu\": \"Hoạt động thu gom, xử lý và tiêu huỷ rác thải; tái chế phế liệu\",\n",
        "    \"Sản xuất sản phẩm điện tử, máy vi tưnh và sản phẩm quang học\": \"Sản xuất sản phẩm điện tử, máy vi tính và sản phẩm quang học\",\n",
        "    \"Công nghiệp chế biến , chế tạo\": \"Công nghiệp chế biến, chế tạo\",\n",
        "    \"TOÀN QUỐC\": \"Toàn ngành công nghiệp\",\n",
        "    \"Sản xuất và phân phối điện, khí đốt, nước nóng, hơi nước và điều hoà không khí\": \"Sản xuất và phân phối điện\",\n",
        "}\n",
        "\n",
        "for pl in dfs_iip[\"Ngành\"].unique().tolist():\n",
        "    assert pl in convert_nganh.keys(), pl\n",
        "\n",
        "dfs_iip[\"Ngành\"] = dfs_iip[\"Ngành\"].map(convert_nganh)\n",
        "dfs_iip"
      ]
    },
    {
      "cell_type": "code",
      "execution_count": 8,
      "metadata": {},
      "outputs": [
        {
          "data": {
            "text/html": [
              "<div>\n",
              "<style scoped>\n",
              "    .dataframe tbody tr th:only-of-type {\n",
              "        vertical-align: middle;\n",
              "    }\n",
              "\n",
              "    .dataframe tbody tr th {\n",
              "        vertical-align: top;\n",
              "    }\n",
              "\n",
              "    .dataframe thead th {\n",
              "        text-align: right;\n",
              "    }\n",
              "</style>\n",
              "<table border=\"1\" class=\"dataframe\">\n",
              "  <thead>\n",
              "    <tr style=\"text-align: right;\">\n",
              "      <th></th>\n",
              "      <th>Ngành</th>\n",
              "      <th>YOY-Pre-Month</th>\n",
              "      <th>MOM</th>\n",
              "      <th>E-YOY</th>\n",
              "      <th>YTD-YOY</th>\n",
              "      <th>Date</th>\n",
              "      <th>Month</th>\n",
              "      <th>PreMonth</th>\n",
              "      <th>YOY</th>\n",
              "    </tr>\n",
              "  </thead>\n",
              "  <tbody>\n",
              "    <tr>\n",
              "      <th>0</th>\n",
              "      <td>Toàn ngành công nghiệp</td>\n",
              "      <td>8.380000</td>\n",
              "      <td>-0.190000</td>\n",
              "      <td>10.840000</td>\n",
              "      <td>8.640000</td>\n",
              "      <td>2024-09-29</td>\n",
              "      <td>2024-09</td>\n",
              "      <td>2024-08</td>\n",
              "      <td>10.840000</td>\n",
              "    </tr>\n",
              "    <tr>\n",
              "      <th>37</th>\n",
              "      <td>Toàn ngành công nghiệp</td>\n",
              "      <td>11.080000</td>\n",
              "      <td>2.000000</td>\n",
              "      <td>9.500000</td>\n",
              "      <td>8.600000</td>\n",
              "      <td>2024-08-29</td>\n",
              "      <td>2024-08</td>\n",
              "      <td>2024-07</td>\n",
              "      <td>8.380000</td>\n",
              "    </tr>\n",
              "    <tr>\n",
              "      <th>74</th>\n",
              "      <td>Toàn ngành công nghiệp</td>\n",
              "      <td>12.360000</td>\n",
              "      <td>0.690000</td>\n",
              "      <td>11.230000</td>\n",
              "      <td>8.470000</td>\n",
              "      <td>2024-07-29</td>\n",
              "      <td>2024-07</td>\n",
              "      <td>2024-06</td>\n",
              "      <td>11.080000</td>\n",
              "    </tr>\n",
              "    <tr>\n",
              "      <th>111</th>\n",
              "      <td>Toàn ngành công nghiệp</td>\n",
              "      <td>10.030000</td>\n",
              "      <td>0.670000</td>\n",
              "      <td>10.920000</td>\n",
              "      <td>7.720000</td>\n",
              "      <td>2024-06-29</td>\n",
              "      <td>2024-06</td>\n",
              "      <td>2024-05</td>\n",
              "      <td>12.360000</td>\n",
              "    </tr>\n",
              "    <tr>\n",
              "      <th>148</th>\n",
              "      <td>Toàn ngành công nghiệp</td>\n",
              "      <td>7.390000</td>\n",
              "      <td>3.850000</td>\n",
              "      <td>8.866731</td>\n",
              "      <td>6.755527</td>\n",
              "      <td>2024-05-29</td>\n",
              "      <td>2024-05</td>\n",
              "      <td>2024-04</td>\n",
              "      <td>10.030000</td>\n",
              "    </tr>\n",
              "    <tr>\n",
              "      <th>...</th>\n",
              "      <td>...</td>\n",
              "      <td>...</td>\n",
              "      <td>...</td>\n",
              "      <td>...</td>\n",
              "      <td>...</td>\n",
              "      <td>...</td>\n",
              "      <td>...</td>\n",
              "      <td>...</td>\n",
              "      <td>...</td>\n",
              "    </tr>\n",
              "    <tr>\n",
              "      <th>4098</th>\n",
              "      <td>Toàn ngành công nghiệp</td>\n",
              "      <td>5.724757</td>\n",
              "      <td>0.490725</td>\n",
              "      <td>6.095250</td>\n",
              "      <td>5.759989</td>\n",
              "      <td>2014-06-27</td>\n",
              "      <td>2014-06</td>\n",
              "      <td>2014-05</td>\n",
              "      <td>6.039949</td>\n",
              "    </tr>\n",
              "    <tr>\n",
              "      <th>4126</th>\n",
              "      <td>Toàn ngành công nghiệp</td>\n",
              "      <td>5.533029</td>\n",
              "      <td>2.030000</td>\n",
              "      <td>5.880000</td>\n",
              "      <td>5.639791</td>\n",
              "      <td>2014-05-29</td>\n",
              "      <td>2014-05</td>\n",
              "      <td>2014-04</td>\n",
              "      <td>5.724757</td>\n",
              "    </tr>\n",
              "    <tr>\n",
              "      <th>4154</th>\n",
              "      <td>Toàn ngành công nghiệp</td>\n",
              "      <td>5.291907</td>\n",
              "      <td>1.208386</td>\n",
              "      <td>6.000000</td>\n",
              "      <td>5.439391</td>\n",
              "      <td>2014-04-29</td>\n",
              "      <td>2014-04</td>\n",
              "      <td>2014-03</td>\n",
              "      <td>5.533029</td>\n",
              "    </tr>\n",
              "    <tr>\n",
              "      <th>4182</th>\n",
              "      <td>Toàn ngành công nghiệp</td>\n",
              "      <td>5.364297</td>\n",
              "      <td>16.900000</td>\n",
              "      <td>4.700000</td>\n",
              "      <td>5.200000</td>\n",
              "      <td>2014-03-28</td>\n",
              "      <td>2014-03</td>\n",
              "      <td>2014-02</td>\n",
              "      <td>5.291907</td>\n",
              "    </tr>\n",
              "    <tr>\n",
              "      <th>4210</th>\n",
              "      <td>Toàn ngành công nghiệp</td>\n",
              "      <td>-1.871176</td>\n",
              "      <td>-10.311820</td>\n",
              "      <td>15.246155</td>\n",
              "      <td>5.440862</td>\n",
              "      <td>2014-02-28</td>\n",
              "      <td>2014-02</td>\n",
              "      <td>2014-01</td>\n",
              "      <td>5.364297</td>\n",
              "    </tr>\n",
              "  </tbody>\n",
              "</table>\n",
              "<p>127 rows × 9 columns</p>\n",
              "</div>"
            ],
            "text/plain": [
              "                       Ngành  YOY-Pre-Month        MOM      E-YOY   YTD-YOY  \\\n",
              "0     Toàn ngành công nghiệp       8.380000  -0.190000  10.840000  8.640000   \n",
              "37    Toàn ngành công nghiệp      11.080000   2.000000   9.500000  8.600000   \n",
              "74    Toàn ngành công nghiệp      12.360000   0.690000  11.230000  8.470000   \n",
              "111   Toàn ngành công nghiệp      10.030000   0.670000  10.920000  7.720000   \n",
              "148   Toàn ngành công nghiệp       7.390000   3.850000   8.866731  6.755527   \n",
              "...                      ...            ...        ...        ...       ...   \n",
              "4098  Toàn ngành công nghiệp       5.724757   0.490725   6.095250  5.759989   \n",
              "4126  Toàn ngành công nghiệp       5.533029   2.030000   5.880000  5.639791   \n",
              "4154  Toàn ngành công nghiệp       5.291907   1.208386   6.000000  5.439391   \n",
              "4182  Toàn ngành công nghiệp       5.364297  16.900000   4.700000  5.200000   \n",
              "4210  Toàn ngành công nghiệp      -1.871176 -10.311820  15.246155  5.440862   \n",
              "\n",
              "           Date    Month PreMonth        YOY  \n",
              "0    2024-09-29  2024-09  2024-08  10.840000  \n",
              "37   2024-08-29  2024-08  2024-07   8.380000  \n",
              "74   2024-07-29  2024-07  2024-06  11.080000  \n",
              "111  2024-06-29  2024-06  2024-05  12.360000  \n",
              "148  2024-05-29  2024-05  2024-04  10.030000  \n",
              "...         ...      ...      ...        ...  \n",
              "4098 2014-06-27  2014-06  2014-05   6.039949  \n",
              "4126 2014-05-29  2014-05  2014-04   5.724757  \n",
              "4154 2014-04-29  2014-04  2014-03   5.533029  \n",
              "4182 2014-03-28  2014-03  2014-02   5.291907  \n",
              "4210 2014-02-28  2014-02  2014-01   5.364297  \n",
              "\n",
              "[127 rows x 9 columns]"
            ]
          },
          "execution_count": 8,
          "metadata": {},
          "output_type": "execute_result"
        }
      ],
      "source": [
        "merge_df = pd.merge(\n",
        "    left=dfs_iip,\n",
        "    right=dfs_iip,\n",
        "    left_on=[\"Ngành\", \"Month\"],\n",
        "    right_on=[\"Ngành\", \"PreMonth\"],\n",
        "    how=\"left\",\n",
        ")\n",
        "merge_df[\"Merged_YOY\"] = np.where(\n",
        "    merge_df[\"YOY-Pre-Month_y\"].isna(), merge_df[\"YOY_x\"], merge_df[\"YOY-Pre-Month_y\"]\n",
        ")\n",
        "merge_df = merge_df.drop(\n",
        "    columns=[\n",
        "        \"YOY-Pre-Month_y\",\n",
        "        \"MOM_y\",\n",
        "        \"YOY_y\",\n",
        "        \"YTD-YOY_y\",\n",
        "        \"Date_y\",\n",
        "        \"Month_y\",\n",
        "        \"PreMonth_y\",\n",
        "    ]\n",
        ")\n",
        "merge_df = merge_df.rename(\n",
        "    columns={\n",
        "        \"YOY-Pre-Month_x\": \"YOY-Pre-Month\",\n",
        "        \"MOM_x\": \"MOM\",\n",
        "        \"YOY_x\": \"E-YOY\",\n",
        "        \"YTD-YOY_x\": \"YTD-YOY\",\n",
        "        \"Date_x\": \"Date\",\n",
        "        \"Month_x\": \"Month\",\n",
        "        \"PreMonth_x\": \"PreMonth\",\n",
        "        \"Merged_YOY\": \"YOY\",\n",
        "    }\n",
        ")\n",
        "merge_df[merge_df[\"Ngành\"] == \"Toàn ngành công nghiệp\"]"
      ]
    },
    {
      "cell_type": "code",
      "execution_count": 9,
      "metadata": {},
      "outputs": [],
      "source": [
        "dfs_iip = merge_df"
      ]
    },
    {
      "cell_type": "code",
      "execution_count": 10,
      "metadata": {},
      "outputs": [],
      "source": [
        "dfs_iip.to_csv(\"../csv/iip.csv\")"
      ]
    },
    {
      "cell_type": "code",
      "execution_count": 11,
      "metadata": {},
      "outputs": [
        {
          "data": {
            "application/vnd.plotly.v1+json": {
              "config": {
                "plotlyServerURL": "https://plot.ly"
              },
              "data": [
                {
                  "fillpattern": {
                    "shape": ""
                  },
                  "hovertemplate": "Ngành=Toàn ngành công nghiệp<br>Date=%{x}<br>YOY=%{y}<extra></extra>",
                  "legendgroup": "Toàn ngành công nghiệp",
                  "line": {
                    "color": "#636efa"
                  },
                  "marker": {
                    "symbol": "circle"
                  },
                  "mode": "lines",
                  "name": "Toàn ngành công nghiệp",
                  "orientation": "v",
                  "showlegend": true,
                  "stackgroup": "1",
                  "type": "scatter",
                  "x": [
                    "2024-09-29T00:00:00",
                    "2024-08-29T00:00:00",
                    "2024-07-29T00:00:00",
                    "2024-06-29T00:00:00",
                    "2024-05-29T00:00:00",
                    "2024-04-29T00:00:00",
                    "2024-03-29T00:00:00",
                    "2024-02-29T00:00:00",
                    "2024-01-29T00:00:00",
                    "2023-12-29T00:00:00",
                    "2023-11-29T00:00:00",
                    "2023-10-29T00:00:00",
                    "2023-09-29T00:00:00",
                    "2023-08-29T00:00:00",
                    "2023-07-29T00:00:00",
                    "2023-06-29T00:00:00",
                    "2023-05-29T00:00:00",
                    "2023-04-29T00:00:00",
                    "2023-03-29T00:00:00",
                    "2023-02-28T00:00:00",
                    "2023-01-29T00:00:00",
                    "2022-12-29T00:00:00",
                    "2022-11-29T00:00:00",
                    "2022-10-29T00:00:00",
                    "2022-09-29T00:00:00",
                    "2022-08-29T00:00:00",
                    "2022-07-29T00:00:00",
                    "2022-06-29T00:00:00",
                    "2022-05-29T00:00:00",
                    "2022-04-29T00:00:00",
                    "2022-03-29T00:00:00",
                    "2022-02-28T00:00:00",
                    "2022-01-29T00:00:00",
                    "2021-12-29T00:00:00",
                    "2021-11-29T00:00:00",
                    "2021-10-29T00:00:00",
                    "2021-09-29T00:00:00",
                    "2021-08-29T00:00:00",
                    "2021-07-29T00:00:00",
                    "2021-06-29T00:00:00",
                    "2021-05-29T00:00:00",
                    "2021-04-29T00:00:00",
                    "2021-03-29T00:00:00",
                    "2021-02-28T00:00:00",
                    "2021-01-29T00:00:00",
                    "2020-12-27T00:00:00",
                    "2020-11-29T00:00:00",
                    "2020-10-29T00:00:00",
                    "2020-09-29T00:00:00",
                    "2020-08-29T00:00:00",
                    "2020-07-29T00:00:00",
                    "2020-06-29T00:00:00",
                    "2020-05-29T00:00:00",
                    "2020-04-29T00:00:00",
                    "2020-03-27T00:00:00",
                    "2020-02-29T00:00:00",
                    "2020-01-29T00:00:00",
                    "2019-12-27T00:00:00",
                    "2019-11-29T00:00:00",
                    "2019-10-29T00:00:00",
                    "2019-09-28T00:00:00",
                    "2019-08-29T00:00:00",
                    "2019-07-29T00:00:00",
                    "2019-06-28T00:00:00",
                    "2019-05-27T00:00:00",
                    "2019-04-29T00:00:00",
                    "2019-03-29T00:00:00",
                    "2019-02-28T00:00:00",
                    "2019-01-29T00:00:00",
                    "2018-12-27T00:00:00",
                    "2018-11-29T00:00:00",
                    "2018-10-29T00:00:00",
                    "2018-09-28T00:00:00",
                    "2018-08-29T00:00:00",
                    "2018-07-27T00:00:00",
                    "2018-06-29T00:00:00",
                    "2018-05-29T00:00:00",
                    "2018-04-27T00:00:00",
                    "2018-03-29T00:00:00",
                    "2018-02-28T00:00:00",
                    "2018-01-29T00:00:00"
                  ],
                  "xaxis": "x",
                  "y": [
                    10.840000000000003,
                    8.379999999999995,
                    11.079999999999998,
                    12.36,
                    10.030000000000001,
                    7.390000000000001,
                    4.780000000000001,
                    -5.920000000000002,
                    18.86,
                    5.760000000000005,
                    4.969999999999999,
                    4.379315938424924,
                    2.8900000000000006,
                    3.4599999999999937,
                    2.3400000000000034,
                    1.75,
                    0.480000000000004,
                    -2.430000000000007,
                    -1.9899999999999949,
                    7.230000000000004,
                    -14.89,
                    0.18999999999999773,
                    3.4599999999999937,
                    5.480000000000004,
                    10.298920543814205,
                    13.329999999999998,
                    9.469999999999999,
                    9.100997214165076,
                    9.535039000225737,
                    11.08589671514838,
                    9.09238594461577,
                    9.189999999999998,
                    2.760000000000005,
                    8.667864378880012,
                    8.153961978898053,
                    -1.7800000000000011,
                    -7.549999999999997,
                    -7.769999999999996,
                    -0.3499999999999943,
                    4.859999999999999,
                    11.819999999999993,
                    22.17,
                    3.6400000000000006,
                    -8.319999999999993,
                    22.450000000000003,
                    9.524242772174887,
                    5.969999999999999,
                    3.8900000000000006,
                    4.780510651616268,
                    -0.5600000000000023,
                    1.8454834076024866,
                    7.249347399719653,
                    -0.4000000000000057,
                    -9.437708728713943,
                    4.914849625444262,
                    22.268422130333633,
                    -7.989999999999995,
                    6.201186880739229,
                    5.491741510479727,
                    9.815331434659,
                    9.905254370550765,
                    10.526043469855594,
                    9.80483870497136,
                    8.9676260979939,
                    10.237404967323101,
                    9.304893483837432,
                    9.200000000000003,
                    10.092082732534038,
                    8.099999999999994,
                    11.409999999999997,
                    9.646572870248434,
                    10.277102270641308,
                    10.617369676873281,
                    11.31351911533227,
                    10.810000000000002,
                    10.36,
                    10.120000000000005,
                    10.39,
                    11.65855932867531,
                    13.209999999999994,
                    21.879999999999995
                  ],
                  "yaxis": "y"
                },
                {
                  "fillpattern": {
                    "shape": ""
                  },
                  "hovertemplate": "Ngành=Khai khoáng<br>Date=%{x}<br>YOY=%{y}<extra></extra>",
                  "legendgroup": "Khai khoáng",
                  "line": {
                    "color": "#EF553B"
                  },
                  "marker": {
                    "symbol": "circle"
                  },
                  "mode": "lines",
                  "name": "Khai khoáng",
                  "orientation": "v",
                  "showlegend": true,
                  "stackgroup": "1",
                  "type": "scatter",
                  "x": [
                    "2024-09-29T00:00:00",
                    "2024-08-29T00:00:00",
                    "2024-07-29T00:00:00",
                    "2024-06-29T00:00:00",
                    "2024-05-29T00:00:00",
                    "2024-04-29T00:00:00",
                    "2024-03-29T00:00:00",
                    "2024-02-29T00:00:00",
                    "2024-01-29T00:00:00",
                    "2023-12-29T00:00:00",
                    "2023-11-29T00:00:00",
                    "2023-10-29T00:00:00",
                    "2023-09-29T00:00:00",
                    "2023-08-29T00:00:00",
                    "2023-07-29T00:00:00",
                    "2023-06-29T00:00:00",
                    "2023-05-29T00:00:00",
                    "2023-04-29T00:00:00",
                    "2023-03-29T00:00:00",
                    "2023-02-28T00:00:00",
                    "2023-01-29T00:00:00",
                    "2022-12-29T00:00:00",
                    "2022-11-29T00:00:00",
                    "2022-10-29T00:00:00",
                    "2022-09-29T00:00:00",
                    "2022-08-29T00:00:00",
                    "2022-07-29T00:00:00",
                    "2022-06-29T00:00:00",
                    "2022-05-29T00:00:00",
                    "2022-04-29T00:00:00",
                    "2022-03-29T00:00:00",
                    "2022-02-28T00:00:00",
                    "2022-01-29T00:00:00",
                    "2021-12-29T00:00:00",
                    "2021-11-29T00:00:00",
                    "2021-10-29T00:00:00",
                    "2021-09-29T00:00:00",
                    "2021-08-29T00:00:00",
                    "2021-07-29T00:00:00",
                    "2021-06-29T00:00:00",
                    "2021-05-29T00:00:00",
                    "2021-04-29T00:00:00",
                    "2021-03-29T00:00:00",
                    "2021-02-28T00:00:00",
                    "2021-01-29T00:00:00",
                    "2020-12-27T00:00:00",
                    "2020-11-29T00:00:00",
                    "2020-10-29T00:00:00",
                    "2020-09-29T00:00:00",
                    "2020-08-29T00:00:00",
                    "2020-07-29T00:00:00",
                    "2020-06-29T00:00:00",
                    "2020-05-29T00:00:00",
                    "2020-04-29T00:00:00",
                    "2020-03-27T00:00:00",
                    "2020-02-29T00:00:00",
                    "2020-01-29T00:00:00",
                    "2019-12-27T00:00:00",
                    "2019-11-29T00:00:00",
                    "2019-10-29T00:00:00",
                    "2019-09-28T00:00:00",
                    "2019-08-29T00:00:00",
                    "2019-07-29T00:00:00",
                    "2019-06-28T00:00:00",
                    "2019-05-27T00:00:00",
                    "2019-04-29T00:00:00",
                    "2019-03-29T00:00:00",
                    "2019-02-28T00:00:00",
                    "2019-01-29T00:00:00",
                    "2018-12-27T00:00:00",
                    "2018-11-29T00:00:00",
                    "2018-10-29T00:00:00",
                    "2018-09-28T00:00:00",
                    "2018-08-29T00:00:00",
                    "2018-07-27T00:00:00",
                    "2018-06-29T00:00:00",
                    "2018-05-29T00:00:00",
                    "2018-04-27T00:00:00",
                    "2018-03-29T00:00:00",
                    "2018-02-28T00:00:00",
                    "2018-01-29T00:00:00"
                  ],
                  "xaxis": "x",
                  "y": [
                    -5.900000000000006,
                    -6.099999999999994,
                    -9.730000000000004,
                    -11.060000000000002,
                    -8.299999999999997,
                    -4.959999999999994,
                    -6.920000000000002,
                    -12.299999999999997,
                    9.239999999999995,
                    -12.810000000000002,
                    -6.859999999999999,
                    -0.8100000000000023,
                    -6.390000000000001,
                    -7.1200000000000045,
                    -2.1200000000000045,
                    0.23000000000000398,
                    2.9399999999999977,
                    -5.5,
                    -4.170000000000002,
                    9.900000000000006,
                    -13.030000000000001,
                    -5.060000000000002,
                    16.75,
                    12.11,
                    14.879999999999995,
                    7.519999999999996,
                    -2.780000000000001,
                    5.090000000000003,
                    3.8599999999999994,
                    7.859999999999999,
                    7.489999999999995,
                    2.1700000000000017,
                    -1.7000000000000028,
                    -7.140000000000001,
                    6.180000000000007,
                    -8.189999999999998,
                    -12.950000000000003,
                    -2.8100000000000023,
                    -10.920000000000002,
                    -4.920000000000002,
                    -5.939999999999998,
                    -0.7000000000000028,
                    -8.260000000000005,
                    -12.409999999999997,
                    1.980000000000004,
                    -10.409999999999997,
                    -11.450000000000003,
                    -11.420000000000002,
                    -5.670000000000002,
                    -10.560000000000002,
                    -3.8799999999999955,
                    -8.379999999999995,
                    -11.159999999999997,
                    -10.480000000000004,
                    -10.120000000000005,
                    11.39,
                    -14.450000000000003,
                    2.1299999999999955,
                    -6.269999999999996,
                    3.030000000000001,
                    -6.530000000000001,
                    12.400000000000006,
                    3.769999999999996,
                    0.35999999999999943,
                    2.319999999999993,
                    2.3499999999999943,
                    3.4399999999999977,
                    -2.3100000000000023,
                    -4.480000000000004,
                    -3.1700000000000017,
                    1.9899999999999949,
                    -2.280000000000001,
                    -1.8199999999999932,
                    -3.780000000000001,
                    -0.6200000000000045,
                    -1.0300000000000011,
                    -0.7900000000000063,
                    -0.8299999999999983,
                    0.15000000000000568,
                    2.700000000000003,
                    13.180000000000007
                  ],
                  "yaxis": "y"
                },
                {
                  "fillpattern": {
                    "shape": ""
                  },
                  "hovertemplate": "Ngành=Công nghiệp chế biến, chế tạo<br>Date=%{x}<br>YOY=%{y}<extra></extra>",
                  "legendgroup": "Công nghiệp chế biến, chế tạo",
                  "line": {
                    "color": "#00cc96"
                  },
                  "marker": {
                    "symbol": "circle"
                  },
                  "mode": "lines",
                  "name": "Công nghiệp chế biến, chế tạo",
                  "orientation": "v",
                  "showlegend": true,
                  "stackgroup": "1",
                  "type": "scatter",
                  "x": [
                    "2024-09-29T00:00:00",
                    "2024-08-29T00:00:00",
                    "2024-07-29T00:00:00",
                    "2024-06-29T00:00:00",
                    "2024-05-29T00:00:00",
                    "2024-04-29T00:00:00",
                    "2024-03-29T00:00:00",
                    "2024-02-29T00:00:00",
                    "2024-01-29T00:00:00",
                    "2023-12-29T00:00:00",
                    "2023-11-29T00:00:00",
                    "2023-10-29T00:00:00",
                    "2023-09-29T00:00:00",
                    "2023-08-29T00:00:00",
                    "2023-07-29T00:00:00",
                    "2023-06-29T00:00:00",
                    "2023-05-29T00:00:00",
                    "2023-04-29T00:00:00",
                    "2023-03-29T00:00:00",
                    "2023-02-28T00:00:00",
                    "2023-01-29T00:00:00",
                    "2022-12-29T00:00:00",
                    "2022-11-29T00:00:00",
                    "2022-10-29T00:00:00",
                    "2022-09-29T00:00:00",
                    "2022-08-29T00:00:00",
                    "2022-07-29T00:00:00",
                    "2022-06-29T00:00:00",
                    "2022-05-29T00:00:00",
                    "2022-04-29T00:00:00",
                    "2022-03-29T00:00:00",
                    "2022-02-28T00:00:00",
                    "2022-01-29T00:00:00",
                    "2021-12-29T00:00:00",
                    "2021-11-29T00:00:00",
                    "2021-10-29T00:00:00",
                    "2021-09-29T00:00:00",
                    "2021-08-29T00:00:00",
                    "2021-07-29T00:00:00",
                    "2021-06-29T00:00:00",
                    "2021-05-29T00:00:00",
                    "2021-04-29T00:00:00",
                    "2021-03-29T00:00:00",
                    "2021-02-28T00:00:00",
                    "2021-01-29T00:00:00",
                    "2020-12-27T00:00:00",
                    "2020-11-29T00:00:00",
                    "2020-10-29T00:00:00",
                    "2020-09-29T00:00:00",
                    "2020-08-29T00:00:00",
                    "2020-07-29T00:00:00",
                    "2020-06-29T00:00:00",
                    "2020-05-29T00:00:00",
                    "2020-04-29T00:00:00",
                    "2020-03-27T00:00:00",
                    "2020-02-29T00:00:00",
                    "2020-01-29T00:00:00",
                    "2019-12-27T00:00:00",
                    "2019-11-29T00:00:00",
                    "2019-10-29T00:00:00",
                    "2019-09-28T00:00:00",
                    "2019-08-29T00:00:00",
                    "2019-07-29T00:00:00",
                    "2019-06-28T00:00:00",
                    "2019-05-27T00:00:00",
                    "2019-04-29T00:00:00",
                    "2019-03-29T00:00:00",
                    "2019-02-28T00:00:00",
                    "2019-01-29T00:00:00",
                    "2018-12-27T00:00:00",
                    "2018-11-29T00:00:00",
                    "2018-10-29T00:00:00",
                    "2018-09-28T00:00:00",
                    "2018-08-29T00:00:00",
                    "2018-07-27T00:00:00",
                    "2018-06-29T00:00:00",
                    "2018-05-29T00:00:00",
                    "2018-04-27T00:00:00",
                    "2018-03-29T00:00:00",
                    "2018-02-28T00:00:00",
                    "2018-01-29T00:00:00"
                  ],
                  "xaxis": "x",
                  "y": [
                    13.099999999999994,
                    9.129999999999995,
                    13.780000000000001,
                    14.980000000000004,
                    11.879999999999995,
                    7.75,
                    5.1299999999999955,
                    -5.909999999999997,
                    18.709999999999994,
                    7.609999999999999,
                    5.739999999999995,
                    4.458379464780606,
                    3.780000000000001,
                    4.260000000000005,
                    2.6200000000000045,
                    2.230000000000004,
                    -0.9099999999999966,
                    -2.799999999999997,
                    -2.480000000000004,
                    6.810000000000002,
                    -15.590000000000003,
                    0.5600000000000023,
                    2.319999999999993,
                    4.420000000000002,
                    9.560000000000002,
                    14.099999999999994,
                    11.049999999999997,
                    9.937499461785109,
                    11.003270790917867,
                    11.74910860167077,
                    9.688603394153219,
                    9.680000000000007,
                    2.8900000000000006,
                    10.94035224389134,
                    8.550255943171095,
                    -0.7800000000000011,
                    -6.540000000000006,
                    -9.280000000000001,
                    0.7000000000000028,
                    6.030000000000001,
                    14.39,
                    26.36,
                    5.260000000000005,
                    -7.769999999999996,
                    27.150000000000006,
                    13.129999999999995,
                    8.370000000000005,
                    5.909999999999997,
                    5.400000000000006,
                    0.23999999999999488,
                    2.049999999999997,
                    10.260000000000005,
                    1.4000000000000057,
                    -9.61,
                    7.290000000000006,
                    24.603561430311004,
                    -7.819999999999993,
                    6.969999999999999,
                    6.540000000000006,
                    10.780000000000001,
                    12.239999999999995,
                    10.299999999999997,
                    10.409999999999997,
                    10.64,
                    11.579999999999998,
                    10.019999999999996,
                    10.200000000000003,
                    12.260000000000005,
                    10.200000000000003,
                    13.730000000000004,
                    10.840000000000003,
                    12.540000000000006,
                    12.930000000000007,
                    14.340000000000003,
                    12.870000000000005,
                    12.469999999999999,
                    12.120000000000005,
                    6.439999999999998,
                    14.14,
                    15.489999999999995,
                    24.120000000000005
                  ],
                  "yaxis": "y"
                },
                {
                  "fillpattern": {
                    "shape": ""
                  },
                  "hovertemplate": "Ngành=Sản xuất và phân phối điện<br>Date=%{x}<br>YOY=%{y}<extra></extra>",
                  "legendgroup": "Sản xuất và phân phối điện",
                  "line": {
                    "color": "#ab63fa"
                  },
                  "marker": {
                    "symbol": "circle"
                  },
                  "mode": "lines",
                  "name": "Sản xuất và phân phối điện",
                  "orientation": "v",
                  "showlegend": true,
                  "stackgroup": "1",
                  "type": "scatter",
                  "x": [
                    "2024-09-29T00:00:00",
                    "2024-08-29T00:00:00",
                    "2024-07-29T00:00:00",
                    "2024-06-29T00:00:00",
                    "2024-05-29T00:00:00",
                    "2024-05-29T00:00:00",
                    "2024-04-29T00:00:00",
                    "2024-04-29T00:00:00",
                    "2024-03-29T00:00:00",
                    "2024-02-29T00:00:00",
                    "2024-01-29T00:00:00",
                    "2023-12-29T00:00:00",
                    "2023-11-29T00:00:00",
                    "2023-10-29T00:00:00",
                    "2023-09-29T00:00:00",
                    "2023-08-29T00:00:00",
                    "2023-07-29T00:00:00",
                    "2023-06-29T00:00:00",
                    "2023-05-29T00:00:00",
                    "2023-04-29T00:00:00",
                    "2023-03-29T00:00:00",
                    "2023-02-28T00:00:00",
                    "2023-01-29T00:00:00",
                    "2022-12-29T00:00:00",
                    "2022-11-29T00:00:00",
                    "2022-10-29T00:00:00",
                    "2022-09-29T00:00:00",
                    "2022-08-29T00:00:00",
                    "2022-07-29T00:00:00",
                    "2022-06-29T00:00:00",
                    "2022-05-29T00:00:00",
                    "2022-04-29T00:00:00",
                    "2022-03-29T00:00:00",
                    "2022-02-28T00:00:00",
                    "2022-01-29T00:00:00",
                    "2021-12-29T00:00:00",
                    "2021-11-29T00:00:00",
                    "2021-10-29T00:00:00",
                    "2021-09-29T00:00:00",
                    "2021-08-29T00:00:00",
                    "2021-07-29T00:00:00",
                    "2021-06-29T00:00:00",
                    "2021-05-29T00:00:00",
                    "2021-04-29T00:00:00",
                    "2021-03-29T00:00:00",
                    "2021-02-28T00:00:00",
                    "2021-01-29T00:00:00",
                    "2020-12-27T00:00:00",
                    "2020-11-29T00:00:00",
                    "2020-10-29T00:00:00",
                    "2020-09-29T00:00:00",
                    "2020-08-29T00:00:00",
                    "2020-07-29T00:00:00",
                    "2020-06-29T00:00:00",
                    "2020-05-29T00:00:00",
                    "2020-04-29T00:00:00",
                    "2020-03-27T00:00:00",
                    "2020-02-29T00:00:00",
                    "2020-01-29T00:00:00",
                    "2019-12-27T00:00:00",
                    "2019-11-29T00:00:00",
                    "2019-10-29T00:00:00",
                    "2019-09-28T00:00:00",
                    "2019-08-29T00:00:00",
                    "2019-07-29T00:00:00",
                    "2019-06-28T00:00:00",
                    "2019-05-27T00:00:00",
                    "2019-04-29T00:00:00",
                    "2019-03-29T00:00:00",
                    "2019-02-28T00:00:00",
                    "2019-01-29T00:00:00",
                    "2018-12-27T00:00:00",
                    "2018-11-29T00:00:00",
                    "2018-10-29T00:00:00",
                    "2018-09-28T00:00:00",
                    "2018-08-29T00:00:00",
                    "2018-07-27T00:00:00",
                    "2018-06-29T00:00:00",
                    "2018-05-29T00:00:00",
                    "2018-04-27T00:00:00",
                    "2018-03-29T00:00:00",
                    "2018-02-28T00:00:00",
                    "2018-01-29T00:00:00"
                  ],
                  "xaxis": "x",
                  "y": [
                    6.400000000000006,
                    9.930000000000007,
                    7.609999999999999,
                    12.739999999999995,
                    12.319999999999993,
                    12.319999999999993,
                    13.930000000000007,
                    13.930000000000007,
                    10.920000000000002,
                    -1.4699999999999989,
                    29.870000000000005,
                    5.8799999999999955,
                    9.620000000000005,
                    7.420000000000002,
                    2.989999999999995,
                    5.609999999999999,
                    3.8499999999999943,
                    -0.6899999999999977,
                    7.650000000000006,
                    2.299999999999997,
                    1.8299999999999983,
                    8.260000000000005,
                    -12.379999999999995,
                    1.3100000000000023,
                    2.680000000000007,
                    9.340000000000003,
                    16.430000000000007,
                    12.319999999999993,
                    6.219999999999999,
                    5.510000000000005,
                    2.3400000000000034,
                    8.549999999999997,
                    6.540000000000006,
                    11.849999999999994,
                    5.239999999999995,
                    9.120999999999995,
                    6.849999999999994,
                    -4.810000000000002,
                    -11.700000000000003,
                    -1.8599999999999994,
                    1.6599999999999966,
                    6.189999999999998,
                    12.700000000000003,
                    19.83,
                    3.5,
                    -9.950000000000003,
                    11,
                    2.1200000000000045,
                    3.519999999999996,
                    2.010000000000005,
                    8.39,
                    1.3799999999999955,
                    5.239999999999995,
                    3.1700000000000017,
                    -0.9699999999999989,
                    -8.560000000000002,
                    6.099999999999994,
                    20,
                    -3.549999999999997,
                    3.299999999999997,
                    10.950000000000003,
                    9.659999999999997,
                    7.469999999999999,
                    9.909999999999997,
                    10.450000000000003,
                    7.510000000000005,
                    10.290000000000006,
                    12.439999999999998,
                    9.579999999999998,
                    10.209999999999994,
                    8.299999999999997,
                    11.730000000000004,
                    9.459999999999994,
                    9.599999999999994,
                    9.730000000000004,
                    5.489999999999995,
                    11.090000000000003,
                    10.450000000000003,
                    10.450000000000003,
                    10.379999999999995,
                    9.739999999999995,
                    11.75,
                    19.010000000000005
                  ],
                  "yaxis": "y"
                }
              ],
              "layout": {
                "legend": {
                  "title": {
                    "text": "Ngành"
                  },
                  "tracegroupgap": 0
                },
                "margin": {
                  "t": 60
                },
                "template": {
                  "data": {
                    "bar": [
                      {
                        "error_x": {
                          "color": "#2a3f5f"
                        },
                        "error_y": {
                          "color": "#2a3f5f"
                        },
                        "marker": {
                          "line": {
                            "color": "#E5ECF6",
                            "width": 0.5
                          },
                          "pattern": {
                            "fillmode": "overlay",
                            "size": 10,
                            "solidity": 0.2
                          }
                        },
                        "type": "bar"
                      }
                    ],
                    "barpolar": [
                      {
                        "marker": {
                          "line": {
                            "color": "#E5ECF6",
                            "width": 0.5
                          },
                          "pattern": {
                            "fillmode": "overlay",
                            "size": 10,
                            "solidity": 0.2
                          }
                        },
                        "type": "barpolar"
                      }
                    ],
                    "carpet": [
                      {
                        "aaxis": {
                          "endlinecolor": "#2a3f5f",
                          "gridcolor": "white",
                          "linecolor": "white",
                          "minorgridcolor": "white",
                          "startlinecolor": "#2a3f5f"
                        },
                        "baxis": {
                          "endlinecolor": "#2a3f5f",
                          "gridcolor": "white",
                          "linecolor": "white",
                          "minorgridcolor": "white",
                          "startlinecolor": "#2a3f5f"
                        },
                        "type": "carpet"
                      }
                    ],
                    "choropleth": [
                      {
                        "colorbar": {
                          "outlinewidth": 0,
                          "ticks": ""
                        },
                        "type": "choropleth"
                      }
                    ],
                    "contour": [
                      {
                        "colorbar": {
                          "outlinewidth": 0,
                          "ticks": ""
                        },
                        "colorscale": [
                          [
                            0,
                            "#0d0887"
                          ],
                          [
                            0.1111111111111111,
                            "#46039f"
                          ],
                          [
                            0.2222222222222222,
                            "#7201a8"
                          ],
                          [
                            0.3333333333333333,
                            "#9c179e"
                          ],
                          [
                            0.4444444444444444,
                            "#bd3786"
                          ],
                          [
                            0.5555555555555556,
                            "#d8576b"
                          ],
                          [
                            0.6666666666666666,
                            "#ed7953"
                          ],
                          [
                            0.7777777777777778,
                            "#fb9f3a"
                          ],
                          [
                            0.8888888888888888,
                            "#fdca26"
                          ],
                          [
                            1,
                            "#f0f921"
                          ]
                        ],
                        "type": "contour"
                      }
                    ],
                    "contourcarpet": [
                      {
                        "colorbar": {
                          "outlinewidth": 0,
                          "ticks": ""
                        },
                        "type": "contourcarpet"
                      }
                    ],
                    "heatmap": [
                      {
                        "colorbar": {
                          "outlinewidth": 0,
                          "ticks": ""
                        },
                        "colorscale": [
                          [
                            0,
                            "#0d0887"
                          ],
                          [
                            0.1111111111111111,
                            "#46039f"
                          ],
                          [
                            0.2222222222222222,
                            "#7201a8"
                          ],
                          [
                            0.3333333333333333,
                            "#9c179e"
                          ],
                          [
                            0.4444444444444444,
                            "#bd3786"
                          ],
                          [
                            0.5555555555555556,
                            "#d8576b"
                          ],
                          [
                            0.6666666666666666,
                            "#ed7953"
                          ],
                          [
                            0.7777777777777778,
                            "#fb9f3a"
                          ],
                          [
                            0.8888888888888888,
                            "#fdca26"
                          ],
                          [
                            1,
                            "#f0f921"
                          ]
                        ],
                        "type": "heatmap"
                      }
                    ],
                    "heatmapgl": [
                      {
                        "colorbar": {
                          "outlinewidth": 0,
                          "ticks": ""
                        },
                        "colorscale": [
                          [
                            0,
                            "#0d0887"
                          ],
                          [
                            0.1111111111111111,
                            "#46039f"
                          ],
                          [
                            0.2222222222222222,
                            "#7201a8"
                          ],
                          [
                            0.3333333333333333,
                            "#9c179e"
                          ],
                          [
                            0.4444444444444444,
                            "#bd3786"
                          ],
                          [
                            0.5555555555555556,
                            "#d8576b"
                          ],
                          [
                            0.6666666666666666,
                            "#ed7953"
                          ],
                          [
                            0.7777777777777778,
                            "#fb9f3a"
                          ],
                          [
                            0.8888888888888888,
                            "#fdca26"
                          ],
                          [
                            1,
                            "#f0f921"
                          ]
                        ],
                        "type": "heatmapgl"
                      }
                    ],
                    "histogram": [
                      {
                        "marker": {
                          "pattern": {
                            "fillmode": "overlay",
                            "size": 10,
                            "solidity": 0.2
                          }
                        },
                        "type": "histogram"
                      }
                    ],
                    "histogram2d": [
                      {
                        "colorbar": {
                          "outlinewidth": 0,
                          "ticks": ""
                        },
                        "colorscale": [
                          [
                            0,
                            "#0d0887"
                          ],
                          [
                            0.1111111111111111,
                            "#46039f"
                          ],
                          [
                            0.2222222222222222,
                            "#7201a8"
                          ],
                          [
                            0.3333333333333333,
                            "#9c179e"
                          ],
                          [
                            0.4444444444444444,
                            "#bd3786"
                          ],
                          [
                            0.5555555555555556,
                            "#d8576b"
                          ],
                          [
                            0.6666666666666666,
                            "#ed7953"
                          ],
                          [
                            0.7777777777777778,
                            "#fb9f3a"
                          ],
                          [
                            0.8888888888888888,
                            "#fdca26"
                          ],
                          [
                            1,
                            "#f0f921"
                          ]
                        ],
                        "type": "histogram2d"
                      }
                    ],
                    "histogram2dcontour": [
                      {
                        "colorbar": {
                          "outlinewidth": 0,
                          "ticks": ""
                        },
                        "colorscale": [
                          [
                            0,
                            "#0d0887"
                          ],
                          [
                            0.1111111111111111,
                            "#46039f"
                          ],
                          [
                            0.2222222222222222,
                            "#7201a8"
                          ],
                          [
                            0.3333333333333333,
                            "#9c179e"
                          ],
                          [
                            0.4444444444444444,
                            "#bd3786"
                          ],
                          [
                            0.5555555555555556,
                            "#d8576b"
                          ],
                          [
                            0.6666666666666666,
                            "#ed7953"
                          ],
                          [
                            0.7777777777777778,
                            "#fb9f3a"
                          ],
                          [
                            0.8888888888888888,
                            "#fdca26"
                          ],
                          [
                            1,
                            "#f0f921"
                          ]
                        ],
                        "type": "histogram2dcontour"
                      }
                    ],
                    "mesh3d": [
                      {
                        "colorbar": {
                          "outlinewidth": 0,
                          "ticks": ""
                        },
                        "type": "mesh3d"
                      }
                    ],
                    "parcoords": [
                      {
                        "line": {
                          "colorbar": {
                            "outlinewidth": 0,
                            "ticks": ""
                          }
                        },
                        "type": "parcoords"
                      }
                    ],
                    "pie": [
                      {
                        "automargin": true,
                        "type": "pie"
                      }
                    ],
                    "scatter": [
                      {
                        "fillpattern": {
                          "fillmode": "overlay",
                          "size": 10,
                          "solidity": 0.2
                        },
                        "type": "scatter"
                      }
                    ],
                    "scatter3d": [
                      {
                        "line": {
                          "colorbar": {
                            "outlinewidth": 0,
                            "ticks": ""
                          }
                        },
                        "marker": {
                          "colorbar": {
                            "outlinewidth": 0,
                            "ticks": ""
                          }
                        },
                        "type": "scatter3d"
                      }
                    ],
                    "scattercarpet": [
                      {
                        "marker": {
                          "colorbar": {
                            "outlinewidth": 0,
                            "ticks": ""
                          }
                        },
                        "type": "scattercarpet"
                      }
                    ],
                    "scattergeo": [
                      {
                        "marker": {
                          "colorbar": {
                            "outlinewidth": 0,
                            "ticks": ""
                          }
                        },
                        "type": "scattergeo"
                      }
                    ],
                    "scattergl": [
                      {
                        "marker": {
                          "colorbar": {
                            "outlinewidth": 0,
                            "ticks": ""
                          }
                        },
                        "type": "scattergl"
                      }
                    ],
                    "scattermapbox": [
                      {
                        "marker": {
                          "colorbar": {
                            "outlinewidth": 0,
                            "ticks": ""
                          }
                        },
                        "type": "scattermapbox"
                      }
                    ],
                    "scatterpolar": [
                      {
                        "marker": {
                          "colorbar": {
                            "outlinewidth": 0,
                            "ticks": ""
                          }
                        },
                        "type": "scatterpolar"
                      }
                    ],
                    "scatterpolargl": [
                      {
                        "marker": {
                          "colorbar": {
                            "outlinewidth": 0,
                            "ticks": ""
                          }
                        },
                        "type": "scatterpolargl"
                      }
                    ],
                    "scatterternary": [
                      {
                        "marker": {
                          "colorbar": {
                            "outlinewidth": 0,
                            "ticks": ""
                          }
                        },
                        "type": "scatterternary"
                      }
                    ],
                    "surface": [
                      {
                        "colorbar": {
                          "outlinewidth": 0,
                          "ticks": ""
                        },
                        "colorscale": [
                          [
                            0,
                            "#0d0887"
                          ],
                          [
                            0.1111111111111111,
                            "#46039f"
                          ],
                          [
                            0.2222222222222222,
                            "#7201a8"
                          ],
                          [
                            0.3333333333333333,
                            "#9c179e"
                          ],
                          [
                            0.4444444444444444,
                            "#bd3786"
                          ],
                          [
                            0.5555555555555556,
                            "#d8576b"
                          ],
                          [
                            0.6666666666666666,
                            "#ed7953"
                          ],
                          [
                            0.7777777777777778,
                            "#fb9f3a"
                          ],
                          [
                            0.8888888888888888,
                            "#fdca26"
                          ],
                          [
                            1,
                            "#f0f921"
                          ]
                        ],
                        "type": "surface"
                      }
                    ],
                    "table": [
                      {
                        "cells": {
                          "fill": {
                            "color": "#EBF0F8"
                          },
                          "line": {
                            "color": "white"
                          }
                        },
                        "header": {
                          "fill": {
                            "color": "#C8D4E3"
                          },
                          "line": {
                            "color": "white"
                          }
                        },
                        "type": "table"
                      }
                    ]
                  },
                  "layout": {
                    "annotationdefaults": {
                      "arrowcolor": "#2a3f5f",
                      "arrowhead": 0,
                      "arrowwidth": 1
                    },
                    "autotypenumbers": "strict",
                    "coloraxis": {
                      "colorbar": {
                        "outlinewidth": 0,
                        "ticks": ""
                      }
                    },
                    "colorscale": {
                      "diverging": [
                        [
                          0,
                          "#8e0152"
                        ],
                        [
                          0.1,
                          "#c51b7d"
                        ],
                        [
                          0.2,
                          "#de77ae"
                        ],
                        [
                          0.3,
                          "#f1b6da"
                        ],
                        [
                          0.4,
                          "#fde0ef"
                        ],
                        [
                          0.5,
                          "#f7f7f7"
                        ],
                        [
                          0.6,
                          "#e6f5d0"
                        ],
                        [
                          0.7,
                          "#b8e186"
                        ],
                        [
                          0.8,
                          "#7fbc41"
                        ],
                        [
                          0.9,
                          "#4d9221"
                        ],
                        [
                          1,
                          "#276419"
                        ]
                      ],
                      "sequential": [
                        [
                          0,
                          "#0d0887"
                        ],
                        [
                          0.1111111111111111,
                          "#46039f"
                        ],
                        [
                          0.2222222222222222,
                          "#7201a8"
                        ],
                        [
                          0.3333333333333333,
                          "#9c179e"
                        ],
                        [
                          0.4444444444444444,
                          "#bd3786"
                        ],
                        [
                          0.5555555555555556,
                          "#d8576b"
                        ],
                        [
                          0.6666666666666666,
                          "#ed7953"
                        ],
                        [
                          0.7777777777777778,
                          "#fb9f3a"
                        ],
                        [
                          0.8888888888888888,
                          "#fdca26"
                        ],
                        [
                          1,
                          "#f0f921"
                        ]
                      ],
                      "sequentialminus": [
                        [
                          0,
                          "#0d0887"
                        ],
                        [
                          0.1111111111111111,
                          "#46039f"
                        ],
                        [
                          0.2222222222222222,
                          "#7201a8"
                        ],
                        [
                          0.3333333333333333,
                          "#9c179e"
                        ],
                        [
                          0.4444444444444444,
                          "#bd3786"
                        ],
                        [
                          0.5555555555555556,
                          "#d8576b"
                        ],
                        [
                          0.6666666666666666,
                          "#ed7953"
                        ],
                        [
                          0.7777777777777778,
                          "#fb9f3a"
                        ],
                        [
                          0.8888888888888888,
                          "#fdca26"
                        ],
                        [
                          1,
                          "#f0f921"
                        ]
                      ]
                    },
                    "colorway": [
                      "#636efa",
                      "#EF553B",
                      "#00cc96",
                      "#ab63fa",
                      "#FFA15A",
                      "#19d3f3",
                      "#FF6692",
                      "#B6E880",
                      "#FF97FF",
                      "#FECB52"
                    ],
                    "font": {
                      "color": "#2a3f5f"
                    },
                    "geo": {
                      "bgcolor": "white",
                      "lakecolor": "white",
                      "landcolor": "#E5ECF6",
                      "showlakes": true,
                      "showland": true,
                      "subunitcolor": "white"
                    },
                    "hoverlabel": {
                      "align": "left"
                    },
                    "hovermode": "closest",
                    "mapbox": {
                      "style": "light"
                    },
                    "paper_bgcolor": "white",
                    "plot_bgcolor": "#E5ECF6",
                    "polar": {
                      "angularaxis": {
                        "gridcolor": "white",
                        "linecolor": "white",
                        "ticks": ""
                      },
                      "bgcolor": "#E5ECF6",
                      "radialaxis": {
                        "gridcolor": "white",
                        "linecolor": "white",
                        "ticks": ""
                      }
                    },
                    "scene": {
                      "xaxis": {
                        "backgroundcolor": "#E5ECF6",
                        "gridcolor": "white",
                        "gridwidth": 2,
                        "linecolor": "white",
                        "showbackground": true,
                        "ticks": "",
                        "zerolinecolor": "white"
                      },
                      "yaxis": {
                        "backgroundcolor": "#E5ECF6",
                        "gridcolor": "white",
                        "gridwidth": 2,
                        "linecolor": "white",
                        "showbackground": true,
                        "ticks": "",
                        "zerolinecolor": "white"
                      },
                      "zaxis": {
                        "backgroundcolor": "#E5ECF6",
                        "gridcolor": "white",
                        "gridwidth": 2,
                        "linecolor": "white",
                        "showbackground": true,
                        "ticks": "",
                        "zerolinecolor": "white"
                      }
                    },
                    "shapedefaults": {
                      "line": {
                        "color": "#2a3f5f"
                      }
                    },
                    "ternary": {
                      "aaxis": {
                        "gridcolor": "white",
                        "linecolor": "white",
                        "ticks": ""
                      },
                      "baxis": {
                        "gridcolor": "white",
                        "linecolor": "white",
                        "ticks": ""
                      },
                      "bgcolor": "#E5ECF6",
                      "caxis": {
                        "gridcolor": "white",
                        "linecolor": "white",
                        "ticks": ""
                      }
                    },
                    "title": {
                      "x": 0.05
                    },
                    "xaxis": {
                      "automargin": true,
                      "gridcolor": "white",
                      "linecolor": "white",
                      "ticks": "",
                      "title": {
                        "standoff": 15
                      },
                      "zerolinecolor": "white",
                      "zerolinewidth": 2
                    },
                    "yaxis": {
                      "automargin": true,
                      "gridcolor": "white",
                      "linecolor": "white",
                      "ticks": "",
                      "title": {
                        "standoff": 15
                      },
                      "zerolinecolor": "white",
                      "zerolinewidth": 2
                    }
                  }
                },
                "xaxis": {
                  "anchor": "y",
                  "domain": [
                    0,
                    1
                  ],
                  "rangeselector": {
                    "buttons": [
                      {
                        "count": 1,
                        "label": "YTD",
                        "step": "year",
                        "stepmode": "todate"
                      },
                      {
                        "count": 1,
                        "label": "1y",
                        "step": "year",
                        "stepmode": "backward"
                      },
                      {
                        "count": 3,
                        "label": "3y",
                        "step": "year",
                        "stepmode": "backward"
                      },
                      {
                        "count": 5,
                        "label": "5y",
                        "step": "year",
                        "stepmode": "backward"
                      },
                      {
                        "count": 7,
                        "label": "7y",
                        "step": "year",
                        "stepmode": "backward"
                      },
                      {
                        "count": 10,
                        "label": "10y",
                        "step": "year",
                        "stepmode": "backward"
                      },
                      {
                        "step": "all"
                      }
                    ]
                  },
                  "rangeslider": {
                    "visible": true
                  },
                  "title": {
                    "text": "Date"
                  }
                },
                "yaxis": {
                  "anchor": "x",
                  "domain": [
                    0,
                    1
                  ],
                  "title": {
                    "text": "YOY"
                  }
                }
              }
            }
          },
          "metadata": {},
          "output_type": "display_data"
        }
      ],
      "source": [
        "import pandas as pd\n",
        "import plotly.express as px\n",
        "import plotly.graph_objects as go\n",
        "\n",
        "df_show = dfs_iip[\n",
        "    (\n",
        "        (dfs_iip[\"Ngành\"] == \"Toàn ngành công nghiệp\")\n",
        "        | (dfs_iip[\"Ngành\"] == \"Khai khoáng\")\n",
        "        | (dfs_iip[\"Ngành\"] == \"Công nghiệp chế biến, chế tạo\")\n",
        "        | (dfs_iip[\"Ngành\"] == \"Sản xuất và phân phối điện\")\n",
        "    )\n",
        "    & (dfs_iip[\"Date\"] > \"2018-01-01\")\n",
        "]\n",
        "\n",
        "fig = px.area(df_show, x=\"Date\", y=\"YOY\", color=\"Ngành\")\n",
        "# fig = px.area(df_show, x=\"Date\", y=\"YTD-YOY\", color=\"Ngành\")\n",
        "\n",
        "fig.update_xaxes(\n",
        "    rangeslider_visible=True,\n",
        "    rangeselector=dict(\n",
        "        buttons=[\n",
        "            dict(count=1, label=\"YTD\", step=\"year\", stepmode=\"todate\"),\n",
        "            dict(count=1, label=\"1y\", step=\"year\", stepmode=\"backward\"),\n",
        "            dict(count=3, label=\"3y\", step=\"year\", stepmode=\"backward\"),\n",
        "            dict(count=5, label=\"5y\", step=\"year\", stepmode=\"backward\"),\n",
        "            dict(count=7, label=\"7y\", step=\"year\", stepmode=\"backward\"),\n",
        "            dict(count=10, label=\"10y\", step=\"year\", stepmode=\"backward\"),\n",
        "            dict(step=\"all\"),\n",
        "        ]\n",
        "    ),\n",
        ")\n",
        "\n",
        "fig.show()"
      ]
    },
    {
      "cell_type": "code",
      "execution_count": 12,
      "metadata": {},
      "outputs": [
        {
          "data": {
            "application/vnd.plotly.v1+json": {
              "config": {
                "plotlyServerURL": "https://plot.ly"
              },
              "data": [
                {
                  "fillpattern": {
                    "shape": ""
                  },
                  "hovertemplate": "Ngành=Sản xuất, chế biến thực phẩm<br>Date=%{x}<br>YOY=%{y}<extra></extra>",
                  "legendgroup": "Sản xuất, chế biến thực phẩm",
                  "line": {
                    "color": "#636efa"
                  },
                  "marker": {
                    "symbol": "circle"
                  },
                  "mode": "lines",
                  "name": "Sản xuất, chế biến thực phẩm",
                  "orientation": "v",
                  "showlegend": true,
                  "stackgroup": "1",
                  "type": "scatter",
                  "x": [
                    "2024-09-29T00:00:00",
                    "2024-08-29T00:00:00",
                    "2024-07-29T00:00:00",
                    "2024-06-29T00:00:00",
                    "2024-05-29T00:00:00",
                    "2024-04-29T00:00:00",
                    "2024-03-29T00:00:00",
                    "2024-02-29T00:00:00",
                    "2024-01-29T00:00:00",
                    "2023-12-29T00:00:00",
                    "2023-11-29T00:00:00",
                    "2023-10-29T00:00:00",
                    "2023-09-29T00:00:00",
                    "2023-08-29T00:00:00",
                    "2023-07-29T00:00:00",
                    "2023-06-29T00:00:00",
                    "2023-05-29T00:00:00",
                    "2023-04-29T00:00:00",
                    "2023-03-29T00:00:00",
                    "2023-02-28T00:00:00",
                    "2023-01-29T00:00:00",
                    "2022-12-29T00:00:00",
                    "2022-11-29T00:00:00",
                    "2022-10-29T00:00:00",
                    "2022-09-29T00:00:00",
                    "2022-08-29T00:00:00",
                    "2022-07-29T00:00:00",
                    "2022-06-29T00:00:00",
                    "2022-05-29T00:00:00",
                    "2022-04-29T00:00:00",
                    "2022-03-29T00:00:00",
                    "2022-02-28T00:00:00",
                    "2022-01-29T00:00:00"
                  ],
                  "xaxis": "x",
                  "y": [
                    11.650000000000006,
                    9.920000000000002,
                    9.989999999999995,
                    9.239999999999995,
                    7.469999999999999,
                    6.459999999999994,
                    6,
                    -7.730000000000004,
                    16.489999999999995,
                    8.719999999999999,
                    10.230000000000004,
                    8.469999999999999,
                    9.310000000000002,
                    7.599999999999994,
                    7.109999999999999,
                    6.609999999999999,
                    6.159999999999997,
                    3.3900000000000006,
                    6.939999999999998,
                    11.420000000000002,
                    -8.090000000000003,
                    5.790000000000006,
                    7.069999999999993,
                    7.569999999999993,
                    14.060000000000002,
                    22.959999999999994,
                    11.39,
                    6.430000000000007,
                    6.200000000000003,
                    7.08631061253466,
                    5.819999999999993,
                    3.799999999999997,
                    5.400000000000006
                  ],
                  "yaxis": "y"
                },
                {
                  "fillpattern": {
                    "shape": ""
                  },
                  "hovertemplate": "Ngành=Dệt<br>Date=%{x}<br>YOY=%{y}<extra></extra>",
                  "legendgroup": "Dệt",
                  "line": {
                    "color": "#EF553B"
                  },
                  "marker": {
                    "symbol": "circle"
                  },
                  "mode": "lines",
                  "name": "Dệt",
                  "orientation": "v",
                  "showlegend": true,
                  "stackgroup": "1",
                  "type": "scatter",
                  "x": [
                    "2024-09-29T00:00:00",
                    "2024-08-29T00:00:00",
                    "2024-07-29T00:00:00",
                    "2024-06-29T00:00:00",
                    "2024-05-29T00:00:00",
                    "2024-04-29T00:00:00",
                    "2024-03-29T00:00:00",
                    "2024-02-29T00:00:00",
                    "2024-01-29T00:00:00",
                    "2023-12-29T00:00:00",
                    "2023-11-29T00:00:00",
                    "2023-10-29T00:00:00",
                    "2023-09-29T00:00:00",
                    "2023-08-29T00:00:00",
                    "2023-07-29T00:00:00",
                    "2023-06-29T00:00:00",
                    "2023-05-29T00:00:00",
                    "2023-04-29T00:00:00",
                    "2023-03-29T00:00:00",
                    "2023-02-28T00:00:00",
                    "2023-01-29T00:00:00",
                    "2022-12-29T00:00:00",
                    "2022-11-29T00:00:00",
                    "2022-10-29T00:00:00",
                    "2022-09-29T00:00:00",
                    "2022-08-29T00:00:00",
                    "2022-07-29T00:00:00",
                    "2022-06-29T00:00:00",
                    "2022-05-29T00:00:00",
                    "2022-04-29T00:00:00",
                    "2022-03-29T00:00:00",
                    "2022-02-28T00:00:00",
                    "2022-01-29T00:00:00"
                  ],
                  "xaxis": "x",
                  "y": [
                    11.239999999999995,
                    11.549999999999997,
                    11.89,
                    11.700000000000003,
                    8.900000000000006,
                    9.180000000000007,
                    12.159999999999997,
                    -4.730000000000004,
                    45.34,
                    18.709999999999994,
                    18.430000000000007,
                    17.290000000000006,
                    16.239999999999995,
                    13.489999999999995,
                    11.36,
                    10.560000000000002,
                    2.6200000000000045,
                    -0.3499999999999943,
                    -2.7900000000000063,
                    9.25,
                    -25.659999999999997,
                    -1.8199999999999932,
                    5.329999999999998,
                    0.9699999999999989,
                    3.989999999999995,
                    9.25,
                    5.079999999999998,
                    -1.5100000000000051,
                    1.6299999999999955,
                    1.3299999999999983,
                    8.329999999999998,
                    8.629999999999995,
                    2.430000000000007
                  ],
                  "yaxis": "y"
                },
                {
                  "fillpattern": {
                    "shape": ""
                  },
                  "hovertemplate": "Ngành=Sản xuất hoá chất và sản phẩm hoá chất<br>Date=%{x}<br>YOY=%{y}<extra></extra>",
                  "legendgroup": "Sản xuất hoá chất và sản phẩm hoá chất",
                  "line": {
                    "color": "#00cc96"
                  },
                  "marker": {
                    "symbol": "circle"
                  },
                  "mode": "lines",
                  "name": "Sản xuất hoá chất và sản phẩm hoá chất",
                  "orientation": "v",
                  "showlegend": true,
                  "stackgroup": "1",
                  "type": "scatter",
                  "x": [
                    "2024-09-29T00:00:00",
                    "2024-08-29T00:00:00",
                    "2024-07-29T00:00:00",
                    "2024-06-29T00:00:00",
                    "2024-05-29T00:00:00",
                    "2024-04-29T00:00:00",
                    "2024-03-29T00:00:00",
                    "2024-02-29T00:00:00",
                    "2024-01-29T00:00:00",
                    "2023-12-29T00:00:00",
                    "2023-11-29T00:00:00",
                    "2023-10-29T00:00:00",
                    "2023-09-29T00:00:00",
                    "2023-08-29T00:00:00",
                    "2023-07-29T00:00:00",
                    "2023-06-29T00:00:00",
                    "2023-05-29T00:00:00",
                    "2023-04-29T00:00:00",
                    "2023-03-29T00:00:00",
                    "2023-02-28T00:00:00",
                    "2023-01-29T00:00:00",
                    "2022-12-29T00:00:00",
                    "2022-11-29T00:00:00",
                    "2022-10-29T00:00:00",
                    "2022-09-29T00:00:00",
                    "2022-08-29T00:00:00",
                    "2022-07-29T00:00:00",
                    "2022-06-29T00:00:00",
                    "2022-05-29T00:00:00",
                    "2022-04-29T00:00:00",
                    "2022-03-29T00:00:00",
                    "2022-02-28T00:00:00",
                    "2022-01-29T00:00:00"
                  ],
                  "xaxis": "x",
                  "y": [
                    19.86,
                    12.629999999999995,
                    7.170000000000002,
                    11.629999999999995,
                    7.75,
                    7.969999999999999,
                    6.689999999999998,
                    20.290000000000006,
                    41.349999999999994,
                    16.349999999999994,
                    14.549999999999997,
                    29.900000000000006,
                    7.140000000000001,
                    6.430000000000007,
                    17.72,
                    9.170000000000002,
                    10.030000000000001,
                    5.450000000000003,
                    5.1299999999999955,
                    16.879999999999995,
                    -16.83,
                    -0.5300000000000011,
                    -4.450000000000003,
                    2.6299999999999955,
                    8.5,
                    13.659999999999997,
                    2.5900000000000034,
                    2.569999999999993,
                    -0.5,
                    8.39,
                    10.790000000000006,
                    -4.1299999999999955,
                    2.4099999999999966
                  ],
                  "yaxis": "y"
                },
                {
                  "fillpattern": {
                    "shape": ""
                  },
                  "hovertemplate": "Ngành=Sản xuất sản phẩm từ cao su và plastic<br>Date=%{x}<br>YOY=%{y}<extra></extra>",
                  "legendgroup": "Sản xuất sản phẩm từ cao su và plastic",
                  "line": {
                    "color": "#ab63fa"
                  },
                  "marker": {
                    "symbol": "circle"
                  },
                  "mode": "lines",
                  "name": "Sản xuất sản phẩm từ cao su và plastic",
                  "orientation": "v",
                  "showlegend": true,
                  "stackgroup": "1",
                  "type": "scatter",
                  "x": [
                    "2024-09-29T00:00:00",
                    "2024-08-29T00:00:00",
                    "2024-07-29T00:00:00",
                    "2024-06-29T00:00:00",
                    "2024-05-29T00:00:00",
                    "2024-04-29T00:00:00",
                    "2024-03-29T00:00:00",
                    "2024-02-29T00:00:00",
                    "2024-01-29T00:00:00",
                    "2023-12-29T00:00:00",
                    "2023-11-29T00:00:00",
                    "2023-10-29T00:00:00",
                    "2023-09-29T00:00:00",
                    "2023-08-29T00:00:00",
                    "2023-07-29T00:00:00",
                    "2023-06-29T00:00:00",
                    "2023-05-29T00:00:00",
                    "2023-04-29T00:00:00",
                    "2023-03-29T00:00:00",
                    "2023-02-28T00:00:00",
                    "2023-01-29T00:00:00",
                    "2022-12-29T00:00:00",
                    "2022-11-29T00:00:00",
                    "2022-10-29T00:00:00",
                    "2022-09-29T00:00:00",
                    "2022-08-29T00:00:00",
                    "2022-07-29T00:00:00",
                    "2022-06-29T00:00:00",
                    "2022-05-29T00:00:00",
                    "2022-04-29T00:00:00",
                    "2022-03-29T00:00:00",
                    "2022-02-28T00:00:00",
                    "2022-01-29T00:00:00"
                  ],
                  "xaxis": "x",
                  "y": [
                    24.849999999999994,
                    30.330000000000013,
                    29.039999999999992,
                    35.21000000000001,
                    26.53,
                    32.94,
                    31.810000000000002,
                    -0.20999999999999375,
                    49.78999999999999,
                    23.310000000000002,
                    31.189999999999998,
                    21.5,
                    10.849999999999994,
                    11.560000000000002,
                    12.579999999999998,
                    8.480000000000004,
                    9.439999999999998,
                    -4.959999999999994,
                    15.36,
                    29.25,
                    -6.959999999999994,
                    -10.189999999999998,
                    -16.64,
                    -3.8100000000000023,
                    3.319999999999993,
                    3.280000000000001,
                    -1.7800000000000011,
                    11.329999999999998,
                    -9.620000000000005,
                    -17.799999999999997,
                    -7.269999999999996,
                    -11.260000000000005,
                    -20.560000000000002
                  ],
                  "yaxis": "y"
                },
                {
                  "fillpattern": {
                    "shape": ""
                  },
                  "hovertemplate": "Ngành=Sản xuất kim loại<br>Date=%{x}<br>YOY=%{y}<extra></extra>",
                  "legendgroup": "Sản xuất kim loại",
                  "line": {
                    "color": "#FFA15A"
                  },
                  "marker": {
                    "symbol": "circle"
                  },
                  "mode": "lines",
                  "name": "Sản xuất kim loại",
                  "orientation": "v",
                  "showlegend": true,
                  "stackgroup": "1",
                  "type": "scatter",
                  "x": [
                    "2024-09-29T00:00:00",
                    "2024-08-29T00:00:00",
                    "2024-07-29T00:00:00",
                    "2024-06-29T00:00:00",
                    "2024-05-29T00:00:00",
                    "2024-04-29T00:00:00",
                    "2024-03-29T00:00:00",
                    "2024-02-29T00:00:00",
                    "2024-01-29T00:00:00",
                    "2023-12-29T00:00:00",
                    "2023-11-29T00:00:00",
                    "2023-10-29T00:00:00",
                    "2023-09-29T00:00:00",
                    "2023-08-29T00:00:00",
                    "2023-07-29T00:00:00",
                    "2023-06-29T00:00:00",
                    "2023-05-29T00:00:00",
                    "2023-04-29T00:00:00",
                    "2023-03-29T00:00:00",
                    "2023-02-28T00:00:00",
                    "2023-01-29T00:00:00",
                    "2022-12-29T00:00:00",
                    "2022-11-29T00:00:00",
                    "2022-10-29T00:00:00",
                    "2022-09-29T00:00:00",
                    "2022-08-29T00:00:00",
                    "2022-07-29T00:00:00",
                    "2022-06-29T00:00:00",
                    "2022-05-29T00:00:00",
                    "2022-04-29T00:00:00",
                    "2022-03-29T00:00:00",
                    "2022-02-28T00:00:00",
                    "2022-01-29T00:00:00"
                  ],
                  "xaxis": "x",
                  "y": [
                    12.290000000000006,
                    12.39,
                    9.439999999999998,
                    13.689999999999998,
                    7.480000000000004,
                    6.480000000000004,
                    12.629999999999995,
                    2.6500000000000057,
                    41.80000000000001,
                    42.00999999999999,
                    29.789999999999992,
                    3.969999999999999,
                    11,
                    18.42,
                    19.879999999999995,
                    3.280000000000001,
                    -1.980000000000004,
                    -6.959999999999994,
                    -5.319999999999993,
                    3.260000000000005,
                    -19.930000000000007,
                    -5.060000000000002,
                    -4.819999999999993,
                    -14.64,
                    2.700000000000003,
                    -10.989999999999995,
                    -11.299999999999997,
                    -4.030000000000001,
                    2.180000000000007,
                    4.530000000000001,
                    2.9599999999999937,
                    6.579999999999998,
                    -0.4899999999999949
                  ],
                  "yaxis": "y"
                },
                {
                  "fillpattern": {
                    "shape": ""
                  },
                  "hovertemplate": "Ngành=Sản xuất sản phẩm từ kim loại đúc sẵn (trừ máy móc, thiết bị)<br>Date=%{x}<br>YOY=%{y}<extra></extra>",
                  "legendgroup": "Sản xuất sản phẩm từ kim loại đúc sẵn (trừ máy móc, thiết bị)",
                  "line": {
                    "color": "#19d3f3"
                  },
                  "marker": {
                    "symbol": "circle"
                  },
                  "mode": "lines",
                  "name": "Sản xuất sản phẩm từ kim loại đúc sẵn (trừ máy móc, thiết bị)",
                  "orientation": "v",
                  "showlegend": true,
                  "stackgroup": "1",
                  "type": "scatter",
                  "x": [
                    "2024-09-29T00:00:00",
                    "2024-08-29T00:00:00",
                    "2024-07-29T00:00:00",
                    "2024-06-29T00:00:00",
                    "2024-05-29T00:00:00",
                    "2024-04-29T00:00:00",
                    "2024-03-29T00:00:00",
                    "2024-02-29T00:00:00",
                    "2024-01-29T00:00:00",
                    "2023-12-29T00:00:00",
                    "2023-11-29T00:00:00",
                    "2023-10-29T00:00:00",
                    "2023-09-29T00:00:00",
                    "2023-08-29T00:00:00",
                    "2023-07-29T00:00:00",
                    "2023-06-29T00:00:00",
                    "2023-05-29T00:00:00",
                    "2023-04-29T00:00:00",
                    "2023-03-29T00:00:00",
                    "2023-02-28T00:00:00",
                    "2023-01-29T00:00:00",
                    "2022-12-29T00:00:00",
                    "2022-11-29T00:00:00",
                    "2022-10-29T00:00:00",
                    "2022-09-29T00:00:00",
                    "2022-08-29T00:00:00",
                    "2022-07-29T00:00:00",
                    "2022-06-29T00:00:00",
                    "2022-05-29T00:00:00",
                    "2022-04-29T00:00:00",
                    "2022-03-29T00:00:00",
                    "2022-02-28T00:00:00",
                    "2022-01-29T00:00:00"
                  ],
                  "xaxis": "x",
                  "y": [
                    12.950000000000003,
                    5.680000000000007,
                    12.780000000000001,
                    16.980000000000004,
                    22.189999999999998,
                    19.22,
                    6.670000000000002,
                    2.4200000000000017,
                    9.950000000000003,
                    8.739999999999995,
                    11.310000000000002,
                    15.650000000000006,
                    7.650000000000006,
                    15.159999999999997,
                    19.480000000000004,
                    9.480000000000004,
                    5.489999999999995,
                    -2.4399999999999977,
                    2.1299999999999955,
                    4.480000000000004,
                    -12.120000000000005,
                    -0.769999999999996,
                    -1.1500000000000057,
                    -0.35999999999999943,
                    8.290000000000006,
                    9.950000000000003,
                    10.439999999999998,
                    4.8799999999999955,
                    7.269999999999996,
                    10.030000000000001,
                    14.620000000000005,
                    18.33,
                    3.5400000000000063
                  ],
                  "yaxis": "y"
                },
                {
                  "fillpattern": {
                    "shape": ""
                  },
                  "hovertemplate": "Ngành=Sản xuất sản phẩm điện tử, máy vi tính và sản phẩm quang học<br>Date=%{x}<br>YOY=%{y}<extra></extra>",
                  "legendgroup": "Sản xuất sản phẩm điện tử, máy vi tính và sản phẩm quang học",
                  "line": {
                    "color": "#FF6692"
                  },
                  "marker": {
                    "symbol": "circle"
                  },
                  "mode": "lines",
                  "name": "Sản xuất sản phẩm điện tử, máy vi tính và sản phẩm quang học",
                  "orientation": "v",
                  "showlegend": true,
                  "stackgroup": "1",
                  "type": "scatter",
                  "x": [
                    "2024-09-29T00:00:00",
                    "2024-08-29T00:00:00",
                    "2024-07-29T00:00:00",
                    "2024-06-29T00:00:00",
                    "2024-05-29T00:00:00",
                    "2024-04-29T00:00:00",
                    "2024-03-29T00:00:00",
                    "2024-02-29T00:00:00",
                    "2024-01-29T00:00:00",
                    "2023-12-29T00:00:00",
                    "2023-11-29T00:00:00",
                    "2023-10-29T00:00:00",
                    "2023-09-29T00:00:00",
                    "2023-08-29T00:00:00",
                    "2023-07-29T00:00:00",
                    "2023-06-29T00:00:00",
                    "2023-05-29T00:00:00",
                    "2023-04-29T00:00:00",
                    "2023-03-29T00:00:00",
                    "2023-02-28T00:00:00",
                    "2023-01-29T00:00:00",
                    "2022-12-29T00:00:00",
                    "2022-11-29T00:00:00",
                    "2022-10-29T00:00:00",
                    "2022-09-29T00:00:00",
                    "2022-08-29T00:00:00",
                    "2022-07-29T00:00:00",
                    "2022-06-29T00:00:00",
                    "2022-05-29T00:00:00",
                    "2022-04-29T00:00:00",
                    "2022-03-29T00:00:00",
                    "2022-02-28T00:00:00",
                    "2022-01-29T00:00:00"
                  ],
                  "xaxis": "x",
                  "y": [
                    6.75,
                    -0.8599999999999994,
                    16.22,
                    31.22999999999999,
                    20.040000000000006,
                    12.060000000000002,
                    4.180000000000007,
                    -5.689999999999998,
                    1.8499999999999943,
                    7.969999999999999,
                    2.2099999999999937,
                    3.3799999999999955,
                    5.989999999999995,
                    4.049999999999997,
                    -2.3700000000000045,
                    -0.5499999999999972,
                    -6.469999999999999,
                    -3.5600000000000023,
                    -11.420000000000002,
                    -3.230000000000004,
                    -1.0999999999999943,
                    -1.9300000000000068,
                    5.939999999999998,
                    5.310000000000002,
                    -0.12999999999999545,
                    7.599999999999994,
                    12.879999999999995,
                    14.708938515658062,
                    14.739999999999995,
                    15.867615638033115,
                    13.120000000000005,
                    8.709999999999994,
                    -11.459999999999994
                  ],
                  "yaxis": "y"
                },
                {
                  "fillpattern": {
                    "shape": ""
                  },
                  "hovertemplate": "Ngành=Sản xuất thiết bị điện<br>Date=%{x}<br>YOY=%{y}<extra></extra>",
                  "legendgroup": "Sản xuất thiết bị điện",
                  "line": {
                    "color": "#B6E880"
                  },
                  "marker": {
                    "symbol": "circle"
                  },
                  "mode": "lines",
                  "name": "Sản xuất thiết bị điện",
                  "orientation": "v",
                  "showlegend": true,
                  "stackgroup": "1",
                  "type": "scatter",
                  "x": [
                    "2024-09-29T00:00:00",
                    "2024-08-29T00:00:00",
                    "2024-07-29T00:00:00",
                    "2024-06-29T00:00:00",
                    "2024-05-29T00:00:00",
                    "2024-04-29T00:00:00",
                    "2024-03-29T00:00:00",
                    "2024-02-29T00:00:00",
                    "2024-01-29T00:00:00",
                    "2023-12-29T00:00:00",
                    "2023-11-29T00:00:00",
                    "2023-10-29T00:00:00",
                    "2023-09-29T00:00:00",
                    "2023-08-29T00:00:00",
                    "2023-07-29T00:00:00",
                    "2023-06-29T00:00:00",
                    "2023-05-29T00:00:00",
                    "2023-04-29T00:00:00",
                    "2023-03-29T00:00:00",
                    "2023-02-28T00:00:00",
                    "2023-01-29T00:00:00",
                    "2022-12-29T00:00:00",
                    "2022-11-29T00:00:00",
                    "2022-10-29T00:00:00",
                    "2022-09-29T00:00:00",
                    "2022-08-29T00:00:00",
                    "2022-07-29T00:00:00",
                    "2022-06-29T00:00:00",
                    "2022-05-29T00:00:00",
                    "2022-04-29T00:00:00",
                    "2022-03-29T00:00:00",
                    "2022-02-28T00:00:00",
                    "2022-01-29T00:00:00"
                  ],
                  "xaxis": "x",
                  "y": [
                    -3.0400000000000063,
                    2.5,
                    -9.310000000000002,
                    -9.150000000000006,
                    20.450000000000003,
                    26.400000000000006,
                    26.909999999999997,
                    6.840000000000003,
                    45.77000000000001,
                    -1.769999999999996,
                    0.5499999999999972,
                    -0.7199999999999989,
                    12.530000000000001,
                    7.290000000000006,
                    3.799999999999997,
                    15.010000000000005,
                    8.709999999999994,
                    0.12000000000000455,
                    3.700000000000003,
                    9.590000000000003,
                    -58.34,
                    -14.5,
                    -13.879999999999995,
                    -2.3700000000000045,
                    1.9500000000000028,
                    -0.23999999999999488,
                    14.049999999999997,
                    19.929999999999993,
                    22.789999999999992,
                    30.81255513033932,
                    20.58,
                    19.950000000000003,
                    20.230000000000004
                  ],
                  "yaxis": "y"
                }
              ],
              "layout": {
                "legend": {
                  "title": {
                    "text": "Ngành"
                  },
                  "tracegroupgap": 0
                },
                "margin": {
                  "t": 60
                },
                "template": {
                  "data": {
                    "bar": [
                      {
                        "error_x": {
                          "color": "#2a3f5f"
                        },
                        "error_y": {
                          "color": "#2a3f5f"
                        },
                        "marker": {
                          "line": {
                            "color": "#E5ECF6",
                            "width": 0.5
                          },
                          "pattern": {
                            "fillmode": "overlay",
                            "size": 10,
                            "solidity": 0.2
                          }
                        },
                        "type": "bar"
                      }
                    ],
                    "barpolar": [
                      {
                        "marker": {
                          "line": {
                            "color": "#E5ECF6",
                            "width": 0.5
                          },
                          "pattern": {
                            "fillmode": "overlay",
                            "size": 10,
                            "solidity": 0.2
                          }
                        },
                        "type": "barpolar"
                      }
                    ],
                    "carpet": [
                      {
                        "aaxis": {
                          "endlinecolor": "#2a3f5f",
                          "gridcolor": "white",
                          "linecolor": "white",
                          "minorgridcolor": "white",
                          "startlinecolor": "#2a3f5f"
                        },
                        "baxis": {
                          "endlinecolor": "#2a3f5f",
                          "gridcolor": "white",
                          "linecolor": "white",
                          "minorgridcolor": "white",
                          "startlinecolor": "#2a3f5f"
                        },
                        "type": "carpet"
                      }
                    ],
                    "choropleth": [
                      {
                        "colorbar": {
                          "outlinewidth": 0,
                          "ticks": ""
                        },
                        "type": "choropleth"
                      }
                    ],
                    "contour": [
                      {
                        "colorbar": {
                          "outlinewidth": 0,
                          "ticks": ""
                        },
                        "colorscale": [
                          [
                            0,
                            "#0d0887"
                          ],
                          [
                            0.1111111111111111,
                            "#46039f"
                          ],
                          [
                            0.2222222222222222,
                            "#7201a8"
                          ],
                          [
                            0.3333333333333333,
                            "#9c179e"
                          ],
                          [
                            0.4444444444444444,
                            "#bd3786"
                          ],
                          [
                            0.5555555555555556,
                            "#d8576b"
                          ],
                          [
                            0.6666666666666666,
                            "#ed7953"
                          ],
                          [
                            0.7777777777777778,
                            "#fb9f3a"
                          ],
                          [
                            0.8888888888888888,
                            "#fdca26"
                          ],
                          [
                            1,
                            "#f0f921"
                          ]
                        ],
                        "type": "contour"
                      }
                    ],
                    "contourcarpet": [
                      {
                        "colorbar": {
                          "outlinewidth": 0,
                          "ticks": ""
                        },
                        "type": "contourcarpet"
                      }
                    ],
                    "heatmap": [
                      {
                        "colorbar": {
                          "outlinewidth": 0,
                          "ticks": ""
                        },
                        "colorscale": [
                          [
                            0,
                            "#0d0887"
                          ],
                          [
                            0.1111111111111111,
                            "#46039f"
                          ],
                          [
                            0.2222222222222222,
                            "#7201a8"
                          ],
                          [
                            0.3333333333333333,
                            "#9c179e"
                          ],
                          [
                            0.4444444444444444,
                            "#bd3786"
                          ],
                          [
                            0.5555555555555556,
                            "#d8576b"
                          ],
                          [
                            0.6666666666666666,
                            "#ed7953"
                          ],
                          [
                            0.7777777777777778,
                            "#fb9f3a"
                          ],
                          [
                            0.8888888888888888,
                            "#fdca26"
                          ],
                          [
                            1,
                            "#f0f921"
                          ]
                        ],
                        "type": "heatmap"
                      }
                    ],
                    "heatmapgl": [
                      {
                        "colorbar": {
                          "outlinewidth": 0,
                          "ticks": ""
                        },
                        "colorscale": [
                          [
                            0,
                            "#0d0887"
                          ],
                          [
                            0.1111111111111111,
                            "#46039f"
                          ],
                          [
                            0.2222222222222222,
                            "#7201a8"
                          ],
                          [
                            0.3333333333333333,
                            "#9c179e"
                          ],
                          [
                            0.4444444444444444,
                            "#bd3786"
                          ],
                          [
                            0.5555555555555556,
                            "#d8576b"
                          ],
                          [
                            0.6666666666666666,
                            "#ed7953"
                          ],
                          [
                            0.7777777777777778,
                            "#fb9f3a"
                          ],
                          [
                            0.8888888888888888,
                            "#fdca26"
                          ],
                          [
                            1,
                            "#f0f921"
                          ]
                        ],
                        "type": "heatmapgl"
                      }
                    ],
                    "histogram": [
                      {
                        "marker": {
                          "pattern": {
                            "fillmode": "overlay",
                            "size": 10,
                            "solidity": 0.2
                          }
                        },
                        "type": "histogram"
                      }
                    ],
                    "histogram2d": [
                      {
                        "colorbar": {
                          "outlinewidth": 0,
                          "ticks": ""
                        },
                        "colorscale": [
                          [
                            0,
                            "#0d0887"
                          ],
                          [
                            0.1111111111111111,
                            "#46039f"
                          ],
                          [
                            0.2222222222222222,
                            "#7201a8"
                          ],
                          [
                            0.3333333333333333,
                            "#9c179e"
                          ],
                          [
                            0.4444444444444444,
                            "#bd3786"
                          ],
                          [
                            0.5555555555555556,
                            "#d8576b"
                          ],
                          [
                            0.6666666666666666,
                            "#ed7953"
                          ],
                          [
                            0.7777777777777778,
                            "#fb9f3a"
                          ],
                          [
                            0.8888888888888888,
                            "#fdca26"
                          ],
                          [
                            1,
                            "#f0f921"
                          ]
                        ],
                        "type": "histogram2d"
                      }
                    ],
                    "histogram2dcontour": [
                      {
                        "colorbar": {
                          "outlinewidth": 0,
                          "ticks": ""
                        },
                        "colorscale": [
                          [
                            0,
                            "#0d0887"
                          ],
                          [
                            0.1111111111111111,
                            "#46039f"
                          ],
                          [
                            0.2222222222222222,
                            "#7201a8"
                          ],
                          [
                            0.3333333333333333,
                            "#9c179e"
                          ],
                          [
                            0.4444444444444444,
                            "#bd3786"
                          ],
                          [
                            0.5555555555555556,
                            "#d8576b"
                          ],
                          [
                            0.6666666666666666,
                            "#ed7953"
                          ],
                          [
                            0.7777777777777778,
                            "#fb9f3a"
                          ],
                          [
                            0.8888888888888888,
                            "#fdca26"
                          ],
                          [
                            1,
                            "#f0f921"
                          ]
                        ],
                        "type": "histogram2dcontour"
                      }
                    ],
                    "mesh3d": [
                      {
                        "colorbar": {
                          "outlinewidth": 0,
                          "ticks": ""
                        },
                        "type": "mesh3d"
                      }
                    ],
                    "parcoords": [
                      {
                        "line": {
                          "colorbar": {
                            "outlinewidth": 0,
                            "ticks": ""
                          }
                        },
                        "type": "parcoords"
                      }
                    ],
                    "pie": [
                      {
                        "automargin": true,
                        "type": "pie"
                      }
                    ],
                    "scatter": [
                      {
                        "fillpattern": {
                          "fillmode": "overlay",
                          "size": 10,
                          "solidity": 0.2
                        },
                        "type": "scatter"
                      }
                    ],
                    "scatter3d": [
                      {
                        "line": {
                          "colorbar": {
                            "outlinewidth": 0,
                            "ticks": ""
                          }
                        },
                        "marker": {
                          "colorbar": {
                            "outlinewidth": 0,
                            "ticks": ""
                          }
                        },
                        "type": "scatter3d"
                      }
                    ],
                    "scattercarpet": [
                      {
                        "marker": {
                          "colorbar": {
                            "outlinewidth": 0,
                            "ticks": ""
                          }
                        },
                        "type": "scattercarpet"
                      }
                    ],
                    "scattergeo": [
                      {
                        "marker": {
                          "colorbar": {
                            "outlinewidth": 0,
                            "ticks": ""
                          }
                        },
                        "type": "scattergeo"
                      }
                    ],
                    "scattergl": [
                      {
                        "marker": {
                          "colorbar": {
                            "outlinewidth": 0,
                            "ticks": ""
                          }
                        },
                        "type": "scattergl"
                      }
                    ],
                    "scattermapbox": [
                      {
                        "marker": {
                          "colorbar": {
                            "outlinewidth": 0,
                            "ticks": ""
                          }
                        },
                        "type": "scattermapbox"
                      }
                    ],
                    "scatterpolar": [
                      {
                        "marker": {
                          "colorbar": {
                            "outlinewidth": 0,
                            "ticks": ""
                          }
                        },
                        "type": "scatterpolar"
                      }
                    ],
                    "scatterpolargl": [
                      {
                        "marker": {
                          "colorbar": {
                            "outlinewidth": 0,
                            "ticks": ""
                          }
                        },
                        "type": "scatterpolargl"
                      }
                    ],
                    "scatterternary": [
                      {
                        "marker": {
                          "colorbar": {
                            "outlinewidth": 0,
                            "ticks": ""
                          }
                        },
                        "type": "scatterternary"
                      }
                    ],
                    "surface": [
                      {
                        "colorbar": {
                          "outlinewidth": 0,
                          "ticks": ""
                        },
                        "colorscale": [
                          [
                            0,
                            "#0d0887"
                          ],
                          [
                            0.1111111111111111,
                            "#46039f"
                          ],
                          [
                            0.2222222222222222,
                            "#7201a8"
                          ],
                          [
                            0.3333333333333333,
                            "#9c179e"
                          ],
                          [
                            0.4444444444444444,
                            "#bd3786"
                          ],
                          [
                            0.5555555555555556,
                            "#d8576b"
                          ],
                          [
                            0.6666666666666666,
                            "#ed7953"
                          ],
                          [
                            0.7777777777777778,
                            "#fb9f3a"
                          ],
                          [
                            0.8888888888888888,
                            "#fdca26"
                          ],
                          [
                            1,
                            "#f0f921"
                          ]
                        ],
                        "type": "surface"
                      }
                    ],
                    "table": [
                      {
                        "cells": {
                          "fill": {
                            "color": "#EBF0F8"
                          },
                          "line": {
                            "color": "white"
                          }
                        },
                        "header": {
                          "fill": {
                            "color": "#C8D4E3"
                          },
                          "line": {
                            "color": "white"
                          }
                        },
                        "type": "table"
                      }
                    ]
                  },
                  "layout": {
                    "annotationdefaults": {
                      "arrowcolor": "#2a3f5f",
                      "arrowhead": 0,
                      "arrowwidth": 1
                    },
                    "autotypenumbers": "strict",
                    "coloraxis": {
                      "colorbar": {
                        "outlinewidth": 0,
                        "ticks": ""
                      }
                    },
                    "colorscale": {
                      "diverging": [
                        [
                          0,
                          "#8e0152"
                        ],
                        [
                          0.1,
                          "#c51b7d"
                        ],
                        [
                          0.2,
                          "#de77ae"
                        ],
                        [
                          0.3,
                          "#f1b6da"
                        ],
                        [
                          0.4,
                          "#fde0ef"
                        ],
                        [
                          0.5,
                          "#f7f7f7"
                        ],
                        [
                          0.6,
                          "#e6f5d0"
                        ],
                        [
                          0.7,
                          "#b8e186"
                        ],
                        [
                          0.8,
                          "#7fbc41"
                        ],
                        [
                          0.9,
                          "#4d9221"
                        ],
                        [
                          1,
                          "#276419"
                        ]
                      ],
                      "sequential": [
                        [
                          0,
                          "#0d0887"
                        ],
                        [
                          0.1111111111111111,
                          "#46039f"
                        ],
                        [
                          0.2222222222222222,
                          "#7201a8"
                        ],
                        [
                          0.3333333333333333,
                          "#9c179e"
                        ],
                        [
                          0.4444444444444444,
                          "#bd3786"
                        ],
                        [
                          0.5555555555555556,
                          "#d8576b"
                        ],
                        [
                          0.6666666666666666,
                          "#ed7953"
                        ],
                        [
                          0.7777777777777778,
                          "#fb9f3a"
                        ],
                        [
                          0.8888888888888888,
                          "#fdca26"
                        ],
                        [
                          1,
                          "#f0f921"
                        ]
                      ],
                      "sequentialminus": [
                        [
                          0,
                          "#0d0887"
                        ],
                        [
                          0.1111111111111111,
                          "#46039f"
                        ],
                        [
                          0.2222222222222222,
                          "#7201a8"
                        ],
                        [
                          0.3333333333333333,
                          "#9c179e"
                        ],
                        [
                          0.4444444444444444,
                          "#bd3786"
                        ],
                        [
                          0.5555555555555556,
                          "#d8576b"
                        ],
                        [
                          0.6666666666666666,
                          "#ed7953"
                        ],
                        [
                          0.7777777777777778,
                          "#fb9f3a"
                        ],
                        [
                          0.8888888888888888,
                          "#fdca26"
                        ],
                        [
                          1,
                          "#f0f921"
                        ]
                      ]
                    },
                    "colorway": [
                      "#636efa",
                      "#EF553B",
                      "#00cc96",
                      "#ab63fa",
                      "#FFA15A",
                      "#19d3f3",
                      "#FF6692",
                      "#B6E880",
                      "#FF97FF",
                      "#FECB52"
                    ],
                    "font": {
                      "color": "#2a3f5f"
                    },
                    "geo": {
                      "bgcolor": "white",
                      "lakecolor": "white",
                      "landcolor": "#E5ECF6",
                      "showlakes": true,
                      "showland": true,
                      "subunitcolor": "white"
                    },
                    "hoverlabel": {
                      "align": "left"
                    },
                    "hovermode": "closest",
                    "mapbox": {
                      "style": "light"
                    },
                    "paper_bgcolor": "white",
                    "plot_bgcolor": "#E5ECF6",
                    "polar": {
                      "angularaxis": {
                        "gridcolor": "white",
                        "linecolor": "white",
                        "ticks": ""
                      },
                      "bgcolor": "#E5ECF6",
                      "radialaxis": {
                        "gridcolor": "white",
                        "linecolor": "white",
                        "ticks": ""
                      }
                    },
                    "scene": {
                      "xaxis": {
                        "backgroundcolor": "#E5ECF6",
                        "gridcolor": "white",
                        "gridwidth": 2,
                        "linecolor": "white",
                        "showbackground": true,
                        "ticks": "",
                        "zerolinecolor": "white"
                      },
                      "yaxis": {
                        "backgroundcolor": "#E5ECF6",
                        "gridcolor": "white",
                        "gridwidth": 2,
                        "linecolor": "white",
                        "showbackground": true,
                        "ticks": "",
                        "zerolinecolor": "white"
                      },
                      "zaxis": {
                        "backgroundcolor": "#E5ECF6",
                        "gridcolor": "white",
                        "gridwidth": 2,
                        "linecolor": "white",
                        "showbackground": true,
                        "ticks": "",
                        "zerolinecolor": "white"
                      }
                    },
                    "shapedefaults": {
                      "line": {
                        "color": "#2a3f5f"
                      }
                    },
                    "ternary": {
                      "aaxis": {
                        "gridcolor": "white",
                        "linecolor": "white",
                        "ticks": ""
                      },
                      "baxis": {
                        "gridcolor": "white",
                        "linecolor": "white",
                        "ticks": ""
                      },
                      "bgcolor": "#E5ECF6",
                      "caxis": {
                        "gridcolor": "white",
                        "linecolor": "white",
                        "ticks": ""
                      }
                    },
                    "title": {
                      "x": 0.05
                    },
                    "xaxis": {
                      "automargin": true,
                      "gridcolor": "white",
                      "linecolor": "white",
                      "ticks": "",
                      "title": {
                        "standoff": 15
                      },
                      "zerolinecolor": "white",
                      "zerolinewidth": 2
                    },
                    "yaxis": {
                      "automargin": true,
                      "gridcolor": "white",
                      "linecolor": "white",
                      "ticks": "",
                      "title": {
                        "standoff": 15
                      },
                      "zerolinecolor": "white",
                      "zerolinewidth": 2
                    }
                  }
                },
                "xaxis": {
                  "anchor": "y",
                  "domain": [
                    0,
                    1
                  ],
                  "rangeselector": {
                    "buttons": [
                      {
                        "count": 1,
                        "label": "YTD",
                        "step": "year",
                        "stepmode": "todate"
                      },
                      {
                        "count": 1,
                        "label": "1y",
                        "step": "year",
                        "stepmode": "backward"
                      },
                      {
                        "count": 3,
                        "label": "3y",
                        "step": "year",
                        "stepmode": "backward"
                      },
                      {
                        "count": 5,
                        "label": "5y",
                        "step": "year",
                        "stepmode": "backward"
                      },
                      {
                        "count": 7,
                        "label": "7y",
                        "step": "year",
                        "stepmode": "backward"
                      },
                      {
                        "count": 10,
                        "label": "10y",
                        "step": "year",
                        "stepmode": "backward"
                      },
                      {
                        "step": "all"
                      }
                    ]
                  },
                  "rangeslider": {
                    "visible": true
                  },
                  "title": {
                    "text": "Date"
                  }
                },
                "yaxis": {
                  "anchor": "x",
                  "domain": [
                    0,
                    1
                  ],
                  "title": {
                    "text": "YOY"
                  }
                }
              }
            }
          },
          "metadata": {},
          "output_type": "display_data"
        }
      ],
      "source": [
        "import pandas as pd\n",
        "import plotly.express as px\n",
        "import plotly.graph_objects as go\n",
        "\n",
        "df_show = dfs_iip[\n",
        "    (\n",
        "        (dfs_iip[\"Ngành\"] == \"Sản xuất kim loại\")\n",
        "        | (\n",
        "            dfs_iip[\"Ngành\"]\n",
        "            == \"Sản xuất sản phẩm từ kim loại đúc sẵn (trừ máy móc, thiết bị)\"\n",
        "        )\n",
        "        | (dfs_iip[\"Ngành\"] == \"Dệt\")\n",
        "        # | (dfs_iip[\"Ngành\"] == \"Sản xuất trang phục\")\n",
        "        | (\n",
        "            dfs_iip[\"Ngành\"]\n",
        "            == \"Sản xuất sản phẩm điện tử, máy vi tính và sản phẩm quang học\"\n",
        "        )\n",
        "        | (dfs_iip[\"Ngành\"] == \"Sản xuất thiết bị điện\")\n",
        "        # | (dfs_iip[\"Ngành\"] == \"Khai thác dầu thô và khí đốt tự nhiên\")\n",
        "        | (dfs_iip[\"Ngành\"] == \"Sản xuất sản phẩm từ cao su và plastic\")\n",
        "        | (dfs_iip[\"Ngành\"] == \"Sản xuất hoá chất và sản phẩm hoá chất\")\n",
        "        | (dfs_iip[\"Ngành\"] == \"Sản xuất, chế biến thực phẩm\")\n",
        "    )\n",
        "    & (dfs_iip[\"Date\"] > \"2022-01-01\")\n",
        "]\n",
        "\n",
        "fig = px.area(df_show, x=\"Date\", y=\"YOY\", color=\"Ngành\")\n",
        "# fig = px.area(df_show, x=\"Date\", y=\"YTD-YOY\", color=\"Ngành\")\n",
        "\n",
        "fig.update_xaxes(\n",
        "    rangeslider_visible=True,\n",
        "    rangeselector=dict(\n",
        "        buttons=[\n",
        "            dict(count=1, label=\"YTD\", step=\"year\", stepmode=\"todate\"),\n",
        "            dict(count=1, label=\"1y\", step=\"year\", stepmode=\"backward\"),\n",
        "            dict(count=3, label=\"3y\", step=\"year\", stepmode=\"backward\"),\n",
        "            dict(count=5, label=\"5y\", step=\"year\", stepmode=\"backward\"),\n",
        "            dict(count=7, label=\"7y\", step=\"year\", stepmode=\"backward\"),\n",
        "            dict(count=10, label=\"10y\", step=\"year\", stepmode=\"backward\"),\n",
        "            dict(step=\"all\"),\n",
        "        ]\n",
        "    ),\n",
        ")\n",
        "\n",
        "fig.show()"
      ]
    },
    {
      "cell_type": "code",
      "execution_count": null,
      "metadata": {},
      "outputs": [],
      "source": []
    }
  ],
  "metadata": {
    "kernelspec": {
      "display_name": "vn-macroeconomics",
      "language": "python",
      "name": "python3"
    },
    "language_info": {
      "codemirror_mode": {
        "name": "ipython",
        "version": 3
      },
      "file_extension": ".py",
      "mimetype": "text/x-python",
      "name": "python",
      "nbconvert_exporter": "python",
      "pygments_lexer": "ipython3",
      "version": "3.10.14"
    },
    "orig_nbformat": 4
  },
  "nbformat": 4,
  "nbformat_minor": 2
}
