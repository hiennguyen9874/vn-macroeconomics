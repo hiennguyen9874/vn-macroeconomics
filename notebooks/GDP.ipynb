{
  "cells": [
    {
      "cell_type": "code",
      "execution_count": 32,
      "metadata": {},
      "outputs": [],
      "source": [
        "import os\n",
        "import contextlib\n",
        "\n",
        "import pandas as pd\n",
        "import seaborn as sns\n",
        "from datetime import date\n",
        "import plotly.express as px\n",
        "import plotly.graph_objects as go"
      ]
    },
    {
      "cell_type": "code",
      "execution_count": 33,
      "metadata": {},
      "outputs": [],
      "source": [
        "def find_sheet_name(sheet_names):\n",
        "    gdp_sheet_names = list(filter(lambda x: \"gdp-ss\" in x.lower(), sheet_names))\n",
        "\n",
        "    if len(gdp_sheet_names) == 1:\n",
        "        return gdp_sheet_names[0]\n",
        "\n",
        "    gdp_sheet_names = list(\n",
        "        filter(lambda x: \"gdp\" in x.lower() and \"ss\" in x.lower(), sheet_names)\n",
        "    )\n",
        "\n",
        "    if len(gdp_sheet_names) == 1:\n",
        "        return gdp_sheet_names[0]\n",
        "\n",
        "    gdp_sheet_names = list(filter(lambda x: \"gdp\" in x.lower(), sheet_names))\n",
        "\n",
        "    if len(gdp_sheet_names) == 1:\n",
        "        return gdp_sheet_names[0]\n",
        "\n",
        "    if len(sheet_names) == 43:\n",
        "        return \"2\"\n",
        "\n",
        "    raise RuntimeError(sheet_names)"
      ]
    },
    {
      "cell_type": "code",
      "execution_count": 34,
      "metadata": {},
      "outputs": [],
      "source": [
        "en_to_vn = {\n",
        "    \"TOTAL\": \"TỔNG SỐ\",\n",
        "    \"Agriculture, Forestry and Fishing\": \"Nông, lâm nghiệp và thủy sản\",\n",
        "    \"Agriculture\": \"Nông nghiệp\",\n",
        "    \"Forestry\": \"Lâm nghiệp\",\n",
        "    \"Fishery\": \"Thủy sản\",\n",
        "    \"Industry and Construction\": \"Công nghiệp và xây dựng\",\n",
        "    \"Industry\": \"Công nghiệp\",\n",
        "    \"Mining and quarrying\": \"Khai khoáng\",\n",
        "    \"Manufacturing\": \"Công nghiệp chế biến, chế tạo\",\n",
        "    \"Production & supply of electricity, gas, hot water, steam and air-conditioning\": \"Sản xuất và phân phối điện, khí đốt, nước nóng, hơi nước và điều hòa không khí\",\n",
        "    \"Water supply; sewerage, waste management and remediation activities\": \"Cung cấp nước; hoạt động quản lý và xử lý rác thải, nước thải\",\n",
        "    \"Construction\": \"Xây dựng\",\n",
        "    \"Services\": \"Dịch vụ\",\n",
        "    \"Wholesales, retails, vehicles and motorcycles repairs\": \"Bán buôn và bán lẻ; sửa chữa ô tô, mô tô, xe máy và xe có động cơ khác\",\n",
        "    \"Transportation and storage\": \"Vận tải, kho bãi\",\n",
        "    \"Accommodation & catering services\": \"Dịch vụ lưu trú và ăn uống\",\n",
        "    \"Information & communication\": \"Thông tin và truyền thông\",\n",
        "    \"Finance, banking & insurance\": \"Hoạt động tài chính, ngân hàng và bảo hiểm\",\n",
        "    \"Real estate business\": \"Hoạt động kinh doanh bất động sản\",\n",
        "    \"Scientific and technical specialty\": \"Hoạt động chuyên môn, khoa học và công nghệ\",\n",
        "    \"Administrative activity and supporting service\": \"Hoạt động hành chính và dịch vụ hỗ trợ\",\n",
        "    \"Activities of Communist Party, socio-political organizations; State management and national defense; compulsory social security\": \"Hoạt động của Đảng Cộng sản, tổ chức chính trị- xã hội; quản lý Nhà nước, an ninh quốc phòng; đảm bảo xã hội bắt buộc\",\n",
        "    \"Education and training\": \"Giáo dục và đào tạo\",\n",
        "    \"Health care & social relief\": \"Y tế và hoạt động trợ giúp xã hội\",\n",
        "    \"Art, entertainment and recreation\": \"Nghệ thuật, vui chơi và giải trí\",\n",
        "    \"Other service activities\": \"Hoạt động dịch vụ khác\",\n",
        "    \"Activities of households as employers; undifferentiated goods and services producing activities of households for own use\": \"Hoạt động làm thuê các công việc trong các hộ gia đình, sản xuất sản phẩm vật chất và dịch vụ tự tiêu dùng của hộ gia đình\",\n",
        "    \"Products taxes less subsidies on production\": \"Thuế sản phẩm trừ trợ cấp sản phẩm\",\n",
        "}"
      ]
    },
    {
      "cell_type": "code",
      "execution_count": 35,
      "metadata": {},
      "outputs": [
        {
          "data": {
            "text/html": [
              "<div>\n",
              "<style scoped>\n",
              "    .dataframe tbody tr th:only-of-type {\n",
              "        vertical-align: middle;\n",
              "    }\n",
              "\n",
              "    .dataframe tbody tr th {\n",
              "        vertical-align: top;\n",
              "    }\n",
              "\n",
              "    .dataframe thead th {\n",
              "        text-align: right;\n",
              "    }\n",
              "</style>\n",
              "<table border=\"1\" class=\"dataframe\">\n",
              "  <thead>\n",
              "    <tr style=\"text-align: right;\">\n",
              "      <th></th>\n",
              "      <th>Ngành</th>\n",
              "      <th>Tổng số</th>\n",
              "      <th>YOY</th>\n",
              "      <th>Date</th>\n",
              "      <th>Percent</th>\n",
              "    </tr>\n",
              "  </thead>\n",
              "  <tbody>\n",
              "    <tr>\n",
              "      <th>8</th>\n",
              "      <td>TỔNG SỐ</td>\n",
              "      <td>1.508387e+06</td>\n",
              "      <td>106.926786</td>\n",
              "      <td>2024-06-29</td>\n",
              "      <td>1.000000</td>\n",
              "    </tr>\n",
              "    <tr>\n",
              "      <th>9</th>\n",
              "      <td>Nông, lâm nghiệp và thủy sản</td>\n",
              "      <td>1.513034e+05</td>\n",
              "      <td>103.340867</td>\n",
              "      <td>2024-06-29</td>\n",
              "      <td>0.100308</td>\n",
              "    </tr>\n",
              "    <tr>\n",
              "      <th>10</th>\n",
              "      <td>Nông nghiệp</td>\n",
              "      <td>1.070580e+05</td>\n",
              "      <td>102.910696</td>\n",
              "      <td>2024-06-29</td>\n",
              "      <td>0.070975</td>\n",
              "    </tr>\n",
              "    <tr>\n",
              "      <th>11</th>\n",
              "      <td>Lâm nghiệp</td>\n",
              "      <td>7.906678e+03</td>\n",
              "      <td>106.041774</td>\n",
              "      <td>2024-06-29</td>\n",
              "      <td>0.005242</td>\n",
              "    </tr>\n",
              "    <tr>\n",
              "      <th>12</th>\n",
              "      <td>Thủy sản</td>\n",
              "      <td>3.633800e+04</td>\n",
              "      <td>104.045568</td>\n",
              "      <td>2024-06-29</td>\n",
              "      <td>0.024091</td>\n",
              "    </tr>\n",
              "    <tr>\n",
              "      <th>13</th>\n",
              "      <td>Công nghiệp và xây dựng</td>\n",
              "      <td>5.452366e+05</td>\n",
              "      <td>108.285951</td>\n",
              "      <td>2024-06-29</td>\n",
              "      <td>0.361470</td>\n",
              "    </tr>\n",
              "    <tr>\n",
              "      <th>14</th>\n",
              "      <td>Công nghiệp</td>\n",
              "      <td>4.478321e+05</td>\n",
              "      <td>108.554853</td>\n",
              "      <td>2024-06-29</td>\n",
              "      <td>0.296895</td>\n",
              "    </tr>\n",
              "    <tr>\n",
              "      <th>15</th>\n",
              "      <td>Khai khoáng</td>\n",
              "      <td>3.791288e+04</td>\n",
              "      <td>90.94296</td>\n",
              "      <td>2024-06-29</td>\n",
              "      <td>0.025135</td>\n",
              "    </tr>\n",
              "    <tr>\n",
              "      <th>16</th>\n",
              "      <td>Công nghiệp chế biến, chế tạo</td>\n",
              "      <td>3.457265e+05</td>\n",
              "      <td>110.042955</td>\n",
              "      <td>2024-06-29</td>\n",
              "      <td>0.229203</td>\n",
              "    </tr>\n",
              "    <tr>\n",
              "      <th>17</th>\n",
              "      <td>Sản xuất và phân phối điện, khí đốt, nước nóng...</td>\n",
              "      <td>5.560208e+04</td>\n",
              "      <td>114.14799</td>\n",
              "      <td>2024-06-29</td>\n",
              "      <td>0.036862</td>\n",
              "    </tr>\n",
              "    <tr>\n",
              "      <th>18</th>\n",
              "      <td>Cung cấp nước; hoạt động quản lý và xử lý rác ...</td>\n",
              "      <td>8.590617e+03</td>\n",
              "      <td>107.832831</td>\n",
              "      <td>2024-06-29</td>\n",
              "      <td>0.005695</td>\n",
              "    </tr>\n",
              "    <tr>\n",
              "      <th>19</th>\n",
              "      <td>Xây dựng</td>\n",
              "      <td>9.740452e+04</td>\n",
              "      <td>107.066585</td>\n",
              "      <td>2024-06-29</td>\n",
              "      <td>0.064575</td>\n",
              "    </tr>\n",
              "    <tr>\n",
              "      <th>20</th>\n",
              "      <td>Dịch vụ</td>\n",
              "      <td>6.770300e+05</td>\n",
              "      <td>107.05569</td>\n",
              "      <td>2024-06-29</td>\n",
              "      <td>0.448844</td>\n",
              "    </tr>\n",
              "    <tr>\n",
              "      <th>21</th>\n",
              "      <td>Bán buôn và bán lẻ; sửa chữa ô tô, mô tô, xe m...</td>\n",
              "      <td>1.451532e+05</td>\n",
              "      <td>107.621709</td>\n",
              "      <td>2024-06-29</td>\n",
              "      <td>0.096231</td>\n",
              "    </tr>\n",
              "    <tr>\n",
              "      <th>22</th>\n",
              "      <td>Vận tải, kho bãi</td>\n",
              "      <td>9.792597e+04</td>\n",
              "      <td>111.506041</td>\n",
              "      <td>2024-06-29</td>\n",
              "      <td>0.064921</td>\n",
              "    </tr>\n",
              "    <tr>\n",
              "      <th>23</th>\n",
              "      <td>Dịch vụ lưu trú và ăn uống</td>\n",
              "      <td>3.587390e+04</td>\n",
              "      <td>111.262933</td>\n",
              "      <td>2024-06-29</td>\n",
              "      <td>0.023783</td>\n",
              "    </tr>\n",
              "    <tr>\n",
              "      <th>24</th>\n",
              "      <td>Thông tin và truyền thông</td>\n",
              "      <td>8.519892e+04</td>\n",
              "      <td>104.900055</td>\n",
              "      <td>2024-06-29</td>\n",
              "      <td>0.056483</td>\n",
              "    </tr>\n",
              "    <tr>\n",
              "      <th>25</th>\n",
              "      <td>Hoạt động tài chính, ngân hàng và bảo hiểm</td>\n",
              "      <td>7.635683e+04</td>\n",
              "      <td>105.736759</td>\n",
              "      <td>2024-06-29</td>\n",
              "      <td>0.050622</td>\n",
              "    </tr>\n",
              "    <tr>\n",
              "      <th>26</th>\n",
              "      <td>Hoạt động kinh doanh bất động sản</td>\n",
              "      <td>4.916895e+04</td>\n",
              "      <td>103.123644</td>\n",
              "      <td>2024-06-29</td>\n",
              "      <td>0.032597</td>\n",
              "    </tr>\n",
              "    <tr>\n",
              "      <th>27</th>\n",
              "      <td>Hoạt động chuyên môn, khoa học và công nghệ</td>\n",
              "      <td>3.985447e+04</td>\n",
              "      <td>106.202686</td>\n",
              "      <td>2024-06-29</td>\n",
              "      <td>0.026422</td>\n",
              "    </tr>\n",
              "    <tr>\n",
              "      <th>28</th>\n",
              "      <td>Hoạt động hành chính và dịch vụ hỗ trợ</td>\n",
              "      <td>2.643794e+04</td>\n",
              "      <td>111.465026</td>\n",
              "      <td>2024-06-29</td>\n",
              "      <td>0.017527</td>\n",
              "    </tr>\n",
              "    <tr>\n",
              "      <th>29</th>\n",
              "      <td>Hoạt động của Đảng Cộng sản, tổ chức chính trị...</td>\n",
              "      <td>3.010376e+04</td>\n",
              "      <td>105.810333</td>\n",
              "      <td>2024-06-29</td>\n",
              "      <td>0.019958</td>\n",
              "    </tr>\n",
              "    <tr>\n",
              "      <th>30</th>\n",
              "      <td>Giáo dục và đào tạo</td>\n",
              "      <td>4.764919e+04</td>\n",
              "      <td>104.694158</td>\n",
              "      <td>2024-06-29</td>\n",
              "      <td>0.031589</td>\n",
              "    </tr>\n",
              "    <tr>\n",
              "      <th>31</th>\n",
              "      <td>Y tế và hoạt động trợ giúp xã hội</td>\n",
              "      <td>2.034450e+04</td>\n",
              "      <td>104.131267</td>\n",
              "      <td>2024-06-29</td>\n",
              "      <td>0.013488</td>\n",
              "    </tr>\n",
              "    <tr>\n",
              "      <th>32</th>\n",
              "      <td>Nghệ thuật, vui chơi và giải trí</td>\n",
              "      <td>1.123981e+04</td>\n",
              "      <td>107.104354</td>\n",
              "      <td>2024-06-29</td>\n",
              "      <td>0.007452</td>\n",
              "    </tr>\n",
              "    <tr>\n",
              "      <th>33</th>\n",
              "      <td>Hoạt động dịch vụ khác</td>\n",
              "      <td>1.010760e+04</td>\n",
              "      <td>105.421964</td>\n",
              "      <td>2024-06-29</td>\n",
              "      <td>0.006701</td>\n",
              "    </tr>\n",
              "    <tr>\n",
              "      <th>34</th>\n",
              "      <td>Hoạt động làm thuê các công việc trong các hộ ...</td>\n",
              "      <td>1.614940e+03</td>\n",
              "      <td>105.489038</td>\n",
              "      <td>2024-06-29</td>\n",
              "      <td>0.001071</td>\n",
              "    </tr>\n",
              "    <tr>\n",
              "      <th>35</th>\n",
              "      <td>Thuế sản phẩm trừ trợ cấp sản phẩm</td>\n",
              "      <td>1.348170e+05</td>\n",
              "      <td>105.05</td>\n",
              "      <td>2024-06-29</td>\n",
              "      <td>0.089378</td>\n",
              "    </tr>\n",
              "  </tbody>\n",
              "</table>\n",
              "</div>"
            ],
            "text/plain": [
              "                                                Ngành       Tổng số  \\\n",
              "8                                             TỔNG SỐ  1.508387e+06   \n",
              "9                        Nông, lâm nghiệp và thủy sản  1.513034e+05   \n",
              "10                                        Nông nghiệp  1.070580e+05   \n",
              "11                                         Lâm nghiệp  7.906678e+03   \n",
              "12                                           Thủy sản  3.633800e+04   \n",
              "13                            Công nghiệp và xây dựng  5.452366e+05   \n",
              "14                                        Công nghiệp  4.478321e+05   \n",
              "15                                        Khai khoáng  3.791288e+04   \n",
              "16                      Công nghiệp chế biến, chế tạo  3.457265e+05   \n",
              "17  Sản xuất và phân phối điện, khí đốt, nước nóng...  5.560208e+04   \n",
              "18  Cung cấp nước; hoạt động quản lý và xử lý rác ...  8.590617e+03   \n",
              "19                                           Xây dựng  9.740452e+04   \n",
              "20                                            Dịch vụ  6.770300e+05   \n",
              "21  Bán buôn và bán lẻ; sửa chữa ô tô, mô tô, xe m...  1.451532e+05   \n",
              "22                                   Vận tải, kho bãi  9.792597e+04   \n",
              "23                         Dịch vụ lưu trú và ăn uống  3.587390e+04   \n",
              "24                          Thông tin và truyền thông  8.519892e+04   \n",
              "25         Hoạt động tài chính, ngân hàng và bảo hiểm  7.635683e+04   \n",
              "26                  Hoạt động kinh doanh bất động sản  4.916895e+04   \n",
              "27        Hoạt động chuyên môn, khoa học và công nghệ  3.985447e+04   \n",
              "28             Hoạt động hành chính và dịch vụ hỗ trợ  2.643794e+04   \n",
              "29  Hoạt động của Đảng Cộng sản, tổ chức chính trị...  3.010376e+04   \n",
              "30                                Giáo dục và đào tạo  4.764919e+04   \n",
              "31                  Y tế và hoạt động trợ giúp xã hội  2.034450e+04   \n",
              "32                   Nghệ thuật, vui chơi và giải trí  1.123981e+04   \n",
              "33                             Hoạt động dịch vụ khác  1.010760e+04   \n",
              "34  Hoạt động làm thuê các công việc trong các hộ ...  1.614940e+03   \n",
              "35                 Thuế sản phẩm trừ trợ cấp sản phẩm  1.348170e+05   \n",
              "\n",
              "           YOY       Date   Percent  \n",
              "8   106.926786 2024-06-29  1.000000  \n",
              "9   103.340867 2024-06-29  0.100308  \n",
              "10  102.910696 2024-06-29  0.070975  \n",
              "11  106.041774 2024-06-29  0.005242  \n",
              "12  104.045568 2024-06-29  0.024091  \n",
              "13  108.285951 2024-06-29  0.361470  \n",
              "14  108.554853 2024-06-29  0.296895  \n",
              "15    90.94296 2024-06-29  0.025135  \n",
              "16  110.042955 2024-06-29  0.229203  \n",
              "17   114.14799 2024-06-29  0.036862  \n",
              "18  107.832831 2024-06-29  0.005695  \n",
              "19  107.066585 2024-06-29  0.064575  \n",
              "20   107.05569 2024-06-29  0.448844  \n",
              "21  107.621709 2024-06-29  0.096231  \n",
              "22  111.506041 2024-06-29  0.064921  \n",
              "23  111.262933 2024-06-29  0.023783  \n",
              "24  104.900055 2024-06-29  0.056483  \n",
              "25  105.736759 2024-06-29  0.050622  \n",
              "26  103.123644 2024-06-29  0.032597  \n",
              "27  106.202686 2024-06-29  0.026422  \n",
              "28  111.465026 2024-06-29  0.017527  \n",
              "29  105.810333 2024-06-29  0.019958  \n",
              "30  104.694158 2024-06-29  0.031589  \n",
              "31  104.131267 2024-06-29  0.013488  \n",
              "32  107.104354 2024-06-29  0.007452  \n",
              "33  105.421964 2024-06-29  0.006701  \n",
              "34  105.489038 2024-06-29  0.001071  \n",
              "35      105.05 2024-06-29  0.089378  "
            ]
          },
          "execution_count": 35,
          "metadata": {},
          "output_type": "execute_result"
        }
      ],
      "source": [
        "def get_gdp_ss(xl, sheet_name, date):\n",
        "    df = xl.parse(sheet_name)\n",
        "\n",
        "    df[df.columns[0]] = df[df.columns[0]].fillna(df[df.columns[1]])\n",
        "\n",
        "    if len(df.columns) == 8 and int(date.split(\"-\")[1]) == 6:\n",
        "        df = df.drop(\n",
        "            columns=[\n",
        "                df.columns[1],\n",
        "                df.columns[2],\n",
        "                df.columns[4],\n",
        "                df.columns[5],\n",
        "                # df.columns[6],\n",
        "                df.columns[7],\n",
        "            ]\n",
        "        )\n",
        "    elif len(df.columns) == 8:\n",
        "        df = df.drop(\n",
        "            columns=[\n",
        "                df.columns[1],\n",
        "                df.columns[2],\n",
        "                df.columns[4],\n",
        "                # df.columns[5],\n",
        "                df.columns[6],\n",
        "                df.columns[7],\n",
        "            ]\n",
        "        )\n",
        "    elif len(df.columns) == 7:\n",
        "        df = df.drop(\n",
        "            columns=[\n",
        "                df.columns[1],\n",
        "                df.columns[2],\n",
        "                df.columns[3],\n",
        "                df.columns[4],\n",
        "                # df.columns[6],\n",
        "            ]\n",
        "        )\n",
        "    elif len(df.columns) == 5 and int(date.split(\"-\")[1]) == 12:\n",
        "        df = df.drop(columns=[df.columns[1], df.columns[2]])\n",
        "    elif len(df.columns) == 6 and int(date.split(\"-\")[1]) == 12:\n",
        "        df = df.drop(columns=[df.columns[1], df.columns[2], df.columns[5]])\n",
        "    else:\n",
        "        raise RuntimeError(df.columns)\n",
        "\n",
        "    assert len(df.columns) == 3\n",
        "    df.columns = [\"Ngành\", \"Tổng số\", \"YOY\"]\n",
        "\n",
        "    df[df.columns[0]] = (\n",
        "        df[df.columns[0]]\n",
        "        .replace(r\"\\s+\", \" \", regex=True)\n",
        "        .replace(r\"\\n\", \" \", regex=True)\n",
        "        .str.strip()\n",
        "    )\n",
        "\n",
        "    df = df.drop(\n",
        "        list(\n",
        "            range(\n",
        "                df[df.columns[0]][\n",
        "                    (df[df.columns[0]] == \"TỔNG SỐ\")\n",
        "                    | (df[df.columns[0]] == \"TOTAL\")\n",
        "                    | (df[df.columns[0]] == \"TỔNG SẢN PHẨM TRONG NƯỚC\")\n",
        "                ].index[0]\n",
        "            )\n",
        "        )\n",
        "    )\n",
        "\n",
        "    if len(df[\"Ngành\"][df[\"Ngành\"] == \"TOTAL\"].index) > 0:\n",
        "        df[\"Ngành\"] = df[\"Ngành\"].map(en_to_vn)\n",
        "\n",
        "    df = df[pd.to_numeric(df[df.columns[1]], errors=\"coerce\").notnull()]\n",
        "\n",
        "    if int(date.split(\"-\")[0]) < 2024:\n",
        "        df[\"YOY\"] = df[\"YOY\"] - 100\n",
        "\n",
        "    df[\"Date\"] = date\n",
        "    df[\"Date\"] = pd.to_datetime(df[\"Date\"], dayfirst=False)\n",
        "\n",
        "    df[\"Tổng số\"] = df[\"Tổng số\"].astype(float)\n",
        "\n",
        "    total = df.loc[df[\"Tổng số\"].idxmax(), df.columns[1]]\n",
        "    df[\"Percent\"] = df[\"Tổng số\"] / total\n",
        "\n",
        "    return df\n",
        "\n",
        "\n",
        "xl = pd.ExcelFile(\"../datas/2024-06-29-02.Bieu-T6.2024.xlsx\")\n",
        "\n",
        "sheet_name = find_sheet_name(xl.sheet_names)\n",
        "\n",
        "get_gdp_ss(xl, sheet_name, \"2024-06-29\")"
      ]
    },
    {
      "cell_type": "code",
      "execution_count": 36,
      "metadata": {},
      "outputs": [],
      "source": [
        "import os\n",
        "import contextlib\n",
        "\n",
        "dfs_gdp_ss_origin = []\n",
        "for file_name in sorted(\n",
        "    os.listdir(\"../datas\"),\n",
        "    key=lambda filename: f\"{filename.split('-')[0]}-{filename.split('-')[1]}-{filename.split('-')[2]}\",\n",
        "    reverse=True,\n",
        "):\n",
        "    if file_name.startswith(\".~\"):\n",
        "        continue\n",
        "\n",
        "    try:\n",
        "        file_path = os.path.join(\"../datas\", file_name)\n",
        "\n",
        "        year = int(file_name.split(\"-\")[0])\n",
        "        month = int(file_name.split(\"-\")[1])\n",
        "        day = int(file_name.split(\"-\")[2])\n",
        "\n",
        "        if year < 2014:\n",
        "            continue\n",
        "\n",
        "        if month not in [3, 6, 9, 12]:\n",
        "            continue\n",
        "\n",
        "        xl = pd.ExcelFile(file_path)\n",
        "\n",
        "        df_gdp = get_gdp_ss(\n",
        "            xl, find_sheet_name(xl.sheet_names), f\"{year}-{month}-{day}\"\n",
        "        )\n",
        "\n",
        "        dfs_gdp_ss_origin.append(df_gdp)\n",
        "    except Exception as e:\n",
        "        print(file_name, str(e))"
      ]
    },
    {
      "cell_type": "code",
      "execution_count": null,
      "metadata": {},
      "outputs": [
        {
          "data": {
            "text/html": [
              "<div>\n",
              "<style scoped>\n",
              "    .dataframe tbody tr th:only-of-type {\n",
              "        vertical-align: middle;\n",
              "    }\n",
              "\n",
              "    .dataframe tbody tr th {\n",
              "        vertical-align: top;\n",
              "    }\n",
              "\n",
              "    .dataframe thead th {\n",
              "        text-align: right;\n",
              "    }\n",
              "</style>\n",
              "<table border=\"1\" class=\"dataframe\">\n",
              "  <thead>\n",
              "    <tr style=\"text-align: right;\">\n",
              "      <th></th>\n",
              "      <th>Ngành</th>\n",
              "      <th>Tổng số</th>\n",
              "      <th>YOY</th>\n",
              "      <th>Date</th>\n",
              "      <th>Percent</th>\n",
              "    </tr>\n",
              "  </thead>\n",
              "  <tbody>\n",
              "    <tr>\n",
              "      <th>0</th>\n",
              "      <td>TỔNG SỐ</td>\n",
              "      <td>1.508387e+06</td>\n",
              "      <td>105.873694</td>\n",
              "      <td>2024-06-29</td>\n",
              "      <td>1.000000</td>\n",
              "    </tr>\n",
              "    <tr>\n",
              "      <th>1</th>\n",
              "      <td>Nông, lâm nghiệp và thủy sản</td>\n",
              "      <td>1.513034e+05</td>\n",
              "      <td>103.424889</td>\n",
              "      <td>2024-06-29</td>\n",
              "      <td>0.100308</td>\n",
              "    </tr>\n",
              "    <tr>\n",
              "      <th>2</th>\n",
              "      <td>Nông nghiệp</td>\n",
              "      <td>1.070580e+05</td>\n",
              "      <td>103.38366</td>\n",
              "      <td>2024-06-29</td>\n",
              "      <td>0.070975</td>\n",
              "    </tr>\n",
              "    <tr>\n",
              "      <th>3</th>\n",
              "      <td>Lâm nghiệp</td>\n",
              "      <td>7.906678e+03</td>\n",
              "      <td>104.412579</td>\n",
              "      <td>2024-06-29</td>\n",
              "      <td>0.005242</td>\n",
              "    </tr>\n",
              "    <tr>\n",
              "      <th>4</th>\n",
              "      <td>Thủy sản</td>\n",
              "      <td>3.633800e+04</td>\n",
              "      <td>103.383214</td>\n",
              "      <td>2024-06-29</td>\n",
              "      <td>0.024091</td>\n",
              "    </tr>\n",
              "    <tr>\n",
              "      <th>...</th>\n",
              "      <td>...</td>\n",
              "      <td>...</td>\n",
              "      <td>...</td>\n",
              "      <td>...</td>\n",
              "      <td>...</td>\n",
              "    </tr>\n",
              "    <tr>\n",
              "      <th>1169</th>\n",
              "      <td>Giáo dục và đào tạo</td>\n",
              "      <td>1.430664e+04</td>\n",
              "      <td>7.82</td>\n",
              "      <td>2014-03-28</td>\n",
              "      <td>0.028404</td>\n",
              "    </tr>\n",
              "    <tr>\n",
              "      <th>1170</th>\n",
              "      <td>Y tế và hoạt động trợ giúp xã hội</td>\n",
              "      <td>6.434305e+03</td>\n",
              "      <td>7.80182</td>\n",
              "      <td>2014-03-28</td>\n",
              "      <td>0.012775</td>\n",
              "    </tr>\n",
              "    <tr>\n",
              "      <th>1171</th>\n",
              "      <td>Nghệ thuật, vui chơi và giải trí</td>\n",
              "      <td>3.831353e+03</td>\n",
              "      <td>9.12</td>\n",
              "      <td>2014-03-28</td>\n",
              "      <td>0.007607</td>\n",
              "    </tr>\n",
              "    <tr>\n",
              "      <th>1172</th>\n",
              "      <td>Hoạt động dịch vụ khác</td>\n",
              "      <td>9.223516e+03</td>\n",
              "      <td>7.44</td>\n",
              "      <td>2014-03-28</td>\n",
              "      <td>0.018312</td>\n",
              "    </tr>\n",
              "    <tr>\n",
              "      <th>1173</th>\n",
              "      <td>Hoạt động làm thuê các công việc trong các hộ ...</td>\n",
              "      <td>9.834928e+02</td>\n",
              "      <td>6.62</td>\n",
              "      <td>2014-03-28</td>\n",
              "      <td>0.001953</td>\n",
              "    </tr>\n",
              "  </tbody>\n",
              "</table>\n",
              "<p>1174 rows × 5 columns</p>\n",
              "</div>"
            ],
            "text/plain": [
              "                                                  Ngành       Tổng số  \\\n",
              "0                                               TỔNG SỐ  1.508387e+06   \n",
              "1                          Nông, lâm nghiệp và thủy sản  1.513034e+05   \n",
              "2                                           Nông nghiệp  1.070580e+05   \n",
              "3                                            Lâm nghiệp  7.906678e+03   \n",
              "4                                              Thủy sản  3.633800e+04   \n",
              "...                                                 ...           ...   \n",
              "1169                                Giáo dục và đào tạo  1.430664e+04   \n",
              "1170                  Y tế và hoạt động trợ giúp xã hội  6.434305e+03   \n",
              "1171                   Nghệ thuật, vui chơi và giải trí  3.831353e+03   \n",
              "1172                             Hoạt động dịch vụ khác  9.223516e+03   \n",
              "1173  Hoạt động làm thuê các công việc trong các hộ ...  9.834928e+02   \n",
              "\n",
              "             YOY       Date   Percent  \n",
              "0     105.873694 2024-06-29  1.000000  \n",
              "1     103.424889 2024-06-29  0.100308  \n",
              "2      103.38366 2024-06-29  0.070975  \n",
              "3     104.412579 2024-06-29  0.005242  \n",
              "4     103.383214 2024-06-29  0.024091  \n",
              "...          ...        ...       ...  \n",
              "1169        7.82 2014-03-28  0.028404  \n",
              "1170     7.80182 2014-03-28  0.012775  \n",
              "1171        9.12 2014-03-28  0.007607  \n",
              "1172        7.44 2014-03-28  0.018312  \n",
              "1173        6.62 2014-03-28  0.001953  \n",
              "\n",
              "[1174 rows x 5 columns]"
            ]
          },
          "execution_count": 17,
          "metadata": {},
          "output_type": "execute_result"
        }
      ],
      "source": [
        "dfs_gdp_ss = pd.concat(dfs_gdp_ss_origin, ignore_index=True, axis=0)\n",
        "dfs_gdp_ss[\"Date\"] = pd.to_datetime(dfs_gdp_ss[\"Date\"], dayfirst=False)\n",
        "dfs_gdp_ss"
      ]
    },
    {
      "cell_type": "code",
      "execution_count": null,
      "metadata": {},
      "outputs": [
        {
          "data": {
            "text/html": [
              "<div>\n",
              "<style scoped>\n",
              "    .dataframe tbody tr th:only-of-type {\n",
              "        vertical-align: middle;\n",
              "    }\n",
              "\n",
              "    .dataframe tbody tr th {\n",
              "        vertical-align: top;\n",
              "    }\n",
              "\n",
              "    .dataframe thead th {\n",
              "        text-align: right;\n",
              "    }\n",
              "</style>\n",
              "<table border=\"1\" class=\"dataframe\">\n",
              "  <thead>\n",
              "    <tr style=\"text-align: right;\">\n",
              "      <th></th>\n",
              "      <th>Ngành</th>\n",
              "      <th>Tổng số</th>\n",
              "      <th>YOY</th>\n",
              "      <th>Date</th>\n",
              "      <th>Percent</th>\n",
              "    </tr>\n",
              "  </thead>\n",
              "  <tbody>\n",
              "    <tr>\n",
              "      <th>0</th>\n",
              "      <td>TỔNG SỐ</td>\n",
              "      <td>1.508387e+06</td>\n",
              "      <td>105.873694</td>\n",
              "      <td>2024-06-29</td>\n",
              "      <td>1.000000</td>\n",
              "    </tr>\n",
              "    <tr>\n",
              "      <th>1</th>\n",
              "      <td>Nông, lâm nghiệp và thủy sản</td>\n",
              "      <td>1.513034e+05</td>\n",
              "      <td>103.424889</td>\n",
              "      <td>2024-06-29</td>\n",
              "      <td>0.100308</td>\n",
              "    </tr>\n",
              "    <tr>\n",
              "      <th>2</th>\n",
              "      <td>Nông nghiệp</td>\n",
              "      <td>1.070580e+05</td>\n",
              "      <td>103.38366</td>\n",
              "      <td>2024-06-29</td>\n",
              "      <td>0.070975</td>\n",
              "    </tr>\n",
              "    <tr>\n",
              "      <th>3</th>\n",
              "      <td>Lâm nghiệp</td>\n",
              "      <td>7.906678e+03</td>\n",
              "      <td>104.412579</td>\n",
              "      <td>2024-06-29</td>\n",
              "      <td>0.005242</td>\n",
              "    </tr>\n",
              "    <tr>\n",
              "      <th>4</th>\n",
              "      <td>Thủy sản</td>\n",
              "      <td>3.633800e+04</td>\n",
              "      <td>103.383214</td>\n",
              "      <td>2024-06-29</td>\n",
              "      <td>0.024091</td>\n",
              "    </tr>\n",
              "    <tr>\n",
              "      <th>...</th>\n",
              "      <td>...</td>\n",
              "      <td>...</td>\n",
              "      <td>...</td>\n",
              "      <td>...</td>\n",
              "      <td>...</td>\n",
              "    </tr>\n",
              "    <tr>\n",
              "      <th>1169</th>\n",
              "      <td>Giáo dục và đào tạo</td>\n",
              "      <td>1.430664e+04</td>\n",
              "      <td>7.82</td>\n",
              "      <td>2014-03-28</td>\n",
              "      <td>0.028404</td>\n",
              "    </tr>\n",
              "    <tr>\n",
              "      <th>1170</th>\n",
              "      <td>Y tế và hoạt động trợ giúp xã hội</td>\n",
              "      <td>6.434305e+03</td>\n",
              "      <td>7.80182</td>\n",
              "      <td>2014-03-28</td>\n",
              "      <td>0.012775</td>\n",
              "    </tr>\n",
              "    <tr>\n",
              "      <th>1171</th>\n",
              "      <td>Nghệ thuật, vui chơi và giải trí</td>\n",
              "      <td>3.831353e+03</td>\n",
              "      <td>9.12</td>\n",
              "      <td>2014-03-28</td>\n",
              "      <td>0.007607</td>\n",
              "    </tr>\n",
              "    <tr>\n",
              "      <th>1172</th>\n",
              "      <td>Hoạt động dịch vụ khác</td>\n",
              "      <td>9.223516e+03</td>\n",
              "      <td>7.44</td>\n",
              "      <td>2014-03-28</td>\n",
              "      <td>0.018312</td>\n",
              "    </tr>\n",
              "    <tr>\n",
              "      <th>1173</th>\n",
              "      <td>Hoạt động làm thuê các công việc trong các hộ ...</td>\n",
              "      <td>9.834928e+02</td>\n",
              "      <td>6.62</td>\n",
              "      <td>2014-03-28</td>\n",
              "      <td>0.001953</td>\n",
              "    </tr>\n",
              "  </tbody>\n",
              "</table>\n",
              "<p>1174 rows × 5 columns</p>\n",
              "</div>"
            ],
            "text/plain": [
              "                                                  Ngành       Tổng số  \\\n",
              "0                                               TỔNG SỐ  1.508387e+06   \n",
              "1                          Nông, lâm nghiệp và thủy sản  1.513034e+05   \n",
              "2                                           Nông nghiệp  1.070580e+05   \n",
              "3                                            Lâm nghiệp  7.906678e+03   \n",
              "4                                              Thủy sản  3.633800e+04   \n",
              "...                                                 ...           ...   \n",
              "1169                                Giáo dục và đào tạo  1.430664e+04   \n",
              "1170                  Y tế và hoạt động trợ giúp xã hội  6.434305e+03   \n",
              "1171                   Nghệ thuật, vui chơi và giải trí  3.831353e+03   \n",
              "1172                             Hoạt động dịch vụ khác  9.223516e+03   \n",
              "1173  Hoạt động làm thuê các công việc trong các hộ ...  9.834928e+02   \n",
              "\n",
              "             YOY       Date   Percent  \n",
              "0     105.873694 2024-06-29  1.000000  \n",
              "1     103.424889 2024-06-29  0.100308  \n",
              "2      103.38366 2024-06-29  0.070975  \n",
              "3     104.412579 2024-06-29  0.005242  \n",
              "4     103.383214 2024-06-29  0.024091  \n",
              "...          ...        ...       ...  \n",
              "1169        7.82 2014-03-28  0.028404  \n",
              "1170     7.80182 2014-03-28  0.012775  \n",
              "1171        9.12 2014-03-28  0.007607  \n",
              "1172        7.44 2014-03-28  0.018312  \n",
              "1173        6.62 2014-03-28  0.001953  \n",
              "\n",
              "[1174 rows x 5 columns]"
            ]
          },
          "execution_count": 18,
          "metadata": {},
          "output_type": "execute_result"
        }
      ],
      "source": [
        "convert_nganh = {\n",
        "    \"TỔNG SỐ\": \"TỔNG SỐ\",\n",
        "    \"Nông, lâm nghiệp và thủy sản\": \"Nông, lâm nghiệp và thủy sản\",\n",
        "    \"Nông nghiệp\": \"Nông nghiệp\",\n",
        "    \"Lâm nghiệp\": \"Lâm nghiệp\",\n",
        "    \"Thủy sản\": \"Thủy sản\",\n",
        "    \"Công nghiệp và xây dựng\": \"Công nghiệp và xây dựng\",\n",
        "    \"Công nghiệp\": \"Công nghiệp\",\n",
        "    \"Khai khoáng\": \"Khai khoáng\",\n",
        "    \"Công nghiệp chế biến, chế tạo\": \"Công nghiệp chế biến, chế tạo\",\n",
        "    \"Sản xuất và phân phối điện, khí đốt, nước nóng, hơi nước và điều hòa không khí\": \"Sản xuất và phân phối điện, khí đốt, nước nóng, hơi nước và điều hòa không khí\",\n",
        "    \"Cung cấp nước; hoạt động quản lý và xử lý rác thải, nước thải\": \"Cung cấp nước; hoạt động quản lý và xử lý rác thải, nước thải\",\n",
        "    \"Xây dựng\": \"Xây dựng\",\n",
        "    \"Dịch vụ\": \"Dịch vụ\",\n",
        "    \"Bán buôn và bán lẻ; sửa chữa ô tô, mô tô, xe máy và xe có động cơ khác\": \"Bán buôn và bán lẻ; sửa chữa ô tô, mô tô, xe máy và xe có động cơ khác\",\n",
        "    \"Vận tải, kho bãi\": \"Vận tải, kho bãi\",\n",
        "    \"Dịch vụ lưu trú và ăn uống\": \"Dịch vụ lưu trú và ăn uống\",\n",
        "    \"Thông tin và truyền thông\": \"Thông tin và truyền thông\",\n",
        "    \"Hoạt động tài chính, ngân hàng và bảo hiểm\": \"Hoạt động tài chính, ngân hàng và bảo hiểm\",\n",
        "    \"Hoạt động kinh doanh bất động sản\": \"Hoạt động kinh doanh bất động sản\",\n",
        "    \"Hoạt động chuyên môn, khoa học và công nghệ\": \"Hoạt động chuyên môn, khoa học và công nghệ\",\n",
        "    \"Hoạt động hành chính và dịch vụ hỗ trợ\": \"Hoạt động hành chính và dịch vụ hỗ trợ\",\n",
        "    \"Hoạt động của Đảng Cộng sản, tổ chức chính trị-xã hội; quản lý Nhà nước, an ninh quốc phòng; đảm bảo xã hội bắt buộc\": \"Hoạt động của Đảng Cộng sản, tổ chức chính trị-xã hội; quản lý Nhà nước, an ninh quốc phòng; đảm bảo xã hội bắt buộc\",\n",
        "    \"Giáo dục và đào tạo\": \"Giáo dục và đào tạo\",\n",
        "    \"Y tế và hoạt động trợ giúp xã hội\": \"Y tế và hoạt động trợ giúp xã hội\",\n",
        "    \"Nghệ thuật, vui chơi và giải trí\": \"Nghệ thuật, vui chơi và giải trí\",\n",
        "    \"Hoạt động dịch vụ khác\": \"Hoạt động dịch vụ khác\",\n",
        "    \"Hoạt động làm thuê các công việc trong các hộ gia đình, sản xuất sản phẩm vật chất và dịch vụ tự tiêu dùng của hộ gia đình\": \"Hoạt động làm thuê các công việc trong các hộ gia đình, sản xuất sản phẩm vật chất và dịch vụ tự tiêu dùng của hộ gia đình\",\n",
        "    \"Thuế sản phẩm trừ trợ cấp sản phẩm\": \"Thuế sản phẩm trừ trợ cấp sản phẩm\",\n",
        "    \"Hoạt động của Đảng Cộng sản, tổ chức chính trị- xã hội; quản lý Nhà nước, an ninh quốc phòng; đảm bảo xã hội bắt buộc\": \"Hoạt động của Đảng Cộng sản, tổ chức chính trị-xã hội; quản lý Nhà nước, an ninh quốc phòng; đảm bảo xã hội bắt buộc\",\n",
        "    \"TỔNG SẢN PHẨM TRONG NƯỚC\": \"TỔNG SỐ\",\n",
        "    \"Khấu hao nhà ở dân cư\": \"Khấu hao nhà ở dân cư\",\n",
        "}\n",
        "\n",
        "for nganh in dfs_gdp_ss[\"Ngành\"].unique().tolist():\n",
        "    assert nganh in convert_nganh.keys(), nganh\n",
        "\n",
        "dfs_gdp_ss[\"Ngành\"] = dfs_gdp_ss[\"Ngành\"].map(convert_nganh)\n",
        "dfs_gdp_ss"
      ]
    },
    {
      "cell_type": "code",
      "execution_count": null,
      "metadata": {},
      "outputs": [],
      "source": [
        "dfs_gdp_ss.to_csv(\"../csv/gdp_ss.csv\")"
      ]
    },
    {
      "cell_type": "code",
      "execution_count": null,
      "metadata": {},
      "outputs": [],
      "source": [
        "# nganh = \"TỔNG SỐ\"\n",
        "# dfs_gdp_ss_per_nganh = dfs_gdp_ss[dfs_gdp_ss[\"Ngành\"] == nganh]\n",
        "\n",
        "# dfs_gdp_ss_per_nganh[\"PCT_YOY\"] = dfs_gdp_ss_per_nganh[\"Tổng số\"].pct_change(-4)\n",
        "# print(dfs_gdp_ss_per_nganh)"
      ]
    },
    {
      "cell_type": "code",
      "execution_count": null,
      "metadata": {},
      "outputs": [
        {
          "data": {
            "application/vnd.plotly.v1+json": {
              "config": {
                "plotlyServerURL": "https://plot.ly"
              },
              "data": [
                {
                  "fillpattern": {
                    "shape": ""
                  },
                  "hovertemplate": "Ngành=TỔNG SỐ<br>Date=%{x}<br>YOY=%{y}<extra></extra>",
                  "legendgroup": "TỔNG SỐ",
                  "line": {
                    "color": "#636efa"
                  },
                  "marker": {
                    "symbol": "circle"
                  },
                  "mode": "lines",
                  "name": "TỔNG SỐ",
                  "orientation": "v",
                  "showlegend": true,
                  "stackgroup": "1",
                  "type": "scatter",
                  "x": [
                    "2024-06-29T00:00:00",
                    "2024-03-29T00:00:00",
                    "2023-12-29T00:00:00",
                    "2023-09-29T00:00:00",
                    "2023-06-29T00:00:00",
                    "2023-03-29T00:00:00",
                    "2022-12-29T00:00:00",
                    "2022-09-29T00:00:00",
                    "2022-06-29T00:00:00",
                    "2022-03-29T00:00:00",
                    "2021-12-29T00:00:00",
                    "2021-09-29T00:00:00",
                    "2021-06-29T00:00:00",
                    "2021-03-29T00:00:00",
                    "2020-12-27T00:00:00",
                    "2020-09-29T00:00:00",
                    "2020-06-29T00:00:00",
                    "2020-03-27T00:00:00",
                    "2019-12-27T00:00:00",
                    "2019-09-28T00:00:00",
                    "2019-06-28T00:00:00",
                    "2019-03-29T00:00:00",
                    "2018-12-27T00:00:00",
                    "2018-09-28T00:00:00",
                    "2018-06-29T00:00:00",
                    "2018-03-29T00:00:00",
                    "2017-12-29T00:00:00",
                    "2017-09-29T00:00:00",
                    "2017-06-29T00:00:00",
                    "2017-03-29T00:00:00",
                    "2016-12-29T00:00:00",
                    "2016-09-29T00:00:00",
                    "2016-06-29T00:00:00",
                    "2016-03-29T00:00:00",
                    "2015-12-29T00:00:00",
                    "2015-09-29T00:00:00",
                    "2015-06-29T00:00:00",
                    "2015-03-29T00:00:00",
                    "2014-12-29T00:00:00",
                    "2014-09-29T00:00:00",
                    "2014-06-27T00:00:00",
                    "2014-03-28T00:00:00"
                  ],
                  "xaxis": "x",
                  "y": [
                    105.87369386766106,
                    5.657544227567939,
                    5.469891959761995,
                    4.051099546801382,
                    3.2754571640641643,
                    3.318918280789802,
                    13.71443264446286,
                    7.828583142557477,
                    5.052647625549511,
                    5.031830181024418,
                    -6.0247748020650675,
                    6.570691712751994,
                    4.65043726396992,
                    4.480000000000004,
                    2.6906815676666724,
                    0.38737567698500186,
                    3.682109821377864,
                    3.8208067991526633,
                    7.483672006638997,
                    6.7335223211843385,
                    6.821605332853736,
                    6.7925045418773635,
                    6.8230300836627436,
                    6.7330727974715785,
                    7.075643105772173,
                    7.37820803674569,
                    6.8122456596397996,
                    6.414697282886507,
                    5.728469735422493,
                    5.1027657025271935,
                    6.210812202601161,
                    5.930030839223875,
                    5.521540231892558,
                    5.4594069076467235,
                    6.679308130442124,
                    6.500672345266565,
                    6.280415359654896,
                    6.028019764031868,
                    5.983634848611885,
                    5.6200000000000045,
                    5.180074015026847,
                    4.960355658392217
                  ],
                  "yaxis": "y"
                },
                {
                  "fillpattern": {
                    "shape": ""
                  },
                  "hovertemplate": "Ngành=Nông, lâm nghiệp và thủy sản<br>Date=%{x}<br>YOY=%{y}<extra></extra>",
                  "legendgroup": "Nông, lâm nghiệp và thủy sản",
                  "line": {
                    "color": "#EF553B"
                  },
                  "marker": {
                    "symbol": "circle"
                  },
                  "mode": "lines",
                  "name": "Nông, lâm nghiệp và thủy sản",
                  "orientation": "v",
                  "showlegend": true,
                  "stackgroup": "1",
                  "type": "scatter",
                  "x": [
                    "2024-06-29T00:00:00",
                    "2024-03-29T00:00:00",
                    "2023-12-29T00:00:00",
                    "2023-09-29T00:00:00",
                    "2023-06-29T00:00:00",
                    "2023-03-29T00:00:00",
                    "2022-12-29T00:00:00",
                    "2022-09-29T00:00:00",
                    "2022-06-29T00:00:00",
                    "2022-03-29T00:00:00",
                    "2021-12-29T00:00:00",
                    "2021-09-29T00:00:00",
                    "2021-06-29T00:00:00",
                    "2021-03-29T00:00:00",
                    "2020-12-27T00:00:00",
                    "2020-09-29T00:00:00",
                    "2020-06-29T00:00:00",
                    "2020-03-27T00:00:00",
                    "2019-12-27T00:00:00",
                    "2019-09-28T00:00:00",
                    "2019-06-28T00:00:00",
                    "2019-03-29T00:00:00",
                    "2018-12-27T00:00:00",
                    "2018-09-28T00:00:00",
                    "2018-06-29T00:00:00",
                    "2018-03-29T00:00:00",
                    "2017-12-29T00:00:00",
                    "2017-09-29T00:00:00",
                    "2017-06-29T00:00:00",
                    "2017-03-29T00:00:00",
                    "2016-12-29T00:00:00",
                    "2016-09-29T00:00:00",
                    "2016-06-29T00:00:00",
                    "2016-03-29T00:00:00",
                    "2015-12-29T00:00:00",
                    "2015-09-29T00:00:00",
                    "2015-06-29T00:00:00",
                    "2015-03-29T00:00:00",
                    "2014-12-29T00:00:00",
                    "2014-09-29T00:00:00",
                    "2014-06-27T00:00:00",
                    "2014-03-28T00:00:00"
                  ],
                  "xaxis": "x",
                  "y": [
                    103.42488856604079,
                    2.9793067161352838,
                    4.304803961508,
                    3.6585155978690693,
                    2.8971602126519826,
                    2.5243977148109167,
                    3.6911619418131636,
                    3.051358017506331,
                    2.530990760132724,
                    2.4475643650120986,
                    1.196006503406366,
                    4.007539612366813,
                    3.508361802767851,
                    3.1599999999999966,
                    2.792638717366998,
                    1.7975279129550046,
                    0.038229022409865365,
                    0.07643527964663122,
                    2.00450834888089,
                    2.044166668834464,
                    2.8078504071970656,
                    2.680466597164383,
                    3.5940818875264853,
                    3.5363956957895795,
                    3.9303569514277115,
                    4.0506117691619465,
                    2.9017966651948512,
                    2.784073964906568,
                    2.6537209177328123,
                    2.029911315855216,
                    1.3570904241772155,
                    0.6502056871369604,
                    -0.17696136855518318,
                    -1.231456821005466,
                    2.4081935357990574,
                    2.0760799768591482,
                    2.362743408255824,
                    2.139374420445023,
                    3.494829286867798,
                    2.997701400741178,
                    2.964650553016355,
                    2.3672979889620223
                  ],
                  "yaxis": "y"
                },
                {
                  "fillpattern": {
                    "shape": ""
                  },
                  "hovertemplate": "Ngành=Công nghiệp và xây dựng<br>Date=%{x}<br>YOY=%{y}<extra></extra>",
                  "legendgroup": "Công nghiệp và xây dựng",
                  "line": {
                    "color": "#00cc96"
                  },
                  "marker": {
                    "symbol": "circle"
                  },
                  "mode": "lines",
                  "name": "Công nghiệp và xây dựng",
                  "orientation": "v",
                  "showlegend": true,
                  "stackgroup": "1",
                  "type": "scatter",
                  "x": [
                    "2024-06-29T00:00:00",
                    "2024-03-29T00:00:00",
                    "2023-12-29T00:00:00",
                    "2023-09-29T00:00:00",
                    "2023-06-29T00:00:00",
                    "2023-03-29T00:00:00",
                    "2022-12-29T00:00:00",
                    "2022-09-29T00:00:00",
                    "2022-06-29T00:00:00",
                    "2022-03-29T00:00:00",
                    "2021-12-29T00:00:00",
                    "2021-09-29T00:00:00",
                    "2021-06-29T00:00:00",
                    "2021-03-29T00:00:00",
                    "2020-12-27T00:00:00",
                    "2020-09-29T00:00:00",
                    "2020-06-29T00:00:00",
                    "2020-03-27T00:00:00",
                    "2019-12-27T00:00:00",
                    "2019-09-28T00:00:00",
                    "2019-06-28T00:00:00",
                    "2019-03-29T00:00:00",
                    "2018-12-27T00:00:00",
                    "2018-09-28T00:00:00",
                    "2018-06-29T00:00:00",
                    "2018-03-29T00:00:00",
                    "2017-12-29T00:00:00",
                    "2017-09-29T00:00:00",
                    "2017-06-29T00:00:00",
                    "2017-03-29T00:00:00",
                    "2016-12-29T00:00:00",
                    "2016-09-29T00:00:00",
                    "2016-06-29T00:00:00",
                    "2016-03-29T00:00:00",
                    "2015-12-29T00:00:00",
                    "2015-09-29T00:00:00",
                    "2015-06-29T00:00:00",
                    "2015-03-29T00:00:00",
                    "2014-12-29T00:00:00",
                    "2014-09-29T00:00:00",
                    "2014-06-27T00:00:00",
                    "2014-03-28T00:00:00"
                  ],
                  "xaxis": "x",
                  "y": [
                    106.6559288006415,
                    6.281638204280512,
                    5.159876363962994,
                    2.098934559330786,
                    -0.35483822134544596,
                    -0.4043055208035611,
                    12.192176064239987,
                    8.70379432418747,
                    6.408035022807226,
                    6.383478489251587,
                    -5.486067695324408,
                    10.359445168696936,
                    6.327061169791136,
                    6.299999999999997,
                    3.1995097804007173,
                    1.6915000301469973,
                    4.996262169486627,
                    5.153737412416632,
                    10.158517538911767,
                    9.138458445595973,
                    8.675626012761512,
                    8.633445487357875,
                    8.76284768311902,
                    8.401160479138042,
                    9.068454546448095,
                    9.701721800991649,
                    8.001548057925362,
                    7.169546690322122,
                    5.813456961688686,
                    4.166218010042357,
                    7.572882564192014,
                    7.503565734905692,
                    7.118913317618606,
                    6.716641062797947,
                    9.638952480016428,
                    9.572970026701654,
                    9.08519528566545,
                    8.352194644937924,
                    7.141674239132257,
                    6.420000000000002,
                    5.332237453351382,
                    4.694344881819944
                  ],
                  "yaxis": "y"
                },
                {
                  "fillpattern": {
                    "shape": ""
                  },
                  "hovertemplate": "Ngành=Dịch vụ<br>Date=%{x}<br>YOY=%{y}<extra></extra>",
                  "legendgroup": "Dịch vụ",
                  "line": {
                    "color": "#ab63fa"
                  },
                  "marker": {
                    "symbol": "circle"
                  },
                  "mode": "lines",
                  "name": "Dịch vụ",
                  "orientation": "v",
                  "showlegend": true,
                  "stackgroup": "1",
                  "type": "scatter",
                  "x": [
                    "2024-06-29T00:00:00",
                    "2024-03-29T00:00:00",
                    "2023-12-29T00:00:00",
                    "2023-09-29T00:00:00",
                    "2023-06-29T00:00:00",
                    "2023-03-29T00:00:00",
                    "2022-12-29T00:00:00",
                    "2022-09-29T00:00:00",
                    "2022-06-29T00:00:00",
                    "2022-03-29T00:00:00",
                    "2021-12-29T00:00:00",
                    "2021-09-29T00:00:00",
                    "2021-06-29T00:00:00",
                    "2021-03-29T00:00:00",
                    "2020-12-27T00:00:00",
                    "2020-09-29T00:00:00",
                    "2020-06-29T00:00:00",
                    "2020-03-27T00:00:00",
                    "2019-12-27T00:00:00",
                    "2019-09-28T00:00:00",
                    "2019-06-28T00:00:00",
                    "2019-03-29T00:00:00",
                    "2018-12-27T00:00:00",
                    "2018-09-28T00:00:00",
                    "2018-06-29T00:00:00",
                    "2018-03-29T00:00:00",
                    "2017-12-29T00:00:00",
                    "2017-09-29T00:00:00",
                    "2017-06-29T00:00:00",
                    "2017-03-29T00:00:00",
                    "2016-12-29T00:00:00",
                    "2016-09-29T00:00:00",
                    "2016-06-29T00:00:00",
                    "2016-03-29T00:00:00",
                    "2015-12-29T00:00:00",
                    "2015-09-29T00:00:00",
                    "2015-06-29T00:00:00",
                    "2015-03-29T00:00:00",
                    "2014-12-29T00:00:00",
                    "2014-09-29T00:00:00",
                    "2014-06-27T00:00:00",
                    "2014-03-28T00:00:00"
                  ],
                  "xaxis": "x",
                  "y": [
                    106.19502224297028,
                    6.1157088486256725,
                    6.425505204073005,
                    6.172831750452573,
                    6.561001661097478,
                    6.78833688102425,
                    19.344503013074316,
                    8.916258895297219,
                    4.642051448361428,
                    4.578904723951638,
                    -8.571167828334808,
                    4.2206013845476065,
                    3.6187497864537335,
                    3.3400000000000034,
                    2.7994731097168,
                    -1.9347080626880029,
                    3.2566047358565413,
                    3.2664134395617594,
                    7.276377828622003,
                    6.851507335269787,
                    6.49573825747494,
                    6.495825244093282,
                    6.53737925523518,
                    7.107537273388559,
                    6.901809129748912,
                    6.698547221691115,
                    7.441965873412656,
                    7.249762867415939,
                    6.849348762237312,
                    6.524839913717244,
                    6.98370044687131,
                    6.661635290488704,
                    6.348941839977627,
                    6.134189299313249,
                    6.325026579013752,
                    6.174444645160975,
                    5.896613586652762,
                    5.821313769355967,
                    5.962169954565709,
                    5.989999999999995,
                    6.007858318830998,
                    5.949713325126126
                  ],
                  "yaxis": "y"
                }
              ],
              "layout": {
                "legend": {
                  "title": {
                    "text": "Ngành"
                  },
                  "tracegroupgap": 0
                },
                "margin": {
                  "t": 60
                },
                "template": {
                  "data": {
                    "bar": [
                      {
                        "error_x": {
                          "color": "#2a3f5f"
                        },
                        "error_y": {
                          "color": "#2a3f5f"
                        },
                        "marker": {
                          "line": {
                            "color": "#E5ECF6",
                            "width": 0.5
                          },
                          "pattern": {
                            "fillmode": "overlay",
                            "size": 10,
                            "solidity": 0.2
                          }
                        },
                        "type": "bar"
                      }
                    ],
                    "barpolar": [
                      {
                        "marker": {
                          "line": {
                            "color": "#E5ECF6",
                            "width": 0.5
                          },
                          "pattern": {
                            "fillmode": "overlay",
                            "size": 10,
                            "solidity": 0.2
                          }
                        },
                        "type": "barpolar"
                      }
                    ],
                    "carpet": [
                      {
                        "aaxis": {
                          "endlinecolor": "#2a3f5f",
                          "gridcolor": "white",
                          "linecolor": "white",
                          "minorgridcolor": "white",
                          "startlinecolor": "#2a3f5f"
                        },
                        "baxis": {
                          "endlinecolor": "#2a3f5f",
                          "gridcolor": "white",
                          "linecolor": "white",
                          "minorgridcolor": "white",
                          "startlinecolor": "#2a3f5f"
                        },
                        "type": "carpet"
                      }
                    ],
                    "choropleth": [
                      {
                        "colorbar": {
                          "outlinewidth": 0,
                          "ticks": ""
                        },
                        "type": "choropleth"
                      }
                    ],
                    "contour": [
                      {
                        "colorbar": {
                          "outlinewidth": 0,
                          "ticks": ""
                        },
                        "colorscale": [
                          [
                            0,
                            "#0d0887"
                          ],
                          [
                            0.1111111111111111,
                            "#46039f"
                          ],
                          [
                            0.2222222222222222,
                            "#7201a8"
                          ],
                          [
                            0.3333333333333333,
                            "#9c179e"
                          ],
                          [
                            0.4444444444444444,
                            "#bd3786"
                          ],
                          [
                            0.5555555555555556,
                            "#d8576b"
                          ],
                          [
                            0.6666666666666666,
                            "#ed7953"
                          ],
                          [
                            0.7777777777777778,
                            "#fb9f3a"
                          ],
                          [
                            0.8888888888888888,
                            "#fdca26"
                          ],
                          [
                            1,
                            "#f0f921"
                          ]
                        ],
                        "type": "contour"
                      }
                    ],
                    "contourcarpet": [
                      {
                        "colorbar": {
                          "outlinewidth": 0,
                          "ticks": ""
                        },
                        "type": "contourcarpet"
                      }
                    ],
                    "heatmap": [
                      {
                        "colorbar": {
                          "outlinewidth": 0,
                          "ticks": ""
                        },
                        "colorscale": [
                          [
                            0,
                            "#0d0887"
                          ],
                          [
                            0.1111111111111111,
                            "#46039f"
                          ],
                          [
                            0.2222222222222222,
                            "#7201a8"
                          ],
                          [
                            0.3333333333333333,
                            "#9c179e"
                          ],
                          [
                            0.4444444444444444,
                            "#bd3786"
                          ],
                          [
                            0.5555555555555556,
                            "#d8576b"
                          ],
                          [
                            0.6666666666666666,
                            "#ed7953"
                          ],
                          [
                            0.7777777777777778,
                            "#fb9f3a"
                          ],
                          [
                            0.8888888888888888,
                            "#fdca26"
                          ],
                          [
                            1,
                            "#f0f921"
                          ]
                        ],
                        "type": "heatmap"
                      }
                    ],
                    "heatmapgl": [
                      {
                        "colorbar": {
                          "outlinewidth": 0,
                          "ticks": ""
                        },
                        "colorscale": [
                          [
                            0,
                            "#0d0887"
                          ],
                          [
                            0.1111111111111111,
                            "#46039f"
                          ],
                          [
                            0.2222222222222222,
                            "#7201a8"
                          ],
                          [
                            0.3333333333333333,
                            "#9c179e"
                          ],
                          [
                            0.4444444444444444,
                            "#bd3786"
                          ],
                          [
                            0.5555555555555556,
                            "#d8576b"
                          ],
                          [
                            0.6666666666666666,
                            "#ed7953"
                          ],
                          [
                            0.7777777777777778,
                            "#fb9f3a"
                          ],
                          [
                            0.8888888888888888,
                            "#fdca26"
                          ],
                          [
                            1,
                            "#f0f921"
                          ]
                        ],
                        "type": "heatmapgl"
                      }
                    ],
                    "histogram": [
                      {
                        "marker": {
                          "pattern": {
                            "fillmode": "overlay",
                            "size": 10,
                            "solidity": 0.2
                          }
                        },
                        "type": "histogram"
                      }
                    ],
                    "histogram2d": [
                      {
                        "colorbar": {
                          "outlinewidth": 0,
                          "ticks": ""
                        },
                        "colorscale": [
                          [
                            0,
                            "#0d0887"
                          ],
                          [
                            0.1111111111111111,
                            "#46039f"
                          ],
                          [
                            0.2222222222222222,
                            "#7201a8"
                          ],
                          [
                            0.3333333333333333,
                            "#9c179e"
                          ],
                          [
                            0.4444444444444444,
                            "#bd3786"
                          ],
                          [
                            0.5555555555555556,
                            "#d8576b"
                          ],
                          [
                            0.6666666666666666,
                            "#ed7953"
                          ],
                          [
                            0.7777777777777778,
                            "#fb9f3a"
                          ],
                          [
                            0.8888888888888888,
                            "#fdca26"
                          ],
                          [
                            1,
                            "#f0f921"
                          ]
                        ],
                        "type": "histogram2d"
                      }
                    ],
                    "histogram2dcontour": [
                      {
                        "colorbar": {
                          "outlinewidth": 0,
                          "ticks": ""
                        },
                        "colorscale": [
                          [
                            0,
                            "#0d0887"
                          ],
                          [
                            0.1111111111111111,
                            "#46039f"
                          ],
                          [
                            0.2222222222222222,
                            "#7201a8"
                          ],
                          [
                            0.3333333333333333,
                            "#9c179e"
                          ],
                          [
                            0.4444444444444444,
                            "#bd3786"
                          ],
                          [
                            0.5555555555555556,
                            "#d8576b"
                          ],
                          [
                            0.6666666666666666,
                            "#ed7953"
                          ],
                          [
                            0.7777777777777778,
                            "#fb9f3a"
                          ],
                          [
                            0.8888888888888888,
                            "#fdca26"
                          ],
                          [
                            1,
                            "#f0f921"
                          ]
                        ],
                        "type": "histogram2dcontour"
                      }
                    ],
                    "mesh3d": [
                      {
                        "colorbar": {
                          "outlinewidth": 0,
                          "ticks": ""
                        },
                        "type": "mesh3d"
                      }
                    ],
                    "parcoords": [
                      {
                        "line": {
                          "colorbar": {
                            "outlinewidth": 0,
                            "ticks": ""
                          }
                        },
                        "type": "parcoords"
                      }
                    ],
                    "pie": [
                      {
                        "automargin": true,
                        "type": "pie"
                      }
                    ],
                    "scatter": [
                      {
                        "fillpattern": {
                          "fillmode": "overlay",
                          "size": 10,
                          "solidity": 0.2
                        },
                        "type": "scatter"
                      }
                    ],
                    "scatter3d": [
                      {
                        "line": {
                          "colorbar": {
                            "outlinewidth": 0,
                            "ticks": ""
                          }
                        },
                        "marker": {
                          "colorbar": {
                            "outlinewidth": 0,
                            "ticks": ""
                          }
                        },
                        "type": "scatter3d"
                      }
                    ],
                    "scattercarpet": [
                      {
                        "marker": {
                          "colorbar": {
                            "outlinewidth": 0,
                            "ticks": ""
                          }
                        },
                        "type": "scattercarpet"
                      }
                    ],
                    "scattergeo": [
                      {
                        "marker": {
                          "colorbar": {
                            "outlinewidth": 0,
                            "ticks": ""
                          }
                        },
                        "type": "scattergeo"
                      }
                    ],
                    "scattergl": [
                      {
                        "marker": {
                          "colorbar": {
                            "outlinewidth": 0,
                            "ticks": ""
                          }
                        },
                        "type": "scattergl"
                      }
                    ],
                    "scattermapbox": [
                      {
                        "marker": {
                          "colorbar": {
                            "outlinewidth": 0,
                            "ticks": ""
                          }
                        },
                        "type": "scattermapbox"
                      }
                    ],
                    "scatterpolar": [
                      {
                        "marker": {
                          "colorbar": {
                            "outlinewidth": 0,
                            "ticks": ""
                          }
                        },
                        "type": "scatterpolar"
                      }
                    ],
                    "scatterpolargl": [
                      {
                        "marker": {
                          "colorbar": {
                            "outlinewidth": 0,
                            "ticks": ""
                          }
                        },
                        "type": "scatterpolargl"
                      }
                    ],
                    "scatterternary": [
                      {
                        "marker": {
                          "colorbar": {
                            "outlinewidth": 0,
                            "ticks": ""
                          }
                        },
                        "type": "scatterternary"
                      }
                    ],
                    "surface": [
                      {
                        "colorbar": {
                          "outlinewidth": 0,
                          "ticks": ""
                        },
                        "colorscale": [
                          [
                            0,
                            "#0d0887"
                          ],
                          [
                            0.1111111111111111,
                            "#46039f"
                          ],
                          [
                            0.2222222222222222,
                            "#7201a8"
                          ],
                          [
                            0.3333333333333333,
                            "#9c179e"
                          ],
                          [
                            0.4444444444444444,
                            "#bd3786"
                          ],
                          [
                            0.5555555555555556,
                            "#d8576b"
                          ],
                          [
                            0.6666666666666666,
                            "#ed7953"
                          ],
                          [
                            0.7777777777777778,
                            "#fb9f3a"
                          ],
                          [
                            0.8888888888888888,
                            "#fdca26"
                          ],
                          [
                            1,
                            "#f0f921"
                          ]
                        ],
                        "type": "surface"
                      }
                    ],
                    "table": [
                      {
                        "cells": {
                          "fill": {
                            "color": "#EBF0F8"
                          },
                          "line": {
                            "color": "white"
                          }
                        },
                        "header": {
                          "fill": {
                            "color": "#C8D4E3"
                          },
                          "line": {
                            "color": "white"
                          }
                        },
                        "type": "table"
                      }
                    ]
                  },
                  "layout": {
                    "annotationdefaults": {
                      "arrowcolor": "#2a3f5f",
                      "arrowhead": 0,
                      "arrowwidth": 1
                    },
                    "autotypenumbers": "strict",
                    "coloraxis": {
                      "colorbar": {
                        "outlinewidth": 0,
                        "ticks": ""
                      }
                    },
                    "colorscale": {
                      "diverging": [
                        [
                          0,
                          "#8e0152"
                        ],
                        [
                          0.1,
                          "#c51b7d"
                        ],
                        [
                          0.2,
                          "#de77ae"
                        ],
                        [
                          0.3,
                          "#f1b6da"
                        ],
                        [
                          0.4,
                          "#fde0ef"
                        ],
                        [
                          0.5,
                          "#f7f7f7"
                        ],
                        [
                          0.6,
                          "#e6f5d0"
                        ],
                        [
                          0.7,
                          "#b8e186"
                        ],
                        [
                          0.8,
                          "#7fbc41"
                        ],
                        [
                          0.9,
                          "#4d9221"
                        ],
                        [
                          1,
                          "#276419"
                        ]
                      ],
                      "sequential": [
                        [
                          0,
                          "#0d0887"
                        ],
                        [
                          0.1111111111111111,
                          "#46039f"
                        ],
                        [
                          0.2222222222222222,
                          "#7201a8"
                        ],
                        [
                          0.3333333333333333,
                          "#9c179e"
                        ],
                        [
                          0.4444444444444444,
                          "#bd3786"
                        ],
                        [
                          0.5555555555555556,
                          "#d8576b"
                        ],
                        [
                          0.6666666666666666,
                          "#ed7953"
                        ],
                        [
                          0.7777777777777778,
                          "#fb9f3a"
                        ],
                        [
                          0.8888888888888888,
                          "#fdca26"
                        ],
                        [
                          1,
                          "#f0f921"
                        ]
                      ],
                      "sequentialminus": [
                        [
                          0,
                          "#0d0887"
                        ],
                        [
                          0.1111111111111111,
                          "#46039f"
                        ],
                        [
                          0.2222222222222222,
                          "#7201a8"
                        ],
                        [
                          0.3333333333333333,
                          "#9c179e"
                        ],
                        [
                          0.4444444444444444,
                          "#bd3786"
                        ],
                        [
                          0.5555555555555556,
                          "#d8576b"
                        ],
                        [
                          0.6666666666666666,
                          "#ed7953"
                        ],
                        [
                          0.7777777777777778,
                          "#fb9f3a"
                        ],
                        [
                          0.8888888888888888,
                          "#fdca26"
                        ],
                        [
                          1,
                          "#f0f921"
                        ]
                      ]
                    },
                    "colorway": [
                      "#636efa",
                      "#EF553B",
                      "#00cc96",
                      "#ab63fa",
                      "#FFA15A",
                      "#19d3f3",
                      "#FF6692",
                      "#B6E880",
                      "#FF97FF",
                      "#FECB52"
                    ],
                    "font": {
                      "color": "#2a3f5f"
                    },
                    "geo": {
                      "bgcolor": "white",
                      "lakecolor": "white",
                      "landcolor": "#E5ECF6",
                      "showlakes": true,
                      "showland": true,
                      "subunitcolor": "white"
                    },
                    "hoverlabel": {
                      "align": "left"
                    },
                    "hovermode": "closest",
                    "mapbox": {
                      "style": "light"
                    },
                    "paper_bgcolor": "white",
                    "plot_bgcolor": "#E5ECF6",
                    "polar": {
                      "angularaxis": {
                        "gridcolor": "white",
                        "linecolor": "white",
                        "ticks": ""
                      },
                      "bgcolor": "#E5ECF6",
                      "radialaxis": {
                        "gridcolor": "white",
                        "linecolor": "white",
                        "ticks": ""
                      }
                    },
                    "scene": {
                      "xaxis": {
                        "backgroundcolor": "#E5ECF6",
                        "gridcolor": "white",
                        "gridwidth": 2,
                        "linecolor": "white",
                        "showbackground": true,
                        "ticks": "",
                        "zerolinecolor": "white"
                      },
                      "yaxis": {
                        "backgroundcolor": "#E5ECF6",
                        "gridcolor": "white",
                        "gridwidth": 2,
                        "linecolor": "white",
                        "showbackground": true,
                        "ticks": "",
                        "zerolinecolor": "white"
                      },
                      "zaxis": {
                        "backgroundcolor": "#E5ECF6",
                        "gridcolor": "white",
                        "gridwidth": 2,
                        "linecolor": "white",
                        "showbackground": true,
                        "ticks": "",
                        "zerolinecolor": "white"
                      }
                    },
                    "shapedefaults": {
                      "line": {
                        "color": "#2a3f5f"
                      }
                    },
                    "ternary": {
                      "aaxis": {
                        "gridcolor": "white",
                        "linecolor": "white",
                        "ticks": ""
                      },
                      "baxis": {
                        "gridcolor": "white",
                        "linecolor": "white",
                        "ticks": ""
                      },
                      "bgcolor": "#E5ECF6",
                      "caxis": {
                        "gridcolor": "white",
                        "linecolor": "white",
                        "ticks": ""
                      }
                    },
                    "title": {
                      "x": 0.05
                    },
                    "xaxis": {
                      "automargin": true,
                      "gridcolor": "white",
                      "linecolor": "white",
                      "ticks": "",
                      "title": {
                        "standoff": 15
                      },
                      "zerolinecolor": "white",
                      "zerolinewidth": 2
                    },
                    "yaxis": {
                      "automargin": true,
                      "gridcolor": "white",
                      "linecolor": "white",
                      "ticks": "",
                      "title": {
                        "standoff": 15
                      },
                      "zerolinecolor": "white",
                      "zerolinewidth": 2
                    }
                  }
                },
                "xaxis": {
                  "anchor": "y",
                  "domain": [
                    0,
                    1
                  ],
                  "rangeselector": {
                    "buttons": [
                      {
                        "count": 1,
                        "label": "YTD",
                        "step": "year",
                        "stepmode": "todate"
                      },
                      {
                        "count": 1,
                        "label": "1y",
                        "step": "year",
                        "stepmode": "backward"
                      },
                      {
                        "count": 3,
                        "label": "3y",
                        "step": "year",
                        "stepmode": "backward"
                      },
                      {
                        "count": 5,
                        "label": "5y",
                        "step": "year",
                        "stepmode": "backward"
                      },
                      {
                        "count": 7,
                        "label": "7y",
                        "step": "year",
                        "stepmode": "backward"
                      },
                      {
                        "count": 10,
                        "label": "10y",
                        "step": "year",
                        "stepmode": "backward"
                      },
                      {
                        "step": "all"
                      }
                    ]
                  },
                  "rangeslider": {
                    "visible": true
                  },
                  "title": {
                    "text": "Date"
                  }
                },
                "yaxis": {
                  "anchor": "x",
                  "domain": [
                    0,
                    1
                  ],
                  "title": {
                    "text": "YOY"
                  }
                }
              }
            },
            "text/html": [
              "<div>                            <div id=\"aefe37ee-a77d-477a-9e50-0a2175694081\" class=\"plotly-graph-div\" style=\"height:525px; width:100%;\"></div>            <script type=\"text/javascript\">                require([\"plotly\"], function(Plotly) {                    window.PLOTLYENV=window.PLOTLYENV || {};                                    if (document.getElementById(\"aefe37ee-a77d-477a-9e50-0a2175694081\")) {                    Plotly.newPlot(                        \"aefe37ee-a77d-477a-9e50-0a2175694081\",                        [{\"fillpattern\":{\"shape\":\"\"},\"hovertemplate\":\"Ng\\u00e0nh=T\\u1ed4NG S\\u1ed0\\u003cbr\\u003eDate=%{x}\\u003cbr\\u003eYOY=%{y}\\u003cextra\\u003e\\u003c\\u002fextra\\u003e\",\"legendgroup\":\"T\\u1ed4NG S\\u1ed0\",\"line\":{\"color\":\"#636efa\"},\"marker\":{\"symbol\":\"circle\"},\"mode\":\"lines\",\"name\":\"T\\u1ed4NG S\\u1ed0\",\"orientation\":\"v\",\"showlegend\":true,\"stackgroup\":\"1\",\"x\":[\"2024-06-29T00:00:00\",\"2024-03-29T00:00:00\",\"2023-12-29T00:00:00\",\"2023-09-29T00:00:00\",\"2023-06-29T00:00:00\",\"2023-03-29T00:00:00\",\"2022-12-29T00:00:00\",\"2022-09-29T00:00:00\",\"2022-06-29T00:00:00\",\"2022-03-29T00:00:00\",\"2021-12-29T00:00:00\",\"2021-09-29T00:00:00\",\"2021-06-29T00:00:00\",\"2021-03-29T00:00:00\",\"2020-12-27T00:00:00\",\"2020-09-29T00:00:00\",\"2020-06-29T00:00:00\",\"2020-03-27T00:00:00\",\"2019-12-27T00:00:00\",\"2019-09-28T00:00:00\",\"2019-06-28T00:00:00\",\"2019-03-29T00:00:00\",\"2018-12-27T00:00:00\",\"2018-09-28T00:00:00\",\"2018-06-29T00:00:00\",\"2018-03-29T00:00:00\",\"2017-12-29T00:00:00\",\"2017-09-29T00:00:00\",\"2017-06-29T00:00:00\",\"2017-03-29T00:00:00\",\"2016-12-29T00:00:00\",\"2016-09-29T00:00:00\",\"2016-06-29T00:00:00\",\"2016-03-29T00:00:00\",\"2015-12-29T00:00:00\",\"2015-09-29T00:00:00\",\"2015-06-29T00:00:00\",\"2015-03-29T00:00:00\",\"2014-12-29T00:00:00\",\"2014-09-29T00:00:00\",\"2014-06-27T00:00:00\",\"2014-03-28T00:00:00\"],\"xaxis\":\"x\",\"y\":[105.87369386766106,5.657544227567939,5.469891959761995,4.051099546801382,3.2754571640641643,3.318918280789802,13.71443264446286,7.828583142557477,5.052647625549511,5.031830181024418,-6.0247748020650675,6.570691712751994,4.65043726396992,4.480000000000004,2.6906815676666724,0.38737567698500186,3.682109821377864,3.8208067991526633,7.483672006638997,6.7335223211843385,6.821605332853736,6.7925045418773635,6.8230300836627436,6.7330727974715785,7.075643105772173,7.37820803674569,6.8122456596397996,6.414697282886507,5.728469735422493,5.1027657025271935,6.210812202601161,5.930030839223875,5.521540231892558,5.4594069076467235,6.679308130442124,6.500672345266565,6.280415359654896,6.028019764031868,5.983634848611885,5.6200000000000045,5.180074015026847,4.960355658392217],\"yaxis\":\"y\",\"type\":\"scatter\"},{\"fillpattern\":{\"shape\":\"\"},\"hovertemplate\":\"Ng\\u00e0nh=N\\u00f4ng, l\\u00e2m nghi\\u1ec7p v\\u00e0 th\\u1ee7y s\\u1ea3n\\u003cbr\\u003eDate=%{x}\\u003cbr\\u003eYOY=%{y}\\u003cextra\\u003e\\u003c\\u002fextra\\u003e\",\"legendgroup\":\"N\\u00f4ng, l\\u00e2m nghi\\u1ec7p v\\u00e0 th\\u1ee7y s\\u1ea3n\",\"line\":{\"color\":\"#EF553B\"},\"marker\":{\"symbol\":\"circle\"},\"mode\":\"lines\",\"name\":\"N\\u00f4ng, l\\u00e2m nghi\\u1ec7p v\\u00e0 th\\u1ee7y s\\u1ea3n\",\"orientation\":\"v\",\"showlegend\":true,\"stackgroup\":\"1\",\"x\":[\"2024-06-29T00:00:00\",\"2024-03-29T00:00:00\",\"2023-12-29T00:00:00\",\"2023-09-29T00:00:00\",\"2023-06-29T00:00:00\",\"2023-03-29T00:00:00\",\"2022-12-29T00:00:00\",\"2022-09-29T00:00:00\",\"2022-06-29T00:00:00\",\"2022-03-29T00:00:00\",\"2021-12-29T00:00:00\",\"2021-09-29T00:00:00\",\"2021-06-29T00:00:00\",\"2021-03-29T00:00:00\",\"2020-12-27T00:00:00\",\"2020-09-29T00:00:00\",\"2020-06-29T00:00:00\",\"2020-03-27T00:00:00\",\"2019-12-27T00:00:00\",\"2019-09-28T00:00:00\",\"2019-06-28T00:00:00\",\"2019-03-29T00:00:00\",\"2018-12-27T00:00:00\",\"2018-09-28T00:00:00\",\"2018-06-29T00:00:00\",\"2018-03-29T00:00:00\",\"2017-12-29T00:00:00\",\"2017-09-29T00:00:00\",\"2017-06-29T00:00:00\",\"2017-03-29T00:00:00\",\"2016-12-29T00:00:00\",\"2016-09-29T00:00:00\",\"2016-06-29T00:00:00\",\"2016-03-29T00:00:00\",\"2015-12-29T00:00:00\",\"2015-09-29T00:00:00\",\"2015-06-29T00:00:00\",\"2015-03-29T00:00:00\",\"2014-12-29T00:00:00\",\"2014-09-29T00:00:00\",\"2014-06-27T00:00:00\",\"2014-03-28T00:00:00\"],\"xaxis\":\"x\",\"y\":[103.42488856604079,2.9793067161352838,4.304803961508,3.6585155978690693,2.8971602126519826,2.5243977148109167,3.6911619418131636,3.051358017506331,2.530990760132724,2.4475643650120986,1.196006503406366,4.007539612366813,3.508361802767851,3.1599999999999966,2.792638717366998,1.7975279129550046,0.038229022409865365,0.07643527964663122,2.00450834888089,2.044166668834464,2.8078504071970656,2.680466597164383,3.5940818875264853,3.5363956957895795,3.9303569514277115,4.0506117691619465,2.9017966651948512,2.784073964906568,2.6537209177328123,2.029911315855216,1.3570904241772155,0.6502056871369604,-0.17696136855518318,-1.231456821005466,2.4081935357990574,2.0760799768591482,2.362743408255824,2.139374420445023,3.494829286867798,2.997701400741178,2.964650553016355,2.3672979889620223],\"yaxis\":\"y\",\"type\":\"scatter\"},{\"fillpattern\":{\"shape\":\"\"},\"hovertemplate\":\"Ng\\u00e0nh=C\\u00f4ng nghi\\u1ec7p v\\u00e0 x\\u00e2y d\\u1ef1ng\\u003cbr\\u003eDate=%{x}\\u003cbr\\u003eYOY=%{y}\\u003cextra\\u003e\\u003c\\u002fextra\\u003e\",\"legendgroup\":\"C\\u00f4ng nghi\\u1ec7p v\\u00e0 x\\u00e2y d\\u1ef1ng\",\"line\":{\"color\":\"#00cc96\"},\"marker\":{\"symbol\":\"circle\"},\"mode\":\"lines\",\"name\":\"C\\u00f4ng nghi\\u1ec7p v\\u00e0 x\\u00e2y d\\u1ef1ng\",\"orientation\":\"v\",\"showlegend\":true,\"stackgroup\":\"1\",\"x\":[\"2024-06-29T00:00:00\",\"2024-03-29T00:00:00\",\"2023-12-29T00:00:00\",\"2023-09-29T00:00:00\",\"2023-06-29T00:00:00\",\"2023-03-29T00:00:00\",\"2022-12-29T00:00:00\",\"2022-09-29T00:00:00\",\"2022-06-29T00:00:00\",\"2022-03-29T00:00:00\",\"2021-12-29T00:00:00\",\"2021-09-29T00:00:00\",\"2021-06-29T00:00:00\",\"2021-03-29T00:00:00\",\"2020-12-27T00:00:00\",\"2020-09-29T00:00:00\",\"2020-06-29T00:00:00\",\"2020-03-27T00:00:00\",\"2019-12-27T00:00:00\",\"2019-09-28T00:00:00\",\"2019-06-28T00:00:00\",\"2019-03-29T00:00:00\",\"2018-12-27T00:00:00\",\"2018-09-28T00:00:00\",\"2018-06-29T00:00:00\",\"2018-03-29T00:00:00\",\"2017-12-29T00:00:00\",\"2017-09-29T00:00:00\",\"2017-06-29T00:00:00\",\"2017-03-29T00:00:00\",\"2016-12-29T00:00:00\",\"2016-09-29T00:00:00\",\"2016-06-29T00:00:00\",\"2016-03-29T00:00:00\",\"2015-12-29T00:00:00\",\"2015-09-29T00:00:00\",\"2015-06-29T00:00:00\",\"2015-03-29T00:00:00\",\"2014-12-29T00:00:00\",\"2014-09-29T00:00:00\",\"2014-06-27T00:00:00\",\"2014-03-28T00:00:00\"],\"xaxis\":\"x\",\"y\":[106.6559288006415,6.281638204280512,5.159876363962994,2.098934559330786,-0.35483822134544596,-0.4043055208035611,12.192176064239987,8.70379432418747,6.408035022807226,6.383478489251587,-5.486067695324408,10.359445168696936,6.327061169791136,6.299999999999997,3.1995097804007173,1.6915000301469973,4.996262169486627,5.153737412416632,10.158517538911767,9.138458445595973,8.675626012761512,8.633445487357875,8.76284768311902,8.401160479138042,9.068454546448095,9.701721800991649,8.001548057925362,7.169546690322122,5.813456961688686,4.166218010042357,7.572882564192014,7.503565734905692,7.118913317618606,6.716641062797947,9.638952480016428,9.572970026701654,9.08519528566545,8.352194644937924,7.141674239132257,6.420000000000002,5.332237453351382,4.694344881819944],\"yaxis\":\"y\",\"type\":\"scatter\"},{\"fillpattern\":{\"shape\":\"\"},\"hovertemplate\":\"Ng\\u00e0nh=D\\u1ecbch v\\u1ee5\\u003cbr\\u003eDate=%{x}\\u003cbr\\u003eYOY=%{y}\\u003cextra\\u003e\\u003c\\u002fextra\\u003e\",\"legendgroup\":\"D\\u1ecbch v\\u1ee5\",\"line\":{\"color\":\"#ab63fa\"},\"marker\":{\"symbol\":\"circle\"},\"mode\":\"lines\",\"name\":\"D\\u1ecbch v\\u1ee5\",\"orientation\":\"v\",\"showlegend\":true,\"stackgroup\":\"1\",\"x\":[\"2024-06-29T00:00:00\",\"2024-03-29T00:00:00\",\"2023-12-29T00:00:00\",\"2023-09-29T00:00:00\",\"2023-06-29T00:00:00\",\"2023-03-29T00:00:00\",\"2022-12-29T00:00:00\",\"2022-09-29T00:00:00\",\"2022-06-29T00:00:00\",\"2022-03-29T00:00:00\",\"2021-12-29T00:00:00\",\"2021-09-29T00:00:00\",\"2021-06-29T00:00:00\",\"2021-03-29T00:00:00\",\"2020-12-27T00:00:00\",\"2020-09-29T00:00:00\",\"2020-06-29T00:00:00\",\"2020-03-27T00:00:00\",\"2019-12-27T00:00:00\",\"2019-09-28T00:00:00\",\"2019-06-28T00:00:00\",\"2019-03-29T00:00:00\",\"2018-12-27T00:00:00\",\"2018-09-28T00:00:00\",\"2018-06-29T00:00:00\",\"2018-03-29T00:00:00\",\"2017-12-29T00:00:00\",\"2017-09-29T00:00:00\",\"2017-06-29T00:00:00\",\"2017-03-29T00:00:00\",\"2016-12-29T00:00:00\",\"2016-09-29T00:00:00\",\"2016-06-29T00:00:00\",\"2016-03-29T00:00:00\",\"2015-12-29T00:00:00\",\"2015-09-29T00:00:00\",\"2015-06-29T00:00:00\",\"2015-03-29T00:00:00\",\"2014-12-29T00:00:00\",\"2014-09-29T00:00:00\",\"2014-06-27T00:00:00\",\"2014-03-28T00:00:00\"],\"xaxis\":\"x\",\"y\":[106.19502224297028,6.1157088486256725,6.425505204073005,6.172831750452573,6.561001661097478,6.78833688102425,19.344503013074316,8.916258895297219,4.642051448361428,4.578904723951638,-8.571167828334808,4.2206013845476065,3.6187497864537335,3.3400000000000034,2.7994731097168,-1.9347080626880029,3.2566047358565413,3.2664134395617594,7.276377828622003,6.851507335269787,6.49573825747494,6.495825244093282,6.53737925523518,7.107537273388559,6.901809129748912,6.698547221691115,7.441965873412656,7.249762867415939,6.849348762237312,6.524839913717244,6.98370044687131,6.661635290488704,6.348941839977627,6.134189299313249,6.325026579013752,6.174444645160975,5.896613586652762,5.821313769355967,5.962169954565709,5.989999999999995,6.007858318830998,5.949713325126126],\"yaxis\":\"y\",\"type\":\"scatter\"}],                        {\"template\":{\"data\":{\"histogram2dcontour\":[{\"type\":\"histogram2dcontour\",\"colorbar\":{\"outlinewidth\":0,\"ticks\":\"\"},\"colorscale\":[[0.0,\"#0d0887\"],[0.1111111111111111,\"#46039f\"],[0.2222222222222222,\"#7201a8\"],[0.3333333333333333,\"#9c179e\"],[0.4444444444444444,\"#bd3786\"],[0.5555555555555556,\"#d8576b\"],[0.6666666666666666,\"#ed7953\"],[0.7777777777777778,\"#fb9f3a\"],[0.8888888888888888,\"#fdca26\"],[1.0,\"#f0f921\"]]}],\"choropleth\":[{\"type\":\"choropleth\",\"colorbar\":{\"outlinewidth\":0,\"ticks\":\"\"}}],\"histogram2d\":[{\"type\":\"histogram2d\",\"colorbar\":{\"outlinewidth\":0,\"ticks\":\"\"},\"colorscale\":[[0.0,\"#0d0887\"],[0.1111111111111111,\"#46039f\"],[0.2222222222222222,\"#7201a8\"],[0.3333333333333333,\"#9c179e\"],[0.4444444444444444,\"#bd3786\"],[0.5555555555555556,\"#d8576b\"],[0.6666666666666666,\"#ed7953\"],[0.7777777777777778,\"#fb9f3a\"],[0.8888888888888888,\"#fdca26\"],[1.0,\"#f0f921\"]]}],\"heatmap\":[{\"type\":\"heatmap\",\"colorbar\":{\"outlinewidth\":0,\"ticks\":\"\"},\"colorscale\":[[0.0,\"#0d0887\"],[0.1111111111111111,\"#46039f\"],[0.2222222222222222,\"#7201a8\"],[0.3333333333333333,\"#9c179e\"],[0.4444444444444444,\"#bd3786\"],[0.5555555555555556,\"#d8576b\"],[0.6666666666666666,\"#ed7953\"],[0.7777777777777778,\"#fb9f3a\"],[0.8888888888888888,\"#fdca26\"],[1.0,\"#f0f921\"]]}],\"heatmapgl\":[{\"type\":\"heatmapgl\",\"colorbar\":{\"outlinewidth\":0,\"ticks\":\"\"},\"colorscale\":[[0.0,\"#0d0887\"],[0.1111111111111111,\"#46039f\"],[0.2222222222222222,\"#7201a8\"],[0.3333333333333333,\"#9c179e\"],[0.4444444444444444,\"#bd3786\"],[0.5555555555555556,\"#d8576b\"],[0.6666666666666666,\"#ed7953\"],[0.7777777777777778,\"#fb9f3a\"],[0.8888888888888888,\"#fdca26\"],[1.0,\"#f0f921\"]]}],\"contourcarpet\":[{\"type\":\"contourcarpet\",\"colorbar\":{\"outlinewidth\":0,\"ticks\":\"\"}}],\"contour\":[{\"type\":\"contour\",\"colorbar\":{\"outlinewidth\":0,\"ticks\":\"\"},\"colorscale\":[[0.0,\"#0d0887\"],[0.1111111111111111,\"#46039f\"],[0.2222222222222222,\"#7201a8\"],[0.3333333333333333,\"#9c179e\"],[0.4444444444444444,\"#bd3786\"],[0.5555555555555556,\"#d8576b\"],[0.6666666666666666,\"#ed7953\"],[0.7777777777777778,\"#fb9f3a\"],[0.8888888888888888,\"#fdca26\"],[1.0,\"#f0f921\"]]}],\"surface\":[{\"type\":\"surface\",\"colorbar\":{\"outlinewidth\":0,\"ticks\":\"\"},\"colorscale\":[[0.0,\"#0d0887\"],[0.1111111111111111,\"#46039f\"],[0.2222222222222222,\"#7201a8\"],[0.3333333333333333,\"#9c179e\"],[0.4444444444444444,\"#bd3786\"],[0.5555555555555556,\"#d8576b\"],[0.6666666666666666,\"#ed7953\"],[0.7777777777777778,\"#fb9f3a\"],[0.8888888888888888,\"#fdca26\"],[1.0,\"#f0f921\"]]}],\"mesh3d\":[{\"type\":\"mesh3d\",\"colorbar\":{\"outlinewidth\":0,\"ticks\":\"\"}}],\"scatter\":[{\"fillpattern\":{\"fillmode\":\"overlay\",\"size\":10,\"solidity\":0.2},\"type\":\"scatter\"}],\"parcoords\":[{\"type\":\"parcoords\",\"line\":{\"colorbar\":{\"outlinewidth\":0,\"ticks\":\"\"}}}],\"scatterpolargl\":[{\"type\":\"scatterpolargl\",\"marker\":{\"colorbar\":{\"outlinewidth\":0,\"ticks\":\"\"}}}],\"bar\":[{\"error_x\":{\"color\":\"#2a3f5f\"},\"error_y\":{\"color\":\"#2a3f5f\"},\"marker\":{\"line\":{\"color\":\"#E5ECF6\",\"width\":0.5},\"pattern\":{\"fillmode\":\"overlay\",\"size\":10,\"solidity\":0.2}},\"type\":\"bar\"}],\"scattergeo\":[{\"type\":\"scattergeo\",\"marker\":{\"colorbar\":{\"outlinewidth\":0,\"ticks\":\"\"}}}],\"scatterpolar\":[{\"type\":\"scatterpolar\",\"marker\":{\"colorbar\":{\"outlinewidth\":0,\"ticks\":\"\"}}}],\"histogram\":[{\"marker\":{\"pattern\":{\"fillmode\":\"overlay\",\"size\":10,\"solidity\":0.2}},\"type\":\"histogram\"}],\"scattergl\":[{\"type\":\"scattergl\",\"marker\":{\"colorbar\":{\"outlinewidth\":0,\"ticks\":\"\"}}}],\"scatter3d\":[{\"type\":\"scatter3d\",\"line\":{\"colorbar\":{\"outlinewidth\":0,\"ticks\":\"\"}},\"marker\":{\"colorbar\":{\"outlinewidth\":0,\"ticks\":\"\"}}}],\"scattermapbox\":[{\"type\":\"scattermapbox\",\"marker\":{\"colorbar\":{\"outlinewidth\":0,\"ticks\":\"\"}}}],\"scatterternary\":[{\"type\":\"scatterternary\",\"marker\":{\"colorbar\":{\"outlinewidth\":0,\"ticks\":\"\"}}}],\"scattercarpet\":[{\"type\":\"scattercarpet\",\"marker\":{\"colorbar\":{\"outlinewidth\":0,\"ticks\":\"\"}}}],\"carpet\":[{\"aaxis\":{\"endlinecolor\":\"#2a3f5f\",\"gridcolor\":\"white\",\"linecolor\":\"white\",\"minorgridcolor\":\"white\",\"startlinecolor\":\"#2a3f5f\"},\"baxis\":{\"endlinecolor\":\"#2a3f5f\",\"gridcolor\":\"white\",\"linecolor\":\"white\",\"minorgridcolor\":\"white\",\"startlinecolor\":\"#2a3f5f\"},\"type\":\"carpet\"}],\"table\":[{\"cells\":{\"fill\":{\"color\":\"#EBF0F8\"},\"line\":{\"color\":\"white\"}},\"header\":{\"fill\":{\"color\":\"#C8D4E3\"},\"line\":{\"color\":\"white\"}},\"type\":\"table\"}],\"barpolar\":[{\"marker\":{\"line\":{\"color\":\"#E5ECF6\",\"width\":0.5},\"pattern\":{\"fillmode\":\"overlay\",\"size\":10,\"solidity\":0.2}},\"type\":\"barpolar\"}],\"pie\":[{\"automargin\":true,\"type\":\"pie\"}]},\"layout\":{\"autotypenumbers\":\"strict\",\"colorway\":[\"#636efa\",\"#EF553B\",\"#00cc96\",\"#ab63fa\",\"#FFA15A\",\"#19d3f3\",\"#FF6692\",\"#B6E880\",\"#FF97FF\",\"#FECB52\"],\"font\":{\"color\":\"#2a3f5f\"},\"hovermode\":\"closest\",\"hoverlabel\":{\"align\":\"left\"},\"paper_bgcolor\":\"white\",\"plot_bgcolor\":\"#E5ECF6\",\"polar\":{\"bgcolor\":\"#E5ECF6\",\"angularaxis\":{\"gridcolor\":\"white\",\"linecolor\":\"white\",\"ticks\":\"\"},\"radialaxis\":{\"gridcolor\":\"white\",\"linecolor\":\"white\",\"ticks\":\"\"}},\"ternary\":{\"bgcolor\":\"#E5ECF6\",\"aaxis\":{\"gridcolor\":\"white\",\"linecolor\":\"white\",\"ticks\":\"\"},\"baxis\":{\"gridcolor\":\"white\",\"linecolor\":\"white\",\"ticks\":\"\"},\"caxis\":{\"gridcolor\":\"white\",\"linecolor\":\"white\",\"ticks\":\"\"}},\"coloraxis\":{\"colorbar\":{\"outlinewidth\":0,\"ticks\":\"\"}},\"colorscale\":{\"sequential\":[[0.0,\"#0d0887\"],[0.1111111111111111,\"#46039f\"],[0.2222222222222222,\"#7201a8\"],[0.3333333333333333,\"#9c179e\"],[0.4444444444444444,\"#bd3786\"],[0.5555555555555556,\"#d8576b\"],[0.6666666666666666,\"#ed7953\"],[0.7777777777777778,\"#fb9f3a\"],[0.8888888888888888,\"#fdca26\"],[1.0,\"#f0f921\"]],\"sequentialminus\":[[0.0,\"#0d0887\"],[0.1111111111111111,\"#46039f\"],[0.2222222222222222,\"#7201a8\"],[0.3333333333333333,\"#9c179e\"],[0.4444444444444444,\"#bd3786\"],[0.5555555555555556,\"#d8576b\"],[0.6666666666666666,\"#ed7953\"],[0.7777777777777778,\"#fb9f3a\"],[0.8888888888888888,\"#fdca26\"],[1.0,\"#f0f921\"]],\"diverging\":[[0,\"#8e0152\"],[0.1,\"#c51b7d\"],[0.2,\"#de77ae\"],[0.3,\"#f1b6da\"],[0.4,\"#fde0ef\"],[0.5,\"#f7f7f7\"],[0.6,\"#e6f5d0\"],[0.7,\"#b8e186\"],[0.8,\"#7fbc41\"],[0.9,\"#4d9221\"],[1,\"#276419\"]]},\"xaxis\":{\"gridcolor\":\"white\",\"linecolor\":\"white\",\"ticks\":\"\",\"title\":{\"standoff\":15},\"zerolinecolor\":\"white\",\"automargin\":true,\"zerolinewidth\":2},\"yaxis\":{\"gridcolor\":\"white\",\"linecolor\":\"white\",\"ticks\":\"\",\"title\":{\"standoff\":15},\"zerolinecolor\":\"white\",\"automargin\":true,\"zerolinewidth\":2},\"scene\":{\"xaxis\":{\"backgroundcolor\":\"#E5ECF6\",\"gridcolor\":\"white\",\"linecolor\":\"white\",\"showbackground\":true,\"ticks\":\"\",\"zerolinecolor\":\"white\",\"gridwidth\":2},\"yaxis\":{\"backgroundcolor\":\"#E5ECF6\",\"gridcolor\":\"white\",\"linecolor\":\"white\",\"showbackground\":true,\"ticks\":\"\",\"zerolinecolor\":\"white\",\"gridwidth\":2},\"zaxis\":{\"backgroundcolor\":\"#E5ECF6\",\"gridcolor\":\"white\",\"linecolor\":\"white\",\"showbackground\":true,\"ticks\":\"\",\"zerolinecolor\":\"white\",\"gridwidth\":2}},\"shapedefaults\":{\"line\":{\"color\":\"#2a3f5f\"}},\"annotationdefaults\":{\"arrowcolor\":\"#2a3f5f\",\"arrowhead\":0,\"arrowwidth\":1},\"geo\":{\"bgcolor\":\"white\",\"landcolor\":\"#E5ECF6\",\"subunitcolor\":\"white\",\"showland\":true,\"showlakes\":true,\"lakecolor\":\"white\"},\"title\":{\"x\":0.05},\"mapbox\":{\"style\":\"light\"}}},\"xaxis\":{\"anchor\":\"y\",\"domain\":[0.0,1.0],\"title\":{\"text\":\"Date\"},\"rangeslider\":{\"visible\":true},\"rangeselector\":{\"buttons\":[{\"count\":1,\"label\":\"YTD\",\"step\":\"year\",\"stepmode\":\"todate\"},{\"count\":1,\"label\":\"1y\",\"step\":\"year\",\"stepmode\":\"backward\"},{\"count\":3,\"label\":\"3y\",\"step\":\"year\",\"stepmode\":\"backward\"},{\"count\":5,\"label\":\"5y\",\"step\":\"year\",\"stepmode\":\"backward\"},{\"count\":7,\"label\":\"7y\",\"step\":\"year\",\"stepmode\":\"backward\"},{\"count\":10,\"label\":\"10y\",\"step\":\"year\",\"stepmode\":\"backward\"},{\"step\":\"all\"}]}},\"yaxis\":{\"anchor\":\"x\",\"domain\":[0.0,1.0],\"title\":{\"text\":\"YOY\"}},\"legend\":{\"title\":{\"text\":\"Ng\\u00e0nh\"},\"tracegroupgap\":0},\"margin\":{\"t\":60}},                        {\"responsive\": true}                    ).then(function(){\n",
              "                            \n",
              "var gd = document.getElementById('aefe37ee-a77d-477a-9e50-0a2175694081');\n",
              "var x = new MutationObserver(function (mutations, observer) {{\n",
              "        var display = window.getComputedStyle(gd).display;\n",
              "        if (!display || display === 'none') {{\n",
              "            console.log([gd, 'removed!']);\n",
              "            Plotly.purge(gd);\n",
              "            observer.disconnect();\n",
              "        }}\n",
              "}});\n",
              "\n",
              "// Listen for the removal of the full notebook cells\n",
              "var notebookContainer = gd.closest('#notebook-container');\n",
              "if (notebookContainer) {{\n",
              "    x.observe(notebookContainer, {childList: true});\n",
              "}}\n",
              "\n",
              "// Listen for the clearing of the current output cell\n",
              "var outputEl = gd.closest('.output');\n",
              "if (outputEl) {{\n",
              "    x.observe(outputEl, {childList: true});\n",
              "}}\n",
              "\n",
              "                        })                };                });            </script>        </div>"
            ]
          },
          "metadata": {},
          "output_type": "display_data"
        }
      ],
      "source": [
        "import pandas as pd\n",
        "import plotly.express as px\n",
        "import plotly.graph_objects as go\n",
        "\n",
        "df_show = dfs_gdp_ss[\n",
        "    (\n",
        "        (dfs_gdp_ss[\"Ngành\"] == \"TỔNG SỐ\")\n",
        "        | (dfs_gdp_ss[\"Ngành\"] == \"Nông, lâm nghiệp và thủy sản\")\n",
        "        | (dfs_gdp_ss[\"Ngành\"] == \"Công nghiệp và xây dựng\")\n",
        "        | (dfs_gdp_ss[\"Ngành\"] == \"Dịch vụ\")\n",
        "    )\n",
        "]\n",
        "\n",
        "fig = px.area(df_show, x=\"Date\", y=\"YOY\", color=\"Ngành\")\n",
        "\n",
        "fig.update_xaxes(\n",
        "    rangeslider_visible=True,\n",
        "    rangeselector=dict(\n",
        "        buttons=[\n",
        "            dict(count=1, label=\"YTD\", step=\"year\", stepmode=\"todate\"),\n",
        "            dict(count=1, label=\"1y\", step=\"year\", stepmode=\"backward\"),\n",
        "            dict(count=3, label=\"3y\", step=\"year\", stepmode=\"backward\"),\n",
        "            dict(count=5, label=\"5y\", step=\"year\", stepmode=\"backward\"),\n",
        "            dict(count=7, label=\"7y\", step=\"year\", stepmode=\"backward\"),\n",
        "            dict(count=10, label=\"10y\", step=\"year\", stepmode=\"backward\"),\n",
        "            dict(step=\"all\"),\n",
        "        ]\n",
        "    ),\n",
        ")\n",
        "\n",
        "fig.show()"
      ]
    },
    {
      "cell_type": "code",
      "execution_count": null,
      "metadata": {},
      "outputs": [
        {
          "data": {
            "application/vnd.plotly.v1+json": {
              "config": {
                "plotlyServerURL": "https://plot.ly"
              },
              "data": [
                {
                  "fillpattern": {
                    "shape": ""
                  },
                  "hovertemplate": "Ngành=Công nghiệp chế biến, chế tạo<br>Date=%{x}<br>YOY=%{y}<extra></extra>",
                  "legendgroup": "Công nghiệp chế biến, chế tạo",
                  "line": {
                    "color": "#636efa"
                  },
                  "marker": {
                    "symbol": "circle"
                  },
                  "mode": "lines",
                  "name": "Công nghiệp chế biến, chế tạo",
                  "orientation": "v",
                  "showlegend": true,
                  "stackgroup": "1",
                  "type": "scatter",
                  "x": [
                    "2024-06-29T00:00:00",
                    "2024-03-29T00:00:00",
                    "2023-12-29T00:00:00",
                    "2023-09-29T00:00:00",
                    "2023-06-29T00:00:00",
                    "2023-03-29T00:00:00",
                    "2022-12-29T00:00:00",
                    "2022-09-29T00:00:00",
                    "2022-06-29T00:00:00",
                    "2022-03-29T00:00:00",
                    "2021-12-29T00:00:00",
                    "2021-09-29T00:00:00",
                    "2021-06-29T00:00:00",
                    "2021-03-29T00:00:00",
                    "2020-12-27T00:00:00",
                    "2020-09-29T00:00:00",
                    "2020-06-29T00:00:00",
                    "2020-03-27T00:00:00",
                    "2019-12-27T00:00:00",
                    "2019-09-28T00:00:00",
                    "2019-06-28T00:00:00",
                    "2019-03-29T00:00:00",
                    "2018-12-27T00:00:00",
                    "2018-09-28T00:00:00",
                    "2018-06-29T00:00:00",
                    "2018-03-29T00:00:00",
                    "2017-12-29T00:00:00",
                    "2017-09-29T00:00:00",
                    "2017-06-29T00:00:00",
                    "2017-03-29T00:00:00",
                    "2016-12-29T00:00:00",
                    "2016-09-29T00:00:00",
                    "2016-06-29T00:00:00",
                    "2016-03-29T00:00:00",
                    "2015-12-29T00:00:00",
                    "2015-09-29T00:00:00",
                    "2015-06-29T00:00:00",
                    "2015-03-29T00:00:00",
                    "2014-12-29T00:00:00",
                    "2014-09-29T00:00:00",
                    "2014-06-27T00:00:00",
                    "2014-03-28T00:00:00"
                  ],
                  "xaxis": "x",
                  "y": [
                    107.20513833051638,
                    6.979778118595675,
                    5.593330919937003,
                    0.5985480362809881,
                    -0.4903239474343337,
                    -0.37088282594453403,
                    11.584107755734195,
                    11.073189067566986,
                    7.724672664860989,
                    7.792414224189571,
                    -4.090783293536205,
                    13.352709618284436,
                    8.900785733514766,
                    9.450000000000003,
                    3.8587273418847445,
                    3.3833880622659933,
                    7.11999999999999,
                    7.11999999999999,
                    11.959999999999994,
                    10.904804169691332,
                    11.519999999999996,
                    12.350999999999999,
                    13.080063031919195,
                    12.054662095464835,
                    13.02000000000001,
                    13.556468557090966,
                    14.400050072382854,
                    12.769999999999996,
                    10.519999999999996,
                    8.299999999999997,
                    11.900000000000006,
                    11.220000000000013,
                    10.099999999999994,
                    7.8999999999999915,
                    10.600000000000009,
                    10.149999999999991,
                    9.949999999999989,
                    9.509999999999991,
                    8.450000000000003,
                    8.571430998750486,
                    7.886013770031326,
                    7.299999999999997
                  ],
                  "yaxis": "y"
                },
                {
                  "fillpattern": {
                    "shape": ""
                  },
                  "hovertemplate": "Ngành=Sản xuất và phân phối điện, khí đốt, nước nóng, hơi nước và điều hòa không khí<br>Date=%{x}<br>YOY=%{y}<extra></extra>",
                  "legendgroup": "Sản xuất và phân phối điện, khí đốt, nước nóng, hơi nước và điều hòa không khí",
                  "line": {
                    "color": "#EF553B"
                  },
                  "marker": {
                    "symbol": "circle"
                  },
                  "mode": "lines",
                  "name": "Sản xuất và phân phối điện, khí đốt, nước nóng, hơi nước và điều hòa không khí",
                  "orientation": "v",
                  "showlegend": true,
                  "stackgroup": "1",
                  "type": "scatter",
                  "x": [
                    "2024-06-29T00:00:00",
                    "2024-03-29T00:00:00",
                    "2023-12-29T00:00:00",
                    "2023-09-29T00:00:00",
                    "2023-06-29T00:00:00",
                    "2023-03-29T00:00:00",
                    "2022-12-29T00:00:00",
                    "2022-09-29T00:00:00",
                    "2022-06-29T00:00:00",
                    "2022-03-29T00:00:00",
                    "2021-12-29T00:00:00",
                    "2021-09-29T00:00:00",
                    "2021-06-29T00:00:00",
                    "2021-03-29T00:00:00",
                    "2020-12-27T00:00:00",
                    "2020-09-29T00:00:00",
                    "2020-06-29T00:00:00",
                    "2020-03-27T00:00:00",
                    "2019-12-27T00:00:00",
                    "2019-09-28T00:00:00",
                    "2019-06-28T00:00:00",
                    "2019-03-29T00:00:00",
                    "2018-12-27T00:00:00",
                    "2018-09-28T00:00:00",
                    "2018-06-29T00:00:00",
                    "2018-03-29T00:00:00",
                    "2017-12-29T00:00:00",
                    "2017-09-29T00:00:00",
                    "2017-06-29T00:00:00",
                    "2017-03-29T00:00:00",
                    "2016-12-29T00:00:00",
                    "2016-09-29T00:00:00",
                    "2016-06-29T00:00:00",
                    "2016-03-29T00:00:00",
                    "2015-12-29T00:00:00",
                    "2015-09-29T00:00:00",
                    "2015-06-29T00:00:00",
                    "2015-03-29T00:00:00",
                    "2014-12-29T00:00:00",
                    "2014-09-29T00:00:00",
                    "2014-06-27T00:00:00",
                    "2014-03-28T00:00:00"
                  ],
                  "xaxis": "x",
                  "y": [
                    112.29818695028769,
                    11.968186950287674,
                    5.117524723331002,
                    2.5558549509890724,
                    -0.20999999999999375,
                    -0.31863082127773623,
                    11.553029802459093,
                    4.529999999999973,
                    7.114308271373602,
                    7.4211509999999805,
                    -2.593151942639281,
                    12.82881825357751,
                    4.320999999999998,
                    4.5,
                    3.9685819857029117,
                    -0.06760815902059392,
                    7.459999999999994,
                    7.459999999999994,
                    10.830000000000013,
                    10.759157014381216,
                    10.489999999999995,
                    9.600000000000009,
                    7.42079994608315,
                    10.913026965554337,
                    10.200000000000003,
                    10.5,
                    9.40018266906992,
                    8.870000000000005,
                    8,
                    9.5,
                    11.600000000000009,
                    12.099999999999994,
                    11.700000000000003,
                    13.099999999999994,
                    11.400000000000006,
                    11.299999999999997,
                    11.200000000000017,
                    11.900000000000006,
                    12.099999999999994,
                    10.842451243024612,
                    10.756436995479717,
                    9.200000000000003
                  ],
                  "yaxis": "y"
                }
              ],
              "layout": {
                "legend": {
                  "title": {
                    "text": "Ngành"
                  },
                  "tracegroupgap": 0
                },
                "margin": {
                  "t": 60
                },
                "template": {
                  "data": {
                    "bar": [
                      {
                        "error_x": {
                          "color": "#2a3f5f"
                        },
                        "error_y": {
                          "color": "#2a3f5f"
                        },
                        "marker": {
                          "line": {
                            "color": "#E5ECF6",
                            "width": 0.5
                          },
                          "pattern": {
                            "fillmode": "overlay",
                            "size": 10,
                            "solidity": 0.2
                          }
                        },
                        "type": "bar"
                      }
                    ],
                    "barpolar": [
                      {
                        "marker": {
                          "line": {
                            "color": "#E5ECF6",
                            "width": 0.5
                          },
                          "pattern": {
                            "fillmode": "overlay",
                            "size": 10,
                            "solidity": 0.2
                          }
                        },
                        "type": "barpolar"
                      }
                    ],
                    "carpet": [
                      {
                        "aaxis": {
                          "endlinecolor": "#2a3f5f",
                          "gridcolor": "white",
                          "linecolor": "white",
                          "minorgridcolor": "white",
                          "startlinecolor": "#2a3f5f"
                        },
                        "baxis": {
                          "endlinecolor": "#2a3f5f",
                          "gridcolor": "white",
                          "linecolor": "white",
                          "minorgridcolor": "white",
                          "startlinecolor": "#2a3f5f"
                        },
                        "type": "carpet"
                      }
                    ],
                    "choropleth": [
                      {
                        "colorbar": {
                          "outlinewidth": 0,
                          "ticks": ""
                        },
                        "type": "choropleth"
                      }
                    ],
                    "contour": [
                      {
                        "colorbar": {
                          "outlinewidth": 0,
                          "ticks": ""
                        },
                        "colorscale": [
                          [
                            0,
                            "#0d0887"
                          ],
                          [
                            0.1111111111111111,
                            "#46039f"
                          ],
                          [
                            0.2222222222222222,
                            "#7201a8"
                          ],
                          [
                            0.3333333333333333,
                            "#9c179e"
                          ],
                          [
                            0.4444444444444444,
                            "#bd3786"
                          ],
                          [
                            0.5555555555555556,
                            "#d8576b"
                          ],
                          [
                            0.6666666666666666,
                            "#ed7953"
                          ],
                          [
                            0.7777777777777778,
                            "#fb9f3a"
                          ],
                          [
                            0.8888888888888888,
                            "#fdca26"
                          ],
                          [
                            1,
                            "#f0f921"
                          ]
                        ],
                        "type": "contour"
                      }
                    ],
                    "contourcarpet": [
                      {
                        "colorbar": {
                          "outlinewidth": 0,
                          "ticks": ""
                        },
                        "type": "contourcarpet"
                      }
                    ],
                    "heatmap": [
                      {
                        "colorbar": {
                          "outlinewidth": 0,
                          "ticks": ""
                        },
                        "colorscale": [
                          [
                            0,
                            "#0d0887"
                          ],
                          [
                            0.1111111111111111,
                            "#46039f"
                          ],
                          [
                            0.2222222222222222,
                            "#7201a8"
                          ],
                          [
                            0.3333333333333333,
                            "#9c179e"
                          ],
                          [
                            0.4444444444444444,
                            "#bd3786"
                          ],
                          [
                            0.5555555555555556,
                            "#d8576b"
                          ],
                          [
                            0.6666666666666666,
                            "#ed7953"
                          ],
                          [
                            0.7777777777777778,
                            "#fb9f3a"
                          ],
                          [
                            0.8888888888888888,
                            "#fdca26"
                          ],
                          [
                            1,
                            "#f0f921"
                          ]
                        ],
                        "type": "heatmap"
                      }
                    ],
                    "heatmapgl": [
                      {
                        "colorbar": {
                          "outlinewidth": 0,
                          "ticks": ""
                        },
                        "colorscale": [
                          [
                            0,
                            "#0d0887"
                          ],
                          [
                            0.1111111111111111,
                            "#46039f"
                          ],
                          [
                            0.2222222222222222,
                            "#7201a8"
                          ],
                          [
                            0.3333333333333333,
                            "#9c179e"
                          ],
                          [
                            0.4444444444444444,
                            "#bd3786"
                          ],
                          [
                            0.5555555555555556,
                            "#d8576b"
                          ],
                          [
                            0.6666666666666666,
                            "#ed7953"
                          ],
                          [
                            0.7777777777777778,
                            "#fb9f3a"
                          ],
                          [
                            0.8888888888888888,
                            "#fdca26"
                          ],
                          [
                            1,
                            "#f0f921"
                          ]
                        ],
                        "type": "heatmapgl"
                      }
                    ],
                    "histogram": [
                      {
                        "marker": {
                          "pattern": {
                            "fillmode": "overlay",
                            "size": 10,
                            "solidity": 0.2
                          }
                        },
                        "type": "histogram"
                      }
                    ],
                    "histogram2d": [
                      {
                        "colorbar": {
                          "outlinewidth": 0,
                          "ticks": ""
                        },
                        "colorscale": [
                          [
                            0,
                            "#0d0887"
                          ],
                          [
                            0.1111111111111111,
                            "#46039f"
                          ],
                          [
                            0.2222222222222222,
                            "#7201a8"
                          ],
                          [
                            0.3333333333333333,
                            "#9c179e"
                          ],
                          [
                            0.4444444444444444,
                            "#bd3786"
                          ],
                          [
                            0.5555555555555556,
                            "#d8576b"
                          ],
                          [
                            0.6666666666666666,
                            "#ed7953"
                          ],
                          [
                            0.7777777777777778,
                            "#fb9f3a"
                          ],
                          [
                            0.8888888888888888,
                            "#fdca26"
                          ],
                          [
                            1,
                            "#f0f921"
                          ]
                        ],
                        "type": "histogram2d"
                      }
                    ],
                    "histogram2dcontour": [
                      {
                        "colorbar": {
                          "outlinewidth": 0,
                          "ticks": ""
                        },
                        "colorscale": [
                          [
                            0,
                            "#0d0887"
                          ],
                          [
                            0.1111111111111111,
                            "#46039f"
                          ],
                          [
                            0.2222222222222222,
                            "#7201a8"
                          ],
                          [
                            0.3333333333333333,
                            "#9c179e"
                          ],
                          [
                            0.4444444444444444,
                            "#bd3786"
                          ],
                          [
                            0.5555555555555556,
                            "#d8576b"
                          ],
                          [
                            0.6666666666666666,
                            "#ed7953"
                          ],
                          [
                            0.7777777777777778,
                            "#fb9f3a"
                          ],
                          [
                            0.8888888888888888,
                            "#fdca26"
                          ],
                          [
                            1,
                            "#f0f921"
                          ]
                        ],
                        "type": "histogram2dcontour"
                      }
                    ],
                    "mesh3d": [
                      {
                        "colorbar": {
                          "outlinewidth": 0,
                          "ticks": ""
                        },
                        "type": "mesh3d"
                      }
                    ],
                    "parcoords": [
                      {
                        "line": {
                          "colorbar": {
                            "outlinewidth": 0,
                            "ticks": ""
                          }
                        },
                        "type": "parcoords"
                      }
                    ],
                    "pie": [
                      {
                        "automargin": true,
                        "type": "pie"
                      }
                    ],
                    "scatter": [
                      {
                        "fillpattern": {
                          "fillmode": "overlay",
                          "size": 10,
                          "solidity": 0.2
                        },
                        "type": "scatter"
                      }
                    ],
                    "scatter3d": [
                      {
                        "line": {
                          "colorbar": {
                            "outlinewidth": 0,
                            "ticks": ""
                          }
                        },
                        "marker": {
                          "colorbar": {
                            "outlinewidth": 0,
                            "ticks": ""
                          }
                        },
                        "type": "scatter3d"
                      }
                    ],
                    "scattercarpet": [
                      {
                        "marker": {
                          "colorbar": {
                            "outlinewidth": 0,
                            "ticks": ""
                          }
                        },
                        "type": "scattercarpet"
                      }
                    ],
                    "scattergeo": [
                      {
                        "marker": {
                          "colorbar": {
                            "outlinewidth": 0,
                            "ticks": ""
                          }
                        },
                        "type": "scattergeo"
                      }
                    ],
                    "scattergl": [
                      {
                        "marker": {
                          "colorbar": {
                            "outlinewidth": 0,
                            "ticks": ""
                          }
                        },
                        "type": "scattergl"
                      }
                    ],
                    "scattermapbox": [
                      {
                        "marker": {
                          "colorbar": {
                            "outlinewidth": 0,
                            "ticks": ""
                          }
                        },
                        "type": "scattermapbox"
                      }
                    ],
                    "scatterpolar": [
                      {
                        "marker": {
                          "colorbar": {
                            "outlinewidth": 0,
                            "ticks": ""
                          }
                        },
                        "type": "scatterpolar"
                      }
                    ],
                    "scatterpolargl": [
                      {
                        "marker": {
                          "colorbar": {
                            "outlinewidth": 0,
                            "ticks": ""
                          }
                        },
                        "type": "scatterpolargl"
                      }
                    ],
                    "scatterternary": [
                      {
                        "marker": {
                          "colorbar": {
                            "outlinewidth": 0,
                            "ticks": ""
                          }
                        },
                        "type": "scatterternary"
                      }
                    ],
                    "surface": [
                      {
                        "colorbar": {
                          "outlinewidth": 0,
                          "ticks": ""
                        },
                        "colorscale": [
                          [
                            0,
                            "#0d0887"
                          ],
                          [
                            0.1111111111111111,
                            "#46039f"
                          ],
                          [
                            0.2222222222222222,
                            "#7201a8"
                          ],
                          [
                            0.3333333333333333,
                            "#9c179e"
                          ],
                          [
                            0.4444444444444444,
                            "#bd3786"
                          ],
                          [
                            0.5555555555555556,
                            "#d8576b"
                          ],
                          [
                            0.6666666666666666,
                            "#ed7953"
                          ],
                          [
                            0.7777777777777778,
                            "#fb9f3a"
                          ],
                          [
                            0.8888888888888888,
                            "#fdca26"
                          ],
                          [
                            1,
                            "#f0f921"
                          ]
                        ],
                        "type": "surface"
                      }
                    ],
                    "table": [
                      {
                        "cells": {
                          "fill": {
                            "color": "#EBF0F8"
                          },
                          "line": {
                            "color": "white"
                          }
                        },
                        "header": {
                          "fill": {
                            "color": "#C8D4E3"
                          },
                          "line": {
                            "color": "white"
                          }
                        },
                        "type": "table"
                      }
                    ]
                  },
                  "layout": {
                    "annotationdefaults": {
                      "arrowcolor": "#2a3f5f",
                      "arrowhead": 0,
                      "arrowwidth": 1
                    },
                    "autotypenumbers": "strict",
                    "coloraxis": {
                      "colorbar": {
                        "outlinewidth": 0,
                        "ticks": ""
                      }
                    },
                    "colorscale": {
                      "diverging": [
                        [
                          0,
                          "#8e0152"
                        ],
                        [
                          0.1,
                          "#c51b7d"
                        ],
                        [
                          0.2,
                          "#de77ae"
                        ],
                        [
                          0.3,
                          "#f1b6da"
                        ],
                        [
                          0.4,
                          "#fde0ef"
                        ],
                        [
                          0.5,
                          "#f7f7f7"
                        ],
                        [
                          0.6,
                          "#e6f5d0"
                        ],
                        [
                          0.7,
                          "#b8e186"
                        ],
                        [
                          0.8,
                          "#7fbc41"
                        ],
                        [
                          0.9,
                          "#4d9221"
                        ],
                        [
                          1,
                          "#276419"
                        ]
                      ],
                      "sequential": [
                        [
                          0,
                          "#0d0887"
                        ],
                        [
                          0.1111111111111111,
                          "#46039f"
                        ],
                        [
                          0.2222222222222222,
                          "#7201a8"
                        ],
                        [
                          0.3333333333333333,
                          "#9c179e"
                        ],
                        [
                          0.4444444444444444,
                          "#bd3786"
                        ],
                        [
                          0.5555555555555556,
                          "#d8576b"
                        ],
                        [
                          0.6666666666666666,
                          "#ed7953"
                        ],
                        [
                          0.7777777777777778,
                          "#fb9f3a"
                        ],
                        [
                          0.8888888888888888,
                          "#fdca26"
                        ],
                        [
                          1,
                          "#f0f921"
                        ]
                      ],
                      "sequentialminus": [
                        [
                          0,
                          "#0d0887"
                        ],
                        [
                          0.1111111111111111,
                          "#46039f"
                        ],
                        [
                          0.2222222222222222,
                          "#7201a8"
                        ],
                        [
                          0.3333333333333333,
                          "#9c179e"
                        ],
                        [
                          0.4444444444444444,
                          "#bd3786"
                        ],
                        [
                          0.5555555555555556,
                          "#d8576b"
                        ],
                        [
                          0.6666666666666666,
                          "#ed7953"
                        ],
                        [
                          0.7777777777777778,
                          "#fb9f3a"
                        ],
                        [
                          0.8888888888888888,
                          "#fdca26"
                        ],
                        [
                          1,
                          "#f0f921"
                        ]
                      ]
                    },
                    "colorway": [
                      "#636efa",
                      "#EF553B",
                      "#00cc96",
                      "#ab63fa",
                      "#FFA15A",
                      "#19d3f3",
                      "#FF6692",
                      "#B6E880",
                      "#FF97FF",
                      "#FECB52"
                    ],
                    "font": {
                      "color": "#2a3f5f"
                    },
                    "geo": {
                      "bgcolor": "white",
                      "lakecolor": "white",
                      "landcolor": "#E5ECF6",
                      "showlakes": true,
                      "showland": true,
                      "subunitcolor": "white"
                    },
                    "hoverlabel": {
                      "align": "left"
                    },
                    "hovermode": "closest",
                    "mapbox": {
                      "style": "light"
                    },
                    "paper_bgcolor": "white",
                    "plot_bgcolor": "#E5ECF6",
                    "polar": {
                      "angularaxis": {
                        "gridcolor": "white",
                        "linecolor": "white",
                        "ticks": ""
                      },
                      "bgcolor": "#E5ECF6",
                      "radialaxis": {
                        "gridcolor": "white",
                        "linecolor": "white",
                        "ticks": ""
                      }
                    },
                    "scene": {
                      "xaxis": {
                        "backgroundcolor": "#E5ECF6",
                        "gridcolor": "white",
                        "gridwidth": 2,
                        "linecolor": "white",
                        "showbackground": true,
                        "ticks": "",
                        "zerolinecolor": "white"
                      },
                      "yaxis": {
                        "backgroundcolor": "#E5ECF6",
                        "gridcolor": "white",
                        "gridwidth": 2,
                        "linecolor": "white",
                        "showbackground": true,
                        "ticks": "",
                        "zerolinecolor": "white"
                      },
                      "zaxis": {
                        "backgroundcolor": "#E5ECF6",
                        "gridcolor": "white",
                        "gridwidth": 2,
                        "linecolor": "white",
                        "showbackground": true,
                        "ticks": "",
                        "zerolinecolor": "white"
                      }
                    },
                    "shapedefaults": {
                      "line": {
                        "color": "#2a3f5f"
                      }
                    },
                    "ternary": {
                      "aaxis": {
                        "gridcolor": "white",
                        "linecolor": "white",
                        "ticks": ""
                      },
                      "baxis": {
                        "gridcolor": "white",
                        "linecolor": "white",
                        "ticks": ""
                      },
                      "bgcolor": "#E5ECF6",
                      "caxis": {
                        "gridcolor": "white",
                        "linecolor": "white",
                        "ticks": ""
                      }
                    },
                    "title": {
                      "x": 0.05
                    },
                    "xaxis": {
                      "automargin": true,
                      "gridcolor": "white",
                      "linecolor": "white",
                      "ticks": "",
                      "title": {
                        "standoff": 15
                      },
                      "zerolinecolor": "white",
                      "zerolinewidth": 2
                    },
                    "yaxis": {
                      "automargin": true,
                      "gridcolor": "white",
                      "linecolor": "white",
                      "ticks": "",
                      "title": {
                        "standoff": 15
                      },
                      "zerolinecolor": "white",
                      "zerolinewidth": 2
                    }
                  }
                },
                "xaxis": {
                  "anchor": "y",
                  "domain": [
                    0,
                    1
                  ],
                  "rangeselector": {
                    "buttons": [
                      {
                        "count": 1,
                        "label": "YTD",
                        "step": "year",
                        "stepmode": "todate"
                      },
                      {
                        "count": 1,
                        "label": "1y",
                        "step": "year",
                        "stepmode": "backward"
                      },
                      {
                        "count": 3,
                        "label": "3y",
                        "step": "year",
                        "stepmode": "backward"
                      },
                      {
                        "count": 5,
                        "label": "5y",
                        "step": "year",
                        "stepmode": "backward"
                      },
                      {
                        "count": 7,
                        "label": "7y",
                        "step": "year",
                        "stepmode": "backward"
                      },
                      {
                        "count": 10,
                        "label": "10y",
                        "step": "year",
                        "stepmode": "backward"
                      },
                      {
                        "step": "all"
                      }
                    ]
                  },
                  "rangeslider": {
                    "visible": true
                  },
                  "title": {
                    "text": "Date"
                  }
                },
                "yaxis": {
                  "anchor": "x",
                  "domain": [
                    0,
                    1
                  ],
                  "title": {
                    "text": "YOY"
                  }
                }
              }
            },
            "text/html": [
              "<div>                            <div id=\"ace33e58-f765-44ea-a36d-555efca77790\" class=\"plotly-graph-div\" style=\"height:525px; width:100%;\"></div>            <script type=\"text/javascript\">                require([\"plotly\"], function(Plotly) {                    window.PLOTLYENV=window.PLOTLYENV || {};                                    if (document.getElementById(\"ace33e58-f765-44ea-a36d-555efca77790\")) {                    Plotly.newPlot(                        \"ace33e58-f765-44ea-a36d-555efca77790\",                        [{\"fillpattern\":{\"shape\":\"\"},\"hovertemplate\":\"Ng\\u00e0nh=C\\u00f4ng nghi\\u1ec7p ch\\u1ebf bi\\u1ebfn, ch\\u1ebf t\\u1ea1o\\u003cbr\\u003eDate=%{x}\\u003cbr\\u003eYOY=%{y}\\u003cextra\\u003e\\u003c\\u002fextra\\u003e\",\"legendgroup\":\"C\\u00f4ng nghi\\u1ec7p ch\\u1ebf bi\\u1ebfn, ch\\u1ebf t\\u1ea1o\",\"line\":{\"color\":\"#636efa\"},\"marker\":{\"symbol\":\"circle\"},\"mode\":\"lines\",\"name\":\"C\\u00f4ng nghi\\u1ec7p ch\\u1ebf bi\\u1ebfn, ch\\u1ebf t\\u1ea1o\",\"orientation\":\"v\",\"showlegend\":true,\"stackgroup\":\"1\",\"x\":[\"2024-06-29T00:00:00\",\"2024-03-29T00:00:00\",\"2023-12-29T00:00:00\",\"2023-09-29T00:00:00\",\"2023-06-29T00:00:00\",\"2023-03-29T00:00:00\",\"2022-12-29T00:00:00\",\"2022-09-29T00:00:00\",\"2022-06-29T00:00:00\",\"2022-03-29T00:00:00\",\"2021-12-29T00:00:00\",\"2021-09-29T00:00:00\",\"2021-06-29T00:00:00\",\"2021-03-29T00:00:00\",\"2020-12-27T00:00:00\",\"2020-09-29T00:00:00\",\"2020-06-29T00:00:00\",\"2020-03-27T00:00:00\",\"2019-12-27T00:00:00\",\"2019-09-28T00:00:00\",\"2019-06-28T00:00:00\",\"2019-03-29T00:00:00\",\"2018-12-27T00:00:00\",\"2018-09-28T00:00:00\",\"2018-06-29T00:00:00\",\"2018-03-29T00:00:00\",\"2017-12-29T00:00:00\",\"2017-09-29T00:00:00\",\"2017-06-29T00:00:00\",\"2017-03-29T00:00:00\",\"2016-12-29T00:00:00\",\"2016-09-29T00:00:00\",\"2016-06-29T00:00:00\",\"2016-03-29T00:00:00\",\"2015-12-29T00:00:00\",\"2015-09-29T00:00:00\",\"2015-06-29T00:00:00\",\"2015-03-29T00:00:00\",\"2014-12-29T00:00:00\",\"2014-09-29T00:00:00\",\"2014-06-27T00:00:00\",\"2014-03-28T00:00:00\"],\"xaxis\":\"x\",\"y\":[107.20513833051638,6.979778118595675,5.593330919937003,0.5985480362809881,-0.4903239474343337,-0.37088282594453403,11.584107755734195,11.073189067566986,7.724672664860989,7.792414224189571,-4.090783293536205,13.352709618284436,8.900785733514766,9.450000000000003,3.8587273418847445,3.3833880622659933,7.11999999999999,7.11999999999999,11.959999999999994,10.904804169691332,11.519999999999996,12.350999999999999,13.080063031919195,12.054662095464835,13.02000000000001,13.556468557090966,14.400050072382854,12.769999999999996,10.519999999999996,8.299999999999997,11.900000000000006,11.220000000000013,10.099999999999994,7.8999999999999915,10.600000000000009,10.149999999999991,9.949999999999989,9.509999999999991,8.450000000000003,8.571430998750486,7.886013770031326,7.299999999999997],\"yaxis\":\"y\",\"type\":\"scatter\"},{\"fillpattern\":{\"shape\":\"\"},\"hovertemplate\":\"Ng\\u00e0nh=S\\u1ea3n xu\\u1ea5t v\\u00e0 ph\\u00e2n ph\\u1ed1i \\u0111i\\u1ec7n, kh\\u00ed \\u0111\\u1ed1t, n\\u01b0\\u1edbc n\\u00f3ng, h\\u01a1i n\\u01b0\\u1edbc v\\u00e0 \\u0111i\\u1ec1u h\\u00f2a kh\\u00f4ng kh\\u00ed\\u003cbr\\u003eDate=%{x}\\u003cbr\\u003eYOY=%{y}\\u003cextra\\u003e\\u003c\\u002fextra\\u003e\",\"legendgroup\":\"S\\u1ea3n xu\\u1ea5t v\\u00e0 ph\\u00e2n ph\\u1ed1i \\u0111i\\u1ec7n, kh\\u00ed \\u0111\\u1ed1t, n\\u01b0\\u1edbc n\\u00f3ng, h\\u01a1i n\\u01b0\\u1edbc v\\u00e0 \\u0111i\\u1ec1u h\\u00f2a kh\\u00f4ng kh\\u00ed\",\"line\":{\"color\":\"#EF553B\"},\"marker\":{\"symbol\":\"circle\"},\"mode\":\"lines\",\"name\":\"S\\u1ea3n xu\\u1ea5t v\\u00e0 ph\\u00e2n ph\\u1ed1i \\u0111i\\u1ec7n, kh\\u00ed \\u0111\\u1ed1t, n\\u01b0\\u1edbc n\\u00f3ng, h\\u01a1i n\\u01b0\\u1edbc v\\u00e0 \\u0111i\\u1ec1u h\\u00f2a kh\\u00f4ng kh\\u00ed\",\"orientation\":\"v\",\"showlegend\":true,\"stackgroup\":\"1\",\"x\":[\"2024-06-29T00:00:00\",\"2024-03-29T00:00:00\",\"2023-12-29T00:00:00\",\"2023-09-29T00:00:00\",\"2023-06-29T00:00:00\",\"2023-03-29T00:00:00\",\"2022-12-29T00:00:00\",\"2022-09-29T00:00:00\",\"2022-06-29T00:00:00\",\"2022-03-29T00:00:00\",\"2021-12-29T00:00:00\",\"2021-09-29T00:00:00\",\"2021-06-29T00:00:00\",\"2021-03-29T00:00:00\",\"2020-12-27T00:00:00\",\"2020-09-29T00:00:00\",\"2020-06-29T00:00:00\",\"2020-03-27T00:00:00\",\"2019-12-27T00:00:00\",\"2019-09-28T00:00:00\",\"2019-06-28T00:00:00\",\"2019-03-29T00:00:00\",\"2018-12-27T00:00:00\",\"2018-09-28T00:00:00\",\"2018-06-29T00:00:00\",\"2018-03-29T00:00:00\",\"2017-12-29T00:00:00\",\"2017-09-29T00:00:00\",\"2017-06-29T00:00:00\",\"2017-03-29T00:00:00\",\"2016-12-29T00:00:00\",\"2016-09-29T00:00:00\",\"2016-06-29T00:00:00\",\"2016-03-29T00:00:00\",\"2015-12-29T00:00:00\",\"2015-09-29T00:00:00\",\"2015-06-29T00:00:00\",\"2015-03-29T00:00:00\",\"2014-12-29T00:00:00\",\"2014-09-29T00:00:00\",\"2014-06-27T00:00:00\",\"2014-03-28T00:00:00\"],\"xaxis\":\"x\",\"y\":[112.29818695028769,11.968186950287674,5.117524723331002,2.5558549509890724,-0.20999999999999375,-0.31863082127773623,11.553029802459093,4.529999999999973,7.114308271373602,7.4211509999999805,-2.593151942639281,12.82881825357751,4.320999999999998,4.5,3.9685819857029117,-0.06760815902059392,7.459999999999994,7.459999999999994,10.830000000000013,10.759157014381216,10.489999999999995,9.600000000000009,7.42079994608315,10.913026965554337,10.200000000000003,10.5,9.40018266906992,8.870000000000005,8,9.5,11.600000000000009,12.099999999999994,11.700000000000003,13.099999999999994,11.400000000000006,11.299999999999997,11.200000000000017,11.900000000000006,12.099999999999994,10.842451243024612,10.756436995479717,9.200000000000003],\"yaxis\":\"y\",\"type\":\"scatter\"}],                        {\"template\":{\"data\":{\"histogram2dcontour\":[{\"type\":\"histogram2dcontour\",\"colorbar\":{\"outlinewidth\":0,\"ticks\":\"\"},\"colorscale\":[[0.0,\"#0d0887\"],[0.1111111111111111,\"#46039f\"],[0.2222222222222222,\"#7201a8\"],[0.3333333333333333,\"#9c179e\"],[0.4444444444444444,\"#bd3786\"],[0.5555555555555556,\"#d8576b\"],[0.6666666666666666,\"#ed7953\"],[0.7777777777777778,\"#fb9f3a\"],[0.8888888888888888,\"#fdca26\"],[1.0,\"#f0f921\"]]}],\"choropleth\":[{\"type\":\"choropleth\",\"colorbar\":{\"outlinewidth\":0,\"ticks\":\"\"}}],\"histogram2d\":[{\"type\":\"histogram2d\",\"colorbar\":{\"outlinewidth\":0,\"ticks\":\"\"},\"colorscale\":[[0.0,\"#0d0887\"],[0.1111111111111111,\"#46039f\"],[0.2222222222222222,\"#7201a8\"],[0.3333333333333333,\"#9c179e\"],[0.4444444444444444,\"#bd3786\"],[0.5555555555555556,\"#d8576b\"],[0.6666666666666666,\"#ed7953\"],[0.7777777777777778,\"#fb9f3a\"],[0.8888888888888888,\"#fdca26\"],[1.0,\"#f0f921\"]]}],\"heatmap\":[{\"type\":\"heatmap\",\"colorbar\":{\"outlinewidth\":0,\"ticks\":\"\"},\"colorscale\":[[0.0,\"#0d0887\"],[0.1111111111111111,\"#46039f\"],[0.2222222222222222,\"#7201a8\"],[0.3333333333333333,\"#9c179e\"],[0.4444444444444444,\"#bd3786\"],[0.5555555555555556,\"#d8576b\"],[0.6666666666666666,\"#ed7953\"],[0.7777777777777778,\"#fb9f3a\"],[0.8888888888888888,\"#fdca26\"],[1.0,\"#f0f921\"]]}],\"heatmapgl\":[{\"type\":\"heatmapgl\",\"colorbar\":{\"outlinewidth\":0,\"ticks\":\"\"},\"colorscale\":[[0.0,\"#0d0887\"],[0.1111111111111111,\"#46039f\"],[0.2222222222222222,\"#7201a8\"],[0.3333333333333333,\"#9c179e\"],[0.4444444444444444,\"#bd3786\"],[0.5555555555555556,\"#d8576b\"],[0.6666666666666666,\"#ed7953\"],[0.7777777777777778,\"#fb9f3a\"],[0.8888888888888888,\"#fdca26\"],[1.0,\"#f0f921\"]]}],\"contourcarpet\":[{\"type\":\"contourcarpet\",\"colorbar\":{\"outlinewidth\":0,\"ticks\":\"\"}}],\"contour\":[{\"type\":\"contour\",\"colorbar\":{\"outlinewidth\":0,\"ticks\":\"\"},\"colorscale\":[[0.0,\"#0d0887\"],[0.1111111111111111,\"#46039f\"],[0.2222222222222222,\"#7201a8\"],[0.3333333333333333,\"#9c179e\"],[0.4444444444444444,\"#bd3786\"],[0.5555555555555556,\"#d8576b\"],[0.6666666666666666,\"#ed7953\"],[0.7777777777777778,\"#fb9f3a\"],[0.8888888888888888,\"#fdca26\"],[1.0,\"#f0f921\"]]}],\"surface\":[{\"type\":\"surface\",\"colorbar\":{\"outlinewidth\":0,\"ticks\":\"\"},\"colorscale\":[[0.0,\"#0d0887\"],[0.1111111111111111,\"#46039f\"],[0.2222222222222222,\"#7201a8\"],[0.3333333333333333,\"#9c179e\"],[0.4444444444444444,\"#bd3786\"],[0.5555555555555556,\"#d8576b\"],[0.6666666666666666,\"#ed7953\"],[0.7777777777777778,\"#fb9f3a\"],[0.8888888888888888,\"#fdca26\"],[1.0,\"#f0f921\"]]}],\"mesh3d\":[{\"type\":\"mesh3d\",\"colorbar\":{\"outlinewidth\":0,\"ticks\":\"\"}}],\"scatter\":[{\"fillpattern\":{\"fillmode\":\"overlay\",\"size\":10,\"solidity\":0.2},\"type\":\"scatter\"}],\"parcoords\":[{\"type\":\"parcoords\",\"line\":{\"colorbar\":{\"outlinewidth\":0,\"ticks\":\"\"}}}],\"scatterpolargl\":[{\"type\":\"scatterpolargl\",\"marker\":{\"colorbar\":{\"outlinewidth\":0,\"ticks\":\"\"}}}],\"bar\":[{\"error_x\":{\"color\":\"#2a3f5f\"},\"error_y\":{\"color\":\"#2a3f5f\"},\"marker\":{\"line\":{\"color\":\"#E5ECF6\",\"width\":0.5},\"pattern\":{\"fillmode\":\"overlay\",\"size\":10,\"solidity\":0.2}},\"type\":\"bar\"}],\"scattergeo\":[{\"type\":\"scattergeo\",\"marker\":{\"colorbar\":{\"outlinewidth\":0,\"ticks\":\"\"}}}],\"scatterpolar\":[{\"type\":\"scatterpolar\",\"marker\":{\"colorbar\":{\"outlinewidth\":0,\"ticks\":\"\"}}}],\"histogram\":[{\"marker\":{\"pattern\":{\"fillmode\":\"overlay\",\"size\":10,\"solidity\":0.2}},\"type\":\"histogram\"}],\"scattergl\":[{\"type\":\"scattergl\",\"marker\":{\"colorbar\":{\"outlinewidth\":0,\"ticks\":\"\"}}}],\"scatter3d\":[{\"type\":\"scatter3d\",\"line\":{\"colorbar\":{\"outlinewidth\":0,\"ticks\":\"\"}},\"marker\":{\"colorbar\":{\"outlinewidth\":0,\"ticks\":\"\"}}}],\"scattermapbox\":[{\"type\":\"scattermapbox\",\"marker\":{\"colorbar\":{\"outlinewidth\":0,\"ticks\":\"\"}}}],\"scatterternary\":[{\"type\":\"scatterternary\",\"marker\":{\"colorbar\":{\"outlinewidth\":0,\"ticks\":\"\"}}}],\"scattercarpet\":[{\"type\":\"scattercarpet\",\"marker\":{\"colorbar\":{\"outlinewidth\":0,\"ticks\":\"\"}}}],\"carpet\":[{\"aaxis\":{\"endlinecolor\":\"#2a3f5f\",\"gridcolor\":\"white\",\"linecolor\":\"white\",\"minorgridcolor\":\"white\",\"startlinecolor\":\"#2a3f5f\"},\"baxis\":{\"endlinecolor\":\"#2a3f5f\",\"gridcolor\":\"white\",\"linecolor\":\"white\",\"minorgridcolor\":\"white\",\"startlinecolor\":\"#2a3f5f\"},\"type\":\"carpet\"}],\"table\":[{\"cells\":{\"fill\":{\"color\":\"#EBF0F8\"},\"line\":{\"color\":\"white\"}},\"header\":{\"fill\":{\"color\":\"#C8D4E3\"},\"line\":{\"color\":\"white\"}},\"type\":\"table\"}],\"barpolar\":[{\"marker\":{\"line\":{\"color\":\"#E5ECF6\",\"width\":0.5},\"pattern\":{\"fillmode\":\"overlay\",\"size\":10,\"solidity\":0.2}},\"type\":\"barpolar\"}],\"pie\":[{\"automargin\":true,\"type\":\"pie\"}]},\"layout\":{\"autotypenumbers\":\"strict\",\"colorway\":[\"#636efa\",\"#EF553B\",\"#00cc96\",\"#ab63fa\",\"#FFA15A\",\"#19d3f3\",\"#FF6692\",\"#B6E880\",\"#FF97FF\",\"#FECB52\"],\"font\":{\"color\":\"#2a3f5f\"},\"hovermode\":\"closest\",\"hoverlabel\":{\"align\":\"left\"},\"paper_bgcolor\":\"white\",\"plot_bgcolor\":\"#E5ECF6\",\"polar\":{\"bgcolor\":\"#E5ECF6\",\"angularaxis\":{\"gridcolor\":\"white\",\"linecolor\":\"white\",\"ticks\":\"\"},\"radialaxis\":{\"gridcolor\":\"white\",\"linecolor\":\"white\",\"ticks\":\"\"}},\"ternary\":{\"bgcolor\":\"#E5ECF6\",\"aaxis\":{\"gridcolor\":\"white\",\"linecolor\":\"white\",\"ticks\":\"\"},\"baxis\":{\"gridcolor\":\"white\",\"linecolor\":\"white\",\"ticks\":\"\"},\"caxis\":{\"gridcolor\":\"white\",\"linecolor\":\"white\",\"ticks\":\"\"}},\"coloraxis\":{\"colorbar\":{\"outlinewidth\":0,\"ticks\":\"\"}},\"colorscale\":{\"sequential\":[[0.0,\"#0d0887\"],[0.1111111111111111,\"#46039f\"],[0.2222222222222222,\"#7201a8\"],[0.3333333333333333,\"#9c179e\"],[0.4444444444444444,\"#bd3786\"],[0.5555555555555556,\"#d8576b\"],[0.6666666666666666,\"#ed7953\"],[0.7777777777777778,\"#fb9f3a\"],[0.8888888888888888,\"#fdca26\"],[1.0,\"#f0f921\"]],\"sequentialminus\":[[0.0,\"#0d0887\"],[0.1111111111111111,\"#46039f\"],[0.2222222222222222,\"#7201a8\"],[0.3333333333333333,\"#9c179e\"],[0.4444444444444444,\"#bd3786\"],[0.5555555555555556,\"#d8576b\"],[0.6666666666666666,\"#ed7953\"],[0.7777777777777778,\"#fb9f3a\"],[0.8888888888888888,\"#fdca26\"],[1.0,\"#f0f921\"]],\"diverging\":[[0,\"#8e0152\"],[0.1,\"#c51b7d\"],[0.2,\"#de77ae\"],[0.3,\"#f1b6da\"],[0.4,\"#fde0ef\"],[0.5,\"#f7f7f7\"],[0.6,\"#e6f5d0\"],[0.7,\"#b8e186\"],[0.8,\"#7fbc41\"],[0.9,\"#4d9221\"],[1,\"#276419\"]]},\"xaxis\":{\"gridcolor\":\"white\",\"linecolor\":\"white\",\"ticks\":\"\",\"title\":{\"standoff\":15},\"zerolinecolor\":\"white\",\"automargin\":true,\"zerolinewidth\":2},\"yaxis\":{\"gridcolor\":\"white\",\"linecolor\":\"white\",\"ticks\":\"\",\"title\":{\"standoff\":15},\"zerolinecolor\":\"white\",\"automargin\":true,\"zerolinewidth\":2},\"scene\":{\"xaxis\":{\"backgroundcolor\":\"#E5ECF6\",\"gridcolor\":\"white\",\"linecolor\":\"white\",\"showbackground\":true,\"ticks\":\"\",\"zerolinecolor\":\"white\",\"gridwidth\":2},\"yaxis\":{\"backgroundcolor\":\"#E5ECF6\",\"gridcolor\":\"white\",\"linecolor\":\"white\",\"showbackground\":true,\"ticks\":\"\",\"zerolinecolor\":\"white\",\"gridwidth\":2},\"zaxis\":{\"backgroundcolor\":\"#E5ECF6\",\"gridcolor\":\"white\",\"linecolor\":\"white\",\"showbackground\":true,\"ticks\":\"\",\"zerolinecolor\":\"white\",\"gridwidth\":2}},\"shapedefaults\":{\"line\":{\"color\":\"#2a3f5f\"}},\"annotationdefaults\":{\"arrowcolor\":\"#2a3f5f\",\"arrowhead\":0,\"arrowwidth\":1},\"geo\":{\"bgcolor\":\"white\",\"landcolor\":\"#E5ECF6\",\"subunitcolor\":\"white\",\"showland\":true,\"showlakes\":true,\"lakecolor\":\"white\"},\"title\":{\"x\":0.05},\"mapbox\":{\"style\":\"light\"}}},\"xaxis\":{\"anchor\":\"y\",\"domain\":[0.0,1.0],\"title\":{\"text\":\"Date\"},\"rangeslider\":{\"visible\":true},\"rangeselector\":{\"buttons\":[{\"count\":1,\"label\":\"YTD\",\"step\":\"year\",\"stepmode\":\"todate\"},{\"count\":1,\"label\":\"1y\",\"step\":\"year\",\"stepmode\":\"backward\"},{\"count\":3,\"label\":\"3y\",\"step\":\"year\",\"stepmode\":\"backward\"},{\"count\":5,\"label\":\"5y\",\"step\":\"year\",\"stepmode\":\"backward\"},{\"count\":7,\"label\":\"7y\",\"step\":\"year\",\"stepmode\":\"backward\"},{\"count\":10,\"label\":\"10y\",\"step\":\"year\",\"stepmode\":\"backward\"},{\"step\":\"all\"}]}},\"yaxis\":{\"anchor\":\"x\",\"domain\":[0.0,1.0],\"title\":{\"text\":\"YOY\"}},\"legend\":{\"title\":{\"text\":\"Ng\\u00e0nh\"},\"tracegroupgap\":0},\"margin\":{\"t\":60}},                        {\"responsive\": true}                    ).then(function(){\n",
              "                            \n",
              "var gd = document.getElementById('ace33e58-f765-44ea-a36d-555efca77790');\n",
              "var x = new MutationObserver(function (mutations, observer) {{\n",
              "        var display = window.getComputedStyle(gd).display;\n",
              "        if (!display || display === 'none') {{\n",
              "            console.log([gd, 'removed!']);\n",
              "            Plotly.purge(gd);\n",
              "            observer.disconnect();\n",
              "        }}\n",
              "}});\n",
              "\n",
              "// Listen for the removal of the full notebook cells\n",
              "var notebookContainer = gd.closest('#notebook-container');\n",
              "if (notebookContainer) {{\n",
              "    x.observe(notebookContainer, {childList: true});\n",
              "}}\n",
              "\n",
              "// Listen for the clearing of the current output cell\n",
              "var outputEl = gd.closest('.output');\n",
              "if (outputEl) {{\n",
              "    x.observe(outputEl, {childList: true});\n",
              "}}\n",
              "\n",
              "                        })                };                });            </script>        </div>"
            ]
          },
          "metadata": {},
          "output_type": "display_data"
        }
      ],
      "source": [
        "import pandas as pd\n",
        "import plotly.express as px\n",
        "import plotly.graph_objects as go\n",
        "\n",
        "df_show = dfs_gdp_ss[\n",
        "    (\n",
        "        (dfs_gdp_ss[\"Ngành\"] == \"Công nghiệp chế biến, chế tạo\")\n",
        "        | (\n",
        "            dfs_gdp_ss[\"Ngành\"]\n",
        "            == \"Sản xuất và phân phối điện, khí đốt, nước nóng, hơi nước và điều hòa không khí\"\n",
        "        )\n",
        "    )\n",
        "]\n",
        "\n",
        "fig = px.area(df_show, x=\"Date\", y=\"YOY\", color=\"Ngành\")\n",
        "\n",
        "fig.update_xaxes(\n",
        "    rangeslider_visible=True,\n",
        "    rangeselector=dict(\n",
        "        buttons=[\n",
        "            dict(count=1, label=\"YTD\", step=\"year\", stepmode=\"todate\"),\n",
        "            dict(count=1, label=\"1y\", step=\"year\", stepmode=\"backward\"),\n",
        "            dict(count=3, label=\"3y\", step=\"year\", stepmode=\"backward\"),\n",
        "            dict(count=5, label=\"5y\", step=\"year\", stepmode=\"backward\"),\n",
        "            dict(count=7, label=\"7y\", step=\"year\", stepmode=\"backward\"),\n",
        "            dict(count=10, label=\"10y\", step=\"year\", stepmode=\"backward\"),\n",
        "            dict(step=\"all\"),\n",
        "        ]\n",
        "    ),\n",
        ")\n",
        "\n",
        "fig.show()"
      ]
    },
    {
      "cell_type": "code",
      "execution_count": null,
      "metadata": {},
      "outputs": [],
      "source": []
    },
    {
      "cell_type": "code",
      "execution_count": null,
      "metadata": {},
      "outputs": [],
      "source": []
    }
  ],
  "metadata": {
    "kernelspec": {
      "display_name": "vn-macroeconomics",
      "language": "python",
      "name": "python3"
    },
    "language_info": {
      "codemirror_mode": {
        "name": "ipython",
        "version": 3
      },
      "file_extension": ".py",
      "mimetype": "text/x-python",
      "name": "python",
      "nbconvert_exporter": "python",
      "pygments_lexer": "ipython3",
      "version": "3.10.14"
    },
    "orig_nbformat": 4
  },
  "nbformat": 4,
  "nbformat_minor": 2
}
