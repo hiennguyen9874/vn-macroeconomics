{
  "cells": [
    {
      "cell_type": "code",
      "execution_count": 18,
      "metadata": {},
      "outputs": [],
      "source": [
        "import os\n",
        "import contextlib\n",
        "\n",
        "import pandas as pd\n",
        "import seaborn as sns\n",
        "from datetime import date\n",
        "import plotly.express as px\n",
        "import plotly.graph_objects as go"
      ]
    },
    {
      "cell_type": "code",
      "execution_count": 19,
      "metadata": {},
      "outputs": [],
      "source": [
        "def find_sheet_name(sheet_names):\n",
        "    gdp_sheet_names = list(filter(lambda x: \"gdp-ss\" in x.lower(), sheet_names))\n",
        "\n",
        "    if len(gdp_sheet_names) == 1:\n",
        "        return gdp_sheet_names[0]\n",
        "\n",
        "    gdp_sheet_names = list(\n",
        "        filter(lambda x: \"gdp\" in x.lower() and \"ss\" in x.lower(), sheet_names)\n",
        "    )\n",
        "\n",
        "    if len(gdp_sheet_names) == 1:\n",
        "        return gdp_sheet_names[0]\n",
        "\n",
        "    gdp_sheet_names = list(filter(lambda x: \"gdp\" in x.lower(), sheet_names))\n",
        "\n",
        "    if len(gdp_sheet_names) == 1:\n",
        "        return gdp_sheet_names[0]\n",
        "\n",
        "    if len(sheet_names) == 43:\n",
        "        return \"2\"\n",
        "\n",
        "    raise RuntimeError(sheet_names)"
      ]
    },
    {
      "cell_type": "code",
      "execution_count": 20,
      "metadata": {},
      "outputs": [],
      "source": [
        "en_to_vn = {\n",
        "    \"TOTAL\": \"TỔNG SỐ\",\n",
        "    \"Agriculture, Forestry and Fishing\": \"Nông, lâm nghiệp và thủy sản\",\n",
        "    \"Agriculture\": \"Nông nghiệp\",\n",
        "    \"Forestry\": \"Lâm nghiệp\",\n",
        "    \"Fishery\": \"Thủy sản\",\n",
        "    \"Industry and Construction\": \"Công nghiệp và xây dựng\",\n",
        "    \"Industry\": \"Công nghiệp\",\n",
        "    \"Mining and quarrying\": \"Khai khoáng\",\n",
        "    \"Manufacturing\": \"Công nghiệp chế biến, chế tạo\",\n",
        "    \"Production & supply of electricity, gas, hot water, steam and air-conditioning\": \"Sản xuất và phân phối điện, khí đốt, nước nóng, hơi nước và điều hòa không khí\",\n",
        "    \"Water supply; sewerage, waste management and remediation activities\": \"Cung cấp nước; hoạt động quản lý và xử lý rác thải, nước thải\",\n",
        "    \"Construction\": \"Xây dựng\",\n",
        "    \"Services\": \"Dịch vụ\",\n",
        "    \"Wholesales, retails, vehicles and motorcycles repairs\": \"Bán buôn và bán lẻ; sửa chữa ô tô, mô tô, xe máy và xe có động cơ khác\",\n",
        "    \"Transportation and storage\": \"Vận tải, kho bãi\",\n",
        "    \"Accommodation & catering services\": \"Dịch vụ lưu trú và ăn uống\",\n",
        "    \"Information & communication\": \"Thông tin và truyền thông\",\n",
        "    \"Finance, banking & insurance\": \"Hoạt động tài chính, ngân hàng và bảo hiểm\",\n",
        "    \"Real estate business\": \"Hoạt động kinh doanh bất động sản\",\n",
        "    \"Scientific and technical specialty\": \"Hoạt động chuyên môn, khoa học và công nghệ\",\n",
        "    \"Administrative activity and supporting service\": \"Hoạt động hành chính và dịch vụ hỗ trợ\",\n",
        "    \"Activities of Communist Party, socio-political organizations; State management and national defense; compulsory social security\": \"Hoạt động của Đảng Cộng sản, tổ chức chính trị- xã hội; quản lý Nhà nước, an ninh quốc phòng; đảm bảo xã hội bắt buộc\",\n",
        "    \"Education and training\": \"Giáo dục và đào tạo\",\n",
        "    \"Health care & social relief\": \"Y tế và hoạt động trợ giúp xã hội\",\n",
        "    \"Art, entertainment and recreation\": \"Nghệ thuật, vui chơi và giải trí\",\n",
        "    \"Other service activities\": \"Hoạt động dịch vụ khác\",\n",
        "    \"Activities of households as employers; undifferentiated goods and services producing activities of households for own use\": \"Hoạt động làm thuê các công việc trong các hộ gia đình, sản xuất sản phẩm vật chất và dịch vụ tự tiêu dùng của hộ gia đình\",\n",
        "    \"Products taxes less subsidies on production\": \"Thuế sản phẩm trừ trợ cấp sản phẩm\",\n",
        "}"
      ]
    },
    {
      "cell_type": "code",
      "execution_count": 21,
      "metadata": {},
      "outputs": [
        {
          "data": {
            "text/html": [
              "<div>\n",
              "<style scoped>\n",
              "    .dataframe tbody tr th:only-of-type {\n",
              "        vertical-align: middle;\n",
              "    }\n",
              "\n",
              "    .dataframe tbody tr th {\n",
              "        vertical-align: top;\n",
              "    }\n",
              "\n",
              "    .dataframe thead th {\n",
              "        text-align: right;\n",
              "    }\n",
              "</style>\n",
              "<table border=\"1\" class=\"dataframe\">\n",
              "  <thead>\n",
              "    <tr style=\"text-align: right;\">\n",
              "      <th></th>\n",
              "      <th>Ngành</th>\n",
              "      <th>Tổng số</th>\n",
              "      <th>YOY</th>\n",
              "      <th>Date</th>\n",
              "      <th>Percent</th>\n",
              "    </tr>\n",
              "  </thead>\n",
              "  <tbody>\n",
              "    <tr>\n",
              "      <th>7</th>\n",
              "      <td>TỔNG SỐ</td>\n",
              "      <td>1.450322e+06</td>\n",
              "      <td>5.332743</td>\n",
              "      <td>2023-09-29</td>\n",
              "      <td>1.000000</td>\n",
              "    </tr>\n",
              "    <tr>\n",
              "      <th>8</th>\n",
              "      <td>Nông, lâm nghiệp và thủy sản</td>\n",
              "      <td>1.543158e+05</td>\n",
              "      <td>3.722674</td>\n",
              "      <td>2023-09-29</td>\n",
              "      <td>0.106401</td>\n",
              "    </tr>\n",
              "    <tr>\n",
              "      <th>9</th>\n",
              "      <td>Nông nghiệp</td>\n",
              "      <td>1.096982e+05</td>\n",
              "      <td>3.749181</td>\n",
              "      <td>2023-09-29</td>\n",
              "      <td>0.075637</td>\n",
              "    </tr>\n",
              "    <tr>\n",
              "      <th>10</th>\n",
              "      <td>Lâm nghiệp</td>\n",
              "      <td>7.057619e+03</td>\n",
              "      <td>2.458987</td>\n",
              "      <td>2023-09-29</td>\n",
              "      <td>0.004866</td>\n",
              "    </tr>\n",
              "    <tr>\n",
              "      <th>11</th>\n",
              "      <td>Thủy sản</td>\n",
              "      <td>3.755997e+04</td>\n",
              "      <td>3.885913</td>\n",
              "      <td>2023-09-29</td>\n",
              "      <td>0.025898</td>\n",
              "    </tr>\n",
              "    <tr>\n",
              "      <th>12</th>\n",
              "      <td>Công nghiệp và xây dựng</td>\n",
              "      <td>5.399238e+05</td>\n",
              "      <td>5.192489</td>\n",
              "      <td>2023-09-29</td>\n",
              "      <td>0.372278</td>\n",
              "    </tr>\n",
              "    <tr>\n",
              "      <th>13</th>\n",
              "      <td>Công nghiệp</td>\n",
              "      <td>4.385762e+05</td>\n",
              "      <td>4.570303</td>\n",
              "      <td>2023-09-29</td>\n",
              "      <td>0.302399</td>\n",
              "    </tr>\n",
              "    <tr>\n",
              "      <th>14</th>\n",
              "      <td>Khai khoáng</td>\n",
              "      <td>3.518184e+04</td>\n",
              "      <td>-6.005324</td>\n",
              "      <td>2023-09-29</td>\n",
              "      <td>0.024258</td>\n",
              "    </tr>\n",
              "    <tr>\n",
              "      <th>15</th>\n",
              "      <td>Công nghiệp chế biến, chế tạo</td>\n",
              "      <td>3.414345e+05</td>\n",
              "      <td>5.611653</td>\n",
              "      <td>2023-09-29</td>\n",
              "      <td>0.235420</td>\n",
              "    </tr>\n",
              "    <tr>\n",
              "      <th>16</th>\n",
              "      <td>Sản xuất và phân phối điện, khí đốt, nước nóng...</td>\n",
              "      <td>5.390556e+04</td>\n",
              "      <td>5.986557</td>\n",
              "      <td>2023-09-29</td>\n",
              "      <td>0.037168</td>\n",
              "    </tr>\n",
              "    <tr>\n",
              "      <th>17</th>\n",
              "      <td>Cung cấp nước; hoạt động quản lý và xử lý rác ...</td>\n",
              "      <td>8.054277e+03</td>\n",
              "      <td>2.928076</td>\n",
              "      <td>2023-09-29</td>\n",
              "      <td>0.005553</td>\n",
              "    </tr>\n",
              "    <tr>\n",
              "      <th>18</th>\n",
              "      <td>Xây dựng</td>\n",
              "      <td>1.013476e+05</td>\n",
              "      <td>7.972567</td>\n",
              "      <td>2023-09-29</td>\n",
              "      <td>0.069879</td>\n",
              "    </tr>\n",
              "    <tr>\n",
              "      <th>19</th>\n",
              "      <td>Dịch vụ</td>\n",
              "      <td>6.268481e+05</td>\n",
              "      <td>6.236324</td>\n",
              "      <td>2023-09-29</td>\n",
              "      <td>0.432213</td>\n",
              "    </tr>\n",
              "    <tr>\n",
              "      <th>20</th>\n",
              "      <td>Bán buôn và bán lẻ; sửa chữa ô tô, mô tô, xe m...</td>\n",
              "      <td>1.272304e+05</td>\n",
              "      <td>8.152083</td>\n",
              "      <td>2023-09-29</td>\n",
              "      <td>0.087726</td>\n",
              "    </tr>\n",
              "    <tr>\n",
              "      <th>21</th>\n",
              "      <td>Vận tải, kho bãi</td>\n",
              "      <td>7.953900e+04</td>\n",
              "      <td>9.667767</td>\n",
              "      <td>2023-09-29</td>\n",
              "      <td>0.054842</td>\n",
              "    </tr>\n",
              "    <tr>\n",
              "      <th>22</th>\n",
              "      <td>Dịch vụ lưu trú và ăn uống</td>\n",
              "      <td>3.625307e+04</td>\n",
              "      <td>8.749620</td>\n",
              "      <td>2023-09-29</td>\n",
              "      <td>0.024997</td>\n",
              "    </tr>\n",
              "    <tr>\n",
              "      <th>23</th>\n",
              "      <td>Thông tin và truyền thông</td>\n",
              "      <td>8.211732e+04</td>\n",
              "      <td>2.790529</td>\n",
              "      <td>2023-09-29</td>\n",
              "      <td>0.056620</td>\n",
              "    </tr>\n",
              "    <tr>\n",
              "      <th>24</th>\n",
              "      <td>Hoạt động tài chính, ngân hàng và bảo hiểm</td>\n",
              "      <td>8.001168e+04</td>\n",
              "      <td>6.845073</td>\n",
              "      <td>2023-09-29</td>\n",
              "      <td>0.055168</td>\n",
              "    </tr>\n",
              "    <tr>\n",
              "      <th>25</th>\n",
              "      <td>Hoạt động kinh doanh bất động sản</td>\n",
              "      <td>4.880934e+04</td>\n",
              "      <td>-1.001294</td>\n",
              "      <td>2023-09-29</td>\n",
              "      <td>0.033654</td>\n",
              "    </tr>\n",
              "    <tr>\n",
              "      <th>26</th>\n",
              "      <td>Hoạt động chuyên môn, khoa học và công nghệ</td>\n",
              "      <td>3.940618e+04</td>\n",
              "      <td>6.402449</td>\n",
              "      <td>2023-09-29</td>\n",
              "      <td>0.027171</td>\n",
              "    </tr>\n",
              "    <tr>\n",
              "      <th>27</th>\n",
              "      <td>Hoạt động hành chính và dịch vụ hỗ trợ</td>\n",
              "      <td>2.019159e+04</td>\n",
              "      <td>9.525762</td>\n",
              "      <td>2023-09-29</td>\n",
              "      <td>0.013922</td>\n",
              "    </tr>\n",
              "    <tr>\n",
              "      <th>28</th>\n",
              "      <td>Hoạt động của Đảng Cộng sản, tổ chức chính trị...</td>\n",
              "      <td>2.789322e+04</td>\n",
              "      <td>6.629220</td>\n",
              "      <td>2023-09-29</td>\n",
              "      <td>0.019232</td>\n",
              "    </tr>\n",
              "    <tr>\n",
              "      <th>29</th>\n",
              "      <td>Giáo dục và đào tạo</td>\n",
              "      <td>4.398591e+04</td>\n",
              "      <td>4.490000</td>\n",
              "      <td>2023-09-29</td>\n",
              "      <td>0.030328</td>\n",
              "    </tr>\n",
              "    <tr>\n",
              "      <th>30</th>\n",
              "      <td>Y tế và hoạt động trợ giúp xã hội</td>\n",
              "      <td>1.959715e+04</td>\n",
              "      <td>2.818380</td>\n",
              "      <td>2023-09-29</td>\n",
              "      <td>0.013512</td>\n",
              "    </tr>\n",
              "    <tr>\n",
              "      <th>31</th>\n",
              "      <td>Nghệ thuật, vui chơi và giải trí</td>\n",
              "      <td>1.153562e+04</td>\n",
              "      <td>11.712774</td>\n",
              "      <td>2023-09-29</td>\n",
              "      <td>0.007954</td>\n",
              "    </tr>\n",
              "    <tr>\n",
              "      <th>32</th>\n",
              "      <td>Hoạt động dịch vụ khác</td>\n",
              "      <td>8.744900e+03</td>\n",
              "      <td>10.626516</td>\n",
              "      <td>2023-09-29</td>\n",
              "      <td>0.006030</td>\n",
              "    </tr>\n",
              "    <tr>\n",
              "      <th>33</th>\n",
              "      <td>Hoạt động làm thuê các công việc trong các hộ ...</td>\n",
              "      <td>1.532713e+03</td>\n",
              "      <td>5.432731</td>\n",
              "      <td>2023-09-29</td>\n",
              "      <td>0.001057</td>\n",
              "    </tr>\n",
              "    <tr>\n",
              "      <th>34</th>\n",
              "      <td>Thuế sản phẩm trừ trợ cấp sản phẩm</td>\n",
              "      <td>1.292340e+05</td>\n",
              "      <td>3.556813</td>\n",
              "      <td>2023-09-29</td>\n",
              "      <td>0.089107</td>\n",
              "    </tr>\n",
              "  </tbody>\n",
              "</table>\n",
              "</div>"
            ],
            "text/plain": [
              "                                                Ngành       Tổng số  \\\n",
              "7                                             TỔNG SỐ  1.450322e+06   \n",
              "8                        Nông, lâm nghiệp và thủy sản  1.543158e+05   \n",
              "9                                         Nông nghiệp  1.096982e+05   \n",
              "10                                         Lâm nghiệp  7.057619e+03   \n",
              "11                                           Thủy sản  3.755997e+04   \n",
              "12                            Công nghiệp và xây dựng  5.399238e+05   \n",
              "13                                        Công nghiệp  4.385762e+05   \n",
              "14                                        Khai khoáng  3.518184e+04   \n",
              "15                      Công nghiệp chế biến, chế tạo  3.414345e+05   \n",
              "16  Sản xuất và phân phối điện, khí đốt, nước nóng...  5.390556e+04   \n",
              "17  Cung cấp nước; hoạt động quản lý và xử lý rác ...  8.054277e+03   \n",
              "18                                           Xây dựng  1.013476e+05   \n",
              "19                                            Dịch vụ  6.268481e+05   \n",
              "20  Bán buôn và bán lẻ; sửa chữa ô tô, mô tô, xe m...  1.272304e+05   \n",
              "21                                   Vận tải, kho bãi  7.953900e+04   \n",
              "22                         Dịch vụ lưu trú và ăn uống  3.625307e+04   \n",
              "23                          Thông tin và truyền thông  8.211732e+04   \n",
              "24         Hoạt động tài chính, ngân hàng và bảo hiểm  8.001168e+04   \n",
              "25                  Hoạt động kinh doanh bất động sản  4.880934e+04   \n",
              "26        Hoạt động chuyên môn, khoa học và công nghệ  3.940618e+04   \n",
              "27             Hoạt động hành chính và dịch vụ hỗ trợ  2.019159e+04   \n",
              "28  Hoạt động của Đảng Cộng sản, tổ chức chính trị...  2.789322e+04   \n",
              "29                                Giáo dục và đào tạo  4.398591e+04   \n",
              "30                  Y tế và hoạt động trợ giúp xã hội  1.959715e+04   \n",
              "31                   Nghệ thuật, vui chơi và giải trí  1.153562e+04   \n",
              "32                             Hoạt động dịch vụ khác  8.744900e+03   \n",
              "33  Hoạt động làm thuê các công việc trong các hộ ...  1.532713e+03   \n",
              "34                 Thuế sản phẩm trừ trợ cấp sản phẩm  1.292340e+05   \n",
              "\n",
              "          YOY       Date   Percent  \n",
              "7    5.332743 2023-09-29  1.000000  \n",
              "8    3.722674 2023-09-29  0.106401  \n",
              "9    3.749181 2023-09-29  0.075637  \n",
              "10   2.458987 2023-09-29  0.004866  \n",
              "11   3.885913 2023-09-29  0.025898  \n",
              "12   5.192489 2023-09-29  0.372278  \n",
              "13   4.570303 2023-09-29  0.302399  \n",
              "14  -6.005324 2023-09-29  0.024258  \n",
              "15   5.611653 2023-09-29  0.235420  \n",
              "16   5.986557 2023-09-29  0.037168  \n",
              "17   2.928076 2023-09-29  0.005553  \n",
              "18   7.972567 2023-09-29  0.069879  \n",
              "19   6.236324 2023-09-29  0.432213  \n",
              "20   8.152083 2023-09-29  0.087726  \n",
              "21   9.667767 2023-09-29  0.054842  \n",
              "22   8.749620 2023-09-29  0.024997  \n",
              "23   2.790529 2023-09-29  0.056620  \n",
              "24   6.845073 2023-09-29  0.055168  \n",
              "25  -1.001294 2023-09-29  0.033654  \n",
              "26   6.402449 2023-09-29  0.027171  \n",
              "27   9.525762 2023-09-29  0.013922  \n",
              "28   6.629220 2023-09-29  0.019232  \n",
              "29   4.490000 2023-09-29  0.030328  \n",
              "30   2.818380 2023-09-29  0.013512  \n",
              "31  11.712774 2023-09-29  0.007954  \n",
              "32  10.626516 2023-09-29  0.006030  \n",
              "33   5.432731 2023-09-29  0.001057  \n",
              "34   3.556813 2023-09-29  0.089107  "
            ]
          },
          "execution_count": 21,
          "metadata": {},
          "output_type": "execute_result"
        }
      ],
      "source": [
        "def get_gdp_ss(xl, sheet_name, date):\n",
        "    df = xl.parse(sheet_name)\n",
        "\n",
        "    df[df.columns[0]] = df[df.columns[0]].fillna(df[df.columns[1]])\n",
        "\n",
        "    if len(df.columns) == 8:\n",
        "        df = df.drop(\n",
        "            columns=[\n",
        "                df.columns[1],\n",
        "                df.columns[2],\n",
        "                df.columns[4],\n",
        "                df.columns[5],\n",
        "                # df.columns[6],\n",
        "                df.columns[7],\n",
        "            ]\n",
        "        )\n",
        "    elif len(df.columns) == 7:\n",
        "        df = df.drop(\n",
        "            columns=[\n",
        "                df.columns[1],\n",
        "                df.columns[2],\n",
        "                df.columns[3],\n",
        "                df.columns[4],\n",
        "                # df.columns[6],\n",
        "            ]\n",
        "        )\n",
        "    elif len(df.columns) == 5 and int(date.split(\"-\")[1]) == 12:\n",
        "        df = df.drop(columns=[df.columns[1], df.columns[2]])\n",
        "    elif len(df.columns) == 6 and int(date.split(\"-\")[1]) == 12:\n",
        "        df = df.drop(columns=[df.columns[1], df.columns[2], df.columns[5]])\n",
        "    else:\n",
        "        raise RuntimeError(df.columns)\n",
        "\n",
        "    assert len(df.columns) == 3\n",
        "    df.columns = [\"Ngành\", \"Tổng số\", \"YOY\"]\n",
        "\n",
        "    df[df.columns[0]] = (\n",
        "        df[df.columns[0]]\n",
        "        .replace(r\"\\s+\", \" \", regex=True)\n",
        "        .replace(r\"\\n\", \" \", regex=True)\n",
        "        .str.strip()\n",
        "    )\n",
        "\n",
        "    df = df.drop(\n",
        "        list(\n",
        "            range(\n",
        "                df[df.columns[0]][\n",
        "                    (df[df.columns[0]] == \"TỔNG SỐ\")\n",
        "                    | (df[df.columns[0]] == \"TOTAL\")\n",
        "                    | (df[df.columns[0]] == \"TỔNG SẢN PHẨM TRONG NƯỚC\")\n",
        "                ].index[0]\n",
        "            )\n",
        "        )\n",
        "    )\n",
        "\n",
        "    if len(df[\"Ngành\"][df[\"Ngành\"] == \"TOTAL\"].index) > 0:\n",
        "        df[\"Ngành\"] = df[\"Ngành\"].map(en_to_vn)\n",
        "\n",
        "    df = df[pd.to_numeric(df[df.columns[1]], errors=\"coerce\").notnull()]\n",
        "\n",
        "    if not (int(date.split(\"-\")[0]) == 2024 and int(date.split(\"-\")[1]) == 3):\n",
        "        df[\"YOY\"] = df[\"YOY\"].astype(float) - 100\n",
        "\n",
        "    df[\"Date\"] = date\n",
        "    df[\"Date\"] = pd.to_datetime(df[\"Date\"], dayfirst=False)\n",
        "\n",
        "    df[\"Tổng số\"] = df[\"Tổng số\"].astype(float)\n",
        "\n",
        "    total = df.loc[df[\"Tổng số\"].idxmax(), df.columns[1]]\n",
        "    df[\"Percent\"] = df[\"Tổng số\"] / total\n",
        "\n",
        "    return df\n",
        "\n",
        "xl = pd.ExcelFile(\"../datas/2023-09-29-02-Bieu-so-lieu-9-thang-2023-2.xlsx\")\n",
        "\n",
        "sheet_name = find_sheet_name(xl.sheet_names)\n",
        "\n",
        "get_gdp_ss(xl, sheet_name, \"2023-09-29\")"
      ]
    },
    {
      "cell_type": "code",
      "execution_count": 22,
      "metadata": {},
      "outputs": [],
      "source": [
        "import os\n",
        "import contextlib\n",
        "\n",
        "dfs_gdp_ss_origin = []\n",
        "for file_name in sorted(\n",
        "    os.listdir(\"../datas\"),\n",
        "    key=lambda filename: f\"{filename.split('-')[0]}-{filename.split('-')[1]}-{filename.split('-')[2]}\",\n",
        "    reverse=True,\n",
        "):\n",
        "    if file_name.startswith(\".~\"):\n",
        "        continue\n",
        "\n",
        "    try:\n",
        "        file_path = os.path.join(\"../datas\", file_name)\n",
        "\n",
        "        year = int(file_name.split(\"-\")[0])\n",
        "        month = int(file_name.split(\"-\")[1])\n",
        "        day = int(file_name.split(\"-\")[2])\n",
        "\n",
        "        if year < 2014:\n",
        "            continue\n",
        "\n",
        "        if month not in [3, 6, 9, 12]:\n",
        "            continue\n",
        "\n",
        "        xl = pd.ExcelFile(file_path)\n",
        "\n",
        "        df_gdp = get_gdp_ss(\n",
        "            xl, find_sheet_name(xl.sheet_names), f\"{year}-{month}-{day}\"\n",
        "        )\n",
        "\n",
        "        dfs_gdp_ss_origin.append(df_gdp)\n",
        "    except Exception as e:\n",
        "        print(file_name, str(e))"
      ]
    },
    {
      "cell_type": "code",
      "execution_count": 23,
      "metadata": {},
      "outputs": [
        {
          "data": {
            "text/html": [
              "<div>\n",
              "<style scoped>\n",
              "    .dataframe tbody tr th:only-of-type {\n",
              "        vertical-align: middle;\n",
              "    }\n",
              "\n",
              "    .dataframe tbody tr th {\n",
              "        vertical-align: top;\n",
              "    }\n",
              "\n",
              "    .dataframe thead th {\n",
              "        text-align: right;\n",
              "    }\n",
              "</style>\n",
              "<table border=\"1\" class=\"dataframe\">\n",
              "  <thead>\n",
              "    <tr style=\"text-align: right;\">\n",
              "      <th></th>\n",
              "      <th>Ngành</th>\n",
              "      <th>Tổng số</th>\n",
              "      <th>YOY</th>\n",
              "      <th>Date</th>\n",
              "      <th>Percent</th>\n",
              "    </tr>\n",
              "  </thead>\n",
              "  <tbody>\n",
              "    <tr>\n",
              "      <th>0</th>\n",
              "      <td>TỔNG SỐ</td>\n",
              "      <td>1.561963e+06</td>\n",
              "      <td>7.404853</td>\n",
              "      <td>2024-09-29</td>\n",
              "      <td>1.000000</td>\n",
              "    </tr>\n",
              "    <tr>\n",
              "      <th>1</th>\n",
              "      <td>Nông, lâm nghiệp và thủy sản</td>\n",
              "      <td>1.624210e+05</td>\n",
              "      <td>2.58365</td>\n",
              "      <td>2024-09-29</td>\n",
              "      <td>0.103985</td>\n",
              "    </tr>\n",
              "    <tr>\n",
              "      <th>2</th>\n",
              "      <td>Nông nghiệp</td>\n",
              "      <td>1.152892e+05</td>\n",
              "      <td>2.031637</td>\n",
              "      <td>2024-09-29</td>\n",
              "      <td>0.073810</td>\n",
              "    </tr>\n",
              "    <tr>\n",
              "      <th>3</th>\n",
              "      <td>Lâm nghiệp</td>\n",
              "      <td>7.745518e+03</td>\n",
              "      <td>4.323969</td>\n",
              "      <td>2024-09-29</td>\n",
              "      <td>0.004959</td>\n",
              "    </tr>\n",
              "    <tr>\n",
              "      <th>4</th>\n",
              "      <td>Thủy sản</td>\n",
              "      <td>3.938633e+04</td>\n",
              "      <td>3.888051</td>\n",
              "      <td>2024-09-29</td>\n",
              "      <td>0.025216</td>\n",
              "    </tr>\n",
              "    <tr>\n",
              "      <th>...</th>\n",
              "      <td>...</td>\n",
              "      <td>...</td>\n",
              "      <td>...</td>\n",
              "      <td>...</td>\n",
              "      <td>...</td>\n",
              "    </tr>\n",
              "    <tr>\n",
              "      <th>1197</th>\n",
              "      <td>Giáo dục và đào tạo</td>\n",
              "      <td>1.430664e+04</td>\n",
              "      <td>7.82</td>\n",
              "      <td>2014-03-28</td>\n",
              "      <td>0.028404</td>\n",
              "    </tr>\n",
              "    <tr>\n",
              "      <th>1198</th>\n",
              "      <td>Y tế và hoạt động trợ giúp xã hội</td>\n",
              "      <td>6.434305e+03</td>\n",
              "      <td>7.80182</td>\n",
              "      <td>2014-03-28</td>\n",
              "      <td>0.012775</td>\n",
              "    </tr>\n",
              "    <tr>\n",
              "      <th>1199</th>\n",
              "      <td>Nghệ thuật, vui chơi và giải trí</td>\n",
              "      <td>3.831353e+03</td>\n",
              "      <td>9.12</td>\n",
              "      <td>2014-03-28</td>\n",
              "      <td>0.007607</td>\n",
              "    </tr>\n",
              "    <tr>\n",
              "      <th>1200</th>\n",
              "      <td>Hoạt động dịch vụ khác</td>\n",
              "      <td>9.223516e+03</td>\n",
              "      <td>7.44</td>\n",
              "      <td>2014-03-28</td>\n",
              "      <td>0.018312</td>\n",
              "    </tr>\n",
              "    <tr>\n",
              "      <th>1201</th>\n",
              "      <td>Hoạt động làm thuê các công việc trong các hộ ...</td>\n",
              "      <td>9.834928e+02</td>\n",
              "      <td>6.62</td>\n",
              "      <td>2014-03-28</td>\n",
              "      <td>0.001953</td>\n",
              "    </tr>\n",
              "  </tbody>\n",
              "</table>\n",
              "<p>1202 rows × 5 columns</p>\n",
              "</div>"
            ],
            "text/plain": [
              "                                                  Ngành       Tổng số  \\\n",
              "0                                               TỔNG SỐ  1.561963e+06   \n",
              "1                          Nông, lâm nghiệp và thủy sản  1.624210e+05   \n",
              "2                                           Nông nghiệp  1.152892e+05   \n",
              "3                                            Lâm nghiệp  7.745518e+03   \n",
              "4                                              Thủy sản  3.938633e+04   \n",
              "...                                                 ...           ...   \n",
              "1197                                Giáo dục và đào tạo  1.430664e+04   \n",
              "1198                  Y tế và hoạt động trợ giúp xã hội  6.434305e+03   \n",
              "1199                   Nghệ thuật, vui chơi và giải trí  3.831353e+03   \n",
              "1200                             Hoạt động dịch vụ khác  9.223516e+03   \n",
              "1201  Hoạt động làm thuê các công việc trong các hộ ...  9.834928e+02   \n",
              "\n",
              "           YOY       Date   Percent  \n",
              "0     7.404853 2024-09-29  1.000000  \n",
              "1      2.58365 2024-09-29  0.103985  \n",
              "2     2.031637 2024-09-29  0.073810  \n",
              "3     4.323969 2024-09-29  0.004959  \n",
              "4     3.888051 2024-09-29  0.025216  \n",
              "...        ...        ...       ...  \n",
              "1197      7.82 2014-03-28  0.028404  \n",
              "1198   7.80182 2014-03-28  0.012775  \n",
              "1199      9.12 2014-03-28  0.007607  \n",
              "1200      7.44 2014-03-28  0.018312  \n",
              "1201      6.62 2014-03-28  0.001953  \n",
              "\n",
              "[1202 rows x 5 columns]"
            ]
          },
          "execution_count": 23,
          "metadata": {},
          "output_type": "execute_result"
        }
      ],
      "source": [
        "dfs_gdp_ss = pd.concat(dfs_gdp_ss_origin, ignore_index=True, axis=0)\n",
        "dfs_gdp_ss[\"Date\"] = pd.to_datetime(dfs_gdp_ss[\"Date\"], dayfirst=False)\n",
        "dfs_gdp_ss"
      ]
    },
    {
      "cell_type": "code",
      "execution_count": 24,
      "metadata": {},
      "outputs": [
        {
          "data": {
            "text/html": [
              "<div>\n",
              "<style scoped>\n",
              "    .dataframe tbody tr th:only-of-type {\n",
              "        vertical-align: middle;\n",
              "    }\n",
              "\n",
              "    .dataframe tbody tr th {\n",
              "        vertical-align: top;\n",
              "    }\n",
              "\n",
              "    .dataframe thead th {\n",
              "        text-align: right;\n",
              "    }\n",
              "</style>\n",
              "<table border=\"1\" class=\"dataframe\">\n",
              "  <thead>\n",
              "    <tr style=\"text-align: right;\">\n",
              "      <th></th>\n",
              "      <th>Ngành</th>\n",
              "      <th>Tổng số</th>\n",
              "      <th>YOY</th>\n",
              "      <th>Date</th>\n",
              "      <th>Percent</th>\n",
              "    </tr>\n",
              "  </thead>\n",
              "  <tbody>\n",
              "    <tr>\n",
              "      <th>0</th>\n",
              "      <td>TỔNG SỐ</td>\n",
              "      <td>1.561963e+06</td>\n",
              "      <td>7.404853</td>\n",
              "      <td>2024-09-29</td>\n",
              "      <td>1.000000</td>\n",
              "    </tr>\n",
              "    <tr>\n",
              "      <th>1</th>\n",
              "      <td>Nông, lâm nghiệp và thủy sản</td>\n",
              "      <td>1.624210e+05</td>\n",
              "      <td>2.58365</td>\n",
              "      <td>2024-09-29</td>\n",
              "      <td>0.103985</td>\n",
              "    </tr>\n",
              "    <tr>\n",
              "      <th>2</th>\n",
              "      <td>Nông nghiệp</td>\n",
              "      <td>1.152892e+05</td>\n",
              "      <td>2.031637</td>\n",
              "      <td>2024-09-29</td>\n",
              "      <td>0.073810</td>\n",
              "    </tr>\n",
              "    <tr>\n",
              "      <th>3</th>\n",
              "      <td>Lâm nghiệp</td>\n",
              "      <td>7.745518e+03</td>\n",
              "      <td>4.323969</td>\n",
              "      <td>2024-09-29</td>\n",
              "      <td>0.004959</td>\n",
              "    </tr>\n",
              "    <tr>\n",
              "      <th>4</th>\n",
              "      <td>Thủy sản</td>\n",
              "      <td>3.938633e+04</td>\n",
              "      <td>3.888051</td>\n",
              "      <td>2024-09-29</td>\n",
              "      <td>0.025216</td>\n",
              "    </tr>\n",
              "    <tr>\n",
              "      <th>...</th>\n",
              "      <td>...</td>\n",
              "      <td>...</td>\n",
              "      <td>...</td>\n",
              "      <td>...</td>\n",
              "      <td>...</td>\n",
              "    </tr>\n",
              "    <tr>\n",
              "      <th>1197</th>\n",
              "      <td>Giáo dục và đào tạo</td>\n",
              "      <td>1.430664e+04</td>\n",
              "      <td>7.82</td>\n",
              "      <td>2014-03-28</td>\n",
              "      <td>0.028404</td>\n",
              "    </tr>\n",
              "    <tr>\n",
              "      <th>1198</th>\n",
              "      <td>Y tế và hoạt động trợ giúp xã hội</td>\n",
              "      <td>6.434305e+03</td>\n",
              "      <td>7.80182</td>\n",
              "      <td>2014-03-28</td>\n",
              "      <td>0.012775</td>\n",
              "    </tr>\n",
              "    <tr>\n",
              "      <th>1199</th>\n",
              "      <td>Nghệ thuật, vui chơi và giải trí</td>\n",
              "      <td>3.831353e+03</td>\n",
              "      <td>9.12</td>\n",
              "      <td>2014-03-28</td>\n",
              "      <td>0.007607</td>\n",
              "    </tr>\n",
              "    <tr>\n",
              "      <th>1200</th>\n",
              "      <td>Hoạt động dịch vụ khác</td>\n",
              "      <td>9.223516e+03</td>\n",
              "      <td>7.44</td>\n",
              "      <td>2014-03-28</td>\n",
              "      <td>0.018312</td>\n",
              "    </tr>\n",
              "    <tr>\n",
              "      <th>1201</th>\n",
              "      <td>Hoạt động làm thuê các công việc trong các hộ ...</td>\n",
              "      <td>9.834928e+02</td>\n",
              "      <td>6.62</td>\n",
              "      <td>2014-03-28</td>\n",
              "      <td>0.001953</td>\n",
              "    </tr>\n",
              "  </tbody>\n",
              "</table>\n",
              "<p>1202 rows × 5 columns</p>\n",
              "</div>"
            ],
            "text/plain": [
              "                                                  Ngành       Tổng số  \\\n",
              "0                                               TỔNG SỐ  1.561963e+06   \n",
              "1                          Nông, lâm nghiệp và thủy sản  1.624210e+05   \n",
              "2                                           Nông nghiệp  1.152892e+05   \n",
              "3                                            Lâm nghiệp  7.745518e+03   \n",
              "4                                              Thủy sản  3.938633e+04   \n",
              "...                                                 ...           ...   \n",
              "1197                                Giáo dục và đào tạo  1.430664e+04   \n",
              "1198                  Y tế và hoạt động trợ giúp xã hội  6.434305e+03   \n",
              "1199                   Nghệ thuật, vui chơi và giải trí  3.831353e+03   \n",
              "1200                             Hoạt động dịch vụ khác  9.223516e+03   \n",
              "1201  Hoạt động làm thuê các công việc trong các hộ ...  9.834928e+02   \n",
              "\n",
              "           YOY       Date   Percent  \n",
              "0     7.404853 2024-09-29  1.000000  \n",
              "1      2.58365 2024-09-29  0.103985  \n",
              "2     2.031637 2024-09-29  0.073810  \n",
              "3     4.323969 2024-09-29  0.004959  \n",
              "4     3.888051 2024-09-29  0.025216  \n",
              "...        ...        ...       ...  \n",
              "1197      7.82 2014-03-28  0.028404  \n",
              "1198   7.80182 2014-03-28  0.012775  \n",
              "1199      9.12 2014-03-28  0.007607  \n",
              "1200      7.44 2014-03-28  0.018312  \n",
              "1201      6.62 2014-03-28  0.001953  \n",
              "\n",
              "[1202 rows x 5 columns]"
            ]
          },
          "execution_count": 24,
          "metadata": {},
          "output_type": "execute_result"
        }
      ],
      "source": [
        "convert_nganh = {\n",
        "    \"TỔNG SỐ\": \"TỔNG SỐ\",\n",
        "    \"Nông, lâm nghiệp và thủy sản\": \"Nông, lâm nghiệp và thủy sản\",\n",
        "    \"Nông nghiệp\": \"Nông nghiệp\",\n",
        "    \"Lâm nghiệp\": \"Lâm nghiệp\",\n",
        "    \"Thủy sản\": \"Thủy sản\",\n",
        "    \"Công nghiệp và xây dựng\": \"Công nghiệp và xây dựng\",\n",
        "    \"Công nghiệp\": \"Công nghiệp\",\n",
        "    \"Khai khoáng\": \"Khai khoáng\",\n",
        "    \"Công nghiệp chế biến, chế tạo\": \"Công nghiệp chế biến, chế tạo\",\n",
        "    \"Sản xuất và phân phối điện, khí đốt, nước nóng, hơi nước và điều hòa không khí\": \"Sản xuất và phân phối điện, khí đốt, nước nóng, hơi nước và điều hòa không khí\",\n",
        "    \"Cung cấp nước; hoạt động quản lý và xử lý rác thải, nước thải\": \"Cung cấp nước; hoạt động quản lý và xử lý rác thải, nước thải\",\n",
        "    \"Xây dựng\": \"Xây dựng\",\n",
        "    \"Dịch vụ\": \"Dịch vụ\",\n",
        "    \"Bán buôn và bán lẻ; sửa chữa ô tô, mô tô, xe máy và xe có động cơ khác\": \"Bán buôn và bán lẻ; sửa chữa ô tô, mô tô, xe máy và xe có động cơ khác\",\n",
        "    \"Vận tải, kho bãi\": \"Vận tải, kho bãi\",\n",
        "    \"Dịch vụ lưu trú và ăn uống\": \"Dịch vụ lưu trú và ăn uống\",\n",
        "    \"Thông tin và truyền thông\": \"Thông tin và truyền thông\",\n",
        "    \"Hoạt động tài chính, ngân hàng và bảo hiểm\": \"Hoạt động tài chính, ngân hàng và bảo hiểm\",\n",
        "    \"Hoạt động kinh doanh bất động sản\": \"Hoạt động kinh doanh bất động sản\",\n",
        "    \"Hoạt động chuyên môn, khoa học và công nghệ\": \"Hoạt động chuyên môn, khoa học và công nghệ\",\n",
        "    \"Hoạt động hành chính và dịch vụ hỗ trợ\": \"Hoạt động hành chính và dịch vụ hỗ trợ\",\n",
        "    \"Hoạt động của Đảng Cộng sản, tổ chức chính trị-xã hội; quản lý Nhà nước, an ninh quốc phòng; đảm bảo xã hội bắt buộc\": \"Hoạt động của Đảng Cộng sản, tổ chức chính trị-xã hội; quản lý Nhà nước, an ninh quốc phòng; đảm bảo xã hội bắt buộc\",\n",
        "    \"Giáo dục và đào tạo\": \"Giáo dục và đào tạo\",\n",
        "    \"Y tế và hoạt động trợ giúp xã hội\": \"Y tế và hoạt động trợ giúp xã hội\",\n",
        "    \"Nghệ thuật, vui chơi và giải trí\": \"Nghệ thuật, vui chơi và giải trí\",\n",
        "    \"Hoạt động dịch vụ khác\": \"Hoạt động dịch vụ khác\",\n",
        "    \"Hoạt động làm thuê các công việc trong các hộ gia đình, sản xuất sản phẩm vật chất và dịch vụ tự tiêu dùng của hộ gia đình\": \"Hoạt động làm thuê các công việc trong các hộ gia đình, sản xuất sản phẩm vật chất và dịch vụ tự tiêu dùng của hộ gia đình\",\n",
        "    \"Thuế sản phẩm trừ trợ cấp sản phẩm\": \"Thuế sản phẩm trừ trợ cấp sản phẩm\",\n",
        "    \"Hoạt động của Đảng Cộng sản, tổ chức chính trị- xã hội; quản lý Nhà nước, an ninh quốc phòng; đảm bảo xã hội bắt buộc\": \"Hoạt động của Đảng Cộng sản, tổ chức chính trị-xã hội; quản lý Nhà nước, an ninh quốc phòng; đảm bảo xã hội bắt buộc\",\n",
        "    \"TỔNG SẢN PHẨM TRONG NƯỚC\": \"TỔNG SỐ\",\n",
        "    \"Khấu hao nhà ở dân cư\": \"Khấu hao nhà ở dân cư\",\n",
        "}\n",
        "\n",
        "for nganh in dfs_gdp_ss[\"Ngành\"].unique().tolist():\n",
        "    assert nganh in convert_nganh.keys(), nganh\n",
        "\n",
        "dfs_gdp_ss[\"Ngành\"] = dfs_gdp_ss[\"Ngành\"].map(convert_nganh)\n",
        "dfs_gdp_ss"
      ]
    },
    {
      "cell_type": "code",
      "execution_count": 25,
      "metadata": {},
      "outputs": [],
      "source": [
        "dfs_gdp_ss.to_csv(\"../csv/gdp_ss.csv\")"
      ]
    },
    {
      "cell_type": "code",
      "execution_count": 26,
      "metadata": {},
      "outputs": [],
      "source": [
        "# nganh = \"TỔNG SỐ\"\n",
        "# dfs_gdp_ss_per_nganh = dfs_gdp_ss[dfs_gdp_ss[\"Ngành\"] == nganh]\n",
        "\n",
        "# dfs_gdp_ss_per_nganh[\"PCT_YOY\"] = dfs_gdp_ss_per_nganh[\"Tổng số\"].pct_change(-4)\n",
        "# print(dfs_gdp_ss_per_nganh)"
      ]
    },
    {
      "cell_type": "code",
      "execution_count": 27,
      "metadata": {},
      "outputs": [
        {
          "data": {
            "application/vnd.plotly.v1+json": {
              "config": {
                "plotlyServerURL": "https://plot.ly"
              },
              "data": [
                {
                  "fillpattern": {
                    "shape": ""
                  },
                  "hovertemplate": "Ngành=TỔNG SỐ<br>Date=%{x}<br>YOY=%{y}<extra></extra>",
                  "legendgroup": "TỔNG SỐ",
                  "line": {
                    "color": "#636efa"
                  },
                  "marker": {
                    "symbol": "circle"
                  },
                  "mode": "lines",
                  "name": "TỔNG SỐ",
                  "orientation": "v",
                  "showlegend": true,
                  "stackgroup": "1",
                  "type": "scatter",
                  "x": [
                    "2024-09-29T00:00:00",
                    "2024-06-29T00:00:00",
                    "2024-03-29T00:00:00",
                    "2023-12-29T00:00:00",
                    "2023-09-29T00:00:00",
                    "2023-06-29T00:00:00",
                    "2023-03-29T00:00:00",
                    "2022-12-29T00:00:00",
                    "2022-09-29T00:00:00",
                    "2022-06-29T00:00:00",
                    "2022-03-29T00:00:00",
                    "2021-12-29T00:00:00",
                    "2021-09-29T00:00:00",
                    "2021-06-29T00:00:00",
                    "2021-03-29T00:00:00",
                    "2020-12-27T00:00:00",
                    "2020-09-29T00:00:00",
                    "2020-06-29T00:00:00",
                    "2020-03-27T00:00:00",
                    "2019-12-27T00:00:00",
                    "2019-09-28T00:00:00",
                    "2019-06-28T00:00:00",
                    "2019-03-29T00:00:00",
                    "2018-12-27T00:00:00",
                    "2018-09-28T00:00:00",
                    "2018-06-29T00:00:00",
                    "2018-03-29T00:00:00",
                    "2017-12-29T00:00:00",
                    "2017-09-29T00:00:00",
                    "2017-06-29T00:00:00",
                    "2017-03-29T00:00:00",
                    "2016-12-29T00:00:00",
                    "2016-09-29T00:00:00",
                    "2016-06-29T00:00:00",
                    "2016-03-29T00:00:00",
                    "2015-12-29T00:00:00",
                    "2015-09-29T00:00:00",
                    "2015-06-29T00:00:00",
                    "2015-03-29T00:00:00",
                    "2014-12-29T00:00:00",
                    "2014-09-29T00:00:00",
                    "2014-06-27T00:00:00",
                    "2014-03-28T00:00:00"
                  ],
                  "xaxis": "x",
                  "y": [
                    7.40485312039641,
                    6.92678621128367,
                    5.657544227567939,
                    6.723794041529999,
                    5.332742750841817,
                    4.138418754977849,
                    3.318918280789802,
                    5.919096885452461,
                    13.666930411478901,
                    7.723074680051425,
                    5.031830181024418,
                    5.221667820590298,
                    -6.166457698772675,
                    6.609172862735903,
                    4.480000000000004,
                    4.4753670518985444,
                    2.618815301406002,
                    0.36049384862049294,
                    3.8208067991526633,
                    6.968431560636205,
                    7.313730427845073,
                    6.7136417439864715,
                    6.7925045418773635,
                    7.313674335878289,
                    6.884508149792083,
                    7.075643105772173,
                    7.37820803674569,
                    6.8122456596397996,
                    6.414697282886507,
                    5.728469735422493,
                    5.1027657025271935,
                    6.210812202601161,
                    5.930030839223875,
                    5.521540231892558,
                    5.4594069076467235,
                    6.679308130442124,
                    6.500672345266565,
                    6.280415359654896,
                    6.028019764031868,
                    5.983634848611885,
                    5.6200000000000045,
                    5.180074015026847,
                    4.960355658392217
                  ],
                  "yaxis": "y"
                },
                {
                  "fillpattern": {
                    "shape": ""
                  },
                  "hovertemplate": "Ngành=Nông, lâm nghiệp và thủy sản<br>Date=%{x}<br>YOY=%{y}<extra></extra>",
                  "legendgroup": "Nông, lâm nghiệp và thủy sản",
                  "line": {
                    "color": "#EF553B"
                  },
                  "marker": {
                    "symbol": "circle"
                  },
                  "mode": "lines",
                  "name": "Nông, lâm nghiệp và thủy sản",
                  "orientation": "v",
                  "showlegend": true,
                  "stackgroup": "1",
                  "type": "scatter",
                  "x": [
                    "2024-09-29T00:00:00",
                    "2024-06-29T00:00:00",
                    "2024-03-29T00:00:00",
                    "2023-12-29T00:00:00",
                    "2023-09-29T00:00:00",
                    "2023-06-29T00:00:00",
                    "2023-03-29T00:00:00",
                    "2022-12-29T00:00:00",
                    "2022-09-29T00:00:00",
                    "2022-06-29T00:00:00",
                    "2022-03-29T00:00:00",
                    "2021-12-29T00:00:00",
                    "2021-09-29T00:00:00",
                    "2021-06-29T00:00:00",
                    "2021-03-29T00:00:00",
                    "2020-12-27T00:00:00",
                    "2020-09-29T00:00:00",
                    "2020-06-29T00:00:00",
                    "2020-03-27T00:00:00",
                    "2019-12-27T00:00:00",
                    "2019-09-28T00:00:00",
                    "2019-06-28T00:00:00",
                    "2019-03-29T00:00:00",
                    "2018-12-27T00:00:00",
                    "2018-09-28T00:00:00",
                    "2018-06-29T00:00:00",
                    "2018-03-29T00:00:00",
                    "2017-12-29T00:00:00",
                    "2017-09-29T00:00:00",
                    "2017-06-29T00:00:00",
                    "2017-03-29T00:00:00",
                    "2016-12-29T00:00:00",
                    "2016-09-29T00:00:00",
                    "2016-06-29T00:00:00",
                    "2016-03-29T00:00:00",
                    "2015-12-29T00:00:00",
                    "2015-09-29T00:00:00",
                    "2015-06-29T00:00:00",
                    "2015-03-29T00:00:00",
                    "2014-12-29T00:00:00",
                    "2014-09-29T00:00:00",
                    "2014-06-27T00:00:00",
                    "2014-03-28T00:00:00"
                  ],
                  "xaxis": "x",
                  "y": [
                    2.583649632916348,
                    3.3408669345846818,
                    2.9793067161352838,
                    4.127582394301996,
                    3.7226742846492016,
                    3.2463702327726054,
                    2.5243977148109167,
                    3.8541830452870016,
                    3.235325457790566,
                    3.017805902936061,
                    2.4475643650120986,
                    3.1640866042173457,
                    1.0436333652010177,
                    4.112002961875177,
                    3.1599999999999966,
                    4.685197073335104,
                    2.9330550393599992,
                    1.7206974852993255,
                    0.07643527964663122,
                    1.6203011492798254,
                    1.5320166492971197,
                    2.194563399258584,
                    2.680466597164383,
                    3.9010993533390916,
                    3.4584619713854465,
                    3.9303569514277115,
                    4.0506117691619465,
                    2.9017966651948512,
                    2.784073964906568,
                    2.6537209177328123,
                    2.029911315855216,
                    1.3570904241772155,
                    0.6502056871369604,
                    -0.17696136855518318,
                    -1.231456821005466,
                    2.4081935357990574,
                    2.0760799768591482,
                    2.362743408255824,
                    2.139374420445023,
                    3.494829286867798,
                    2.997701400741178,
                    2.964650553016355,
                    2.3672979889620223
                  ],
                  "yaxis": "y"
                },
                {
                  "fillpattern": {
                    "shape": ""
                  },
                  "hovertemplate": "Ngành=Công nghiệp và xây dựng<br>Date=%{x}<br>YOY=%{y}<extra></extra>",
                  "legendgroup": "Công nghiệp và xây dựng",
                  "line": {
                    "color": "#00cc96"
                  },
                  "marker": {
                    "symbol": "circle"
                  },
                  "mode": "lines",
                  "name": "Công nghiệp và xây dựng",
                  "orientation": "v",
                  "showlegend": true,
                  "stackgroup": "1",
                  "type": "scatter",
                  "x": [
                    "2024-09-29T00:00:00",
                    "2024-06-29T00:00:00",
                    "2024-03-29T00:00:00",
                    "2023-12-29T00:00:00",
                    "2023-09-29T00:00:00",
                    "2023-06-29T00:00:00",
                    "2023-03-29T00:00:00",
                    "2022-12-29T00:00:00",
                    "2022-09-29T00:00:00",
                    "2022-06-29T00:00:00",
                    "2022-03-29T00:00:00",
                    "2021-12-29T00:00:00",
                    "2021-09-29T00:00:00",
                    "2021-06-29T00:00:00",
                    "2021-03-29T00:00:00",
                    "2020-12-27T00:00:00",
                    "2020-09-29T00:00:00",
                    "2020-06-29T00:00:00",
                    "2020-03-27T00:00:00",
                    "2019-12-27T00:00:00",
                    "2019-09-28T00:00:00",
                    "2019-06-28T00:00:00",
                    "2019-03-29T00:00:00",
                    "2018-12-27T00:00:00",
                    "2018-09-28T00:00:00",
                    "2018-06-29T00:00:00",
                    "2018-03-29T00:00:00",
                    "2017-12-29T00:00:00",
                    "2017-09-29T00:00:00",
                    "2017-06-29T00:00:00",
                    "2017-03-29T00:00:00",
                    "2016-12-29T00:00:00",
                    "2016-09-29T00:00:00",
                    "2016-06-29T00:00:00",
                    "2016-03-29T00:00:00",
                    "2015-12-29T00:00:00",
                    "2015-09-29T00:00:00",
                    "2015-06-29T00:00:00",
                    "2015-03-29T00:00:00",
                    "2014-12-29T00:00:00",
                    "2014-09-29T00:00:00",
                    "2014-06-27T00:00:00",
                    "2014-03-28T00:00:00"
                  ],
                  "xaxis": "x",
                  "y": [
                    9.107871105430917,
                    8.285951189547063,
                    6.281638204280512,
                    7.353321223500998,
                    5.192489317215163,
                    2.501354047745423,
                    -0.4043055208035611,
                    4.21827155519685,
                    12.91229858263793,
                    8.867036371747815,
                    6.383478489251587,
                    5.608006563699689,
                    -5.015170557869368,
                    10.280738214049109,
                    6.299999999999997,
                    5.602537524783685,
                    2.949194040996005,
                    1.3780740614048597,
                    5.153737412416632,
                    7.924333301311876,
                    10.048456491018129,
                    9.138458445595973,
                    8.633445487357875,
                    8.653370228799105,
                    8.609625549213334,
                    9.068454546448095,
                    9.701721800991649,
                    8.001548057925362,
                    7.169546690322122,
                    5.813456961688686,
                    4.166218010042357,
                    7.572882564192014,
                    7.503565734905692,
                    7.118913317618606,
                    6.716641062797947,
                    9.638952480016428,
                    9.572970026701654,
                    9.08519528566545,
                    8.352194644937924,
                    7.141674239132257,
                    6.420000000000002,
                    5.332237453351382,
                    4.694344881819944
                  ],
                  "yaxis": "y"
                },
                {
                  "fillpattern": {
                    "shape": ""
                  },
                  "hovertemplate": "Ngành=Dịch vụ<br>Date=%{x}<br>YOY=%{y}<extra></extra>",
                  "legendgroup": "Dịch vụ",
                  "line": {
                    "color": "#ab63fa"
                  },
                  "marker": {
                    "symbol": "circle"
                  },
                  "mode": "lines",
                  "name": "Dịch vụ",
                  "orientation": "v",
                  "showlegend": true,
                  "stackgroup": "1",
                  "type": "scatter",
                  "x": [
                    "2024-09-29T00:00:00",
                    "2024-06-29T00:00:00",
                    "2024-03-29T00:00:00",
                    "2023-12-29T00:00:00",
                    "2023-09-29T00:00:00",
                    "2023-06-29T00:00:00",
                    "2023-03-29T00:00:00",
                    "2022-12-29T00:00:00",
                    "2022-09-29T00:00:00",
                    "2022-06-29T00:00:00",
                    "2022-03-29T00:00:00",
                    "2021-12-29T00:00:00",
                    "2021-09-29T00:00:00",
                    "2021-06-29T00:00:00",
                    "2021-03-29T00:00:00",
                    "2020-12-27T00:00:00",
                    "2020-09-29T00:00:00",
                    "2020-06-29T00:00:00",
                    "2020-03-27T00:00:00",
                    "2019-12-27T00:00:00",
                    "2019-09-28T00:00:00",
                    "2019-06-28T00:00:00",
                    "2019-03-29T00:00:00",
                    "2018-12-27T00:00:00",
                    "2018-09-28T00:00:00",
                    "2018-06-29T00:00:00",
                    "2018-03-29T00:00:00",
                    "2017-12-29T00:00:00",
                    "2017-09-29T00:00:00",
                    "2017-06-29T00:00:00",
                    "2017-03-29T00:00:00",
                    "2016-12-29T00:00:00",
                    "2016-09-29T00:00:00",
                    "2016-06-29T00:00:00",
                    "2016-03-29T00:00:00",
                    "2015-12-29T00:00:00",
                    "2015-09-29T00:00:00",
                    "2015-06-29T00:00:00",
                    "2015-03-29T00:00:00",
                    "2014-12-29T00:00:00",
                    "2014-09-29T00:00:00",
                    "2014-06-27T00:00:00",
                    "2014-03-28T00:00:00"
                  ],
                  "xaxis": "x",
                  "y": [
                    7.505851024897694,
                    7.055690218910087,
                    6.1157088486256725,
                    7.285363394241003,
                    6.236324197325047,
                    6.111660359594097,
                    6.78833688102425,
                    8.116773971564697,
                    18.858286383749572,
                    8.555618577275496,
                    4.578904723951638,
                    5.423593687323944,
                    -9.28336809348663,
                    4.297183022767896,
                    3.3400000000000034,
                    4.289191345938477,
                    2.7538004917699936,
                    -1.7573095086594321,
                    3.2664134395617594,
                    8.094163099830794,
                    7.107393439310044,
                    6.851507335269787,
                    6.495825244093282,
                    7.6054197911446835,
                    6.871007323207266,
                    6.901809129748912,
                    6.698547221691115,
                    7.441965873412656,
                    7.249762867415939,
                    6.849348762237312,
                    6.524839913717244,
                    6.98370044687131,
                    6.661635290488704,
                    6.348941839977627,
                    6.134189299313249,
                    6.325026579013752,
                    6.174444645160975,
                    5.896613586652762,
                    5.821313769355967,
                    5.962169954565709,
                    5.989999999999995,
                    6.007858318830998,
                    5.949713325126126
                  ],
                  "yaxis": "y"
                }
              ],
              "layout": {
                "legend": {
                  "title": {
                    "text": "Ngành"
                  },
                  "tracegroupgap": 0
                },
                "margin": {
                  "t": 60
                },
                "template": {
                  "data": {
                    "bar": [
                      {
                        "error_x": {
                          "color": "#2a3f5f"
                        },
                        "error_y": {
                          "color": "#2a3f5f"
                        },
                        "marker": {
                          "line": {
                            "color": "#E5ECF6",
                            "width": 0.5
                          },
                          "pattern": {
                            "fillmode": "overlay",
                            "size": 10,
                            "solidity": 0.2
                          }
                        },
                        "type": "bar"
                      }
                    ],
                    "barpolar": [
                      {
                        "marker": {
                          "line": {
                            "color": "#E5ECF6",
                            "width": 0.5
                          },
                          "pattern": {
                            "fillmode": "overlay",
                            "size": 10,
                            "solidity": 0.2
                          }
                        },
                        "type": "barpolar"
                      }
                    ],
                    "carpet": [
                      {
                        "aaxis": {
                          "endlinecolor": "#2a3f5f",
                          "gridcolor": "white",
                          "linecolor": "white",
                          "minorgridcolor": "white",
                          "startlinecolor": "#2a3f5f"
                        },
                        "baxis": {
                          "endlinecolor": "#2a3f5f",
                          "gridcolor": "white",
                          "linecolor": "white",
                          "minorgridcolor": "white",
                          "startlinecolor": "#2a3f5f"
                        },
                        "type": "carpet"
                      }
                    ],
                    "choropleth": [
                      {
                        "colorbar": {
                          "outlinewidth": 0,
                          "ticks": ""
                        },
                        "type": "choropleth"
                      }
                    ],
                    "contour": [
                      {
                        "colorbar": {
                          "outlinewidth": 0,
                          "ticks": ""
                        },
                        "colorscale": [
                          [
                            0,
                            "#0d0887"
                          ],
                          [
                            0.1111111111111111,
                            "#46039f"
                          ],
                          [
                            0.2222222222222222,
                            "#7201a8"
                          ],
                          [
                            0.3333333333333333,
                            "#9c179e"
                          ],
                          [
                            0.4444444444444444,
                            "#bd3786"
                          ],
                          [
                            0.5555555555555556,
                            "#d8576b"
                          ],
                          [
                            0.6666666666666666,
                            "#ed7953"
                          ],
                          [
                            0.7777777777777778,
                            "#fb9f3a"
                          ],
                          [
                            0.8888888888888888,
                            "#fdca26"
                          ],
                          [
                            1,
                            "#f0f921"
                          ]
                        ],
                        "type": "contour"
                      }
                    ],
                    "contourcarpet": [
                      {
                        "colorbar": {
                          "outlinewidth": 0,
                          "ticks": ""
                        },
                        "type": "contourcarpet"
                      }
                    ],
                    "heatmap": [
                      {
                        "colorbar": {
                          "outlinewidth": 0,
                          "ticks": ""
                        },
                        "colorscale": [
                          [
                            0,
                            "#0d0887"
                          ],
                          [
                            0.1111111111111111,
                            "#46039f"
                          ],
                          [
                            0.2222222222222222,
                            "#7201a8"
                          ],
                          [
                            0.3333333333333333,
                            "#9c179e"
                          ],
                          [
                            0.4444444444444444,
                            "#bd3786"
                          ],
                          [
                            0.5555555555555556,
                            "#d8576b"
                          ],
                          [
                            0.6666666666666666,
                            "#ed7953"
                          ],
                          [
                            0.7777777777777778,
                            "#fb9f3a"
                          ],
                          [
                            0.8888888888888888,
                            "#fdca26"
                          ],
                          [
                            1,
                            "#f0f921"
                          ]
                        ],
                        "type": "heatmap"
                      }
                    ],
                    "heatmapgl": [
                      {
                        "colorbar": {
                          "outlinewidth": 0,
                          "ticks": ""
                        },
                        "colorscale": [
                          [
                            0,
                            "#0d0887"
                          ],
                          [
                            0.1111111111111111,
                            "#46039f"
                          ],
                          [
                            0.2222222222222222,
                            "#7201a8"
                          ],
                          [
                            0.3333333333333333,
                            "#9c179e"
                          ],
                          [
                            0.4444444444444444,
                            "#bd3786"
                          ],
                          [
                            0.5555555555555556,
                            "#d8576b"
                          ],
                          [
                            0.6666666666666666,
                            "#ed7953"
                          ],
                          [
                            0.7777777777777778,
                            "#fb9f3a"
                          ],
                          [
                            0.8888888888888888,
                            "#fdca26"
                          ],
                          [
                            1,
                            "#f0f921"
                          ]
                        ],
                        "type": "heatmapgl"
                      }
                    ],
                    "histogram": [
                      {
                        "marker": {
                          "pattern": {
                            "fillmode": "overlay",
                            "size": 10,
                            "solidity": 0.2
                          }
                        },
                        "type": "histogram"
                      }
                    ],
                    "histogram2d": [
                      {
                        "colorbar": {
                          "outlinewidth": 0,
                          "ticks": ""
                        },
                        "colorscale": [
                          [
                            0,
                            "#0d0887"
                          ],
                          [
                            0.1111111111111111,
                            "#46039f"
                          ],
                          [
                            0.2222222222222222,
                            "#7201a8"
                          ],
                          [
                            0.3333333333333333,
                            "#9c179e"
                          ],
                          [
                            0.4444444444444444,
                            "#bd3786"
                          ],
                          [
                            0.5555555555555556,
                            "#d8576b"
                          ],
                          [
                            0.6666666666666666,
                            "#ed7953"
                          ],
                          [
                            0.7777777777777778,
                            "#fb9f3a"
                          ],
                          [
                            0.8888888888888888,
                            "#fdca26"
                          ],
                          [
                            1,
                            "#f0f921"
                          ]
                        ],
                        "type": "histogram2d"
                      }
                    ],
                    "histogram2dcontour": [
                      {
                        "colorbar": {
                          "outlinewidth": 0,
                          "ticks": ""
                        },
                        "colorscale": [
                          [
                            0,
                            "#0d0887"
                          ],
                          [
                            0.1111111111111111,
                            "#46039f"
                          ],
                          [
                            0.2222222222222222,
                            "#7201a8"
                          ],
                          [
                            0.3333333333333333,
                            "#9c179e"
                          ],
                          [
                            0.4444444444444444,
                            "#bd3786"
                          ],
                          [
                            0.5555555555555556,
                            "#d8576b"
                          ],
                          [
                            0.6666666666666666,
                            "#ed7953"
                          ],
                          [
                            0.7777777777777778,
                            "#fb9f3a"
                          ],
                          [
                            0.8888888888888888,
                            "#fdca26"
                          ],
                          [
                            1,
                            "#f0f921"
                          ]
                        ],
                        "type": "histogram2dcontour"
                      }
                    ],
                    "mesh3d": [
                      {
                        "colorbar": {
                          "outlinewidth": 0,
                          "ticks": ""
                        },
                        "type": "mesh3d"
                      }
                    ],
                    "parcoords": [
                      {
                        "line": {
                          "colorbar": {
                            "outlinewidth": 0,
                            "ticks": ""
                          }
                        },
                        "type": "parcoords"
                      }
                    ],
                    "pie": [
                      {
                        "automargin": true,
                        "type": "pie"
                      }
                    ],
                    "scatter": [
                      {
                        "fillpattern": {
                          "fillmode": "overlay",
                          "size": 10,
                          "solidity": 0.2
                        },
                        "type": "scatter"
                      }
                    ],
                    "scatter3d": [
                      {
                        "line": {
                          "colorbar": {
                            "outlinewidth": 0,
                            "ticks": ""
                          }
                        },
                        "marker": {
                          "colorbar": {
                            "outlinewidth": 0,
                            "ticks": ""
                          }
                        },
                        "type": "scatter3d"
                      }
                    ],
                    "scattercarpet": [
                      {
                        "marker": {
                          "colorbar": {
                            "outlinewidth": 0,
                            "ticks": ""
                          }
                        },
                        "type": "scattercarpet"
                      }
                    ],
                    "scattergeo": [
                      {
                        "marker": {
                          "colorbar": {
                            "outlinewidth": 0,
                            "ticks": ""
                          }
                        },
                        "type": "scattergeo"
                      }
                    ],
                    "scattergl": [
                      {
                        "marker": {
                          "colorbar": {
                            "outlinewidth": 0,
                            "ticks": ""
                          }
                        },
                        "type": "scattergl"
                      }
                    ],
                    "scattermapbox": [
                      {
                        "marker": {
                          "colorbar": {
                            "outlinewidth": 0,
                            "ticks": ""
                          }
                        },
                        "type": "scattermapbox"
                      }
                    ],
                    "scatterpolar": [
                      {
                        "marker": {
                          "colorbar": {
                            "outlinewidth": 0,
                            "ticks": ""
                          }
                        },
                        "type": "scatterpolar"
                      }
                    ],
                    "scatterpolargl": [
                      {
                        "marker": {
                          "colorbar": {
                            "outlinewidth": 0,
                            "ticks": ""
                          }
                        },
                        "type": "scatterpolargl"
                      }
                    ],
                    "scatterternary": [
                      {
                        "marker": {
                          "colorbar": {
                            "outlinewidth": 0,
                            "ticks": ""
                          }
                        },
                        "type": "scatterternary"
                      }
                    ],
                    "surface": [
                      {
                        "colorbar": {
                          "outlinewidth": 0,
                          "ticks": ""
                        },
                        "colorscale": [
                          [
                            0,
                            "#0d0887"
                          ],
                          [
                            0.1111111111111111,
                            "#46039f"
                          ],
                          [
                            0.2222222222222222,
                            "#7201a8"
                          ],
                          [
                            0.3333333333333333,
                            "#9c179e"
                          ],
                          [
                            0.4444444444444444,
                            "#bd3786"
                          ],
                          [
                            0.5555555555555556,
                            "#d8576b"
                          ],
                          [
                            0.6666666666666666,
                            "#ed7953"
                          ],
                          [
                            0.7777777777777778,
                            "#fb9f3a"
                          ],
                          [
                            0.8888888888888888,
                            "#fdca26"
                          ],
                          [
                            1,
                            "#f0f921"
                          ]
                        ],
                        "type": "surface"
                      }
                    ],
                    "table": [
                      {
                        "cells": {
                          "fill": {
                            "color": "#EBF0F8"
                          },
                          "line": {
                            "color": "white"
                          }
                        },
                        "header": {
                          "fill": {
                            "color": "#C8D4E3"
                          },
                          "line": {
                            "color": "white"
                          }
                        },
                        "type": "table"
                      }
                    ]
                  },
                  "layout": {
                    "annotationdefaults": {
                      "arrowcolor": "#2a3f5f",
                      "arrowhead": 0,
                      "arrowwidth": 1
                    },
                    "autotypenumbers": "strict",
                    "coloraxis": {
                      "colorbar": {
                        "outlinewidth": 0,
                        "ticks": ""
                      }
                    },
                    "colorscale": {
                      "diverging": [
                        [
                          0,
                          "#8e0152"
                        ],
                        [
                          0.1,
                          "#c51b7d"
                        ],
                        [
                          0.2,
                          "#de77ae"
                        ],
                        [
                          0.3,
                          "#f1b6da"
                        ],
                        [
                          0.4,
                          "#fde0ef"
                        ],
                        [
                          0.5,
                          "#f7f7f7"
                        ],
                        [
                          0.6,
                          "#e6f5d0"
                        ],
                        [
                          0.7,
                          "#b8e186"
                        ],
                        [
                          0.8,
                          "#7fbc41"
                        ],
                        [
                          0.9,
                          "#4d9221"
                        ],
                        [
                          1,
                          "#276419"
                        ]
                      ],
                      "sequential": [
                        [
                          0,
                          "#0d0887"
                        ],
                        [
                          0.1111111111111111,
                          "#46039f"
                        ],
                        [
                          0.2222222222222222,
                          "#7201a8"
                        ],
                        [
                          0.3333333333333333,
                          "#9c179e"
                        ],
                        [
                          0.4444444444444444,
                          "#bd3786"
                        ],
                        [
                          0.5555555555555556,
                          "#d8576b"
                        ],
                        [
                          0.6666666666666666,
                          "#ed7953"
                        ],
                        [
                          0.7777777777777778,
                          "#fb9f3a"
                        ],
                        [
                          0.8888888888888888,
                          "#fdca26"
                        ],
                        [
                          1,
                          "#f0f921"
                        ]
                      ],
                      "sequentialminus": [
                        [
                          0,
                          "#0d0887"
                        ],
                        [
                          0.1111111111111111,
                          "#46039f"
                        ],
                        [
                          0.2222222222222222,
                          "#7201a8"
                        ],
                        [
                          0.3333333333333333,
                          "#9c179e"
                        ],
                        [
                          0.4444444444444444,
                          "#bd3786"
                        ],
                        [
                          0.5555555555555556,
                          "#d8576b"
                        ],
                        [
                          0.6666666666666666,
                          "#ed7953"
                        ],
                        [
                          0.7777777777777778,
                          "#fb9f3a"
                        ],
                        [
                          0.8888888888888888,
                          "#fdca26"
                        ],
                        [
                          1,
                          "#f0f921"
                        ]
                      ]
                    },
                    "colorway": [
                      "#636efa",
                      "#EF553B",
                      "#00cc96",
                      "#ab63fa",
                      "#FFA15A",
                      "#19d3f3",
                      "#FF6692",
                      "#B6E880",
                      "#FF97FF",
                      "#FECB52"
                    ],
                    "font": {
                      "color": "#2a3f5f"
                    },
                    "geo": {
                      "bgcolor": "white",
                      "lakecolor": "white",
                      "landcolor": "#E5ECF6",
                      "showlakes": true,
                      "showland": true,
                      "subunitcolor": "white"
                    },
                    "hoverlabel": {
                      "align": "left"
                    },
                    "hovermode": "closest",
                    "mapbox": {
                      "style": "light"
                    },
                    "paper_bgcolor": "white",
                    "plot_bgcolor": "#E5ECF6",
                    "polar": {
                      "angularaxis": {
                        "gridcolor": "white",
                        "linecolor": "white",
                        "ticks": ""
                      },
                      "bgcolor": "#E5ECF6",
                      "radialaxis": {
                        "gridcolor": "white",
                        "linecolor": "white",
                        "ticks": ""
                      }
                    },
                    "scene": {
                      "xaxis": {
                        "backgroundcolor": "#E5ECF6",
                        "gridcolor": "white",
                        "gridwidth": 2,
                        "linecolor": "white",
                        "showbackground": true,
                        "ticks": "",
                        "zerolinecolor": "white"
                      },
                      "yaxis": {
                        "backgroundcolor": "#E5ECF6",
                        "gridcolor": "white",
                        "gridwidth": 2,
                        "linecolor": "white",
                        "showbackground": true,
                        "ticks": "",
                        "zerolinecolor": "white"
                      },
                      "zaxis": {
                        "backgroundcolor": "#E5ECF6",
                        "gridcolor": "white",
                        "gridwidth": 2,
                        "linecolor": "white",
                        "showbackground": true,
                        "ticks": "",
                        "zerolinecolor": "white"
                      }
                    },
                    "shapedefaults": {
                      "line": {
                        "color": "#2a3f5f"
                      }
                    },
                    "ternary": {
                      "aaxis": {
                        "gridcolor": "white",
                        "linecolor": "white",
                        "ticks": ""
                      },
                      "baxis": {
                        "gridcolor": "white",
                        "linecolor": "white",
                        "ticks": ""
                      },
                      "bgcolor": "#E5ECF6",
                      "caxis": {
                        "gridcolor": "white",
                        "linecolor": "white",
                        "ticks": ""
                      }
                    },
                    "title": {
                      "x": 0.05
                    },
                    "xaxis": {
                      "automargin": true,
                      "gridcolor": "white",
                      "linecolor": "white",
                      "ticks": "",
                      "title": {
                        "standoff": 15
                      },
                      "zerolinecolor": "white",
                      "zerolinewidth": 2
                    },
                    "yaxis": {
                      "automargin": true,
                      "gridcolor": "white",
                      "linecolor": "white",
                      "ticks": "",
                      "title": {
                        "standoff": 15
                      },
                      "zerolinecolor": "white",
                      "zerolinewidth": 2
                    }
                  }
                },
                "xaxis": {
                  "anchor": "y",
                  "domain": [
                    0,
                    1
                  ],
                  "rangeselector": {
                    "buttons": [
                      {
                        "count": 1,
                        "label": "YTD",
                        "step": "year",
                        "stepmode": "todate"
                      },
                      {
                        "count": 1,
                        "label": "1y",
                        "step": "year",
                        "stepmode": "backward"
                      },
                      {
                        "count": 3,
                        "label": "3y",
                        "step": "year",
                        "stepmode": "backward"
                      },
                      {
                        "count": 5,
                        "label": "5y",
                        "step": "year",
                        "stepmode": "backward"
                      },
                      {
                        "count": 7,
                        "label": "7y",
                        "step": "year",
                        "stepmode": "backward"
                      },
                      {
                        "count": 10,
                        "label": "10y",
                        "step": "year",
                        "stepmode": "backward"
                      },
                      {
                        "step": "all"
                      }
                    ]
                  },
                  "rangeslider": {
                    "visible": true
                  },
                  "title": {
                    "text": "Date"
                  }
                },
                "yaxis": {
                  "anchor": "x",
                  "domain": [
                    0,
                    1
                  ],
                  "title": {
                    "text": "YOY"
                  }
                }
              }
            }
          },
          "metadata": {},
          "output_type": "display_data"
        }
      ],
      "source": [
        "import pandas as pd\n",
        "import plotly.express as px\n",
        "import plotly.graph_objects as go\n",
        "\n",
        "df_show = dfs_gdp_ss[\n",
        "    (\n",
        "        (dfs_gdp_ss[\"Ngành\"] == \"TỔNG SỐ\")\n",
        "        | (dfs_gdp_ss[\"Ngành\"] == \"Nông, lâm nghiệp và thủy sản\")\n",
        "        | (dfs_gdp_ss[\"Ngành\"] == \"Công nghiệp và xây dựng\")\n",
        "        | (dfs_gdp_ss[\"Ngành\"] == \"Dịch vụ\")\n",
        "    )\n",
        "]\n",
        "\n",
        "fig = px.area(df_show, x=\"Date\", y=\"YOY\", color=\"Ngành\")\n",
        "\n",
        "fig.update_xaxes(\n",
        "    rangeslider_visible=True,\n",
        "    rangeselector=dict(\n",
        "        buttons=[\n",
        "            dict(count=1, label=\"YTD\", step=\"year\", stepmode=\"todate\"),\n",
        "            dict(count=1, label=\"1y\", step=\"year\", stepmode=\"backward\"),\n",
        "            dict(count=3, label=\"3y\", step=\"year\", stepmode=\"backward\"),\n",
        "            dict(count=5, label=\"5y\", step=\"year\", stepmode=\"backward\"),\n",
        "            dict(count=7, label=\"7y\", step=\"year\", stepmode=\"backward\"),\n",
        "            dict(count=10, label=\"10y\", step=\"year\", stepmode=\"backward\"),\n",
        "            dict(step=\"all\"),\n",
        "        ]\n",
        "    ),\n",
        ")\n",
        "\n",
        "fig.show()"
      ]
    },
    {
      "cell_type": "code",
      "execution_count": 28,
      "metadata": {},
      "outputs": [
        {
          "data": {
            "application/vnd.plotly.v1+json": {
              "config": {
                "plotlyServerURL": "https://plot.ly"
              },
              "data": [
                {
                  "fillpattern": {
                    "shape": ""
                  },
                  "hovertemplate": "Ngành=Công nghiệp chế biến, chế tạo<br>Date=%{x}<br>YOY=%{y}<extra></extra>",
                  "legendgroup": "Công nghiệp chế biến, chế tạo",
                  "line": {
                    "color": "#636efa"
                  },
                  "marker": {
                    "symbol": "circle"
                  },
                  "mode": "lines",
                  "name": "Công nghiệp chế biến, chế tạo",
                  "orientation": "v",
                  "showlegend": true,
                  "stackgroup": "1",
                  "type": "scatter",
                  "x": [
                    "2024-09-29T00:00:00",
                    "2024-06-29T00:00:00",
                    "2024-03-29T00:00:00",
                    "2023-12-29T00:00:00",
                    "2023-09-29T00:00:00",
                    "2023-06-29T00:00:00",
                    "2023-03-29T00:00:00",
                    "2022-12-29T00:00:00",
                    "2022-09-29T00:00:00",
                    "2022-06-29T00:00:00",
                    "2022-03-29T00:00:00",
                    "2021-12-29T00:00:00",
                    "2021-09-29T00:00:00",
                    "2021-06-29T00:00:00",
                    "2021-03-29T00:00:00",
                    "2020-12-27T00:00:00",
                    "2020-09-29T00:00:00",
                    "2020-06-29T00:00:00",
                    "2020-03-27T00:00:00",
                    "2019-12-27T00:00:00",
                    "2019-09-28T00:00:00",
                    "2019-06-28T00:00:00",
                    "2019-03-29T00:00:00",
                    "2018-12-27T00:00:00",
                    "2018-09-28T00:00:00",
                    "2018-06-29T00:00:00",
                    "2018-03-29T00:00:00",
                    "2017-12-29T00:00:00",
                    "2017-09-29T00:00:00",
                    "2017-06-29T00:00:00",
                    "2017-03-29T00:00:00",
                    "2016-12-29T00:00:00",
                    "2016-09-29T00:00:00",
                    "2016-06-29T00:00:00",
                    "2016-03-29T00:00:00",
                    "2015-12-29T00:00:00",
                    "2015-09-29T00:00:00",
                    "2015-06-29T00:00:00",
                    "2015-03-29T00:00:00",
                    "2014-12-29T00:00:00",
                    "2014-09-29T00:00:00",
                    "2014-06-27T00:00:00",
                    "2014-03-28T00:00:00"
                  ],
                  "xaxis": "x",
                  "y": [
                    11.412316439070452,
                    10.04295518340173,
                    6.979778118595675,
                    7.966167919553001,
                    5.611653419713207,
                    1.176332799229641,
                    -0.37088282594453403,
                    2.980469564378893,
                    13.019935076219923,
                    11.450546709705534,
                    7.792414224189571,
                    7.96262680422744,
                    -3.236058286506676,
                    13.836540297731133,
                    9.450000000000003,
                    8.63155375164611,
                    3.8587273418850003,
                    3.201999133249828,
                    7.11999999999999,
                    10.862531232477068,
                    11.680000000000007,
                    10.904804169691332,
                    12.350999999999999,
                    13.061634109818755,
                    12.056335841070577,
                    13.02000000000001,
                    13.556468557090966,
                    14.400050072382854,
                    12.769999999999996,
                    10.519999999999996,
                    8.299999999999997,
                    11.900000000000006,
                    11.220000000000013,
                    10.099999999999994,
                    7.8999999999999915,
                    10.600000000000009,
                    10.149999999999991,
                    9.949999999999989,
                    9.509999999999991,
                    8.450000000000003,
                    8.571430998750486,
                    7.886013770031326,
                    7.299999999999997
                  ],
                  "yaxis": "y"
                },
                {
                  "fillpattern": {
                    "shape": ""
                  },
                  "hovertemplate": "Ngành=Sản xuất và phân phối điện, khí đốt, nước nóng, hơi nước và điều hòa không khí<br>Date=%{x}<br>YOY=%{y}<extra></extra>",
                  "legendgroup": "Sản xuất và phân phối điện, khí đốt, nước nóng, hơi nước và điều hòa không khí",
                  "line": {
                    "color": "#EF553B"
                  },
                  "marker": {
                    "symbol": "circle"
                  },
                  "mode": "lines",
                  "name": "Sản xuất và phân phối điện, khí đốt, nước nóng, hơi nước và điều hòa không khí",
                  "orientation": "v",
                  "showlegend": true,
                  "stackgroup": "1",
                  "type": "scatter",
                  "x": [
                    "2024-09-29T00:00:00",
                    "2024-06-29T00:00:00",
                    "2024-03-29T00:00:00",
                    "2023-12-29T00:00:00",
                    "2023-09-29T00:00:00",
                    "2023-06-29T00:00:00",
                    "2023-03-29T00:00:00",
                    "2022-12-29T00:00:00",
                    "2022-09-29T00:00:00",
                    "2022-06-29T00:00:00",
                    "2022-03-29T00:00:00",
                    "2021-12-29T00:00:00",
                    "2021-09-29T00:00:00",
                    "2021-06-29T00:00:00",
                    "2021-03-29T00:00:00",
                    "2020-12-27T00:00:00",
                    "2020-09-29T00:00:00",
                    "2020-06-29T00:00:00",
                    "2020-03-27T00:00:00",
                    "2019-12-27T00:00:00",
                    "2019-09-28T00:00:00",
                    "2019-06-28T00:00:00",
                    "2019-03-29T00:00:00",
                    "2018-12-27T00:00:00",
                    "2018-09-28T00:00:00",
                    "2018-06-29T00:00:00",
                    "2018-03-29T00:00:00",
                    "2017-12-29T00:00:00",
                    "2017-09-29T00:00:00",
                    "2017-06-29T00:00:00",
                    "2017-03-29T00:00:00",
                    "2016-12-29T00:00:00",
                    "2016-09-29T00:00:00",
                    "2016-06-29T00:00:00",
                    "2016-03-29T00:00:00",
                    "2015-12-29T00:00:00",
                    "2015-09-29T00:00:00",
                    "2015-06-29T00:00:00",
                    "2015-03-29T00:00:00",
                    "2014-12-29T00:00:00",
                    "2014-09-29T00:00:00",
                    "2014-06-27T00:00:00",
                    "2014-03-28T00:00:00"
                  ],
                  "xaxis": "x",
                  "y": [
                    8.061132107641768,
                    14.147989788595709,
                    11.968186950287674,
                    7.756862171475007,
                    5.986556962068775,
                    3.6958549509891014,
                    -0.31863082127773623,
                    4.49069937099307,
                    11.163029802459107,
                    5.168148587121408,
                    7.4211509999999805,
                    5.483911601276063,
                    -1.1787584461904288,
                    11.901140736008983,
                    4.5,
                    4.361854709831391,
                    3.968581985702997,
                    -1.0277622609364556,
                    7.459999999999994,
                    6.12756769864032,
                    10.830000000000013,
                    10.759157014381216,
                    9.600000000000009,
                    11.873325150983007,
                    8.886423337986528,
                    10.200000000000003,
                    10.5,
                    9.40018266906992,
                    8.870000000000005,
                    8,
                    9.5,
                    11.600000000000009,
                    12.099999999999994,
                    11.700000000000003,
                    13.099999999999994,
                    11.400000000000006,
                    11.299999999999997,
                    11.200000000000017,
                    11.900000000000006,
                    12.099999999999994,
                    10.842451243024612,
                    10.756436995479717,
                    9.200000000000003
                  ],
                  "yaxis": "y"
                }
              ],
              "layout": {
                "legend": {
                  "title": {
                    "text": "Ngành"
                  },
                  "tracegroupgap": 0
                },
                "margin": {
                  "t": 60
                },
                "template": {
                  "data": {
                    "bar": [
                      {
                        "error_x": {
                          "color": "#2a3f5f"
                        },
                        "error_y": {
                          "color": "#2a3f5f"
                        },
                        "marker": {
                          "line": {
                            "color": "#E5ECF6",
                            "width": 0.5
                          },
                          "pattern": {
                            "fillmode": "overlay",
                            "size": 10,
                            "solidity": 0.2
                          }
                        },
                        "type": "bar"
                      }
                    ],
                    "barpolar": [
                      {
                        "marker": {
                          "line": {
                            "color": "#E5ECF6",
                            "width": 0.5
                          },
                          "pattern": {
                            "fillmode": "overlay",
                            "size": 10,
                            "solidity": 0.2
                          }
                        },
                        "type": "barpolar"
                      }
                    ],
                    "carpet": [
                      {
                        "aaxis": {
                          "endlinecolor": "#2a3f5f",
                          "gridcolor": "white",
                          "linecolor": "white",
                          "minorgridcolor": "white",
                          "startlinecolor": "#2a3f5f"
                        },
                        "baxis": {
                          "endlinecolor": "#2a3f5f",
                          "gridcolor": "white",
                          "linecolor": "white",
                          "minorgridcolor": "white",
                          "startlinecolor": "#2a3f5f"
                        },
                        "type": "carpet"
                      }
                    ],
                    "choropleth": [
                      {
                        "colorbar": {
                          "outlinewidth": 0,
                          "ticks": ""
                        },
                        "type": "choropleth"
                      }
                    ],
                    "contour": [
                      {
                        "colorbar": {
                          "outlinewidth": 0,
                          "ticks": ""
                        },
                        "colorscale": [
                          [
                            0,
                            "#0d0887"
                          ],
                          [
                            0.1111111111111111,
                            "#46039f"
                          ],
                          [
                            0.2222222222222222,
                            "#7201a8"
                          ],
                          [
                            0.3333333333333333,
                            "#9c179e"
                          ],
                          [
                            0.4444444444444444,
                            "#bd3786"
                          ],
                          [
                            0.5555555555555556,
                            "#d8576b"
                          ],
                          [
                            0.6666666666666666,
                            "#ed7953"
                          ],
                          [
                            0.7777777777777778,
                            "#fb9f3a"
                          ],
                          [
                            0.8888888888888888,
                            "#fdca26"
                          ],
                          [
                            1,
                            "#f0f921"
                          ]
                        ],
                        "type": "contour"
                      }
                    ],
                    "contourcarpet": [
                      {
                        "colorbar": {
                          "outlinewidth": 0,
                          "ticks": ""
                        },
                        "type": "contourcarpet"
                      }
                    ],
                    "heatmap": [
                      {
                        "colorbar": {
                          "outlinewidth": 0,
                          "ticks": ""
                        },
                        "colorscale": [
                          [
                            0,
                            "#0d0887"
                          ],
                          [
                            0.1111111111111111,
                            "#46039f"
                          ],
                          [
                            0.2222222222222222,
                            "#7201a8"
                          ],
                          [
                            0.3333333333333333,
                            "#9c179e"
                          ],
                          [
                            0.4444444444444444,
                            "#bd3786"
                          ],
                          [
                            0.5555555555555556,
                            "#d8576b"
                          ],
                          [
                            0.6666666666666666,
                            "#ed7953"
                          ],
                          [
                            0.7777777777777778,
                            "#fb9f3a"
                          ],
                          [
                            0.8888888888888888,
                            "#fdca26"
                          ],
                          [
                            1,
                            "#f0f921"
                          ]
                        ],
                        "type": "heatmap"
                      }
                    ],
                    "heatmapgl": [
                      {
                        "colorbar": {
                          "outlinewidth": 0,
                          "ticks": ""
                        },
                        "colorscale": [
                          [
                            0,
                            "#0d0887"
                          ],
                          [
                            0.1111111111111111,
                            "#46039f"
                          ],
                          [
                            0.2222222222222222,
                            "#7201a8"
                          ],
                          [
                            0.3333333333333333,
                            "#9c179e"
                          ],
                          [
                            0.4444444444444444,
                            "#bd3786"
                          ],
                          [
                            0.5555555555555556,
                            "#d8576b"
                          ],
                          [
                            0.6666666666666666,
                            "#ed7953"
                          ],
                          [
                            0.7777777777777778,
                            "#fb9f3a"
                          ],
                          [
                            0.8888888888888888,
                            "#fdca26"
                          ],
                          [
                            1,
                            "#f0f921"
                          ]
                        ],
                        "type": "heatmapgl"
                      }
                    ],
                    "histogram": [
                      {
                        "marker": {
                          "pattern": {
                            "fillmode": "overlay",
                            "size": 10,
                            "solidity": 0.2
                          }
                        },
                        "type": "histogram"
                      }
                    ],
                    "histogram2d": [
                      {
                        "colorbar": {
                          "outlinewidth": 0,
                          "ticks": ""
                        },
                        "colorscale": [
                          [
                            0,
                            "#0d0887"
                          ],
                          [
                            0.1111111111111111,
                            "#46039f"
                          ],
                          [
                            0.2222222222222222,
                            "#7201a8"
                          ],
                          [
                            0.3333333333333333,
                            "#9c179e"
                          ],
                          [
                            0.4444444444444444,
                            "#bd3786"
                          ],
                          [
                            0.5555555555555556,
                            "#d8576b"
                          ],
                          [
                            0.6666666666666666,
                            "#ed7953"
                          ],
                          [
                            0.7777777777777778,
                            "#fb9f3a"
                          ],
                          [
                            0.8888888888888888,
                            "#fdca26"
                          ],
                          [
                            1,
                            "#f0f921"
                          ]
                        ],
                        "type": "histogram2d"
                      }
                    ],
                    "histogram2dcontour": [
                      {
                        "colorbar": {
                          "outlinewidth": 0,
                          "ticks": ""
                        },
                        "colorscale": [
                          [
                            0,
                            "#0d0887"
                          ],
                          [
                            0.1111111111111111,
                            "#46039f"
                          ],
                          [
                            0.2222222222222222,
                            "#7201a8"
                          ],
                          [
                            0.3333333333333333,
                            "#9c179e"
                          ],
                          [
                            0.4444444444444444,
                            "#bd3786"
                          ],
                          [
                            0.5555555555555556,
                            "#d8576b"
                          ],
                          [
                            0.6666666666666666,
                            "#ed7953"
                          ],
                          [
                            0.7777777777777778,
                            "#fb9f3a"
                          ],
                          [
                            0.8888888888888888,
                            "#fdca26"
                          ],
                          [
                            1,
                            "#f0f921"
                          ]
                        ],
                        "type": "histogram2dcontour"
                      }
                    ],
                    "mesh3d": [
                      {
                        "colorbar": {
                          "outlinewidth": 0,
                          "ticks": ""
                        },
                        "type": "mesh3d"
                      }
                    ],
                    "parcoords": [
                      {
                        "line": {
                          "colorbar": {
                            "outlinewidth": 0,
                            "ticks": ""
                          }
                        },
                        "type": "parcoords"
                      }
                    ],
                    "pie": [
                      {
                        "automargin": true,
                        "type": "pie"
                      }
                    ],
                    "scatter": [
                      {
                        "fillpattern": {
                          "fillmode": "overlay",
                          "size": 10,
                          "solidity": 0.2
                        },
                        "type": "scatter"
                      }
                    ],
                    "scatter3d": [
                      {
                        "line": {
                          "colorbar": {
                            "outlinewidth": 0,
                            "ticks": ""
                          }
                        },
                        "marker": {
                          "colorbar": {
                            "outlinewidth": 0,
                            "ticks": ""
                          }
                        },
                        "type": "scatter3d"
                      }
                    ],
                    "scattercarpet": [
                      {
                        "marker": {
                          "colorbar": {
                            "outlinewidth": 0,
                            "ticks": ""
                          }
                        },
                        "type": "scattercarpet"
                      }
                    ],
                    "scattergeo": [
                      {
                        "marker": {
                          "colorbar": {
                            "outlinewidth": 0,
                            "ticks": ""
                          }
                        },
                        "type": "scattergeo"
                      }
                    ],
                    "scattergl": [
                      {
                        "marker": {
                          "colorbar": {
                            "outlinewidth": 0,
                            "ticks": ""
                          }
                        },
                        "type": "scattergl"
                      }
                    ],
                    "scattermapbox": [
                      {
                        "marker": {
                          "colorbar": {
                            "outlinewidth": 0,
                            "ticks": ""
                          }
                        },
                        "type": "scattermapbox"
                      }
                    ],
                    "scatterpolar": [
                      {
                        "marker": {
                          "colorbar": {
                            "outlinewidth": 0,
                            "ticks": ""
                          }
                        },
                        "type": "scatterpolar"
                      }
                    ],
                    "scatterpolargl": [
                      {
                        "marker": {
                          "colorbar": {
                            "outlinewidth": 0,
                            "ticks": ""
                          }
                        },
                        "type": "scatterpolargl"
                      }
                    ],
                    "scatterternary": [
                      {
                        "marker": {
                          "colorbar": {
                            "outlinewidth": 0,
                            "ticks": ""
                          }
                        },
                        "type": "scatterternary"
                      }
                    ],
                    "surface": [
                      {
                        "colorbar": {
                          "outlinewidth": 0,
                          "ticks": ""
                        },
                        "colorscale": [
                          [
                            0,
                            "#0d0887"
                          ],
                          [
                            0.1111111111111111,
                            "#46039f"
                          ],
                          [
                            0.2222222222222222,
                            "#7201a8"
                          ],
                          [
                            0.3333333333333333,
                            "#9c179e"
                          ],
                          [
                            0.4444444444444444,
                            "#bd3786"
                          ],
                          [
                            0.5555555555555556,
                            "#d8576b"
                          ],
                          [
                            0.6666666666666666,
                            "#ed7953"
                          ],
                          [
                            0.7777777777777778,
                            "#fb9f3a"
                          ],
                          [
                            0.8888888888888888,
                            "#fdca26"
                          ],
                          [
                            1,
                            "#f0f921"
                          ]
                        ],
                        "type": "surface"
                      }
                    ],
                    "table": [
                      {
                        "cells": {
                          "fill": {
                            "color": "#EBF0F8"
                          },
                          "line": {
                            "color": "white"
                          }
                        },
                        "header": {
                          "fill": {
                            "color": "#C8D4E3"
                          },
                          "line": {
                            "color": "white"
                          }
                        },
                        "type": "table"
                      }
                    ]
                  },
                  "layout": {
                    "annotationdefaults": {
                      "arrowcolor": "#2a3f5f",
                      "arrowhead": 0,
                      "arrowwidth": 1
                    },
                    "autotypenumbers": "strict",
                    "coloraxis": {
                      "colorbar": {
                        "outlinewidth": 0,
                        "ticks": ""
                      }
                    },
                    "colorscale": {
                      "diverging": [
                        [
                          0,
                          "#8e0152"
                        ],
                        [
                          0.1,
                          "#c51b7d"
                        ],
                        [
                          0.2,
                          "#de77ae"
                        ],
                        [
                          0.3,
                          "#f1b6da"
                        ],
                        [
                          0.4,
                          "#fde0ef"
                        ],
                        [
                          0.5,
                          "#f7f7f7"
                        ],
                        [
                          0.6,
                          "#e6f5d0"
                        ],
                        [
                          0.7,
                          "#b8e186"
                        ],
                        [
                          0.8,
                          "#7fbc41"
                        ],
                        [
                          0.9,
                          "#4d9221"
                        ],
                        [
                          1,
                          "#276419"
                        ]
                      ],
                      "sequential": [
                        [
                          0,
                          "#0d0887"
                        ],
                        [
                          0.1111111111111111,
                          "#46039f"
                        ],
                        [
                          0.2222222222222222,
                          "#7201a8"
                        ],
                        [
                          0.3333333333333333,
                          "#9c179e"
                        ],
                        [
                          0.4444444444444444,
                          "#bd3786"
                        ],
                        [
                          0.5555555555555556,
                          "#d8576b"
                        ],
                        [
                          0.6666666666666666,
                          "#ed7953"
                        ],
                        [
                          0.7777777777777778,
                          "#fb9f3a"
                        ],
                        [
                          0.8888888888888888,
                          "#fdca26"
                        ],
                        [
                          1,
                          "#f0f921"
                        ]
                      ],
                      "sequentialminus": [
                        [
                          0,
                          "#0d0887"
                        ],
                        [
                          0.1111111111111111,
                          "#46039f"
                        ],
                        [
                          0.2222222222222222,
                          "#7201a8"
                        ],
                        [
                          0.3333333333333333,
                          "#9c179e"
                        ],
                        [
                          0.4444444444444444,
                          "#bd3786"
                        ],
                        [
                          0.5555555555555556,
                          "#d8576b"
                        ],
                        [
                          0.6666666666666666,
                          "#ed7953"
                        ],
                        [
                          0.7777777777777778,
                          "#fb9f3a"
                        ],
                        [
                          0.8888888888888888,
                          "#fdca26"
                        ],
                        [
                          1,
                          "#f0f921"
                        ]
                      ]
                    },
                    "colorway": [
                      "#636efa",
                      "#EF553B",
                      "#00cc96",
                      "#ab63fa",
                      "#FFA15A",
                      "#19d3f3",
                      "#FF6692",
                      "#B6E880",
                      "#FF97FF",
                      "#FECB52"
                    ],
                    "font": {
                      "color": "#2a3f5f"
                    },
                    "geo": {
                      "bgcolor": "white",
                      "lakecolor": "white",
                      "landcolor": "#E5ECF6",
                      "showlakes": true,
                      "showland": true,
                      "subunitcolor": "white"
                    },
                    "hoverlabel": {
                      "align": "left"
                    },
                    "hovermode": "closest",
                    "mapbox": {
                      "style": "light"
                    },
                    "paper_bgcolor": "white",
                    "plot_bgcolor": "#E5ECF6",
                    "polar": {
                      "angularaxis": {
                        "gridcolor": "white",
                        "linecolor": "white",
                        "ticks": ""
                      },
                      "bgcolor": "#E5ECF6",
                      "radialaxis": {
                        "gridcolor": "white",
                        "linecolor": "white",
                        "ticks": ""
                      }
                    },
                    "scene": {
                      "xaxis": {
                        "backgroundcolor": "#E5ECF6",
                        "gridcolor": "white",
                        "gridwidth": 2,
                        "linecolor": "white",
                        "showbackground": true,
                        "ticks": "",
                        "zerolinecolor": "white"
                      },
                      "yaxis": {
                        "backgroundcolor": "#E5ECF6",
                        "gridcolor": "white",
                        "gridwidth": 2,
                        "linecolor": "white",
                        "showbackground": true,
                        "ticks": "",
                        "zerolinecolor": "white"
                      },
                      "zaxis": {
                        "backgroundcolor": "#E5ECF6",
                        "gridcolor": "white",
                        "gridwidth": 2,
                        "linecolor": "white",
                        "showbackground": true,
                        "ticks": "",
                        "zerolinecolor": "white"
                      }
                    },
                    "shapedefaults": {
                      "line": {
                        "color": "#2a3f5f"
                      }
                    },
                    "ternary": {
                      "aaxis": {
                        "gridcolor": "white",
                        "linecolor": "white",
                        "ticks": ""
                      },
                      "baxis": {
                        "gridcolor": "white",
                        "linecolor": "white",
                        "ticks": ""
                      },
                      "bgcolor": "#E5ECF6",
                      "caxis": {
                        "gridcolor": "white",
                        "linecolor": "white",
                        "ticks": ""
                      }
                    },
                    "title": {
                      "x": 0.05
                    },
                    "xaxis": {
                      "automargin": true,
                      "gridcolor": "white",
                      "linecolor": "white",
                      "ticks": "",
                      "title": {
                        "standoff": 15
                      },
                      "zerolinecolor": "white",
                      "zerolinewidth": 2
                    },
                    "yaxis": {
                      "automargin": true,
                      "gridcolor": "white",
                      "linecolor": "white",
                      "ticks": "",
                      "title": {
                        "standoff": 15
                      },
                      "zerolinecolor": "white",
                      "zerolinewidth": 2
                    }
                  }
                },
                "xaxis": {
                  "anchor": "y",
                  "domain": [
                    0,
                    1
                  ],
                  "rangeselector": {
                    "buttons": [
                      {
                        "count": 1,
                        "label": "YTD",
                        "step": "year",
                        "stepmode": "todate"
                      },
                      {
                        "count": 1,
                        "label": "1y",
                        "step": "year",
                        "stepmode": "backward"
                      },
                      {
                        "count": 3,
                        "label": "3y",
                        "step": "year",
                        "stepmode": "backward"
                      },
                      {
                        "count": 5,
                        "label": "5y",
                        "step": "year",
                        "stepmode": "backward"
                      },
                      {
                        "count": 7,
                        "label": "7y",
                        "step": "year",
                        "stepmode": "backward"
                      },
                      {
                        "count": 10,
                        "label": "10y",
                        "step": "year",
                        "stepmode": "backward"
                      },
                      {
                        "step": "all"
                      }
                    ]
                  },
                  "rangeslider": {
                    "visible": true
                  },
                  "title": {
                    "text": "Date"
                  }
                },
                "yaxis": {
                  "anchor": "x",
                  "domain": [
                    0,
                    1
                  ],
                  "title": {
                    "text": "YOY"
                  }
                }
              }
            }
          },
          "metadata": {},
          "output_type": "display_data"
        }
      ],
      "source": [
        "import pandas as pd\n",
        "import plotly.express as px\n",
        "import plotly.graph_objects as go\n",
        "\n",
        "df_show = dfs_gdp_ss[\n",
        "    (\n",
        "        (dfs_gdp_ss[\"Ngành\"] == \"Công nghiệp chế biến, chế tạo\")\n",
        "        | (\n",
        "            dfs_gdp_ss[\"Ngành\"]\n",
        "            == \"Sản xuất và phân phối điện, khí đốt, nước nóng, hơi nước và điều hòa không khí\"\n",
        "        )\n",
        "    )\n",
        "]\n",
        "\n",
        "fig = px.area(df_show, x=\"Date\", y=\"YOY\", color=\"Ngành\")\n",
        "\n",
        "fig.update_xaxes(\n",
        "    rangeslider_visible=True,\n",
        "    rangeselector=dict(\n",
        "        buttons=[\n",
        "            dict(count=1, label=\"YTD\", step=\"year\", stepmode=\"todate\"),\n",
        "            dict(count=1, label=\"1y\", step=\"year\", stepmode=\"backward\"),\n",
        "            dict(count=3, label=\"3y\", step=\"year\", stepmode=\"backward\"),\n",
        "            dict(count=5, label=\"5y\", step=\"year\", stepmode=\"backward\"),\n",
        "            dict(count=7, label=\"7y\", step=\"year\", stepmode=\"backward\"),\n",
        "            dict(count=10, label=\"10y\", step=\"year\", stepmode=\"backward\"),\n",
        "            dict(step=\"all\"),\n",
        "        ]\n",
        "    ),\n",
        ")\n",
        "\n",
        "fig.show()"
      ]
    },
    {
      "cell_type": "code",
      "execution_count": null,
      "metadata": {},
      "outputs": [],
      "source": []
    },
    {
      "cell_type": "code",
      "execution_count": null,
      "metadata": {},
      "outputs": [],
      "source": []
    }
  ],
  "metadata": {
    "kernelspec": {
      "display_name": "vn-macroeconomics",
      "language": "python",
      "name": "python3"
    },
    "language_info": {
      "codemirror_mode": {
        "name": "ipython",
        "version": 3
      },
      "file_extension": ".py",
      "mimetype": "text/x-python",
      "name": "python",
      "nbconvert_exporter": "python",
      "pygments_lexer": "ipython3",
      "version": "3.10.14"
    },
    "orig_nbformat": 4
  },
  "nbformat": 4,
  "nbformat_minor": 2
}
