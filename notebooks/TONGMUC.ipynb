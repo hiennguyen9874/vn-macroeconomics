{
  "cells": [
    {
      "cell_type": "code",
      "execution_count": 1,
      "metadata": {},
      "outputs": [],
      "source": [
        "import os\n",
        "import contextlib\n",
        "\n",
        "import pandas as pd\n",
        "import seaborn as sns\n",
        "from datetime import date\n",
        "import plotly.express as px\n",
        "import plotly.graph_objects as go\n",
        "import pandas as pd\n",
        "import seaborn as sns\n",
        "import numpy as np\n",
        "from datetime import date, timedelta"
      ]
    },
    {
      "cell_type": "code",
      "execution_count": 2,
      "metadata": {},
      "outputs": [],
      "source": [
        "def find_sheet_name(sheet_names):\n",
        "    cpi_sheet_names = list(\n",
        "        filter(lambda x: \"tongmuc\" in x.lower() and \"22-23\" not in x, sheet_names)\n",
        "    )\n",
        "\n",
        "    if len(cpi_sheet_names) == 1:\n",
        "        return cpi_sheet_names[0]\n",
        "\n",
        "    cpi_sheet_names = list(filter(lambda x: \"tongmuc\" in x.lower(), sheet_names))\n",
        "\n",
        "    if len(cpi_sheet_names) == 1:\n",
        "        return cpi_sheet_names[0]\n",
        "\n",
        "    cpi_sheet_names = list(filter(lambda x: \"tong muc\" in x.lower(), sheet_names))\n",
        "\n",
        "    if len(cpi_sheet_names) == 1:\n",
        "        return cpi_sheet_names[0]\n",
        "\n",
        "    cpi_sheet_names = list(\n",
        "        filter(lambda x: \"tm\" in x.lower() and \"xnk\" not in x.lower(), sheet_names)\n",
        "    )\n",
        "\n",
        "    if len(cpi_sheet_names) == 1:\n",
        "        return cpi_sheet_names[0]\n",
        "\n",
        "    if len(sheet_names) == 43:\n",
        "        return \"23-24\"\n",
        "\n",
        "    cpi_sheet_names = list(filter(lambda x: \"sheet1 (2)\" in x.lower(), sheet_names))\n",
        "\n",
        "    if len(cpi_sheet_names) == 1:\n",
        "        return cpi_sheet_names[0]\n",
        "\n",
        "    raise RuntimeError(sheet_names, len(sheet_names))"
      ]
    },
    {
      "cell_type": "code",
      "execution_count": 3,
      "metadata": {},
      "outputs": [],
      "source": [
        "en_to_vn = {\n",
        "    \"TOTAL\": \"TỔNG SỐ\",\n",
        "    \"Retail sale\": \"Bán lẻ hàng hóa\",\n",
        "    \"Accommodation and catering service\": \"Dịch vụ lưu trú, ăn uống\",\n",
        "    \"Traveling service\": \"Du lịch lữ hành\",\n",
        "    \"Other services\": \"Dịch vụ khác\",\n",
        "}"
      ]
    },
    {
      "cell_type": "code",
      "execution_count": 4,
      "metadata": {},
      "outputs": [
        {
          "data": {
            "text/html": [
              "<div>\n",
              "<style scoped>\n",
              "    .dataframe tbody tr th:only-of-type {\n",
              "        vertical-align: middle;\n",
              "    }\n",
              "\n",
              "    .dataframe tbody tr th {\n",
              "        vertical-align: top;\n",
              "    }\n",
              "\n",
              "    .dataframe thead th {\n",
              "        text-align: right;\n",
              "    }\n",
              "</style>\n",
              "<table border=\"1\" class=\"dataframe\">\n",
              "  <thead>\n",
              "    <tr style=\"text-align: right;\">\n",
              "      <th></th>\n",
              "      <th>Phân Loại</th>\n",
              "      <th>M</th>\n",
              "      <th>M-YOY</th>\n",
              "      <th>YTD</th>\n",
              "      <th>YTD-YOY</th>\n",
              "      <th>Pre-M</th>\n",
              "      <th>MOM</th>\n",
              "      <th>Date</th>\n",
              "      <th>Month</th>\n",
              "      <th>PreMonth</th>\n",
              "    </tr>\n",
              "  </thead>\n",
              "  <tbody>\n",
              "    <tr>\n",
              "      <th>0</th>\n",
              "      <td>TỔNG SỐ</td>\n",
              "      <td>361073.369564</td>\n",
              "      <td>109.489143</td>\n",
              "      <td>361073.369564</td>\n",
              "      <td>109.489143</td>\n",
              "      <td>NaN</td>\n",
              "      <td>NaN</td>\n",
              "      <td>2018-01-29</td>\n",
              "      <td>2018-01</td>\n",
              "      <td>2017-12</td>\n",
              "    </tr>\n",
              "    <tr>\n",
              "      <th>1</th>\n",
              "      <td>Bán lẻ hàng hóa</td>\n",
              "      <td>272004.314564</td>\n",
              "      <td>108.281373</td>\n",
              "      <td>272004.314564</td>\n",
              "      <td>108.281373</td>\n",
              "      <td>NaN</td>\n",
              "      <td>NaN</td>\n",
              "      <td>2018-01-29</td>\n",
              "      <td>2018-01</td>\n",
              "      <td>2017-12</td>\n",
              "    </tr>\n",
              "    <tr>\n",
              "      <th>2</th>\n",
              "      <td>Dịch vụ lưu trú, ăn uống</td>\n",
              "      <td>45089.807</td>\n",
              "      <td>114.702543</td>\n",
              "      <td>45089.807</td>\n",
              "      <td>114.702543</td>\n",
              "      <td>NaN</td>\n",
              "      <td>NaN</td>\n",
              "      <td>2018-01-29</td>\n",
              "      <td>2018-01</td>\n",
              "      <td>2017-12</td>\n",
              "    </tr>\n",
              "    <tr>\n",
              "      <th>3</th>\n",
              "      <td>Du lịch lữ hành</td>\n",
              "      <td>3931.896</td>\n",
              "      <td>139.271392</td>\n",
              "      <td>3931.896</td>\n",
              "      <td>139.271392</td>\n",
              "      <td>NaN</td>\n",
              "      <td>NaN</td>\n",
              "      <td>2018-01-29</td>\n",
              "      <td>2018-01</td>\n",
              "      <td>2017-12</td>\n",
              "    </tr>\n",
              "    <tr>\n",
              "      <th>4</th>\n",
              "      <td>Dịch vụ khác</td>\n",
              "      <td>40047.352</td>\n",
              "      <td>109.883508</td>\n",
              "      <td>40047.352</td>\n",
              "      <td>109.883508</td>\n",
              "      <td>NaN</td>\n",
              "      <td>NaN</td>\n",
              "      <td>2018-01-29</td>\n",
              "      <td>2018-01</td>\n",
              "      <td>2017-12</td>\n",
              "    </tr>\n",
              "  </tbody>\n",
              "</table>\n",
              "</div>"
            ],
            "text/plain": [
              "                  Phân Loại              M       M-YOY            YTD  \\\n",
              "0                   TỔNG SỐ  361073.369564  109.489143  361073.369564   \n",
              "1           Bán lẻ hàng hóa  272004.314564  108.281373  272004.314564   \n",
              "2  Dịch vụ lưu trú, ăn uống      45089.807  114.702543      45089.807   \n",
              "3           Du lịch lữ hành       3931.896  139.271392       3931.896   \n",
              "4              Dịch vụ khác      40047.352  109.883508      40047.352   \n",
              "\n",
              "      YTD-YOY  Pre-M  MOM       Date    Month PreMonth  \n",
              "0  109.489143    NaN  NaN 2018-01-29  2018-01  2017-12  \n",
              "1  108.281373    NaN  NaN 2018-01-29  2018-01  2017-12  \n",
              "2  114.702543    NaN  NaN 2018-01-29  2018-01  2017-12  \n",
              "3  139.271392    NaN  NaN 2018-01-29  2018-01  2017-12  \n",
              "4  109.883508    NaN  NaN 2018-01-29  2018-01  2017-12  "
            ]
          },
          "execution_count": 4,
          "metadata": {},
          "output_type": "execute_result"
        }
      ],
      "source": [
        "def get_tongmuc(xl, sheet_name, date):\n",
        "    df = xl.parse(sheet_name)\n",
        "\n",
        "    df = df.dropna(axis=1, how=\"all\")\n",
        "\n",
        "    if (\n",
        "        len(\n",
        "            df[df.columns[1]][\n",
        "                (df[df.columns[1]] == \"Bán lẻ hàng hóa\")\n",
        "                | (df[df.columns[1]] == \"Retail sale \")\n",
        "                | (df[df.columns[1]] == \"Thương nghiệp\")\n",
        "            ].index\n",
        "        )\n",
        "        > 0\n",
        "    ):\n",
        "        df[df.columns[1]] = df[df.columns[1]].fillna(df[df.columns[0]])\n",
        "        df = df.drop(columns=[df.columns[0]])\n",
        "\n",
        "    df[df.columns[0]] = (\n",
        "        df[df.columns[0]]\n",
        "        .replace(r\"\\s+\", \" \", regex=True)\n",
        "        .replace(r\"\\n\", \" \", regex=True)\n",
        "    )\n",
        "\n",
        "    df[df.columns[0]] = df[df.columns[0]].str.strip()\n",
        "\n",
        "    df = df.drop(\n",
        "        list(\n",
        "            range(\n",
        "                df[df.columns[0]][\n",
        "                    (df[df.columns[0]] == \"TỔNG SỐ\")\n",
        "                    | ((df[df.columns[0]] == \"TOTAL\"))\n",
        "                    | ((df[df.columns[0]] == \"Tổng số\"))\n",
        "                ].index[0]\n",
        "            )\n",
        "        )\n",
        "    )\n",
        "\n",
        "    df = df.reset_index(drop=True)\n",
        "\n",
        "    df = df.drop(\n",
        "        list(\n",
        "            range(\n",
        "                df[df.columns[0]][\n",
        "                    (df[df.columns[0]] == \"Dịch vụ khác\")\n",
        "                    | ((df[df.columns[0]] == \"Other services\"))\n",
        "                    | ((df[df.columns[0]] == \"Dịch vụ\"))\n",
        "                ].index[0]\n",
        "                + 1,\n",
        "                len(df.index),\n",
        "            )\n",
        "        )\n",
        "    )\n",
        "\n",
        "    df = df.dropna(axis=1, how=\"all\")\n",
        "\n",
        "    if len(df[df.columns[0]][df[df.columns[0]] == \"TOTAL\"].index) > 0:\n",
        "        df[df.columns[0]] = df[df.columns[0]].map(en_to_vn)\n",
        "\n",
        "    if len(df.columns) == 7:\n",
        "        df = df.drop(columns=[df.columns[4]])\n",
        "        df.columns = [\"Phân Loại\", \"Pre-M\", \"M\", \"YTD\", \"M-YOY\", \"YTD-YOY\"]\n",
        "    elif len(df.columns) == 4 and int(date.split(\"-\")[1]) == 1:\n",
        "        df = df.drop(columns=[df.columns[2]])\n",
        "        df.columns = [\"Phân Loại\", \"M\", \"M-YOY\"]\n",
        "        df[\"YTD\"] = df[\"M\"]\n",
        "        df[\"YTD-YOY\"] = df[\"M-YOY\"]\n",
        "        df[\"Pre-M\"] = np.nan\n",
        "    elif len(df.columns) == 5 and int(date.split(\"-\")[1]) == 1:\n",
        "        df = df.drop(columns=[df.columns[3]])\n",
        "        df.columns = [\"Phân Loại\", \"Pre-M\", \"M\", \"M-YOY\"]\n",
        "        df[\"YTD\"] = df[\"M\"]\n",
        "        df[\"YTD-YOY\"] = df[\"M-YOY\"]\n",
        "    elif len(df.columns) == 5:\n",
        "        df = df.drop(columns=[df.columns[3]])\n",
        "        df.columns = [\"Phân Loại\", \"M\", \"YTD\", \"YTD-YOY\"]\n",
        "        df[\"Pre-M\"] = np.nan\n",
        "        df[\"M-YOY\"] = np.nan\n",
        "\n",
        "    df = df[pd.to_numeric(df[\"M\"], errors=\"coerce\").notnull()]\n",
        "    df = df[pd.to_numeric(df[\"YTD\"], errors=\"coerce\").notnull()]\n",
        "    df = df[pd.to_numeric(df[\"YTD-YOY\"], errors=\"coerce\").notnull()]\n",
        "\n",
        "    df[\"MOM\"] = 100 * (df[\"M\"] / df[\"Pre-M\"]) - 100\n",
        "\n",
        "    df[\"Date\"] = date\n",
        "    df[\"Date\"] = pd.to_datetime(df[\"Date\"], dayfirst=False)\n",
        "\n",
        "    df[\"Month\"] = df[\"Date\"].dt.strftime(\"%Y-%m\")\n",
        "    df[\"PreMonth\"] = (\n",
        "        df[\"Date\"]\n",
        "        .apply(\n",
        "            lambda x: (\n",
        "                x.replace(month=x.month - 1, day=1)\n",
        "                if x.month > 1\n",
        "                else x.replace(year=x.year - 1, month=12, day=1)\n",
        "            )\n",
        "        )\n",
        "        .dt.strftime(\"%Y-%m\")\n",
        "    )\n",
        "\n",
        "    # df[\"PreYearMonth\"] = (\n",
        "    #     df[\"Date\"]\n",
        "    #     .apply(lambda x: x.replace(year=x.year - 1, day=1))\n",
        "    #     .dt.strftime(\"%Y-%m\")\n",
        "    # )\n",
        "\n",
        "    return df\n",
        "\n",
        "\n",
        "xl = pd.ExcelFile(\"../datas/2018-01-29-Bieu-01-2018-1.xlsx\")\n",
        "\n",
        "sheet_name = find_sheet_name(xl.sheet_names)\n",
        "\n",
        "get_tongmuc(xl, sheet_name, \"2018-01-29\")"
      ]
    },
    {
      "cell_type": "code",
      "execution_count": 5,
      "metadata": {},
      "outputs": [],
      "source": [
        "import os\n",
        "import contextlib\n",
        "\n",
        "dfs_tongmuc_origin = []\n",
        "for file_name in sorted(\n",
        "    os.listdir(\"../datas\"),\n",
        "    key=lambda filename: f\"{filename.split('-')[0]}-{filename.split('-')[1]}-{filename.split('-')[2]}\",\n",
        "    reverse=True,\n",
        "):\n",
        "    if file_name.startswith(\".~\"):\n",
        "        continue\n",
        "\n",
        "    try:\n",
        "        file_path = os.path.join(\"../datas\", file_name)\n",
        "\n",
        "        year = int(file_name.split(\"-\")[0])\n",
        "        month = int(file_name.split(\"-\")[1])\n",
        "        day = int(file_name.split(\"-\")[2])\n",
        "\n",
        "        if year < 2012:\n",
        "            continue\n",
        "\n",
        "        xl = pd.ExcelFile(file_path)\n",
        "\n",
        "        df_tongmuc = get_tongmuc(\n",
        "            xl, find_sheet_name(xl.sheet_names), f\"{year}-{month}-{day}\"\n",
        "        )\n",
        "\n",
        "        dfs_tongmuc_origin.append(df_tongmuc)\n",
        "    except Exception as e:\n",
        "        print(file_name)\n",
        "        raise e"
      ]
    },
    {
      "cell_type": "code",
      "execution_count": 6,
      "metadata": {},
      "outputs": [
        {
          "data": {
            "text/html": [
              "<div>\n",
              "<style scoped>\n",
              "    .dataframe tbody tr th:only-of-type {\n",
              "        vertical-align: middle;\n",
              "    }\n",
              "\n",
              "    .dataframe tbody tr th {\n",
              "        vertical-align: top;\n",
              "    }\n",
              "\n",
              "    .dataframe thead th {\n",
              "        text-align: right;\n",
              "    }\n",
              "</style>\n",
              "<table border=\"1\" class=\"dataframe\">\n",
              "  <thead>\n",
              "    <tr style=\"text-align: right;\">\n",
              "      <th></th>\n",
              "      <th>Phân Loại</th>\n",
              "      <th>Pre-M</th>\n",
              "      <th>M</th>\n",
              "      <th>YTD</th>\n",
              "      <th>M-YOY</th>\n",
              "      <th>YTD-YOY</th>\n",
              "      <th>MOM</th>\n",
              "      <th>Date</th>\n",
              "      <th>Month</th>\n",
              "      <th>PreMonth</th>\n",
              "    </tr>\n",
              "  </thead>\n",
              "  <tbody>\n",
              "    <tr>\n",
              "      <th>0</th>\n",
              "      <td>TỔNG SỐ</td>\n",
              "      <td>529241.810992</td>\n",
              "      <td>535773.057468</td>\n",
              "      <td>4703401.100649</td>\n",
              "      <td>107.633866</td>\n",
              "      <td>108.766954</td>\n",
              "      <td>1.234076</td>\n",
              "      <td>2024-09-29</td>\n",
              "      <td>2024-09</td>\n",
              "      <td>2024-08</td>\n",
              "    </tr>\n",
              "    <tr>\n",
              "      <th>1</th>\n",
              "      <td>Bán lẻ hàng hóa</td>\n",
              "      <td>404976.899502</td>\n",
              "      <td>411272.176621</td>\n",
              "      <td>3630236.294753</td>\n",
              "      <td>107.701305</td>\n",
              "      <td>107.935716</td>\n",
              "      <td>1.554478</td>\n",
              "      <td>2024-09-29</td>\n",
              "      <td>2024-09</td>\n",
              "      <td>2024-08</td>\n",
              "    </tr>\n",
              "    <tr>\n",
              "      <th>2</th>\n",
              "      <td>Dịch vụ lưu trú, ăn uống</td>\n",
              "      <td>62448.1</td>\n",
              "      <td>61727.36592</td>\n",
              "      <td>542962.435595</td>\n",
              "      <td>107.940005</td>\n",
              "      <td>113.567093</td>\n",
              "      <td>-1.154133</td>\n",
              "      <td>2024-09-29</td>\n",
              "      <td>2024-09</td>\n",
              "      <td>2024-08</td>\n",
              "    </tr>\n",
              "    <tr>\n",
              "      <th>3</th>\n",
              "      <td>Du lịch lữ hành</td>\n",
              "      <td>5256.777925</td>\n",
              "      <td>5058.37734</td>\n",
              "      <td>45606.55</td>\n",
              "      <td>101.86326</td>\n",
              "      <td>116.656543</td>\n",
              "      <td>-3.774186</td>\n",
              "      <td>2024-09-29</td>\n",
              "      <td>2024-09</td>\n",
              "      <td>2024-08</td>\n",
              "    </tr>\n",
              "    <tr>\n",
              "      <th>4</th>\n",
              "      <td>Dịch vụ khác</td>\n",
              "      <td>56559.974373</td>\n",
              "      <td>57715.137587</td>\n",
              "      <td>484595.827</td>\n",
              "      <td>107.36221</td>\n",
              "      <td>109.200397</td>\n",
              "      <td>2.042369</td>\n",
              "      <td>2024-09-29</td>\n",
              "      <td>2024-09</td>\n",
              "      <td>2024-08</td>\n",
              "    </tr>\n",
              "    <tr>\n",
              "      <th>...</th>\n",
              "      <td>...</td>\n",
              "      <td>...</td>\n",
              "      <td>...</td>\n",
              "      <td>...</td>\n",
              "      <td>...</td>\n",
              "      <td>...</td>\n",
              "      <td>...</td>\n",
              "      <td>...</td>\n",
              "      <td>...</td>\n",
              "      <td>...</td>\n",
              "    </tr>\n",
              "    <tr>\n",
              "      <th>943</th>\n",
              "      <td>Khu vực có vốn đầu tư nước ngoài</td>\n",
              "      <td>NaN</td>\n",
              "      <td>5617</td>\n",
              "      <td>5617</td>\n",
              "      <td>135.36</td>\n",
              "      <td>135.36</td>\n",
              "      <td>NaN</td>\n",
              "      <td>2012-01-30</td>\n",
              "      <td>2012-01</td>\n",
              "      <td>2011-12</td>\n",
              "    </tr>\n",
              "    <tr>\n",
              "      <th>944</th>\n",
              "      <td>Thương nghiệp</td>\n",
              "      <td>NaN</td>\n",
              "      <td>149653</td>\n",
              "      <td>149653</td>\n",
              "      <td>121.23</td>\n",
              "      <td>121.23</td>\n",
              "      <td>NaN</td>\n",
              "      <td>2012-01-30</td>\n",
              "      <td>2012-01</td>\n",
              "      <td>2011-12</td>\n",
              "    </tr>\n",
              "    <tr>\n",
              "      <th>945</th>\n",
              "      <td>Khách sạn, nhà hàng</td>\n",
              "      <td>NaN</td>\n",
              "      <td>21991</td>\n",
              "      <td>21991</td>\n",
              "      <td>133.33</td>\n",
              "      <td>133.33</td>\n",
              "      <td>NaN</td>\n",
              "      <td>2012-01-30</td>\n",
              "      <td>2012-01</td>\n",
              "      <td>2011-12</td>\n",
              "    </tr>\n",
              "    <tr>\n",
              "      <th>946</th>\n",
              "      <td>Du lịch</td>\n",
              "      <td>NaN</td>\n",
              "      <td>1362</td>\n",
              "      <td>1362</td>\n",
              "      <td>111.1</td>\n",
              "      <td>111.1</td>\n",
              "      <td>NaN</td>\n",
              "      <td>2012-01-30</td>\n",
              "      <td>2012-01</td>\n",
              "      <td>2011-12</td>\n",
              "    </tr>\n",
              "    <tr>\n",
              "      <th>947</th>\n",
              "      <td>Dịch vụ</td>\n",
              "      <td>NaN</td>\n",
              "      <td>18055</td>\n",
              "      <td>18055</td>\n",
              "      <td>116.93</td>\n",
              "      <td>116.93</td>\n",
              "      <td>NaN</td>\n",
              "      <td>2012-01-30</td>\n",
              "      <td>2012-01</td>\n",
              "      <td>2011-12</td>\n",
              "    </tr>\n",
              "  </tbody>\n",
              "</table>\n",
              "<p>948 rows × 10 columns</p>\n",
              "</div>"
            ],
            "text/plain": [
              "                            Phân Loại          Pre-M              M  \\\n",
              "0                             TỔNG SỐ  529241.810992  535773.057468   \n",
              "1                     Bán lẻ hàng hóa  404976.899502  411272.176621   \n",
              "2            Dịch vụ lưu trú, ăn uống        62448.1    61727.36592   \n",
              "3                     Du lịch lữ hành    5256.777925     5058.37734   \n",
              "4                        Dịch vụ khác   56559.974373   57715.137587   \n",
              "..                                ...            ...            ...   \n",
              "943  Khu vực có vốn đầu tư nước ngoài            NaN           5617   \n",
              "944                     Thương nghiệp            NaN         149653   \n",
              "945               Khách sạn, nhà hàng            NaN          21991   \n",
              "946                           Du lịch            NaN           1362   \n",
              "947                           Dịch vụ            NaN          18055   \n",
              "\n",
              "                YTD       M-YOY     YTD-YOY       MOM       Date    Month  \\\n",
              "0    4703401.100649  107.633866  108.766954  1.234076 2024-09-29  2024-09   \n",
              "1    3630236.294753  107.701305  107.935716  1.554478 2024-09-29  2024-09   \n",
              "2     542962.435595  107.940005  113.567093 -1.154133 2024-09-29  2024-09   \n",
              "3          45606.55   101.86326  116.656543 -3.774186 2024-09-29  2024-09   \n",
              "4        484595.827   107.36221  109.200397  2.042369 2024-09-29  2024-09   \n",
              "..              ...         ...         ...       ...        ...      ...   \n",
              "943            5617      135.36      135.36       NaN 2012-01-30  2012-01   \n",
              "944          149653      121.23      121.23       NaN 2012-01-30  2012-01   \n",
              "945           21991      133.33      133.33       NaN 2012-01-30  2012-01   \n",
              "946            1362       111.1       111.1       NaN 2012-01-30  2012-01   \n",
              "947           18055      116.93      116.93       NaN 2012-01-30  2012-01   \n",
              "\n",
              "    PreMonth  \n",
              "0    2024-08  \n",
              "1    2024-08  \n",
              "2    2024-08  \n",
              "3    2024-08  \n",
              "4    2024-08  \n",
              "..       ...  \n",
              "943  2011-12  \n",
              "944  2011-12  \n",
              "945  2011-12  \n",
              "946  2011-12  \n",
              "947  2011-12  \n",
              "\n",
              "[948 rows x 10 columns]"
            ]
          },
          "execution_count": 6,
          "metadata": {},
          "output_type": "execute_result"
        }
      ],
      "source": [
        "dfs_tongmuc = pd.concat(dfs_tongmuc_origin, ignore_index=True, axis=0)\n",
        "dfs_tongmuc"
      ]
    },
    {
      "cell_type": "code",
      "execution_count": 7,
      "metadata": {},
      "outputs": [
        {
          "data": {
            "text/html": [
              "<div>\n",
              "<style scoped>\n",
              "    .dataframe tbody tr th:only-of-type {\n",
              "        vertical-align: middle;\n",
              "    }\n",
              "\n",
              "    .dataframe tbody tr th {\n",
              "        vertical-align: top;\n",
              "    }\n",
              "\n",
              "    .dataframe thead th {\n",
              "        text-align: right;\n",
              "    }\n",
              "</style>\n",
              "<table border=\"1\" class=\"dataframe\">\n",
              "  <thead>\n",
              "    <tr style=\"text-align: right;\">\n",
              "      <th></th>\n",
              "      <th>Phân Loại</th>\n",
              "      <th>Pre-M</th>\n",
              "      <th>M</th>\n",
              "      <th>YTD</th>\n",
              "      <th>M-YOY</th>\n",
              "      <th>YTD-YOY</th>\n",
              "      <th>MOM</th>\n",
              "      <th>Date</th>\n",
              "      <th>Month</th>\n",
              "      <th>PreMonth</th>\n",
              "    </tr>\n",
              "  </thead>\n",
              "  <tbody>\n",
              "    <tr>\n",
              "      <th>0</th>\n",
              "      <td>TỔNG SỐ</td>\n",
              "      <td>529241.810992</td>\n",
              "      <td>535773.057468</td>\n",
              "      <td>4703401.100649</td>\n",
              "      <td>107.633866</td>\n",
              "      <td>108.766954</td>\n",
              "      <td>1.234076</td>\n",
              "      <td>2024-09-29</td>\n",
              "      <td>2024-09</td>\n",
              "      <td>2024-08</td>\n",
              "    </tr>\n",
              "    <tr>\n",
              "      <th>1</th>\n",
              "      <td>Bán lẻ hàng hóa</td>\n",
              "      <td>404976.899502</td>\n",
              "      <td>411272.176621</td>\n",
              "      <td>3630236.294753</td>\n",
              "      <td>107.701305</td>\n",
              "      <td>107.935716</td>\n",
              "      <td>1.554478</td>\n",
              "      <td>2024-09-29</td>\n",
              "      <td>2024-09</td>\n",
              "      <td>2024-08</td>\n",
              "    </tr>\n",
              "    <tr>\n",
              "      <th>2</th>\n",
              "      <td>Dịch vụ lưu trú, ăn uống</td>\n",
              "      <td>62448.1</td>\n",
              "      <td>61727.36592</td>\n",
              "      <td>542962.435595</td>\n",
              "      <td>107.940005</td>\n",
              "      <td>113.567093</td>\n",
              "      <td>-1.154133</td>\n",
              "      <td>2024-09-29</td>\n",
              "      <td>2024-09</td>\n",
              "      <td>2024-08</td>\n",
              "    </tr>\n",
              "    <tr>\n",
              "      <th>3</th>\n",
              "      <td>Du lịch lữ hành</td>\n",
              "      <td>5256.777925</td>\n",
              "      <td>5058.37734</td>\n",
              "      <td>45606.55</td>\n",
              "      <td>101.86326</td>\n",
              "      <td>116.656543</td>\n",
              "      <td>-3.774186</td>\n",
              "      <td>2024-09-29</td>\n",
              "      <td>2024-09</td>\n",
              "      <td>2024-08</td>\n",
              "    </tr>\n",
              "    <tr>\n",
              "      <th>4</th>\n",
              "      <td>Dịch vụ khác</td>\n",
              "      <td>56559.974373</td>\n",
              "      <td>57715.137587</td>\n",
              "      <td>484595.827</td>\n",
              "      <td>107.36221</td>\n",
              "      <td>109.200397</td>\n",
              "      <td>2.042369</td>\n",
              "      <td>2024-09-29</td>\n",
              "      <td>2024-09</td>\n",
              "      <td>2024-08</td>\n",
              "    </tr>\n",
              "    <tr>\n",
              "      <th>...</th>\n",
              "      <td>...</td>\n",
              "      <td>...</td>\n",
              "      <td>...</td>\n",
              "      <td>...</td>\n",
              "      <td>...</td>\n",
              "      <td>...</td>\n",
              "      <td>...</td>\n",
              "      <td>...</td>\n",
              "      <td>...</td>\n",
              "      <td>...</td>\n",
              "    </tr>\n",
              "    <tr>\n",
              "      <th>943</th>\n",
              "      <td>Khu vực có vốn đầu tư nước ngoài</td>\n",
              "      <td>NaN</td>\n",
              "      <td>5617</td>\n",
              "      <td>5617</td>\n",
              "      <td>135.36</td>\n",
              "      <td>135.36</td>\n",
              "      <td>NaN</td>\n",
              "      <td>2012-01-30</td>\n",
              "      <td>2012-01</td>\n",
              "      <td>2011-12</td>\n",
              "    </tr>\n",
              "    <tr>\n",
              "      <th>944</th>\n",
              "      <td>Bán lẻ hàng hóa</td>\n",
              "      <td>NaN</td>\n",
              "      <td>149653</td>\n",
              "      <td>149653</td>\n",
              "      <td>121.23</td>\n",
              "      <td>121.23</td>\n",
              "      <td>NaN</td>\n",
              "      <td>2012-01-30</td>\n",
              "      <td>2012-01</td>\n",
              "      <td>2011-12</td>\n",
              "    </tr>\n",
              "    <tr>\n",
              "      <th>945</th>\n",
              "      <td>Dịch vụ lưu trú, ăn uống</td>\n",
              "      <td>NaN</td>\n",
              "      <td>21991</td>\n",
              "      <td>21991</td>\n",
              "      <td>133.33</td>\n",
              "      <td>133.33</td>\n",
              "      <td>NaN</td>\n",
              "      <td>2012-01-30</td>\n",
              "      <td>2012-01</td>\n",
              "      <td>2011-12</td>\n",
              "    </tr>\n",
              "    <tr>\n",
              "      <th>946</th>\n",
              "      <td>Du lịch lữ hành</td>\n",
              "      <td>NaN</td>\n",
              "      <td>1362</td>\n",
              "      <td>1362</td>\n",
              "      <td>111.1</td>\n",
              "      <td>111.1</td>\n",
              "      <td>NaN</td>\n",
              "      <td>2012-01-30</td>\n",
              "      <td>2012-01</td>\n",
              "      <td>2011-12</td>\n",
              "    </tr>\n",
              "    <tr>\n",
              "      <th>947</th>\n",
              "      <td>Dịch vụ khác</td>\n",
              "      <td>NaN</td>\n",
              "      <td>18055</td>\n",
              "      <td>18055</td>\n",
              "      <td>116.93</td>\n",
              "      <td>116.93</td>\n",
              "      <td>NaN</td>\n",
              "      <td>2012-01-30</td>\n",
              "      <td>2012-01</td>\n",
              "      <td>2011-12</td>\n",
              "    </tr>\n",
              "  </tbody>\n",
              "</table>\n",
              "<p>948 rows × 10 columns</p>\n",
              "</div>"
            ],
            "text/plain": [
              "                            Phân Loại          Pre-M              M  \\\n",
              "0                             TỔNG SỐ  529241.810992  535773.057468   \n",
              "1                     Bán lẻ hàng hóa  404976.899502  411272.176621   \n",
              "2            Dịch vụ lưu trú, ăn uống        62448.1    61727.36592   \n",
              "3                     Du lịch lữ hành    5256.777925     5058.37734   \n",
              "4                        Dịch vụ khác   56559.974373   57715.137587   \n",
              "..                                ...            ...            ...   \n",
              "943  Khu vực có vốn đầu tư nước ngoài            NaN           5617   \n",
              "944                   Bán lẻ hàng hóa            NaN         149653   \n",
              "945          Dịch vụ lưu trú, ăn uống            NaN          21991   \n",
              "946                   Du lịch lữ hành            NaN           1362   \n",
              "947                      Dịch vụ khác            NaN          18055   \n",
              "\n",
              "                YTD       M-YOY     YTD-YOY       MOM       Date    Month  \\\n",
              "0    4703401.100649  107.633866  108.766954  1.234076 2024-09-29  2024-09   \n",
              "1    3630236.294753  107.701305  107.935716  1.554478 2024-09-29  2024-09   \n",
              "2     542962.435595  107.940005  113.567093 -1.154133 2024-09-29  2024-09   \n",
              "3          45606.55   101.86326  116.656543 -3.774186 2024-09-29  2024-09   \n",
              "4        484595.827   107.36221  109.200397  2.042369 2024-09-29  2024-09   \n",
              "..              ...         ...         ...       ...        ...      ...   \n",
              "943            5617      135.36      135.36       NaN 2012-01-30  2012-01   \n",
              "944          149653      121.23      121.23       NaN 2012-01-30  2012-01   \n",
              "945           21991      133.33      133.33       NaN 2012-01-30  2012-01   \n",
              "946            1362       111.1       111.1       NaN 2012-01-30  2012-01   \n",
              "947           18055      116.93      116.93       NaN 2012-01-30  2012-01   \n",
              "\n",
              "    PreMonth  \n",
              "0    2024-08  \n",
              "1    2024-08  \n",
              "2    2024-08  \n",
              "3    2024-08  \n",
              "4    2024-08  \n",
              "..       ...  \n",
              "943  2011-12  \n",
              "944  2011-12  \n",
              "945  2011-12  \n",
              "946  2011-12  \n",
              "947  2011-12  \n",
              "\n",
              "[948 rows x 10 columns]"
            ]
          },
          "execution_count": 7,
          "metadata": {},
          "output_type": "execute_result"
        }
      ],
      "source": [
        "convert_name = {\n",
        "    \"TỔNG SỐ\": \"TỔNG SỐ\",\n",
        "    \"Bán lẻ hàng hóa\": \"Bán lẻ hàng hóa\",\n",
        "    \"Dịch vụ lưu trú, ăn uống\": \"Dịch vụ lưu trú, ăn uống\",\n",
        "    \"Du lịch lữ hành\": \"Du lịch lữ hành\",\n",
        "    \"Dịch vụ khác\": \"Dịch vụ khác\",\n",
        "    \"Nhà nước\": \"Nhà nước\",\n",
        "    \"Ngoài nhà nước\": \"Ngoài nhà nước\",\n",
        "    \"Khu vực có vốn đầu tư nước ngoài\": \"Khu vực có vốn đầu tư nước ngoài\",\n",
        "    \"Tổng số\": \"TỔNG SỐ\",\n",
        "    \"Thương nghiệp\": \"Bán lẻ hàng hóa\",\n",
        "    \"Khách sạn, nhà hàng\": \"Dịch vụ lưu trú, ăn uống\",\n",
        "    \"Du lịch\": \"Du lịch lữ hành\",\n",
        "    \"Dịch vụ\": \"Dịch vụ khác\",\n",
        "    \"Tập thể\": \"Tập thể\",\n",
        "    \"Tư nhân\": \"Tư nhân\",\n",
        "    \"Cá thể\": \"Cá thể\",\n",
        "}\n",
        "\n",
        "for pl in dfs_tongmuc[\"Phân Loại\"].unique().tolist():\n",
        "    assert pl in convert_name.keys(), dfs_tongmuc[dfs_tongmuc[\"Phân Loại\"] == pl]\n",
        "\n",
        "dfs_tongmuc[\"Phân Loại\"] = dfs_tongmuc[\"Phân Loại\"].map(convert_name)\n",
        "dfs_tongmuc"
      ]
    },
    {
      "cell_type": "code",
      "execution_count": 8,
      "metadata": {},
      "outputs": [
        {
          "data": {
            "text/html": [
              "<div>\n",
              "<style scoped>\n",
              "    .dataframe tbody tr th:only-of-type {\n",
              "        vertical-align: middle;\n",
              "    }\n",
              "\n",
              "    .dataframe tbody tr th {\n",
              "        vertical-align: top;\n",
              "    }\n",
              "\n",
              "    .dataframe thead th {\n",
              "        text-align: right;\n",
              "    }\n",
              "</style>\n",
              "<table border=\"1\" class=\"dataframe\">\n",
              "  <thead>\n",
              "    <tr style=\"text-align: right;\">\n",
              "      <th></th>\n",
              "      <th>Phân Loại</th>\n",
              "      <th>Pre-M</th>\n",
              "      <th>E-M</th>\n",
              "      <th>YTD</th>\n",
              "      <th>M-YOY</th>\n",
              "      <th>YTD-YOY</th>\n",
              "      <th>E-MOM</th>\n",
              "      <th>Date</th>\n",
              "      <th>Month</th>\n",
              "      <th>PreMonth</th>\n",
              "      <th>M</th>\n",
              "      <th>MOM</th>\n",
              "    </tr>\n",
              "  </thead>\n",
              "  <tbody>\n",
              "    <tr>\n",
              "      <th>0</th>\n",
              "      <td>TỔNG SỐ</td>\n",
              "      <td>529241.810992</td>\n",
              "      <td>535773.057468</td>\n",
              "      <td>4703401.100649</td>\n",
              "      <td>107.633866</td>\n",
              "      <td>108.766954</td>\n",
              "      <td>1.234076</td>\n",
              "      <td>2024-09-29</td>\n",
              "      <td>2024-09</td>\n",
              "      <td>2024-08</td>\n",
              "      <td>535773.057468</td>\n",
              "      <td>1.234076</td>\n",
              "    </tr>\n",
              "    <tr>\n",
              "      <th>5</th>\n",
              "      <td>TỔNG SỐ</td>\n",
              "      <td>524336.57269</td>\n",
              "      <td>526581.649614</td>\n",
              "      <td>4148354.881803</td>\n",
              "      <td>107.891149</td>\n",
              "      <td>108.458863</td>\n",
              "      <td>0.428175</td>\n",
              "      <td>2024-08-29</td>\n",
              "      <td>2024-08</td>\n",
              "      <td>2024-07</td>\n",
              "      <td>529241.810992</td>\n",
              "      <td>0.935513</td>\n",
              "    </tr>\n",
              "    <tr>\n",
              "      <th>10</th>\n",
              "      <td>TỔNG SỐ</td>\n",
              "      <td>521247.185803</td>\n",
              "      <td>528284.761717</td>\n",
              "      <td>3625721.421217</td>\n",
              "      <td>109.412339</td>\n",
              "      <td>108.676512</td>\n",
              "      <td>1.350142</td>\n",
              "      <td>2024-07-29</td>\n",
              "      <td>2024-07</td>\n",
              "      <td>2024-06</td>\n",
              "      <td>524336.57269</td>\n",
              "      <td>0.592691</td>\n",
              "    </tr>\n",
              "    <tr>\n",
              "      <th>15</th>\n",
              "      <td>TỔNG SỐ</td>\n",
              "      <td>516774.609545</td>\n",
              "      <td>522502.311721</td>\n",
              "      <td>3098691.785417</td>\n",
              "      <td>109.146817</td>\n",
              "      <td>108.595986</td>\n",
              "      <td>1.108356</td>\n",
              "      <td>2024-06-29</td>\n",
              "      <td>2024-06</td>\n",
              "      <td>2024-05</td>\n",
              "      <td>521247.185803</td>\n",
              "      <td>0.865479</td>\n",
              "    </tr>\n",
              "    <tr>\n",
              "      <th>20</th>\n",
              "      <td>TỔNG SỐ</td>\n",
              "      <td>520142.54587</td>\n",
              "      <td>519760.357083</td>\n",
              "      <td>2580175.221234</td>\n",
              "      <td>109.48295</td>\n",
              "      <td>108.652786</td>\n",
              "      <td>-0.073478</td>\n",
              "      <td>2024-05-29</td>\n",
              "      <td>2024-05</td>\n",
              "      <td>2024-04</td>\n",
              "      <td>516774.609545</td>\n",
              "      <td>-0.647503</td>\n",
              "    </tr>\n",
              "    <tr>\n",
              "      <th>...</th>\n",
              "      <td>...</td>\n",
              "      <td>...</td>\n",
              "      <td>...</td>\n",
              "      <td>...</td>\n",
              "      <td>...</td>\n",
              "      <td>...</td>\n",
              "      <td>...</td>\n",
              "      <td>...</td>\n",
              "      <td>...</td>\n",
              "      <td>...</td>\n",
              "      <td>...</td>\n",
              "      <td>...</td>\n",
              "    </tr>\n",
              "    <tr>\n",
              "      <th>898</th>\n",
              "      <td>TỔNG SỐ</td>\n",
              "      <td>NaN</td>\n",
              "      <td>191800</td>\n",
              "      <td>952157</td>\n",
              "      <td>NaN</td>\n",
              "      <td>120.811046</td>\n",
              "      <td>NaN</td>\n",
              "      <td>2012-05-29</td>\n",
              "      <td>2012-05</td>\n",
              "      <td>2012-04</td>\n",
              "      <td>191800</td>\n",
              "      <td>NaN</td>\n",
              "    </tr>\n",
              "    <tr>\n",
              "      <th>908</th>\n",
              "      <td>TỔNG SỐ</td>\n",
              "      <td>NaN</td>\n",
              "      <td>192432</td>\n",
              "      <td>762151</td>\n",
              "      <td>NaN</td>\n",
              "      <td>121.6</td>\n",
              "      <td>NaN</td>\n",
              "      <td>2012-04-30</td>\n",
              "      <td>2012-04</td>\n",
              "      <td>2012-03</td>\n",
              "      <td>192432</td>\n",
              "      <td>NaN</td>\n",
              "    </tr>\n",
              "    <tr>\n",
              "      <th>918</th>\n",
              "      <td>TỔNG SỐ</td>\n",
              "      <td>NaN</td>\n",
              "      <td>189056</td>\n",
              "      <td>569723</td>\n",
              "      <td>NaN</td>\n",
              "      <td>121.8</td>\n",
              "      <td>NaN</td>\n",
              "      <td>2012-03-29</td>\n",
              "      <td>2012-03</td>\n",
              "      <td>2012-02</td>\n",
              "      <td>189056</td>\n",
              "      <td>NaN</td>\n",
              "    </tr>\n",
              "    <tr>\n",
              "      <th>928</th>\n",
              "      <td>TỔNG SỐ</td>\n",
              "      <td>NaN</td>\n",
              "      <td>186463</td>\n",
              "      <td>380280</td>\n",
              "      <td>NaN</td>\n",
              "      <td>122.04</td>\n",
              "      <td>NaN</td>\n",
              "      <td>2012-02-29</td>\n",
              "      <td>2012-02</td>\n",
              "      <td>2012-01</td>\n",
              "      <td>186463</td>\n",
              "      <td>NaN</td>\n",
              "    </tr>\n",
              "    <tr>\n",
              "      <th>938</th>\n",
              "      <td>TỔNG SỐ</td>\n",
              "      <td>NaN</td>\n",
              "      <td>191061</td>\n",
              "      <td>191061</td>\n",
              "      <td>122</td>\n",
              "      <td>122</td>\n",
              "      <td>NaN</td>\n",
              "      <td>2012-01-30</td>\n",
              "      <td>2012-01</td>\n",
              "      <td>2011-12</td>\n",
              "      <td>191061</td>\n",
              "      <td>NaN</td>\n",
              "    </tr>\n",
              "  </tbody>\n",
              "</table>\n",
              "<p>153 rows × 12 columns</p>\n",
              "</div>"
            ],
            "text/plain": [
              "    Phân Loại          Pre-M            E-M             YTD       M-YOY  \\\n",
              "0     TỔNG SỐ  529241.810992  535773.057468  4703401.100649  107.633866   \n",
              "5     TỔNG SỐ   524336.57269  526581.649614  4148354.881803  107.891149   \n",
              "10    TỔNG SỐ  521247.185803  528284.761717  3625721.421217  109.412339   \n",
              "15    TỔNG SỐ  516774.609545  522502.311721  3098691.785417  109.146817   \n",
              "20    TỔNG SỐ   520142.54587  519760.357083  2580175.221234   109.48295   \n",
              "..        ...            ...            ...             ...         ...   \n",
              "898   TỔNG SỐ            NaN         191800          952157         NaN   \n",
              "908   TỔNG SỐ            NaN         192432          762151         NaN   \n",
              "918   TỔNG SỐ            NaN         189056          569723         NaN   \n",
              "928   TỔNG SỐ            NaN         186463          380280         NaN   \n",
              "938   TỔNG SỐ            NaN         191061          191061         122   \n",
              "\n",
              "        YTD-YOY     E-MOM       Date    Month PreMonth              M  \\\n",
              "0    108.766954  1.234076 2024-09-29  2024-09  2024-08  535773.057468   \n",
              "5    108.458863  0.428175 2024-08-29  2024-08  2024-07  529241.810992   \n",
              "10   108.676512  1.350142 2024-07-29  2024-07  2024-06   524336.57269   \n",
              "15   108.595986  1.108356 2024-06-29  2024-06  2024-05  521247.185803   \n",
              "20   108.652786 -0.073478 2024-05-29  2024-05  2024-04  516774.609545   \n",
              "..          ...       ...        ...      ...      ...            ...   \n",
              "898  120.811046       NaN 2012-05-29  2012-05  2012-04         191800   \n",
              "908       121.6       NaN 2012-04-30  2012-04  2012-03         192432   \n",
              "918       121.8       NaN 2012-03-29  2012-03  2012-02         189056   \n",
              "928      122.04       NaN 2012-02-29  2012-02  2012-01         186463   \n",
              "938         122       NaN 2012-01-30  2012-01  2011-12         191061   \n",
              "\n",
              "          MOM  \n",
              "0    1.234076  \n",
              "5    0.935513  \n",
              "10   0.592691  \n",
              "15   0.865479  \n",
              "20  -0.647503  \n",
              "..        ...  \n",
              "898       NaN  \n",
              "908       NaN  \n",
              "918       NaN  \n",
              "928       NaN  \n",
              "938       NaN  \n",
              "\n",
              "[153 rows x 12 columns]"
            ]
          },
          "execution_count": 8,
          "metadata": {},
          "output_type": "execute_result"
        }
      ],
      "source": [
        "merge_df = pd.merge(\n",
        "    left=dfs_tongmuc,\n",
        "    right=dfs_tongmuc,\n",
        "    left_on=[\"Phân Loại\", \"Month\"],\n",
        "    right_on=[\"Phân Loại\", \"PreMonth\"],\n",
        "    how=\"left\",\n",
        ")\n",
        "merge_df[\"Merged_M\"] = np.where(\n",
        "    merge_df[\"Pre-M_y\"].isna(),\n",
        "    merge_df[\"M_x\"],\n",
        "    merge_df[\"Pre-M_y\"],\n",
        ")\n",
        "merge_df = merge_df.drop(\n",
        "    columns=[\n",
        "        \"Pre-M_y\",\n",
        "        \"M_y\",\n",
        "        \"YTD_y\",\n",
        "        \"M-YOY_y\",\n",
        "        \"YTD-YOY_y\",\n",
        "        \"MOM_y\",\n",
        "        \"Date_y\",\n",
        "        \"Month_y\",\n",
        "        \"PreMonth_y\",\n",
        "    ]\n",
        ")\n",
        "merge_df = merge_df.rename(\n",
        "    columns={\n",
        "        \"Pre-M_x\": \"Pre-M\",\n",
        "        \"M_x\": \"E-M\",\n",
        "        \"YTD_x\": \"YTD\",\n",
        "        \"M-YOY_x\": \"M-YOY\",\n",
        "        \"YTD-YOY_x\": \"YTD-YOY\",\n",
        "        \"MOM_x\": \"E-MOM\",\n",
        "        \"Date_x\": \"Date\",\n",
        "        \"Month_x\": \"Month\",\n",
        "        \"PreMonth_x\": \"PreMonth\",\n",
        "        \"Merged_M\": \"M\",\n",
        "    }\n",
        ")\n",
        "merge_df[\"MOM\"] = 100 * (merge_df[\"M\"] / merge_df[\"Pre-M\"]) - 100\n",
        "merge_df[merge_df[\"Phân Loại\"] == \"TỔNG SỐ\"]"
      ]
    },
    {
      "cell_type": "code",
      "execution_count": 9,
      "metadata": {},
      "outputs": [],
      "source": [
        "dfs_tongmuc = merge_df"
      ]
    },
    {
      "cell_type": "code",
      "execution_count": 10,
      "metadata": {},
      "outputs": [],
      "source": [
        "dfs_tongmuc.to_csv(\"../csv/tongmuc.csv\")"
      ]
    },
    {
      "cell_type": "code",
      "execution_count": 11,
      "metadata": {},
      "outputs": [],
      "source": [
        "# dfs_tongmuc.loc[dfs_tongmuc[\"M-YOY\"] < 30, \"M-YOY\"] = (\n",
        "#     dfs_tongmuc.loc[dfs_tongmuc[\"M-YOY\"] < 30, \"M-YOY\"] + 100\n",
        "# )\n",
        "# dfs_tongmuc.loc[dfs_tongmuc[\"YTD-YOY\"] < 30, \"YTD-YOY\"] = (\n",
        "#     dfs_tongmuc.loc[dfs_tongmuc[\"YTD-YOY\"] < 30, \"YTD-YOY\"] + 100\n",
        "# )\n",
        "\n",
        "# dfs_tongmuc[\"M-YOY\"] = dfs_tongmuc[\"M-YOY\"] - 100\n",
        "# dfs_tongmuc[\"YTD-YOY\"] = dfs_tongmuc[\"YTD-YOY\"] - 100"
      ]
    },
    {
      "cell_type": "code",
      "execution_count": 12,
      "metadata": {},
      "outputs": [],
      "source": [
        "# nganh = \"TỔNG SỐ\"\n",
        "\n",
        "# dfs_tongmuc_hanghoa = dfs_tongmuc[dfs_tongmuc[\"Phân Loại\"] == nganh]\n",
        "# dfs_tongmuc_hanghoa[\"PCT_YOY\"] = dfs_tongmuc_hanghoa[\"M\"].pct_change(-12)\n",
        "# dfs_tongmuc[\"M-YOY-PCT\"] = dfs_tongmuc_hanghoa[\"PCT_YOY\"]"
      ]
    },
    {
      "cell_type": "code",
      "execution_count": 13,
      "metadata": {},
      "outputs": [
        {
          "data": {
            "application/vnd.plotly.v1+json": {
              "config": {
                "plotlyServerURL": "https://plot.ly"
              },
              "data": [
                {
                  "fillpattern": {
                    "shape": ""
                  },
                  "hovertemplate": "Phân Loại=TỔNG SỐ<br>Date=%{x}<br>M=%{y}<extra></extra>",
                  "legendgroup": "TỔNG SỐ",
                  "line": {
                    "color": "#636efa"
                  },
                  "marker": {
                    "symbol": "circle"
                  },
                  "mode": "lines",
                  "name": "TỔNG SỐ",
                  "orientation": "v",
                  "showlegend": true,
                  "stackgroup": "1",
                  "type": "scatter",
                  "x": [
                    "2024-09-29T00:00:00",
                    "2024-08-29T00:00:00",
                    "2024-07-29T00:00:00",
                    "2024-06-29T00:00:00",
                    "2024-05-29T00:00:00",
                    "2024-04-29T00:00:00",
                    "2024-03-29T00:00:00",
                    "2024-02-29T00:00:00",
                    "2024-01-29T00:00:00",
                    "2023-12-29T00:00:00",
                    "2023-11-29T00:00:00",
                    "2023-10-29T00:00:00",
                    "2023-09-29T00:00:00",
                    "2023-08-29T00:00:00",
                    "2023-07-29T00:00:00",
                    "2023-06-29T00:00:00",
                    "2023-05-29T00:00:00",
                    "2023-04-29T00:00:00",
                    "2023-03-29T00:00:00",
                    "2023-02-28T00:00:00",
                    "2023-01-29T00:00:00",
                    "2022-12-29T00:00:00",
                    "2022-11-29T00:00:00",
                    "2022-10-29T00:00:00",
                    "2022-09-29T00:00:00",
                    "2022-08-29T00:00:00",
                    "2022-07-29T00:00:00",
                    "2022-06-29T00:00:00",
                    "2022-05-29T00:00:00",
                    "2022-04-29T00:00:00",
                    "2022-03-29T00:00:00",
                    "2022-02-28T00:00:00",
                    "2022-01-29T00:00:00",
                    "2021-12-29T00:00:00",
                    "2021-11-29T00:00:00",
                    "2021-10-29T00:00:00",
                    "2021-09-29T00:00:00",
                    "2021-08-29T00:00:00",
                    "2021-07-29T00:00:00",
                    "2021-06-29T00:00:00",
                    "2021-05-29T00:00:00",
                    "2021-04-29T00:00:00",
                    "2021-03-29T00:00:00",
                    "2021-02-28T00:00:00",
                    "2021-01-29T00:00:00",
                    "2020-12-27T00:00:00",
                    "2020-11-29T00:00:00",
                    "2020-10-29T00:00:00",
                    "2020-09-29T00:00:00",
                    "2020-08-29T00:00:00",
                    "2020-07-29T00:00:00",
                    "2020-06-29T00:00:00",
                    "2020-05-29T00:00:00",
                    "2020-04-29T00:00:00",
                    "2020-03-27T00:00:00",
                    "2020-02-29T00:00:00",
                    "2020-01-29T00:00:00",
                    "2019-12-27T00:00:00",
                    "2019-11-29T00:00:00",
                    "2019-10-29T00:00:00",
                    "2019-09-28T00:00:00",
                    "2019-08-29T00:00:00",
                    "2019-07-29T00:00:00",
                    "2019-06-28T00:00:00",
                    "2019-05-27T00:00:00",
                    "2019-04-29T00:00:00",
                    "2019-03-29T00:00:00",
                    "2019-02-28T00:00:00",
                    "2019-01-29T00:00:00",
                    "2018-12-27T00:00:00",
                    "2018-11-29T00:00:00",
                    "2018-10-29T00:00:00",
                    "2018-09-28T00:00:00",
                    "2018-08-29T00:00:00",
                    "2018-07-27T00:00:00",
                    "2018-06-29T00:00:00",
                    "2018-05-29T00:00:00",
                    "2018-04-27T00:00:00",
                    "2018-03-29T00:00:00",
                    "2018-02-28T00:00:00",
                    "2018-01-29T00:00:00",
                    "2017-12-29T00:00:00",
                    "2017-11-29T00:00:00",
                    "2017-10-27T00:00:00",
                    "2017-09-29T00:00:00",
                    "2017-08-29T00:00:00",
                    "2017-07-28T00:00:00",
                    "2017-06-29T00:00:00",
                    "2017-05-29T00:00:00",
                    "2017-04-28T00:00:00",
                    "2017-03-29T00:00:00",
                    "2017-02-28T00:00:00",
                    "2017-01-27T00:00:00",
                    "2016-12-29T00:00:00",
                    "2016-11-29T00:00:00",
                    "2016-10-28T00:00:00",
                    "2016-09-29T00:00:00",
                    "2016-08-29T00:00:00",
                    "2016-07-29T00:00:00",
                    "2016-06-29T00:00:00",
                    "2016-05-30T00:00:00",
                    "2016-04-29T00:00:00",
                    "2016-03-29T00:00:00",
                    "2016-02-29T00:00:00",
                    "2016-01-29T00:00:00",
                    "2015-12-29T00:00:00",
                    "2015-11-30T00:00:00",
                    "2015-10-29T00:00:00",
                    "2015-09-29T00:00:00",
                    "2015-08-28T00:00:00",
                    "2015-07-29T00:00:00",
                    "2015-06-29T00:00:00",
                    "2015-05-29T00:00:00",
                    "2015-04-29T00:00:00",
                    "2015-03-29T00:00:00",
                    "2015-02-28T00:00:00",
                    "2015-01-29T00:00:00",
                    "2014-12-29T00:00:00",
                    "2014-11-28T00:00:00",
                    "2014-10-29T00:00:00",
                    "2014-09-29T00:00:00",
                    "2014-08-29T00:00:00",
                    "2014-07-29T00:00:00",
                    "2014-06-27T00:00:00",
                    "2014-05-29T00:00:00",
                    "2014-04-29T00:00:00",
                    "2014-03-28T00:00:00",
                    "2014-02-28T00:00:00",
                    "2014-01-29T00:00:00",
                    "2013-12-30T00:00:00",
                    "2013-11-29T00:00:00",
                    "2013-10-29T00:00:00",
                    "2013-09-30T00:00:00",
                    "2013-08-29T00:00:00",
                    "2013-07-29T00:00:00",
                    "2013-06-29T00:00:00",
                    "2013-05-29T00:00:00",
                    "2013-04-29T00:00:00",
                    "2013-03-29T00:00:00",
                    "2013-02-28T00:00:00",
                    "2013-01-29T00:00:00",
                    "2012-12-28T00:00:00",
                    "2012-11-29T00:00:00",
                    "2012-10-29T00:00:00",
                    "2012-09-29T00:00:00",
                    "2012-08-29T00:00:00",
                    "2012-07-30T00:00:00",
                    "2012-06-29T00:00:00",
                    "2012-05-29T00:00:00",
                    "2012-04-30T00:00:00",
                    "2012-03-29T00:00:00",
                    "2012-02-29T00:00:00",
                    "2012-01-30T00:00:00"
                  ],
                  "xaxis": "x",
                  "y": [
                    535773.05746755,
                    529241.8109917021,
                    524336.572689659,
                    521247.18580344337,
                    516774.60954503936,
                    520142.54587035405,
                    511948.550278718,
                    506542.1,
                    521781.60907794075,
                    515951.9892456698,
                    551714.380208089,
                    545231.4515024812,
                    528380.7698409136,
                    512211.655393856,
                    510910.47609857906,
                    506479.73523767304,
                    503058.6532954789,
                    511507.48975616327,
                    492605.7780619345,
                    491620.8569946967,
                    512320.50801411684,
                    517660.09572758235,
                    497623.7937640225,
                    501158.46558953606,
                    479375.0331196672,
                    479124.7430280756,
                    478150.7770700434,
                    474620.218936663,
                    465329.9736602683,
                    457964.3020373478,
                    441928.22528953745,
                    425810.82953856036,
                    454200.8002658952,
                    441193.53662430984,
                    438419.85512674454,
                    373795.85446531215,
                    302945.53663811344,
                    290050.09625926847,
                    312660.4559796974,
                    369965.36004972237,
                    389466.7594580029,
                    406313.1020717479,
                    400203.51015678723,
                    421187.0912568448,
                    464822.1284320561,
                    463042.8296339079,
                    461785.44815076626,
                    453804.4067905136,
                    440126.7191579831,
                    429884.791288439,
                    434501.79623586824,
                    417968.15251213504,
                    405983.43644897005,
                    303258.2266315459,
                    369826.96005218476,
                    406401.3818606623,
                    449784.14958710934,
                    432366.4943107571,
                    428782.42538766266,
                    422284.552781767,
                    419330.0504187961,
                    413307.6179742516,
                    412726.8624346121,
                    408353.4071771581,
                    401990.04352302715,
                    396146.7734606486,
                    391081.9656653142,
                    390820.7424887325,
                    402945.3493489475,
                    385360.279584468,
                    386436.0509293008,
                    380940,
                    373852.60844933306,
                    369972.25926900376,
                    371450.51866374497,
                    364534,
                    354049.1814085293,
                    350541,
                    343786.1690175863,
                    350441.29522549995,
                    361073.36956419423,
                    352368.1289226967,
                    344808.5203059155,
                    340889.50000233215,
                    336584.61325074243,
                    330013.26968738076,
                    327602.1121126352,
                    326624.8,
                    323539.9,
                    317503.1,
                    312459.6,
                    309284.3,
                    330296.9,
                    320312.1,
                    302924,
                    295349.9,
                    296150.3,
                    292821,
                    295690.8,
                    295823.4,
                    286156.7,
                    279806.5,
                    275435.4,
                    287961.8,
                    297729.5,
                    294748.4,
                    282055.8,
                    274752.7,
                    270588.3,
                    271680.4,
                    271808.1,
                    266675.7,
                    260538.5,
                    255617.7,
                    253490.3,
                    276225,
                    275454.2,
                    273292.2,
                    265032.7,
                    251194.9,
                    244529,
                    242295.78188225496,
                    238730.8,
                    248648.6,
                    240272.6,
                    238934,
                    233079.6,
                    234308.2,
                    237493,
                    231116.7,
                    226396.1,
                    225667.9,
                    223287.6,
                    216396.7,
                    213303,
                    212247,
                    215507.4,
                    213409,
                    211301,
                    210017,
                    209526.35033482278,
                    204607,
                    201577,
                    200926,
                    195105,
                    190322,
                    189186.9999999999,
                    188011,
                    191800,
                    192432,
                    189056,
                    186463,
                    191061
                  ],
                  "yaxis": "y"
                },
                {
                  "fillpattern": {
                    "shape": ""
                  },
                  "hovertemplate": "Phân Loại=Bán lẻ hàng hóa<br>Date=%{x}<br>M=%{y}<extra></extra>",
                  "legendgroup": "Bán lẻ hàng hóa",
                  "line": {
                    "color": "#EF553B"
                  },
                  "marker": {
                    "symbol": "circle"
                  },
                  "mode": "lines",
                  "name": "Bán lẻ hàng hóa",
                  "orientation": "v",
                  "showlegend": true,
                  "stackgroup": "1",
                  "type": "scatter",
                  "x": [
                    "2024-09-29T00:00:00",
                    "2024-08-29T00:00:00",
                    "2024-07-29T00:00:00",
                    "2024-06-29T00:00:00",
                    "2024-05-29T00:00:00",
                    "2024-04-29T00:00:00",
                    "2024-03-29T00:00:00",
                    "2024-02-29T00:00:00",
                    "2024-01-29T00:00:00",
                    "2023-12-29T00:00:00",
                    "2023-11-29T00:00:00",
                    "2023-10-29T00:00:00",
                    "2023-09-29T00:00:00",
                    "2023-08-29T00:00:00",
                    "2023-07-29T00:00:00",
                    "2023-06-29T00:00:00",
                    "2023-05-29T00:00:00",
                    "2023-04-29T00:00:00",
                    "2023-03-29T00:00:00",
                    "2023-02-28T00:00:00",
                    "2023-01-29T00:00:00",
                    "2022-12-29T00:00:00",
                    "2022-11-29T00:00:00",
                    "2022-10-29T00:00:00",
                    "2022-09-29T00:00:00",
                    "2022-08-29T00:00:00",
                    "2022-07-29T00:00:00",
                    "2022-06-29T00:00:00",
                    "2022-05-29T00:00:00",
                    "2022-04-29T00:00:00",
                    "2022-03-29T00:00:00",
                    "2022-02-28T00:00:00",
                    "2022-01-29T00:00:00",
                    "2021-12-29T00:00:00",
                    "2021-11-29T00:00:00",
                    "2021-10-29T00:00:00",
                    "2021-09-29T00:00:00",
                    "2021-08-29T00:00:00",
                    "2021-07-29T00:00:00",
                    "2021-06-29T00:00:00",
                    "2021-05-29T00:00:00",
                    "2021-04-29T00:00:00",
                    "2021-03-29T00:00:00",
                    "2021-02-28T00:00:00",
                    "2021-01-29T00:00:00",
                    "2020-12-27T00:00:00",
                    "2020-11-29T00:00:00",
                    "2020-10-29T00:00:00",
                    "2020-09-29T00:00:00",
                    "2020-08-29T00:00:00",
                    "2020-07-29T00:00:00",
                    "2020-06-29T00:00:00",
                    "2020-05-29T00:00:00",
                    "2020-04-29T00:00:00",
                    "2020-03-27T00:00:00",
                    "2020-02-29T00:00:00",
                    "2020-01-29T00:00:00",
                    "2019-12-27T00:00:00",
                    "2019-11-29T00:00:00",
                    "2019-10-29T00:00:00",
                    "2019-09-28T00:00:00",
                    "2019-08-29T00:00:00",
                    "2019-07-29T00:00:00",
                    "2019-06-28T00:00:00",
                    "2019-05-27T00:00:00",
                    "2019-04-29T00:00:00",
                    "2019-03-29T00:00:00",
                    "2019-02-28T00:00:00",
                    "2019-01-29T00:00:00",
                    "2018-12-27T00:00:00",
                    "2018-11-29T00:00:00",
                    "2018-10-29T00:00:00",
                    "2018-09-28T00:00:00",
                    "2018-08-29T00:00:00",
                    "2018-07-27T00:00:00",
                    "2018-06-29T00:00:00",
                    "2018-05-29T00:00:00",
                    "2018-04-27T00:00:00",
                    "2018-03-29T00:00:00",
                    "2018-02-28T00:00:00",
                    "2018-01-29T00:00:00",
                    "2017-12-29T00:00:00",
                    "2017-11-29T00:00:00",
                    "2017-10-27T00:00:00",
                    "2017-09-29T00:00:00",
                    "2017-08-29T00:00:00",
                    "2017-07-28T00:00:00",
                    "2017-06-29T00:00:00",
                    "2017-05-29T00:00:00",
                    "2017-04-28T00:00:00",
                    "2017-03-29T00:00:00",
                    "2017-02-28T00:00:00",
                    "2017-01-27T00:00:00",
                    "2016-12-29T00:00:00",
                    "2016-11-29T00:00:00",
                    "2016-10-28T00:00:00",
                    "2016-09-29T00:00:00",
                    "2016-08-29T00:00:00",
                    "2016-07-29T00:00:00",
                    "2016-06-29T00:00:00",
                    "2016-05-30T00:00:00",
                    "2016-04-29T00:00:00",
                    "2016-03-29T00:00:00",
                    "2016-02-29T00:00:00",
                    "2016-01-29T00:00:00",
                    "2015-12-29T00:00:00",
                    "2015-11-30T00:00:00",
                    "2015-10-29T00:00:00",
                    "2015-09-29T00:00:00",
                    "2015-08-28T00:00:00",
                    "2015-07-29T00:00:00",
                    "2015-06-29T00:00:00",
                    "2015-05-29T00:00:00",
                    "2015-04-29T00:00:00",
                    "2015-03-29T00:00:00",
                    "2015-02-28T00:00:00",
                    "2015-01-29T00:00:00",
                    "2014-12-29T00:00:00",
                    "2014-11-28T00:00:00",
                    "2014-10-29T00:00:00",
                    "2014-09-29T00:00:00",
                    "2014-08-29T00:00:00",
                    "2014-07-29T00:00:00",
                    "2014-06-27T00:00:00",
                    "2014-05-29T00:00:00",
                    "2014-04-29T00:00:00",
                    "2014-03-28T00:00:00",
                    "2014-02-28T00:00:00",
                    "2014-01-29T00:00:00",
                    "2013-12-30T00:00:00",
                    "2013-11-29T00:00:00",
                    "2013-10-29T00:00:00",
                    "2013-09-30T00:00:00",
                    "2013-08-29T00:00:00",
                    "2013-07-29T00:00:00",
                    "2013-06-29T00:00:00",
                    "2013-05-29T00:00:00",
                    "2013-04-29T00:00:00",
                    "2013-03-29T00:00:00",
                    "2013-02-28T00:00:00",
                    "2013-01-29T00:00:00",
                    "2012-12-28T00:00:00",
                    "2012-11-29T00:00:00",
                    "2012-10-29T00:00:00",
                    "2012-09-29T00:00:00",
                    "2012-08-29T00:00:00",
                    "2012-07-30T00:00:00",
                    "2012-06-29T00:00:00",
                    "2012-05-29T00:00:00",
                    "2012-04-30T00:00:00",
                    "2012-03-29T00:00:00",
                    "2012-02-29T00:00:00",
                    "2012-01-30T00:00:00"
                  ],
                  "xaxis": "x",
                  "y": [
                    411272.1766209079,
                    404976.8995021764,
                    401789.4673429375,
                    401088.8218649784,
                    399693.8534972927,
                    403828.53443558514,
                    394437.797805299,
                    392957.8161623651,
                    404590.92752148287,
                    393686.7425867388,
                    426255.975005775,
                    419044.85066484206,
                    406355.4205293016,
                    394127.68400104885,
                    397472.3670509164,
                    397754.840916777,
                    395990.9850113777,
                    403971.6114979161,
                    388797.4892623142,
                    387159.30024719634,
                    404346.7156673186,
                    402808.0257348203,
                    389495.743299813,
                    386901.800626626,
                    374708.14672144357,
                    372276.537538748,
                    373508.46742783755,
                    374602.0061547603,
                    368943.8935711793,
                    365706,
                    355531.69556330354,
                    341592.9934649654,
                    368556.0020687883,
                    358319.21834534215,
                    358695.39958721254,
                    319629.3006468578,
                    266008.578699631,
                    259168.0330111397,
                    271780,
                    308656.05610883806,
                    317190.5436752419,
                    323532.3182538052,
                    318122.07170247263,
                    342874.7414262257,
                    367545.24938132335,
                    363837.9963834461,
                    362625,
                    357559.955116855,
                    347798.96932006016,
                    339739.018416981,
                    335082.5226467545,
                    325196.153305829,
                    321441.312477267,
                    265291.055189496,
                    297390.991055319,
                    320925.998112468,
                    348738.235574504,
                    325782.27811742155,
                    323755.67901345005,
                    318731.488305903,
                    317254.0252168147,
                    312232.514,
                    310594.684,
                    306790,
                    304052.6869614769,
                    301818,
                    299934.732400791,
                    301382.944928908,
                    312027.978506596,
                    290271.177886,
                    290985.096,
                    286339.564,
                    282122.904,
                    277839.592,
                    277106.64466374496,
                    272262,
                    266992.9734085293,
                    265845,
                    259540.14401758628,
                    266872.3552255,
                    272004.31456419424,
                    258943.41292269665,
                    258321.1543059155,
                    253774.96200233215,
                    251107.0292507425,
                    249014.85868738074,
                    244331.60211263527,
                    243484.6,
                    242909.4,
                    237470,
                    235073.5,
                    234085.6,
                    252712.9,
                    241941.8,
                    227427.4,
                    223143.8,
                    225367.2,
                    223638.8,
                    222500.1,
                    222596.7,
                    218867.4,
                    214652.1,
                    212562,
                    218759.9,
                    226577.2,
                    224819.1,
                    217836.3,
                    211015.7,
                    207886.8,
                    207102.3,
                    204840.9,
                    200348.9,
                    199132.2,
                    196847.3,
                    195850.2,
                    210875.2,
                    211431.4,
                    205066.4,
                    196996.4,
                    190620.1,
                    186083,
                    184173.165722415,
                    177848,
                    186972.7,
                    179249.2,
                    179226.3,
                    175610.5,
                    178758,
                    181317,
                    176048.3,
                    173754.5,
                    172812,
                    171600.7,
                    165654.9,
                    163087,
                    163094,
                    165575.6,
                    162589,
                    162407,
                    162930,
                    160298,
                    156045,
                    154637,
                    153904.14949,
                    150036,
                    145585,
                    145581,
                    144634,
                    135296,
                    149309,
                    146703,
                    145591,
                    149653
                  ],
                  "yaxis": "y"
                },
                {
                  "fillpattern": {
                    "shape": ""
                  },
                  "hovertemplate": "Phân Loại=Dịch vụ lưu trú, ăn uống<br>Date=%{x}<br>M=%{y}<extra></extra>",
                  "legendgroup": "Dịch vụ lưu trú, ăn uống",
                  "line": {
                    "color": "#00cc96"
                  },
                  "marker": {
                    "symbol": "circle"
                  },
                  "mode": "lines",
                  "name": "Dịch vụ lưu trú, ăn uống",
                  "orientation": "v",
                  "showlegend": true,
                  "stackgroup": "1",
                  "type": "scatter",
                  "x": [
                    "2024-09-29T00:00:00",
                    "2024-08-29T00:00:00",
                    "2024-07-29T00:00:00",
                    "2024-06-29T00:00:00",
                    "2024-05-29T00:00:00",
                    "2024-04-29T00:00:00",
                    "2024-03-29T00:00:00",
                    "2024-02-29T00:00:00",
                    "2024-01-29T00:00:00",
                    "2023-12-29T00:00:00",
                    "2023-11-29T00:00:00",
                    "2023-10-29T00:00:00",
                    "2023-09-29T00:00:00",
                    "2023-08-29T00:00:00",
                    "2023-07-29T00:00:00",
                    "2023-06-29T00:00:00",
                    "2023-05-29T00:00:00",
                    "2023-04-29T00:00:00",
                    "2023-03-29T00:00:00",
                    "2023-02-28T00:00:00",
                    "2023-01-29T00:00:00",
                    "2022-12-29T00:00:00",
                    "2022-11-29T00:00:00",
                    "2022-10-29T00:00:00",
                    "2022-09-29T00:00:00",
                    "2022-08-29T00:00:00",
                    "2022-07-29T00:00:00",
                    "2022-06-29T00:00:00",
                    "2022-05-29T00:00:00",
                    "2022-04-29T00:00:00",
                    "2022-03-29T00:00:00",
                    "2022-02-28T00:00:00",
                    "2022-01-29T00:00:00",
                    "2021-12-29T00:00:00",
                    "2021-11-29T00:00:00",
                    "2021-10-29T00:00:00",
                    "2021-09-29T00:00:00",
                    "2021-08-29T00:00:00",
                    "2021-07-29T00:00:00",
                    "2021-06-29T00:00:00",
                    "2021-05-29T00:00:00",
                    "2021-04-29T00:00:00",
                    "2021-03-29T00:00:00",
                    "2021-02-28T00:00:00",
                    "2021-01-29T00:00:00",
                    "2020-12-27T00:00:00",
                    "2020-11-29T00:00:00",
                    "2020-10-29T00:00:00",
                    "2020-09-29T00:00:00",
                    "2020-08-29T00:00:00",
                    "2020-07-29T00:00:00",
                    "2020-06-29T00:00:00",
                    "2020-05-29T00:00:00",
                    "2020-04-29T00:00:00",
                    "2020-03-27T00:00:00",
                    "2020-02-29T00:00:00",
                    "2020-01-29T00:00:00",
                    "2019-12-27T00:00:00",
                    "2019-11-29T00:00:00",
                    "2019-10-29T00:00:00",
                    "2019-09-28T00:00:00",
                    "2019-08-29T00:00:00",
                    "2019-07-29T00:00:00",
                    "2019-06-28T00:00:00",
                    "2019-05-27T00:00:00",
                    "2019-04-29T00:00:00",
                    "2019-03-29T00:00:00",
                    "2019-02-28T00:00:00",
                    "2019-01-29T00:00:00",
                    "2018-12-27T00:00:00",
                    "2018-11-29T00:00:00",
                    "2018-10-29T00:00:00",
                    "2018-09-28T00:00:00",
                    "2018-08-29T00:00:00",
                    "2018-07-27T00:00:00",
                    "2018-06-29T00:00:00",
                    "2018-05-29T00:00:00",
                    "2018-04-27T00:00:00",
                    "2018-03-29T00:00:00",
                    "2018-02-28T00:00:00",
                    "2018-01-29T00:00:00",
                    "2017-12-29T00:00:00",
                    "2017-11-29T00:00:00",
                    "2017-10-27T00:00:00",
                    "2017-09-29T00:00:00",
                    "2017-08-29T00:00:00",
                    "2017-07-28T00:00:00",
                    "2017-06-29T00:00:00",
                    "2017-05-29T00:00:00",
                    "2017-04-28T00:00:00",
                    "2017-03-29T00:00:00",
                    "2017-02-28T00:00:00",
                    "2017-01-27T00:00:00",
                    "2016-12-29T00:00:00",
                    "2016-11-29T00:00:00",
                    "2016-10-28T00:00:00",
                    "2016-09-29T00:00:00",
                    "2016-08-29T00:00:00",
                    "2016-07-29T00:00:00",
                    "2016-06-29T00:00:00",
                    "2016-05-30T00:00:00",
                    "2016-04-29T00:00:00",
                    "2016-03-29T00:00:00",
                    "2016-02-29T00:00:00",
                    "2016-01-29T00:00:00",
                    "2015-12-29T00:00:00",
                    "2015-11-30T00:00:00",
                    "2015-10-29T00:00:00",
                    "2015-09-29T00:00:00",
                    "2015-08-28T00:00:00",
                    "2015-07-29T00:00:00",
                    "2015-06-29T00:00:00",
                    "2015-05-29T00:00:00",
                    "2015-04-29T00:00:00",
                    "2015-03-29T00:00:00",
                    "2015-02-28T00:00:00",
                    "2015-01-29T00:00:00",
                    "2014-12-29T00:00:00",
                    "2014-11-28T00:00:00",
                    "2014-10-29T00:00:00",
                    "2014-09-29T00:00:00",
                    "2014-08-29T00:00:00",
                    "2014-07-29T00:00:00",
                    "2014-06-27T00:00:00",
                    "2014-05-29T00:00:00",
                    "2014-04-29T00:00:00",
                    "2014-03-28T00:00:00",
                    "2014-02-28T00:00:00",
                    "2014-01-29T00:00:00",
                    "2013-12-30T00:00:00",
                    "2013-11-29T00:00:00",
                    "2013-10-29T00:00:00",
                    "2013-09-30T00:00:00",
                    "2013-08-29T00:00:00",
                    "2013-07-29T00:00:00",
                    "2013-06-29T00:00:00",
                    "2013-05-29T00:00:00",
                    "2013-04-29T00:00:00",
                    "2013-03-29T00:00:00",
                    "2013-02-28T00:00:00",
                    "2013-01-29T00:00:00",
                    "2012-12-28T00:00:00",
                    "2012-11-29T00:00:00",
                    "2012-10-29T00:00:00",
                    "2012-09-29T00:00:00",
                    "2012-08-29T00:00:00",
                    "2012-07-30T00:00:00",
                    "2012-06-29T00:00:00",
                    "2012-05-29T00:00:00",
                    "2012-04-30T00:00:00",
                    "2012-03-29T00:00:00",
                    "2012-02-29T00:00:00",
                    "2012-01-30T00:00:00"
                  ],
                  "xaxis": "x",
                  "y": [
                    61727.36591962472,
                    62448.1,
                    61847,
                    61189.9650254706,
                    59986.91004016853,
                    59842.76982855737,
                    59363.8602117417,
                    57898.34155608596,
                    58645.56615794853,
                    57804.46408039125,
                    58560.013022781,
                    59581.9703789584,
                    59319.84081623846,
                    59022.05994697353,
                    56669.90178115567,
                    53812.9303991702,
                    53676.937473002115,
                    53454.0812203288,
                    52245.352475891385,
                    52298,
                    55427.19014930923,
                    53115.90384964263,
                    46898.184433305556,
                    51924.39611773984,
                    45381.35042662732,
                    52960.03028515484,
                    53314.898113175914,
                    51236.78297183044,
                    48982.760127789974,
                    45302.864841337396,
                    42562.07001851969,
                    42141.087367486136,
                    40762.11813206892,
                    38208.765993704736,
                    36624.1316155939,
                    26777.810396173394,
                    18760.060344921625,
                    15014.851403088764,
                    18345.84846745274,
                    27297.472771631248,
                    32534.04881069082,
                    39616.0279535518,
                    39219,
                    36870,
                    46876.925771973416,
                    47443.088908722646,
                    47467.66051925024,
                    45879.888504975825,
                    43865.76379556833,
                    42848.2889900114,
                    48437.88685079568,
                    44107.16929221853,
                    40856.51481167724,
                    16574.4819305132,
                    33886.0843213131,
                    41544.25461598474,
                    50799.13809916897,
                    51947.76482307365,
                    50692.40466883825,
                    49216,
                    48811.22922043564,
                    48941.7799239606,
                    50382.45660830698,
                    50256.040041821296,
                    48984.191628031265,
                    47633.10957702082,
                    46287.07193,
                    44815.168750090495,
                    45387.617875429976,
                    48809.254648746,
                    48333.33621164664,
                    45903,
                    44204.24432027874,
                    44636.486,
                    45833.097,
                    44900,
                    42918.953,
                    43830,
                    43501.879,
                    40962.133,
                    45089.807,
                    47908.495,
                    41792.078,
                    44085.939,
                    42675.934,
                    39045.73,
                    41510.122,
                    41373.2,
                    38909.7,
                    39163.5,
                    38185.7,
                    37723.1,
                    37321.5,
                    38914,
                    37304.3,
                    35826.4,
                    35033.2,
                    33858.8,
                    35856.3,
                    35938.4,
                    31352.7,
                    29956.9,
                    29011.1,
                    33747.2,
                    35056.5,
                    32953.2,
                    29717.2,
                    30593.6,
                    30168.7,
                    32404.1,
                    33949.8,
                    32888.3,
                    29220.6,
                    26838.4,
                    26298.7,
                    32465.4,
                    31023.5,
                    29986.7,
                    34315.7,
                    29505,
                    28898,
                    28215.366459839996,
                    30061,
                    29844.3,
                    29614.4,
                    29743.2,
                    28141.6,
                    28743.8,
                    28447,
                    27816.2,
                    27233.8,
                    27102.8,
                    26992.7,
                    26471.9,
                    26285,
                    25252,
                    25731.9,
                    26508,
                    25626,
                    24467,
                    25054,
                    23504,
                    24043,
                    24074.429920000002,
                    23095,
                    23288,
                    22420,
                    22342,
                    20981,
                    22362,
                    22132,
                    21299,
                    21991
                  ],
                  "yaxis": "y"
                }
              ],
              "layout": {
                "legend": {
                  "title": {
                    "text": "Phân Loại"
                  },
                  "tracegroupgap": 0
                },
                "margin": {
                  "t": 60
                },
                "template": {
                  "data": {
                    "bar": [
                      {
                        "error_x": {
                          "color": "#2a3f5f"
                        },
                        "error_y": {
                          "color": "#2a3f5f"
                        },
                        "marker": {
                          "line": {
                            "color": "#E5ECF6",
                            "width": 0.5
                          },
                          "pattern": {
                            "fillmode": "overlay",
                            "size": 10,
                            "solidity": 0.2
                          }
                        },
                        "type": "bar"
                      }
                    ],
                    "barpolar": [
                      {
                        "marker": {
                          "line": {
                            "color": "#E5ECF6",
                            "width": 0.5
                          },
                          "pattern": {
                            "fillmode": "overlay",
                            "size": 10,
                            "solidity": 0.2
                          }
                        },
                        "type": "barpolar"
                      }
                    ],
                    "carpet": [
                      {
                        "aaxis": {
                          "endlinecolor": "#2a3f5f",
                          "gridcolor": "white",
                          "linecolor": "white",
                          "minorgridcolor": "white",
                          "startlinecolor": "#2a3f5f"
                        },
                        "baxis": {
                          "endlinecolor": "#2a3f5f",
                          "gridcolor": "white",
                          "linecolor": "white",
                          "minorgridcolor": "white",
                          "startlinecolor": "#2a3f5f"
                        },
                        "type": "carpet"
                      }
                    ],
                    "choropleth": [
                      {
                        "colorbar": {
                          "outlinewidth": 0,
                          "ticks": ""
                        },
                        "type": "choropleth"
                      }
                    ],
                    "contour": [
                      {
                        "colorbar": {
                          "outlinewidth": 0,
                          "ticks": ""
                        },
                        "colorscale": [
                          [
                            0,
                            "#0d0887"
                          ],
                          [
                            0.1111111111111111,
                            "#46039f"
                          ],
                          [
                            0.2222222222222222,
                            "#7201a8"
                          ],
                          [
                            0.3333333333333333,
                            "#9c179e"
                          ],
                          [
                            0.4444444444444444,
                            "#bd3786"
                          ],
                          [
                            0.5555555555555556,
                            "#d8576b"
                          ],
                          [
                            0.6666666666666666,
                            "#ed7953"
                          ],
                          [
                            0.7777777777777778,
                            "#fb9f3a"
                          ],
                          [
                            0.8888888888888888,
                            "#fdca26"
                          ],
                          [
                            1,
                            "#f0f921"
                          ]
                        ],
                        "type": "contour"
                      }
                    ],
                    "contourcarpet": [
                      {
                        "colorbar": {
                          "outlinewidth": 0,
                          "ticks": ""
                        },
                        "type": "contourcarpet"
                      }
                    ],
                    "heatmap": [
                      {
                        "colorbar": {
                          "outlinewidth": 0,
                          "ticks": ""
                        },
                        "colorscale": [
                          [
                            0,
                            "#0d0887"
                          ],
                          [
                            0.1111111111111111,
                            "#46039f"
                          ],
                          [
                            0.2222222222222222,
                            "#7201a8"
                          ],
                          [
                            0.3333333333333333,
                            "#9c179e"
                          ],
                          [
                            0.4444444444444444,
                            "#bd3786"
                          ],
                          [
                            0.5555555555555556,
                            "#d8576b"
                          ],
                          [
                            0.6666666666666666,
                            "#ed7953"
                          ],
                          [
                            0.7777777777777778,
                            "#fb9f3a"
                          ],
                          [
                            0.8888888888888888,
                            "#fdca26"
                          ],
                          [
                            1,
                            "#f0f921"
                          ]
                        ],
                        "type": "heatmap"
                      }
                    ],
                    "heatmapgl": [
                      {
                        "colorbar": {
                          "outlinewidth": 0,
                          "ticks": ""
                        },
                        "colorscale": [
                          [
                            0,
                            "#0d0887"
                          ],
                          [
                            0.1111111111111111,
                            "#46039f"
                          ],
                          [
                            0.2222222222222222,
                            "#7201a8"
                          ],
                          [
                            0.3333333333333333,
                            "#9c179e"
                          ],
                          [
                            0.4444444444444444,
                            "#bd3786"
                          ],
                          [
                            0.5555555555555556,
                            "#d8576b"
                          ],
                          [
                            0.6666666666666666,
                            "#ed7953"
                          ],
                          [
                            0.7777777777777778,
                            "#fb9f3a"
                          ],
                          [
                            0.8888888888888888,
                            "#fdca26"
                          ],
                          [
                            1,
                            "#f0f921"
                          ]
                        ],
                        "type": "heatmapgl"
                      }
                    ],
                    "histogram": [
                      {
                        "marker": {
                          "pattern": {
                            "fillmode": "overlay",
                            "size": 10,
                            "solidity": 0.2
                          }
                        },
                        "type": "histogram"
                      }
                    ],
                    "histogram2d": [
                      {
                        "colorbar": {
                          "outlinewidth": 0,
                          "ticks": ""
                        },
                        "colorscale": [
                          [
                            0,
                            "#0d0887"
                          ],
                          [
                            0.1111111111111111,
                            "#46039f"
                          ],
                          [
                            0.2222222222222222,
                            "#7201a8"
                          ],
                          [
                            0.3333333333333333,
                            "#9c179e"
                          ],
                          [
                            0.4444444444444444,
                            "#bd3786"
                          ],
                          [
                            0.5555555555555556,
                            "#d8576b"
                          ],
                          [
                            0.6666666666666666,
                            "#ed7953"
                          ],
                          [
                            0.7777777777777778,
                            "#fb9f3a"
                          ],
                          [
                            0.8888888888888888,
                            "#fdca26"
                          ],
                          [
                            1,
                            "#f0f921"
                          ]
                        ],
                        "type": "histogram2d"
                      }
                    ],
                    "histogram2dcontour": [
                      {
                        "colorbar": {
                          "outlinewidth": 0,
                          "ticks": ""
                        },
                        "colorscale": [
                          [
                            0,
                            "#0d0887"
                          ],
                          [
                            0.1111111111111111,
                            "#46039f"
                          ],
                          [
                            0.2222222222222222,
                            "#7201a8"
                          ],
                          [
                            0.3333333333333333,
                            "#9c179e"
                          ],
                          [
                            0.4444444444444444,
                            "#bd3786"
                          ],
                          [
                            0.5555555555555556,
                            "#d8576b"
                          ],
                          [
                            0.6666666666666666,
                            "#ed7953"
                          ],
                          [
                            0.7777777777777778,
                            "#fb9f3a"
                          ],
                          [
                            0.8888888888888888,
                            "#fdca26"
                          ],
                          [
                            1,
                            "#f0f921"
                          ]
                        ],
                        "type": "histogram2dcontour"
                      }
                    ],
                    "mesh3d": [
                      {
                        "colorbar": {
                          "outlinewidth": 0,
                          "ticks": ""
                        },
                        "type": "mesh3d"
                      }
                    ],
                    "parcoords": [
                      {
                        "line": {
                          "colorbar": {
                            "outlinewidth": 0,
                            "ticks": ""
                          }
                        },
                        "type": "parcoords"
                      }
                    ],
                    "pie": [
                      {
                        "automargin": true,
                        "type": "pie"
                      }
                    ],
                    "scatter": [
                      {
                        "fillpattern": {
                          "fillmode": "overlay",
                          "size": 10,
                          "solidity": 0.2
                        },
                        "type": "scatter"
                      }
                    ],
                    "scatter3d": [
                      {
                        "line": {
                          "colorbar": {
                            "outlinewidth": 0,
                            "ticks": ""
                          }
                        },
                        "marker": {
                          "colorbar": {
                            "outlinewidth": 0,
                            "ticks": ""
                          }
                        },
                        "type": "scatter3d"
                      }
                    ],
                    "scattercarpet": [
                      {
                        "marker": {
                          "colorbar": {
                            "outlinewidth": 0,
                            "ticks": ""
                          }
                        },
                        "type": "scattercarpet"
                      }
                    ],
                    "scattergeo": [
                      {
                        "marker": {
                          "colorbar": {
                            "outlinewidth": 0,
                            "ticks": ""
                          }
                        },
                        "type": "scattergeo"
                      }
                    ],
                    "scattergl": [
                      {
                        "marker": {
                          "colorbar": {
                            "outlinewidth": 0,
                            "ticks": ""
                          }
                        },
                        "type": "scattergl"
                      }
                    ],
                    "scattermapbox": [
                      {
                        "marker": {
                          "colorbar": {
                            "outlinewidth": 0,
                            "ticks": ""
                          }
                        },
                        "type": "scattermapbox"
                      }
                    ],
                    "scatterpolar": [
                      {
                        "marker": {
                          "colorbar": {
                            "outlinewidth": 0,
                            "ticks": ""
                          }
                        },
                        "type": "scatterpolar"
                      }
                    ],
                    "scatterpolargl": [
                      {
                        "marker": {
                          "colorbar": {
                            "outlinewidth": 0,
                            "ticks": ""
                          }
                        },
                        "type": "scatterpolargl"
                      }
                    ],
                    "scatterternary": [
                      {
                        "marker": {
                          "colorbar": {
                            "outlinewidth": 0,
                            "ticks": ""
                          }
                        },
                        "type": "scatterternary"
                      }
                    ],
                    "surface": [
                      {
                        "colorbar": {
                          "outlinewidth": 0,
                          "ticks": ""
                        },
                        "colorscale": [
                          [
                            0,
                            "#0d0887"
                          ],
                          [
                            0.1111111111111111,
                            "#46039f"
                          ],
                          [
                            0.2222222222222222,
                            "#7201a8"
                          ],
                          [
                            0.3333333333333333,
                            "#9c179e"
                          ],
                          [
                            0.4444444444444444,
                            "#bd3786"
                          ],
                          [
                            0.5555555555555556,
                            "#d8576b"
                          ],
                          [
                            0.6666666666666666,
                            "#ed7953"
                          ],
                          [
                            0.7777777777777778,
                            "#fb9f3a"
                          ],
                          [
                            0.8888888888888888,
                            "#fdca26"
                          ],
                          [
                            1,
                            "#f0f921"
                          ]
                        ],
                        "type": "surface"
                      }
                    ],
                    "table": [
                      {
                        "cells": {
                          "fill": {
                            "color": "#EBF0F8"
                          },
                          "line": {
                            "color": "white"
                          }
                        },
                        "header": {
                          "fill": {
                            "color": "#C8D4E3"
                          },
                          "line": {
                            "color": "white"
                          }
                        },
                        "type": "table"
                      }
                    ]
                  },
                  "layout": {
                    "annotationdefaults": {
                      "arrowcolor": "#2a3f5f",
                      "arrowhead": 0,
                      "arrowwidth": 1
                    },
                    "autotypenumbers": "strict",
                    "coloraxis": {
                      "colorbar": {
                        "outlinewidth": 0,
                        "ticks": ""
                      }
                    },
                    "colorscale": {
                      "diverging": [
                        [
                          0,
                          "#8e0152"
                        ],
                        [
                          0.1,
                          "#c51b7d"
                        ],
                        [
                          0.2,
                          "#de77ae"
                        ],
                        [
                          0.3,
                          "#f1b6da"
                        ],
                        [
                          0.4,
                          "#fde0ef"
                        ],
                        [
                          0.5,
                          "#f7f7f7"
                        ],
                        [
                          0.6,
                          "#e6f5d0"
                        ],
                        [
                          0.7,
                          "#b8e186"
                        ],
                        [
                          0.8,
                          "#7fbc41"
                        ],
                        [
                          0.9,
                          "#4d9221"
                        ],
                        [
                          1,
                          "#276419"
                        ]
                      ],
                      "sequential": [
                        [
                          0,
                          "#0d0887"
                        ],
                        [
                          0.1111111111111111,
                          "#46039f"
                        ],
                        [
                          0.2222222222222222,
                          "#7201a8"
                        ],
                        [
                          0.3333333333333333,
                          "#9c179e"
                        ],
                        [
                          0.4444444444444444,
                          "#bd3786"
                        ],
                        [
                          0.5555555555555556,
                          "#d8576b"
                        ],
                        [
                          0.6666666666666666,
                          "#ed7953"
                        ],
                        [
                          0.7777777777777778,
                          "#fb9f3a"
                        ],
                        [
                          0.8888888888888888,
                          "#fdca26"
                        ],
                        [
                          1,
                          "#f0f921"
                        ]
                      ],
                      "sequentialminus": [
                        [
                          0,
                          "#0d0887"
                        ],
                        [
                          0.1111111111111111,
                          "#46039f"
                        ],
                        [
                          0.2222222222222222,
                          "#7201a8"
                        ],
                        [
                          0.3333333333333333,
                          "#9c179e"
                        ],
                        [
                          0.4444444444444444,
                          "#bd3786"
                        ],
                        [
                          0.5555555555555556,
                          "#d8576b"
                        ],
                        [
                          0.6666666666666666,
                          "#ed7953"
                        ],
                        [
                          0.7777777777777778,
                          "#fb9f3a"
                        ],
                        [
                          0.8888888888888888,
                          "#fdca26"
                        ],
                        [
                          1,
                          "#f0f921"
                        ]
                      ]
                    },
                    "colorway": [
                      "#636efa",
                      "#EF553B",
                      "#00cc96",
                      "#ab63fa",
                      "#FFA15A",
                      "#19d3f3",
                      "#FF6692",
                      "#B6E880",
                      "#FF97FF",
                      "#FECB52"
                    ],
                    "font": {
                      "color": "#2a3f5f"
                    },
                    "geo": {
                      "bgcolor": "white",
                      "lakecolor": "white",
                      "landcolor": "#E5ECF6",
                      "showlakes": true,
                      "showland": true,
                      "subunitcolor": "white"
                    },
                    "hoverlabel": {
                      "align": "left"
                    },
                    "hovermode": "closest",
                    "mapbox": {
                      "style": "light"
                    },
                    "paper_bgcolor": "white",
                    "plot_bgcolor": "#E5ECF6",
                    "polar": {
                      "angularaxis": {
                        "gridcolor": "white",
                        "linecolor": "white",
                        "ticks": ""
                      },
                      "bgcolor": "#E5ECF6",
                      "radialaxis": {
                        "gridcolor": "white",
                        "linecolor": "white",
                        "ticks": ""
                      }
                    },
                    "scene": {
                      "xaxis": {
                        "backgroundcolor": "#E5ECF6",
                        "gridcolor": "white",
                        "gridwidth": 2,
                        "linecolor": "white",
                        "showbackground": true,
                        "ticks": "",
                        "zerolinecolor": "white"
                      },
                      "yaxis": {
                        "backgroundcolor": "#E5ECF6",
                        "gridcolor": "white",
                        "gridwidth": 2,
                        "linecolor": "white",
                        "showbackground": true,
                        "ticks": "",
                        "zerolinecolor": "white"
                      },
                      "zaxis": {
                        "backgroundcolor": "#E5ECF6",
                        "gridcolor": "white",
                        "gridwidth": 2,
                        "linecolor": "white",
                        "showbackground": true,
                        "ticks": "",
                        "zerolinecolor": "white"
                      }
                    },
                    "shapedefaults": {
                      "line": {
                        "color": "#2a3f5f"
                      }
                    },
                    "ternary": {
                      "aaxis": {
                        "gridcolor": "white",
                        "linecolor": "white",
                        "ticks": ""
                      },
                      "baxis": {
                        "gridcolor": "white",
                        "linecolor": "white",
                        "ticks": ""
                      },
                      "bgcolor": "#E5ECF6",
                      "caxis": {
                        "gridcolor": "white",
                        "linecolor": "white",
                        "ticks": ""
                      }
                    },
                    "title": {
                      "x": 0.05
                    },
                    "xaxis": {
                      "automargin": true,
                      "gridcolor": "white",
                      "linecolor": "white",
                      "ticks": "",
                      "title": {
                        "standoff": 15
                      },
                      "zerolinecolor": "white",
                      "zerolinewidth": 2
                    },
                    "yaxis": {
                      "automargin": true,
                      "gridcolor": "white",
                      "linecolor": "white",
                      "ticks": "",
                      "title": {
                        "standoff": 15
                      },
                      "zerolinecolor": "white",
                      "zerolinewidth": 2
                    }
                  }
                },
                "xaxis": {
                  "anchor": "y",
                  "domain": [
                    0,
                    1
                  ],
                  "rangeselector": {
                    "buttons": [
                      {
                        "count": 1,
                        "label": "YTD",
                        "step": "year",
                        "stepmode": "todate"
                      },
                      {
                        "count": 1,
                        "label": "1y",
                        "step": "year",
                        "stepmode": "backward"
                      },
                      {
                        "count": 3,
                        "label": "3y",
                        "step": "year",
                        "stepmode": "backward"
                      },
                      {
                        "count": 5,
                        "label": "5y",
                        "step": "year",
                        "stepmode": "backward"
                      },
                      {
                        "count": 7,
                        "label": "7y",
                        "step": "year",
                        "stepmode": "backward"
                      },
                      {
                        "count": 10,
                        "label": "10y",
                        "step": "year",
                        "stepmode": "backward"
                      },
                      {
                        "step": "all"
                      }
                    ]
                  },
                  "rangeslider": {
                    "visible": true
                  },
                  "title": {
                    "text": "Date"
                  }
                },
                "yaxis": {
                  "anchor": "x",
                  "domain": [
                    0,
                    1
                  ],
                  "title": {
                    "text": "M"
                  }
                }
              }
            }
          },
          "metadata": {},
          "output_type": "display_data"
        }
      ],
      "source": [
        "import pandas as pd\n",
        "import plotly.express as px\n",
        "import plotly.graph_objects as go\n",
        "\n",
        "df_show = dfs_tongmuc[\n",
        "    (\n",
        "        (dfs_tongmuc[\"Phân Loại\"] == \"TỔNG SỐ\")\n",
        "        | (dfs_tongmuc[\"Phân Loại\"] == \"Bán lẻ hàng hóa\")\n",
        "        | (dfs_tongmuc[\"Phân Loại\"] == \"Dịch vụ lưu trú, ăn uống\")\n",
        "        # | (dfs_tongmuc[\"Phân Loại\"] == \"Du lịch lữ hành\")\n",
        "        # | (dfs_tongmuc[\"Phân Loại\"] == \"Dịch vụ khác\")\n",
        "    )\n",
        "    # & (dfs_tongmuc[\"Date\"] > \"2021-01-01\")\n",
        "]\n",
        "\n",
        "fig = px.area(df_show, x=\"Date\", y=\"M\", color=\"Phân Loại\")\n",
        "\n",
        "fig.update_xaxes(\n",
        "    rangeslider_visible=True,\n",
        "    rangeselector=dict(\n",
        "        buttons=[\n",
        "            dict(count=1, label=\"YTD\", step=\"year\", stepmode=\"todate\"),\n",
        "            dict(count=1, label=\"1y\", step=\"year\", stepmode=\"backward\"),\n",
        "            dict(count=3, label=\"3y\", step=\"year\", stepmode=\"backward\"),\n",
        "            dict(count=5, label=\"5y\", step=\"year\", stepmode=\"backward\"),\n",
        "            dict(count=7, label=\"7y\", step=\"year\", stepmode=\"backward\"),\n",
        "            dict(count=10, label=\"10y\", step=\"year\", stepmode=\"backward\"),\n",
        "            dict(step=\"all\"),\n",
        "        ]\n",
        "    ),\n",
        ")\n",
        "\n",
        "fig.show()"
      ]
    },
    {
      "cell_type": "code",
      "execution_count": null,
      "metadata": {},
      "outputs": [],
      "source": []
    }
  ],
  "metadata": {
    "kernelspec": {
      "display_name": "vn-macroeconomics",
      "language": "python",
      "name": "python3"
    },
    "language_info": {
      "codemirror_mode": {
        "name": "ipython",
        "version": 3
      },
      "file_extension": ".py",
      "mimetype": "text/x-python",
      "name": "python",
      "nbconvert_exporter": "python",
      "pygments_lexer": "ipython3",
      "version": "3.10.14"
    },
    "orig_nbformat": 4
  },
  "nbformat": 4,
  "nbformat_minor": 2
}
