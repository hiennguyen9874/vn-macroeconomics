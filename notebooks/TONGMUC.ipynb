{
  "cells": [
    {
      "cell_type": "code",
      "execution_count": 1,
      "metadata": {},
      "outputs": [],
      "source": [
        "import os\n",
        "import contextlib\n",
        "\n",
        "import pandas as pd\n",
        "import seaborn as sns\n",
        "from datetime import date\n",
        "import plotly.express as px\n",
        "import plotly.graph_objects as go"
      ]
    },
    {
      "cell_type": "code",
      "execution_count": 2,
      "metadata": {},
      "outputs": [],
      "source": [
        "def find_sheet_name(sheet_names):\n",
        "    cpi_sheet_names = list(\n",
        "        filter(lambda x: \"tongmuc\" in x.lower() and \"22-23\" not in x, sheet_names)\n",
        "    )\n",
        "\n",
        "    if len(cpi_sheet_names) == 1:\n",
        "        return cpi_sheet_names[0]\n",
        "\n",
        "    cpi_sheet_names = list(filter(lambda x: \"tongmuc\" in x.lower(), sheet_names))\n",
        "\n",
        "    if len(cpi_sheet_names) == 1:\n",
        "        return cpi_sheet_names[0]\n",
        "\n",
        "    cpi_sheet_names = list(filter(lambda x: \"tong muc\" in x.lower(), sheet_names))\n",
        "\n",
        "    if len(cpi_sheet_names) == 1:\n",
        "        return cpi_sheet_names[0]\n",
        "\n",
        "\n",
        "    cpi_sheet_names = list(\n",
        "        filter(lambda x: \"tm\" in x.lower() and \"xnk\" not in x.lower(), sheet_names)\n",
        "    )\n",
        "\n",
        "    if len(cpi_sheet_names) == 1:\n",
        "        return cpi_sheet_names[0]\n",
        "\n",
        "    if len(sheet_names) == 43:\n",
        "        return \"23-24\"\n",
        "\n",
        "    cpi_sheet_names = list(\n",
        "        filter(lambda x: \"sheet1 (2)\" in x.lower(), sheet_names)\n",
        "    )\n",
        "\n",
        "    if len(cpi_sheet_names) == 1:\n",
        "        return cpi_sheet_names[0]\n",
        "\n",
        "    raise RuntimeError(sheet_names, len(sheet_names))"
      ]
    },
    {
      "cell_type": "code",
      "execution_count": 3,
      "metadata": {},
      "outputs": [],
      "source": [
        "en_to_vn = {\n",
        "    \"TOTAL\": \"TỔNG SỐ\",\n",
        "    \"Retail sale\": \"Bán lẻ hàng hóa\",\n",
        "    \"Accommodation and catering service\": \"Dịch vụ lưu trú, ăn uống\",\n",
        "    \"Traveling service\": \"Du lịch lữ hành\",\n",
        "    \"Other services\": \"Dịch vụ khác\",\n",
        "}"
      ]
    },
    {
      "cell_type": "code",
      "execution_count": 4,
      "metadata": {},
      "outputs": [
        {
          "data": {
            "text/html": [
              "<div>\n",
              "<style scoped>\n",
              "    .dataframe tbody tr th:only-of-type {\n",
              "        vertical-align: middle;\n",
              "    }\n",
              "\n",
              "    .dataframe tbody tr th {\n",
              "        vertical-align: top;\n",
              "    }\n",
              "\n",
              "    .dataframe thead th {\n",
              "        text-align: right;\n",
              "    }\n",
              "</style>\n",
              "<table border=\"1\" class=\"dataframe\">\n",
              "  <thead>\n",
              "    <tr style=\"text-align: right;\">\n",
              "      <th></th>\n",
              "      <th>Phân Loại</th>\n",
              "      <th>M</th>\n",
              "      <th>YTD</th>\n",
              "      <th>YTD-YOY</th>\n",
              "      <th>Date</th>\n",
              "    </tr>\n",
              "  </thead>\n",
              "  <tbody>\n",
              "    <tr>\n",
              "      <th>0</th>\n",
              "      <td>TỔNG SỐ</td>\n",
              "      <td>392189.659427</td>\n",
              "      <td>1184880.729411</td>\n",
              "      <td>111.962053</td>\n",
              "      <td>2019-03-29</td>\n",
              "    </tr>\n",
              "    <tr>\n",
              "      <th>1</th>\n",
              "      <td>Bán lẻ hàng hóa</td>\n",
              "      <td>301021.230251</td>\n",
              "      <td>910383.216096</td>\n",
              "      <td>113.391902</td>\n",
              "      <td>2019-03-29</td>\n",
              "    </tr>\n",
              "    <tr>\n",
              "      <th>2</th>\n",
              "      <td>Dịch vụ lưu trú, ăn uống</td>\n",
              "      <td>46675.114289</td>\n",
              "      <td>140028.721503</td>\n",
              "      <td>109.236668</td>\n",
              "      <td>2019-03-29</td>\n",
              "    </tr>\n",
              "    <tr>\n",
              "      <th>3</th>\n",
              "      <td>Du lịch lữ hành</td>\n",
              "      <td>3508.75746</td>\n",
              "      <td>11303.62201</td>\n",
              "      <td>112.840835</td>\n",
              "      <td>2019-03-29</td>\n",
              "    </tr>\n",
              "    <tr>\n",
              "      <th>4</th>\n",
              "      <td>Dịch vụ khác</td>\n",
              "      <td>40984.557428</td>\n",
              "      <td>123165.169802</td>\n",
              "      <td>105.07389</td>\n",
              "      <td>2019-03-29</td>\n",
              "    </tr>\n",
              "  </tbody>\n",
              "</table>\n",
              "</div>"
            ],
            "text/plain": [
              "                  Phân Loại              M             YTD     YTD-YOY  \\\n",
              "0                   TỔNG SỐ  392189.659427  1184880.729411  111.962053   \n",
              "1           Bán lẻ hàng hóa  301021.230251   910383.216096  113.391902   \n",
              "2  Dịch vụ lưu trú, ăn uống   46675.114289   140028.721503  109.236668   \n",
              "3           Du lịch lữ hành     3508.75746     11303.62201  112.840835   \n",
              "4              Dịch vụ khác   40984.557428   123165.169802   105.07389   \n",
              "\n",
              "        Date  \n",
              "0 2019-03-29  \n",
              "1 2019-03-29  \n",
              "2 2019-03-29  \n",
              "3 2019-03-29  \n",
              "4 2019-03-29  "
            ]
          },
          "execution_count": 4,
          "metadata": {},
          "output_type": "execute_result"
        }
      ],
      "source": [
        "def get_tongmuc(xl, sheet_name, date):\n",
        "    df = xl.parse(sheet_name)\n",
        "\n",
        "    df = df.dropna(axis=1, how=\"all\")\n",
        "\n",
        "    if (\n",
        "        len(\n",
        "            df[df.columns[1]][\n",
        "                (df[df.columns[1]] == \"Bán lẻ hàng hóa\")\n",
        "                | (df[df.columns[1]] == \"Retail sale \")\n",
        "                | (df[df.columns[1]] == \"Thương nghiệp\")\n",
        "            ].index\n",
        "        )\n",
        "        > 0\n",
        "    ):\n",
        "        df[df.columns[1]] = df[df.columns[1]].fillna(df[df.columns[0]])\n",
        "        df = df.drop(columns=[df.columns[0]])\n",
        "\n",
        "    df[df.columns[0]] = (\n",
        "        df[df.columns[0]].replace(r\"\\s+\", \" \", regex=True).replace(r\"\\n\", \" \", regex=True)\n",
        "    )\n",
        "\n",
        "    df[df.columns[0]] = df[df.columns[0]].str.strip()\n",
        "\n",
        "    df = df.drop(\n",
        "        list(\n",
        "            range(\n",
        "                df[df.columns[0]][\n",
        "                    (df[df.columns[0]] == \"TỔNG SỐ\")\n",
        "                    | ((df[df.columns[0]] == \"TOTAL\"))\n",
        "                    | ((df[df.columns[0]] == \"Tổng số\"))\n",
        "                ].index[0]\n",
        "            )\n",
        "        )\n",
        "    )\n",
        "\n",
        "    df = df.reset_index(drop=True)\n",
        "\n",
        "    df = df.drop(\n",
        "        list(\n",
        "            range(\n",
        "                df[df.columns[0]][\n",
        "                    (df[df.columns[0]] == \"Dịch vụ khác\")\n",
        "                    | ((df[df.columns[0]] == \"Other services\"))\n",
        "                    | ((df[df.columns[0]] == \"Dịch vụ\"))\n",
        "                ].index[0]\n",
        "                + 1,\n",
        "                len(df.index),\n",
        "            )\n",
        "        )\n",
        "    )\n",
        "\n",
        "    df = df.dropna(axis=1, how=\"all\")\n",
        "\n",
        "    if len(df[df.columns[0]][df[df.columns[0]] == \"TOTAL\"].index) > 0:\n",
        "        df[df.columns[0]] = df[df.columns[0]].map(en_to_vn)\n",
        "\n",
        "    if len(df.columns) == 7:\n",
        "        df = df.drop(columns=[df.columns[1], df.columns[4]])\n",
        "    elif len(df.columns) == 4 and int(date.split(\"-\")[1]) == 1:\n",
        "        df = df.drop(columns=[df.columns[2]])\n",
        "        df[\"A\"] = df[df.columns[1]]\n",
        "        df[\"B\"] = df[df.columns[2]]\n",
        "        df = df[[df.columns[0], df.columns[1], \"A\", df.columns[2], \"B\"]]\n",
        "    elif len(df.columns) == 5 and int(date.split(\"-\")[1]) == 1:\n",
        "        df = df.drop(columns=[df.columns[1], df.columns[3]])\n",
        "        df[\"A\"] = df[df.columns[1]]\n",
        "        df[\"B\"] = df[df.columns[2]]\n",
        "        df = df[[df.columns[0], df.columns[1], \"A\", df.columns[2], \"B\"]]\n",
        "    elif len(df.columns) == 5:\n",
        "        df = df.drop(columns=[df.columns[3]])\n",
        "\n",
        "    if len(df.columns) == 5:\n",
        "        df.columns = [\"Phân Loại\", \"M\", \"YTD\", \"M-YOY\", \"YTD-YOY\"]\n",
        "\n",
        "        df = df[pd.to_numeric(df[\"M\"], errors=\"coerce\").notnull()]\n",
        "        df = df[pd.to_numeric(df[\"YTD\"], errors=\"coerce\").notnull()]\n",
        "        df = df[pd.to_numeric(df[\"M-YOY\"], errors=\"coerce\").notnull()]\n",
        "        df = df[pd.to_numeric(df[\"YTD-YOY\"], errors=\"coerce\").notnull()]\n",
        "    elif len(df.columns) == 4:\n",
        "        df.columns = [\"Phân Loại\", \"M\", \"YTD\", \"YTD-YOY\"]\n",
        "\n",
        "        df = df[pd.to_numeric(df[\"M\"], errors=\"coerce\").notnull()]\n",
        "        df = df[pd.to_numeric(df[\"YTD\"], errors=\"coerce\").notnull()]\n",
        "        df = df[pd.to_numeric(df[\"YTD-YOY\"], errors=\"coerce\").notnull()]\n",
        "\n",
        "    df[\"Date\"] = date\n",
        "    df[\"Date\"] = pd.to_datetime(df[\"Date\"], dayfirst=False)\n",
        "\n",
        "    return df\n",
        "\n",
        "\n",
        "xl = pd.ExcelFile(\"../datas/2019-03-29-02-Bieu-3-2019-1.xlsx\")\n",
        "\n",
        "sheet_name = find_sheet_name(xl.sheet_names)\n",
        "\n",
        "get_tongmuc(xl, sheet_name, \"2019-03-29\")"
      ]
    },
    {
      "cell_type": "code",
      "execution_count": 5,
      "metadata": {},
      "outputs": [],
      "source": [
        "import os\n",
        "import contextlib\n",
        "\n",
        "dfs_tongmuc_origin = []\n",
        "for file_name in sorted(\n",
        "    os.listdir(\"../datas\"),\n",
        "    key=lambda filename: f\"{filename.split('-')[0]}-{filename.split('-')[1]}-{filename.split('-')[2]}\",\n",
        "    reverse=True,\n",
        "):\n",
        "    if file_name.startswith(\".~\"):\n",
        "        continue\n",
        "\n",
        "    try:\n",
        "        file_path = os.path.join(\"../datas\", file_name)\n",
        "\n",
        "        year = int(file_name.split(\"-\")[0])\n",
        "        month = int(file_name.split(\"-\")[1])\n",
        "        day = int(file_name.split(\"-\")[2])\n",
        "\n",
        "        if year < 2012:\n",
        "            continue\n",
        "\n",
        "        xl = pd.ExcelFile(file_path)\n",
        "\n",
        "        df_tongmuc = get_tongmuc(xl, find_sheet_name(xl.sheet_names), f\"{year}-{month}-{day}\")\n",
        "\n",
        "        dfs_tongmuc_origin.append(df_tongmuc)\n",
        "    except Exception as e:\n",
        "        print(file_name)\n",
        "        raise e"
      ]
    },
    {
      "cell_type": "code",
      "execution_count": 12,
      "metadata": {},
      "outputs": [
        {
          "data": {
            "text/html": [
              "<div>\n",
              "<style scoped>\n",
              "    .dataframe tbody tr th:only-of-type {\n",
              "        vertical-align: middle;\n",
              "    }\n",
              "\n",
              "    .dataframe tbody tr th {\n",
              "        vertical-align: top;\n",
              "    }\n",
              "\n",
              "    .dataframe thead th {\n",
              "        text-align: right;\n",
              "    }\n",
              "</style>\n",
              "<table border=\"1\" class=\"dataframe\">\n",
              "  <thead>\n",
              "    <tr style=\"text-align: right;\">\n",
              "      <th></th>\n",
              "      <th>Phân Loại</th>\n",
              "      <th>M</th>\n",
              "      <th>YTD</th>\n",
              "      <th>M-YOY</th>\n",
              "      <th>YTD-YOY</th>\n",
              "      <th>Date</th>\n",
              "    </tr>\n",
              "  </thead>\n",
              "  <tbody>\n",
              "    <tr>\n",
              "      <th>0</th>\n",
              "      <td>TỔNG SỐ</td>\n",
              "      <td>519760.357083</td>\n",
              "      <td>2580175.221234</td>\n",
              "      <td>109.48295</td>\n",
              "      <td>108.652786</td>\n",
              "      <td>2024-05-29</td>\n",
              "    </tr>\n",
              "    <tr>\n",
              "      <th>1</th>\n",
              "      <td>Bán lẻ hàng hóa</td>\n",
              "      <td>402373.762424</td>\n",
              "      <td>1998188.838348</td>\n",
              "      <td>108.198967</td>\n",
              "      <td>107.419514</td>\n",
              "      <td>2024-05-29</td>\n",
              "    </tr>\n",
              "    <tr>\n",
              "      <th>2</th>\n",
              "      <td>Dịch vụ lưu trú, ăn uống</td>\n",
              "      <td>60519.268902</td>\n",
              "      <td>296269.806656</td>\n",
              "      <td>116.955363</td>\n",
              "      <td>115.061725</td>\n",
              "      <td>2024-05-29</td>\n",
              "    </tr>\n",
              "    <tr>\n",
              "      <th>3</th>\n",
              "      <td>Du lịch lữ hành</td>\n",
              "      <td>4976.8</td>\n",
              "      <td>24246.379361</td>\n",
              "      <td>134.304033</td>\n",
              "      <td>145.105638</td>\n",
              "      <td>2024-05-29</td>\n",
              "    </tr>\n",
              "    <tr>\n",
              "      <th>4</th>\n",
              "      <td>Dịch vụ khác</td>\n",
              "      <td>51890.471207</td>\n",
              "      <td>261470.196868</td>\n",
              "      <td>109.458657</td>\n",
              "      <td>108.797458</td>\n",
              "      <td>2024-05-29</td>\n",
              "    </tr>\n",
              "    <tr>\n",
              "      <th>...</th>\n",
              "      <td>...</td>\n",
              "      <td>...</td>\n",
              "      <td>...</td>\n",
              "      <td>...</td>\n",
              "      <td>...</td>\n",
              "      <td>...</td>\n",
              "    </tr>\n",
              "    <tr>\n",
              "      <th>923</th>\n",
              "      <td>Khu vực có vốn đầu tư nước ngoài</td>\n",
              "      <td>5617</td>\n",
              "      <td>5617</td>\n",
              "      <td>135.36</td>\n",
              "      <td>135.36</td>\n",
              "      <td>2012-01-30</td>\n",
              "    </tr>\n",
              "    <tr>\n",
              "      <th>924</th>\n",
              "      <td>Thương nghiệp</td>\n",
              "      <td>149653</td>\n",
              "      <td>149653</td>\n",
              "      <td>121.23</td>\n",
              "      <td>121.23</td>\n",
              "      <td>2012-01-30</td>\n",
              "    </tr>\n",
              "    <tr>\n",
              "      <th>925</th>\n",
              "      <td>Khách sạn, nhà hàng</td>\n",
              "      <td>21991</td>\n",
              "      <td>21991</td>\n",
              "      <td>133.33</td>\n",
              "      <td>133.33</td>\n",
              "      <td>2012-01-30</td>\n",
              "    </tr>\n",
              "    <tr>\n",
              "      <th>926</th>\n",
              "      <td>Du lịch</td>\n",
              "      <td>1362</td>\n",
              "      <td>1362</td>\n",
              "      <td>111.1</td>\n",
              "      <td>111.1</td>\n",
              "      <td>2012-01-30</td>\n",
              "    </tr>\n",
              "    <tr>\n",
              "      <th>927</th>\n",
              "      <td>Dịch vụ</td>\n",
              "      <td>18055</td>\n",
              "      <td>18055</td>\n",
              "      <td>116.93</td>\n",
              "      <td>116.93</td>\n",
              "      <td>2012-01-30</td>\n",
              "    </tr>\n",
              "  </tbody>\n",
              "</table>\n",
              "<p>928 rows × 6 columns</p>\n",
              "</div>"
            ],
            "text/plain": [
              "                            Phân Loại              M             YTD  \\\n",
              "0                             TỔNG SỐ  519760.357083  2580175.221234   \n",
              "1                     Bán lẻ hàng hóa  402373.762424  1998188.838348   \n",
              "2            Dịch vụ lưu trú, ăn uống   60519.268902   296269.806656   \n",
              "3                     Du lịch lữ hành         4976.8    24246.379361   \n",
              "4                        Dịch vụ khác   51890.471207   261470.196868   \n",
              "..                                ...            ...             ...   \n",
              "923  Khu vực có vốn đầu tư nước ngoài           5617            5617   \n",
              "924                     Thương nghiệp         149653          149653   \n",
              "925               Khách sạn, nhà hàng          21991           21991   \n",
              "926                           Du lịch           1362            1362   \n",
              "927                           Dịch vụ          18055           18055   \n",
              "\n",
              "          M-YOY     YTD-YOY       Date  \n",
              "0     109.48295  108.652786 2024-05-29  \n",
              "1    108.198967  107.419514 2024-05-29  \n",
              "2    116.955363  115.061725 2024-05-29  \n",
              "3    134.304033  145.105638 2024-05-29  \n",
              "4    109.458657  108.797458 2024-05-29  \n",
              "..          ...         ...        ...  \n",
              "923      135.36      135.36 2012-01-30  \n",
              "924      121.23      121.23 2012-01-30  \n",
              "925      133.33      133.33 2012-01-30  \n",
              "926       111.1       111.1 2012-01-30  \n",
              "927      116.93      116.93 2012-01-30  \n",
              "\n",
              "[928 rows x 6 columns]"
            ]
          },
          "execution_count": 12,
          "metadata": {},
          "output_type": "execute_result"
        }
      ],
      "source": [
        "dfs_tongmuc = pd.concat(dfs_tongmuc_origin, ignore_index=True, axis=0)\n",
        "dfs_tongmuc[\"Date\"] = pd.to_datetime(dfs_tongmuc[\"Date\"], dayfirst=False)\n",
        "dfs_tongmuc"
      ]
    },
    {
      "cell_type": "code",
      "execution_count": 13,
      "metadata": {},
      "outputs": [
        {
          "data": {
            "text/html": [
              "<div>\n",
              "<style scoped>\n",
              "    .dataframe tbody tr th:only-of-type {\n",
              "        vertical-align: middle;\n",
              "    }\n",
              "\n",
              "    .dataframe tbody tr th {\n",
              "        vertical-align: top;\n",
              "    }\n",
              "\n",
              "    .dataframe thead th {\n",
              "        text-align: right;\n",
              "    }\n",
              "</style>\n",
              "<table border=\"1\" class=\"dataframe\">\n",
              "  <thead>\n",
              "    <tr style=\"text-align: right;\">\n",
              "      <th></th>\n",
              "      <th>Phân Loại</th>\n",
              "      <th>M</th>\n",
              "      <th>YTD</th>\n",
              "      <th>M-YOY</th>\n",
              "      <th>YTD-YOY</th>\n",
              "      <th>Date</th>\n",
              "    </tr>\n",
              "  </thead>\n",
              "  <tbody>\n",
              "    <tr>\n",
              "      <th>0</th>\n",
              "      <td>TỔNG SỐ</td>\n",
              "      <td>519760.357083</td>\n",
              "      <td>2580175.221234</td>\n",
              "      <td>109.48295</td>\n",
              "      <td>108.652786</td>\n",
              "      <td>2024-05-29</td>\n",
              "    </tr>\n",
              "    <tr>\n",
              "      <th>1</th>\n",
              "      <td>Bán lẻ hàng hóa</td>\n",
              "      <td>402373.762424</td>\n",
              "      <td>1998188.838348</td>\n",
              "      <td>108.198967</td>\n",
              "      <td>107.419514</td>\n",
              "      <td>2024-05-29</td>\n",
              "    </tr>\n",
              "    <tr>\n",
              "      <th>2</th>\n",
              "      <td>Dịch vụ lưu trú, ăn uống</td>\n",
              "      <td>60519.268902</td>\n",
              "      <td>296269.806656</td>\n",
              "      <td>116.955363</td>\n",
              "      <td>115.061725</td>\n",
              "      <td>2024-05-29</td>\n",
              "    </tr>\n",
              "    <tr>\n",
              "      <th>3</th>\n",
              "      <td>Du lịch lữ hành</td>\n",
              "      <td>4976.8</td>\n",
              "      <td>24246.379361</td>\n",
              "      <td>134.304033</td>\n",
              "      <td>145.105638</td>\n",
              "      <td>2024-05-29</td>\n",
              "    </tr>\n",
              "    <tr>\n",
              "      <th>4</th>\n",
              "      <td>Dịch vụ khác</td>\n",
              "      <td>51890.471207</td>\n",
              "      <td>261470.196868</td>\n",
              "      <td>109.458657</td>\n",
              "      <td>108.797458</td>\n",
              "      <td>2024-05-29</td>\n",
              "    </tr>\n",
              "    <tr>\n",
              "      <th>...</th>\n",
              "      <td>...</td>\n",
              "      <td>...</td>\n",
              "      <td>...</td>\n",
              "      <td>...</td>\n",
              "      <td>...</td>\n",
              "      <td>...</td>\n",
              "    </tr>\n",
              "    <tr>\n",
              "      <th>923</th>\n",
              "      <td>Khu vực có vốn đầu tư nước ngoài</td>\n",
              "      <td>5617</td>\n",
              "      <td>5617</td>\n",
              "      <td>135.36</td>\n",
              "      <td>135.36</td>\n",
              "      <td>2012-01-30</td>\n",
              "    </tr>\n",
              "    <tr>\n",
              "      <th>924</th>\n",
              "      <td>Bán lẻ hàng hóa</td>\n",
              "      <td>149653</td>\n",
              "      <td>149653</td>\n",
              "      <td>121.23</td>\n",
              "      <td>121.23</td>\n",
              "      <td>2012-01-30</td>\n",
              "    </tr>\n",
              "    <tr>\n",
              "      <th>925</th>\n",
              "      <td>Dịch vụ lưu trú, ăn uống</td>\n",
              "      <td>21991</td>\n",
              "      <td>21991</td>\n",
              "      <td>133.33</td>\n",
              "      <td>133.33</td>\n",
              "      <td>2012-01-30</td>\n",
              "    </tr>\n",
              "    <tr>\n",
              "      <th>926</th>\n",
              "      <td>Du lịch lữ hành</td>\n",
              "      <td>1362</td>\n",
              "      <td>1362</td>\n",
              "      <td>111.1</td>\n",
              "      <td>111.1</td>\n",
              "      <td>2012-01-30</td>\n",
              "    </tr>\n",
              "    <tr>\n",
              "      <th>927</th>\n",
              "      <td>Dịch vụ khác</td>\n",
              "      <td>18055</td>\n",
              "      <td>18055</td>\n",
              "      <td>116.93</td>\n",
              "      <td>116.93</td>\n",
              "      <td>2012-01-30</td>\n",
              "    </tr>\n",
              "  </tbody>\n",
              "</table>\n",
              "<p>928 rows × 6 columns</p>\n",
              "</div>"
            ],
            "text/plain": [
              "                            Phân Loại              M             YTD  \\\n",
              "0                             TỔNG SỐ  519760.357083  2580175.221234   \n",
              "1                     Bán lẻ hàng hóa  402373.762424  1998188.838348   \n",
              "2            Dịch vụ lưu trú, ăn uống   60519.268902   296269.806656   \n",
              "3                     Du lịch lữ hành         4976.8    24246.379361   \n",
              "4                        Dịch vụ khác   51890.471207   261470.196868   \n",
              "..                                ...            ...             ...   \n",
              "923  Khu vực có vốn đầu tư nước ngoài           5617            5617   \n",
              "924                   Bán lẻ hàng hóa         149653          149653   \n",
              "925          Dịch vụ lưu trú, ăn uống          21991           21991   \n",
              "926                   Du lịch lữ hành           1362            1362   \n",
              "927                      Dịch vụ khác          18055           18055   \n",
              "\n",
              "          M-YOY     YTD-YOY       Date  \n",
              "0     109.48295  108.652786 2024-05-29  \n",
              "1    108.198967  107.419514 2024-05-29  \n",
              "2    116.955363  115.061725 2024-05-29  \n",
              "3    134.304033  145.105638 2024-05-29  \n",
              "4    109.458657  108.797458 2024-05-29  \n",
              "..          ...         ...        ...  \n",
              "923      135.36      135.36 2012-01-30  \n",
              "924      121.23      121.23 2012-01-30  \n",
              "925      133.33      133.33 2012-01-30  \n",
              "926       111.1       111.1 2012-01-30  \n",
              "927      116.93      116.93 2012-01-30  \n",
              "\n",
              "[928 rows x 6 columns]"
            ]
          },
          "execution_count": 13,
          "metadata": {},
          "output_type": "execute_result"
        }
      ],
      "source": [
        "convert_name = {\n",
        "    \"TỔNG SỐ\": \"TỔNG SỐ\",\n",
        "    \"Bán lẻ hàng hóa\": \"Bán lẻ hàng hóa\",\n",
        "    \"Dịch vụ lưu trú, ăn uống\": \"Dịch vụ lưu trú, ăn uống\",\n",
        "    \"Du lịch lữ hành\": \"Du lịch lữ hành\",\n",
        "    \"Dịch vụ khác\": \"Dịch vụ khác\",\n",
        "    \"Nhà nước\": \"Nhà nước\",\n",
        "    \"Ngoài nhà nước\": \"Ngoài nhà nước\",\n",
        "    \"Khu vực có vốn đầu tư nước ngoài\": \"Khu vực có vốn đầu tư nước ngoài\",\n",
        "    \"Tổng số\": \"TỔNG SỐ\",\n",
        "    \"Thương nghiệp\": \"Bán lẻ hàng hóa\",\n",
        "    \"Khách sạn, nhà hàng\": \"Dịch vụ lưu trú, ăn uống\",\n",
        "    \"Du lịch\": \"Du lịch lữ hành\",\n",
        "    \"Dịch vụ\": \"Dịch vụ khác\",\n",
        "    \"Tập thể\": \"Tập thể\",\n",
        "    \"Tư nhân\": \"Tư nhân\",\n",
        "    \"Cá thể\": \"Cá thể\",\n",
        "}\n",
        "\n",
        "for pl in dfs_tongmuc[\"Phân Loại\"].unique().tolist():\n",
        "    assert pl in convert_name.keys(), pl\n",
        "\n",
        "dfs_tongmuc[\"Phân Loại\"] = dfs_tongmuc[\"Phân Loại\"].map(convert_name)\n",
        "dfs_tongmuc"
      ]
    },
    {
      "cell_type": "code",
      "execution_count": 14,
      "metadata": {},
      "outputs": [],
      "source": [
        "dfs_tongmuc.to_csv('../csv/tongmuc.csv')"
      ]
    },
    {
      "cell_type": "code",
      "execution_count": 15,
      "metadata": {},
      "outputs": [],
      "source": [
        "# dfs_tongmuc.loc[dfs_tongmuc[\"M-YOY\"] < 30, \"M-YOY\"] = (\n",
        "#     dfs_tongmuc.loc[dfs_tongmuc[\"M-YOY\"] < 30, \"M-YOY\"] + 100\n",
        "# )\n",
        "# dfs_tongmuc.loc[dfs_tongmuc[\"YTD-YOY\"] < 30, \"YTD-YOY\"] = (\n",
        "#     dfs_tongmuc.loc[dfs_tongmuc[\"YTD-YOY\"] < 30, \"YTD-YOY\"] + 100\n",
        "# )\n",
        "\n",
        "# dfs_tongmuc[\"M-YOY\"] = dfs_tongmuc[\"M-YOY\"] - 100\n",
        "# dfs_tongmuc[\"YTD-YOY\"] = dfs_tongmuc[\"YTD-YOY\"] - 100"
      ]
    },
    {
      "cell_type": "code",
      "execution_count": 16,
      "metadata": {},
      "outputs": [],
      "source": [
        "# nganh = \"TỔNG SỐ\"\n",
        "\n",
        "# dfs_tongmuc_hanghoa = dfs_tongmuc[dfs_tongmuc[\"Phân Loại\"] == nganh]\n",
        "# dfs_tongmuc_hanghoa[\"PCT_YOY\"] = dfs_tongmuc_hanghoa[\"M\"].pct_change(-12)\n",
        "# dfs_tongmuc[\"M-YOY-PCT\"] = dfs_tongmuc_hanghoa[\"PCT_YOY\"]"
      ]
    },
    {
      "cell_type": "code",
      "execution_count": 17,
      "metadata": {},
      "outputs": [
        {
          "data": {
            "application/vnd.plotly.v1+json": {
              "config": {
                "plotlyServerURL": "https://plot.ly"
              },
              "data": [
                {
                  "fillpattern": {
                    "shape": ""
                  },
                  "hovertemplate": "Phân Loại=TỔNG SỐ<br>Date=%{x}<br>M=%{y}<extra></extra>",
                  "legendgroup": "TỔNG SỐ",
                  "line": {
                    "color": "#636efa"
                  },
                  "marker": {
                    "symbol": "circle"
                  },
                  "mode": "lines",
                  "name": "TỔNG SỐ",
                  "orientation": "v",
                  "showlegend": true,
                  "stackgroup": "1",
                  "type": "scatter",
                  "x": [
                    "2024-05-29T00:00:00",
                    "2024-04-29T00:00:00",
                    "2024-03-29T00:00:00",
                    "2024-02-29T00:00:00",
                    "2024-01-29T00:00:00",
                    "2023-12-29T00:00:00",
                    "2023-11-29T00:00:00",
                    "2023-10-29T00:00:00",
                    "2023-09-29T00:00:00",
                    "2023-08-29T00:00:00",
                    "2023-07-29T00:00:00",
                    "2023-06-29T00:00:00",
                    "2023-05-29T00:00:00",
                    "2023-04-29T00:00:00",
                    "2023-03-29T00:00:00",
                    "2023-02-28T00:00:00",
                    "2023-01-29T00:00:00",
                    "2022-12-29T00:00:00",
                    "2022-11-29T00:00:00",
                    "2022-10-29T00:00:00",
                    "2022-09-29T00:00:00",
                    "2022-08-29T00:00:00",
                    "2022-07-29T00:00:00",
                    "2022-06-29T00:00:00",
                    "2022-05-29T00:00:00",
                    "2022-04-29T00:00:00",
                    "2022-03-29T00:00:00",
                    "2022-02-28T00:00:00",
                    "2022-01-29T00:00:00",
                    "2021-12-29T00:00:00",
                    "2021-11-29T00:00:00",
                    "2021-10-29T00:00:00",
                    "2021-09-29T00:00:00",
                    "2021-08-29T00:00:00",
                    "2021-07-29T00:00:00",
                    "2021-06-29T00:00:00",
                    "2021-05-29T00:00:00",
                    "2021-04-29T00:00:00",
                    "2021-03-29T00:00:00",
                    "2021-02-28T00:00:00",
                    "2021-01-29T00:00:00",
                    "2020-12-27T00:00:00",
                    "2020-11-29T00:00:00",
                    "2020-10-29T00:00:00",
                    "2020-09-29T00:00:00",
                    "2020-08-29T00:00:00",
                    "2020-07-29T00:00:00",
                    "2020-06-29T00:00:00",
                    "2020-05-29T00:00:00",
                    "2020-04-29T00:00:00",
                    "2020-03-27T00:00:00",
                    "2020-02-29T00:00:00",
                    "2020-01-29T00:00:00",
                    "2019-12-27T00:00:00",
                    "2019-11-29T00:00:00",
                    "2019-10-29T00:00:00",
                    "2019-09-28T00:00:00",
                    "2019-08-29T00:00:00",
                    "2019-07-29T00:00:00",
                    "2019-06-28T00:00:00",
                    "2019-05-27T00:00:00",
                    "2019-04-29T00:00:00",
                    "2019-03-29T00:00:00",
                    "2019-02-28T00:00:00",
                    "2019-01-29T00:00:00",
                    "2018-12-27T00:00:00",
                    "2018-11-29T00:00:00",
                    "2018-10-29T00:00:00",
                    "2018-09-28T00:00:00",
                    "2018-08-29T00:00:00",
                    "2018-07-27T00:00:00",
                    "2018-06-29T00:00:00",
                    "2018-05-29T00:00:00",
                    "2018-04-27T00:00:00",
                    "2018-03-29T00:00:00",
                    "2018-02-28T00:00:00",
                    "2018-01-29T00:00:00",
                    "2017-12-29T00:00:00",
                    "2017-11-29T00:00:00",
                    "2017-10-27T00:00:00",
                    "2017-09-29T00:00:00",
                    "2017-08-29T00:00:00",
                    "2017-07-28T00:00:00",
                    "2017-06-29T00:00:00",
                    "2017-05-29T00:00:00",
                    "2017-04-28T00:00:00",
                    "2017-03-29T00:00:00",
                    "2017-02-28T00:00:00",
                    "2017-01-27T00:00:00",
                    "2016-12-29T00:00:00",
                    "2016-11-29T00:00:00",
                    "2016-10-28T00:00:00",
                    "2016-09-29T00:00:00",
                    "2016-08-29T00:00:00",
                    "2016-07-29T00:00:00",
                    "2016-06-29T00:00:00",
                    "2016-05-30T00:00:00",
                    "2016-04-29T00:00:00",
                    "2016-03-29T00:00:00",
                    "2016-02-29T00:00:00",
                    "2016-01-29T00:00:00",
                    "2015-12-29T00:00:00",
                    "2015-11-30T00:00:00",
                    "2015-10-29T00:00:00",
                    "2015-09-29T00:00:00",
                    "2015-08-28T00:00:00",
                    "2015-07-29T00:00:00",
                    "2015-06-29T00:00:00",
                    "2015-05-29T00:00:00",
                    "2015-04-29T00:00:00",
                    "2015-03-29T00:00:00",
                    "2015-02-28T00:00:00",
                    "2015-01-29T00:00:00",
                    "2014-12-29T00:00:00",
                    "2014-11-28T00:00:00",
                    "2014-10-29T00:00:00",
                    "2014-09-29T00:00:00",
                    "2014-08-29T00:00:00",
                    "2014-07-29T00:00:00",
                    "2014-06-27T00:00:00",
                    "2014-05-29T00:00:00",
                    "2014-04-29T00:00:00",
                    "2014-03-28T00:00:00",
                    "2014-02-28T00:00:00",
                    "2014-01-29T00:00:00",
                    "2013-12-30T00:00:00",
                    "2013-11-29T00:00:00",
                    "2013-10-29T00:00:00",
                    "2013-09-30T00:00:00",
                    "2013-08-29T00:00:00",
                    "2013-07-29T00:00:00",
                    "2013-06-29T00:00:00",
                    "2013-05-29T00:00:00",
                    "2013-04-29T00:00:00",
                    "2013-03-29T00:00:00",
                    "2013-02-28T00:00:00",
                    "2013-01-29T00:00:00",
                    "2012-12-28T00:00:00",
                    "2012-11-29T00:00:00",
                    "2012-10-29T00:00:00",
                    "2012-09-29T00:00:00",
                    "2012-08-29T00:00:00",
                    "2012-07-30T00:00:00",
                    "2012-06-29T00:00:00",
                    "2012-05-29T00:00:00",
                    "2012-04-30T00:00:00",
                    "2012-03-29T00:00:00",
                    "2012-02-29T00:00:00",
                    "2012-01-30T00:00:00"
                  ],
                  "xaxis": "x",
                  "y": [
                    519760.35708281095,
                    522079.22540340107,
                    509325.2648473742,
                    509700.638200269,
                    524115.64626917394,
                    565786.311855363,
                    552702.578496076,
                    536326.1246338341,
                    524595.1674463564,
                    515412.6017443559,
                    512167.4859049639,
                    505650.7113255509,
                    519020.06032347336,
                    510704.56383993785,
                    501310.0392591525,
                    481832.0560544001,
                    544828.9875902343,
                    515821.7725744002,
                    514105.670093569,
                    486364.8302547684,
                    493091.7134472128,
                    481224.89766222046,
                    485984.3710760859,
                    471765.70163218596,
                    477305.1762431752,
                    455494.379693028,
                    437992.32381978555,
                    421833.2737900284,
                    470683.48756090197,
                    458455.46428737516,
                    397069.6058951646,
                    357923.46692539554,
                    308801.9367452735,
                    279842.8423980326,
                    339361.5824115949,
                    381858.3515859841,
                    393554.18433131545,
                    409418.79469994496,
                    405123.71113676555,
                    439656.0579295852,
                    479944.3871260073,
                    472047.0081075943,
                    464386.10335591144,
                    450754.54867048474,
                    441449.860638266,
                    422874.4910301987,
                    431877.2134361049,
                    431025.6859548784,
                    384816.7602107281,
                    293943.0990086489,
                    389953.1697272706,
                    414073.2952835037,
                    448052.4554747812,
                    433230.1262609194,
                    425515.727222356,
                    425670.44571952324,
                    420342.82527349715,
                    414401.7048510094,
                    415113.3097899592,
                    409774.8818086073,
                    403826.89484007185,
                    399961.2765723701,
                    392189.65942662215,
                    390820.7424887325,
                    402229.825598196,
                    394526.1595634585,
                    385017,
                    378626.6109332712,
                    374758.25122558826,
                    370026,
                    371450.51866374497,
                    364534,
                    354049.1814085293,
                    350541,
                    343786.1690175863,
                    350441.29522549995,
                    361073.36956419423,
                    352368.1289226967,
                    344808.5203059155,
                    340889.50000233215,
                    336584.61325074243,
                    330013.26968738076,
                    327602.1121126352,
                    326624.8,
                    323539.9,
                    317503.1,
                    312459.6,
                    309284.3,
                    330296.9,
                    320312.1,
                    302924,
                    295349.9,
                    296150.3,
                    292821,
                    295690.8,
                    295823.4,
                    286156.7,
                    279806.5,
                    275435.4,
                    287961.8,
                    297729.5,
                    294748.4,
                    282055.8,
                    274752.7,
                    270588.3,
                    271680.4,
                    271808.1,
                    266675.7,
                    260538.5,
                    255617.7,
                    253490.3,
                    276225,
                    275454.2,
                    273292.2,
                    265032.7,
                    251194.9,
                    244529,
                    242295.78188225496,
                    238730.8,
                    248648.6,
                    240272.6,
                    238934,
                    233079.6,
                    234308.2,
                    237493,
                    231116.7,
                    226396.1,
                    225667.9,
                    223287.6,
                    216396.7,
                    213303,
                    212247,
                    215507.4,
                    213409,
                    211301,
                    210017,
                    209526.35033482278,
                    204607,
                    201577,
                    200926,
                    195105,
                    190322,
                    189186.9999999999,
                    188011,
                    191800,
                    192432,
                    189056,
                    186463,
                    191061
                  ],
                  "yaxis": "y"
                },
                {
                  "fillpattern": {
                    "shape": ""
                  },
                  "hovertemplate": "Phân Loại=Bán lẻ hàng hóa<br>Date=%{x}<br>M=%{y}<extra></extra>",
                  "legendgroup": "Bán lẻ hàng hóa",
                  "line": {
                    "color": "#EF553B"
                  },
                  "marker": {
                    "symbol": "circle"
                  },
                  "mode": "lines",
                  "name": "Bán lẻ hàng hóa",
                  "orientation": "v",
                  "showlegend": true,
                  "stackgroup": "1",
                  "type": "scatter",
                  "x": [
                    "2024-05-29T00:00:00",
                    "2024-04-29T00:00:00",
                    "2024-03-29T00:00:00",
                    "2024-02-29T00:00:00",
                    "2024-01-29T00:00:00",
                    "2023-12-29T00:00:00",
                    "2023-11-29T00:00:00",
                    "2023-10-29T00:00:00",
                    "2023-09-29T00:00:00",
                    "2023-08-29T00:00:00",
                    "2023-07-29T00:00:00",
                    "2023-06-29T00:00:00",
                    "2023-05-29T00:00:00",
                    "2023-04-29T00:00:00",
                    "2023-03-29T00:00:00",
                    "2023-02-28T00:00:00",
                    "2023-01-29T00:00:00",
                    "2022-12-29T00:00:00",
                    "2022-11-29T00:00:00",
                    "2022-10-29T00:00:00",
                    "2022-09-29T00:00:00",
                    "2022-08-29T00:00:00",
                    "2022-07-29T00:00:00",
                    "2022-06-29T00:00:00",
                    "2022-05-29T00:00:00",
                    "2022-04-29T00:00:00",
                    "2022-03-29T00:00:00",
                    "2022-02-28T00:00:00",
                    "2022-01-29T00:00:00",
                    "2021-12-29T00:00:00",
                    "2021-11-29T00:00:00",
                    "2021-10-29T00:00:00",
                    "2021-09-29T00:00:00",
                    "2021-08-29T00:00:00",
                    "2021-07-29T00:00:00",
                    "2021-06-29T00:00:00",
                    "2021-05-29T00:00:00",
                    "2021-04-29T00:00:00",
                    "2021-03-29T00:00:00",
                    "2021-02-28T00:00:00",
                    "2021-01-29T00:00:00",
                    "2020-12-27T00:00:00",
                    "2020-11-29T00:00:00",
                    "2020-10-29T00:00:00",
                    "2020-09-29T00:00:00",
                    "2020-08-29T00:00:00",
                    "2020-07-29T00:00:00",
                    "2020-06-29T00:00:00",
                    "2020-05-29T00:00:00",
                    "2020-04-29T00:00:00",
                    "2020-03-27T00:00:00",
                    "2020-02-29T00:00:00",
                    "2020-01-29T00:00:00",
                    "2019-12-27T00:00:00",
                    "2019-11-29T00:00:00",
                    "2019-10-29T00:00:00",
                    "2019-09-28T00:00:00",
                    "2019-08-29T00:00:00",
                    "2019-07-29T00:00:00",
                    "2019-06-28T00:00:00",
                    "2019-05-27T00:00:00",
                    "2019-04-29T00:00:00",
                    "2019-03-29T00:00:00",
                    "2019-02-28T00:00:00",
                    "2019-01-29T00:00:00",
                    "2018-12-27T00:00:00",
                    "2018-11-29T00:00:00",
                    "2018-10-29T00:00:00",
                    "2018-09-28T00:00:00",
                    "2018-08-29T00:00:00",
                    "2018-07-27T00:00:00",
                    "2018-06-29T00:00:00",
                    "2018-05-29T00:00:00",
                    "2018-04-27T00:00:00",
                    "2018-03-29T00:00:00",
                    "2018-02-28T00:00:00",
                    "2018-01-29T00:00:00",
                    "2017-12-29T00:00:00",
                    "2017-11-29T00:00:00",
                    "2017-10-27T00:00:00",
                    "2017-09-29T00:00:00",
                    "2017-08-29T00:00:00",
                    "2017-07-28T00:00:00",
                    "2017-06-29T00:00:00",
                    "2017-05-29T00:00:00",
                    "2017-04-28T00:00:00",
                    "2017-03-29T00:00:00",
                    "2017-02-28T00:00:00",
                    "2017-01-27T00:00:00",
                    "2016-12-29T00:00:00",
                    "2016-11-29T00:00:00",
                    "2016-10-28T00:00:00",
                    "2016-09-29T00:00:00",
                    "2016-08-29T00:00:00",
                    "2016-07-29T00:00:00",
                    "2016-06-29T00:00:00",
                    "2016-05-30T00:00:00",
                    "2016-04-29T00:00:00",
                    "2016-03-29T00:00:00",
                    "2016-02-29T00:00:00",
                    "2016-01-29T00:00:00",
                    "2015-12-29T00:00:00",
                    "2015-11-30T00:00:00",
                    "2015-10-29T00:00:00",
                    "2015-09-29T00:00:00",
                    "2015-08-28T00:00:00",
                    "2015-07-29T00:00:00",
                    "2015-06-29T00:00:00",
                    "2015-05-29T00:00:00",
                    "2015-04-29T00:00:00",
                    "2015-03-29T00:00:00",
                    "2015-02-28T00:00:00",
                    "2015-01-29T00:00:00",
                    "2014-12-29T00:00:00",
                    "2014-11-28T00:00:00",
                    "2014-10-29T00:00:00",
                    "2014-09-29T00:00:00",
                    "2014-08-29T00:00:00",
                    "2014-07-29T00:00:00",
                    "2014-06-27T00:00:00",
                    "2014-05-29T00:00:00",
                    "2014-04-29T00:00:00",
                    "2014-03-28T00:00:00",
                    "2014-02-28T00:00:00",
                    "2014-01-29T00:00:00",
                    "2013-12-30T00:00:00",
                    "2013-11-29T00:00:00",
                    "2013-10-29T00:00:00",
                    "2013-09-30T00:00:00",
                    "2013-08-29T00:00:00",
                    "2013-07-29T00:00:00",
                    "2013-06-29T00:00:00",
                    "2013-05-29T00:00:00",
                    "2013-04-29T00:00:00",
                    "2013-03-29T00:00:00",
                    "2013-02-28T00:00:00",
                    "2013-01-29T00:00:00",
                    "2012-12-28T00:00:00",
                    "2012-11-29T00:00:00",
                    "2012-10-29T00:00:00",
                    "2012-09-29T00:00:00",
                    "2012-08-29T00:00:00",
                    "2012-07-30T00:00:00",
                    "2012-06-29T00:00:00",
                    "2012-05-29T00:00:00",
                    "2012-04-30T00:00:00",
                    "2012-03-29T00:00:00",
                    "2012-02-29T00:00:00",
                    "2012-01-30T00:00:00"
                  ],
                  "xaxis": "x",
                  "y": [
                    402373.7624235645,
                    402559.35240233154,
                    392726.82167898986,
                    393686.7425867388,
                    407541.6346863023,
                    437338.630355925,
                    424981.03191004496,
                    412926.1320723341,
                    402432.1302450229,
                    400029.95717261854,
                    399668.89259594237,
                    396958.44083561294,
                    409338.77578948485,
                    401108.11882719555,
                    395651.36197681795,
                    377447.8815908251,
                    435442,
                    404031.0147620458,
                    397068.0042461741,
                    379271.59907338663,
                    379271.59907338663,
                    376593.0033486916,
                    381453.2129742339,
                    373555.692240819,
                    375367.036853723,
                    363586.371345869,
                    352011.5797656469,
                    338877.8402164304,
                    383532,
                    371723.8596513891,
                    336117.395612523,
                    304705.2510758805,
                    270796.8463622664,
                    249938.82865771983,
                    291774,
                    316131.29031202366,
                    318178.26157353295,
                    324207.1970947857,
                    322789.73077189486,
                    354541.5213805473,
                    378918.4867356434,
                    369878.821860599,
                    365718.867312305,
                    356543.24956289766,
                    348101.500577147,
                    334330.55709556065,
                    333761.4428230033,
                    336584.745403382,
                    311082.243009892,
                    257392.75858288657,
                    316114.421432694,
                    325221,
                    346208.8269553839,
                    325781.91975730995,
                    321035.008871076,
                    322731.48830590316,
                    318831.257,
                    313564.579,
                    312238.7325991109,
                    308478.7348922074,
                    306864.308,
                    306560.432732287,
                    301021.230250514,
                    301382.944928908,
                    305373.320297,
                    296553.129,
                    288634.035,
                    286955.442,
                    282982.983,
                    277160,
                    277106.64466374496,
                    272262,
                    266992.9734085293,
                    265845,
                    259540.14401758628,
                    266872.3552255,
                    272004.31456419424,
                    258943.41292269665,
                    258321.1543059155,
                    253774.96200233215,
                    251107.0292507425,
                    249014.85868738074,
                    244331.60211263527,
                    243484.6,
                    242909.4,
                    237470,
                    235073.5,
                    234085.6,
                    252712.9,
                    241941.8,
                    227427.4,
                    223143.8,
                    225367.2,
                    223638.8,
                    222500.1,
                    222596.7,
                    218867.4,
                    214652.1,
                    212562,
                    218759.9,
                    226577.2,
                    224819.1,
                    217836.3,
                    211015.7,
                    207886.8,
                    207102.3,
                    204840.9,
                    200348.9,
                    199132.2,
                    196847.3,
                    195850.2,
                    210875.2,
                    211431.4,
                    205066.4,
                    196996.4,
                    190620.1,
                    186083,
                    184173.165722415,
                    177848,
                    186972.7,
                    179249.2,
                    179226.3,
                    175610.5,
                    178758,
                    181317,
                    176048.3,
                    173754.5,
                    172812,
                    171600.7,
                    165654.9,
                    163087,
                    163094,
                    165575.6,
                    162589,
                    162407,
                    162930,
                    160298,
                    156045,
                    154637,
                    153904.14949,
                    150036,
                    145585,
                    145581,
                    144634,
                    135296,
                    149309,
                    146703,
                    145591,
                    149653
                  ],
                  "yaxis": "y"
                },
                {
                  "fillpattern": {
                    "shape": ""
                  },
                  "hovertemplate": "Phân Loại=Dịch vụ lưu trú, ăn uống<br>Date=%{x}<br>M=%{y}<extra></extra>",
                  "legendgroup": "Dịch vụ lưu trú, ăn uống",
                  "line": {
                    "color": "#00cc96"
                  },
                  "marker": {
                    "symbol": "circle"
                  },
                  "mode": "lines",
                  "name": "Dịch vụ lưu trú, ăn uống",
                  "orientation": "v",
                  "showlegend": true,
                  "stackgroup": "1",
                  "type": "scatter",
                  "x": [
                    "2024-05-29T00:00:00",
                    "2024-04-29T00:00:00",
                    "2024-03-29T00:00:00",
                    "2024-02-29T00:00:00",
                    "2024-01-29T00:00:00",
                    "2023-12-29T00:00:00",
                    "2023-11-29T00:00:00",
                    "2023-10-29T00:00:00",
                    "2023-09-29T00:00:00",
                    "2023-08-29T00:00:00",
                    "2023-07-29T00:00:00",
                    "2023-06-29T00:00:00",
                    "2023-05-29T00:00:00",
                    "2023-04-29T00:00:00",
                    "2023-03-29T00:00:00",
                    "2023-02-28T00:00:00",
                    "2023-01-29T00:00:00",
                    "2022-12-29T00:00:00",
                    "2022-11-29T00:00:00",
                    "2022-10-29T00:00:00",
                    "2022-09-29T00:00:00",
                    "2022-08-29T00:00:00",
                    "2022-07-29T00:00:00",
                    "2022-06-29T00:00:00",
                    "2022-05-29T00:00:00",
                    "2022-04-29T00:00:00",
                    "2022-03-29T00:00:00",
                    "2022-02-28T00:00:00",
                    "2022-01-29T00:00:00",
                    "2021-12-29T00:00:00",
                    "2021-11-29T00:00:00",
                    "2021-10-29T00:00:00",
                    "2021-09-29T00:00:00",
                    "2021-08-29T00:00:00",
                    "2021-07-29T00:00:00",
                    "2021-06-29T00:00:00",
                    "2021-05-29T00:00:00",
                    "2021-04-29T00:00:00",
                    "2021-03-29T00:00:00",
                    "2021-02-28T00:00:00",
                    "2021-01-29T00:00:00",
                    "2020-12-27T00:00:00",
                    "2020-11-29T00:00:00",
                    "2020-10-29T00:00:00",
                    "2020-09-29T00:00:00",
                    "2020-08-29T00:00:00",
                    "2020-07-29T00:00:00",
                    "2020-06-29T00:00:00",
                    "2020-05-29T00:00:00",
                    "2020-04-29T00:00:00",
                    "2020-03-27T00:00:00",
                    "2020-02-29T00:00:00",
                    "2020-01-29T00:00:00",
                    "2019-12-27T00:00:00",
                    "2019-11-29T00:00:00",
                    "2019-10-29T00:00:00",
                    "2019-09-28T00:00:00",
                    "2019-08-29T00:00:00",
                    "2019-07-29T00:00:00",
                    "2019-06-28T00:00:00",
                    "2019-05-27T00:00:00",
                    "2019-04-29T00:00:00",
                    "2019-03-29T00:00:00",
                    "2019-02-28T00:00:00",
                    "2019-01-29T00:00:00",
                    "2018-12-27T00:00:00",
                    "2018-11-29T00:00:00",
                    "2018-10-29T00:00:00",
                    "2018-09-28T00:00:00",
                    "2018-08-29T00:00:00",
                    "2018-07-27T00:00:00",
                    "2018-06-29T00:00:00",
                    "2018-05-29T00:00:00",
                    "2018-04-27T00:00:00",
                    "2018-03-29T00:00:00",
                    "2018-02-28T00:00:00",
                    "2018-01-29T00:00:00",
                    "2017-12-29T00:00:00",
                    "2017-11-29T00:00:00",
                    "2017-10-27T00:00:00",
                    "2017-09-29T00:00:00",
                    "2017-08-29T00:00:00",
                    "2017-07-28T00:00:00",
                    "2017-06-29T00:00:00",
                    "2017-05-29T00:00:00",
                    "2017-04-28T00:00:00",
                    "2017-03-29T00:00:00",
                    "2017-02-28T00:00:00",
                    "2017-01-27T00:00:00",
                    "2016-12-29T00:00:00",
                    "2016-11-29T00:00:00",
                    "2016-10-28T00:00:00",
                    "2016-09-29T00:00:00",
                    "2016-08-29T00:00:00",
                    "2016-07-29T00:00:00",
                    "2016-06-29T00:00:00",
                    "2016-05-30T00:00:00",
                    "2016-04-29T00:00:00",
                    "2016-03-29T00:00:00",
                    "2016-02-29T00:00:00",
                    "2016-01-29T00:00:00",
                    "2015-12-29T00:00:00",
                    "2015-11-30T00:00:00",
                    "2015-10-29T00:00:00",
                    "2015-09-29T00:00:00",
                    "2015-08-28T00:00:00",
                    "2015-07-29T00:00:00",
                    "2015-06-29T00:00:00",
                    "2015-05-29T00:00:00",
                    "2015-04-29T00:00:00",
                    "2015-03-29T00:00:00",
                    "2015-02-28T00:00:00",
                    "2015-01-29T00:00:00",
                    "2014-12-29T00:00:00",
                    "2014-11-28T00:00:00",
                    "2014-10-29T00:00:00",
                    "2014-09-29T00:00:00",
                    "2014-08-29T00:00:00",
                    "2014-07-29T00:00:00",
                    "2014-06-27T00:00:00",
                    "2014-05-29T00:00:00",
                    "2014-04-29T00:00:00",
                    "2014-03-28T00:00:00",
                    "2014-02-28T00:00:00",
                    "2014-01-29T00:00:00",
                    "2013-12-30T00:00:00",
                    "2013-11-29T00:00:00",
                    "2013-10-29T00:00:00",
                    "2013-09-30T00:00:00",
                    "2013-08-29T00:00:00",
                    "2013-07-29T00:00:00",
                    "2013-06-29T00:00:00",
                    "2013-05-29T00:00:00",
                    "2013-04-29T00:00:00",
                    "2013-03-29T00:00:00",
                    "2013-02-28T00:00:00",
                    "2013-01-29T00:00:00",
                    "2012-12-28T00:00:00",
                    "2012-11-29T00:00:00",
                    "2012-10-29T00:00:00",
                    "2012-09-29T00:00:00",
                    "2012-08-29T00:00:00",
                    "2012-07-30T00:00:00",
                    "2012-06-29T00:00:00",
                    "2012-05-29T00:00:00",
                    "2012-04-30T00:00:00",
                    "2012-03-29T00:00:00",
                    "2012-02-29T00:00:00",
                    "2012-01-30T00:00:00"
                  ],
                  "xaxis": "x",
                  "y": [
                    60519.26890179166,
                    61355.5109192228,
                    58309.16283652949,
                    59702.322005917384,
                    58885.6966744795,
                    59458.2483534158,
                    60495.881221881165,
                    59681.29495364372,
                    61123.04003747532,
                    58679.628725476265,
                    56335.64113136097,
                    54571.17634410476,
                    54898.147774782745,
                    54855.741160442936,
                    53418.03952386457,
                    53651,
                    55983.35830527689,
                    48850.62377790975,
                    53366.86954765643,
                    44438.13951860958,
                    53642.33789288761,
                    53473.53567188125,
                    53891.536410136534,
                    49123.70778380461,
                    55068.87387647124,
                    45488.47282196411,
                    41517.28317329817,
                    41507.79428543855,
                    41273.99166567525,
                    40768.48691049598,
                    30189,
                    27611.77069388113,
                    19424.72986621445,
                    13527.737396123212,
                    21185.949191731754,
                    28928.57034176971,
                    34321.99507709918,
                    41492.12589413106,
                    40209.62,
                    41492.496552934914,
                    48701.07836509595,
                    49137.20209055657,
                    47401.23574310435,
                    44803.77903694838,
                    45241.8899014231,
                    41311.28785560339,
                    48162.69922464443,
                    46083.44984162584,
                    32450.8453999101,
                    16807.200582891623,
                    33886.0843213131,
                    44172.420964319535,
                    50614.01018814976,
                    52128.95012344059,
                    49941.6307025226,
                    49050,
                    48858.21831091783,
                    49027.11744698281,
                    50938.76247189257,
                    50390.57519071949,
                    48728.10733469404,
                    47725.683720880996,
                    46675.11428878327,
                    44815.168750090495,
                    49498.674745684,
                    49867.1,
                    46952,
                    44323.72148214563,
                    44527.749,
                    45142,
                    45833.097,
                    44900,
                    42918.953,
                    43830,
                    43501.879,
                    40962.133,
                    45089.807,
                    47908.495,
                    41792.078,
                    44085.939,
                    42675.934,
                    39045.73,
                    41510.122,
                    41373.2,
                    38909.7,
                    39163.5,
                    38185.7,
                    37723.1,
                    37321.5,
                    38914,
                    37304.3,
                    35826.4,
                    35033.2,
                    33858.8,
                    35856.3,
                    35938.4,
                    31352.7,
                    29956.9,
                    29011.1,
                    33747.2,
                    35056.5,
                    32953.2,
                    29717.2,
                    30593.6,
                    30168.7,
                    32404.1,
                    33949.8,
                    32888.3,
                    29220.6,
                    26838.4,
                    26298.7,
                    32465.4,
                    31023.5,
                    29986.7,
                    34315.7,
                    29505,
                    28898,
                    28215.366459839996,
                    30061,
                    29844.3,
                    29614.4,
                    29743.2,
                    28141.6,
                    28743.8,
                    28447,
                    27816.2,
                    27233.8,
                    27102.8,
                    26992.7,
                    26471.9,
                    26285,
                    25252,
                    25731.9,
                    26508,
                    25626,
                    24467,
                    25054,
                    23504,
                    24043,
                    24074.429920000002,
                    23095,
                    23288,
                    22420,
                    22342,
                    20981,
                    22362,
                    22132,
                    21299,
                    21991
                  ],
                  "yaxis": "y"
                }
              ],
              "layout": {
                "legend": {
                  "title": {
                    "text": "Phân Loại"
                  },
                  "tracegroupgap": 0
                },
                "margin": {
                  "t": 60
                },
                "template": {
                  "data": {
                    "bar": [
                      {
                        "error_x": {
                          "color": "#2a3f5f"
                        },
                        "error_y": {
                          "color": "#2a3f5f"
                        },
                        "marker": {
                          "line": {
                            "color": "#E5ECF6",
                            "width": 0.5
                          },
                          "pattern": {
                            "fillmode": "overlay",
                            "size": 10,
                            "solidity": 0.2
                          }
                        },
                        "type": "bar"
                      }
                    ],
                    "barpolar": [
                      {
                        "marker": {
                          "line": {
                            "color": "#E5ECF6",
                            "width": 0.5
                          },
                          "pattern": {
                            "fillmode": "overlay",
                            "size": 10,
                            "solidity": 0.2
                          }
                        },
                        "type": "barpolar"
                      }
                    ],
                    "carpet": [
                      {
                        "aaxis": {
                          "endlinecolor": "#2a3f5f",
                          "gridcolor": "white",
                          "linecolor": "white",
                          "minorgridcolor": "white",
                          "startlinecolor": "#2a3f5f"
                        },
                        "baxis": {
                          "endlinecolor": "#2a3f5f",
                          "gridcolor": "white",
                          "linecolor": "white",
                          "minorgridcolor": "white",
                          "startlinecolor": "#2a3f5f"
                        },
                        "type": "carpet"
                      }
                    ],
                    "choropleth": [
                      {
                        "colorbar": {
                          "outlinewidth": 0,
                          "ticks": ""
                        },
                        "type": "choropleth"
                      }
                    ],
                    "contour": [
                      {
                        "colorbar": {
                          "outlinewidth": 0,
                          "ticks": ""
                        },
                        "colorscale": [
                          [
                            0,
                            "#0d0887"
                          ],
                          [
                            0.1111111111111111,
                            "#46039f"
                          ],
                          [
                            0.2222222222222222,
                            "#7201a8"
                          ],
                          [
                            0.3333333333333333,
                            "#9c179e"
                          ],
                          [
                            0.4444444444444444,
                            "#bd3786"
                          ],
                          [
                            0.5555555555555556,
                            "#d8576b"
                          ],
                          [
                            0.6666666666666666,
                            "#ed7953"
                          ],
                          [
                            0.7777777777777778,
                            "#fb9f3a"
                          ],
                          [
                            0.8888888888888888,
                            "#fdca26"
                          ],
                          [
                            1,
                            "#f0f921"
                          ]
                        ],
                        "type": "contour"
                      }
                    ],
                    "contourcarpet": [
                      {
                        "colorbar": {
                          "outlinewidth": 0,
                          "ticks": ""
                        },
                        "type": "contourcarpet"
                      }
                    ],
                    "heatmap": [
                      {
                        "colorbar": {
                          "outlinewidth": 0,
                          "ticks": ""
                        },
                        "colorscale": [
                          [
                            0,
                            "#0d0887"
                          ],
                          [
                            0.1111111111111111,
                            "#46039f"
                          ],
                          [
                            0.2222222222222222,
                            "#7201a8"
                          ],
                          [
                            0.3333333333333333,
                            "#9c179e"
                          ],
                          [
                            0.4444444444444444,
                            "#bd3786"
                          ],
                          [
                            0.5555555555555556,
                            "#d8576b"
                          ],
                          [
                            0.6666666666666666,
                            "#ed7953"
                          ],
                          [
                            0.7777777777777778,
                            "#fb9f3a"
                          ],
                          [
                            0.8888888888888888,
                            "#fdca26"
                          ],
                          [
                            1,
                            "#f0f921"
                          ]
                        ],
                        "type": "heatmap"
                      }
                    ],
                    "heatmapgl": [
                      {
                        "colorbar": {
                          "outlinewidth": 0,
                          "ticks": ""
                        },
                        "colorscale": [
                          [
                            0,
                            "#0d0887"
                          ],
                          [
                            0.1111111111111111,
                            "#46039f"
                          ],
                          [
                            0.2222222222222222,
                            "#7201a8"
                          ],
                          [
                            0.3333333333333333,
                            "#9c179e"
                          ],
                          [
                            0.4444444444444444,
                            "#bd3786"
                          ],
                          [
                            0.5555555555555556,
                            "#d8576b"
                          ],
                          [
                            0.6666666666666666,
                            "#ed7953"
                          ],
                          [
                            0.7777777777777778,
                            "#fb9f3a"
                          ],
                          [
                            0.8888888888888888,
                            "#fdca26"
                          ],
                          [
                            1,
                            "#f0f921"
                          ]
                        ],
                        "type": "heatmapgl"
                      }
                    ],
                    "histogram": [
                      {
                        "marker": {
                          "pattern": {
                            "fillmode": "overlay",
                            "size": 10,
                            "solidity": 0.2
                          }
                        },
                        "type": "histogram"
                      }
                    ],
                    "histogram2d": [
                      {
                        "colorbar": {
                          "outlinewidth": 0,
                          "ticks": ""
                        },
                        "colorscale": [
                          [
                            0,
                            "#0d0887"
                          ],
                          [
                            0.1111111111111111,
                            "#46039f"
                          ],
                          [
                            0.2222222222222222,
                            "#7201a8"
                          ],
                          [
                            0.3333333333333333,
                            "#9c179e"
                          ],
                          [
                            0.4444444444444444,
                            "#bd3786"
                          ],
                          [
                            0.5555555555555556,
                            "#d8576b"
                          ],
                          [
                            0.6666666666666666,
                            "#ed7953"
                          ],
                          [
                            0.7777777777777778,
                            "#fb9f3a"
                          ],
                          [
                            0.8888888888888888,
                            "#fdca26"
                          ],
                          [
                            1,
                            "#f0f921"
                          ]
                        ],
                        "type": "histogram2d"
                      }
                    ],
                    "histogram2dcontour": [
                      {
                        "colorbar": {
                          "outlinewidth": 0,
                          "ticks": ""
                        },
                        "colorscale": [
                          [
                            0,
                            "#0d0887"
                          ],
                          [
                            0.1111111111111111,
                            "#46039f"
                          ],
                          [
                            0.2222222222222222,
                            "#7201a8"
                          ],
                          [
                            0.3333333333333333,
                            "#9c179e"
                          ],
                          [
                            0.4444444444444444,
                            "#bd3786"
                          ],
                          [
                            0.5555555555555556,
                            "#d8576b"
                          ],
                          [
                            0.6666666666666666,
                            "#ed7953"
                          ],
                          [
                            0.7777777777777778,
                            "#fb9f3a"
                          ],
                          [
                            0.8888888888888888,
                            "#fdca26"
                          ],
                          [
                            1,
                            "#f0f921"
                          ]
                        ],
                        "type": "histogram2dcontour"
                      }
                    ],
                    "mesh3d": [
                      {
                        "colorbar": {
                          "outlinewidth": 0,
                          "ticks": ""
                        },
                        "type": "mesh3d"
                      }
                    ],
                    "parcoords": [
                      {
                        "line": {
                          "colorbar": {
                            "outlinewidth": 0,
                            "ticks": ""
                          }
                        },
                        "type": "parcoords"
                      }
                    ],
                    "pie": [
                      {
                        "automargin": true,
                        "type": "pie"
                      }
                    ],
                    "scatter": [
                      {
                        "fillpattern": {
                          "fillmode": "overlay",
                          "size": 10,
                          "solidity": 0.2
                        },
                        "type": "scatter"
                      }
                    ],
                    "scatter3d": [
                      {
                        "line": {
                          "colorbar": {
                            "outlinewidth": 0,
                            "ticks": ""
                          }
                        },
                        "marker": {
                          "colorbar": {
                            "outlinewidth": 0,
                            "ticks": ""
                          }
                        },
                        "type": "scatter3d"
                      }
                    ],
                    "scattercarpet": [
                      {
                        "marker": {
                          "colorbar": {
                            "outlinewidth": 0,
                            "ticks": ""
                          }
                        },
                        "type": "scattercarpet"
                      }
                    ],
                    "scattergeo": [
                      {
                        "marker": {
                          "colorbar": {
                            "outlinewidth": 0,
                            "ticks": ""
                          }
                        },
                        "type": "scattergeo"
                      }
                    ],
                    "scattergl": [
                      {
                        "marker": {
                          "colorbar": {
                            "outlinewidth": 0,
                            "ticks": ""
                          }
                        },
                        "type": "scattergl"
                      }
                    ],
                    "scattermapbox": [
                      {
                        "marker": {
                          "colorbar": {
                            "outlinewidth": 0,
                            "ticks": ""
                          }
                        },
                        "type": "scattermapbox"
                      }
                    ],
                    "scatterpolar": [
                      {
                        "marker": {
                          "colorbar": {
                            "outlinewidth": 0,
                            "ticks": ""
                          }
                        },
                        "type": "scatterpolar"
                      }
                    ],
                    "scatterpolargl": [
                      {
                        "marker": {
                          "colorbar": {
                            "outlinewidth": 0,
                            "ticks": ""
                          }
                        },
                        "type": "scatterpolargl"
                      }
                    ],
                    "scatterternary": [
                      {
                        "marker": {
                          "colorbar": {
                            "outlinewidth": 0,
                            "ticks": ""
                          }
                        },
                        "type": "scatterternary"
                      }
                    ],
                    "surface": [
                      {
                        "colorbar": {
                          "outlinewidth": 0,
                          "ticks": ""
                        },
                        "colorscale": [
                          [
                            0,
                            "#0d0887"
                          ],
                          [
                            0.1111111111111111,
                            "#46039f"
                          ],
                          [
                            0.2222222222222222,
                            "#7201a8"
                          ],
                          [
                            0.3333333333333333,
                            "#9c179e"
                          ],
                          [
                            0.4444444444444444,
                            "#bd3786"
                          ],
                          [
                            0.5555555555555556,
                            "#d8576b"
                          ],
                          [
                            0.6666666666666666,
                            "#ed7953"
                          ],
                          [
                            0.7777777777777778,
                            "#fb9f3a"
                          ],
                          [
                            0.8888888888888888,
                            "#fdca26"
                          ],
                          [
                            1,
                            "#f0f921"
                          ]
                        ],
                        "type": "surface"
                      }
                    ],
                    "table": [
                      {
                        "cells": {
                          "fill": {
                            "color": "#EBF0F8"
                          },
                          "line": {
                            "color": "white"
                          }
                        },
                        "header": {
                          "fill": {
                            "color": "#C8D4E3"
                          },
                          "line": {
                            "color": "white"
                          }
                        },
                        "type": "table"
                      }
                    ]
                  },
                  "layout": {
                    "annotationdefaults": {
                      "arrowcolor": "#2a3f5f",
                      "arrowhead": 0,
                      "arrowwidth": 1
                    },
                    "autotypenumbers": "strict",
                    "coloraxis": {
                      "colorbar": {
                        "outlinewidth": 0,
                        "ticks": ""
                      }
                    },
                    "colorscale": {
                      "diverging": [
                        [
                          0,
                          "#8e0152"
                        ],
                        [
                          0.1,
                          "#c51b7d"
                        ],
                        [
                          0.2,
                          "#de77ae"
                        ],
                        [
                          0.3,
                          "#f1b6da"
                        ],
                        [
                          0.4,
                          "#fde0ef"
                        ],
                        [
                          0.5,
                          "#f7f7f7"
                        ],
                        [
                          0.6,
                          "#e6f5d0"
                        ],
                        [
                          0.7,
                          "#b8e186"
                        ],
                        [
                          0.8,
                          "#7fbc41"
                        ],
                        [
                          0.9,
                          "#4d9221"
                        ],
                        [
                          1,
                          "#276419"
                        ]
                      ],
                      "sequential": [
                        [
                          0,
                          "#0d0887"
                        ],
                        [
                          0.1111111111111111,
                          "#46039f"
                        ],
                        [
                          0.2222222222222222,
                          "#7201a8"
                        ],
                        [
                          0.3333333333333333,
                          "#9c179e"
                        ],
                        [
                          0.4444444444444444,
                          "#bd3786"
                        ],
                        [
                          0.5555555555555556,
                          "#d8576b"
                        ],
                        [
                          0.6666666666666666,
                          "#ed7953"
                        ],
                        [
                          0.7777777777777778,
                          "#fb9f3a"
                        ],
                        [
                          0.8888888888888888,
                          "#fdca26"
                        ],
                        [
                          1,
                          "#f0f921"
                        ]
                      ],
                      "sequentialminus": [
                        [
                          0,
                          "#0d0887"
                        ],
                        [
                          0.1111111111111111,
                          "#46039f"
                        ],
                        [
                          0.2222222222222222,
                          "#7201a8"
                        ],
                        [
                          0.3333333333333333,
                          "#9c179e"
                        ],
                        [
                          0.4444444444444444,
                          "#bd3786"
                        ],
                        [
                          0.5555555555555556,
                          "#d8576b"
                        ],
                        [
                          0.6666666666666666,
                          "#ed7953"
                        ],
                        [
                          0.7777777777777778,
                          "#fb9f3a"
                        ],
                        [
                          0.8888888888888888,
                          "#fdca26"
                        ],
                        [
                          1,
                          "#f0f921"
                        ]
                      ]
                    },
                    "colorway": [
                      "#636efa",
                      "#EF553B",
                      "#00cc96",
                      "#ab63fa",
                      "#FFA15A",
                      "#19d3f3",
                      "#FF6692",
                      "#B6E880",
                      "#FF97FF",
                      "#FECB52"
                    ],
                    "font": {
                      "color": "#2a3f5f"
                    },
                    "geo": {
                      "bgcolor": "white",
                      "lakecolor": "white",
                      "landcolor": "#E5ECF6",
                      "showlakes": true,
                      "showland": true,
                      "subunitcolor": "white"
                    },
                    "hoverlabel": {
                      "align": "left"
                    },
                    "hovermode": "closest",
                    "mapbox": {
                      "style": "light"
                    },
                    "paper_bgcolor": "white",
                    "plot_bgcolor": "#E5ECF6",
                    "polar": {
                      "angularaxis": {
                        "gridcolor": "white",
                        "linecolor": "white",
                        "ticks": ""
                      },
                      "bgcolor": "#E5ECF6",
                      "radialaxis": {
                        "gridcolor": "white",
                        "linecolor": "white",
                        "ticks": ""
                      }
                    },
                    "scene": {
                      "xaxis": {
                        "backgroundcolor": "#E5ECF6",
                        "gridcolor": "white",
                        "gridwidth": 2,
                        "linecolor": "white",
                        "showbackground": true,
                        "ticks": "",
                        "zerolinecolor": "white"
                      },
                      "yaxis": {
                        "backgroundcolor": "#E5ECF6",
                        "gridcolor": "white",
                        "gridwidth": 2,
                        "linecolor": "white",
                        "showbackground": true,
                        "ticks": "",
                        "zerolinecolor": "white"
                      },
                      "zaxis": {
                        "backgroundcolor": "#E5ECF6",
                        "gridcolor": "white",
                        "gridwidth": 2,
                        "linecolor": "white",
                        "showbackground": true,
                        "ticks": "",
                        "zerolinecolor": "white"
                      }
                    },
                    "shapedefaults": {
                      "line": {
                        "color": "#2a3f5f"
                      }
                    },
                    "ternary": {
                      "aaxis": {
                        "gridcolor": "white",
                        "linecolor": "white",
                        "ticks": ""
                      },
                      "baxis": {
                        "gridcolor": "white",
                        "linecolor": "white",
                        "ticks": ""
                      },
                      "bgcolor": "#E5ECF6",
                      "caxis": {
                        "gridcolor": "white",
                        "linecolor": "white",
                        "ticks": ""
                      }
                    },
                    "title": {
                      "x": 0.05
                    },
                    "xaxis": {
                      "automargin": true,
                      "gridcolor": "white",
                      "linecolor": "white",
                      "ticks": "",
                      "title": {
                        "standoff": 15
                      },
                      "zerolinecolor": "white",
                      "zerolinewidth": 2
                    },
                    "yaxis": {
                      "automargin": true,
                      "gridcolor": "white",
                      "linecolor": "white",
                      "ticks": "",
                      "title": {
                        "standoff": 15
                      },
                      "zerolinecolor": "white",
                      "zerolinewidth": 2
                    }
                  }
                },
                "xaxis": {
                  "anchor": "y",
                  "domain": [
                    0,
                    1
                  ],
                  "rangeselector": {
                    "buttons": [
                      {
                        "count": 1,
                        "label": "YTD",
                        "step": "year",
                        "stepmode": "todate"
                      },
                      {
                        "count": 1,
                        "label": "1y",
                        "step": "year",
                        "stepmode": "backward"
                      },
                      {
                        "count": 3,
                        "label": "3y",
                        "step": "year",
                        "stepmode": "backward"
                      },
                      {
                        "count": 5,
                        "label": "5y",
                        "step": "year",
                        "stepmode": "backward"
                      },
                      {
                        "count": 7,
                        "label": "7y",
                        "step": "year",
                        "stepmode": "backward"
                      },
                      {
                        "count": 10,
                        "label": "10y",
                        "step": "year",
                        "stepmode": "backward"
                      },
                      {
                        "step": "all"
                      }
                    ]
                  },
                  "rangeslider": {
                    "visible": true
                  },
                  "title": {
                    "text": "Date"
                  }
                },
                "yaxis": {
                  "anchor": "x",
                  "domain": [
                    0,
                    1
                  ],
                  "title": {
                    "text": "M"
                  }
                }
              }
            }
          },
          "metadata": {},
          "output_type": "display_data"
        }
      ],
      "source": [
        "import pandas as pd\n",
        "import plotly.express as px\n",
        "import plotly.graph_objects as go\n",
        "\n",
        "df_show = dfs_tongmuc[\n",
        "    (\n",
        "        (dfs_tongmuc[\"Phân Loại\"] == \"TỔNG SỐ\")\n",
        "        | (dfs_tongmuc[\"Phân Loại\"] == \"Bán lẻ hàng hóa\")\n",
        "        | (dfs_tongmuc[\"Phân Loại\"] == \"Dịch vụ lưu trú, ăn uống\")\n",
        "        # | (dfs_tongmuc[\"Phân Loại\"] == \"Du lịch lữ hành\")\n",
        "        # | (dfs_tongmuc[\"Phân Loại\"] == \"Dịch vụ khác\")\n",
        "    )\n",
        "    # & (dfs_tongmuc[\"Date\"] > \"2021-01-01\")\n",
        "]\n",
        "\n",
        "fig = px.area(df_show, x=\"Date\", y=\"M\", color=\"Phân Loại\")\n",
        "\n",
        "fig.update_xaxes(\n",
        "    rangeslider_visible=True,\n",
        "    rangeselector=dict(\n",
        "        buttons=[\n",
        "            dict(count=1, label=\"YTD\", step=\"year\", stepmode=\"todate\"),\n",
        "            dict(count=1, label=\"1y\", step=\"year\", stepmode=\"backward\"),\n",
        "            dict(count=3, label=\"3y\", step=\"year\", stepmode=\"backward\"),\n",
        "            dict(count=5, label=\"5y\", step=\"year\", stepmode=\"backward\"),\n",
        "            dict(count=7, label=\"7y\", step=\"year\", stepmode=\"backward\"),\n",
        "            dict(count=10, label=\"10y\", step=\"year\", stepmode=\"backward\"),\n",
        "            dict(step=\"all\"),\n",
        "        ]\n",
        "    ),\n",
        ")\n",
        "\n",
        "fig.show()"
      ]
    },
    {
      "cell_type": "code",
      "execution_count": null,
      "metadata": {},
      "outputs": [],
      "source": []
    }
  ],
  "metadata": {
    "kernelspec": {
      "display_name": "vn-macroeconomics",
      "language": "python",
      "name": "python3"
    },
    "language_info": {
      "codemirror_mode": {
        "name": "ipython",
        "version": 3
      },
      "file_extension": ".py",
      "mimetype": "text/x-python",
      "name": "python",
      "nbconvert_exporter": "python",
      "pygments_lexer": "ipython3",
      "version": "3.9.12"
    },
    "orig_nbformat": 4
  },
  "nbformat": 4,
  "nbformat_minor": 2
}
