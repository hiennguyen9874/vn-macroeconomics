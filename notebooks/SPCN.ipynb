{
  "cells": [
    {
      "cell_type": "code",
      "execution_count": 1,
      "metadata": {},
      "outputs": [],
      "source": [
        "import pandas as pd\n",
        "import seaborn as sns\n",
        "import numpy as np\n",
        "from datetime import date, timedelta"
      ]
    },
    {
      "cell_type": "code",
      "execution_count": 2,
      "metadata": {},
      "outputs": [],
      "source": [
        "def find_sheet_name(sheet_names):\n",
        "    iip_sheet_names = list(filter(lambda x: \"spcn\" in x.lower(), sheet_names))\n",
        "\n",
        "    if len(iip_sheet_names) == 1:\n",
        "        return iip_sheet_names[0]\n",
        "\n",
        "    iip_sheet_names = list(filter(lambda x: \"sp cn\" in x.lower(), sheet_names))\n",
        "\n",
        "    if len(iip_sheet_names) == 1:\n",
        "        return iip_sheet_names[0]\n",
        "\n",
        "    iip_sheet_names = list(\n",
        "        filter(lambda x: \"spcn\" in x.lower() and \"thang\" in x.lower(), sheet_names)\n",
        "    )\n",
        "\n",
        "    if len(iip_sheet_names) == 1:\n",
        "        return iip_sheet_names[0]\n",
        "    \n",
        "    iip_sheet_names = list(filter(lambda x: \"sp\" in x.lower(), sheet_names))\n",
        "\n",
        "    if len(iip_sheet_names) == 1:\n",
        "        return iip_sheet_names[0]\n",
        "\n",
        "    # iip_sheet_names = list(filter(lambda x: \"thang\" in x.lower(), iip_sheet_names))\n",
        "\n",
        "    # if len(iip_sheet_names) == 1:\n",
        "    #     return iip_sheet_names[0]\n",
        "\n",
        "    if len(sheet_names) == 43:\n",
        "        return \"9\"\n",
        "\n",
        "    # iip_sheet_names = list(filter(lambda x: \"gtcn\" in x.lower(), sheet_names))\n",
        "\n",
        "    # if len(iip_sheet_names) == 1:\n",
        "    #     return iip_sheet_names[0]\n",
        "\n",
        "    raise RuntimeError(sheet_names, iip_sheet_names)"
      ]
    },
    {
      "cell_type": "code",
      "execution_count": 3,
      "metadata": {},
      "outputs": [],
      "source": [
        "en_to_vn = {\n",
        "    \"Coal (pure)\": \"Than đá (than sạch)\",\n",
        "    \"Extracted crude oil\": \"Dầu mỏ thô khai thác\",\n",
        "    \"Natural gas (in the form of air)\": \"Khí đốt thiên nhiên dạng khí\",\n",
        "    \"Liquidized gas (LPG)\": \"Khí hoá lỏng (LPG)\",\n",
        "    \"Petroleum\": \"Xăng, dầu\",\n",
        "    \"Aluminium\": \"Alumin\",\n",
        "    \"Processed fishery products\": \"Thuỷ hải sản chế biến\",\n",
        "    \"Fresh milk\": \"Sữa tươi\",\n",
        "    \"Powder milk\": \"Sữa bột\",\n",
        "    \"Refined sugar\": \"Đường kính\",\n",
        "    \"Monosodium glutamate\": \"Bột ngọt\",\n",
        "    \"Animal feed\": \"Thức ăn cho gia súc\",\n",
        "    \"Aquatic feed\": \"Thức ăn cho thủy sản\",\n",
        "    \"Beer\": \"Bia\",\n",
        "    \"Cigarettes\": \"Thuốc lá điếu\",\n",
        "    \"Textile fabric from natural yarn\": \"Vải dệt từ sợi tự nhiên\",\n",
        "    \"Textile fabric from polyester or artificial yarn\": \"Vải dệt từ sợi tổng hợp hoặc sợi nhân tạo\",\n",
        "    \"Clothes\": \"Quần áo mặc thường\",\n",
        "    \"Leather footgear\": \"Giày, dép da\",\n",
        "    \"Urea fertilizer\": \"Phân U rê\",\n",
        "    \"N.P.K mixed fertilizer\": \"Phân hỗn hợp N.P.K\",\n",
        "    \"Chemical paint\": \"Sơn hoá học \",\n",
        "    \"Cement\": \"Xi măng\",\n",
        "    \"Crude steel, iron\": \"Sắt, thép thô\",\n",
        "    \"Laminated steel\": \"Thép cán\",\n",
        "    \"Steel bars and corners\": \"Thép thanh, thép góc\",\n",
        "    \"Mobile phone\": \"Điện thoại di động\",\n",
        "    \"Phone accessories\": \"Linh kiện điện thoại\",\n",
        "    \"Television\": \"Tivi \",\n",
        "    \"Automobile\": \"Ô tô\",\n",
        "    \"Motorbike\": \"Xe máy\",\n",
        "    \"Generated electricity\": \"Điện sản xuất\",\n",
        "    \"Running water\": \"Nước máy thương phẩm\",\n",
        "}"
      ]
    },
    {
      "cell_type": "code",
      "execution_count": 4,
      "metadata": {},
      "outputs": [
        {
          "data": {
            "text/html": [
              "<div>\n",
              "<style scoped>\n",
              "    .dataframe tbody tr th:only-of-type {\n",
              "        vertical-align: middle;\n",
              "    }\n",
              "\n",
              "    .dataframe tbody tr th {\n",
              "        vertical-align: top;\n",
              "    }\n",
              "\n",
              "    .dataframe thead th {\n",
              "        text-align: right;\n",
              "    }\n",
              "</style>\n",
              "<table border=\"1\" class=\"dataframe\">\n",
              "  <thead>\n",
              "    <tr style=\"text-align: right;\">\n",
              "      <th></th>\n",
              "      <th>Ngành</th>\n",
              "      <th>Total-Pre-Month</th>\n",
              "      <th>Total-M</th>\n",
              "      <th>Total-YTD</th>\n",
              "      <th>YOY</th>\n",
              "      <th>YTD-YOY</th>\n",
              "      <th>MOM</th>\n",
              "      <th>Date</th>\n",
              "      <th>Month</th>\n",
              "      <th>PreMonth</th>\n",
              "    </tr>\n",
              "  </thead>\n",
              "  <tbody>\n",
              "    <tr>\n",
              "      <th>4</th>\n",
              "      <td>Than đá (than sạch)</td>\n",
              "      <td>5670.9</td>\n",
              "      <td>4019.2</td>\n",
              "      <td>9690.1</td>\n",
              "      <td>1.578896</td>\n",
              "      <td>-5.552874</td>\n",
              "      <td>-29.125888</td>\n",
              "      <td>2017-03-29</td>\n",
              "      <td>2017-03</td>\n",
              "      <td>2017-02</td>\n",
              "    </tr>\n",
              "    <tr>\n",
              "      <th>5</th>\n",
              "      <td>Dầu mỏ thô khai thác</td>\n",
              "      <td>2272.0</td>\n",
              "      <td>1168.0</td>\n",
              "      <td>3440.0</td>\n",
              "      <td>-14.117647</td>\n",
              "      <td>-14.851485</td>\n",
              "      <td>-48.591549</td>\n",
              "      <td>2017-03-29</td>\n",
              "      <td>2017-03</td>\n",
              "      <td>2017-02</td>\n",
              "    </tr>\n",
              "    <tr>\n",
              "      <th>6</th>\n",
              "      <td>Khí đốt thiên nhiên dạng khí</td>\n",
              "      <td>1515.0</td>\n",
              "      <td>1000.0</td>\n",
              "      <td>2515.0</td>\n",
              "      <td>1.926409</td>\n",
              "      <td>-8.913114</td>\n",
              "      <td>-33.993399</td>\n",
              "      <td>2017-03-29</td>\n",
              "      <td>2017-03</td>\n",
              "      <td>2017-02</td>\n",
              "    </tr>\n",
              "    <tr>\n",
              "      <th>7</th>\n",
              "      <td>Khí hoá lỏng (LPG)</td>\n",
              "      <td>130.5</td>\n",
              "      <td>70.4</td>\n",
              "      <td>200.9</td>\n",
              "      <td>2.579533</td>\n",
              "      <td>-3.938969</td>\n",
              "      <td>-46.053640</td>\n",
              "      <td>2017-03-29</td>\n",
              "      <td>2017-03</td>\n",
              "      <td>2017-02</td>\n",
              "    </tr>\n",
              "    <tr>\n",
              "      <th>8</th>\n",
              "      <td>Thuỷ hải sản chế biến</td>\n",
              "      <td>375.4</td>\n",
              "      <td>430.1</td>\n",
              "      <td>805.5</td>\n",
              "      <td>15.000000</td>\n",
              "      <td>10.166908</td>\n",
              "      <td>14.571124</td>\n",
              "      <td>2017-03-29</td>\n",
              "      <td>2017-03</td>\n",
              "      <td>2017-02</td>\n",
              "    </tr>\n",
              "    <tr>\n",
              "      <th>9</th>\n",
              "      <td>Sữa tươi</td>\n",
              "      <td>189.5</td>\n",
              "      <td>104.2</td>\n",
              "      <td>293.7</td>\n",
              "      <td>2.054285</td>\n",
              "      <td>12.734145</td>\n",
              "      <td>-45.013193</td>\n",
              "      <td>2017-03-29</td>\n",
              "      <td>2017-03</td>\n",
              "      <td>2017-02</td>\n",
              "    </tr>\n",
              "    <tr>\n",
              "      <th>10</th>\n",
              "      <td>Sữa bột</td>\n",
              "      <td>16.5</td>\n",
              "      <td>9.3</td>\n",
              "      <td>25.8</td>\n",
              "      <td>15.486985</td>\n",
              "      <td>5.525086</td>\n",
              "      <td>-43.636364</td>\n",
              "      <td>2017-03-29</td>\n",
              "      <td>2017-03</td>\n",
              "      <td>2017-02</td>\n",
              "    </tr>\n",
              "    <tr>\n",
              "      <th>11</th>\n",
              "      <td>Đường kính</td>\n",
              "      <td>476.6</td>\n",
              "      <td>312.7</td>\n",
              "      <td>789.3</td>\n",
              "      <td>-6.200000</td>\n",
              "      <td>-7.367391</td>\n",
              "      <td>-34.389425</td>\n",
              "      <td>2017-03-29</td>\n",
              "      <td>2017-03</td>\n",
              "      <td>2017-02</td>\n",
              "    </tr>\n",
              "    <tr>\n",
              "      <th>12</th>\n",
              "      <td>Bột ngọt</td>\n",
              "      <td>45.3</td>\n",
              "      <td>23.8</td>\n",
              "      <td>69.1</td>\n",
              "      <td>3.133669</td>\n",
              "      <td>5.192788</td>\n",
              "      <td>-47.461369</td>\n",
              "      <td>2017-03-29</td>\n",
              "      <td>2017-03</td>\n",
              "      <td>2017-02</td>\n",
              "    </tr>\n",
              "    <tr>\n",
              "      <th>13</th>\n",
              "      <td>Thức ăn cho gia súc</td>\n",
              "      <td>1944.7</td>\n",
              "      <td>2071.2</td>\n",
              "      <td>4015.9</td>\n",
              "      <td>16.000000</td>\n",
              "      <td>9.346951</td>\n",
              "      <td>6.504859</td>\n",
              "      <td>2017-03-29</td>\n",
              "      <td>2017-03</td>\n",
              "      <td>2017-02</td>\n",
              "    </tr>\n",
              "    <tr>\n",
              "      <th>14</th>\n",
              "      <td>Thức ăn cho thủy sản</td>\n",
              "      <td>481.2</td>\n",
              "      <td>262.3</td>\n",
              "      <td>743.5</td>\n",
              "      <td>11.371848</td>\n",
              "      <td>5.372131</td>\n",
              "      <td>-45.490441</td>\n",
              "      <td>2017-03-29</td>\n",
              "      <td>2017-03</td>\n",
              "      <td>2017-02</td>\n",
              "    </tr>\n",
              "    <tr>\n",
              "      <th>15</th>\n",
              "      <td>Bia</td>\n",
              "      <td>548.0</td>\n",
              "      <td>270.0</td>\n",
              "      <td>818.0</td>\n",
              "      <td>11.870522</td>\n",
              "      <td>9.020156</td>\n",
              "      <td>-50.729927</td>\n",
              "      <td>2017-03-29</td>\n",
              "      <td>2017-03</td>\n",
              "      <td>2017-02</td>\n",
              "    </tr>\n",
              "    <tr>\n",
              "      <th>16</th>\n",
              "      <td>Thuốc lá điếu</td>\n",
              "      <td>788.8</td>\n",
              "      <td>859.0</td>\n",
              "      <td>1647.8</td>\n",
              "      <td>1.900000</td>\n",
              "      <td>1.517459</td>\n",
              "      <td>8.899594</td>\n",
              "      <td>2017-03-29</td>\n",
              "      <td>2017-03</td>\n",
              "      <td>2017-02</td>\n",
              "    </tr>\n",
              "    <tr>\n",
              "      <th>17</th>\n",
              "      <td>Vải dệt từ sợi tự nhiên</td>\n",
              "      <td>51.6</td>\n",
              "      <td>29.4</td>\n",
              "      <td>81.0</td>\n",
              "      <td>-10.046508</td>\n",
              "      <td>1.095045</td>\n",
              "      <td>-43.023256</td>\n",
              "      <td>2017-03-29</td>\n",
              "      <td>2017-03</td>\n",
              "      <td>2017-02</td>\n",
              "    </tr>\n",
              "    <tr>\n",
              "      <th>18</th>\n",
              "      <td>Vải dệt từ sợi tổng hợp hoặc sợi nhân tạo</td>\n",
              "      <td>111.4</td>\n",
              "      <td>112.0</td>\n",
              "      <td>223.4</td>\n",
              "      <td>4.700000</td>\n",
              "      <td>7.559685</td>\n",
              "      <td>0.538600</td>\n",
              "      <td>2017-03-29</td>\n",
              "      <td>2017-03</td>\n",
              "      <td>2017-02</td>\n",
              "    </tr>\n",
              "    <tr>\n",
              "      <th>19</th>\n",
              "      <td>Quần áo mặc thường</td>\n",
              "      <td>569.2</td>\n",
              "      <td>315.1</td>\n",
              "      <td>884.3</td>\n",
              "      <td>4.240450</td>\n",
              "      <td>9.499072</td>\n",
              "      <td>-44.641602</td>\n",
              "      <td>2017-03-29</td>\n",
              "      <td>2017-03</td>\n",
              "      <td>2017-02</td>\n",
              "    </tr>\n",
              "    <tr>\n",
              "      <th>20</th>\n",
              "      <td>Giày, dép da</td>\n",
              "      <td>32.7</td>\n",
              "      <td>34.6</td>\n",
              "      <td>67.3</td>\n",
              "      <td>-2.800000</td>\n",
              "      <td>-1.637276</td>\n",
              "      <td>5.810398</td>\n",
              "      <td>2017-03-29</td>\n",
              "      <td>2017-03</td>\n",
              "      <td>2017-02</td>\n",
              "    </tr>\n",
              "    <tr>\n",
              "      <th>21</th>\n",
              "      <td>Phân Ure</td>\n",
              "      <td>388.6</td>\n",
              "      <td>228.7</td>\n",
              "      <td>617.3</td>\n",
              "      <td>32.125445</td>\n",
              "      <td>18.545628</td>\n",
              "      <td>-41.147710</td>\n",
              "      <td>2017-03-29</td>\n",
              "      <td>2017-03</td>\n",
              "      <td>2017-02</td>\n",
              "    </tr>\n",
              "    <tr>\n",
              "      <th>22</th>\n",
              "      <td>Phân hỗn hợp N.P.K</td>\n",
              "      <td>364.1</td>\n",
              "      <td>194.1</td>\n",
              "      <td>558.2</td>\n",
              "      <td>12.331509</td>\n",
              "      <td>8.440590</td>\n",
              "      <td>-46.690470</td>\n",
              "      <td>2017-03-29</td>\n",
              "      <td>2017-03</td>\n",
              "      <td>2017-02</td>\n",
              "    </tr>\n",
              "    <tr>\n",
              "      <th>23</th>\n",
              "      <td>Sơn hoá học</td>\n",
              "      <td>100.8</td>\n",
              "      <td>110.3</td>\n",
              "      <td>211.1</td>\n",
              "      <td>15.100000</td>\n",
              "      <td>12.059484</td>\n",
              "      <td>9.424603</td>\n",
              "      <td>2017-03-29</td>\n",
              "      <td>2017-03</td>\n",
              "      <td>2017-02</td>\n",
              "    </tr>\n",
              "    <tr>\n",
              "      <th>24</th>\n",
              "      <td>Dầu gội đầu, dầu xả</td>\n",
              "      <td>10.1</td>\n",
              "      <td>5.7</td>\n",
              "      <td>15.8</td>\n",
              "      <td>2.252274</td>\n",
              "      <td>4.701016</td>\n",
              "      <td>-43.564356</td>\n",
              "      <td>2017-03-29</td>\n",
              "      <td>2017-03</td>\n",
              "      <td>2017-02</td>\n",
              "    </tr>\n",
              "    <tr>\n",
              "      <th>25</th>\n",
              "      <td>Xi măng</td>\n",
              "      <td>11.1</td>\n",
              "      <td>7.0</td>\n",
              "      <td>18.1</td>\n",
              "      <td>2.444197</td>\n",
              "      <td>5.389564</td>\n",
              "      <td>-36.936937</td>\n",
              "      <td>2017-03-29</td>\n",
              "      <td>2017-03</td>\n",
              "      <td>2017-02</td>\n",
              "    </tr>\n",
              "    <tr>\n",
              "      <th>26</th>\n",
              "      <td>Sắt, thép thô</td>\n",
              "      <td>869.2</td>\n",
              "      <td>467.0</td>\n",
              "      <td>1336.2</td>\n",
              "      <td>18.817616</td>\n",
              "      <td>23.249297</td>\n",
              "      <td>-46.272434</td>\n",
              "      <td>2017-03-29</td>\n",
              "      <td>2017-03</td>\n",
              "      <td>2017-02</td>\n",
              "    </tr>\n",
              "    <tr>\n",
              "      <th>27</th>\n",
              "      <td>Thép cán</td>\n",
              "      <td>986.9</td>\n",
              "      <td>502.4</td>\n",
              "      <td>1489.3</td>\n",
              "      <td>30.217110</td>\n",
              "      <td>32.226947</td>\n",
              "      <td>-49.093120</td>\n",
              "      <td>2017-03-29</td>\n",
              "      <td>2017-03</td>\n",
              "      <td>2017-02</td>\n",
              "    </tr>\n",
              "    <tr>\n",
              "      <th>28</th>\n",
              "      <td>Thép thanh, thép góc</td>\n",
              "      <td>739.7</td>\n",
              "      <td>439.1</td>\n",
              "      <td>1178.8</td>\n",
              "      <td>5.437091</td>\n",
              "      <td>8.051487</td>\n",
              "      <td>-40.638097</td>\n",
              "      <td>2017-03-29</td>\n",
              "      <td>2017-03</td>\n",
              "      <td>2017-02</td>\n",
              "    </tr>\n",
              "    <tr>\n",
              "      <th>29</th>\n",
              "      <td>Điện thoại di động</td>\n",
              "      <td>29.5</td>\n",
              "      <td>17.4</td>\n",
              "      <td>46.9</td>\n",
              "      <td>-11.207873</td>\n",
              "      <td>-8.190081</td>\n",
              "      <td>-41.016949</td>\n",
              "      <td>2017-03-29</td>\n",
              "      <td>2017-03</td>\n",
              "      <td>2017-02</td>\n",
              "    </tr>\n",
              "    <tr>\n",
              "      <th>30</th>\n",
              "      <td>Tivi</td>\n",
              "      <td>1224.9</td>\n",
              "      <td>817.7</td>\n",
              "      <td>2042.6</td>\n",
              "      <td>65.279085</td>\n",
              "      <td>43.283269</td>\n",
              "      <td>-33.243530</td>\n",
              "      <td>2017-03-29</td>\n",
              "      <td>2017-03</td>\n",
              "      <td>2017-02</td>\n",
              "    </tr>\n",
              "    <tr>\n",
              "      <th>31</th>\n",
              "      <td>Ô tô</td>\n",
              "      <td>33.9</td>\n",
              "      <td>19.4</td>\n",
              "      <td>53.3</td>\n",
              "      <td>-0.792936</td>\n",
              "      <td>9.958884</td>\n",
              "      <td>-42.772861</td>\n",
              "      <td>2017-03-29</td>\n",
              "      <td>2017-03</td>\n",
              "      <td>2017-02</td>\n",
              "    </tr>\n",
              "    <tr>\n",
              "      <th>32</th>\n",
              "      <td>Xe máy</td>\n",
              "      <td>590.9</td>\n",
              "      <td>288.8</td>\n",
              "      <td>879.7</td>\n",
              "      <td>-3.607949</td>\n",
              "      <td>-0.598236</td>\n",
              "      <td>-51.125402</td>\n",
              "      <td>2017-03-29</td>\n",
              "      <td>2017-03</td>\n",
              "      <td>2017-02</td>\n",
              "    </tr>\n",
              "    <tr>\n",
              "      <th>33</th>\n",
              "      <td>Điện sản xuất</td>\n",
              "      <td>26.3</td>\n",
              "      <td>15.9</td>\n",
              "      <td>42.2</td>\n",
              "      <td>12.284700</td>\n",
              "      <td>9.517375</td>\n",
              "      <td>-39.543726</td>\n",
              "      <td>2017-03-29</td>\n",
              "      <td>2017-03</td>\n",
              "      <td>2017-02</td>\n",
              "    </tr>\n",
              "    <tr>\n",
              "      <th>34</th>\n",
              "      <td>Nước máy thương phẩm</td>\n",
              "      <td>432.0</td>\n",
              "      <td>219.5</td>\n",
              "      <td>651.5</td>\n",
              "      <td>9.472416</td>\n",
              "      <td>8.432884</td>\n",
              "      <td>-49.189815</td>\n",
              "      <td>2017-03-29</td>\n",
              "      <td>2017-03</td>\n",
              "      <td>2017-02</td>\n",
              "    </tr>\n",
              "  </tbody>\n",
              "</table>\n",
              "</div>"
            ],
            "text/plain": [
              "                                        Ngành  Total-Pre-Month  Total-M  \\\n",
              "4                         Than đá (than sạch)           5670.9   4019.2   \n",
              "5                        Dầu mỏ thô khai thác           2272.0   1168.0   \n",
              "6                Khí đốt thiên nhiên dạng khí           1515.0   1000.0   \n",
              "7                          Khí hoá lỏng (LPG)            130.5     70.4   \n",
              "8                       Thuỷ hải sản chế biến            375.4    430.1   \n",
              "9                                    Sữa tươi            189.5    104.2   \n",
              "10                                    Sữa bột             16.5      9.3   \n",
              "11                                 Đường kính            476.6    312.7   \n",
              "12                                   Bột ngọt             45.3     23.8   \n",
              "13                        Thức ăn cho gia súc           1944.7   2071.2   \n",
              "14                       Thức ăn cho thủy sản            481.2    262.3   \n",
              "15                                        Bia            548.0    270.0   \n",
              "16                              Thuốc lá điếu            788.8    859.0   \n",
              "17                    Vải dệt từ sợi tự nhiên             51.6     29.4   \n",
              "18  Vải dệt từ sợi tổng hợp hoặc sợi nhân tạo            111.4    112.0   \n",
              "19                         Quần áo mặc thường            569.2    315.1   \n",
              "20                               Giày, dép da             32.7     34.6   \n",
              "21                                   Phân Ure            388.6    228.7   \n",
              "22                         Phân hỗn hợp N.P.K            364.1    194.1   \n",
              "23                                Sơn hoá học            100.8    110.3   \n",
              "24                        Dầu gội đầu, dầu xả             10.1      5.7   \n",
              "25                                    Xi măng             11.1      7.0   \n",
              "26                              Sắt, thép thô            869.2    467.0   \n",
              "27                                   Thép cán            986.9    502.4   \n",
              "28                       Thép thanh, thép góc            739.7    439.1   \n",
              "29                         Điện thoại di động             29.5     17.4   \n",
              "30                                       Tivi           1224.9    817.7   \n",
              "31                                       Ô tô             33.9     19.4   \n",
              "32                                     Xe máy            590.9    288.8   \n",
              "33                              Điện sản xuất             26.3     15.9   \n",
              "34                       Nước máy thương phẩm            432.0    219.5   \n",
              "\n",
              "    Total-YTD        YOY    YTD-YOY        MOM       Date    Month PreMonth  \n",
              "4      9690.1   1.578896  -5.552874 -29.125888 2017-03-29  2017-03  2017-02  \n",
              "5      3440.0 -14.117647 -14.851485 -48.591549 2017-03-29  2017-03  2017-02  \n",
              "6      2515.0   1.926409  -8.913114 -33.993399 2017-03-29  2017-03  2017-02  \n",
              "7       200.9   2.579533  -3.938969 -46.053640 2017-03-29  2017-03  2017-02  \n",
              "8       805.5  15.000000  10.166908  14.571124 2017-03-29  2017-03  2017-02  \n",
              "9       293.7   2.054285  12.734145 -45.013193 2017-03-29  2017-03  2017-02  \n",
              "10       25.8  15.486985   5.525086 -43.636364 2017-03-29  2017-03  2017-02  \n",
              "11      789.3  -6.200000  -7.367391 -34.389425 2017-03-29  2017-03  2017-02  \n",
              "12       69.1   3.133669   5.192788 -47.461369 2017-03-29  2017-03  2017-02  \n",
              "13     4015.9  16.000000   9.346951   6.504859 2017-03-29  2017-03  2017-02  \n",
              "14      743.5  11.371848   5.372131 -45.490441 2017-03-29  2017-03  2017-02  \n",
              "15      818.0  11.870522   9.020156 -50.729927 2017-03-29  2017-03  2017-02  \n",
              "16     1647.8   1.900000   1.517459   8.899594 2017-03-29  2017-03  2017-02  \n",
              "17       81.0 -10.046508   1.095045 -43.023256 2017-03-29  2017-03  2017-02  \n",
              "18      223.4   4.700000   7.559685   0.538600 2017-03-29  2017-03  2017-02  \n",
              "19      884.3   4.240450   9.499072 -44.641602 2017-03-29  2017-03  2017-02  \n",
              "20       67.3  -2.800000  -1.637276   5.810398 2017-03-29  2017-03  2017-02  \n",
              "21      617.3  32.125445  18.545628 -41.147710 2017-03-29  2017-03  2017-02  \n",
              "22      558.2  12.331509   8.440590 -46.690470 2017-03-29  2017-03  2017-02  \n",
              "23      211.1  15.100000  12.059484   9.424603 2017-03-29  2017-03  2017-02  \n",
              "24       15.8   2.252274   4.701016 -43.564356 2017-03-29  2017-03  2017-02  \n",
              "25       18.1   2.444197   5.389564 -36.936937 2017-03-29  2017-03  2017-02  \n",
              "26     1336.2  18.817616  23.249297 -46.272434 2017-03-29  2017-03  2017-02  \n",
              "27     1489.3  30.217110  32.226947 -49.093120 2017-03-29  2017-03  2017-02  \n",
              "28     1178.8   5.437091   8.051487 -40.638097 2017-03-29  2017-03  2017-02  \n",
              "29       46.9 -11.207873  -8.190081 -41.016949 2017-03-29  2017-03  2017-02  \n",
              "30     2042.6  65.279085  43.283269 -33.243530 2017-03-29  2017-03  2017-02  \n",
              "31       53.3  -0.792936   9.958884 -42.772861 2017-03-29  2017-03  2017-02  \n",
              "32      879.7  -3.607949  -0.598236 -51.125402 2017-03-29  2017-03  2017-02  \n",
              "33       42.2  12.284700   9.517375 -39.543726 2017-03-29  2017-03  2017-02  \n",
              "34      651.5   9.472416   8.432884 -49.189815 2017-03-29  2017-03  2017-02  "
            ]
          },
          "execution_count": 4,
          "metadata": {},
          "output_type": "execute_result"
        }
      ],
      "source": [
        "def get_spcn(xl, sheet_name, date):\n",
        "    df = xl.parse(sheet_name)\n",
        "\n",
        "    df = df.dropna(axis=1, how=\"all\").dropna(axis=0, how=\"all\")\n",
        "\n",
        "    df[df.columns[0]] = (\n",
        "        df[df.columns[0]]\n",
        "        .replace(r\"\\s+\", \" \", regex=True)\n",
        "        .replace(r\"\\n\", \" \", regex=True)\n",
        "    )\n",
        "\n",
        "    df[df.columns[0]] = df[df.columns[0]].str.strip()\n",
        "\n",
        "    df.reset_index(inplace=True, drop=True)\n",
        "\n",
        "    df = df.drop(\n",
        "        list(\n",
        "            range(\n",
        "                df[df.columns[0]][\n",
        "                    (df[df.columns[0]] == \"Than đá (than sạch)\")\n",
        "                    | ((df[df.columns[0]] == \"Coal (pure)\"))\n",
        "                ].index[0]\n",
        "            )\n",
        "        )\n",
        "    )\n",
        "\n",
        "    if len(df[df.columns[0]][df[df.columns[0]] == \"Coal (pure)\"].index) > 0:\n",
        "        df[df.columns[0]] = df[df.columns[0]].map(en_to_vn)\n",
        "\n",
        "    df = df.drop(columns=[df.columns[1]])\n",
        "\n",
        "    if len(df.columns) == 5 and int(date.split(\"-\")[1]) == 1:\n",
        "        df.columns = [\"Ngành\", \"Total-Pre-Month\", \"Total-M\", \"MOM\", \"YOY\"]\n",
        "        df[\"Total-YTD\"] = df[\"Total-M\"]\n",
        "        df[\"YTD-YOY\"] = df[\"YOY\"]\n",
        "    elif len(df.columns) == 6:\n",
        "        df.columns = [\n",
        "            \"Ngành\",\n",
        "            \"Total-Pre-Month\",\n",
        "            \"Total-M\",\n",
        "            \"Total-YTD\",\n",
        "            \"YOY\",\n",
        "            \"YTD-YOY\",\n",
        "        ]\n",
        "    elif len(df.columns) == 8:\n",
        "        df = df.drop(columns=[df.columns[6], df.columns[7]])\n",
        "        df.columns = [\n",
        "            \"Ngành\",\n",
        "            \"Total-Pre-Month\",\n",
        "            \"Total-M\",\n",
        "            \"Total-YTD\",\n",
        "            \"YOY\",\n",
        "            \"YTD-YOY\",\n",
        "        ]\n",
        "    else:\n",
        "        raise RuntimeError\n",
        "\n",
        "    df[\"Total-Pre-Month\"] = df[\"Total-Pre-Month\"].astype(float)\n",
        "    df[\"Total-M\"] = df[\"Total-M\"].astype(float)\n",
        "    df[\"Total-YTD\"] = df[\"Total-YTD\"].astype(float)\n",
        "    df[\"YOY\"] = (df[\"YOY\"] - 100).astype(float)\n",
        "    df[\"YTD-YOY\"] = (df[\"YTD-YOY\"] - 100).astype(float)\n",
        "\n",
        "    df = df[df[\"YOY\"].notna()]\n",
        "    df = df[df[\"YTD-YOY\"].notna()]\n",
        "\n",
        "    df[\"MOM\"] = 100 * (df[\"Total-M\"] / df[\"Total-Pre-Month\"]) - 100\n",
        "\n",
        "    df[\"Date\"] = date\n",
        "    df[\"Date\"] = pd.to_datetime(df[\"Date\"], dayfirst=False)\n",
        "\n",
        "    df[\"Month\"] = df[\"Date\"].dt.strftime(\"%Y-%m\")\n",
        "    df[\"PreMonth\"] = (\n",
        "        df[\"Date\"]\n",
        "        .apply(\n",
        "            lambda x: (\n",
        "                x.replace(month=x.month - 1, day=1)\n",
        "                if x.month > 1\n",
        "                else x.replace(year=x.year - 1, month=12, day=1)\n",
        "            )\n",
        "        )\n",
        "        .dt.strftime(\"%Y-%m\")\n",
        "    )\n",
        "\n",
        "    # df[\"PreYearMonth\"] = (\n",
        "    #     df[\"Date\"]\n",
        "    #     .apply(lambda x: x.replace(year=x.year - 1, day=1))\n",
        "    #     .dt.strftime(\"%Y-%m\")\n",
        "    # )\n",
        "\n",
        "    return df\n",
        "\n",
        "\n",
        "xl = pd.ExcelFile(\"../datas/2017-03-29-Bieu-3-2017-1.xlsx\")\n",
        "\n",
        "get_spcn(xl, find_sheet_name(xl.sheet_names), \"2017-03-29\")"
      ]
    },
    {
      "cell_type": "code",
      "execution_count": 5,
      "metadata": {},
      "outputs": [],
      "source": [
        "import os\n",
        "import contextlib\n",
        "\n",
        "dfs_spcn_origin = []\n",
        "for file_name in sorted(\n",
        "    os.listdir(\"../datas\"),\n",
        "    key=lambda filename: f\"{filename.split('-')[0]}-{filename.split('-')[1]}-{filename.split('-')[2]}\",\n",
        "    reverse=True,\n",
        "):\n",
        "    if file_name.startswith(\".~\"):\n",
        "        continue\n",
        "\n",
        "    try:\n",
        "        file_path = os.path.join(\"../datas\", file_name)\n",
        "\n",
        "        year = int(file_name.split(\"-\")[0])\n",
        "        month = int(file_name.split(\"-\")[1])\n",
        "        day = int(file_name.split(\"-\")[2])\n",
        "\n",
        "        if year < 2013:\n",
        "            continue\n",
        "\n",
        "        xl = pd.ExcelFile(file_path)\n",
        "\n",
        "        df_spcn = get_spcn(xl, find_sheet_name(xl.sheet_names), f\"{year}-{month}-{day}\")\n",
        "\n",
        "        dfs_spcn_origin.append(df_spcn)\n",
        "    except Exception as e:\n",
        "        print(file_name)\n",
        "        raise e"
      ]
    },
    {
      "cell_type": "code",
      "execution_count": 6,
      "metadata": {},
      "outputs": [
        {
          "data": {
            "text/html": [
              "<div>\n",
              "<style scoped>\n",
              "    .dataframe tbody tr th:only-of-type {\n",
              "        vertical-align: middle;\n",
              "    }\n",
              "\n",
              "    .dataframe tbody tr th {\n",
              "        vertical-align: top;\n",
              "    }\n",
              "\n",
              "    .dataframe thead th {\n",
              "        text-align: right;\n",
              "    }\n",
              "</style>\n",
              "<table border=\"1\" class=\"dataframe\">\n",
              "  <thead>\n",
              "    <tr style=\"text-align: right;\">\n",
              "      <th></th>\n",
              "      <th>Ngành</th>\n",
              "      <th>Total-Pre-Month</th>\n",
              "      <th>Total-M</th>\n",
              "      <th>Total-YTD</th>\n",
              "      <th>YOY</th>\n",
              "      <th>YTD-YOY</th>\n",
              "      <th>MOM</th>\n",
              "      <th>Date</th>\n",
              "      <th>Month</th>\n",
              "      <th>PreMonth</th>\n",
              "    </tr>\n",
              "  </thead>\n",
              "  <tbody>\n",
              "    <tr>\n",
              "      <th>0</th>\n",
              "      <td>Than đá (than sạch)</td>\n",
              "      <td>3384.865683</td>\n",
              "      <td>3070.836840</td>\n",
              "      <td>33623.149255</td>\n",
              "      <td>-10.125086</td>\n",
              "      <td>-4.187632</td>\n",
              "      <td>-9.277439</td>\n",
              "      <td>2024-09-29</td>\n",
              "      <td>2024-09</td>\n",
              "      <td>2024-08</td>\n",
              "    </tr>\n",
              "    <tr>\n",
              "      <th>1</th>\n",
              "      <td>Dầu mỏ thô khai thác</td>\n",
              "      <td>684.200000</td>\n",
              "      <td>663.800000</td>\n",
              "      <td>6117.249000</td>\n",
              "      <td>2.066548</td>\n",
              "      <td>-5.907889</td>\n",
              "      <td>-2.981584</td>\n",
              "      <td>2024-09-29</td>\n",
              "      <td>2024-09</td>\n",
              "      <td>2024-08</td>\n",
              "    </tr>\n",
              "    <tr>\n",
              "      <th>2</th>\n",
              "      <td>Khí đốt thiên nhiên dạng khí</td>\n",
              "      <td>449.990000</td>\n",
              "      <td>393.466667</td>\n",
              "      <td>4807.946667</td>\n",
              "      <td>-18.462644</td>\n",
              "      <td>-16.529138</td>\n",
              "      <td>-12.561020</td>\n",
              "      <td>2024-09-29</td>\n",
              "      <td>2024-09</td>\n",
              "      <td>2024-08</td>\n",
              "    </tr>\n",
              "    <tr>\n",
              "      <th>3</th>\n",
              "      <td>Khí hoá lỏng (LPG)</td>\n",
              "      <td>62.989977</td>\n",
              "      <td>58.056896</td>\n",
              "      <td>559.873783</td>\n",
              "      <td>-10.188120</td>\n",
              "      <td>-14.999432</td>\n",
              "      <td>-7.831533</td>\n",
              "      <td>2024-09-29</td>\n",
              "      <td>2024-09</td>\n",
              "      <td>2024-08</td>\n",
              "    </tr>\n",
              "    <tr>\n",
              "      <th>4</th>\n",
              "      <td>Xăng, dầu</td>\n",
              "      <td>1625.894088</td>\n",
              "      <td>1575.385822</td>\n",
              "      <td>13528.158324</td>\n",
              "      <td>148.804080</td>\n",
              "      <td>20.308520</td>\n",
              "      <td>-3.106492</td>\n",
              "      <td>2024-09-29</td>\n",
              "      <td>2024-09</td>\n",
              "      <td>2024-08</td>\n",
              "    </tr>\n",
              "    <tr>\n",
              "      <th>...</th>\n",
              "      <td>...</td>\n",
              "      <td>...</td>\n",
              "      <td>...</td>\n",
              "      <td>...</td>\n",
              "      <td>...</td>\n",
              "      <td>...</td>\n",
              "      <td>...</td>\n",
              "      <td>...</td>\n",
              "      <td>...</td>\n",
              "      <td>...</td>\n",
              "    </tr>\n",
              "    <tr>\n",
              "      <th>4564</th>\n",
              "      <td>Xe chở khách</td>\n",
              "      <td>4.820754</td>\n",
              "      <td>4.913979</td>\n",
              "      <td>4.913979</td>\n",
              "      <td>-8.391633</td>\n",
              "      <td>-8.391633</td>\n",
              "      <td>1.933828</td>\n",
              "      <td>2013-01-29</td>\n",
              "      <td>2013-01</td>\n",
              "      <td>2012-12</td>\n",
              "    </tr>\n",
              "    <tr>\n",
              "      <th>4565</th>\n",
              "      <td>Xe tải</td>\n",
              "      <td>2.564023</td>\n",
              "      <td>2.511169</td>\n",
              "      <td>2.511169</td>\n",
              "      <td>38.241708</td>\n",
              "      <td>38.241708</td>\n",
              "      <td>-2.061373</td>\n",
              "      <td>2013-01-29</td>\n",
              "      <td>2013-01</td>\n",
              "      <td>2012-12</td>\n",
              "    </tr>\n",
              "    <tr>\n",
              "      <th>4566</th>\n",
              "      <td>Xe máy</td>\n",
              "      <td>360.037127</td>\n",
              "      <td>342.804343</td>\n",
              "      <td>342.804343</td>\n",
              "      <td>28.609839</td>\n",
              "      <td>28.609839</td>\n",
              "      <td>-4.786391</td>\n",
              "      <td>2013-01-29</td>\n",
              "      <td>2013-01</td>\n",
              "      <td>2012-12</td>\n",
              "    </tr>\n",
              "    <tr>\n",
              "      <th>4567</th>\n",
              "      <td>Điện sản xuất</td>\n",
              "      <td>9.869662</td>\n",
              "      <td>9.787661</td>\n",
              "      <td>9.787661</td>\n",
              "      <td>25.748727</td>\n",
              "      <td>25.748727</td>\n",
              "      <td>-0.830843</td>\n",
              "      <td>2013-01-29</td>\n",
              "      <td>2013-01</td>\n",
              "      <td>2012-12</td>\n",
              "    </tr>\n",
              "    <tr>\n",
              "      <th>4568</th>\n",
              "      <td>Nước máy thương phẩm</td>\n",
              "      <td>139.870721</td>\n",
              "      <td>139.311238</td>\n",
              "      <td>139.311238</td>\n",
              "      <td>10.500000</td>\n",
              "      <td>10.500000</td>\n",
              "      <td>-0.400000</td>\n",
              "      <td>2013-01-29</td>\n",
              "      <td>2013-01</td>\n",
              "      <td>2012-12</td>\n",
              "    </tr>\n",
              "  </tbody>\n",
              "</table>\n",
              "<p>4569 rows × 10 columns</p>\n",
              "</div>"
            ],
            "text/plain": [
              "                             Ngành  Total-Pre-Month      Total-M  \\\n",
              "0              Than đá (than sạch)      3384.865683  3070.836840   \n",
              "1             Dầu mỏ thô khai thác       684.200000   663.800000   \n",
              "2     Khí đốt thiên nhiên dạng khí       449.990000   393.466667   \n",
              "3               Khí hoá lỏng (LPG)        62.989977    58.056896   \n",
              "4                        Xăng, dầu      1625.894088  1575.385822   \n",
              "...                            ...              ...          ...   \n",
              "4564                  Xe chở khách         4.820754     4.913979   \n",
              "4565                        Xe tải         2.564023     2.511169   \n",
              "4566                        Xe máy       360.037127   342.804343   \n",
              "4567                 Điện sản xuất         9.869662     9.787661   \n",
              "4568          Nước máy thương phẩm       139.870721   139.311238   \n",
              "\n",
              "         Total-YTD         YOY    YTD-YOY        MOM       Date    Month  \\\n",
              "0     33623.149255  -10.125086  -4.187632  -9.277439 2024-09-29  2024-09   \n",
              "1      6117.249000    2.066548  -5.907889  -2.981584 2024-09-29  2024-09   \n",
              "2      4807.946667  -18.462644 -16.529138 -12.561020 2024-09-29  2024-09   \n",
              "3       559.873783  -10.188120 -14.999432  -7.831533 2024-09-29  2024-09   \n",
              "4     13528.158324  148.804080  20.308520  -3.106492 2024-09-29  2024-09   \n",
              "...            ...         ...        ...        ...        ...      ...   \n",
              "4564      4.913979   -8.391633  -8.391633   1.933828 2013-01-29  2013-01   \n",
              "4565      2.511169   38.241708  38.241708  -2.061373 2013-01-29  2013-01   \n",
              "4566    342.804343   28.609839  28.609839  -4.786391 2013-01-29  2013-01   \n",
              "4567      9.787661   25.748727  25.748727  -0.830843 2013-01-29  2013-01   \n",
              "4568    139.311238   10.500000  10.500000  -0.400000 2013-01-29  2013-01   \n",
              "\n",
              "     PreMonth  \n",
              "0     2024-08  \n",
              "1     2024-08  \n",
              "2     2024-08  \n",
              "3     2024-08  \n",
              "4     2024-08  \n",
              "...       ...  \n",
              "4564  2012-12  \n",
              "4565  2012-12  \n",
              "4566  2012-12  \n",
              "4567  2012-12  \n",
              "4568  2012-12  \n",
              "\n",
              "[4569 rows x 10 columns]"
            ]
          },
          "execution_count": 6,
          "metadata": {},
          "output_type": "execute_result"
        }
      ],
      "source": [
        "dfs_spcn = pd.concat(dfs_spcn_origin, ignore_index=True, axis=0)\n",
        "dfs_spcn[\"Date\"] = pd.to_datetime(dfs_spcn[\"Date\"], dayfirst=False)\n",
        "dfs_spcn"
      ]
    },
    {
      "cell_type": "code",
      "execution_count": 7,
      "metadata": {},
      "outputs": [
        {
          "data": {
            "text/html": [
              "<div>\n",
              "<style scoped>\n",
              "    .dataframe tbody tr th:only-of-type {\n",
              "        vertical-align: middle;\n",
              "    }\n",
              "\n",
              "    .dataframe tbody tr th {\n",
              "        vertical-align: top;\n",
              "    }\n",
              "\n",
              "    .dataframe thead th {\n",
              "        text-align: right;\n",
              "    }\n",
              "</style>\n",
              "<table border=\"1\" class=\"dataframe\">\n",
              "  <thead>\n",
              "    <tr style=\"text-align: right;\">\n",
              "      <th></th>\n",
              "      <th>Ngành</th>\n",
              "      <th>Total-Pre-Month</th>\n",
              "      <th>Total-M</th>\n",
              "      <th>Total-YTD</th>\n",
              "      <th>YOY</th>\n",
              "      <th>YTD-YOY</th>\n",
              "      <th>MOM</th>\n",
              "      <th>Date</th>\n",
              "      <th>Month</th>\n",
              "      <th>PreMonth</th>\n",
              "    </tr>\n",
              "  </thead>\n",
              "  <tbody>\n",
              "    <tr>\n",
              "      <th>0</th>\n",
              "      <td>Than đá (than sạch)</td>\n",
              "      <td>3384.865683</td>\n",
              "      <td>3070.836840</td>\n",
              "      <td>33623.149255</td>\n",
              "      <td>-10.125086</td>\n",
              "      <td>-4.187632</td>\n",
              "      <td>-9.277439</td>\n",
              "      <td>2024-09-29</td>\n",
              "      <td>2024-09</td>\n",
              "      <td>2024-08</td>\n",
              "    </tr>\n",
              "    <tr>\n",
              "      <th>1</th>\n",
              "      <td>Dầu mỏ thô khai thác</td>\n",
              "      <td>684.200000</td>\n",
              "      <td>663.800000</td>\n",
              "      <td>6117.249000</td>\n",
              "      <td>2.066548</td>\n",
              "      <td>-5.907889</td>\n",
              "      <td>-2.981584</td>\n",
              "      <td>2024-09-29</td>\n",
              "      <td>2024-09</td>\n",
              "      <td>2024-08</td>\n",
              "    </tr>\n",
              "    <tr>\n",
              "      <th>2</th>\n",
              "      <td>Khí đốt thiên nhiên dạng khí</td>\n",
              "      <td>449.990000</td>\n",
              "      <td>393.466667</td>\n",
              "      <td>4807.946667</td>\n",
              "      <td>-18.462644</td>\n",
              "      <td>-16.529138</td>\n",
              "      <td>-12.561020</td>\n",
              "      <td>2024-09-29</td>\n",
              "      <td>2024-09</td>\n",
              "      <td>2024-08</td>\n",
              "    </tr>\n",
              "    <tr>\n",
              "      <th>3</th>\n",
              "      <td>Khí hoá lỏng (LPG)</td>\n",
              "      <td>62.989977</td>\n",
              "      <td>58.056896</td>\n",
              "      <td>559.873783</td>\n",
              "      <td>-10.188120</td>\n",
              "      <td>-14.999432</td>\n",
              "      <td>-7.831533</td>\n",
              "      <td>2024-09-29</td>\n",
              "      <td>2024-09</td>\n",
              "      <td>2024-08</td>\n",
              "    </tr>\n",
              "    <tr>\n",
              "      <th>4</th>\n",
              "      <td>Xăng, dầu</td>\n",
              "      <td>1625.894088</td>\n",
              "      <td>1575.385822</td>\n",
              "      <td>13528.158324</td>\n",
              "      <td>148.804080</td>\n",
              "      <td>20.308520</td>\n",
              "      <td>-3.106492</td>\n",
              "      <td>2024-09-29</td>\n",
              "      <td>2024-09</td>\n",
              "      <td>2024-08</td>\n",
              "    </tr>\n",
              "    <tr>\n",
              "      <th>...</th>\n",
              "      <td>...</td>\n",
              "      <td>...</td>\n",
              "      <td>...</td>\n",
              "      <td>...</td>\n",
              "      <td>...</td>\n",
              "      <td>...</td>\n",
              "      <td>...</td>\n",
              "      <td>...</td>\n",
              "      <td>...</td>\n",
              "      <td>...</td>\n",
              "    </tr>\n",
              "    <tr>\n",
              "      <th>4564</th>\n",
              "      <td>Xe chở khách</td>\n",
              "      <td>4.820754</td>\n",
              "      <td>4.913979</td>\n",
              "      <td>4.913979</td>\n",
              "      <td>-8.391633</td>\n",
              "      <td>-8.391633</td>\n",
              "      <td>1.933828</td>\n",
              "      <td>2013-01-29</td>\n",
              "      <td>2013-01</td>\n",
              "      <td>2012-12</td>\n",
              "    </tr>\n",
              "    <tr>\n",
              "      <th>4565</th>\n",
              "      <td>Xe tải</td>\n",
              "      <td>2.564023</td>\n",
              "      <td>2.511169</td>\n",
              "      <td>2.511169</td>\n",
              "      <td>38.241708</td>\n",
              "      <td>38.241708</td>\n",
              "      <td>-2.061373</td>\n",
              "      <td>2013-01-29</td>\n",
              "      <td>2013-01</td>\n",
              "      <td>2012-12</td>\n",
              "    </tr>\n",
              "    <tr>\n",
              "      <th>4566</th>\n",
              "      <td>Xe máy</td>\n",
              "      <td>360.037127</td>\n",
              "      <td>342.804343</td>\n",
              "      <td>342.804343</td>\n",
              "      <td>28.609839</td>\n",
              "      <td>28.609839</td>\n",
              "      <td>-4.786391</td>\n",
              "      <td>2013-01-29</td>\n",
              "      <td>2013-01</td>\n",
              "      <td>2012-12</td>\n",
              "    </tr>\n",
              "    <tr>\n",
              "      <th>4567</th>\n",
              "      <td>Điện sản xuất</td>\n",
              "      <td>9.869662</td>\n",
              "      <td>9.787661</td>\n",
              "      <td>9.787661</td>\n",
              "      <td>25.748727</td>\n",
              "      <td>25.748727</td>\n",
              "      <td>-0.830843</td>\n",
              "      <td>2013-01-29</td>\n",
              "      <td>2013-01</td>\n",
              "      <td>2012-12</td>\n",
              "    </tr>\n",
              "    <tr>\n",
              "      <th>4568</th>\n",
              "      <td>Nước máy thương phẩm</td>\n",
              "      <td>139.870721</td>\n",
              "      <td>139.311238</td>\n",
              "      <td>139.311238</td>\n",
              "      <td>10.500000</td>\n",
              "      <td>10.500000</td>\n",
              "      <td>-0.400000</td>\n",
              "      <td>2013-01-29</td>\n",
              "      <td>2013-01</td>\n",
              "      <td>2012-12</td>\n",
              "    </tr>\n",
              "  </tbody>\n",
              "</table>\n",
              "<p>4569 rows × 10 columns</p>\n",
              "</div>"
            ],
            "text/plain": [
              "                             Ngành  Total-Pre-Month      Total-M  \\\n",
              "0              Than đá (than sạch)      3384.865683  3070.836840   \n",
              "1             Dầu mỏ thô khai thác       684.200000   663.800000   \n",
              "2     Khí đốt thiên nhiên dạng khí       449.990000   393.466667   \n",
              "3               Khí hoá lỏng (LPG)        62.989977    58.056896   \n",
              "4                        Xăng, dầu      1625.894088  1575.385822   \n",
              "...                            ...              ...          ...   \n",
              "4564                  Xe chở khách         4.820754     4.913979   \n",
              "4565                        Xe tải         2.564023     2.511169   \n",
              "4566                        Xe máy       360.037127   342.804343   \n",
              "4567                 Điện sản xuất         9.869662     9.787661   \n",
              "4568          Nước máy thương phẩm       139.870721   139.311238   \n",
              "\n",
              "         Total-YTD         YOY    YTD-YOY        MOM       Date    Month  \\\n",
              "0     33623.149255  -10.125086  -4.187632  -9.277439 2024-09-29  2024-09   \n",
              "1      6117.249000    2.066548  -5.907889  -2.981584 2024-09-29  2024-09   \n",
              "2      4807.946667  -18.462644 -16.529138 -12.561020 2024-09-29  2024-09   \n",
              "3       559.873783  -10.188120 -14.999432  -7.831533 2024-09-29  2024-09   \n",
              "4     13528.158324  148.804080  20.308520  -3.106492 2024-09-29  2024-09   \n",
              "...            ...         ...        ...        ...        ...      ...   \n",
              "4564      4.913979   -8.391633  -8.391633   1.933828 2013-01-29  2013-01   \n",
              "4565      2.511169   38.241708  38.241708  -2.061373 2013-01-29  2013-01   \n",
              "4566    342.804343   28.609839  28.609839  -4.786391 2013-01-29  2013-01   \n",
              "4567      9.787661   25.748727  25.748727  -0.830843 2013-01-29  2013-01   \n",
              "4568    139.311238   10.500000  10.500000  -0.400000 2013-01-29  2013-01   \n",
              "\n",
              "     PreMonth  \n",
              "0     2024-08  \n",
              "1     2024-08  \n",
              "2     2024-08  \n",
              "3     2024-08  \n",
              "4     2024-08  \n",
              "...       ...  \n",
              "4564  2012-12  \n",
              "4565  2012-12  \n",
              "4566  2012-12  \n",
              "4567  2012-12  \n",
              "4568  2012-12  \n",
              "\n",
              "[4569 rows x 10 columns]"
            ]
          },
          "execution_count": 7,
          "metadata": {},
          "output_type": "execute_result"
        }
      ],
      "source": [
        "convert_nganh = {\n",
        "    \"Than đá (than sạch)\": \"Than đá (than sạch)\",\n",
        "    \"Dầu mỏ thô khai thác\": \"Dầu mỏ thô khai thác\",\n",
        "    \"Khí đốt thiên nhiên dạng khí\": \"Khí đốt thiên nhiên dạng khí\",\n",
        "    \"Khí hoá lỏng (LPG)\": \"Khí hoá lỏng (LPG)\",\n",
        "    \"Xăng, dầu\": \"Xăng, dầu\",\n",
        "    \"Alumin\": \"Alumin\",\n",
        "    \"Thuỷ hải sản chế biến\": \"Thuỷ hải sản chế biến\",\n",
        "    \"Sữa tươi\": \"Sữa tươi\",\n",
        "    \"Sữa bột\": \"Sữa bột\",\n",
        "    \"Đường kính\": \"Đường kính\",\n",
        "    \"Bột ngọt\": \"Bột ngọt\",\n",
        "    \"Thức ăn cho gia súc\": \"Thức ăn cho gia súc\",\n",
        "    \"Thức ăn cho thủy sản\": \"Thức ăn cho thủy sản\",\n",
        "    \"Bia\": \"Bia\",\n",
        "    \"Thuốc lá điếu\": \"Thuốc lá điếu\",\n",
        "    \"Vải dệt từ sợi tự nhiên\": \"Vải dệt từ sợi tự nhiên\",\n",
        "    \"Vải dệt từ sợi tổng hợp hoặc sợi nhân tạo\": \"Vải dệt từ sợi tổng hợp hoặc sợi nhân tạo\",\n",
        "    \"Quần áo mặc thường\": \"Quần áo mặc thường\",\n",
        "    \"Giày, dép da\": \"Giày, dép da\",\n",
        "    \"Phân U rê\": \"Phân U rê\",\n",
        "    \"Phân hỗn hợp N.P.K\": \"Phân hỗn hợp N.P.K\",\n",
        "    \"Sơn hoá học\": \"Sơn hoá học\",\n",
        "    \"Xi măng\": \"Xi măng\",\n",
        "    \"Sắt, thép thô\": \"Sắt, thép thô\",\n",
        "    \"Thép cán\": \"Thép cán\",\n",
        "    \"Thép thanh, thép góc\": \"Thép thanh, thép góc\",\n",
        "    \"Điện thoại di động\": \"Điện thoại di động\",\n",
        "    \"Linh kiện điện thoại\": \"Linh kiện điện thoại\",\n",
        "    \"Tivi\": \"Tivi\",\n",
        "    \"Ô tô\": \"Ô tô\",\n",
        "    \"Xe máy\": \"Xe máy\",\n",
        "    \"Điện sản xuất\": \"Điện sản xuất\",\n",
        "    \"Nước máy thương phẩm\": \"Nước máy thương phẩm\",\n",
        "    \"Ti vi\": \"Tivi\",\n",
        "    \"Xăng, dầu các loại\": \"Xăng, dầu\",\n",
        "    \"Bia các loại\": \"Bia\",\n",
        "    \"Ti vi các loại\": \"Tivi\",\n",
        "    \"Xăng dầu\": \"Xăng, dầu\",\n",
        "    \"Tivi các loại\": \"Tivi\",\n",
        "    \"Sơn hoá học \": \"Sơn hoá học\",\n",
        "    \"Tivi \": \"Tivi\",\n",
        "    \"Dầu gội đầu, dầu xả\": \"Dầu gội đầu, dầu xả\",\n",
        "    \"Sữa tắm, sữa rửa mặt\": \"Sữa tắm, sữa rửa mặt\",\n",
        "    \"Phân Ure\": \"Phân U rê\",\n",
        "    \"Dầu mỏ thô khai thác trong nước\": \"Dầu mỏ thô khai thác\",\n",
        "    \"Phân hỗn hợp (N, P, K)\": \"Phân hỗn hợp N.P.K\",\n",
        "    \"Sơn hoá học các loại\": \"Sơn hoá học\",\n",
        "    \"Bột giặt và các chế phẩm dùng để tẩy, rửa\": \"Bột giặt và các chế phẩm dùng để tẩy, rửa\",\n",
        "    \"Gạch xây bằng đất nung\": \"Gạch xây bằng đất nung\",\n",
        "    \"Xe chở khách\": \"Xe chở khách\",\n",
        "    \"Xe tải\": \"Xe tải\",\n",
        "    \"Giày, dép, ủng bằng da giả cho người lớn\": \"Giày, dép da\",\n",
        "}\n",
        "\n",
        "for pl in dfs_spcn[\"Ngành\"].unique().tolist():\n",
        "    assert pl in convert_nganh.keys(), pl\n",
        "\n",
        "dfs_spcn[\"Ngành\"] = dfs_spcn[\"Ngành\"].map(convert_nganh)\n",
        "dfs_spcn"
      ]
    },
    {
      "cell_type": "code",
      "execution_count": 8,
      "metadata": {},
      "outputs": [
        {
          "data": {
            "text/html": [
              "<div>\n",
              "<style scoped>\n",
              "    .dataframe tbody tr th:only-of-type {\n",
              "        vertical-align: middle;\n",
              "    }\n",
              "\n",
              "    .dataframe tbody tr th {\n",
              "        vertical-align: top;\n",
              "    }\n",
              "\n",
              "    .dataframe thead th {\n",
              "        text-align: right;\n",
              "    }\n",
              "</style>\n",
              "<table border=\"1\" class=\"dataframe\">\n",
              "  <thead>\n",
              "    <tr style=\"text-align: right;\">\n",
              "      <th></th>\n",
              "      <th>Ngành</th>\n",
              "      <th>Total-Pre-Month</th>\n",
              "      <th>E-Total-M</th>\n",
              "      <th>Total-YTD</th>\n",
              "      <th>YOY</th>\n",
              "      <th>YTD-YOY</th>\n",
              "      <th>E-MOM</th>\n",
              "      <th>Date</th>\n",
              "      <th>Month</th>\n",
              "      <th>PreMonth</th>\n",
              "      <th>Total-M</th>\n",
              "      <th>MOM</th>\n",
              "    </tr>\n",
              "  </thead>\n",
              "  <tbody>\n",
              "    <tr>\n",
              "      <th>19</th>\n",
              "      <td>Phân U rê</td>\n",
              "      <td>209.626660</td>\n",
              "      <td>211.439938</td>\n",
              "      <td>2025.499808</td>\n",
              "      <td>-2.356523</td>\n",
              "      <td>7.976702</td>\n",
              "      <td>0.865003</td>\n",
              "      <td>2024-09-29</td>\n",
              "      <td>2024-09</td>\n",
              "      <td>2024-08</td>\n",
              "      <td>211.439938</td>\n",
              "      <td>0.865003</td>\n",
              "    </tr>\n",
              "    <tr>\n",
              "      <th>52</th>\n",
              "      <td>Phân U rê</td>\n",
              "      <td>226.048156</td>\n",
              "      <td>202.350000</td>\n",
              "      <td>1806.783725</td>\n",
              "      <td>16.131752</td>\n",
              "      <td>8.886694</td>\n",
              "      <td>-10.483676</td>\n",
              "      <td>2024-08-29</td>\n",
              "      <td>2024-08</td>\n",
              "      <td>2024-07</td>\n",
              "      <td>209.626660</td>\n",
              "      <td>-7.264601</td>\n",
              "    </tr>\n",
              "    <tr>\n",
              "      <th>85</th>\n",
              "      <td>Phân U rê</td>\n",
              "      <td>229.848484</td>\n",
              "      <td>207.563028</td>\n",
              "      <td>1585.948083</td>\n",
              "      <td>-15.144017</td>\n",
              "      <td>6.791923</td>\n",
              "      <td>-9.695716</td>\n",
              "      <td>2024-07-29</td>\n",
              "      <td>2024-07</td>\n",
              "      <td>2024-06</td>\n",
              "      <td>226.048156</td>\n",
              "      <td>-1.653406</td>\n",
              "    </tr>\n",
              "    <tr>\n",
              "      <th>118</th>\n",
              "      <td>Phân U rê</td>\n",
              "      <td>208.717415</td>\n",
              "      <td>214.369028</td>\n",
              "      <td>1362.905599</td>\n",
              "      <td>-6.620311</td>\n",
              "      <td>9.869549</td>\n",
              "      <td>2.707782</td>\n",
              "      <td>2024-06-29</td>\n",
              "      <td>2024-06</td>\n",
              "      <td>2024-05</td>\n",
              "      <td>229.848484</td>\n",
              "      <td>10.124248</td>\n",
              "    </tr>\n",
              "    <tr>\n",
              "      <th>151</th>\n",
              "      <td>Phân U rê</td>\n",
              "      <td>232.370336</td>\n",
              "      <td>218.853092</td>\n",
              "      <td>1158.672247</td>\n",
              "      <td>-10.070897</td>\n",
              "      <td>14.616857</td>\n",
              "      <td>-5.817113</td>\n",
              "      <td>2024-05-29</td>\n",
              "      <td>2024-05</td>\n",
              "      <td>2024-04</td>\n",
              "      <td>208.717415</td>\n",
              "      <td>-10.178976</td>\n",
              "    </tr>\n",
              "    <tr>\n",
              "      <th>...</th>\n",
              "      <td>...</td>\n",
              "      <td>...</td>\n",
              "      <td>...</td>\n",
              "      <td>...</td>\n",
              "      <td>...</td>\n",
              "      <td>...</td>\n",
              "      <td>...</td>\n",
              "      <td>...</td>\n",
              "      <td>...</td>\n",
              "      <td>...</td>\n",
              "      <td>...</td>\n",
              "      <td>...</td>\n",
              "    </tr>\n",
              "    <tr>\n",
              "      <th>4424</th>\n",
              "      <td>Phân U rê</td>\n",
              "      <td>677.600000</td>\n",
              "      <td>177.700000</td>\n",
              "      <td>855.300000</td>\n",
              "      <td>12.200000</td>\n",
              "      <td>58.700000</td>\n",
              "      <td>-73.775089</td>\n",
              "      <td>2013-05-29</td>\n",
              "      <td>2013-05</td>\n",
              "      <td>2013-04</td>\n",
              "      <td>856.184400</td>\n",
              "      <td>26.355431</td>\n",
              "    </tr>\n",
              "    <tr>\n",
              "      <th>4456</th>\n",
              "      <td>Phân U rê</td>\n",
              "      <td>527.500000</td>\n",
              "      <td>169.700000</td>\n",
              "      <td>697.200000</td>\n",
              "      <td>55.600000</td>\n",
              "      <td>83.300000</td>\n",
              "      <td>-67.829384</td>\n",
              "      <td>2013-04-29</td>\n",
              "      <td>2013-04</td>\n",
              "      <td>2013-03</td>\n",
              "      <td>677.600000</td>\n",
              "      <td>28.454976</td>\n",
              "    </tr>\n",
              "    <tr>\n",
              "      <th>4488</th>\n",
              "      <td>Phân U rê</td>\n",
              "      <td>354.500000</td>\n",
              "      <td>173.900000</td>\n",
              "      <td>528.400000</td>\n",
              "      <td>91.500000</td>\n",
              "      <td>94.800000</td>\n",
              "      <td>-50.944993</td>\n",
              "      <td>2013-03-29</td>\n",
              "      <td>2013-03</td>\n",
              "      <td>2013-02</td>\n",
              "      <td>527.500000</td>\n",
              "      <td>48.801128</td>\n",
              "    </tr>\n",
              "    <tr>\n",
              "      <th>4520</th>\n",
              "      <td>Phân U rê</td>\n",
              "      <td>170.064700</td>\n",
              "      <td>164.130000</td>\n",
              "      <td>334.194700</td>\n",
              "      <td>77.060555</td>\n",
              "      <td>85.222542</td>\n",
              "      <td>-3.489672</td>\n",
              "      <td>2013-02-28</td>\n",
              "      <td>2013-02</td>\n",
              "      <td>2013-01</td>\n",
              "      <td>354.500000</td>\n",
              "      <td>108.450078</td>\n",
              "    </tr>\n",
              "    <tr>\n",
              "      <th>4552</th>\n",
              "      <td>Phân U rê</td>\n",
              "      <td>169.150976</td>\n",
              "      <td>163.745609</td>\n",
              "      <td>163.745609</td>\n",
              "      <td>86.643733</td>\n",
              "      <td>86.643733</td>\n",
              "      <td>-3.195587</td>\n",
              "      <td>2013-01-29</td>\n",
              "      <td>2013-01</td>\n",
              "      <td>2012-12</td>\n",
              "      <td>170.064700</td>\n",
              "      <td>0.540183</td>\n",
              "    </tr>\n",
              "  </tbody>\n",
              "</table>\n",
              "<p>140 rows × 12 columns</p>\n",
              "</div>"
            ],
            "text/plain": [
              "          Ngành  Total-Pre-Month   E-Total-M    Total-YTD        YOY  \\\n",
              "19    Phân U rê       209.626660  211.439938  2025.499808  -2.356523   \n",
              "52    Phân U rê       226.048156  202.350000  1806.783725  16.131752   \n",
              "85    Phân U rê       229.848484  207.563028  1585.948083 -15.144017   \n",
              "118   Phân U rê       208.717415  214.369028  1362.905599  -6.620311   \n",
              "151   Phân U rê       232.370336  218.853092  1158.672247 -10.070897   \n",
              "...         ...              ...         ...          ...        ...   \n",
              "4424  Phân U rê       677.600000  177.700000   855.300000  12.200000   \n",
              "4456  Phân U rê       527.500000  169.700000   697.200000  55.600000   \n",
              "4488  Phân U rê       354.500000  173.900000   528.400000  91.500000   \n",
              "4520  Phân U rê       170.064700  164.130000   334.194700  77.060555   \n",
              "4552  Phân U rê       169.150976  163.745609   163.745609  86.643733   \n",
              "\n",
              "        YTD-YOY      E-MOM       Date    Month PreMonth     Total-M  \\\n",
              "19     7.976702   0.865003 2024-09-29  2024-09  2024-08  211.439938   \n",
              "52     8.886694 -10.483676 2024-08-29  2024-08  2024-07  209.626660   \n",
              "85     6.791923  -9.695716 2024-07-29  2024-07  2024-06  226.048156   \n",
              "118    9.869549   2.707782 2024-06-29  2024-06  2024-05  229.848484   \n",
              "151   14.616857  -5.817113 2024-05-29  2024-05  2024-04  208.717415   \n",
              "...         ...        ...        ...      ...      ...         ...   \n",
              "4424  58.700000 -73.775089 2013-05-29  2013-05  2013-04  856.184400   \n",
              "4456  83.300000 -67.829384 2013-04-29  2013-04  2013-03  677.600000   \n",
              "4488  94.800000 -50.944993 2013-03-29  2013-03  2013-02  527.500000   \n",
              "4520  85.222542  -3.489672 2013-02-28  2013-02  2013-01  354.500000   \n",
              "4552  86.643733  -3.195587 2013-01-29  2013-01  2012-12  170.064700   \n",
              "\n",
              "             MOM  \n",
              "19      0.865003  \n",
              "52     -7.264601  \n",
              "85     -1.653406  \n",
              "118    10.124248  \n",
              "151   -10.178976  \n",
              "...          ...  \n",
              "4424   26.355431  \n",
              "4456   28.454976  \n",
              "4488   48.801128  \n",
              "4520  108.450078  \n",
              "4552    0.540183  \n",
              "\n",
              "[140 rows x 12 columns]"
            ]
          },
          "execution_count": 8,
          "metadata": {},
          "output_type": "execute_result"
        }
      ],
      "source": [
        "merge_df = pd.merge(\n",
        "    left=dfs_spcn,\n",
        "    right=dfs_spcn,\n",
        "    left_on=[\"Ngành\", \"Month\"],\n",
        "    right_on=[\"Ngành\", \"PreMonth\"],\n",
        "    how=\"left\",\n",
        ")\n",
        "merge_df[\"Merged_Total\"] = np.where(\n",
        "    merge_df[\"Total-Pre-Month_y\"].isna(),\n",
        "    merge_df[\"Total-M_x\"],\n",
        "    merge_df[\"Total-Pre-Month_y\"],\n",
        ")\n",
        "merge_df = merge_df.drop(\n",
        "    columns=[\n",
        "        \"Total-Pre-Month_y\",\n",
        "        \"Total-M_y\",\n",
        "        \"Total-YTD_y\",\n",
        "        \"YOY_y\",\n",
        "        \"YTD-YOY_y\",\n",
        "        \"MOM_y\",\n",
        "        \"Date_y\",\n",
        "        \"Month_y\",\n",
        "        \"PreMonth_y\",\n",
        "    ]\n",
        ")\n",
        "merge_df = merge_df.rename(\n",
        "    columns={\n",
        "        \"Total-Pre-Month_x\": \"Total-Pre-Month\",\n",
        "        \"Total-M_x\": \"E-Total-M\",\n",
        "        \"Total-YTD_x\": \"Total-YTD\",\n",
        "        \"YOY_x\": \"YOY\",\n",
        "        \"YTD-YOY_x\": \"YTD-YOY\",\n",
        "        \"MOM_x\": \"E-MOM\",\n",
        "        \"Date_x\": \"Date\",\n",
        "        \"Month_x\": \"Month\",\n",
        "        \"PreMonth_x\": \"PreMonth\",\n",
        "        \"Merged_Total\": \"Total-M\",\n",
        "    }\n",
        ")\n",
        "merge_df[\"MOM\"] = 100 * (merge_df[\"Total-M\"] / merge_df[\"Total-Pre-Month\"]) - 100\n",
        "merge_df[merge_df[\"Ngành\"] == \"Phân U rê\"]"
      ]
    },
    {
      "cell_type": "code",
      "execution_count": 9,
      "metadata": {},
      "outputs": [],
      "source": [
        "dfs_spcn = merge_df"
      ]
    },
    {
      "cell_type": "code",
      "execution_count": 10,
      "metadata": {},
      "outputs": [],
      "source": [
        "dfs_spcn.to_csv(\"../csv/spcn.csv\")"
      ]
    },
    {
      "cell_type": "code",
      "execution_count": 11,
      "metadata": {},
      "outputs": [
        {
          "data": {
            "application/vnd.plotly.v1+json": {
              "config": {
                "plotlyServerURL": "https://plot.ly"
              },
              "data": [
                {
                  "fillpattern": {
                    "shape": ""
                  },
                  "hovertemplate": "Ngành=Thuỷ hải sản chế biến<br>Date=%{x}<br>YOY=%{y}<extra></extra>",
                  "legendgroup": "Thuỷ hải sản chế biến",
                  "line": {
                    "color": "#636efa"
                  },
                  "marker": {
                    "symbol": "circle"
                  },
                  "mode": "lines",
                  "name": "Thuỷ hải sản chế biến",
                  "orientation": "v",
                  "showlegend": true,
                  "stackgroup": "1",
                  "type": "scatter",
                  "x": [
                    "2024-09-29T00:00:00",
                    "2024-08-29T00:00:00",
                    "2024-07-29T00:00:00",
                    "2024-06-29T00:00:00",
                    "2024-05-29T00:00:00",
                    "2024-04-29T00:00:00",
                    "2024-03-29T00:00:00",
                    "2024-02-29T00:00:00",
                    "2024-01-29T00:00:00",
                    "2023-12-29T00:00:00",
                    "2023-11-29T00:00:00",
                    "2023-10-29T00:00:00",
                    "2023-09-29T00:00:00",
                    "2023-08-29T00:00:00",
                    "2023-07-29T00:00:00",
                    "2023-06-29T00:00:00",
                    "2023-05-29T00:00:00",
                    "2023-04-29T00:00:00",
                    "2023-03-29T00:00:00",
                    "2023-02-28T00:00:00",
                    "2023-01-29T00:00:00",
                    "2022-12-29T00:00:00",
                    "2022-11-29T00:00:00",
                    "2022-10-29T00:00:00",
                    "2022-09-29T00:00:00",
                    "2022-08-29T00:00:00",
                    "2022-07-29T00:00:00",
                    "2022-06-29T00:00:00",
                    "2022-05-29T00:00:00",
                    "2022-04-29T00:00:00",
                    "2022-03-29T00:00:00",
                    "2022-02-28T00:00:00",
                    "2022-01-29T00:00:00",
                    "2021-12-29T00:00:00",
                    "2021-11-29T00:00:00",
                    "2021-10-29T00:00:00",
                    "2021-09-29T00:00:00",
                    "2021-08-29T00:00:00",
                    "2021-07-29T00:00:00",
                    "2021-06-29T00:00:00",
                    "2021-05-29T00:00:00",
                    "2021-04-29T00:00:00",
                    "2021-03-29T00:00:00",
                    "2021-02-28T00:00:00",
                    "2021-01-29T00:00:00",
                    "2020-12-27T00:00:00",
                    "2020-11-29T00:00:00",
                    "2020-10-29T00:00:00",
                    "2020-09-29T00:00:00",
                    "2020-08-29T00:00:00",
                    "2020-07-29T00:00:00",
                    "2020-06-29T00:00:00",
                    "2020-05-29T00:00:00",
                    "2020-04-29T00:00:00",
                    "2020-03-27T00:00:00",
                    "2020-02-29T00:00:00",
                    "2020-01-29T00:00:00",
                    "2019-12-27T00:00:00",
                    "2019-11-29T00:00:00",
                    "2019-10-29T00:00:00",
                    "2019-09-28T00:00:00",
                    "2019-08-29T00:00:00",
                    "2019-07-29T00:00:00",
                    "2019-06-28T00:00:00",
                    "2019-05-27T00:00:00",
                    "2019-04-29T00:00:00",
                    "2019-03-29T00:00:00",
                    "2019-02-28T00:00:00",
                    "2019-01-29T00:00:00"
                  ],
                  "xaxis": "x",
                  "y": [
                    16.88048004999696,
                    19.202054331276003,
                    25.248636001411057,
                    15.001571031096361,
                    10.671569486064072,
                    7.076096676451996,
                    4.2469942240932,
                    -0.4379863780576585,
                    17.456017560618704,
                    10.962190488814002,
                    14.955256623103622,
                    11.061457136146771,
                    6.033028128547528,
                    -0.19381629186213445,
                    1.1852504037382943,
                    8.744896686840931,
                    2.3279763406067104,
                    -3.328622679712055,
                    6.773819630151863,
                    17.006033704425633,
                    -9.419121758608412,
                    4.672317707132677,
                    4.444457688813898,
                    10.166766108782625,
                    27.927709362128766,
                    69.59153197724245,
                    36.56585274122824,
                    21.53164886292771,
                    16.578027036700533,
                    12.23717852940041,
                    9.437104480777677,
                    19.09358093104703,
                    13.756182014843233,
                    10.562186831906388,
                    2.3474295180257343,
                    5.793401374499268,
                    -29.87530383071922,
                    -36.72807008962252,
                    -4.266403960414138,
                    5.0332438601696055,
                    7.191731967408273,
                    8.336488408205597,
                    4.004174179912695,
                    -12.153879119858018,
                    14.342632869852451,
                    15.101058851569249,
                    6.3944747354886005,
                    6.617431349665196,
                    7.674098310725,
                    4.232929889110991,
                    4.776159754993998,
                    9.732723327323995,
                    2.7950389917009915,
                    -8.9993867067478,
                    4.162364832842002,
                    16.123128604900998,
                    1.4306282344239918,
                    21.463222253889995,
                    15.016943583152994,
                    10.483319514230004,
                    10.242219391570998,
                    11.577000429757007,
                    2.506699999999995,
                    8.556785818901005,
                    10.683394827873997,
                    14.558599999999984,
                    6.519300000000001,
                    13.162999999999997,
                    11.189999999999998
                  ],
                  "yaxis": "y"
                },
                {
                  "fillpattern": {
                    "shape": ""
                  },
                  "hovertemplate": "Ngành=Phân U rê<br>Date=%{x}<br>YOY=%{y}<extra></extra>",
                  "legendgroup": "Phân U rê",
                  "line": {
                    "color": "#EF553B"
                  },
                  "marker": {
                    "symbol": "circle"
                  },
                  "mode": "lines",
                  "name": "Phân U rê",
                  "orientation": "v",
                  "showlegend": true,
                  "stackgroup": "1",
                  "type": "scatter",
                  "x": [
                    "2024-09-29T00:00:00",
                    "2024-08-29T00:00:00",
                    "2024-07-29T00:00:00",
                    "2024-06-29T00:00:00",
                    "2024-05-29T00:00:00",
                    "2024-04-29T00:00:00",
                    "2024-03-29T00:00:00",
                    "2024-02-29T00:00:00",
                    "2024-01-29T00:00:00",
                    "2023-12-29T00:00:00",
                    "2023-11-29T00:00:00",
                    "2023-10-29T00:00:00",
                    "2023-09-29T00:00:00",
                    "2023-08-29T00:00:00",
                    "2023-07-29T00:00:00",
                    "2023-06-29T00:00:00",
                    "2023-05-29T00:00:00",
                    "2023-04-29T00:00:00",
                    "2023-03-29T00:00:00",
                    "2023-02-28T00:00:00",
                    "2023-01-29T00:00:00",
                    "2022-12-29T00:00:00",
                    "2022-11-29T00:00:00",
                    "2022-10-29T00:00:00",
                    "2022-09-29T00:00:00",
                    "2022-08-29T00:00:00",
                    "2022-07-29T00:00:00",
                    "2022-06-29T00:00:00",
                    "2022-05-29T00:00:00",
                    "2022-04-29T00:00:00",
                    "2022-03-29T00:00:00",
                    "2022-02-28T00:00:00",
                    "2022-01-29T00:00:00",
                    "2021-12-29T00:00:00",
                    "2021-11-29T00:00:00",
                    "2021-10-29T00:00:00",
                    "2021-09-29T00:00:00",
                    "2021-08-29T00:00:00",
                    "2021-07-29T00:00:00",
                    "2021-06-29T00:00:00",
                    "2021-05-29T00:00:00",
                    "2021-04-29T00:00:00",
                    "2021-03-29T00:00:00",
                    "2021-02-28T00:00:00",
                    "2021-01-29T00:00:00",
                    "2020-12-27T00:00:00",
                    "2020-11-29T00:00:00",
                    "2020-10-29T00:00:00",
                    "2020-09-29T00:00:00",
                    "2020-08-29T00:00:00",
                    "2020-07-29T00:00:00",
                    "2020-06-29T00:00:00",
                    "2020-05-29T00:00:00",
                    "2020-04-29T00:00:00",
                    "2020-03-27T00:00:00",
                    "2020-02-29T00:00:00",
                    "2020-01-29T00:00:00",
                    "2019-12-27T00:00:00",
                    "2019-11-29T00:00:00",
                    "2019-10-29T00:00:00",
                    "2019-09-28T00:00:00",
                    "2019-08-29T00:00:00",
                    "2019-07-29T00:00:00",
                    "2019-06-28T00:00:00",
                    "2019-05-27T00:00:00",
                    "2019-04-29T00:00:00",
                    "2019-03-29T00:00:00",
                    "2019-02-28T00:00:00",
                    "2019-01-29T00:00:00"
                  ],
                  "xaxis": "x",
                  "y": [
                    -2.3565227778934883,
                    16.131752317431378,
                    -15.14401710075117,
                    -6.62031059539278,
                    -10.070896557466966,
                    49.44901281822399,
                    27.2763737617081,
                    17.823026516542456,
                    0.48637426436440023,
                    -6.6538964939067995,
                    2.508176716740877,
                    7.80694969101863,
                    4.281027480778164,
                    2.789724431045542,
                    -3.512302108000256,
                    12.056660032672738,
                    12.839006628334857,
                    21.475872768574348,
                    -9.008500812831187,
                    -2.154701132967844,
                    -9.309902912571772,
                    -18.17432833789185,
                    19.509874514430336,
                    -7.4050295338338685,
                    -15.008621025591196,
                    -20.361805370664072,
                    -5.703667284910381,
                    -5.649658665456954,
                    21.407742076017783,
                    22.659116376504556,
                    2.329622827775225,
                    -4.374182973756547,
                    4.814988531048343,
                    9.506434593954921,
                    -6.716645897935109,
                    -3.4219508359204553,
                    16.38652087989219,
                    26.600320855204046,
                    3.4761256039711412,
                    -3.7934698265865308,
                    -32.24467688289204,
                    -23.94212148066312,
                    4.4744922432032155,
                    -10.614538566887106,
                    4.392727310146327,
                    -16.520368849007156,
                    -9.114577673351818,
                    11.516664809727388,
                    39.440200840947995,
                    -9.96138529225854,
                    -3.7864051860355943,
                    3.3323756702025236,
                    7.39846390769452,
                    21.607253095048094,
                    14.228767402641779,
                    0.7820125070042963,
                    4.370663949240978,
                    117.48135849355438,
                    27.482637489468004,
                    -4.770001310543293,
                    -17.78358475338186,
                    9.938973485900604,
                    11.87664672015896,
                    13.036721732373906,
                    15.369509312413967,
                    -5.915957053913118,
                    -0.23032494007905768,
                    5.888220254708571,
                    7.968264362305007
                  ],
                  "yaxis": "y"
                },
                {
                  "fillpattern": {
                    "shape": ""
                  },
                  "hovertemplate": "Ngành=Phân hỗn hợp N.P.K<br>Date=%{x}<br>YOY=%{y}<extra></extra>",
                  "legendgroup": "Phân hỗn hợp N.P.K",
                  "line": {
                    "color": "#00cc96"
                  },
                  "marker": {
                    "symbol": "circle"
                  },
                  "mode": "lines",
                  "name": "Phân hỗn hợp N.P.K",
                  "orientation": "v",
                  "showlegend": true,
                  "stackgroup": "1",
                  "type": "scatter",
                  "x": [
                    "2024-09-29T00:00:00",
                    "2024-08-29T00:00:00",
                    "2024-07-29T00:00:00",
                    "2024-06-29T00:00:00",
                    "2024-05-29T00:00:00",
                    "2024-04-29T00:00:00",
                    "2024-03-29T00:00:00",
                    "2024-02-29T00:00:00",
                    "2024-01-29T00:00:00",
                    "2023-12-29T00:00:00",
                    "2023-11-29T00:00:00",
                    "2023-10-29T00:00:00",
                    "2023-09-29T00:00:00",
                    "2023-08-29T00:00:00",
                    "2023-07-29T00:00:00",
                    "2023-06-29T00:00:00",
                    "2023-05-29T00:00:00",
                    "2023-04-29T00:00:00",
                    "2023-03-29T00:00:00",
                    "2023-02-28T00:00:00",
                    "2023-01-29T00:00:00",
                    "2022-12-29T00:00:00",
                    "2022-11-29T00:00:00",
                    "2022-10-29T00:00:00",
                    "2022-09-29T00:00:00",
                    "2022-08-29T00:00:00",
                    "2022-07-29T00:00:00",
                    "2022-06-29T00:00:00",
                    "2022-05-29T00:00:00",
                    "2022-04-29T00:00:00",
                    "2022-03-29T00:00:00",
                    "2022-02-28T00:00:00",
                    "2022-01-29T00:00:00",
                    "2021-12-29T00:00:00",
                    "2021-11-29T00:00:00",
                    "2021-10-29T00:00:00",
                    "2021-09-29T00:00:00",
                    "2021-08-29T00:00:00",
                    "2021-07-29T00:00:00",
                    "2021-06-29T00:00:00",
                    "2021-05-29T00:00:00",
                    "2021-04-29T00:00:00",
                    "2021-03-29T00:00:00",
                    "2021-02-28T00:00:00",
                    "2021-01-29T00:00:00",
                    "2020-12-27T00:00:00",
                    "2020-11-29T00:00:00",
                    "2020-10-29T00:00:00",
                    "2020-09-29T00:00:00",
                    "2020-08-29T00:00:00",
                    "2020-07-29T00:00:00",
                    "2020-06-29T00:00:00",
                    "2020-05-29T00:00:00",
                    "2020-04-29T00:00:00",
                    "2020-03-27T00:00:00",
                    "2020-02-29T00:00:00",
                    "2020-01-29T00:00:00",
                    "2019-12-27T00:00:00",
                    "2019-11-29T00:00:00",
                    "2019-10-29T00:00:00",
                    "2019-09-28T00:00:00",
                    "2019-08-29T00:00:00",
                    "2019-07-29T00:00:00",
                    "2019-06-28T00:00:00",
                    "2019-05-27T00:00:00",
                    "2019-04-29T00:00:00",
                    "2019-03-29T00:00:00",
                    "2019-02-28T00:00:00",
                    "2019-01-29T00:00:00"
                  ],
                  "xaxis": "x",
                  "y": [
                    24.278713740801777,
                    1.37304334644044,
                    12.192086316237223,
                    10.607638665755672,
                    6.985330550868468,
                    4.538998700226998,
                    10.485844374928547,
                    21.491684456769747,
                    40.6968079507657,
                    18.257567728070995,
                    35.99105123832999,
                    29.513393337313545,
                    58.84828709848554,
                    18.992620498696127,
                    45.55828686067875,
                    20.788170636782908,
                    11.480711609200384,
                    -11.325423715155608,
                    6.901642318045617,
                    12.429226651068916,
                    -0.3358127605001471,
                    -6.59024132046541,
                    -2.5453906256764753,
                    2.6195716736332315,
                    14.42616899049645,
                    10.188783235963243,
                    -9.384052980601979,
                    -7.453799064614188,
                    -1.1077740576134687,
                    8.01323938675283,
                    3.3354974829175035,
                    18.797957531836857,
                    15.603963033898111,
                    9.684143184377419,
                    3.4545635643321617,
                    -4.034596260248179,
                    -8.631794369119547,
                    -5.533440840307605,
                    11.156205093543889,
                    29.507453917049446,
                    12.001357391003125,
                    11.06418767066073,
                    10.904633610986792,
                    -4.650075996780743,
                    22.80658062843426,
                    11.277200205938144,
                    20.52802978329673,
                    16.987922769118867,
                    2.2975310998649974,
                    12.234395833825488,
                    2.189142487951983,
                    6.476468052019001,
                    6.741827548107992,
                    1.7126693095449923,
                    7.962334408915012,
                    5.865166852487988,
                    -11.470478891802998,
                    2.2015978790020085,
                    8.604636050394006,
                    6.50050769000201,
                    15.037603924888998,
                    19.250883676410993,
                    13.445520085019979,
                    -3.846231427198603,
                    3.9878320096860023,
                    -4.03913,
                    0.7400000000000091,
                    -0.2536000000000058,
                    -0.9766072000000037
                  ],
                  "yaxis": "y"
                }
              ],
              "layout": {
                "legend": {
                  "title": {
                    "text": "Ngành"
                  },
                  "tracegroupgap": 0
                },
                "margin": {
                  "t": 60
                },
                "template": {
                  "data": {
                    "bar": [
                      {
                        "error_x": {
                          "color": "#2a3f5f"
                        },
                        "error_y": {
                          "color": "#2a3f5f"
                        },
                        "marker": {
                          "line": {
                            "color": "#E5ECF6",
                            "width": 0.5
                          },
                          "pattern": {
                            "fillmode": "overlay",
                            "size": 10,
                            "solidity": 0.2
                          }
                        },
                        "type": "bar"
                      }
                    ],
                    "barpolar": [
                      {
                        "marker": {
                          "line": {
                            "color": "#E5ECF6",
                            "width": 0.5
                          },
                          "pattern": {
                            "fillmode": "overlay",
                            "size": 10,
                            "solidity": 0.2
                          }
                        },
                        "type": "barpolar"
                      }
                    ],
                    "carpet": [
                      {
                        "aaxis": {
                          "endlinecolor": "#2a3f5f",
                          "gridcolor": "white",
                          "linecolor": "white",
                          "minorgridcolor": "white",
                          "startlinecolor": "#2a3f5f"
                        },
                        "baxis": {
                          "endlinecolor": "#2a3f5f",
                          "gridcolor": "white",
                          "linecolor": "white",
                          "minorgridcolor": "white",
                          "startlinecolor": "#2a3f5f"
                        },
                        "type": "carpet"
                      }
                    ],
                    "choropleth": [
                      {
                        "colorbar": {
                          "outlinewidth": 0,
                          "ticks": ""
                        },
                        "type": "choropleth"
                      }
                    ],
                    "contour": [
                      {
                        "colorbar": {
                          "outlinewidth": 0,
                          "ticks": ""
                        },
                        "colorscale": [
                          [
                            0,
                            "#0d0887"
                          ],
                          [
                            0.1111111111111111,
                            "#46039f"
                          ],
                          [
                            0.2222222222222222,
                            "#7201a8"
                          ],
                          [
                            0.3333333333333333,
                            "#9c179e"
                          ],
                          [
                            0.4444444444444444,
                            "#bd3786"
                          ],
                          [
                            0.5555555555555556,
                            "#d8576b"
                          ],
                          [
                            0.6666666666666666,
                            "#ed7953"
                          ],
                          [
                            0.7777777777777778,
                            "#fb9f3a"
                          ],
                          [
                            0.8888888888888888,
                            "#fdca26"
                          ],
                          [
                            1,
                            "#f0f921"
                          ]
                        ],
                        "type": "contour"
                      }
                    ],
                    "contourcarpet": [
                      {
                        "colorbar": {
                          "outlinewidth": 0,
                          "ticks": ""
                        },
                        "type": "contourcarpet"
                      }
                    ],
                    "heatmap": [
                      {
                        "colorbar": {
                          "outlinewidth": 0,
                          "ticks": ""
                        },
                        "colorscale": [
                          [
                            0,
                            "#0d0887"
                          ],
                          [
                            0.1111111111111111,
                            "#46039f"
                          ],
                          [
                            0.2222222222222222,
                            "#7201a8"
                          ],
                          [
                            0.3333333333333333,
                            "#9c179e"
                          ],
                          [
                            0.4444444444444444,
                            "#bd3786"
                          ],
                          [
                            0.5555555555555556,
                            "#d8576b"
                          ],
                          [
                            0.6666666666666666,
                            "#ed7953"
                          ],
                          [
                            0.7777777777777778,
                            "#fb9f3a"
                          ],
                          [
                            0.8888888888888888,
                            "#fdca26"
                          ],
                          [
                            1,
                            "#f0f921"
                          ]
                        ],
                        "type": "heatmap"
                      }
                    ],
                    "heatmapgl": [
                      {
                        "colorbar": {
                          "outlinewidth": 0,
                          "ticks": ""
                        },
                        "colorscale": [
                          [
                            0,
                            "#0d0887"
                          ],
                          [
                            0.1111111111111111,
                            "#46039f"
                          ],
                          [
                            0.2222222222222222,
                            "#7201a8"
                          ],
                          [
                            0.3333333333333333,
                            "#9c179e"
                          ],
                          [
                            0.4444444444444444,
                            "#bd3786"
                          ],
                          [
                            0.5555555555555556,
                            "#d8576b"
                          ],
                          [
                            0.6666666666666666,
                            "#ed7953"
                          ],
                          [
                            0.7777777777777778,
                            "#fb9f3a"
                          ],
                          [
                            0.8888888888888888,
                            "#fdca26"
                          ],
                          [
                            1,
                            "#f0f921"
                          ]
                        ],
                        "type": "heatmapgl"
                      }
                    ],
                    "histogram": [
                      {
                        "marker": {
                          "pattern": {
                            "fillmode": "overlay",
                            "size": 10,
                            "solidity": 0.2
                          }
                        },
                        "type": "histogram"
                      }
                    ],
                    "histogram2d": [
                      {
                        "colorbar": {
                          "outlinewidth": 0,
                          "ticks": ""
                        },
                        "colorscale": [
                          [
                            0,
                            "#0d0887"
                          ],
                          [
                            0.1111111111111111,
                            "#46039f"
                          ],
                          [
                            0.2222222222222222,
                            "#7201a8"
                          ],
                          [
                            0.3333333333333333,
                            "#9c179e"
                          ],
                          [
                            0.4444444444444444,
                            "#bd3786"
                          ],
                          [
                            0.5555555555555556,
                            "#d8576b"
                          ],
                          [
                            0.6666666666666666,
                            "#ed7953"
                          ],
                          [
                            0.7777777777777778,
                            "#fb9f3a"
                          ],
                          [
                            0.8888888888888888,
                            "#fdca26"
                          ],
                          [
                            1,
                            "#f0f921"
                          ]
                        ],
                        "type": "histogram2d"
                      }
                    ],
                    "histogram2dcontour": [
                      {
                        "colorbar": {
                          "outlinewidth": 0,
                          "ticks": ""
                        },
                        "colorscale": [
                          [
                            0,
                            "#0d0887"
                          ],
                          [
                            0.1111111111111111,
                            "#46039f"
                          ],
                          [
                            0.2222222222222222,
                            "#7201a8"
                          ],
                          [
                            0.3333333333333333,
                            "#9c179e"
                          ],
                          [
                            0.4444444444444444,
                            "#bd3786"
                          ],
                          [
                            0.5555555555555556,
                            "#d8576b"
                          ],
                          [
                            0.6666666666666666,
                            "#ed7953"
                          ],
                          [
                            0.7777777777777778,
                            "#fb9f3a"
                          ],
                          [
                            0.8888888888888888,
                            "#fdca26"
                          ],
                          [
                            1,
                            "#f0f921"
                          ]
                        ],
                        "type": "histogram2dcontour"
                      }
                    ],
                    "mesh3d": [
                      {
                        "colorbar": {
                          "outlinewidth": 0,
                          "ticks": ""
                        },
                        "type": "mesh3d"
                      }
                    ],
                    "parcoords": [
                      {
                        "line": {
                          "colorbar": {
                            "outlinewidth": 0,
                            "ticks": ""
                          }
                        },
                        "type": "parcoords"
                      }
                    ],
                    "pie": [
                      {
                        "automargin": true,
                        "type": "pie"
                      }
                    ],
                    "scatter": [
                      {
                        "fillpattern": {
                          "fillmode": "overlay",
                          "size": 10,
                          "solidity": 0.2
                        },
                        "type": "scatter"
                      }
                    ],
                    "scatter3d": [
                      {
                        "line": {
                          "colorbar": {
                            "outlinewidth": 0,
                            "ticks": ""
                          }
                        },
                        "marker": {
                          "colorbar": {
                            "outlinewidth": 0,
                            "ticks": ""
                          }
                        },
                        "type": "scatter3d"
                      }
                    ],
                    "scattercarpet": [
                      {
                        "marker": {
                          "colorbar": {
                            "outlinewidth": 0,
                            "ticks": ""
                          }
                        },
                        "type": "scattercarpet"
                      }
                    ],
                    "scattergeo": [
                      {
                        "marker": {
                          "colorbar": {
                            "outlinewidth": 0,
                            "ticks": ""
                          }
                        },
                        "type": "scattergeo"
                      }
                    ],
                    "scattergl": [
                      {
                        "marker": {
                          "colorbar": {
                            "outlinewidth": 0,
                            "ticks": ""
                          }
                        },
                        "type": "scattergl"
                      }
                    ],
                    "scattermapbox": [
                      {
                        "marker": {
                          "colorbar": {
                            "outlinewidth": 0,
                            "ticks": ""
                          }
                        },
                        "type": "scattermapbox"
                      }
                    ],
                    "scatterpolar": [
                      {
                        "marker": {
                          "colorbar": {
                            "outlinewidth": 0,
                            "ticks": ""
                          }
                        },
                        "type": "scatterpolar"
                      }
                    ],
                    "scatterpolargl": [
                      {
                        "marker": {
                          "colorbar": {
                            "outlinewidth": 0,
                            "ticks": ""
                          }
                        },
                        "type": "scatterpolargl"
                      }
                    ],
                    "scatterternary": [
                      {
                        "marker": {
                          "colorbar": {
                            "outlinewidth": 0,
                            "ticks": ""
                          }
                        },
                        "type": "scatterternary"
                      }
                    ],
                    "surface": [
                      {
                        "colorbar": {
                          "outlinewidth": 0,
                          "ticks": ""
                        },
                        "colorscale": [
                          [
                            0,
                            "#0d0887"
                          ],
                          [
                            0.1111111111111111,
                            "#46039f"
                          ],
                          [
                            0.2222222222222222,
                            "#7201a8"
                          ],
                          [
                            0.3333333333333333,
                            "#9c179e"
                          ],
                          [
                            0.4444444444444444,
                            "#bd3786"
                          ],
                          [
                            0.5555555555555556,
                            "#d8576b"
                          ],
                          [
                            0.6666666666666666,
                            "#ed7953"
                          ],
                          [
                            0.7777777777777778,
                            "#fb9f3a"
                          ],
                          [
                            0.8888888888888888,
                            "#fdca26"
                          ],
                          [
                            1,
                            "#f0f921"
                          ]
                        ],
                        "type": "surface"
                      }
                    ],
                    "table": [
                      {
                        "cells": {
                          "fill": {
                            "color": "#EBF0F8"
                          },
                          "line": {
                            "color": "white"
                          }
                        },
                        "header": {
                          "fill": {
                            "color": "#C8D4E3"
                          },
                          "line": {
                            "color": "white"
                          }
                        },
                        "type": "table"
                      }
                    ]
                  },
                  "layout": {
                    "annotationdefaults": {
                      "arrowcolor": "#2a3f5f",
                      "arrowhead": 0,
                      "arrowwidth": 1
                    },
                    "autotypenumbers": "strict",
                    "coloraxis": {
                      "colorbar": {
                        "outlinewidth": 0,
                        "ticks": ""
                      }
                    },
                    "colorscale": {
                      "diverging": [
                        [
                          0,
                          "#8e0152"
                        ],
                        [
                          0.1,
                          "#c51b7d"
                        ],
                        [
                          0.2,
                          "#de77ae"
                        ],
                        [
                          0.3,
                          "#f1b6da"
                        ],
                        [
                          0.4,
                          "#fde0ef"
                        ],
                        [
                          0.5,
                          "#f7f7f7"
                        ],
                        [
                          0.6,
                          "#e6f5d0"
                        ],
                        [
                          0.7,
                          "#b8e186"
                        ],
                        [
                          0.8,
                          "#7fbc41"
                        ],
                        [
                          0.9,
                          "#4d9221"
                        ],
                        [
                          1,
                          "#276419"
                        ]
                      ],
                      "sequential": [
                        [
                          0,
                          "#0d0887"
                        ],
                        [
                          0.1111111111111111,
                          "#46039f"
                        ],
                        [
                          0.2222222222222222,
                          "#7201a8"
                        ],
                        [
                          0.3333333333333333,
                          "#9c179e"
                        ],
                        [
                          0.4444444444444444,
                          "#bd3786"
                        ],
                        [
                          0.5555555555555556,
                          "#d8576b"
                        ],
                        [
                          0.6666666666666666,
                          "#ed7953"
                        ],
                        [
                          0.7777777777777778,
                          "#fb9f3a"
                        ],
                        [
                          0.8888888888888888,
                          "#fdca26"
                        ],
                        [
                          1,
                          "#f0f921"
                        ]
                      ],
                      "sequentialminus": [
                        [
                          0,
                          "#0d0887"
                        ],
                        [
                          0.1111111111111111,
                          "#46039f"
                        ],
                        [
                          0.2222222222222222,
                          "#7201a8"
                        ],
                        [
                          0.3333333333333333,
                          "#9c179e"
                        ],
                        [
                          0.4444444444444444,
                          "#bd3786"
                        ],
                        [
                          0.5555555555555556,
                          "#d8576b"
                        ],
                        [
                          0.6666666666666666,
                          "#ed7953"
                        ],
                        [
                          0.7777777777777778,
                          "#fb9f3a"
                        ],
                        [
                          0.8888888888888888,
                          "#fdca26"
                        ],
                        [
                          1,
                          "#f0f921"
                        ]
                      ]
                    },
                    "colorway": [
                      "#636efa",
                      "#EF553B",
                      "#00cc96",
                      "#ab63fa",
                      "#FFA15A",
                      "#19d3f3",
                      "#FF6692",
                      "#B6E880",
                      "#FF97FF",
                      "#FECB52"
                    ],
                    "font": {
                      "color": "#2a3f5f"
                    },
                    "geo": {
                      "bgcolor": "white",
                      "lakecolor": "white",
                      "landcolor": "#E5ECF6",
                      "showlakes": true,
                      "showland": true,
                      "subunitcolor": "white"
                    },
                    "hoverlabel": {
                      "align": "left"
                    },
                    "hovermode": "closest",
                    "mapbox": {
                      "style": "light"
                    },
                    "paper_bgcolor": "white",
                    "plot_bgcolor": "#E5ECF6",
                    "polar": {
                      "angularaxis": {
                        "gridcolor": "white",
                        "linecolor": "white",
                        "ticks": ""
                      },
                      "bgcolor": "#E5ECF6",
                      "radialaxis": {
                        "gridcolor": "white",
                        "linecolor": "white",
                        "ticks": ""
                      }
                    },
                    "scene": {
                      "xaxis": {
                        "backgroundcolor": "#E5ECF6",
                        "gridcolor": "white",
                        "gridwidth": 2,
                        "linecolor": "white",
                        "showbackground": true,
                        "ticks": "",
                        "zerolinecolor": "white"
                      },
                      "yaxis": {
                        "backgroundcolor": "#E5ECF6",
                        "gridcolor": "white",
                        "gridwidth": 2,
                        "linecolor": "white",
                        "showbackground": true,
                        "ticks": "",
                        "zerolinecolor": "white"
                      },
                      "zaxis": {
                        "backgroundcolor": "#E5ECF6",
                        "gridcolor": "white",
                        "gridwidth": 2,
                        "linecolor": "white",
                        "showbackground": true,
                        "ticks": "",
                        "zerolinecolor": "white"
                      }
                    },
                    "shapedefaults": {
                      "line": {
                        "color": "#2a3f5f"
                      }
                    },
                    "ternary": {
                      "aaxis": {
                        "gridcolor": "white",
                        "linecolor": "white",
                        "ticks": ""
                      },
                      "baxis": {
                        "gridcolor": "white",
                        "linecolor": "white",
                        "ticks": ""
                      },
                      "bgcolor": "#E5ECF6",
                      "caxis": {
                        "gridcolor": "white",
                        "linecolor": "white",
                        "ticks": ""
                      }
                    },
                    "title": {
                      "x": 0.05
                    },
                    "xaxis": {
                      "automargin": true,
                      "gridcolor": "white",
                      "linecolor": "white",
                      "ticks": "",
                      "title": {
                        "standoff": 15
                      },
                      "zerolinecolor": "white",
                      "zerolinewidth": 2
                    },
                    "yaxis": {
                      "automargin": true,
                      "gridcolor": "white",
                      "linecolor": "white",
                      "ticks": "",
                      "title": {
                        "standoff": 15
                      },
                      "zerolinecolor": "white",
                      "zerolinewidth": 2
                    }
                  }
                },
                "xaxis": {
                  "anchor": "y",
                  "domain": [
                    0,
                    1
                  ],
                  "rangeselector": {
                    "buttons": [
                      {
                        "count": 1,
                        "label": "YTD",
                        "step": "year",
                        "stepmode": "todate"
                      },
                      {
                        "count": 1,
                        "label": "1y",
                        "step": "year",
                        "stepmode": "backward"
                      },
                      {
                        "count": 3,
                        "label": "3y",
                        "step": "year",
                        "stepmode": "backward"
                      },
                      {
                        "count": 5,
                        "label": "5y",
                        "step": "year",
                        "stepmode": "backward"
                      },
                      {
                        "count": 7,
                        "label": "7y",
                        "step": "year",
                        "stepmode": "backward"
                      },
                      {
                        "count": 10,
                        "label": "10y",
                        "step": "year",
                        "stepmode": "backward"
                      },
                      {
                        "step": "all"
                      }
                    ]
                  },
                  "rangeslider": {
                    "visible": true
                  },
                  "title": {
                    "text": "Date"
                  }
                },
                "yaxis": {
                  "anchor": "x",
                  "domain": [
                    0,
                    1
                  ],
                  "title": {
                    "text": "YOY"
                  }
                }
              }
            }
          },
          "metadata": {},
          "output_type": "display_data"
        }
      ],
      "source": [
        "import pandas as pd\n",
        "import plotly.express as px\n",
        "import plotly.graph_objects as go\n",
        "\n",
        "df_show = dfs_spcn[\n",
        "    (\n",
        "        (dfs_spcn[\"Ngành\"] == \"Thuỷ hải sản chế biến\")\n",
        "        # | (dfs_spcn[\"Ngành\"] == \"Sữa tươi\")\n",
        "        # | (dfs_spcn[\"Ngành\"] == \"Sữa bột\")\n",
        "        # | (dfs_spcn[\"Ngành\"] == \"Đường kính\")\n",
        "        # | (dfs_spcn[\"Ngành\"] == \"Quần áo mặc thường\")\n",
        "        # | (dfs_spcn[\"Ngành\"] == \"Giày, dép da\")\n",
        "        | (dfs_spcn[\"Ngành\"] == \"Phân U rê\")\n",
        "        | (dfs_spcn[\"Ngành\"] == \"Phân hỗn hợp N.P.K\")\n",
        "        # | (dfs_spcn[\"Ngành\"] == \"Sắt, thép thô\")\n",
        "        # | (dfs_spcn[\"Ngành\"] == \"Thép cán\")\n",
        "        # | (dfs_spcn[\"Ngành\"] == \"Thép thanh, thép góc\")\n",
        "        # | (dfs_spcn[\"Ngành\"] == \"Điện thoại di động\")\n",
        "        # | (dfs_spcn[\"Ngành\"] == \"Linh kiện điện thoại\")\n",
        "        # | (dfs_spcn[\"Ngành\"] == \"Điện sản xuất\")\n",
        "    )\n",
        "    & (dfs_spcn[\"Date\"] > \"2019-01-01\")\n",
        "]\n",
        "\n",
        "fig = px.area(df_show, x=\"Date\", y=\"YOY\", color=\"Ngành\")\n",
        "\n",
        "fig.update_xaxes(\n",
        "    rangeslider_visible=True,\n",
        "    rangeselector=dict(\n",
        "        buttons=[\n",
        "            dict(count=1, label=\"YTD\", step=\"year\", stepmode=\"todate\"),\n",
        "            dict(count=1, label=\"1y\", step=\"year\", stepmode=\"backward\"),\n",
        "            dict(count=3, label=\"3y\", step=\"year\", stepmode=\"backward\"),\n",
        "            dict(count=5, label=\"5y\", step=\"year\", stepmode=\"backward\"),\n",
        "            dict(count=7, label=\"7y\", step=\"year\", stepmode=\"backward\"),\n",
        "            dict(count=10, label=\"10y\", step=\"year\", stepmode=\"backward\"),\n",
        "            dict(step=\"all\"),\n",
        "        ]\n",
        "    ),\n",
        ")\n",
        "# fig.update_layout(yaxis_range=[-100,600])\n",
        "\n",
        "fig.show()"
      ]
    },
    {
      "cell_type": "code",
      "execution_count": null,
      "metadata": {},
      "outputs": [],
      "source": []
    }
  ],
  "metadata": {
    "kernelspec": {
      "display_name": "vn-macroeconomics",
      "language": "python",
      "name": "python3"
    },
    "language_info": {
      "codemirror_mode": {
        "name": "ipython",
        "version": 3
      },
      "file_extension": ".py",
      "mimetype": "text/x-python",
      "name": "python",
      "nbconvert_exporter": "python",
      "pygments_lexer": "ipython3",
      "version": "3.10.14"
    },
    "orig_nbformat": 4
  },
  "nbformat": 4,
  "nbformat_minor": 2
}
