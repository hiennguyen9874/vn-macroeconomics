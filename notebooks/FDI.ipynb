{
  "cells": [
    {
      "cell_type": "code",
      "execution_count": 1,
      "metadata": {},
      "outputs": [],
      "source": [
        "import os\n",
        "import contextlib\n",
        "\n",
        "import pandas as pd\n",
        "import seaborn as sns\n",
        "from datetime import date\n",
        "import plotly.express as px\n",
        "import plotly.graph_objects as go"
      ]
    },
    {
      "cell_type": "code",
      "execution_count": 2,
      "metadata": {},
      "outputs": [],
      "source": [
        "def find_sheet_name(sheet_names):\n",
        "    cpi_sheet_names = list(filter(lambda x: \"fdi\" in x.lower(), sheet_names))\n",
        "\n",
        "    if len(cpi_sheet_names) == 1:\n",
        "        return cpi_sheet_names[0]\n",
        "\n",
        "    cpi_sheet_names = list(filter(lambda x: \"dtnn\" in x.lower(), sheet_names))\n",
        "\n",
        "    if len(cpi_sheet_names) == 1:\n",
        "        return cpi_sheet_names[0]\n",
        "\n",
        "    if len(sheet_names) == 43:\n",
        "        return \"22\"\n",
        "\n",
        "    cpi_sheet_names = list(filter(lambda x: \"sheet1\" in x.lower(), sheet_names))\n",
        "\n",
        "    if len(cpi_sheet_names) == 1:\n",
        "        return cpi_sheet_names[0]\n",
        "\n",
        "    raise RuntimeError(sheet_names, len(sheet_names))"
      ]
    },
    {
      "cell_type": "code",
      "execution_count": 3,
      "metadata": {},
      "outputs": [],
      "source": [
        "en_to_vn = {\n",
        "    \"TOTAL\": \"TỔNG SỐ\",\n",
        "    \"By province\": \"Phân theo một số địa phương\",\n",
        "    \"Bac Lieu\": \"Bạc Liêu\",\n",
        "    \"Hai Phong\": \"Hải Phòng\",\n",
        "    \"Binh Duong\": \"Bình Dương\",\n",
        "    \"Ha Nam\": \"Hà Nam\",\n",
        "    \"Ha Noi\": \"Hà Nội\",\n",
        "    \"Ho Chi Minh city\": \"TP. Hồ Chí Minh\",\n",
        "    \"Tay Ninh\": \"Tây Ninh\",\n",
        "    \"Bac Ninh\": \"Bắc Ninh\",\n",
        "    \"Quang Ninh\": \"Quảng Ninh\",\n",
        "    \"Bac Giang\": \"Bác Giang\",\n",
        "    \"Quang Binh\": \"Quảng Bình\",\n",
        "    \"Ba Ria - Vung Tau\": \"Bà Rịa - Vũng Tàu\",\n",
        "    \"Long An\": \"Long An\",\n",
        "    \"Thanh Hoa\": \"Thanh Hóa\",\n",
        "    \"Dong Nai\": \"Đồng Nai\",\n",
        "    \"Phu Tho\": \"Phú Thọ\",\n",
        "    \"Da Nang\": \"Đà Nẵng\",\n",
        "    \"Hai Duong\": \"Hải Dương\",\n",
        "    \"Vinh Phuc\": \"Vĩnh Phúc\",\n",
        "    \"Vinh Long\": \"Vĩnh Long\",\n",
        "    \"By country and geographical territory\": \"Phân theo một số nước và vùng lãnh thổ\",\n",
        "    \"Singapore\": \"Xin-ga-po\",\n",
        "    \"China\": \"Trung Quốc\",\n",
        "    \"South Korea\": \"Hàn Quốc\",\n",
        "    \"Special Administration Hong Kong\": \"Đặc khu HC Hồng Công (TQ)\",\n",
        "    \"Taiwan\": \"Đài Loan\",\n",
        "    \"Japan\": \"Nhật Bản\",\n",
        "    \"Philippines\": \"Phi-li-pin\",\n",
        "    \"BritishVirginIslands\": \"Quần đảo Virgin thuộc Anh\",\n",
        "    \"Thailand\": \"Thái Lan\",\n",
        "    \"Netherlands\": \"Hà Lan\",\n",
        "    \"Cayman Islands\": \"Quần đảo Cay-man\",\n",
        "    \"Samoa\": \"Xa-moa\",\n",
        "    \"United State\": \"Hoa Kỳ\",\n",
        "    \"Seychelles\": \"Xây-Sen\",\n",
        "    \"Malaysia\": \"Ma-lai-xi-a\",\n",
        "    \"France\": \"Pháp\",\n",
        "    \"Germany\": \"Đức\",\n",
        "}"
      ]
    },
    {
      "cell_type": "code",
      "execution_count": 4,
      "metadata": {},
      "outputs": [
        {
          "data": {
            "text/plain": [
              "['TỔNG SỐ',\n",
              " 'Hà Nội',\n",
              " 'Quảng Ninh',\n",
              " 'Bắc Ninh',\n",
              " 'Thái Nguyên',\n",
              " 'Hưng Yên',\n",
              " 'Bà Rịa - Vũng Tàu',\n",
              " 'Đồng Nai',\n",
              " 'Hải Phòng',\n",
              " 'Long An',\n",
              " 'Bình Dương',\n",
              " 'TP. Hồ Chí Minh',\n",
              " 'Bắc Giang',\n",
              " 'Thái Bình',\n",
              " 'Nam Định',\n",
              " 'Hà Nam',\n",
              " 'Vĩnh Phúc',\n",
              " 'Nghệ An',\n",
              " 'Xin-ga-po',\n",
              " 'Đặc khu hành chính Hồng Kông (TQ)',\n",
              " 'Trung Quốc',\n",
              " 'Nhật Bản',\n",
              " 'Hàn Quốc',\n",
              " 'Đài Loan',\n",
              " 'Vương quốc Anh',\n",
              " 'Xa-moa',\n",
              " 'I-ta-li-a',\n",
              " 'Thái Lan',\n",
              " 'Xây-xen',\n",
              " 'Hoa Kỳ',\n",
              " 'Ma-lai-xi-a',\n",
              " 'Quần đảo Vigin thuộc Anh']"
            ]
          },
          "execution_count": 4,
          "metadata": {},
          "output_type": "execute_result"
        }
      ],
      "source": [
        "from datetime import timedelta\n",
        "\n",
        "\n",
        "def get_cpi(xl, sheet_name, date):\n",
        "    df = xl.parse(sheet_name)\n",
        "\n",
        "    if (\n",
        "        len(\n",
        "            df[df.columns[1]][\n",
        "                (df[df.columns[1]] == \"Phân theo một số địa phương\")\n",
        "                | (df[df.columns[1]] == \"By province\")\n",
        "            ].index\n",
        "        )\n",
        "        > 0\n",
        "    ):\n",
        "        df[df.columns[1]] = df[df.columns[1]].fillna(df[df.columns[0]])\n",
        "        df = df.drop(columns=[df.columns[0]])\n",
        "\n",
        "    if (\n",
        "        len(\n",
        "            df[df.columns[1]][\n",
        "                (df[df.columns[1]] == \"TP. Hồ Chí Minh\")\n",
        "                | (df[df.columns[1]] == \"Ho Chi Minh city\")\n",
        "                | (df[df.columns[1]] == \" TP. Hồ Chí Minh \")\n",
        "            ].index\n",
        "        )\n",
        "        > 0\n",
        "    ):\n",
        "        df[df.columns[1]] = df[df.columns[1]].fillna(df[df.columns[0]])\n",
        "        df = df.drop(columns=[df.columns[0]])\n",
        "\n",
        "    df[df.columns[0]] = (\n",
        "        df[df.columns[0]]\n",
        "        .replace(r\"\\s+\", \" \", regex=True)\n",
        "        .replace(r\"\\n\", \" \", regex=True)\n",
        "        .str.strip()\n",
        "    )\n",
        "\n",
        "    df = df.drop(\n",
        "        list(\n",
        "            range(\n",
        "                df[df.columns[0]][\n",
        "                    (df[df.columns[0]] == \"TỔNG SỐ\") | ((df[df.columns[0]] == \"TOTAL\"))\n",
        "                ].index[0]\n",
        "            )\n",
        "        )\n",
        "    )\n",
        "\n",
        "    if len(df[df.columns[0]][df[df.columns[0]] == \"TOTAL\"].index) > 0:\n",
        "        df[df.columns[0]] = df[df.columns[0]].map(en_to_vn)\n",
        "\n",
        "    df = df.dropna(axis=\"columns\", how=\"all\")\n",
        "    df = df.dropna(axis=\"index\", how=\"all\")\n",
        "\n",
        "    if len(df.columns) == 4:\n",
        "        df.columns = [\n",
        "            \"Phân Loại\",\n",
        "            \"Số dự án\",\n",
        "            \"Vốn đăng ký cấp mới\",\n",
        "            \"Vốn đăng ký điều chỉnh\",\n",
        "        ]\n",
        "\n",
        "        df = df[pd.to_numeric(df[\"Số dự án\"], errors=\"coerce\").notnull()]\n",
        "        df = df[pd.to_numeric(df[\"Vốn đăng ký cấp mới\"], errors=\"coerce\").notnull()]\n",
        "        df = df[pd.to_numeric(df[\"Vốn đăng ký điều chỉnh\"], errors=\"coerce\").notnull()]\n",
        "\n",
        "        df[\"Vốn đăng ký\"] = df[\"Vốn đăng ký cấp mới\"] + df[\"Vốn đăng ký điều chỉnh\"]\n",
        "    elif len(df.columns) == 3:\n",
        "        df.columns = [\n",
        "            \"Phân Loại\",\n",
        "            \"Số dự án\",\n",
        "            \"Vốn đăng ký\",\n",
        "        ]\n",
        "\n",
        "        df = df[pd.to_numeric(df[\"Số dự án\"], errors=\"coerce\").notnull()]\n",
        "        df = df[pd.to_numeric(df[\"Vốn đăng ký\"], errors=\"coerce\").notnull()]\n",
        "    else:\n",
        "        raise RuntimeError\n",
        "\n",
        "    df[\"Date\"] = date\n",
        "    df[\"Date\"] = pd.to_datetime(df[\"Date\"], dayfirst=False)\n",
        "\n",
        "    df[\"Month\"] = df[\"Date\"].dt.strftime(\"%Y-%m\")\n",
        "    df[\"PreMonth\"] = (df[\"Date\"] - timedelta(days=31)).dt.strftime(\"%Y-%m\")\n",
        "\n",
        "    df = df[~df[\"Phân Loại\"].isnull()]\n",
        "\n",
        "    return df\n",
        "\n",
        "\n",
        "xl = pd.ExcelFile(\"../datas/2024-03-29-02-Bieu-3.2024-ngay-28.3.xlsx\")\n",
        "\n",
        "sheet_name = find_sheet_name(xl.sheet_names)\n",
        "\n",
        "get_cpi(xl, sheet_name, \"2024-03-29\")['Phân Loại'].unique().tolist()"
      ]
    },
    {
      "cell_type": "code",
      "execution_count": 5,
      "metadata": {},
      "outputs": [],
      "source": [
        "import os\n",
        "import contextlib\n",
        "\n",
        "dfs_fdi_origin = []\n",
        "for file_name in sorted(\n",
        "    os.listdir(\"../datas\"),\n",
        "    key=lambda filename: f\"{filename.split('-')[0]}-{filename.split('-')[1]}-{filename.split('-')[2]}\",\n",
        "    reverse=True,\n",
        "):\n",
        "    if file_name.startswith(\".~\"):\n",
        "        continue\n",
        "\n",
        "    try:\n",
        "        file_path = os.path.join(\"../datas\", file_name)\n",
        "\n",
        "        year = int(file_name.split(\"-\")[0])\n",
        "        month = int(file_name.split(\"-\")[1])\n",
        "        day = int(file_name.split(\"-\")[2])\n",
        "\n",
        "        if year < 2016:\n",
        "            continue\n",
        "\n",
        "        xl = pd.ExcelFile(file_path)\n",
        "\n",
        "        df_fdi = get_cpi(xl, find_sheet_name(xl.sheet_names), f\"{year}-{month}-{day}\")\n",
        "\n",
        "        dfs_fdi_origin.append(df_fdi)\n",
        "    except Exception as e:\n",
        "        print(file_name)\n",
        "        raise e"
      ]
    },
    {
      "cell_type": "code",
      "execution_count": 29,
      "metadata": {},
      "outputs": [
        {
          "data": {
            "text/html": [
              "<div>\n",
              "<style scoped>\n",
              "    .dataframe tbody tr th:only-of-type {\n",
              "        vertical-align: middle;\n",
              "    }\n",
              "\n",
              "    .dataframe tbody tr th {\n",
              "        vertical-align: top;\n",
              "    }\n",
              "\n",
              "    .dataframe thead th {\n",
              "        text-align: right;\n",
              "    }\n",
              "</style>\n",
              "<table border=\"1\" class=\"dataframe\">\n",
              "  <thead>\n",
              "    <tr style=\"text-align: right;\">\n",
              "      <th></th>\n",
              "      <th>Phân Loại</th>\n",
              "      <th>Số dự án</th>\n",
              "      <th>Vốn đăng ký cấp mới</th>\n",
              "      <th>Vốn đăng ký điều chỉnh</th>\n",
              "      <th>Vốn đăng ký</th>\n",
              "      <th>Date</th>\n",
              "      <th>Month</th>\n",
              "      <th>PreMonth</th>\n",
              "    </tr>\n",
              "  </thead>\n",
              "  <tbody>\n",
              "    <tr>\n",
              "      <th>0</th>\n",
              "      <td>TỔNG SỐ</td>\n",
              "      <td>966</td>\n",
              "      <td>7110.212866</td>\n",
              "      <td>1234.628932</td>\n",
              "      <td>8344.841798</td>\n",
              "      <td>2024-04-29</td>\n",
              "      <td>2024-04</td>\n",
              "      <td>2024-03</td>\n",
              "    </tr>\n",
              "    <tr>\n",
              "      <th>1</th>\n",
              "      <td>Bà Rịa - Vũng Tàu</td>\n",
              "      <td>17</td>\n",
              "      <td>1521.095655</td>\n",
              "      <td>-9.557457</td>\n",
              "      <td>1511.538198</td>\n",
              "      <td>2024-04-29</td>\n",
              "      <td>2024-04</td>\n",
              "      <td>2024-03</td>\n",
              "    </tr>\n",
              "    <tr>\n",
              "      <th>2</th>\n",
              "      <td>Hà Nội</td>\n",
              "      <td>73</td>\n",
              "      <td>1008.129751</td>\n",
              "      <td>78.998896</td>\n",
              "      <td>1087.128647</td>\n",
              "      <td>2024-04-29</td>\n",
              "      <td>2024-04</td>\n",
              "      <td>2024-03</td>\n",
              "    </tr>\n",
              "    <tr>\n",
              "      <th>3</th>\n",
              "      <td>Quảng Ninh</td>\n",
              "      <td>15</td>\n",
              "      <td>737.965228</td>\n",
              "      <td>-4.507555</td>\n",
              "      <td>733.457673</td>\n",
              "      <td>2024-04-29</td>\n",
              "      <td>2024-04</td>\n",
              "      <td>2024-03</td>\n",
              "    </tr>\n",
              "    <tr>\n",
              "      <th>4</th>\n",
              "      <td>Bắc Ninh</td>\n",
              "      <td>142</td>\n",
              "      <td>595.713546</td>\n",
              "      <td>369.239817</td>\n",
              "      <td>964.953363</td>\n",
              "      <td>2024-04-29</td>\n",
              "      <td>2024-04</td>\n",
              "      <td>2024-03</td>\n",
              "    </tr>\n",
              "    <tr>\n",
              "      <th>...</th>\n",
              "      <td>...</td>\n",
              "      <td>...</td>\n",
              "      <td>...</td>\n",
              "      <td>...</td>\n",
              "      <td>...</td>\n",
              "      <td>...</td>\n",
              "      <td>...</td>\n",
              "      <td>...</td>\n",
              "    </tr>\n",
              "    <tr>\n",
              "      <th>3569</th>\n",
              "      <td>Quần đảo Vigin thuộc Anh</td>\n",
              "      <td>3</td>\n",
              "      <td>NaN</td>\n",
              "      <td>NaN</td>\n",
              "      <td>9.4</td>\n",
              "      <td>2016-01-29</td>\n",
              "      <td>2016-01</td>\n",
              "      <td>2015-12</td>\n",
              "    </tr>\n",
              "    <tr>\n",
              "      <th>3570</th>\n",
              "      <td>Đài Loan</td>\n",
              "      <td>6</td>\n",
              "      <td>NaN</td>\n",
              "      <td>NaN</td>\n",
              "      <td>8.7</td>\n",
              "      <td>2016-01-29</td>\n",
              "      <td>2016-01</td>\n",
              "      <td>2015-12</td>\n",
              "    </tr>\n",
              "    <tr>\n",
              "      <th>3571</th>\n",
              "      <td>Thái Lan</td>\n",
              "      <td>3</td>\n",
              "      <td>NaN</td>\n",
              "      <td>NaN</td>\n",
              "      <td>6.3</td>\n",
              "      <td>2016-01-29</td>\n",
              "      <td>2016-01</td>\n",
              "      <td>2015-12</td>\n",
              "    </tr>\n",
              "    <tr>\n",
              "      <th>3572</th>\n",
              "      <td>Hà Lan</td>\n",
              "      <td>1</td>\n",
              "      <td>NaN</td>\n",
              "      <td>NaN</td>\n",
              "      <td>6</td>\n",
              "      <td>2016-01-29</td>\n",
              "      <td>2016-01</td>\n",
              "      <td>2015-12</td>\n",
              "    </tr>\n",
              "    <tr>\n",
              "      <th>3573</th>\n",
              "      <td>Vương quốc Anh</td>\n",
              "      <td>4</td>\n",
              "      <td>NaN</td>\n",
              "      <td>NaN</td>\n",
              "      <td>0.3</td>\n",
              "      <td>2016-01-29</td>\n",
              "      <td>2016-01</td>\n",
              "      <td>2015-12</td>\n",
              "    </tr>\n",
              "  </tbody>\n",
              "</table>\n",
              "<p>3574 rows × 8 columns</p>\n",
              "</div>"
            ],
            "text/plain": [
              "                     Phân Loại Số dự án Vốn đăng ký cấp mới  \\\n",
              "0                      TỔNG SỐ      966         7110.212866   \n",
              "1            Bà Rịa - Vũng Tàu       17         1521.095655   \n",
              "2                       Hà Nội       73         1008.129751   \n",
              "3                   Quảng Ninh       15          737.965228   \n",
              "4                     Bắc Ninh      142          595.713546   \n",
              "...                        ...      ...                 ...   \n",
              "3569  Quần đảo Vigin thuộc Anh        3                 NaN   \n",
              "3570                  Đài Loan        6                 NaN   \n",
              "3571                  Thái Lan        3                 NaN   \n",
              "3572                    Hà Lan        1                 NaN   \n",
              "3573            Vương quốc Anh        4                 NaN   \n",
              "\n",
              "     Vốn đăng ký điều chỉnh  Vốn đăng ký       Date    Month PreMonth  \n",
              "0               1234.628932  8344.841798 2024-04-29  2024-04  2024-03  \n",
              "1                 -9.557457  1511.538198 2024-04-29  2024-04  2024-03  \n",
              "2                 78.998896  1087.128647 2024-04-29  2024-04  2024-03  \n",
              "3                 -4.507555   733.457673 2024-04-29  2024-04  2024-03  \n",
              "4                369.239817   964.953363 2024-04-29  2024-04  2024-03  \n",
              "...                     ...          ...        ...      ...      ...  \n",
              "3569                    NaN          9.4 2016-01-29  2016-01  2015-12  \n",
              "3570                    NaN          8.7 2016-01-29  2016-01  2015-12  \n",
              "3571                    NaN          6.3 2016-01-29  2016-01  2015-12  \n",
              "3572                    NaN            6 2016-01-29  2016-01  2015-12  \n",
              "3573                    NaN          0.3 2016-01-29  2016-01  2015-12  \n",
              "\n",
              "[3574 rows x 8 columns]"
            ]
          },
          "execution_count": 29,
          "metadata": {},
          "output_type": "execute_result"
        }
      ],
      "source": [
        "dfs_fdi = pd.concat(dfs_fdi_origin, ignore_index=True, axis=0)\n",
        "dfs_fdi[\"Date\"] = pd.to_datetime(dfs_fdi[\"Date\"], dayfirst=False)\n",
        "dfs_fdi"
      ]
    },
    {
      "cell_type": "code",
      "execution_count": 30,
      "metadata": {},
      "outputs": [
        {
          "data": {
            "text/html": [
              "<div>\n",
              "<style scoped>\n",
              "    .dataframe tbody tr th:only-of-type {\n",
              "        vertical-align: middle;\n",
              "    }\n",
              "\n",
              "    .dataframe tbody tr th {\n",
              "        vertical-align: top;\n",
              "    }\n",
              "\n",
              "    .dataframe thead th {\n",
              "        text-align: right;\n",
              "    }\n",
              "</style>\n",
              "<table border=\"1\" class=\"dataframe\">\n",
              "  <thead>\n",
              "    <tr style=\"text-align: right;\">\n",
              "      <th></th>\n",
              "      <th>Phân Loại</th>\n",
              "      <th>Số dự án</th>\n",
              "      <th>Vốn đăng ký cấp mới</th>\n",
              "      <th>Vốn đăng ký điều chỉnh</th>\n",
              "      <th>Vốn đăng ký</th>\n",
              "      <th>Date</th>\n",
              "      <th>Month</th>\n",
              "      <th>PreMonth</th>\n",
              "      <th>Số dự án trong tháng</th>\n",
              "      <th>Vốn đăng ký cấp mới trong tháng</th>\n",
              "      <th>Vốn đăng ký điều chỉnh trong tháng</th>\n",
              "      <th>Vốn đăng ký trong tháng</th>\n",
              "    </tr>\n",
              "  </thead>\n",
              "  <tbody>\n",
              "    <tr>\n",
              "      <th>0</th>\n",
              "      <td>TỔNG SỐ</td>\n",
              "      <td>966</td>\n",
              "      <td>7110.212866</td>\n",
              "      <td>1234.628932</td>\n",
              "      <td>8344.841798</td>\n",
              "      <td>2024-04-29</td>\n",
              "      <td>2024-04</td>\n",
              "      <td>2024-03</td>\n",
              "      <td>322</td>\n",
              "      <td>2336.203461</td>\n",
              "      <td>300.029434</td>\n",
              "      <td>2636.232895</td>\n",
              "    </tr>\n",
              "    <tr>\n",
              "      <th>1</th>\n",
              "      <td>Bà Rịa - Vũng Tàu</td>\n",
              "      <td>17</td>\n",
              "      <td>1521.095655</td>\n",
              "      <td>-9.557457</td>\n",
              "      <td>1511.538198</td>\n",
              "      <td>2024-04-29</td>\n",
              "      <td>2024-04</td>\n",
              "      <td>2024-03</td>\n",
              "      <td>12</td>\n",
              "      <td>1225.679913</td>\n",
              "      <td>-9.557457</td>\n",
              "      <td>1174.716009</td>\n",
              "    </tr>\n",
              "    <tr>\n",
              "      <th>2</th>\n",
              "      <td>Hà Nội</td>\n",
              "      <td>73</td>\n",
              "      <td>1008.129751</td>\n",
              "      <td>78.998896</td>\n",
              "      <td>1087.128647</td>\n",
              "      <td>2024-04-29</td>\n",
              "      <td>2024-04</td>\n",
              "      <td>2024-03</td>\n",
              "      <td>26</td>\n",
              "      <td>103.883749</td>\n",
              "      <td>57.432063</td>\n",
              "      <td>161.315812</td>\n",
              "    </tr>\n",
              "    <tr>\n",
              "      <th>3</th>\n",
              "      <td>Quảng Ninh</td>\n",
              "      <td>15</td>\n",
              "      <td>737.965228</td>\n",
              "      <td>-4.507555</td>\n",
              "      <td>733.457673</td>\n",
              "      <td>2024-04-29</td>\n",
              "      <td>2024-04</td>\n",
              "      <td>2024-03</td>\n",
              "      <td>5</td>\n",
              "      <td>163.229628</td>\n",
              "      <td>2.705882</td>\n",
              "      <td>165.93551</td>\n",
              "    </tr>\n",
              "    <tr>\n",
              "      <th>4</th>\n",
              "      <td>Bắc Ninh</td>\n",
              "      <td>142</td>\n",
              "      <td>595.713546</td>\n",
              "      <td>369.239817</td>\n",
              "      <td>964.953363</td>\n",
              "      <td>2024-04-29</td>\n",
              "      <td>2024-04</td>\n",
              "      <td>2024-03</td>\n",
              "      <td>54</td>\n",
              "      <td>114.614023</td>\n",
              "      <td>129.485</td>\n",
              "      <td>244.099023</td>\n",
              "    </tr>\n",
              "    <tr>\n",
              "      <th>...</th>\n",
              "      <td>...</td>\n",
              "      <td>...</td>\n",
              "      <td>...</td>\n",
              "      <td>...</td>\n",
              "      <td>...</td>\n",
              "      <td>...</td>\n",
              "      <td>...</td>\n",
              "      <td>...</td>\n",
              "      <td>...</td>\n",
              "      <td>...</td>\n",
              "      <td>...</td>\n",
              "      <td>...</td>\n",
              "    </tr>\n",
              "    <tr>\n",
              "      <th>3569</th>\n",
              "      <td>Quần đảo Vigin thuộc Anh</td>\n",
              "      <td>3</td>\n",
              "      <td>NaN</td>\n",
              "      <td>NaN</td>\n",
              "      <td>9.4</td>\n",
              "      <td>2016-01-29</td>\n",
              "      <td>2016-01</td>\n",
              "      <td>2015-12</td>\n",
              "      <td>NaN</td>\n",
              "      <td>NaN</td>\n",
              "      <td>NaN</td>\n",
              "      <td>NaN</td>\n",
              "    </tr>\n",
              "    <tr>\n",
              "      <th>3570</th>\n",
              "      <td>Đài Loan</td>\n",
              "      <td>6</td>\n",
              "      <td>NaN</td>\n",
              "      <td>NaN</td>\n",
              "      <td>8.7</td>\n",
              "      <td>2016-01-29</td>\n",
              "      <td>2016-01</td>\n",
              "      <td>2015-12</td>\n",
              "      <td>NaN</td>\n",
              "      <td>NaN</td>\n",
              "      <td>NaN</td>\n",
              "      <td>NaN</td>\n",
              "    </tr>\n",
              "    <tr>\n",
              "      <th>3571</th>\n",
              "      <td>Thái Lan</td>\n",
              "      <td>3</td>\n",
              "      <td>NaN</td>\n",
              "      <td>NaN</td>\n",
              "      <td>6.3</td>\n",
              "      <td>2016-01-29</td>\n",
              "      <td>2016-01</td>\n",
              "      <td>2015-12</td>\n",
              "      <td>NaN</td>\n",
              "      <td>NaN</td>\n",
              "      <td>NaN</td>\n",
              "      <td>NaN</td>\n",
              "    </tr>\n",
              "    <tr>\n",
              "      <th>3572</th>\n",
              "      <td>Hà Lan</td>\n",
              "      <td>1</td>\n",
              "      <td>NaN</td>\n",
              "      <td>NaN</td>\n",
              "      <td>6</td>\n",
              "      <td>2016-01-29</td>\n",
              "      <td>2016-01</td>\n",
              "      <td>2015-12</td>\n",
              "      <td>NaN</td>\n",
              "      <td>NaN</td>\n",
              "      <td>NaN</td>\n",
              "      <td>NaN</td>\n",
              "    </tr>\n",
              "    <tr>\n",
              "      <th>3573</th>\n",
              "      <td>Vương quốc Anh</td>\n",
              "      <td>4</td>\n",
              "      <td>NaN</td>\n",
              "      <td>NaN</td>\n",
              "      <td>0.3</td>\n",
              "      <td>2016-01-29</td>\n",
              "      <td>2016-01</td>\n",
              "      <td>2015-12</td>\n",
              "      <td>NaN</td>\n",
              "      <td>NaN</td>\n",
              "      <td>NaN</td>\n",
              "      <td>NaN</td>\n",
              "    </tr>\n",
              "  </tbody>\n",
              "</table>\n",
              "<p>3574 rows × 12 columns</p>\n",
              "</div>"
            ],
            "text/plain": [
              "                     Phân Loại Số dự án Vốn đăng ký cấp mới  \\\n",
              "0                      TỔNG SỐ      966         7110.212866   \n",
              "1            Bà Rịa - Vũng Tàu       17         1521.095655   \n",
              "2                       Hà Nội       73         1008.129751   \n",
              "3                   Quảng Ninh       15          737.965228   \n",
              "4                     Bắc Ninh      142          595.713546   \n",
              "...                        ...      ...                 ...   \n",
              "3569  Quần đảo Vigin thuộc Anh        3                 NaN   \n",
              "3570                  Đài Loan        6                 NaN   \n",
              "3571                  Thái Lan        3                 NaN   \n",
              "3572                    Hà Lan        1                 NaN   \n",
              "3573            Vương quốc Anh        4                 NaN   \n",
              "\n",
              "     Vốn đăng ký điều chỉnh  Vốn đăng ký       Date    Month PreMonth  \\\n",
              "0               1234.628932  8344.841798 2024-04-29  2024-04  2024-03   \n",
              "1                 -9.557457  1511.538198 2024-04-29  2024-04  2024-03   \n",
              "2                 78.998896  1087.128647 2024-04-29  2024-04  2024-03   \n",
              "3                 -4.507555   733.457673 2024-04-29  2024-04  2024-03   \n",
              "4                369.239817   964.953363 2024-04-29  2024-04  2024-03   \n",
              "...                     ...          ...        ...      ...      ...   \n",
              "3569                    NaN          9.4 2016-01-29  2016-01  2015-12   \n",
              "3570                    NaN          8.7 2016-01-29  2016-01  2015-12   \n",
              "3571                    NaN          6.3 2016-01-29  2016-01  2015-12   \n",
              "3572                    NaN            6 2016-01-29  2016-01  2015-12   \n",
              "3573                    NaN          0.3 2016-01-29  2016-01  2015-12   \n",
              "\n",
              "     Số dự án trong tháng Vốn đăng ký cấp mới trong tháng  \\\n",
              "0                     322                     2336.203461   \n",
              "1                      12                     1225.679913   \n",
              "2                      26                      103.883749   \n",
              "3                       5                      163.229628   \n",
              "4                      54                      114.614023   \n",
              "...                   ...                             ...   \n",
              "3569                  NaN                             NaN   \n",
              "3570                  NaN                             NaN   \n",
              "3571                  NaN                             NaN   \n",
              "3572                  NaN                             NaN   \n",
              "3573                  NaN                             NaN   \n",
              "\n",
              "     Vốn đăng ký điều chỉnh trong tháng Vốn đăng ký trong tháng  \n",
              "0                            300.029434             2636.232895  \n",
              "1                             -9.557457             1174.716009  \n",
              "2                             57.432063              161.315812  \n",
              "3                              2.705882               165.93551  \n",
              "4                               129.485              244.099023  \n",
              "...                                 ...                     ...  \n",
              "3569                                NaN                     NaN  \n",
              "3570                                NaN                     NaN  \n",
              "3571                                NaN                     NaN  \n",
              "3572                                NaN                     NaN  \n",
              "3573                                NaN                     NaN  \n",
              "\n",
              "[3574 rows x 12 columns]"
            ]
          },
          "execution_count": 30,
          "metadata": {},
          "output_type": "execute_result"
        }
      ],
      "source": [
        "merge_df = pd.merge(\n",
        "    left=dfs_fdi,\n",
        "    right=dfs_fdi,\n",
        "    left_on=[\"Phân Loại\", \"PreMonth\"],\n",
        "    right_on=[\"Phân Loại\", \"Month\"],\n",
        "    how=\"left\",\n",
        ")\n",
        "dfs_fdi[\"Số dự án trong tháng\"] = merge_df[\"Số dự án_x\"] - merge_df[\"Số dự án_y\"]\n",
        "dfs_fdi.loc[dfs_fdi[\"Số dự án trong tháng\"] < 0, \"Số dự án trong tháng\"] = merge_df[\n",
        "    \"Số dự án_x\"\n",
        "]\n",
        "\n",
        "dfs_fdi[\"Vốn đăng ký cấp mới trong tháng\"] = (\n",
        "    merge_df[\"Vốn đăng ký cấp mới_x\"] - merge_df[\"Vốn đăng ký cấp mới_y\"]\n",
        ")\n",
        "dfs_fdi.loc[\n",
        "    dfs_fdi[\"Vốn đăng ký cấp mới trong tháng\"] < 0, \"Vốn đăng ký cấp mới trong tháng\"\n",
        "] = merge_df[\"Vốn đăng ký cấp mới_x\"]\n",
        "\n",
        "dfs_fdi[\"Vốn đăng ký điều chỉnh trong tháng\"] = (\n",
        "    merge_df[\"Vốn đăng ký điều chỉnh_x\"] - merge_df[\"Vốn đăng ký điều chỉnh_y\"]\n",
        ")\n",
        "dfs_fdi.loc[\n",
        "    dfs_fdi[\"Vốn đăng ký điều chỉnh trong tháng\"] < 0,\n",
        "    \"Vốn đăng ký điều chỉnh trong tháng\",\n",
        "] = merge_df[\"Vốn đăng ký điều chỉnh_x\"]\n",
        "\n",
        "dfs_fdi[\"Vốn đăng ký trong tháng\"] = (\n",
        "    merge_df[\"Vốn đăng ký_x\"] - merge_df[\"Vốn đăng ký_y\"]\n",
        ")\n",
        "dfs_fdi.loc[dfs_fdi[\"Vốn đăng ký trong tháng\"] < 0, \"Vốn đăng ký trong tháng\"] = (\n",
        "    merge_df[\"Vốn đăng ký_x\"]\n",
        ")\n",
        "\n",
        "dfs_fdi"
      ]
    },
    {
      "cell_type": "code",
      "execution_count": 31,
      "metadata": {},
      "outputs": [],
      "source": [
        "convert_pl = {\n",
        "    \"TỔNG SỐ\": \"TỔNG SỐ\",\n",
        "    \"Hà Nội\": \"Hà Nội\",\n",
        "    \"Quảng Ninh\": \"Quảng Ninh\",\n",
        "    \"Bắc Ninh\": \"Bắc Ninh\",\n",
        "    \"Thái Nguyên\": \"Thái Nguyên\",\n",
        "    \"Hưng Yên\": \"Hưng Yên\",\n",
        "    \"Bà Rịa - Vũng Tàu\": \"Bà Rịa - Vũng Tàu\",\n",
        "    \"Đồng Nai\": \"Đồng Nai\",\n",
        "    \"Hải Phòng\": \"Hải Phòng\",\n",
        "    \"Long An\": \"Long An\",\n",
        "    \"Bình Dương\": \"Bình Dương\",\n",
        "    \"TP. Hồ Chí Minh\": \"TP. Hồ Chí Minh\",\n",
        "    \"Bắc Giang\": \"Bắc Giang\",\n",
        "    \"Thái Bình\": \"Thái Bình\",\n",
        "    \"Nam Định\": \"Nam Định\",\n",
        "    \"Hà Nam\": \"Hà Nam\",\n",
        "    \"Vĩnh Phúc\": \"Vĩnh Phúc\",\n",
        "    \"Nghệ An\": \"Nghệ An\",\n",
        "    \"Xin-ga-po\": \"Xin-ga-po\",\n",
        "    \"Đặc khu hành chính Hồng Kông (TQ)\": \"Đặc khu hành chính Hồng Kông (TQ)\",\n",
        "    \"Trung Quốc\": \"Trung Quốc\",\n",
        "    \"Nhật Bản\": \"Nhật Bản\",\n",
        "    \"Hàn Quốc\": \"Hàn Quốc\",\n",
        "    \"Đài Loan\": \"Đài Loan\",\n",
        "    \"Vương quốc Anh\": \"Vương quốc Anh\",\n",
        "    \"Xa-moa\": \"Xa-moa\",\n",
        "    \"I-ta-li-a\": \"I-ta-li-a\",\n",
        "    \"Thái Lan\": \"Thái Lan\",\n",
        "    \"Xây-xen\": \"Xây-Sen\",\n",
        "    \"Hoa Kỳ\": \"Hoa Kỳ\",\n",
        "    \"Ma-lai-xi-a\": \"Ma-lai-xi-a\",\n",
        "    \"Quần đảo Vigin thuộc Anh\": \"Quần đảo Vigin thuộc Anh\",\n",
        "    \"Thanh Hóa\": \"Thanh Hóa\",\n",
        "    \"Thừa Thiên Huế\": \"Thừa Thiên - Huế\",\n",
        "    \"Ninh Bình\": \"Ninh Bình\",\n",
        "    \"Đà Nẵng\": \"Đà Nẵng\",\n",
        "    \"Ca-na-da\": \"Ca-na-da\",\n",
        "    \"Pháp\": \"Pháp\",\n",
        "    \"Phần Lan\": \"Phần Lan\",\n",
        "    \"Na-uy\": \"Na-uy\",\n",
        "    \"Yên Bái\": \"Yên Bái\",\n",
        "    \"Hải Dương\": \"Hải Dương\",\n",
        "    \"Phú Thọ\": \"Phú Thọ\",\n",
        "    \"Bình Phước\": \"Bình Phước\",\n",
        "    \"Đặc khu HC Hồng Công (TQ)\": \"Đặc khu hành chính Hồng Kông (TQ)\",\n",
        "    \"Đức\": \"Đức\",\n",
        "    \"Hà Lan\": \"Hà Lan\",\n",
        "    \"Xa-Moa\": \"Xa-moa\",\n",
        "    \"Thụy Điển\": \"Thụy Điển\",\n",
        "    \"Xây-Sen\": \"Xây-Sen\",\n",
        "    \"Đan Mạch\": \"Đan Mạch\",\n",
        "    \"Ấn Độ\": \"Ấn Độ\",\n",
        "    \"Quần đảo Virgin thuộc Anh\": \"Quần đảo Vigin thuộc Anh\",\n",
        "    \"I-xa-ren\": \"I-xa-ren\",\n",
        "    \"Tây Ninh\": \"Tây Ninh\",\n",
        "    \"Quảng Ngãi\": \"Quảng Ngãi\",\n",
        "    \"I-xa_ren\": \"I-xa-ren\",\n",
        "    \"Đặc khu hành chính Hồng Công (Trung Quốc)\": \"Đặc khu hành chính Hồng Kông (TQ)\",\n",
        "    \"Xây- Sen\": \"Xây-Sen\",\n",
        "    \"Sóc Trăng\": \"Sóc Trăng\",\n",
        "    \"Đăk Lăk\": \"Đăk Lăk\",\n",
        "    \"Đặc khu hành chính Hồng Công (TQ)\": \"Đặc khu hành chính Hồng Kông (TQ)\",\n",
        "    \"Thụy Sỹ\": \"Thụy Sỹ\",\n",
        "    \"Xây-sen\": \"Xây-Sen\",\n",
        "    \"Hà Tĩnh\": \"Hà Tĩnh\",\n",
        "    \"Béc-mu-da\": \"Béc-mu-da\",\n",
        "    \"Cần Thơ\": \"Cần Thơ\",\n",
        "    \"CHLB Đức\": \"Đức\",\n",
        "    \"Béc-mu-đa\": \"Béc-mu-da\",\n",
        "    \"Quảng Nam\": \"Quảng Nam\",\n",
        "    \"Bỉ\": \"Bỉ\",\n",
        "    \"Xây Sen\": \"Xây-Sen\",\n",
        "    \"Ôx-trây-li-a\": \"Ôx-trây-li-a\",\n",
        "    \"Quần đảo Virgin thuộc Mỹ\": \"Quần đảo Vigin thuộc Anh\",\n",
        "    \"Phi-li-pin\": \"Phi-li-pin\",\n",
        "    \"Phi-lip-pin\": \"Phi-li-pin\",\n",
        "    \"Hậu Giang\": \"Hậu Giang\",\n",
        "    \"Quần đảo Cay-man\": \"Quần đảo Cay-man\",\n",
        "    \"Ô-xtrây-li-a\": \"Ôx-trây-li-a\",\n",
        "    \"Quần đảo Cây- men\": \"Quần đảo Cay-man\",\n",
        "    \"Bến Tre\": \"Bến Tre\",\n",
        "    \"Quảng Bình\": \"Quảng Bình\",\n",
        "    \"Bác Giang\": \"Bắc Giang\",\n",
        "    \"Vĩnh Long\": \"Vĩnh Long\",\n",
        "    \"Tiền Giang\": \"Tiền Giang\",\n",
        "    \"Bình Thuận\": \"Bình Thuận\",\n",
        "    \"Hồng Công\": \"Đặc khu hành chính Hồng Kông (TQ)\",\n",
        "    \"Lúc-xăm-bua\": \"Lúc-xăm-bua\",\n",
        "    \"Thừa Thiên - Huế\": \"Thừa Thiên - Huế\",\n",
        "    \"Đặc khu Hành chính Hồng Công (TQ)\": \"Đặc khu hành chính Hồng Kông (TQ)\",\n",
        "    \"CHND Trung Hoa\": \"Trung Quốc\",\n",
        "    \"Niu Di-lân\": \"Niu Di-lân\",\n",
        "    \"Luxembourg\": \"Lúc-xăm-bua\",\n",
        "    \"Anguilla\": \"Anguilla\",\n",
        "    \"Hồng Kông\": \"Đặc khu hành chính Hồng Kông (TQ)\",\n",
        "    \"Phú Yên\": \"Phú Yên\",\n",
        "    \"Ca-na-đa\": \"Ca-na-da\",\n",
        "    \"Quần đảo Cay-men\": \"Quần đảo Cay-man\",\n",
        "    \"Bê-li-xê\": \"Bê-li-xê\",\n",
        "    \"Thừa Thiên - Huế\": \"Thừa Thiên - Huế\",\n",
        "    \"Thanh Hóa\": \"Thanh Hóa\",\n",
        "    \"Vĩnh Long\": \"Vĩnh Long\",\n",
        "    \"Bến Tre\": \"Bến Tre\",\n",
        "    \"Đà Nẵng\": \"Đà Nẵng\",\n",
        "    \"Thái Lan\": \"Thái Lan\",\n",
        "    \"Quần đảo Cay-men\": \"Quần đảo Cay-man\",\n",
        "    \"Đan Mạch\": \"Đan Mạch\",\n",
        "    \"Cộng hòa Síp\": \"Cộng hòa Síp\",\n",
        "    \"Ninh Thuận\": \"Ninh Thuận\",\n",
        "    \"Thái Nguyên\": \"Thái Nguyên\",\n",
        "    \"Bạc Liêu\": \"Bạc Liêu\",\n",
        "    \"Quảng Ngãi\": \"Quảng Ngãi\",\n",
        "    \"Kiên Giang\": \"Kiên Giang\",\n",
        "    \"Vương quốc Bỉ\": \"Vương quốc Bỉ\",\n",
        "    \"Ma-cao\": \"Ma-cao\",\n",
        "    \"In-đô-nê-xi-a\": \"In-đô-nê-xi-a\",\n",
        "    \"Na Uy\": \"Na-uy\",\n",
        "    \"Trà Vinh\": \"Trà Vinh\",\n",
        "    \"Bơ-mu-đa\": \"Bơ-mu-đa\",\n",
        "    \"Thụy Sĩ\": \"Thụy Sỹ\",\n",
        "    \"Các Tiểu vương quốc A-rập Thống nhất\": \"Các Tiểu vương quốc A-rập Thống nhất\",\n",
        "    \"Đắk Lắk\": \"Đăk Lăk\",\n",
        "    \"Pa-ki-xtan\": \"Pa-ki-xtan\",\n",
        "    \"Khánh Hòa\": \"Khánh Hòa\",\n",
        "    \"Ô-man\": \"Ô-man\",\n",
        "    \"Tây Ấn thuộc Anh\": \"Tây Ấn thuộc Anh\",\n",
        "    \"Trà Vinh\": \"Trà Vinh\",\n",
        "    \"Hung-ga-ri\": \"Hung-ga-ri\",\n",
        "    \"Xlô-va-ki\": \"Xlô-va-ki\",\n",
        "    \"Xlô-va-ki-a\": \"Xlô-va-ki\",\n",
        "    \"Đắc Lắk\": \"Đăk Lăk\",\n",
        "    \"Lâm Đồng\": \"Lâm Đồng\",\n",
        "    \"Ni-giê-ri-a\": \"Ni-giê-ri-a\",\n",
        "    \"Bác-ba-đốt\": \"Bác-ba-đốt\",\n",
        "    \"Bru-nây\": \"Bru-nây\",\n",
        "    \"Đặc khu Hành chính Hồng Kông (TQ)\": \"Đặc khu hành chính Hồng Kông (TQ)\",\n",
        "    \"Đặ khu HC Hồng Kông (TQ)\": \"Đặc khu hành chính Hồng Kông (TQ)\",\n",
        "    \"Thổ Nhĩ Kỳ\": \"Thổ Nhĩ Kỳ\",\n",
        "    \"Quần đảo Cây-men\": \"Quần đảo Cay-man\",\n",
        "}\n",
        "\n",
        "for pl in dfs_fdi[\"Phân Loại\"].unique().tolist():\n",
        "    assert pl in convert_pl.keys(), pl\n",
        "\n",
        "\n",
        "dfs_fdi[\"Phân Loại\"] = dfs_fdi[\"Phân Loại\"].map(convert_pl)"
      ]
    },
    {
      "cell_type": "code",
      "execution_count": 32,
      "metadata": {},
      "outputs": [],
      "source": [
        "convert_to_mien = {\n",
        "    \"TỔNG SỐ\": \"TỔNG SỐ\",\n",
        "    \"Lâm Đồng\": \"Tây Nguyên\",\n",
        "    \"Đăk Lăk\": \"Tây Nguyên\",\n",
        "    \"Bắc Giang\": \"Miền Bắc\",\n",
        "    \"Bắc Ninh\": \"Miền Bắc\",\n",
        "    \"Hà Nam\": \"Miền Bắc\",\n",
        "    \"Hà Nội\": \"Miền Bắc\",\n",
        "    \"Hưng Yên\": \"Miền Bắc\",\n",
        "    \"Hải Dương\": \"Miền Bắc\",\n",
        "    \"Hải Phòng\": \"Miền Bắc\",\n",
        "    \"Nam Định\": \"Miền Bắc\",\n",
        "    \"Nghệ An\": \"Miền Bắc\",\n",
        "    \"Ninh Bình\": \"Miền Bắc\",\n",
        "    \"Phú Thọ\": \"Miền Bắc\",\n",
        "    \"Phú Yên\": \"Miền Bắc\",\n",
        "    \"Quảng Ninh\": \"Miền Bắc\",\n",
        "    \"Thanh Hóa\": \"Miền Bắc\",\n",
        "    \"Thái Bình\": \"Miền Bắc\",\n",
        "    \"Thái Nguyên\": \"Miền Bắc\",\n",
        "    \"Vĩnh Phúc\": \"Miền Bắc\",\n",
        "    \"Yên Bái\": \"Miền Bắc\",\n",
        "    \"Bến Tre\": \"Miền Nam\",\n",
        "    \"Bà Rịa - Vũng Tàu\": \"Miền Nam\",\n",
        "    \"Bình Dương\": \"Miền Nam\",\n",
        "    \"Bình Phước\": \"Miền Nam\",\n",
        "    \"Bạc Liêu\": \"Miền Nam\",\n",
        "    \"Cần Thơ\": \"Miền Nam\",\n",
        "    \"Hậu Giang\": \"Miền Nam\",\n",
        "    \"Kiên Giang\": \"Miền Nam\",\n",
        "    \"Long An\": \"Miền Nam\",\n",
        "    \"Sóc Trăng\": \"Miền Nam\",\n",
        "    \"TP. Hồ Chí Minh\": \"Miền Nam\",\n",
        "    \"Tiền Giang\": \"Miền Nam\",\n",
        "    \"Trà Vinh\": \"Miền Nam\",\n",
        "    \"Tây Ninh\": \"Miền Nam\",\n",
        "    \"Vĩnh Long\": \"Miền Nam\",\n",
        "    \"Đồng Nai\": \"Miền Nam\",\n",
        "    \"Bình Thuận\": \"Miền Trung\",\n",
        "    \"Hà Tĩnh\": \"Miền Trung\",\n",
        "    \"Khánh Hòa\": \"Miền Trung\",\n",
        "    \"Ninh Thuận\": \"Miền Trung\",\n",
        "    \"Quảng Ngãi\": \"Miền Trung\",\n",
        "    \"Quảng Bình\": \"Miền Trung\",\n",
        "    \"Quảng Nam\": \"Miền Trung\",\n",
        "    \"Thừa Thiên - Huế\": \"Miền Trung\",\n",
        "    \"Đà Nẵng\": \"Miền Trung\",\n",
        "    \"In-đô-nê-xi-a\": \"Châu Á\",\n",
        "    \"Nhật Bản\": \"Châu Á\",\n",
        "    \"Trung Quốc\": \"Châu Á\",\n",
        "    \"Đài Loan\": \"Châu Á\",\n",
        "    \"Đặc khu hành chính Hồng Kông (TQ)\": \"Châu Á\",\n",
        "    \"Ấn Độ\": \"Châu Á\",\n",
        "    \"Hàn Quốc\": \"Châu Á\",\n",
        "    \"Thái Lan\": \"Châu Á\",\n",
        "    \"Phi-li-pin\": \"Châu Á\",\n",
        "    \"Các Tiểu vương quốc A-rập Thống nhất\": \"Châu Á\",\n",
        "    \"Bru-nây\": \"Châu Á\",\n",
        "    \"I-xa-ren\": \"Châu Á\",\n",
        "    \"Ma-cao\": \"Châu Á\",\n",
        "    \"Ma-lai-xi-a\": \"Châu Á\",\n",
        "    \"Pa-ki-xtan\": \"Châu Á\",\n",
        "    \"Ô-man\": \"Châu Á\",\n",
        "    \"Xin-ga-po\": \"Châu Á\",\n",
        "    \"Bỉ\": \"Châu Âu\",\n",
        "    \"Na-uy\": \"Châu Âu\",\n",
        "    \"Pháp\": \"Châu Âu\",\n",
        "    \"Phần Lan\": \"Châu Âu\",\n",
        "    \"Thụy Sỹ\": \"Châu Âu\",\n",
        "    \"Thụy Điển\": \"Châu Âu\",\n",
        "    \"Vương quốc Anh\": \"Châu Âu\",\n",
        "    \"Vương quốc Bỉ\": \"Châu Âu\",\n",
        "    \"Đan Mạch\": \"Châu Âu\",\n",
        "    \"Đức\": \"Châu Âu\",\n",
        "    \"Hà Lan\": \"Châu Âu\",\n",
        "    \"Cộng hòa Síp\": \"Châu Âu\",\n",
        "    \"Hung-ga-ri\": \"Châu Âu\",\n",
        "    \"I-ta-li-a\": \"Châu Âu\",\n",
        "    \"Lúc-xăm-bua\": \"Châu Âu\",\n",
        "    \"Xlô-va-ki\": \"Châu Âu\",\n",
        "    \"Anguilla\": \"Châu Mỹ\",\n",
        "    \"Bác-ba-đốt\": \"Châu Mỹ\",\n",
        "    \"Béc-mu-da\": \"Châu Mỹ\",\n",
        "    \"Bê-li-xê\": \"Châu Mỹ\",\n",
        "    \"Bơ-mu-đa\": \"Châu Mỹ\",\n",
        "    \"Ca-na-da\": \"Châu Mỹ\",\n",
        "    \"Quần đảo Cay-man\": \"Châu Mỹ\",\n",
        "    \"Quần đảo Vigin thuộc Anh\": \"Châu Mỹ\",\n",
        "    \"Tây Ấn thuộc Anh\": \"Châu Mỹ\",\n",
        "    \"Hoa Kỳ\": \"Châu Mỹ\",\n",
        "    \"Ni-giê-ri-a\": \"Châu Phi\",\n",
        "    \"Xây-Sen\": \"Châu Phi\",\n",
        "    \"Niu Di-lân\": \"Châu Úc\",\n",
        "    \"Xa-moa\": \"Châu Úc\",\n",
        "    \"Ôx-trây-li-a\": \"Châu Úc\",\n",
        "    \"Thổ Nhĩ Kỳ\": \"Châu Âu\",\n",
        "    \"Quần đảo Cây-men\": \"Châu Mỹ\",\n",
        "}\n",
        "\n",
        "\n",
        "for pl in dfs_fdi[\"Phân Loại\"].unique().tolist():\n",
        "    assert pl in convert_to_mien.keys(), pl\n",
        "\n",
        "dfs_fdi[\"Vùng Miền\"] = dfs_fdi[\"Phân Loại\"].map(convert_to_mien)"
      ]
    },
    {
      "cell_type": "code",
      "execution_count": 33,
      "metadata": {},
      "outputs": [],
      "source": [
        "convert_to_mien = {\n",
        "    \"TỔNG SỐ\": \"TỔNG SỐ\",\n",
        "    \"Lâm Đồng\": \"Trong Nước\",\n",
        "    \"Đăk Lăk\": \"Trong Nước\",\n",
        "    \"Bắc Giang\": \"Trong Nước\",\n",
        "    \"Bắc Ninh\": \"Trong Nước\",\n",
        "    \"Hà Nam\": \"Trong Nước\",\n",
        "    \"Hà Nội\": \"Trong Nước\",\n",
        "    \"Hưng Yên\": \"Trong Nước\",\n",
        "    \"Hải Dương\": \"Trong Nước\",\n",
        "    \"Hải Phòng\": \"Trong Nước\",\n",
        "    \"Nam Định\": \"Trong Nước\",\n",
        "    \"Nghệ An\": \"Trong Nước\",\n",
        "    \"Ninh Bình\": \"Trong Nước\",\n",
        "    \"Phú Thọ\": \"Trong Nước\",\n",
        "    \"Phú Yên\": \"Trong Nước\",\n",
        "    \"Quảng Ninh\": \"Trong Nước\",\n",
        "    \"Thanh Hóa\": \"Trong Nước\",\n",
        "    \"Thái Bình\": \"Trong Nước\",\n",
        "    \"Thái Nguyên\": \"Trong Nước\",\n",
        "    \"Vĩnh Phúc\": \"Trong Nước\",\n",
        "    \"Yên Bái\": \"Trong Nước\",\n",
        "    \"Bến Tre\": \"Trong Nước\",\n",
        "    \"Bà Rịa - Vũng Tàu\": \"Trong Nước\",\n",
        "    \"Bình Dương\": \"Trong Nước\",\n",
        "    \"Bình Phước\": \"Trong Nước\",\n",
        "    \"Bạc Liêu\": \"Trong Nước\",\n",
        "    \"Cần Thơ\": \"Trong Nước\",\n",
        "    \"Hậu Giang\": \"Trong Nước\",\n",
        "    \"Kiên Giang\": \"Trong Nước\",\n",
        "    \"Long An\": \"Trong Nước\",\n",
        "    \"Sóc Trăng\": \"Trong Nước\",\n",
        "    \"TP. Hồ Chí Minh\": \"Trong Nước\",\n",
        "    \"Tiền Giang\": \"Trong Nước\",\n",
        "    \"Trà Vinh\": \"Trong Nước\",\n",
        "    \"Tây Ninh\": \"Trong Nước\",\n",
        "    \"Vĩnh Long\": \"Trong Nước\",\n",
        "    \"Đồng Nai\": \"Trong Nước\",\n",
        "    \"Bình Thuận\": \"Trong Nước\",\n",
        "    \"Hà Tĩnh\": \"Trong Nước\",\n",
        "    \"Khánh Hòa\": \"Trong Nước\",\n",
        "    \"Ninh Thuận\": \"Trong Nước\",\n",
        "    \"Quảng Ngãi\": \"Trong Nước\",\n",
        "    \"Quảng Bình\": \"Trong Nước\",\n",
        "    \"Quảng Nam\": \"Trong Nước\",\n",
        "    \"Thừa Thiên - Huế\": \"Trong Nước\",\n",
        "    \"Đà Nẵng\": \"Trong Nước\",\n",
        "    \"In-đô-nê-xi-a\": \"Nước Ngoài\",\n",
        "    \"Nhật Bản\": \"Nước Ngoài\",\n",
        "    \"Trung Quốc\": \"Nước Ngoài\",\n",
        "    \"Đài Loan\": \"Nước Ngoài\",\n",
        "    \"Đặc khu hành chính Hồng Kông (TQ)\": \"Nước Ngoài\",\n",
        "    \"Ấn Độ\": \"Nước Ngoài\",\n",
        "    \"Hàn Quốc\": \"Nước Ngoài\",\n",
        "    \"Thái Lan\": \"Nước Ngoài\",\n",
        "    \"Phi-li-pin\": \"Nước Ngoài\",\n",
        "    \"Các Tiểu vương quốc A-rập Thống nhất\": \"Nước Ngoài\",\n",
        "    \"Bru-nây\": \"Nước Ngoài\",\n",
        "    \"I-xa-ren\": \"Nước Ngoài\",\n",
        "    \"Ma-cao\": \"Nước Ngoài\",\n",
        "    \"Ma-lai-xi-a\": \"Nước Ngoài\",\n",
        "    \"Pa-ki-xtan\": \"Nước Ngoài\",\n",
        "    \"Ô-man\": \"Nước Ngoài\",\n",
        "    \"Xin-ga-po\": \"Nước Ngoài\",\n",
        "    \"Bỉ\": \"Nước Ngoài\",\n",
        "    \"Na-uy\": \"Nước Ngoài\",\n",
        "    \"Pháp\": \"Nước Ngoài\",\n",
        "    \"Phần Lan\": \"Nước Ngoài\",\n",
        "    \"Thụy Sỹ\": \"Nước Ngoài\",\n",
        "    \"Thụy Điển\": \"Nước Ngoài\",\n",
        "    \"Vương quốc Anh\": \"Nước Ngoài\",\n",
        "    \"Vương quốc Bỉ\": \"Nước Ngoài\",\n",
        "    \"Đan Mạch\": \"Nước Ngoài\",\n",
        "    \"Đức\": \"Nước Ngoài\",\n",
        "    \"Hà Lan\": \"Nước Ngoài\",\n",
        "    \"Cộng hòa Síp\": \"Nước Ngoài\",\n",
        "    \"Hung-ga-ri\": \"Nước Ngoài\",\n",
        "    \"I-ta-li-a\": \"Nước Ngoài\",\n",
        "    \"Lúc-xăm-bua\": \"Nước Ngoài\",\n",
        "    \"Xlô-va-ki\": \"Nước Ngoài\",\n",
        "    \"Anguilla\": \"Nước Ngoài\",\n",
        "    \"Bác-ba-đốt\": \"Nước Ngoài\",\n",
        "    \"Béc-mu-da\": \"Nước Ngoài\",\n",
        "    \"Bê-li-xê\": \"Nước Ngoài\",\n",
        "    \"Bơ-mu-đa\": \"Nước Ngoài\",\n",
        "    \"Ca-na-da\": \"Nước Ngoài\",\n",
        "    \"Quần đảo Cay-man\": \"Nước Ngoài\",\n",
        "    \"Quần đảo Vigin thuộc Anh\": \"Nước Ngoài\",\n",
        "    \"Tây Ấn thuộc Anh\": \"Nước Ngoài\",\n",
        "    \"Hoa Kỳ\": \"Nước Ngoài\",\n",
        "    \"Ni-giê-ri-a\": \"Nước Ngoài\",\n",
        "    \"Xây-Sen\": \"Nước Ngoài\",\n",
        "    \"Niu Di-lân\": \"Nước Ngoài\",\n",
        "    \"Xa-moa\": \"Nước Ngoài\",\n",
        "    \"Ôx-trây-li-a\": \"Nước Ngoài\",\n",
        "    \"Thổ Nhĩ Kỳ\": \"Châu Âu\",\n",
        "    \"Quần đảo Cây-men\": \"Châu Mỹ\",\n",
        "}\n",
        "\n",
        "\n",
        "for pl in dfs_fdi[\"Phân Loại\"].unique().tolist():\n",
        "    assert pl in convert_to_mien.keys(), pl\n",
        "\n",
        "dfs_fdi[\"Trong Nước\"] = dfs_fdi[\"Phân Loại\"].map(convert_to_mien)"
      ]
    },
    {
      "cell_type": "code",
      "execution_count": 34,
      "metadata": {},
      "outputs": [
        {
          "data": {
            "text/html": [
              "<div>\n",
              "<style scoped>\n",
              "    .dataframe tbody tr th:only-of-type {\n",
              "        vertical-align: middle;\n",
              "    }\n",
              "\n",
              "    .dataframe tbody tr th {\n",
              "        vertical-align: top;\n",
              "    }\n",
              "\n",
              "    .dataframe thead th {\n",
              "        text-align: right;\n",
              "    }\n",
              "</style>\n",
              "<table border=\"1\" class=\"dataframe\">\n",
              "  <thead>\n",
              "    <tr style=\"text-align: right;\">\n",
              "      <th></th>\n",
              "      <th>Phân Loại</th>\n",
              "      <th>Số dự án</th>\n",
              "      <th>Vốn đăng ký cấp mới</th>\n",
              "      <th>Vốn đăng ký điều chỉnh</th>\n",
              "      <th>Vốn đăng ký</th>\n",
              "      <th>Date</th>\n",
              "      <th>Month</th>\n",
              "      <th>PreMonth</th>\n",
              "      <th>Số dự án trong tháng</th>\n",
              "      <th>Vốn đăng ký cấp mới trong tháng</th>\n",
              "      <th>Vốn đăng ký điều chỉnh trong tháng</th>\n",
              "      <th>Vốn đăng ký trong tháng</th>\n",
              "      <th>Vùng Miền</th>\n",
              "      <th>Trong Nước</th>\n",
              "    </tr>\n",
              "  </thead>\n",
              "  <tbody>\n",
              "    <tr>\n",
              "      <th>0</th>\n",
              "      <td>TỔNG SỐ</td>\n",
              "      <td>966</td>\n",
              "      <td>7110.212866</td>\n",
              "      <td>1234.628932</td>\n",
              "      <td>8344.841798</td>\n",
              "      <td>2024-04-29</td>\n",
              "      <td>2024-04</td>\n",
              "      <td>2024-03</td>\n",
              "      <td>322</td>\n",
              "      <td>2336.203461</td>\n",
              "      <td>300.029434</td>\n",
              "      <td>2636.232895</td>\n",
              "      <td>TỔNG SỐ</td>\n",
              "      <td>TỔNG SỐ</td>\n",
              "    </tr>\n",
              "    <tr>\n",
              "      <th>1</th>\n",
              "      <td>Bà Rịa - Vũng Tàu</td>\n",
              "      <td>17</td>\n",
              "      <td>1521.095655</td>\n",
              "      <td>-9.557457</td>\n",
              "      <td>1511.538198</td>\n",
              "      <td>2024-04-29</td>\n",
              "      <td>2024-04</td>\n",
              "      <td>2024-03</td>\n",
              "      <td>12</td>\n",
              "      <td>1225.679913</td>\n",
              "      <td>-9.557457</td>\n",
              "      <td>1174.716009</td>\n",
              "      <td>Miền Nam</td>\n",
              "      <td>Trong Nước</td>\n",
              "    </tr>\n",
              "    <tr>\n",
              "      <th>2</th>\n",
              "      <td>Hà Nội</td>\n",
              "      <td>73</td>\n",
              "      <td>1008.129751</td>\n",
              "      <td>78.998896</td>\n",
              "      <td>1087.128647</td>\n",
              "      <td>2024-04-29</td>\n",
              "      <td>2024-04</td>\n",
              "      <td>2024-03</td>\n",
              "      <td>26</td>\n",
              "      <td>103.883749</td>\n",
              "      <td>57.432063</td>\n",
              "      <td>161.315812</td>\n",
              "      <td>Miền Bắc</td>\n",
              "      <td>Trong Nước</td>\n",
              "    </tr>\n",
              "    <tr>\n",
              "      <th>3</th>\n",
              "      <td>Quảng Ninh</td>\n",
              "      <td>15</td>\n",
              "      <td>737.965228</td>\n",
              "      <td>-4.507555</td>\n",
              "      <td>733.457673</td>\n",
              "      <td>2024-04-29</td>\n",
              "      <td>2024-04</td>\n",
              "      <td>2024-03</td>\n",
              "      <td>5</td>\n",
              "      <td>163.229628</td>\n",
              "      <td>2.705882</td>\n",
              "      <td>165.93551</td>\n",
              "      <td>Miền Bắc</td>\n",
              "      <td>Trong Nước</td>\n",
              "    </tr>\n",
              "    <tr>\n",
              "      <th>4</th>\n",
              "      <td>Bắc Ninh</td>\n",
              "      <td>142</td>\n",
              "      <td>595.713546</td>\n",
              "      <td>369.239817</td>\n",
              "      <td>964.953363</td>\n",
              "      <td>2024-04-29</td>\n",
              "      <td>2024-04</td>\n",
              "      <td>2024-03</td>\n",
              "      <td>54</td>\n",
              "      <td>114.614023</td>\n",
              "      <td>129.485</td>\n",
              "      <td>244.099023</td>\n",
              "      <td>Miền Bắc</td>\n",
              "      <td>Trong Nước</td>\n",
              "    </tr>\n",
              "    <tr>\n",
              "      <th>...</th>\n",
              "      <td>...</td>\n",
              "      <td>...</td>\n",
              "      <td>...</td>\n",
              "      <td>...</td>\n",
              "      <td>...</td>\n",
              "      <td>...</td>\n",
              "      <td>...</td>\n",
              "      <td>...</td>\n",
              "      <td>...</td>\n",
              "      <td>...</td>\n",
              "      <td>...</td>\n",
              "      <td>...</td>\n",
              "      <td>...</td>\n",
              "      <td>...</td>\n",
              "    </tr>\n",
              "    <tr>\n",
              "      <th>3569</th>\n",
              "      <td>Quần đảo Vigin thuộc Anh</td>\n",
              "      <td>3</td>\n",
              "      <td>NaN</td>\n",
              "      <td>NaN</td>\n",
              "      <td>9.4</td>\n",
              "      <td>2016-01-29</td>\n",
              "      <td>2016-01</td>\n",
              "      <td>2015-12</td>\n",
              "      <td>NaN</td>\n",
              "      <td>NaN</td>\n",
              "      <td>NaN</td>\n",
              "      <td>NaN</td>\n",
              "      <td>Châu Mỹ</td>\n",
              "      <td>Nước Ngoài</td>\n",
              "    </tr>\n",
              "    <tr>\n",
              "      <th>3570</th>\n",
              "      <td>Đài Loan</td>\n",
              "      <td>6</td>\n",
              "      <td>NaN</td>\n",
              "      <td>NaN</td>\n",
              "      <td>8.7</td>\n",
              "      <td>2016-01-29</td>\n",
              "      <td>2016-01</td>\n",
              "      <td>2015-12</td>\n",
              "      <td>NaN</td>\n",
              "      <td>NaN</td>\n",
              "      <td>NaN</td>\n",
              "      <td>NaN</td>\n",
              "      <td>Châu Á</td>\n",
              "      <td>Nước Ngoài</td>\n",
              "    </tr>\n",
              "    <tr>\n",
              "      <th>3571</th>\n",
              "      <td>Thái Lan</td>\n",
              "      <td>3</td>\n",
              "      <td>NaN</td>\n",
              "      <td>NaN</td>\n",
              "      <td>6.3</td>\n",
              "      <td>2016-01-29</td>\n",
              "      <td>2016-01</td>\n",
              "      <td>2015-12</td>\n",
              "      <td>NaN</td>\n",
              "      <td>NaN</td>\n",
              "      <td>NaN</td>\n",
              "      <td>NaN</td>\n",
              "      <td>Châu Á</td>\n",
              "      <td>Nước Ngoài</td>\n",
              "    </tr>\n",
              "    <tr>\n",
              "      <th>3572</th>\n",
              "      <td>Hà Lan</td>\n",
              "      <td>1</td>\n",
              "      <td>NaN</td>\n",
              "      <td>NaN</td>\n",
              "      <td>6</td>\n",
              "      <td>2016-01-29</td>\n",
              "      <td>2016-01</td>\n",
              "      <td>2015-12</td>\n",
              "      <td>NaN</td>\n",
              "      <td>NaN</td>\n",
              "      <td>NaN</td>\n",
              "      <td>NaN</td>\n",
              "      <td>Châu Âu</td>\n",
              "      <td>Nước Ngoài</td>\n",
              "    </tr>\n",
              "    <tr>\n",
              "      <th>3573</th>\n",
              "      <td>Vương quốc Anh</td>\n",
              "      <td>4</td>\n",
              "      <td>NaN</td>\n",
              "      <td>NaN</td>\n",
              "      <td>0.3</td>\n",
              "      <td>2016-01-29</td>\n",
              "      <td>2016-01</td>\n",
              "      <td>2015-12</td>\n",
              "      <td>NaN</td>\n",
              "      <td>NaN</td>\n",
              "      <td>NaN</td>\n",
              "      <td>NaN</td>\n",
              "      <td>Châu Âu</td>\n",
              "      <td>Nước Ngoài</td>\n",
              "    </tr>\n",
              "  </tbody>\n",
              "</table>\n",
              "<p>3574 rows × 14 columns</p>\n",
              "</div>"
            ],
            "text/plain": [
              "                     Phân Loại Số dự án Vốn đăng ký cấp mới  \\\n",
              "0                      TỔNG SỐ      966         7110.212866   \n",
              "1            Bà Rịa - Vũng Tàu       17         1521.095655   \n",
              "2                       Hà Nội       73         1008.129751   \n",
              "3                   Quảng Ninh       15          737.965228   \n",
              "4                     Bắc Ninh      142          595.713546   \n",
              "...                        ...      ...                 ...   \n",
              "3569  Quần đảo Vigin thuộc Anh        3                 NaN   \n",
              "3570                  Đài Loan        6                 NaN   \n",
              "3571                  Thái Lan        3                 NaN   \n",
              "3572                    Hà Lan        1                 NaN   \n",
              "3573            Vương quốc Anh        4                 NaN   \n",
              "\n",
              "     Vốn đăng ký điều chỉnh  Vốn đăng ký       Date    Month PreMonth  \\\n",
              "0               1234.628932  8344.841798 2024-04-29  2024-04  2024-03   \n",
              "1                 -9.557457  1511.538198 2024-04-29  2024-04  2024-03   \n",
              "2                 78.998896  1087.128647 2024-04-29  2024-04  2024-03   \n",
              "3                 -4.507555   733.457673 2024-04-29  2024-04  2024-03   \n",
              "4                369.239817   964.953363 2024-04-29  2024-04  2024-03   \n",
              "...                     ...          ...        ...      ...      ...   \n",
              "3569                    NaN          9.4 2016-01-29  2016-01  2015-12   \n",
              "3570                    NaN          8.7 2016-01-29  2016-01  2015-12   \n",
              "3571                    NaN          6.3 2016-01-29  2016-01  2015-12   \n",
              "3572                    NaN            6 2016-01-29  2016-01  2015-12   \n",
              "3573                    NaN          0.3 2016-01-29  2016-01  2015-12   \n",
              "\n",
              "     Số dự án trong tháng Vốn đăng ký cấp mới trong tháng  \\\n",
              "0                     322                     2336.203461   \n",
              "1                      12                     1225.679913   \n",
              "2                      26                      103.883749   \n",
              "3                       5                      163.229628   \n",
              "4                      54                      114.614023   \n",
              "...                   ...                             ...   \n",
              "3569                  NaN                             NaN   \n",
              "3570                  NaN                             NaN   \n",
              "3571                  NaN                             NaN   \n",
              "3572                  NaN                             NaN   \n",
              "3573                  NaN                             NaN   \n",
              "\n",
              "     Vốn đăng ký điều chỉnh trong tháng Vốn đăng ký trong tháng Vùng Miền  \\\n",
              "0                            300.029434             2636.232895   TỔNG SỐ   \n",
              "1                             -9.557457             1174.716009  Miền Nam   \n",
              "2                             57.432063              161.315812  Miền Bắc   \n",
              "3                              2.705882               165.93551  Miền Bắc   \n",
              "4                               129.485              244.099023  Miền Bắc   \n",
              "...                                 ...                     ...       ...   \n",
              "3569                                NaN                     NaN   Châu Mỹ   \n",
              "3570                                NaN                     NaN    Châu Á   \n",
              "3571                                NaN                     NaN    Châu Á   \n",
              "3572                                NaN                     NaN   Châu Âu   \n",
              "3573                                NaN                     NaN   Châu Âu   \n",
              "\n",
              "      Trong Nước  \n",
              "0        TỔNG SỐ  \n",
              "1     Trong Nước  \n",
              "2     Trong Nước  \n",
              "3     Trong Nước  \n",
              "4     Trong Nước  \n",
              "...          ...  \n",
              "3569  Nước Ngoài  \n",
              "3570  Nước Ngoài  \n",
              "3571  Nước Ngoài  \n",
              "3572  Nước Ngoài  \n",
              "3573  Nước Ngoài  \n",
              "\n",
              "[3574 rows x 14 columns]"
            ]
          },
          "execution_count": 34,
          "metadata": {},
          "output_type": "execute_result"
        }
      ],
      "source": [
        "dfs_fdi"
      ]
    },
    {
      "cell_type": "code",
      "execution_count": 35,
      "metadata": {},
      "outputs": [],
      "source": [
        "dfs_fdi.to_csv('../csv/fdi.csv')"
      ]
    },
    {
      "cell_type": "code",
      "execution_count": null,
      "metadata": {},
      "outputs": [
        {
          "name": "stderr",
          "output_type": "stream",
          "text": [
            "/tmp/ipykernel_113586/4230591522.py:4: FutureWarning: Downcasting object dtype arrays on .fillna, .ffill, .bfill is deprecated and will change in a future version. Call result.infer_objects(copy=False) instead. To opt-in to the future behavior, set `pd.set_option('future.no_silent_downcasting', True)`\n",
            "  dfs_fdi.loc[dfs_fdi[\"Phân Loại\"] == nganh, \"Vốn đăng ký so với cùng kỳ\"] = dfs_fdi_hanghoa[\"Vốn đăng ký\"].pct_change(-12)\n"
          ]
        },
        {
          "data": {
            "text/html": [
              "<div>\n",
              "<style scoped>\n",
              "    .dataframe tbody tr th:only-of-type {\n",
              "        vertical-align: middle;\n",
              "    }\n",
              "\n",
              "    .dataframe tbody tr th {\n",
              "        vertical-align: top;\n",
              "    }\n",
              "\n",
              "    .dataframe thead th {\n",
              "        text-align: right;\n",
              "    }\n",
              "</style>\n",
              "<table border=\"1\" class=\"dataframe\">\n",
              "  <thead>\n",
              "    <tr style=\"text-align: right;\">\n",
              "      <th></th>\n",
              "      <th>Phân Loại</th>\n",
              "      <th>Số dự án</th>\n",
              "      <th>Vốn đăng ký cấp mới</th>\n",
              "      <th>Vốn đăng ký điều chỉnh</th>\n",
              "      <th>Vốn đăng ký</th>\n",
              "      <th>Date</th>\n",
              "      <th>Month</th>\n",
              "      <th>PreMonth</th>\n",
              "      <th>Số dự án trong tháng</th>\n",
              "      <th>Vốn đăng ký cấp mới trong tháng</th>\n",
              "      <th>Vốn đăng ký điều chỉnh trong tháng</th>\n",
              "      <th>Vốn đăng ký trong tháng</th>\n",
              "      <th>Vùng Miền</th>\n",
              "      <th>Trong Nước</th>\n",
              "      <th>Vốn đăng ký so với cùng kỳ</th>\n",
              "    </tr>\n",
              "  </thead>\n",
              "  <tbody>\n",
              "    <tr>\n",
              "      <th>0</th>\n",
              "      <td>TỔNG SỐ</td>\n",
              "      <td>644</td>\n",
              "      <td>4774.009405</td>\n",
              "      <td>934.599498</td>\n",
              "      <td>5708.608902</td>\n",
              "      <td>2024-03-29</td>\n",
              "      <td>2024-03</td>\n",
              "      <td>2024-02</td>\n",
              "      <td>239</td>\n",
              "      <td>1178.071623</td>\n",
              "      <td>492.502551</td>\n",
              "      <td>1670.574174</td>\n",
              "      <td>TỔNG SỐ</td>\n",
              "      <td>TỔNG SỐ</td>\n",
              "      <td>0.134974</td>\n",
              "    </tr>\n",
              "    <tr>\n",
              "      <th>1</th>\n",
              "      <td>Hà Nội</td>\n",
              "      <td>47</td>\n",
              "      <td>904.246002</td>\n",
              "      <td>21.566832</td>\n",
              "      <td>925.812834</td>\n",
              "      <td>2024-03-29</td>\n",
              "      <td>2024-03</td>\n",
              "      <td>2024-02</td>\n",
              "      <td>20</td>\n",
              "      <td>34.414297</td>\n",
              "      <td>12.485748</td>\n",
              "      <td>46.900045</td>\n",
              "      <td>Miền Bắc</td>\n",
              "      <td>Trong Nước</td>\n",
              "      <td>NaN</td>\n",
              "    </tr>\n",
              "    <tr>\n",
              "      <th>2</th>\n",
              "      <td>Quảng Ninh</td>\n",
              "      <td>10</td>\n",
              "      <td>574.7356</td>\n",
              "      <td>-7.213437</td>\n",
              "      <td>567.522163</td>\n",
              "      <td>2024-03-29</td>\n",
              "      <td>2024-03</td>\n",
              "      <td>2024-02</td>\n",
              "      <td>2</td>\n",
              "      <td>96.4</td>\n",
              "      <td>0.0</td>\n",
              "      <td>96.4</td>\n",
              "      <td>Miền Bắc</td>\n",
              "      <td>Trong Nước</td>\n",
              "      <td>NaN</td>\n",
              "    </tr>\n",
              "    <tr>\n",
              "      <th>3</th>\n",
              "      <td>Bắc Ninh</td>\n",
              "      <td>88</td>\n",
              "      <td>481.099523</td>\n",
              "      <td>239.754817</td>\n",
              "      <td>720.85434</td>\n",
              "      <td>2024-03-29</td>\n",
              "      <td>2024-03</td>\n",
              "      <td>2024-02</td>\n",
              "      <td>34</td>\n",
              "      <td>309.699975</td>\n",
              "      <td>137.196431</td>\n",
              "      <td>446.896406</td>\n",
              "      <td>Miền Bắc</td>\n",
              "      <td>Trong Nước</td>\n",
              "      <td>NaN</td>\n",
              "    </tr>\n",
              "    <tr>\n",
              "      <th>4</th>\n",
              "      <td>Thái Nguyên</td>\n",
              "      <td>7</td>\n",
              "      <td>470.657</td>\n",
              "      <td>6.81</td>\n",
              "      <td>477.467</td>\n",
              "      <td>2024-03-29</td>\n",
              "      <td>2024-03</td>\n",
              "      <td>2024-02</td>\n",
              "      <td>4</td>\n",
              "      <td>12.8</td>\n",
              "      <td>2.0</td>\n",
              "      <td>14.8</td>\n",
              "      <td>Miền Bắc</td>\n",
              "      <td>Trong Nước</td>\n",
              "      <td>NaN</td>\n",
              "    </tr>\n",
              "    <tr>\n",
              "      <th>...</th>\n",
              "      <td>...</td>\n",
              "      <td>...</td>\n",
              "      <td>...</td>\n",
              "      <td>...</td>\n",
              "      <td>...</td>\n",
              "      <td>...</td>\n",
              "      <td>...</td>\n",
              "      <td>...</td>\n",
              "      <td>...</td>\n",
              "      <td>...</td>\n",
              "      <td>...</td>\n",
              "      <td>...</td>\n",
              "      <td>...</td>\n",
              "      <td>...</td>\n",
              "      <td>...</td>\n",
              "    </tr>\n",
              "    <tr>\n",
              "      <th>3529</th>\n",
              "      <td>Quần đảo Vigin thuộc Anh</td>\n",
              "      <td>3</td>\n",
              "      <td>NaN</td>\n",
              "      <td>NaN</td>\n",
              "      <td>9.4</td>\n",
              "      <td>2016-01-29</td>\n",
              "      <td>2016-01</td>\n",
              "      <td>2015-12</td>\n",
              "      <td>NaN</td>\n",
              "      <td>NaN</td>\n",
              "      <td>NaN</td>\n",
              "      <td>NaN</td>\n",
              "      <td>Châu Mỹ</td>\n",
              "      <td>Nước Ngoài</td>\n",
              "      <td>NaN</td>\n",
              "    </tr>\n",
              "    <tr>\n",
              "      <th>3530</th>\n",
              "      <td>Đài Loan</td>\n",
              "      <td>6</td>\n",
              "      <td>NaN</td>\n",
              "      <td>NaN</td>\n",
              "      <td>8.7</td>\n",
              "      <td>2016-01-29</td>\n",
              "      <td>2016-01</td>\n",
              "      <td>2015-12</td>\n",
              "      <td>NaN</td>\n",
              "      <td>NaN</td>\n",
              "      <td>NaN</td>\n",
              "      <td>NaN</td>\n",
              "      <td>Châu Á</td>\n",
              "      <td>Nước Ngoài</td>\n",
              "      <td>NaN</td>\n",
              "    </tr>\n",
              "    <tr>\n",
              "      <th>3531</th>\n",
              "      <td>Thái Lan</td>\n",
              "      <td>3</td>\n",
              "      <td>NaN</td>\n",
              "      <td>NaN</td>\n",
              "      <td>6.3</td>\n",
              "      <td>2016-01-29</td>\n",
              "      <td>2016-01</td>\n",
              "      <td>2015-12</td>\n",
              "      <td>NaN</td>\n",
              "      <td>NaN</td>\n",
              "      <td>NaN</td>\n",
              "      <td>NaN</td>\n",
              "      <td>Châu Á</td>\n",
              "      <td>Nước Ngoài</td>\n",
              "      <td>NaN</td>\n",
              "    </tr>\n",
              "    <tr>\n",
              "      <th>3532</th>\n",
              "      <td>Hà Lan</td>\n",
              "      <td>1</td>\n",
              "      <td>NaN</td>\n",
              "      <td>NaN</td>\n",
              "      <td>6</td>\n",
              "      <td>2016-01-29</td>\n",
              "      <td>2016-01</td>\n",
              "      <td>2015-12</td>\n",
              "      <td>NaN</td>\n",
              "      <td>NaN</td>\n",
              "      <td>NaN</td>\n",
              "      <td>NaN</td>\n",
              "      <td>Châu Âu</td>\n",
              "      <td>Nước Ngoài</td>\n",
              "      <td>NaN</td>\n",
              "    </tr>\n",
              "    <tr>\n",
              "      <th>3533</th>\n",
              "      <td>Vương quốc Anh</td>\n",
              "      <td>4</td>\n",
              "      <td>NaN</td>\n",
              "      <td>NaN</td>\n",
              "      <td>0.3</td>\n",
              "      <td>2016-01-29</td>\n",
              "      <td>2016-01</td>\n",
              "      <td>2015-12</td>\n",
              "      <td>NaN</td>\n",
              "      <td>NaN</td>\n",
              "      <td>NaN</td>\n",
              "      <td>NaN</td>\n",
              "      <td>Châu Âu</td>\n",
              "      <td>Nước Ngoài</td>\n",
              "      <td>NaN</td>\n",
              "    </tr>\n",
              "  </tbody>\n",
              "</table>\n",
              "<p>3534 rows × 15 columns</p>\n",
              "</div>"
            ],
            "text/plain": [
              "                     Phân Loại Số dự án Vốn đăng ký cấp mới  \\\n",
              "0                      TỔNG SỐ      644         4774.009405   \n",
              "1                       Hà Nội       47          904.246002   \n",
              "2                   Quảng Ninh       10            574.7356   \n",
              "3                     Bắc Ninh       88          481.099523   \n",
              "4                  Thái Nguyên        7             470.657   \n",
              "...                        ...      ...                 ...   \n",
              "3529  Quần đảo Vigin thuộc Anh        3                 NaN   \n",
              "3530                  Đài Loan        6                 NaN   \n",
              "3531                  Thái Lan        3                 NaN   \n",
              "3532                    Hà Lan        1                 NaN   \n",
              "3533            Vương quốc Anh        4                 NaN   \n",
              "\n",
              "     Vốn đăng ký điều chỉnh  Vốn đăng ký       Date    Month PreMonth  \\\n",
              "0                934.599498  5708.608902 2024-03-29  2024-03  2024-02   \n",
              "1                 21.566832   925.812834 2024-03-29  2024-03  2024-02   \n",
              "2                 -7.213437   567.522163 2024-03-29  2024-03  2024-02   \n",
              "3                239.754817    720.85434 2024-03-29  2024-03  2024-02   \n",
              "4                      6.81      477.467 2024-03-29  2024-03  2024-02   \n",
              "...                     ...          ...        ...      ...      ...   \n",
              "3529                    NaN          9.4 2016-01-29  2016-01  2015-12   \n",
              "3530                    NaN          8.7 2016-01-29  2016-01  2015-12   \n",
              "3531                    NaN          6.3 2016-01-29  2016-01  2015-12   \n",
              "3532                    NaN            6 2016-01-29  2016-01  2015-12   \n",
              "3533                    NaN          0.3 2016-01-29  2016-01  2015-12   \n",
              "\n",
              "     Số dự án trong tháng Vốn đăng ký cấp mới trong tháng  \\\n",
              "0                     239                     1178.071623   \n",
              "1                      20                       34.414297   \n",
              "2                       2                            96.4   \n",
              "3                      34                      309.699975   \n",
              "4                       4                            12.8   \n",
              "...                   ...                             ...   \n",
              "3529                  NaN                             NaN   \n",
              "3530                  NaN                             NaN   \n",
              "3531                  NaN                             NaN   \n",
              "3532                  NaN                             NaN   \n",
              "3533                  NaN                             NaN   \n",
              "\n",
              "     Vốn đăng ký điều chỉnh trong tháng Vốn đăng ký trong tháng Vùng Miền  \\\n",
              "0                            492.502551             1670.574174   TỔNG SỐ   \n",
              "1                             12.485748               46.900045  Miền Bắc   \n",
              "2                                   0.0                    96.4  Miền Bắc   \n",
              "3                            137.196431              446.896406  Miền Bắc   \n",
              "4                                   2.0                    14.8  Miền Bắc   \n",
              "...                                 ...                     ...       ...   \n",
              "3529                                NaN                     NaN   Châu Mỹ   \n",
              "3530                                NaN                     NaN    Châu Á   \n",
              "3531                                NaN                     NaN    Châu Á   \n",
              "3532                                NaN                     NaN   Châu Âu   \n",
              "3533                                NaN                     NaN   Châu Âu   \n",
              "\n",
              "      Trong Nước  Vốn đăng ký so với cùng kỳ  \n",
              "0        TỔNG SỐ                    0.134974  \n",
              "1     Trong Nước                         NaN  \n",
              "2     Trong Nước                         NaN  \n",
              "3     Trong Nước                         NaN  \n",
              "4     Trong Nước                         NaN  \n",
              "...          ...                         ...  \n",
              "3529  Nước Ngoài                         NaN  \n",
              "3530  Nước Ngoài                         NaN  \n",
              "3531  Nước Ngoài                         NaN  \n",
              "3532  Nước Ngoài                         NaN  \n",
              "3533  Nước Ngoài                         NaN  \n",
              "\n",
              "[3534 rows x 15 columns]"
            ]
          },
          "execution_count": 13,
          "metadata": {},
          "output_type": "execute_result"
        }
      ],
      "source": [
        "nganh = \"TỔNG SỐ\"\n",
        "\n",
        "dfs_fdi_hanghoa = dfs_fdi[dfs_fdi[\"Phân Loại\"] == nganh]\n",
        "dfs_fdi.loc[dfs_fdi[\"Phân Loại\"] == nganh, \"Vốn đăng ký so với cùng kỳ\"] = dfs_fdi_hanghoa[\"Vốn đăng ký\"].pct_change(-12)\n",
        "dfs_fdi"
      ]
    },
    {
      "cell_type": "code",
      "execution_count": null,
      "metadata": {},
      "outputs": [
        {
          "data": {
            "application/vnd.plotly.v1+json": {
              "config": {
                "plotlyServerURL": "https://plot.ly"
              },
              "data": [
                {
                  "fillpattern": {
                    "shape": ""
                  },
                  "hovertemplate": "Phân Loại=TỔNG SỐ<br>Date=%{x}<br>Vốn đăng ký so với cùng kỳ=%{y}<extra></extra>",
                  "legendgroup": "TỔNG SỐ",
                  "line": {
                    "color": "#636efa"
                  },
                  "marker": {
                    "symbol": "circle"
                  },
                  "mode": "lines",
                  "name": "TỔNG SỐ",
                  "orientation": "v",
                  "showlegend": true,
                  "stackgroup": "1",
                  "type": "scatter",
                  "x": [
                    "2024-03-29T00:00:00",
                    "2024-02-29T00:00:00",
                    "2024-01-29T00:00:00",
                    "2023-12-29T00:00:00",
                    "2023-11-29T00:00:00",
                    "2023-10-29T00:00:00",
                    "2023-09-29T00:00:00",
                    "2023-08-29T00:00:00",
                    "2023-07-29T00:00:00",
                    "2023-06-29T00:00:00",
                    "2023-05-29T00:00:00",
                    "2023-04-29T00:00:00",
                    "2023-03-29T00:00:00",
                    "2023-02-28T00:00:00",
                    "2023-01-29T00:00:00",
                    "2022-12-29T00:00:00",
                    "2022-11-29T00:00:00",
                    "2022-10-29T00:00:00",
                    "2022-09-29T00:00:00",
                    "2022-08-29T00:00:00",
                    "2022-07-29T00:00:00",
                    "2022-06-29T00:00:00",
                    "2022-05-29T00:00:00",
                    "2022-04-29T00:00:00",
                    "2022-03-29T00:00:00",
                    "2022-02-28T00:00:00",
                    "2022-01-29T00:00:00",
                    "2021-12-29T00:00:00",
                    "2021-11-29T00:00:00",
                    "2021-10-29T00:00:00",
                    "2021-09-29T00:00:00",
                    "2021-08-29T00:00:00",
                    "2021-07-29T00:00:00",
                    "2021-06-29T00:00:00",
                    "2021-05-29T00:00:00",
                    "2021-04-29T00:00:00",
                    "2021-03-29T00:00:00",
                    "2021-02-28T00:00:00",
                    "2021-01-29T00:00:00",
                    "2020-12-27T00:00:00",
                    "2020-11-29T00:00:00",
                    "2020-10-29T00:00:00",
                    "2020-09-29T00:00:00",
                    "2020-08-29T00:00:00",
                    "2020-07-29T00:00:00",
                    "2020-06-29T00:00:00",
                    "2020-05-29T00:00:00",
                    "2020-04-29T00:00:00",
                    "2020-03-27T00:00:00",
                    "2020-02-29T00:00:00",
                    "2020-01-29T00:00:00",
                    "2019-12-27T00:00:00",
                    "2019-11-29T00:00:00",
                    "2019-10-29T00:00:00",
                    "2019-09-28T00:00:00",
                    "2019-08-29T00:00:00",
                    "2019-07-29T00:00:00",
                    "2019-06-28T00:00:00",
                    "2019-05-27T00:00:00",
                    "2019-04-29T00:00:00",
                    "2019-03-29T00:00:00",
                    "2019-02-28T00:00:00",
                    "2019-01-29T00:00:00",
                    "2018-12-27T00:00:00",
                    "2018-11-29T00:00:00",
                    "2018-10-29T00:00:00",
                    "2018-09-28T00:00:00",
                    "2018-08-29T00:00:00",
                    "2018-07-27T00:00:00",
                    "2018-06-29T00:00:00",
                    "2018-05-29T00:00:00",
                    "2018-04-27T00:00:00",
                    "2018-03-29T00:00:00",
                    "2018-02-28T00:00:00",
                    "2018-01-29T00:00:00",
                    "2017-12-29T00:00:00",
                    "2017-11-29T00:00:00",
                    "2017-10-27T00:00:00",
                    "2017-09-29T00:00:00",
                    "2017-08-29T00:00:00",
                    "2017-07-28T00:00:00",
                    "2017-06-29T00:00:00",
                    "2017-05-29T00:00:00",
                    "2017-04-28T00:00:00",
                    "2017-03-29T00:00:00",
                    "2017-02-28T00:00:00",
                    "2017-01-27T00:00:00",
                    "2016-12-29T00:00:00",
                    "2016-11-29T00:00:00",
                    "2016-10-28T00:00:00",
                    "2016-09-29T00:00:00",
                    "2016-08-29T00:00:00",
                    "2016-07-29T00:00:00",
                    "2016-06-29T00:00:00",
                    "2016-05-30T00:00:00",
                    "2016-04-29T00:00:00",
                    "2016-03-29T00:00:00",
                    "2016-02-29T00:00:00",
                    "2016-01-29T00:00:00"
                  ],
                  "xaxis": "x",
                  "y": [
                    0.1349739440204596,
                    0.7560559420848836,
                    0.4865754122652657,
                    0.2438553748572041,
                    0.08663030611778266,
                    0.10482917175944317,
                    -0.005746758817647635,
                    -0.03305033374237232,
                    -0.0670055818437777,
                    -0.19914981837459578,
                    -0.22482652830430516,
                    -0.3584498814674897,
                    -0.30874263570796323,
                    -0.45590019006304816,
                    -0.08865638606909854,
                    -0.06991567272318988,
                    -0.04630954908715057,
                    -0.07153373431394805,
                    -0.18237869956730612,
                    -0.15007619417289464,
                    -0.11647754469020122,
                    -0.13942857210119508,
                    -0.23322434799204972,
                    -0.19793817161152716,
                    -0.21973103740015554,
                    -0.14014867883547,
                    -0.07659573980421164,
                    0.15190692514925996,
                    0.1099359140345022,
                    0.1576155054499886,
                    0.222762581646061,
                    0.11642845031457139,
                    0.03485191631242146,
                    0.1237180059943932,
                    0.16448018874592552,
                    0.13700869283425887,
                    0.4136578715092849,
                    -0.12880416308616283,
                    -0.6254837028340007,
                    -0.0659359316973871,
                    -0.03433744331893196,
                    -0.0509196508753641,
                    -0.018186638047442583,
                    0.11369945429063222,
                    0.21200962796297196,
                    0.17529222687518708,
                    0.19901102290183803,
                    0.3216800750915123,
                    0.2884509687838328,
                    1.3075676957251563,
                    4.956304057047769,
                    0.25430483099685874,
                    0.3047549680430841,
                    0.21787350995238142,
                    0.11601169087567431,
                    -0.02698438407327486,
                    -0.11415155994811421,
                    -0.12310292756406527,
                    0.9510491772036762,
                    1.0978958867625908,
                    1.4131293563150211,
                    0.7573407904881351,
                    0.8188774587753258,
                    -0.1550919983622857,
                    -0.2025026052742458,
                    -0.07805928839431653,
                    -0.02994234927980821,
                    0.0019192910552561226,
                    0.0215142500826071,
                    -0.003248950162705988,
                    -0.16764395228938056,
                    -0.2719958174967382,
                    -0.27272364865826126,
                    -0.3142817740309005,
                    -0.6441654793090683,
                    0.40136167125007427,
                    0.5195857060836679,
                    0.3289942999786917,
                    0.30416393194719205,
                    0.3736560986241566,
                    0.4867195743628665,
                    0.5790842312155695,
                    -0.2605380106770089,
                    -0.0396074175035519,
                    0.064502912979719,
                    0.06497769496675776,
                    0.22978226715443917,
                    null,
                    null,
                    null,
                    null,
                    null,
                    null,
                    null,
                    null,
                    null,
                    null,
                    null,
                    null
                  ],
                  "yaxis": "y"
                }
              ],
              "layout": {
                "legend": {
                  "title": {
                    "text": "Phân Loại"
                  },
                  "tracegroupgap": 0
                },
                "margin": {
                  "t": 60
                },
                "template": {
                  "data": {
                    "bar": [
                      {
                        "error_x": {
                          "color": "#2a3f5f"
                        },
                        "error_y": {
                          "color": "#2a3f5f"
                        },
                        "marker": {
                          "line": {
                            "color": "#E5ECF6",
                            "width": 0.5
                          },
                          "pattern": {
                            "fillmode": "overlay",
                            "size": 10,
                            "solidity": 0.2
                          }
                        },
                        "type": "bar"
                      }
                    ],
                    "barpolar": [
                      {
                        "marker": {
                          "line": {
                            "color": "#E5ECF6",
                            "width": 0.5
                          },
                          "pattern": {
                            "fillmode": "overlay",
                            "size": 10,
                            "solidity": 0.2
                          }
                        },
                        "type": "barpolar"
                      }
                    ],
                    "carpet": [
                      {
                        "aaxis": {
                          "endlinecolor": "#2a3f5f",
                          "gridcolor": "white",
                          "linecolor": "white",
                          "minorgridcolor": "white",
                          "startlinecolor": "#2a3f5f"
                        },
                        "baxis": {
                          "endlinecolor": "#2a3f5f",
                          "gridcolor": "white",
                          "linecolor": "white",
                          "minorgridcolor": "white",
                          "startlinecolor": "#2a3f5f"
                        },
                        "type": "carpet"
                      }
                    ],
                    "choropleth": [
                      {
                        "colorbar": {
                          "outlinewidth": 0,
                          "ticks": ""
                        },
                        "type": "choropleth"
                      }
                    ],
                    "contour": [
                      {
                        "colorbar": {
                          "outlinewidth": 0,
                          "ticks": ""
                        },
                        "colorscale": [
                          [
                            0,
                            "#0d0887"
                          ],
                          [
                            0.1111111111111111,
                            "#46039f"
                          ],
                          [
                            0.2222222222222222,
                            "#7201a8"
                          ],
                          [
                            0.3333333333333333,
                            "#9c179e"
                          ],
                          [
                            0.4444444444444444,
                            "#bd3786"
                          ],
                          [
                            0.5555555555555556,
                            "#d8576b"
                          ],
                          [
                            0.6666666666666666,
                            "#ed7953"
                          ],
                          [
                            0.7777777777777778,
                            "#fb9f3a"
                          ],
                          [
                            0.8888888888888888,
                            "#fdca26"
                          ],
                          [
                            1,
                            "#f0f921"
                          ]
                        ],
                        "type": "contour"
                      }
                    ],
                    "contourcarpet": [
                      {
                        "colorbar": {
                          "outlinewidth": 0,
                          "ticks": ""
                        },
                        "type": "contourcarpet"
                      }
                    ],
                    "heatmap": [
                      {
                        "colorbar": {
                          "outlinewidth": 0,
                          "ticks": ""
                        },
                        "colorscale": [
                          [
                            0,
                            "#0d0887"
                          ],
                          [
                            0.1111111111111111,
                            "#46039f"
                          ],
                          [
                            0.2222222222222222,
                            "#7201a8"
                          ],
                          [
                            0.3333333333333333,
                            "#9c179e"
                          ],
                          [
                            0.4444444444444444,
                            "#bd3786"
                          ],
                          [
                            0.5555555555555556,
                            "#d8576b"
                          ],
                          [
                            0.6666666666666666,
                            "#ed7953"
                          ],
                          [
                            0.7777777777777778,
                            "#fb9f3a"
                          ],
                          [
                            0.8888888888888888,
                            "#fdca26"
                          ],
                          [
                            1,
                            "#f0f921"
                          ]
                        ],
                        "type": "heatmap"
                      }
                    ],
                    "heatmapgl": [
                      {
                        "colorbar": {
                          "outlinewidth": 0,
                          "ticks": ""
                        },
                        "colorscale": [
                          [
                            0,
                            "#0d0887"
                          ],
                          [
                            0.1111111111111111,
                            "#46039f"
                          ],
                          [
                            0.2222222222222222,
                            "#7201a8"
                          ],
                          [
                            0.3333333333333333,
                            "#9c179e"
                          ],
                          [
                            0.4444444444444444,
                            "#bd3786"
                          ],
                          [
                            0.5555555555555556,
                            "#d8576b"
                          ],
                          [
                            0.6666666666666666,
                            "#ed7953"
                          ],
                          [
                            0.7777777777777778,
                            "#fb9f3a"
                          ],
                          [
                            0.8888888888888888,
                            "#fdca26"
                          ],
                          [
                            1,
                            "#f0f921"
                          ]
                        ],
                        "type": "heatmapgl"
                      }
                    ],
                    "histogram": [
                      {
                        "marker": {
                          "pattern": {
                            "fillmode": "overlay",
                            "size": 10,
                            "solidity": 0.2
                          }
                        },
                        "type": "histogram"
                      }
                    ],
                    "histogram2d": [
                      {
                        "colorbar": {
                          "outlinewidth": 0,
                          "ticks": ""
                        },
                        "colorscale": [
                          [
                            0,
                            "#0d0887"
                          ],
                          [
                            0.1111111111111111,
                            "#46039f"
                          ],
                          [
                            0.2222222222222222,
                            "#7201a8"
                          ],
                          [
                            0.3333333333333333,
                            "#9c179e"
                          ],
                          [
                            0.4444444444444444,
                            "#bd3786"
                          ],
                          [
                            0.5555555555555556,
                            "#d8576b"
                          ],
                          [
                            0.6666666666666666,
                            "#ed7953"
                          ],
                          [
                            0.7777777777777778,
                            "#fb9f3a"
                          ],
                          [
                            0.8888888888888888,
                            "#fdca26"
                          ],
                          [
                            1,
                            "#f0f921"
                          ]
                        ],
                        "type": "histogram2d"
                      }
                    ],
                    "histogram2dcontour": [
                      {
                        "colorbar": {
                          "outlinewidth": 0,
                          "ticks": ""
                        },
                        "colorscale": [
                          [
                            0,
                            "#0d0887"
                          ],
                          [
                            0.1111111111111111,
                            "#46039f"
                          ],
                          [
                            0.2222222222222222,
                            "#7201a8"
                          ],
                          [
                            0.3333333333333333,
                            "#9c179e"
                          ],
                          [
                            0.4444444444444444,
                            "#bd3786"
                          ],
                          [
                            0.5555555555555556,
                            "#d8576b"
                          ],
                          [
                            0.6666666666666666,
                            "#ed7953"
                          ],
                          [
                            0.7777777777777778,
                            "#fb9f3a"
                          ],
                          [
                            0.8888888888888888,
                            "#fdca26"
                          ],
                          [
                            1,
                            "#f0f921"
                          ]
                        ],
                        "type": "histogram2dcontour"
                      }
                    ],
                    "mesh3d": [
                      {
                        "colorbar": {
                          "outlinewidth": 0,
                          "ticks": ""
                        },
                        "type": "mesh3d"
                      }
                    ],
                    "parcoords": [
                      {
                        "line": {
                          "colorbar": {
                            "outlinewidth": 0,
                            "ticks": ""
                          }
                        },
                        "type": "parcoords"
                      }
                    ],
                    "pie": [
                      {
                        "automargin": true,
                        "type": "pie"
                      }
                    ],
                    "scatter": [
                      {
                        "fillpattern": {
                          "fillmode": "overlay",
                          "size": 10,
                          "solidity": 0.2
                        },
                        "type": "scatter"
                      }
                    ],
                    "scatter3d": [
                      {
                        "line": {
                          "colorbar": {
                            "outlinewidth": 0,
                            "ticks": ""
                          }
                        },
                        "marker": {
                          "colorbar": {
                            "outlinewidth": 0,
                            "ticks": ""
                          }
                        },
                        "type": "scatter3d"
                      }
                    ],
                    "scattercarpet": [
                      {
                        "marker": {
                          "colorbar": {
                            "outlinewidth": 0,
                            "ticks": ""
                          }
                        },
                        "type": "scattercarpet"
                      }
                    ],
                    "scattergeo": [
                      {
                        "marker": {
                          "colorbar": {
                            "outlinewidth": 0,
                            "ticks": ""
                          }
                        },
                        "type": "scattergeo"
                      }
                    ],
                    "scattergl": [
                      {
                        "marker": {
                          "colorbar": {
                            "outlinewidth": 0,
                            "ticks": ""
                          }
                        },
                        "type": "scattergl"
                      }
                    ],
                    "scattermapbox": [
                      {
                        "marker": {
                          "colorbar": {
                            "outlinewidth": 0,
                            "ticks": ""
                          }
                        },
                        "type": "scattermapbox"
                      }
                    ],
                    "scatterpolar": [
                      {
                        "marker": {
                          "colorbar": {
                            "outlinewidth": 0,
                            "ticks": ""
                          }
                        },
                        "type": "scatterpolar"
                      }
                    ],
                    "scatterpolargl": [
                      {
                        "marker": {
                          "colorbar": {
                            "outlinewidth": 0,
                            "ticks": ""
                          }
                        },
                        "type": "scatterpolargl"
                      }
                    ],
                    "scatterternary": [
                      {
                        "marker": {
                          "colorbar": {
                            "outlinewidth": 0,
                            "ticks": ""
                          }
                        },
                        "type": "scatterternary"
                      }
                    ],
                    "surface": [
                      {
                        "colorbar": {
                          "outlinewidth": 0,
                          "ticks": ""
                        },
                        "colorscale": [
                          [
                            0,
                            "#0d0887"
                          ],
                          [
                            0.1111111111111111,
                            "#46039f"
                          ],
                          [
                            0.2222222222222222,
                            "#7201a8"
                          ],
                          [
                            0.3333333333333333,
                            "#9c179e"
                          ],
                          [
                            0.4444444444444444,
                            "#bd3786"
                          ],
                          [
                            0.5555555555555556,
                            "#d8576b"
                          ],
                          [
                            0.6666666666666666,
                            "#ed7953"
                          ],
                          [
                            0.7777777777777778,
                            "#fb9f3a"
                          ],
                          [
                            0.8888888888888888,
                            "#fdca26"
                          ],
                          [
                            1,
                            "#f0f921"
                          ]
                        ],
                        "type": "surface"
                      }
                    ],
                    "table": [
                      {
                        "cells": {
                          "fill": {
                            "color": "#EBF0F8"
                          },
                          "line": {
                            "color": "white"
                          }
                        },
                        "header": {
                          "fill": {
                            "color": "#C8D4E3"
                          },
                          "line": {
                            "color": "white"
                          }
                        },
                        "type": "table"
                      }
                    ]
                  },
                  "layout": {
                    "annotationdefaults": {
                      "arrowcolor": "#2a3f5f",
                      "arrowhead": 0,
                      "arrowwidth": 1
                    },
                    "autotypenumbers": "strict",
                    "coloraxis": {
                      "colorbar": {
                        "outlinewidth": 0,
                        "ticks": ""
                      }
                    },
                    "colorscale": {
                      "diverging": [
                        [
                          0,
                          "#8e0152"
                        ],
                        [
                          0.1,
                          "#c51b7d"
                        ],
                        [
                          0.2,
                          "#de77ae"
                        ],
                        [
                          0.3,
                          "#f1b6da"
                        ],
                        [
                          0.4,
                          "#fde0ef"
                        ],
                        [
                          0.5,
                          "#f7f7f7"
                        ],
                        [
                          0.6,
                          "#e6f5d0"
                        ],
                        [
                          0.7,
                          "#b8e186"
                        ],
                        [
                          0.8,
                          "#7fbc41"
                        ],
                        [
                          0.9,
                          "#4d9221"
                        ],
                        [
                          1,
                          "#276419"
                        ]
                      ],
                      "sequential": [
                        [
                          0,
                          "#0d0887"
                        ],
                        [
                          0.1111111111111111,
                          "#46039f"
                        ],
                        [
                          0.2222222222222222,
                          "#7201a8"
                        ],
                        [
                          0.3333333333333333,
                          "#9c179e"
                        ],
                        [
                          0.4444444444444444,
                          "#bd3786"
                        ],
                        [
                          0.5555555555555556,
                          "#d8576b"
                        ],
                        [
                          0.6666666666666666,
                          "#ed7953"
                        ],
                        [
                          0.7777777777777778,
                          "#fb9f3a"
                        ],
                        [
                          0.8888888888888888,
                          "#fdca26"
                        ],
                        [
                          1,
                          "#f0f921"
                        ]
                      ],
                      "sequentialminus": [
                        [
                          0,
                          "#0d0887"
                        ],
                        [
                          0.1111111111111111,
                          "#46039f"
                        ],
                        [
                          0.2222222222222222,
                          "#7201a8"
                        ],
                        [
                          0.3333333333333333,
                          "#9c179e"
                        ],
                        [
                          0.4444444444444444,
                          "#bd3786"
                        ],
                        [
                          0.5555555555555556,
                          "#d8576b"
                        ],
                        [
                          0.6666666666666666,
                          "#ed7953"
                        ],
                        [
                          0.7777777777777778,
                          "#fb9f3a"
                        ],
                        [
                          0.8888888888888888,
                          "#fdca26"
                        ],
                        [
                          1,
                          "#f0f921"
                        ]
                      ]
                    },
                    "colorway": [
                      "#636efa",
                      "#EF553B",
                      "#00cc96",
                      "#ab63fa",
                      "#FFA15A",
                      "#19d3f3",
                      "#FF6692",
                      "#B6E880",
                      "#FF97FF",
                      "#FECB52"
                    ],
                    "font": {
                      "color": "#2a3f5f"
                    },
                    "geo": {
                      "bgcolor": "white",
                      "lakecolor": "white",
                      "landcolor": "#E5ECF6",
                      "showlakes": true,
                      "showland": true,
                      "subunitcolor": "white"
                    },
                    "hoverlabel": {
                      "align": "left"
                    },
                    "hovermode": "closest",
                    "mapbox": {
                      "style": "light"
                    },
                    "paper_bgcolor": "white",
                    "plot_bgcolor": "#E5ECF6",
                    "polar": {
                      "angularaxis": {
                        "gridcolor": "white",
                        "linecolor": "white",
                        "ticks": ""
                      },
                      "bgcolor": "#E5ECF6",
                      "radialaxis": {
                        "gridcolor": "white",
                        "linecolor": "white",
                        "ticks": ""
                      }
                    },
                    "scene": {
                      "xaxis": {
                        "backgroundcolor": "#E5ECF6",
                        "gridcolor": "white",
                        "gridwidth": 2,
                        "linecolor": "white",
                        "showbackground": true,
                        "ticks": "",
                        "zerolinecolor": "white"
                      },
                      "yaxis": {
                        "backgroundcolor": "#E5ECF6",
                        "gridcolor": "white",
                        "gridwidth": 2,
                        "linecolor": "white",
                        "showbackground": true,
                        "ticks": "",
                        "zerolinecolor": "white"
                      },
                      "zaxis": {
                        "backgroundcolor": "#E5ECF6",
                        "gridcolor": "white",
                        "gridwidth": 2,
                        "linecolor": "white",
                        "showbackground": true,
                        "ticks": "",
                        "zerolinecolor": "white"
                      }
                    },
                    "shapedefaults": {
                      "line": {
                        "color": "#2a3f5f"
                      }
                    },
                    "ternary": {
                      "aaxis": {
                        "gridcolor": "white",
                        "linecolor": "white",
                        "ticks": ""
                      },
                      "baxis": {
                        "gridcolor": "white",
                        "linecolor": "white",
                        "ticks": ""
                      },
                      "bgcolor": "#E5ECF6",
                      "caxis": {
                        "gridcolor": "white",
                        "linecolor": "white",
                        "ticks": ""
                      }
                    },
                    "title": {
                      "x": 0.05
                    },
                    "xaxis": {
                      "automargin": true,
                      "gridcolor": "white",
                      "linecolor": "white",
                      "ticks": "",
                      "title": {
                        "standoff": 15
                      },
                      "zerolinecolor": "white",
                      "zerolinewidth": 2
                    },
                    "yaxis": {
                      "automargin": true,
                      "gridcolor": "white",
                      "linecolor": "white",
                      "ticks": "",
                      "title": {
                        "standoff": 15
                      },
                      "zerolinecolor": "white",
                      "zerolinewidth": 2
                    }
                  }
                },
                "xaxis": {
                  "anchor": "y",
                  "domain": [
                    0,
                    1
                  ],
                  "rangeselector": {
                    "buttons": [
                      {
                        "count": 1,
                        "label": "YTD",
                        "step": "year",
                        "stepmode": "todate"
                      },
                      {
                        "count": 1,
                        "label": "1y",
                        "step": "year",
                        "stepmode": "backward"
                      },
                      {
                        "count": 3,
                        "label": "3y",
                        "step": "year",
                        "stepmode": "backward"
                      },
                      {
                        "count": 5,
                        "label": "5y",
                        "step": "year",
                        "stepmode": "backward"
                      },
                      {
                        "count": 7,
                        "label": "7y",
                        "step": "year",
                        "stepmode": "backward"
                      },
                      {
                        "count": 10,
                        "label": "10y",
                        "step": "year",
                        "stepmode": "backward"
                      },
                      {
                        "step": "all"
                      }
                    ]
                  },
                  "rangeslider": {
                    "visible": true
                  },
                  "title": {
                    "text": "Date"
                  }
                },
                "yaxis": {
                  "anchor": "x",
                  "domain": [
                    0,
                    1
                  ],
                  "title": {
                    "text": "Vốn đăng ký so với cùng kỳ"
                  }
                }
              }
            }
          },
          "metadata": {},
          "output_type": "display_data"
        }
      ],
      "source": [
        "import pandas as pd\n",
        "import plotly.express as px\n",
        "import plotly.graph_objects as go\n",
        "\n",
        "df_show = dfs_fdi[(dfs_fdi[\"Phân Loại\"] == \"TỔNG SỐ\")]\n",
        "\n",
        "fig = px.area(df_show, x=\"Date\", y=\"Vốn đăng ký so với cùng kỳ\", color=\"Phân Loại\")\n",
        "\n",
        "fig.update_xaxes(\n",
        "    rangeslider_visible=True,\n",
        "    rangeselector=dict(\n",
        "        buttons=[\n",
        "            dict(count=1, label=\"YTD\", step=\"year\", stepmode=\"todate\"),\n",
        "            dict(count=1, label=\"1y\", step=\"year\", stepmode=\"backward\"),\n",
        "            dict(count=3, label=\"3y\", step=\"year\", stepmode=\"backward\"),\n",
        "            dict(count=5, label=\"5y\", step=\"year\", stepmode=\"backward\"),\n",
        "            dict(count=7, label=\"7y\", step=\"year\", stepmode=\"backward\"),\n",
        "            dict(count=10, label=\"10y\", step=\"year\", stepmode=\"backward\"),\n",
        "            dict(step=\"all\"),\n",
        "        ]\n",
        "    ),\n",
        ")\n",
        "\n",
        "fig.show()"
      ]
    },
    {
      "cell_type": "code",
      "execution_count": null,
      "metadata": {},
      "outputs": [],
      "source": []
    }
  ],
  "metadata": {
    "kernelspec": {
      "display_name": "vn-macroeconomics",
      "language": "python",
      "name": "python3"
    },
    "language_info": {
      "codemirror_mode": {
        "name": "ipython",
        "version": 3
      },
      "file_extension": ".py",
      "mimetype": "text/x-python",
      "name": "python",
      "nbconvert_exporter": "python",
      "pygments_lexer": "ipython3",
      "version": "3.10.9"
    },
    "orig_nbformat": 4
  },
  "nbformat": 4,
  "nbformat_minor": 2
}
