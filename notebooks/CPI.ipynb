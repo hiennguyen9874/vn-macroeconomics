{
  "cells": [
    {
      "cell_type": "code",
      "execution_count": 1,
      "metadata": {},
      "outputs": [],
      "source": [
        "import os\n",
        "import contextlib\n",
        "\n",
        "import pandas as pd\n",
        "import seaborn as sns\n",
        "from datetime import date\n",
        "import plotly.express as px\n",
        "import plotly.graph_objects as go"
      ]
    },
    {
      "cell_type": "code",
      "execution_count": 2,
      "metadata": {},
      "outputs": [],
      "source": [
        "def find_sheet_name(sheet_names):\n",
        "    cpi_sheet_names = list(filter(lambda x: \"cpi\" in x.lower(), sheet_names))\n",
        "\n",
        "    if len(cpi_sheet_names) == 1:\n",
        "        return cpi_sheet_names[0]\n",
        "\n",
        "    if len(sheet_names) == 43:\n",
        "        return \"30\"\n",
        "\n",
        "    if len(sheet_names) == 11:\n",
        "        return \"Sheet2\"\n",
        "\n",
        "    raise RuntimeError(sheet_names)"
      ]
    },
    {
      "cell_type": "code",
      "execution_count": 3,
      "metadata": {},
      "outputs": [],
      "source": [
        "en_to_vn = {\n",
        "    \"CONSUMER PRICE INDEXES\": \"CHỈ SỐ GIÁ TIÊU DÙNG\",\n",
        "    \"Food and catering services\": \"Hàng ăn và dịch vụ ăn uống\",\n",
        "    \"Grain food\": \"Lương thực\",\n",
        "    \"Foodstuff\": \"Thực phẩm\",\n",
        "    \"Outdoor eating and drinking\": \"Ăn uống ngoài gia đình\",\n",
        "    \"Drinks and tobacco\": \"Đồ uống và thuốc lá\",\n",
        "    \"Textile, footgear and hats\": \"May mặc, mũ nón và giày dép \",\n",
        "    \"Housing and construction materials\": \"Nhà ở và vật liệu xây dựng\",\n",
        "    \"Family appliances and tools\": \"Thiết bị và đồ dùng gia đình\",\n",
        "    \"Medicaments and health service\": \"Thuốc và dịch vụ y tế\",\n",
        "    \"Medical service\": \"Dịch vụ y tế\",\n",
        "    \"Transport\": \"Giao thông\",\n",
        "    \"Postal and communicational service\": \"Bưu chính viễn thông\",\n",
        "    \"Education\": \"Giáo dục\",\n",
        "    \"Educational service\": \"Dịch vụ giáo dục\",\n",
        "    \"Culture, entertainment and tourism\": \"Văn hoá, giải trí và du lịch\",\n",
        "    \"Others\": \"Hàng hóa và dịch vụ khác\",\n",
        "    \"GOLD PRICE INDEXES\": \"CHỈ SỐ GIÁ VÀNG\",\n",
        "    \"US DOLLAR PRICE INDEXES\": \"CHỈ SỐ GIÁ ĐÔ LA MỸ\",\n",
        "    \"CORE INFLATION\": \"LẠM PHÁT CƠ BẢN\",\n",
        "}"
      ]
    },
    {
      "cell_type": "code",
      "execution_count": 4,
      "metadata": {},
      "outputs": [
        {
          "data": {
            "text/html": [
              "<div>\n",
              "<style scoped>\n",
              "    .dataframe tbody tr th:only-of-type {\n",
              "        vertical-align: middle;\n",
              "    }\n",
              "\n",
              "    .dataframe tbody tr th {\n",
              "        vertical-align: top;\n",
              "    }\n",
              "\n",
              "    .dataframe thead th {\n",
              "        text-align: right;\n",
              "    }\n",
              "</style>\n",
              "<table border=\"1\" class=\"dataframe\">\n",
              "  <thead>\n",
              "    <tr style=\"text-align: right;\">\n",
              "      <th></th>\n",
              "      <th>Hàng hóa</th>\n",
              "      <th>YOY</th>\n",
              "      <th>MOM</th>\n",
              "      <th>YTD-YOY</th>\n",
              "      <th>Date</th>\n",
              "    </tr>\n",
              "  </thead>\n",
              "  <tbody>\n",
              "    <tr>\n",
              "      <th>8</th>\n",
              "      <td>CHỈ SỐ GIÁ TIÊU DÙNG</td>\n",
              "      <td>3.969427</td>\n",
              "      <td>-0.232600</td>\n",
              "      <td>3.771854</td>\n",
              "      <td>2024-03-29</td>\n",
              "    </tr>\n",
              "    <tr>\n",
              "      <th>9</th>\n",
              "      <td>Hàng ăn và dịch vụ ăn uống</td>\n",
              "      <td>4.049616</td>\n",
              "      <td>-0.755700</td>\n",
              "      <td>3.526894</td>\n",
              "      <td>2024-03-29</td>\n",
              "    </tr>\n",
              "    <tr>\n",
              "      <th>10</th>\n",
              "      <td>Lương thực</td>\n",
              "      <td>16.537904</td>\n",
              "      <td>-0.418800</td>\n",
              "      <td>16.506627</td>\n",
              "      <td>2024-03-29</td>\n",
              "    </tr>\n",
              "    <tr>\n",
              "      <th>11</th>\n",
              "      <td>Thực phẩm</td>\n",
              "      <td>1.940619</td>\n",
              "      <td>-1.193100</td>\n",
              "      <td>1.239914</td>\n",
              "      <td>2024-03-29</td>\n",
              "    </tr>\n",
              "    <tr>\n",
              "      <th>12</th>\n",
              "      <td>Ăn uống ngoài gia đình</td>\n",
              "      <td>4.288707</td>\n",
              "      <td>0.189000</td>\n",
              "      <td>4.031481</td>\n",
              "      <td>2024-03-29</td>\n",
              "    </tr>\n",
              "    <tr>\n",
              "      <th>13</th>\n",
              "      <td>Đồ uống và thuốc lá</td>\n",
              "      <td>2.633082</td>\n",
              "      <td>-0.066100</td>\n",
              "      <td>2.326308</td>\n",
              "      <td>2024-03-29</td>\n",
              "    </tr>\n",
              "    <tr>\n",
              "      <th>14</th>\n",
              "      <td>May mặc, mũ nón và giày dép</td>\n",
              "      <td>1.597585</td>\n",
              "      <td>-0.058500</td>\n",
              "      <td>1.542713</td>\n",
              "      <td>2024-03-29</td>\n",
              "    </tr>\n",
              "    <tr>\n",
              "      <th>15</th>\n",
              "      <td>Nhà ở và vật liệu xây dựng</td>\n",
              "      <td>4.866432</td>\n",
              "      <td>0.285500</td>\n",
              "      <td>5.396870</td>\n",
              "      <td>2024-03-29</td>\n",
              "    </tr>\n",
              "    <tr>\n",
              "      <th>16</th>\n",
              "      <td>Thiết bị và đồ dùng gia đình</td>\n",
              "      <td>1.178331</td>\n",
              "      <td>0.005900</td>\n",
              "      <td>1.210276</td>\n",
              "      <td>2024-03-29</td>\n",
              "    </tr>\n",
              "    <tr>\n",
              "      <th>17</th>\n",
              "      <td>Thuốc và dịch vụ y tế</td>\n",
              "      <td>6.481764</td>\n",
              "      <td>0.019700</td>\n",
              "      <td>6.507561</td>\n",
              "      <td>2024-03-29</td>\n",
              "    </tr>\n",
              "    <tr>\n",
              "      <th>18</th>\n",
              "      <td>Dịch vụ y tế</td>\n",
              "      <td>8.178353</td>\n",
              "      <td>0.001500</td>\n",
              "      <td>8.209866</td>\n",
              "      <td>2024-03-29</td>\n",
              "    </tr>\n",
              "    <tr>\n",
              "      <th>19</th>\n",
              "      <td>Giao thông</td>\n",
              "      <td>2.680398</td>\n",
              "      <td>-0.035000</td>\n",
              "      <td>2.267607</td>\n",
              "      <td>2024-03-29</td>\n",
              "    </tr>\n",
              "    <tr>\n",
              "      <th>20</th>\n",
              "      <td>Bưu chính viễn thông</td>\n",
              "      <td>-1.471528</td>\n",
              "      <td>-0.005300</td>\n",
              "      <td>-1.455072</td>\n",
              "      <td>2024-03-29</td>\n",
              "    </tr>\n",
              "    <tr>\n",
              "      <th>21</th>\n",
              "      <td>Giáo dục</td>\n",
              "      <td>10.123038</td>\n",
              "      <td>-0.290200</td>\n",
              "      <td>9.020796</td>\n",
              "      <td>2024-03-29</td>\n",
              "    </tr>\n",
              "    <tr>\n",
              "      <th>22</th>\n",
              "      <td>Dịch vụ giáo dục</td>\n",
              "      <td>10.898537</td>\n",
              "      <td>-0.335500</td>\n",
              "      <td>9.630878</td>\n",
              "      <td>2024-03-29</td>\n",
              "    </tr>\n",
              "    <tr>\n",
              "      <th>23</th>\n",
              "      <td>Văn hoá, giải trí và du lịch</td>\n",
              "      <td>1.452300</td>\n",
              "      <td>-0.117700</td>\n",
              "      <td>1.351556</td>\n",
              "      <td>2024-03-29</td>\n",
              "    </tr>\n",
              "    <tr>\n",
              "      <th>24</th>\n",
              "      <td>Hàng hóa và dịch vụ khác</td>\n",
              "      <td>6.318867</td>\n",
              "      <td>0.055600</td>\n",
              "      <td>6.197081</td>\n",
              "      <td>2024-03-29</td>\n",
              "    </tr>\n",
              "    <tr>\n",
              "      <th>25</th>\n",
              "      <td>CHỈ SỐ GIÁ VÀNG</td>\n",
              "      <td>22.711902</td>\n",
              "      <td>4.587000</td>\n",
              "      <td>18.229359</td>\n",
              "      <td>2024-03-29</td>\n",
              "    </tr>\n",
              "    <tr>\n",
              "      <th>26</th>\n",
              "      <td>CHỈ SỐ GIÁ ĐÔ LA MỸ</td>\n",
              "      <td>4.317515</td>\n",
              "      <td>0.881700</td>\n",
              "      <td>3.967141</td>\n",
              "      <td>2024-03-29</td>\n",
              "    </tr>\n",
              "    <tr>\n",
              "      <th>27</th>\n",
              "      <td>LẠM PHÁT CƠ BẢN</td>\n",
              "      <td>-97.239116</td>\n",
              "      <td>-99.970243</td>\n",
              "      <td>-97.188552</td>\n",
              "      <td>2024-03-29</td>\n",
              "    </tr>\n",
              "  </tbody>\n",
              "</table>\n",
              "</div>"
            ],
            "text/plain": [
              "                        Hàng hóa        YOY        MOM    YTD-YOY       Date\n",
              "8           CHỈ SỐ GIÁ TIÊU DÙNG   3.969427  -0.232600   3.771854 2024-03-29\n",
              "9     Hàng ăn và dịch vụ ăn uống   4.049616  -0.755700   3.526894 2024-03-29\n",
              "10                    Lương thực  16.537904  -0.418800  16.506627 2024-03-29\n",
              "11                     Thực phẩm   1.940619  -1.193100   1.239914 2024-03-29\n",
              "12        Ăn uống ngoài gia đình   4.288707   0.189000   4.031481 2024-03-29\n",
              "13           Đồ uống và thuốc lá   2.633082  -0.066100   2.326308 2024-03-29\n",
              "14   May mặc, mũ nón và giày dép   1.597585  -0.058500   1.542713 2024-03-29\n",
              "15    Nhà ở và vật liệu xây dựng   4.866432   0.285500   5.396870 2024-03-29\n",
              "16  Thiết bị và đồ dùng gia đình   1.178331   0.005900   1.210276 2024-03-29\n",
              "17         Thuốc và dịch vụ y tế   6.481764   0.019700   6.507561 2024-03-29\n",
              "18                  Dịch vụ y tế   8.178353   0.001500   8.209866 2024-03-29\n",
              "19                    Giao thông   2.680398  -0.035000   2.267607 2024-03-29\n",
              "20          Bưu chính viễn thông  -1.471528  -0.005300  -1.455072 2024-03-29\n",
              "21                      Giáo dục  10.123038  -0.290200   9.020796 2024-03-29\n",
              "22              Dịch vụ giáo dục  10.898537  -0.335500   9.630878 2024-03-29\n",
              "23  Văn hoá, giải trí và du lịch   1.452300  -0.117700   1.351556 2024-03-29\n",
              "24      Hàng hóa và dịch vụ khác   6.318867   0.055600   6.197081 2024-03-29\n",
              "25               CHỈ SỐ GIÁ VÀNG  22.711902   4.587000  18.229359 2024-03-29\n",
              "26           CHỈ SỐ GIÁ ĐÔ LA MỸ   4.317515   0.881700   3.967141 2024-03-29\n",
              "27               LẠM PHÁT CƠ BẢN -97.239116 -99.970243 -97.188552 2024-03-29"
            ]
          },
          "execution_count": 4,
          "metadata": {},
          "output_type": "execute_result"
        }
      ],
      "source": [
        "def get_cpi(xl, sheet_name, date):\n",
        "    df = xl.parse(sheet_name)\n",
        "\n",
        "    if (\n",
        "        len(\n",
        "            df[df.columns[1]][\n",
        "                (df[df.columns[1]] == \"Hàng ăn và dịch vụ ăn uống\")\n",
        "                | (df[df.columns[1]] == \"Food and catering services\")\n",
        "            ].index\n",
        "        )\n",
        "        > 0\n",
        "    ):\n",
        "        df[df.columns[1]] = df[df.columns[1]].fillna(df[df.columns[0]])\n",
        "        df = df.drop(columns=[df.columns[0]])\n",
        "\n",
        "    if (\n",
        "        len(\n",
        "            df[df.columns[1]][\n",
        "                (df[df.columns[1]] == \"Lương thực\")\n",
        "                | (df[df.columns[1]] == \"Grain food\")\n",
        "                | (df[df.columns[1]] == \" Lương thực\")\n",
        "            ].index\n",
        "        )\n",
        "        > 0\n",
        "    ):\n",
        "        df[df.columns[1]] = df[df.columns[1]].fillna(df[df.columns[0]])\n",
        "        df = df.drop(columns=[df.columns[0]])\n",
        "\n",
        "    if len(df.columns) == 7:\n",
        "        df = df.drop(columns=[df.columns[1], df.columns[3], df.columns[5]])\n",
        "    elif len(df.columns) == 6:\n",
        "        df = df.drop(columns=[df.columns[1], df.columns[3]])\n",
        "    elif len(df.columns) == 4 and int(date.split(\"-\")[1]) == 1:\n",
        "        df = df.drop(columns=[df.columns[1]])\n",
        "        df[\"A\"] = df[df.columns[1]]\n",
        "    elif len(df.columns) == 5 and int(date.split(\"-\")[1]) == 12:\n",
        "        df = df.drop(columns=[df.columns[1]])\n",
        "    else:\n",
        "        raise RuntimeError(df.columns)\n",
        "\n",
        "    df.columns = [\"Hàng hóa\", \"YOY\", \"MOM\", \"YTD-YOY\"]\n",
        "\n",
        "    df[df.columns[0]] = (\n",
        "        df[df.columns[0]]\n",
        "        .replace(r\"\\s+\", \" \", regex=True)\n",
        "        .replace(r\"\\n\", \" \", regex=True)\n",
        "    )\n",
        "\n",
        "    df[df.columns[0]] = df[df.columns[0]].str.strip()\n",
        "\n",
        "    df = df.drop(\n",
        "        list(\n",
        "            range(\n",
        "                df[df.columns[0]][\n",
        "                    (df[df.columns[0]] == \"CHỈ SỐ GIÁ TIÊU DÙNG\")\n",
        "                    | ((df[df.columns[0]] == \"CONSUMER PRICE INDEXES\"))\n",
        "                ].index[0]\n",
        "            )\n",
        "        )\n",
        "    )\n",
        "\n",
        "    if len(df[df.columns[0]][df[df.columns[0]] == \"CONSUMER PRICE INDEXES\"].index) > 0:\n",
        "        df[df.columns[0]] = df[df.columns[0]].map(en_to_vn)\n",
        "\n",
        "    # df = df[pd.to_numeric(df[\"MOM\"], errors=\"coerce\").notnull()]\n",
        "    df = df[pd.to_numeric(df[\"YOY\"], errors=\"coerce\").notnull()]\n",
        "    df = df[pd.to_numeric(df[\"YTD-YOY\"], errors=\"coerce\").notnull()]\n",
        "\n",
        "    df[\"MOM\"] = df[\"MOM\"].astype(float) - 100\n",
        "    df[\"YOY\"] = df[\"YOY\"].astype(float) - 100\n",
        "    df[\"YTD-YOY\"] = df[\"YTD-YOY\"].astype(float) - 100\n",
        "\n",
        "    df[\"Date\"] = date\n",
        "    df[\"Date\"] = pd.to_datetime(df[\"Date\"], dayfirst=False)\n",
        "\n",
        "    return df\n",
        "\n",
        "\n",
        "xl = pd.ExcelFile(\"../datas/2024-03-29-02-Bieu-3.2024-ngay-28.3.xlsx\")\n",
        "get_cpi(xl, find_sheet_name(xl.sheet_names), \"2024-03-29\")"
      ]
    },
    {
      "cell_type": "code",
      "execution_count": 5,
      "metadata": {},
      "outputs": [],
      "source": [
        "import os\n",
        "import contextlib\n",
        "\n",
        "dfs_cpi_origin = []\n",
        "for file_name in sorted(\n",
        "    os.listdir(\"../datas\"),\n",
        "    key=lambda filename: f\"{filename.split('-')[0]}-{filename.split('-')[1]}-{filename.split('-')[2]}\",\n",
        "    reverse=True,\n",
        "):\n",
        "    if file_name.startswith(\".~\"):\n",
        "        continue\n",
        "\n",
        "    try:\n",
        "        file_path = os.path.join(\"../datas\", file_name)\n",
        "\n",
        "        year = int(file_name.split(\"-\")[0])\n",
        "        month = int(file_name.split(\"-\")[1])\n",
        "        day = int(file_name.split(\"-\")[2])\n",
        "\n",
        "        if year < 2014:\n",
        "            continue\n",
        "\n",
        "        xl = pd.ExcelFile(file_path)\n",
        "\n",
        "        df_cpi = get_cpi(xl, find_sheet_name(xl.sheet_names), f\"{year}-{month}-{day}\")\n",
        "\n",
        "        dfs_cpi_origin.append(df_cpi)\n",
        "    except Exception as e:\n",
        "        print(file_name)\n",
        "        raise e"
      ]
    },
    {
      "cell_type": "code",
      "execution_count": 6,
      "metadata": {},
      "outputs": [
        {
          "data": {
            "text/html": [
              "<div>\n",
              "<style scoped>\n",
              "    .dataframe tbody tr th:only-of-type {\n",
              "        vertical-align: middle;\n",
              "    }\n",
              "\n",
              "    .dataframe tbody tr th {\n",
              "        vertical-align: top;\n",
              "    }\n",
              "\n",
              "    .dataframe thead th {\n",
              "        text-align: right;\n",
              "    }\n",
              "</style>\n",
              "<table border=\"1\" class=\"dataframe\">\n",
              "  <thead>\n",
              "    <tr style=\"text-align: right;\">\n",
              "      <th></th>\n",
              "      <th>Hàng hóa</th>\n",
              "      <th>YOY</th>\n",
              "      <th>MOM</th>\n",
              "      <th>YTD-YOY</th>\n",
              "      <th>Date</th>\n",
              "    </tr>\n",
              "  </thead>\n",
              "  <tbody>\n",
              "    <tr>\n",
              "      <th>0</th>\n",
              "      <td>CHỈ SỐ GIÁ TIÊU DÙNG</td>\n",
              "      <td>4.403009</td>\n",
              "      <td>0.073100</td>\n",
              "      <td>3.929284</td>\n",
              "      <td>2024-04-29</td>\n",
              "    </tr>\n",
              "    <tr>\n",
              "      <th>1</th>\n",
              "      <td>Hàng ăn và dịch vụ ăn uống</td>\n",
              "      <td>4.319937</td>\n",
              "      <td>-0.126100</td>\n",
              "      <td>3.724588</td>\n",
              "      <td>2024-04-29</td>\n",
              "    </tr>\n",
              "    <tr>\n",
              "      <th>2</th>\n",
              "      <td>Lương thực</td>\n",
              "      <td>15.454808</td>\n",
              "      <td>-0.630200</td>\n",
              "      <td>16.242777</td>\n",
              "      <td>2024-04-29</td>\n",
              "    </tr>\n",
              "    <tr>\n",
              "      <th>3</th>\n",
              "      <td>Thực phẩm</td>\n",
              "      <td>2.490112</td>\n",
              "      <td>-0.175700</td>\n",
              "      <td>1.551026</td>\n",
              "      <td>2024-04-29</td>\n",
              "    </tr>\n",
              "    <tr>\n",
              "      <th>4</th>\n",
              "      <td>Ăn uống ngoài gia đình</td>\n",
              "      <td>4.373174</td>\n",
              "      <td>0.212600</td>\n",
              "      <td>4.116799</td>\n",
              "      <td>2024-04-29</td>\n",
              "    </tr>\n",
              "    <tr>\n",
              "      <th>5</th>\n",
              "      <td>Đồ uống và thuốc lá</td>\n",
              "      <td>2.599868</td>\n",
              "      <td>0.086300</td>\n",
              "      <td>2.394630</td>\n",
              "      <td>2024-04-29</td>\n",
              "    </tr>\n",
              "    <tr>\n",
              "      <th>6</th>\n",
              "      <td>May mặc, mũ nón và giày dép</td>\n",
              "      <td>1.800223</td>\n",
              "      <td>0.123400</td>\n",
              "      <td>1.607029</td>\n",
              "      <td>2024-04-29</td>\n",
              "    </tr>\n",
              "    <tr>\n",
              "      <th>7</th>\n",
              "      <td>Nhà ở và vật liệu xây dựng</td>\n",
              "      <td>5.968146</td>\n",
              "      <td>0.214900</td>\n",
              "      <td>5.539400</td>\n",
              "      <td>2024-04-29</td>\n",
              "    </tr>\n",
              "    <tr>\n",
              "      <th>8</th>\n",
              "      <td>Thiết bị và đồ dùng gia đình</td>\n",
              "      <td>1.373765</td>\n",
              "      <td>0.111200</td>\n",
              "      <td>1.251123</td>\n",
              "      <td>2024-04-29</td>\n",
              "    </tr>\n",
              "    <tr>\n",
              "      <th>9</th>\n",
              "      <td>Thuốc và dịch vụ y tế</td>\n",
              "      <td>7.436569</td>\n",
              "      <td>0.921000</td>\n",
              "      <td>6.739057</td>\n",
              "      <td>2024-04-29</td>\n",
              "    </tr>\n",
              "    <tr>\n",
              "      <th>10</th>\n",
              "      <td>Dịch vụ y tế</td>\n",
              "      <td>9.460420</td>\n",
              "      <td>1.190100</td>\n",
              "      <td>8.521159</td>\n",
              "      <td>2024-04-29</td>\n",
              "    </tr>\n",
              "    <tr>\n",
              "      <th>11</th>\n",
              "      <td>Giao thông</td>\n",
              "      <td>4.236105</td>\n",
              "      <td>1.950900</td>\n",
              "      <td>2.756891</td>\n",
              "      <td>2024-04-29</td>\n",
              "    </tr>\n",
              "    <tr>\n",
              "      <th>12</th>\n",
              "      <td>Bưu chính viễn thông</td>\n",
              "      <td>-1.499156</td>\n",
              "      <td>-0.171900</td>\n",
              "      <td>-1.466095</td>\n",
              "      <td>2024-04-29</td>\n",
              "    </tr>\n",
              "    <tr>\n",
              "      <th>13</th>\n",
              "      <td>Giáo dục</td>\n",
              "      <td>8.306051</td>\n",
              "      <td>-2.929200</td>\n",
              "      <td>8.841669</td>\n",
              "      <td>2024-04-29</td>\n",
              "    </tr>\n",
              "    <tr>\n",
              "      <th>14</th>\n",
              "      <td>Dịch vụ giáo dục</td>\n",
              "      <td>8.838998</td>\n",
              "      <td>-3.323000</td>\n",
              "      <td>9.432369</td>\n",
              "      <td>2024-04-29</td>\n",
              "    </tr>\n",
              "    <tr>\n",
              "      <th>15</th>\n",
              "      <td>Văn hoá, giải trí và du lịch</td>\n",
              "      <td>1.941592</td>\n",
              "      <td>0.026500</td>\n",
              "      <td>1.498744</td>\n",
              "      <td>2024-04-29</td>\n",
              "    </tr>\n",
              "    <tr>\n",
              "      <th>16</th>\n",
              "      <td>Hàng hóa và dịch vụ khác</td>\n",
              "      <td>6.228921</td>\n",
              "      <td>0.270000</td>\n",
              "      <td>6.205040</td>\n",
              "      <td>2024-04-29</td>\n",
              "    </tr>\n",
              "    <tr>\n",
              "      <th>17</th>\n",
              "      <td>CHỈ SỐ GIÁ VÀNG</td>\n",
              "      <td>28.621557</td>\n",
              "      <td>6.949300</td>\n",
              "      <td>20.745914</td>\n",
              "      <td>2024-04-29</td>\n",
              "    </tr>\n",
              "    <tr>\n",
              "      <th>18</th>\n",
              "      <td>CHỈ SỐ GIÁ ĐÔ LA MỸ</td>\n",
              "      <td>6.508727</td>\n",
              "      <td>1.195400</td>\n",
              "      <td>4.596794</td>\n",
              "      <td>2024-04-29</td>\n",
              "    </tr>\n",
              "    <tr>\n",
              "      <th>19</th>\n",
              "      <td>LẠM PHÁT CƠ BẢN</td>\n",
              "      <td>-97.205885</td>\n",
              "      <td>-99.832927</td>\n",
              "      <td>-97.192885</td>\n",
              "      <td>2024-04-29</td>\n",
              "    </tr>\n",
              "  </tbody>\n",
              "</table>\n",
              "</div>"
            ],
            "text/plain": [
              "                        Hàng hóa        YOY        MOM    YTD-YOY       Date\n",
              "0           CHỈ SỐ GIÁ TIÊU DÙNG   4.403009   0.073100   3.929284 2024-04-29\n",
              "1     Hàng ăn và dịch vụ ăn uống   4.319937  -0.126100   3.724588 2024-04-29\n",
              "2                     Lương thực  15.454808  -0.630200  16.242777 2024-04-29\n",
              "3                      Thực phẩm   2.490112  -0.175700   1.551026 2024-04-29\n",
              "4         Ăn uống ngoài gia đình   4.373174   0.212600   4.116799 2024-04-29\n",
              "5            Đồ uống và thuốc lá   2.599868   0.086300   2.394630 2024-04-29\n",
              "6    May mặc, mũ nón và giày dép   1.800223   0.123400   1.607029 2024-04-29\n",
              "7     Nhà ở và vật liệu xây dựng   5.968146   0.214900   5.539400 2024-04-29\n",
              "8   Thiết bị và đồ dùng gia đình   1.373765   0.111200   1.251123 2024-04-29\n",
              "9          Thuốc và dịch vụ y tế   7.436569   0.921000   6.739057 2024-04-29\n",
              "10                  Dịch vụ y tế   9.460420   1.190100   8.521159 2024-04-29\n",
              "11                    Giao thông   4.236105   1.950900   2.756891 2024-04-29\n",
              "12          Bưu chính viễn thông  -1.499156  -0.171900  -1.466095 2024-04-29\n",
              "13                      Giáo dục   8.306051  -2.929200   8.841669 2024-04-29\n",
              "14              Dịch vụ giáo dục   8.838998  -3.323000   9.432369 2024-04-29\n",
              "15  Văn hoá, giải trí và du lịch   1.941592   0.026500   1.498744 2024-04-29\n",
              "16      Hàng hóa và dịch vụ khác   6.228921   0.270000   6.205040 2024-04-29\n",
              "17               CHỈ SỐ GIÁ VÀNG  28.621557   6.949300  20.745914 2024-04-29\n",
              "18           CHỈ SỐ GIÁ ĐÔ LA MỸ   6.508727   1.195400   4.596794 2024-04-29\n",
              "19               LẠM PHÁT CƠ BẢN -97.205885 -99.832927 -97.192885 2024-04-29"
            ]
          },
          "execution_count": 6,
          "metadata": {},
          "output_type": "execute_result"
        }
      ],
      "source": [
        "dfs_cpi = pd.concat(dfs_cpi_origin, ignore_index=True, axis=0)\n",
        "dfs_cpi[\"Date\"] = pd.to_datetime(dfs_cpi[\"Date\"], dayfirst=False)\n",
        "dfs_cpi.head(n=20)"
      ]
    },
    {
      "cell_type": "code",
      "execution_count": 7,
      "metadata": {},
      "outputs": [
        {
          "data": {
            "text/html": [
              "<div>\n",
              "<style scoped>\n",
              "    .dataframe tbody tr th:only-of-type {\n",
              "        vertical-align: middle;\n",
              "    }\n",
              "\n",
              "    .dataframe tbody tr th {\n",
              "        vertical-align: top;\n",
              "    }\n",
              "\n",
              "    .dataframe thead th {\n",
              "        text-align: right;\n",
              "    }\n",
              "</style>\n",
              "<table border=\"1\" class=\"dataframe\">\n",
              "  <thead>\n",
              "    <tr style=\"text-align: right;\">\n",
              "      <th></th>\n",
              "      <th>Hàng hóa</th>\n",
              "      <th>YOY</th>\n",
              "      <th>MOM</th>\n",
              "      <th>YTD-YOY</th>\n",
              "      <th>Date</th>\n",
              "    </tr>\n",
              "  </thead>\n",
              "  <tbody>\n",
              "    <tr>\n",
              "      <th>0</th>\n",
              "      <td>CHỈ SỐ GIÁ TIÊU DÙNG</td>\n",
              "      <td>4.403009</td>\n",
              "      <td>0.0731</td>\n",
              "      <td>3.929284</td>\n",
              "      <td>2024-04-29</td>\n",
              "    </tr>\n",
              "    <tr>\n",
              "      <th>1</th>\n",
              "      <td>Hàng ăn và dịch vụ ăn uống</td>\n",
              "      <td>4.319937</td>\n",
              "      <td>-0.1261</td>\n",
              "      <td>3.724588</td>\n",
              "      <td>2024-04-29</td>\n",
              "    </tr>\n",
              "    <tr>\n",
              "      <th>2</th>\n",
              "      <td>Lương thực</td>\n",
              "      <td>15.454808</td>\n",
              "      <td>-0.6302</td>\n",
              "      <td>16.242777</td>\n",
              "      <td>2024-04-29</td>\n",
              "    </tr>\n",
              "    <tr>\n",
              "      <th>3</th>\n",
              "      <td>Thực phẩm</td>\n",
              "      <td>2.490112</td>\n",
              "      <td>-0.1757</td>\n",
              "      <td>1.551026</td>\n",
              "      <td>2024-04-29</td>\n",
              "    </tr>\n",
              "    <tr>\n",
              "      <th>4</th>\n",
              "      <td>Ăn uống ngoài gia đình</td>\n",
              "      <td>4.373174</td>\n",
              "      <td>0.2126</td>\n",
              "      <td>4.116799</td>\n",
              "      <td>2024-04-29</td>\n",
              "    </tr>\n",
              "    <tr>\n",
              "      <th>...</th>\n",
              "      <td>...</td>\n",
              "      <td>...</td>\n",
              "      <td>...</td>\n",
              "      <td>...</td>\n",
              "      <td>...</td>\n",
              "    </tr>\n",
              "    <tr>\n",
              "      <th>2460</th>\n",
              "      <td>Dịch vụ giáo dục</td>\n",
              "      <td>12.450000</td>\n",
              "      <td>0.0000</td>\n",
              "      <td>12.450000</td>\n",
              "      <td>2014-01-29</td>\n",
              "    </tr>\n",
              "    <tr>\n",
              "      <th>2461</th>\n",
              "      <td>Văn hoá, giải trí và du lịch</td>\n",
              "      <td>2.900000</td>\n",
              "      <td>0.2100</td>\n",
              "      <td>2.900000</td>\n",
              "      <td>2014-01-29</td>\n",
              "    </tr>\n",
              "    <tr>\n",
              "      <th>2462</th>\n",
              "      <td>Hàng hóa và dịch vụ khác</td>\n",
              "      <td>4.910000</td>\n",
              "      <td>0.6300</td>\n",
              "      <td>4.910000</td>\n",
              "      <td>2014-01-29</td>\n",
              "    </tr>\n",
              "    <tr>\n",
              "      <th>2463</th>\n",
              "      <td>CHỈ SỐ GIÁ VÀNG</td>\n",
              "      <td>-24.430000</td>\n",
              "      <td>-1.8200</td>\n",
              "      <td>-24.430000</td>\n",
              "      <td>2014-01-29</td>\n",
              "    </tr>\n",
              "    <tr>\n",
              "      <th>2464</th>\n",
              "      <td>CHỈ SỐ GIÁ ĐÔ LA MỸ</td>\n",
              "      <td>1.110000</td>\n",
              "      <td>-0.0600</td>\n",
              "      <td>1.110000</td>\n",
              "      <td>2014-01-29</td>\n",
              "    </tr>\n",
              "  </tbody>\n",
              "</table>\n",
              "<p>2465 rows × 5 columns</p>\n",
              "</div>"
            ],
            "text/plain": [
              "                          Hàng hóa        YOY     MOM    YTD-YOY       Date\n",
              "0             CHỈ SỐ GIÁ TIÊU DÙNG   4.403009  0.0731   3.929284 2024-04-29\n",
              "1       Hàng ăn và dịch vụ ăn uống   4.319937 -0.1261   3.724588 2024-04-29\n",
              "2                       Lương thực  15.454808 -0.6302  16.242777 2024-04-29\n",
              "3                        Thực phẩm   2.490112 -0.1757   1.551026 2024-04-29\n",
              "4           Ăn uống ngoài gia đình   4.373174  0.2126   4.116799 2024-04-29\n",
              "...                            ...        ...     ...        ...        ...\n",
              "2460              Dịch vụ giáo dục  12.450000  0.0000  12.450000 2014-01-29\n",
              "2461  Văn hoá, giải trí và du lịch   2.900000  0.2100   2.900000 2014-01-29\n",
              "2462      Hàng hóa và dịch vụ khác   4.910000  0.6300   4.910000 2014-01-29\n",
              "2463               CHỈ SỐ GIÁ VÀNG -24.430000 -1.8200 -24.430000 2014-01-29\n",
              "2464           CHỈ SỐ GIÁ ĐÔ LA MỸ   1.110000 -0.0600   1.110000 2014-01-29\n",
              "\n",
              "[2465 rows x 5 columns]"
            ]
          },
          "execution_count": 7,
          "metadata": {},
          "output_type": "execute_result"
        }
      ],
      "source": [
        "convert_hh = {\n",
        "    \"CHỈ SỐ GIÁ TIÊU DÙNG\": \"CHỈ SỐ GIÁ TIÊU DÙNG\",\n",
        "    \"Hàng ăn và dịch vụ ăn uống\": \"Hàng ăn và dịch vụ ăn uống\",\n",
        "    \"Lương thực\": \"Lương thực\",\n",
        "    \"Thực phẩm\": \"Thực phẩm\",\n",
        "    \"Ăn uống ngoài gia đình\": \"Ăn uống ngoài gia đình\",\n",
        "    \"Đồ uống và thuốc lá\": \"Đồ uống và thuốc lá\",\n",
        "    \"May mặc, mũ nón và giày dép\": \"May mặc, mũ nón và giày dép\",\n",
        "    \"Nhà ở và vật liệu xây dựng\": \"Nhà ở và vật liệu xây dựng\",\n",
        "    \"Thiết bị và đồ dùng gia đình\": \"Thiết bị và đồ dùng gia đình\",\n",
        "    \"Thuốc và dịch vụ y tế\": \"Thuốc và dịch vụ y tế\",\n",
        "    \"Dịch vụ y tế\": \"Dịch vụ y tế\",\n",
        "    \"Giao thông\": \"Giao thông\",\n",
        "    \"Bưu chính viễn thông\": \"Bưu chính viễn thông\",\n",
        "    \"Giáo dục\": \"Giáo dục\",\n",
        "    \"Dịch vụ giáo dục\": \"Dịch vụ giáo dục\",\n",
        "    \"Văn hoá, giải trí và du lịch\": \"Văn hoá, giải trí và du lịch\",\n",
        "    \"Hàng hóa và dịch vụ khác\": \"Hàng hóa và dịch vụ khác\",\n",
        "    \"CHỈ SỐ GIÁ VÀNG\": \"CHỈ SỐ GIÁ VÀNG\",\n",
        "    \"CHỈ SỐ GIÁ ĐÔ LA MỸ\": \"CHỈ SỐ GIÁ ĐÔ LA MỸ\",\n",
        "    \"LẠM PHÁT CƠ BẢN\": \"LẠM PHÁT CƠ BẢN\",\n",
        "    \"May mặc, giày dép và mũ nón\": \"May mặc, mũ nón và giày dép\",\n",
        "    \"Đồ dùng và dịch vụ khác\": \"Hàng hóa và dịch vụ khác\",\n",
        "    \"May mặc, mũ nón và giày dép \": \"May mặc, mũ nón và giày dép\",\n",
        "    \"LẠM PHÁT CƠ BẢN(*)\": \"LẠM PHÁT CƠ BẢN\",\n",
        "}\n",
        "\n",
        "dfs_cpi[\"Hàng hóa\"] = dfs_cpi[\"Hàng hóa\"].map(convert_hh)\n",
        "dfs_cpi"
      ]
    },
    {
      "cell_type": "code",
      "execution_count": 8,
      "metadata": {},
      "outputs": [],
      "source": [
        "dfs_cpi.loc[dfs_cpi[\"Hàng hóa\"].str.contains(\"LẠM PHÁT CƠ BẢN\"), \"YOY\"] = (\n",
        "    dfs_cpi.loc[dfs_cpi[\"Hàng hóa\"].str.contains(\"LẠM PHÁT CƠ BẢN\"), \"YOY\"] + 100\n",
        ")\n",
        "dfs_cpi.loc[dfs_cpi[\"Hàng hóa\"].str.contains(\"LẠM PHÁT CƠ BẢN\"), \"MOM\"] = (\n",
        "    dfs_cpi.loc[dfs_cpi[\"Hàng hóa\"].str.contains(\"LẠM PHÁT CƠ BẢN\"), \"MOM\"] + 100\n",
        ")\n",
        "dfs_cpi.loc[dfs_cpi[\"Hàng hóa\"].str.contains(\"LẠM PHÁT CƠ BẢN\"), \"YTD-YOY\"] = (\n",
        "    dfs_cpi.loc[dfs_cpi[\"Hàng hóa\"].str.contains(\"LẠM PHÁT CƠ BẢN\"), \"YTD-YOY\"] + 100\n",
        ")"
      ]
    },
    {
      "cell_type": "code",
      "execution_count": 9,
      "metadata": {},
      "outputs": [],
      "source": [
        "dfs_cpi.to_csv(\"../csv/cpi.csv\")"
      ]
    },
    {
      "cell_type": "code",
      "execution_count": 10,
      "metadata": {},
      "outputs": [
        {
          "data": {
            "application/vnd.plotly.v1+json": {
              "config": {
                "plotlyServerURL": "https://plot.ly"
              },
              "data": [
                {
                  "fillpattern": {
                    "shape": ""
                  },
                  "hovertemplate": "Hàng hóa=CHỈ SỐ GIÁ TIÊU DÙNG<br>Date=%{x}<br>YOY=%{y}<extra></extra>",
                  "legendgroup": "CHỈ SỐ GIÁ TIÊU DÙNG",
                  "line": {
                    "color": "#636efa"
                  },
                  "marker": {
                    "symbol": "circle"
                  },
                  "mode": "lines",
                  "name": "CHỈ SỐ GIÁ TIÊU DÙNG",
                  "orientation": "v",
                  "showlegend": true,
                  "stackgroup": "1",
                  "type": "scatter",
                  "x": [
                    "2024-04-29T00:00:00",
                    "2024-03-29T00:00:00",
                    "2024-02-29T00:00:00",
                    "2024-01-29T00:00:00",
                    "2023-12-29T00:00:00",
                    "2023-11-29T00:00:00",
                    "2023-10-29T00:00:00",
                    "2023-09-29T00:00:00",
                    "2023-08-29T00:00:00",
                    "2023-07-29T00:00:00",
                    "2023-06-29T00:00:00",
                    "2023-05-29T00:00:00",
                    "2023-04-29T00:00:00",
                    "2023-03-29T00:00:00",
                    "2023-02-28T00:00:00",
                    "2023-01-29T00:00:00",
                    "2022-12-29T00:00:00",
                    "2022-11-29T00:00:00",
                    "2022-10-29T00:00:00",
                    "2022-09-29T00:00:00",
                    "2022-08-29T00:00:00",
                    "2022-07-29T00:00:00",
                    "2022-06-29T00:00:00",
                    "2022-05-29T00:00:00",
                    "2022-04-29T00:00:00",
                    "2022-03-29T00:00:00",
                    "2022-02-28T00:00:00",
                    "2022-01-29T00:00:00",
                    "2021-12-29T00:00:00",
                    "2021-11-29T00:00:00",
                    "2021-10-29T00:00:00",
                    "2021-09-29T00:00:00",
                    "2021-08-29T00:00:00",
                    "2021-07-29T00:00:00",
                    "2021-06-29T00:00:00",
                    "2021-05-29T00:00:00",
                    "2021-04-29T00:00:00",
                    "2021-03-29T00:00:00",
                    "2021-02-28T00:00:00",
                    "2021-01-29T00:00:00",
                    "2020-12-27T00:00:00",
                    "2020-11-29T00:00:00",
                    "2020-10-29T00:00:00",
                    "2020-09-29T00:00:00",
                    "2020-08-29T00:00:00",
                    "2020-07-29T00:00:00",
                    "2020-06-29T00:00:00",
                    "2020-05-29T00:00:00",
                    "2020-04-29T00:00:00",
                    "2020-03-27T00:00:00",
                    "2020-02-29T00:00:00",
                    "2020-01-29T00:00:00",
                    "2019-12-27T00:00:00",
                    "2019-11-29T00:00:00",
                    "2019-10-29T00:00:00",
                    "2019-09-28T00:00:00",
                    "2019-08-29T00:00:00",
                    "2019-07-29T00:00:00",
                    "2019-06-28T00:00:00",
                    "2019-05-27T00:00:00",
                    "2019-04-29T00:00:00",
                    "2019-03-29T00:00:00",
                    "2019-02-28T00:00:00",
                    "2019-01-29T00:00:00",
                    "2018-12-27T00:00:00",
                    "2018-11-29T00:00:00",
                    "2018-10-29T00:00:00",
                    "2018-09-28T00:00:00",
                    "2018-08-29T00:00:00",
                    "2018-07-27T00:00:00",
                    "2018-06-29T00:00:00",
                    "2018-05-29T00:00:00",
                    "2018-04-27T00:00:00",
                    "2018-03-29T00:00:00",
                    "2018-02-28T00:00:00",
                    "2018-01-29T00:00:00",
                    "2017-12-29T00:00:00",
                    "2017-11-29T00:00:00",
                    "2017-10-27T00:00:00",
                    "2017-09-29T00:00:00",
                    "2017-08-29T00:00:00",
                    "2017-07-28T00:00:00",
                    "2017-06-29T00:00:00",
                    "2017-05-29T00:00:00",
                    "2017-04-28T00:00:00",
                    "2017-03-29T00:00:00",
                    "2017-02-28T00:00:00",
                    "2017-01-27T00:00:00",
                    "2016-12-29T00:00:00",
                    "2016-11-29T00:00:00",
                    "2016-10-28T00:00:00",
                    "2016-09-29T00:00:00",
                    "2016-08-29T00:00:00",
                    "2016-07-29T00:00:00",
                    "2016-06-29T00:00:00",
                    "2016-05-30T00:00:00",
                    "2016-04-29T00:00:00",
                    "2016-03-29T00:00:00",
                    "2016-02-29T00:00:00",
                    "2016-01-29T00:00:00",
                    "2015-12-29T00:00:00",
                    "2015-11-30T00:00:00",
                    "2015-10-29T00:00:00",
                    "2015-09-29T00:00:00",
                    "2015-08-28T00:00:00",
                    "2015-07-29T00:00:00",
                    "2015-06-29T00:00:00",
                    "2015-05-29T00:00:00",
                    "2015-04-29T00:00:00",
                    "2015-03-29T00:00:00",
                    "2015-02-28T00:00:00",
                    "2015-01-29T00:00:00"
                  ],
                  "xaxis": "x",
                  "y": [
                    4.4030087744435065,
                    3.9694268183868076,
                    3.976409010562662,
                    3.371201990716571,
                    3.581010773178761,
                    3.448270050114104,
                    3.5913971298803915,
                    3.656606108291953,
                    2.9574258158239957,
                    2.063294003648622,
                    2.0028412826913495,
                    2.4280760814012723,
                    2.8074412228211685,
                    3.3509953033500324,
                    4.31184970587924,
                    4.886635580211404,
                    4.5488581081517765,
                    4.372043887313296,
                    4.303112125995796,
                    3.9403511154482658,
                    2.8908863403781453,
                    3.14089894356772,
                    3.3742096478545136,
                    2.862910527975842,
                    2.6379764651902207,
                    2.4098224076842314,
                    1.4239792506967746,
                    1.9418317581578322,
                    1.8103747830905235,
                    2.100450266050686,
                    1.7653089518020266,
                    2.060009230939656,
                    2.8199306153697563,
                    2.641876611696574,
                    2.414299027857709,
                    2.895768103231646,
                    2.7020135917351666,
                    1.156167036003069,
                    0.7002495741307797,
                    -0.9712749181259568,
                    0.18703449515842863,
                    1.484325221418075,
                    2.4698208009467066,
                    2.980911119800993,
                    3.1771543753644096,
                    3.3893353086353244,
                    3.1651518900589934,
                    2.3958592825003677,
                    2.931756259153346,
                    4.868552809587044,
                    5.404710909541421,
                    6.427368778051658,
                    5.234548934921975,
                    3.5193334098700007,
                    2.236653624526255,
                    1.9789912899080804,
                    2.2618051316336505,
                    2.4372041438269036,
                    2.1588755189302304,
                    2.8753633614822434,
                    2.932179086623151,
                    2.69996273937754,
                    2.6387279133522696,
                    2.562971959511003,
                    2.9829651482613997,
                    3.4579949214431167,
                    3.8936715334673124,
                    3.980000000000004,
                    3.980000000000004,
                    4.459999999999994,
                    4.670000000000002,
                    3.8599999999999994,
                    2.75,
                    2.6599999999999966,
                    3.1500000000000057,
                    2.6500000000000057,
                    2.5999999999999943,
                    2.6200000000000045,
                    2.9757536961567723,
                    3.4046244885168875,
                    3.354254463436007,
                    2.5197778178611685,
                    2.538518378806458,
                    3.191370231141491,
                    4.299549822648558,
                    4.6453960627804065,
                    5.0229039531354545,
                    5.217162241187083,
                    4.7372475345191845,
                    4.516962565022027,
                    4.089972972663091,
                    3.3448494849174892,
                    2.570763484514771,
                    2.3941123789995373,
                    2.396157643308783,
                    2.279456121376569,
                    1.8900000000000006,
                    1.6899999999999977,
                    1.269999999999996,
                    0.7999999999999972,
                    0.5999999999999943,
                    0.3389076987480024,
                    0,
                    0,
                    0.6099999999999994,
                    0.9000000000000057,
                    1.0018051087605073,
                    0.9500000000000028,
                    0.9899999999999949,
                    0.9300000000000068,
                    0.3366833821732911,
                    0.9399999999999977
                  ],
                  "yaxis": "y"
                },
                {
                  "fillpattern": {
                    "shape": ""
                  },
                  "hovertemplate": "Hàng hóa=LẠM PHÁT CƠ BẢN<br>Date=%{x}<br>YOY=%{y}<extra></extra>",
                  "legendgroup": "LẠM PHÁT CƠ BẢN",
                  "line": {
                    "color": "#EF553B"
                  },
                  "marker": {
                    "symbol": "circle"
                  },
                  "mode": "lines",
                  "name": "LẠM PHÁT CƠ BẢN",
                  "orientation": "v",
                  "showlegend": true,
                  "stackgroup": "1",
                  "type": "scatter",
                  "x": [
                    "2024-04-29T00:00:00",
                    "2024-03-29T00:00:00",
                    "2024-02-29T00:00:00",
                    "2024-01-29T00:00:00",
                    "2023-12-29T00:00:00",
                    "2023-11-29T00:00:00",
                    "2023-10-29T00:00:00",
                    "2023-09-29T00:00:00",
                    "2023-08-29T00:00:00",
                    "2023-07-29T00:00:00",
                    "2023-06-29T00:00:00",
                    "2023-05-29T00:00:00",
                    "2023-04-29T00:00:00",
                    "2023-03-29T00:00:00",
                    "2023-02-28T00:00:00",
                    "2023-01-29T00:00:00",
                    "2022-12-29T00:00:00",
                    "2022-11-29T00:00:00",
                    "2022-10-29T00:00:00",
                    "2022-09-29T00:00:00",
                    "2022-08-29T00:00:00",
                    "2022-07-29T00:00:00",
                    "2022-06-29T00:00:00",
                    "2022-05-29T00:00:00",
                    "2022-04-29T00:00:00",
                    "2022-03-29T00:00:00",
                    "2022-02-28T00:00:00",
                    "2022-01-29T00:00:00",
                    "2021-12-29T00:00:00",
                    "2021-11-29T00:00:00",
                    "2021-10-29T00:00:00",
                    "2021-09-29T00:00:00",
                    "2021-08-29T00:00:00",
                    "2021-07-29T00:00:00",
                    "2021-06-29T00:00:00",
                    "2021-05-29T00:00:00",
                    "2021-04-29T00:00:00",
                    "2021-03-29T00:00:00",
                    "2021-02-28T00:00:00",
                    "2021-01-29T00:00:00",
                    "2020-12-27T00:00:00",
                    "2020-11-29T00:00:00",
                    "2020-10-29T00:00:00",
                    "2020-09-29T00:00:00",
                    "2020-08-29T00:00:00",
                    "2020-07-29T00:00:00",
                    "2020-06-29T00:00:00",
                    "2020-05-29T00:00:00",
                    "2020-04-29T00:00:00",
                    "2020-03-27T00:00:00",
                    "2020-02-29T00:00:00",
                    "2020-01-29T00:00:00",
                    "2019-12-27T00:00:00",
                    "2019-11-29T00:00:00",
                    "2019-10-29T00:00:00",
                    "2019-09-28T00:00:00",
                    "2019-08-29T00:00:00",
                    "2019-07-29T00:00:00",
                    "2019-06-28T00:00:00",
                    "2019-05-27T00:00:00",
                    "2019-04-29T00:00:00",
                    "2019-03-29T00:00:00",
                    "2019-02-28T00:00:00",
                    "2019-01-29T00:00:00",
                    "2018-12-27T00:00:00",
                    "2018-11-29T00:00:00",
                    "2018-10-29T00:00:00",
                    "2018-09-28T00:00:00",
                    "2018-08-29T00:00:00",
                    "2018-07-27T00:00:00",
                    "2018-06-29T00:00:00",
                    "2018-05-29T00:00:00",
                    "2018-04-27T00:00:00",
                    "2018-03-29T00:00:00",
                    "2018-02-28T00:00:00",
                    "2018-01-29T00:00:00",
                    "2017-12-29T00:00:00",
                    "2017-11-29T00:00:00",
                    "2017-10-27T00:00:00",
                    "2017-09-29T00:00:00",
                    "2017-08-29T00:00:00",
                    "2017-07-28T00:00:00",
                    "2017-06-29T00:00:00",
                    "2017-05-29T00:00:00",
                    "2017-04-28T00:00:00",
                    "2017-03-29T00:00:00",
                    "2017-02-28T00:00:00",
                    "2017-01-27T00:00:00",
                    "2016-12-29T00:00:00",
                    "2016-11-29T00:00:00",
                    "2016-10-28T00:00:00",
                    "2016-09-29T00:00:00",
                    "2016-08-29T00:00:00",
                    "2016-07-29T00:00:00",
                    "2016-06-29T00:00:00",
                    "2016-05-30T00:00:00",
                    "2016-04-29T00:00:00",
                    "2016-03-29T00:00:00",
                    "2016-02-29T00:00:00",
                    "2016-01-29T00:00:00",
                    "2015-12-29T00:00:00",
                    "2015-11-30T00:00:00",
                    "2015-10-29T00:00:00",
                    "2015-09-29T00:00:00",
                    "2015-08-28T00:00:00",
                    "2015-07-29T00:00:00",
                    "2015-06-29T00:00:00",
                    "2015-03-29T00:00:00",
                    "2015-01-29T00:00:00"
                  ],
                  "xaxis": "x",
                  "y": [
                    2.7941150658019893,
                    2.760884005880257,
                    2.956375814604044,
                    2.719999999999999,
                    2.980000000000004,
                    3.1500000000000057,
                    3.428733354272069,
                    3.803663574921032,
                    4.0210104891085905,
                    4.109729781537027,
                    4.329999999999998,
                    4.540000000000006,
                    4.560000000000002,
                    4.87999914029902,
                    4.957385198216784,
                    5.205370147341085,
                    4.989999999999995,
                    4.805018000000004,
                    4.469999999999999,
                    3.823341897269742,
                    3.0638376621951977,
                    2.6289653518277873,
                    1.980000000000004,
                    1.6099999999999994,
                    1.4699999999999989,
                    1.0910502396648525,
                    0.6764798446099434,
                    0.6605682417216059,
                    0.6700000000000017,
                    0.5799999999999983,
                    0.5,
                    0.7366290871253796,
                    0.9770335969686386,
                    0.9869309022126487,
                    1.1400000000000006,
                    1.1299999999999955,
                    0.9500000000000028,
                    0.7320584039380833,
                    0.7939319541711285,
                    0.491123642603867,
                    0.9899999999999949,
                    1.6099999999999994,
                    1.8792676382130935,
                    1.9698648572423139,
                    2.1582867189257513,
                    2.3100000000000023,
                    2.450000000000003,
                    2.5446985643234825,
                    2.7099999999999937,
                    2.952667198177437,
                    2.943732647307101,
                    3.2543338579306607,
                    2.780000000000001,
                    2.1823754325511544,
                    1.9916034363977104,
                    1.9599999999999937,
                    1.9500000000000028,
                    2.0400000000000063,
                    1.9599999999999937,
                    1.9000000000000057,
                    1.8799999999999955,
                    1.841057771419699,
                    1.8199999999999932,
                    1.8299999999999983,
                    1.7000000000000028,
                    1.7199999999999989,
                    1.6700000000000017,
                    1.6099999999999994,
                    1.5400000000000063,
                    1.4099999999999966,
                    1.3700000000000045,
                    1.3700000000000045,
                    1.3299999999999983,
                    1.3799999999999955,
                    1.4699999999999989,
                    1.1800000000000068,
                    1.2900000000000063,
                    1.2800000000000011,
                    1.3199999999999932,
                    1.3199999999999932,
                    1.3100000000000023,
                    1.2999999999999972,
                    1.2900000000000063,
                    1.3299999999999983,
                    1.5,
                    1.5999999999999943,
                    1.5100000000000051,
                    1.8799999999999955,
                    1.8700000000000045,
                    1.8700000000000045,
                    1.8599999999999994,
                    1.8499999999999943,
                    1.8299999999999983,
                    1.8499999999999943,
                    1.8799999999999955,
                    1.8700000000000045,
                    1.7600000000000051,
                    1.6400000000000006,
                    1.9300000000000068,
                    1.7199999999999989,
                    1.6899999999999977,
                    1.7199999999999989,
                    1.8199999999999932,
                    1.8700000000000045,
                    1.980000000000004,
                    2.0400000000000063,
                    2.010000000000005,
                    2.3499999999999943,
                    2.519999999999996
                  ],
                  "yaxis": "y"
                }
              ],
              "layout": {
                "legend": {
                  "title": {
                    "text": "Hàng hóa"
                  },
                  "tracegroupgap": 0
                },
                "margin": {
                  "t": 60
                },
                "template": {
                  "data": {
                    "bar": [
                      {
                        "error_x": {
                          "color": "#2a3f5f"
                        },
                        "error_y": {
                          "color": "#2a3f5f"
                        },
                        "marker": {
                          "line": {
                            "color": "#E5ECF6",
                            "width": 0.5
                          },
                          "pattern": {
                            "fillmode": "overlay",
                            "size": 10,
                            "solidity": 0.2
                          }
                        },
                        "type": "bar"
                      }
                    ],
                    "barpolar": [
                      {
                        "marker": {
                          "line": {
                            "color": "#E5ECF6",
                            "width": 0.5
                          },
                          "pattern": {
                            "fillmode": "overlay",
                            "size": 10,
                            "solidity": 0.2
                          }
                        },
                        "type": "barpolar"
                      }
                    ],
                    "carpet": [
                      {
                        "aaxis": {
                          "endlinecolor": "#2a3f5f",
                          "gridcolor": "white",
                          "linecolor": "white",
                          "minorgridcolor": "white",
                          "startlinecolor": "#2a3f5f"
                        },
                        "baxis": {
                          "endlinecolor": "#2a3f5f",
                          "gridcolor": "white",
                          "linecolor": "white",
                          "minorgridcolor": "white",
                          "startlinecolor": "#2a3f5f"
                        },
                        "type": "carpet"
                      }
                    ],
                    "choropleth": [
                      {
                        "colorbar": {
                          "outlinewidth": 0,
                          "ticks": ""
                        },
                        "type": "choropleth"
                      }
                    ],
                    "contour": [
                      {
                        "colorbar": {
                          "outlinewidth": 0,
                          "ticks": ""
                        },
                        "colorscale": [
                          [
                            0,
                            "#0d0887"
                          ],
                          [
                            0.1111111111111111,
                            "#46039f"
                          ],
                          [
                            0.2222222222222222,
                            "#7201a8"
                          ],
                          [
                            0.3333333333333333,
                            "#9c179e"
                          ],
                          [
                            0.4444444444444444,
                            "#bd3786"
                          ],
                          [
                            0.5555555555555556,
                            "#d8576b"
                          ],
                          [
                            0.6666666666666666,
                            "#ed7953"
                          ],
                          [
                            0.7777777777777778,
                            "#fb9f3a"
                          ],
                          [
                            0.8888888888888888,
                            "#fdca26"
                          ],
                          [
                            1,
                            "#f0f921"
                          ]
                        ],
                        "type": "contour"
                      }
                    ],
                    "contourcarpet": [
                      {
                        "colorbar": {
                          "outlinewidth": 0,
                          "ticks": ""
                        },
                        "type": "contourcarpet"
                      }
                    ],
                    "heatmap": [
                      {
                        "colorbar": {
                          "outlinewidth": 0,
                          "ticks": ""
                        },
                        "colorscale": [
                          [
                            0,
                            "#0d0887"
                          ],
                          [
                            0.1111111111111111,
                            "#46039f"
                          ],
                          [
                            0.2222222222222222,
                            "#7201a8"
                          ],
                          [
                            0.3333333333333333,
                            "#9c179e"
                          ],
                          [
                            0.4444444444444444,
                            "#bd3786"
                          ],
                          [
                            0.5555555555555556,
                            "#d8576b"
                          ],
                          [
                            0.6666666666666666,
                            "#ed7953"
                          ],
                          [
                            0.7777777777777778,
                            "#fb9f3a"
                          ],
                          [
                            0.8888888888888888,
                            "#fdca26"
                          ],
                          [
                            1,
                            "#f0f921"
                          ]
                        ],
                        "type": "heatmap"
                      }
                    ],
                    "heatmapgl": [
                      {
                        "colorbar": {
                          "outlinewidth": 0,
                          "ticks": ""
                        },
                        "colorscale": [
                          [
                            0,
                            "#0d0887"
                          ],
                          [
                            0.1111111111111111,
                            "#46039f"
                          ],
                          [
                            0.2222222222222222,
                            "#7201a8"
                          ],
                          [
                            0.3333333333333333,
                            "#9c179e"
                          ],
                          [
                            0.4444444444444444,
                            "#bd3786"
                          ],
                          [
                            0.5555555555555556,
                            "#d8576b"
                          ],
                          [
                            0.6666666666666666,
                            "#ed7953"
                          ],
                          [
                            0.7777777777777778,
                            "#fb9f3a"
                          ],
                          [
                            0.8888888888888888,
                            "#fdca26"
                          ],
                          [
                            1,
                            "#f0f921"
                          ]
                        ],
                        "type": "heatmapgl"
                      }
                    ],
                    "histogram": [
                      {
                        "marker": {
                          "pattern": {
                            "fillmode": "overlay",
                            "size": 10,
                            "solidity": 0.2
                          }
                        },
                        "type": "histogram"
                      }
                    ],
                    "histogram2d": [
                      {
                        "colorbar": {
                          "outlinewidth": 0,
                          "ticks": ""
                        },
                        "colorscale": [
                          [
                            0,
                            "#0d0887"
                          ],
                          [
                            0.1111111111111111,
                            "#46039f"
                          ],
                          [
                            0.2222222222222222,
                            "#7201a8"
                          ],
                          [
                            0.3333333333333333,
                            "#9c179e"
                          ],
                          [
                            0.4444444444444444,
                            "#bd3786"
                          ],
                          [
                            0.5555555555555556,
                            "#d8576b"
                          ],
                          [
                            0.6666666666666666,
                            "#ed7953"
                          ],
                          [
                            0.7777777777777778,
                            "#fb9f3a"
                          ],
                          [
                            0.8888888888888888,
                            "#fdca26"
                          ],
                          [
                            1,
                            "#f0f921"
                          ]
                        ],
                        "type": "histogram2d"
                      }
                    ],
                    "histogram2dcontour": [
                      {
                        "colorbar": {
                          "outlinewidth": 0,
                          "ticks": ""
                        },
                        "colorscale": [
                          [
                            0,
                            "#0d0887"
                          ],
                          [
                            0.1111111111111111,
                            "#46039f"
                          ],
                          [
                            0.2222222222222222,
                            "#7201a8"
                          ],
                          [
                            0.3333333333333333,
                            "#9c179e"
                          ],
                          [
                            0.4444444444444444,
                            "#bd3786"
                          ],
                          [
                            0.5555555555555556,
                            "#d8576b"
                          ],
                          [
                            0.6666666666666666,
                            "#ed7953"
                          ],
                          [
                            0.7777777777777778,
                            "#fb9f3a"
                          ],
                          [
                            0.8888888888888888,
                            "#fdca26"
                          ],
                          [
                            1,
                            "#f0f921"
                          ]
                        ],
                        "type": "histogram2dcontour"
                      }
                    ],
                    "mesh3d": [
                      {
                        "colorbar": {
                          "outlinewidth": 0,
                          "ticks": ""
                        },
                        "type": "mesh3d"
                      }
                    ],
                    "parcoords": [
                      {
                        "line": {
                          "colorbar": {
                            "outlinewidth": 0,
                            "ticks": ""
                          }
                        },
                        "type": "parcoords"
                      }
                    ],
                    "pie": [
                      {
                        "automargin": true,
                        "type": "pie"
                      }
                    ],
                    "scatter": [
                      {
                        "fillpattern": {
                          "fillmode": "overlay",
                          "size": 10,
                          "solidity": 0.2
                        },
                        "type": "scatter"
                      }
                    ],
                    "scatter3d": [
                      {
                        "line": {
                          "colorbar": {
                            "outlinewidth": 0,
                            "ticks": ""
                          }
                        },
                        "marker": {
                          "colorbar": {
                            "outlinewidth": 0,
                            "ticks": ""
                          }
                        },
                        "type": "scatter3d"
                      }
                    ],
                    "scattercarpet": [
                      {
                        "marker": {
                          "colorbar": {
                            "outlinewidth": 0,
                            "ticks": ""
                          }
                        },
                        "type": "scattercarpet"
                      }
                    ],
                    "scattergeo": [
                      {
                        "marker": {
                          "colorbar": {
                            "outlinewidth": 0,
                            "ticks": ""
                          }
                        },
                        "type": "scattergeo"
                      }
                    ],
                    "scattergl": [
                      {
                        "marker": {
                          "colorbar": {
                            "outlinewidth": 0,
                            "ticks": ""
                          }
                        },
                        "type": "scattergl"
                      }
                    ],
                    "scattermapbox": [
                      {
                        "marker": {
                          "colorbar": {
                            "outlinewidth": 0,
                            "ticks": ""
                          }
                        },
                        "type": "scattermapbox"
                      }
                    ],
                    "scatterpolar": [
                      {
                        "marker": {
                          "colorbar": {
                            "outlinewidth": 0,
                            "ticks": ""
                          }
                        },
                        "type": "scatterpolar"
                      }
                    ],
                    "scatterpolargl": [
                      {
                        "marker": {
                          "colorbar": {
                            "outlinewidth": 0,
                            "ticks": ""
                          }
                        },
                        "type": "scatterpolargl"
                      }
                    ],
                    "scatterternary": [
                      {
                        "marker": {
                          "colorbar": {
                            "outlinewidth": 0,
                            "ticks": ""
                          }
                        },
                        "type": "scatterternary"
                      }
                    ],
                    "surface": [
                      {
                        "colorbar": {
                          "outlinewidth": 0,
                          "ticks": ""
                        },
                        "colorscale": [
                          [
                            0,
                            "#0d0887"
                          ],
                          [
                            0.1111111111111111,
                            "#46039f"
                          ],
                          [
                            0.2222222222222222,
                            "#7201a8"
                          ],
                          [
                            0.3333333333333333,
                            "#9c179e"
                          ],
                          [
                            0.4444444444444444,
                            "#bd3786"
                          ],
                          [
                            0.5555555555555556,
                            "#d8576b"
                          ],
                          [
                            0.6666666666666666,
                            "#ed7953"
                          ],
                          [
                            0.7777777777777778,
                            "#fb9f3a"
                          ],
                          [
                            0.8888888888888888,
                            "#fdca26"
                          ],
                          [
                            1,
                            "#f0f921"
                          ]
                        ],
                        "type": "surface"
                      }
                    ],
                    "table": [
                      {
                        "cells": {
                          "fill": {
                            "color": "#EBF0F8"
                          },
                          "line": {
                            "color": "white"
                          }
                        },
                        "header": {
                          "fill": {
                            "color": "#C8D4E3"
                          },
                          "line": {
                            "color": "white"
                          }
                        },
                        "type": "table"
                      }
                    ]
                  },
                  "layout": {
                    "annotationdefaults": {
                      "arrowcolor": "#2a3f5f",
                      "arrowhead": 0,
                      "arrowwidth": 1
                    },
                    "autotypenumbers": "strict",
                    "coloraxis": {
                      "colorbar": {
                        "outlinewidth": 0,
                        "ticks": ""
                      }
                    },
                    "colorscale": {
                      "diverging": [
                        [
                          0,
                          "#8e0152"
                        ],
                        [
                          0.1,
                          "#c51b7d"
                        ],
                        [
                          0.2,
                          "#de77ae"
                        ],
                        [
                          0.3,
                          "#f1b6da"
                        ],
                        [
                          0.4,
                          "#fde0ef"
                        ],
                        [
                          0.5,
                          "#f7f7f7"
                        ],
                        [
                          0.6,
                          "#e6f5d0"
                        ],
                        [
                          0.7,
                          "#b8e186"
                        ],
                        [
                          0.8,
                          "#7fbc41"
                        ],
                        [
                          0.9,
                          "#4d9221"
                        ],
                        [
                          1,
                          "#276419"
                        ]
                      ],
                      "sequential": [
                        [
                          0,
                          "#0d0887"
                        ],
                        [
                          0.1111111111111111,
                          "#46039f"
                        ],
                        [
                          0.2222222222222222,
                          "#7201a8"
                        ],
                        [
                          0.3333333333333333,
                          "#9c179e"
                        ],
                        [
                          0.4444444444444444,
                          "#bd3786"
                        ],
                        [
                          0.5555555555555556,
                          "#d8576b"
                        ],
                        [
                          0.6666666666666666,
                          "#ed7953"
                        ],
                        [
                          0.7777777777777778,
                          "#fb9f3a"
                        ],
                        [
                          0.8888888888888888,
                          "#fdca26"
                        ],
                        [
                          1,
                          "#f0f921"
                        ]
                      ],
                      "sequentialminus": [
                        [
                          0,
                          "#0d0887"
                        ],
                        [
                          0.1111111111111111,
                          "#46039f"
                        ],
                        [
                          0.2222222222222222,
                          "#7201a8"
                        ],
                        [
                          0.3333333333333333,
                          "#9c179e"
                        ],
                        [
                          0.4444444444444444,
                          "#bd3786"
                        ],
                        [
                          0.5555555555555556,
                          "#d8576b"
                        ],
                        [
                          0.6666666666666666,
                          "#ed7953"
                        ],
                        [
                          0.7777777777777778,
                          "#fb9f3a"
                        ],
                        [
                          0.8888888888888888,
                          "#fdca26"
                        ],
                        [
                          1,
                          "#f0f921"
                        ]
                      ]
                    },
                    "colorway": [
                      "#636efa",
                      "#EF553B",
                      "#00cc96",
                      "#ab63fa",
                      "#FFA15A",
                      "#19d3f3",
                      "#FF6692",
                      "#B6E880",
                      "#FF97FF",
                      "#FECB52"
                    ],
                    "font": {
                      "color": "#2a3f5f"
                    },
                    "geo": {
                      "bgcolor": "white",
                      "lakecolor": "white",
                      "landcolor": "#E5ECF6",
                      "showlakes": true,
                      "showland": true,
                      "subunitcolor": "white"
                    },
                    "hoverlabel": {
                      "align": "left"
                    },
                    "hovermode": "closest",
                    "mapbox": {
                      "style": "light"
                    },
                    "paper_bgcolor": "white",
                    "plot_bgcolor": "#E5ECF6",
                    "polar": {
                      "angularaxis": {
                        "gridcolor": "white",
                        "linecolor": "white",
                        "ticks": ""
                      },
                      "bgcolor": "#E5ECF6",
                      "radialaxis": {
                        "gridcolor": "white",
                        "linecolor": "white",
                        "ticks": ""
                      }
                    },
                    "scene": {
                      "xaxis": {
                        "backgroundcolor": "#E5ECF6",
                        "gridcolor": "white",
                        "gridwidth": 2,
                        "linecolor": "white",
                        "showbackground": true,
                        "ticks": "",
                        "zerolinecolor": "white"
                      },
                      "yaxis": {
                        "backgroundcolor": "#E5ECF6",
                        "gridcolor": "white",
                        "gridwidth": 2,
                        "linecolor": "white",
                        "showbackground": true,
                        "ticks": "",
                        "zerolinecolor": "white"
                      },
                      "zaxis": {
                        "backgroundcolor": "#E5ECF6",
                        "gridcolor": "white",
                        "gridwidth": 2,
                        "linecolor": "white",
                        "showbackground": true,
                        "ticks": "",
                        "zerolinecolor": "white"
                      }
                    },
                    "shapedefaults": {
                      "line": {
                        "color": "#2a3f5f"
                      }
                    },
                    "ternary": {
                      "aaxis": {
                        "gridcolor": "white",
                        "linecolor": "white",
                        "ticks": ""
                      },
                      "baxis": {
                        "gridcolor": "white",
                        "linecolor": "white",
                        "ticks": ""
                      },
                      "bgcolor": "#E5ECF6",
                      "caxis": {
                        "gridcolor": "white",
                        "linecolor": "white",
                        "ticks": ""
                      }
                    },
                    "title": {
                      "x": 0.05
                    },
                    "xaxis": {
                      "automargin": true,
                      "gridcolor": "white",
                      "linecolor": "white",
                      "ticks": "",
                      "title": {
                        "standoff": 15
                      },
                      "zerolinecolor": "white",
                      "zerolinewidth": 2
                    },
                    "yaxis": {
                      "automargin": true,
                      "gridcolor": "white",
                      "linecolor": "white",
                      "ticks": "",
                      "title": {
                        "standoff": 15
                      },
                      "zerolinecolor": "white",
                      "zerolinewidth": 2
                    }
                  }
                },
                "xaxis": {
                  "anchor": "y",
                  "domain": [
                    0,
                    1
                  ],
                  "rangeselector": {
                    "buttons": [
                      {
                        "count": 1,
                        "label": "YTD",
                        "step": "year",
                        "stepmode": "todate"
                      },
                      {
                        "count": 1,
                        "label": "1y",
                        "step": "year",
                        "stepmode": "backward"
                      },
                      {
                        "count": 3,
                        "label": "3y",
                        "step": "year",
                        "stepmode": "backward"
                      },
                      {
                        "count": 5,
                        "label": "5y",
                        "step": "year",
                        "stepmode": "backward"
                      },
                      {
                        "count": 7,
                        "label": "7y",
                        "step": "year",
                        "stepmode": "backward"
                      },
                      {
                        "count": 10,
                        "label": "10y",
                        "step": "year",
                        "stepmode": "backward"
                      },
                      {
                        "step": "all"
                      }
                    ]
                  },
                  "rangeslider": {
                    "visible": true
                  },
                  "title": {
                    "text": "Date"
                  }
                },
                "yaxis": {
                  "anchor": "x",
                  "domain": [
                    0,
                    1
                  ],
                  "title": {
                    "text": "YOY"
                  }
                }
              }
            }
          },
          "metadata": {},
          "output_type": "display_data"
        }
      ],
      "source": [
        "import pandas as pd\n",
        "import plotly.express as px\n",
        "import plotly.graph_objects as go\n",
        "\n",
        "df_show = dfs_cpi[\n",
        "    (\n",
        "        (dfs_cpi[\"Hàng hóa\"] == \"CHỈ SỐ GIÁ TIÊU DÙNG\")\n",
        "        | (dfs_cpi[\"Hàng hóa\"] == \"LẠM PHÁT CƠ BẢN\")\n",
        "    )\n",
        "    & (dfs_cpi[\"Date\"] > \"2015-01-01\")\n",
        "]\n",
        "\n",
        "fig = px.area(df_show, x=\"Date\", y=\"YOY\", color=\"Hàng hóa\")\n",
        "\n",
        "fig.update_xaxes(\n",
        "    rangeslider_visible=True,\n",
        "    rangeselector=dict(\n",
        "        buttons=[\n",
        "            dict(count=1, label=\"YTD\", step=\"year\", stepmode=\"todate\"),\n",
        "            dict(count=1, label=\"1y\", step=\"year\", stepmode=\"backward\"),\n",
        "            dict(count=3, label=\"3y\", step=\"year\", stepmode=\"backward\"),\n",
        "            dict(count=5, label=\"5y\", step=\"year\", stepmode=\"backward\"),\n",
        "            dict(count=7, label=\"7y\", step=\"year\", stepmode=\"backward\"),\n",
        "            dict(count=10, label=\"10y\", step=\"year\", stepmode=\"backward\"),\n",
        "            dict(step=\"all\"),\n",
        "        ]\n",
        "    ),\n",
        ")\n",
        "\n",
        "fig.show()"
      ]
    },
    {
      "cell_type": "code",
      "execution_count": 11,
      "metadata": {},
      "outputs": [
        {
          "data": {
            "application/vnd.plotly.v1+json": {
              "config": {
                "plotlyServerURL": "https://plot.ly"
              },
              "data": [
                {
                  "fillpattern": {
                    "shape": ""
                  },
                  "hovertemplate": "Hàng hóa=Lương thực<br>Date=%{x}<br>YOY=%{y}<extra></extra>",
                  "legendgroup": "Lương thực",
                  "line": {
                    "color": "#636efa"
                  },
                  "marker": {
                    "symbol": "circle"
                  },
                  "mode": "lines",
                  "name": "Lương thực",
                  "orientation": "v",
                  "showlegend": true,
                  "stackgroup": "1",
                  "type": "scatter",
                  "x": [
                    "2024-04-29T00:00:00",
                    "2024-03-29T00:00:00",
                    "2024-02-29T00:00:00",
                    "2024-01-29T00:00:00",
                    "2023-12-29T00:00:00",
                    "2023-11-29T00:00:00",
                    "2023-10-29T00:00:00",
                    "2023-09-29T00:00:00",
                    "2023-08-29T00:00:00",
                    "2023-07-29T00:00:00",
                    "2023-06-29T00:00:00",
                    "2023-05-29T00:00:00",
                    "2023-04-29T00:00:00",
                    "2023-03-29T00:00:00",
                    "2023-02-28T00:00:00",
                    "2023-01-29T00:00:00",
                    "2022-12-29T00:00:00",
                    "2022-11-29T00:00:00",
                    "2022-10-29T00:00:00",
                    "2022-09-29T00:00:00",
                    "2022-08-29T00:00:00",
                    "2022-07-29T00:00:00",
                    "2022-06-29T00:00:00",
                    "2022-05-29T00:00:00",
                    "2022-04-29T00:00:00",
                    "2022-03-29T00:00:00",
                    "2022-02-28T00:00:00",
                    "2022-01-29T00:00:00",
                    "2021-12-29T00:00:00",
                    "2021-11-29T00:00:00",
                    "2021-10-29T00:00:00",
                    "2021-09-29T00:00:00",
                    "2021-08-29T00:00:00",
                    "2021-07-29T00:00:00",
                    "2021-06-29T00:00:00",
                    "2021-05-29T00:00:00",
                    "2021-04-29T00:00:00",
                    "2021-03-29T00:00:00",
                    "2021-02-28T00:00:00",
                    "2021-01-29T00:00:00"
                  ],
                  "xaxis": "x",
                  "y": [
                    15.454808304026685,
                    16.537903694185616,
                    17.35557844917078,
                    15.632773478423829,
                    14.664314883700897,
                    13.242748394133812,
                    11.341819388595866,
                    10.489818909410161,
                    6.987904423448327,
                    3.789190713159769,
                    3.7841208405379376,
                    3.852141393127013,
                    3.8449959883561036,
                    3.7521274898201256,
                    3.6413191139226484,
                    3.735599111560603,
                    2.909930881901218,
                    2.78508766762684,
                    2.4068170136236375,
                    2.1001941600921725,
                    2.3093649867865764,
                    2.8160431269716355,
                    2.8714965307140403,
                    2.424396617679747,
                    2.050462308712909,
                    1.8218443766994739,
                    1.6558561325182808,
                    3.096914536516678,
                    3.8621741050135228,
                    3.9368921899678924,
                    4.314177407856505,
                    4.663603982537111,
                    5.094185474432123,
                    4.9995180640039365,
                    4.407671173895395,
                    4.282241084740491,
                    4.29497467277595,
                    6.48522776183178,
                    7.6354784035318914,
                    6.101684576118458
                  ],
                  "yaxis": "y"
                },
                {
                  "fillpattern": {
                    "shape": ""
                  },
                  "hovertemplate": "Hàng hóa=Nhà ở và vật liệu xây dựng<br>Date=%{x}<br>YOY=%{y}<extra></extra>",
                  "legendgroup": "Nhà ở và vật liệu xây dựng",
                  "line": {
                    "color": "#EF553B"
                  },
                  "marker": {
                    "symbol": "circle"
                  },
                  "mode": "lines",
                  "name": "Nhà ở và vật liệu xây dựng",
                  "orientation": "v",
                  "showlegend": true,
                  "stackgroup": "1",
                  "type": "scatter",
                  "x": [
                    "2024-04-29T00:00:00",
                    "2024-03-29T00:00:00",
                    "2024-02-29T00:00:00",
                    "2024-01-29T00:00:00",
                    "2023-12-29T00:00:00",
                    "2023-11-29T00:00:00",
                    "2023-10-29T00:00:00",
                    "2023-09-29T00:00:00",
                    "2023-08-29T00:00:00",
                    "2023-07-29T00:00:00",
                    "2023-06-29T00:00:00",
                    "2023-05-29T00:00:00",
                    "2023-04-29T00:00:00",
                    "2023-03-29T00:00:00",
                    "2023-02-28T00:00:00",
                    "2023-01-29T00:00:00",
                    "2022-12-29T00:00:00",
                    "2022-11-29T00:00:00",
                    "2022-10-29T00:00:00",
                    "2022-09-29T00:00:00",
                    "2022-08-29T00:00:00",
                    "2022-07-29T00:00:00",
                    "2022-06-29T00:00:00",
                    "2022-05-29T00:00:00",
                    "2022-04-29T00:00:00",
                    "2022-03-29T00:00:00",
                    "2022-02-28T00:00:00",
                    "2022-01-29T00:00:00",
                    "2021-12-29T00:00:00",
                    "2021-11-29T00:00:00",
                    "2021-10-29T00:00:00",
                    "2021-09-29T00:00:00",
                    "2021-08-29T00:00:00",
                    "2021-07-29T00:00:00",
                    "2021-06-29T00:00:00",
                    "2021-05-29T00:00:00",
                    "2021-04-29T00:00:00",
                    "2021-03-29T00:00:00",
                    "2021-02-28T00:00:00",
                    "2021-01-29T00:00:00"
                  ],
                  "xaxis": "x",
                  "y": [
                    5.968146384197198,
                    4.866431851550914,
                    4.945171473115579,
                    6.385929979879165,
                    5.669074028519063,
                    5.910010303673928,
                    6.880678025585624,
                    7.331368891810186,
                    7.136392892365677,
                    6.511325431087229,
                    6.488648295794761,
                    6.40276932377337,
                    5.1961713638646785,
                    6.684911509964749,
                    7.884416238383054,
                    6.936660920596708,
                    7.140186655745566,
                    5.9592967656612075,
                    5.424102692191937,
                    4.430161925101743,
                    1.3970022711672385,
                    1.133455338774624,
                    1.5278592494303354,
                    2.181688017336157,
                    2.7219128637170513,
                    1.6953729202976717,
                    0.44293377787580823,
                    3.5089780570843203,
                    1.0428039356814196,
                    1.4667522329196316,
                    1.0682029365128614,
                    1.6302902472970686,
                    4.342025462632293,
                    4.44427798901998,
                    4.017528156420596,
                    2.933112089751603,
                    2.782296821742648,
                    0.8226787759343637,
                    0.3329450856951013,
                    -3.552075657388855
                  ],
                  "yaxis": "y"
                },
                {
                  "fillpattern": {
                    "shape": ""
                  },
                  "hovertemplate": "Hàng hóa=Thuốc và dịch vụ y tế<br>Date=%{x}<br>YOY=%{y}<extra></extra>",
                  "legendgroup": "Thuốc và dịch vụ y tế",
                  "line": {
                    "color": "#00cc96"
                  },
                  "marker": {
                    "symbol": "circle"
                  },
                  "mode": "lines",
                  "name": "Thuốc và dịch vụ y tế",
                  "orientation": "v",
                  "showlegend": true,
                  "stackgroup": "1",
                  "type": "scatter",
                  "x": [
                    "2024-04-29T00:00:00",
                    "2024-03-29T00:00:00",
                    "2024-02-29T00:00:00",
                    "2024-01-29T00:00:00",
                    "2023-12-29T00:00:00",
                    "2023-11-29T00:00:00",
                    "2023-10-29T00:00:00",
                    "2023-09-29T00:00:00",
                    "2023-08-29T00:00:00",
                    "2023-07-29T00:00:00",
                    "2023-06-29T00:00:00",
                    "2023-05-29T00:00:00",
                    "2023-04-29T00:00:00",
                    "2023-03-29T00:00:00",
                    "2023-02-28T00:00:00",
                    "2023-01-29T00:00:00",
                    "2022-12-29T00:00:00",
                    "2022-11-29T00:00:00",
                    "2022-10-29T00:00:00",
                    "2022-09-29T00:00:00",
                    "2022-08-29T00:00:00",
                    "2022-07-29T00:00:00",
                    "2022-06-29T00:00:00",
                    "2022-05-29T00:00:00",
                    "2022-04-29T00:00:00",
                    "2022-03-29T00:00:00",
                    "2022-02-28T00:00:00",
                    "2022-01-29T00:00:00",
                    "2021-12-29T00:00:00",
                    "2021-11-29T00:00:00",
                    "2021-10-29T00:00:00",
                    "2021-09-29T00:00:00",
                    "2021-08-29T00:00:00",
                    "2021-07-29T00:00:00",
                    "2021-06-29T00:00:00",
                    "2021-05-29T00:00:00",
                    "2021-04-29T00:00:00",
                    "2021-03-29T00:00:00",
                    "2021-02-28T00:00:00",
                    "2021-01-29T00:00:00"
                  ],
                  "xaxis": "x",
                  "y": [
                    7.436568729476917,
                    6.481763897048893,
                    6.521047928972607,
                    6.519876470395246,
                    5.525925613150889,
                    3.3875971573983747,
                    0.5388987369219507,
                    0.5788031824624795,
                    0.5476442249110249,
                    0.6060449443905611,
                    0.6092627836124365,
                    0.6305890043040989,
                    0.6199261604361084,
                    0.6259619013921878,
                    0.6332028722595595,
                    0.6378309721535089,
                    0.5905662147818163,
                    0.5342800200815532,
                    0.5117744073649817,
                    0.4696866995827662,
                    0.465468436478659,
                    0.3974127378934895,
                    0.37343010730388926,
                    0.3543658280812423,
                    0.33590559057275016,
                    0.3116316078886143,
                    0.26341247689076397,
                    0.2512838544518985,
                    0.2350475465069337,
                    0.22402423766116897,
                    0.18885970613089853,
                    0.17914348544306335,
                    0.1583125770251712,
                    0.16071589105757766,
                    0.15691083404942674,
                    0.15180364874656505,
                    0.18805552025833094,
                    0.21039613854286188,
                    0.24416174084200293,
                    0.35521594708254156
                  ],
                  "yaxis": "y"
                },
                {
                  "fillpattern": {
                    "shape": ""
                  },
                  "hovertemplate": "Hàng hóa=Giao thông<br>Date=%{x}<br>YOY=%{y}<extra></extra>",
                  "legendgroup": "Giao thông",
                  "line": {
                    "color": "#ab63fa"
                  },
                  "marker": {
                    "symbol": "circle"
                  },
                  "mode": "lines",
                  "name": "Giao thông",
                  "orientation": "v",
                  "showlegend": true,
                  "stackgroup": "1",
                  "type": "scatter",
                  "x": [
                    "2024-04-29T00:00:00",
                    "2024-03-29T00:00:00",
                    "2024-02-29T00:00:00",
                    "2024-01-29T00:00:00",
                    "2023-12-29T00:00:00",
                    "2023-11-29T00:00:00",
                    "2023-10-29T00:00:00",
                    "2023-09-29T00:00:00",
                    "2023-08-29T00:00:00",
                    "2023-07-29T00:00:00",
                    "2023-06-29T00:00:00",
                    "2023-05-29T00:00:00",
                    "2023-04-29T00:00:00",
                    "2023-03-29T00:00:00",
                    "2023-02-28T00:00:00",
                    "2023-01-29T00:00:00",
                    "2022-12-29T00:00:00",
                    "2022-11-29T00:00:00",
                    "2022-10-29T00:00:00",
                    "2022-09-29T00:00:00",
                    "2022-08-29T00:00:00",
                    "2022-07-29T00:00:00",
                    "2022-06-29T00:00:00",
                    "2022-05-29T00:00:00",
                    "2022-04-29T00:00:00",
                    "2022-03-29T00:00:00",
                    "2022-02-28T00:00:00",
                    "2022-01-29T00:00:00",
                    "2021-12-29T00:00:00",
                    "2021-11-29T00:00:00",
                    "2021-10-29T00:00:00",
                    "2021-09-29T00:00:00",
                    "2021-08-29T00:00:00",
                    "2021-07-29T00:00:00",
                    "2021-06-29T00:00:00",
                    "2021-05-29T00:00:00",
                    "2021-04-29T00:00:00",
                    "2021-03-29T00:00:00",
                    "2021-02-28T00:00:00",
                    "2021-01-29T00:00:00"
                  ],
                  "xaxis": "x",
                  "y": [
                    4.236104607867006,
                    2.680398314236143,
                    2.551283863497389,
                    1.581124036224523,
                    2.565800934051893,
                    1.6252436067390619,
                    3.9030744483732747,
                    3.2009083240219383,
                    -0.30669975495740687,
                    -9.291428531810425,
                    -11.978399971030257,
                    -8.936814597941591,
                    -3.939759444415401,
                    -4.911081302520515,
                    -0.18346026921449266,
                    0.05212693707126448,
                    -0.15786675665754046,
                    0.9417969625503417,
                    1.8098397778935578,
                    6.679772539092227,
                    8.943456145122369,
                    15.224026007765048,
                    21.410125029255724,
                    18.417995731230704,
                    16.585086815475208,
                    18.294920425868938,
                    15.45502332557814,
                    14.546168471410567,
                    15.80522487149058,
                    20.7092475467672,
                    16.516776190495207,
                    13.58243032063622,
                    13.629185871935803,
                    13.81769880905486,
                    15.539894658461535,
                    21.236836345880334,
                    17.66768506587033,
                    0.47955082874877064,
                    -6.551663087443316,
                    -10.273116485936669
                  ],
                  "yaxis": "y"
                },
                {
                  "fillpattern": {
                    "shape": ""
                  },
                  "hovertemplate": "Hàng hóa=Giáo dục<br>Date=%{x}<br>YOY=%{y}<extra></extra>",
                  "legendgroup": "Giáo dục",
                  "line": {
                    "color": "#FFA15A"
                  },
                  "marker": {
                    "symbol": "circle"
                  },
                  "mode": "lines",
                  "name": "Giáo dục",
                  "orientation": "v",
                  "showlegend": true,
                  "stackgroup": "1",
                  "type": "scatter",
                  "x": [
                    "2024-04-29T00:00:00",
                    "2024-03-29T00:00:00",
                    "2024-02-29T00:00:00",
                    "2024-01-29T00:00:00",
                    "2023-12-29T00:00:00",
                    "2023-11-29T00:00:00",
                    "2023-10-29T00:00:00",
                    "2023-09-29T00:00:00",
                    "2023-08-29T00:00:00",
                    "2023-07-29T00:00:00",
                    "2023-06-29T00:00:00",
                    "2023-05-29T00:00:00",
                    "2023-04-29T00:00:00",
                    "2023-03-29T00:00:00",
                    "2023-02-28T00:00:00",
                    "2023-01-29T00:00:00",
                    "2022-12-29T00:00:00",
                    "2022-11-29T00:00:00",
                    "2022-10-29T00:00:00",
                    "2022-09-29T00:00:00",
                    "2022-08-29T00:00:00",
                    "2022-07-29T00:00:00",
                    "2022-06-29T00:00:00",
                    "2022-05-29T00:00:00",
                    "2022-04-29T00:00:00",
                    "2022-03-29T00:00:00",
                    "2022-02-28T00:00:00",
                    "2022-01-29T00:00:00",
                    "2021-12-29T00:00:00",
                    "2021-11-29T00:00:00",
                    "2021-10-29T00:00:00",
                    "2021-09-29T00:00:00",
                    "2021-08-29T00:00:00",
                    "2021-07-29T00:00:00",
                    "2021-06-29T00:00:00",
                    "2021-05-29T00:00:00",
                    "2021-04-29T00:00:00",
                    "2021-03-29T00:00:00",
                    "2021-02-28T00:00:00",
                    "2021-01-29T00:00:00"
                  ],
                  "xaxis": "x",
                  "y": [
                    8.306050634902661,
                    10.123037859268152,
                    8.554849963430698,
                    8.392849277471086,
                    8.356276634366395,
                    8.23296403958733,
                    7.143442804298459,
                    7.248542821934322,
                    5.0455289620138615,
                    5.57190633403502,
                    5.747627327363318,
                    5.70357778787411,
                    5.983007233073167,
                    8.408821921122978,
                    10.400418308371044,
                    11.598619709168872,
                    11.801261493542015,
                    10.963553020719914,
                    10.638386735886257,
                    8.366065838679162,
                    -0.5729028393127322,
                    -1.9692833950909545,
                    -2.134529262390032,
                    -2.1727696140181365,
                    -2.309008628949371,
                    -3.209877828208164,
                    -3.2957453673293315,
                    -3.7827030549987484,
                    -3.487875464001519,
                    -3.0659472700880457,
                    -2.1635371257109597,
                    -1.0875617693318134,
                    3.9762128460231594,
                    4.1200585301740915,
                    4.112460015061842,
                    4.095702333027489,
                    4.0698941606434005,
                    4.042947441456832,
                    4.080920535102621,
                    4.125675509952643
                  ],
                  "yaxis": "y"
                }
              ],
              "layout": {
                "legend": {
                  "title": {
                    "text": "Hàng hóa"
                  },
                  "tracegroupgap": 0
                },
                "margin": {
                  "t": 60
                },
                "template": {
                  "data": {
                    "bar": [
                      {
                        "error_x": {
                          "color": "#2a3f5f"
                        },
                        "error_y": {
                          "color": "#2a3f5f"
                        },
                        "marker": {
                          "line": {
                            "color": "#E5ECF6",
                            "width": 0.5
                          },
                          "pattern": {
                            "fillmode": "overlay",
                            "size": 10,
                            "solidity": 0.2
                          }
                        },
                        "type": "bar"
                      }
                    ],
                    "barpolar": [
                      {
                        "marker": {
                          "line": {
                            "color": "#E5ECF6",
                            "width": 0.5
                          },
                          "pattern": {
                            "fillmode": "overlay",
                            "size": 10,
                            "solidity": 0.2
                          }
                        },
                        "type": "barpolar"
                      }
                    ],
                    "carpet": [
                      {
                        "aaxis": {
                          "endlinecolor": "#2a3f5f",
                          "gridcolor": "white",
                          "linecolor": "white",
                          "minorgridcolor": "white",
                          "startlinecolor": "#2a3f5f"
                        },
                        "baxis": {
                          "endlinecolor": "#2a3f5f",
                          "gridcolor": "white",
                          "linecolor": "white",
                          "minorgridcolor": "white",
                          "startlinecolor": "#2a3f5f"
                        },
                        "type": "carpet"
                      }
                    ],
                    "choropleth": [
                      {
                        "colorbar": {
                          "outlinewidth": 0,
                          "ticks": ""
                        },
                        "type": "choropleth"
                      }
                    ],
                    "contour": [
                      {
                        "colorbar": {
                          "outlinewidth": 0,
                          "ticks": ""
                        },
                        "colorscale": [
                          [
                            0,
                            "#0d0887"
                          ],
                          [
                            0.1111111111111111,
                            "#46039f"
                          ],
                          [
                            0.2222222222222222,
                            "#7201a8"
                          ],
                          [
                            0.3333333333333333,
                            "#9c179e"
                          ],
                          [
                            0.4444444444444444,
                            "#bd3786"
                          ],
                          [
                            0.5555555555555556,
                            "#d8576b"
                          ],
                          [
                            0.6666666666666666,
                            "#ed7953"
                          ],
                          [
                            0.7777777777777778,
                            "#fb9f3a"
                          ],
                          [
                            0.8888888888888888,
                            "#fdca26"
                          ],
                          [
                            1,
                            "#f0f921"
                          ]
                        ],
                        "type": "contour"
                      }
                    ],
                    "contourcarpet": [
                      {
                        "colorbar": {
                          "outlinewidth": 0,
                          "ticks": ""
                        },
                        "type": "contourcarpet"
                      }
                    ],
                    "heatmap": [
                      {
                        "colorbar": {
                          "outlinewidth": 0,
                          "ticks": ""
                        },
                        "colorscale": [
                          [
                            0,
                            "#0d0887"
                          ],
                          [
                            0.1111111111111111,
                            "#46039f"
                          ],
                          [
                            0.2222222222222222,
                            "#7201a8"
                          ],
                          [
                            0.3333333333333333,
                            "#9c179e"
                          ],
                          [
                            0.4444444444444444,
                            "#bd3786"
                          ],
                          [
                            0.5555555555555556,
                            "#d8576b"
                          ],
                          [
                            0.6666666666666666,
                            "#ed7953"
                          ],
                          [
                            0.7777777777777778,
                            "#fb9f3a"
                          ],
                          [
                            0.8888888888888888,
                            "#fdca26"
                          ],
                          [
                            1,
                            "#f0f921"
                          ]
                        ],
                        "type": "heatmap"
                      }
                    ],
                    "heatmapgl": [
                      {
                        "colorbar": {
                          "outlinewidth": 0,
                          "ticks": ""
                        },
                        "colorscale": [
                          [
                            0,
                            "#0d0887"
                          ],
                          [
                            0.1111111111111111,
                            "#46039f"
                          ],
                          [
                            0.2222222222222222,
                            "#7201a8"
                          ],
                          [
                            0.3333333333333333,
                            "#9c179e"
                          ],
                          [
                            0.4444444444444444,
                            "#bd3786"
                          ],
                          [
                            0.5555555555555556,
                            "#d8576b"
                          ],
                          [
                            0.6666666666666666,
                            "#ed7953"
                          ],
                          [
                            0.7777777777777778,
                            "#fb9f3a"
                          ],
                          [
                            0.8888888888888888,
                            "#fdca26"
                          ],
                          [
                            1,
                            "#f0f921"
                          ]
                        ],
                        "type": "heatmapgl"
                      }
                    ],
                    "histogram": [
                      {
                        "marker": {
                          "pattern": {
                            "fillmode": "overlay",
                            "size": 10,
                            "solidity": 0.2
                          }
                        },
                        "type": "histogram"
                      }
                    ],
                    "histogram2d": [
                      {
                        "colorbar": {
                          "outlinewidth": 0,
                          "ticks": ""
                        },
                        "colorscale": [
                          [
                            0,
                            "#0d0887"
                          ],
                          [
                            0.1111111111111111,
                            "#46039f"
                          ],
                          [
                            0.2222222222222222,
                            "#7201a8"
                          ],
                          [
                            0.3333333333333333,
                            "#9c179e"
                          ],
                          [
                            0.4444444444444444,
                            "#bd3786"
                          ],
                          [
                            0.5555555555555556,
                            "#d8576b"
                          ],
                          [
                            0.6666666666666666,
                            "#ed7953"
                          ],
                          [
                            0.7777777777777778,
                            "#fb9f3a"
                          ],
                          [
                            0.8888888888888888,
                            "#fdca26"
                          ],
                          [
                            1,
                            "#f0f921"
                          ]
                        ],
                        "type": "histogram2d"
                      }
                    ],
                    "histogram2dcontour": [
                      {
                        "colorbar": {
                          "outlinewidth": 0,
                          "ticks": ""
                        },
                        "colorscale": [
                          [
                            0,
                            "#0d0887"
                          ],
                          [
                            0.1111111111111111,
                            "#46039f"
                          ],
                          [
                            0.2222222222222222,
                            "#7201a8"
                          ],
                          [
                            0.3333333333333333,
                            "#9c179e"
                          ],
                          [
                            0.4444444444444444,
                            "#bd3786"
                          ],
                          [
                            0.5555555555555556,
                            "#d8576b"
                          ],
                          [
                            0.6666666666666666,
                            "#ed7953"
                          ],
                          [
                            0.7777777777777778,
                            "#fb9f3a"
                          ],
                          [
                            0.8888888888888888,
                            "#fdca26"
                          ],
                          [
                            1,
                            "#f0f921"
                          ]
                        ],
                        "type": "histogram2dcontour"
                      }
                    ],
                    "mesh3d": [
                      {
                        "colorbar": {
                          "outlinewidth": 0,
                          "ticks": ""
                        },
                        "type": "mesh3d"
                      }
                    ],
                    "parcoords": [
                      {
                        "line": {
                          "colorbar": {
                            "outlinewidth": 0,
                            "ticks": ""
                          }
                        },
                        "type": "parcoords"
                      }
                    ],
                    "pie": [
                      {
                        "automargin": true,
                        "type": "pie"
                      }
                    ],
                    "scatter": [
                      {
                        "fillpattern": {
                          "fillmode": "overlay",
                          "size": 10,
                          "solidity": 0.2
                        },
                        "type": "scatter"
                      }
                    ],
                    "scatter3d": [
                      {
                        "line": {
                          "colorbar": {
                            "outlinewidth": 0,
                            "ticks": ""
                          }
                        },
                        "marker": {
                          "colorbar": {
                            "outlinewidth": 0,
                            "ticks": ""
                          }
                        },
                        "type": "scatter3d"
                      }
                    ],
                    "scattercarpet": [
                      {
                        "marker": {
                          "colorbar": {
                            "outlinewidth": 0,
                            "ticks": ""
                          }
                        },
                        "type": "scattercarpet"
                      }
                    ],
                    "scattergeo": [
                      {
                        "marker": {
                          "colorbar": {
                            "outlinewidth": 0,
                            "ticks": ""
                          }
                        },
                        "type": "scattergeo"
                      }
                    ],
                    "scattergl": [
                      {
                        "marker": {
                          "colorbar": {
                            "outlinewidth": 0,
                            "ticks": ""
                          }
                        },
                        "type": "scattergl"
                      }
                    ],
                    "scattermapbox": [
                      {
                        "marker": {
                          "colorbar": {
                            "outlinewidth": 0,
                            "ticks": ""
                          }
                        },
                        "type": "scattermapbox"
                      }
                    ],
                    "scatterpolar": [
                      {
                        "marker": {
                          "colorbar": {
                            "outlinewidth": 0,
                            "ticks": ""
                          }
                        },
                        "type": "scatterpolar"
                      }
                    ],
                    "scatterpolargl": [
                      {
                        "marker": {
                          "colorbar": {
                            "outlinewidth": 0,
                            "ticks": ""
                          }
                        },
                        "type": "scatterpolargl"
                      }
                    ],
                    "scatterternary": [
                      {
                        "marker": {
                          "colorbar": {
                            "outlinewidth": 0,
                            "ticks": ""
                          }
                        },
                        "type": "scatterternary"
                      }
                    ],
                    "surface": [
                      {
                        "colorbar": {
                          "outlinewidth": 0,
                          "ticks": ""
                        },
                        "colorscale": [
                          [
                            0,
                            "#0d0887"
                          ],
                          [
                            0.1111111111111111,
                            "#46039f"
                          ],
                          [
                            0.2222222222222222,
                            "#7201a8"
                          ],
                          [
                            0.3333333333333333,
                            "#9c179e"
                          ],
                          [
                            0.4444444444444444,
                            "#bd3786"
                          ],
                          [
                            0.5555555555555556,
                            "#d8576b"
                          ],
                          [
                            0.6666666666666666,
                            "#ed7953"
                          ],
                          [
                            0.7777777777777778,
                            "#fb9f3a"
                          ],
                          [
                            0.8888888888888888,
                            "#fdca26"
                          ],
                          [
                            1,
                            "#f0f921"
                          ]
                        ],
                        "type": "surface"
                      }
                    ],
                    "table": [
                      {
                        "cells": {
                          "fill": {
                            "color": "#EBF0F8"
                          },
                          "line": {
                            "color": "white"
                          }
                        },
                        "header": {
                          "fill": {
                            "color": "#C8D4E3"
                          },
                          "line": {
                            "color": "white"
                          }
                        },
                        "type": "table"
                      }
                    ]
                  },
                  "layout": {
                    "annotationdefaults": {
                      "arrowcolor": "#2a3f5f",
                      "arrowhead": 0,
                      "arrowwidth": 1
                    },
                    "autotypenumbers": "strict",
                    "coloraxis": {
                      "colorbar": {
                        "outlinewidth": 0,
                        "ticks": ""
                      }
                    },
                    "colorscale": {
                      "diverging": [
                        [
                          0,
                          "#8e0152"
                        ],
                        [
                          0.1,
                          "#c51b7d"
                        ],
                        [
                          0.2,
                          "#de77ae"
                        ],
                        [
                          0.3,
                          "#f1b6da"
                        ],
                        [
                          0.4,
                          "#fde0ef"
                        ],
                        [
                          0.5,
                          "#f7f7f7"
                        ],
                        [
                          0.6,
                          "#e6f5d0"
                        ],
                        [
                          0.7,
                          "#b8e186"
                        ],
                        [
                          0.8,
                          "#7fbc41"
                        ],
                        [
                          0.9,
                          "#4d9221"
                        ],
                        [
                          1,
                          "#276419"
                        ]
                      ],
                      "sequential": [
                        [
                          0,
                          "#0d0887"
                        ],
                        [
                          0.1111111111111111,
                          "#46039f"
                        ],
                        [
                          0.2222222222222222,
                          "#7201a8"
                        ],
                        [
                          0.3333333333333333,
                          "#9c179e"
                        ],
                        [
                          0.4444444444444444,
                          "#bd3786"
                        ],
                        [
                          0.5555555555555556,
                          "#d8576b"
                        ],
                        [
                          0.6666666666666666,
                          "#ed7953"
                        ],
                        [
                          0.7777777777777778,
                          "#fb9f3a"
                        ],
                        [
                          0.8888888888888888,
                          "#fdca26"
                        ],
                        [
                          1,
                          "#f0f921"
                        ]
                      ],
                      "sequentialminus": [
                        [
                          0,
                          "#0d0887"
                        ],
                        [
                          0.1111111111111111,
                          "#46039f"
                        ],
                        [
                          0.2222222222222222,
                          "#7201a8"
                        ],
                        [
                          0.3333333333333333,
                          "#9c179e"
                        ],
                        [
                          0.4444444444444444,
                          "#bd3786"
                        ],
                        [
                          0.5555555555555556,
                          "#d8576b"
                        ],
                        [
                          0.6666666666666666,
                          "#ed7953"
                        ],
                        [
                          0.7777777777777778,
                          "#fb9f3a"
                        ],
                        [
                          0.8888888888888888,
                          "#fdca26"
                        ],
                        [
                          1,
                          "#f0f921"
                        ]
                      ]
                    },
                    "colorway": [
                      "#636efa",
                      "#EF553B",
                      "#00cc96",
                      "#ab63fa",
                      "#FFA15A",
                      "#19d3f3",
                      "#FF6692",
                      "#B6E880",
                      "#FF97FF",
                      "#FECB52"
                    ],
                    "font": {
                      "color": "#2a3f5f"
                    },
                    "geo": {
                      "bgcolor": "white",
                      "lakecolor": "white",
                      "landcolor": "#E5ECF6",
                      "showlakes": true,
                      "showland": true,
                      "subunitcolor": "white"
                    },
                    "hoverlabel": {
                      "align": "left"
                    },
                    "hovermode": "closest",
                    "mapbox": {
                      "style": "light"
                    },
                    "paper_bgcolor": "white",
                    "plot_bgcolor": "#E5ECF6",
                    "polar": {
                      "angularaxis": {
                        "gridcolor": "white",
                        "linecolor": "white",
                        "ticks": ""
                      },
                      "bgcolor": "#E5ECF6",
                      "radialaxis": {
                        "gridcolor": "white",
                        "linecolor": "white",
                        "ticks": ""
                      }
                    },
                    "scene": {
                      "xaxis": {
                        "backgroundcolor": "#E5ECF6",
                        "gridcolor": "white",
                        "gridwidth": 2,
                        "linecolor": "white",
                        "showbackground": true,
                        "ticks": "",
                        "zerolinecolor": "white"
                      },
                      "yaxis": {
                        "backgroundcolor": "#E5ECF6",
                        "gridcolor": "white",
                        "gridwidth": 2,
                        "linecolor": "white",
                        "showbackground": true,
                        "ticks": "",
                        "zerolinecolor": "white"
                      },
                      "zaxis": {
                        "backgroundcolor": "#E5ECF6",
                        "gridcolor": "white",
                        "gridwidth": 2,
                        "linecolor": "white",
                        "showbackground": true,
                        "ticks": "",
                        "zerolinecolor": "white"
                      }
                    },
                    "shapedefaults": {
                      "line": {
                        "color": "#2a3f5f"
                      }
                    },
                    "ternary": {
                      "aaxis": {
                        "gridcolor": "white",
                        "linecolor": "white",
                        "ticks": ""
                      },
                      "baxis": {
                        "gridcolor": "white",
                        "linecolor": "white",
                        "ticks": ""
                      },
                      "bgcolor": "#E5ECF6",
                      "caxis": {
                        "gridcolor": "white",
                        "linecolor": "white",
                        "ticks": ""
                      }
                    },
                    "title": {
                      "x": 0.05
                    },
                    "xaxis": {
                      "automargin": true,
                      "gridcolor": "white",
                      "linecolor": "white",
                      "ticks": "",
                      "title": {
                        "standoff": 15
                      },
                      "zerolinecolor": "white",
                      "zerolinewidth": 2
                    },
                    "yaxis": {
                      "automargin": true,
                      "gridcolor": "white",
                      "linecolor": "white",
                      "ticks": "",
                      "title": {
                        "standoff": 15
                      },
                      "zerolinecolor": "white",
                      "zerolinewidth": 2
                    }
                  }
                },
                "xaxis": {
                  "anchor": "y",
                  "domain": [
                    0,
                    1
                  ],
                  "rangeselector": {
                    "buttons": [
                      {
                        "count": 1,
                        "label": "YTD",
                        "step": "year",
                        "stepmode": "todate"
                      },
                      {
                        "count": 1,
                        "label": "1y",
                        "step": "year",
                        "stepmode": "backward"
                      },
                      {
                        "count": 3,
                        "label": "3y",
                        "step": "year",
                        "stepmode": "backward"
                      },
                      {
                        "count": 5,
                        "label": "5y",
                        "step": "year",
                        "stepmode": "backward"
                      },
                      {
                        "count": 7,
                        "label": "7y",
                        "step": "year",
                        "stepmode": "backward"
                      },
                      {
                        "count": 10,
                        "label": "10y",
                        "step": "year",
                        "stepmode": "backward"
                      },
                      {
                        "step": "all"
                      }
                    ]
                  },
                  "rangeslider": {
                    "visible": true
                  },
                  "title": {
                    "text": "Date"
                  }
                },
                "yaxis": {
                  "anchor": "x",
                  "domain": [
                    0,
                    1
                  ],
                  "title": {
                    "text": "YOY"
                  }
                }
              }
            }
          },
          "metadata": {},
          "output_type": "display_data"
        }
      ],
      "source": [
        "import pandas as pd\n",
        "import plotly.express as px\n",
        "import plotly.graph_objects as go\n",
        "\n",
        "df_show = dfs_cpi[\n",
        "    (\n",
        "        (dfs_cpi[\"Hàng hóa\"] == \"Lương thực\")\n",
        "        | (dfs_cpi[\"Hàng hóa\"] == \"Nhà ở và vật liệu xây dựng\")\n",
        "        | (dfs_cpi[\"Hàng hóa\"] == \"Giao thông\")\n",
        "        | (dfs_cpi[\"Hàng hóa\"] == \"Giáo dục\")\n",
        "        | (dfs_cpi[\"Hàng hóa\"] == \"Thuốc và dịch vụ y tế\")\n",
        "    )\n",
        "    & (dfs_cpi[\"Date\"] > \"2021-01-01\")\n",
        "]\n",
        "\n",
        "fig = px.area(df_show, x=\"Date\", y=\"YOY\", color=\"Hàng hóa\")\n",
        "\n",
        "fig.update_xaxes(\n",
        "    rangeslider_visible=True,\n",
        "    rangeselector=dict(\n",
        "        buttons=[\n",
        "            dict(count=1, label=\"YTD\", step=\"year\", stepmode=\"todate\"),\n",
        "            dict(count=1, label=\"1y\", step=\"year\", stepmode=\"backward\"),\n",
        "            dict(count=3, label=\"3y\", step=\"year\", stepmode=\"backward\"),\n",
        "            dict(count=5, label=\"5y\", step=\"year\", stepmode=\"backward\"),\n",
        "            dict(count=7, label=\"7y\", step=\"year\", stepmode=\"backward\"),\n",
        "            dict(count=10, label=\"10y\", step=\"year\", stepmode=\"backward\"),\n",
        "            dict(step=\"all\"),\n",
        "        ]\n",
        "    ),\n",
        ")\n",
        "\n",
        "fig.show()"
      ]
    },
    {
      "cell_type": "code",
      "execution_count": null,
      "metadata": {},
      "outputs": [],
      "source": []
    }
  ],
  "metadata": {
    "kernelspec": {
      "display_name": "vn-macroeconomics",
      "language": "python",
      "name": "python3"
    },
    "language_info": {
      "codemirror_mode": {
        "name": "ipython",
        "version": 3
      },
      "file_extension": ".py",
      "mimetype": "text/x-python",
      "name": "python",
      "nbconvert_exporter": "python",
      "pygments_lexer": "ipython3",
      "version": "3.10.9"
    },
    "orig_nbformat": 4
  },
  "nbformat": 4,
  "nbformat_minor": 2
}
