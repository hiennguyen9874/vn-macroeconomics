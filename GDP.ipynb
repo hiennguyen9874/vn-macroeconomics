{
  "cells": [
    {
      "cell_type": "code",
      "execution_count": 2,
      "metadata": {},
      "outputs": [],
      "source": [
        "import os\n",
        "import contextlib\n",
        "\n",
        "import pandas as pd\n",
        "import seaborn as sns\n",
        "from datetime import date\n",
        "import plotly.express as px\n",
        "import plotly.graph_objects as go"
      ]
    },
    {
      "cell_type": "code",
      "execution_count": 3,
      "metadata": {},
      "outputs": [],
      "source": [
        "def find_sheet_name(sheet_names):\n",
        "    gdp_sheet_names = list(filter(lambda x: \"gdp-ss\" in x.lower(), sheet_names))\n",
        "\n",
        "    if len(gdp_sheet_names) == 1:\n",
        "        return gdp_sheet_names[0]\n",
        "\n",
        "    gdp_sheet_names = list(filter(lambda x: \"gdp\" in x.lower() and \"ss\" in x.lower(), sheet_names))\n",
        "\n",
        "    if len(gdp_sheet_names) == 1:\n",
        "        return gdp_sheet_names[0]\n",
        "\n",
        "    gdp_sheet_names = list(filter(lambda x: \"gdp\" in x.lower(), sheet_names))\n",
        "\n",
        "    if len(gdp_sheet_names) == 1:\n",
        "        return gdp_sheet_names[0]\n",
        "\n",
        "    if len(sheet_names) == 43:\n",
        "        return \"2\"\n",
        "\n",
        "    raise RuntimeError(sheet_names)"
      ]
    },
    {
      "cell_type": "code",
      "execution_count": 4,
      "metadata": {},
      "outputs": [],
      "source": [
        "en_to_vn = {\n",
        "    \"TOTAL\": \"TỔNG SỐ\",\n",
        "    \"TỔNG SẢN PHẨM TRONG NƯỚC\": \"TỔNG SỐ\",\n",
        "    \"Agriculture, Forestry and Fishing\": \"Nông, lâm nghiệp và thủy sản\",\n",
        "    \"Agriculture\": \"Nông nghiệp\",\n",
        "    \"Forestry\": \"Lâm nghiệp\",\n",
        "    \"Fishery\": \"Thủy sản\",\n",
        "    \"Industry and Construction\": \"Công nghiệp và xây dựng\",\n",
        "    \"Industry\": \"Công nghiệp\",\n",
        "    \"Mining and quarrying\": \"Khai khoáng\",\n",
        "    \"Manufacturing\": \"Công nghiệp chế biến, chế tạo\",\n",
        "    \"Production & supply of electricity, gas, hot water, steam and air-conditioning\": \"Sản xuất và phân phối điện, khí đốt, nước nóng, hơi nước và điều hòa không khí\",\n",
        "    \"Water supply; sewerage, waste management and remediation activities\": \"Cung cấp nước; hoạt động quản lý và xử lý rác thải, nước thải\",\n",
        "    \"Construction\": \"Xây dựng\",\n",
        "    \"Services\": \"Dịch vụ\",\n",
        "    \"Wholesales, retails, vehicles and motorcycles repairs\": \"Bán buôn và bán lẻ; sửa chữa ô tô, mô tô, xe máy và xe có động cơ khác\",\n",
        "    \"Transportation and storage\": \"Vận tải, kho bãi\",\n",
        "    \"Accommodation & catering services\": \"Dịch vụ lưu trú và ăn uống\",\n",
        "    \"Information & communication\": \"Thông tin và truyền thông\",\n",
        "    \"Finance, banking & insurance\": \"Hoạt động tài chính, ngân hàng và bảo hiểm\",\n",
        "    \"Real estate business \": \"Hoạt động kinh doanh bất động sản\",\n",
        "    \"Scientific and technical specialty\": \"Hoạt động chuyên môn, khoa học và công nghệ\",\n",
        "    \"Administrative activity and supporting service\": \"Hoạt động hành chính và dịch vụ hỗ trợ\",\n",
        "    \"Activities of Communist Party, socio-political organizations; State management and national defense; compulsory social security\": \"Hoạt động của Đảng Cộng sản, tổ chức chính trị- xã hội; quản lý Nhà nước, an ninh quốc phòng; đảm bảo xã hội bắt buộc\",\n",
        "    \"Education and training\": \"Giáo dục và đào tạo\",\n",
        "    \"Health care & social relief\": \"Y tế và hoạt động trợ giúp xã hội\",\n",
        "    \"Art, entertainment and recreation\": \"Nghệ thuật, vui chơi và giải trí\",\n",
        "    \"Other service activities\": \"Hoạt động dịch vụ khác\",\n",
        "    \"Activities of households as employers; undifferentiated goods and services producing activities of households for own use\": \"Hoạt động làm thuê các công việc trong các hộ gia đình, sản xuất sản phẩm vật chất và dịch vụ tự tiêu dùng của hộ gia đình\",\n",
        "    \"Products taxes less subsidies on production\": \"Thuế sản phẩm trừ trợ cấp sản phẩm\",\n",
        "}"
      ]
    },
    {
      "cell_type": "code",
      "execution_count": 5,
      "metadata": {},
      "outputs": [
        {
          "data": {
            "text/html": [
              "<div>\n",
              "<style scoped>\n",
              "    .dataframe tbody tr th:only-of-type {\n",
              "        vertical-align: middle;\n",
              "    }\n",
              "\n",
              "    .dataframe tbody tr th {\n",
              "        vertical-align: top;\n",
              "    }\n",
              "\n",
              "    .dataframe thead th {\n",
              "        text-align: right;\n",
              "    }\n",
              "</style>\n",
              "<table border=\"1\" class=\"dataframe\">\n",
              "  <thead>\n",
              "    <tr style=\"text-align: right;\">\n",
              "      <th></th>\n",
              "      <th>Ngành</th>\n",
              "      <th>Tổng số</th>\n",
              "      <th>Date</th>\n",
              "    </tr>\n",
              "  </thead>\n",
              "  <tbody>\n",
              "    <tr>\n",
              "      <th>5</th>\n",
              "      <td>TỔNG SỐ</td>\n",
              "      <td>3054470.21909</td>\n",
              "      <td>2016-12-29</td>\n",
              "    </tr>\n",
              "    <tr>\n",
              "      <th>6</th>\n",
              "      <td>Nông, lâm nghiệp và thủy sản</td>\n",
              "      <td>468813.242744</td>\n",
              "      <td>2016-12-29</td>\n",
              "    </tr>\n",
              "    <tr>\n",
              "      <th>7</th>\n",
              "      <td>Nông nghiệp</td>\n",
              "      <td>354457.939256</td>\n",
              "      <td>2016-12-29</td>\n",
              "    </tr>\n",
              "    <tr>\n",
              "      <th>8</th>\n",
              "      <td>Lâm nghiệp</td>\n",
              "      <td>20710.41985</td>\n",
              "      <td>2016-12-29</td>\n",
              "    </tr>\n",
              "    <tr>\n",
              "      <th>9</th>\n",
              "      <td>Thủy sản</td>\n",
              "      <td>93644.883638</td>\n",
              "      <td>2016-12-29</td>\n",
              "    </tr>\n",
              "    <tr>\n",
              "      <th>10</th>\n",
              "      <td>Công nghiệp và xây dựng</td>\n",
              "      <td>1056808.134723</td>\n",
              "      <td>2016-12-29</td>\n",
              "    </tr>\n",
              "    <tr>\n",
              "      <th>11</th>\n",
              "      <td>Công nghiệp</td>\n",
              "      <td>867637.548659</td>\n",
              "      <td>2016-12-29</td>\n",
              "    </tr>\n",
              "    <tr>\n",
              "      <th>12</th>\n",
              "      <td>Khai khoáng</td>\n",
              "      <td>230843.055563</td>\n",
              "      <td>2016-12-29</td>\n",
              "    </tr>\n",
              "    <tr>\n",
              "      <th>13</th>\n",
              "      <td>Công nghiệp chế biến, chế tạo</td>\n",
              "      <td>495283.190178</td>\n",
              "      <td>2016-12-29</td>\n",
              "    </tr>\n",
              "    <tr>\n",
              "      <th>14</th>\n",
              "      <td>Sản xuất và phân phối điện, khí đốt, nước nóng...</td>\n",
              "      <td>123720.776403</td>\n",
              "      <td>2016-12-29</td>\n",
              "    </tr>\n",
              "    <tr>\n",
              "      <th>15</th>\n",
              "      <td>Cung cấp nước; hoạt động quản lý và xử lý rác ...</td>\n",
              "      <td>17790.526514</td>\n",
              "      <td>2016-12-29</td>\n",
              "    </tr>\n",
              "    <tr>\n",
              "      <th>16</th>\n",
              "      <td>Xây dựng</td>\n",
              "      <td>189170</td>\n",
              "      <td>2016-12-29</td>\n",
              "    </tr>\n",
              "    <tr>\n",
              "      <th>17</th>\n",
              "      <td>Dịch vụ</td>\n",
              "      <td>1178142.704223</td>\n",
              "      <td>2016-12-29</td>\n",
              "    </tr>\n",
              "    <tr>\n",
              "      <th>18</th>\n",
              "      <td>Bán buôn và bán lẻ; sửa chữa ô tô, mô tô, xe m...</td>\n",
              "      <td>288187.245987</td>\n",
              "      <td>2016-12-29</td>\n",
              "    </tr>\n",
              "    <tr>\n",
              "      <th>19</th>\n",
              "      <td>Vận tải, kho bãi</td>\n",
              "      <td>87943.022203</td>\n",
              "      <td>2016-12-29</td>\n",
              "    </tr>\n",
              "    <tr>\n",
              "      <th>20</th>\n",
              "      <td>Dịch vụ lưu trú và ăn uống</td>\n",
              "      <td>112902.264782</td>\n",
              "      <td>2016-12-29</td>\n",
              "    </tr>\n",
              "    <tr>\n",
              "      <th>21</th>\n",
              "      <td>Thông tin và truyền thông</td>\n",
              "      <td>32957.098513</td>\n",
              "      <td>2016-12-29</td>\n",
              "    </tr>\n",
              "    <tr>\n",
              "      <th>22</th>\n",
              "      <td>Hoạt động tài chính, ngân hàng và bảo hiểm</td>\n",
              "      <td>173038.140618</td>\n",
              "      <td>2016-12-29</td>\n",
              "    </tr>\n",
              "    <tr>\n",
              "      <th>23</th>\n",
              "      <td>Hoạt động kinh doanh bất động sản</td>\n",
              "      <td>155751.852008</td>\n",
              "      <td>2016-12-29</td>\n",
              "    </tr>\n",
              "    <tr>\n",
              "      <th>24</th>\n",
              "      <td>Hoạt động chuyên môn, khoa học và công nghệ</td>\n",
              "      <td>41973.252223</td>\n",
              "      <td>2016-12-29</td>\n",
              "    </tr>\n",
              "    <tr>\n",
              "      <th>25</th>\n",
              "      <td>Hoạt động hành chính và dịch vụ hỗ trợ</td>\n",
              "      <td>11813.884668</td>\n",
              "      <td>2016-12-29</td>\n",
              "    </tr>\n",
              "    <tr>\n",
              "      <th>26</th>\n",
              "      <td>Hoạt động của Đảng Cộng sản, tổ chức chính trị...</td>\n",
              "      <td>83928.344864</td>\n",
              "      <td>2016-12-29</td>\n",
              "    </tr>\n",
              "    <tr>\n",
              "      <th>27</th>\n",
              "      <td>Giáo dục và đào tạo</td>\n",
              "      <td>77089.766547</td>\n",
              "      <td>2016-12-29</td>\n",
              "    </tr>\n",
              "    <tr>\n",
              "      <th>28</th>\n",
              "      <td>Y tế và hoạt động trợ giúp xã hội</td>\n",
              "      <td>35780.363915</td>\n",
              "      <td>2016-12-29</td>\n",
              "    </tr>\n",
              "    <tr>\n",
              "      <th>29</th>\n",
              "      <td>Nghệ thuật, vui chơi và giải trí</td>\n",
              "      <td>22318.978047</td>\n",
              "      <td>2016-12-29</td>\n",
              "    </tr>\n",
              "    <tr>\n",
              "      <th>30</th>\n",
              "      <td>Hoạt động dịch vụ khác</td>\n",
              "      <td>50058.335947</td>\n",
              "      <td>2016-12-29</td>\n",
              "    </tr>\n",
              "    <tr>\n",
              "      <th>31</th>\n",
              "      <td>Hoạt động làm thuê các công việc trong các hộ ...</td>\n",
              "      <td>4400.153901</td>\n",
              "      <td>2016-12-29</td>\n",
              "    </tr>\n",
              "    <tr>\n",
              "      <th>32</th>\n",
              "      <td>Thuế sản phẩm trừ trợ cấp sản phẩm</td>\n",
              "      <td>350706.1374</td>\n",
              "      <td>2016-12-29</td>\n",
              "    </tr>\n",
              "  </tbody>\n",
              "</table>\n",
              "</div>"
            ],
            "text/plain": [
              "                                                Ngành         Tổng số  \\\n",
              "5                                             TỔNG SỐ   3054470.21909   \n",
              "6                        Nông, lâm nghiệp và thủy sản   468813.242744   \n",
              "7                                         Nông nghiệp   354457.939256   \n",
              "8                                          Lâm nghiệp     20710.41985   \n",
              "9                                            Thủy sản    93644.883638   \n",
              "10                            Công nghiệp và xây dựng  1056808.134723   \n",
              "11                                        Công nghiệp   867637.548659   \n",
              "12                                        Khai khoáng   230843.055563   \n",
              "13                      Công nghiệp chế biến, chế tạo   495283.190178   \n",
              "14  Sản xuất và phân phối điện, khí đốt, nước nóng...   123720.776403   \n",
              "15  Cung cấp nước; hoạt động quản lý và xử lý rác ...    17790.526514   \n",
              "16                                           Xây dựng          189170   \n",
              "17                                            Dịch vụ  1178142.704223   \n",
              "18  Bán buôn và bán lẻ; sửa chữa ô tô, mô tô, xe m...   288187.245987   \n",
              "19                                   Vận tải, kho bãi    87943.022203   \n",
              "20                         Dịch vụ lưu trú và ăn uống   112902.264782   \n",
              "21                          Thông tin và truyền thông    32957.098513   \n",
              "22         Hoạt động tài chính, ngân hàng và bảo hiểm   173038.140618   \n",
              "23                  Hoạt động kinh doanh bất động sản   155751.852008   \n",
              "24        Hoạt động chuyên môn, khoa học và công nghệ    41973.252223   \n",
              "25             Hoạt động hành chính và dịch vụ hỗ trợ    11813.884668   \n",
              "26  Hoạt động của Đảng Cộng sản, tổ chức chính trị...    83928.344864   \n",
              "27                                Giáo dục và đào tạo    77089.766547   \n",
              "28                  Y tế và hoạt động trợ giúp xã hội    35780.363915   \n",
              "29                   Nghệ thuật, vui chơi và giải trí    22318.978047   \n",
              "30                             Hoạt động dịch vụ khác    50058.335947   \n",
              "31  Hoạt động làm thuê các công việc trong các hộ ...     4400.153901   \n",
              "32                 Thuế sản phẩm trừ trợ cấp sản phẩm     350706.1374   \n",
              "\n",
              "         Date  \n",
              "5  2016-12-29  \n",
              "6  2016-12-29  \n",
              "7  2016-12-29  \n",
              "8  2016-12-29  \n",
              "9  2016-12-29  \n",
              "10 2016-12-29  \n",
              "11 2016-12-29  \n",
              "12 2016-12-29  \n",
              "13 2016-12-29  \n",
              "14 2016-12-29  \n",
              "15 2016-12-29  \n",
              "16 2016-12-29  \n",
              "17 2016-12-29  \n",
              "18 2016-12-29  \n",
              "19 2016-12-29  \n",
              "20 2016-12-29  \n",
              "21 2016-12-29  \n",
              "22 2016-12-29  \n",
              "23 2016-12-29  \n",
              "24 2016-12-29  \n",
              "25 2016-12-29  \n",
              "26 2016-12-29  \n",
              "27 2016-12-29  \n",
              "28 2016-12-29  \n",
              "29 2016-12-29  \n",
              "30 2016-12-29  \n",
              "31 2016-12-29  \n",
              "32 2016-12-29  "
            ]
          },
          "execution_count": 5,
          "metadata": {},
          "output_type": "execute_result"
        }
      ],
      "source": [
        "def get_gdp_ss(xl, sheet_name, date):\n",
        "    df = xl.parse(sheet_name)\n",
        "\n",
        "    df[df.columns[0]] = df[df.columns[0]].fillna(df[df.columns[1]])\n",
        "\n",
        "    if len(df.columns) == 8:\n",
        "        df = df.drop(\n",
        "            columns=[\n",
        "                df.columns[1],\n",
        "                df.columns[2],\n",
        "                df.columns[4],\n",
        "                df.columns[5],\n",
        "                df.columns[6],\n",
        "                df.columns[7],\n",
        "            ]\n",
        "        )\n",
        "    elif len(df.columns) == 7:\n",
        "        df = df.drop(\n",
        "            columns=[df.columns[1], df.columns[2], df.columns[3], df.columns[4], df.columns[6]]\n",
        "        )\n",
        "    elif len(df.columns) == 5 and int(date.split(\"-\")[1]) == 12:\n",
        "        df = df.drop(columns=[df.columns[1], df.columns[2], df.columns[4]])\n",
        "    elif len(df.columns) == 6 and int(date.split(\"-\")[1]) == 12:\n",
        "        df = df.drop(columns=[df.columns[1], df.columns[2], df.columns[4], df.columns[5]])\n",
        "    else:\n",
        "        raise RuntimeError(df.columns)\n",
        "\n",
        "    df[df.columns[0]] = (\n",
        "        df[df.columns[0]].replace(r\"\\s+\", \" \", regex=True).replace(r\"\\n\", \" \", regex=True)\n",
        "    )\n",
        "\n",
        "    df[df.columns[0]] = df[df.columns[0]].str.strip()\n",
        "\n",
        "    df = df.drop(\n",
        "        list(\n",
        "            range(\n",
        "                df[df.columns[0]][\n",
        "                    (df[df.columns[0]] == \"TỔNG SỐ\")\n",
        "                    | (df[df.columns[0]] == \"TOTAL\")\n",
        "                    | (df[df.columns[0]] == \"TỔNG SẢN PHẨM TRONG NƯỚC\")\n",
        "                ].index[0]\n",
        "            )\n",
        "        )\n",
        "    )\n",
        "\n",
        "    df.columns = [\"Ngành\", \"Tổng số\"]\n",
        "\n",
        "    df[df[\"Ngành\"] == \"TỔNG SẢN PHẨM TRONG NƯỚC\"] = \"TỔNG SỐ\"\n",
        "\n",
        "    if len(df[\"Ngành\"][df[\"Ngành\"] == \"TOTAL\"].index) > 0:\n",
        "        df[\"Ngành\"] = df[\"Ngành\"].map(en_to_vn)\n",
        "\n",
        "    df = df[pd.to_numeric(df[df.columns[1]], errors=\"coerce\").notnull()]\n",
        "    df[\"Date\"] = date\n",
        "    df[\"Date\"] = pd.to_datetime(df[\"Date\"], dayfirst=False)\n",
        "    return df\n",
        "\n",
        "\n",
        "xl = pd.ExcelFile(\"datas/2016-12-29-Bieu-2016.xlsx\")\n",
        "\n",
        "sheet_name = find_sheet_name(xl.sheet_names)\n",
        "\n",
        "get_gdp_ss(xl, sheet_name, \"2016-12-29\")"
      ]
    },
    {
      "cell_type": "code",
      "execution_count": 6,
      "metadata": {},
      "outputs": [],
      "source": [
        "import os\n",
        "import contextlib\n",
        "\n",
        "dfs_gdp_ss_origin = []\n",
        "for file_name in sorted(\n",
        "    os.listdir(\"./datas\"),\n",
        "    key=lambda filename: f\"{filename.split('-')[0]}-{filename.split('-')[1]}-{filename.split('-')[2]}\",\n",
        "    reverse=True,\n",
        "):\n",
        "    try:\n",
        "        file_path = os.path.join(\"./datas\", file_name)\n",
        "\n",
        "        year = int(file_name.split(\"-\")[0])\n",
        "        month = int(file_name.split(\"-\")[1])\n",
        "        day = int(file_name.split(\"-\")[2])\n",
        "\n",
        "        if year < 2011:\n",
        "            continue\n",
        "\n",
        "        if month not in [3, 6, 9, 12]:\n",
        "            continue\n",
        "\n",
        "        xl = pd.ExcelFile(file_path)\n",
        "\n",
        "        df_gdp = get_gdp_ss(xl, find_sheet_name(xl.sheet_names), f\"{year}-{month}-{day}\")\n",
        "\n",
        "        dfs_gdp_ss_origin.append(df_gdp)\n",
        "    except Exception as e:\n",
        "        print(file_name)"
      ]
    },
    {
      "cell_type": "code",
      "execution_count": 7,
      "metadata": {},
      "outputs": [
        {
          "data": {
            "text/html": [
              "<div>\n",
              "<style scoped>\n",
              "    .dataframe tbody tr th:only-of-type {\n",
              "        vertical-align: middle;\n",
              "    }\n",
              "\n",
              "    .dataframe tbody tr th {\n",
              "        vertical-align: top;\n",
              "    }\n",
              "\n",
              "    .dataframe thead th {\n",
              "        text-align: right;\n",
              "    }\n",
              "</style>\n",
              "<table border=\"1\" class=\"dataframe\">\n",
              "  <thead>\n",
              "    <tr style=\"text-align: right;\">\n",
              "      <th></th>\n",
              "      <th>Ngành</th>\n",
              "      <th>Tổng số</th>\n",
              "      <th>Date</th>\n",
              "    </tr>\n",
              "  </thead>\n",
              "  <tbody>\n",
              "    <tr>\n",
              "      <th>0</th>\n",
              "      <td>TỔNG SỐ</td>\n",
              "      <td>1450322.454378</td>\n",
              "      <td>2023-09-29</td>\n",
              "    </tr>\n",
              "    <tr>\n",
              "      <th>1</th>\n",
              "      <td>Nông, lâm nghiệp và thủy sản</td>\n",
              "      <td>154315.756978</td>\n",
              "      <td>2023-09-29</td>\n",
              "    </tr>\n",
              "    <tr>\n",
              "      <th>2</th>\n",
              "      <td>Nông nghiệp</td>\n",
              "      <td>109698.172386</td>\n",
              "      <td>2023-09-29</td>\n",
              "    </tr>\n",
              "    <tr>\n",
              "      <th>3</th>\n",
              "      <td>Lâm nghiệp</td>\n",
              "      <td>7057.619422</td>\n",
              "      <td>2023-09-29</td>\n",
              "    </tr>\n",
              "    <tr>\n",
              "      <th>4</th>\n",
              "      <td>Thủy sản</td>\n",
              "      <td>37559.965169</td>\n",
              "      <td>2023-09-29</td>\n",
              "    </tr>\n",
              "    <tr>\n",
              "      <th>...</th>\n",
              "      <td>...</td>\n",
              "      <td>...</td>\n",
              "      <td>...</td>\n",
              "    </tr>\n",
              "    <tr>\n",
              "      <th>1392</th>\n",
              "      <td>Y tế và hoạt động cứu trợ xã hội</td>\n",
              "      <td>1620</td>\n",
              "      <td>2011-03-29</td>\n",
              "    </tr>\n",
              "    <tr>\n",
              "      <th>1393</th>\n",
              "      <td>Hoạt động văn hoá và thể thao</td>\n",
              "      <td>539</td>\n",
              "      <td>2011-03-29</td>\n",
              "    </tr>\n",
              "    <tr>\n",
              "      <th>1394</th>\n",
              "      <td>Hoạt động Đảng, đoàn thể và hiệp hội</td>\n",
              "      <td>162</td>\n",
              "      <td>2011-03-29</td>\n",
              "    </tr>\n",
              "    <tr>\n",
              "      <th>1395</th>\n",
              "      <td>HĐ phục vụ cá nhân và cộng đồng</td>\n",
              "      <td>2769</td>\n",
              "      <td>2011-03-29</td>\n",
              "    </tr>\n",
              "    <tr>\n",
              "      <th>1396</th>\n",
              "      <td>HĐ làm thuê công việc GĐ trong các hộ tư nhân</td>\n",
              "      <td>242</td>\n",
              "      <td>2011-03-29</td>\n",
              "    </tr>\n",
              "  </tbody>\n",
              "</table>\n",
              "<p>1397 rows × 3 columns</p>\n",
              "</div>"
            ],
            "text/plain": [
              "                                              Ngành         Tổng số       Date\n",
              "0                                           TỔNG SỐ  1450322.454378 2023-09-29\n",
              "1                      Nông, lâm nghiệp và thủy sản   154315.756978 2023-09-29\n",
              "2                                       Nông nghiệp   109698.172386 2023-09-29\n",
              "3                                        Lâm nghiệp     7057.619422 2023-09-29\n",
              "4                                          Thủy sản    37559.965169 2023-09-29\n",
              "...                                             ...             ...        ...\n",
              "1392               Y tế và hoạt động cứu trợ xã hội            1620 2011-03-29\n",
              "1393                  Hoạt động văn hoá và thể thao             539 2011-03-29\n",
              "1394           Hoạt động Đảng, đoàn thể và hiệp hội             162 2011-03-29\n",
              "1395                HĐ phục vụ cá nhân và cộng đồng            2769 2011-03-29\n",
              "1396  HĐ làm thuê công việc GĐ trong các hộ tư nhân             242 2011-03-29\n",
              "\n",
              "[1397 rows x 3 columns]"
            ]
          },
          "execution_count": 7,
          "metadata": {},
          "output_type": "execute_result"
        }
      ],
      "source": [
        "dfs_gdp_ss = pd.concat(dfs_gdp_ss_origin, ignore_index=True, axis=0)\n",
        "dfs_gdp_ss[\"Date\"] = pd.to_datetime(dfs_gdp_ss[\"Date\"], dayfirst=False)\n",
        "dfs_gdp_ss"
      ]
    },
    {
      "cell_type": "code",
      "execution_count": 10,
      "metadata": {},
      "outputs": [
        {
          "name": "stdout",
          "output_type": "stream",
          "text": [
            "        Ngành         Tổng số       Date   PCT_YOY\n",
            "0     TỔNG SỐ  1450322.454378 2023-09-29  0.053768\n",
            "28    TỔNG SỐ  1407472.978003 2023-06-29  0.045033\n",
            "56    TỔNG SỐ  1320754.547853 2023-03-29  0.052132\n",
            "84    TỔNG SỐ  1538951.343532 2022-12-29  0.048697\n",
            "112   TỔNG SỐ   1376320.95164 2022-09-29  0.145916\n",
            "140   TỔNG SỐ  1346821.301552 2022-06-29  0.078481\n",
            "168   TỔNG SỐ  1255312.381476 2022-03-29  0.055580\n",
            "196   TỔNG SỐ  1467489.725843 2021-12-29  0.156975\n",
            "224   TỔNG SỐ  1201065.954588 2021-09-29  0.220931\n",
            "252   TỔNG SỐ         1248813 2021-06-29  0.406539\n",
            "280   TỔNG SỐ    1189215.6721 2021-03-29  0.681529\n",
            "308   TỔNG SỐ  1268385.274728 2020-12-27  0.044754\n",
            "336   TỔNG SỐ   983729.772117 2020-09-29  0.027813\n",
            "364   TỔNG SỐ   887862.394367 2020-06-29  0.003792\n",
            "392   TỔNG SỐ   707222.748435 2020-03-27  0.038491\n",
            "420   TỔNG SỐ   1214051.99189 2019-12-27  0.069684\n",
            "448   TỔNG SỐ   957109.475407 2019-09-28  0.072520\n",
            "476   TỔNG SỐ    884508.41942 2019-06-28  0.388021\n",
            "504   TỔNG SỐ    681009.97149 2019-03-29 -0.791264\n",
            "532   TỔNG SỐ  1134962.880335 2018-12-27 -0.485262\n",
            "560   TỔNG SỐ        892393.1 2018-09-28 -0.347983\n",
            "615   TỔNG SỐ   637244.068843 2018-03-29  0.074303\n",
            "643   TỔNG SỐ         3262548 2017-12-29  0.068122\n",
            "671   TỔNG SỐ  2204934.556339 2017-09-29  0.064733\n",
            "699   TỔNG SỐ         1368665 2017-06-29  0.058545\n",
            "727   TỔNG SỐ   593169.999974 2017-03-29  0.051245\n",
            "755   TỔNG SỐ   3054470.21909 2016-12-29  0.062108\n",
            "783   TỔNG SỐ  2070879.529998 2016-09-29  0.059543\n",
            "811   TỔNG SỐ         1292968 2016-06-29  0.055589\n",
            "839   TỔNG SỐ   564254.977792 2016-03-29  0.055524\n",
            "867   TỔNG SỐ    2875856.1918 2015-12-29  0.066793\n",
            "895   TỔNG SỐ  1954503.251136 2015-09-29  0.064178\n",
            "923   TỔNG SỐ  1224878.219626 2015-06-29  0.063172\n",
            "951   TỔNG SỐ   534573.277746 2015-03-29  0.061329\n",
            "979   TỔNG SỐ  2695795.691029 2014-12-29  0.059841\n",
            "1006  TỔNG SỐ         1836632 2014-09-29  0.056152\n",
            "1033  TỔNG SỐ   1152097.51377 2014-06-27  0.051801\n",
            "1060  TỔNG SỐ   503682.752918 2014-03-28  0.048345\n",
            "1089  TỔNG SỐ  2543584.087288 2013-12-30  3.143428\n",
            "1116  TỔNG SỐ         1738985 2013-09-30  3.083775\n",
            "1143  TỔNG SỐ  1095357.200077 2013-06-29  3.055148\n",
            "1170  TỔNG SỐ   480455.327035 2013-03-29  3.220624\n",
            "1197  TỔNG SỐ   613883.993405 2012-12-28  0.051040\n",
            "1222  TỔNG SỐ   425827.812953 2012-09-29  0.048042\n",
            "1247  TỔNG SỐ   270115.250233 2012-06-29  0.044455\n",
            "1272  TỔNG SỐ   113835.151139 2012-03-29  0.041369\n",
            "1297  TỔNG SỐ   584073.093515 2011-12-29       NaN\n",
            "1322  TỔNG SỐ   406308.151526 2011-09-29       NaN\n",
            "1347  TỔNG SỐ   258618.313997 2011-06-29       NaN\n",
            "1372  TỔNG SỐ          109313 2011-03-29       NaN\n"
          ]
        },
        {
          "name": "stderr",
          "output_type": "stream",
          "text": [
            "/tmp/ipykernel_131587/1353601895.py:4: SettingWithCopyWarning:\n",
            "\n",
            "\n",
            "A value is trying to be set on a copy of a slice from a DataFrame.\n",
            "Try using .loc[row_indexer,col_indexer] = value instead\n",
            "\n",
            "See the caveats in the documentation: https://pandas.pydata.org/pandas-docs/stable/user_guide/indexing.html#returning-a-view-versus-a-copy\n",
            "\n"
          ]
        }
      ],
      "source": [
        "nganh = \"TỔNG SỐ\"\n",
        "dfs_gdp_ss_per_nganh = dfs_gdp_ss[dfs_gdp_ss[\"Ngành\"] == nganh]\n",
        "\n",
        "dfs_gdp_ss_per_nganh[\"PCT_YOY\"] = dfs_gdp_ss_per_nganh[\"Tổng số\"].pct_change(-4)\n",
        "print(dfs_gdp_ss_per_nganh)"
      ]
    },
    {
      "cell_type": "code",
      "execution_count": 9,
      "metadata": {},
      "outputs": [
        {
          "name": "stderr",
          "output_type": "stream",
          "text": [
            "/home/hien/.pyenv/versions/3.9.16/envs/vn-macroeconomics/lib/python3.9/site-packages/_plotly_utils/basevalidators.py:105: FutureWarning: The behavior of DatetimeProperties.to_pydatetime is deprecated, in a future version this will return a Series containing python datetime objects instead of an ndarray. To retain the old behavior, call `np.array` on the result\n",
            "  v = v.dt.to_pydatetime()\n"
          ]
        },
        {
          "data": {
            "application/vnd.plotly.v1+json": {
              "config": {
                "plotlyServerURL": "https://plot.ly"
              },
              "data": [
                {
                  "fillpattern": {
                    "shape": ""
                  },
                  "hovertemplate": "Ngành=TỔNG SỐ<br>Date=%{x}<br>Tổng số=%{y}<extra></extra>",
                  "legendgroup": "TỔNG SỐ",
                  "line": {
                    "color": "#636efa"
                  },
                  "marker": {
                    "symbol": "circle"
                  },
                  "mode": "lines",
                  "name": "TỔNG SỐ",
                  "orientation": "v",
                  "showlegend": true,
                  "stackgroup": "1",
                  "type": "scatter",
                  "x": [
                    "2023-09-29T00:00:00",
                    "2023-06-29T00:00:00",
                    "2023-03-29T00:00:00",
                    "2022-12-29T00:00:00",
                    "2022-09-29T00:00:00",
                    "2022-06-29T00:00:00",
                    "2022-03-29T00:00:00",
                    "2021-12-29T00:00:00",
                    "2021-09-29T00:00:00",
                    "2021-06-29T00:00:00",
                    "2021-03-29T00:00:00",
                    "2020-12-27T00:00:00",
                    "2020-09-29T00:00:00",
                    "2020-06-29T00:00:00",
                    "2020-03-27T00:00:00",
                    "2019-12-27T00:00:00",
                    "2019-09-28T00:00:00",
                    "2019-06-28T00:00:00",
                    "2019-03-29T00:00:00",
                    "2018-12-27T00:00:00",
                    "2018-09-28T00:00:00",
                    "2018-03-29T00:00:00",
                    "2017-12-29T00:00:00",
                    "2017-09-29T00:00:00",
                    "2017-06-29T00:00:00",
                    "2017-03-29T00:00:00",
                    "2016-12-29T00:00:00",
                    "2016-09-29T00:00:00",
                    "2016-06-29T00:00:00",
                    "2016-03-29T00:00:00",
                    "2015-12-29T00:00:00",
                    "2015-09-29T00:00:00",
                    "2015-06-29T00:00:00",
                    "2015-03-29T00:00:00",
                    "2014-12-29T00:00:00",
                    "2014-09-29T00:00:00",
                    "2014-06-27T00:00:00",
                    "2014-03-28T00:00:00",
                    "2013-12-30T00:00:00",
                    "2013-09-30T00:00:00",
                    "2013-06-29T00:00:00",
                    "2013-03-29T00:00:00",
                    "2012-12-28T00:00:00",
                    "2012-09-29T00:00:00",
                    "2012-06-29T00:00:00",
                    "2012-03-29T00:00:00",
                    "2011-12-29T00:00:00",
                    "2011-09-29T00:00:00",
                    "2011-06-29T00:00:00",
                    "2011-03-29T00:00:00"
                  ],
                  "xaxis": "x",
                  "y": [
                    1450322.4543775164,
                    1407472.9780028649,
                    1320754.54785327,
                    1538951.3435323397,
                    1376320.95164018,
                    1346821.3015521285,
                    1255312.381476204,
                    1467489.7258432508,
                    1201065.954587767,
                    1248813,
                    1189215.6721002443,
                    1268385.2747279687,
                    983729.7721174015,
                    887862.3943674408,
                    707222.7484354163,
                    1214051.9918900053,
                    957109.4754069605,
                    884508.4194200466,
                    681009.9714904743,
                    1134962.8803352201,
                    892393.1,
                    637244.0688429426,
                    3262548,
                    2204934.5563387326,
                    1368665,
                    593169.999973651,
                    3054470.2190900473,
                    2070879.5299978391,
                    1292968,
                    564254.977792432,
                    2875856.1918004444,
                    1954503.2511359153,
                    1224878.2196263408,
                    534573.2777461594,
                    2695795.691029408,
                    1836632,
                    1152097.5137703537,
                    503682.75291799824,
                    2543584.087288476,
                    1738985,
                    1095357.2000774173,
                    480455.32703475875,
                    613883.9934052649,
                    425827.81295266305,
                    270115.25023346744,
                    113835.15113851934,
                    584073.0935153568,
                    406308.151525656,
                    258618.31399650866,
                    109313
                  ],
                  "yaxis": "y"
                }
              ],
              "layout": {
                "legend": {
                  "title": {
                    "text": "Ngành"
                  },
                  "tracegroupgap": 0
                },
                "margin": {
                  "t": 60
                },
                "template": {
                  "data": {
                    "bar": [
                      {
                        "error_x": {
                          "color": "#2a3f5f"
                        },
                        "error_y": {
                          "color": "#2a3f5f"
                        },
                        "marker": {
                          "line": {
                            "color": "#E5ECF6",
                            "width": 0.5
                          },
                          "pattern": {
                            "fillmode": "overlay",
                            "size": 10,
                            "solidity": 0.2
                          }
                        },
                        "type": "bar"
                      }
                    ],
                    "barpolar": [
                      {
                        "marker": {
                          "line": {
                            "color": "#E5ECF6",
                            "width": 0.5
                          },
                          "pattern": {
                            "fillmode": "overlay",
                            "size": 10,
                            "solidity": 0.2
                          }
                        },
                        "type": "barpolar"
                      }
                    ],
                    "carpet": [
                      {
                        "aaxis": {
                          "endlinecolor": "#2a3f5f",
                          "gridcolor": "white",
                          "linecolor": "white",
                          "minorgridcolor": "white",
                          "startlinecolor": "#2a3f5f"
                        },
                        "baxis": {
                          "endlinecolor": "#2a3f5f",
                          "gridcolor": "white",
                          "linecolor": "white",
                          "minorgridcolor": "white",
                          "startlinecolor": "#2a3f5f"
                        },
                        "type": "carpet"
                      }
                    ],
                    "choropleth": [
                      {
                        "colorbar": {
                          "outlinewidth": 0,
                          "ticks": ""
                        },
                        "type": "choropleth"
                      }
                    ],
                    "contour": [
                      {
                        "colorbar": {
                          "outlinewidth": 0,
                          "ticks": ""
                        },
                        "colorscale": [
                          [
                            0,
                            "#0d0887"
                          ],
                          [
                            0.1111111111111111,
                            "#46039f"
                          ],
                          [
                            0.2222222222222222,
                            "#7201a8"
                          ],
                          [
                            0.3333333333333333,
                            "#9c179e"
                          ],
                          [
                            0.4444444444444444,
                            "#bd3786"
                          ],
                          [
                            0.5555555555555556,
                            "#d8576b"
                          ],
                          [
                            0.6666666666666666,
                            "#ed7953"
                          ],
                          [
                            0.7777777777777778,
                            "#fb9f3a"
                          ],
                          [
                            0.8888888888888888,
                            "#fdca26"
                          ],
                          [
                            1,
                            "#f0f921"
                          ]
                        ],
                        "type": "contour"
                      }
                    ],
                    "contourcarpet": [
                      {
                        "colorbar": {
                          "outlinewidth": 0,
                          "ticks": ""
                        },
                        "type": "contourcarpet"
                      }
                    ],
                    "heatmap": [
                      {
                        "colorbar": {
                          "outlinewidth": 0,
                          "ticks": ""
                        },
                        "colorscale": [
                          [
                            0,
                            "#0d0887"
                          ],
                          [
                            0.1111111111111111,
                            "#46039f"
                          ],
                          [
                            0.2222222222222222,
                            "#7201a8"
                          ],
                          [
                            0.3333333333333333,
                            "#9c179e"
                          ],
                          [
                            0.4444444444444444,
                            "#bd3786"
                          ],
                          [
                            0.5555555555555556,
                            "#d8576b"
                          ],
                          [
                            0.6666666666666666,
                            "#ed7953"
                          ],
                          [
                            0.7777777777777778,
                            "#fb9f3a"
                          ],
                          [
                            0.8888888888888888,
                            "#fdca26"
                          ],
                          [
                            1,
                            "#f0f921"
                          ]
                        ],
                        "type": "heatmap"
                      }
                    ],
                    "heatmapgl": [
                      {
                        "colorbar": {
                          "outlinewidth": 0,
                          "ticks": ""
                        },
                        "colorscale": [
                          [
                            0,
                            "#0d0887"
                          ],
                          [
                            0.1111111111111111,
                            "#46039f"
                          ],
                          [
                            0.2222222222222222,
                            "#7201a8"
                          ],
                          [
                            0.3333333333333333,
                            "#9c179e"
                          ],
                          [
                            0.4444444444444444,
                            "#bd3786"
                          ],
                          [
                            0.5555555555555556,
                            "#d8576b"
                          ],
                          [
                            0.6666666666666666,
                            "#ed7953"
                          ],
                          [
                            0.7777777777777778,
                            "#fb9f3a"
                          ],
                          [
                            0.8888888888888888,
                            "#fdca26"
                          ],
                          [
                            1,
                            "#f0f921"
                          ]
                        ],
                        "type": "heatmapgl"
                      }
                    ],
                    "histogram": [
                      {
                        "marker": {
                          "pattern": {
                            "fillmode": "overlay",
                            "size": 10,
                            "solidity": 0.2
                          }
                        },
                        "type": "histogram"
                      }
                    ],
                    "histogram2d": [
                      {
                        "colorbar": {
                          "outlinewidth": 0,
                          "ticks": ""
                        },
                        "colorscale": [
                          [
                            0,
                            "#0d0887"
                          ],
                          [
                            0.1111111111111111,
                            "#46039f"
                          ],
                          [
                            0.2222222222222222,
                            "#7201a8"
                          ],
                          [
                            0.3333333333333333,
                            "#9c179e"
                          ],
                          [
                            0.4444444444444444,
                            "#bd3786"
                          ],
                          [
                            0.5555555555555556,
                            "#d8576b"
                          ],
                          [
                            0.6666666666666666,
                            "#ed7953"
                          ],
                          [
                            0.7777777777777778,
                            "#fb9f3a"
                          ],
                          [
                            0.8888888888888888,
                            "#fdca26"
                          ],
                          [
                            1,
                            "#f0f921"
                          ]
                        ],
                        "type": "histogram2d"
                      }
                    ],
                    "histogram2dcontour": [
                      {
                        "colorbar": {
                          "outlinewidth": 0,
                          "ticks": ""
                        },
                        "colorscale": [
                          [
                            0,
                            "#0d0887"
                          ],
                          [
                            0.1111111111111111,
                            "#46039f"
                          ],
                          [
                            0.2222222222222222,
                            "#7201a8"
                          ],
                          [
                            0.3333333333333333,
                            "#9c179e"
                          ],
                          [
                            0.4444444444444444,
                            "#bd3786"
                          ],
                          [
                            0.5555555555555556,
                            "#d8576b"
                          ],
                          [
                            0.6666666666666666,
                            "#ed7953"
                          ],
                          [
                            0.7777777777777778,
                            "#fb9f3a"
                          ],
                          [
                            0.8888888888888888,
                            "#fdca26"
                          ],
                          [
                            1,
                            "#f0f921"
                          ]
                        ],
                        "type": "histogram2dcontour"
                      }
                    ],
                    "mesh3d": [
                      {
                        "colorbar": {
                          "outlinewidth": 0,
                          "ticks": ""
                        },
                        "type": "mesh3d"
                      }
                    ],
                    "parcoords": [
                      {
                        "line": {
                          "colorbar": {
                            "outlinewidth": 0,
                            "ticks": ""
                          }
                        },
                        "type": "parcoords"
                      }
                    ],
                    "pie": [
                      {
                        "automargin": true,
                        "type": "pie"
                      }
                    ],
                    "scatter": [
                      {
                        "fillpattern": {
                          "fillmode": "overlay",
                          "size": 10,
                          "solidity": 0.2
                        },
                        "type": "scatter"
                      }
                    ],
                    "scatter3d": [
                      {
                        "line": {
                          "colorbar": {
                            "outlinewidth": 0,
                            "ticks": ""
                          }
                        },
                        "marker": {
                          "colorbar": {
                            "outlinewidth": 0,
                            "ticks": ""
                          }
                        },
                        "type": "scatter3d"
                      }
                    ],
                    "scattercarpet": [
                      {
                        "marker": {
                          "colorbar": {
                            "outlinewidth": 0,
                            "ticks": ""
                          }
                        },
                        "type": "scattercarpet"
                      }
                    ],
                    "scattergeo": [
                      {
                        "marker": {
                          "colorbar": {
                            "outlinewidth": 0,
                            "ticks": ""
                          }
                        },
                        "type": "scattergeo"
                      }
                    ],
                    "scattergl": [
                      {
                        "marker": {
                          "colorbar": {
                            "outlinewidth": 0,
                            "ticks": ""
                          }
                        },
                        "type": "scattergl"
                      }
                    ],
                    "scattermapbox": [
                      {
                        "marker": {
                          "colorbar": {
                            "outlinewidth": 0,
                            "ticks": ""
                          }
                        },
                        "type": "scattermapbox"
                      }
                    ],
                    "scatterpolar": [
                      {
                        "marker": {
                          "colorbar": {
                            "outlinewidth": 0,
                            "ticks": ""
                          }
                        },
                        "type": "scatterpolar"
                      }
                    ],
                    "scatterpolargl": [
                      {
                        "marker": {
                          "colorbar": {
                            "outlinewidth": 0,
                            "ticks": ""
                          }
                        },
                        "type": "scatterpolargl"
                      }
                    ],
                    "scatterternary": [
                      {
                        "marker": {
                          "colorbar": {
                            "outlinewidth": 0,
                            "ticks": ""
                          }
                        },
                        "type": "scatterternary"
                      }
                    ],
                    "surface": [
                      {
                        "colorbar": {
                          "outlinewidth": 0,
                          "ticks": ""
                        },
                        "colorscale": [
                          [
                            0,
                            "#0d0887"
                          ],
                          [
                            0.1111111111111111,
                            "#46039f"
                          ],
                          [
                            0.2222222222222222,
                            "#7201a8"
                          ],
                          [
                            0.3333333333333333,
                            "#9c179e"
                          ],
                          [
                            0.4444444444444444,
                            "#bd3786"
                          ],
                          [
                            0.5555555555555556,
                            "#d8576b"
                          ],
                          [
                            0.6666666666666666,
                            "#ed7953"
                          ],
                          [
                            0.7777777777777778,
                            "#fb9f3a"
                          ],
                          [
                            0.8888888888888888,
                            "#fdca26"
                          ],
                          [
                            1,
                            "#f0f921"
                          ]
                        ],
                        "type": "surface"
                      }
                    ],
                    "table": [
                      {
                        "cells": {
                          "fill": {
                            "color": "#EBF0F8"
                          },
                          "line": {
                            "color": "white"
                          }
                        },
                        "header": {
                          "fill": {
                            "color": "#C8D4E3"
                          },
                          "line": {
                            "color": "white"
                          }
                        },
                        "type": "table"
                      }
                    ]
                  },
                  "layout": {
                    "annotationdefaults": {
                      "arrowcolor": "#2a3f5f",
                      "arrowhead": 0,
                      "arrowwidth": 1
                    },
                    "autotypenumbers": "strict",
                    "coloraxis": {
                      "colorbar": {
                        "outlinewidth": 0,
                        "ticks": ""
                      }
                    },
                    "colorscale": {
                      "diverging": [
                        [
                          0,
                          "#8e0152"
                        ],
                        [
                          0.1,
                          "#c51b7d"
                        ],
                        [
                          0.2,
                          "#de77ae"
                        ],
                        [
                          0.3,
                          "#f1b6da"
                        ],
                        [
                          0.4,
                          "#fde0ef"
                        ],
                        [
                          0.5,
                          "#f7f7f7"
                        ],
                        [
                          0.6,
                          "#e6f5d0"
                        ],
                        [
                          0.7,
                          "#b8e186"
                        ],
                        [
                          0.8,
                          "#7fbc41"
                        ],
                        [
                          0.9,
                          "#4d9221"
                        ],
                        [
                          1,
                          "#276419"
                        ]
                      ],
                      "sequential": [
                        [
                          0,
                          "#0d0887"
                        ],
                        [
                          0.1111111111111111,
                          "#46039f"
                        ],
                        [
                          0.2222222222222222,
                          "#7201a8"
                        ],
                        [
                          0.3333333333333333,
                          "#9c179e"
                        ],
                        [
                          0.4444444444444444,
                          "#bd3786"
                        ],
                        [
                          0.5555555555555556,
                          "#d8576b"
                        ],
                        [
                          0.6666666666666666,
                          "#ed7953"
                        ],
                        [
                          0.7777777777777778,
                          "#fb9f3a"
                        ],
                        [
                          0.8888888888888888,
                          "#fdca26"
                        ],
                        [
                          1,
                          "#f0f921"
                        ]
                      ],
                      "sequentialminus": [
                        [
                          0,
                          "#0d0887"
                        ],
                        [
                          0.1111111111111111,
                          "#46039f"
                        ],
                        [
                          0.2222222222222222,
                          "#7201a8"
                        ],
                        [
                          0.3333333333333333,
                          "#9c179e"
                        ],
                        [
                          0.4444444444444444,
                          "#bd3786"
                        ],
                        [
                          0.5555555555555556,
                          "#d8576b"
                        ],
                        [
                          0.6666666666666666,
                          "#ed7953"
                        ],
                        [
                          0.7777777777777778,
                          "#fb9f3a"
                        ],
                        [
                          0.8888888888888888,
                          "#fdca26"
                        ],
                        [
                          1,
                          "#f0f921"
                        ]
                      ]
                    },
                    "colorway": [
                      "#636efa",
                      "#EF553B",
                      "#00cc96",
                      "#ab63fa",
                      "#FFA15A",
                      "#19d3f3",
                      "#FF6692",
                      "#B6E880",
                      "#FF97FF",
                      "#FECB52"
                    ],
                    "font": {
                      "color": "#2a3f5f"
                    },
                    "geo": {
                      "bgcolor": "white",
                      "lakecolor": "white",
                      "landcolor": "#E5ECF6",
                      "showlakes": true,
                      "showland": true,
                      "subunitcolor": "white"
                    },
                    "hoverlabel": {
                      "align": "left"
                    },
                    "hovermode": "closest",
                    "mapbox": {
                      "style": "light"
                    },
                    "paper_bgcolor": "white",
                    "plot_bgcolor": "#E5ECF6",
                    "polar": {
                      "angularaxis": {
                        "gridcolor": "white",
                        "linecolor": "white",
                        "ticks": ""
                      },
                      "bgcolor": "#E5ECF6",
                      "radialaxis": {
                        "gridcolor": "white",
                        "linecolor": "white",
                        "ticks": ""
                      }
                    },
                    "scene": {
                      "xaxis": {
                        "backgroundcolor": "#E5ECF6",
                        "gridcolor": "white",
                        "gridwidth": 2,
                        "linecolor": "white",
                        "showbackground": true,
                        "ticks": "",
                        "zerolinecolor": "white"
                      },
                      "yaxis": {
                        "backgroundcolor": "#E5ECF6",
                        "gridcolor": "white",
                        "gridwidth": 2,
                        "linecolor": "white",
                        "showbackground": true,
                        "ticks": "",
                        "zerolinecolor": "white"
                      },
                      "zaxis": {
                        "backgroundcolor": "#E5ECF6",
                        "gridcolor": "white",
                        "gridwidth": 2,
                        "linecolor": "white",
                        "showbackground": true,
                        "ticks": "",
                        "zerolinecolor": "white"
                      }
                    },
                    "shapedefaults": {
                      "line": {
                        "color": "#2a3f5f"
                      }
                    },
                    "ternary": {
                      "aaxis": {
                        "gridcolor": "white",
                        "linecolor": "white",
                        "ticks": ""
                      },
                      "baxis": {
                        "gridcolor": "white",
                        "linecolor": "white",
                        "ticks": ""
                      },
                      "bgcolor": "#E5ECF6",
                      "caxis": {
                        "gridcolor": "white",
                        "linecolor": "white",
                        "ticks": ""
                      }
                    },
                    "title": {
                      "x": 0.05
                    },
                    "xaxis": {
                      "automargin": true,
                      "gridcolor": "white",
                      "linecolor": "white",
                      "ticks": "",
                      "title": {
                        "standoff": 15
                      },
                      "zerolinecolor": "white",
                      "zerolinewidth": 2
                    },
                    "yaxis": {
                      "automargin": true,
                      "gridcolor": "white",
                      "linecolor": "white",
                      "ticks": "",
                      "title": {
                        "standoff": 15
                      },
                      "zerolinecolor": "white",
                      "zerolinewidth": 2
                    }
                  }
                },
                "xaxis": {
                  "anchor": "y",
                  "domain": [
                    0,
                    1
                  ],
                  "rangeselector": {
                    "buttons": [
                      {
                        "count": 1,
                        "label": "YTD",
                        "step": "year",
                        "stepmode": "todate"
                      },
                      {
                        "count": 1,
                        "label": "1y",
                        "step": "year",
                        "stepmode": "backward"
                      },
                      {
                        "count": 3,
                        "label": "3y",
                        "step": "year",
                        "stepmode": "backward"
                      },
                      {
                        "count": 5,
                        "label": "5y",
                        "step": "year",
                        "stepmode": "backward"
                      },
                      {
                        "count": 7,
                        "label": "7y",
                        "step": "year",
                        "stepmode": "backward"
                      },
                      {
                        "count": 10,
                        "label": "10y",
                        "step": "year",
                        "stepmode": "backward"
                      },
                      {
                        "step": "all"
                      }
                    ]
                  },
                  "rangeslider": {
                    "visible": true
                  },
                  "title": {
                    "text": "Date"
                  }
                },
                "yaxis": {
                  "anchor": "x",
                  "domain": [
                    0,
                    1
                  ],
                  "title": {
                    "text": "Tổng số"
                  }
                }
              }
            }
          },
          "metadata": {},
          "output_type": "display_data"
        }
      ],
      "source": [
        "import pandas as pd\n",
        "import plotly.express as px\n",
        "import plotly.graph_objects as go\n",
        "\n",
        "df_show = dfs_gdp_ss[(dfs_gdp_ss[\"Ngành\"] == \"TỔNG SỐ\")]\n",
        "\n",
        "fig = px.area(df_show, x=\"Date\", y=\"Tổng số\", color=\"Ngành\")\n",
        "\n",
        "fig.update_xaxes(\n",
        "    rangeslider_visible=True,\n",
        "    rangeselector=dict(\n",
        "        buttons=[\n",
        "            dict(count=1, label=\"YTD\", step=\"year\", stepmode=\"todate\"),\n",
        "            dict(count=1, label=\"1y\", step=\"year\", stepmode=\"backward\"),\n",
        "            dict(count=3, label=\"3y\", step=\"year\", stepmode=\"backward\"),\n",
        "            dict(count=5, label=\"5y\", step=\"year\", stepmode=\"backward\"),\n",
        "            dict(count=7, label=\"7y\", step=\"year\", stepmode=\"backward\"),\n",
        "            dict(count=10, label=\"10y\", step=\"year\", stepmode=\"backward\"),\n",
        "            dict(step=\"all\"),\n",
        "        ]\n",
        "    ),\n",
        ")\n",
        "\n",
        "fig.show()"
      ]
    },
    {
      "cell_type": "code",
      "execution_count": null,
      "metadata": {},
      "outputs": [],
      "source": []
    }
  ],
  "metadata": {
    "kernelspec": {
      "display_name": "vn-macroeconomics",
      "language": "python",
      "name": "python3"
    },
    "language_info": {
      "codemirror_mode": {
        "name": "ipython",
        "version": 3
      },
      "file_extension": ".py",
      "mimetype": "text/x-python",
      "name": "python",
      "nbconvert_exporter": "python",
      "pygments_lexer": "ipython3",
      "version": "3.9.16"
    },
    "orig_nbformat": 4
  },
  "nbformat": 4,
  "nbformat_minor": 2
}
