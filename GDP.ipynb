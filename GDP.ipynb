{
  "cells": [
    {
      "cell_type": "code",
      "execution_count": 30,
      "metadata": {},
      "outputs": [],
      "source": [
        "import os\n",
        "import contextlib\n",
        "\n",
        "import pandas as pd\n",
        "import seaborn as sns\n",
        "from datetime import date\n",
        "import plotly.express as px\n",
        "import plotly.graph_objects as go"
      ]
    },
    {
      "cell_type": "code",
      "execution_count": 31,
      "metadata": {},
      "outputs": [],
      "source": [
        "def find_sheet_name(sheet_names):\n",
        "    gdp_sheet_names = list(filter(lambda x: \"gdp-ss\" in x.lower(), sheet_names))\n",
        "\n",
        "    if len(gdp_sheet_names) == 1:\n",
        "        return gdp_sheet_names[0]\n",
        "\n",
        "    gdp_sheet_names = list(filter(lambda x: \"gdp\" in x.lower() and \"ss\" in x.lower(), sheet_names))\n",
        "\n",
        "    if len(gdp_sheet_names) == 1:\n",
        "        return gdp_sheet_names[0]\n",
        "\n",
        "    gdp_sheet_names = list(filter(lambda x: \"gdp\" in x.lower(), sheet_names))\n",
        "\n",
        "    if len(gdp_sheet_names) == 1:\n",
        "        return gdp_sheet_names[0]\n",
        "\n",
        "    if len(sheet_names) == 43:\n",
        "        return \"2\"\n",
        "\n",
        "    raise RuntimeError(sheet_names)"
      ]
    },
    {
      "cell_type": "code",
      "execution_count": 32,
      "metadata": {},
      "outputs": [],
      "source": [
        "en_to_vn = {\n",
        "    \"TOTAL\": \"TỔNG SỐ\",\n",
        "    \"TỔNG SẢN PHẨM TRONG NƯỚC\": \"TỔNG SỐ\",\n",
        "    \"Agriculture, Forestry and Fishing\": \"Nông, lâm nghiệp và thủy sản\",\n",
        "    \"Agriculture\": \"Nông nghiệp\",\n",
        "    \"Forestry\": \"Lâm nghiệp\",\n",
        "    \"Fishery\": \"Thủy sản\",\n",
        "    \"Industry and Construction\": \"Công nghiệp và xây dựng\",\n",
        "    \"Industry\": \"Công nghiệp\",\n",
        "    \"Mining and quarrying\": \"Khai khoáng\",\n",
        "    \"Manufacturing\": \"Công nghiệp chế biến, chế tạo\",\n",
        "    \"Production & supply of electricity, gas, hot water, steam and air-conditioning\": \"Sản xuất và phân phối điện, khí đốt, nước nóng, hơi nước và điều hòa không khí\",\n",
        "    \"Water supply; sewerage, waste management and remediation activities\": \"Cung cấp nước; hoạt động quản lý và xử lý rác thải, nước thải\",\n",
        "    \"Construction\": \"Xây dựng\",\n",
        "    \"Services\": \"Dịch vụ\",\n",
        "    \"Wholesales, retails, vehicles and motorcycles repairs\": \"Bán buôn và bán lẻ; sửa chữa ô tô, mô tô, xe máy và xe có động cơ khác\",\n",
        "    \"Transportation and storage\": \"Vận tải, kho bãi\",\n",
        "    \"Accommodation & catering services\": \"Dịch vụ lưu trú và ăn uống\",\n",
        "    \"Information & communication\": \"Thông tin và truyền thông\",\n",
        "    \"Finance, banking & insurance\": \"Hoạt động tài chính, ngân hàng và bảo hiểm\",\n",
        "    \"Real estate business \": \"Hoạt động kinh doanh bất động sản\",\n",
        "    \"Scientific and technical specialty\": \"Hoạt động chuyên môn, khoa học và công nghệ\",\n",
        "    \"Administrative activity and supporting service\": \"Hoạt động hành chính và dịch vụ hỗ trợ\",\n",
        "    \"Activities of Communist Party, socio-political organizations; State management and national defense; compulsory social security\": \"Hoạt động của Đảng Cộng sản, tổ chức chính trị- xã hội; quản lý Nhà nước, an ninh quốc phòng; đảm bảo xã hội bắt buộc\",\n",
        "    \"Education and training\": \"Giáo dục và đào tạo\",\n",
        "    \"Health care & social relief\": \"Y tế và hoạt động trợ giúp xã hội\",\n",
        "    \"Art, entertainment and recreation\": \"Nghệ thuật, vui chơi và giải trí\",\n",
        "    \"Other service activities\": \"Hoạt động dịch vụ khác\",\n",
        "    \"Activities of households as employers; undifferentiated goods and services producing activities of households for own use\": \"Hoạt động làm thuê các công việc trong các hộ gia đình, sản xuất sản phẩm vật chất và dịch vụ tự tiêu dùng của hộ gia đình\",\n",
        "    \"Products taxes less subsidies on production\": \"Thuế sản phẩm trừ trợ cấp sản phẩm\",\n",
        "}"
      ]
    },
    {
      "cell_type": "code",
      "execution_count": 34,
      "metadata": {},
      "outputs": [
        {
          "data": {
            "text/html": [
              "<div>\n",
              "<style scoped>\n",
              "    .dataframe tbody tr th:only-of-type {\n",
              "        vertical-align: middle;\n",
              "    }\n",
              "\n",
              "    .dataframe tbody tr th {\n",
              "        vertical-align: top;\n",
              "    }\n",
              "\n",
              "    .dataframe thead th {\n",
              "        text-align: right;\n",
              "    }\n",
              "</style>\n",
              "<table border=\"1\" class=\"dataframe\">\n",
              "  <thead>\n",
              "    <tr style=\"text-align: right;\">\n",
              "      <th></th>\n",
              "      <th>Ngành</th>\n",
              "      <th>Tổng số</th>\n",
              "      <th>YOY</th>\n",
              "      <th>Date</th>\n",
              "    </tr>\n",
              "  </thead>\n",
              "  <tbody>\n",
              "    <tr>\n",
              "      <th>6</th>\n",
              "      <td>TỔNG SỐ</td>\n",
              "      <td>1320754.547853</td>\n",
              "      <td>3.318918</td>\n",
              "      <td>2023-03-29</td>\n",
              "    </tr>\n",
              "    <tr>\n",
              "      <th>7</th>\n",
              "      <td>Nông, lâm nghiệp và thủy sản</td>\n",
              "      <td>140836.347594</td>\n",
              "      <td>2.524398</td>\n",
              "      <td>2023-03-29</td>\n",
              "    </tr>\n",
              "    <tr>\n",
              "      <th>8</th>\n",
              "      <td>Nông nghiệp</td>\n",
              "      <td>109002.057998</td>\n",
              "      <td>2.429005</td>\n",
              "      <td>2023-03-29</td>\n",
              "    </tr>\n",
              "    <tr>\n",
              "      <th>9</th>\n",
              "      <td>Lâm nghiệp</td>\n",
              "      <td>5757.283307</td>\n",
              "      <td>3.656374</td>\n",
              "      <td>2023-03-29</td>\n",
              "    </tr>\n",
              "    <tr>\n",
              "      <th>10</th>\n",
              "      <td>Thủy sản</td>\n",
              "      <td>26077.006289</td>\n",
              "      <td>2.676548</td>\n",
              "      <td>2023-03-29</td>\n",
              "    </tr>\n",
              "    <tr>\n",
              "      <th>11</th>\n",
              "      <td>Công nghiệp và xây dựng</td>\n",
              "      <td>459242.836583</td>\n",
              "      <td>-0.404306</td>\n",
              "      <td>2023-03-29</td>\n",
              "    </tr>\n",
              "    <tr>\n",
              "      <th>12</th>\n",
              "      <td>Công nghiệp</td>\n",
              "      <td>388692.936749</td>\n",
              "      <td>-0.820734</td>\n",
              "      <td>2023-03-29</td>\n",
              "    </tr>\n",
              "    <tr>\n",
              "      <th>13</th>\n",
              "      <td>Khai khoáng</td>\n",
              "      <td>39265.773624</td>\n",
              "      <td>-5.600361</td>\n",
              "      <td>2023-03-29</td>\n",
              "    </tr>\n",
              "    <tr>\n",
              "      <th>14</th>\n",
              "      <td>Công nghiệp chế biến, chế tạo</td>\n",
              "      <td>297173.059846</td>\n",
              "      <td>-0.370883</td>\n",
              "      <td>2023-03-29</td>\n",
              "    </tr>\n",
              "    <tr>\n",
              "      <th>15</th>\n",
              "      <td>Sản xuất và phân phối điện, khí đốt, nước nóng...</td>\n",
              "      <td>45134.405362</td>\n",
              "      <td>-0.318631</td>\n",
              "      <td>2023-03-29</td>\n",
              "    </tr>\n",
              "    <tr>\n",
              "      <th>16</th>\n",
              "      <td>Cung cấp nước; hoạt động quản lý và xử lý rác ...</td>\n",
              "      <td>7119.697917</td>\n",
              "      <td>5.380101</td>\n",
              "      <td>2023-03-29</td>\n",
              "    </tr>\n",
              "    <tr>\n",
              "      <th>17</th>\n",
              "      <td>Xây dựng</td>\n",
              "      <td>70549.899834</td>\n",
              "      <td>1.954186</td>\n",
              "      <td>2023-03-29</td>\n",
              "    </tr>\n",
              "    <tr>\n",
              "      <th>18</th>\n",
              "      <td>Dịch vụ</td>\n",
              "      <td>590816.622577</td>\n",
              "      <td>6.788337</td>\n",
              "      <td>2023-03-29</td>\n",
              "    </tr>\n",
              "    <tr>\n",
              "      <th>19</th>\n",
              "      <td>Bán buôn và bán lẻ; sửa chữa ô tô, mô tô, xe m...</td>\n",
              "      <td>130312.853986</td>\n",
              "      <td>8.093934</td>\n",
              "      <td>2023-03-29</td>\n",
              "    </tr>\n",
              "    <tr>\n",
              "      <th>20</th>\n",
              "      <td>Vận tải, kho bãi</td>\n",
              "      <td>77665.063408</td>\n",
              "      <td>6.845681</td>\n",
              "      <td>2023-03-29</td>\n",
              "    </tr>\n",
              "    <tr>\n",
              "      <th>21</th>\n",
              "      <td>Dịch vụ lưu trú và ăn uống</td>\n",
              "      <td>35611.162811</td>\n",
              "      <td>25.977296</td>\n",
              "      <td>2023-03-29</td>\n",
              "    </tr>\n",
              "    <tr>\n",
              "      <th>22</th>\n",
              "      <td>Thông tin và truyền thông</td>\n",
              "      <td>78663.661933</td>\n",
              "      <td>1.49943</td>\n",
              "      <td>2023-03-29</td>\n",
              "    </tr>\n",
              "    <tr>\n",
              "      <th>23</th>\n",
              "      <td>Hoạt động tài chính, ngân hàng và bảo hiểm</td>\n",
              "      <td>72585.356935</td>\n",
              "      <td>7.64871</td>\n",
              "      <td>2023-03-29</td>\n",
              "    </tr>\n",
              "    <tr>\n",
              "      <th>24</th>\n",
              "      <td>Hoạt động kinh doanh bất động sản</td>\n",
              "      <td>46620.472853</td>\n",
              "      <td>-0.109786</td>\n",
              "      <td>2023-03-29</td>\n",
              "    </tr>\n",
              "    <tr>\n",
              "      <th>25</th>\n",
              "      <td>Hoạt động chuyên môn, khoa học và công nghệ</td>\n",
              "      <td>32669.268231</td>\n",
              "      <td>6.115981</td>\n",
              "      <td>2023-03-29</td>\n",
              "    </tr>\n",
              "    <tr>\n",
              "      <th>26</th>\n",
              "      <td>Hoạt động hành chính và dịch vụ hỗ trợ</td>\n",
              "      <td>22146.083386</td>\n",
              "      <td>17.985709</td>\n",
              "      <td>2023-03-29</td>\n",
              "    </tr>\n",
              "    <tr>\n",
              "      <th>27</th>\n",
              "      <td>Hoạt động của Đảng Cộng sản, tổ chức chính trị...</td>\n",
              "      <td>21787.461441</td>\n",
              "      <td>4.46</td>\n",
              "      <td>2023-03-29</td>\n",
              "    </tr>\n",
              "    <tr>\n",
              "      <th>28</th>\n",
              "      <td>Giáo dục và đào tạo</td>\n",
              "      <td>38010.094014</td>\n",
              "      <td>3.15</td>\n",
              "      <td>2023-03-29</td>\n",
              "    </tr>\n",
              "    <tr>\n",
              "      <th>29</th>\n",
              "      <td>Y tế và hoạt động trợ giúp xã hội</td>\n",
              "      <td>14935.339307</td>\n",
              "      <td>-1.55586</td>\n",
              "      <td>2023-03-29</td>\n",
              "    </tr>\n",
              "    <tr>\n",
              "      <th>30</th>\n",
              "      <td>Nghệ thuật, vui chơi và giải trí</td>\n",
              "      <td>9518.128616</td>\n",
              "      <td>12.721126</td>\n",
              "      <td>2023-03-29</td>\n",
              "    </tr>\n",
              "    <tr>\n",
              "      <th>31</th>\n",
              "      <td>Hoạt động dịch vụ khác</td>\n",
              "      <td>8770.432385</td>\n",
              "      <td>12.321905</td>\n",
              "      <td>2023-03-29</td>\n",
              "    </tr>\n",
              "    <tr>\n",
              "      <th>32</th>\n",
              "      <td>Hoạt động làm thuê các công việc trong các hộ ...</td>\n",
              "      <td>1521.243272</td>\n",
              "      <td>4.24</td>\n",
              "      <td>2023-03-29</td>\n",
              "    </tr>\n",
              "    <tr>\n",
              "      <th>33</th>\n",
              "      <td>Thuế sản phẩm trừ trợ cấp sản phẩm</td>\n",
              "      <td>129858.741099</td>\n",
              "      <td>2.58</td>\n",
              "      <td>2023-03-29</td>\n",
              "    </tr>\n",
              "  </tbody>\n",
              "</table>\n",
              "</div>"
            ],
            "text/plain": [
              "                                                Ngành         Tổng số  \\\n",
              "6                                             TỔNG SỐ  1320754.547853   \n",
              "7                        Nông, lâm nghiệp và thủy sản   140836.347594   \n",
              "8                                         Nông nghiệp   109002.057998   \n",
              "9                                          Lâm nghiệp     5757.283307   \n",
              "10                                           Thủy sản    26077.006289   \n",
              "11                            Công nghiệp và xây dựng   459242.836583   \n",
              "12                                        Công nghiệp   388692.936749   \n",
              "13                                        Khai khoáng    39265.773624   \n",
              "14                      Công nghiệp chế biến, chế tạo   297173.059846   \n",
              "15  Sản xuất và phân phối điện, khí đốt, nước nóng...    45134.405362   \n",
              "16  Cung cấp nước; hoạt động quản lý và xử lý rác ...     7119.697917   \n",
              "17                                           Xây dựng    70549.899834   \n",
              "18                                            Dịch vụ   590816.622577   \n",
              "19  Bán buôn và bán lẻ; sửa chữa ô tô, mô tô, xe m...   130312.853986   \n",
              "20                                   Vận tải, kho bãi    77665.063408   \n",
              "21                         Dịch vụ lưu trú và ăn uống    35611.162811   \n",
              "22                          Thông tin và truyền thông    78663.661933   \n",
              "23         Hoạt động tài chính, ngân hàng và bảo hiểm    72585.356935   \n",
              "24                  Hoạt động kinh doanh bất động sản    46620.472853   \n",
              "25        Hoạt động chuyên môn, khoa học và công nghệ    32669.268231   \n",
              "26             Hoạt động hành chính và dịch vụ hỗ trợ    22146.083386   \n",
              "27  Hoạt động của Đảng Cộng sản, tổ chức chính trị...    21787.461441   \n",
              "28                                Giáo dục và đào tạo    38010.094014   \n",
              "29                  Y tế và hoạt động trợ giúp xã hội    14935.339307   \n",
              "30                   Nghệ thuật, vui chơi và giải trí     9518.128616   \n",
              "31                             Hoạt động dịch vụ khác     8770.432385   \n",
              "32  Hoạt động làm thuê các công việc trong các hộ ...     1521.243272   \n",
              "33                 Thuế sản phẩm trừ trợ cấp sản phẩm   129858.741099   \n",
              "\n",
              "          YOY       Date  \n",
              "6    3.318918 2023-03-29  \n",
              "7    2.524398 2023-03-29  \n",
              "8    2.429005 2023-03-29  \n",
              "9    3.656374 2023-03-29  \n",
              "10   2.676548 2023-03-29  \n",
              "11  -0.404306 2023-03-29  \n",
              "12  -0.820734 2023-03-29  \n",
              "13  -5.600361 2023-03-29  \n",
              "14  -0.370883 2023-03-29  \n",
              "15  -0.318631 2023-03-29  \n",
              "16   5.380101 2023-03-29  \n",
              "17   1.954186 2023-03-29  \n",
              "18   6.788337 2023-03-29  \n",
              "19   8.093934 2023-03-29  \n",
              "20   6.845681 2023-03-29  \n",
              "21  25.977296 2023-03-29  \n",
              "22    1.49943 2023-03-29  \n",
              "23    7.64871 2023-03-29  \n",
              "24  -0.109786 2023-03-29  \n",
              "25   6.115981 2023-03-29  \n",
              "26  17.985709 2023-03-29  \n",
              "27       4.46 2023-03-29  \n",
              "28       3.15 2023-03-29  \n",
              "29   -1.55586 2023-03-29  \n",
              "30  12.721126 2023-03-29  \n",
              "31  12.321905 2023-03-29  \n",
              "32       4.24 2023-03-29  \n",
              "33       2.58 2023-03-29  "
            ]
          },
          "execution_count": 34,
          "metadata": {},
          "output_type": "execute_result"
        }
      ],
      "source": [
        "def get_gdp_ss(xl, sheet_name, date):\n",
        "    df = xl.parse(sheet_name)\n",
        "\n",
        "    df[df.columns[0]] = df[df.columns[0]].fillna(df[df.columns[1]])\n",
        "\n",
        "    if len(df.columns) == 8:\n",
        "        df = df.drop(\n",
        "            columns=[\n",
        "                df.columns[1],\n",
        "                df.columns[2],\n",
        "                df.columns[4],\n",
        "                # df.columns[5],\n",
        "                df.columns[6],\n",
        "                df.columns[7],\n",
        "            ]\n",
        "        )\n",
        "    elif len(df.columns) == 7:\n",
        "        df = df.drop(\n",
        "            columns=[\n",
        "                df.columns[1],\n",
        "                df.columns[2],\n",
        "                df.columns[3],\n",
        "                df.columns[4],\n",
        "                # df.columns[6],\n",
        "            ]\n",
        "        )\n",
        "    elif len(df.columns) == 5 and int(date.split(\"-\")[1]) == 12:\n",
        "        df = df.drop(columns=[df.columns[1], df.columns[2], df.columns[4]])\n",
        "    elif len(df.columns) == 6 and int(date.split(\"-\")[1]) == 12:\n",
        "        df = df.drop(\n",
        "            columns=[df.columns[1], df.columns[2], df.columns[4], df.columns[5]]\n",
        "        )\n",
        "    else:\n",
        "        raise RuntimeError(df.columns)\n",
        "\n",
        "    df[df.columns[0]] = (\n",
        "        df[df.columns[0]]\n",
        "        .replace(r\"\\s+\", \" \", regex=True)\n",
        "        .replace(r\"\\n\", \" \", regex=True)\n",
        "    )\n",
        "\n",
        "    df[df.columns[0]] = df[df.columns[0]].str.strip()\n",
        "\n",
        "    df = df.drop(\n",
        "        list(\n",
        "            range(\n",
        "                df[df.columns[0]][\n",
        "                    (df[df.columns[0]] == \"TỔNG SỐ\")\n",
        "                    | (df[df.columns[0]] == \"TOTAL\")\n",
        "                    | (df[df.columns[0]] == \"TỔNG SẢN PHẨM TRONG NƯỚC\")\n",
        "                ].index[0]\n",
        "            )\n",
        "        )\n",
        "    )\n",
        "\n",
        "    df.columns = [\"Ngành\", \"Tổng số\", \"YOY\"]\n",
        "\n",
        "    df[df[\"Ngành\"] == \"TỔNG SẢN PHẨM TRONG NƯỚC\"] = \"TỔNG SỐ\"\n",
        "\n",
        "    if len(df[\"Ngành\"][df[\"Ngành\"] == \"TOTAL\"].index) > 0:\n",
        "        df[\"Ngành\"] = df[\"Ngành\"].map(en_to_vn)\n",
        "\n",
        "    df = df[pd.to_numeric(df[df.columns[1]], errors=\"coerce\").notnull()]\n",
        "\n",
        "    df[\"YOY\"] = df[\"YOY\"] - 100\n",
        "\n",
        "    df[\"Date\"] = date\n",
        "    df[\"Date\"] = pd.to_datetime(df[\"Date\"], dayfirst=False)\n",
        "    return df\n",
        "\n",
        "\n",
        "xl = pd.ExcelFile(\"datas/2023-03-29-02-Bieu-T3.2023-3.xlsx\")\n",
        "\n",
        "sheet_name = find_sheet_name(xl.sheet_names)\n",
        "\n",
        "get_gdp_ss(xl, sheet_name, \"2023-03-29\")"
      ]
    },
    {
      "cell_type": "code",
      "execution_count": 35,
      "metadata": {},
      "outputs": [],
      "source": [
        "import os\n",
        "import contextlib\n",
        "\n",
        "dfs_gdp_ss_origin = []\n",
        "for file_name in sorted(\n",
        "    os.listdir(\"./datas\"),\n",
        "    key=lambda filename: f\"{filename.split('-')[0]}-{filename.split('-')[1]}-{filename.split('-')[2]}\",\n",
        "    reverse=True,\n",
        "):\n",
        "    try:\n",
        "        file_path = os.path.join(\"./datas\", file_name)\n",
        "\n",
        "        year = int(file_name.split(\"-\")[0])\n",
        "        month = int(file_name.split(\"-\")[1])\n",
        "        day = int(file_name.split(\"-\")[2])\n",
        "\n",
        "        if year < 2018:\n",
        "            continue\n",
        "\n",
        "        if month not in [3, 6, 9, 12]:\n",
        "            continue\n",
        "\n",
        "        xl = pd.ExcelFile(file_path)\n",
        "\n",
        "        df_gdp = get_gdp_ss(xl, find_sheet_name(xl.sheet_names), f\"{year}-{month}-{day}\")\n",
        "\n",
        "        dfs_gdp_ss_origin.append(df_gdp)\n",
        "    except Exception as e:\n",
        "        print(file_name)"
      ]
    },
    {
      "cell_type": "code",
      "execution_count": 36,
      "metadata": {},
      "outputs": [
        {
          "data": {
            "text/html": [
              "<div>\n",
              "<style scoped>\n",
              "    .dataframe tbody tr th:only-of-type {\n",
              "        vertical-align: middle;\n",
              "    }\n",
              "\n",
              "    .dataframe tbody tr th {\n",
              "        vertical-align: top;\n",
              "    }\n",
              "\n",
              "    .dataframe thead th {\n",
              "        text-align: right;\n",
              "    }\n",
              "</style>\n",
              "<table border=\"1\" class=\"dataframe\">\n",
              "  <thead>\n",
              "    <tr style=\"text-align: right;\">\n",
              "      <th></th>\n",
              "      <th>Ngành</th>\n",
              "      <th>Tổng số</th>\n",
              "      <th>YOY</th>\n",
              "      <th>Date</th>\n",
              "    </tr>\n",
              "  </thead>\n",
              "  <tbody>\n",
              "    <tr>\n",
              "      <th>0</th>\n",
              "      <td>TỔNG SỐ</td>\n",
              "      <td>1643902.24118</td>\n",
              "      <td>5.469892</td>\n",
              "      <td>2023-12-29</td>\n",
              "    </tr>\n",
              "    <tr>\n",
              "      <th>1</th>\n",
              "      <td>Nông, lâm nghiệp và thủy sản</td>\n",
              "      <td>184544.946662</td>\n",
              "      <td>4.304804</td>\n",
              "      <td>2023-12-29</td>\n",
              "    </tr>\n",
              "    <tr>\n",
              "      <th>2</th>\n",
              "      <td>Nông nghiệp</td>\n",
              "      <td>140131.988632</td>\n",
              "      <td>4.486614</td>\n",
              "      <td>2023-12-29</td>\n",
              "    </tr>\n",
              "    <tr>\n",
              "      <th>3</th>\n",
              "      <td>Lâm nghiệp</td>\n",
              "      <td>8660.257316</td>\n",
              "      <td>3.529904</td>\n",
              "      <td>2023-12-29</td>\n",
              "    </tr>\n",
              "    <tr>\n",
              "      <th>4</th>\n",
              "      <td>Thủy sản</td>\n",
              "      <td>35752.700714</td>\n",
              "      <td>3.918206</td>\n",
              "      <td>2023-12-29</td>\n",
              "    </tr>\n",
              "    <tr>\n",
              "      <th>...</th>\n",
              "      <td>...</td>\n",
              "      <td>...</td>\n",
              "      <td>...</td>\n",
              "      <td>...</td>\n",
              "    </tr>\n",
              "    <tr>\n",
              "      <th>666</th>\n",
              "      <td>Y tế và hoạt động trợ giúp xã hội</td>\n",
              "      <td>8381</td>\n",
              "      <td>6.97</td>\n",
              "      <td>2018-03-29</td>\n",
              "    </tr>\n",
              "    <tr>\n",
              "      <th>667</th>\n",
              "      <td>Nghệ thuật, vui chơi và giải trí</td>\n",
              "      <td>4822</td>\n",
              "      <td>7.08</td>\n",
              "      <td>2018-03-29</td>\n",
              "    </tr>\n",
              "    <tr>\n",
              "      <th>668</th>\n",
              "      <td>Hoạt động dịch vụ khác</td>\n",
              "      <td>11510</td>\n",
              "      <td>5.78</td>\n",
              "      <td>2018-03-29</td>\n",
              "    </tr>\n",
              "    <tr>\n",
              "      <th>669</th>\n",
              "      <td>Hoạt động làm thuê các công việc trong các hộ ...</td>\n",
              "      <td>1113</td>\n",
              "      <td>6.1</td>\n",
              "      <td>2018-03-29</td>\n",
              "    </tr>\n",
              "    <tr>\n",
              "      <th>670</th>\n",
              "      <td>Thuế sản phẩm trừ trợ cấp sản phẩm</td>\n",
              "      <td>79247</td>\n",
              "      <td>6.15</td>\n",
              "      <td>2018-03-29</td>\n",
              "    </tr>\n",
              "  </tbody>\n",
              "</table>\n",
              "<p>671 rows × 4 columns</p>\n",
              "</div>"
            ],
            "text/plain": [
              "                                                 Ngành        Tổng số  \\\n",
              "0                                              TỔNG SỐ  1643902.24118   \n",
              "1                         Nông, lâm nghiệp và thủy sản  184544.946662   \n",
              "2                                          Nông nghiệp  140131.988632   \n",
              "3                                           Lâm nghiệp    8660.257316   \n",
              "4                                             Thủy sản   35752.700714   \n",
              "..                                                 ...            ...   \n",
              "666                  Y tế và hoạt động trợ giúp xã hội           8381   \n",
              "667                   Nghệ thuật, vui chơi và giải trí           4822   \n",
              "668                             Hoạt động dịch vụ khác          11510   \n",
              "669  Hoạt động làm thuê các công việc trong các hộ ...           1113   \n",
              "670                 Thuế sản phẩm trừ trợ cấp sản phẩm          79247   \n",
              "\n",
              "          YOY       Date  \n",
              "0    5.469892 2023-12-29  \n",
              "1    4.304804 2023-12-29  \n",
              "2    4.486614 2023-12-29  \n",
              "3    3.529904 2023-12-29  \n",
              "4    3.918206 2023-12-29  \n",
              "..        ...        ...  \n",
              "666      6.97 2018-03-29  \n",
              "667      7.08 2018-03-29  \n",
              "668      5.78 2018-03-29  \n",
              "669       6.1 2018-03-29  \n",
              "670      6.15 2018-03-29  \n",
              "\n",
              "[671 rows x 4 columns]"
            ]
          },
          "execution_count": 36,
          "metadata": {},
          "output_type": "execute_result"
        }
      ],
      "source": [
        "dfs_gdp_ss = pd.concat(dfs_gdp_ss_origin, ignore_index=True, axis=0)\n",
        "dfs_gdp_ss[\"Date\"] = pd.to_datetime(dfs_gdp_ss[\"Date\"], dayfirst=False)\n",
        "dfs_gdp_ss"
      ]
    },
    {
      "cell_type": "code",
      "execution_count": 37,
      "metadata": {},
      "outputs": [
        {
          "name": "stdout",
          "output_type": "stream",
          "text": [
            "       Ngành         Tổng số        YOY       Date   PCT_YOY\n",
            "0    TỔNG SỐ   1643902.24118   5.469892 2023-12-29  0.068196\n",
            "28   TỔNG SỐ  1450322.454378     4.0511 2023-09-29  0.053768\n",
            "56   TỔNG SỐ  1407472.978003   3.275457 2023-06-29  0.045033\n",
            "84   TỔNG SỐ  1320754.547853   3.318918 2023-03-29  0.052132\n",
            "112  TỔNG SỐ  1538951.343532  13.714433 2022-12-29  0.048697\n",
            "140  TỔNG SỐ   1376320.95164   7.828583 2022-09-29  0.145916\n",
            "168  TỔNG SỐ  1346821.301552   5.052648 2022-06-29  0.078481\n",
            "196  TỔNG SỐ  1255312.381476    5.03183 2022-03-29  0.055580\n",
            "224  TỔNG SỐ  1467489.725843  -6.024775 2021-12-29  0.156975\n",
            "252  TỔNG SỐ  1201065.954588   6.570692 2021-09-29  0.220931\n",
            "280  TỔNG SỐ         1248813   4.650437 2021-06-29  0.406539\n",
            "308  TỔNG SỐ    1189215.6721       4.48 2021-03-29  0.681529\n",
            "336  TỔNG SỐ  1268385.274728   2.690682 2020-12-27  0.044754\n",
            "364  TỔNG SỐ   983729.772117   0.387376 2020-09-29  0.027813\n",
            "392  TỔNG SỐ   887862.394367    3.68211 2020-06-29  0.003792\n",
            "420  TỔNG SỐ   707222.748435   3.820807 2020-03-27  0.038491\n",
            "448  TỔNG SỐ   1214051.99189   7.483672 2019-12-27  0.069684\n",
            "476  TỔNG SỐ   957109.475407   6.733522 2019-09-28  0.072520\n",
            "504  TỔNG SỐ    884508.41942   6.821605 2019-06-28  0.388021\n",
            "532  TỔNG SỐ    681009.97149   6.792505 2019-03-29       NaN\n",
            "560  TỔNG SỐ  1134962.880335    6.82303 2018-12-27       NaN\n",
            "588  TỔNG SỐ        892393.1   6.733073 2018-09-28       NaN\n",
            "643  TỔNG SỐ   637244.068843   7.378208 2018-03-29       NaN\n"
          ]
        },
        {
          "name": "stderr",
          "output_type": "stream",
          "text": [
            "/tmp/ipykernel_9965/1353601895.py:4: SettingWithCopyWarning:\n",
            "\n",
            "\n",
            "A value is trying to be set on a copy of a slice from a DataFrame.\n",
            "Try using .loc[row_indexer,col_indexer] = value instead\n",
            "\n",
            "See the caveats in the documentation: https://pandas.pydata.org/pandas-docs/stable/user_guide/indexing.html#returning-a-view-versus-a-copy\n",
            "\n"
          ]
        }
      ],
      "source": [
        "nganh = \"TỔNG SỐ\"\n",
        "dfs_gdp_ss_per_nganh = dfs_gdp_ss[dfs_gdp_ss[\"Ngành\"] == nganh]\n",
        "\n",
        "dfs_gdp_ss_per_nganh[\"PCT_YOY\"] = dfs_gdp_ss_per_nganh[\"Tổng số\"].pct_change(-4)\n",
        "print(dfs_gdp_ss_per_nganh)"
      ]
    },
    {
      "cell_type": "code",
      "execution_count": 38,
      "metadata": {},
      "outputs": [
        {
          "name": "stderr",
          "output_type": "stream",
          "text": [
            "/home/hien/.pyenv/versions/3.9.16/envs/vn-macroeconomics/lib/python3.9/site-packages/_plotly_utils/basevalidators.py:105: FutureWarning:\n",
            "\n",
            "The behavior of DatetimeProperties.to_pydatetime is deprecated, in a future version this will return a Series containing python datetime objects instead of an ndarray. To retain the old behavior, call `np.array` on the result\n",
            "\n"
          ]
        },
        {
          "data": {
            "application/vnd.plotly.v1+json": {
              "config": {
                "plotlyServerURL": "https://plot.ly"
              },
              "data": [
                {
                  "fillpattern": {
                    "shape": ""
                  },
                  "hovertemplate": "Ngành=TỔNG SỐ<br>Date=%{x}<br>PCT_YOY=%{y}<extra></extra>",
                  "legendgroup": "TỔNG SỐ",
                  "line": {
                    "color": "#636efa"
                  },
                  "marker": {
                    "symbol": "circle"
                  },
                  "mode": "lines",
                  "name": "TỔNG SỐ",
                  "orientation": "v",
                  "showlegend": true,
                  "stackgroup": "1",
                  "type": "scatter",
                  "x": [
                    "2023-12-29T00:00:00",
                    "2023-09-29T00:00:00",
                    "2023-06-29T00:00:00",
                    "2023-03-29T00:00:00",
                    "2022-12-29T00:00:00",
                    "2022-09-29T00:00:00",
                    "2022-06-29T00:00:00",
                    "2022-03-29T00:00:00",
                    "2021-12-29T00:00:00",
                    "2021-09-29T00:00:00",
                    "2021-06-29T00:00:00",
                    "2021-03-29T00:00:00",
                    "2020-12-27T00:00:00",
                    "2020-09-29T00:00:00",
                    "2020-06-29T00:00:00",
                    "2020-03-27T00:00:00",
                    "2019-12-27T00:00:00",
                    "2019-09-28T00:00:00",
                    "2019-06-28T00:00:00",
                    "2019-03-29T00:00:00",
                    "2018-12-27T00:00:00",
                    "2018-09-28T00:00:00",
                    "2018-03-29T00:00:00"
                  ],
                  "xaxis": "x",
                  "y": [
                    0.06819637156758862,
                    0.05376762058962181,
                    0.04503320253461918,
                    0.052132176295519805,
                    0.04869650289921146,
                    0.14591621416208134,
                    0.07848116695784602,
                    0.05558008604043008,
                    0.15697474188825167,
                    0.22093077655113236,
                    0.4065389050402557,
                    0.6815291571589539,
                    0.04475367051898549,
                    0.027813220320613397,
                    0.0037919084473987397,
                    0.03849103249923358,
                    0.06968431560636201,
                    0.07252003114654348,
                    0.3880214232924397,
                    null,
                    null,
                    null,
                    null
                  ],
                  "yaxis": "y"
                }
              ],
              "layout": {
                "legend": {
                  "title": {
                    "text": "Ngành"
                  },
                  "tracegroupgap": 0
                },
                "margin": {
                  "t": 60
                },
                "template": {
                  "data": {
                    "bar": [
                      {
                        "error_x": {
                          "color": "#2a3f5f"
                        },
                        "error_y": {
                          "color": "#2a3f5f"
                        },
                        "marker": {
                          "line": {
                            "color": "#E5ECF6",
                            "width": 0.5
                          },
                          "pattern": {
                            "fillmode": "overlay",
                            "size": 10,
                            "solidity": 0.2
                          }
                        },
                        "type": "bar"
                      }
                    ],
                    "barpolar": [
                      {
                        "marker": {
                          "line": {
                            "color": "#E5ECF6",
                            "width": 0.5
                          },
                          "pattern": {
                            "fillmode": "overlay",
                            "size": 10,
                            "solidity": 0.2
                          }
                        },
                        "type": "barpolar"
                      }
                    ],
                    "carpet": [
                      {
                        "aaxis": {
                          "endlinecolor": "#2a3f5f",
                          "gridcolor": "white",
                          "linecolor": "white",
                          "minorgridcolor": "white",
                          "startlinecolor": "#2a3f5f"
                        },
                        "baxis": {
                          "endlinecolor": "#2a3f5f",
                          "gridcolor": "white",
                          "linecolor": "white",
                          "minorgridcolor": "white",
                          "startlinecolor": "#2a3f5f"
                        },
                        "type": "carpet"
                      }
                    ],
                    "choropleth": [
                      {
                        "colorbar": {
                          "outlinewidth": 0,
                          "ticks": ""
                        },
                        "type": "choropleth"
                      }
                    ],
                    "contour": [
                      {
                        "colorbar": {
                          "outlinewidth": 0,
                          "ticks": ""
                        },
                        "colorscale": [
                          [
                            0,
                            "#0d0887"
                          ],
                          [
                            0.1111111111111111,
                            "#46039f"
                          ],
                          [
                            0.2222222222222222,
                            "#7201a8"
                          ],
                          [
                            0.3333333333333333,
                            "#9c179e"
                          ],
                          [
                            0.4444444444444444,
                            "#bd3786"
                          ],
                          [
                            0.5555555555555556,
                            "#d8576b"
                          ],
                          [
                            0.6666666666666666,
                            "#ed7953"
                          ],
                          [
                            0.7777777777777778,
                            "#fb9f3a"
                          ],
                          [
                            0.8888888888888888,
                            "#fdca26"
                          ],
                          [
                            1,
                            "#f0f921"
                          ]
                        ],
                        "type": "contour"
                      }
                    ],
                    "contourcarpet": [
                      {
                        "colorbar": {
                          "outlinewidth": 0,
                          "ticks": ""
                        },
                        "type": "contourcarpet"
                      }
                    ],
                    "heatmap": [
                      {
                        "colorbar": {
                          "outlinewidth": 0,
                          "ticks": ""
                        },
                        "colorscale": [
                          [
                            0,
                            "#0d0887"
                          ],
                          [
                            0.1111111111111111,
                            "#46039f"
                          ],
                          [
                            0.2222222222222222,
                            "#7201a8"
                          ],
                          [
                            0.3333333333333333,
                            "#9c179e"
                          ],
                          [
                            0.4444444444444444,
                            "#bd3786"
                          ],
                          [
                            0.5555555555555556,
                            "#d8576b"
                          ],
                          [
                            0.6666666666666666,
                            "#ed7953"
                          ],
                          [
                            0.7777777777777778,
                            "#fb9f3a"
                          ],
                          [
                            0.8888888888888888,
                            "#fdca26"
                          ],
                          [
                            1,
                            "#f0f921"
                          ]
                        ],
                        "type": "heatmap"
                      }
                    ],
                    "heatmapgl": [
                      {
                        "colorbar": {
                          "outlinewidth": 0,
                          "ticks": ""
                        },
                        "colorscale": [
                          [
                            0,
                            "#0d0887"
                          ],
                          [
                            0.1111111111111111,
                            "#46039f"
                          ],
                          [
                            0.2222222222222222,
                            "#7201a8"
                          ],
                          [
                            0.3333333333333333,
                            "#9c179e"
                          ],
                          [
                            0.4444444444444444,
                            "#bd3786"
                          ],
                          [
                            0.5555555555555556,
                            "#d8576b"
                          ],
                          [
                            0.6666666666666666,
                            "#ed7953"
                          ],
                          [
                            0.7777777777777778,
                            "#fb9f3a"
                          ],
                          [
                            0.8888888888888888,
                            "#fdca26"
                          ],
                          [
                            1,
                            "#f0f921"
                          ]
                        ],
                        "type": "heatmapgl"
                      }
                    ],
                    "histogram": [
                      {
                        "marker": {
                          "pattern": {
                            "fillmode": "overlay",
                            "size": 10,
                            "solidity": 0.2
                          }
                        },
                        "type": "histogram"
                      }
                    ],
                    "histogram2d": [
                      {
                        "colorbar": {
                          "outlinewidth": 0,
                          "ticks": ""
                        },
                        "colorscale": [
                          [
                            0,
                            "#0d0887"
                          ],
                          [
                            0.1111111111111111,
                            "#46039f"
                          ],
                          [
                            0.2222222222222222,
                            "#7201a8"
                          ],
                          [
                            0.3333333333333333,
                            "#9c179e"
                          ],
                          [
                            0.4444444444444444,
                            "#bd3786"
                          ],
                          [
                            0.5555555555555556,
                            "#d8576b"
                          ],
                          [
                            0.6666666666666666,
                            "#ed7953"
                          ],
                          [
                            0.7777777777777778,
                            "#fb9f3a"
                          ],
                          [
                            0.8888888888888888,
                            "#fdca26"
                          ],
                          [
                            1,
                            "#f0f921"
                          ]
                        ],
                        "type": "histogram2d"
                      }
                    ],
                    "histogram2dcontour": [
                      {
                        "colorbar": {
                          "outlinewidth": 0,
                          "ticks": ""
                        },
                        "colorscale": [
                          [
                            0,
                            "#0d0887"
                          ],
                          [
                            0.1111111111111111,
                            "#46039f"
                          ],
                          [
                            0.2222222222222222,
                            "#7201a8"
                          ],
                          [
                            0.3333333333333333,
                            "#9c179e"
                          ],
                          [
                            0.4444444444444444,
                            "#bd3786"
                          ],
                          [
                            0.5555555555555556,
                            "#d8576b"
                          ],
                          [
                            0.6666666666666666,
                            "#ed7953"
                          ],
                          [
                            0.7777777777777778,
                            "#fb9f3a"
                          ],
                          [
                            0.8888888888888888,
                            "#fdca26"
                          ],
                          [
                            1,
                            "#f0f921"
                          ]
                        ],
                        "type": "histogram2dcontour"
                      }
                    ],
                    "mesh3d": [
                      {
                        "colorbar": {
                          "outlinewidth": 0,
                          "ticks": ""
                        },
                        "type": "mesh3d"
                      }
                    ],
                    "parcoords": [
                      {
                        "line": {
                          "colorbar": {
                            "outlinewidth": 0,
                            "ticks": ""
                          }
                        },
                        "type": "parcoords"
                      }
                    ],
                    "pie": [
                      {
                        "automargin": true,
                        "type": "pie"
                      }
                    ],
                    "scatter": [
                      {
                        "fillpattern": {
                          "fillmode": "overlay",
                          "size": 10,
                          "solidity": 0.2
                        },
                        "type": "scatter"
                      }
                    ],
                    "scatter3d": [
                      {
                        "line": {
                          "colorbar": {
                            "outlinewidth": 0,
                            "ticks": ""
                          }
                        },
                        "marker": {
                          "colorbar": {
                            "outlinewidth": 0,
                            "ticks": ""
                          }
                        },
                        "type": "scatter3d"
                      }
                    ],
                    "scattercarpet": [
                      {
                        "marker": {
                          "colorbar": {
                            "outlinewidth": 0,
                            "ticks": ""
                          }
                        },
                        "type": "scattercarpet"
                      }
                    ],
                    "scattergeo": [
                      {
                        "marker": {
                          "colorbar": {
                            "outlinewidth": 0,
                            "ticks": ""
                          }
                        },
                        "type": "scattergeo"
                      }
                    ],
                    "scattergl": [
                      {
                        "marker": {
                          "colorbar": {
                            "outlinewidth": 0,
                            "ticks": ""
                          }
                        },
                        "type": "scattergl"
                      }
                    ],
                    "scattermapbox": [
                      {
                        "marker": {
                          "colorbar": {
                            "outlinewidth": 0,
                            "ticks": ""
                          }
                        },
                        "type": "scattermapbox"
                      }
                    ],
                    "scatterpolar": [
                      {
                        "marker": {
                          "colorbar": {
                            "outlinewidth": 0,
                            "ticks": ""
                          }
                        },
                        "type": "scatterpolar"
                      }
                    ],
                    "scatterpolargl": [
                      {
                        "marker": {
                          "colorbar": {
                            "outlinewidth": 0,
                            "ticks": ""
                          }
                        },
                        "type": "scatterpolargl"
                      }
                    ],
                    "scatterternary": [
                      {
                        "marker": {
                          "colorbar": {
                            "outlinewidth": 0,
                            "ticks": ""
                          }
                        },
                        "type": "scatterternary"
                      }
                    ],
                    "surface": [
                      {
                        "colorbar": {
                          "outlinewidth": 0,
                          "ticks": ""
                        },
                        "colorscale": [
                          [
                            0,
                            "#0d0887"
                          ],
                          [
                            0.1111111111111111,
                            "#46039f"
                          ],
                          [
                            0.2222222222222222,
                            "#7201a8"
                          ],
                          [
                            0.3333333333333333,
                            "#9c179e"
                          ],
                          [
                            0.4444444444444444,
                            "#bd3786"
                          ],
                          [
                            0.5555555555555556,
                            "#d8576b"
                          ],
                          [
                            0.6666666666666666,
                            "#ed7953"
                          ],
                          [
                            0.7777777777777778,
                            "#fb9f3a"
                          ],
                          [
                            0.8888888888888888,
                            "#fdca26"
                          ],
                          [
                            1,
                            "#f0f921"
                          ]
                        ],
                        "type": "surface"
                      }
                    ],
                    "table": [
                      {
                        "cells": {
                          "fill": {
                            "color": "#EBF0F8"
                          },
                          "line": {
                            "color": "white"
                          }
                        },
                        "header": {
                          "fill": {
                            "color": "#C8D4E3"
                          },
                          "line": {
                            "color": "white"
                          }
                        },
                        "type": "table"
                      }
                    ]
                  },
                  "layout": {
                    "annotationdefaults": {
                      "arrowcolor": "#2a3f5f",
                      "arrowhead": 0,
                      "arrowwidth": 1
                    },
                    "autotypenumbers": "strict",
                    "coloraxis": {
                      "colorbar": {
                        "outlinewidth": 0,
                        "ticks": ""
                      }
                    },
                    "colorscale": {
                      "diverging": [
                        [
                          0,
                          "#8e0152"
                        ],
                        [
                          0.1,
                          "#c51b7d"
                        ],
                        [
                          0.2,
                          "#de77ae"
                        ],
                        [
                          0.3,
                          "#f1b6da"
                        ],
                        [
                          0.4,
                          "#fde0ef"
                        ],
                        [
                          0.5,
                          "#f7f7f7"
                        ],
                        [
                          0.6,
                          "#e6f5d0"
                        ],
                        [
                          0.7,
                          "#b8e186"
                        ],
                        [
                          0.8,
                          "#7fbc41"
                        ],
                        [
                          0.9,
                          "#4d9221"
                        ],
                        [
                          1,
                          "#276419"
                        ]
                      ],
                      "sequential": [
                        [
                          0,
                          "#0d0887"
                        ],
                        [
                          0.1111111111111111,
                          "#46039f"
                        ],
                        [
                          0.2222222222222222,
                          "#7201a8"
                        ],
                        [
                          0.3333333333333333,
                          "#9c179e"
                        ],
                        [
                          0.4444444444444444,
                          "#bd3786"
                        ],
                        [
                          0.5555555555555556,
                          "#d8576b"
                        ],
                        [
                          0.6666666666666666,
                          "#ed7953"
                        ],
                        [
                          0.7777777777777778,
                          "#fb9f3a"
                        ],
                        [
                          0.8888888888888888,
                          "#fdca26"
                        ],
                        [
                          1,
                          "#f0f921"
                        ]
                      ],
                      "sequentialminus": [
                        [
                          0,
                          "#0d0887"
                        ],
                        [
                          0.1111111111111111,
                          "#46039f"
                        ],
                        [
                          0.2222222222222222,
                          "#7201a8"
                        ],
                        [
                          0.3333333333333333,
                          "#9c179e"
                        ],
                        [
                          0.4444444444444444,
                          "#bd3786"
                        ],
                        [
                          0.5555555555555556,
                          "#d8576b"
                        ],
                        [
                          0.6666666666666666,
                          "#ed7953"
                        ],
                        [
                          0.7777777777777778,
                          "#fb9f3a"
                        ],
                        [
                          0.8888888888888888,
                          "#fdca26"
                        ],
                        [
                          1,
                          "#f0f921"
                        ]
                      ]
                    },
                    "colorway": [
                      "#636efa",
                      "#EF553B",
                      "#00cc96",
                      "#ab63fa",
                      "#FFA15A",
                      "#19d3f3",
                      "#FF6692",
                      "#B6E880",
                      "#FF97FF",
                      "#FECB52"
                    ],
                    "font": {
                      "color": "#2a3f5f"
                    },
                    "geo": {
                      "bgcolor": "white",
                      "lakecolor": "white",
                      "landcolor": "#E5ECF6",
                      "showlakes": true,
                      "showland": true,
                      "subunitcolor": "white"
                    },
                    "hoverlabel": {
                      "align": "left"
                    },
                    "hovermode": "closest",
                    "mapbox": {
                      "style": "light"
                    },
                    "paper_bgcolor": "white",
                    "plot_bgcolor": "#E5ECF6",
                    "polar": {
                      "angularaxis": {
                        "gridcolor": "white",
                        "linecolor": "white",
                        "ticks": ""
                      },
                      "bgcolor": "#E5ECF6",
                      "radialaxis": {
                        "gridcolor": "white",
                        "linecolor": "white",
                        "ticks": ""
                      }
                    },
                    "scene": {
                      "xaxis": {
                        "backgroundcolor": "#E5ECF6",
                        "gridcolor": "white",
                        "gridwidth": 2,
                        "linecolor": "white",
                        "showbackground": true,
                        "ticks": "",
                        "zerolinecolor": "white"
                      },
                      "yaxis": {
                        "backgroundcolor": "#E5ECF6",
                        "gridcolor": "white",
                        "gridwidth": 2,
                        "linecolor": "white",
                        "showbackground": true,
                        "ticks": "",
                        "zerolinecolor": "white"
                      },
                      "zaxis": {
                        "backgroundcolor": "#E5ECF6",
                        "gridcolor": "white",
                        "gridwidth": 2,
                        "linecolor": "white",
                        "showbackground": true,
                        "ticks": "",
                        "zerolinecolor": "white"
                      }
                    },
                    "shapedefaults": {
                      "line": {
                        "color": "#2a3f5f"
                      }
                    },
                    "ternary": {
                      "aaxis": {
                        "gridcolor": "white",
                        "linecolor": "white",
                        "ticks": ""
                      },
                      "baxis": {
                        "gridcolor": "white",
                        "linecolor": "white",
                        "ticks": ""
                      },
                      "bgcolor": "#E5ECF6",
                      "caxis": {
                        "gridcolor": "white",
                        "linecolor": "white",
                        "ticks": ""
                      }
                    },
                    "title": {
                      "x": 0.05
                    },
                    "xaxis": {
                      "automargin": true,
                      "gridcolor": "white",
                      "linecolor": "white",
                      "ticks": "",
                      "title": {
                        "standoff": 15
                      },
                      "zerolinecolor": "white",
                      "zerolinewidth": 2
                    },
                    "yaxis": {
                      "automargin": true,
                      "gridcolor": "white",
                      "linecolor": "white",
                      "ticks": "",
                      "title": {
                        "standoff": 15
                      },
                      "zerolinecolor": "white",
                      "zerolinewidth": 2
                    }
                  }
                },
                "xaxis": {
                  "anchor": "y",
                  "domain": [
                    0,
                    1
                  ],
                  "rangeselector": {
                    "buttons": [
                      {
                        "count": 1,
                        "label": "YTD",
                        "step": "year",
                        "stepmode": "todate"
                      },
                      {
                        "count": 1,
                        "label": "1y",
                        "step": "year",
                        "stepmode": "backward"
                      },
                      {
                        "count": 3,
                        "label": "3y",
                        "step": "year",
                        "stepmode": "backward"
                      },
                      {
                        "count": 5,
                        "label": "5y",
                        "step": "year",
                        "stepmode": "backward"
                      },
                      {
                        "count": 7,
                        "label": "7y",
                        "step": "year",
                        "stepmode": "backward"
                      },
                      {
                        "count": 10,
                        "label": "10y",
                        "step": "year",
                        "stepmode": "backward"
                      },
                      {
                        "step": "all"
                      }
                    ]
                  },
                  "rangeslider": {
                    "visible": true
                  },
                  "title": {
                    "text": "Date"
                  }
                },
                "yaxis": {
                  "anchor": "x",
                  "domain": [
                    0,
                    1
                  ],
                  "title": {
                    "text": "PCT_YOY"
                  }
                }
              }
            }
          },
          "metadata": {},
          "output_type": "display_data"
        }
      ],
      "source": [
        "import pandas as pd\n",
        "import plotly.express as px\n",
        "import plotly.graph_objects as go\n",
        "\n",
        "df_show = dfs_gdp_ss_per_nganh[(dfs_gdp_ss_per_nganh[\"Ngành\"] == \"TỔNG SỐ\")]\n",
        "\n",
        "fig = px.area(df_show, x=\"Date\", y=\"PCT_YOY\", color=\"Ngành\")\n",
        "\n",
        "fig.update_xaxes(\n",
        "    rangeslider_visible=True,\n",
        "    rangeselector=dict(\n",
        "        buttons=[\n",
        "            dict(count=1, label=\"YTD\", step=\"year\", stepmode=\"todate\"),\n",
        "            dict(count=1, label=\"1y\", step=\"year\", stepmode=\"backward\"),\n",
        "            dict(count=3, label=\"3y\", step=\"year\", stepmode=\"backward\"),\n",
        "            dict(count=5, label=\"5y\", step=\"year\", stepmode=\"backward\"),\n",
        "            dict(count=7, label=\"7y\", step=\"year\", stepmode=\"backward\"),\n",
        "            dict(count=10, label=\"10y\", step=\"year\", stepmode=\"backward\"),\n",
        "            dict(step=\"all\"),\n",
        "        ]\n",
        "    ),\n",
        ")\n",
        "\n",
        "fig.show()"
      ]
    },
    {
      "cell_type": "code",
      "execution_count": null,
      "metadata": {},
      "outputs": [],
      "source": []
    }
  ],
  "metadata": {
    "kernelspec": {
      "display_name": "vn-macroeconomics",
      "language": "python",
      "name": "python3"
    },
    "language_info": {
      "codemirror_mode": {
        "name": "ipython",
        "version": 3
      },
      "file_extension": ".py",
      "mimetype": "text/x-python",
      "name": "python",
      "nbconvert_exporter": "python",
      "pygments_lexer": "ipython3",
      "version": "3.9.16"
    },
    "orig_nbformat": 4
  },
  "nbformat": 4,
  "nbformat_minor": 2
}
