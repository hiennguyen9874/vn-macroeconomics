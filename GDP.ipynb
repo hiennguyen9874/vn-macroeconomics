{
  "cells": [
    {
      "cell_type": "code",
      "execution_count": 2,
      "metadata": {},
      "outputs": [],
      "source": [
        "import os\n",
        "import contextlib\n",
        "\n",
        "import pandas as pd\n",
        "import seaborn as sns\n",
        "from datetime import date\n",
        "import plotly.express as px\n",
        "import plotly.graph_objects as go"
      ]
    },
    {
      "cell_type": "code",
      "execution_count": 3,
      "metadata": {},
      "outputs": [],
      "source": [
        "def find_sheet_name(sheet_names):\n",
        "    gdp_sheet_names = list(filter(lambda x: \"gdp-ss\" in x.lower(), sheet_names))\n",
        "\n",
        "    if len(gdp_sheet_names) == 1:\n",
        "        return gdp_sheet_names[0]\n",
        "\n",
        "    gdp_sheet_names = list(filter(lambda x: \"gdp\" in x.lower() and \"ss\" in x.lower(), sheet_names))\n",
        "\n",
        "    if len(gdp_sheet_names) == 1:\n",
        "        return gdp_sheet_names[0]\n",
        "\n",
        "    gdp_sheet_names = list(filter(lambda x: \"gdp\" in x.lower(), sheet_names))\n",
        "\n",
        "    if len(gdp_sheet_names) == 1:\n",
        "        return gdp_sheet_names[0]\n",
        "\n",
        "    if len(sheet_names) == 43:\n",
        "        return \"2\"\n",
        "\n",
        "    raise RuntimeError(sheet_names)"
      ]
    },
    {
      "cell_type": "code",
      "execution_count": 4,
      "metadata": {},
      "outputs": [],
      "source": [
        "en_to_vn = {\n",
        "    \"TOTAL\": \"TỔNG SỐ\",\n",
        "    \"TỔNG SẢN PHẨM TRONG NƯỚC\": \"TỔNG SỐ\",\n",
        "    \"Agriculture, Forestry and Fishing\": \"Nông, lâm nghiệp và thủy sản\",\n",
        "    \"Agriculture\": \"Nông nghiệp\",\n",
        "    \"Forestry\": \"Lâm nghiệp\",\n",
        "    \"Fishery\": \"Thủy sản\",\n",
        "    \"Industry and Construction\": \"Công nghiệp và xây dựng\",\n",
        "    \"Industry\": \"Công nghiệp\",\n",
        "    \"Mining and quarrying\": \"Khai khoáng\",\n",
        "    \"Manufacturing\": \"Công nghiệp chế biến, chế tạo\",\n",
        "    \"Production & supply of electricity, gas, hot water, steam and air-conditioning\": \"Sản xuất và phân phối điện, khí đốt, nước nóng, hơi nước và điều hòa không khí\",\n",
        "    \"Water supply; sewerage, waste management and remediation activities\": \"Cung cấp nước; hoạt động quản lý và xử lý rác thải, nước thải\",\n",
        "    \"Construction\": \"Xây dựng\",\n",
        "    \"Services\": \"Dịch vụ\",\n",
        "    \"Wholesales, retails, vehicles and motorcycles repairs\": \"Bán buôn và bán lẻ; sửa chữa ô tô, mô tô, xe máy và xe có động cơ khác\",\n",
        "    \"Transportation and storage\": \"Vận tải, kho bãi\",\n",
        "    \"Accommodation & catering services\": \"Dịch vụ lưu trú và ăn uống\",\n",
        "    \"Information & communication\": \"Thông tin và truyền thông\",\n",
        "    \"Finance, banking & insurance\": \"Hoạt động tài chính, ngân hàng và bảo hiểm\",\n",
        "    \"Real estate business \": \"Hoạt động kinh doanh bất động sản\",\n",
        "    \"Scientific and technical specialty\": \"Hoạt động chuyên môn, khoa học và công nghệ\",\n",
        "    \"Administrative activity and supporting service\": \"Hoạt động hành chính và dịch vụ hỗ trợ\",\n",
        "    \"Activities of Communist Party, socio-political organizations; State management and national defense; compulsory social security\": \"Hoạt động của Đảng Cộng sản, tổ chức chính trị- xã hội; quản lý Nhà nước, an ninh quốc phòng; đảm bảo xã hội bắt buộc\",\n",
        "    \"Education and training\": \"Giáo dục và đào tạo\",\n",
        "    \"Health care & social relief\": \"Y tế và hoạt động trợ giúp xã hội\",\n",
        "    \"Art, entertainment and recreation\": \"Nghệ thuật, vui chơi và giải trí\",\n",
        "    \"Other service activities\": \"Hoạt động dịch vụ khác\",\n",
        "    \"Activities of households as employers; undifferentiated goods and services producing activities of households for own use\": \"Hoạt động làm thuê các công việc trong các hộ gia đình, sản xuất sản phẩm vật chất và dịch vụ tự tiêu dùng của hộ gia đình\",\n",
        "    \"Products taxes less subsidies on production\": \"Thuế sản phẩm trừ trợ cấp sản phẩm\",\n",
        "}"
      ]
    },
    {
      "cell_type": "code",
      "execution_count": 10,
      "metadata": {},
      "outputs": [
        {
          "data": {
            "text/html": [
              "<div>\n",
              "<style scoped>\n",
              "    .dataframe tbody tr th:only-of-type {\n",
              "        vertical-align: middle;\n",
              "    }\n",
              "\n",
              "    .dataframe tbody tr th {\n",
              "        vertical-align: top;\n",
              "    }\n",
              "\n",
              "    .dataframe thead th {\n",
              "        text-align: right;\n",
              "    }\n",
              "</style>\n",
              "<table border=\"1\" class=\"dataframe\">\n",
              "  <thead>\n",
              "    <tr style=\"text-align: right;\">\n",
              "      <th></th>\n",
              "      <th>Ngành</th>\n",
              "      <th>Tổng số</th>\n",
              "      <th>YOY</th>\n",
              "      <th>Date</th>\n",
              "    </tr>\n",
              "  </thead>\n",
              "  <tbody>\n",
              "    <tr>\n",
              "      <th>6</th>\n",
              "      <td>TỔNG SỐ</td>\n",
              "      <td>1320754.547853</td>\n",
              "      <td>3.318918</td>\n",
              "      <td>2023-03-29</td>\n",
              "    </tr>\n",
              "    <tr>\n",
              "      <th>7</th>\n",
              "      <td>Nông, lâm nghiệp và thủy sản</td>\n",
              "      <td>140836.347594</td>\n",
              "      <td>2.524398</td>\n",
              "      <td>2023-03-29</td>\n",
              "    </tr>\n",
              "    <tr>\n",
              "      <th>8</th>\n",
              "      <td>Nông nghiệp</td>\n",
              "      <td>109002.057998</td>\n",
              "      <td>2.429005</td>\n",
              "      <td>2023-03-29</td>\n",
              "    </tr>\n",
              "    <tr>\n",
              "      <th>9</th>\n",
              "      <td>Lâm nghiệp</td>\n",
              "      <td>5757.283307</td>\n",
              "      <td>3.656374</td>\n",
              "      <td>2023-03-29</td>\n",
              "    </tr>\n",
              "    <tr>\n",
              "      <th>10</th>\n",
              "      <td>Thủy sản</td>\n",
              "      <td>26077.006289</td>\n",
              "      <td>2.676548</td>\n",
              "      <td>2023-03-29</td>\n",
              "    </tr>\n",
              "    <tr>\n",
              "      <th>11</th>\n",
              "      <td>Công nghiệp và xây dựng</td>\n",
              "      <td>459242.836583</td>\n",
              "      <td>-0.404306</td>\n",
              "      <td>2023-03-29</td>\n",
              "    </tr>\n",
              "    <tr>\n",
              "      <th>12</th>\n",
              "      <td>Công nghiệp</td>\n",
              "      <td>388692.936749</td>\n",
              "      <td>-0.820734</td>\n",
              "      <td>2023-03-29</td>\n",
              "    </tr>\n",
              "    <tr>\n",
              "      <th>13</th>\n",
              "      <td>Khai khoáng</td>\n",
              "      <td>39265.773624</td>\n",
              "      <td>-5.600361</td>\n",
              "      <td>2023-03-29</td>\n",
              "    </tr>\n",
              "    <tr>\n",
              "      <th>14</th>\n",
              "      <td>Công nghiệp chế biến, chế tạo</td>\n",
              "      <td>297173.059846</td>\n",
              "      <td>-0.370883</td>\n",
              "      <td>2023-03-29</td>\n",
              "    </tr>\n",
              "    <tr>\n",
              "      <th>15</th>\n",
              "      <td>Sản xuất và phân phối điện, khí đốt, nước nóng...</td>\n",
              "      <td>45134.405362</td>\n",
              "      <td>-0.318631</td>\n",
              "      <td>2023-03-29</td>\n",
              "    </tr>\n",
              "    <tr>\n",
              "      <th>16</th>\n",
              "      <td>Cung cấp nước; hoạt động quản lý và xử lý rác ...</td>\n",
              "      <td>7119.697917</td>\n",
              "      <td>5.380101</td>\n",
              "      <td>2023-03-29</td>\n",
              "    </tr>\n",
              "    <tr>\n",
              "      <th>17</th>\n",
              "      <td>Xây dựng</td>\n",
              "      <td>70549.899834</td>\n",
              "      <td>1.954186</td>\n",
              "      <td>2023-03-29</td>\n",
              "    </tr>\n",
              "    <tr>\n",
              "      <th>18</th>\n",
              "      <td>Dịch vụ</td>\n",
              "      <td>590816.622577</td>\n",
              "      <td>6.788337</td>\n",
              "      <td>2023-03-29</td>\n",
              "    </tr>\n",
              "    <tr>\n",
              "      <th>19</th>\n",
              "      <td>Bán buôn và bán lẻ; sửa chữa ô tô, mô tô, xe m...</td>\n",
              "      <td>130312.853986</td>\n",
              "      <td>8.093934</td>\n",
              "      <td>2023-03-29</td>\n",
              "    </tr>\n",
              "    <tr>\n",
              "      <th>20</th>\n",
              "      <td>Vận tải, kho bãi</td>\n",
              "      <td>77665.063408</td>\n",
              "      <td>6.845681</td>\n",
              "      <td>2023-03-29</td>\n",
              "    </tr>\n",
              "    <tr>\n",
              "      <th>21</th>\n",
              "      <td>Dịch vụ lưu trú và ăn uống</td>\n",
              "      <td>35611.162811</td>\n",
              "      <td>25.977296</td>\n",
              "      <td>2023-03-29</td>\n",
              "    </tr>\n",
              "    <tr>\n",
              "      <th>22</th>\n",
              "      <td>Thông tin và truyền thông</td>\n",
              "      <td>78663.661933</td>\n",
              "      <td>1.49943</td>\n",
              "      <td>2023-03-29</td>\n",
              "    </tr>\n",
              "    <tr>\n",
              "      <th>23</th>\n",
              "      <td>Hoạt động tài chính, ngân hàng và bảo hiểm</td>\n",
              "      <td>72585.356935</td>\n",
              "      <td>7.64871</td>\n",
              "      <td>2023-03-29</td>\n",
              "    </tr>\n",
              "    <tr>\n",
              "      <th>24</th>\n",
              "      <td>Hoạt động kinh doanh bất động sản</td>\n",
              "      <td>46620.472853</td>\n",
              "      <td>-0.109786</td>\n",
              "      <td>2023-03-29</td>\n",
              "    </tr>\n",
              "    <tr>\n",
              "      <th>25</th>\n",
              "      <td>Hoạt động chuyên môn, khoa học và công nghệ</td>\n",
              "      <td>32669.268231</td>\n",
              "      <td>6.115981</td>\n",
              "      <td>2023-03-29</td>\n",
              "    </tr>\n",
              "    <tr>\n",
              "      <th>26</th>\n",
              "      <td>Hoạt động hành chính và dịch vụ hỗ trợ</td>\n",
              "      <td>22146.083386</td>\n",
              "      <td>17.985709</td>\n",
              "      <td>2023-03-29</td>\n",
              "    </tr>\n",
              "    <tr>\n",
              "      <th>27</th>\n",
              "      <td>Hoạt động của Đảng Cộng sản, tổ chức chính trị...</td>\n",
              "      <td>21787.461441</td>\n",
              "      <td>4.46</td>\n",
              "      <td>2023-03-29</td>\n",
              "    </tr>\n",
              "    <tr>\n",
              "      <th>28</th>\n",
              "      <td>Giáo dục và đào tạo</td>\n",
              "      <td>38010.094014</td>\n",
              "      <td>3.15</td>\n",
              "      <td>2023-03-29</td>\n",
              "    </tr>\n",
              "    <tr>\n",
              "      <th>29</th>\n",
              "      <td>Y tế và hoạt động trợ giúp xã hội</td>\n",
              "      <td>14935.339307</td>\n",
              "      <td>-1.55586</td>\n",
              "      <td>2023-03-29</td>\n",
              "    </tr>\n",
              "    <tr>\n",
              "      <th>30</th>\n",
              "      <td>Nghệ thuật, vui chơi và giải trí</td>\n",
              "      <td>9518.128616</td>\n",
              "      <td>12.721126</td>\n",
              "      <td>2023-03-29</td>\n",
              "    </tr>\n",
              "    <tr>\n",
              "      <th>31</th>\n",
              "      <td>Hoạt động dịch vụ khác</td>\n",
              "      <td>8770.432385</td>\n",
              "      <td>12.321905</td>\n",
              "      <td>2023-03-29</td>\n",
              "    </tr>\n",
              "    <tr>\n",
              "      <th>32</th>\n",
              "      <td>Hoạt động làm thuê các công việc trong các hộ ...</td>\n",
              "      <td>1521.243272</td>\n",
              "      <td>4.24</td>\n",
              "      <td>2023-03-29</td>\n",
              "    </tr>\n",
              "    <tr>\n",
              "      <th>33</th>\n",
              "      <td>Thuế sản phẩm trừ trợ cấp sản phẩm</td>\n",
              "      <td>129858.741099</td>\n",
              "      <td>2.58</td>\n",
              "      <td>2023-03-29</td>\n",
              "    </tr>\n",
              "  </tbody>\n",
              "</table>\n",
              "</div>"
            ],
            "text/plain": [
              "                                                Ngành         Tổng số  \\\n",
              "6                                             TỔNG SỐ  1320754.547853   \n",
              "7                        Nông, lâm nghiệp và thủy sản   140836.347594   \n",
              "8                                         Nông nghiệp   109002.057998   \n",
              "9                                          Lâm nghiệp     5757.283307   \n",
              "10                                           Thủy sản    26077.006289   \n",
              "11                            Công nghiệp và xây dựng   459242.836583   \n",
              "12                                        Công nghiệp   388692.936749   \n",
              "13                                        Khai khoáng    39265.773624   \n",
              "14                      Công nghiệp chế biến, chế tạo   297173.059846   \n",
              "15  Sản xuất và phân phối điện, khí đốt, nước nóng...    45134.405362   \n",
              "16  Cung cấp nước; hoạt động quản lý và xử lý rác ...     7119.697917   \n",
              "17                                           Xây dựng    70549.899834   \n",
              "18                                            Dịch vụ   590816.622577   \n",
              "19  Bán buôn và bán lẻ; sửa chữa ô tô, mô tô, xe m...   130312.853986   \n",
              "20                                   Vận tải, kho bãi    77665.063408   \n",
              "21                         Dịch vụ lưu trú và ăn uống    35611.162811   \n",
              "22                          Thông tin và truyền thông    78663.661933   \n",
              "23         Hoạt động tài chính, ngân hàng và bảo hiểm    72585.356935   \n",
              "24                  Hoạt động kinh doanh bất động sản    46620.472853   \n",
              "25        Hoạt động chuyên môn, khoa học và công nghệ    32669.268231   \n",
              "26             Hoạt động hành chính và dịch vụ hỗ trợ    22146.083386   \n",
              "27  Hoạt động của Đảng Cộng sản, tổ chức chính trị...    21787.461441   \n",
              "28                                Giáo dục và đào tạo    38010.094014   \n",
              "29                  Y tế và hoạt động trợ giúp xã hội    14935.339307   \n",
              "30                   Nghệ thuật, vui chơi và giải trí     9518.128616   \n",
              "31                             Hoạt động dịch vụ khác     8770.432385   \n",
              "32  Hoạt động làm thuê các công việc trong các hộ ...     1521.243272   \n",
              "33                 Thuế sản phẩm trừ trợ cấp sản phẩm   129858.741099   \n",
              "\n",
              "          YOY       Date  \n",
              "6    3.318918 2023-03-29  \n",
              "7    2.524398 2023-03-29  \n",
              "8    2.429005 2023-03-29  \n",
              "9    3.656374 2023-03-29  \n",
              "10   2.676548 2023-03-29  \n",
              "11  -0.404306 2023-03-29  \n",
              "12  -0.820734 2023-03-29  \n",
              "13  -5.600361 2023-03-29  \n",
              "14  -0.370883 2023-03-29  \n",
              "15  -0.318631 2023-03-29  \n",
              "16   5.380101 2023-03-29  \n",
              "17   1.954186 2023-03-29  \n",
              "18   6.788337 2023-03-29  \n",
              "19   8.093934 2023-03-29  \n",
              "20   6.845681 2023-03-29  \n",
              "21  25.977296 2023-03-29  \n",
              "22    1.49943 2023-03-29  \n",
              "23    7.64871 2023-03-29  \n",
              "24  -0.109786 2023-03-29  \n",
              "25   6.115981 2023-03-29  \n",
              "26  17.985709 2023-03-29  \n",
              "27       4.46 2023-03-29  \n",
              "28       3.15 2023-03-29  \n",
              "29   -1.55586 2023-03-29  \n",
              "30  12.721126 2023-03-29  \n",
              "31  12.321905 2023-03-29  \n",
              "32       4.24 2023-03-29  \n",
              "33       2.58 2023-03-29  "
            ]
          },
          "execution_count": 10,
          "metadata": {},
          "output_type": "execute_result"
        }
      ],
      "source": [
        "def get_gdp_ss(xl, sheet_name, date):\n",
        "    df = xl.parse(sheet_name)\n",
        "\n",
        "    df[df.columns[0]] = df[df.columns[0]].fillna(df[df.columns[1]])\n",
        "\n",
        "    if len(df.columns) == 8:\n",
        "        df = df.drop(\n",
        "            columns=[\n",
        "                df.columns[1],\n",
        "                df.columns[2],\n",
        "                df.columns[4],\n",
        "                # df.columns[5],\n",
        "                df.columns[6],\n",
        "                df.columns[7],\n",
        "            ]\n",
        "        )\n",
        "    elif len(df.columns) == 7:\n",
        "        df = df.drop(\n",
        "            columns=[\n",
        "                df.columns[1],\n",
        "                df.columns[2],\n",
        "                df.columns[3],\n",
        "                df.columns[4],\n",
        "                # df.columns[6],\n",
        "            ]\n",
        "        )\n",
        "    elif len(df.columns) == 5 and int(date.split(\"-\")[1]) == 12:\n",
        "        df = df.drop(columns=[df.columns[1], df.columns[2], df.columns[4]])\n",
        "    elif len(df.columns) == 6 and int(date.split(\"-\")[1]) == 12:\n",
        "        df = df.drop(\n",
        "            columns=[df.columns[1], df.columns[2], df.columns[4], df.columns[5]]\n",
        "        )\n",
        "    else:\n",
        "        raise RuntimeError(df.columns)\n",
        "\n",
        "    df[df.columns[0]] = (\n",
        "        df[df.columns[0]]\n",
        "        .replace(r\"\\s+\", \" \", regex=True)\n",
        "        .replace(r\"\\n\", \" \", regex=True)\n",
        "    )\n",
        "\n",
        "    df[df.columns[0]] = df[df.columns[0]].str.strip()\n",
        "\n",
        "    df = df.drop(\n",
        "        list(\n",
        "            range(\n",
        "                df[df.columns[0]][\n",
        "                    (df[df.columns[0]] == \"TỔNG SỐ\")\n",
        "                    | (df[df.columns[0]] == \"TOTAL\")\n",
        "                    | (df[df.columns[0]] == \"TỔNG SẢN PHẨM TRONG NƯỚC\")\n",
        "                ].index[0]\n",
        "            )\n",
        "        )\n",
        "    )\n",
        "\n",
        "    df.columns = [\"Ngành\", \"Tổng số\", \"YOY\"]\n",
        "\n",
        "    df[df[\"Ngành\"] == \"TỔNG SẢN PHẨM TRONG NƯỚC\"] = \"TỔNG SỐ\"\n",
        "\n",
        "    if len(df[\"Ngành\"][df[\"Ngành\"] == \"TOTAL\"].index) > 0:\n",
        "        df[\"Ngành\"] = df[\"Ngành\"].map(en_to_vn)\n",
        "\n",
        "    df = df[pd.to_numeric(df[df.columns[1]], errors=\"coerce\").notnull()]\n",
        "\n",
        "    if int(date.split(\"-\")[0]) < 2024:\n",
        "        df[\"YOY\"] = df[\"YOY\"] - 100\n",
        "\n",
        "    df[\"Date\"] = date\n",
        "    df[\"Date\"] = pd.to_datetime(df[\"Date\"], dayfirst=False)\n",
        "    return df\n",
        "\n",
        "\n",
        "xl = pd.ExcelFile(\"datas/2023-03-29-02-Bieu-T3.2023-3.xlsx\")\n",
        "\n",
        "sheet_name = find_sheet_name(xl.sheet_names)\n",
        "\n",
        "get_gdp_ss(xl, sheet_name, \"2023-03-29\")"
      ]
    },
    {
      "cell_type": "code",
      "execution_count": 11,
      "metadata": {},
      "outputs": [
        {
          "name": "stdout",
          "output_type": "stream",
          "text": [
            ".~2024-03-29-02-Bieu-3.2024-ngay-28.3.xlsx\n",
            ".~2024-01-29-02-Bieu-T1-2024.xlsx\n",
            ".~2022-09-29-03-Bieu-9.2022.xlsx\n"
          ]
        }
      ],
      "source": [
        "import os\n",
        "import contextlib\n",
        "\n",
        "dfs_gdp_ss_origin = []\n",
        "for file_name in sorted(\n",
        "    os.listdir(\"./datas\"),\n",
        "    key=lambda filename: f\"{filename.split('-')[0]}-{filename.split('-')[1]}-{filename.split('-')[2]}\",\n",
        "    reverse=True,\n",
        "):\n",
        "    try:\n",
        "        file_path = os.path.join(\"./datas\", file_name)\n",
        "\n",
        "        year = int(file_name.split(\"-\")[0])\n",
        "        month = int(file_name.split(\"-\")[1])\n",
        "        day = int(file_name.split(\"-\")[2])\n",
        "\n",
        "        if year < 2018:\n",
        "            continue\n",
        "\n",
        "        if month not in [3, 6, 9, 12]:\n",
        "            continue\n",
        "\n",
        "        xl = pd.ExcelFile(file_path)\n",
        "\n",
        "        df_gdp = get_gdp_ss(xl, find_sheet_name(xl.sheet_names), f\"{year}-{month}-{day}\")\n",
        "\n",
        "        dfs_gdp_ss_origin.append(df_gdp)\n",
        "    except Exception as e:\n",
        "        print(file_name)"
      ]
    },
    {
      "cell_type": "code",
      "execution_count": 12,
      "metadata": {},
      "outputs": [
        {
          "data": {
            "text/html": [
              "<div>\n",
              "<style scoped>\n",
              "    .dataframe tbody tr th:only-of-type {\n",
              "        vertical-align: middle;\n",
              "    }\n",
              "\n",
              "    .dataframe tbody tr th {\n",
              "        vertical-align: top;\n",
              "    }\n",
              "\n",
              "    .dataframe thead th {\n",
              "        text-align: right;\n",
              "    }\n",
              "</style>\n",
              "<table border=\"1\" class=\"dataframe\">\n",
              "  <thead>\n",
              "    <tr style=\"text-align: right;\">\n",
              "      <th></th>\n",
              "      <th>Ngành</th>\n",
              "      <th>Tổng số</th>\n",
              "      <th>YOY</th>\n",
              "      <th>Date</th>\n",
              "    </tr>\n",
              "  </thead>\n",
              "  <tbody>\n",
              "    <tr>\n",
              "      <th>0</th>\n",
              "      <td>TỔNG SỐ</td>\n",
              "      <td>1396659.503877</td>\n",
              "      <td>5.657544</td>\n",
              "      <td>2024-03-29</td>\n",
              "    </tr>\n",
              "    <tr>\n",
              "      <th>1</th>\n",
              "      <td>Nông, lâm nghiệp và thủy sản</td>\n",
              "      <td>145600.125191</td>\n",
              "      <td>2.979307</td>\n",
              "      <td>2024-03-29</td>\n",
              "    </tr>\n",
              "    <tr>\n",
              "      <th>2</th>\n",
              "      <td>Nông nghiệp</td>\n",
              "      <td>112214.936244</td>\n",
              "      <td>2.805032</td>\n",
              "      <td>2024-03-29</td>\n",
              "    </tr>\n",
              "    <tr>\n",
              "      <th>3</th>\n",
              "      <td>Lâm nghiệp</td>\n",
              "      <td>5908.701034</td>\n",
              "      <td>4.083476</td>\n",
              "      <td>2024-03-29</td>\n",
              "    </tr>\n",
              "    <tr>\n",
              "      <th>4</th>\n",
              "      <td>Thủy sản</td>\n",
              "      <td>27476.487913</td>\n",
              "      <td>3.459557</td>\n",
              "      <td>2024-03-29</td>\n",
              "    </tr>\n",
              "    <tr>\n",
              "      <th>...</th>\n",
              "      <td>...</td>\n",
              "      <td>...</td>\n",
              "      <td>...</td>\n",
              "      <td>...</td>\n",
              "    </tr>\n",
              "    <tr>\n",
              "      <th>694</th>\n",
              "      <td>Y tế và hoạt động trợ giúp xã hội</td>\n",
              "      <td>8381</td>\n",
              "      <td>6.97</td>\n",
              "      <td>2018-03-29</td>\n",
              "    </tr>\n",
              "    <tr>\n",
              "      <th>695</th>\n",
              "      <td>Nghệ thuật, vui chơi và giải trí</td>\n",
              "      <td>4822</td>\n",
              "      <td>7.08</td>\n",
              "      <td>2018-03-29</td>\n",
              "    </tr>\n",
              "    <tr>\n",
              "      <th>696</th>\n",
              "      <td>Hoạt động dịch vụ khác</td>\n",
              "      <td>11510</td>\n",
              "      <td>5.78</td>\n",
              "      <td>2018-03-29</td>\n",
              "    </tr>\n",
              "    <tr>\n",
              "      <th>697</th>\n",
              "      <td>Hoạt động làm thuê các công việc trong các hộ ...</td>\n",
              "      <td>1113</td>\n",
              "      <td>6.1</td>\n",
              "      <td>2018-03-29</td>\n",
              "    </tr>\n",
              "    <tr>\n",
              "      <th>698</th>\n",
              "      <td>Thuế sản phẩm trừ trợ cấp sản phẩm</td>\n",
              "      <td>79247</td>\n",
              "      <td>6.15</td>\n",
              "      <td>2018-03-29</td>\n",
              "    </tr>\n",
              "  </tbody>\n",
              "</table>\n",
              "<p>699 rows × 4 columns</p>\n",
              "</div>"
            ],
            "text/plain": [
              "                                                 Ngành         Tổng số  \\\n",
              "0                                              TỔNG SỐ  1396659.503877   \n",
              "1                         Nông, lâm nghiệp và thủy sản   145600.125191   \n",
              "2                                          Nông nghiệp   112214.936244   \n",
              "3                                           Lâm nghiệp     5908.701034   \n",
              "4                                             Thủy sản    27476.487913   \n",
              "..                                                 ...             ...   \n",
              "694                  Y tế và hoạt động trợ giúp xã hội            8381   \n",
              "695                   Nghệ thuật, vui chơi và giải trí            4822   \n",
              "696                             Hoạt động dịch vụ khác           11510   \n",
              "697  Hoạt động làm thuê các công việc trong các hộ ...            1113   \n",
              "698                 Thuế sản phẩm trừ trợ cấp sản phẩm           79247   \n",
              "\n",
              "          YOY       Date  \n",
              "0    5.657544 2024-03-29  \n",
              "1    2.979307 2024-03-29  \n",
              "2    2.805032 2024-03-29  \n",
              "3    4.083476 2024-03-29  \n",
              "4    3.459557 2024-03-29  \n",
              "..        ...        ...  \n",
              "694      6.97 2018-03-29  \n",
              "695      7.08 2018-03-29  \n",
              "696      5.78 2018-03-29  \n",
              "697       6.1 2018-03-29  \n",
              "698      6.15 2018-03-29  \n",
              "\n",
              "[699 rows x 4 columns]"
            ]
          },
          "execution_count": 12,
          "metadata": {},
          "output_type": "execute_result"
        }
      ],
      "source": [
        "dfs_gdp_ss = pd.concat(dfs_gdp_ss_origin, ignore_index=True, axis=0)\n",
        "dfs_gdp_ss[\"Date\"] = pd.to_datetime(dfs_gdp_ss[\"Date\"], dayfirst=False)\n",
        "dfs_gdp_ss"
      ]
    },
    {
      "cell_type": "code",
      "execution_count": 15,
      "metadata": {},
      "outputs": [
        {
          "data": {
            "text/plain": [
              "array(['TỔNG SỐ', 'Nông, lâm nghiệp và thủy sản', 'Nông nghiệp',\n",
              "       'Lâm nghiệp', 'Thủy sản', 'Công nghiệp và xây dựng', 'Công nghiệp',\n",
              "       'Khai khoáng', 'Công nghiệp chế biến, chế tạo',\n",
              "       'Sản xuất và phân phối điện, khí đốt, nước nóng, hơi nước và điều hòa không khí',\n",
              "       'Cung cấp nước; hoạt động quản lý và xử lý rác thải, nước thải',\n",
              "       'Xây dựng', 'Dịch vụ',\n",
              "       'Bán buôn và bán lẻ; sửa chữa ô tô, mô tô, xe máy và xe có động cơ khác',\n",
              "       'Vận tải, kho bãi', 'Dịch vụ lưu trú và ăn uống',\n",
              "       'Thông tin và truyền thông',\n",
              "       'Hoạt động tài chính, ngân hàng và bảo hiểm',\n",
              "       'Hoạt động kinh doanh bất động sản',\n",
              "       'Hoạt động chuyên môn, khoa học và công nghệ',\n",
              "       'Hoạt động hành chính và dịch vụ hỗ trợ',\n",
              "       'Hoạt động của Đảng Cộng sản, tổ chức chính trị-xã hội; quản lý Nhà nước, an ninh quốc phòng; đảm bảo xã hội bắt buộc',\n",
              "       'Giáo dục và đào tạo', 'Y tế và hoạt động trợ giúp xã hội',\n",
              "       'Nghệ thuật, vui chơi và giải trí', 'Hoạt động dịch vụ khác',\n",
              "       'Hoạt động làm thuê các công việc trong các hộ gia đình, sản xuất sản phẩm vật chất và dịch vụ tự tiêu dùng của hộ gia đình',\n",
              "       'Thuế sản phẩm trừ trợ cấp sản phẩm',\n",
              "       'Hoạt động của Đảng Cộng sản, tổ chức chính trị- xã hội; quản lý Nhà nước, an ninh quốc phòng; đảm bảo xã hội bắt buộc',\n",
              "       nan], dtype=object)"
            ]
          },
          "execution_count": 15,
          "metadata": {},
          "output_type": "execute_result"
        }
      ],
      "source": [
        "dfs_gdp_ss['Ngành'].unique()"
      ]
    },
    {
      "cell_type": "code",
      "execution_count": 13,
      "metadata": {},
      "outputs": [],
      "source": [
        "# nganh = \"TỔNG SỐ\"\n",
        "# dfs_gdp_ss_per_nganh = dfs_gdp_ss[dfs_gdp_ss[\"Ngành\"] == nganh]\n",
        "\n",
        "# dfs_gdp_ss_per_nganh[\"PCT_YOY\"] = dfs_gdp_ss_per_nganh[\"Tổng số\"].pct_change(-4)\n",
        "# print(dfs_gdp_ss_per_nganh)"
      ]
    },
    {
      "cell_type": "code",
      "execution_count": 18,
      "metadata": {},
      "outputs": [
        {
          "data": {
            "application/vnd.plotly.v1+json": {
              "config": {
                "plotlyServerURL": "https://plot.ly"
              },
              "data": [
                {
                  "fillpattern": {
                    "shape": ""
                  },
                  "hovertemplate": "Ngành=TỔNG SỐ<br>Date=%{x}<br>YOY=%{y}<extra></extra>",
                  "legendgroup": "TỔNG SỐ",
                  "line": {
                    "color": "#636efa"
                  },
                  "marker": {
                    "symbol": "circle"
                  },
                  "mode": "lines",
                  "name": "TỔNG SỐ",
                  "orientation": "v",
                  "showlegend": true,
                  "stackgroup": "1",
                  "type": "scatter",
                  "x": [
                    "2024-03-29T00:00:00",
                    "2023-12-29T00:00:00",
                    "2023-09-29T00:00:00",
                    "2023-06-29T00:00:00",
                    "2023-03-29T00:00:00",
                    "2022-12-29T00:00:00",
                    "2022-09-29T00:00:00",
                    "2022-06-29T00:00:00",
                    "2022-03-29T00:00:00",
                    "2021-12-29T00:00:00",
                    "2021-09-29T00:00:00",
                    "2021-06-29T00:00:00",
                    "2021-03-29T00:00:00",
                    "2020-12-27T00:00:00",
                    "2020-09-29T00:00:00",
                    "2020-06-29T00:00:00",
                    "2020-03-27T00:00:00",
                    "2019-12-27T00:00:00",
                    "2019-09-28T00:00:00",
                    "2019-06-28T00:00:00",
                    "2019-03-29T00:00:00",
                    "2018-12-27T00:00:00",
                    "2018-09-28T00:00:00",
                    "2018-03-29T00:00:00"
                  ],
                  "xaxis": "x",
                  "y": [
                    5.657544227567939,
                    5.469891959761995,
                    4.051099546801382,
                    3.2754571640641643,
                    3.318918280789802,
                    13.71443264446286,
                    7.828583142557477,
                    5.052647625549511,
                    5.031830181024418,
                    -6.0247748020650675,
                    6.570691712751994,
                    4.65043726396992,
                    4.480000000000004,
                    2.6906815676666724,
                    0.38737567698500186,
                    3.682109821377864,
                    3.8208067991526633,
                    7.483672006638997,
                    6.7335223211843385,
                    6.821605332853736,
                    6.7925045418773635,
                    6.8230300836627436,
                    6.7330727974715785,
                    7.37820803674569
                  ],
                  "yaxis": "y"
                },
                {
                  "fillpattern": {
                    "shape": ""
                  },
                  "hovertemplate": "Ngành=Nông, lâm nghiệp và thủy sản<br>Date=%{x}<br>YOY=%{y}<extra></extra>",
                  "legendgroup": "Nông, lâm nghiệp và thủy sản",
                  "line": {
                    "color": "#EF553B"
                  },
                  "marker": {
                    "symbol": "circle"
                  },
                  "mode": "lines",
                  "name": "Nông, lâm nghiệp và thủy sản",
                  "orientation": "v",
                  "showlegend": true,
                  "stackgroup": "1",
                  "type": "scatter",
                  "x": [
                    "2024-03-29T00:00:00",
                    "2023-12-29T00:00:00",
                    "2023-09-29T00:00:00",
                    "2023-06-29T00:00:00",
                    "2023-03-29T00:00:00",
                    "2022-12-29T00:00:00",
                    "2022-09-29T00:00:00",
                    "2022-06-29T00:00:00",
                    "2022-03-29T00:00:00",
                    "2021-12-29T00:00:00",
                    "2021-09-29T00:00:00",
                    "2021-06-29T00:00:00",
                    "2021-03-29T00:00:00",
                    "2020-12-27T00:00:00",
                    "2020-09-29T00:00:00",
                    "2020-06-29T00:00:00",
                    "2020-03-27T00:00:00",
                    "2019-12-27T00:00:00",
                    "2019-09-28T00:00:00",
                    "2019-06-28T00:00:00",
                    "2019-03-29T00:00:00",
                    "2018-12-27T00:00:00",
                    "2018-09-28T00:00:00",
                    "2018-06-29T00:00:00",
                    "2018-03-29T00:00:00"
                  ],
                  "xaxis": "x",
                  "y": [
                    2.9793067161352838,
                    4.304803961508,
                    3.6585155978690693,
                    2.8971602126519826,
                    2.5243977148109167,
                    3.6911619418131636,
                    3.051358017506331,
                    2.530990760132724,
                    2.4475643650120986,
                    1.196006503406366,
                    4.007539612366813,
                    3.508361802767851,
                    3.1599999999999966,
                    2.792638717366998,
                    1.7975279129550046,
                    0.038229022409865365,
                    0.07643527964663122,
                    2.00450834888089,
                    2.044166668834464,
                    2.8078504071970656,
                    2.680466597164383,
                    3.5940818875264853,
                    3.5363956957895795,
                    3.9303569514277115,
                    4.0506117691619465
                  ],
                  "yaxis": "y"
                },
                {
                  "fillpattern": {
                    "shape": ""
                  },
                  "hovertemplate": "Ngành=Công nghiệp và xây dựng<br>Date=%{x}<br>YOY=%{y}<extra></extra>",
                  "legendgroup": "Công nghiệp và xây dựng",
                  "line": {
                    "color": "#00cc96"
                  },
                  "marker": {
                    "symbol": "circle"
                  },
                  "mode": "lines",
                  "name": "Công nghiệp và xây dựng",
                  "orientation": "v",
                  "showlegend": true,
                  "stackgroup": "1",
                  "type": "scatter",
                  "x": [
                    "2024-03-29T00:00:00",
                    "2023-12-29T00:00:00",
                    "2023-09-29T00:00:00",
                    "2023-06-29T00:00:00",
                    "2023-03-29T00:00:00",
                    "2022-12-29T00:00:00",
                    "2022-09-29T00:00:00",
                    "2022-06-29T00:00:00",
                    "2022-03-29T00:00:00",
                    "2021-12-29T00:00:00",
                    "2021-09-29T00:00:00",
                    "2021-06-29T00:00:00",
                    "2021-03-29T00:00:00",
                    "2020-12-27T00:00:00",
                    "2020-09-29T00:00:00",
                    "2020-06-29T00:00:00",
                    "2020-03-27T00:00:00",
                    "2019-12-27T00:00:00",
                    "2019-09-28T00:00:00",
                    "2019-06-28T00:00:00",
                    "2019-03-29T00:00:00",
                    "2018-12-27T00:00:00",
                    "2018-09-28T00:00:00",
                    "2018-06-29T00:00:00",
                    "2018-03-29T00:00:00"
                  ],
                  "xaxis": "x",
                  "y": [
                    6.281638204280512,
                    5.159876363962994,
                    2.098934559330786,
                    -0.35483822134544596,
                    -0.4043055208035611,
                    12.192176064239987,
                    8.70379432418747,
                    6.408035022807226,
                    6.383478489251587,
                    -5.486067695324408,
                    10.359445168696936,
                    6.327061169791136,
                    6.299999999999997,
                    3.1995097804007173,
                    1.6915000301469973,
                    4.996262169486627,
                    5.153737412416632,
                    10.158517538911767,
                    9.138458445595973,
                    8.675626012761512,
                    8.633445487357875,
                    8.76284768311902,
                    8.401160479138042,
                    9.068454546448095,
                    9.701721800991649
                  ],
                  "yaxis": "y"
                },
                {
                  "fillpattern": {
                    "shape": ""
                  },
                  "hovertemplate": "Ngành=Dịch vụ<br>Date=%{x}<br>YOY=%{y}<extra></extra>",
                  "legendgroup": "Dịch vụ",
                  "line": {
                    "color": "#ab63fa"
                  },
                  "marker": {
                    "symbol": "circle"
                  },
                  "mode": "lines",
                  "name": "Dịch vụ",
                  "orientation": "v",
                  "showlegend": true,
                  "stackgroup": "1",
                  "type": "scatter",
                  "x": [
                    "2024-03-29T00:00:00",
                    "2023-12-29T00:00:00",
                    "2023-09-29T00:00:00",
                    "2023-06-29T00:00:00",
                    "2023-03-29T00:00:00",
                    "2022-12-29T00:00:00",
                    "2022-09-29T00:00:00",
                    "2022-06-29T00:00:00",
                    "2022-03-29T00:00:00",
                    "2021-12-29T00:00:00",
                    "2021-09-29T00:00:00",
                    "2021-06-29T00:00:00",
                    "2021-03-29T00:00:00",
                    "2020-12-27T00:00:00",
                    "2020-09-29T00:00:00",
                    "2020-06-29T00:00:00",
                    "2020-03-27T00:00:00",
                    "2019-12-27T00:00:00",
                    "2019-09-28T00:00:00",
                    "2019-06-28T00:00:00",
                    "2019-03-29T00:00:00",
                    "2018-12-27T00:00:00",
                    "2018-09-28T00:00:00",
                    "2018-06-29T00:00:00",
                    "2018-03-29T00:00:00"
                  ],
                  "xaxis": "x",
                  "y": [
                    6.1157088486256725,
                    6.425505204073005,
                    6.172831750452573,
                    6.561001661097478,
                    6.78833688102425,
                    19.344503013074316,
                    8.916258895297219,
                    4.642051448361428,
                    4.578904723951638,
                    -8.571167828334808,
                    4.2206013845476065,
                    3.6187497864537335,
                    3.3400000000000034,
                    2.7994731097168,
                    -1.9347080626880029,
                    3.2566047358565413,
                    3.2664134395617594,
                    7.276377828622003,
                    6.851507335269787,
                    6.49573825747494,
                    6.495825244093282,
                    6.53737925523518,
                    7.107537273388559,
                    6.901809129748912,
                    6.698547221691115
                  ],
                  "yaxis": "y"
                }
              ],
              "layout": {
                "legend": {
                  "title": {
                    "text": "Ngành"
                  },
                  "tracegroupgap": 0
                },
                "margin": {
                  "t": 60
                },
                "template": {
                  "data": {
                    "bar": [
                      {
                        "error_x": {
                          "color": "#2a3f5f"
                        },
                        "error_y": {
                          "color": "#2a3f5f"
                        },
                        "marker": {
                          "line": {
                            "color": "#E5ECF6",
                            "width": 0.5
                          },
                          "pattern": {
                            "fillmode": "overlay",
                            "size": 10,
                            "solidity": 0.2
                          }
                        },
                        "type": "bar"
                      }
                    ],
                    "barpolar": [
                      {
                        "marker": {
                          "line": {
                            "color": "#E5ECF6",
                            "width": 0.5
                          },
                          "pattern": {
                            "fillmode": "overlay",
                            "size": 10,
                            "solidity": 0.2
                          }
                        },
                        "type": "barpolar"
                      }
                    ],
                    "carpet": [
                      {
                        "aaxis": {
                          "endlinecolor": "#2a3f5f",
                          "gridcolor": "white",
                          "linecolor": "white",
                          "minorgridcolor": "white",
                          "startlinecolor": "#2a3f5f"
                        },
                        "baxis": {
                          "endlinecolor": "#2a3f5f",
                          "gridcolor": "white",
                          "linecolor": "white",
                          "minorgridcolor": "white",
                          "startlinecolor": "#2a3f5f"
                        },
                        "type": "carpet"
                      }
                    ],
                    "choropleth": [
                      {
                        "colorbar": {
                          "outlinewidth": 0,
                          "ticks": ""
                        },
                        "type": "choropleth"
                      }
                    ],
                    "contour": [
                      {
                        "colorbar": {
                          "outlinewidth": 0,
                          "ticks": ""
                        },
                        "colorscale": [
                          [
                            0,
                            "#0d0887"
                          ],
                          [
                            0.1111111111111111,
                            "#46039f"
                          ],
                          [
                            0.2222222222222222,
                            "#7201a8"
                          ],
                          [
                            0.3333333333333333,
                            "#9c179e"
                          ],
                          [
                            0.4444444444444444,
                            "#bd3786"
                          ],
                          [
                            0.5555555555555556,
                            "#d8576b"
                          ],
                          [
                            0.6666666666666666,
                            "#ed7953"
                          ],
                          [
                            0.7777777777777778,
                            "#fb9f3a"
                          ],
                          [
                            0.8888888888888888,
                            "#fdca26"
                          ],
                          [
                            1,
                            "#f0f921"
                          ]
                        ],
                        "type": "contour"
                      }
                    ],
                    "contourcarpet": [
                      {
                        "colorbar": {
                          "outlinewidth": 0,
                          "ticks": ""
                        },
                        "type": "contourcarpet"
                      }
                    ],
                    "heatmap": [
                      {
                        "colorbar": {
                          "outlinewidth": 0,
                          "ticks": ""
                        },
                        "colorscale": [
                          [
                            0,
                            "#0d0887"
                          ],
                          [
                            0.1111111111111111,
                            "#46039f"
                          ],
                          [
                            0.2222222222222222,
                            "#7201a8"
                          ],
                          [
                            0.3333333333333333,
                            "#9c179e"
                          ],
                          [
                            0.4444444444444444,
                            "#bd3786"
                          ],
                          [
                            0.5555555555555556,
                            "#d8576b"
                          ],
                          [
                            0.6666666666666666,
                            "#ed7953"
                          ],
                          [
                            0.7777777777777778,
                            "#fb9f3a"
                          ],
                          [
                            0.8888888888888888,
                            "#fdca26"
                          ],
                          [
                            1,
                            "#f0f921"
                          ]
                        ],
                        "type": "heatmap"
                      }
                    ],
                    "heatmapgl": [
                      {
                        "colorbar": {
                          "outlinewidth": 0,
                          "ticks": ""
                        },
                        "colorscale": [
                          [
                            0,
                            "#0d0887"
                          ],
                          [
                            0.1111111111111111,
                            "#46039f"
                          ],
                          [
                            0.2222222222222222,
                            "#7201a8"
                          ],
                          [
                            0.3333333333333333,
                            "#9c179e"
                          ],
                          [
                            0.4444444444444444,
                            "#bd3786"
                          ],
                          [
                            0.5555555555555556,
                            "#d8576b"
                          ],
                          [
                            0.6666666666666666,
                            "#ed7953"
                          ],
                          [
                            0.7777777777777778,
                            "#fb9f3a"
                          ],
                          [
                            0.8888888888888888,
                            "#fdca26"
                          ],
                          [
                            1,
                            "#f0f921"
                          ]
                        ],
                        "type": "heatmapgl"
                      }
                    ],
                    "histogram": [
                      {
                        "marker": {
                          "pattern": {
                            "fillmode": "overlay",
                            "size": 10,
                            "solidity": 0.2
                          }
                        },
                        "type": "histogram"
                      }
                    ],
                    "histogram2d": [
                      {
                        "colorbar": {
                          "outlinewidth": 0,
                          "ticks": ""
                        },
                        "colorscale": [
                          [
                            0,
                            "#0d0887"
                          ],
                          [
                            0.1111111111111111,
                            "#46039f"
                          ],
                          [
                            0.2222222222222222,
                            "#7201a8"
                          ],
                          [
                            0.3333333333333333,
                            "#9c179e"
                          ],
                          [
                            0.4444444444444444,
                            "#bd3786"
                          ],
                          [
                            0.5555555555555556,
                            "#d8576b"
                          ],
                          [
                            0.6666666666666666,
                            "#ed7953"
                          ],
                          [
                            0.7777777777777778,
                            "#fb9f3a"
                          ],
                          [
                            0.8888888888888888,
                            "#fdca26"
                          ],
                          [
                            1,
                            "#f0f921"
                          ]
                        ],
                        "type": "histogram2d"
                      }
                    ],
                    "histogram2dcontour": [
                      {
                        "colorbar": {
                          "outlinewidth": 0,
                          "ticks": ""
                        },
                        "colorscale": [
                          [
                            0,
                            "#0d0887"
                          ],
                          [
                            0.1111111111111111,
                            "#46039f"
                          ],
                          [
                            0.2222222222222222,
                            "#7201a8"
                          ],
                          [
                            0.3333333333333333,
                            "#9c179e"
                          ],
                          [
                            0.4444444444444444,
                            "#bd3786"
                          ],
                          [
                            0.5555555555555556,
                            "#d8576b"
                          ],
                          [
                            0.6666666666666666,
                            "#ed7953"
                          ],
                          [
                            0.7777777777777778,
                            "#fb9f3a"
                          ],
                          [
                            0.8888888888888888,
                            "#fdca26"
                          ],
                          [
                            1,
                            "#f0f921"
                          ]
                        ],
                        "type": "histogram2dcontour"
                      }
                    ],
                    "mesh3d": [
                      {
                        "colorbar": {
                          "outlinewidth": 0,
                          "ticks": ""
                        },
                        "type": "mesh3d"
                      }
                    ],
                    "parcoords": [
                      {
                        "line": {
                          "colorbar": {
                            "outlinewidth": 0,
                            "ticks": ""
                          }
                        },
                        "type": "parcoords"
                      }
                    ],
                    "pie": [
                      {
                        "automargin": true,
                        "type": "pie"
                      }
                    ],
                    "scatter": [
                      {
                        "fillpattern": {
                          "fillmode": "overlay",
                          "size": 10,
                          "solidity": 0.2
                        },
                        "type": "scatter"
                      }
                    ],
                    "scatter3d": [
                      {
                        "line": {
                          "colorbar": {
                            "outlinewidth": 0,
                            "ticks": ""
                          }
                        },
                        "marker": {
                          "colorbar": {
                            "outlinewidth": 0,
                            "ticks": ""
                          }
                        },
                        "type": "scatter3d"
                      }
                    ],
                    "scattercarpet": [
                      {
                        "marker": {
                          "colorbar": {
                            "outlinewidth": 0,
                            "ticks": ""
                          }
                        },
                        "type": "scattercarpet"
                      }
                    ],
                    "scattergeo": [
                      {
                        "marker": {
                          "colorbar": {
                            "outlinewidth": 0,
                            "ticks": ""
                          }
                        },
                        "type": "scattergeo"
                      }
                    ],
                    "scattergl": [
                      {
                        "marker": {
                          "colorbar": {
                            "outlinewidth": 0,
                            "ticks": ""
                          }
                        },
                        "type": "scattergl"
                      }
                    ],
                    "scattermapbox": [
                      {
                        "marker": {
                          "colorbar": {
                            "outlinewidth": 0,
                            "ticks": ""
                          }
                        },
                        "type": "scattermapbox"
                      }
                    ],
                    "scatterpolar": [
                      {
                        "marker": {
                          "colorbar": {
                            "outlinewidth": 0,
                            "ticks": ""
                          }
                        },
                        "type": "scatterpolar"
                      }
                    ],
                    "scatterpolargl": [
                      {
                        "marker": {
                          "colorbar": {
                            "outlinewidth": 0,
                            "ticks": ""
                          }
                        },
                        "type": "scatterpolargl"
                      }
                    ],
                    "scatterternary": [
                      {
                        "marker": {
                          "colorbar": {
                            "outlinewidth": 0,
                            "ticks": ""
                          }
                        },
                        "type": "scatterternary"
                      }
                    ],
                    "surface": [
                      {
                        "colorbar": {
                          "outlinewidth": 0,
                          "ticks": ""
                        },
                        "colorscale": [
                          [
                            0,
                            "#0d0887"
                          ],
                          [
                            0.1111111111111111,
                            "#46039f"
                          ],
                          [
                            0.2222222222222222,
                            "#7201a8"
                          ],
                          [
                            0.3333333333333333,
                            "#9c179e"
                          ],
                          [
                            0.4444444444444444,
                            "#bd3786"
                          ],
                          [
                            0.5555555555555556,
                            "#d8576b"
                          ],
                          [
                            0.6666666666666666,
                            "#ed7953"
                          ],
                          [
                            0.7777777777777778,
                            "#fb9f3a"
                          ],
                          [
                            0.8888888888888888,
                            "#fdca26"
                          ],
                          [
                            1,
                            "#f0f921"
                          ]
                        ],
                        "type": "surface"
                      }
                    ],
                    "table": [
                      {
                        "cells": {
                          "fill": {
                            "color": "#EBF0F8"
                          },
                          "line": {
                            "color": "white"
                          }
                        },
                        "header": {
                          "fill": {
                            "color": "#C8D4E3"
                          },
                          "line": {
                            "color": "white"
                          }
                        },
                        "type": "table"
                      }
                    ]
                  },
                  "layout": {
                    "annotationdefaults": {
                      "arrowcolor": "#2a3f5f",
                      "arrowhead": 0,
                      "arrowwidth": 1
                    },
                    "autotypenumbers": "strict",
                    "coloraxis": {
                      "colorbar": {
                        "outlinewidth": 0,
                        "ticks": ""
                      }
                    },
                    "colorscale": {
                      "diverging": [
                        [
                          0,
                          "#8e0152"
                        ],
                        [
                          0.1,
                          "#c51b7d"
                        ],
                        [
                          0.2,
                          "#de77ae"
                        ],
                        [
                          0.3,
                          "#f1b6da"
                        ],
                        [
                          0.4,
                          "#fde0ef"
                        ],
                        [
                          0.5,
                          "#f7f7f7"
                        ],
                        [
                          0.6,
                          "#e6f5d0"
                        ],
                        [
                          0.7,
                          "#b8e186"
                        ],
                        [
                          0.8,
                          "#7fbc41"
                        ],
                        [
                          0.9,
                          "#4d9221"
                        ],
                        [
                          1,
                          "#276419"
                        ]
                      ],
                      "sequential": [
                        [
                          0,
                          "#0d0887"
                        ],
                        [
                          0.1111111111111111,
                          "#46039f"
                        ],
                        [
                          0.2222222222222222,
                          "#7201a8"
                        ],
                        [
                          0.3333333333333333,
                          "#9c179e"
                        ],
                        [
                          0.4444444444444444,
                          "#bd3786"
                        ],
                        [
                          0.5555555555555556,
                          "#d8576b"
                        ],
                        [
                          0.6666666666666666,
                          "#ed7953"
                        ],
                        [
                          0.7777777777777778,
                          "#fb9f3a"
                        ],
                        [
                          0.8888888888888888,
                          "#fdca26"
                        ],
                        [
                          1,
                          "#f0f921"
                        ]
                      ],
                      "sequentialminus": [
                        [
                          0,
                          "#0d0887"
                        ],
                        [
                          0.1111111111111111,
                          "#46039f"
                        ],
                        [
                          0.2222222222222222,
                          "#7201a8"
                        ],
                        [
                          0.3333333333333333,
                          "#9c179e"
                        ],
                        [
                          0.4444444444444444,
                          "#bd3786"
                        ],
                        [
                          0.5555555555555556,
                          "#d8576b"
                        ],
                        [
                          0.6666666666666666,
                          "#ed7953"
                        ],
                        [
                          0.7777777777777778,
                          "#fb9f3a"
                        ],
                        [
                          0.8888888888888888,
                          "#fdca26"
                        ],
                        [
                          1,
                          "#f0f921"
                        ]
                      ]
                    },
                    "colorway": [
                      "#636efa",
                      "#EF553B",
                      "#00cc96",
                      "#ab63fa",
                      "#FFA15A",
                      "#19d3f3",
                      "#FF6692",
                      "#B6E880",
                      "#FF97FF",
                      "#FECB52"
                    ],
                    "font": {
                      "color": "#2a3f5f"
                    },
                    "geo": {
                      "bgcolor": "white",
                      "lakecolor": "white",
                      "landcolor": "#E5ECF6",
                      "showlakes": true,
                      "showland": true,
                      "subunitcolor": "white"
                    },
                    "hoverlabel": {
                      "align": "left"
                    },
                    "hovermode": "closest",
                    "mapbox": {
                      "style": "light"
                    },
                    "paper_bgcolor": "white",
                    "plot_bgcolor": "#E5ECF6",
                    "polar": {
                      "angularaxis": {
                        "gridcolor": "white",
                        "linecolor": "white",
                        "ticks": ""
                      },
                      "bgcolor": "#E5ECF6",
                      "radialaxis": {
                        "gridcolor": "white",
                        "linecolor": "white",
                        "ticks": ""
                      }
                    },
                    "scene": {
                      "xaxis": {
                        "backgroundcolor": "#E5ECF6",
                        "gridcolor": "white",
                        "gridwidth": 2,
                        "linecolor": "white",
                        "showbackground": true,
                        "ticks": "",
                        "zerolinecolor": "white"
                      },
                      "yaxis": {
                        "backgroundcolor": "#E5ECF6",
                        "gridcolor": "white",
                        "gridwidth": 2,
                        "linecolor": "white",
                        "showbackground": true,
                        "ticks": "",
                        "zerolinecolor": "white"
                      },
                      "zaxis": {
                        "backgroundcolor": "#E5ECF6",
                        "gridcolor": "white",
                        "gridwidth": 2,
                        "linecolor": "white",
                        "showbackground": true,
                        "ticks": "",
                        "zerolinecolor": "white"
                      }
                    },
                    "shapedefaults": {
                      "line": {
                        "color": "#2a3f5f"
                      }
                    },
                    "ternary": {
                      "aaxis": {
                        "gridcolor": "white",
                        "linecolor": "white",
                        "ticks": ""
                      },
                      "baxis": {
                        "gridcolor": "white",
                        "linecolor": "white",
                        "ticks": ""
                      },
                      "bgcolor": "#E5ECF6",
                      "caxis": {
                        "gridcolor": "white",
                        "linecolor": "white",
                        "ticks": ""
                      }
                    },
                    "title": {
                      "x": 0.05
                    },
                    "xaxis": {
                      "automargin": true,
                      "gridcolor": "white",
                      "linecolor": "white",
                      "ticks": "",
                      "title": {
                        "standoff": 15
                      },
                      "zerolinecolor": "white",
                      "zerolinewidth": 2
                    },
                    "yaxis": {
                      "automargin": true,
                      "gridcolor": "white",
                      "linecolor": "white",
                      "ticks": "",
                      "title": {
                        "standoff": 15
                      },
                      "zerolinecolor": "white",
                      "zerolinewidth": 2
                    }
                  }
                },
                "xaxis": {
                  "anchor": "y",
                  "domain": [
                    0,
                    1
                  ],
                  "rangeselector": {
                    "buttons": [
                      {
                        "count": 1,
                        "label": "YTD",
                        "step": "year",
                        "stepmode": "todate"
                      },
                      {
                        "count": 1,
                        "label": "1y",
                        "step": "year",
                        "stepmode": "backward"
                      },
                      {
                        "count": 3,
                        "label": "3y",
                        "step": "year",
                        "stepmode": "backward"
                      },
                      {
                        "count": 5,
                        "label": "5y",
                        "step": "year",
                        "stepmode": "backward"
                      },
                      {
                        "count": 7,
                        "label": "7y",
                        "step": "year",
                        "stepmode": "backward"
                      },
                      {
                        "count": 10,
                        "label": "10y",
                        "step": "year",
                        "stepmode": "backward"
                      },
                      {
                        "step": "all"
                      }
                    ]
                  },
                  "rangeslider": {
                    "visible": true
                  },
                  "title": {
                    "text": "Date"
                  }
                },
                "yaxis": {
                  "anchor": "x",
                  "domain": [
                    0,
                    1
                  ],
                  "title": {
                    "text": "YOY"
                  }
                }
              }
            }
          },
          "metadata": {},
          "output_type": "display_data"
        }
      ],
      "source": [
        "import pandas as pd\n",
        "import plotly.express as px\n",
        "import plotly.graph_objects as go\n",
        "\n",
        "df_show = dfs_gdp_ss[\n",
        "    (\n",
        "        (dfs_gdp_ss[\"Ngành\"] == \"TỔNG SỐ\")\n",
        "        | (dfs_gdp_ss[\"Ngành\"] == \"Nông, lâm nghiệp và thủy sản\")\n",
        "        | (dfs_gdp_ss[\"Ngành\"] == \"Công nghiệp và xây dựng\")\n",
        "        | (dfs_gdp_ss[\"Ngành\"] == \"Dịch vụ\")\n",
        "    )\n",
        "]\n",
        "\n",
        "fig = px.area(df_show, x=\"Date\", y=\"YOY\", color=\"Ngành\")\n",
        "\n",
        "fig.update_xaxes(\n",
        "    rangeslider_visible=True,\n",
        "    rangeselector=dict(\n",
        "        buttons=[\n",
        "            dict(count=1, label=\"YTD\", step=\"year\", stepmode=\"todate\"),\n",
        "            dict(count=1, label=\"1y\", step=\"year\", stepmode=\"backward\"),\n",
        "            dict(count=3, label=\"3y\", step=\"year\", stepmode=\"backward\"),\n",
        "            dict(count=5, label=\"5y\", step=\"year\", stepmode=\"backward\"),\n",
        "            dict(count=7, label=\"7y\", step=\"year\", stepmode=\"backward\"),\n",
        "            dict(count=10, label=\"10y\", step=\"year\", stepmode=\"backward\"),\n",
        "            dict(step=\"all\"),\n",
        "        ]\n",
        "    ),\n",
        ")\n",
        "\n",
        "fig.show()"
      ]
    },
    {
      "cell_type": "code",
      "execution_count": 17,
      "metadata": {},
      "outputs": [
        {
          "data": {
            "application/vnd.plotly.v1+json": {
              "config": {
                "plotlyServerURL": "https://plot.ly"
              },
              "data": [
                {
                  "fillpattern": {
                    "shape": ""
                  },
                  "hovertemplate": "Ngành=Công nghiệp chế biến, chế tạo<br>Date=%{x}<br>YOY=%{y}<extra></extra>",
                  "legendgroup": "Công nghiệp chế biến, chế tạo",
                  "line": {
                    "color": "#636efa"
                  },
                  "marker": {
                    "symbol": "circle"
                  },
                  "mode": "lines",
                  "name": "Công nghiệp chế biến, chế tạo",
                  "orientation": "v",
                  "showlegend": true,
                  "stackgroup": "1",
                  "type": "scatter",
                  "x": [
                    "2024-03-29T00:00:00",
                    "2023-12-29T00:00:00",
                    "2023-09-29T00:00:00",
                    "2023-06-29T00:00:00",
                    "2023-03-29T00:00:00",
                    "2022-12-29T00:00:00",
                    "2022-09-29T00:00:00",
                    "2022-06-29T00:00:00",
                    "2022-03-29T00:00:00",
                    "2021-12-29T00:00:00",
                    "2021-09-29T00:00:00",
                    "2021-06-29T00:00:00",
                    "2021-03-29T00:00:00",
                    "2020-12-27T00:00:00",
                    "2020-09-29T00:00:00",
                    "2020-06-29T00:00:00",
                    "2020-03-27T00:00:00",
                    "2019-12-27T00:00:00",
                    "2019-09-28T00:00:00",
                    "2019-06-28T00:00:00",
                    "2019-03-29T00:00:00",
                    "2018-12-27T00:00:00",
                    "2018-09-28T00:00:00",
                    "2018-06-29T00:00:00",
                    "2018-03-29T00:00:00"
                  ],
                  "xaxis": "x",
                  "y": [
                    6.979778118595675,
                    5.593330919937003,
                    0.5985480362809881,
                    -0.4903239474343337,
                    -0.37088282594453403,
                    11.584107755734195,
                    11.073189067566986,
                    7.724672664860989,
                    7.792414224189571,
                    -4.090783293536205,
                    13.352709618284436,
                    8.900785733514766,
                    9.450000000000003,
                    3.8587273418847445,
                    3.3833880622659933,
                    7.11999999999999,
                    7.11999999999999,
                    11.959999999999994,
                    10.904804169691332,
                    11.519999999999996,
                    12.350999999999999,
                    13.080063031919195,
                    12.054662095464835,
                    13.02000000000001,
                    13.556468557090966
                  ],
                  "yaxis": "y"
                },
                {
                  "fillpattern": {
                    "shape": ""
                  },
                  "hovertemplate": "Ngành=Sản xuất và phân phối điện, khí đốt, nước nóng, hơi nước và điều hòa không khí<br>Date=%{x}<br>YOY=%{y}<extra></extra>",
                  "legendgroup": "Sản xuất và phân phối điện, khí đốt, nước nóng, hơi nước và điều hòa không khí",
                  "line": {
                    "color": "#EF553B"
                  },
                  "marker": {
                    "symbol": "circle"
                  },
                  "mode": "lines",
                  "name": "Sản xuất và phân phối điện, khí đốt, nước nóng, hơi nước và điều hòa không khí",
                  "orientation": "v",
                  "showlegend": true,
                  "stackgroup": "1",
                  "type": "scatter",
                  "x": [
                    "2024-03-29T00:00:00",
                    "2023-12-29T00:00:00",
                    "2023-09-29T00:00:00",
                    "2023-06-29T00:00:00",
                    "2023-03-29T00:00:00",
                    "2022-12-29T00:00:00",
                    "2022-09-29T00:00:00",
                    "2022-06-29T00:00:00",
                    "2022-03-29T00:00:00",
                    "2021-12-29T00:00:00",
                    "2021-09-29T00:00:00",
                    "2021-06-29T00:00:00",
                    "2021-03-29T00:00:00",
                    "2020-12-27T00:00:00",
                    "2020-09-29T00:00:00",
                    "2020-06-29T00:00:00",
                    "2020-03-27T00:00:00",
                    "2019-12-27T00:00:00",
                    "2019-09-28T00:00:00",
                    "2019-06-28T00:00:00",
                    "2019-03-29T00:00:00",
                    "2018-12-27T00:00:00",
                    "2018-09-28T00:00:00",
                    "2018-06-29T00:00:00",
                    "2018-03-29T00:00:00"
                  ],
                  "xaxis": "x",
                  "y": [
                    11.968186950287674,
                    5.117524723331002,
                    2.5558549509890724,
                    -0.20999999999999375,
                    -0.31863082127773623,
                    11.553029802459093,
                    4.529999999999973,
                    7.114308271373602,
                    7.4211509999999805,
                    -2.593151942639281,
                    12.82881825357751,
                    4.320999999999998,
                    4.5,
                    3.9685819857029117,
                    -0.06760815902059392,
                    7.459999999999994,
                    7.459999999999994,
                    10.830000000000013,
                    10.759157014381216,
                    10.489999999999995,
                    9.600000000000009,
                    7.42079994608315,
                    10.913026965554337,
                    10.200000000000003,
                    10.5
                  ],
                  "yaxis": "y"
                }
              ],
              "layout": {
                "legend": {
                  "title": {
                    "text": "Ngành"
                  },
                  "tracegroupgap": 0
                },
                "margin": {
                  "t": 60
                },
                "template": {
                  "data": {
                    "bar": [
                      {
                        "error_x": {
                          "color": "#2a3f5f"
                        },
                        "error_y": {
                          "color": "#2a3f5f"
                        },
                        "marker": {
                          "line": {
                            "color": "#E5ECF6",
                            "width": 0.5
                          },
                          "pattern": {
                            "fillmode": "overlay",
                            "size": 10,
                            "solidity": 0.2
                          }
                        },
                        "type": "bar"
                      }
                    ],
                    "barpolar": [
                      {
                        "marker": {
                          "line": {
                            "color": "#E5ECF6",
                            "width": 0.5
                          },
                          "pattern": {
                            "fillmode": "overlay",
                            "size": 10,
                            "solidity": 0.2
                          }
                        },
                        "type": "barpolar"
                      }
                    ],
                    "carpet": [
                      {
                        "aaxis": {
                          "endlinecolor": "#2a3f5f",
                          "gridcolor": "white",
                          "linecolor": "white",
                          "minorgridcolor": "white",
                          "startlinecolor": "#2a3f5f"
                        },
                        "baxis": {
                          "endlinecolor": "#2a3f5f",
                          "gridcolor": "white",
                          "linecolor": "white",
                          "minorgridcolor": "white",
                          "startlinecolor": "#2a3f5f"
                        },
                        "type": "carpet"
                      }
                    ],
                    "choropleth": [
                      {
                        "colorbar": {
                          "outlinewidth": 0,
                          "ticks": ""
                        },
                        "type": "choropleth"
                      }
                    ],
                    "contour": [
                      {
                        "colorbar": {
                          "outlinewidth": 0,
                          "ticks": ""
                        },
                        "colorscale": [
                          [
                            0,
                            "#0d0887"
                          ],
                          [
                            0.1111111111111111,
                            "#46039f"
                          ],
                          [
                            0.2222222222222222,
                            "#7201a8"
                          ],
                          [
                            0.3333333333333333,
                            "#9c179e"
                          ],
                          [
                            0.4444444444444444,
                            "#bd3786"
                          ],
                          [
                            0.5555555555555556,
                            "#d8576b"
                          ],
                          [
                            0.6666666666666666,
                            "#ed7953"
                          ],
                          [
                            0.7777777777777778,
                            "#fb9f3a"
                          ],
                          [
                            0.8888888888888888,
                            "#fdca26"
                          ],
                          [
                            1,
                            "#f0f921"
                          ]
                        ],
                        "type": "contour"
                      }
                    ],
                    "contourcarpet": [
                      {
                        "colorbar": {
                          "outlinewidth": 0,
                          "ticks": ""
                        },
                        "type": "contourcarpet"
                      }
                    ],
                    "heatmap": [
                      {
                        "colorbar": {
                          "outlinewidth": 0,
                          "ticks": ""
                        },
                        "colorscale": [
                          [
                            0,
                            "#0d0887"
                          ],
                          [
                            0.1111111111111111,
                            "#46039f"
                          ],
                          [
                            0.2222222222222222,
                            "#7201a8"
                          ],
                          [
                            0.3333333333333333,
                            "#9c179e"
                          ],
                          [
                            0.4444444444444444,
                            "#bd3786"
                          ],
                          [
                            0.5555555555555556,
                            "#d8576b"
                          ],
                          [
                            0.6666666666666666,
                            "#ed7953"
                          ],
                          [
                            0.7777777777777778,
                            "#fb9f3a"
                          ],
                          [
                            0.8888888888888888,
                            "#fdca26"
                          ],
                          [
                            1,
                            "#f0f921"
                          ]
                        ],
                        "type": "heatmap"
                      }
                    ],
                    "heatmapgl": [
                      {
                        "colorbar": {
                          "outlinewidth": 0,
                          "ticks": ""
                        },
                        "colorscale": [
                          [
                            0,
                            "#0d0887"
                          ],
                          [
                            0.1111111111111111,
                            "#46039f"
                          ],
                          [
                            0.2222222222222222,
                            "#7201a8"
                          ],
                          [
                            0.3333333333333333,
                            "#9c179e"
                          ],
                          [
                            0.4444444444444444,
                            "#bd3786"
                          ],
                          [
                            0.5555555555555556,
                            "#d8576b"
                          ],
                          [
                            0.6666666666666666,
                            "#ed7953"
                          ],
                          [
                            0.7777777777777778,
                            "#fb9f3a"
                          ],
                          [
                            0.8888888888888888,
                            "#fdca26"
                          ],
                          [
                            1,
                            "#f0f921"
                          ]
                        ],
                        "type": "heatmapgl"
                      }
                    ],
                    "histogram": [
                      {
                        "marker": {
                          "pattern": {
                            "fillmode": "overlay",
                            "size": 10,
                            "solidity": 0.2
                          }
                        },
                        "type": "histogram"
                      }
                    ],
                    "histogram2d": [
                      {
                        "colorbar": {
                          "outlinewidth": 0,
                          "ticks": ""
                        },
                        "colorscale": [
                          [
                            0,
                            "#0d0887"
                          ],
                          [
                            0.1111111111111111,
                            "#46039f"
                          ],
                          [
                            0.2222222222222222,
                            "#7201a8"
                          ],
                          [
                            0.3333333333333333,
                            "#9c179e"
                          ],
                          [
                            0.4444444444444444,
                            "#bd3786"
                          ],
                          [
                            0.5555555555555556,
                            "#d8576b"
                          ],
                          [
                            0.6666666666666666,
                            "#ed7953"
                          ],
                          [
                            0.7777777777777778,
                            "#fb9f3a"
                          ],
                          [
                            0.8888888888888888,
                            "#fdca26"
                          ],
                          [
                            1,
                            "#f0f921"
                          ]
                        ],
                        "type": "histogram2d"
                      }
                    ],
                    "histogram2dcontour": [
                      {
                        "colorbar": {
                          "outlinewidth": 0,
                          "ticks": ""
                        },
                        "colorscale": [
                          [
                            0,
                            "#0d0887"
                          ],
                          [
                            0.1111111111111111,
                            "#46039f"
                          ],
                          [
                            0.2222222222222222,
                            "#7201a8"
                          ],
                          [
                            0.3333333333333333,
                            "#9c179e"
                          ],
                          [
                            0.4444444444444444,
                            "#bd3786"
                          ],
                          [
                            0.5555555555555556,
                            "#d8576b"
                          ],
                          [
                            0.6666666666666666,
                            "#ed7953"
                          ],
                          [
                            0.7777777777777778,
                            "#fb9f3a"
                          ],
                          [
                            0.8888888888888888,
                            "#fdca26"
                          ],
                          [
                            1,
                            "#f0f921"
                          ]
                        ],
                        "type": "histogram2dcontour"
                      }
                    ],
                    "mesh3d": [
                      {
                        "colorbar": {
                          "outlinewidth": 0,
                          "ticks": ""
                        },
                        "type": "mesh3d"
                      }
                    ],
                    "parcoords": [
                      {
                        "line": {
                          "colorbar": {
                            "outlinewidth": 0,
                            "ticks": ""
                          }
                        },
                        "type": "parcoords"
                      }
                    ],
                    "pie": [
                      {
                        "automargin": true,
                        "type": "pie"
                      }
                    ],
                    "scatter": [
                      {
                        "fillpattern": {
                          "fillmode": "overlay",
                          "size": 10,
                          "solidity": 0.2
                        },
                        "type": "scatter"
                      }
                    ],
                    "scatter3d": [
                      {
                        "line": {
                          "colorbar": {
                            "outlinewidth": 0,
                            "ticks": ""
                          }
                        },
                        "marker": {
                          "colorbar": {
                            "outlinewidth": 0,
                            "ticks": ""
                          }
                        },
                        "type": "scatter3d"
                      }
                    ],
                    "scattercarpet": [
                      {
                        "marker": {
                          "colorbar": {
                            "outlinewidth": 0,
                            "ticks": ""
                          }
                        },
                        "type": "scattercarpet"
                      }
                    ],
                    "scattergeo": [
                      {
                        "marker": {
                          "colorbar": {
                            "outlinewidth": 0,
                            "ticks": ""
                          }
                        },
                        "type": "scattergeo"
                      }
                    ],
                    "scattergl": [
                      {
                        "marker": {
                          "colorbar": {
                            "outlinewidth": 0,
                            "ticks": ""
                          }
                        },
                        "type": "scattergl"
                      }
                    ],
                    "scattermapbox": [
                      {
                        "marker": {
                          "colorbar": {
                            "outlinewidth": 0,
                            "ticks": ""
                          }
                        },
                        "type": "scattermapbox"
                      }
                    ],
                    "scatterpolar": [
                      {
                        "marker": {
                          "colorbar": {
                            "outlinewidth": 0,
                            "ticks": ""
                          }
                        },
                        "type": "scatterpolar"
                      }
                    ],
                    "scatterpolargl": [
                      {
                        "marker": {
                          "colorbar": {
                            "outlinewidth": 0,
                            "ticks": ""
                          }
                        },
                        "type": "scatterpolargl"
                      }
                    ],
                    "scatterternary": [
                      {
                        "marker": {
                          "colorbar": {
                            "outlinewidth": 0,
                            "ticks": ""
                          }
                        },
                        "type": "scatterternary"
                      }
                    ],
                    "surface": [
                      {
                        "colorbar": {
                          "outlinewidth": 0,
                          "ticks": ""
                        },
                        "colorscale": [
                          [
                            0,
                            "#0d0887"
                          ],
                          [
                            0.1111111111111111,
                            "#46039f"
                          ],
                          [
                            0.2222222222222222,
                            "#7201a8"
                          ],
                          [
                            0.3333333333333333,
                            "#9c179e"
                          ],
                          [
                            0.4444444444444444,
                            "#bd3786"
                          ],
                          [
                            0.5555555555555556,
                            "#d8576b"
                          ],
                          [
                            0.6666666666666666,
                            "#ed7953"
                          ],
                          [
                            0.7777777777777778,
                            "#fb9f3a"
                          ],
                          [
                            0.8888888888888888,
                            "#fdca26"
                          ],
                          [
                            1,
                            "#f0f921"
                          ]
                        ],
                        "type": "surface"
                      }
                    ],
                    "table": [
                      {
                        "cells": {
                          "fill": {
                            "color": "#EBF0F8"
                          },
                          "line": {
                            "color": "white"
                          }
                        },
                        "header": {
                          "fill": {
                            "color": "#C8D4E3"
                          },
                          "line": {
                            "color": "white"
                          }
                        },
                        "type": "table"
                      }
                    ]
                  },
                  "layout": {
                    "annotationdefaults": {
                      "arrowcolor": "#2a3f5f",
                      "arrowhead": 0,
                      "arrowwidth": 1
                    },
                    "autotypenumbers": "strict",
                    "coloraxis": {
                      "colorbar": {
                        "outlinewidth": 0,
                        "ticks": ""
                      }
                    },
                    "colorscale": {
                      "diverging": [
                        [
                          0,
                          "#8e0152"
                        ],
                        [
                          0.1,
                          "#c51b7d"
                        ],
                        [
                          0.2,
                          "#de77ae"
                        ],
                        [
                          0.3,
                          "#f1b6da"
                        ],
                        [
                          0.4,
                          "#fde0ef"
                        ],
                        [
                          0.5,
                          "#f7f7f7"
                        ],
                        [
                          0.6,
                          "#e6f5d0"
                        ],
                        [
                          0.7,
                          "#b8e186"
                        ],
                        [
                          0.8,
                          "#7fbc41"
                        ],
                        [
                          0.9,
                          "#4d9221"
                        ],
                        [
                          1,
                          "#276419"
                        ]
                      ],
                      "sequential": [
                        [
                          0,
                          "#0d0887"
                        ],
                        [
                          0.1111111111111111,
                          "#46039f"
                        ],
                        [
                          0.2222222222222222,
                          "#7201a8"
                        ],
                        [
                          0.3333333333333333,
                          "#9c179e"
                        ],
                        [
                          0.4444444444444444,
                          "#bd3786"
                        ],
                        [
                          0.5555555555555556,
                          "#d8576b"
                        ],
                        [
                          0.6666666666666666,
                          "#ed7953"
                        ],
                        [
                          0.7777777777777778,
                          "#fb9f3a"
                        ],
                        [
                          0.8888888888888888,
                          "#fdca26"
                        ],
                        [
                          1,
                          "#f0f921"
                        ]
                      ],
                      "sequentialminus": [
                        [
                          0,
                          "#0d0887"
                        ],
                        [
                          0.1111111111111111,
                          "#46039f"
                        ],
                        [
                          0.2222222222222222,
                          "#7201a8"
                        ],
                        [
                          0.3333333333333333,
                          "#9c179e"
                        ],
                        [
                          0.4444444444444444,
                          "#bd3786"
                        ],
                        [
                          0.5555555555555556,
                          "#d8576b"
                        ],
                        [
                          0.6666666666666666,
                          "#ed7953"
                        ],
                        [
                          0.7777777777777778,
                          "#fb9f3a"
                        ],
                        [
                          0.8888888888888888,
                          "#fdca26"
                        ],
                        [
                          1,
                          "#f0f921"
                        ]
                      ]
                    },
                    "colorway": [
                      "#636efa",
                      "#EF553B",
                      "#00cc96",
                      "#ab63fa",
                      "#FFA15A",
                      "#19d3f3",
                      "#FF6692",
                      "#B6E880",
                      "#FF97FF",
                      "#FECB52"
                    ],
                    "font": {
                      "color": "#2a3f5f"
                    },
                    "geo": {
                      "bgcolor": "white",
                      "lakecolor": "white",
                      "landcolor": "#E5ECF6",
                      "showlakes": true,
                      "showland": true,
                      "subunitcolor": "white"
                    },
                    "hoverlabel": {
                      "align": "left"
                    },
                    "hovermode": "closest",
                    "mapbox": {
                      "style": "light"
                    },
                    "paper_bgcolor": "white",
                    "plot_bgcolor": "#E5ECF6",
                    "polar": {
                      "angularaxis": {
                        "gridcolor": "white",
                        "linecolor": "white",
                        "ticks": ""
                      },
                      "bgcolor": "#E5ECF6",
                      "radialaxis": {
                        "gridcolor": "white",
                        "linecolor": "white",
                        "ticks": ""
                      }
                    },
                    "scene": {
                      "xaxis": {
                        "backgroundcolor": "#E5ECF6",
                        "gridcolor": "white",
                        "gridwidth": 2,
                        "linecolor": "white",
                        "showbackground": true,
                        "ticks": "",
                        "zerolinecolor": "white"
                      },
                      "yaxis": {
                        "backgroundcolor": "#E5ECF6",
                        "gridcolor": "white",
                        "gridwidth": 2,
                        "linecolor": "white",
                        "showbackground": true,
                        "ticks": "",
                        "zerolinecolor": "white"
                      },
                      "zaxis": {
                        "backgroundcolor": "#E5ECF6",
                        "gridcolor": "white",
                        "gridwidth": 2,
                        "linecolor": "white",
                        "showbackground": true,
                        "ticks": "",
                        "zerolinecolor": "white"
                      }
                    },
                    "shapedefaults": {
                      "line": {
                        "color": "#2a3f5f"
                      }
                    },
                    "ternary": {
                      "aaxis": {
                        "gridcolor": "white",
                        "linecolor": "white",
                        "ticks": ""
                      },
                      "baxis": {
                        "gridcolor": "white",
                        "linecolor": "white",
                        "ticks": ""
                      },
                      "bgcolor": "#E5ECF6",
                      "caxis": {
                        "gridcolor": "white",
                        "linecolor": "white",
                        "ticks": ""
                      }
                    },
                    "title": {
                      "x": 0.05
                    },
                    "xaxis": {
                      "automargin": true,
                      "gridcolor": "white",
                      "linecolor": "white",
                      "ticks": "",
                      "title": {
                        "standoff": 15
                      },
                      "zerolinecolor": "white",
                      "zerolinewidth": 2
                    },
                    "yaxis": {
                      "automargin": true,
                      "gridcolor": "white",
                      "linecolor": "white",
                      "ticks": "",
                      "title": {
                        "standoff": 15
                      },
                      "zerolinecolor": "white",
                      "zerolinewidth": 2
                    }
                  }
                },
                "xaxis": {
                  "anchor": "y",
                  "domain": [
                    0,
                    1
                  ],
                  "rangeselector": {
                    "buttons": [
                      {
                        "count": 1,
                        "label": "YTD",
                        "step": "year",
                        "stepmode": "todate"
                      },
                      {
                        "count": 1,
                        "label": "1y",
                        "step": "year",
                        "stepmode": "backward"
                      },
                      {
                        "count": 3,
                        "label": "3y",
                        "step": "year",
                        "stepmode": "backward"
                      },
                      {
                        "count": 5,
                        "label": "5y",
                        "step": "year",
                        "stepmode": "backward"
                      },
                      {
                        "count": 7,
                        "label": "7y",
                        "step": "year",
                        "stepmode": "backward"
                      },
                      {
                        "count": 10,
                        "label": "10y",
                        "step": "year",
                        "stepmode": "backward"
                      },
                      {
                        "step": "all"
                      }
                    ]
                  },
                  "rangeslider": {
                    "visible": true
                  },
                  "title": {
                    "text": "Date"
                  }
                },
                "yaxis": {
                  "anchor": "x",
                  "domain": [
                    0,
                    1
                  ],
                  "title": {
                    "text": "YOY"
                  }
                }
              }
            }
          },
          "metadata": {},
          "output_type": "display_data"
        }
      ],
      "source": [
        "import pandas as pd\n",
        "import plotly.express as px\n",
        "import plotly.graph_objects as go\n",
        "\n",
        "df_show = dfs_gdp_ss[\n",
        "    (\n",
        "        (dfs_gdp_ss[\"Ngành\"] == \"Công nghiệp chế biến, chế tạo\")\n",
        "        | (dfs_gdp_ss[\"Ngành\"] == \"Sản xuất và phân phối điện, khí đốt, nước nóng, hơi nước và điều hòa không khí\")\n",
        "    )\n",
        "]\n",
        "\n",
        "fig = px.area(df_show, x=\"Date\", y=\"YOY\", color=\"Ngành\")\n",
        "\n",
        "fig.update_xaxes(\n",
        "    rangeslider_visible=True,\n",
        "    rangeselector=dict(\n",
        "        buttons=[\n",
        "            dict(count=1, label=\"YTD\", step=\"year\", stepmode=\"todate\"),\n",
        "            dict(count=1, label=\"1y\", step=\"year\", stepmode=\"backward\"),\n",
        "            dict(count=3, label=\"3y\", step=\"year\", stepmode=\"backward\"),\n",
        "            dict(count=5, label=\"5y\", step=\"year\", stepmode=\"backward\"),\n",
        "            dict(count=7, label=\"7y\", step=\"year\", stepmode=\"backward\"),\n",
        "            dict(count=10, label=\"10y\", step=\"year\", stepmode=\"backward\"),\n",
        "            dict(step=\"all\"),\n",
        "        ]\n",
        "    ),\n",
        ")\n",
        "\n",
        "fig.show()"
      ]
    },
    {
      "cell_type": "code",
      "execution_count": null,
      "metadata": {},
      "outputs": [],
      "source": []
    },
    {
      "cell_type": "code",
      "execution_count": null,
      "metadata": {},
      "outputs": [],
      "source": []
    }
  ],
  "metadata": {
    "kernelspec": {
      "display_name": "vn-macroeconomics",
      "language": "python",
      "name": "python3"
    },
    "language_info": {
      "codemirror_mode": {
        "name": "ipython",
        "version": 3
      },
      "file_extension": ".py",
      "mimetype": "text/x-python",
      "name": "python",
      "nbconvert_exporter": "python",
      "pygments_lexer": "ipython3",
      "version": "3.9.12"
    },
    "orig_nbformat": 4
  },
  "nbformat": 4,
  "nbformat_minor": 2
}
