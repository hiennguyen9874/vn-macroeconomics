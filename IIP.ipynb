{
  "cells": [
    {
      "cell_type": "code",
      "execution_count": 1,
      "metadata": {},
      "outputs": [],
      "source": [
        "import pandas as pd\n",
        "import seaborn as sns\n",
        "from datetime import date"
      ]
    },
    {
      "cell_type": "code",
      "execution_count": 2,
      "metadata": {},
      "outputs": [
        {
          "data": {
            "text/html": [
              "<div>\n",
              "<style scoped>\n",
              "    .dataframe tbody tr th:only-of-type {\n",
              "        vertical-align: middle;\n",
              "    }\n",
              "\n",
              "    .dataframe tbody tr th {\n",
              "        vertical-align: top;\n",
              "    }\n",
              "\n",
              "    .dataframe thead th {\n",
              "        text-align: right;\n",
              "    }\n",
              "</style>\n",
              "<table border=\"1\" class=\"dataframe\">\n",
              "  <thead>\n",
              "    <tr style=\"text-align: right;\">\n",
              "      <th></th>\n",
              "      <th>Ngành</th>\n",
              "      <th>Tháng này so với cùng kỳ năm trước</th>\n",
              "      <th>Từ đầu năm đến nay so với cùng kỳ năm trước</th>\n",
              "      <th>Date</th>\n",
              "    </tr>\n",
              "  </thead>\n",
              "  <tbody>\n",
              "    <tr>\n",
              "      <th>5</th>\n",
              "      <td>Toàn ngành công nghiệp</td>\n",
              "      <td>-8.04</td>\n",
              "      <td>-8.04</td>\n",
              "      <td>2023-01-29</td>\n",
              "    </tr>\n",
              "    <tr>\n",
              "      <th>6</th>\n",
              "      <td>Khai khoáng</td>\n",
              "      <td>-4.86</td>\n",
              "      <td>-4.86</td>\n",
              "      <td>2023-01-29</td>\n",
              "    </tr>\n",
              "    <tr>\n",
              "      <th>7</th>\n",
              "      <td>Khai thác than cứng và than non</td>\n",
              "      <td>-8.82</td>\n",
              "      <td>-8.82</td>\n",
              "      <td>2023-01-29</td>\n",
              "    </tr>\n",
              "    <tr>\n",
              "      <th>8</th>\n",
              "      <td>Khai thác dầu thô và khí đốt tự nhiên</td>\n",
              "      <td>-2.53</td>\n",
              "      <td>-2.53</td>\n",
              "      <td>2023-01-29</td>\n",
              "    </tr>\n",
              "    <tr>\n",
              "      <th>9</th>\n",
              "      <td>Khai thác quặng kim loại</td>\n",
              "      <td>2.81</td>\n",
              "      <td>2.81</td>\n",
              "      <td>2023-01-29</td>\n",
              "    </tr>\n",
              "    <tr>\n",
              "      <th>10</th>\n",
              "      <td>Khai khoáng khác</td>\n",
              "      <td>-6.73</td>\n",
              "      <td>-6.73</td>\n",
              "      <td>2023-01-29</td>\n",
              "    </tr>\n",
              "    <tr>\n",
              "      <th>11</th>\n",
              "      <td>Hoạt động dịch vụ hỗ trợ khai thác mỏ và quặng</td>\n",
              "      <td>-10.70</td>\n",
              "      <td>-10.70</td>\n",
              "      <td>2023-01-29</td>\n",
              "    </tr>\n",
              "    <tr>\n",
              "      <th>12</th>\n",
              "      <td>Công nghiệp chế biến, chế tạo</td>\n",
              "      <td>-9.10</td>\n",
              "      <td>-9.10</td>\n",
              "      <td>2023-01-29</td>\n",
              "    </tr>\n",
              "    <tr>\n",
              "      <th>13</th>\n",
              "      <td>Sản xuất, chế biến thực phẩm</td>\n",
              "      <td>-1.99</td>\n",
              "      <td>-1.99</td>\n",
              "      <td>2023-01-29</td>\n",
              "    </tr>\n",
              "    <tr>\n",
              "      <th>14</th>\n",
              "      <td>Sản xuất đồ uống</td>\n",
              "      <td>17.46</td>\n",
              "      <td>17.46</td>\n",
              "      <td>2023-01-29</td>\n",
              "    </tr>\n",
              "    <tr>\n",
              "      <th>15</th>\n",
              "      <td>Sản xuất sản phẩm thuốc lá</td>\n",
              "      <td>-6.03</td>\n",
              "      <td>-6.03</td>\n",
              "      <td>2023-01-29</td>\n",
              "    </tr>\n",
              "    <tr>\n",
              "      <th>16</th>\n",
              "      <td>Dệt</td>\n",
              "      <td>-11.83</td>\n",
              "      <td>-11.83</td>\n",
              "      <td>2023-01-29</td>\n",
              "    </tr>\n",
              "    <tr>\n",
              "      <th>17</th>\n",
              "      <td>Sản xuất trang phục</td>\n",
              "      <td>-20.99</td>\n",
              "      <td>-20.99</td>\n",
              "      <td>2023-01-29</td>\n",
              "    </tr>\n",
              "    <tr>\n",
              "      <th>18</th>\n",
              "      <td>Sản xuất da và các sản phẩm có liên quan</td>\n",
              "      <td>-14.55</td>\n",
              "      <td>-14.55</td>\n",
              "      <td>2023-01-29</td>\n",
              "    </tr>\n",
              "    <tr>\n",
              "      <th>19</th>\n",
              "      <td>Chế biến gỗ và sản xuất sản phẩm từ gỗ, tre, n...</td>\n",
              "      <td>-5.37</td>\n",
              "      <td>-5.37</td>\n",
              "      <td>2023-01-29</td>\n",
              "    </tr>\n",
              "  </tbody>\n",
              "</table>\n",
              "</div>"
            ],
            "text/plain": [
              "                                                Ngành  \\\n",
              "5                              Toàn ngành công nghiệp   \n",
              "6                                         Khai khoáng   \n",
              "7                     Khai thác than cứng và than non   \n",
              "8               Khai thác dầu thô và khí đốt tự nhiên   \n",
              "9                            Khai thác quặng kim loại   \n",
              "10                                   Khai khoáng khác   \n",
              "11     Hoạt động dịch vụ hỗ trợ khai thác mỏ và quặng   \n",
              "12                      Công nghiệp chế biến, chế tạo   \n",
              "13                       Sản xuất, chế biến thực phẩm   \n",
              "14                                   Sản xuất đồ uống   \n",
              "15                         Sản xuất sản phẩm thuốc lá   \n",
              "16                                                Dệt   \n",
              "17                                Sản xuất trang phục   \n",
              "18           Sản xuất da và các sản phẩm có liên quan   \n",
              "19  Chế biến gỗ và sản xuất sản phẩm từ gỗ, tre, n...   \n",
              "\n",
              "    Tháng này so với cùng kỳ năm trước  \\\n",
              "5                                -8.04   \n",
              "6                                -4.86   \n",
              "7                                -8.82   \n",
              "8                                -2.53   \n",
              "9                                 2.81   \n",
              "10                               -6.73   \n",
              "11                              -10.70   \n",
              "12                               -9.10   \n",
              "13                               -1.99   \n",
              "14                               17.46   \n",
              "15                               -6.03   \n",
              "16                              -11.83   \n",
              "17                              -20.99   \n",
              "18                              -14.55   \n",
              "19                               -5.37   \n",
              "\n",
              "    Từ đầu năm đến nay so với cùng kỳ năm trước       Date  \n",
              "5                                         -8.04 2023-01-29  \n",
              "6                                         -4.86 2023-01-29  \n",
              "7                                         -8.82 2023-01-29  \n",
              "8                                         -2.53 2023-01-29  \n",
              "9                                          2.81 2023-01-29  \n",
              "10                                        -6.73 2023-01-29  \n",
              "11                                       -10.70 2023-01-29  \n",
              "12                                        -9.10 2023-01-29  \n",
              "13                                        -1.99 2023-01-29  \n",
              "14                                        17.46 2023-01-29  \n",
              "15                                        -6.03 2023-01-29  \n",
              "16                                       -11.83 2023-01-29  \n",
              "17                                       -20.99 2023-01-29  \n",
              "18                                       -14.55 2023-01-29  \n",
              "19                                        -5.37 2023-01-29  "
            ]
          },
          "execution_count": 2,
          "metadata": {},
          "output_type": "execute_result"
        }
      ],
      "source": [
        "en_to_vn = {\n",
        "    \"WHOLE INDUSTRY\": \"Toàn ngành công nghiệp\",\n",
        "    \"Mining and quarying\": \"Khai khoáng\",\n",
        "    \"Mining of coal and lignite\": \"Khai thác than cứng và than non\",\n",
        "    \"Extraction of crude petroleum and nutural gas\": \"Khai thác dầu thô và khí đốt tự nhiên\",\n",
        "    \"Mining of metal ores\": \"Khai thác quặng kim loại\",\n",
        "    \"Other mining and quarrying (stone, sand and clay)\": \"Khai khoáng khác\",\n",
        "    \"Mining support service activities\": \"Hoạt động dịch vụ hỗ trợ khai thác mỏ và quặng\",\n",
        "    \"Manufacturing\": \"Công nghiệp chế biến, chế tạo\",\n",
        "    \"Manufacture of food products\": \"Sản xuất, chế biến thực phẩm\",\n",
        "    \"Manufacture of beverages\": \"Sản xuất đồ uống\",\n",
        "    \"Manufacture of tobacco products\": \"Sản xuất sản phẩm thuốc lá\",\n",
        "    \"Manufacture of textiles\": \"Dệt\",\n",
        "    \"Manufacture of wearing apparel\": \"Sản xuất trang phục\",\n",
        "    \"Manufacture of leather and related products\": \"Sản xuất da và các sản phẩm có liên quan\",\n",
        "    \"Manufacture of wood and of products of wood and cork\": \"Chế biến gỗ và sản xuất sản phẩm từ gỗ, tre, nứa (trừ giường, tủ, bàn ghế); sản xuất sản phẩm từ rơm, rạ và vật liệu tết bện\",\n",
        "    \"Manufacture of paper and paper products\": \"Sản xuất giấy và sản phẩm từ giấy\",\n",
        "    \"Printing and reproduction of recorded media\": \"In, sao chép bản ghi các loại\",\n",
        "    \"Manufacture of coke and refined petroleum products\": \"Sản xuất than cốc, sản phẩm dầu mỏ tinh chế\",\n",
        "    \"Manufacture of chemicals and chemical products\": \"Sản xuất hoá chất và sản phẩm hoá chất\",\n",
        "    \"Manufacture of pharmaceuticals, medicinal chemical and botanical products\": \"Sản xuất thuốc, hoá dược và dược liệu\",\n",
        "    \"Manufacture of rubber and plastics products\": \"Sản xuất sản phẩm từ cao su và plastic\",\n",
        "    \"Manufacture of other non-metallic mineral products\": \"Sản xuất sản phẩm từ khoáng phi kim loại khác\",\n",
        "    \"Manufacture of basic metals\": \"Sản xuất kim loại\",\n",
        "    \"Manufacture of fabricated metal products, except machinery and equipment\": \"Sản xuất sản phẩm từ kim loại đúc sẵn (trừ máy móc, thiết bị)\",\n",
        "    \"Manufacture of computer, electronic and optical products\": \"Sản xuất sản phẩm điện tử, máy vi tính và sản phẩm quang học\",\n",
        "    \"Manufacture of electrical equipment\": \"Sản xuất thiết bị điện\",\n",
        "    \"Manufacture of machinery and equipment n.e.c\": \"Sản xuất máy móc, thiết bị chưa được phân vào đâu\",\n",
        "    \"Manufacture of motor vehicles; trailers and semi-trailers\": \"Sản xuất xe có động cơ\",\n",
        "    \"Manufacture of other transport equipment\": \"Sản xuất phương tiện vận tải khác\",\n",
        "    \"Manufacture of furniture\": \"Sản xuất giường, tủ, bàn, ghế\",\n",
        "    \"Other manufacturing\": \"Công nghiệp chế biến, chế tạo khác\",\n",
        "    \"Repair and installation of machinery and equipment\": \"Sửa chữa, bảo dưỡng và lắp đặt máy móc, thiết bị\",\n",
        "    \"Electricity, gas, steam and air conditioning supply\": \"Sản xuất và phân phối điện\",\n",
        "    \"Water supply; sewerage, waste management and remediation activities\": \"Cung cấp nước; hoạt động quản lý và xử lý rác thải, nước thải\",\n",
        "    \"Water collection, treatment and supply\": \"Khai thác, xử lý và cung cấp nước\",\n",
        "    \"Sewerage and sewer treatment activities\": \"Thoát nước và xử lý nước thải\",\n",
        "    \"Waste collection, treatment and disposal activities; materials recovery\": \"Hoạt động thu gom, xử lý và tiêu huỷ rác thải; tái chế phế liệu\",\n",
        "}\n",
        "\n",
        "\n",
        "def find_sheet_name(sheet_names):\n",
        "    iip_sheet_names = list(filter(lambda x: \"iip\" in x.lower(), sheet_names))\n",
        "\n",
        "    if len(iip_sheet_names) == 1:\n",
        "        return iip_sheet_names[0]\n",
        "\n",
        "    iip_sheet_names = list(filter(lambda x: \"thang\" in x.lower(), iip_sheet_names))\n",
        "\n",
        "    if len(iip_sheet_names) == 1:\n",
        "        return iip_sheet_names[0]\n",
        "\n",
        "    if len(sheet_names) == 43:\n",
        "        return \"7\"\n",
        "\n",
        "    iip_sheet_names = list(filter(lambda x: \"gtcn\" in x.lower(), sheet_names))\n",
        "\n",
        "    if len(iip_sheet_names) == 1:\n",
        "        return iip_sheet_names[0]\n",
        "\n",
        "    raise RuntimeError\n",
        "\n",
        "\n",
        "def get_ipp_2023(xl, sheet_name, date):\n",
        "    df = xl.parse(sheet_name)\n",
        "\n",
        "    df = df.dropna(axis=1, how=\"all\")\n",
        "\n",
        "    if len(df.columns) == 5:\n",
        "        df = df.drop(columns=[df.columns[1], df.columns[2]])\n",
        "    elif len(df.columns) == 6:\n",
        "        df = df.drop(columns=[df.columns[1], df.columns[2], df.columns[5]])\n",
        "    elif len(df.columns) == 4 and int(date.split(\"-\")[1]) == 1:\n",
        "        df = df.drop(columns=[df.columns[1], df.columns[2]])\n",
        "        df[\"A\"] = df[df.columns[1]]\n",
        "    elif len(df.columns) == 4:\n",
        "        df = df.drop(columns=[df.columns[1]])\n",
        "    elif len(df.columns) == 3 and int(date.split(\"-\")[1]) == 1:\n",
        "        df = df.drop(columns=[df.columns[1]])\n",
        "        df[\"A\"] = df[df.columns[1]]\n",
        "    elif len(df.columns) == 3:\n",
        "        df = df.drop(columns=[df.columns[1]])\n",
        "        df[\"A\"] = df[df.columns[1]]\n",
        "        raise RuntimeError(date)\n",
        "\n",
        "    df[df.columns[0]] = (\n",
        "        df[df.columns[0]].replace(r\"\\s+\", \" \", regex=True).replace(r\"\\n\", \" \", regex=True)\n",
        "    )\n",
        "\n",
        "    df[df.columns[0]] = df[df.columns[0]].str.strip()\n",
        "\n",
        "    df_iip_per_month = df.drop(\n",
        "        list(\n",
        "            range(\n",
        "                df[df.columns[0]][\n",
        "                    (df[df.columns[0]] == \"Toàn ngành công nghiệp\")\n",
        "                    | (df[df.columns[0]] == \"WHOLE INDUSTRY\")\n",
        "                    | (df[df.columns[0]] == \"TOÀN NGÀNH CÔNG NGHIỆP\")\n",
        "                    | (df[df.columns[0]] == \"TOÀN QUỐC\")\n",
        "                ].index[0]\n",
        "            )\n",
        "        )\n",
        "    )\n",
        "\n",
        "    df_iip_per_month.columns = [\n",
        "        \"Ngành\",\n",
        "        \"Tháng này so với cùng kỳ năm trước\",\n",
        "        \"Từ đầu năm đến nay so với cùng kỳ năm trước\",\n",
        "    ]\n",
        "\n",
        "    if len(df_iip_per_month[\"Ngành\"][df_iip_per_month[\"Ngành\"] == \"WHOLE INDUSTRY\"].index) > 0:\n",
        "        df_iip_per_month[\"Ngành\"] = df_iip_per_month[\"Ngành\"].map(en_to_vn)\n",
        "\n",
        "    df_iip_per_month = df_iip_per_month[\n",
        "        pd.to_numeric(\n",
        "            df_iip_per_month[\"Tháng này so với cùng kỳ năm trước\"], errors=\"coerce\"\n",
        "        ).notnull()\n",
        "    ]\n",
        "    df_iip_per_month = df_iip_per_month[\n",
        "        pd.to_numeric(\n",
        "            df_iip_per_month[\"Từ đầu năm đến nay so với cùng kỳ năm trước\"], errors=\"coerce\"\n",
        "        ).notnull()\n",
        "    ]\n",
        "\n",
        "    df_iip_per_month[\"Tháng này so với cùng kỳ năm trước\"] = (\n",
        "        df_iip_per_month[\"Tháng này so với cùng kỳ năm trước\"] - 100\n",
        "    ).astype(float)\n",
        "\n",
        "    df_iip_per_month[\"Từ đầu năm đến nay so với cùng kỳ năm trước\"] = (\n",
        "        df_iip_per_month[\"Từ đầu năm đến nay so với cùng kỳ năm trước\"] - 100\n",
        "    ).astype(float)\n",
        "\n",
        "    df_iip_per_month[\"Date\"] = date\n",
        "    df_iip_per_month[\"Date\"] = pd.to_datetime(df_iip_per_month[\"Date\"], dayfirst=False)\n",
        "\n",
        "    df_iip_per_month = df_iip_per_month[\n",
        "        df_iip_per_month[\"Từ đầu năm đến nay so với cùng kỳ năm trước\"].notna()\n",
        "    ]\n",
        "\n",
        "    df_iip_per_month = df_iip_per_month[\n",
        "        df_iip_per_month[\"Tháng này so với cùng kỳ năm trước\"].notna()\n",
        "    ]\n",
        "\n",
        "    df_iip_per_month = df_iip_per_month.replace(\n",
        "        {\"rác thải, nước thải\": \"Cung cấp nước; hoạt động quản lý và xử lý rác thải, nước thải\"}\n",
        "    )\n",
        "\n",
        "    return df_iip_per_month\n",
        "\n",
        "\n",
        "xl = pd.ExcelFile(\"datas/2023-01-29-02-So-lieu-01.2023-1.xlsx\")\n",
        "get_ipp_2023(xl, find_sheet_name(xl.sheet_names), \"2023-01-29\").head(n=15)"
      ]
    },
    {
      "cell_type": "code",
      "execution_count": 3,
      "metadata": {},
      "outputs": [],
      "source": [
        "import os\n",
        "import contextlib\n",
        "\n",
        "dfs_iip_origin = []\n",
        "for file_name in sorted(\n",
        "    os.listdir(\"./datas\"),\n",
        "    key=lambda filename: f\"{filename.split('-')[0]}-{filename.split('-')[1]}-{filename.split('-')[2]}\",\n",
        "    reverse=True,\n",
        "):\n",
        "    with contextlib.suppress(Exception):\n",
        "        file_path = os.path.join(\"./datas\", file_name)\n",
        "\n",
        "        year = int(file_name.split(\"-\")[0])\n",
        "        month = int(file_name.split(\"-\")[1])\n",
        "        day = int(file_name.split(\"-\")[2])\n",
        "\n",
        "        if year < 2014:\n",
        "            continue\n",
        "\n",
        "        xl = pd.ExcelFile(file_path)\n",
        "\n",
        "        df_iip = get_ipp_2023(xl, find_sheet_name(xl.sheet_names), f\"{year}-{month}-{day}\")\n",
        "\n",
        "        dfs_iip_origin.append(df_iip)"
      ]
    },
    {
      "cell_type": "code",
      "execution_count": 4,
      "metadata": {},
      "outputs": [],
      "source": [
        "dfs_iip = pd.concat(dfs_iip_origin, ignore_index=True, axis=0)\n",
        "dfs_iip[\"Date\"] = pd.to_datetime(dfs_iip[\"Date\"], dayfirst=False)\n",
        "# dfs_iip[dfs_iip[\"Date\"] > \"2014-01-01\"][\"Ngành\"].unique()"
      ]
    },
    {
      "cell_type": "code",
      "execution_count": 5,
      "metadata": {},
      "outputs": [
        {
          "data": {
            "text/html": [
              "<div>\n",
              "<style scoped>\n",
              "    .dataframe tbody tr th:only-of-type {\n",
              "        vertical-align: middle;\n",
              "    }\n",
              "\n",
              "    .dataframe tbody tr th {\n",
              "        vertical-align: top;\n",
              "    }\n",
              "\n",
              "    .dataframe thead th {\n",
              "        text-align: right;\n",
              "    }\n",
              "</style>\n",
              "<table border=\"1\" class=\"dataframe\">\n",
              "  <thead>\n",
              "    <tr style=\"text-align: right;\">\n",
              "      <th></th>\n",
              "      <th>Ngành</th>\n",
              "      <th>Tháng này so với cùng kỳ năm trước</th>\n",
              "      <th>Từ đầu năm đến nay so với cùng kỳ năm trước</th>\n",
              "      <th>Date</th>\n",
              "    </tr>\n",
              "  </thead>\n",
              "  <tbody>\n",
              "    <tr>\n",
              "      <th>0</th>\n",
              "      <td>Toàn ngành công nghiệp</td>\n",
              "      <td>5.76</td>\n",
              "      <td>1.46</td>\n",
              "      <td>2023-12-29</td>\n",
              "    </tr>\n",
              "    <tr>\n",
              "      <th>1</th>\n",
              "      <td>Khai khoáng</td>\n",
              "      <td>-12.81</td>\n",
              "      <td>-3.90</td>\n",
              "      <td>2023-12-29</td>\n",
              "    </tr>\n",
              "    <tr>\n",
              "      <th>2</th>\n",
              "      <td>Khai thác than cứng và than non</td>\n",
              "      <td>-11.01</td>\n",
              "      <td>-1.61</td>\n",
              "      <td>2023-12-29</td>\n",
              "    </tr>\n",
              "    <tr>\n",
              "      <th>3</th>\n",
              "      <td>Khai thác dầu thô và khí đốt tự nhiên</td>\n",
              "      <td>-18.97</td>\n",
              "      <td>-5.69</td>\n",
              "      <td>2023-12-29</td>\n",
              "    </tr>\n",
              "    <tr>\n",
              "      <th>4</th>\n",
              "      <td>Khai thác quặng kim loại</td>\n",
              "      <td>10.00</td>\n",
              "      <td>9.51</td>\n",
              "      <td>2023-12-29</td>\n",
              "    </tr>\n",
              "    <tr>\n",
              "      <th>...</th>\n",
              "      <td>...</td>\n",
              "      <td>...</td>\n",
              "      <td>...</td>\n",
              "      <td>...</td>\n",
              "    </tr>\n",
              "    <tr>\n",
              "      <th>3954</th>\n",
              "      <td>Sản xuất giường, tủ, bàn, ghế</td>\n",
              "      <td>6.94</td>\n",
              "      <td>6.94</td>\n",
              "      <td>2014-01-29</td>\n",
              "    </tr>\n",
              "    <tr>\n",
              "      <th>3955</th>\n",
              "      <td>Sản xuất và phân phối điện</td>\n",
              "      <td>4.40</td>\n",
              "      <td>4.40</td>\n",
              "      <td>2014-01-29</td>\n",
              "    </tr>\n",
              "    <tr>\n",
              "      <th>3956</th>\n",
              "      <td>Cung cấp nước; hoạt động quản lý và xử lý rác ...</td>\n",
              "      <td>8.99</td>\n",
              "      <td>8.99</td>\n",
              "      <td>2014-01-29</td>\n",
              "    </tr>\n",
              "    <tr>\n",
              "      <th>3957</th>\n",
              "      <td>Khai thác, xử lý và cung cấp nước</td>\n",
              "      <td>9.72</td>\n",
              "      <td>9.72</td>\n",
              "      <td>2014-01-29</td>\n",
              "    </tr>\n",
              "    <tr>\n",
              "      <th>3958</th>\n",
              "      <td>Hoạt động thu gom, xử lý và tiêu huỷ rác thải;...</td>\n",
              "      <td>7.57</td>\n",
              "      <td>7.57</td>\n",
              "      <td>2014-01-29</td>\n",
              "    </tr>\n",
              "  </tbody>\n",
              "</table>\n",
              "<p>3959 rows × 4 columns</p>\n",
              "</div>"
            ],
            "text/plain": [
              "                                                  Ngành  \\\n",
              "0                                Toàn ngành công nghiệp   \n",
              "1                                           Khai khoáng   \n",
              "2                       Khai thác than cứng và than non   \n",
              "3                 Khai thác dầu thô và khí đốt tự nhiên   \n",
              "4                              Khai thác quặng kim loại   \n",
              "...                                                 ...   \n",
              "3954                      Sản xuất giường, tủ, bàn, ghế   \n",
              "3955                         Sản xuất và phân phối điện   \n",
              "3956  Cung cấp nước; hoạt động quản lý và xử lý rác ...   \n",
              "3957                  Khai thác, xử lý và cung cấp nước   \n",
              "3958  Hoạt động thu gom, xử lý và tiêu huỷ rác thải;...   \n",
              "\n",
              "      Tháng này so với cùng kỳ năm trước  \\\n",
              "0                                   5.76   \n",
              "1                                 -12.81   \n",
              "2                                 -11.01   \n",
              "3                                 -18.97   \n",
              "4                                  10.00   \n",
              "...                                  ...   \n",
              "3954                                6.94   \n",
              "3955                                4.40   \n",
              "3956                                8.99   \n",
              "3957                                9.72   \n",
              "3958                                7.57   \n",
              "\n",
              "      Từ đầu năm đến nay so với cùng kỳ năm trước       Date  \n",
              "0                                            1.46 2023-12-29  \n",
              "1                                           -3.90 2023-12-29  \n",
              "2                                           -1.61 2023-12-29  \n",
              "3                                           -5.69 2023-12-29  \n",
              "4                                            9.51 2023-12-29  \n",
              "...                                           ...        ...  \n",
              "3954                                         6.94 2014-01-29  \n",
              "3955                                         4.40 2014-01-29  \n",
              "3956                                         8.99 2014-01-29  \n",
              "3957                                         9.72 2014-01-29  \n",
              "3958                                         7.57 2014-01-29  \n",
              "\n",
              "[3959 rows x 4 columns]"
            ]
          },
          "execution_count": 5,
          "metadata": {},
          "output_type": "execute_result"
        }
      ],
      "source": [
        "convert_nganh = {\n",
        "    \"Toàn ngành công nghiệp\": \"Toàn ngành công nghiệp\",\n",
        "    \"Khai khoáng\": \"Khai khoáng\",\n",
        "    \"Khai thác than cứng và than non\": \"Khai thác than cứng và than non\",\n",
        "    \"Khai thác dầu thô và khí đốt tự nhiên\": \"Khai thác dầu thô và khí đốt tự nhiên\",\n",
        "    \"Khai thác quặng kim loại\": \"Khai thác quặng kim loại\",\n",
        "    \"Khai khoáng khác\": \"Khai khoáng khác\",\n",
        "    \"Hoạt động dịch vụ hỗ trợ khai thác mỏ và quặng\": \"Hoạt động dịch vụ hỗ trợ khai thác mỏ và quặng\",\n",
        "    \"Công nghiệp chế biến, chế tạo\": \"Công nghiệp chế biến, chế tạo\",\n",
        "    \"Sản xuất, chế biến thực phẩm\": \"Sản xuất, chế biến thực phẩm\",\n",
        "    \"Sản xuất đồ uống\": \"Sản xuất đồ uống\",\n",
        "    \"Sản xuất sản phẩm thuốc lá\": \"Sản xuất sản phẩm thuốc lá\",\n",
        "    \"Dệt\": \"Dệt\",\n",
        "    \"Sản xuất trang phục\": \"Sản xuất trang phục\",\n",
        "    \"Sản xuất da và các sản phẩm có liên quan\": \"Sản xuất da và các sản phẩm có liên quan\",\n",
        "    \"Chế biến gỗ và sản xuất sản phẩm từ gỗ, tre, nứa (trừ giường, tủ, bàn ghế); sản xuất sản phẩm từ rơm, rạ và vật liệu tết bện\": \"Chế biến gỗ và sản xuất sản phẩm từ gỗ, tre, nứa (trừ giường, tủ, bàn ghế); sản xuất sản phẩm từ rơm, rạ và vật liệu tết bện\",\n",
        "    \"Sản xuất giấy và sản phẩm từ giấy\": \"Sản xuất giấy và sản phẩm từ giấy\",\n",
        "    \"In, sao chép bản ghi các loại\": \"In, sao chép bản ghi các loại\",\n",
        "    \"Sản xuất than cốc, sản phẩm dầu mỏ tinh chế\": \"Sản xuất than cốc, sản phẩm dầu mỏ tinh chế\",\n",
        "    \"Sản xuất hoá chất và sản phẩm hoá chất\": \"Sản xuất hoá chất và sản phẩm hoá chất\",\n",
        "    \"Sản xuất thuốc, hoá dược và dược liệu\": \"Sản xuất thuốc, hoá dược và dược liệu\",\n",
        "    \"Sản xuất sản phẩm từ cao su và plastic\": \"Sản xuất sản phẩm từ cao su và plastic\",\n",
        "    \"Sản xuất sản phẩm từ khoáng phi kim loại khác\": \"Sản xuất sản phẩm từ khoáng phi kim loại khác\",\n",
        "    \"Sản xuất kim loại\": \"Sản xuất kim loại\",\n",
        "    \"Sản xuất sản phẩm từ kim loại đúc sẵn (trừ máy móc, thiết bị)\": \"Sản xuất sản phẩm từ kim loại đúc sẵn (trừ máy móc, thiết bị)\",\n",
        "    \"Sản xuất sản phẩm điện tử, máy vi tính và sản phẩm quang học\": \"Sản xuất sản phẩm điện tử, máy vi tính và sản phẩm quang học\",\n",
        "    \"Sản xuất thiết bị điện\": \"Sản xuất thiết bị điện\",\n",
        "    \"Sản xuất máy móc, thiết bị chưa được phân vào đâu\": \"Sản xuất máy móc, thiết bị chưa được phân vào đâu\",\n",
        "    \"Sản xuất xe có động cơ\": \"Sản xuất xe có động cơ\",\n",
        "    \"Sản xuất phương tiện vận tải khác\": \"Sản xuất phương tiện vận tải khác\",\n",
        "    \"Sản xuất giường, tủ, bàn, ghế\": \"Sản xuất giường, tủ, bàn, ghế\",\n",
        "    \"Công nghiệp chế biến, chế tạo khác\": \"Công nghiệp chế biến, chế tạo khác\",\n",
        "    \"Sửa chữa, bảo dưỡng và lắp đặt máy móc, thiết bị\": \"Sửa chữa, bảo dưỡng và lắp đặt máy móc, thiết bị\",\n",
        "    \"Sản xuất và phân phối điện\": \"Sản xuất và phân phối điện\",\n",
        "    \"Cung cấp nước; hoạt động quản lý và xử lý rác thải, nước thải\": \"Cung cấp nước; hoạt động quản lý và xử lý rác thải, nước thải\",\n",
        "    \"Khai thác, xử lý và cung cấp nước\": \"Khai thác, xử lý và cung cấp nước\",\n",
        "    \"Thoát nước và xử lý nước thải\": \"Thoát nước và xử lý nước thải\",\n",
        "    \"Hoạt động thu gom, xử lý và tiêu huỷ rác thải; tái chế phế liệu\": \"Hoạt động thu gom, xử lý và tiêu huỷ rác thải; tái chế phế liệu\",\n",
        "    \"Chế biến gỗ và sản xuất sản phẩm từ gỗ, tre, nứa (trừ giường, tủ, bàn, ghế); sản xuất sản phẩm từ rơm, rạ và vật liệu tết bện\": \"Chế biến gỗ và sản xuất sản phẩm từ gỗ, tre, nứa (trừ giường, tủ, bàn ghế); sản xuất sản phẩm từ rơm, rạ và vật liệu tết bện\",\n",
        "    \"Sửa chữa, bảo dưỡng và lắp đặt máy móc và thiết bị\": \"Sửa chữa, bảo dưỡng và lắp đặt máy móc, thiết bị\",\n",
        "    \"Sản xuất và phân phối điện, khí đốt, nước nóng, hơi nước và điều hòa không khí\": \"Sản xuất và phân phối điện\",\n",
        "    \"rơm, rạ và vật liệu tết bện\": \"Chế biến gỗ và sản xuất sản phẩm từ gỗ, tre, nứa (trừ giường, tủ, bàn ghế); sản xuất sản phẩm từ rơm, rạ và vật liệu tết bện\",\n",
        "    \"(trừ máy móc, thiết bị)\": \"Sản xuất sản phẩm từ kim loại đúc sẵn (trừ máy móc, thiết bị)\",\n",
        "    \"và sản phẩm quang học\": \"Sản xuất sản phẩm điện tử, máy vi tính và sản phẩm quang học\",\n",
        "    \"bàn ghế); sản xuất sản phẩm từ rơm, rạ và vật liệu tết bện\": \"Chế biến gỗ và sản xuất sản phẩm từ gỗ, tre, nứa (trừ giường, tủ, bàn ghế); sản xuất sản phẩm từ rơm, rạ và vật liệu tết bện\",\n",
        "    \"tái chế phế liệu\": \"Hoạt động thu gom, xử lý và tiêu huỷ rác thải; tái chế phế liệu\",\n",
        "    \"Sản xuất chế biến thực phẩm\": \"Sản xuất, chế biến thực phẩm\",\n",
        "    \"Sản xuất thuốc lá\": \"Sản xuất sản phẩm thuốc lá\",\n",
        "    \"Hoạt độg thu gom, xử lý và tiêu huỷ rác thải; tái chế phế liệu\": \"Hoạt động thu gom, xử lý và tiêu huỷ rác thải; tái chế phế liệu\",\n",
        "    \"TOÀN NGÀNH CÔNG NGHIỆP\": \"Toàn ngành công nghiệp\",\n",
        "    \"và xử lý rác thải, nước thải\": \"Cung cấp nước; hoạt động quản lý và xử lý rác thải, nước thải\",\n",
        "    \"HĐ thu gom, xử lý và tiêu huỷ rác thải; tái chế phế liệu\": \"Hoạt động thu gom, xử lý và tiêu huỷ rác thải; tái chế phế liệu\",\n",
        "    \"Sản xuất sản phẩm điện tử, máy vi tưnh và sản phẩm quang học\": \"Sản xuất sản phẩm điện tử, máy vi tính và sản phẩm quang học\",\n",
        "    \"Công nghiệp chế biến , chế tạo\": \"Công nghiệp chế biến, chế tạo\",\n",
        "    \"TOÀN QUỐC\": \"Toàn ngành công nghiệp\",\n",
        "}\n",
        "\n",
        "dfs_iip[\"Ngành\"] = dfs_iip[\"Ngành\"].map(convert_nganh)\n",
        "dfs_iip"
      ]
    },
    {
      "cell_type": "code",
      "execution_count": 6,
      "metadata": {},
      "outputs": [
        {
          "name": "stderr",
          "output_type": "stream",
          "text": [
            "/home/hien/.pyenv/versions/3.9.16/envs/vn-macroeconomics/lib/python3.9/site-packages/_plotly_utils/basevalidators.py:105: FutureWarning: The behavior of DatetimeProperties.to_pydatetime is deprecated, in a future version this will return a Series containing python datetime objects instead of an ndarray. To retain the old behavior, call `np.array` on the result\n",
            "  v = v.dt.to_pydatetime()\n"
          ]
        },
        {
          "data": {
            "application/vnd.plotly.v1+json": {
              "config": {
                "plotlyServerURL": "https://plot.ly"
              },
              "data": [
                {
                  "fillpattern": {
                    "shape": ""
                  },
                  "hovertemplate": "Ngành=Toàn ngành công nghiệp<br>Date=%{x}<br>Tháng này so với cùng kỳ năm trước=%{y}<extra></extra>",
                  "legendgroup": "Toàn ngành công nghiệp",
                  "line": {
                    "color": "#636efa"
                  },
                  "marker": {
                    "symbol": "circle"
                  },
                  "mode": "lines",
                  "name": "Toàn ngành công nghiệp",
                  "orientation": "v",
                  "showlegend": true,
                  "stackgroup": "1",
                  "type": "scatter",
                  "x": [
                    "2023-12-29T00:00:00",
                    "2023-11-29T00:00:00",
                    "2023-10-29T00:00:00",
                    "2023-09-29T00:00:00",
                    "2023-08-29T00:00:00",
                    "2023-07-29T00:00:00",
                    "2023-06-29T00:00:00",
                    "2023-05-29T00:00:00",
                    "2023-04-29T00:00:00",
                    "2023-03-29T00:00:00",
                    "2023-02-28T00:00:00",
                    "2023-01-29T00:00:00",
                    "2022-12-29T00:00:00",
                    "2022-11-29T00:00:00",
                    "2022-10-29T00:00:00",
                    "2022-09-29T00:00:00",
                    "2022-08-29T00:00:00",
                    "2022-07-29T00:00:00",
                    "2022-06-29T00:00:00",
                    "2022-05-29T00:00:00",
                    "2022-04-29T00:00:00",
                    "2022-03-29T00:00:00",
                    "2022-02-28T00:00:00",
                    "2022-01-29T00:00:00",
                    "2021-12-29T00:00:00",
                    "2021-11-29T00:00:00",
                    "2021-10-29T00:00:00",
                    "2021-09-29T00:00:00",
                    "2021-08-29T00:00:00",
                    "2021-07-29T00:00:00",
                    "2021-06-29T00:00:00",
                    "2021-05-29T00:00:00",
                    "2021-04-29T00:00:00",
                    "2021-03-29T00:00:00",
                    "2021-02-28T00:00:00",
                    "2021-01-29T00:00:00",
                    "2020-12-27T00:00:00",
                    "2020-11-29T00:00:00",
                    "2020-10-29T00:00:00",
                    "2020-09-29T00:00:00",
                    "2020-08-29T00:00:00",
                    "2020-07-29T00:00:00",
                    "2020-06-29T00:00:00",
                    "2020-05-29T00:00:00",
                    "2020-04-29T00:00:00",
                    "2020-03-27T00:00:00",
                    "2020-02-29T00:00:00",
                    "2020-01-29T00:00:00",
                    "2019-12-27T00:00:00",
                    "2019-11-29T00:00:00",
                    "2019-10-29T00:00:00",
                    "2019-09-28T00:00:00",
                    "2019-08-29T00:00:00",
                    "2019-07-29T00:00:00",
                    "2019-06-28T00:00:00",
                    "2019-05-27T00:00:00",
                    "2019-04-29T00:00:00",
                    "2019-03-29T00:00:00",
                    "2019-02-28T00:00:00",
                    "2019-01-29T00:00:00",
                    "2018-12-27T00:00:00",
                    "2018-11-29T00:00:00",
                    "2018-10-29T00:00:00",
                    "2018-09-28T00:00:00",
                    "2018-08-29T00:00:00",
                    "2018-07-27T00:00:00",
                    "2018-06-29T00:00:00",
                    "2018-05-29T00:00:00",
                    "2018-04-27T00:00:00",
                    "2018-03-29T00:00:00",
                    "2018-02-28T00:00:00",
                    "2018-01-29T00:00:00",
                    "2017-12-29T00:00:00",
                    "2017-11-29T00:00:00",
                    "2017-10-27T00:00:00",
                    "2017-09-29T00:00:00",
                    "2017-08-29T00:00:00",
                    "2017-07-28T00:00:00",
                    "2017-06-29T00:00:00",
                    "2017-05-29T00:00:00",
                    "2017-04-28T00:00:00",
                    "2017-03-29T00:00:00",
                    "2017-02-28T00:00:00",
                    "2017-01-27T00:00:00",
                    "2016-12-29T00:00:00",
                    "2016-11-29T00:00:00",
                    "2016-10-28T00:00:00",
                    "2016-09-29T00:00:00",
                    "2016-08-29T00:00:00",
                    "2016-07-29T00:00:00",
                    "2016-06-29T00:00:00",
                    "2016-05-30T00:00:00",
                    "2016-04-29T00:00:00",
                    "2016-03-29T00:00:00",
                    "2016-02-29T00:00:00",
                    "2016-01-29T00:00:00",
                    "2015-12-29T00:00:00",
                    "2015-11-30T00:00:00",
                    "2015-10-29T00:00:00",
                    "2015-09-29T00:00:00",
                    "2015-08-28T00:00:00",
                    "2015-07-29T00:00:00",
                    "2015-06-29T00:00:00",
                    "2015-05-29T00:00:00",
                    "2015-04-29T00:00:00",
                    "2015-03-29T00:00:00",
                    "2015-02-28T00:00:00",
                    "2015-01-29T00:00:00"
                  ],
                  "xaxis": "x",
                  "y": [
                    5.760000000000005,
                    5.785915366636999,
                    4.079999999999998,
                    5.099999999999994,
                    2.6200000000000045,
                    3.6899999999999977,
                    2.799999999999997,
                    0.1054567696511981,
                    0.5100000000000051,
                    -1.5999999999999943,
                    3.6099999999999994,
                    -8.040000000000006,
                    0.18999999999999773,
                    5.299999999999997,
                    6.271515221224803,
                    13.010000000000005,
                    15.569999999999993,
                    11.189999999999998,
                    11.510000000000005,
                    10.371139602052622,
                    9.358764003851306,
                    8.540000000000006,
                    8.530000000000001,
                    2.3900000000000006,
                    8.667864378880012,
                    5.599999999999994,
                    -1.5900000000000034,
                    -5.530000000000001,
                    -7.390000000000001,
                    2.239999999999995,
                    6.75,
                    11.560000000000002,
                    24.11,
                    3.8599999999999994,
                    -7.180000000000007,
                    22.159999999999997,
                    9.524242772174887,
                    9.200000000000003,
                    5.400000000000006,
                    3.799999999999997,
                    -0.5699999999999932,
                    1.1007085691489351,
                    6.989999999999995,
                    -3.125070765794348,
                    -10.549999999999997,
                    5.409999999999997,
                    23.709999999999994,
                    -5.510000000000005,
                    6.201186880739229,
                    5.409999999999997,
                    9.200528479885136,
                    10.203427129752,
                    10.5,
                    9.707818766032617,
                    9.633290271371706,
                    9.965979009749532,
                    9.335106516162568,
                    9.060356751457817,
                    10.260000000000005,
                    7.8799999999999955,
                    11.409999999999997,
                    9.560000000000002,
                    7.732148263431668,
                    9.066946245083827,
                    13.409999999999997,
                    14.340000000000003,
                    12.269999999999996,
                    7.060000000000002,
                    9.43038381410065,
                    8.709999999999994,
                    8,
                    20.909999999999997,
                    11.200000000000003,
                    17.1825763110635,
                    17,
                    13.197178833994997,
                    8.38703178280393,
                    8.096367509003997,
                    8.61,
                    7.200000000000003,
                    7.366083781933824,
                    5.5,
                    15.205885861753998,
                    -6.2406707701752,
                    8.314004276439306,
                    7.204289801933996,
                    6.970248951164592,
                    7.557347670905003,
                    7.261701013264997,
                    7.211755046384994,
                    7.449538139114452,
                    7.787157810096019,
                    7.890552554116169,
                    6.150000000000006,
                    7.881938800971994,
                    -2.641489125687599,
                    8.95514632096814,
                    8.900000000000006,
                    8.826317720443,
                    10.06149067399754,
                    8.965847558104997,
                    11.298066103900993,
                    11.116480987825867,
                    7.510000000000005,
                    9.497672975570097,
                    9.120000000000005,
                    7.003514473934004,
                    -2.768746726392706
                  ],
                  "yaxis": "y"
                },
                {
                  "fillpattern": {
                    "shape": ""
                  },
                  "hovertemplate": "Ngành=Khai khoáng<br>Date=%{x}<br>Tháng này so với cùng kỳ năm trước=%{y}<extra></extra>",
                  "legendgroup": "Khai khoáng",
                  "line": {
                    "color": "#EF553B"
                  },
                  "marker": {
                    "symbol": "circle"
                  },
                  "mode": "lines",
                  "name": "Khai khoáng",
                  "orientation": "v",
                  "showlegend": true,
                  "stackgroup": "1",
                  "type": "scatter",
                  "x": [
                    "2023-12-29T00:00:00",
                    "2023-11-29T00:00:00",
                    "2023-10-29T00:00:00",
                    "2023-09-29T00:00:00",
                    "2023-08-29T00:00:00",
                    "2023-07-29T00:00:00",
                    "2023-06-29T00:00:00",
                    "2023-05-29T00:00:00",
                    "2023-04-29T00:00:00",
                    "2023-03-29T00:00:00",
                    "2023-02-28T00:00:00",
                    "2023-01-29T00:00:00",
                    "2022-12-29T00:00:00",
                    "2022-11-29T00:00:00",
                    "2022-10-29T00:00:00",
                    "2022-09-29T00:00:00",
                    "2022-08-29T00:00:00",
                    "2022-07-29T00:00:00",
                    "2022-06-29T00:00:00",
                    "2022-05-29T00:00:00",
                    "2022-04-29T00:00:00",
                    "2022-03-29T00:00:00",
                    "2022-02-28T00:00:00",
                    "2022-01-29T00:00:00",
                    "2021-12-29T00:00:00",
                    "2021-11-29T00:00:00",
                    "2021-10-29T00:00:00",
                    "2021-09-29T00:00:00",
                    "2021-08-29T00:00:00",
                    "2021-07-29T00:00:00",
                    "2021-06-29T00:00:00",
                    "2021-05-29T00:00:00",
                    "2021-04-29T00:00:00",
                    "2021-03-29T00:00:00",
                    "2021-02-28T00:00:00",
                    "2021-01-29T00:00:00",
                    "2020-12-27T00:00:00",
                    "2020-11-29T00:00:00",
                    "2020-10-29T00:00:00",
                    "2020-09-29T00:00:00",
                    "2020-08-29T00:00:00",
                    "2020-07-29T00:00:00",
                    "2020-06-29T00:00:00",
                    "2020-05-29T00:00:00",
                    "2020-04-29T00:00:00",
                    "2020-03-27T00:00:00",
                    "2020-02-29T00:00:00",
                    "2020-01-29T00:00:00",
                    "2019-12-27T00:00:00",
                    "2019-11-29T00:00:00",
                    "2019-10-29T00:00:00",
                    "2019-09-28T00:00:00",
                    "2019-08-29T00:00:00",
                    "2019-07-29T00:00:00",
                    "2019-06-28T00:00:00",
                    "2019-05-27T00:00:00",
                    "2019-04-29T00:00:00",
                    "2019-03-29T00:00:00",
                    "2019-02-28T00:00:00",
                    "2019-01-29T00:00:00",
                    "2018-12-27T00:00:00",
                    "2018-11-29T00:00:00",
                    "2018-10-29T00:00:00",
                    "2018-09-28T00:00:00",
                    "2018-08-29T00:00:00",
                    "2018-07-27T00:00:00",
                    "2018-06-29T00:00:00",
                    "2018-05-29T00:00:00",
                    "2018-04-27T00:00:00",
                    "2018-03-29T00:00:00",
                    "2018-02-28T00:00:00",
                    "2018-01-29T00:00:00",
                    "2017-12-29T00:00:00",
                    "2017-11-29T00:00:00",
                    "2017-10-27T00:00:00",
                    "2017-09-29T00:00:00",
                    "2017-08-29T00:00:00",
                    "2017-07-28T00:00:00",
                    "2017-06-29T00:00:00",
                    "2017-05-29T00:00:00",
                    "2017-04-28T00:00:00",
                    "2017-03-29T00:00:00",
                    "2017-02-28T00:00:00",
                    "2017-01-27T00:00:00",
                    "2016-12-29T00:00:00",
                    "2016-11-29T00:00:00",
                    "2016-10-28T00:00:00",
                    "2016-09-29T00:00:00",
                    "2016-08-29T00:00:00",
                    "2016-07-29T00:00:00",
                    "2016-06-29T00:00:00",
                    "2016-05-30T00:00:00",
                    "2016-04-29T00:00:00",
                    "2016-03-29T00:00:00",
                    "2016-02-29T00:00:00",
                    "2016-01-29T00:00:00",
                    "2015-12-29T00:00:00",
                    "2015-11-30T00:00:00",
                    "2015-10-29T00:00:00",
                    "2015-09-29T00:00:00",
                    "2015-08-28T00:00:00",
                    "2015-07-29T00:00:00",
                    "2015-06-29T00:00:00",
                    "2015-05-29T00:00:00",
                    "2015-04-29T00:00:00",
                    "2015-03-29T00:00:00",
                    "2015-02-28T00:00:00",
                    "2015-01-29T00:00:00"
                  ],
                  "xaxis": "x",
                  "y": [
                    -12.810000000000002,
                    -3.819999999999993,
                    -5.730000000000004,
                    -6.590000000000003,
                    -6.189999999999998,
                    4.019999999999996,
                    1.9099999999999966,
                    -2.8700000000000045,
                    -2.0999999999999943,
                    -7.840000000000003,
                    6.980000000000004,
                    -4.859999999999999,
                    -5.060000000000002,
                    15.950000000000003,
                    6.280000000000001,
                    16.319999999999993,
                    10.189999999999998,
                    -1.4899999999999949,
                    3.269999999999996,
                    4.150000000000006,
                    2.2900000000000063,
                    2.6500000000000057,
                    -4.079999999999998,
                    -4.640000000000001,
                    -7.140000000000001,
                    2.200000000000003,
                    -7.180000000000007,
                    -7.099999999999994,
                    -2.3700000000000045,
                    -8.019999999999996,
                    -4.939999999999998,
                    -9.760000000000005,
                    1.769999999999996,
                    -8.560000000000002,
                    -23.03,
                    -6.219999999999999,
                    -10.409999999999997,
                    -6.239999999999995,
                    -14.540000000000006,
                    -5.670000000000002,
                    -5.109999999999999,
                    -7.930000000000007,
                    -8.86,
                    -13.019999999999996,
                    -10.719999999999999,
                    -9.489999999999995,
                    9.180000000000007,
                    -12.870000000000005,
                    2.1299999999999955,
                    -5.319999999999993,
                    -0.21999999999999886,
                    -6.590000000000003,
                    14.439999999999998,
                    4.3700000000000045,
                    3.989999999999995,
                    -1.5300000000000011,
                    1.9599999999999937,
                    0.4000000000000057,
                    -4.989999999999995,
                    -6.689999999999998,
                    -3.1700000000000017,
                    0.20999999999999375,
                    -9.469999999999999,
                    -2.730000000000004,
                    2.3799999999999955,
                    2.760000000000005,
                    -3.6400000000000006,
                    -7.560000000000002,
                    -5,
                    -3.6099999999999994,
                    -1.7900000000000063,
                    10.459999999999994,
                    -9.973947839004069,
                    -4.102035596740677,
                    2.117621025352193,
                    -6.019597462657487,
                    -4.9862998768784905,
                    -3.5214811879153984,
                    -5.510000000000005,
                    -7.790000000000006,
                    -5.600215098219607,
                    -7.459999999999994,
                    -8.568459958476396,
                    -5.103750238372697,
                    -7.3700000000000045,
                    -13.776559879603795,
                    -11.308877744082906,
                    -7.061335026730802,
                    -5.066761281702199,
                    -2.870745455593294,
                    -6.079999999999998,
                    -4.436275513186402,
                    -8.0612339841811,
                    -4.549999999999997,
                    -1.4788420130780935,
                    -2.8249593863429965,
                    -6.5607293826499955,
                    0.6354368939010016,
                    6.677203153454002,
                    8.268943086568996,
                    2.837558812243003,
                    13.839978734739006,
                    12.019999999999996,
                    0.4300000000000068,
                    5.799999999999997,
                    7.519999999999996,
                    5.236182677765996,
                    -2.285157275209002
                  ],
                  "yaxis": "y"
                },
                {
                  "fillpattern": {
                    "shape": ""
                  },
                  "hovertemplate": "Ngành=Công nghiệp chế biến, chế tạo<br>Date=%{x}<br>Tháng này so với cùng kỳ năm trước=%{y}<extra></extra>",
                  "legendgroup": "Công nghiệp chế biến, chế tạo",
                  "line": {
                    "color": "#00cc96"
                  },
                  "marker": {
                    "symbol": "circle"
                  },
                  "mode": "lines",
                  "name": "Công nghiệp chế biến, chế tạo",
                  "orientation": "v",
                  "showlegend": true,
                  "stackgroup": "1",
                  "type": "scatter",
                  "x": [
                    "2023-12-29T00:00:00",
                    "2023-11-29T00:00:00",
                    "2023-10-29T00:00:00",
                    "2023-09-29T00:00:00",
                    "2023-08-29T00:00:00",
                    "2023-07-29T00:00:00",
                    "2023-06-29T00:00:00",
                    "2023-05-29T00:00:00",
                    "2023-04-29T00:00:00",
                    "2023-03-29T00:00:00",
                    "2023-02-28T00:00:00",
                    "2023-01-29T00:00:00",
                    "2022-12-29T00:00:00",
                    "2022-11-29T00:00:00",
                    "2022-10-29T00:00:00",
                    "2022-09-29T00:00:00",
                    "2022-08-29T00:00:00",
                    "2022-07-29T00:00:00",
                    "2022-06-29T00:00:00",
                    "2022-05-29T00:00:00",
                    "2022-04-29T00:00:00",
                    "2022-03-29T00:00:00",
                    "2022-02-28T00:00:00",
                    "2022-01-29T00:00:00",
                    "2021-12-29T00:00:00",
                    "2021-11-29T00:00:00",
                    "2021-10-29T00:00:00",
                    "2021-09-29T00:00:00",
                    "2021-08-29T00:00:00",
                    "2021-07-29T00:00:00",
                    "2021-06-29T00:00:00",
                    "2021-05-29T00:00:00",
                    "2021-04-29T00:00:00",
                    "2021-03-29T00:00:00",
                    "2021-02-28T00:00:00",
                    "2021-01-29T00:00:00",
                    "2020-12-27T00:00:00",
                    "2020-11-29T00:00:00",
                    "2020-10-29T00:00:00",
                    "2020-09-29T00:00:00",
                    "2020-08-29T00:00:00",
                    "2020-07-29T00:00:00",
                    "2020-06-29T00:00:00",
                    "2020-05-29T00:00:00",
                    "2020-04-29T00:00:00",
                    "2020-03-27T00:00:00",
                    "2020-02-29T00:00:00",
                    "2020-01-29T00:00:00",
                    "2019-12-27T00:00:00",
                    "2019-11-29T00:00:00",
                    "2019-10-29T00:00:00",
                    "2019-09-28T00:00:00",
                    "2019-08-29T00:00:00",
                    "2019-07-29T00:00:00",
                    "2019-06-28T00:00:00",
                    "2019-05-27T00:00:00",
                    "2019-04-29T00:00:00",
                    "2019-03-29T00:00:00",
                    "2019-02-28T00:00:00",
                    "2019-01-29T00:00:00",
                    "2018-12-27T00:00:00",
                    "2018-11-29T00:00:00",
                    "2018-10-29T00:00:00",
                    "2018-09-28T00:00:00",
                    "2018-08-29T00:00:00",
                    "2018-07-27T00:00:00",
                    "2018-06-29T00:00:00",
                    "2018-05-29T00:00:00",
                    "2018-04-27T00:00:00",
                    "2018-03-29T00:00:00",
                    "2018-02-28T00:00:00",
                    "2018-01-29T00:00:00",
                    "2017-12-29T00:00:00",
                    "2017-11-29T00:00:00",
                    "2017-10-27T00:00:00",
                    "2017-09-29T00:00:00",
                    "2017-08-29T00:00:00",
                    "2017-07-28T00:00:00",
                    "2017-06-29T00:00:00",
                    "2017-05-29T00:00:00",
                    "2017-04-28T00:00:00",
                    "2017-03-29T00:00:00",
                    "2017-02-28T00:00:00",
                    "2017-01-27T00:00:00",
                    "2016-12-29T00:00:00",
                    "2016-11-29T00:00:00",
                    "2016-10-28T00:00:00",
                    "2016-09-29T00:00:00",
                    "2016-08-29T00:00:00",
                    "2016-07-29T00:00:00",
                    "2016-06-29T00:00:00",
                    "2016-05-30T00:00:00",
                    "2016-04-29T00:00:00",
                    "2016-03-29T00:00:00",
                    "2016-02-29T00:00:00",
                    "2016-01-29T00:00:00",
                    "2015-12-29T00:00:00",
                    "2015-11-30T00:00:00",
                    "2015-10-29T00:00:00",
                    "2015-09-29T00:00:00",
                    "2015-08-28T00:00:00",
                    "2015-07-29T00:00:00",
                    "2015-06-29T00:00:00",
                    "2015-05-29T00:00:00",
                    "2015-04-29T00:00:00",
                    "2015-03-29T00:00:00",
                    "2015-02-28T00:00:00",
                    "2015-01-29T00:00:00"
                  ],
                  "xaxis": "x",
                  "y": [
                    7.609999999999999,
                    6.325555869986999,
                    4.849999999999994,
                    5.8700000000000045,
                    3.480000000000004,
                    3.5799999999999983,
                    2.9000000000000057,
                    -0.46179092307541225,
                    0.1700000000000017,
                    -1.6500000000000057,
                    3.319999999999993,
                    -9.099999999999994,
                    0.5600000000000023,
                    4.400000000000006,
                    5.709999999999994,
                    12.469999999999999,
                    16.230000000000004,
                    12.780000000000001,
                    13.069999999999993,
                    12.094417341879591,
                    11.31339475552278,
                    9.590000000000003,
                    10.030000000000001,
                    2.819999999999993,
                    10.94035224389134,
                    6.420000000000002,
                    -1.5900000000000034,
                    -4.859999999999999,
                    -9.230000000000004,
                    2.8799999999999955,
                    8.060000000000002,
                    14.64,
                    29.120000000000005,
                    5.540000000000006,
                    -5.819999999999993,
                    27.150000000000006,
                    13.129999999999995,
                    11.900000000000006,
                    8.299999999999997,
                    4.590000000000003,
                    -0.0799999999999983,
                    2.049999999999997,
                    10.260000000000005,
                    -2.4399999999999977,
                    -11.310000000000002,
                    7.299999999999997,
                    26.439999999999998,
                    -4.840000000000003,
                    6.969999999999999,
                    6.530000000000001,
                    10.75,
                    12.269999999999996,
                    10.299999999999997,
                    10.439999999999998,
                    10.64,
                    11.64,
                    10.530000000000001,
                    10.340000000000003,
                    12.760000000000005,
                    10.11,
                    13.730000000000004,
                    11,
                    10.120000000000005,
                    11.239999999999995,
                    16.010000000000005,
                    16.629999999999995,
                    15.530000000000001,
                    9.099999999999994,
                    12.310000000000002,
                    11.129999999999995,
                    10.719999999999999,
                    23.760000000000005,
                    17.799999999999997,
                    24.285841945365064,
                    22.299999999999997,
                    19.48363832418012,
                    12.420012234910004,
                    11.256128384399005,
                    13.159999999999997,
                    11.200000000000003,
                    11.144313819111005,
                    8.939999999999998,
                    22.448824411668994,
                    -6.8035885178586994,
                    12.900000000000006,
                    13.111833865592004,
                    11.939999999999998,
                    11.723813905168996,
                    10.643128813263004,
                    9.692875444329005,
                    11.299999999999997,
                    11.239999999999995,
                    12.463485614712994,
                    8.810000000000002,
                    10.268289789763003,
                    -2.906125876983097,
                    13.843566360715997,
                    11.299999999999997,
                    9.138285582869003,
                    10.299245278018006,
                    10.645626615618,
                    10.5,
                    11.040000000000006,
                    9.579999999999998,
                    10.939999999999998,
                    9.450000000000003,
                    7.519957173468995,
                    -3.3038867141504937
                  ],
                  "yaxis": "y"
                },
                {
                  "fillpattern": {
                    "shape": ""
                  },
                  "hovertemplate": "Ngành=Sản xuất và phân phối điện<br>Date=%{x}<br>Tháng này so với cùng kỳ năm trước=%{y}<extra></extra>",
                  "legendgroup": "Sản xuất và phân phối điện",
                  "line": {
                    "color": "#ab63fa"
                  },
                  "marker": {
                    "symbol": "circle"
                  },
                  "mode": "lines",
                  "name": "Sản xuất và phân phối điện",
                  "orientation": "v",
                  "showlegend": true,
                  "stackgroup": "1",
                  "type": "scatter",
                  "x": [
                    "2023-12-29T00:00:00",
                    "2023-11-29T00:00:00",
                    "2023-10-29T00:00:00",
                    "2023-09-29T00:00:00",
                    "2023-08-29T00:00:00",
                    "2023-07-29T00:00:00",
                    "2023-06-29T00:00:00",
                    "2023-05-29T00:00:00",
                    "2023-04-29T00:00:00",
                    "2023-03-29T00:00:00",
                    "2023-02-28T00:00:00",
                    "2023-01-29T00:00:00",
                    "2022-12-29T00:00:00",
                    "2022-11-29T00:00:00",
                    "2022-10-29T00:00:00",
                    "2022-09-29T00:00:00",
                    "2022-08-29T00:00:00",
                    "2022-07-29T00:00:00",
                    "2022-06-29T00:00:00",
                    "2022-05-29T00:00:00",
                    "2022-04-29T00:00:00",
                    "2022-03-29T00:00:00",
                    "2022-02-28T00:00:00",
                    "2022-01-29T00:00:00",
                    "2021-12-29T00:00:00",
                    "2021-11-29T00:00:00",
                    "2021-10-29T00:00:00",
                    "2021-09-29T00:00:00",
                    "2021-08-29T00:00:00",
                    "2021-07-29T00:00:00",
                    "2021-06-29T00:00:00",
                    "2021-05-29T00:00:00",
                    "2021-04-29T00:00:00",
                    "2021-03-29T00:00:00",
                    "2021-02-28T00:00:00",
                    "2021-01-29T00:00:00",
                    "2020-12-27T00:00:00",
                    "2020-11-29T00:00:00",
                    "2020-10-29T00:00:00",
                    "2020-09-29T00:00:00",
                    "2020-08-29T00:00:00",
                    "2020-07-29T00:00:00",
                    "2020-06-29T00:00:00",
                    "2020-05-29T00:00:00",
                    "2020-04-29T00:00:00",
                    "2020-03-27T00:00:00",
                    "2020-02-29T00:00:00",
                    "2020-01-29T00:00:00",
                    "2019-12-27T00:00:00",
                    "2019-11-29T00:00:00",
                    "2019-10-29T00:00:00",
                    "2019-09-28T00:00:00",
                    "2019-08-29T00:00:00",
                    "2019-07-29T00:00:00",
                    "2019-06-28T00:00:00",
                    "2019-05-27T00:00:00",
                    "2019-04-29T00:00:00",
                    "2019-03-29T00:00:00",
                    "2019-02-28T00:00:00",
                    "2019-01-29T00:00:00",
                    "2018-12-27T00:00:00",
                    "2018-11-29T00:00:00",
                    "2018-10-29T00:00:00",
                    "2018-09-28T00:00:00",
                    "2018-08-29T00:00:00",
                    "2018-07-27T00:00:00",
                    "2018-06-29T00:00:00",
                    "2018-05-29T00:00:00",
                    "2018-04-27T00:00:00",
                    "2018-03-29T00:00:00",
                    "2018-02-28T00:00:00",
                    "2018-01-29T00:00:00",
                    "2017-12-29T00:00:00",
                    "2017-11-29T00:00:00",
                    "2017-10-27T00:00:00",
                    "2017-09-29T00:00:00",
                    "2017-08-29T00:00:00",
                    "2017-07-28T00:00:00",
                    "2017-06-29T00:00:00",
                    "2017-05-29T00:00:00",
                    "2017-04-28T00:00:00",
                    "2017-03-29T00:00:00",
                    "2017-02-28T00:00:00",
                    "2017-01-27T00:00:00",
                    "2016-12-29T00:00:00",
                    "2016-11-29T00:00:00",
                    "2016-10-28T00:00:00",
                    "2016-09-29T00:00:00",
                    "2016-08-29T00:00:00",
                    "2016-07-29T00:00:00",
                    "2016-06-29T00:00:00",
                    "2016-05-30T00:00:00",
                    "2016-04-29T00:00:00",
                    "2016-03-29T00:00:00",
                    "2016-02-29T00:00:00",
                    "2016-01-29T00:00:00",
                    "2015-12-29T00:00:00",
                    "2015-11-30T00:00:00",
                    "2015-10-29T00:00:00",
                    "2015-09-29T00:00:00",
                    "2015-08-28T00:00:00",
                    "2015-07-29T00:00:00",
                    "2015-06-29T00:00:00",
                    "2015-05-29T00:00:00",
                    "2015-04-29T00:00:00",
                    "2015-03-29T00:00:00",
                    "2015-02-28T00:00:00",
                    "2015-01-29T00:00:00"
                  ],
                  "xaxis": "x",
                  "y": [
                    5.8799999999999955,
                    9.239999999999995,
                    5.549999999999997,
                    7.900000000000006,
                    3.7099999999999937,
                    4.1299999999999955,
                    3,
                    4.989999999999995,
                    4.689999999999998,
                    1.75,
                    2.8299999999999983,
                    -3.3599999999999994,
                    1.3100000000000023,
                    4.599999999999994,
                    10.5,
                    16.689999999999998,
                    14.840000000000003,
                    8.730000000000004,
                    6.299999999999997,
                    2.3900000000000006,
                    2.8100000000000023,
                    4.75,
                    8,
                    5.090000000000003,
                    9.120999999999995,
                    2.2099999999999937,
                    2.3599999999999994,
                    -9.650000000000006,
                    1.5400000000000063,
                    6.739999999999995,
                    8.230000000000004,
                    11.950000000000003,
                    16.39,
                    3.3799999999999955,
                    -2.3400000000000034,
                    16.269999999999996,
                    2.1200000000000045,
                    3.950000000000003,
                    0.980000000000004,
                    5.459999999999994,
                    -0.6899999999999977,
                    2.7099999999999937,
                    1.7199999999999989,
                    1.980000000000004,
                    -6.909999999999997,
                    7.299999999999997,
                    22.519999999999996,
                    -3.480000000000004,
                    3.299999999999997,
                    7.5,
                    8.11,
                    10.629999999999995,
                    10.269999999999996,
                    10.459999999999994,
                    8.599999999999994,
                    11.030000000000001,
                    9.39,
                    9.769999999999996,
                    10.920000000000002,
                    8.829999999999998,
                    11.730000000000004,
                    9.209999999999994,
                    8.909999999999997,
                    5.1200000000000045,
                    6.689999999999998,
                    12.150000000000006,
                    9.969999999999999,
                    11.159999999999997,
                    9.61,
                    8.25,
                    3,
                    15.370000000000005,
                    9.023052232945446,
                    13.016460645774345,
                    11.95555515264185,
                    10.444265252047444,
                    9.603282222653988,
                    12.200650873217995,
                    6.569999999999993,
                    13.799999999999997,
                    9.865949721551004,
                    11.329999999999998,
                    17.773529625381002,
                    -5.045762488231503,
                    10.813233305227996,
                    12.918212075925993,
                    13.622211203063998,
                    11.192056010973005,
                    11.869204741660994,
                    13.650676259595997,
                    10.819999999999993,
                    11.196862955426994,
                    11.458620173490004,
                    12.189999999999998,
                    12.807105261809,
                    0.28502593214500394,
                    7.7323916963640045,
                    11.200264379611994,
                    12.342671605416001,
                    13.518528629266001,
                    11.091589505075007,
                    12.005784060937003,
                    9.829999999999998,
                    8.810000000000002,
                    6.680000000000007,
                    11,
                    7.322249648457003,
                    0.5393860224710068
                  ],
                  "yaxis": "y"
                }
              ],
              "layout": {
                "legend": {
                  "title": {
                    "text": "Ngành"
                  },
                  "tracegroupgap": 0
                },
                "margin": {
                  "t": 60
                },
                "template": {
                  "data": {
                    "bar": [
                      {
                        "error_x": {
                          "color": "#2a3f5f"
                        },
                        "error_y": {
                          "color": "#2a3f5f"
                        },
                        "marker": {
                          "line": {
                            "color": "#E5ECF6",
                            "width": 0.5
                          },
                          "pattern": {
                            "fillmode": "overlay",
                            "size": 10,
                            "solidity": 0.2
                          }
                        },
                        "type": "bar"
                      }
                    ],
                    "barpolar": [
                      {
                        "marker": {
                          "line": {
                            "color": "#E5ECF6",
                            "width": 0.5
                          },
                          "pattern": {
                            "fillmode": "overlay",
                            "size": 10,
                            "solidity": 0.2
                          }
                        },
                        "type": "barpolar"
                      }
                    ],
                    "carpet": [
                      {
                        "aaxis": {
                          "endlinecolor": "#2a3f5f",
                          "gridcolor": "white",
                          "linecolor": "white",
                          "minorgridcolor": "white",
                          "startlinecolor": "#2a3f5f"
                        },
                        "baxis": {
                          "endlinecolor": "#2a3f5f",
                          "gridcolor": "white",
                          "linecolor": "white",
                          "minorgridcolor": "white",
                          "startlinecolor": "#2a3f5f"
                        },
                        "type": "carpet"
                      }
                    ],
                    "choropleth": [
                      {
                        "colorbar": {
                          "outlinewidth": 0,
                          "ticks": ""
                        },
                        "type": "choropleth"
                      }
                    ],
                    "contour": [
                      {
                        "colorbar": {
                          "outlinewidth": 0,
                          "ticks": ""
                        },
                        "colorscale": [
                          [
                            0,
                            "#0d0887"
                          ],
                          [
                            0.1111111111111111,
                            "#46039f"
                          ],
                          [
                            0.2222222222222222,
                            "#7201a8"
                          ],
                          [
                            0.3333333333333333,
                            "#9c179e"
                          ],
                          [
                            0.4444444444444444,
                            "#bd3786"
                          ],
                          [
                            0.5555555555555556,
                            "#d8576b"
                          ],
                          [
                            0.6666666666666666,
                            "#ed7953"
                          ],
                          [
                            0.7777777777777778,
                            "#fb9f3a"
                          ],
                          [
                            0.8888888888888888,
                            "#fdca26"
                          ],
                          [
                            1,
                            "#f0f921"
                          ]
                        ],
                        "type": "contour"
                      }
                    ],
                    "contourcarpet": [
                      {
                        "colorbar": {
                          "outlinewidth": 0,
                          "ticks": ""
                        },
                        "type": "contourcarpet"
                      }
                    ],
                    "heatmap": [
                      {
                        "colorbar": {
                          "outlinewidth": 0,
                          "ticks": ""
                        },
                        "colorscale": [
                          [
                            0,
                            "#0d0887"
                          ],
                          [
                            0.1111111111111111,
                            "#46039f"
                          ],
                          [
                            0.2222222222222222,
                            "#7201a8"
                          ],
                          [
                            0.3333333333333333,
                            "#9c179e"
                          ],
                          [
                            0.4444444444444444,
                            "#bd3786"
                          ],
                          [
                            0.5555555555555556,
                            "#d8576b"
                          ],
                          [
                            0.6666666666666666,
                            "#ed7953"
                          ],
                          [
                            0.7777777777777778,
                            "#fb9f3a"
                          ],
                          [
                            0.8888888888888888,
                            "#fdca26"
                          ],
                          [
                            1,
                            "#f0f921"
                          ]
                        ],
                        "type": "heatmap"
                      }
                    ],
                    "heatmapgl": [
                      {
                        "colorbar": {
                          "outlinewidth": 0,
                          "ticks": ""
                        },
                        "colorscale": [
                          [
                            0,
                            "#0d0887"
                          ],
                          [
                            0.1111111111111111,
                            "#46039f"
                          ],
                          [
                            0.2222222222222222,
                            "#7201a8"
                          ],
                          [
                            0.3333333333333333,
                            "#9c179e"
                          ],
                          [
                            0.4444444444444444,
                            "#bd3786"
                          ],
                          [
                            0.5555555555555556,
                            "#d8576b"
                          ],
                          [
                            0.6666666666666666,
                            "#ed7953"
                          ],
                          [
                            0.7777777777777778,
                            "#fb9f3a"
                          ],
                          [
                            0.8888888888888888,
                            "#fdca26"
                          ],
                          [
                            1,
                            "#f0f921"
                          ]
                        ],
                        "type": "heatmapgl"
                      }
                    ],
                    "histogram": [
                      {
                        "marker": {
                          "pattern": {
                            "fillmode": "overlay",
                            "size": 10,
                            "solidity": 0.2
                          }
                        },
                        "type": "histogram"
                      }
                    ],
                    "histogram2d": [
                      {
                        "colorbar": {
                          "outlinewidth": 0,
                          "ticks": ""
                        },
                        "colorscale": [
                          [
                            0,
                            "#0d0887"
                          ],
                          [
                            0.1111111111111111,
                            "#46039f"
                          ],
                          [
                            0.2222222222222222,
                            "#7201a8"
                          ],
                          [
                            0.3333333333333333,
                            "#9c179e"
                          ],
                          [
                            0.4444444444444444,
                            "#bd3786"
                          ],
                          [
                            0.5555555555555556,
                            "#d8576b"
                          ],
                          [
                            0.6666666666666666,
                            "#ed7953"
                          ],
                          [
                            0.7777777777777778,
                            "#fb9f3a"
                          ],
                          [
                            0.8888888888888888,
                            "#fdca26"
                          ],
                          [
                            1,
                            "#f0f921"
                          ]
                        ],
                        "type": "histogram2d"
                      }
                    ],
                    "histogram2dcontour": [
                      {
                        "colorbar": {
                          "outlinewidth": 0,
                          "ticks": ""
                        },
                        "colorscale": [
                          [
                            0,
                            "#0d0887"
                          ],
                          [
                            0.1111111111111111,
                            "#46039f"
                          ],
                          [
                            0.2222222222222222,
                            "#7201a8"
                          ],
                          [
                            0.3333333333333333,
                            "#9c179e"
                          ],
                          [
                            0.4444444444444444,
                            "#bd3786"
                          ],
                          [
                            0.5555555555555556,
                            "#d8576b"
                          ],
                          [
                            0.6666666666666666,
                            "#ed7953"
                          ],
                          [
                            0.7777777777777778,
                            "#fb9f3a"
                          ],
                          [
                            0.8888888888888888,
                            "#fdca26"
                          ],
                          [
                            1,
                            "#f0f921"
                          ]
                        ],
                        "type": "histogram2dcontour"
                      }
                    ],
                    "mesh3d": [
                      {
                        "colorbar": {
                          "outlinewidth": 0,
                          "ticks": ""
                        },
                        "type": "mesh3d"
                      }
                    ],
                    "parcoords": [
                      {
                        "line": {
                          "colorbar": {
                            "outlinewidth": 0,
                            "ticks": ""
                          }
                        },
                        "type": "parcoords"
                      }
                    ],
                    "pie": [
                      {
                        "automargin": true,
                        "type": "pie"
                      }
                    ],
                    "scatter": [
                      {
                        "fillpattern": {
                          "fillmode": "overlay",
                          "size": 10,
                          "solidity": 0.2
                        },
                        "type": "scatter"
                      }
                    ],
                    "scatter3d": [
                      {
                        "line": {
                          "colorbar": {
                            "outlinewidth": 0,
                            "ticks": ""
                          }
                        },
                        "marker": {
                          "colorbar": {
                            "outlinewidth": 0,
                            "ticks": ""
                          }
                        },
                        "type": "scatter3d"
                      }
                    ],
                    "scattercarpet": [
                      {
                        "marker": {
                          "colorbar": {
                            "outlinewidth": 0,
                            "ticks": ""
                          }
                        },
                        "type": "scattercarpet"
                      }
                    ],
                    "scattergeo": [
                      {
                        "marker": {
                          "colorbar": {
                            "outlinewidth": 0,
                            "ticks": ""
                          }
                        },
                        "type": "scattergeo"
                      }
                    ],
                    "scattergl": [
                      {
                        "marker": {
                          "colorbar": {
                            "outlinewidth": 0,
                            "ticks": ""
                          }
                        },
                        "type": "scattergl"
                      }
                    ],
                    "scattermapbox": [
                      {
                        "marker": {
                          "colorbar": {
                            "outlinewidth": 0,
                            "ticks": ""
                          }
                        },
                        "type": "scattermapbox"
                      }
                    ],
                    "scatterpolar": [
                      {
                        "marker": {
                          "colorbar": {
                            "outlinewidth": 0,
                            "ticks": ""
                          }
                        },
                        "type": "scatterpolar"
                      }
                    ],
                    "scatterpolargl": [
                      {
                        "marker": {
                          "colorbar": {
                            "outlinewidth": 0,
                            "ticks": ""
                          }
                        },
                        "type": "scatterpolargl"
                      }
                    ],
                    "scatterternary": [
                      {
                        "marker": {
                          "colorbar": {
                            "outlinewidth": 0,
                            "ticks": ""
                          }
                        },
                        "type": "scatterternary"
                      }
                    ],
                    "surface": [
                      {
                        "colorbar": {
                          "outlinewidth": 0,
                          "ticks": ""
                        },
                        "colorscale": [
                          [
                            0,
                            "#0d0887"
                          ],
                          [
                            0.1111111111111111,
                            "#46039f"
                          ],
                          [
                            0.2222222222222222,
                            "#7201a8"
                          ],
                          [
                            0.3333333333333333,
                            "#9c179e"
                          ],
                          [
                            0.4444444444444444,
                            "#bd3786"
                          ],
                          [
                            0.5555555555555556,
                            "#d8576b"
                          ],
                          [
                            0.6666666666666666,
                            "#ed7953"
                          ],
                          [
                            0.7777777777777778,
                            "#fb9f3a"
                          ],
                          [
                            0.8888888888888888,
                            "#fdca26"
                          ],
                          [
                            1,
                            "#f0f921"
                          ]
                        ],
                        "type": "surface"
                      }
                    ],
                    "table": [
                      {
                        "cells": {
                          "fill": {
                            "color": "#EBF0F8"
                          },
                          "line": {
                            "color": "white"
                          }
                        },
                        "header": {
                          "fill": {
                            "color": "#C8D4E3"
                          },
                          "line": {
                            "color": "white"
                          }
                        },
                        "type": "table"
                      }
                    ]
                  },
                  "layout": {
                    "annotationdefaults": {
                      "arrowcolor": "#2a3f5f",
                      "arrowhead": 0,
                      "arrowwidth": 1
                    },
                    "autotypenumbers": "strict",
                    "coloraxis": {
                      "colorbar": {
                        "outlinewidth": 0,
                        "ticks": ""
                      }
                    },
                    "colorscale": {
                      "diverging": [
                        [
                          0,
                          "#8e0152"
                        ],
                        [
                          0.1,
                          "#c51b7d"
                        ],
                        [
                          0.2,
                          "#de77ae"
                        ],
                        [
                          0.3,
                          "#f1b6da"
                        ],
                        [
                          0.4,
                          "#fde0ef"
                        ],
                        [
                          0.5,
                          "#f7f7f7"
                        ],
                        [
                          0.6,
                          "#e6f5d0"
                        ],
                        [
                          0.7,
                          "#b8e186"
                        ],
                        [
                          0.8,
                          "#7fbc41"
                        ],
                        [
                          0.9,
                          "#4d9221"
                        ],
                        [
                          1,
                          "#276419"
                        ]
                      ],
                      "sequential": [
                        [
                          0,
                          "#0d0887"
                        ],
                        [
                          0.1111111111111111,
                          "#46039f"
                        ],
                        [
                          0.2222222222222222,
                          "#7201a8"
                        ],
                        [
                          0.3333333333333333,
                          "#9c179e"
                        ],
                        [
                          0.4444444444444444,
                          "#bd3786"
                        ],
                        [
                          0.5555555555555556,
                          "#d8576b"
                        ],
                        [
                          0.6666666666666666,
                          "#ed7953"
                        ],
                        [
                          0.7777777777777778,
                          "#fb9f3a"
                        ],
                        [
                          0.8888888888888888,
                          "#fdca26"
                        ],
                        [
                          1,
                          "#f0f921"
                        ]
                      ],
                      "sequentialminus": [
                        [
                          0,
                          "#0d0887"
                        ],
                        [
                          0.1111111111111111,
                          "#46039f"
                        ],
                        [
                          0.2222222222222222,
                          "#7201a8"
                        ],
                        [
                          0.3333333333333333,
                          "#9c179e"
                        ],
                        [
                          0.4444444444444444,
                          "#bd3786"
                        ],
                        [
                          0.5555555555555556,
                          "#d8576b"
                        ],
                        [
                          0.6666666666666666,
                          "#ed7953"
                        ],
                        [
                          0.7777777777777778,
                          "#fb9f3a"
                        ],
                        [
                          0.8888888888888888,
                          "#fdca26"
                        ],
                        [
                          1,
                          "#f0f921"
                        ]
                      ]
                    },
                    "colorway": [
                      "#636efa",
                      "#EF553B",
                      "#00cc96",
                      "#ab63fa",
                      "#FFA15A",
                      "#19d3f3",
                      "#FF6692",
                      "#B6E880",
                      "#FF97FF",
                      "#FECB52"
                    ],
                    "font": {
                      "color": "#2a3f5f"
                    },
                    "geo": {
                      "bgcolor": "white",
                      "lakecolor": "white",
                      "landcolor": "#E5ECF6",
                      "showlakes": true,
                      "showland": true,
                      "subunitcolor": "white"
                    },
                    "hoverlabel": {
                      "align": "left"
                    },
                    "hovermode": "closest",
                    "mapbox": {
                      "style": "light"
                    },
                    "paper_bgcolor": "white",
                    "plot_bgcolor": "#E5ECF6",
                    "polar": {
                      "angularaxis": {
                        "gridcolor": "white",
                        "linecolor": "white",
                        "ticks": ""
                      },
                      "bgcolor": "#E5ECF6",
                      "radialaxis": {
                        "gridcolor": "white",
                        "linecolor": "white",
                        "ticks": ""
                      }
                    },
                    "scene": {
                      "xaxis": {
                        "backgroundcolor": "#E5ECF6",
                        "gridcolor": "white",
                        "gridwidth": 2,
                        "linecolor": "white",
                        "showbackground": true,
                        "ticks": "",
                        "zerolinecolor": "white"
                      },
                      "yaxis": {
                        "backgroundcolor": "#E5ECF6",
                        "gridcolor": "white",
                        "gridwidth": 2,
                        "linecolor": "white",
                        "showbackground": true,
                        "ticks": "",
                        "zerolinecolor": "white"
                      },
                      "zaxis": {
                        "backgroundcolor": "#E5ECF6",
                        "gridcolor": "white",
                        "gridwidth": 2,
                        "linecolor": "white",
                        "showbackground": true,
                        "ticks": "",
                        "zerolinecolor": "white"
                      }
                    },
                    "shapedefaults": {
                      "line": {
                        "color": "#2a3f5f"
                      }
                    },
                    "ternary": {
                      "aaxis": {
                        "gridcolor": "white",
                        "linecolor": "white",
                        "ticks": ""
                      },
                      "baxis": {
                        "gridcolor": "white",
                        "linecolor": "white",
                        "ticks": ""
                      },
                      "bgcolor": "#E5ECF6",
                      "caxis": {
                        "gridcolor": "white",
                        "linecolor": "white",
                        "ticks": ""
                      }
                    },
                    "title": {
                      "x": 0.05
                    },
                    "xaxis": {
                      "automargin": true,
                      "gridcolor": "white",
                      "linecolor": "white",
                      "ticks": "",
                      "title": {
                        "standoff": 15
                      },
                      "zerolinecolor": "white",
                      "zerolinewidth": 2
                    },
                    "yaxis": {
                      "automargin": true,
                      "gridcolor": "white",
                      "linecolor": "white",
                      "ticks": "",
                      "title": {
                        "standoff": 15
                      },
                      "zerolinecolor": "white",
                      "zerolinewidth": 2
                    }
                  }
                },
                "xaxis": {
                  "anchor": "y",
                  "domain": [
                    0,
                    1
                  ],
                  "rangeselector": {
                    "buttons": [
                      {
                        "count": 1,
                        "label": "YTD",
                        "step": "year",
                        "stepmode": "todate"
                      },
                      {
                        "count": 1,
                        "label": "1y",
                        "step": "year",
                        "stepmode": "backward"
                      },
                      {
                        "count": 3,
                        "label": "3y",
                        "step": "year",
                        "stepmode": "backward"
                      },
                      {
                        "count": 5,
                        "label": "5y",
                        "step": "year",
                        "stepmode": "backward"
                      },
                      {
                        "count": 7,
                        "label": "7y",
                        "step": "year",
                        "stepmode": "backward"
                      },
                      {
                        "count": 10,
                        "label": "10y",
                        "step": "year",
                        "stepmode": "backward"
                      },
                      {
                        "step": "all"
                      }
                    ]
                  },
                  "rangeslider": {
                    "visible": true
                  },
                  "title": {
                    "text": "Date"
                  }
                },
                "yaxis": {
                  "anchor": "x",
                  "domain": [
                    0,
                    1
                  ],
                  "title": {
                    "text": "Tháng này so với cùng kỳ năm trước"
                  }
                }
              }
            }
          },
          "metadata": {},
          "output_type": "display_data"
        }
      ],
      "source": [
        "import pandas as pd\n",
        "import plotly.express as px\n",
        "import plotly.graph_objects as go\n",
        "\n",
        "df_show = dfs_iip[\n",
        "    (\n",
        "        (dfs_iip[\"Ngành\"] == \"Toàn ngành công nghiệp\")\n",
        "        | (dfs_iip[\"Ngành\"] == \"Khai khoáng\")\n",
        "        | (dfs_iip[\"Ngành\"] == \"Công nghiệp chế biến, chế tạo\")\n",
        "        | (dfs_iip[\"Ngành\"] == \"Sản xuất và phân phối điện\")\n",
        "    )\n",
        "    & (dfs_iip[\"Date\"] > \"2015-01-01\")\n",
        "]\n",
        "\n",
        "fig = px.area(df_show, x=\"Date\", y=\"Tháng này so với cùng kỳ năm trước\", color=\"Ngành\")\n",
        "\n",
        "fig.update_xaxes(\n",
        "    rangeslider_visible=True,\n",
        "    rangeselector=dict(\n",
        "        buttons=[\n",
        "            dict(count=1, label=\"YTD\", step=\"year\", stepmode=\"todate\"),\n",
        "            dict(count=1, label=\"1y\", step=\"year\", stepmode=\"backward\"),\n",
        "            dict(count=3, label=\"3y\", step=\"year\", stepmode=\"backward\"),\n",
        "            dict(count=5, label=\"5y\", step=\"year\", stepmode=\"backward\"),\n",
        "            dict(count=7, label=\"7y\", step=\"year\", stepmode=\"backward\"),\n",
        "            dict(count=10, label=\"10y\", step=\"year\", stepmode=\"backward\"),\n",
        "            dict(step=\"all\"),\n",
        "        ]\n",
        "    ),\n",
        ")\n",
        "\n",
        "fig.show()"
      ]
    },
    {
      "cell_type": "code",
      "execution_count": 10,
      "metadata": {},
      "outputs": [
        {
          "name": "stderr",
          "output_type": "stream",
          "text": [
            "/home/hien/.pyenv/versions/3.9.16/envs/vn-macroeconomics/lib/python3.9/site-packages/_plotly_utils/basevalidators.py:105: FutureWarning:\n",
            "\n",
            "The behavior of DatetimeProperties.to_pydatetime is deprecated, in a future version this will return a Series containing python datetime objects instead of an ndarray. To retain the old behavior, call `np.array` on the result\n",
            "\n"
          ]
        },
        {
          "data": {
            "application/vnd.plotly.v1+json": {
              "config": {
                "plotlyServerURL": "https://plot.ly"
              },
              "data": [
                {
                  "fillpattern": {
                    "shape": ""
                  },
                  "hovertemplate": "Ngành=Dệt<br>Date=%{x}<br>Tháng này so với cùng kỳ năm trước=%{y}<extra></extra>",
                  "legendgroup": "Dệt",
                  "line": {
                    "color": "#636efa"
                  },
                  "marker": {
                    "symbol": "circle"
                  },
                  "mode": "lines",
                  "name": "Dệt",
                  "orientation": "v",
                  "showlegend": true,
                  "stackgroup": "1",
                  "type": "scatter",
                  "x": [
                    "2023-12-29T00:00:00",
                    "2023-11-29T00:00:00",
                    "2023-10-29T00:00:00",
                    "2023-09-29T00:00:00",
                    "2023-08-29T00:00:00",
                    "2023-07-29T00:00:00",
                    "2023-06-29T00:00:00",
                    "2023-05-29T00:00:00",
                    "2023-04-29T00:00:00",
                    "2023-03-29T00:00:00",
                    "2023-02-28T00:00:00",
                    "2023-01-29T00:00:00",
                    "2022-12-29T00:00:00",
                    "2022-11-29T00:00:00",
                    "2022-10-29T00:00:00",
                    "2022-09-29T00:00:00",
                    "2022-08-29T00:00:00",
                    "2022-07-29T00:00:00",
                    "2022-06-29T00:00:00",
                    "2022-05-29T00:00:00",
                    "2022-04-29T00:00:00",
                    "2022-03-29T00:00:00",
                    "2022-02-28T00:00:00",
                    "2022-01-29T00:00:00"
                  ],
                  "xaxis": "x",
                  "y": [
                    18.709999999999994,
                    18.235657896980996,
                    18.129999999999995,
                    18.540000000000006,
                    15.079999999999998,
                    10.769999999999996,
                    6.400000000000006,
                    3.530000000000001,
                    2.049999999999997,
                    -0.46999999999999886,
                    6.780000000000001,
                    -11.829999999999998,
                    -1.8199999999999932,
                    7.790000000000006,
                    -2.4200000000000017,
                    9.659999999999997,
                    15.11,
                    6.840000000000003,
                    4.030000000000001,
                    3.5400000000000063,
                    5.200000000000003,
                    6.780000000000001,
                    14.010000000000005,
                    8.810000000000002
                  ],
                  "yaxis": "y"
                },
                {
                  "fillpattern": {
                    "shape": ""
                  },
                  "hovertemplate": "Ngành=Sản xuất hoá chất và sản phẩm hoá chất<br>Date=%{x}<br>Tháng này so với cùng kỳ năm trước=%{y}<extra></extra>",
                  "legendgroup": "Sản xuất hoá chất và sản phẩm hoá chất",
                  "line": {
                    "color": "#EF553B"
                  },
                  "marker": {
                    "symbol": "circle"
                  },
                  "mode": "lines",
                  "name": "Sản xuất hoá chất và sản phẩm hoá chất",
                  "orientation": "v",
                  "showlegend": true,
                  "stackgroup": "1",
                  "type": "scatter",
                  "x": [
                    "2023-12-29T00:00:00",
                    "2023-11-29T00:00:00",
                    "2023-10-29T00:00:00",
                    "2023-09-29T00:00:00",
                    "2023-08-29T00:00:00",
                    "2023-07-29T00:00:00",
                    "2023-06-29T00:00:00",
                    "2023-05-29T00:00:00",
                    "2023-04-29T00:00:00",
                    "2023-03-29T00:00:00",
                    "2023-02-28T00:00:00",
                    "2023-01-29T00:00:00",
                    "2022-12-29T00:00:00",
                    "2022-11-29T00:00:00",
                    "2022-10-29T00:00:00",
                    "2022-09-29T00:00:00",
                    "2022-08-29T00:00:00",
                    "2022-07-29T00:00:00",
                    "2022-06-29T00:00:00",
                    "2022-05-29T00:00:00",
                    "2022-04-29T00:00:00",
                    "2022-03-29T00:00:00",
                    "2022-02-28T00:00:00",
                    "2022-01-29T00:00:00"
                  ],
                  "xaxis": "x",
                  "y": [
                    16.349999999999994,
                    12.900000000000006,
                    9.489999999999995,
                    13.89,
                    9.25,
                    15.260000000000005,
                    10.599999999999994,
                    11.930000000000007,
                    14.930000000000007,
                    2.269999999999996,
                    13.189999999999998,
                    -10.040000000000006,
                    -0.5300000000000011,
                    -0.06999999999999318,
                    2.9599999999999937,
                    15.450000000000003,
                    10.86,
                    14.849999999999994,
                    3.730000000000004,
                    5.010000000000005,
                    11.170000000000002,
                    7.569999999999993,
                    19.370000000000005,
                    6.010000000000005
                  ],
                  "yaxis": "y"
                },
                {
                  "fillpattern": {
                    "shape": ""
                  },
                  "hovertemplate": "Ngành=Sản xuất sản phẩm từ cao su và plastic<br>Date=%{x}<br>Tháng này so với cùng kỳ năm trước=%{y}<extra></extra>",
                  "legendgroup": "Sản xuất sản phẩm từ cao su và plastic",
                  "line": {
                    "color": "#00cc96"
                  },
                  "marker": {
                    "symbol": "circle"
                  },
                  "mode": "lines",
                  "name": "Sản xuất sản phẩm từ cao su và plastic",
                  "orientation": "v",
                  "showlegend": true,
                  "stackgroup": "1",
                  "type": "scatter",
                  "x": [
                    "2023-12-29T00:00:00",
                    "2023-11-29T00:00:00",
                    "2023-10-29T00:00:00",
                    "2023-09-29T00:00:00",
                    "2023-08-29T00:00:00",
                    "2023-07-29T00:00:00",
                    "2023-06-29T00:00:00",
                    "2023-05-29T00:00:00",
                    "2023-04-29T00:00:00",
                    "2023-03-29T00:00:00",
                    "2023-02-28T00:00:00",
                    "2023-01-29T00:00:00",
                    "2022-12-29T00:00:00",
                    "2022-11-29T00:00:00",
                    "2022-10-29T00:00:00",
                    "2022-09-29T00:00:00",
                    "2022-08-29T00:00:00",
                    "2022-07-29T00:00:00",
                    "2022-06-29T00:00:00",
                    "2022-05-29T00:00:00",
                    "2022-04-29T00:00:00",
                    "2022-03-29T00:00:00",
                    "2022-02-28T00:00:00",
                    "2022-01-29T00:00:00"
                  ],
                  "xaxis": "x",
                  "y": [
                    23.310000000000002,
                    27.739999999999995,
                    15.269999999999996,
                    10.170000000000002,
                    10.469999999999999,
                    10.379999999999995,
                    8.700000000000003,
                    6.799999999999997,
                    -2.9000000000000057,
                    15.170000000000002,
                    21.340000000000003,
                    -4.439999999999998,
                    -10.189999999999998,
                    -19.870000000000005,
                    -3.4200000000000017,
                    5.810000000000002,
                    6.6299999999999955,
                    -4.519999999999996,
                    14.799999999999997,
                    -10.519999999999996,
                    -11.340000000000003,
                    -13.409999999999997,
                    -0.28000000000000114,
                    8.060000000000002
                  ],
                  "yaxis": "y"
                },
                {
                  "fillpattern": {
                    "shape": ""
                  },
                  "hovertemplate": "Ngành=Sản xuất kim loại<br>Date=%{x}<br>Tháng này so với cùng kỳ năm trước=%{y}<extra></extra>",
                  "legendgroup": "Sản xuất kim loại",
                  "line": {
                    "color": "#ab63fa"
                  },
                  "marker": {
                    "symbol": "circle"
                  },
                  "mode": "lines",
                  "name": "Sản xuất kim loại",
                  "orientation": "v",
                  "showlegend": true,
                  "stackgroup": "1",
                  "type": "scatter",
                  "x": [
                    "2023-12-29T00:00:00",
                    "2023-11-29T00:00:00",
                    "2023-10-29T00:00:00",
                    "2023-09-29T00:00:00",
                    "2023-08-29T00:00:00",
                    "2023-07-29T00:00:00",
                    "2023-06-29T00:00:00",
                    "2023-05-29T00:00:00",
                    "2023-04-29T00:00:00",
                    "2023-03-29T00:00:00",
                    "2023-02-28T00:00:00",
                    "2023-01-29T00:00:00",
                    "2022-12-29T00:00:00",
                    "2022-11-29T00:00:00",
                    "2022-10-29T00:00:00",
                    "2022-09-29T00:00:00",
                    "2022-08-29T00:00:00",
                    "2022-07-29T00:00:00",
                    "2022-06-29T00:00:00",
                    "2022-05-29T00:00:00",
                    "2022-04-29T00:00:00",
                    "2022-03-29T00:00:00",
                    "2022-02-28T00:00:00",
                    "2022-01-29T00:00:00"
                  ],
                  "xaxis": "x",
                  "y": [
                    42.00999999999999,
                    26,
                    14.319999999999993,
                    12.480000000000004,
                    24.819999999999993,
                    15.430000000000007,
                    2.5999999999999943,
                    0.7800000000000011,
                    1.1299999999999955,
                    8.349999999999994,
                    -4.319999999999993,
                    -14.530000000000001,
                    -5.060000000000002,
                    -6.709999999999994,
                    -7.560000000000002,
                    3.0799999999999983,
                    -7.189999999999998,
                    -6.359999999999999,
                    9.879999999999995,
                    4.049999999999997,
                    8.340000000000003,
                    3.730000000000004,
                    12.709999999999994,
                    2.739999999999995
                  ],
                  "yaxis": "y"
                },
                {
                  "fillpattern": {
                    "shape": ""
                  },
                  "hovertemplate": "Ngành=Sản xuất sản phẩm từ kim loại đúc sẵn (trừ máy móc, thiết bị)<br>Date=%{x}<br>Tháng này so với cùng kỳ năm trước=%{y}<extra></extra>",
                  "legendgroup": "Sản xuất sản phẩm từ kim loại đúc sẵn (trừ máy móc, thiết bị)",
                  "line": {
                    "color": "#FFA15A"
                  },
                  "marker": {
                    "symbol": "circle"
                  },
                  "mode": "lines",
                  "name": "Sản xuất sản phẩm từ kim loại đúc sẵn (trừ máy móc, thiết bị)",
                  "orientation": "v",
                  "showlegend": true,
                  "stackgroup": "1",
                  "type": "scatter",
                  "x": [
                    "2023-12-29T00:00:00",
                    "2023-11-29T00:00:00",
                    "2023-10-29T00:00:00",
                    "2023-09-29T00:00:00",
                    "2023-08-29T00:00:00",
                    "2023-07-29T00:00:00",
                    "2023-06-29T00:00:00",
                    "2023-05-29T00:00:00",
                    "2023-04-29T00:00:00",
                    "2023-03-29T00:00:00",
                    "2023-02-28T00:00:00",
                    "2023-01-29T00:00:00",
                    "2022-12-29T00:00:00",
                    "2022-11-29T00:00:00",
                    "2022-10-29T00:00:00",
                    "2022-09-29T00:00:00",
                    "2022-08-29T00:00:00",
                    "2022-07-29T00:00:00",
                    "2022-06-29T00:00:00",
                    "2022-05-29T00:00:00",
                    "2022-04-29T00:00:00",
                    "2022-03-29T00:00:00",
                    "2022-02-28T00:00:00",
                    "2022-01-29T00:00:00"
                  ],
                  "xaxis": "x",
                  "y": [
                    8.739999999999995,
                    11.900000000000006,
                    20.680000000000007,
                    13.010000000000005,
                    17.75,
                    23.25,
                    5.400000000000006,
                    5.319999999999993,
                    5.510000000000005,
                    4.3700000000000045,
                    2.3499999999999943,
                    -7.25,
                    -0.769999999999996,
                    -2.230000000000004,
                    6.390000000000001,
                    11.099999999999994,
                    14.769999999999996,
                    11.540000000000006,
                    14.819999999999993,
                    11.14,
                    14.239999999999995,
                    9.219999999999999,
                    13.11,
                    16.799999999999997
                  ],
                  "yaxis": "y"
                },
                {
                  "fillpattern": {
                    "shape": ""
                  },
                  "hovertemplate": "Ngành=Sản xuất sản phẩm điện tử, máy vi tính và sản phẩm quang học<br>Date=%{x}<br>Tháng này so với cùng kỳ năm trước=%{y}<extra></extra>",
                  "legendgroup": "Sản xuất sản phẩm điện tử, máy vi tính và sản phẩm quang học",
                  "line": {
                    "color": "#19d3f3"
                  },
                  "marker": {
                    "symbol": "circle"
                  },
                  "mode": "lines",
                  "name": "Sản xuất sản phẩm điện tử, máy vi tính và sản phẩm quang học",
                  "orientation": "v",
                  "showlegend": true,
                  "stackgroup": "1",
                  "type": "scatter",
                  "x": [
                    "2023-12-29T00:00:00",
                    "2023-11-29T00:00:00",
                    "2023-10-29T00:00:00",
                    "2023-09-29T00:00:00",
                    "2023-08-29T00:00:00",
                    "2023-07-29T00:00:00",
                    "2023-06-29T00:00:00",
                    "2023-05-29T00:00:00",
                    "2023-04-29T00:00:00",
                    "2023-03-29T00:00:00",
                    "2023-02-28T00:00:00",
                    "2023-01-29T00:00:00",
                    "2022-12-29T00:00:00",
                    "2022-11-29T00:00:00",
                    "2022-10-29T00:00:00",
                    "2022-09-29T00:00:00",
                    "2022-08-29T00:00:00",
                    "2022-07-29T00:00:00",
                    "2022-06-29T00:00:00",
                    "2022-05-29T00:00:00",
                    "2022-04-29T00:00:00",
                    "2022-03-29T00:00:00",
                    "2022-02-28T00:00:00",
                    "2022-01-29T00:00:00"
                  ],
                  "xaxis": "x",
                  "y": [
                    7.969999999999999,
                    3.3499999999999943,
                    2.719999999999999,
                    7.530000000000001,
                    -0.3299999999999983,
                    -1.9399999999999977,
                    0.09999999999999432,
                    -4.912384361966886,
                    -4.329999999999998,
                    -13.010000000000005,
                    0.480000000000004,
                    -3.200000000000003,
                    -1.9300000000000068,
                    5.6200000000000045,
                    2.5900000000000034,
                    -2.3900000000000006,
                    9.849999999999994,
                    8.61,
                    13.379999999999995,
                    16.790000000000006,
                    16.55000000000001,
                    17.739999999999995,
                    9.069999999999993,
                    -4.989999999999995
                  ],
                  "yaxis": "y"
                },
                {
                  "fillpattern": {
                    "shape": ""
                  },
                  "hovertemplate": "Ngành=Sản xuất thiết bị điện<br>Date=%{x}<br>Tháng này so với cùng kỳ năm trước=%{y}<extra></extra>",
                  "legendgroup": "Sản xuất thiết bị điện",
                  "line": {
                    "color": "#FF6692"
                  },
                  "marker": {
                    "symbol": "circle"
                  },
                  "mode": "lines",
                  "name": "Sản xuất thiết bị điện",
                  "orientation": "v",
                  "showlegend": true,
                  "stackgroup": "1",
                  "type": "scatter",
                  "x": [
                    "2023-12-29T00:00:00",
                    "2023-11-29T00:00:00",
                    "2023-10-29T00:00:00",
                    "2023-09-29T00:00:00",
                    "2023-08-29T00:00:00",
                    "2023-07-29T00:00:00",
                    "2023-06-29T00:00:00",
                    "2023-05-29T00:00:00",
                    "2023-04-29T00:00:00",
                    "2023-03-29T00:00:00",
                    "2023-02-28T00:00:00",
                    "2023-01-29T00:00:00",
                    "2022-12-29T00:00:00",
                    "2022-11-29T00:00:00",
                    "2022-10-29T00:00:00",
                    "2022-09-29T00:00:00",
                    "2022-08-29T00:00:00",
                    "2022-07-29T00:00:00",
                    "2022-06-29T00:00:00",
                    "2022-05-29T00:00:00",
                    "2022-04-29T00:00:00",
                    "2022-03-29T00:00:00",
                    "2022-02-28T00:00:00",
                    "2022-01-29T00:00:00"
                  ],
                  "xaxis": "x",
                  "y": [
                    -1.769999999999996,
                    -2.269999999999996,
                    -0.23999999999999488,
                    8.409999999999997,
                    6.480000000000004,
                    0.45000000000000284,
                    10.799999999999997,
                    3.239999999999995,
                    4.269999999999996,
                    0.1700000000000017,
                    -42.35,
                    -19.060000000000002,
                    -14.5,
                    -7.890000000000001,
                    0.9000000000000057,
                    5.959999999999994,
                    4.670000000000002,
                    19.290000000000006,
                    23.159999999999997,
                    14.790000000000006,
                    25.019999999999996,
                    8.189999999999998,
                    35.41,
                    11.459999999999994
                  ],
                  "yaxis": "y"
                }
              ],
              "layout": {
                "legend": {
                  "title": {
                    "text": "Ngành"
                  },
                  "tracegroupgap": 0
                },
                "margin": {
                  "t": 60
                },
                "template": {
                  "data": {
                    "bar": [
                      {
                        "error_x": {
                          "color": "#2a3f5f"
                        },
                        "error_y": {
                          "color": "#2a3f5f"
                        },
                        "marker": {
                          "line": {
                            "color": "#E5ECF6",
                            "width": 0.5
                          },
                          "pattern": {
                            "fillmode": "overlay",
                            "size": 10,
                            "solidity": 0.2
                          }
                        },
                        "type": "bar"
                      }
                    ],
                    "barpolar": [
                      {
                        "marker": {
                          "line": {
                            "color": "#E5ECF6",
                            "width": 0.5
                          },
                          "pattern": {
                            "fillmode": "overlay",
                            "size": 10,
                            "solidity": 0.2
                          }
                        },
                        "type": "barpolar"
                      }
                    ],
                    "carpet": [
                      {
                        "aaxis": {
                          "endlinecolor": "#2a3f5f",
                          "gridcolor": "white",
                          "linecolor": "white",
                          "minorgridcolor": "white",
                          "startlinecolor": "#2a3f5f"
                        },
                        "baxis": {
                          "endlinecolor": "#2a3f5f",
                          "gridcolor": "white",
                          "linecolor": "white",
                          "minorgridcolor": "white",
                          "startlinecolor": "#2a3f5f"
                        },
                        "type": "carpet"
                      }
                    ],
                    "choropleth": [
                      {
                        "colorbar": {
                          "outlinewidth": 0,
                          "ticks": ""
                        },
                        "type": "choropleth"
                      }
                    ],
                    "contour": [
                      {
                        "colorbar": {
                          "outlinewidth": 0,
                          "ticks": ""
                        },
                        "colorscale": [
                          [
                            0,
                            "#0d0887"
                          ],
                          [
                            0.1111111111111111,
                            "#46039f"
                          ],
                          [
                            0.2222222222222222,
                            "#7201a8"
                          ],
                          [
                            0.3333333333333333,
                            "#9c179e"
                          ],
                          [
                            0.4444444444444444,
                            "#bd3786"
                          ],
                          [
                            0.5555555555555556,
                            "#d8576b"
                          ],
                          [
                            0.6666666666666666,
                            "#ed7953"
                          ],
                          [
                            0.7777777777777778,
                            "#fb9f3a"
                          ],
                          [
                            0.8888888888888888,
                            "#fdca26"
                          ],
                          [
                            1,
                            "#f0f921"
                          ]
                        ],
                        "type": "contour"
                      }
                    ],
                    "contourcarpet": [
                      {
                        "colorbar": {
                          "outlinewidth": 0,
                          "ticks": ""
                        },
                        "type": "contourcarpet"
                      }
                    ],
                    "heatmap": [
                      {
                        "colorbar": {
                          "outlinewidth": 0,
                          "ticks": ""
                        },
                        "colorscale": [
                          [
                            0,
                            "#0d0887"
                          ],
                          [
                            0.1111111111111111,
                            "#46039f"
                          ],
                          [
                            0.2222222222222222,
                            "#7201a8"
                          ],
                          [
                            0.3333333333333333,
                            "#9c179e"
                          ],
                          [
                            0.4444444444444444,
                            "#bd3786"
                          ],
                          [
                            0.5555555555555556,
                            "#d8576b"
                          ],
                          [
                            0.6666666666666666,
                            "#ed7953"
                          ],
                          [
                            0.7777777777777778,
                            "#fb9f3a"
                          ],
                          [
                            0.8888888888888888,
                            "#fdca26"
                          ],
                          [
                            1,
                            "#f0f921"
                          ]
                        ],
                        "type": "heatmap"
                      }
                    ],
                    "heatmapgl": [
                      {
                        "colorbar": {
                          "outlinewidth": 0,
                          "ticks": ""
                        },
                        "colorscale": [
                          [
                            0,
                            "#0d0887"
                          ],
                          [
                            0.1111111111111111,
                            "#46039f"
                          ],
                          [
                            0.2222222222222222,
                            "#7201a8"
                          ],
                          [
                            0.3333333333333333,
                            "#9c179e"
                          ],
                          [
                            0.4444444444444444,
                            "#bd3786"
                          ],
                          [
                            0.5555555555555556,
                            "#d8576b"
                          ],
                          [
                            0.6666666666666666,
                            "#ed7953"
                          ],
                          [
                            0.7777777777777778,
                            "#fb9f3a"
                          ],
                          [
                            0.8888888888888888,
                            "#fdca26"
                          ],
                          [
                            1,
                            "#f0f921"
                          ]
                        ],
                        "type": "heatmapgl"
                      }
                    ],
                    "histogram": [
                      {
                        "marker": {
                          "pattern": {
                            "fillmode": "overlay",
                            "size": 10,
                            "solidity": 0.2
                          }
                        },
                        "type": "histogram"
                      }
                    ],
                    "histogram2d": [
                      {
                        "colorbar": {
                          "outlinewidth": 0,
                          "ticks": ""
                        },
                        "colorscale": [
                          [
                            0,
                            "#0d0887"
                          ],
                          [
                            0.1111111111111111,
                            "#46039f"
                          ],
                          [
                            0.2222222222222222,
                            "#7201a8"
                          ],
                          [
                            0.3333333333333333,
                            "#9c179e"
                          ],
                          [
                            0.4444444444444444,
                            "#bd3786"
                          ],
                          [
                            0.5555555555555556,
                            "#d8576b"
                          ],
                          [
                            0.6666666666666666,
                            "#ed7953"
                          ],
                          [
                            0.7777777777777778,
                            "#fb9f3a"
                          ],
                          [
                            0.8888888888888888,
                            "#fdca26"
                          ],
                          [
                            1,
                            "#f0f921"
                          ]
                        ],
                        "type": "histogram2d"
                      }
                    ],
                    "histogram2dcontour": [
                      {
                        "colorbar": {
                          "outlinewidth": 0,
                          "ticks": ""
                        },
                        "colorscale": [
                          [
                            0,
                            "#0d0887"
                          ],
                          [
                            0.1111111111111111,
                            "#46039f"
                          ],
                          [
                            0.2222222222222222,
                            "#7201a8"
                          ],
                          [
                            0.3333333333333333,
                            "#9c179e"
                          ],
                          [
                            0.4444444444444444,
                            "#bd3786"
                          ],
                          [
                            0.5555555555555556,
                            "#d8576b"
                          ],
                          [
                            0.6666666666666666,
                            "#ed7953"
                          ],
                          [
                            0.7777777777777778,
                            "#fb9f3a"
                          ],
                          [
                            0.8888888888888888,
                            "#fdca26"
                          ],
                          [
                            1,
                            "#f0f921"
                          ]
                        ],
                        "type": "histogram2dcontour"
                      }
                    ],
                    "mesh3d": [
                      {
                        "colorbar": {
                          "outlinewidth": 0,
                          "ticks": ""
                        },
                        "type": "mesh3d"
                      }
                    ],
                    "parcoords": [
                      {
                        "line": {
                          "colorbar": {
                            "outlinewidth": 0,
                            "ticks": ""
                          }
                        },
                        "type": "parcoords"
                      }
                    ],
                    "pie": [
                      {
                        "automargin": true,
                        "type": "pie"
                      }
                    ],
                    "scatter": [
                      {
                        "fillpattern": {
                          "fillmode": "overlay",
                          "size": 10,
                          "solidity": 0.2
                        },
                        "type": "scatter"
                      }
                    ],
                    "scatter3d": [
                      {
                        "line": {
                          "colorbar": {
                            "outlinewidth": 0,
                            "ticks": ""
                          }
                        },
                        "marker": {
                          "colorbar": {
                            "outlinewidth": 0,
                            "ticks": ""
                          }
                        },
                        "type": "scatter3d"
                      }
                    ],
                    "scattercarpet": [
                      {
                        "marker": {
                          "colorbar": {
                            "outlinewidth": 0,
                            "ticks": ""
                          }
                        },
                        "type": "scattercarpet"
                      }
                    ],
                    "scattergeo": [
                      {
                        "marker": {
                          "colorbar": {
                            "outlinewidth": 0,
                            "ticks": ""
                          }
                        },
                        "type": "scattergeo"
                      }
                    ],
                    "scattergl": [
                      {
                        "marker": {
                          "colorbar": {
                            "outlinewidth": 0,
                            "ticks": ""
                          }
                        },
                        "type": "scattergl"
                      }
                    ],
                    "scattermapbox": [
                      {
                        "marker": {
                          "colorbar": {
                            "outlinewidth": 0,
                            "ticks": ""
                          }
                        },
                        "type": "scattermapbox"
                      }
                    ],
                    "scatterpolar": [
                      {
                        "marker": {
                          "colorbar": {
                            "outlinewidth": 0,
                            "ticks": ""
                          }
                        },
                        "type": "scatterpolar"
                      }
                    ],
                    "scatterpolargl": [
                      {
                        "marker": {
                          "colorbar": {
                            "outlinewidth": 0,
                            "ticks": ""
                          }
                        },
                        "type": "scatterpolargl"
                      }
                    ],
                    "scatterternary": [
                      {
                        "marker": {
                          "colorbar": {
                            "outlinewidth": 0,
                            "ticks": ""
                          }
                        },
                        "type": "scatterternary"
                      }
                    ],
                    "surface": [
                      {
                        "colorbar": {
                          "outlinewidth": 0,
                          "ticks": ""
                        },
                        "colorscale": [
                          [
                            0,
                            "#0d0887"
                          ],
                          [
                            0.1111111111111111,
                            "#46039f"
                          ],
                          [
                            0.2222222222222222,
                            "#7201a8"
                          ],
                          [
                            0.3333333333333333,
                            "#9c179e"
                          ],
                          [
                            0.4444444444444444,
                            "#bd3786"
                          ],
                          [
                            0.5555555555555556,
                            "#d8576b"
                          ],
                          [
                            0.6666666666666666,
                            "#ed7953"
                          ],
                          [
                            0.7777777777777778,
                            "#fb9f3a"
                          ],
                          [
                            0.8888888888888888,
                            "#fdca26"
                          ],
                          [
                            1,
                            "#f0f921"
                          ]
                        ],
                        "type": "surface"
                      }
                    ],
                    "table": [
                      {
                        "cells": {
                          "fill": {
                            "color": "#EBF0F8"
                          },
                          "line": {
                            "color": "white"
                          }
                        },
                        "header": {
                          "fill": {
                            "color": "#C8D4E3"
                          },
                          "line": {
                            "color": "white"
                          }
                        },
                        "type": "table"
                      }
                    ]
                  },
                  "layout": {
                    "annotationdefaults": {
                      "arrowcolor": "#2a3f5f",
                      "arrowhead": 0,
                      "arrowwidth": 1
                    },
                    "autotypenumbers": "strict",
                    "coloraxis": {
                      "colorbar": {
                        "outlinewidth": 0,
                        "ticks": ""
                      }
                    },
                    "colorscale": {
                      "diverging": [
                        [
                          0,
                          "#8e0152"
                        ],
                        [
                          0.1,
                          "#c51b7d"
                        ],
                        [
                          0.2,
                          "#de77ae"
                        ],
                        [
                          0.3,
                          "#f1b6da"
                        ],
                        [
                          0.4,
                          "#fde0ef"
                        ],
                        [
                          0.5,
                          "#f7f7f7"
                        ],
                        [
                          0.6,
                          "#e6f5d0"
                        ],
                        [
                          0.7,
                          "#b8e186"
                        ],
                        [
                          0.8,
                          "#7fbc41"
                        ],
                        [
                          0.9,
                          "#4d9221"
                        ],
                        [
                          1,
                          "#276419"
                        ]
                      ],
                      "sequential": [
                        [
                          0,
                          "#0d0887"
                        ],
                        [
                          0.1111111111111111,
                          "#46039f"
                        ],
                        [
                          0.2222222222222222,
                          "#7201a8"
                        ],
                        [
                          0.3333333333333333,
                          "#9c179e"
                        ],
                        [
                          0.4444444444444444,
                          "#bd3786"
                        ],
                        [
                          0.5555555555555556,
                          "#d8576b"
                        ],
                        [
                          0.6666666666666666,
                          "#ed7953"
                        ],
                        [
                          0.7777777777777778,
                          "#fb9f3a"
                        ],
                        [
                          0.8888888888888888,
                          "#fdca26"
                        ],
                        [
                          1,
                          "#f0f921"
                        ]
                      ],
                      "sequentialminus": [
                        [
                          0,
                          "#0d0887"
                        ],
                        [
                          0.1111111111111111,
                          "#46039f"
                        ],
                        [
                          0.2222222222222222,
                          "#7201a8"
                        ],
                        [
                          0.3333333333333333,
                          "#9c179e"
                        ],
                        [
                          0.4444444444444444,
                          "#bd3786"
                        ],
                        [
                          0.5555555555555556,
                          "#d8576b"
                        ],
                        [
                          0.6666666666666666,
                          "#ed7953"
                        ],
                        [
                          0.7777777777777778,
                          "#fb9f3a"
                        ],
                        [
                          0.8888888888888888,
                          "#fdca26"
                        ],
                        [
                          1,
                          "#f0f921"
                        ]
                      ]
                    },
                    "colorway": [
                      "#636efa",
                      "#EF553B",
                      "#00cc96",
                      "#ab63fa",
                      "#FFA15A",
                      "#19d3f3",
                      "#FF6692",
                      "#B6E880",
                      "#FF97FF",
                      "#FECB52"
                    ],
                    "font": {
                      "color": "#2a3f5f"
                    },
                    "geo": {
                      "bgcolor": "white",
                      "lakecolor": "white",
                      "landcolor": "#E5ECF6",
                      "showlakes": true,
                      "showland": true,
                      "subunitcolor": "white"
                    },
                    "hoverlabel": {
                      "align": "left"
                    },
                    "hovermode": "closest",
                    "mapbox": {
                      "style": "light"
                    },
                    "paper_bgcolor": "white",
                    "plot_bgcolor": "#E5ECF6",
                    "polar": {
                      "angularaxis": {
                        "gridcolor": "white",
                        "linecolor": "white",
                        "ticks": ""
                      },
                      "bgcolor": "#E5ECF6",
                      "radialaxis": {
                        "gridcolor": "white",
                        "linecolor": "white",
                        "ticks": ""
                      }
                    },
                    "scene": {
                      "xaxis": {
                        "backgroundcolor": "#E5ECF6",
                        "gridcolor": "white",
                        "gridwidth": 2,
                        "linecolor": "white",
                        "showbackground": true,
                        "ticks": "",
                        "zerolinecolor": "white"
                      },
                      "yaxis": {
                        "backgroundcolor": "#E5ECF6",
                        "gridcolor": "white",
                        "gridwidth": 2,
                        "linecolor": "white",
                        "showbackground": true,
                        "ticks": "",
                        "zerolinecolor": "white"
                      },
                      "zaxis": {
                        "backgroundcolor": "#E5ECF6",
                        "gridcolor": "white",
                        "gridwidth": 2,
                        "linecolor": "white",
                        "showbackground": true,
                        "ticks": "",
                        "zerolinecolor": "white"
                      }
                    },
                    "shapedefaults": {
                      "line": {
                        "color": "#2a3f5f"
                      }
                    },
                    "ternary": {
                      "aaxis": {
                        "gridcolor": "white",
                        "linecolor": "white",
                        "ticks": ""
                      },
                      "baxis": {
                        "gridcolor": "white",
                        "linecolor": "white",
                        "ticks": ""
                      },
                      "bgcolor": "#E5ECF6",
                      "caxis": {
                        "gridcolor": "white",
                        "linecolor": "white",
                        "ticks": ""
                      }
                    },
                    "title": {
                      "x": 0.05
                    },
                    "xaxis": {
                      "automargin": true,
                      "gridcolor": "white",
                      "linecolor": "white",
                      "ticks": "",
                      "title": {
                        "standoff": 15
                      },
                      "zerolinecolor": "white",
                      "zerolinewidth": 2
                    },
                    "yaxis": {
                      "automargin": true,
                      "gridcolor": "white",
                      "linecolor": "white",
                      "ticks": "",
                      "title": {
                        "standoff": 15
                      },
                      "zerolinecolor": "white",
                      "zerolinewidth": 2
                    }
                  }
                },
                "xaxis": {
                  "anchor": "y",
                  "domain": [
                    0,
                    1
                  ],
                  "rangeselector": {
                    "buttons": [
                      {
                        "count": 1,
                        "label": "YTD",
                        "step": "year",
                        "stepmode": "todate"
                      },
                      {
                        "count": 1,
                        "label": "1y",
                        "step": "year",
                        "stepmode": "backward"
                      },
                      {
                        "count": 3,
                        "label": "3y",
                        "step": "year",
                        "stepmode": "backward"
                      },
                      {
                        "count": 5,
                        "label": "5y",
                        "step": "year",
                        "stepmode": "backward"
                      },
                      {
                        "count": 7,
                        "label": "7y",
                        "step": "year",
                        "stepmode": "backward"
                      },
                      {
                        "count": 10,
                        "label": "10y",
                        "step": "year",
                        "stepmode": "backward"
                      },
                      {
                        "step": "all"
                      }
                    ]
                  },
                  "rangeslider": {
                    "visible": true
                  },
                  "title": {
                    "text": "Date"
                  }
                },
                "yaxis": {
                  "anchor": "x",
                  "domain": [
                    0,
                    1
                  ],
                  "title": {
                    "text": "Tháng này so với cùng kỳ năm trước"
                  }
                }
              }
            }
          },
          "metadata": {},
          "output_type": "display_data"
        }
      ],
      "source": [
        "import pandas as pd\n",
        "import plotly.express as px\n",
        "import plotly.graph_objects as go\n",
        "\n",
        "df_show = dfs_iip[\n",
        "    (\n",
        "        (dfs_iip[\"Ngành\"] == \"Sản xuất kim loại\")\n",
        "        | (\n",
        "            dfs_iip[\"Ngành\"]\n",
        "            == \"Sản xuất sản phẩm từ kim loại đúc sẵn (trừ máy móc, thiết bị)\"\n",
        "        )\n",
        "        | (dfs_iip[\"Ngành\"] == \"Dệt\")\n",
        "        # | (dfs_iip[\"Ngành\"] == \"Sản xuất trang phục\")\n",
        "        | (\n",
        "            dfs_iip[\"Ngành\"]\n",
        "            == \"Sản xuất sản phẩm điện tử, máy vi tính và sản phẩm quang học\"\n",
        "        )\n",
        "        | (dfs_iip[\"Ngành\"] == \"Sản xuất thiết bị điện\")\n",
        "        # | (dfs_iip[\"Ngành\"] == \"Khai thác dầu thô và khí đốt tự nhiên\")\n",
        "        | (dfs_iip[\"Ngành\"] == \"Sản xuất sản phẩm từ cao su và plastic\")\n",
        "        | (dfs_iip[\"Ngành\"] == \"Sản xuất hoá chất và sản phẩm hoá chất\")\n",
        "    )\n",
        "    & (dfs_iip[\"Date\"] > \"2022-01-01\")\n",
        "]\n",
        "\n",
        "fig = px.area(df_show, x=\"Date\", y=\"Tháng này so với cùng kỳ năm trước\", color=\"Ngành\")\n",
        "\n",
        "fig.update_xaxes(\n",
        "    rangeslider_visible=True,\n",
        "    rangeselector=dict(\n",
        "        buttons=[\n",
        "            dict(count=1, label=\"YTD\", step=\"year\", stepmode=\"todate\"),\n",
        "            dict(count=1, label=\"1y\", step=\"year\", stepmode=\"backward\"),\n",
        "            dict(count=3, label=\"3y\", step=\"year\", stepmode=\"backward\"),\n",
        "            dict(count=5, label=\"5y\", step=\"year\", stepmode=\"backward\"),\n",
        "            dict(count=7, label=\"7y\", step=\"year\", stepmode=\"backward\"),\n",
        "            dict(count=10, label=\"10y\", step=\"year\", stepmode=\"backward\"),\n",
        "            dict(step=\"all\"),\n",
        "        ]\n",
        "    ),\n",
        ")\n",
        "\n",
        "fig.show()"
      ]
    },
    {
      "cell_type": "code",
      "execution_count": null,
      "metadata": {},
      "outputs": [],
      "source": []
    }
  ],
  "metadata": {
    "kernelspec": {
      "display_name": "vn-macroeconomics",
      "language": "python",
      "name": "python3"
    },
    "language_info": {
      "codemirror_mode": {
        "name": "ipython",
        "version": 3
      },
      "file_extension": ".py",
      "mimetype": "text/x-python",
      "name": "python",
      "nbconvert_exporter": "python",
      "pygments_lexer": "ipython3",
      "version": "3.9.16"
    },
    "orig_nbformat": 4
  },
  "nbformat": 4,
  "nbformat_minor": 2
}
